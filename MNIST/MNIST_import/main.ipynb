{
  "cells": [
    {
      "cell_type": "code",
      "execution_count": 139,
      "outputs": [],
      "source": "import torch\nimport torchvision\nimport torchvision.transforms as transforms\nimport numpy as np\nimport matplotlib.pyplot as plt\nimport pandas as pd\nfrom sklearn import datasets\n",
      "metadata": {
        "pycharm": {
          "metadata": false,
          "name": "#%%\n",
          "is_executing": false
        }
      }
    },
    {
      "cell_type": "code",
      "execution_count": 17,
      "outputs": [],
      "source": "from torch.utils.data import DataLoader\nfrom torchvision.datasets import MNIST",
      "metadata": {
        "pycharm": {
          "metadata": false,
          "name": "#%%\n",
          "is_executing": false
        }
      }
    },
    {
      "cell_type": "code",
      "execution_count": 141,
      "outputs": [],
      "source": "\nmnist_data \u003d MNIST(\u0027../data\u0027, train\u003dTrue, download\u003dTrue, transform\u003dtransforms.ToTensor())",
      "metadata": {
        "pycharm": {
          "metadata": false,
          "name": "#%%\n",
          "is_executing": false
        }
      }
    },
    {
      "cell_type": "code",
      "execution_count": 142,
      "outputs": [],
      "source": "data_loader \u003d DataLoader(mnist_data,\n                         batch_size\u003d25,\n                         shuffle\u003dFalse)",
      "metadata": {
        "pycharm": {
          "metadata": false,
          "name": "#%%\n",
          "is_executing": false
        }
      }
    },
    {
      "cell_type": "code",
      "execution_count": 143,
      "outputs": [],
      "source": "\ndata_iter \u003d iter(data_loader)\nimages, labels \u003d data_iter.next()",
      "metadata": {
        "pycharm": {
          "metadata": false,
          "name": "#%%\n",
          "is_executing": false
        }
      }
    },
    {
      "cell_type": "code",
      "execution_count": 145,
      "outputs": [
        {
          "name": "stdout",
          "text": [
            "(28, 28)\nLabel: tensor(1)\n"
          ],
          "output_type": "stream"
        },
        {
          "data": {
            "text/plain": "\u003cFigure size 432x288 with 1 Axes\u003e",
            "image/png": "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\u003d\n"
          },
          "metadata": {
            "needs_background": "light"
          },
          "output_type": "display_data"
        }
      ],
      "source": "\n# matplotlibで1つ目のデータを可視化してみる\nnpimg \u003d images[24].numpy()\nnpimg \u003d npimg.reshape((28, 28))\nprint(npimg.shape)\nplt.imshow(npimg, cmap\u003d\u0027gray\u0027)\nprint(\u0027Label:\u0027, labels[24])",
      "metadata": {
        "pycharm": {
          "metadata": false,
          "name": "#%%\n",
          "is_executing": false
        }
      }
    },
    {
      "cell_type": "code",
      "execution_count": 146,
      "outputs": [],
      "source": "gridimg\u003dtorchvision.utils.make_grid(images, nrow\u003d5, padding\u003d0)\n",
      "metadata": {
        "pycharm": {
          "metadata": false,
          "name": "#%%\n",
          "is_executing": false
        }
      }
    },
    {
      "cell_type": "code",
      "execution_count": 89,
      "outputs": [
        {
          "name": "stdout",
          "text": [
            "torch.Size([3, 140, 140])\n"
          ],
          "output_type": "stream"
        }
      ],
      "source": "print(gridimg.shape)",
      "metadata": {
        "pycharm": {
          "metadata": false,
          "name": "#%%\n",
          "is_executing": false
        }
      }
    },
    {
      "cell_type": "code",
      "execution_count": 147,
      "outputs": [
        {
          "name": "stdout",
          "text": [
            "(3, 140, 140)\n"
          ],
          "output_type": "stream"
        }
      ],
      "source": "gridimg\u003dgridimg.numpy()\nprint(gridimg.shape)",
      "metadata": {
        "pycharm": {
          "metadata": false,
          "name": "#%%\n",
          "is_executing": false
        }
      }
    },
    {
      "cell_type": "code",
      "execution_count": 148,
      "outputs": [
        {
          "data": {
            "text/plain": "\u003cmatplotlib.image.AxesImage at 0x7f3953c2e908\u003e"
          },
          "metadata": {},
          "output_type": "execute_result",
          "execution_count": 148
        },
        {
          "data": {
            "text/plain": "\u003cFigure size 432x288 with 1 Axes\u003e",
            "image/png": "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\u003d\u003d\n"
          },
          "metadata": {
            "needs_background": "light"
          },
          "output_type": "display_data"
        }
      ],
      "source": "plt.imshow(np.transpose(gridimg, (1, 2, 0)))\n",
      "metadata": {
        "pycharm": {
          "metadata": false,
          "name": "#%%\n",
          "is_executing": false
        }
      }
    },
    {
      "cell_type": "code",
      "execution_count": 149,
      "outputs": [],
      "source": "# 訓練データとテストデータを用意\ntrain_data \u003d MNIST(\u0027../data\u0027, train\u003dTrue, download\u003dTrue, transform\u003dtransforms.ToTensor())\ntrain_loader \u003d DataLoader(mnist_data,\n                         batch_size\u003d4,\n                         shuffle\u003dTrue)\ntest_data \u003d MNIST(\u0027../data\u0027, train\u003dFalse, download\u003dTrue, transform\u003dtransforms.ToTensor())\ntest_loader \u003d DataLoader(test_data,\n                         batch_size\u003d4,\n                         shuffle\u003dFalse)",
      "metadata": {
        "pycharm": {
          "metadata": false,
          "name": "#%%\n",
          "is_executing": false
        }
      }
    },
    {
      "cell_type": "code",
      "execution_count": 150,
      "outputs": [],
      "source": "from torch.autograd import Variable\nimport torch.nn as nn\nimport torch.nn.functional as F\n\nclass Net(nn.Module):\n    def __init__(self):\n        super().__init__()\n        self.l1 \u003d nn.Linear(28 * 28, 10) # 入力層から隠れ層へ\n        self.l2 \u003d nn.Linear(50, 10) # 隠れ層から出力層へ\n        \n    def forward(self, x):\n        x \u003d x.view(-1, 28 * 28) # テンソルのリサイズ: (N, 1, 28, 28) --\u003e (N, 784)\n        x \u003d self.l1(x)\n        return x\n    \nnet \u003d Net()",
      "metadata": {
        "pycharm": {
          "metadata": false,
          "name": "#%%\n",
          "is_executing": false
        }
      }
    },
    {
      "cell_type": "code",
      "execution_count": 151,
      "outputs": [],
      "source": "\n# コスト関数と最適化手法を定義\nimport torch.optim as optim\n\ncriterion \u003d nn.CrossEntropyLoss()\noptimizer \u003d optim.SGD(net.parameters(), lr\u003d0.01)",
      "metadata": {
        "pycharm": {
          "metadata": false,
          "name": "#%%\n",
          "is_executing": false
        }
      }
    },
    {
      "cell_type": "code",
      "execution_count": 152,
      "outputs": [
        {
          "name": "stdout",
          "text": [
            "1 5000 loss: 2.859\n",
            "1 10000 loss: 1.899\n",
            "1 15000 loss: 1.713\n",
            "2 5000 loss: 1.648\n",
            "2 10000 loss: 1.581\n",
            "2 15000 loss: 1.570\n",
            "3 5000 loss: 1.509\n",
            "3 10000 loss: 1.512\n",
            "3 15000 loss: 1.502\n",
            "4 5000 loss: 1.470\n",
            "4 10000 loss: 1.418\n",
            "4 15000 loss: 1.486\n",
            "5 5000 loss: 1.444\n",
            "5 10000 loss: 1.408\n",
            "5 15000 loss: 1.421\n",
            "6 5000 loss: 1.379\n",
            "6 10000 loss: 1.396\n",
            "6 15000 loss: 1.431\n",
            "7 5000 loss: 1.338\n",
            "7 10000 loss: 1.379\n",
            "7 15000 loss: 1.431\n",
            "8 5000 loss: 1.386\n",
            "8 10000 loss: 1.320\n",
            "8 15000 loss: 1.394\n",
            "9 5000 loss: 1.349\n",
            "9 10000 loss: 1.345\n",
            "9 15000 loss: 1.374\n",
            "10 5000 loss: 1.361\n",
            "10 10000 loss: 1.383\n",
            "10 15000 loss: 1.297\nFinished Training\n"
          ],
          "output_type": "stream"
        }
      ],
      "source": "\nfor epoch in range(10):\n    running_loss \u003d 0.0\n    for i, data in enumerate(train_loader):\n        inputs, labels \u003d data\n        \n        # Variableに変換\n        inputs, labels \u003d Variable(inputs), Variable(labels)\n        \n        # 勾配情報をリセット\n        optimizer.zero_grad()\n        \n        # 順伝播\n        outputs \u003d net(inputs)\n        \n        # コスト関数を使ってロスを計算する\n        loss \u003d criterion(outputs, labels)\n        \n        # 逆伝播\n        loss.backward()\n        \n        # パラメータの更新\n        optimizer.step()\n        \n        running_loss +\u003d loss.data\n        \n        if i % 5000 \u003d\u003d 4999:\n            print(\u0027%d %d loss: %.3f\u0027 % (epoch + 1, i + 1, running_loss / 1000))\n            running_loss \u003d 0.0\n            \nprint(\u0027Finished Training\u0027)",
      "metadata": {
        "pycharm": {
          "metadata": false,
          "name": "#%%\n",
          "is_executing": false
        }
      }
    },
    {
      "cell_type": "code",
      "execution_count": 153,
      "outputs": [
        {
          "name": "stdout",
          "text": [
            "Accuracy 9236 / 10000 \u003d 0.923600\n"
          ],
          "output_type": "stream"
        }
      ],
      "source": "correct \u003d 0\ntotal \u003d 0\nfor data in test_loader:\n    inputs, labels \u003d data\n    outputs \u003d net(Variable(inputs))\n    _, predicted \u003d torch.max(outputs.data, 1)\n    total +\u003d labels.size(0)\n    correct +\u003d (predicted \u003d\u003d labels).sum()\n    \nprint(\u0027Accuracy %d / %d \u003d %f\u0027 % (correct, total, float(correct) / float(total)))",
      "metadata": {
        "pycharm": {
          "metadata": false,
          "name": "#%%\n",
          "is_executing": false
        }
      }
    },
    {
      "cell_type": "code",
      "execution_count": 127,
      "outputs": [
        {
          "data": {
            "text/plain": "\u003cmatplotlib.image.AxesImage at 0x7f397bf59a20\u003e"
          },
          "metadata": {},
          "output_type": "execute_result",
          "execution_count": 127
        },
        {
          "data": {
            "text/plain": "\u003cFigure size 432x288 with 6 Axes\u003e",
            "image/png": "iVBORw0KGgoAAAANSUhEUgAAAXQAAAD7CAYAAAB68m/qAAAABHNCSVQICAgIfAhkiAAAAAlwSFlzAAALEgAACxIB0t1+/AAAADl0RVh0U29mdHdhcmUAbWF0cGxvdGxpYiB2ZXJzaW9uIDMuMC4zLCBodHRwOi8vbWF0cGxvdGxpYi5vcmcvnQurowAAG89JREFUeJzt3X2QFMX5B/DvAwq+IOgpnle+gfFigoivqBiCVAAlaAViyhdK4UyMl9JoJEHjocQfhqio0SpjtAxBcqAUSAUixMQgAkqIhAJ8ifLmAeEEctxBRCFqQYj9++PWpru52R12Z2dme7+fqiue3t6dae5ZmtlnZ6ZFKQUiIip97ZIeABERRYMTOhGRJzihExF5ghM6EZEnOKETEXmCEzoRkSc4oRMReaKgCV1EBovIOhFZLyJ1UQ2KksW8+ou59Zvke2GRiLQH8D6AQQC2AFgOYLhSanV0w6O4Ma/+Ym79d0gBr70QwHql1EYAEJEZAIYCCHxziAgvS00JpZQEdDGvJSxLXoGDzC3zmio7lFJdcz2pkJLLiQA2G+0tmccsIlIrIitEZEUB+6L4MK/+yplb5jW1GsM8qZAj9FCUUhMBTAT4P75PmFc/Ma+lrZAj9K0ATjbaJ2Ueo9LGvPqLufVcIRP6cgDVItJdRDoAuA7A3GiGRQliXv3F3Hou75KLUmqfiNwGYB6A9gAmK6VWRTYySgTz6i/m1n95n7aY185Yk0uNHGdDHBTmNT2YV2+tVEpdkOtJvFKUiMgTnNCJiDzBCZ2IyBOc0ImIPMEJnYjIE5zQiYg8UfRL/4lK0fnnn2+1b7vtNh2PHDnS6ps6daqOn3zySavvzTffLMLoiNrGI3QiIk9wQici8gQndCIiT/DS/4iZv08RyasvG/d1+eIl4rZzzjnHai9cuNBqd+7cOdR2Pv74Y6t97LHHFjawg8S8xmPAgAE6njZtmtV36aWX6njdunVR7ZKX/hMRlRNO6EREnuBpixnFKD1l22acpS5q24UXXqjjWbNmWX1dunSx2ma+du/ebfXt3btXx26JpU+fPjpeuXJl4Ot80q9fP6tt/k7+8Ic/xD2coujdu7eOV6xIz2p9PEInIvIEJ3QiIk9wQici8oTXNfS01amjOuWQwjviiCN0fN5551l9zz//vI6rqqpCb7OhocFqP/LIIzqeMWOG1bdkyRId/+xnP7P6HnzwwdD7LCX9+/e32tXV1Tou1Rp6u3b2sW/37t11fMopp1h9Sf475xE6EZEnOKETEXnC65IL0W9+8xsdDx8+PJJtuqWbTp066fj111+3+szyw1lnnRXJ/tPOvRvl0qVLExpJdNyS3M0336xjs3QHAGvXro1lTG3hEToRkSc4oRMReYITOhGRJ7yuoSd9t8O0nTZZDtyVhq644godZ8udW/t+6aWXrPajjz6q46amJqvvrbfe0vHOnTutvm984xuh9u8T9xQ/H0yaNCmwzz2NNUn+/eaJiMoUJ3QiIk/kLLmIyGQAVwJoUUr1zDxWAeAFAN0AbAJwjVJqZ9A20iLfj7xxvy4OPuXVXJxi/vz5Vp+5MIVbAnv55Zd17J7SaC5SAABjx47Vsfvxe/v27Tp+5513rL7PP/9cx2b5B7BPf4xyMekkcturVy8dV1ZWRrXZ1HDvvmly33NJCnOEXg9gsPNYHYAFSqlqAAsybSot9WBefVUP5rYs5ZzQlVKLAXzoPDwUwJRMPAXAsIjHRUXGvPqLuS1f+Z7lUqmU+uKr/m0AAj9jiUgtgNo890PxYl79FSq3zGtpK/i0RaWUyraYrFJqIoCJQLoXnTXr3W6tNdvpjr5Kc16//OUvW+277rpLx26tc8eOHTp2TzecMmWKjv/zn/9YfX/605+ytvNx+OGHW+3Ro0fr+Prrry94+2Fly22+eR0yZIiO3b9nqTK/CzDvrujaunVrHMMJJd+zXJpFpAoAMn+2RDckShDz6i/mtgzkO6HPBVCTiWsAzIlmOJQw5tVfzG0ZCHPa4nQA/QEcJyJbAPwfgAkAZorITQAaAVxTzEFS9Eotrx07dtTxL3/5S6vP/LjvLuBs3vnPXcw36dKAuzBCVJLI7RlnnBHYt2rVqih3FRvzfeaeivn+++/r2H3PJSnnhK6UCrrn6ICIx0IxYl79xdyWL14pSkTkCU7oRESe8Ppui/nKdifGXHdQLJfTGuNmXiZv1sxdQ4cOtdruXRQpfsuXL096CJp5KwgAGDx4/wW1N9xwg9V32WWXBW5n/PjxOv7oo48iGl3heIROROQJTuhERJ5gySWEbFeRurL1sxyTv8cee0zH7u/RLKukrcRiLvZg3nkRKJ/3Q0VFRV6vO/vss3XsLpoxYMD+E3ZOOukkq69Dhw46dq/Adbfz2Wef6XjZsmVW3549e3R8yCH2VLly5cqsY08Kj9CJiDzBCZ2IyBOc0ImIPMEa+kHKd3FpOjhXXnml1TZXJXJ/53Pnzo1lTPkw6+buuN9+++24h1M0Zi3a/Xs+88wzOr7nnntCb9NcBcn9d7dv3z4df/rpp1bf6tWrdTx58mSrz739g/mdS3Nzs9W3ZcsWHbu3iVi7dm3WsSeFR+hERJ7ghE5E5AlO6EREnmANvUDZziXOtvLRwWynHLk1S/Pc4pYWe22GF154IZYxBTFv7Ttu3LjA5y1cuNBq19X5s07zrbfequPGxkar75JLLslrmx988IGO58yxb99u1sn//ve/57V9V22tvfJe165ddbxx48ZI9lFsPEInIvIEJ3QiIk+w5EIlx7wkGzhw8ediM0ssADB27FgdmwtWA/apb+btC4ADF6b2xcMPP5z0EPJi3k7ANWvWrBhHkj8eoRMReYITOhGRJzihExF5gjX0AvHS//glcam/eesBt05+7bXX6tg9ve473/lOcQdGsXjxxReTHkIoPEInIvIEJ3QiIk+w5BICyyrxc6+cNdvDhg2z+u64447I9/+Tn/zEapunJnbp0sXqmzZtmo5HjhwZ+ViIwuIROhGRJzihExF5IueELiIni8giEVktIqtE5I7M4xUiMl9EGjJ/HlP84VJUmFc/Ma/lLUwNfR+A0UqpN0XkKAArRWQ+gBsBLFBKTRCROgB1AO4u3lCLK446ecruqJjqvGa7U+UJJ5xg9f3qV7/SsbtCzb///W8dX3zxxVbfiBEjdGyuMA8cuJK8eee/efPmWX1PP/30gX+B5KQ6r6XE/PdaXV1t9S1dujTu4YSS8whdKdWklHozE+8GsAbAiQCGApiSedoUAMPa3gKlEfPqJ+a1vB3UWS4i0g3AuQCWAahUSn1xV6RtACoDXlMLoLatPkoH5tVPzGv5CT2hi0gnALMAjFJK7TI/jiillIi0WbNQSk0EMDGzjdSc/1esEkvKyio5lWJe27dvb7XNxRXcKzN37dqlY/djczbuR2pzcYr77rsv9HaSUop5TRtzjmjXrjTOHwk1ShE5FK1vjmlKqdmZh5tFpCrTXwWgJej1lE7Mq5+Y1/IV5iwXAfAsgDVKqceNrrkAajJxDYA57mspvZhXPzGv5S1MyeVrAEYAeFdE3s48dg+ACQBmishNABoBXFOcIVKRMK9+Yl7LWM4JXSm1BEBQYTh4iY+EFPv0w1KrkQdJe17dGvby5ct13Lt378DXuac0Vla2+d0fAPuUxhkzZlh9xbidQBzSntdS1adPH6tdX1+fzEByKI1KPxER5cQJnYjIEyV5t0WWVfxnLq4MAFdddZWOf/CDH1h95p0Qs3niiSes9jPPPKPjhoaGgx0iea4U5wEeoRMReYITOhGRJzihExF5oiRq6FHVzJ3LnwP7KH2ampp0PG7cOKvPbRPl4+WXX7baV199dUIjyR+P0ImIPMEJnYjIExLnAsjlfve2NFFKRVZjYl7Tg3n11kql1AW5nsQjdCIiT3BCJyLyBCd0IiJPcEInIvIEJ3QiIk9wQici8gQndCIiT3BCJyLyBCd0IiJPcEInIvJE3Hdb3IHWFcePy8RpUI5jOTXi7TGv2TGv0SnXsYTKbaz3ctE7FVkR5r4EceBYopOm8XMs0UnT+DmW7FhyISLyBCd0IiJPJDWhT0xov23hWKKTpvFzLNFJ0/g5liwSqaETEVH0WHIhIvIEJ3QiIk/EOqGLyGARWSci60WkLs59Z/Y/WURaROQ947EKEZkvIg2ZP4+JYRwni8giEVktIqtE5I6kxhIF5tUaize5ZV6tsZREXmOb0EWkPYCnAHwTQA8Aw0WkR1z7z6gHMNh5rA7AAqVUNYAFmXax7QMwWinVA8DFAH6Y+V0kMZaCMK8H8CK3zOsBSiOvSqlYfgD0ATDPaI8BMCau/Rv77QbgPaO9DkBVJq4CsC6BMc0BMCgNY2FemVvmtXTzGmfJ5UQAm432lsxjSatUSjVl4m0AKuPcuYh0A3AugGVJjyVPzGuAEs8t8xogzXnll6IG1frfbGzncYpIJwCzAIxSSu1Kciw+S+J3ydwWH/N6oDgn9K0ATjbaJ2UeS1qziFQBQObPljh2KiKHovWNMU0pNTvJsRSIeXV4klvm1VEKeY1zQl8OoFpEuotIBwDXAZgb4/6DzAVQk4lr0FobKyoREQDPAlijlHo8ybFEgHk1eJRb5tVQMnmN+YuEIQDeB7ABwL0JfJExHUATgP+itSZ4E4Bj0frtdAOAVwFUxDCOvmj9aPYPAG9nfoYkMRbmlbllXv3JKy/9JyLyBL8UJSLyBCd0IiJPFDShJ31pMBUH8+ov5tZzBXxJ0B6tX5acBqADgHcA9MjxGsWfdPwwr37+RPlvNum/C3+sn+1h5uVCjtAvBLBeKbVRKbUXwAwAQwvYHqUD8+ov5rZ0NYZ5UiETeqhLg0WkVkRWiMiKAvZF8WFe/ZUzt8xraTuk2DtQSk1EZqkmEVHF3h/Fg3n1E/Na2go5Qk/rpcFUGObVX8yt5wqZ0NN6aTAVhnn1F3PrubxLLkqpfSJyG4B5aP32fLJSalVkI6NEMK/+Ym79F+ul/6zJpYdSSqLaFvOaHsyrt1YqpS7I9SReKUpE5AlO6EREnuCETkTkCU7oRESe4IROROQJTuhERJ7ghE5E5AlO6EREnuCETkTkCU7oRESeKPrtc2m/sWPH6vj++++3+tq12/9/a//+/a2+119/vajjIioXRx11lNXu1KmTjq+44gqr7/jjj9fxY489ZvXt2bOnCKMrHI/QiYg8wQmdiMgTLLkU0Y033mi16+r2L7L++eefB74uzjtgEvmme/fuOv7pT39q9fXp08dq9+zZM9Q2TzjhBKv9ox/9KM/RFReP0ImIPMEJnYjIE5zQiYg8wRp6EZ166qlWu2PHjgmNhADgoosustojRozQcb9+/ay+M888M3A7d955p9X+17/+peOvf/3rVt9zzz2n42XLloUfLGX1la98RcejRo2y+m644QYdH3bYYVafiL2g0+bNm3W8e/duq++rX/2qjq+55hqr7+mnn9bx2rVrww676HiETkTkCU7oRESeYMklYgMHDtTx7bffHvg892PalVdeqePm5uboB1amrr32Wh0/8cQTVt9xxx2nY/ej+GuvvWa1u3btquNHH300cH/udsx9XHfddbkHTFqXLl10/PDDD1t9Zl7dqz+zaWhosNqXX365jjt06GD1rVmzRsdmHttqpwWP0ImIPMEJnYjIE5zQiYg8wRp6gfr27Wu16+vrdWzWAF1uHbaxsTHScZWTQw7Z/zbu3bu31ffb3/5Wx0cccYTVt3jxYh2PHz/e6luyZInVNk85nTlzptV32WWXBY5txYoVgX2U3be//W0df//7389rGxs2bLDagwYNstrmaYvV1dV57SNNeIROROSJnBO6iEwWkRYRec94rEJE5otIQ+bPY4o7TIoa8+ov5rZ8hSm51AP4NYCpxmN1ABYopSaISF2mfXf0w0u/mpoaq11VVRX4XPNUuKlTpwY+Lyb18CSv5pWBkyZNCnze/PnzrbZ56tuuXbuy7sN8brYSy5YtW6z2lClTsm63SOrhQW6vvvrqUM/btGmT1V6+fLmO777b/iuaJRaXefVpqcp5hK6UWgzgQ+fhoQC+eKdOATAs4nFRkTGv/mJuy1e+X4pWKqWaMvE2AJVBTxSRWgC1ee6H4sW8+itUbpnX0lbwWS5KKSUigSsyKKUmApgIANmeR+nCvPorW26Z19KW74TeLCJVSqkmEakC0BLloNLMveT3e9/7ntU2VyL66KOPrL4HHnigeAOLRknk9Re/+IXVHjNmjI7d1Z7Mu+KZi3QDuevmpnvvvTfU89yVbLZv3x56H0VWErk13XzzzTqurbU/NLzyyis6Xr9+vdXX0pLfX62yMvADacnI97TFuQC++DawBsCcaIZDCWNe/cXcloEwpy1OB7AUwBkiskVEbgIwAcAgEWkAMDDTphLCvPqLuS1fOUsuSqnhAV0DIh5LanXr1k3Hs2bNCv26J5980movXLgwqiEVrNTyet999+nYLLEAwN69e3U8b948q888be2zzz4L3L67EIJ7auIpp5yiY/eOimYJaM6c5A98Sy23QcyFQ8aNG1f0/bkLSJciXilKROQJTuhERJ7ghE5E5AnebTGEwYMH67hXr15Zn7tgwQIduyvkUHhHH3201b711lt17J6aaNbNhw0LfwHk6aefruNp06ZZfeeff37g637/+99b7UceeST0Pqn4zFNHjzzySKvP/f7DfC+dddZZgdt84403rPbSpUsLGWLR8AidiMgTnNCJiDzBkksb3I/tEyYEn7LrLoRg3n3x448/jnZgZcRdsDfborzmR+zjjz/e6vvud7+r429961tWX8+ePXXcqVMnq88t65jt559/3ur75JNPAsdG0XAXJznzzDN1bJ7SCgBDhgwJ3E67dvYxrHllt6upqUnH5vsIAP73v/8FDzZBPEInIvIEJ3QiIk9wQici8gRr6Bn5Xt6/ceNGq93c3BzVkMqaeTk/YN+1sGvXrlbfP//5Tx27te9szEvL3TsvuitP7dixQ8d//OMfQ++Dwjv00EOt9rnnnqtj99+kmR/3lg5m7ds93dA8BRk4sDZvat++vY6vuuoqq888Jdl9ryaJR+hERJ7ghE5E5AlO6EREnmANPcO8zWq2c1Nd2c5Rp/y5qz2Z1wa89NJLVl9FRYWON2zYYPWZt7Otr6+3+j78cP86yjNmzLD63Bq620/RMK83cOvbs2fPDnzd/fffr2P3ttR/+9vfdGy+N9p6rnktgsv8ruahhx6y+j744AMdv/jii1bfnj17ArdZbDxCJyLyBCd0IiJPlG3J5ZxzzrHa7go1QdwVadatWxfZmCjYsmXLdOyetpivfv366fjSSy+1+tyym3t6KuXHPTXRLJ3cddddga/7y1/+YrXN1cDc8pz5/vjzn/9s9bl3VDRPOXTvmmmWY4YOHWr1mXfnfPXVV60+czs7d+5EkLfeeiuwL188Qici8gQndCIiT3BCJyLyRNnW0F955RWrfcwxxwQ+16zf3njjjcUaEsXs8MMP17FbM3dvIcDTFvNnXkI/fvx4q+/OO+/UsXsb4jFjxuh4+vTpVp9ZN+/du7fVZ9bXzdsHAEBDQ4PVvuWWW3S8aNEiq69z5846vuSSS6y+66+/XsfubZnducW0efNmHXfv3j3wefniEToRkSc4oRMReUIO5u50Be9MJL6d5eCuOJLt6tCRI0fq2P3oV6qUUpL7WeGkKa/5ct8P7r8L88pR886PaZPGvJplDbMcAgCffvqpjmtra60+s3Rx0UUXWX3mCkLuCkWHHXaYjn/+859bfb/73e+stlkCydfw4cOttlmOcf34xz/WsVv+yWGlUuqCXE/iEToRkSdyTugicrKILBKR1SKySkTuyDxeISLzRaQh82fwt4qUOsyrn5jX8hbmCH0fgNFKqR4ALgbwQxHpAaAOwAKlVDWABZk2lQ7m1U/Maxk76Bq6iMwB8OvMT3+lVJOIVAF4TSl1Ro7XJlprNetn7umH2Wrop512mo4bGxsjH1cS3FprKec1X5dffrmO3UvEfamhpyGv5gpC7m0bzDsTrl271uo78sgjdXz66aeH3t+4ceN07N4l0f2upISEqqEf1HnoItINwLkAlgGoVEp9kaltACoDXlMLoLatPkoH5tVPzGv5Cf2lqIh0AjALwCillLUAo2o9nGnzf3Ol1ESl1AVh/neh+DGvfmJey1OoI3QRORStb45pSqkv7jrfLCJVxke4lmINMl/uHRUHDRqkY7fEYt517amnnrL6fF34uVTzGpUvfelLSQ+hKNKW123btunYLbl07NhRx2effXbgNtyS2OLFi3XsLjCxadMmHZdwiSUvYc5yEQDPAlijlHrc6JoLoCYT1wCY476W0ot59RPzWt7CHKF/DcAIAO+KyNuZx+4BMAHATBG5CUAjgGuKM0QqEubVT8xrGcs5oSullgAIuvpsQLTDobgwr35iXsub13dbPProo612ZWWbX+wDALZu3apj8w5w5K+//vWvOm7Xzq4+HsxC4ZSduTKUudg3AJx33nk6bmmxy/qTJ0/Wsbvyj/mdF+3HS/+JiDzBCZ2IyBNel1yIsnn33Xd17N75zrw6GLBPcUzzlaJptHv3bh0/99xzVp/bpsLwCJ2IyBOc0ImIPMEJnYjIE17X0N27t73xxhs67tu3b9zDoRR78MEHrfakSZOs9gMPPKDj22+/3epbvXp18QZGdBB4hE5E5AlO6EREnijbRaLLXRoXE05S586drfbMmTOt9sCBA3U8e/Zsq89csPiTTz4pwujCY169xUWiiYjKCSd0IiJPcEInIvIEa+hlirXW7Nyaunna4i233GL19erVS8dJn8LIvHqLNXQionLCCZ2IyBMsuZQpfjT3E/PqLZZciIjKCSd0IiJPcEInIvJE3Hdb3AGgEcBxmTgNynEsp0a8PeY1O+Y1OuU6llC5jfVLUb1TkRVhCvxx4Fiik6bxcyzRSdP4OZbsWHIhIvIEJ3QiIk8kNaFPTGi/beFYopOm8XMs0UnT+DmWLBKpoRMRUfRYciEi8gQndCIiT8Q6oYvIYBFZJyLrRaQuzn1n9j9ZRFpE5D3jsQoRmS8iDZk/j4lhHCeLyCIRWS0iq0TkjqTGEgXm1RqLN7llXq2xlEReY5vQRaQ9gKcAfBNADwDDRaRHXPvPqAcw2HmsDsACpVQ1gAWZdrHtAzBaKdUDwMUAfpj5XSQxloIwrwfwIrfM6wFKI69KqVh+APQBMM9ojwEwJq79G/vtBuA9o70OQFUmrgKwLoExzQEwKA1jYV6ZW+a1dPMaZ8nlRACbjfaWzGNJq1RKNWXibQAq49y5iHQDcC6AZUmPJU/Ma4ASzy3zGiDNeeWXogbV+t9sbOdxikgnALMAjFJK7UpyLD5L4nfJ3BYf83qgOCf0rQBONtonZR5LWrOIVAFA5s+WOHYqIoei9Y0xTSk1O8mxFIh5dXiSW+bVUQp5jXNCXw6gWkS6i0gHANcBmBvj/oPMBVCTiWvQWhsrKhERAM8CWKOUejzJsUSAeTV4lFvm1VAyeY35i4QhAN4HsAHAvQl8kTEdQBOA/6K1JngTgGPR+u10A4BXAVTEMI6+aP1o9g8Ab2d+hiQxFuaVuWVe/ckrL/0nIvIEvxQlIvIEJ3QiIk9wQici8gQndCIiT3BCJyLyBCd0IiJPcEInIvLE/wMgukB6htnqtQAAAABJRU5ErkJggg\u003d\u003d\n"
          },
          "metadata": {
            "needs_background": "light"
          },
          "output_type": "display_data"
        }
      ],
      "source": "import torchvision.datasets as dset\nmst_data\u003ddset.MNIST(root\u003d\u0027../data\u0027,download\u003dTrue)\n\nplt.subplot(231)\nplt.imshow(mst_data[0][0].convert(\u00271\u0027).convert(\u0027RGB\u0027))\nplt.subplot(232)\nplt.imshow(mst_data[1][0].convert(\u0027RGB\u0027))\nplt.subplot(233)\nplt.imshow(mst_data[2][0].convert(\u0027RGB\u0027))\nplt.subplot(234)\nplt.imshow(mst_data[3][0].convert(\u0027RGB\u0027))\nplt.subplot(235)\nplt.imshow(mst_data[4][0].convert(\u0027RGB\u0027))\nplt.subplot(236)\nplt.imshow(mst_data[5][0].convert(\u0027RGB\u0027))",
      "metadata": {
        "pycharm": {
          "metadata": false,
          "name": "#%%\n",
          "is_executing": false
        }
      }
    },
    {
      "cell_type": "code",
      "execution_count": 116,
      "outputs": [
        {
          "name": "stdout",
          "text": [
            "(28, 28)\n"
          ],
          "output_type": "stream"
        }
      ],
      "source": "print(mst_data[0][0].convert(\u0027RGB\u0027).size)",
      "metadata": {
        "pycharm": {
          "metadata": false,
          "name": "#%%\n",
          "is_executing": false
        }
      }
    },
    {
      "cell_type": "code",
      "execution_count": 140,
      "outputs": [
        {
          "name": "stdout",
          "text": [
            "\u003cPIL.Image.Image image mode\u003dL size\u003d28x28 at 0x7F3975E2C5C0\u003e\n"
          ],
          "output_type": "stream"
        }
      ],
      "source": "\nprint(mst_data[0][0])",
      "metadata": {
        "pycharm": {
          "metadata": false,
          "name": "#%%\n",
          "is_executing": false
        }
      }
    },
    {
      "cell_type": "code",
      "execution_count": 134,
      "outputs": [
        {
          "traceback": [
            "\u001b[0;31m---------------------------------------------------------------------------\u001b[0m",
            "\u001b[0;31mTypeError\u001b[0m                                 Traceback (most recent call last)",
            "\u001b[0;32m~/PycharmProjects/auto_encoder/venv/lib/python3.6/site-packages/pandas/core/frame.py\u001b[0m in \u001b[0;36m__init__\u001b[0;34m(self, data, index, columns, dtype, copy)\u001b[0m\n\u001b[1;32m    455\u001b[0m             \u001b[0;32mtry\u001b[0m\u001b[0;34m:\u001b[0m\u001b[0;34m\u001b[0m\u001b[0;34m\u001b[0m\u001b[0m\n\u001b[0;32m--\u003e 456\u001b[0;31m                 \u001b[0marr\u001b[0m \u001b[0;34m\u003d\u001b[0m \u001b[0mnp\u001b[0m\u001b[0;34m.\u001b[0m\u001b[0marray\u001b[0m\u001b[0;34m(\u001b[0m\u001b[0mdata\u001b[0m\u001b[0;34m,\u001b[0m \u001b[0mdtype\u001b[0m\u001b[0;34m\u003d\u001b[0m\u001b[0mdtype\u001b[0m\u001b[0;34m,\u001b[0m \u001b[0mcopy\u001b[0m\u001b[0;34m\u003d\u001b[0m\u001b[0mcopy\u001b[0m\u001b[0;34m)\u001b[0m\u001b[0;34m\u001b[0m\u001b[0;34m\u001b[0m\u001b[0m\n\u001b[0m\u001b[1;32m    457\u001b[0m             \u001b[0;32mexcept\u001b[0m \u001b[0;34m(\u001b[0m\u001b[0mValueError\u001b[0m\u001b[0;34m,\u001b[0m \u001b[0mTypeError\u001b[0m\u001b[0;34m)\u001b[0m \u001b[0;32mas\u001b[0m \u001b[0me\u001b[0m\u001b[0;34m:\u001b[0m\u001b[0;34m\u001b[0m\u001b[0;34m\u001b[0m\u001b[0m\n",
            "\u001b[0;31mTypeError\u001b[0m: int() argument must be a string, a bytes-like object or a number, not \u0027Image\u0027",
            "\nDuring handling of the above exception, another exception occurred:\n",
            "\u001b[0;31mTypeError\u001b[0m                                 Traceback (most recent call last)",
            "\u001b[0;32m\u003cipython-input-134-93fb5ba08635\u003e\u001b[0m in \u001b[0;36m\u003cmodule\u003e\u001b[0;34m\u001b[0m\n\u001b[0;32m----\u003e 1\u001b[0;31m \u001b[0mpd\u001b[0m\u001b[0;34m.\u001b[0m\u001b[0mDataFrame\u001b[0m\u001b[0;34m(\u001b[0m\u001b[0mmst_data\u001b[0m\u001b[0;34m)\u001b[0m\u001b[0;34m\u001b[0m\u001b[0;34m\u001b[0m\u001b[0m\n\u001b[0m",
            "\u001b[0;32m~/PycharmProjects/auto_encoder/venv/lib/python3.6/site-packages/pandas/core/frame.py\u001b[0m in \u001b[0;36m__init__\u001b[0;34m(self, data, index, columns, dtype, copy)\u001b[0m\n\u001b[1;32m    458\u001b[0m                 exc \u003d TypeError(\u0027DataFrame constructor called with \u0027\n\u001b[1;32m    459\u001b[0m                                 \u0027incompatible data and dtype: {e}\u0027.format(e\u003de))\n\u001b[0;32m--\u003e 460\u001b[0;31m                 \u001b[0mraise_with_traceback\u001b[0m\u001b[0;34m(\u001b[0m\u001b[0mexc\u001b[0m\u001b[0;34m)\u001b[0m\u001b[0;34m\u001b[0m\u001b[0;34m\u001b[0m\u001b[0m\n\u001b[0m\u001b[1;32m    461\u001b[0m \u001b[0;34m\u001b[0m\u001b[0m\n\u001b[1;32m    462\u001b[0m             \u001b[0;32mif\u001b[0m \u001b[0marr\u001b[0m\u001b[0;34m.\u001b[0m\u001b[0mndim\u001b[0m \u001b[0;34m\u003d\u003d\u001b[0m \u001b[0;36m0\u001b[0m \u001b[0;32mand\u001b[0m \u001b[0mindex\u001b[0m \u001b[0;32mis\u001b[0m \u001b[0;32mnot\u001b[0m \u001b[0;32mNone\u001b[0m \u001b[0;32mand\u001b[0m \u001b[0mcolumns\u001b[0m \u001b[0;32mis\u001b[0m \u001b[0;32mnot\u001b[0m \u001b[0;32mNone\u001b[0m\u001b[0;34m:\u001b[0m\u001b[0;34m\u001b[0m\u001b[0;34m\u001b[0m\u001b[0m\n",
            "\u001b[0;32m~/PycharmProjects/auto_encoder/venv/lib/python3.6/site-packages/pandas/compat/__init__.py\u001b[0m in \u001b[0;36mraise_with_traceback\u001b[0;34m(exc, traceback)\u001b[0m\n\u001b[1;32m    418\u001b[0m         \u001b[0;32mif\u001b[0m \u001b[0mtraceback\u001b[0m \u001b[0;34m\u003d\u003d\u001b[0m \u001b[0mEllipsis\u001b[0m\u001b[0;34m:\u001b[0m\u001b[0;34m\u001b[0m\u001b[0;34m\u001b[0m\u001b[0m\n\u001b[1;32m    419\u001b[0m             \u001b[0m_\u001b[0m\u001b[0;34m,\u001b[0m \u001b[0m_\u001b[0m\u001b[0;34m,\u001b[0m \u001b[0mtraceback\u001b[0m \u001b[0;34m\u003d\u001b[0m \u001b[0msys\u001b[0m\u001b[0;34m.\u001b[0m\u001b[0mexc_info\u001b[0m\u001b[0;34m(\u001b[0m\u001b[0;34m)\u001b[0m\u001b[0;34m\u001b[0m\u001b[0;34m\u001b[0m\u001b[0m\n\u001b[0;32m--\u003e 420\u001b[0;31m         \u001b[0;32mraise\u001b[0m \u001b[0mexc\u001b[0m\u001b[0;34m.\u001b[0m\u001b[0mwith_traceback\u001b[0m\u001b[0;34m(\u001b[0m\u001b[0mtraceback\u001b[0m\u001b[0;34m)\u001b[0m\u001b[0;34m\u001b[0m\u001b[0;34m\u001b[0m\u001b[0m\n\u001b[0m\u001b[1;32m    421\u001b[0m \u001b[0;32melse\u001b[0m\u001b[0;34m:\u001b[0m\u001b[0;34m\u001b[0m\u001b[0;34m\u001b[0m\u001b[0m\n\u001b[1;32m    422\u001b[0m     \u001b[0;31m# this version of raise is a syntax error in Python 3\u001b[0m\u001b[0;34m\u001b[0m\u001b[0;34m\u001b[0m\u001b[0;34m\u001b[0m\u001b[0m\n",
            "\u001b[0;32m~/PycharmProjects/auto_encoder/venv/lib/python3.6/site-packages/pandas/core/frame.py\u001b[0m in \u001b[0;36m__init__\u001b[0;34m(self, data, index, columns, dtype, copy)\u001b[0m\n\u001b[1;32m    454\u001b[0m         \u001b[0;32melse\u001b[0m\u001b[0;34m:\u001b[0m\u001b[0;34m\u001b[0m\u001b[0;34m\u001b[0m\u001b[0m\n\u001b[1;32m    455\u001b[0m             \u001b[0;32mtry\u001b[0m\u001b[0;34m:\u001b[0m\u001b[0;34m\u001b[0m\u001b[0;34m\u001b[0m\u001b[0m\n\u001b[0;32m--\u003e 456\u001b[0;31m                 \u001b[0marr\u001b[0m \u001b[0;34m\u003d\u001b[0m \u001b[0mnp\u001b[0m\u001b[0;34m.\u001b[0m\u001b[0marray\u001b[0m\u001b[0;34m(\u001b[0m\u001b[0mdata\u001b[0m\u001b[0;34m,\u001b[0m \u001b[0mdtype\u001b[0m\u001b[0;34m\u003d\u001b[0m\u001b[0mdtype\u001b[0m\u001b[0;34m,\u001b[0m \u001b[0mcopy\u001b[0m\u001b[0;34m\u003d\u001b[0m\u001b[0mcopy\u001b[0m\u001b[0;34m)\u001b[0m\u001b[0;34m\u001b[0m\u001b[0;34m\u001b[0m\u001b[0m\n\u001b[0m\u001b[1;32m    457\u001b[0m             \u001b[0;32mexcept\u001b[0m \u001b[0;34m(\u001b[0m\u001b[0mValueError\u001b[0m\u001b[0;34m,\u001b[0m \u001b[0mTypeError\u001b[0m\u001b[0;34m)\u001b[0m \u001b[0;32mas\u001b[0m \u001b[0me\u001b[0m\u001b[0;34m:\u001b[0m\u001b[0;34m\u001b[0m\u001b[0;34m\u001b[0m\u001b[0m\n\u001b[1;32m    458\u001b[0m                 exc \u003d TypeError(\u0027DataFrame constructor called with \u0027\n",
            "\u001b[0;31mTypeError\u001b[0m: DataFrame constructor called with incompatible data and dtype: int() argument must be a string, a bytes-like object or a number, not \u0027Image\u0027"
          ],
          "ename": "TypeError",
          "evalue": "DataFrame constructor called with incompatible data and dtype: int() argument must be a string, a bytes-like object or a number, not \u0027Image\u0027",
          "output_type": "error"
        }
      ],
      "source": "pd.DataFrame(mst_data)",
      "metadata": {
        "pycharm": {
          "metadata": false,
          "name": "#%%\n",
          "is_executing": false
        }
      }
    },
    {
      "cell_type": "code",
      "execution_count": 130,
      "outputs": [
        {
          "traceback": [
            "\u001b[0;31m---------------------------------------------------------------------------\u001b[0m",
            "\u001b[0;31mHTTPError\u001b[0m                                 Traceback (most recent call last)",
            "\u001b[0;32m\u003cipython-input-130-7b52188cf4d5\u003e\u001b[0m in \u001b[0;36m\u003cmodule\u003e\u001b[0;34m\u001b[0m\n\u001b[1;32m      1\u001b[0m \u001b[0;32mfrom\u001b[0m \u001b[0msklearn\u001b[0m \u001b[0;32mimport\u001b[0m \u001b[0mdatasets\u001b[0m\u001b[0;34m\u001b[0m\u001b[0;34m\u001b[0m\u001b[0m\n\u001b[0;32m----\u003e 2\u001b[0;31m \u001b[0mmnist\u001b[0m \u001b[0;34m\u003d\u001b[0m \u001b[0mdatasets\u001b[0m\u001b[0;34m.\u001b[0m\u001b[0mfetch_mldata\u001b[0m\u001b[0;34m(\u001b[0m\u001b[0;34m\u0027MNIST original\u0027\u001b[0m\u001b[0;34m,\u001b[0m\u001b[0mdata_home\u001b[0m\u001b[0;34m\u003d\u001b[0m\u001b[0;34m\u0027../data\u0027\u001b[0m\u001b[0;34m)\u001b[0m\u001b[0;34m\u001b[0m\u001b[0;34m\u001b[0m\u001b[0m\n\u001b[0m",
            "\u001b[0;32m~/PycharmProjects/auto_encoder/venv/lib/python3.6/site-packages/sklearn/utils/deprecation.py\u001b[0m in \u001b[0;36mwrapped\u001b[0;34m(*args, **kwargs)\u001b[0m\n\u001b[1;32m     84\u001b[0m         \u001b[0;32mdef\u001b[0m \u001b[0mwrapped\u001b[0m\u001b[0;34m(\u001b[0m\u001b[0;34m*\u001b[0m\u001b[0margs\u001b[0m\u001b[0;34m,\u001b[0m \u001b[0;34m**\u001b[0m\u001b[0mkwargs\u001b[0m\u001b[0;34m)\u001b[0m\u001b[0;34m:\u001b[0m\u001b[0;34m\u001b[0m\u001b[0;34m\u001b[0m\u001b[0m\n\u001b[1;32m     85\u001b[0m             \u001b[0mwarnings\u001b[0m\u001b[0;34m.\u001b[0m\u001b[0mwarn\u001b[0m\u001b[0;34m(\u001b[0m\u001b[0mmsg\u001b[0m\u001b[0;34m,\u001b[0m \u001b[0mcategory\u001b[0m\u001b[0;34m\u003d\u001b[0m\u001b[0mDeprecationWarning\u001b[0m\u001b[0;34m)\u001b[0m\u001b[0;34m\u001b[0m\u001b[0;34m\u001b[0m\u001b[0m\n\u001b[0;32m---\u003e 86\u001b[0;31m             \u001b[0;32mreturn\u001b[0m \u001b[0mfun\u001b[0m\u001b[0;34m(\u001b[0m\u001b[0;34m*\u001b[0m\u001b[0margs\u001b[0m\u001b[0;34m,\u001b[0m \u001b[0;34m**\u001b[0m\u001b[0mkwargs\u001b[0m\u001b[0;34m)\u001b[0m\u001b[0;34m\u001b[0m\u001b[0;34m\u001b[0m\u001b[0m\n\u001b[0m\u001b[1;32m     87\u001b[0m \u001b[0;34m\u001b[0m\u001b[0m\n\u001b[1;32m     88\u001b[0m         \u001b[0mwrapped\u001b[0m\u001b[0;34m.\u001b[0m\u001b[0m__doc__\u001b[0m \u001b[0;34m\u003d\u001b[0m \u001b[0mself\u001b[0m\u001b[0;34m.\u001b[0m\u001b[0m_update_doc\u001b[0m\u001b[0;34m(\u001b[0m\u001b[0mwrapped\u001b[0m\u001b[0;34m.\u001b[0m\u001b[0m__doc__\u001b[0m\u001b[0;34m)\u001b[0m\u001b[0;34m\u001b[0m\u001b[0;34m\u001b[0m\u001b[0m\n",
            "\u001b[0;32m~/PycharmProjects/auto_encoder/venv/lib/python3.6/site-packages/sklearn/datasets/mldata.py\u001b[0m in \u001b[0;36mfetch_mldata\u001b[0;34m(dataname, target_name, data_name, transpose_data, data_home)\u001b[0m\n\u001b[1;32m    124\u001b[0m         \u001b[0murlname\u001b[0m \u001b[0;34m\u003d\u001b[0m \u001b[0mMLDATA_BASE_URL\u001b[0m \u001b[0;34m%\u001b[0m \u001b[0mquote\u001b[0m\u001b[0;34m(\u001b[0m\u001b[0mdataname\u001b[0m\u001b[0;34m)\u001b[0m\u001b[0;34m\u001b[0m\u001b[0;34m\u001b[0m\u001b[0m\n\u001b[1;32m    125\u001b[0m         \u001b[0;32mtry\u001b[0m\u001b[0;34m:\u001b[0m\u001b[0;34m\u001b[0m\u001b[0;34m\u001b[0m\u001b[0m\n\u001b[0;32m--\u003e 126\u001b[0;31m             \u001b[0mmldata_url\u001b[0m \u001b[0;34m\u003d\u001b[0m \u001b[0murlopen\u001b[0m\u001b[0;34m(\u001b[0m\u001b[0murlname\u001b[0m\u001b[0;34m)\u001b[0m\u001b[0;34m\u001b[0m\u001b[0;34m\u001b[0m\u001b[0m\n\u001b[0m\u001b[1;32m    127\u001b[0m         \u001b[0;32mexcept\u001b[0m \u001b[0mHTTPError\u001b[0m \u001b[0;32mas\u001b[0m \u001b[0me\u001b[0m\u001b[0;34m:\u001b[0m\u001b[0;34m\u001b[0m\u001b[0;34m\u001b[0m\u001b[0m\n\u001b[1;32m    128\u001b[0m             \u001b[0;32mif\u001b[0m \u001b[0me\u001b[0m\u001b[0;34m.\u001b[0m\u001b[0mcode\u001b[0m \u001b[0;34m\u003d\u003d\u001b[0m \u001b[0;36m404\u001b[0m\u001b[0;34m:\u001b[0m\u001b[0;34m\u001b[0m\u001b[0;34m\u001b[0m\u001b[0m\n",
            "\u001b[0;32m/usr/lib/python3.6/urllib/request.py\u001b[0m in \u001b[0;36murlopen\u001b[0;34m(url, data, timeout, cafile, capath, cadefault, context)\u001b[0m\n\u001b[1;32m    221\u001b[0m     \u001b[0;32melse\u001b[0m\u001b[0;34m:\u001b[0m\u001b[0;34m\u001b[0m\u001b[0;34m\u001b[0m\u001b[0m\n\u001b[1;32m    222\u001b[0m         \u001b[0mopener\u001b[0m \u001b[0;34m\u003d\u001b[0m \u001b[0m_opener\u001b[0m\u001b[0;34m\u001b[0m\u001b[0;34m\u001b[0m\u001b[0m\n\u001b[0;32m--\u003e 223\u001b[0;31m     \u001b[0;32mreturn\u001b[0m \u001b[0mopener\u001b[0m\u001b[0;34m.\u001b[0m\u001b[0mopen\u001b[0m\u001b[0;34m(\u001b[0m\u001b[0murl\u001b[0m\u001b[0;34m,\u001b[0m \u001b[0mdata\u001b[0m\u001b[0;34m,\u001b[0m \u001b[0mtimeout\u001b[0m\u001b[0;34m)\u001b[0m\u001b[0;34m\u001b[0m\u001b[0;34m\u001b[0m\u001b[0m\n\u001b[0m\u001b[1;32m    224\u001b[0m \u001b[0;34m\u001b[0m\u001b[0m\n\u001b[1;32m    225\u001b[0m \u001b[0;32mdef\u001b[0m \u001b[0minstall_opener\u001b[0m\u001b[0;34m(\u001b[0m\u001b[0mopener\u001b[0m\u001b[0;34m)\u001b[0m\u001b[0;34m:\u001b[0m\u001b[0;34m\u001b[0m\u001b[0;34m\u001b[0m\u001b[0m\n",
            "\u001b[0;32m/usr/lib/python3.6/urllib/request.py\u001b[0m in \u001b[0;36mopen\u001b[0;34m(self, fullurl, data, timeout)\u001b[0m\n\u001b[1;32m    530\u001b[0m         \u001b[0;32mfor\u001b[0m \u001b[0mprocessor\u001b[0m \u001b[0;32min\u001b[0m \u001b[0mself\u001b[0m\u001b[0;34m.\u001b[0m\u001b[0mprocess_response\u001b[0m\u001b[0;34m.\u001b[0m\u001b[0mget\u001b[0m\u001b[0;34m(\u001b[0m\u001b[0mprotocol\u001b[0m\u001b[0;34m,\u001b[0m \u001b[0;34m[\u001b[0m\u001b[0;34m]\u001b[0m\u001b[0;34m)\u001b[0m\u001b[0;34m:\u001b[0m\u001b[0;34m\u001b[0m\u001b[0;34m\u001b[0m\u001b[0m\n\u001b[1;32m    531\u001b[0m             \u001b[0mmeth\u001b[0m \u001b[0;34m\u003d\u001b[0m \u001b[0mgetattr\u001b[0m\u001b[0;34m(\u001b[0m\u001b[0mprocessor\u001b[0m\u001b[0;34m,\u001b[0m \u001b[0mmeth_name\u001b[0m\u001b[0;34m)\u001b[0m\u001b[0;34m\u001b[0m\u001b[0;34m\u001b[0m\u001b[0m\n\u001b[0;32m--\u003e 532\u001b[0;31m             \u001b[0mresponse\u001b[0m \u001b[0;34m\u003d\u001b[0m \u001b[0mmeth\u001b[0m\u001b[0;34m(\u001b[0m\u001b[0mreq\u001b[0m\u001b[0;34m,\u001b[0m \u001b[0mresponse\u001b[0m\u001b[0;34m)\u001b[0m\u001b[0;34m\u001b[0m\u001b[0;34m\u001b[0m\u001b[0m\n\u001b[0m\u001b[1;32m    533\u001b[0m \u001b[0;34m\u001b[0m\u001b[0m\n\u001b[1;32m    534\u001b[0m         \u001b[0;32mreturn\u001b[0m \u001b[0mresponse\u001b[0m\u001b[0;34m\u001b[0m\u001b[0;34m\u001b[0m\u001b[0m\n",
            "\u001b[0;32m/usr/lib/python3.6/urllib/request.py\u001b[0m in \u001b[0;36mhttp_response\u001b[0;34m(self, request, response)\u001b[0m\n\u001b[1;32m    640\u001b[0m         \u001b[0;32mif\u001b[0m \u001b[0;32mnot\u001b[0m \u001b[0;34m(\u001b[0m\u001b[0;36m200\u001b[0m \u001b[0;34m\u003c\u003d\u001b[0m \u001b[0mcode\u001b[0m \u001b[0;34m\u003c\u001b[0m \u001b[0;36m300\u001b[0m\u001b[0;34m)\u001b[0m\u001b[0;34m:\u001b[0m\u001b[0;34m\u001b[0m\u001b[0;34m\u001b[0m\u001b[0m\n\u001b[1;32m    641\u001b[0m             response \u003d self.parent.error(\n\u001b[0;32m--\u003e 642\u001b[0;31m                 \u0027http\u0027, request, response, code, msg, hdrs)\n\u001b[0m\u001b[1;32m    643\u001b[0m \u001b[0;34m\u001b[0m\u001b[0m\n\u001b[1;32m    644\u001b[0m         \u001b[0;32mreturn\u001b[0m \u001b[0mresponse\u001b[0m\u001b[0;34m\u001b[0m\u001b[0;34m\u001b[0m\u001b[0m\n",
            "\u001b[0;32m/usr/lib/python3.6/urllib/request.py\u001b[0m in \u001b[0;36merror\u001b[0;34m(self, proto, *args)\u001b[0m\n\u001b[1;32m    568\u001b[0m         \u001b[0;32mif\u001b[0m \u001b[0mhttp_err\u001b[0m\u001b[0;34m:\u001b[0m\u001b[0;34m\u001b[0m\u001b[0;34m\u001b[0m\u001b[0m\n\u001b[1;32m    569\u001b[0m             \u001b[0margs\u001b[0m \u001b[0;34m\u003d\u001b[0m \u001b[0;34m(\u001b[0m\u001b[0mdict\u001b[0m\u001b[0;34m,\u001b[0m \u001b[0;34m\u0027default\u0027\u001b[0m\u001b[0;34m,\u001b[0m \u001b[0;34m\u0027http_error_default\u0027\u001b[0m\u001b[0;34m)\u001b[0m \u001b[0;34m+\u001b[0m \u001b[0morig_args\u001b[0m\u001b[0;34m\u001b[0m\u001b[0;34m\u001b[0m\u001b[0m\n\u001b[0;32m--\u003e 570\u001b[0;31m             \u001b[0;32mreturn\u001b[0m \u001b[0mself\u001b[0m\u001b[0;34m.\u001b[0m\u001b[0m_call_chain\u001b[0m\u001b[0;34m(\u001b[0m\u001b[0;34m*\u001b[0m\u001b[0margs\u001b[0m\u001b[0;34m)\u001b[0m\u001b[0;34m\u001b[0m\u001b[0;34m\u001b[0m\u001b[0m\n\u001b[0m\u001b[1;32m    571\u001b[0m \u001b[0;34m\u001b[0m\u001b[0m\n\u001b[1;32m    572\u001b[0m \u001b[0;31m# XXX probably also want an abstract factory that knows when it makes\u001b[0m\u001b[0;34m\u001b[0m\u001b[0;34m\u001b[0m\u001b[0;34m\u001b[0m\u001b[0m\n",
            "\u001b[0;32m/usr/lib/python3.6/urllib/request.py\u001b[0m in \u001b[0;36m_call_chain\u001b[0;34m(self, chain, kind, meth_name, *args)\u001b[0m\n\u001b[1;32m    502\u001b[0m         \u001b[0;32mfor\u001b[0m \u001b[0mhandler\u001b[0m \u001b[0;32min\u001b[0m \u001b[0mhandlers\u001b[0m\u001b[0;34m:\u001b[0m\u001b[0;34m\u001b[0m\u001b[0;34m\u001b[0m\u001b[0m\n\u001b[1;32m    503\u001b[0m             \u001b[0mfunc\u001b[0m \u001b[0;34m\u003d\u001b[0m \u001b[0mgetattr\u001b[0m\u001b[0;34m(\u001b[0m\u001b[0mhandler\u001b[0m\u001b[0;34m,\u001b[0m \u001b[0mmeth_name\u001b[0m\u001b[0;34m)\u001b[0m\u001b[0;34m\u001b[0m\u001b[0;34m\u001b[0m\u001b[0m\n\u001b[0;32m--\u003e 504\u001b[0;31m             \u001b[0mresult\u001b[0m \u001b[0;34m\u003d\u001b[0m \u001b[0mfunc\u001b[0m\u001b[0;34m(\u001b[0m\u001b[0;34m*\u001b[0m\u001b[0margs\u001b[0m\u001b[0;34m)\u001b[0m\u001b[0;34m\u001b[0m\u001b[0;34m\u001b[0m\u001b[0m\n\u001b[0m\u001b[1;32m    505\u001b[0m             \u001b[0;32mif\u001b[0m \u001b[0mresult\u001b[0m \u001b[0;32mis\u001b[0m \u001b[0;32mnot\u001b[0m \u001b[0;32mNone\u001b[0m\u001b[0;34m:\u001b[0m\u001b[0;34m\u001b[0m\u001b[0;34m\u001b[0m\u001b[0m\n\u001b[1;32m    506\u001b[0m                 \u001b[0;32mreturn\u001b[0m \u001b[0mresult\u001b[0m\u001b[0;34m\u001b[0m\u001b[0;34m\u001b[0m\u001b[0m\n",
            "\u001b[0;32m/usr/lib/python3.6/urllib/request.py\u001b[0m in \u001b[0;36mhttp_error_default\u001b[0;34m(self, req, fp, code, msg, hdrs)\u001b[0m\n\u001b[1;32m    648\u001b[0m \u001b[0;32mclass\u001b[0m \u001b[0mHTTPDefaultErrorHandler\u001b[0m\u001b[0;34m(\u001b[0m\u001b[0mBaseHandler\u001b[0m\u001b[0;34m)\u001b[0m\u001b[0;34m:\u001b[0m\u001b[0;34m\u001b[0m\u001b[0;34m\u001b[0m\u001b[0m\n\u001b[1;32m    649\u001b[0m     \u001b[0;32mdef\u001b[0m \u001b[0mhttp_error_default\u001b[0m\u001b[0;34m(\u001b[0m\u001b[0mself\u001b[0m\u001b[0;34m,\u001b[0m \u001b[0mreq\u001b[0m\u001b[0;34m,\u001b[0m \u001b[0mfp\u001b[0m\u001b[0;34m,\u001b[0m \u001b[0mcode\u001b[0m\u001b[0;34m,\u001b[0m \u001b[0mmsg\u001b[0m\u001b[0;34m,\u001b[0m \u001b[0mhdrs\u001b[0m\u001b[0;34m)\u001b[0m\u001b[0;34m:\u001b[0m\u001b[0;34m\u001b[0m\u001b[0;34m\u001b[0m\u001b[0m\n\u001b[0;32m--\u003e 650\u001b[0;31m         \u001b[0;32mraise\u001b[0m \u001b[0mHTTPError\u001b[0m\u001b[0;34m(\u001b[0m\u001b[0mreq\u001b[0m\u001b[0;34m.\u001b[0m\u001b[0mfull_url\u001b[0m\u001b[0;34m,\u001b[0m \u001b[0mcode\u001b[0m\u001b[0;34m,\u001b[0m \u001b[0mmsg\u001b[0m\u001b[0;34m,\u001b[0m \u001b[0mhdrs\u001b[0m\u001b[0;34m,\u001b[0m \u001b[0mfp\u001b[0m\u001b[0;34m)\u001b[0m\u001b[0;34m\u001b[0m\u001b[0;34m\u001b[0m\u001b[0m\n\u001b[0m\u001b[1;32m    651\u001b[0m \u001b[0;34m\u001b[0m\u001b[0m\n\u001b[1;32m    652\u001b[0m \u001b[0;32mclass\u001b[0m \u001b[0mHTTPRedirectHandler\u001b[0m\u001b[0;34m(\u001b[0m\u001b[0mBaseHandler\u001b[0m\u001b[0;34m)\u001b[0m\u001b[0;34m:\u001b[0m\u001b[0;34m\u001b[0m\u001b[0;34m\u001b[0m\u001b[0m\n",
            "\u001b[0;31mHTTPError\u001b[0m: HTTP Error 502: Bad Gateway"
          ],
          "ename": "HTTPError",
          "evalue": "HTTP Error 502: Bad Gateway",
          "output_type": "error"
        }
      ],
      "source": "\nmnist_data_skl \u003d datasets.fetch_mldata(\u0027MNIST original\u0027,data_home\u003d\u0027../data\u0027)",
      "metadata": {
        "pycharm": {
          "metadata": false,
          "name": "#%%\n",
          "is_executing": false
        }
      }
    },
    {
      "cell_type": "code",
      "execution_count": 133,
      "outputs": [
        {
          "traceback": [
            "\u001b[0;31m---------------------------------------------------------------------------\u001b[0m",
            "\u001b[0;31mNameError\u001b[0m                                 Traceback (most recent call last)",
            "\u001b[0;32m\u003cipython-input-133-f5825144dee1\u003e\u001b[0m in \u001b[0;36m\u003cmodule\u003e\u001b[0;34m\u001b[0m\n\u001b[0;32m----\u003e 1\u001b[0;31m \u001b[0mpd\u001b[0m\u001b[0;34m.\u001b[0m\u001b[0mDataFrame\u001b[0m\u001b[0;34m(\u001b[0m\u001b[0mmnist_data_skl\u001b[0m\u001b[0;34m.\u001b[0m\u001b[0mdata\u001b[0m\u001b[0;34m)\u001b[0m\u001b[0;34m\u001b[0m\u001b[0;34m\u001b[0m\u001b[0m\n\u001b[0m",
            "\u001b[0;31mNameError\u001b[0m: name \u0027mnist_data_skl\u0027 is not defined"
          ],
          "ename": "NameError",
          "evalue": "name \u0027mnist_data_skl\u0027 is not defined",
          "output_type": "error"
        }
      ],
      "source": "pd.DataFrame(mnist_data_skl.data)",
      "metadata": {
        "pycharm": {
          "metadata": false,
          "name": "#%%\n",
          "is_executing": false
        }
      }
    },
    {
      "cell_type": "code",
      "execution_count": null,
      "outputs": [],
      "source": "\n",
      "metadata": {
        "pycharm": {
          "metadata": false,
          "name": "#%%\n"
        }
      }
    }
  ],
  "metadata": {
    "language_info": {
      "codemirror_mode": {
        "name": "ipython",
        "version": 2
      },
      "file_extension": ".py",
      "mimetype": "text/x-python",
      "name": "python",
      "nbconvert_exporter": "python",
      "pygments_lexer": "ipython2",
      "version": "2.7.6"
    },
    "kernelspec": {
      "name": "python3",
      "language": "python",
      "display_name": "Python 3"
    },
    "stem_cell": {
      "cell_type": "raw",
      "source": "",
      "metadata": {
        "pycharm": {
          "metadata": false
        }
      }
    }
  },
  "nbformat": 4,
  "nbformat_minor": 0
}