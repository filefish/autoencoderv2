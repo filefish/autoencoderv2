{
 "cells": [
  {
   "cell_type": "code",
   "execution_count": null,
   "outputs": [],
   "source": [
    "import torch\n",
    "import torch.nn as nn\n",
    "import torch.nn.functional as F\n",
    "import numpy as np\n",
    "import matplotlib.pyplot as plt\n",
    "from torch import optim\n",
    "import torch.utils as utils\n",
    "from torchvision import datasets,transforms"
   ],
   "metadata": {
    "collapsed": false,
    "pycharm": {
     "name": "#%%この環境ではうまく走らないようなので、一旦おいておく\n"
    }
   }
  },
  {
   "cell_type": "code",
   "execution_count": 2,
   "outputs": [],
   "source": [
    "device = torch.device(\"cuda\" if torch.cuda.is_available() else \"cpu\")"
   ],
   "metadata": {
    "pycharm": {
     "metadata": false,
     "name": "#%%\n",
     "is_executing": false
    }
   }
  },
  {
   "cell_type": "code",
   "execution_count": 3,
   "outputs": [],
   "source": [
    "transform = transforms.Compose([\n",
    "    transforms.ToTensor(),\n",
    "    transforms.Lambda(lambda x: x.view(-1))\n",
    "])"
   ],
   "metadata": {
    "pycharm": {
     "metadata": false,
     "name": "#%%2次元ベクトルを１次元化\n",
     "is_executing": false
    }
   }
  },
  {
   "cell_type": "code",
   "execution_count": 4,
   "outputs": [],
   "source": [
    "dataset_train = datasets.MNIST(\n",
    "    '../data_tips',\n",
    "    train=True,\n",
    "    download=True,\n",
    "    transform=transform\n",
    ")"
   ],
   "metadata": {
    "pycharm": {
     "metadata": false,
     "name": "#%%\n",
     "is_executing": false
    }
   }
  },
  {
   "cell_type": "code",
   "execution_count": 5,
   "outputs": [],
   "source": [
    "dataset_valid = datasets.MNIST(\n",
    "    '../data_tips',\n",
    "    train=False,\n",
    "    download=True,\n",
    "    transform=transform\n",
    ")"
   ],
   "metadata": {
    "pycharm": {
     "metadata": false,
     "name": "#%%\n",
     "is_executing": false
    }
   }
  },
  {
   "cell_type": "code",
   "execution_count": 6,
   "outputs": [],
   "source": [
    "batch_size=1000"
   ],
   "metadata": {
    "pycharm": {
     "metadata": false,
     "name": "#%%\n",
     "is_executing": false
    }
   }
  },
  {
   "cell_type": "code",
   "execution_count": 7,
   "outputs": [],
   "source": [
    "dataloader_train = utils.data.DataLoader(dataset_train,batch_size=batch_size,shuffle=True,num_workers=4)"
   ],
   "metadata": {
    "pycharm": {
     "metadata": false,
     "name": "#%%\n",
     "is_executing": false
    }
   }
  },
  {
   "cell_type": "code",
   "execution_count": 8,
   "outputs": [],
   "source": [
    "dataloader_valid = utils.data.DataLoader(dataset_valid,batch_size=batch_size,shuffle=True,num_workers=4)"
   ],
   "metadata": {
    "pycharm": {
     "metadata": false,
     "name": "#%%\n",
     "is_executing": false
    }
   }
  },
  {
   "cell_type": "code",
   "execution_count": 9,
   "outputs": [],
   "source": [
    "class VAE(nn.Module):\n",
    "    def __init__(self, x_dim, z_dim):\n",
    "      super(VAE, self).__init__()\n",
    "      self.x_dim = x_dim\n",
    "      self.z_dim = z_dim\n",
    "      self.fc1 = nn.Linear(x_dim, 20)\n",
    "      self.bn1 = nn.BatchNorm1d(20)\n",
    "      self.fc2_mean = nn.Linear(20, z_dim)\n",
    "      self.fc2_var = nn.Linear(20, z_dim)\n",
    "\n",
    "      self.fc3 = nn.Linear(z_dim, 20)\n",
    "      self.drop1 = nn.Dropout(p=0.2)\n",
    "      self.fc4 = nn.Linear(20, x_dim)\n",
    "\n",
    "    def encoder(self, x):\n",
    "      x = x.view(-1, self.x_dim)\n",
    "      x = F.relu(self.fc1(x))\n",
    "      x = self.bn1(x)\n",
    "      mean = self.fc2_mean(x)\n",
    "      log_var = self.fc2_var(x)\n",
    "      return mean, log_var\n",
    "\n",
    "    def sample_z(self, mean, log_var):\n",
    "      epsilon = torch.randn(mean.shape, device=\"cuda\")\n",
    "      return mean + epsilon * torch.exp(0.5*log_var)\n",
    "\n",
    "    def decoder(self, z):\n",
    "      y = F.relu(self.fc3(z))\n",
    "      y = self.drop1(y)\n",
    "      y = torch.sigmoid(self.fc4(y))\n",
    "      return y\n",
    "\n",
    "    def forward(self, x):\n",
    "      x = x.reshape(-1, self.x_dim)\n",
    "      mean, log_var = self.encoder(x)\n",
    "      z = self.sample_z(mean, log_var)\n",
    "      y = self.decoder(z)\n",
    "      return z, y\n",
    "\n",
    "    def loss_sigmoid(self, x):\n",
    "      x = x.view(-1, self.x_dim)\n",
    "      mean, log_var = self.encoder(x)\n",
    "      delta = 1e-8\n",
    "      KL = 0.5 * torch.sum(1 + log_var - mean**2 - torch.exp(log_var))\n",
    "      z = self.sample_z(mean, log_var)\n",
    "      y = self.decoder(z)\n",
    "      reconstruction = torch.mean(x * torch.log(y + delta) + (1 - x) * torch.log(1 - y + delta))\n",
    "      lower_bound = [KL, reconstruction]\n",
    "      return -sum(lower_bound)"
   ],
   "metadata": {
    "pycharm": {
     "metadata": false,
     "name": "#%%\n",
     "is_executing": false
    }
   }
  },
  {
   "cell_type": "code",
   "execution_count": 10,
   "outputs": [
    {
     "data": {
      "text/plain": "VAE(\n  (fc1): Linear(in_features=784, out_features=20, bias=True)\n  (bn1): BatchNorm1d(20, eps=1e-05, momentum=0.1, affine=True, track_running_stats=True)\n  (fc2_mean): Linear(in_features=20, out_features=10, bias=True)\n  (fc2_var): Linear(in_features=20, out_features=10, bias=True)\n  (fc3): Linear(in_features=10, out_features=20, bias=True)\n  (drop1): Dropout(p=0.2)\n  (fc4): Linear(in_features=20, out_features=784, bias=True)\n)"
     },
     "metadata": {},
     "output_type": "execute_result",
     "execution_count": 10
    }
   ],
   "source": [
    "model = VAE(x_dim=28*28, z_dim=10).to(device)\n",
    "optimizer = optim.Adam(model.parameters(), lr=0.001)\n",
    "model.train()"
   ],
   "metadata": {
    "collapsed": false,
    "pycharm": {
     "name": "#%%\n",
     "is_executing": false
    }
   }
  },
  {
   "cell_type": "code",
   "execution_count": 11,
   "outputs": [],
   "source": [
    "\n",
    "num_epochs = 20\n",
    "loss_list = []"
   ],
   "metadata": {
    "collapsed": false,
    "pycharm": {
     "name": "#%%\n",
     "is_executing": false
    }
   }
  },
  {
   "cell_type": "code",
   "execution_count": 14,
   "outputs": [
    {
     "name": "stdout",
     "text": [
      "EPOCH: 0 loss: 0.18260742723941803\n",
      "EPOCH: 1 loss: 0.014492249116301537\n",
      "EPOCH: 2 loss: 0.0031146863475441933\n",
      "EPOCH: 3 loss: 0.001755834324285388\n",
      "EPOCH: 4 loss: 0.0012589432299137115\n",
      "EPOCH: 5 loss: 0.0010069035924971104\n",
      "EPOCH: 6 loss: 0.0008442953112535179\n",
      "EPOCH: 7 loss: 0.0007209726027213037\n",
      "EPOCH: 8 loss: 0.0006401570863090456\n",
      "EPOCH: 9 loss: 0.0006080606253817677\n",
      "EPOCH: 10 loss: 0.0005409892764873803\n",
      "EPOCH: 11 loss: 0.0005374319734983146\n",
      "EPOCH: 12 loss: 0.0004982572281733155\n",
      "EPOCH: 13 loss: 0.000472503510536626\n",
      "EPOCH: 14 loss: 0.00047050806460902095\n",
      "EPOCH: 15 loss: 0.00044222516589798033\n",
      "EPOCH: 16 loss: 0.00043470418313518167\n",
      "EPOCH: 17 loss: 0.0004178095841780305\n",
      "EPOCH: 18 loss: 0.00040721253026276827\n",
      "EPOCH: 19 loss: 0.0003929458907805383\n"
     ],
     "output_type": "stream"
    }
   ],
   "source": [
    "for i in range(num_epochs):\n",
    "  losses = []\n",
    "  for x, t in dataloader_train:\n",
    "      x = x.to(device)\n",
    "      model.zero_grad()\n",
    "      y, z = model(x)\n",
    "      loss = model.loss_sigmoid(x)/batch_size\n",
    "      loss.backward()\n",
    "      optimizer.step()\n",
    "      losses.append(loss.cpu().detach().numpy())\n",
    "  loss_list.append(np.average(losses))\n",
    "  print(\"EPOCH: {} loss: {}\".format(i, np.average(losses)))"
   ],
   "metadata": {
    "collapsed": false,
    "pycharm": {
     "name": "#%%\n",
     "is_executing": false
    }
   }
  },
  {
   "cell_type": "code",
   "execution_count": 15,
   "outputs": [
    {
     "data": {
      "text/plain": "<function matplotlib.pyplot.grid(b=None, which='major', axis='both', **kwargs)>"
     },
     "metadata": {},
     "output_type": "execute_result",
     "execution_count": 15
    },
    {
     "data": {
      "text/plain": "<Figure size 432x288 with 1 Axes>",
      "image/png": "[encoded data removed]"
     },
     "metadata": {
      "needs_background": "light"
     },
     "output_type": "display_data"
    }
   ],
   "source": [
    "plt.figure()\n",
    "plt.plot(range(num_epochs),loss_list,'r-',label='train_loss')\n",
    "plt.legend()\n",
    "plt.xlabel('epoch')\n",
    "plt.ylabel('loss')\n",
    "plt.grid"
   ],
   "metadata": {
    "collapsed": false,
    "pycharm": {
     "name": "#%%\n",
     "is_executing": false
    }
   }
  },
  {
   "cell_type": "code",
   "execution_count": 22,
   "outputs": [
    {
     "traceback": [
      "\u001b[0;31m---------------------------------------------------------------------------\u001b[0m",
      "\u001b[0;31mRuntimeError\u001b[0m                              Traceback (most recent call last)",
      "\u001b[0;32m<ipython-input-22-1d2fa013639c>\u001b[0m in \u001b[0;36m<module>\u001b[0;34m\u001b[0m\n\u001b[1;32m     11\u001b[0m     \u001b[0my\u001b[0m\u001b[0;34m,\u001b[0m \u001b[0mz\u001b[0m \u001b[0;34m=\u001b[0m \u001b[0mmodel\u001b[0m\u001b[0;34m(\u001b[0m\u001b[0mx\u001b[0m\u001b[0;34m)\u001b[0m\u001b[0;34m\u001b[0m\u001b[0;34m\u001b[0m\u001b[0m\n\u001b[1;32m     12\u001b[0m     \u001b[0mzs\u001b[0m\u001b[0;34m.\u001b[0m\u001b[0mappend\u001b[0m\u001b[0;34m(\u001b[0m\u001b[0mz\u001b[0m\u001b[0;34m)\u001b[0m\u001b[0;34m\u001b[0m\u001b[0;34m\u001b[0m\u001b[0m\n\u001b[0;32m---> 13\u001b[0;31m     \u001b[0;32mfor\u001b[0m \u001b[0mi\u001b[0m\u001b[0;34m,\u001b[0m \u001b[0mim\u001b[0m \u001b[0;32min\u001b[0m \u001b[0menumerate\u001b[0m\u001b[0;34m(\u001b[0m\u001b[0my\u001b[0m\u001b[0;34m.\u001b[0m\u001b[0mview\u001b[0m\u001b[0;34m(\u001b[0m\u001b[0;34m-\u001b[0m\u001b[0;36m1\u001b[0m\u001b[0;34m,\u001b[0m \u001b[0;36m28\u001b[0m\u001b[0;34m,\u001b[0m \u001b[0;36m28\u001b[0m\u001b[0;34m)\u001b[0m\u001b[0;34m.\u001b[0m\u001b[0mcpu\u001b[0m\u001b[0;34m(\u001b[0m\u001b[0;34m)\u001b[0m\u001b[0;34m.\u001b[0m\u001b[0mdetach\u001b[0m\u001b[0;34m(\u001b[0m\u001b[0;34m)\u001b[0m\u001b[0;34m.\u001b[0m\u001b[0mnumpy\u001b[0m\u001b[0;34m(\u001b[0m\u001b[0;34m)\u001b[0m\u001b[0;34m[\u001b[0m\u001b[0;34m:\u001b[0m\u001b[0;36m10\u001b[0m\u001b[0;34m]\u001b[0m\u001b[0;34m)\u001b[0m\u001b[0;34m:\u001b[0m\u001b[0;34m\u001b[0m\u001b[0;34m\u001b[0m\u001b[0m\n\u001b[0m\u001b[1;32m     14\u001b[0m       \u001b[0max\u001b[0m \u001b[0;34m=\u001b[0m \u001b[0mfig\u001b[0m\u001b[0;34m.\u001b[0m\u001b[0madd_subplot\u001b[0m\u001b[0;34m(\u001b[0m\u001b[0;36m3\u001b[0m\u001b[0;34m,\u001b[0m \u001b[0;36m10\u001b[0m\u001b[0;34m,\u001b[0m \u001b[0mi\u001b[0m\u001b[0;34m+\u001b[0m\u001b[0;36m11\u001b[0m\u001b[0;34m,\u001b[0m \u001b[0mxticks\u001b[0m\u001b[0;34m=\u001b[0m\u001b[0;34m[\u001b[0m\u001b[0;34m]\u001b[0m\u001b[0;34m,\u001b[0m \u001b[0myticks\u001b[0m\u001b[0;34m=\u001b[0m\u001b[0;34m[\u001b[0m\u001b[0;34m]\u001b[0m\u001b[0;34m)\u001b[0m\u001b[0;34m\u001b[0m\u001b[0;34m\u001b[0m\u001b[0m\n\u001b[1;32m     15\u001b[0m       \u001b[0max\u001b[0m\u001b[0;34m.\u001b[0m\u001b[0mimshow\u001b[0m\u001b[0;34m(\u001b[0m\u001b[0mim\u001b[0m\u001b[0;34m,\u001b[0m \u001b[0;34m'gray'\u001b[0m\u001b[0;34m)\u001b[0m\u001b[0;34m\u001b[0m\u001b[0;34m\u001b[0m\u001b[0m\n",
      "\u001b[0;31mRuntimeError\u001b[0m: shape '[-1, 28, 28]' is invalid for input of size 10000"
     ],
     "ename": "RuntimeError",
     "evalue": "shape '[-1, 28, 28]' is invalid for input of size 10000",
     "output_type": "error"
    },
    {
     "data": {
      "text/plain": "<Figure size 1440x432 with 10 Axes>",
      "image/png": "[encoded data removed]"
     },
     "metadata": {},
     "output_type": "display_data"
    }
   ],
   "source": [
    "fig = plt.figure(figsize=(20, 6))\n",
    "\n",
    "model.eval()\n",
    "zs = []\n",
    "for x, t in dataloader_valid:\n",
    "    for i, im in enumerate(x.view(-1, 28, 28).detach().numpy()[:10]):\n",
    "      ax = fig.add_subplot(3, 10, i+1, xticks=[], yticks=[])\n",
    "      ax.imshow(im, 'gray')\n",
    "\n",
    "    x = x.to(device)\n",
    "    y, z = model(x)\n",
    "    zs.append(z)\n",
    "    for i, im in enumerate(y.view(-1, 28, 28).cpu().detach().numpy()[:10]):\n",
    "      ax = fig.add_subplot(3, 10, i+11, xticks=[], yticks=[])\n",
    "      ax.imshow(im, 'gray')\n",
    "    \n",
    "    z1to0 = torch.cat([z[1, :] * (i * 0.1) + z[0, :] * ((10 - i) * 0.1) for i in range(10)]).reshape(10, 10)\n",
    "    y2 = model._decoder(z1to0).view(-1, 28, 28)\n",
    "    for i, im in enumerate(y2.cpu().detach().numpy()[:20]):\n",
    "      ax = fig.add_subplot(3, 10, i+21, xticks=[], yticks=[])\n",
    "      ax.imshow(im, 'gray')\n",
    "    break"
   ],
   "metadata": {
    "collapsed": false,
    "pycharm": {
     "name": "#%%\n",
     "is_executing": false
    }
   }
  },
  {
   "cell_type": "code",
   "execution_count": null,
   "outputs": [],
   "source": [
    "\n"
   ],
   "metadata": {
    "collapsed": false,
    "pycharm": {
     "name": "#%%\n"
    }
   }
  }
 ],
 "metadata": {
  "language_info": {
   "codemirror_mode": {
    "name": "ipython",
    "version": 2
   },
   "file_extension": ".py",
   "mimetype": "text/x-python",
   "name": "python",
   "nbconvert_exporter": "python",
   "pygments_lexer": "ipython2",
   "version": "2.7.6"
  },
  "kernelspec": {
   "name": "python3",
   "language": "python",
   "display_name": "Python 3"
  },
  "stem_cell": {
   "cell_type": "raw",
   "source": "",
   "metadata": {
    "pycharm": {
     "metadata": false
    }
   }
  },
  "pycharm": {
   "stem_cell": {
    "cell_type": "raw",
    "source": [],
    "metadata": {
     "collapsed": false
    }
   }
  }
 },
 "nbformat": 4,
 "nbformat_minor": 0
}