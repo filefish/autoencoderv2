{
 "cells": [
  {
   "cell_type": "code",
   "execution_count": 3,
   "metadata": {
    "collapsed": true
   },
   "outputs": [],
   "source": [
    "from __future__ import print_function\n",
    "import argparse\n",
    "import torch\n",
    "import torch.utils.data\n",
    "from torch import nn, optim\n",
    "from torch.nn import functional as F\n",
    "from torchvision import datasets, transforms\n",
    "from torchvision.utils import save_image\n",
    "\n",
    "%matplotlib inline\n",
    "import matplotlib.pyplot as plt\n",
    "from torch.distributions.multivariate_normal import MultivariateNormal\n",
    "import numpy as np\n",
    "\n",
    "from sklearn.manifold import TSNE\n",
    "from random import random\n",
    "from sklearn.mixture import GaussianMixture\n",
    "from sklearn.mixture import BayesianGaussianMixture"
   ]
  },
  {
   "cell_type": "code",
   "execution_count": 132,
   "outputs": [],
   "source": [
    "batch_size = 100\n",
    "num_epoch = 10\n",
    "input_dim=28*28\n",
    "output_dim=input_dim\n",
    "en_hidden1_dim = 400\n",
    "latent_dim= 15\n",
    "de_hidden1_dim = 400\n",
    "log_interval = 10\n",
    "\n",
    "K_model_cluster = 10\n",
    "\n"
   ],
   "metadata": {
    "collapsed": false,
    "pycharm": {
     "name": "#%%\n"
    }
   }
  },
  {
   "cell_type": "code",
   "execution_count": null,
   "outputs": [],
   "source": [
    "device = 'cuda'\n",
    "kwargs = {'num_workers':1, 'pin_memory':True}\n",
    "\n",
    "train_loader = torch.utils.data.DataLoader(\n",
    "    datasets.MNIST('../data',train=True,download=True,\n",
    "                   transform=transforms.ToTensor()),\n",
    "    batch_size=batch_size,shuffle=True,**kwargs)\n",
    "\n",
    "test_loader = torch.utils.data.DataLoader(\n",
    "    datasets.MNIST('../data',train=False,transform=transforms.ToTensor()),\n",
    "    batch_size=batch_size,shuffle=True,**kwargs)"
   ],
   "metadata": {
    "collapsed": false,
    "pycharm": {
     "name": "#%%\n"
    }
   }
  },
  {
   "cell_type": "code",
   "execution_count": 72,
   "outputs": [],
   "source": [
    "class VAE(nn.Module):\n",
    "    def __init__(self):\n",
    "        super(VAE, self).__init__()\n",
    "\n",
    "        self.input_layer = nn.Linear(input_dim,en_hidden1_dim)\n",
    "        self.mu_layer = nn.Linear(en_hidden1_dim,latent_dim)\n",
    "        self.std_layer = nn.Linear(en_hidden1_dim,latent_dim)\n",
    "        self.decode1_layer = nn.Linear(latent_dim,de_hidden1_dim)\n",
    "        self.output_layer = nn.Linear(de_hidden1_dim,output_dim)\n",
    "\n",
    "    def encode(self, x):\n",
    "        h1 = F.relu(self.input_layer(x))\n",
    "        return self.mu_layer(h1), self.std_layer(h1)\n",
    "    #入力から中心と分散の対数を作っている\n",
    "\n",
    "    def reparameterize(self,mu,logvar):\n",
    "        std = torch.exp(0.5*logvar)\n",
    "        eps = torch.randn_like(std)\n",
    "        #torch.randn_like(std)はstdと同じ次元の正規乱数を与えている。N(0,1)**size(std).ただし、標準偏差は等方的。\n",
    "        return mu + eps*std\n",
    "    #zの値を確率的に作っている。\n",
    "\n",
    "    def decode(self,z):\n",
    "        h3 = F.relu(self.decode1_layer(z))\n",
    "        return torch.sigmoid(self.output_layer(h3))\n",
    "    #zからNNを通したあとに、sigmoidで押し込んでxの値を作っている\n",
    "\n",
    "    def forward(self, x):\n",
    "        mu, logvar = self.encode(x.view(-1,784))\n",
    "        z = self.reparameterize(mu, logvar)\n",
    "        return self.decode(z),mu,logvar,z\n",
    "    #出力はxの予測値とzを算出するときの中心と分散になっている\n",
    "\n",
    "model = VAE().to(device)\n",
    "optimizer = optim.Adam(model.parameters(),lr=1e-3)"
   ],
   "metadata": {
    "collapsed": false,
    "pycharm": {
     "name": "#%%\n"
    }
   }
  },
  {
   "cell_type": "code",
   "execution_count": 73,
   "outputs": [],
   "source": [
    "def loss_function(recon_x,x,mu,logvar):\n",
    "    BCE = F.binary_cross_entropy(recon_x,x.view(-1,784),reduction='sum')\n",
    "    #recon_xはsigmoidをdecordeで通されているので、[0,1]になっている。\n",
    "    KLD = -0.5*torch.sum(1+logvar-mu.pow(2)-logvar.exp())\n",
    "\n",
    "    return BCE+KLD"
   ],
   "metadata": {
    "collapsed": false,
    "pycharm": {
     "name": "#%%\n"
    }
   }
  },
  {
   "cell_type": "code",
   "execution_count": 74,
   "outputs": [],
   "source": [
    "def train(epoch):\n",
    "    model.train()\n",
    "    train_loss = 0\n",
    "    for batch_idx, (data,_) in enumerate(train_loader):\n",
    "        #ラベルは使わないようだ\n",
    "        data = data.to(device)\n",
    "        #データをGPUにおくる\n",
    "        optimizer.zero_grad()\n",
    "        #傾きの初期化\n",
    "        recon_batch, mu, logvar,z = model(data)\n",
    "        #VAEからバッヂ分のデータと中心と分散のログを受け取る\n",
    "        loss = loss_function(recon_batch,data,mu,logvar)\n",
    "        #バッヂ分のロスを計算。バッヂ数で割っていないようだ。書き出しのときにデータ数で割っている。\n",
    "        loss.backward()\n",
    "        #傾きを計算\n",
    "        train_loss+= loss.item()\n",
    "        optimizer.step()\n",
    "        #パラメータの更新\n",
    "        if batch_idx % log_interval ==0:\n",
    "            #一定間隔でロスを書き出し。epochはここでしか使っていないようだ。\n",
    "            print('Train Epoch: {} [{}/{} ({:.0f}%)]\\tLoss: {:.6f}'.format(\n",
    "              epoch,batch_idx*len(data),len(train_loader.dataset),\n",
    "                100.*batch_idx/len(train_loader),\n",
    "                loss.item()/len(data)\n",
    "            ))"
   ],
   "metadata": {
    "collapsed": false,
    "pycharm": {
     "name": "#%%\n"
    }
   }
  },
  {
   "cell_type": "code",
   "execution_count": 75,
   "outputs": [],
   "source": [
    "def test(epoch):\n",
    "    model.eval()\n",
    "    test_loss = 0\n",
    "    with torch.no_grad():#バックプロパゲーションを行わないから、微分情報を残さない\n",
    "        for i, (data, _) in enumerate(test_loader):\n",
    "            #テストデータを取り出す。ラベルはいらない。\n",
    "            data =data.to(device)\n",
    "            #データをGPUに送る\n",
    "            recon_batch, mu, logvar,z = model(data)\n",
    "            #データからバッヂ分の再現画像と中心と分散の対数を出している。\n",
    "            test_loss += loss_function(recon_batch,data,mu,logvar).item()\n",
    "            #テストデータでのロスを出している\n",
    "            if i == 0:\n",
    "                #はじめのバッヂについて\n",
    "                n = min(data.size(0),16)\n",
    "                #nをバッヂのデータ数か８との小さい方として\n",
    "                comparizon = torch.cat([data[:n],recon_batch.view(batch_size,1,28,28)[:n]])\n",
    "                #元データと再現データを並べる\n",
    "                save_image(comparizon.cpu(),'./results/reconstruction_' + str(epoch) + '.png',nrow=n)\n",
    "\n",
    "                test_loss /= len(test_loader.dataset)\n",
    "                print('====> Test set loss: {:.4f}'.format(test_loss))"
   ],
   "metadata": {
    "collapsed": false,
    "pycharm": {
     "name": "#%%\n"
    }
   }
  },
  {
   "cell_type": "code",
   "execution_count": 76,
   "outputs": [
    {
     "name": "stdout",
     "output_type": "stream",
     "text": [
      "Train Epoch: 1 [0/60000 (0%)]\tLoss: 549.123242\n",
      "Train Epoch: 1 [1000/60000 (2%)]\tLoss: 314.406387\n",
      "Train Epoch: 1 [2000/60000 (3%)]\tLoss: 240.244512\n",
      "Train Epoch: 1 [3000/60000 (5%)]\tLoss: 225.325781\n",
      "Train Epoch: 1 [4000/60000 (7%)]\tLoss: 222.012266\n",
      "Train Epoch: 1 [5000/60000 (8%)]\tLoss: 216.436113\n",
      "Train Epoch: 1 [6000/60000 (10%)]\tLoss: 202.669961\n",
      "Train Epoch: 1 [7000/60000 (12%)]\tLoss: 198.753906\n",
      "Train Epoch: 1 [8000/60000 (13%)]\tLoss: 190.746621\n",
      "Train Epoch: 1 [9000/60000 (15%)]\tLoss: 191.243535\n",
      "Train Epoch: 1 [10000/60000 (17%)]\tLoss: 191.539453\n",
      "Train Epoch: 1 [11000/60000 (18%)]\tLoss: 182.237246\n",
      "Train Epoch: 1 [12000/60000 (20%)]\tLoss: 185.148496\n",
      "Train Epoch: 1 [13000/60000 (22%)]\tLoss: 170.769961\n",
      "Train Epoch: 1 [14000/60000 (23%)]\tLoss: 167.998633\n",
      "Train Epoch: 1 [15000/60000 (25%)]\tLoss: 165.640977\n",
      "Train Epoch: 1 [16000/60000 (27%)]\tLoss: 158.055449\n",
      "Train Epoch: 1 [17000/60000 (28%)]\tLoss: 154.618437\n",
      "Train Epoch: 1 [18000/60000 (30%)]\tLoss: 156.330713\n",
      "Train Epoch: 1 [19000/60000 (32%)]\tLoss: 156.083018\n",
      "Train Epoch: 1 [20000/60000 (33%)]\tLoss: 157.514727\n",
      "Train Epoch: 1 [21000/60000 (35%)]\tLoss: 145.280820\n",
      "Train Epoch: 1 [22000/60000 (37%)]\tLoss: 146.636309\n",
      "Train Epoch: 1 [23000/60000 (38%)]\tLoss: 154.679795\n",
      "Train Epoch: 1 [24000/60000 (40%)]\tLoss: 140.390537\n",
      "Train Epoch: 1 [25000/60000 (42%)]\tLoss: 149.092617\n",
      "Train Epoch: 1 [26000/60000 (43%)]\tLoss: 144.574453\n",
      "Train Epoch: 1 [27000/60000 (45%)]\tLoss: 148.627568\n",
      "Train Epoch: 1 [28000/60000 (47%)]\tLoss: 136.772559\n",
      "Train Epoch: 1 [29000/60000 (48%)]\tLoss: 139.989619\n",
      "Train Epoch: 1 [30000/60000 (50%)]\tLoss: 141.212578\n",
      "Train Epoch: 1 [31000/60000 (52%)]\tLoss: 139.971221\n",
      "Train Epoch: 1 [32000/60000 (53%)]\tLoss: 136.476533\n",
      "Train Epoch: 1 [33000/60000 (55%)]\tLoss: 142.894775\n",
      "Train Epoch: 1 [34000/60000 (57%)]\tLoss: 136.054961\n",
      "Train Epoch: 1 [35000/60000 (58%)]\tLoss: 133.949082\n",
      "Train Epoch: 1 [36000/60000 (60%)]\tLoss: 135.700703\n",
      "Train Epoch: 1 [37000/60000 (62%)]\tLoss: 134.685879\n",
      "Train Epoch: 1 [38000/60000 (63%)]\tLoss: 136.663262\n",
      "Train Epoch: 1 [39000/60000 (65%)]\tLoss: 128.615752\n",
      "Train Epoch: 1 [40000/60000 (67%)]\tLoss: 128.183203\n",
      "Train Epoch: 1 [41000/60000 (68%)]\tLoss: 129.146699\n",
      "Train Epoch: 1 [42000/60000 (70%)]\tLoss: 129.507529\n",
      "Train Epoch: 1 [43000/60000 (72%)]\tLoss: 128.359883\n",
      "Train Epoch: 1 [44000/60000 (73%)]\tLoss: 131.474561\n",
      "Train Epoch: 1 [45000/60000 (75%)]\tLoss: 123.150430\n",
      "Train Epoch: 1 [46000/60000 (77%)]\tLoss: 127.008906\n",
      "Train Epoch: 1 [47000/60000 (78%)]\tLoss: 128.810410\n",
      "Train Epoch: 1 [48000/60000 (80%)]\tLoss: 128.397939\n",
      "Train Epoch: 1 [49000/60000 (82%)]\tLoss: 126.355879\n",
      "Train Epoch: 1 [50000/60000 (83%)]\tLoss: 122.559922\n",
      "Train Epoch: 1 [51000/60000 (85%)]\tLoss: 123.257939\n",
      "Train Epoch: 1 [52000/60000 (87%)]\tLoss: 121.012217\n",
      "Train Epoch: 1 [53000/60000 (88%)]\tLoss: 122.433154\n",
      "Train Epoch: 1 [54000/60000 (90%)]\tLoss: 132.240371\n",
      "Train Epoch: 1 [55000/60000 (92%)]\tLoss: 127.734141\n",
      "Train Epoch: 1 [56000/60000 (93%)]\tLoss: 125.282930\n",
      "Train Epoch: 1 [57000/60000 (95%)]\tLoss: 127.686709\n",
      "Train Epoch: 1 [58000/60000 (97%)]\tLoss: 127.225840\n",
      "Train Epoch: 1 [59000/60000 (98%)]\tLoss: 128.966348\n",
      "====> Test set loss: 1.2548\n",
      "Train Epoch: 2 [0/60000 (0%)]\tLoss: 124.110635\n",
      "Train Epoch: 2 [1000/60000 (2%)]\tLoss: 122.452451\n",
      "Train Epoch: 2 [2000/60000 (3%)]\tLoss: 122.148428\n",
      "Train Epoch: 2 [3000/60000 (5%)]\tLoss: 125.295957\n",
      "Train Epoch: 2 [4000/60000 (7%)]\tLoss: 123.962324\n",
      "Train Epoch: 2 [5000/60000 (8%)]\tLoss: 121.128242\n",
      "Train Epoch: 2 [6000/60000 (10%)]\tLoss: 123.440996\n",
      "Train Epoch: 2 [7000/60000 (12%)]\tLoss: 117.673223\n",
      "Train Epoch: 2 [8000/60000 (13%)]\tLoss: 122.259189\n",
      "Train Epoch: 2 [9000/60000 (15%)]\tLoss: 120.976582\n",
      "Train Epoch: 2 [10000/60000 (17%)]\tLoss: 117.608164\n",
      "Train Epoch: 2 [11000/60000 (18%)]\tLoss: 122.038271\n",
      "Train Epoch: 2 [12000/60000 (20%)]\tLoss: 123.773809\n",
      "Train Epoch: 2 [13000/60000 (22%)]\tLoss: 126.867100\n",
      "Train Epoch: 2 [14000/60000 (23%)]\tLoss: 122.013037\n",
      "Train Epoch: 2 [15000/60000 (25%)]\tLoss: 127.572158\n",
      "Train Epoch: 2 [16000/60000 (27%)]\tLoss: 119.639785\n",
      "Train Epoch: 2 [17000/60000 (28%)]\tLoss: 120.265303\n",
      "Train Epoch: 2 [18000/60000 (30%)]\tLoss: 117.820977\n",
      "Train Epoch: 2 [19000/60000 (32%)]\tLoss: 119.275615\n",
      "Train Epoch: 2 [20000/60000 (33%)]\tLoss: 124.499824\n",
      "Train Epoch: 2 [21000/60000 (35%)]\tLoss: 115.944570\n",
      "Train Epoch: 2 [22000/60000 (37%)]\tLoss: 121.121250\n",
      "Train Epoch: 2 [23000/60000 (38%)]\tLoss: 122.428799\n",
      "Train Epoch: 2 [24000/60000 (40%)]\tLoss: 119.957227\n",
      "Train Epoch: 2 [25000/60000 (42%)]\tLoss: 121.928604\n",
      "Train Epoch: 2 [26000/60000 (43%)]\tLoss: 119.175977\n",
      "Train Epoch: 2 [27000/60000 (45%)]\tLoss: 120.802715\n",
      "Train Epoch: 2 [28000/60000 (47%)]\tLoss: 118.284443\n",
      "Train Epoch: 2 [29000/60000 (48%)]\tLoss: 120.812168\n",
      "Train Epoch: 2 [30000/60000 (50%)]\tLoss: 115.562949\n",
      "Train Epoch: 2 [31000/60000 (52%)]\tLoss: 118.488926\n",
      "Train Epoch: 2 [32000/60000 (53%)]\tLoss: 121.863877\n",
      "Train Epoch: 2 [33000/60000 (55%)]\tLoss: 119.385137\n",
      "Train Epoch: 2 [34000/60000 (57%)]\tLoss: 120.267920\n",
      "Train Epoch: 2 [35000/60000 (58%)]\tLoss: 119.998105\n",
      "Train Epoch: 2 [36000/60000 (60%)]\tLoss: 120.423613\n",
      "Train Epoch: 2 [37000/60000 (62%)]\tLoss: 120.477969\n",
      "Train Epoch: 2 [38000/60000 (63%)]\tLoss: 118.118965\n",
      "Train Epoch: 2 [39000/60000 (65%)]\tLoss: 114.648105\n",
      "Train Epoch: 2 [40000/60000 (67%)]\tLoss: 118.211289\n",
      "Train Epoch: 2 [41000/60000 (68%)]\tLoss: 119.882188\n",
      "Train Epoch: 2 [42000/60000 (70%)]\tLoss: 117.953848\n",
      "Train Epoch: 2 [43000/60000 (72%)]\tLoss: 117.341094\n",
      "Train Epoch: 2 [44000/60000 (73%)]\tLoss: 120.868730\n",
      "Train Epoch: 2 [45000/60000 (75%)]\tLoss: 119.123301\n",
      "Train Epoch: 2 [46000/60000 (77%)]\tLoss: 121.584102\n",
      "Train Epoch: 2 [47000/60000 (78%)]\tLoss: 115.994883\n",
      "Train Epoch: 2 [48000/60000 (80%)]\tLoss: 123.069766\n",
      "Train Epoch: 2 [49000/60000 (82%)]\tLoss: 114.359873\n",
      "Train Epoch: 2 [50000/60000 (83%)]\tLoss: 114.347441\n",
      "Train Epoch: 2 [51000/60000 (85%)]\tLoss: 116.072988\n",
      "Train Epoch: 2 [52000/60000 (87%)]\tLoss: 116.852119\n",
      "Train Epoch: 2 [53000/60000 (88%)]\tLoss: 111.861738\n",
      "Train Epoch: 2 [54000/60000 (90%)]\tLoss: 122.057764\n",
      "Train Epoch: 2 [55000/60000 (92%)]\tLoss: 112.140586\n",
      "Train Epoch: 2 [56000/60000 (93%)]\tLoss: 117.106328\n",
      "Train Epoch: 2 [57000/60000 (95%)]\tLoss: 110.601133\n",
      "Train Epoch: 2 [58000/60000 (97%)]\tLoss: 111.382832\n",
      "Train Epoch: 2 [59000/60000 (98%)]\tLoss: 123.294297\n",
      "====> Test set loss: 1.2175\n",
      "Train Epoch: 3 [0/60000 (0%)]\tLoss: 117.735498\n",
      "Train Epoch: 3 [1000/60000 (2%)]\tLoss: 123.268262\n",
      "Train Epoch: 3 [2000/60000 (3%)]\tLoss: 115.586855\n",
      "Train Epoch: 3 [3000/60000 (5%)]\tLoss: 115.478164\n",
      "Train Epoch: 3 [4000/60000 (7%)]\tLoss: 113.860039\n",
      "Train Epoch: 3 [5000/60000 (8%)]\tLoss: 121.170186\n",
      "Train Epoch: 3 [6000/60000 (10%)]\tLoss: 122.311045\n",
      "Train Epoch: 3 [7000/60000 (12%)]\tLoss: 115.949443\n",
      "Train Epoch: 3 [8000/60000 (13%)]\tLoss: 119.835840\n",
      "Train Epoch: 3 [9000/60000 (15%)]\tLoss: 114.704678\n",
      "Train Epoch: 3 [10000/60000 (17%)]\tLoss: 122.648633\n",
      "Train Epoch: 3 [11000/60000 (18%)]\tLoss: 115.018271\n",
      "Train Epoch: 3 [12000/60000 (20%)]\tLoss: 114.791455\n",
      "Train Epoch: 3 [13000/60000 (22%)]\tLoss: 107.421807\n",
      "Train Epoch: 3 [14000/60000 (23%)]\tLoss: 115.827451\n",
      "Train Epoch: 3 [15000/60000 (25%)]\tLoss: 115.956602\n",
      "Train Epoch: 3 [16000/60000 (27%)]\tLoss: 110.315947\n",
      "Train Epoch: 3 [17000/60000 (28%)]\tLoss: 116.161064\n",
      "Train Epoch: 3 [18000/60000 (30%)]\tLoss: 114.906113\n",
      "Train Epoch: 3 [19000/60000 (32%)]\tLoss: 113.066504\n",
      "Train Epoch: 3 [20000/60000 (33%)]\tLoss: 109.807236\n",
      "Train Epoch: 3 [21000/60000 (35%)]\tLoss: 112.378262\n",
      "Train Epoch: 3 [22000/60000 (37%)]\tLoss: 112.740801\n",
      "Train Epoch: 3 [23000/60000 (38%)]\tLoss: 116.000078\n",
      "Train Epoch: 3 [24000/60000 (40%)]\tLoss: 112.908223\n",
      "Train Epoch: 3 [25000/60000 (42%)]\tLoss: 116.726953\n",
      "Train Epoch: 3 [26000/60000 (43%)]\tLoss: 114.360469\n",
      "Train Epoch: 3 [27000/60000 (45%)]\tLoss: 116.886426\n",
      "Train Epoch: 3 [28000/60000 (47%)]\tLoss: 112.107559\n",
      "Train Epoch: 3 [29000/60000 (48%)]\tLoss: 113.859785\n",
      "Train Epoch: 3 [30000/60000 (50%)]\tLoss: 115.958105\n",
      "Train Epoch: 3 [31000/60000 (52%)]\tLoss: 107.288008\n",
      "Train Epoch: 3 [32000/60000 (53%)]\tLoss: 113.028750\n",
      "Train Epoch: 3 [33000/60000 (55%)]\tLoss: 108.462148\n",
      "Train Epoch: 3 [34000/60000 (57%)]\tLoss: 114.406113\n",
      "Train Epoch: 3 [35000/60000 (58%)]\tLoss: 117.577471\n",
      "Train Epoch: 3 [36000/60000 (60%)]\tLoss: 120.076289\n",
      "Train Epoch: 3 [37000/60000 (62%)]\tLoss: 117.594229\n",
      "Train Epoch: 3 [38000/60000 (63%)]\tLoss: 113.731465\n",
      "Train Epoch: 3 [39000/60000 (65%)]\tLoss: 113.801318\n",
      "Train Epoch: 3 [40000/60000 (67%)]\tLoss: 111.652969\n",
      "Train Epoch: 3 [41000/60000 (68%)]\tLoss: 113.440459\n",
      "Train Epoch: 3 [42000/60000 (70%)]\tLoss: 113.933604\n",
      "Train Epoch: 3 [43000/60000 (72%)]\tLoss: 115.799648\n",
      "Train Epoch: 3 [44000/60000 (73%)]\tLoss: 111.951992\n",
      "Train Epoch: 3 [45000/60000 (75%)]\tLoss: 112.130039\n",
      "Train Epoch: 3 [46000/60000 (77%)]\tLoss: 111.261279\n",
      "Train Epoch: 3 [47000/60000 (78%)]\tLoss: 113.330537\n",
      "Train Epoch: 3 [48000/60000 (80%)]\tLoss: 116.240439\n",
      "Train Epoch: 3 [49000/60000 (82%)]\tLoss: 114.738311\n",
      "Train Epoch: 3 [50000/60000 (83%)]\tLoss: 112.021582\n",
      "Train Epoch: 3 [51000/60000 (85%)]\tLoss: 112.578691\n",
      "Train Epoch: 3 [52000/60000 (87%)]\tLoss: 115.396250\n",
      "Train Epoch: 3 [53000/60000 (88%)]\tLoss: 116.243076\n",
      "Train Epoch: 3 [54000/60000 (90%)]\tLoss: 111.469590\n",
      "Train Epoch: 3 [55000/60000 (92%)]\tLoss: 107.433906\n",
      "Train Epoch: 3 [56000/60000 (93%)]\tLoss: 114.326562\n",
      "Train Epoch: 3 [57000/60000 (95%)]\tLoss: 106.876318\n",
      "Train Epoch: 3 [58000/60000 (97%)]\tLoss: 116.148994\n",
      "Train Epoch: 3 [59000/60000 (98%)]\tLoss: 112.745000\n",
      "====> Test set loss: 1.1201\n",
      "Train Epoch: 4 [0/60000 (0%)]\tLoss: 110.607187\n",
      "Train Epoch: 4 [1000/60000 (2%)]\tLoss: 110.487715\n",
      "Train Epoch: 4 [2000/60000 (3%)]\tLoss: 112.937715\n",
      "Train Epoch: 4 [3000/60000 (5%)]\tLoss: 109.397061\n",
      "Train Epoch: 4 [4000/60000 (7%)]\tLoss: 119.978857\n",
      "Train Epoch: 4 [5000/60000 (8%)]\tLoss: 115.507871\n",
      "Train Epoch: 4 [6000/60000 (10%)]\tLoss: 108.221211\n",
      "Train Epoch: 4 [7000/60000 (12%)]\tLoss: 112.308643\n",
      "Train Epoch: 4 [8000/60000 (13%)]\tLoss: 111.857871\n",
      "Train Epoch: 4 [9000/60000 (15%)]\tLoss: 112.534805\n",
      "Train Epoch: 4 [10000/60000 (17%)]\tLoss: 114.935713\n",
      "Train Epoch: 4 [11000/60000 (18%)]\tLoss: 112.839795\n",
      "Train Epoch: 4 [12000/60000 (20%)]\tLoss: 118.396025\n",
      "Train Epoch: 4 [13000/60000 (22%)]\tLoss: 110.449814\n",
      "Train Epoch: 4 [14000/60000 (23%)]\tLoss: 111.738672\n",
      "Train Epoch: 4 [15000/60000 (25%)]\tLoss: 116.320166\n",
      "Train Epoch: 4 [16000/60000 (27%)]\tLoss: 109.954854\n",
      "Train Epoch: 4 [17000/60000 (28%)]\tLoss: 117.814307\n",
      "Train Epoch: 4 [18000/60000 (30%)]\tLoss: 112.328418\n",
      "Train Epoch: 4 [19000/60000 (32%)]\tLoss: 113.398350\n",
      "Train Epoch: 4 [20000/60000 (33%)]\tLoss: 113.877764\n",
      "Train Epoch: 4 [21000/60000 (35%)]\tLoss: 112.708984\n",
      "Train Epoch: 4 [22000/60000 (37%)]\tLoss: 111.149883\n",
      "Train Epoch: 4 [23000/60000 (38%)]\tLoss: 113.656123\n",
      "Train Epoch: 4 [24000/60000 (40%)]\tLoss: 116.656895\n",
      "Train Epoch: 4 [25000/60000 (42%)]\tLoss: 109.054551\n",
      "Train Epoch: 4 [26000/60000 (43%)]\tLoss: 106.633096\n",
      "Train Epoch: 4 [27000/60000 (45%)]\tLoss: 113.226523\n",
      "Train Epoch: 4 [28000/60000 (47%)]\tLoss: 121.478672\n",
      "Train Epoch: 4 [29000/60000 (48%)]\tLoss: 105.374971\n",
      "Train Epoch: 4 [30000/60000 (50%)]\tLoss: 106.769590\n",
      "Train Epoch: 4 [31000/60000 (52%)]\tLoss: 109.378223\n",
      "Train Epoch: 4 [32000/60000 (53%)]\tLoss: 111.916416\n",
      "Train Epoch: 4 [33000/60000 (55%)]\tLoss: 110.047891\n",
      "Train Epoch: 4 [34000/60000 (57%)]\tLoss: 112.223281\n",
      "Train Epoch: 4 [35000/60000 (58%)]\tLoss: 115.598750\n",
      "Train Epoch: 4 [36000/60000 (60%)]\tLoss: 107.307324\n",
      "Train Epoch: 4 [37000/60000 (62%)]\tLoss: 112.126504\n",
      "Train Epoch: 4 [38000/60000 (63%)]\tLoss: 114.102539\n",
      "Train Epoch: 4 [39000/60000 (65%)]\tLoss: 108.608496\n",
      "Train Epoch: 4 [40000/60000 (67%)]\tLoss: 109.701104\n",
      "Train Epoch: 4 [41000/60000 (68%)]\tLoss: 111.236406\n",
      "Train Epoch: 4 [42000/60000 (70%)]\tLoss: 116.505332\n",
      "Train Epoch: 4 [43000/60000 (72%)]\tLoss: 110.285371\n",
      "Train Epoch: 4 [44000/60000 (73%)]\tLoss: 111.220010\n",
      "Train Epoch: 4 [45000/60000 (75%)]\tLoss: 108.421777\n",
      "Train Epoch: 4 [46000/60000 (77%)]\tLoss: 110.478418\n",
      "Train Epoch: 4 [47000/60000 (78%)]\tLoss: 108.794609\n",
      "Train Epoch: 4 [48000/60000 (80%)]\tLoss: 113.742773\n",
      "Train Epoch: 4 [49000/60000 (82%)]\tLoss: 111.196836\n",
      "Train Epoch: 4 [50000/60000 (83%)]\tLoss: 109.447969\n",
      "Train Epoch: 4 [51000/60000 (85%)]\tLoss: 112.422207\n",
      "Train Epoch: 4 [52000/60000 (87%)]\tLoss: 113.266631\n",
      "Train Epoch: 4 [53000/60000 (88%)]\tLoss: 110.673857\n",
      "Train Epoch: 4 [54000/60000 (90%)]\tLoss: 111.244297\n",
      "Train Epoch: 4 [55000/60000 (92%)]\tLoss: 111.588652\n",
      "Train Epoch: 4 [56000/60000 (93%)]\tLoss: 107.959883\n",
      "Train Epoch: 4 [57000/60000 (95%)]\tLoss: 106.850059\n",
      "Train Epoch: 4 [58000/60000 (97%)]\tLoss: 106.750039\n",
      "Train Epoch: 4 [59000/60000 (98%)]\tLoss: 115.401377\n",
      "====> Test set loss: 1.1249\n",
      "Train Epoch: 5 [0/60000 (0%)]\tLoss: 107.521465\n",
      "Train Epoch: 5 [1000/60000 (2%)]\tLoss: 111.872129\n",
      "Train Epoch: 5 [2000/60000 (3%)]\tLoss: 111.032461\n",
      "Train Epoch: 5 [3000/60000 (5%)]\tLoss: 112.902676\n",
      "Train Epoch: 5 [4000/60000 (7%)]\tLoss: 116.045566\n",
      "Train Epoch: 5 [5000/60000 (8%)]\tLoss: 112.544707\n",
      "Train Epoch: 5 [6000/60000 (10%)]\tLoss: 116.217666\n",
      "Train Epoch: 5 [7000/60000 (12%)]\tLoss: 110.677295\n",
      "Train Epoch: 5 [8000/60000 (13%)]\tLoss: 114.300645\n",
      "Train Epoch: 5 [9000/60000 (15%)]\tLoss: 114.977588\n",
      "Train Epoch: 5 [10000/60000 (17%)]\tLoss: 107.033184\n",
      "Train Epoch: 5 [11000/60000 (18%)]\tLoss: 108.470098\n",
      "Train Epoch: 5 [12000/60000 (20%)]\tLoss: 111.133232\n",
      "Train Epoch: 5 [13000/60000 (22%)]\tLoss: 114.072754\n",
      "Train Epoch: 5 [14000/60000 (23%)]\tLoss: 113.944873\n",
      "Train Epoch: 5 [15000/60000 (25%)]\tLoss: 107.794727\n",
      "Train Epoch: 5 [16000/60000 (27%)]\tLoss: 110.789316\n",
      "Train Epoch: 5 [17000/60000 (28%)]\tLoss: 113.540566\n",
      "Train Epoch: 5 [18000/60000 (30%)]\tLoss: 108.358145\n",
      "Train Epoch: 5 [19000/60000 (32%)]\tLoss: 110.742959\n",
      "Train Epoch: 5 [20000/60000 (33%)]\tLoss: 112.658496\n",
      "Train Epoch: 5 [21000/60000 (35%)]\tLoss: 105.141016\n",
      "Train Epoch: 5 [22000/60000 (37%)]\tLoss: 109.420859\n",
      "Train Epoch: 5 [23000/60000 (38%)]\tLoss: 109.298984\n",
      "Train Epoch: 5 [24000/60000 (40%)]\tLoss: 112.640898\n",
      "Train Epoch: 5 [25000/60000 (42%)]\tLoss: 109.256064\n",
      "Train Epoch: 5 [26000/60000 (43%)]\tLoss: 111.287148\n",
      "Train Epoch: 5 [27000/60000 (45%)]\tLoss: 109.729209\n",
      "Train Epoch: 5 [28000/60000 (47%)]\tLoss: 111.298262\n",
      "Train Epoch: 5 [29000/60000 (48%)]\tLoss: 110.116465\n",
      "Train Epoch: 5 [30000/60000 (50%)]\tLoss: 116.410977\n",
      "Train Epoch: 5 [31000/60000 (52%)]\tLoss: 113.773770\n",
      "Train Epoch: 5 [32000/60000 (53%)]\tLoss: 105.579473\n",
      "Train Epoch: 5 [33000/60000 (55%)]\tLoss: 106.046055\n",
      "Train Epoch: 5 [34000/60000 (57%)]\tLoss: 112.282168\n",
      "Train Epoch: 5 [35000/60000 (58%)]\tLoss: 111.004805\n",
      "Train Epoch: 5 [36000/60000 (60%)]\tLoss: 104.855352\n",
      "Train Epoch: 5 [37000/60000 (62%)]\tLoss: 108.744707\n",
      "Train Epoch: 5 [38000/60000 (63%)]\tLoss: 107.998086\n",
      "Train Epoch: 5 [39000/60000 (65%)]\tLoss: 103.912051\n",
      "Train Epoch: 5 [40000/60000 (67%)]\tLoss: 109.215000\n",
      "Train Epoch: 5 [41000/60000 (68%)]\tLoss: 112.276035\n",
      "Train Epoch: 5 [42000/60000 (70%)]\tLoss: 110.002520\n",
      "Train Epoch: 5 [43000/60000 (72%)]\tLoss: 106.172637\n",
      "Train Epoch: 5 [44000/60000 (73%)]\tLoss: 111.091172\n",
      "Train Epoch: 5 [45000/60000 (75%)]\tLoss: 114.376563\n",
      "Train Epoch: 5 [46000/60000 (77%)]\tLoss: 113.605654\n",
      "Train Epoch: 5 [47000/60000 (78%)]\tLoss: 107.291045\n",
      "Train Epoch: 5 [48000/60000 (80%)]\tLoss: 114.945859\n",
      "Train Epoch: 5 [49000/60000 (82%)]\tLoss: 107.080127\n",
      "Train Epoch: 5 [50000/60000 (83%)]\tLoss: 108.734180\n",
      "Train Epoch: 5 [51000/60000 (85%)]\tLoss: 109.668291\n",
      "Train Epoch: 5 [52000/60000 (87%)]\tLoss: 106.420137\n",
      "Train Epoch: 5 [53000/60000 (88%)]\tLoss: 107.178555\n",
      "Train Epoch: 5 [54000/60000 (90%)]\tLoss: 105.657813\n",
      "Train Epoch: 5 [55000/60000 (92%)]\tLoss: 111.342207\n",
      "Train Epoch: 5 [56000/60000 (93%)]\tLoss: 108.081270\n",
      "Train Epoch: 5 [57000/60000 (95%)]\tLoss: 105.437881\n",
      "Train Epoch: 5 [58000/60000 (97%)]\tLoss: 110.614902\n",
      "Train Epoch: 5 [59000/60000 (98%)]\tLoss: 107.436787\n",
      "====> Test set loss: 1.1148\n",
      "Train Epoch: 6 [0/60000 (0%)]\tLoss: 110.392568\n",
      "Train Epoch: 6 [1000/60000 (2%)]\tLoss: 117.006445\n",
      "Train Epoch: 6 [2000/60000 (3%)]\tLoss: 111.672773\n",
      "Train Epoch: 6 [3000/60000 (5%)]\tLoss: 112.605254\n",
      "Train Epoch: 6 [4000/60000 (7%)]\tLoss: 112.247930\n",
      "Train Epoch: 6 [5000/60000 (8%)]\tLoss: 104.249922\n",
      "Train Epoch: 6 [6000/60000 (10%)]\tLoss: 107.738271\n",
      "Train Epoch: 6 [7000/60000 (12%)]\tLoss: 111.839307\n",
      "Train Epoch: 6 [8000/60000 (13%)]\tLoss: 109.525771\n",
      "Train Epoch: 6 [9000/60000 (15%)]\tLoss: 110.390078\n",
      "Train Epoch: 6 [10000/60000 (17%)]\tLoss: 108.232832\n",
      "Train Epoch: 6 [11000/60000 (18%)]\tLoss: 109.568516\n",
      "Train Epoch: 6 [12000/60000 (20%)]\tLoss: 107.529980\n",
      "Train Epoch: 6 [13000/60000 (22%)]\tLoss: 105.479004\n",
      "Train Epoch: 6 [14000/60000 (23%)]\tLoss: 106.860088\n",
      "Train Epoch: 6 [15000/60000 (25%)]\tLoss: 108.852656\n",
      "Train Epoch: 6 [16000/60000 (27%)]\tLoss: 110.650410\n",
      "Train Epoch: 6 [17000/60000 (28%)]\tLoss: 109.582168\n",
      "Train Epoch: 6 [18000/60000 (30%)]\tLoss: 109.188203\n",
      "Train Epoch: 6 [19000/60000 (32%)]\tLoss: 108.628867\n",
      "Train Epoch: 6 [20000/60000 (33%)]\tLoss: 105.858242\n",
      "Train Epoch: 6 [21000/60000 (35%)]\tLoss: 110.622461\n",
      "Train Epoch: 6 [22000/60000 (37%)]\tLoss: 112.751426\n",
      "Train Epoch: 6 [23000/60000 (38%)]\tLoss: 107.750996\n",
      "Train Epoch: 6 [24000/60000 (40%)]\tLoss: 109.888193\n",
      "Train Epoch: 6 [25000/60000 (42%)]\tLoss: 115.830078\n",
      "Train Epoch: 6 [26000/60000 (43%)]\tLoss: 107.110342\n",
      "Train Epoch: 6 [27000/60000 (45%)]\tLoss: 107.511250\n",
      "Train Epoch: 6 [28000/60000 (47%)]\tLoss: 116.065977\n",
      "Train Epoch: 6 [29000/60000 (48%)]\tLoss: 113.784072\n",
      "Train Epoch: 6 [30000/60000 (50%)]\tLoss: 107.251719\n",
      "Train Epoch: 6 [31000/60000 (52%)]\tLoss: 111.534824\n",
      "Train Epoch: 6 [32000/60000 (53%)]\tLoss: 112.778730\n",
      "Train Epoch: 6 [33000/60000 (55%)]\tLoss: 113.439756\n",
      "Train Epoch: 6 [34000/60000 (57%)]\tLoss: 110.329375\n",
      "Train Epoch: 6 [35000/60000 (58%)]\tLoss: 110.567119\n",
      "Train Epoch: 6 [36000/60000 (60%)]\tLoss: 109.193809\n",
      "Train Epoch: 6 [37000/60000 (62%)]\tLoss: 114.791982\n",
      "Train Epoch: 6 [38000/60000 (63%)]\tLoss: 106.551602\n",
      "Train Epoch: 6 [39000/60000 (65%)]\tLoss: 106.624375\n",
      "Train Epoch: 6 [40000/60000 (67%)]\tLoss: 107.973027\n",
      "Train Epoch: 6 [41000/60000 (68%)]\tLoss: 104.436211\n",
      "Train Epoch: 6 [42000/60000 (70%)]\tLoss: 105.082090\n",
      "Train Epoch: 6 [43000/60000 (72%)]\tLoss: 112.493281\n",
      "Train Epoch: 6 [44000/60000 (73%)]\tLoss: 109.734551\n",
      "Train Epoch: 6 [45000/60000 (75%)]\tLoss: 105.808447\n",
      "Train Epoch: 6 [46000/60000 (77%)]\tLoss: 107.196875\n",
      "Train Epoch: 6 [47000/60000 (78%)]\tLoss: 109.473145\n",
      "Train Epoch: 6 [48000/60000 (80%)]\tLoss: 110.616162\n",
      "Train Epoch: 6 [49000/60000 (82%)]\tLoss: 105.740098\n",
      "Train Epoch: 6 [50000/60000 (83%)]\tLoss: 105.704600\n",
      "Train Epoch: 6 [51000/60000 (85%)]\tLoss: 108.783037\n",
      "Train Epoch: 6 [52000/60000 (87%)]\tLoss: 108.375693\n",
      "Train Epoch: 6 [53000/60000 (88%)]\tLoss: 109.851094\n",
      "Train Epoch: 6 [54000/60000 (90%)]\tLoss: 106.144697\n",
      "Train Epoch: 6 [55000/60000 (92%)]\tLoss: 108.021816\n",
      "Train Epoch: 6 [56000/60000 (93%)]\tLoss: 110.865557\n",
      "Train Epoch: 6 [57000/60000 (95%)]\tLoss: 107.348838\n",
      "Train Epoch: 6 [58000/60000 (97%)]\tLoss: 111.744307\n",
      "Train Epoch: 6 [59000/60000 (98%)]\tLoss: 104.483125\n",
      "====> Test set loss: 1.0802\n",
      "Train Epoch: 7 [0/60000 (0%)]\tLoss: 110.070830\n",
      "Train Epoch: 7 [1000/60000 (2%)]\tLoss: 105.279434\n",
      "Train Epoch: 7 [2000/60000 (3%)]\tLoss: 103.156035\n",
      "Train Epoch: 7 [3000/60000 (5%)]\tLoss: 109.630703\n",
      "Train Epoch: 7 [4000/60000 (7%)]\tLoss: 111.013965\n",
      "Train Epoch: 7 [5000/60000 (8%)]\tLoss: 108.326328\n",
      "Train Epoch: 7 [6000/60000 (10%)]\tLoss: 107.492539\n",
      "Train Epoch: 7 [7000/60000 (12%)]\tLoss: 104.463135\n",
      "Train Epoch: 7 [8000/60000 (13%)]\tLoss: 111.580879\n",
      "Train Epoch: 7 [9000/60000 (15%)]\tLoss: 112.795068\n",
      "Train Epoch: 7 [10000/60000 (17%)]\tLoss: 111.542354\n",
      "Train Epoch: 7 [11000/60000 (18%)]\tLoss: 107.623594\n",
      "Train Epoch: 7 [12000/60000 (20%)]\tLoss: 112.442461\n",
      "Train Epoch: 7 [13000/60000 (22%)]\tLoss: 108.037207\n",
      "Train Epoch: 7 [14000/60000 (23%)]\tLoss: 109.490566\n",
      "Train Epoch: 7 [15000/60000 (25%)]\tLoss: 107.135039\n",
      "Train Epoch: 7 [16000/60000 (27%)]\tLoss: 110.213633\n",
      "Train Epoch: 7 [17000/60000 (28%)]\tLoss: 106.538984\n",
      "Train Epoch: 7 [18000/60000 (30%)]\tLoss: 115.151572\n",
      "Train Epoch: 7 [19000/60000 (32%)]\tLoss: 112.239854\n",
      "Train Epoch: 7 [20000/60000 (33%)]\tLoss: 105.643496\n",
      "Train Epoch: 7 [21000/60000 (35%)]\tLoss: 107.898857\n",
      "Train Epoch: 7 [22000/60000 (37%)]\tLoss: 107.673525\n",
      "Train Epoch: 7 [23000/60000 (38%)]\tLoss: 110.210566\n",
      "Train Epoch: 7 [24000/60000 (40%)]\tLoss: 102.579688\n",
      "Train Epoch: 7 [25000/60000 (42%)]\tLoss: 103.940313\n",
      "Train Epoch: 7 [26000/60000 (43%)]\tLoss: 109.628848\n",
      "Train Epoch: 7 [27000/60000 (45%)]\tLoss: 110.123418\n",
      "Train Epoch: 7 [28000/60000 (47%)]\tLoss: 106.680312\n",
      "Train Epoch: 7 [29000/60000 (48%)]\tLoss: 111.848340\n",
      "Train Epoch: 7 [30000/60000 (50%)]\tLoss: 111.269453\n",
      "Train Epoch: 7 [31000/60000 (52%)]\tLoss: 109.411250\n",
      "Train Epoch: 7 [32000/60000 (53%)]\tLoss: 110.947773\n",
      "Train Epoch: 7 [33000/60000 (55%)]\tLoss: 113.014199\n",
      "Train Epoch: 7 [34000/60000 (57%)]\tLoss: 109.575566\n",
      "Train Epoch: 7 [35000/60000 (58%)]\tLoss: 103.620742\n",
      "Train Epoch: 7 [36000/60000 (60%)]\tLoss: 110.855537\n",
      "Train Epoch: 7 [37000/60000 (62%)]\tLoss: 108.112998\n",
      "Train Epoch: 7 [38000/60000 (63%)]\tLoss: 107.798730\n",
      "Train Epoch: 7 [39000/60000 (65%)]\tLoss: 111.338184\n",
      "Train Epoch: 7 [40000/60000 (67%)]\tLoss: 108.749062\n",
      "Train Epoch: 7 [41000/60000 (68%)]\tLoss: 114.085723\n",
      "Train Epoch: 7 [42000/60000 (70%)]\tLoss: 107.413867\n",
      "Train Epoch: 7 [43000/60000 (72%)]\tLoss: 105.677539\n",
      "Train Epoch: 7 [44000/60000 (73%)]\tLoss: 103.517793\n",
      "Train Epoch: 7 [45000/60000 (75%)]\tLoss: 108.365098\n",
      "Train Epoch: 7 [46000/60000 (77%)]\tLoss: 111.577520\n",
      "Train Epoch: 7 [47000/60000 (78%)]\tLoss: 104.940391\n",
      "Train Epoch: 7 [48000/60000 (80%)]\tLoss: 101.944443\n",
      "Train Epoch: 7 [49000/60000 (82%)]\tLoss: 107.513975\n",
      "Train Epoch: 7 [50000/60000 (83%)]\tLoss: 105.741367\n",
      "Train Epoch: 7 [51000/60000 (85%)]\tLoss: 107.733350\n",
      "Train Epoch: 7 [52000/60000 (87%)]\tLoss: 112.475703\n",
      "Train Epoch: 7 [53000/60000 (88%)]\tLoss: 109.981846\n",
      "Train Epoch: 7 [54000/60000 (90%)]\tLoss: 106.824160\n",
      "Train Epoch: 7 [55000/60000 (92%)]\tLoss: 109.001250\n",
      "Train Epoch: 7 [56000/60000 (93%)]\tLoss: 108.212734\n",
      "Train Epoch: 7 [57000/60000 (95%)]\tLoss: 106.702090\n",
      "Train Epoch: 7 [58000/60000 (97%)]\tLoss: 108.765527\n",
      "Train Epoch: 7 [59000/60000 (98%)]\tLoss: 112.672285\n",
      "====> Test set loss: 1.0419\n",
      "Train Epoch: 8 [0/60000 (0%)]\tLoss: 103.049082\n",
      "Train Epoch: 8 [1000/60000 (2%)]\tLoss: 109.847070\n",
      "Train Epoch: 8 [2000/60000 (3%)]\tLoss: 109.207832\n",
      "Train Epoch: 8 [3000/60000 (5%)]\tLoss: 107.595547\n",
      "Train Epoch: 8 [4000/60000 (7%)]\tLoss: 111.259687\n",
      "Train Epoch: 8 [5000/60000 (8%)]\tLoss: 109.870000\n",
      "Train Epoch: 8 [6000/60000 (10%)]\tLoss: 110.056914\n",
      "Train Epoch: 8 [7000/60000 (12%)]\tLoss: 105.583770\n",
      "Train Epoch: 8 [8000/60000 (13%)]\tLoss: 109.080117\n",
      "Train Epoch: 8 [9000/60000 (15%)]\tLoss: 110.235566\n",
      "Train Epoch: 8 [10000/60000 (17%)]\tLoss: 107.481826\n",
      "Train Epoch: 8 [11000/60000 (18%)]\tLoss: 104.959785\n",
      "Train Epoch: 8 [12000/60000 (20%)]\tLoss: 108.091172\n",
      "Train Epoch: 8 [13000/60000 (22%)]\tLoss: 108.601367\n",
      "Train Epoch: 8 [14000/60000 (23%)]\tLoss: 110.288301\n",
      "Train Epoch: 8 [15000/60000 (25%)]\tLoss: 106.819795\n",
      "Train Epoch: 8 [16000/60000 (27%)]\tLoss: 108.429277\n",
      "Train Epoch: 8 [17000/60000 (28%)]\tLoss: 109.357266\n",
      "Train Epoch: 8 [18000/60000 (30%)]\tLoss: 111.753516\n",
      "Train Epoch: 8 [19000/60000 (32%)]\tLoss: 106.745937\n",
      "Train Epoch: 8 [20000/60000 (33%)]\tLoss: 104.430957\n",
      "Train Epoch: 8 [21000/60000 (35%)]\tLoss: 108.238652\n",
      "Train Epoch: 8 [22000/60000 (37%)]\tLoss: 109.031953\n",
      "Train Epoch: 8 [23000/60000 (38%)]\tLoss: 108.694336\n",
      "Train Epoch: 8 [24000/60000 (40%)]\tLoss: 108.962471\n",
      "Train Epoch: 8 [25000/60000 (42%)]\tLoss: 106.329121\n",
      "Train Epoch: 8 [26000/60000 (43%)]\tLoss: 105.048184\n",
      "Train Epoch: 8 [27000/60000 (45%)]\tLoss: 105.563643\n",
      "Train Epoch: 8 [28000/60000 (47%)]\tLoss: 103.292070\n",
      "Train Epoch: 8 [29000/60000 (48%)]\tLoss: 106.856387\n",
      "Train Epoch: 8 [30000/60000 (50%)]\tLoss: 106.194277\n",
      "Train Epoch: 8 [31000/60000 (52%)]\tLoss: 113.019072\n",
      "Train Epoch: 8 [32000/60000 (53%)]\tLoss: 107.370176\n",
      "Train Epoch: 8 [33000/60000 (55%)]\tLoss: 110.371084\n",
      "Train Epoch: 8 [34000/60000 (57%)]\tLoss: 110.664043\n",
      "Train Epoch: 8 [35000/60000 (58%)]\tLoss: 106.015508\n",
      "Train Epoch: 8 [36000/60000 (60%)]\tLoss: 104.473027\n",
      "Train Epoch: 8 [37000/60000 (62%)]\tLoss: 109.038105\n",
      "Train Epoch: 8 [38000/60000 (63%)]\tLoss: 111.803330\n",
      "Train Epoch: 8 [39000/60000 (65%)]\tLoss: 102.852354\n",
      "Train Epoch: 8 [40000/60000 (67%)]\tLoss: 105.307715\n",
      "Train Epoch: 8 [41000/60000 (68%)]\tLoss: 110.686191\n",
      "Train Epoch: 8 [42000/60000 (70%)]\tLoss: 109.849014\n",
      "Train Epoch: 8 [43000/60000 (72%)]\tLoss: 111.755547\n",
      "Train Epoch: 8 [44000/60000 (73%)]\tLoss: 106.779326\n",
      "Train Epoch: 8 [45000/60000 (75%)]\tLoss: 107.966475\n",
      "Train Epoch: 8 [46000/60000 (77%)]\tLoss: 104.797520\n",
      "Train Epoch: 8 [47000/60000 (78%)]\tLoss: 109.382471\n",
      "Train Epoch: 8 [48000/60000 (80%)]\tLoss: 109.518740\n",
      "Train Epoch: 8 [49000/60000 (82%)]\tLoss: 104.799199\n",
      "Train Epoch: 8 [50000/60000 (83%)]\tLoss: 110.839189\n",
      "Train Epoch: 8 [51000/60000 (85%)]\tLoss: 110.033301\n",
      "Train Epoch: 8 [52000/60000 (87%)]\tLoss: 109.863535\n",
      "Train Epoch: 8 [53000/60000 (88%)]\tLoss: 111.851182\n",
      "Train Epoch: 8 [54000/60000 (90%)]\tLoss: 110.546445\n",
      "Train Epoch: 8 [55000/60000 (92%)]\tLoss: 103.062930\n",
      "Train Epoch: 8 [56000/60000 (93%)]\tLoss: 109.000762\n",
      "Train Epoch: 8 [57000/60000 (95%)]\tLoss: 109.660938\n",
      "Train Epoch: 8 [58000/60000 (97%)]\tLoss: 99.938447\n",
      "Train Epoch: 8 [59000/60000 (98%)]\tLoss: 107.874961\n",
      "====> Test set loss: 1.0610\n",
      "Train Epoch: 9 [0/60000 (0%)]\tLoss: 106.258203\n",
      "Train Epoch: 9 [1000/60000 (2%)]\tLoss: 111.087227\n",
      "Train Epoch: 9 [2000/60000 (3%)]\tLoss: 107.579990\n",
      "Train Epoch: 9 [3000/60000 (5%)]\tLoss: 107.404590\n",
      "Train Epoch: 9 [4000/60000 (7%)]\tLoss: 106.927432\n",
      "Train Epoch: 9 [5000/60000 (8%)]\tLoss: 111.053984\n",
      "Train Epoch: 9 [6000/60000 (10%)]\tLoss: 105.693701\n",
      "Train Epoch: 9 [7000/60000 (12%)]\tLoss: 108.494697\n",
      "Train Epoch: 9 [8000/60000 (13%)]\tLoss: 108.644121\n",
      "Train Epoch: 9 [9000/60000 (15%)]\tLoss: 109.302051\n",
      "Train Epoch: 9 [10000/60000 (17%)]\tLoss: 101.569854\n",
      "Train Epoch: 9 [11000/60000 (18%)]\tLoss: 105.985176\n",
      "Train Epoch: 9 [12000/60000 (20%)]\tLoss: 107.355137\n",
      "Train Epoch: 9 [13000/60000 (22%)]\tLoss: 105.141172\n",
      "Train Epoch: 9 [14000/60000 (23%)]\tLoss: 108.238291\n",
      "Train Epoch: 9 [15000/60000 (25%)]\tLoss: 104.178965\n",
      "Train Epoch: 9 [16000/60000 (27%)]\tLoss: 111.345449\n",
      "Train Epoch: 9 [17000/60000 (28%)]\tLoss: 108.508730\n",
      "Train Epoch: 9 [18000/60000 (30%)]\tLoss: 112.005918\n",
      "Train Epoch: 9 [19000/60000 (32%)]\tLoss: 106.461367\n",
      "Train Epoch: 9 [20000/60000 (33%)]\tLoss: 105.251660\n",
      "Train Epoch: 9 [21000/60000 (35%)]\tLoss: 108.325645\n",
      "Train Epoch: 9 [22000/60000 (37%)]\tLoss: 110.198457\n",
      "Train Epoch: 9 [23000/60000 (38%)]\tLoss: 110.650518\n",
      "Train Epoch: 9 [24000/60000 (40%)]\tLoss: 106.281738\n",
      "Train Epoch: 9 [25000/60000 (42%)]\tLoss: 109.344346\n",
      "Train Epoch: 9 [26000/60000 (43%)]\tLoss: 107.254824\n",
      "Train Epoch: 9 [27000/60000 (45%)]\tLoss: 107.408027\n",
      "Train Epoch: 9 [28000/60000 (47%)]\tLoss: 108.719619\n",
      "Train Epoch: 9 [29000/60000 (48%)]\tLoss: 106.528496\n",
      "Train Epoch: 9 [30000/60000 (50%)]\tLoss: 108.090703\n",
      "Train Epoch: 9 [31000/60000 (52%)]\tLoss: 110.630850\n",
      "Train Epoch: 9 [32000/60000 (53%)]\tLoss: 109.826602\n",
      "Train Epoch: 9 [33000/60000 (55%)]\tLoss: 108.398438\n",
      "Train Epoch: 9 [34000/60000 (57%)]\tLoss: 106.642422\n",
      "Train Epoch: 9 [35000/60000 (58%)]\tLoss: 105.027275\n",
      "Train Epoch: 9 [36000/60000 (60%)]\tLoss: 107.456680\n",
      "Train Epoch: 9 [37000/60000 (62%)]\tLoss: 103.335859\n",
      "Train Epoch: 9 [38000/60000 (63%)]\tLoss: 105.596934\n",
      "Train Epoch: 9 [39000/60000 (65%)]\tLoss: 103.993037\n",
      "Train Epoch: 9 [40000/60000 (67%)]\tLoss: 103.292627\n",
      "Train Epoch: 9 [41000/60000 (68%)]\tLoss: 107.732725\n",
      "Train Epoch: 9 [42000/60000 (70%)]\tLoss: 106.306748\n",
      "Train Epoch: 9 [43000/60000 (72%)]\tLoss: 105.635801\n",
      "Train Epoch: 9 [44000/60000 (73%)]\tLoss: 105.633066\n",
      "Train Epoch: 9 [45000/60000 (75%)]\tLoss: 109.230898\n",
      "Train Epoch: 9 [46000/60000 (77%)]\tLoss: 109.153496\n",
      "Train Epoch: 9 [47000/60000 (78%)]\tLoss: 111.164102\n",
      "Train Epoch: 9 [48000/60000 (80%)]\tLoss: 100.034375\n",
      "Train Epoch: 9 [49000/60000 (82%)]\tLoss: 113.203516\n",
      "Train Epoch: 9 [50000/60000 (83%)]\tLoss: 103.769434\n",
      "Train Epoch: 9 [51000/60000 (85%)]\tLoss: 102.437207\n",
      "Train Epoch: 9 [52000/60000 (87%)]\tLoss: 109.741240\n",
      "Train Epoch: 9 [53000/60000 (88%)]\tLoss: 110.664678\n",
      "Train Epoch: 9 [54000/60000 (90%)]\tLoss: 110.501357\n",
      "Train Epoch: 9 [55000/60000 (92%)]\tLoss: 101.671475\n",
      "Train Epoch: 9 [56000/60000 (93%)]\tLoss: 106.006270\n",
      "Train Epoch: 9 [57000/60000 (95%)]\tLoss: 104.679512\n",
      "Train Epoch: 9 [58000/60000 (97%)]\tLoss: 102.753730\n",
      "Train Epoch: 9 [59000/60000 (98%)]\tLoss: 116.810361\n",
      "====> Test set loss: 1.0890\n",
      "Train Epoch: 10 [0/60000 (0%)]\tLoss: 111.034258\n",
      "Train Epoch: 10 [1000/60000 (2%)]\tLoss: 104.238945\n",
      "Train Epoch: 10 [2000/60000 (3%)]\tLoss: 103.121895\n",
      "Train Epoch: 10 [3000/60000 (5%)]\tLoss: 106.906758\n",
      "Train Epoch: 10 [4000/60000 (7%)]\tLoss: 113.305059\n",
      "Train Epoch: 10 [5000/60000 (8%)]\tLoss: 106.330273\n",
      "Train Epoch: 10 [6000/60000 (10%)]\tLoss: 109.466348\n",
      "Train Epoch: 10 [7000/60000 (12%)]\tLoss: 107.247246\n",
      "Train Epoch: 10 [8000/60000 (13%)]\tLoss: 106.997207\n",
      "Train Epoch: 10 [9000/60000 (15%)]\tLoss: 104.571631\n",
      "Train Epoch: 10 [10000/60000 (17%)]\tLoss: 105.803242\n",
      "Train Epoch: 10 [11000/60000 (18%)]\tLoss: 108.084053\n",
      "Train Epoch: 10 [12000/60000 (20%)]\tLoss: 102.886953\n",
      "Train Epoch: 10 [13000/60000 (22%)]\tLoss: 106.144414\n",
      "Train Epoch: 10 [14000/60000 (23%)]\tLoss: 99.825459\n",
      "Train Epoch: 10 [15000/60000 (25%)]\tLoss: 108.508184\n",
      "Train Epoch: 10 [16000/60000 (27%)]\tLoss: 107.444512\n",
      "Train Epoch: 10 [17000/60000 (28%)]\tLoss: 104.121934\n",
      "Train Epoch: 10 [18000/60000 (30%)]\tLoss: 104.846914\n",
      "Train Epoch: 10 [19000/60000 (32%)]\tLoss: 104.860488\n",
      "Train Epoch: 10 [20000/60000 (33%)]\tLoss: 105.595938\n",
      "Train Epoch: 10 [21000/60000 (35%)]\tLoss: 110.552754\n",
      "Train Epoch: 10 [22000/60000 (37%)]\tLoss: 111.508350\n",
      "Train Epoch: 10 [23000/60000 (38%)]\tLoss: 110.412988\n",
      "Train Epoch: 10 [24000/60000 (40%)]\tLoss: 106.794805\n",
      "Train Epoch: 10 [25000/60000 (42%)]\tLoss: 100.688115\n",
      "Train Epoch: 10 [26000/60000 (43%)]\tLoss: 103.495312\n",
      "Train Epoch: 10 [27000/60000 (45%)]\tLoss: 112.471758\n",
      "Train Epoch: 10 [28000/60000 (47%)]\tLoss: 102.775840\n",
      "Train Epoch: 10 [29000/60000 (48%)]\tLoss: 105.684570\n",
      "Train Epoch: 10 [30000/60000 (50%)]\tLoss: 103.979814\n",
      "Train Epoch: 10 [31000/60000 (52%)]\tLoss: 110.862969\n",
      "Train Epoch: 10 [32000/60000 (53%)]\tLoss: 104.333750\n",
      "Train Epoch: 10 [33000/60000 (55%)]\tLoss: 104.700596\n",
      "Train Epoch: 10 [34000/60000 (57%)]\tLoss: 106.725625\n",
      "Train Epoch: 10 [35000/60000 (58%)]\tLoss: 111.315117\n",
      "Train Epoch: 10 [36000/60000 (60%)]\tLoss: 107.150693\n",
      "Train Epoch: 10 [37000/60000 (62%)]\tLoss: 103.035059\n",
      "Train Epoch: 10 [38000/60000 (63%)]\tLoss: 107.552520\n",
      "Train Epoch: 10 [39000/60000 (65%)]\tLoss: 109.098145\n",
      "Train Epoch: 10 [40000/60000 (67%)]\tLoss: 104.796797\n",
      "Train Epoch: 10 [41000/60000 (68%)]\tLoss: 109.094658\n",
      "Train Epoch: 10 [42000/60000 (70%)]\tLoss: 101.454629\n",
      "Train Epoch: 10 [43000/60000 (72%)]\tLoss: 106.444014\n",
      "Train Epoch: 10 [44000/60000 (73%)]\tLoss: 104.988301\n",
      "Train Epoch: 10 [45000/60000 (75%)]\tLoss: 106.214512\n",
      "Train Epoch: 10 [46000/60000 (77%)]\tLoss: 105.001055\n",
      "Train Epoch: 10 [47000/60000 (78%)]\tLoss: 109.457139\n",
      "Train Epoch: 10 [48000/60000 (80%)]\tLoss: 106.094521\n",
      "Train Epoch: 10 [49000/60000 (82%)]\tLoss: 112.271133\n",
      "Train Epoch: 10 [50000/60000 (83%)]\tLoss: 106.357314\n",
      "Train Epoch: 10 [51000/60000 (85%)]\tLoss: 111.209961\n",
      "Train Epoch: 10 [52000/60000 (87%)]\tLoss: 108.036182\n",
      "Train Epoch: 10 [53000/60000 (88%)]\tLoss: 106.401309\n",
      "Train Epoch: 10 [54000/60000 (90%)]\tLoss: 105.226836\n",
      "Train Epoch: 10 [55000/60000 (92%)]\tLoss: 107.900410\n",
      "Train Epoch: 10 [56000/60000 (93%)]\tLoss: 108.238203\n",
      "Train Epoch: 10 [57000/60000 (95%)]\tLoss: 106.047188\n",
      "Train Epoch: 10 [58000/60000 (97%)]\tLoss: 104.403613\n",
      "Train Epoch: 10 [59000/60000 (98%)]\tLoss: 98.087822\n",
      "====> Test set loss: 1.0905\n"
     ]
    }
   ],
   "source": [
    "epochs = 10\n",
    "for epoch in range(1, epochs +1):\n",
    "    train(epoch)\n",
    "    test(epoch)\n",
    "    with torch.no_grad():\n",
    "        sample = torch.randn(64,latent_dim).to(device)\n",
    "        #20次元の潜在空間のデータを64個作成して、GPUに送る\n",
    "        sample = model.decode(sample).cpu()\n",
    "        #ランダムな潜在変数から画像を生成する。\n",
    "        save_image(sample.view(64,1,28,28),'results/sample_' + str(epoch) + '.png',nrow=8)\n",
    "        #生成した６４個のデータを記録しておく\n"
   ],
   "metadata": {
    "collapsed": false,
    "pycharm": {
     "name": "#%%\n"
    }
   }
  },
  {
   "cell_type": "code",
   "execution_count": 4,
   "outputs": [
    {
     "ename": "NameError",
     "evalue": "name 'model' is not defined",
     "output_type": "error",
     "traceback": [
      "\u001B[0;31m---------------------------------------------------------------------------\u001B[0m",
      "\u001B[0;31mNameError\u001B[0m                                 Traceback (most recent call last)",
      "\u001B[0;32m<ipython-input-4-07f7310090d2>\u001B[0m in \u001B[0;36m<module>\u001B[0;34m\u001B[0m\n\u001B[1;32m      1\u001B[0m \u001B[0mfig\u001B[0m \u001B[0;34m=\u001B[0m \u001B[0mplt\u001B[0m\u001B[0;34m.\u001B[0m\u001B[0mfigure\u001B[0m\u001B[0;34m(\u001B[0m\u001B[0mfigsize\u001B[0m\u001B[0;34m=\u001B[0m\u001B[0;34m(\u001B[0m\u001B[0;36m10\u001B[0m\u001B[0;34m,\u001B[0m\u001B[0;36m3\u001B[0m\u001B[0;34m)\u001B[0m\u001B[0;34m)\u001B[0m\u001B[0;34m\u001B[0m\u001B[0;34m\u001B[0m\u001B[0m\n\u001B[0;32m----> 2\u001B[0;31m \u001B[0mmodel\u001B[0m\u001B[0;34m.\u001B[0m\u001B[0meval\u001B[0m\u001B[0;34m(\u001B[0m\u001B[0;34m)\u001B[0m\u001B[0;34m\u001B[0m\u001B[0;34m\u001B[0m\u001B[0m\n\u001B[0m",
      "\u001B[0;31mNameError\u001B[0m: name 'model' is not defined"
     ]
    },
    {
     "data": {
      "text/plain": "<Figure size 720x216 with 0 Axes>"
     },
     "metadata": {},
     "output_type": "display_data"
    }
   ],
   "source": [
    "fig = plt.figure(figsize=(10,3))\n",
    "model.eval()"
   ],
   "metadata": {
    "collapsed": false,
    "pycharm": {
     "name": "#%%\n"
    }
   }
  },
  {
   "cell_type": "code",
   "execution_count": 2,
   "outputs": [
    {
     "ename": "NameError",
     "evalue": "name 'test_loader' is not defined",
     "output_type": "error",
     "traceback": [
      "\u001B[0;31m---------------------------------------------------------------------------\u001B[0m",
      "\u001B[0;31mNameError\u001B[0m                                 Traceback (most recent call last)",
      "\u001B[0;32m<ipython-input-2-ac6e806edf7d>\u001B[0m in \u001B[0;36m<module>\u001B[0;34m\u001B[0m\n\u001B[1;32m      6\u001B[0m \u001B[0;31m#ts.dtype = torch.int\u001B[0m\u001B[0;34m\u001B[0m\u001B[0;34m\u001B[0m\u001B[0;34m\u001B[0m\u001B[0m\n\u001B[1;32m      7\u001B[0m \u001B[0;34m\u001B[0m\u001B[0m\n\u001B[0;32m----> 8\u001B[0;31m \u001B[0;32mfor\u001B[0m \u001B[0mx\u001B[0m\u001B[0;34m,\u001B[0m \u001B[0mt\u001B[0m \u001B[0;32min\u001B[0m \u001B[0mtest_loader\u001B[0m\u001B[0;34m:\u001B[0m\u001B[0;34m\u001B[0m\u001B[0;34m\u001B[0m\u001B[0m\n\u001B[0m\u001B[1;32m      9\u001B[0m     \u001B[0;31m# original。xがデータ、tがラベル。\u001B[0m\u001B[0;34m\u001B[0m\u001B[0;34m\u001B[0m\u001B[0;34m\u001B[0m\u001B[0m\n\u001B[1;32m     10\u001B[0m     \u001B[0;31m#for i, im in enumerate(x.view(-1, 28, 28).detach().numpy()[:10]):\u001B[0m\u001B[0;34m\u001B[0m\u001B[0;34m\u001B[0m\u001B[0;34m\u001B[0m\u001B[0m\n",
      "\u001B[0;31mNameError\u001B[0m: name 'test_loader' is not defined"
     ]
    }
   ],
   "source": [
    "#zs = torch.empty(0,0)\n",
    "zs = []\n",
    "ts = []\n",
    "\n",
    "#ts.dtype = torch.int\n",
    "\n",
    "for x, t in test_loader:\n",
    "    # original。xがデータ、tがラベル。\n",
    "    #for i, im in enumerate(x.view(-1, 28, 28).detach().numpy()[:10]):\n",
    "    #  ax = fig.add_subplot(3, 10, i+1, xticks=[], yticks=[])\n",
    "    #  ax.imshow(im, 'gray')\n",
    "    #x = x.to(device)\n",
    "    # generate from x\n",
    "    x = x.to(device)\n",
    "    recon_batch,mu,logvar, z = model(x)\n",
    "\n",
    "    zs.append(z)\n",
    "    ts.append(t)\n",
    "    #zs = torch.cat((zs,z),0)\n",
    "    #ts = torch.cat()\n",
    "    #y = y.view(-1, 28, 28)\n",
    "    #for i, im in enumerate(y.cpu().detach().numpy()[:10]):\n",
    "     # ax = fig.add_subplot(3, 10, i+11, xticks=[], yticks=[])\n",
    "     # ax.imshow(im, 'gray')\n",
    "\n"
   ],
   "metadata": {
    "collapsed": false,
    "pycharm": {
     "name": "#%%\n"
    }
   }
  },
  {
   "cell_type": "code",
   "execution_count": 78,
   "outputs": [],
   "source": [
    "zs = torch.cat(zs,dim=0)\n",
    "ts = torch.cat(ts).requires_grad_(False)"
   ],
   "metadata": {
    "collapsed": false,
    "pycharm": {
     "name": "#%%\n"
    }
   }
  },
  {
   "cell_type": "code",
   "execution_count": 79,
   "outputs": [
    {
     "data": {
      "text/plain": "(tensor([[-0.4905, -0.2805, -0.0446,  ..., -2.3959,  0.0245, -1.3829],\n         [-1.7825, -0.3654,  0.8204,  ..., -0.3602, -0.3800, -0.3705],\n         [-1.2430,  1.8309,  1.7012,  ..., -0.0859, -0.9251,  0.0201],\n         ...,\n         [-0.8920, -0.8641, -0.6110,  ..., -0.5500, -0.4289,  1.3393],\n         [-1.1756, -1.8284, -1.1134,  ..., -1.3762, -1.0149,  0.3092],\n         [-1.3374, -0.5742,  0.6004,  ...,  0.9314,  2.1553, -0.0411]],\n        device='cuda:0', grad_fn=<CatBackward>),\n tensor([4, 9, 9,  ..., 0, 7, 3]))"
     },
     "execution_count": 79,
     "metadata": {},
     "output_type": "execute_result"
    }
   ],
   "source": [
    "zs,ts"
   ],
   "metadata": {
    "collapsed": false,
    "pycharm": {
     "name": "#%%\n"
    }
   }
  },
  {
   "cell_type": "code",
   "execution_count": 80,
   "outputs": [
    {
     "data": {
      "text/plain": "array([[-0.49047828, -0.28049427, -0.04461914, ..., -2.3959363 ,\n         0.0245263 , -1.3829441 ],\n       [-1.7825425 , -0.36536008,  0.8204489 , ..., -0.36017844,\n        -0.38001698, -0.3704733 ],\n       [-1.2429876 ,  1.8309377 ,  1.7011689 , ..., -0.08594556,\n        -0.9250785 ,  0.02011232],\n       ...,\n       [-0.8919953 , -0.864053  , -0.61100453, ..., -0.5500079 ,\n        -0.42885724,  1.3392859 ],\n       [-1.1755602 , -1.8284112 , -1.1133807 , ..., -1.3762292 ,\n        -1.0148839 ,  0.30921355],\n       [-1.337357  , -0.57416755,  0.6003666 , ...,  0.9313927 ,\n         2.155287  , -0.04108204]], dtype=float32)"
     },
     "execution_count": 80,
     "metadata": {},
     "output_type": "execute_result"
    }
   ],
   "source": [
    "zs_numpy = zs.cpu().detach().numpy()\n",
    "zs_numpy"
   ],
   "metadata": {
    "collapsed": false,
    "pycharm": {
     "name": "#%%\n"
    }
   }
  },
  {
   "cell_type": "code",
   "execution_count": 81,
   "outputs": [
    {
     "data": {
      "text/plain": "array([[ 48.224693, -42.370045],\n       [  3.55752 , -49.90532 ],\n       [ 14.37715 , -43.84704 ],\n       ...,\n       [ 56.686348,   5.182107],\n       [-18.988045, -63.662846],\n       [-15.701626,  50.51029 ]], dtype=float32)"
     },
     "execution_count": 81,
     "metadata": {},
     "output_type": "execute_result"
    }
   ],
   "source": [
    "points = TSNE(n_components=2,random_state=0).fit_transform(zs_numpy)\n",
    "points"
   ],
   "metadata": {
    "collapsed": false,
    "pycharm": {
     "name": "#%%\n"
    }
   }
  },
  {
   "cell_type": "code",
   "execution_count": 82,
   "outputs": [
    {
     "data": {
      "text/plain": "array([4, 9, 9, ..., 0, 7, 3])"
     },
     "execution_count": 82,
     "metadata": {},
     "output_type": "execute_result"
    }
   ],
   "source": [
    "ts_numpy = ts.cpu().detach().numpy()\n",
    "ts_numpy"
   ],
   "metadata": {
    "collapsed": false,
    "pycharm": {
     "name": "#%%\n"
    }
   }
  },
  {
   "cell_type": "code",
   "execution_count": 83,
   "outputs": [
    {
     "data": {
      "text/plain": "<Figure size 432x288 with 1 Axes>",
      "image/png": "[encoded data removed]"
     },
     "metadata": {
      "needs_background": "light"
     },
     "output_type": "display_data"
    }
   ],
   "source": [
    "colors = [\"red\", \"green\", \"blue\", \"orange\", \"purple\", \"brown\", \"fuchsia\", \"grey\", \"olive\", \"lightblue\"]\n",
    "for p,l in zip(points,ts_numpy):\n",
    "    plt.scatter(p[0],p[1],marker=\"${}$\".format(l),c=colors[l])"
   ],
   "metadata": {
    "collapsed": false,
    "pycharm": {
     "name": "#%%\n"
    }
   }
  },
  {
   "cell_type": "code",
   "execution_count": 84,
   "outputs": [],
   "source": [
    "gauss_model = GaussianMixture(n_components=10,covariance_type='full',random_state=1)\n",
    "gauss_model.fit(zs_numpy)\n",
    "ls = gauss_model.predict(zs_numpy)"
   ],
   "metadata": {
    "collapsed": false,
    "pycharm": {
     "name": "#%%\n"
    }
   }
  },
  {
   "cell_type": "code",
   "execution_count": 85,
   "outputs": [
    {
     "data": {
      "text/plain": "<Figure size 432x288 with 1 Axes>",
      "image/png": "[encoded data removed]"
     },
     "metadata": {
      "needs_background": "light"
     },
     "output_type": "display_data"
    }
   ],
   "source": [
    "for p,l in zip(points,ls):\n",
    "    plt.scatter(p[0],p[1],marker=\"${}$\".format(l),c=colors[l])"
   ],
   "metadata": {
    "collapsed": false,
    "pycharm": {
     "name": "#%%\n"
    }
   }
  },
  {
   "cell_type": "code",
   "execution_count": 86,
   "outputs": [],
   "source": [
    "gauss_model_2d = GaussianMixture(n_components=10,covariance_type='full',random_state=1)\n",
    "gauss_model_2d.fit(points)\n",
    "ls_2d = gauss_model_2d.predict(points)"
   ],
   "metadata": {
    "collapsed": false,
    "pycharm": {
     "name": "#%%\n"
    }
   }
  },
  {
   "cell_type": "code",
   "execution_count": 87,
   "outputs": [
    {
     "data": {
      "text/plain": "<matplotlib.collections.PathCollection at 0x7f3c31b41128>"
     },
     "execution_count": 87,
     "metadata": {},
     "output_type": "execute_result"
    },
    {
     "data": {
      "text/plain": "<Figure size 432x288 with 1 Axes>",
      "image/png": "[encoded data removed]"
     },
     "metadata": {
      "needs_background": "light"
     },
     "output_type": "display_data"
    }
   ],
   "source": [
    "for p,l in zip(points,ls_2d):\n",
    "    plt.scatter(p[0],p[1],marker=\"${}$\".format(l),c=colors[l])\n",
    "plt.scatter(gauss_model_2d.means_[:,0],gauss_model_2d.means_[:,1],s=250,marker='*',c='red')"
   ],
   "metadata": {
    "collapsed": false,
    "pycharm": {
     "name": "#%%\n"
    }
   }
  },
  {
   "cell_type": "code",
   "execution_count": 88,
   "outputs": [
    {
     "data": {
      "text/plain": "tensor([[-0.4905, -0.2805, -0.0446,  ..., -2.3959,  0.0245, -1.3829],\n        [-1.7825, -0.3654,  0.8204,  ..., -0.3602, -0.3800, -0.3705],\n        [-1.2430,  1.8309,  1.7012,  ..., -0.0859, -0.9251,  0.0201],\n        ...,\n        [-0.8920, -0.8641, -0.6110,  ..., -0.5500, -0.4289,  1.3393],\n        [-1.1756, -1.8284, -1.1134,  ..., -1.3762, -1.0149,  0.3092],\n        [-1.3374, -0.5742,  0.6004,  ...,  0.9314,  2.1553, -0.0411]],\n       device='cuda:0', grad_fn=<CatBackward>)"
     },
     "execution_count": 88,
     "metadata": {},
     "output_type": "execute_result"
    }
   ],
   "source": [
    "zs"
   ],
   "metadata": {
    "collapsed": false,
    "pycharm": {
     "name": "#%%\n"
    }
   }
  },
  {
   "cell_type": "code",
   "execution_count": 114,
   "outputs": [
    {
     "data": {
      "text/plain": "10000"
     },
     "execution_count": 114,
     "metadata": {},
     "output_type": "execute_result"
    }
   ],
   "source": [
    "zs.size()[0]"
   ],
   "metadata": {
    "collapsed": false,
    "pycharm": {
     "name": "#%%\n"
    }
   }
  },
  {
   "cell_type": "code",
   "execution_count": 128,
   "outputs": [
    {
     "data": {
      "text/plain": "tensor([-0.0596, -0.1282,  0.0019,  0.1194, -0.0830, -0.1153, -0.0868,  0.0285,\n         0.0074,  0.1296,  0.0215, -0.0733, -0.0253, -0.0211,  0.0046],\n       device='cuda:0')"
     },
     "execution_count": 128,
     "metadata": {},
     "output_type": "execute_result"
    }
   ],
   "source": [
    "mu_original= zs.mean(0).detach().requires_grad_(False)\n",
    "mu_original"
   ],
   "metadata": {
    "collapsed": false,
    "pycharm": {
     "name": "#%%データ全体の中心を求めている\n"
    }
   }
  },
  {
   "cell_type": "code",
   "execution_count": 137,
   "outputs": [
    {
     "data": {
      "text/plain": "tensor([-0.0596, -0.1282,  0.0019,  0.1194, -0.0830, -0.1153, -0.0868,  0.0285,\n         0.0074,  0.1296,  0.0215, -0.0733, -0.0253, -0.0211,  0.0046],\n       device='cuda:0')"
     },
     "execution_count": 137,
     "metadata": {},
     "output_type": "execute_result"
    }
   ],
   "source": [
    "mu_original.cuda()"
   ],
   "metadata": {
    "collapsed": false,
    "pycharm": {
     "name": "#%%\n"
    }
   }
  },
  {
   "cell_type": "code",
   "execution_count": 412,
   "outputs": [
    {
     "data": {
      "text/plain": "tensor([[ 1.0551e+00,  7.0268e-02,  1.3406e-02, -1.8490e-01,  1.7133e-01,\n          3.3581e-02, -1.5086e-02,  8.9963e-02,  6.1068e-02,  9.2680e-03,\n          1.3314e-01,  2.0842e-02,  2.9111e-02, -6.8602e-03, -1.2044e-01],\n        [ 7.0268e-02,  1.0962e+00,  5.2261e-02, -2.5125e-02,  5.7297e-02,\n          2.2981e-02,  1.8614e-01,  1.6041e-01, -5.6086e-02, -7.5862e-02,\n         -7.5599e-03, -8.6385e-02,  1.7051e-01,  1.1094e-02,  1.3237e-01],\n        [ 1.3406e-02,  5.2261e-02,  9.5845e-01, -5.5771e-03,  2.3919e-02,\n         -1.3324e-02,  4.7681e-03,  5.1583e-02,  2.6575e-02, -4.5798e-02,\n         -2.3289e-02, -2.1912e-02, -1.4658e-02,  3.6189e-02,  4.9550e-02],\n        [-1.8490e-01, -2.5125e-02, -5.5771e-03,  1.0367e+00, -4.4557e-02,\n          1.9842e-02,  9.1676e-03,  3.0159e-02, -2.0681e-01,  1.3176e-01,\n         -2.6507e-02,  3.5983e-02, -4.1872e-02,  1.9795e-02, -2.6665e-02],\n        [ 1.7133e-01,  5.7297e-02,  2.3919e-02, -4.4557e-02,  1.0699e+00,\n          1.9471e-03, -1.4069e-02,  6.0802e-02,  2.0790e-04, -6.6646e-02,\n          5.3753e-02, -4.7917e-03,  3.7270e-02,  4.7066e-02, -3.9391e-02],\n        [ 3.3581e-02,  2.2981e-02, -1.3324e-02,  1.9842e-02,  1.9471e-03,\n          1.0084e+00, -3.3792e-03, -5.4564e-03, -2.3194e-01, -9.2288e-02,\n         -4.8750e-04,  1.5956e-01,  2.1269e-02,  2.7046e-03, -8.4187e-02],\n        [-1.5086e-02,  1.8614e-01,  4.7681e-03,  9.1676e-03, -1.4069e-02,\n         -3.3792e-03,  9.9343e-01, -4.0845e-02, -3.7785e-02, -4.1515e-02,\n         -1.1099e-02, -1.0148e-01, -7.0571e-02,  4.7458e-02,  7.4261e-02],\n        [ 8.9963e-02,  1.6041e-01,  5.1583e-02,  3.0159e-02,  6.0802e-02,\n         -5.4564e-03, -4.0845e-02,  1.0856e+00, -6.6132e-02, -9.7907e-02,\n         -5.0656e-03,  6.5202e-02,  1.7990e-01, -1.9872e-01, -2.5005e-02],\n        [ 6.1068e-02, -5.6086e-02,  2.6575e-02, -2.0681e-01,  2.0790e-04,\n         -2.3194e-01, -3.7785e-02, -6.6132e-02,  1.1633e+00,  8.9037e-02,\n          4.0818e-03,  1.5874e-02,  6.1995e-02,  6.9728e-02, -7.3631e-02],\n        [ 9.2680e-03, -7.5862e-02, -4.5798e-02,  1.3176e-01, -6.6646e-02,\n         -9.2288e-02, -4.1515e-02, -9.7907e-02,  8.9037e-02,  1.0298e+00,\n          4.6846e-02,  1.6556e-02,  2.7151e-02, -1.8259e-02, -9.5889e-02],\n        [ 1.3314e-01, -7.5599e-03, -2.3289e-02, -2.6507e-02,  5.3753e-02,\n         -4.8750e-04, -1.1099e-02, -5.0656e-03,  4.0818e-03,  4.6846e-02,\n          1.0226e+00,  2.4099e-03,  5.4647e-02,  6.8658e-02, -4.2435e-02],\n        [ 2.0842e-02, -8.6385e-02, -2.1912e-02,  3.5983e-02, -4.7917e-03,\n          1.5956e-01, -1.0148e-01,  6.5202e-02,  1.5874e-02,  1.6556e-02,\n          2.4099e-03,  9.9256e-01,  7.5037e-02, -2.3741e-02, -1.2663e-01],\n        [ 2.9111e-02,  1.7051e-01, -1.4658e-02, -4.1872e-02,  3.7270e-02,\n          2.1269e-02, -7.0571e-02,  1.7990e-01,  6.1995e-02,  2.7151e-02,\n          5.4647e-02,  7.5037e-02,  1.2467e+00, -7.0493e-03, -2.2819e-02],\n        [-6.8602e-03,  1.1094e-02,  3.6189e-02,  1.9795e-02,  4.7066e-02,\n          2.7046e-03,  4.7458e-02, -1.9872e-01,  6.9728e-02, -1.8259e-02,\n          6.8658e-02, -2.3741e-02, -7.0493e-03,  1.0562e+00,  1.2906e-01],\n        [-1.2044e-01,  1.3237e-01,  4.9550e-02, -2.6665e-02, -3.9391e-02,\n         -8.4187e-02,  7.4261e-02, -2.5005e-02, -7.3631e-02, -9.5889e-02,\n         -4.2435e-02, -1.2663e-01, -2.2819e-02,  1.2906e-01,  1.0661e+00]],\n       device='cuda:0')"
     },
     "execution_count": 412,
     "metadata": {},
     "output_type": "execute_result"
    }
   ],
   "source": [
    "data_white = zs-mu_original\n",
    "cov_original = torch.matmul(data_white.transpose(1,0),data_white)/zs.size()[0]\n",
    "cov_original = cov_original.clone().detach().requires_grad_(False)\n",
    "cov_original"
   ],
   "metadata": {
    "collapsed": false,
    "pycharm": {
     "name": "#%%データ全体の共分散行列を求めている\n"
    }
   }
  },
  {
   "cell_type": "code",
   "execution_count": 413,
   "outputs": [
    {
     "data": {
      "text/plain": "tensor([[ 1.1689,  0.9606, -0.5128, -1.5010, -0.5457,  1.7522, -0.5057,  2.0172,\n         -0.2869, -0.2446, -0.4845, -0.1582,  0.3418, -0.7746, -1.3735],\n        [ 0.1148, -1.1403, -0.8479,  1.2854, -0.4171, -0.4058,  0.1369,  1.0365,\n         -1.6410,  0.9710,  0.3963, -0.4677,  0.1300, -2.0325, -0.4910],\n        [-0.3406,  1.4198, -0.1224,  1.2850,  0.6320,  0.0751, -0.9880, -1.2205,\n         -1.6199, -0.3741,  1.3532, -0.7876,  1.5567,  1.3095,  1.5280],\n        [-0.9498, -0.0985, -0.4016, -0.2512,  0.0811, -0.1506, -0.5037,  0.8777,\n         -0.3900, -0.7305,  0.1910, -2.5302, -1.3483,  0.1943,  2.2069],\n        [ 0.9963, -0.8690,  0.1169,  0.9091, -0.6560, -0.9742, -0.5198,  0.8169,\n         -1.8970,  0.3599,  1.5010,  0.1022,  2.4954, -1.2187,  0.1449],\n        [ 0.0615, -0.6445,  0.8982, -1.3100, -1.3158, -1.1704,  0.8407,  1.8340,\n         -1.7972,  0.6880,  0.3375, -1.5165, -0.8708, -0.7622,  1.8480],\n        [ 1.1669, -0.1414,  0.6525, -0.4811,  1.6604, -1.9877, -0.7359, -1.5235,\n         -0.2261, -0.9046, -0.6782,  0.2299, -0.3196,  0.7009, -0.6807],\n        [ 0.2136, -1.1412,  0.0171, -1.3380, -2.6179, -0.1236,  0.4742, -1.3133,\n         -0.7000,  0.5310,  1.3959, -0.9422,  0.2041, -1.3666, -1.3288],\n        [-0.6029,  1.6010, -0.4590,  1.5782,  0.5719, -0.3512, -0.9018, -0.5021,\n         -0.6674, -1.8763, -1.3963,  1.0398,  1.7621,  0.4015,  1.1587],\n        [ 2.7973,  0.6953, -0.7007, -0.5372, -0.3026, -1.7035, -0.3480,  1.8329,\n         -0.0042,  0.8628,  0.0677,  0.2134,  1.9826, -0.8847, -0.6019]])"
     },
     "execution_count": 413,
     "metadata": {},
     "output_type": "execute_result"
    }
   ],
   "source": [
    "original_distribution = MultivariateNormal(mu_original.cpu(),cov_original.cpu())\n",
    "\n",
    "mu_k = original_distribution.sample([K_model_cluster,]).requires_grad_(False)\n",
    "mu_k"
   ],
   "metadata": {
    "collapsed": false,
    "pycharm": {
     "name": "#%%\n"
    }
   }
  },
  {
   "cell_type": "code",
   "execution_count": 414,
   "outputs": [
    {
     "data": {
      "text/plain": "True"
     },
     "execution_count": 414,
     "metadata": {},
     "output_type": "execute_result"
    }
   ],
   "source": [
    "mu_k = mu_k.to(device)\n",
    "mu_k.is_cuda\n"
   ],
   "metadata": {
    "collapsed": false,
    "pycharm": {
     "name": "#%%\n"
    }
   }
  },
  {
   "cell_type": "code",
   "execution_count": 415,
   "outputs": [
    {
     "data": {
      "text/plain": "tensor([0.1000, 0.1000, 0.1000, 0.1000, 0.1000, 0.1000, 0.1000, 0.1000, 0.1000,\n        0.1000])"
     },
     "execution_count": 415,
     "metadata": {},
     "output_type": "execute_result"
    }
   ],
   "source": [
    "pi_k = torch.full((K_model_cluster,),1./K_model_cluster,requires_grad=False)\n",
    "pi_k"
   ],
   "metadata": {
    "collapsed": false,
    "pycharm": {
     "name": "#%%\n"
    }
   }
  },
  {
   "cell_type": "code",
   "execution_count": null,
   "outputs": [],
   "source": [],
   "metadata": {
    "collapsed": false,
    "pycharm": {
     "name": "#%%\n"
    }
   }
  },
  {
   "cell_type": "code",
   "execution_count": 416,
   "outputs": [
    {
     "data": {
      "text/plain": "torch.Size([10, 15, 15])"
     },
     "execution_count": 416,
     "metadata": {},
     "output_type": "execute_result"
    }
   ],
   "source": [
    "#cov_k = cov_original.clone().requires_grad_(True)\n",
    "cov_k = 1*cov_original\n",
    "cov_k = cov_k.repeat(K_model_cluster,1,1)\n",
    "cov_k.shape"
   ],
   "metadata": {
    "collapsed": false,
    "pycharm": {
     "name": "#%%\n"
    }
   }
  },
  {
   "cell_type": "code",
   "execution_count": 640,
   "outputs": [],
   "source": [
    "N_nk = torch.empty(int(zs.size()[0]),K_model_cluster)\n",
    "for i in range(K_model_cluster):\n",
    "    N_nk_dist = MultivariateNormal(loc=mu_k[i].cpu(),covariance_matrix=cov_k[i].cpu())\n",
    "    N_nk[:,i] = N_nk_dist.log_prob(zs.cpu()).exp()\n"
   ],
   "metadata": {
    "collapsed": false,
    "pycharm": {
     "name": "#%%一般の共分散行列の場合のプログラム\n"
    }
   }
  },
  {
   "cell_type": "code",
   "execution_count": 641,
   "outputs": [
    {
     "data": {
      "text/plain": "tensor([[1.0000e+00, 9.3496e-07, 4.3324e-14,  ..., 7.4168e-10, 8.2327e-38,\n         4.9790e-15],\n        [1.3216e-04, 9.3533e-01, 5.9087e-02,  ..., 5.4462e-03, 2.9961e-29,\n         1.5295e-21],\n        [1.0830e-02, 1.5973e-02, 9.7187e-01,  ..., 1.4317e-08, 1.5144e-16,\n         1.6869e-18],\n        ...,\n        [1.8399e-17, 2.8120e-08, 1.6453e-17,  ..., 1.2454e-07, 1.2018e-18,\n         3.0107e-04],\n        [4.4611e-09, 9.9834e-01, 1.5268e-03,  ..., 1.2979e-04, 0.0000e+00,\n         4.2232e-09],\n        [2.4303e-20, 6.3217e-07, 7.7996e-10,  ..., 4.5375e-09, 3.4577e-17,\n         1.3432e-16]], grad_fn=<DivBackward0>)"
     },
     "execution_count": 641,
     "metadata": {},
     "output_type": "execute_result"
    }
   ],
   "source": [
    "pi_N_nk = pi_k*N_nk\n",
    "gamma_nk = pi_N_nk/pi_N_nk.sum(1).view(-1,1)\n",
    "N_k = gamma_nk.sum(0)\n",
    "gamma_nk"
   ],
   "metadata": {
    "collapsed": false,
    "pycharm": {
     "name": "#%%\n"
    }
   }
  },
  {
   "cell_type": "code",
   "execution_count": 642,
   "outputs": [
    {
     "data": {
      "text/plain": "tensor(-18.7188, grad_fn=<DivBackward0>)"
     },
     "execution_count": 642,
     "metadata": {},
     "output_type": "execute_result"
    }
   ],
   "source": [
    "log_P = torch.log(pi_N_nk.sum(1)).sum()/zs.size()[0]\n",
    "log_P"
   ],
   "metadata": {
    "collapsed": false,
    "pycharm": {
     "name": "#%%\n"
    }
   }
  },
  {
   "cell_type": "code",
   "execution_count": 643,
   "outputs": [
    {
     "data": {
      "text/plain": "tensor([[-0.5086,  0.9053, -0.2387,  0.1605, -0.3471,  0.4190,  0.6074,  0.2603,\n         -0.7030,  0.3028,  0.2172, -0.0684, -1.0126, -0.1231, -0.4172],\n        [-0.2191, -0.3920, -0.0806,  1.0752, -0.1751,  0.3157,  0.1242,  0.3245,\n         -0.8764,  0.2130, -0.4360, -0.0133, -0.0057, -0.8891, -0.4922],\n        [-0.2818,  0.4054,  0.0543,  0.7472,  0.2979,  0.0949, -0.1247, -0.0861,\n         -1.3369, -0.0965, -0.0840, -0.0443,  0.1087,  0.3979,  1.2129],\n        [-0.4019, -0.8433, -0.0706, -0.2739, -0.2166,  0.0435, -0.9857, -0.4896,\n          0.7938,  0.0227, -0.2836, -0.7095, -1.2939,  0.0782,  0.6950],\n        [ 0.8524,  0.3376,  0.5291, -0.8964,  0.3688, -0.1486, -0.5852,  1.5996,\n          0.0589, -0.8025,  0.2050, -0.3976,  1.5061, -0.1952,  0.0446],\n        [ 0.5292, -0.2768,  0.3116,  0.0373, -0.1578, -0.6348,  0.3344, -0.4777,\n          0.0537,  0.8927, -0.0148, -0.6963, -0.1077,  0.6263, -0.1281],\n        [-0.2803, -0.8315,  0.0860,  0.1474, -0.2006, -0.0114, -0.6261, -0.3976,\n          0.6702,  0.4292,  0.2898,  0.7915,  0.5256,  0.2916, -0.6472],\n        [-0.9302, -0.6633, -0.6681, -0.2663, -0.9819, -0.4947,  0.4179, -0.0350,\n          0.1478, -0.7882, -0.1416, -0.0482,  0.3278,  0.0156,  0.2764],\n        [ 0.2643,  1.6335, -0.1578, -0.2042,  0.3375,  0.4536,  0.6347, -0.7025,\n          1.0934,  0.1768,  0.1849, -0.2540,  1.6449, -0.0296, -0.0350],\n        [ 0.5866, -0.0783, -0.0699, -0.2318,  0.3359, -1.0402,  0.0567,  0.7168,\n          0.7949,  0.0594,  0.3000,  0.0362, -1.0157, -0.7892, -0.0917]],\n       device='cuda:0', grad_fn=<CopySlices>)"
     },
     "execution_count": 643,
     "metadata": {},
     "output_type": "execute_result"
    }
   ],
   "source": [
    "for i in range(K_model_cluster):\n",
    "    mu_k[i] = (gamma_nk[:,i].view(-1,1)*zs.cpu()).sum(0)/N_k[i]\n",
    "\n",
    "mu_k"
   ],
   "metadata": {
    "collapsed": false,
    "pycharm": {
     "name": "#%%\n"
    }
   }
  },
  {
   "cell_type": "code",
   "execution_count": 644,
   "outputs": [
    {
     "data": {
      "text/plain": "tensor([0.0916, 0.1158, 0.1215, 0.0967, 0.0723, 0.1247, 0.1704, 0.0672, 0.0432,\n        0.0966], grad_fn=<DivBackward0>)"
     },
     "execution_count": 644,
     "metadata": {},
     "output_type": "execute_result"
    }
   ],
   "source": [
    "pi_k = N_k/zs.size()[0]\n",
    "pi_k"
   ],
   "metadata": {
    "collapsed": false,
    "pycharm": {
     "name": "#%%\n"
    }
   }
  },
  {
   "cell_type": "code",
   "execution_count": 645,
   "outputs": [],
   "source": [
    "N_total = zs.size()[0]\n",
    "data_center = torch.empty(K_model_cluster,int(N_total),latent_dim)\n",
    "data_center_gamma = torch.empty(K_model_cluster,int(N_total),latent_dim)\n",
    "\n",
    "for i in range(K_model_cluster):\n",
    "    data_center[i] = zs-mu_k[i]\n",
    "    data_center_gamma[i] = gamma_nk[:,i].view(-1,1)*data_center[i]\n",
    "\n"
   ],
   "metadata": {
    "collapsed": false,
    "pycharm": {
     "name": "#%%\n"
    }
   }
  },
  {
   "cell_type": "code",
   "execution_count": 646,
   "outputs": [
    {
     "data": {
      "text/plain": "torch.Size([10, 15, 15])"
     },
     "execution_count": 646,
     "metadata": {},
     "output_type": "execute_result"
    }
   ],
   "source": [
    "for i in range(K_model_cluster):\n",
    "    cov_k[i] = torch.matmul(data_center[i].transpose(1,0),data_center_gamma[i])/N_k[i]\n",
    "\n",
    "cov_k.shape"
   ],
   "metadata": {
    "collapsed": false,
    "pycharm": {
     "name": "#%%\n"
    }
   }
  },
  {
   "cell_type": "code",
   "execution_count": 647,
   "outputs": [
    {
     "data": {
      "text/plain": "tensor([0, 1, 2,  ..., 3, 1, 6])"
     },
     "execution_count": 647,
     "metadata": {},
     "output_type": "execute_result"
    }
   ],
   "source": [
    "class_pred = torch.argmax(gamma_nk,1)\n",
    "class_pred"
   ],
   "metadata": {
    "collapsed": false,
    "pycharm": {
     "name": "#%%\n"
    }
   }
  },
  {
   "cell_type": "code",
   "execution_count": 648,
   "outputs": [
    {
     "data": {
      "text/plain": "torch.Size([10000])"
     },
     "execution_count": 648,
     "metadata": {},
     "output_type": "execute_result"
    }
   ],
   "source": [
    "class_pred.shape"
   ],
   "metadata": {
    "collapsed": false,
    "pycharm": {
     "name": "#%%\n"
    }
   }
  },
  {
   "cell_type": "code",
   "execution_count": null,
   "outputs": [],
   "source": [
    "for p,l in zip(points,class_pred.cpu().numpy()):\n",
    "    plt.scatter(p[0],p[1],marker=\"${}$\".format(l),c=colors[l])\n",
    "\n"
   ],
   "metadata": {
    "collapsed": false,
    "pycharm": {
     "name": "#%%\n"
    }
   }
  }
 ],
 "metadata": {
  "kernelspec": {
   "display_name": "Python 3",
   "language": "python",
   "name": "python3"
  },
  "language_info": {
   "codemirror_mode": {
    "name": "ipython",
    "version": 2
   },
   "file_extension": ".py",
   "mimetype": "text/x-python",
   "name": "python",
   "nbconvert_exporter": "python",
   "pygments_lexer": "ipython2",
   "version": "2.7.6"
  }
 },
 "nbformat": 4,
 "nbformat_minor": 0
}