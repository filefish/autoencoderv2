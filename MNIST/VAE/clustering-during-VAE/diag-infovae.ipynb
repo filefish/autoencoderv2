{
 "cells": [
  {
   "cell_type": "code",
   "execution_count": 1,
   "outputs": [],
   "source": [
    "from __future__ import print_function\n",
    "import argparse\n",
    "import torch\n",
    "import torch.utils.data\n",
    "from torch import nn, optim\n",
    "from torch.nn import functional as F\n",
    "from torchvision import datasets, transforms\n",
    "from torchvision.utils import save_image\n",
    "\n",
    "%matplotlib inline\n",
    "import matplotlib.pyplot as plt\n",
    "from torch.distributions.multivariate_normal import MultivariateNormal\n",
    "\n",
    "\n",
    "import numpy as np\n",
    "\n",
    "\n",
    "\n",
    "from sklearn.manifold import TSNE\n",
    "from random import random\n",
    "from sklearn.mixture import GaussianMixture\n",
    "from sklearn.mixture import BayesianGaussianMixture\n",
    "from sklearn.cluster import KMeans"
   ],
   "metadata": {
    "collapsed": false,
    "pycharm": {
     "name": "#%%\n"
    }
   }
  },
  {
   "cell_type": "code",
   "execution_count": 2,
   "outputs": [],
   "source": [
    "\n",
    "batch_size = 100\n",
    "take_latent_max =10\n",
    "num_epoch = 10\n",
    "input_dim=28*28\n",
    "output_dim=input_dim\n",
    "en_hidden1_dim = 500\n",
    "en_hidden2_dim = 500\n",
    "en_hidden3_dim = 2000\n",
    "latent_dim= 10\n",
    "de_hidden1_dim = 2000\n",
    "de_hidden2_dim = 500\n",
    "de_hidden3_dim = 500\n",
    "\n",
    "mi_hidden1_dim = 240\n",
    "mi_hidden2_dim = 240\n",
    "\n",
    "\n",
    "log_interval = 600\n",
    "\n",
    "K_model_cluster = 10\n",
    "K_real_cluster = 10\n",
    "\n",
    "beta= 1.\n",
    "beta_start = beta\n",
    "beta_end = 1.\n",
    "total_step = 500\n",
    "beta_delta = (beta_end-beta_start)/total_step\n",
    "\n",
    "\n",
    "save_folder = 'SGD-infomax'\n",
    "\n",
    "KMeans_random_state = 1 #(random seed)\n",
    "Gaussian_random_state = 1  #(random seed)\n",
    "\n",
    "eps_N_c = 0\n",
    "iter_adiabatic =1\n",
    "\n",
    "qn_value =0\n",
    "\n",
    "infomax_alpha = 10."
   ],
   "metadata": {
    "collapsed": false,
    "pycharm": {
     "name": "#%%\n"
    }
   }
  },
  {
   "cell_type": "code",
   "execution_count": 3,
   "outputs": [],
   "source": [
    "device = 'cuda'\n",
    "kwargs = {'num_workers':1, 'pin_memory':True}\n",
    "\n",
    "train_loader = torch.utils.data.DataLoader(\n",
    "    datasets.MNIST('../data',train=True,download=True,\n",
    "                   transform=transforms.ToTensor()),\n",
    "    batch_size=batch_size,shuffle=True,**kwargs)\n",
    "\n",
    "test_loader = torch.utils.data.DataLoader(\n",
    "    datasets.MNIST('../data',train=False,transform=transforms.ToTensor()),\n",
    "    batch_size=batch_size,shuffle=True,**kwargs)\n"
   ],
   "metadata": {
    "collapsed": false,
    "pycharm": {
     "name": "#%%\n"
    }
   }
  },
  {
   "cell_type": "code",
   "execution_count": 4,
   "outputs": [],
   "source": [
    "def initialize_centers():\n",
    "\n",
    "    mu_c = torch.randn(1,latent_dim,K_model_cluster,device=device)\n",
    "    logvar_c = torch.zeros(1,latent_dim,K_model_cluster).to(device)\n",
    "    inv_sm_pi_c = torch.zeros(1,1,K_model_cluster).to(device)\n",
    "\n",
    "    return mu_c,logvar_c,inv_sm_pi_c"
   ],
   "metadata": {
    "collapsed": false,
    "pycharm": {
     "name": "#%%\n"
    }
   }
  },
  {
   "cell_type": "code",
   "execution_count": 5,
   "outputs": [
    {
     "data": {
      "text/plain": "(torch.Size([1, 10, 10]), torch.Size([1, 10, 10]), torch.Size([1, 1, 10]))"
     },
     "execution_count": 5,
     "metadata": {},
     "output_type": "execute_result"
    }
   ],
   "source": [
    "\n",
    "\n",
    "#zs_g,ts_g,mus_g,logvars_g = take_latents()\n",
    "mu_c_g,logvar_c_g,inv_sm_pi_c_g = initialize_centers()\n",
    "#mu_c_g,logvar_c_g,pi_c_g,Q_c_g,gamma_c_g,log_P_g = gauss(mus_g,logvars_g,mu_c_g,logvar_c_g,pi_c_g,50)\n",
    "mu_c_g.shape,logvar_c_g.shape,inv_sm_pi_c_g.shape\n",
    "#mu_c_g,logvar_c_g,pi_c_g,Q_c_g,gamma_c_g,log_P_g = gauss(mus_g,logvars_g,mu_c_g,logvar_c_g,pi_c_g,50)"
   ],
   "metadata": {
    "collapsed": false,
    "pycharm": {
     "name": "#%%\n"
    }
   }
  },
  {
   "cell_type": "code",
   "execution_count": 6,
   "outputs": [
    {
     "data": {
      "text/plain": "tensor([[[0., 0., 0., 0., 0., 0., 0., 0., 0., 0.]]], device='cuda:0',\n       requires_grad=True)"
     },
     "execution_count": 6,
     "metadata": {},
     "output_type": "execute_result"
    }
   ],
   "source": [
    "mu_c_g.requires_grad_(True)\n",
    "logvar_c_g.requires_grad_(True)\n",
    "inv_sm_pi_c_g.requires_grad_(True)"
   ],
   "metadata": {
    "collapsed": false,
    "pycharm": {
     "name": "#%%\n"
    }
   }
  },
  {
   "cell_type": "code",
   "execution_count": 7,
   "outputs": [
    {
     "data": {
      "text/plain": "(True, True, True)"
     },
     "execution_count": 7,
     "metadata": {},
     "output_type": "execute_result"
    }
   ],
   "source": [
    "mu_c_g.requires_grad,logvar_c_g.requires_grad,inv_sm_pi_c_g.requires_grad\n",
    "#F.softmax(inv_sm_pi_c_g,dim=0)"
   ],
   "metadata": {
    "collapsed": false,
    "pycharm": {
     "name": "#%%\n"
    }
   }
  },
  {
   "cell_type": "code",
   "execution_count": 8,
   "outputs": [],
   "source": [
    "class VAE(nn.Module):\n",
    "    def __init__(self):\n",
    "        super(VAE, self).__init__()\n",
    "\n",
    "        self.input_layer = nn.Linear(input_dim,en_hidden1_dim)##728 => 500 for MNIST\n",
    "        self.encode1_layer = nn.Linear(en_hidden1_dim,en_hidden2_dim)##500 => 500 for MNIST\n",
    "        self.encode2_layer = nn.Linear(en_hidden2_dim,en_hidden3_dim)##500 => 2000 for MNIST\n",
    "        self.mu_layer = nn.Linear(en_hidden3_dim,latent_dim)##2000 => 10 for MNIST\n",
    "        self.std_layer = nn.Linear(en_hidden3_dim,latent_dim)##2000 => 10 for MNIST\n",
    "        self.decode1_layer = nn.Linear(latent_dim,de_hidden1_dim)##10 => 2000 for MNIST\n",
    "        self.decode2_layer = nn.Linear(de_hidden1_dim,de_hidden2_dim)##2000 => 500 for MNIST\n",
    "        self.decode3_layer = nn.Linear(de_hidden2_dim,de_hidden3_dim)##500 => 500 for MNIST\n",
    "        self.output_layer = nn.Linear(de_hidden3_dim,output_dim)##500 => 728 for MNIST\n",
    "\n",
    "    def encode(self, x):\n",
    "        en_h1 = F.relu(self.input_layer(x))\n",
    "        en_h2 = F.relu(self.encode1_layer(en_h1))\n",
    "        en_h3 = F.relu(self.encode2_layer(en_h2))\n",
    "        return self.mu_layer(en_h3), self.std_layer(en_h3)\n",
    "    #入力から中心と分散の対数を作っている\n",
    "\n",
    "\n",
    "    def reparameterize(self,mu,logvar):\n",
    "        std = torch.exp(0.5*logvar)\n",
    "        eps = torch.randn_like(std)\n",
    "        #torch.randn_like(std)はstdと同じ次元の正規乱数を与えている。N(0,1)**size(std).ただし、標準偏差は対角的。\n",
    "        return mu + eps*std\n",
    "    #zの値を確率的に作っている。\n",
    "\n",
    "    def decode(self,z):\n",
    "        de_h1 = F.relu(self.decode1_layer(z))\n",
    "        de_h2 = F.relu(self.decode2_layer(de_h1))\n",
    "        de_h3 = F.relu(self.decode3_layer(de_h2))\n",
    "        return torch.sigmoid(self.output_layer(de_h3))\n",
    "    #zからNNを通したあとに、sigmoidで押し込んでxの値を作っている\n",
    "\n",
    "\n",
    "    def forward(self, x):\n",
    "        mu, logvar = self.encode(x.view(-1,784))\n",
    "        z = self.reparameterize(mu, logvar)\n",
    "        return self.decode(z),mu,logvar,z\n",
    "    #出力はxの予測値とzを算出するときの中心と分散になっている\n",
    "\n",
    "\n",
    "model = VAE().to(device)\n",
    "\n",
    "optimizer = optim.Adam(model.parameters(),lr=0.002)\n",
    "scheduler = torch.optim.lr_scheduler.MultiStepLR(optimizer,milestones=[20,40,60,80,100,120,140,160,180,200,220,240,260],gamma=0.9)\n",
    "\n",
    "\n",
    "#optimizer_clustering = optim.Adam([mu_c_g,logvar_c_g,inv_sm_pi_c_g],lr=0.002)\n",
    "optimizer_clustering = optim.Adam([mu_c_g,logvar_c_g],lr=0.002)\n",
    "scheduler_clustering = torch.optim.lr_scheduler.MultiStepLR(optimizer_clustering,milestones=[20,40,60,80,100,120,140,160,180,200,220,240,260],gamma=0.9)"
   ],
   "metadata": {
    "collapsed": false,
    "pycharm": {
     "name": "#%%\n"
    }
   }
  },
  {
   "cell_type": "code",
   "execution_count": 9,
   "outputs": [
    {
     "data": {
      "text/plain": "'\\n\\nclass MI_MLP(nn.Module):\\n    def __init__(self):\\n        super(MI_MLP, self).__init__()\\n\\n        self.input_layer = nn.Linear(input_dim+latent_dim,mi_hidden1_dim)##728 => 500 for MNIST\\n        self.hidden1_layer = nn.Linear(mi_hidden1_dim,mi_hidden2_dim)##500 => 500 for MNIST\\n        self.output_layer = nn.Linear(mi_hidden2_dim,1)##500 => 2000 for MNIST\\n\\n    def forward(self, x_and_z):\\n        h1 = F.relu(self.input_layer(x_and_z))\\n        h2 = F.relu(self.hidden1_layer(h1))\\n\\n        return torch.sigmoid(self.output_layer(h2))\\n    #出力はxの予測値とzを算出するときの中心と分散になっている\\n\\n\\nMI_model = MI_MLP().to(device)\\n\\noptimizer_mi = optim.Adam(MI_model.parameters(),lr=0.002)\\nscheduler_mi = torch.optim.lr_scheduler.MultiStepLR(optimizer_mi,milestones=[20,40,60,80,100,120,140,160,180,200,220,240,260],gamma=0.9)\\n'"
     },
     "execution_count": 9,
     "metadata": {},
     "output_type": "execute_result"
    }
   ],
   "source": [
    "'''\n",
    "\n",
    "class MI_MLP(nn.Module):\n",
    "    def __init__(self):\n",
    "        super(MI_MLP, self).__init__()\n",
    "\n",
    "        self.input_layer = nn.Linear(input_dim+latent_dim,mi_hidden1_dim)##728 => 500 for MNIST\n",
    "        self.hidden1_layer = nn.Linear(mi_hidden1_dim,mi_hidden2_dim)##500 => 500 for MNIST\n",
    "        self.output_layer = nn.Linear(mi_hidden2_dim,1)##500 => 2000 for MNIST\n",
    "\n",
    "    def forward(self, x_and_z):\n",
    "        h1 = F.relu(self.input_layer(x_and_z))\n",
    "        h2 = F.relu(self.hidden1_layer(h1))\n",
    "\n",
    "        return torch.sigmoid(self.output_layer(h2))\n",
    "    #出力はxの予測値とzを算出するときの中心と分散になっている\n",
    "\n",
    "\n",
    "MI_model = MI_MLP().to(device)\n",
    "\n",
    "optimizer_mi = optim.Adam(MI_model.parameters(),lr=0.002)\n",
    "scheduler_mi = torch.optim.lr_scheduler.MultiStepLR(optimizer_mi,milestones=[20,40,60,80,100,120,140,160,180,200,220,240,260],gamma=0.9)\n",
    "'''"
   ],
   "metadata": {
    "collapsed": false,
    "pycharm": {
     "name": "#%%\n"
    }
   }
  },
  {
   "cell_type": "code",
   "execution_count": 10,
   "outputs": [],
   "source": [
    "\n",
    "class MI_MLP(nn.Module):\n",
    "    def __init__(self):\n",
    "        super(MI_MLP, self).__init__()\n",
    "\n",
    "        self.input_layer = nn.Linear(input_dim+latent_dim,mi_hidden1_dim)##728 => 500 for MNIST\n",
    "        self.hidden1_layer = nn.Linear(mi_hidden1_dim,mi_hidden2_dim)##500 => 500 for MNIST\n",
    "        self.output_layer = nn.Linear(mi_hidden2_dim,1)##500 => 2000 for MNIST\n",
    "\n",
    "    def forward(self, x_and_z):\n",
    "        h1 = F.elu(self.input_layer(x_and_z))\n",
    "        h2 = F.elu(self.hidden1_layer(h1))\n",
    "\n",
    "        return self.output_layer(h2)\n",
    "    #出力はxの予測値とzを算出するときの中心と分散になっている\n",
    "\n",
    "\n",
    "MI_model = MI_MLP().to(device)\n",
    "\n",
    "optimizer_mi = optim.Adam(MI_model.parameters(),lr=0.0002)\n",
    "scheduler_mi = torch.optim.lr_scheduler.MultiStepLR(optimizer_mi,milestones=[20,40,60,80,100,120,140,160,180,200,220,240,260],gamma=0.9)\n"
   ],
   "metadata": {
    "collapsed": false,
    "pycharm": {
     "name": "#%%\n"
    }
   }
  },
  {
   "cell_type": "code",
   "execution_count": 11,
   "outputs": [],
   "source": [
    "def take_latents():\n",
    "    zs = torch.empty(0,latent_dim,1).to(device).requires_grad_(False)\n",
    "    ts = torch.empty(0,dtype=torch.long).to(device).requires_grad_(False)\n",
    "    mus = torch.empty(0,latent_dim,1).to(device).requires_grad_(False)\n",
    "    logvars = torch.empty(0,latent_dim,1).to(device).requires_grad_(False)\n",
    "#zs = []\n",
    "#ts = []\n",
    "\n",
    "#ts.dtype = torch.int\n",
    "\n",
    "    #for x, t in test_loader:\n",
    "    for batch_idx, (x,t) in enumerate(test_loader):\n",
    "    # original。xがデータ、tがラベル。\n",
    "    #for i, im in enumerate(x.view(-1, 28, 28).detach().numpy()[:10]):\n",
    "    #  ax = fig.add_subplot(3, 10, i+1, xticks=[], yticks=[])\n",
    "    #  ax.imshow(im, 'gray')\n",
    "    #x = x.to(device)\n",
    "    # generate from x\n",
    "        if batch_idx < take_latent_max:\n",
    "            x = x.to(device)\n",
    "            with torch.no_grad():\n",
    "                recon_batch,mu,logvar, z = model(x)\n",
    "            t = t.to(device)\n",
    "    #zs.append(z)\n",
    "    #ts.append(t)\n",
    "            zs = torch.cat((zs,z.view(-1,latent_dim,1)),0)\n",
    "            ts = torch.cat((ts,t),0)\n",
    "            mus = torch.cat((mus,mu.view(-1,latent_dim,1)),0)\n",
    "            logvars = torch.cat((logvars,logvar.view(-1,latent_dim,1)),0)\n",
    "    #y = y.view(-1, 28, 28)\n",
    "    #for i, im in enumerate(y.cpu().detach().numpy()[:10]):\n",
    "     # ax = fig.add_subplot(3, 10, i+11, xticks=[], yticks=[])\n",
    "     # ax.imshow(im, 'gray')\n",
    "    mus = torch.cat((mus,mu_c_g.permute(2,1,0)),0)\n",
    "    ts = torch.cat((ts,torch.arange(-1,-K_model_cluster-1,-1).to(device)),0)\n",
    "    return zs,ts,mus,logvars\n"
   ],
   "metadata": {
    "collapsed": false,
    "pycharm": {
     "name": "#%%\n"
    }
   }
  },
  {
   "cell_type": "code",
   "execution_count": 12,
   "outputs": [],
   "source": [
    "def gauss(mus,logvars,mu_c,logvar_c,inv_sm_pi_c,iter):\n",
    "\n",
    "    for i in range(iter):\n",
    "        with torch.no_grad():\n",
    "            Q_c = logvar_c+(logvars.exp()+(mus-mu_c).pow(2))/(logvar_c.exp())\n",
    "\n",
    "            gamma_c = (F.softmax(inv_sm_pi_c,dim=2)*((-0.5*Q_c.sum(1,keepdim=True)).exp()))/((F.softmax(inv_sm_pi_c,dim=2)*((-0.5*Q_c.sum(1,keepdim=True)).exp())).sum(2,keepdim=True))\n",
    "\n",
    "            N_c = gamma_c.sum(0,keepdim=True)\n",
    "            log_P = (((F.softmax(inv_sm_pi_c,dim=2)*((-0.5*Q_c.sum(1,keepdim=True)).exp())).sum(2).squeeze()).log()).sum()/((Q_c.shape)[0])\n",
    "            pi_c= N_c/(N_c.sum())\n",
    "            mu_c=(gamma_c*mus).sum(0,keepdim=True)/N_c\n",
    "            logvar_c=((gamma_c*((mus-mu_c).pow(2)+logvars.exp())).sum(0,keepdim=True)/N_c).log()\n",
    "\n",
    "\n",
    "    return mu_c,logvar_c,pi_c,Q_c,gamma_c,log_P\n"
   ],
   "metadata": {
    "collapsed": false,
    "pycharm": {
     "name": "#%%\n"
    }
   }
  },
  {
   "cell_type": "code",
   "execution_count": 13,
   "outputs": [],
   "source": [
    "def drawpoints(mus_numpy,ts_numpy):\n",
    "    colors = [\"red\", \"green\", \"blue\", \"orange\", \"purple\", \"brown\", \"fuchsia\", \"grey\", \"olive\", \"lightblue\",\"red\", \"green\", \"blue\", \"orange\", \"purple\", \"brown\", \"fuchsia\", \"grey\", \"olive\", \"lightblue\"]\n",
    "    for p,l in zip(points,ts_numpy):\n",
    "        plt.scatter(p[0],p[1],marker=\"${}$\".format(l),c=colors[l])\n",
    "\n",
    "cm = plt.cm.get_cmap('tab20')\n",
    "def drawpoints_with_centers(mus_numpy,ts_numpy,center_numpy,center_t_numpy):\n",
    "    for p,l in zip(mus_numpy,ts_numpy):\n",
    "        plt.scatter(p[0],p[1],marker=\"${}$\".format(l),color=cm.colors[l])\n",
    "    for p,l in zip(center_numpy,center_t_numpy):\n",
    "        plt.scatter(p[0],p[1],facecolors='none',edgecolors='red',s=200)\n",
    "    for p,l in zip(center_numpy,center_t_numpy):\n",
    "        plt.scatter(p[0],p[1],marker=\"${}$\".format(l),color='black',s=50)\n",
    "\n",
    "#    plt.xlim(-4,4)\n",
    "#    plt.ylim(-4,4)\n",
    "    plt.show()"
   ],
   "metadata": {
    "collapsed": false,
    "pycharm": {
     "name": "#%%\n"
    }
   }
  },
  {
   "cell_type": "code",
   "execution_count": 14,
   "outputs": [],
   "source": [
    "def show_generated_samples_c(mu_c,logvar_c):\n",
    "    for i in range(K_model_cluster):\n",
    "        with torch.no_grad():\n",
    "            sample_dist = MultivariateNormal(loc=mu_c[:,:,i],covariance_matrix=torch.diag(logvar_c[0,:,i].exp()))\n",
    "    #mu_distribution = MultivariateNormal(loc=mu_center.cpu(),covariance_matrix=cov_mus.cpu())\n",
    "            sample = sample_dist.sample([64,])\n",
    "#    sample = torch.randn(64,latent_dim).to(device)\n",
    "        #20次元の潜在空間のデータを64個作成して、GPUに送る\n",
    "            sample = model.decode(sample).cpu()\n",
    "        #ランダムな潜在変数から画像を生成する。\n",
    "            save_image(sample.view(64,1,28,28),save_folder+'/sample_c_' + str(i) + '.png',nrow=8)\n",
    "        #生成した６４個のデータを記録しておく"
   ],
   "metadata": {
    "collapsed": false,
    "pycharm": {
     "name": "#%%\n"
    }
   }
  },
  {
   "cell_type": "code",
   "execution_count": 15,
   "outputs": [],
   "source": [
    "def q_exponential(x,n):\n",
    "    if n==0:\n",
    "        return x.exp()\n",
    "    else:\n",
    "        return (1. - x/n).pow(-n)\n",
    "\n",
    "def q_log(x,n):\n",
    "    if n==0:\n",
    "        return x.log()\n",
    "    else:\n",
    "        return n*(x.pow(1./n)-1.)"
   ],
   "metadata": {
    "collapsed": false,
    "pycharm": {
     "name": "#%%\n"
    }
   }
  },
  {
   "cell_type": "code",
   "execution_count": 16,
   "outputs": [],
   "source": [
    "def shuffle_cat(x,z):\n",
    "    tz = torch.randperm(latent_dim)\n",
    "    return torch.cat([x(-1,input_dim),z[:,tz]],dim=1)"
   ],
   "metadata": {
    "collapsed": false,
    "pycharm": {
     "name": "#%%\n"
    }
   }
  },
  {
   "cell_type": "code",
   "execution_count": 17,
   "outputs": [],
   "source": [
    "def loss_function_c(recon_x,x,mus_f,logvars_f,mu_c_f,logvar_c_f,inv_sm_pi_c_f,z):\n",
    "    BCE = F.binary_cross_entropy(recon_x,x.view(-1,input_dim),reduction='sum')\n",
    "    KLD = -(q_log((F.softmax(inv_sm_pi_c_f,dim=2)*(q_exponential(-0.5*((-1.+logvar_c_f-logvars_f+(logvars_f.exp()+(mus_f-mu_c_f).pow(2))/(logvar_c_f.exp())).sum(1,keepdim=True)),qn_value))).sum(2,keepdim=True),qn_value)).sum()\n",
    "    MI = (MI_model(torch.cat([x.view(-1,input_dim),z],dim=1))-(MI_model(torch.cat([x.view(-1,input_dim),z[torch.randperm(batch_size),:]],dim=1))-1.).exp()).sum()\n",
    "#    KLD = -(((F.softmax(inv_sm_pi_c_f,dim=2)*((-0.5*((-1.+logvar_c_f-logvars_f+(logvars_f.exp()+(mus_f-mu_c_f).pow(2))/(logvar_c_f.exp())).sum(1,keepdim=True))).exp())).sum(2,keepdim=True)).log()).sum()#+(logvars_f.exp()+(mus_f-mu_c_f).pow(2))/(logvar_c_f.exp()))\n",
    "\n",
    "    return BCE+beta*KLD-infomax_alpha*MI"
   ],
   "metadata": {
    "collapsed": false,
    "pycharm": {
     "name": "#%%\n"
    }
   }
  },
  {
   "cell_type": "code",
   "execution_count": 18,
   "outputs": [],
   "source": [
    "def train_c(epoch,mu_c,logvar_c,inv_sm_pi_c):\n",
    "    model.train()\n",
    "    train_loss = 0\n",
    "    for batch_idx, (data,_) in enumerate(train_loader):\n",
    "        #ラベルは使わないようだ\n",
    "        data = data.to(device)\n",
    "        #データをGPUにおくる\n",
    "        optimizer.zero_grad()\n",
    "        optimizer_clustering.zero_grad()\n",
    "        optimizer_mi.zero_grad()\n",
    "        #傾きの初期化\n",
    "        recon_batch, mu, logvar,z_data = model(data)\n",
    "        #VAEからバッヂ分のデータと中心と分散のログを受け取る\n",
    "\n",
    "#        print('Train Epoch: {} [{}/{} ({:.0f}%)]\\tLoss: {}'.format(\n",
    "#              epoch,batch_idx*len(data),len(train_loader.dataset),\n",
    "#                100.*batch_idx/len(train_loader),\n",
    "#                inv_sm_pi_c_g\n",
    "#            ))\n",
    "\n",
    "        loss = loss_function_c(recon_x=recon_batch,x=data,mus_f=mu.view(-1,latent_dim,1),logvars_f=logvar.view(-1,latent_dim,1),mu_c_f=mu_c,logvar_c_f=logvar_c,inv_sm_pi_c_f=inv_sm_pi_c,z=z_data)\n",
    "        #バッヂ分のロスを計算。バッヂ数で割っていないようだ。書き出しのときにデータ数で割っている。\n",
    "        loss.backward()\n",
    "        #傾きを計算\n",
    "        train_loss+= loss.item()\n",
    "        optimizer.step()\n",
    "        #NNパラメータの更新\n",
    "\n",
    "        optimizer_clustering.step()\n",
    "        #NNクラスタリングパラメータの更新\n",
    "\n",
    "        optimizer_mi.step()\n",
    "        #MI_MLPの更新\n",
    "\n",
    "#        print(mu_c_g)\n",
    "#        print('var_c='.format(logvar_c_g.exp()))\n",
    "\n",
    "#        print('mu={}'.format(mu.view(-1,latent_dim,1).squeeze()))\n",
    "#        print('prec_c={}'.format((1./logvar_c_g.exp()).squeeze()))\n",
    "#        print('quad={}'.format(((((mu.view(-1,latent_dim,1)-mu_c_g).pow(2))/(logvar_c_g.exp())).sum(1)).squeeze()))\n",
    "#        print('quadvar={}'.format((((logvar.view(-1,latent_dim,1).exp())/(logvar_c_g.exp())).sum(1)).squeeze()))\n",
    "#        print('expDKL={}'.format((-0.5*((logvar_c_g+(logvar.view(-1,latent_dim,1).exp()+(mu.view(-1,latent_dim,1)-mu_c_g).pow(2))/(logvar_c_g.exp())).sum(1,keepdim=True))).exp().squeeze()))\n",
    "#        print('logDKL={}'.format((((F.softmax(inv_sm_pi_c_g,dim=2)*((-0.5*((logvar_c_g+(logvar.view(-1,latent_dim,1).exp()+(mu.view(-1,latent_dim,1)-mu_c_g).pow(2))/(logvar_c_g.exp())).sum(1,keepdim=True))).exp())).sum(2,keepdim=True)).log()).squeeze()))\n",
    "\n",
    "        if batch_idx % log_interval ==0:\n",
    "            #一定間隔でロスを書き出し。epochはここでしか使っていないようだ。len()は最初の次元の大きさを出すのでバッヂの大きさ。\n",
    "            print('Train Epoch: {} [{}/{} ({:.0f}%)]\\tLoss: {:.6f}'.format(\n",
    "              epoch,batch_idx*len(data),len(train_loader.dataset),\n",
    "                100.*batch_idx/len(train_loader),\n",
    "                loss.item()/len(data)\n",
    "            ))\n",
    "\n",
    "#        if batch_idx == 5:\n",
    "#            break"
   ],
   "metadata": {
    "collapsed": false,
    "pycharm": {
     "name": "#%%\n"
    }
   }
  },
  {
   "cell_type": "code",
   "execution_count": 19,
   "outputs": [],
   "source": [
    "def test_c(epoch,mu_c,logvar_c,inv_sm_pi_c):\n",
    "    model.eval()\n",
    "    test_loss = 0\n",
    "    with torch.no_grad():#バックプロパゲーションを行わないから、微分情報を残さない\n",
    "        for i, (data, _) in enumerate(test_loader):\n",
    "            #テストデータを取り出す。ラベルはいらない。\n",
    "            data =data.to(device)\n",
    "            #データをGPUに送る\n",
    "            recon_batch, mu, logvar,z_data = model(data)\n",
    "            #データからバッヂ分の再現画像と中心と分散の対数を出している。\n",
    "            test_loss += loss_function_c(recon_x=recon_batch,x=data,mus_f=mu.view(-1,latent_dim,1),logvars_f=logvar.view(-1,latent_dim,1),mu_c_f=mu_c,logvar_c_f=logvar_c,inv_sm_pi_c_f=inv_sm_pi_c,z=z_data).item()\n",
    "            #テストデータでのロスを出している\n",
    "            if i == 0:\n",
    "                #はじめのバッヂについて\n",
    "                n = min(data.size(0),16)\n",
    "                #nをバッヂのデータ数か８との小さい方として\n",
    "                comparizon = torch.cat([data[:n],recon_batch.view(batch_size,1,28,28)[:n]])\n",
    "                #元データと再現データを並べる\n",
    "                save_image(comparizon.cpu(),'./'+save_folder+'/reconstruction_c_' + str(epoch) + '.png',nrow=n)\n",
    "\n",
    "                test_loss /= len(test_loader.dataset)\n",
    "                print('====> Test set loss: {:.4f}'.format(test_loss))"
   ],
   "metadata": {
    "collapsed": false,
    "pycharm": {
     "name": "#%%\n"
    }
   }
  },
  {
   "cell_type": "code",
   "execution_count": 20,
   "outputs": [],
   "source": [
    "def train_c_epoch(epochs,mu_c,logvar_c,inv_sm_pi_c):\n",
    "    for epoch in range(1, epochs +1):\n",
    "        train_c(epoch,mu_c,logvar_c,inv_sm_pi_c)\n",
    "        test_c(epoch,mu_c,logvar_c,inv_sm_pi_c)\n",
    "        with torch.no_grad():\n",
    "            sample = torch.randn(64,latent_dim).to(device)\n",
    "        #20次元の潜在空間のデータを64個作成して、GPUに送る\n",
    "            sample = model.decode(sample).cpu()\n",
    "        #ランダムな潜在変数から画像を生成する。\n",
    "            save_image(sample.view(64,1,28,28),save_folder+'/sample_c_epoch_' + str(epoch) + '.png',nrow=8)\n",
    "        #生成した６４個のデータを記録しておく\n"
   ],
   "metadata": {
    "collapsed": false,
    "pycharm": {
     "name": "#%%\n"
    }
   }
  },
  {
   "cell_type": "code",
   "execution_count": 21,
   "outputs": [
    {
     "data": {
      "text/plain": "(tensor([[[ 0.1253,  0.4156, -0.5116,  1.2595,  0.9449, -0.3832, -0.4497,\n            0.1261, -0.2252,  2.1444],\n          [-0.5140, -0.9631, -0.2781,  0.5676, -0.9896,  0.9176,  0.3167,\n           -0.5226, -1.0699, -1.3057],\n          [-2.9883, -0.3983, -1.1811, -1.1120, -1.3389,  1.5144, -1.5289,\n           -0.8110, -1.0453, -1.7558],\n          [ 0.5161,  3.5164,  1.6547, -0.7244,  0.4444,  0.4308,  0.7442,\n            0.6143,  0.8675, -0.0389],\n          [ 0.3389, -0.6457, -0.9585,  1.1466, -0.4375, -1.4555,  1.5328,\n           -0.6412,  0.6605, -2.1322],\n          [ 0.0937, -1.0781, -0.9495,  0.8178,  0.7850,  0.9593,  1.2652,\n            0.3977, -0.8257,  0.4051],\n          [ 0.8352, -0.6841,  0.0721,  0.5499,  0.4097,  1.0574,  0.5719,\n            1.3571,  1.1121,  0.2202],\n          [-0.3869,  0.9040,  0.9154, -0.4179,  0.8457,  0.5181,  0.1907,\n           -0.2767,  1.5869, -0.7556],\n          [-0.9828,  0.6707,  0.2960,  1.8229, -0.7451,  1.3287,  0.0200,\n            0.9622, -0.7227,  1.5876],\n          [ 0.3063, -0.2680,  0.5702, -0.4159,  0.6235,  0.0478,  1.1216,\n           -0.4780, -2.4216, -1.0415]]], device='cuda:0', requires_grad=True),\n tensor([[[0., 0., 0., 0., 0., 0., 0., 0., 0., 0.],\n          [0., 0., 0., 0., 0., 0., 0., 0., 0., 0.],\n          [0., 0., 0., 0., 0., 0., 0., 0., 0., 0.],\n          [0., 0., 0., 0., 0., 0., 0., 0., 0., 0.],\n          [0., 0., 0., 0., 0., 0., 0., 0., 0., 0.],\n          [0., 0., 0., 0., 0., 0., 0., 0., 0., 0.],\n          [0., 0., 0., 0., 0., 0., 0., 0., 0., 0.],\n          [0., 0., 0., 0., 0., 0., 0., 0., 0., 0.],\n          [0., 0., 0., 0., 0., 0., 0., 0., 0., 0.],\n          [0., 0., 0., 0., 0., 0., 0., 0., 0., 0.]]], device='cuda:0',\n        requires_grad=True),\n tensor([[[0.1000, 0.1000, 0.1000, 0.1000, 0.1000, 0.1000, 0.1000, 0.1000,\n           0.1000, 0.1000]]], device='cuda:0', grad_fn=<SoftmaxBackward>))"
     },
     "execution_count": 21,
     "metadata": {},
     "output_type": "execute_result"
    }
   ],
   "source": [
    "\n",
    "mu_c_g,logvar_c_g,F.softmax(inv_sm_pi_c_g,dim=2)"
   ],
   "metadata": {
    "collapsed": false,
    "pycharm": {
     "name": "#%%\n"
    }
   }
  },
  {
   "cell_type": "code",
   "execution_count": 22,
   "outputs": [],
   "source": [
    "#infomax_alpha = 2."
   ],
   "metadata": {
    "collapsed": false,
    "pycharm": {
     "name": "#%%\n"
    }
   }
  },
  {
   "cell_type": "code",
   "execution_count": 125,
   "outputs": [
    {
     "name": "stdout",
     "output_type": "stream",
     "text": [
      "Train Epoch: 0 [0/60000 (0%)]\tLoss: 49.554492\n",
      "====> Test set loss: 0.7178\n",
      "Train Epoch: 1 [0/60000 (0%)]\tLoss: 71.525830\n",
      "====> Test set loss: 0.8557\n",
      "Train Epoch: 2 [0/60000 (0%)]\tLoss: 47.535933\n",
      "====> Test set loss: 0.8011\n",
      "Train Epoch: 3 [0/60000 (0%)]\tLoss: 56.896919\n",
      "====> Test set loss: 0.5706\n",
      "Train Epoch: 4 [0/60000 (0%)]\tLoss: 60.314058\n",
      "====> Test set loss: 0.6026\n",
      "Train Epoch: 5 [0/60000 (0%)]\tLoss: 55.777837\n",
      "====> Test set loss: 0.6710\n",
      "Train Epoch: 6 [0/60000 (0%)]\tLoss: 68.396177\n",
      "====> Test set loss: 0.7073\n",
      "Train Epoch: 7 [0/60000 (0%)]\tLoss: 52.111172\n",
      "====> Test set loss: 0.6734\n",
      "Train Epoch: 8 [0/60000 (0%)]\tLoss: 61.275220\n",
      "====> Test set loss: 0.8529\n",
      "Train Epoch: 9 [0/60000 (0%)]\tLoss: 59.015918\n",
      "====> Test set loss: 0.5900\n",
      "Train Epoch: 10 [0/60000 (0%)]\tLoss: 69.643457\n",
      "====> Test set loss: 0.6181\n",
      "Train Epoch: 11 [0/60000 (0%)]\tLoss: 72.323101\n",
      "====> Test set loss: 0.5944\n",
      "Train Epoch: 12 [0/60000 (0%)]\tLoss: 54.527954\n",
      "====> Test set loss: 0.7066\n",
      "Train Epoch: 13 [0/60000 (0%)]\tLoss: 77.630645\n",
      "====> Test set loss: 0.8659\n",
      "Train Epoch: 14 [0/60000 (0%)]\tLoss: 71.029761\n",
      "====> Test set loss: 0.7052\n",
      "Train Epoch: 15 [0/60000 (0%)]\tLoss: 62.908813\n",
      "====> Test set loss: 0.6196\n",
      "Train Epoch: 16 [0/60000 (0%)]\tLoss: 70.969268\n",
      "====> Test set loss: 0.7061\n",
      "Train Epoch: 17 [0/60000 (0%)]\tLoss: 50.876870\n",
      "====> Test set loss: 0.7556\n",
      "Train Epoch: 18 [0/60000 (0%)]\tLoss: 56.809014\n",
      "====> Test set loss: 0.6532\n",
      "Train Epoch: 19 [0/60000 (0%)]\tLoss: 78.012676\n",
      "====> Test set loss: 0.6998\n",
      "Train Epoch: 20 [0/60000 (0%)]\tLoss: 59.443887\n",
      "====> Test set loss: 0.5308\n",
      "Train Epoch: 21 [0/60000 (0%)]\tLoss: 64.001699\n",
      "====> Test set loss: 0.5995\n",
      "Train Epoch: 22 [0/60000 (0%)]\tLoss: 64.286104\n",
      "====> Test set loss: 0.6805\n",
      "Train Epoch: 23 [0/60000 (0%)]\tLoss: 56.010703\n",
      "====> Test set loss: 0.5493\n",
      "Train Epoch: 24 [0/60000 (0%)]\tLoss: 51.021870\n",
      "====> Test set loss: 0.6201\n",
      "Train Epoch: 25 [0/60000 (0%)]\tLoss: 55.134863\n",
      "====> Test set loss: 0.6793\n",
      "Train Epoch: 26 [0/60000 (0%)]\tLoss: 55.880459\n",
      "====> Test set loss: 0.5473\n",
      "Train Epoch: 27 [0/60000 (0%)]\tLoss: 50.936865\n",
      "====> Test set loss: 0.5878\n",
      "Train Epoch: 28 [0/60000 (0%)]\tLoss: 60.503950\n",
      "====> Test set loss: 0.7722\n",
      "Train Epoch: 29 [0/60000 (0%)]\tLoss: 68.644385\n",
      "====> Test set loss: 0.7637\n",
      "Train Epoch: 30 [0/60000 (0%)]\tLoss: 58.590352\n",
      "====> Test set loss: 0.9898\n",
      "Train Epoch: 31 [0/60000 (0%)]\tLoss: 51.553506\n",
      "====> Test set loss: 0.5575\n",
      "Train Epoch: 32 [0/60000 (0%)]\tLoss: 77.124517\n",
      "====> Test set loss: 0.6023\n",
      "Train Epoch: 33 [0/60000 (0%)]\tLoss: 48.292446\n",
      "====> Test set loss: 0.7891\n",
      "Train Epoch: 34 [0/60000 (0%)]\tLoss: 53.137666\n",
      "====> Test set loss: 0.8150\n",
      "Train Epoch: 35 [0/60000 (0%)]\tLoss: 97.155615\n",
      "====> Test set loss: 0.7754\n",
      "Train Epoch: 36 [0/60000 (0%)]\tLoss: 46.729624\n",
      "====> Test set loss: 0.7700\n",
      "Train Epoch: 37 [0/60000 (0%)]\tLoss: 65.086660\n",
      "====> Test set loss: 0.5504\n",
      "Train Epoch: 38 [0/60000 (0%)]\tLoss: 68.988560\n",
      "====> Test set loss: 0.7039\n",
      "Train Epoch: 39 [0/60000 (0%)]\tLoss: 53.635098\n",
      "====> Test set loss: 0.8105\n",
      "Train Epoch: 40 [0/60000 (0%)]\tLoss: 62.634517\n",
      "====> Test set loss: 0.6804\n",
      "Train Epoch: 41 [0/60000 (0%)]\tLoss: 70.192227\n",
      "====> Test set loss: 0.7922\n",
      "Train Epoch: 42 [0/60000 (0%)]\tLoss: 59.944800\n",
      "====> Test set loss: 0.5688\n",
      "Train Epoch: 43 [0/60000 (0%)]\tLoss: 72.517695\n",
      "====> Test set loss: 0.8023\n",
      "Train Epoch: 44 [0/60000 (0%)]\tLoss: 65.951382\n",
      "====> Test set loss: 0.7439\n",
      "Train Epoch: 45 [0/60000 (0%)]\tLoss: 64.909023\n",
      "====> Test set loss: 0.6130\n",
      "Train Epoch: 46 [0/60000 (0%)]\tLoss: 58.716436\n",
      "====> Test set loss: 0.7392\n",
      "Train Epoch: 47 [0/60000 (0%)]\tLoss: 45.715156\n",
      "====> Test set loss: 0.6788\n",
      "Train Epoch: 48 [0/60000 (0%)]\tLoss: 49.998110\n",
      "====> Test set loss: 0.6400\n",
      "Train Epoch: 49 [0/60000 (0%)]\tLoss: 50.647983\n",
      "====> Test set loss: 0.6587\n",
      "Train Epoch: 50 [0/60000 (0%)]\tLoss: 59.179678\n",
      "====> Test set loss: 0.5755\n",
      "Train Epoch: 51 [0/60000 (0%)]\tLoss: 66.364995\n",
      "====> Test set loss: 0.7939\n",
      "Train Epoch: 52 [0/60000 (0%)]\tLoss: 52.491113\n",
      "====> Test set loss: 0.6225\n",
      "Train Epoch: 53 [0/60000 (0%)]\tLoss: 52.988057\n",
      "====> Test set loss: 0.6158\n",
      "Train Epoch: 54 [0/60000 (0%)]\tLoss: 48.826460\n",
      "====> Test set loss: 0.8170\n",
      "Train Epoch: 55 [0/60000 (0%)]\tLoss: 61.192383\n",
      "====> Test set loss: 0.5593\n",
      "Train Epoch: 56 [0/60000 (0%)]\tLoss: 63.391533\n",
      "====> Test set loss: 0.5782\n",
      "Train Epoch: 57 [0/60000 (0%)]\tLoss: 72.079932\n",
      "====> Test set loss: 0.5093\n",
      "Train Epoch: 58 [0/60000 (0%)]\tLoss: 68.547949\n",
      "====> Test set loss: 0.7811\n",
      "Train Epoch: 59 [0/60000 (0%)]\tLoss: 77.809995\n",
      "====> Test set loss: 0.6464\n",
      "Train Epoch: 60 [0/60000 (0%)]\tLoss: 58.864395\n",
      "====> Test set loss: 0.6657\n",
      "Train Epoch: 61 [0/60000 (0%)]\tLoss: 75.003433\n",
      "====> Test set loss: 0.5635\n",
      "Train Epoch: 62 [0/60000 (0%)]\tLoss: 51.615410\n",
      "====> Test set loss: 0.5412\n",
      "Train Epoch: 63 [0/60000 (0%)]\tLoss: 54.823711\n",
      "====> Test set loss: 0.8506\n",
      "Train Epoch: 64 [0/60000 (0%)]\tLoss: 52.576377\n",
      "====> Test set loss: 0.7223\n",
      "Train Epoch: 65 [0/60000 (0%)]\tLoss: 55.435249\n",
      "====> Test set loss: 0.7895\n",
      "Train Epoch: 66 [0/60000 (0%)]\tLoss: 50.199858\n",
      "====> Test set loss: 0.6138\n",
      "Train Epoch: 67 [0/60000 (0%)]\tLoss: 57.371328\n",
      "====> Test set loss: 0.8754\n",
      "Train Epoch: 68 [0/60000 (0%)]\tLoss: 49.816504\n",
      "====> Test set loss: 0.7900\n",
      "Train Epoch: 69 [0/60000 (0%)]\tLoss: 57.116021\n",
      "====> Test set loss: 0.5817\n",
      "Train Epoch: 70 [0/60000 (0%)]\tLoss: 55.329707\n",
      "====> Test set loss: 0.5673\n",
      "Train Epoch: 71 [0/60000 (0%)]\tLoss: 54.409092\n",
      "====> Test set loss: 0.5629\n",
      "Train Epoch: 72 [0/60000 (0%)]\tLoss: 55.427017\n",
      "====> Test set loss: 0.6156\n",
      "Train Epoch: 73 [0/60000 (0%)]\tLoss: 46.973462\n",
      "====> Test set loss: 0.6235\n",
      "Train Epoch: 74 [0/60000 (0%)]\tLoss: 60.001670\n",
      "====> Test set loss: 0.5924\n",
      "Train Epoch: 75 [0/60000 (0%)]\tLoss: 48.375557\n",
      "====> Test set loss: 0.5826\n",
      "Train Epoch: 76 [0/60000 (0%)]\tLoss: 65.650596\n",
      "====> Test set loss: 0.7505\n",
      "Train Epoch: 77 [0/60000 (0%)]\tLoss: 56.010273\n",
      "====> Test set loss: 0.6342\n",
      "Train Epoch: 78 [0/60000 (0%)]\tLoss: 49.380269\n",
      "====> Test set loss: 0.5397\n",
      "Train Epoch: 79 [0/60000 (0%)]\tLoss: 77.457559\n",
      "====> Test set loss: 0.5557\n",
      "Train Epoch: 80 [0/60000 (0%)]\tLoss: 59.030151\n",
      "====> Test set loss: 0.5601\n",
      "Train Epoch: 81 [0/60000 (0%)]\tLoss: 56.784556\n",
      "====> Test set loss: 0.5086\n",
      "Train Epoch: 82 [0/60000 (0%)]\tLoss: 60.233340\n",
      "====> Test set loss: 0.5384\n",
      "Train Epoch: 83 [0/60000 (0%)]\tLoss: 80.179131\n",
      "====> Test set loss: 0.7334\n",
      "Train Epoch: 84 [0/60000 (0%)]\tLoss: 68.525244\n",
      "====> Test set loss: 0.7478\n",
      "Train Epoch: 85 [0/60000 (0%)]\tLoss: 77.599063\n",
      "====> Test set loss: 0.5742\n",
      "Train Epoch: 86 [0/60000 (0%)]\tLoss: 87.083291\n",
      "====> Test set loss: 0.5028\n",
      "Train Epoch: 87 [0/60000 (0%)]\tLoss: 60.010483\n",
      "====> Test set loss: 0.5290\n",
      "Train Epoch: 88 [0/60000 (0%)]\tLoss: 85.485244\n",
      "====> Test set loss: 0.8286\n",
      "Train Epoch: 89 [0/60000 (0%)]\tLoss: 56.773071\n",
      "====> Test set loss: 0.5929\n",
      "Train Epoch: 90 [0/60000 (0%)]\tLoss: 52.246113\n",
      "====> Test set loss: 0.5902\n",
      "Train Epoch: 91 [0/60000 (0%)]\tLoss: 60.461567\n",
      "====> Test set loss: 0.6476\n",
      "Train Epoch: 92 [0/60000 (0%)]\tLoss: 69.006865\n",
      "====> Test set loss: 0.7346\n",
      "Train Epoch: 93 [0/60000 (0%)]\tLoss: 70.088418\n",
      "====> Test set loss: 0.7447\n",
      "Train Epoch: 94 [0/60000 (0%)]\tLoss: 53.728374\n",
      "====> Test set loss: 0.5638\n",
      "Train Epoch: 95 [0/60000 (0%)]\tLoss: 51.286875\n",
      "====> Test set loss: 0.6192\n",
      "Train Epoch: 96 [0/60000 (0%)]\tLoss: 53.505698\n",
      "====> Test set loss: 0.7299\n",
      "Train Epoch: 97 [0/60000 (0%)]\tLoss: 49.784805\n",
      "====> Test set loss: 0.7981\n",
      "Train Epoch: 98 [0/60000 (0%)]\tLoss: 72.714971\n",
      "====> Test set loss: 0.5191\n",
      "Train Epoch: 99 [0/60000 (0%)]\tLoss: 59.551123\n",
      "====> Test set loss: 0.6431\n",
      "Train Epoch: 100 [0/60000 (0%)]\tLoss: 65.936265\n",
      "====> Test set loss: 0.9015\n",
      "Train Epoch: 101 [0/60000 (0%)]\tLoss: 53.131260\n",
      "====> Test set loss: 0.5436\n",
      "Train Epoch: 102 [0/60000 (0%)]\tLoss: 47.992148\n",
      "====> Test set loss: 0.6977\n",
      "Train Epoch: 103 [0/60000 (0%)]\tLoss: 63.254702\n",
      "====> Test set loss: 0.6166\n",
      "Train Epoch: 104 [0/60000 (0%)]\tLoss: 69.396953\n",
      "====> Test set loss: 0.7722\n",
      "Train Epoch: 105 [0/60000 (0%)]\tLoss: 69.871235\n",
      "====> Test set loss: 0.4771\n",
      "Train Epoch: 106 [0/60000 (0%)]\tLoss: 49.021973\n",
      "====> Test set loss: 0.8484\n",
      "Train Epoch: 107 [0/60000 (0%)]\tLoss: 50.242285\n",
      "====> Test set loss: 0.8452\n",
      "Train Epoch: 108 [0/60000 (0%)]\tLoss: 66.321084\n",
      "====> Test set loss: 0.5794\n",
      "Train Epoch: 109 [0/60000 (0%)]\tLoss: 73.488652\n",
      "====> Test set loss: 0.6760\n",
      "Train Epoch: 110 [0/60000 (0%)]\tLoss: 49.145254\n",
      "====> Test set loss: 0.5405\n",
      "Train Epoch: 111 [0/60000 (0%)]\tLoss: 81.091289\n",
      "====> Test set loss: 0.5599\n",
      "Train Epoch: 112 [0/60000 (0%)]\tLoss: 80.088262\n",
      "====> Test set loss: 0.6989\n",
      "Train Epoch: 113 [0/60000 (0%)]\tLoss: 59.788564\n",
      "====> Test set loss: 0.5931\n",
      "Train Epoch: 114 [0/60000 (0%)]\tLoss: 58.962236\n",
      "====> Test set loss: 0.6770\n",
      "Train Epoch: 115 [0/60000 (0%)]\tLoss: 51.927100\n",
      "====> Test set loss: 0.8060\n",
      "Train Epoch: 116 [0/60000 (0%)]\tLoss: 55.160352\n",
      "====> Test set loss: 0.6693\n",
      "Train Epoch: 117 [0/60000 (0%)]\tLoss: 56.593911\n",
      "====> Test set loss: 0.7746\n",
      "Train Epoch: 118 [0/60000 (0%)]\tLoss: 68.585781\n",
      "====> Test set loss: 0.7042\n",
      "Train Epoch: 119 [0/60000 (0%)]\tLoss: 53.902886\n",
      "====> Test set loss: 0.6726\n",
      "Train Epoch: 120 [0/60000 (0%)]\tLoss: 51.380107\n",
      "====> Test set loss: 0.7172\n",
      "Train Epoch: 121 [0/60000 (0%)]\tLoss: 55.915381\n",
      "====> Test set loss: 0.6849\n",
      "Train Epoch: 122 [0/60000 (0%)]\tLoss: 46.126689\n",
      "====> Test set loss: 0.8184\n",
      "Train Epoch: 123 [0/60000 (0%)]\tLoss: 52.932617\n",
      "====> Test set loss: 0.6121\n",
      "Train Epoch: 124 [0/60000 (0%)]\tLoss: 58.839536\n",
      "====> Test set loss: 0.7409\n",
      "Train Epoch: 125 [0/60000 (0%)]\tLoss: 62.615859\n",
      "====> Test set loss: 0.7310\n",
      "Train Epoch: 126 [0/60000 (0%)]\tLoss: 75.681138\n",
      "====> Test set loss: 0.8144\n",
      "Train Epoch: 127 [0/60000 (0%)]\tLoss: 78.438623\n",
      "====> Test set loss: 0.6988\n",
      "Train Epoch: 128 [0/60000 (0%)]\tLoss: 46.781592\n",
      "====> Test set loss: 0.5924\n",
      "Train Epoch: 129 [0/60000 (0%)]\tLoss: 73.291831\n",
      "====> Test set loss: 0.5612\n",
      "Train Epoch: 130 [0/60000 (0%)]\tLoss: 44.640693\n",
      "====> Test set loss: 0.6919\n",
      "Train Epoch: 131 [0/60000 (0%)]\tLoss: 47.795059\n",
      "====> Test set loss: 0.7081\n",
      "Train Epoch: 132 [0/60000 (0%)]\tLoss: 58.452148\n",
      "====> Test set loss: 0.5881\n",
      "Train Epoch: 133 [0/60000 (0%)]\tLoss: 50.323770\n",
      "====> Test set loss: 0.8302\n",
      "Train Epoch: 134 [0/60000 (0%)]\tLoss: 67.492588\n",
      "====> Test set loss: 0.7990\n",
      "Train Epoch: 135 [0/60000 (0%)]\tLoss: 38.210938\n",
      "====> Test set loss: 0.7148\n",
      "Train Epoch: 136 [0/60000 (0%)]\tLoss: 49.247109\n",
      "====> Test set loss: 0.6816\n",
      "Train Epoch: 137 [0/60000 (0%)]\tLoss: 53.796548\n",
      "====> Test set loss: 0.6372\n",
      "Train Epoch: 138 [0/60000 (0%)]\tLoss: 47.575713\n",
      "====> Test set loss: 0.7018\n",
      "Train Epoch: 139 [0/60000 (0%)]\tLoss: 73.846372\n",
      "====> Test set loss: 0.8540\n",
      "Train Epoch: 140 [0/60000 (0%)]\tLoss: 58.304497\n",
      "====> Test set loss: 0.5851\n",
      "Train Epoch: 141 [0/60000 (0%)]\tLoss: 81.872300\n",
      "====> Test set loss: 0.6385\n",
      "Train Epoch: 142 [0/60000 (0%)]\tLoss: 55.007397\n",
      "====> Test set loss: 0.7039\n",
      "Train Epoch: 143 [0/60000 (0%)]\tLoss: 51.517886\n",
      "====> Test set loss: 0.6622\n",
      "Train Epoch: 144 [0/60000 (0%)]\tLoss: 51.129868\n",
      "====> Test set loss: 0.5659\n",
      "Train Epoch: 145 [0/60000 (0%)]\tLoss: 82.554082\n",
      "====> Test set loss: 0.8376\n",
      "Train Epoch: 146 [0/60000 (0%)]\tLoss: 60.333955\n",
      "====> Test set loss: 0.6820\n",
      "Train Epoch: 147 [0/60000 (0%)]\tLoss: 50.288350\n",
      "====> Test set loss: 0.7031\n",
      "Train Epoch: 148 [0/60000 (0%)]\tLoss: 65.723096\n",
      "====> Test set loss: 0.5827\n",
      "Train Epoch: 149 [0/60000 (0%)]\tLoss: 48.303877\n",
      "====> Test set loss: 0.7795\n",
      "Train Epoch: 150 [0/60000 (0%)]\tLoss: 76.342598\n",
      "====> Test set loss: 0.6230\n",
      "Train Epoch: 151 [0/60000 (0%)]\tLoss: 56.869707\n",
      "====> Test set loss: 0.6337\n",
      "Train Epoch: 152 [0/60000 (0%)]\tLoss: 65.869053\n",
      "====> Test set loss: 0.5513\n",
      "Train Epoch: 153 [0/60000 (0%)]\tLoss: 71.796812\n",
      "====> Test set loss: 0.5866\n",
      "Train Epoch: 154 [0/60000 (0%)]\tLoss: 52.106597\n",
      "====> Test set loss: 0.5364\n",
      "Train Epoch: 155 [0/60000 (0%)]\tLoss: 69.109736\n",
      "====> Test set loss: 0.5718\n",
      "Train Epoch: 156 [0/60000 (0%)]\tLoss: 71.243789\n",
      "====> Test set loss: 0.6860\n",
      "Train Epoch: 157 [0/60000 (0%)]\tLoss: 66.600820\n",
      "====> Test set loss: 0.5870\n",
      "Train Epoch: 158 [0/60000 (0%)]\tLoss: 52.527998\n",
      "====> Test set loss: 0.6209\n",
      "Train Epoch: 159 [0/60000 (0%)]\tLoss: 55.421499\n",
      "====> Test set loss: 0.5214\n",
      "Train Epoch: 160 [0/60000 (0%)]\tLoss: 61.404971\n",
      "====> Test set loss: 0.5401\n",
      "Train Epoch: 161 [0/60000 (0%)]\tLoss: 63.743516\n",
      "====> Test set loss: 0.6704\n",
      "Train Epoch: 162 [0/60000 (0%)]\tLoss: 50.308218\n",
      "====> Test set loss: 0.6038\n",
      "Train Epoch: 163 [0/60000 (0%)]\tLoss: 91.794990\n",
      "====> Test set loss: 0.5474\n",
      "Train Epoch: 164 [0/60000 (0%)]\tLoss: 71.852065\n",
      "====> Test set loss: 0.6388\n",
      "Train Epoch: 165 [0/60000 (0%)]\tLoss: 55.458599\n",
      "====> Test set loss: 0.5514\n",
      "Train Epoch: 166 [0/60000 (0%)]\tLoss: 55.814277\n",
      "====> Test set loss: 0.6401\n",
      "Train Epoch: 167 [0/60000 (0%)]\tLoss: 49.652393\n",
      "====> Test set loss: 0.6853\n",
      "Train Epoch: 168 [0/60000 (0%)]\tLoss: 60.348179\n",
      "====> Test set loss: 0.5581\n",
      "Train Epoch: 169 [0/60000 (0%)]\tLoss: 44.494839\n",
      "====> Test set loss: 0.5418\n",
      "Train Epoch: 170 [0/60000 (0%)]\tLoss: 78.638159\n",
      "====> Test set loss: 0.7610\n",
      "Train Epoch: 171 [0/60000 (0%)]\tLoss: 70.102715\n",
      "====> Test set loss: 0.7709\n",
      "Train Epoch: 172 [0/60000 (0%)]\tLoss: 52.995195\n",
      "====> Test set loss: 0.5154\n",
      "Train Epoch: 173 [0/60000 (0%)]\tLoss: 67.479409\n",
      "====> Test set loss: 0.8431\n",
      "Train Epoch: 174 [0/60000 (0%)]\tLoss: 51.540420\n",
      "====> Test set loss: 0.8875\n",
      "Train Epoch: 175 [0/60000 (0%)]\tLoss: 87.033066\n",
      "====> Test set loss: 0.6723\n",
      "Train Epoch: 176 [0/60000 (0%)]\tLoss: 47.961865\n",
      "====> Test set loss: 0.8800\n",
      "Train Epoch: 177 [0/60000 (0%)]\tLoss: 50.108701\n",
      "====> Test set loss: 0.5802\n",
      "Train Epoch: 178 [0/60000 (0%)]\tLoss: 48.641289\n",
      "====> Test set loss: 0.6034\n",
      "Train Epoch: 179 [0/60000 (0%)]\tLoss: 50.072847\n",
      "====> Test set loss: 0.8748\n",
      "Train Epoch: 180 [0/60000 (0%)]\tLoss: 70.275537\n",
      "====> Test set loss: 0.6000\n",
      "Train Epoch: 181 [0/60000 (0%)]\tLoss: 53.429131\n",
      "====> Test set loss: 0.5307\n",
      "Train Epoch: 182 [0/60000 (0%)]\tLoss: 70.085811\n",
      "====> Test set loss: 0.7311\n",
      "Train Epoch: 183 [0/60000 (0%)]\tLoss: 51.658110\n",
      "====> Test set loss: 0.5865\n",
      "Train Epoch: 184 [0/60000 (0%)]\tLoss: 61.234419\n",
      "====> Test set loss: 0.8271\n",
      "Train Epoch: 185 [0/60000 (0%)]\tLoss: 60.360107\n",
      "====> Test set loss: 0.7671\n",
      "Train Epoch: 186 [0/60000 (0%)]\tLoss: 45.344561\n",
      "====> Test set loss: 0.7256\n",
      "Train Epoch: 187 [0/60000 (0%)]\tLoss: 69.625386\n",
      "====> Test set loss: 0.5401\n",
      "Train Epoch: 188 [0/60000 (0%)]\tLoss: 56.842432\n",
      "====> Test set loss: 0.5877\n",
      "Train Epoch: 189 [0/60000 (0%)]\tLoss: 58.698135\n",
      "====> Test set loss: 0.8496\n",
      "Train Epoch: 190 [0/60000 (0%)]\tLoss: 54.042158\n",
      "====> Test set loss: 0.6058\n",
      "Train Epoch: 191 [0/60000 (0%)]\tLoss: 59.403711\n",
      "====> Test set loss: 0.5288\n",
      "Train Epoch: 192 [0/60000 (0%)]\tLoss: 69.139609\n",
      "====> Test set loss: 0.5663\n",
      "Train Epoch: 193 [0/60000 (0%)]\tLoss: 41.619287\n",
      "====> Test set loss: 0.6814\n",
      "Train Epoch: 194 [0/60000 (0%)]\tLoss: 60.712715\n",
      "====> Test set loss: 0.6724\n",
      "Train Epoch: 195 [0/60000 (0%)]\tLoss: 76.656294\n",
      "====> Test set loss: 0.6101\n",
      "Train Epoch: 196 [0/60000 (0%)]\tLoss: 55.437490\n",
      "====> Test set loss: 0.7446\n",
      "Train Epoch: 197 [0/60000 (0%)]\tLoss: 69.977314\n",
      "====> Test set loss: 0.6013\n",
      "Train Epoch: 198 [0/60000 (0%)]\tLoss: 74.533086\n",
      "====> Test set loss: 0.7490\n",
      "Train Epoch: 199 [0/60000 (0%)]\tLoss: 44.193975\n",
      "====> Test set loss: 0.8044\n",
      "Train Epoch: 200 [0/60000 (0%)]\tLoss: 66.498984\n",
      "====> Test set loss: 0.6092\n",
      "Train Epoch: 201 [0/60000 (0%)]\tLoss: 57.028896\n",
      "====> Test set loss: 0.5532\n",
      "Train Epoch: 202 [0/60000 (0%)]\tLoss: 75.646265\n",
      "====> Test set loss: 0.7125\n",
      "Train Epoch: 203 [0/60000 (0%)]\tLoss: 69.780332\n",
      "====> Test set loss: 0.7760\n",
      "Train Epoch: 204 [0/60000 (0%)]\tLoss: 56.955894\n",
      "====> Test set loss: 0.8957\n",
      "Train Epoch: 205 [0/60000 (0%)]\tLoss: 55.893437\n",
      "====> Test set loss: 0.6402\n",
      "Train Epoch: 206 [0/60000 (0%)]\tLoss: 84.504063\n",
      "====> Test set loss: 0.9482\n",
      "Train Epoch: 207 [0/60000 (0%)]\tLoss: 70.301851\n",
      "====> Test set loss: 0.6487\n",
      "Train Epoch: 208 [0/60000 (0%)]\tLoss: 63.334834\n",
      "====> Test set loss: 0.6896\n",
      "Train Epoch: 209 [0/60000 (0%)]\tLoss: 51.474883\n",
      "====> Test set loss: 0.6306\n",
      "Train Epoch: 210 [0/60000 (0%)]\tLoss: 60.733887\n",
      "====> Test set loss: 0.6375\n",
      "Train Epoch: 211 [0/60000 (0%)]\tLoss: 61.081001\n",
      "====> Test set loss: 0.6951\n",
      "Train Epoch: 212 [0/60000 (0%)]\tLoss: 48.031743\n",
      "====> Test set loss: 0.5675\n",
      "Train Epoch: 213 [0/60000 (0%)]\tLoss: 55.703311\n",
      "====> Test set loss: 0.6037\n",
      "Train Epoch: 214 [0/60000 (0%)]\tLoss: 56.686660\n",
      "====> Test set loss: 0.7120\n",
      "Train Epoch: 215 [0/60000 (0%)]\tLoss: 48.302432\n",
      "====> Test set loss: 0.6348\n",
      "Train Epoch: 216 [0/60000 (0%)]\tLoss: 66.798809\n",
      "====> Test set loss: 0.7236\n",
      "Train Epoch: 217 [0/60000 (0%)]\tLoss: 67.618076\n",
      "====> Test set loss: 0.5729\n",
      "Train Epoch: 218 [0/60000 (0%)]\tLoss: 60.511367\n",
      "====> Test set loss: 0.6943\n",
      "Train Epoch: 219 [0/60000 (0%)]\tLoss: 54.985381\n",
      "====> Test set loss: 0.5522\n",
      "Train Epoch: 220 [0/60000 (0%)]\tLoss: 53.089375\n",
      "====> Test set loss: 0.6071\n",
      "Train Epoch: 221 [0/60000 (0%)]\tLoss: 68.180234\n",
      "====> Test set loss: 0.7285\n",
      "Train Epoch: 222 [0/60000 (0%)]\tLoss: 47.478809\n",
      "====> Test set loss: 0.7301\n",
      "Train Epoch: 223 [0/60000 (0%)]\tLoss: 41.866245\n",
      "====> Test set loss: 0.7042\n",
      "Train Epoch: 224 [0/60000 (0%)]\tLoss: 57.924619\n",
      "====> Test set loss: 0.6883\n",
      "Train Epoch: 225 [0/60000 (0%)]\tLoss: 54.140576\n",
      "====> Test set loss: 0.9597\n",
      "Train Epoch: 226 [0/60000 (0%)]\tLoss: 63.563101\n",
      "====> Test set loss: 0.5237\n",
      "Train Epoch: 227 [0/60000 (0%)]\tLoss: 54.007842\n",
      "====> Test set loss: 0.6590\n",
      "Train Epoch: 228 [0/60000 (0%)]\tLoss: 63.243413\n",
      "====> Test set loss: 0.6272\n",
      "Train Epoch: 229 [0/60000 (0%)]\tLoss: 46.374395\n",
      "====> Test set loss: 0.7667\n",
      "Train Epoch: 230 [0/60000 (0%)]\tLoss: 48.147529\n",
      "====> Test set loss: 0.6516\n",
      "Train Epoch: 231 [0/60000 (0%)]\tLoss: 78.297026\n",
      "====> Test set loss: 0.8418\n",
      "Train Epoch: 232 [0/60000 (0%)]\tLoss: 63.488398\n",
      "====> Test set loss: 0.6069\n",
      "Train Epoch: 233 [0/60000 (0%)]\tLoss: 43.697549\n",
      "====> Test set loss: 1.0282\n",
      "Train Epoch: 234 [0/60000 (0%)]\tLoss: 82.904229\n",
      "====> Test set loss: 0.5884\n",
      "Train Epoch: 235 [0/60000 (0%)]\tLoss: 51.374771\n",
      "====> Test set loss: 0.7781\n",
      "Train Epoch: 236 [0/60000 (0%)]\tLoss: 60.766924\n",
      "====> Test set loss: 0.6550\n",
      "Train Epoch: 237 [0/60000 (0%)]\tLoss: 46.130635\n",
      "====> Test set loss: 0.6671\n",
      "Train Epoch: 238 [0/60000 (0%)]\tLoss: 64.770225\n",
      "====> Test set loss: 0.7389\n",
      "Train Epoch: 239 [0/60000 (0%)]\tLoss: 50.988135\n",
      "====> Test set loss: 0.6892\n",
      "Train Epoch: 240 [0/60000 (0%)]\tLoss: 50.023174\n",
      "====> Test set loss: 0.7107\n",
      "Train Epoch: 241 [0/60000 (0%)]\tLoss: 71.388408\n",
      "====> Test set loss: 0.7523\n",
      "Train Epoch: 242 [0/60000 (0%)]\tLoss: 68.930469\n",
      "====> Test set loss: 0.7193\n",
      "Train Epoch: 243 [0/60000 (0%)]\tLoss: 67.342607\n",
      "====> Test set loss: 0.6144\n",
      "Train Epoch: 244 [0/60000 (0%)]\tLoss: 50.102886\n",
      "====> Test set loss: 0.8539\n",
      "Train Epoch: 245 [0/60000 (0%)]\tLoss: 64.152158\n",
      "====> Test set loss: 0.9507\n",
      "Train Epoch: 246 [0/60000 (0%)]\tLoss: 52.211030\n",
      "====> Test set loss: 0.8212\n",
      "Train Epoch: 247 [0/60000 (0%)]\tLoss: 66.497251\n",
      "====> Test set loss: 0.5184\n",
      "Train Epoch: 248 [0/60000 (0%)]\tLoss: 69.760190\n",
      "====> Test set loss: 0.6634\n",
      "Train Epoch: 249 [0/60000 (0%)]\tLoss: 44.557490\n",
      "====> Test set loss: 0.6551\n",
      "Train Epoch: 250 [0/60000 (0%)]\tLoss: 53.076587\n",
      "====> Test set loss: 0.7771\n",
      "Train Epoch: 251 [0/60000 (0%)]\tLoss: 66.297783\n",
      "====> Test set loss: 0.6358\n",
      "Train Epoch: 252 [0/60000 (0%)]\tLoss: 51.916592\n",
      "====> Test set loss: 0.5962\n",
      "Train Epoch: 253 [0/60000 (0%)]\tLoss: 57.626445\n",
      "====> Test set loss: 0.7350\n",
      "Train Epoch: 254 [0/60000 (0%)]\tLoss: 63.277500\n",
      "====> Test set loss: 0.7548\n",
      "Train Epoch: 255 [0/60000 (0%)]\tLoss: 55.962041\n",
      "====> Test set loss: 0.7052\n",
      "Train Epoch: 256 [0/60000 (0%)]\tLoss: 66.336406\n",
      "====> Test set loss: 0.6267\n",
      "Train Epoch: 257 [0/60000 (0%)]\tLoss: 45.880703\n",
      "====> Test set loss: 0.5649\n",
      "Train Epoch: 258 [0/60000 (0%)]\tLoss: 66.404907\n",
      "====> Test set loss: 0.6323\n",
      "Train Epoch: 259 [0/60000 (0%)]\tLoss: 55.154966\n",
      "====> Test set loss: 0.4624\n",
      "Train Epoch: 260 [0/60000 (0%)]\tLoss: 46.424180\n",
      "====> Test set loss: 0.5358\n",
      "Train Epoch: 261 [0/60000 (0%)]\tLoss: 81.639658\n",
      "====> Test set loss: 0.6526\n",
      "Train Epoch: 262 [0/60000 (0%)]\tLoss: 57.035957\n",
      "====> Test set loss: 0.5889\n",
      "Train Epoch: 263 [0/60000 (0%)]\tLoss: 65.251963\n",
      "====> Test set loss: 0.7986\n",
      "Train Epoch: 264 [0/60000 (0%)]\tLoss: 54.558086\n",
      "====> Test set loss: 0.5612\n",
      "Train Epoch: 265 [0/60000 (0%)]\tLoss: 49.273174\n",
      "====> Test set loss: 0.5768\n",
      "Train Epoch: 266 [0/60000 (0%)]\tLoss: 58.751929\n",
      "====> Test set loss: 0.6872\n",
      "Train Epoch: 267 [0/60000 (0%)]\tLoss: 50.589346\n",
      "====> Test set loss: 0.6233\n",
      "Train Epoch: 268 [0/60000 (0%)]\tLoss: 48.576172\n",
      "====> Test set loss: 0.5515\n",
      "Train Epoch: 269 [0/60000 (0%)]\tLoss: 74.871279\n",
      "====> Test set loss: 0.6777\n",
      "Train Epoch: 270 [0/60000 (0%)]\tLoss: 47.723027\n",
      "====> Test set loss: 0.6259\n",
      "Train Epoch: 271 [0/60000 (0%)]\tLoss: 51.469180\n",
      "====> Test set loss: 0.5735\n",
      "Train Epoch: 272 [0/60000 (0%)]\tLoss: 50.479678\n",
      "====> Test set loss: 0.6127\n",
      "Train Epoch: 273 [0/60000 (0%)]\tLoss: 48.749619\n",
      "====> Test set loss: 0.6451\n",
      "Train Epoch: 274 [0/60000 (0%)]\tLoss: 61.412583\n",
      "====> Test set loss: 0.5597\n",
      "Train Epoch: 275 [0/60000 (0%)]\tLoss: 43.685459\n",
      "====> Test set loss: 0.5898\n",
      "Train Epoch: 276 [0/60000 (0%)]\tLoss: 65.473081\n",
      "====> Test set loss: 0.6490\n",
      "Train Epoch: 277 [0/60000 (0%)]\tLoss: 62.858154\n",
      "====> Test set loss: 0.6925\n",
      "Train Epoch: 278 [0/60000 (0%)]\tLoss: 48.912930\n",
      "====> Test set loss: 0.5881\n",
      "Train Epoch: 279 [0/60000 (0%)]\tLoss: 54.920073\n",
      "====> Test set loss: 0.7305\n",
      "Train Epoch: 280 [0/60000 (0%)]\tLoss: 68.317422\n",
      "====> Test set loss: 0.7896\n",
      "Train Epoch: 281 [0/60000 (0%)]\tLoss: 70.419258\n",
      "====> Test set loss: 0.7758\n",
      "Train Epoch: 282 [0/60000 (0%)]\tLoss: 53.695737\n",
      "====> Test set loss: 0.9584\n",
      "Train Epoch: 283 [0/60000 (0%)]\tLoss: 45.535273\n",
      "====> Test set loss: 0.7297\n",
      "Train Epoch: 284 [0/60000 (0%)]\tLoss: 46.676113\n",
      "====> Test set loss: 0.7017\n",
      "Train Epoch: 285 [0/60000 (0%)]\tLoss: 52.763896\n",
      "====> Test set loss: 0.5436\n",
      "Train Epoch: 286 [0/60000 (0%)]\tLoss: 46.810024\n",
      "====> Test set loss: 0.6709\n",
      "Train Epoch: 287 [0/60000 (0%)]\tLoss: 70.001221\n",
      "====> Test set loss: 0.7037\n",
      "Train Epoch: 288 [0/60000 (0%)]\tLoss: 51.060000\n",
      "====> Test set loss: 0.6100\n",
      "Train Epoch: 289 [0/60000 (0%)]\tLoss: 45.744277\n",
      "====> Test set loss: 0.8407\n",
      "Train Epoch: 290 [0/60000 (0%)]\tLoss: 42.229561\n",
      "====> Test set loss: 0.7176\n",
      "Train Epoch: 291 [0/60000 (0%)]\tLoss: 42.791582\n",
      "====> Test set loss: 0.8311\n",
      "Train Epoch: 292 [0/60000 (0%)]\tLoss: 45.946016\n",
      "====> Test set loss: 0.7287\n",
      "Train Epoch: 293 [0/60000 (0%)]\tLoss: 67.727798\n",
      "====> Test set loss: 0.7299\n",
      "Train Epoch: 294 [0/60000 (0%)]\tLoss: 56.941895\n",
      "====> Test set loss: 0.6856\n",
      "Train Epoch: 295 [0/60000 (0%)]\tLoss: 48.750830\n",
      "====> Test set loss: 0.5392\n",
      "Train Epoch: 296 [0/60000 (0%)]\tLoss: 44.669575\n",
      "====> Test set loss: 0.7738\n",
      "Train Epoch: 297 [0/60000 (0%)]\tLoss: 46.731016\n",
      "====> Test set loss: 0.6332\n",
      "Train Epoch: 298 [0/60000 (0%)]\tLoss: 59.253037\n",
      "====> Test set loss: 0.7349\n",
      "Train Epoch: 299 [0/60000 (0%)]\tLoss: 68.148936\n",
      "====> Test set loss: 0.7221\n",
      "Train Epoch: 300 [0/60000 (0%)]\tLoss: 62.450322\n",
      "====> Test set loss: 0.6043\n",
      "Train Epoch: 301 [0/60000 (0%)]\tLoss: 48.770972\n",
      "====> Test set loss: 0.5645\n",
      "Train Epoch: 302 [0/60000 (0%)]\tLoss: 46.936265\n",
      "====> Test set loss: 0.5339\n",
      "Train Epoch: 303 [0/60000 (0%)]\tLoss: 46.125020\n",
      "====> Test set loss: 0.7255\n",
      "Train Epoch: 304 [0/60000 (0%)]\tLoss: 61.470820\n",
      "====> Test set loss: 0.6516\n",
      "Train Epoch: 305 [0/60000 (0%)]\tLoss: 65.606074\n",
      "====> Test set loss: 0.7009\n",
      "Train Epoch: 306 [0/60000 (0%)]\tLoss: 54.498447\n",
      "====> Test set loss: 0.5801\n",
      "Train Epoch: 307 [0/60000 (0%)]\tLoss: 60.282681\n",
      "====> Test set loss: 0.8573\n",
      "Train Epoch: 308 [0/60000 (0%)]\tLoss: 64.238486\n",
      "====> Test set loss: 0.6947\n",
      "Train Epoch: 309 [0/60000 (0%)]\tLoss: 69.985166\n",
      "====> Test set loss: 0.5354\n",
      "Train Epoch: 310 [0/60000 (0%)]\tLoss: 70.255107\n",
      "====> Test set loss: 0.7335\n",
      "Train Epoch: 311 [0/60000 (0%)]\tLoss: 59.050605\n",
      "====> Test set loss: 0.6420\n",
      "Train Epoch: 312 [0/60000 (0%)]\tLoss: 73.443198\n",
      "====> Test set loss: 0.5679\n",
      "Train Epoch: 313 [0/60000 (0%)]\tLoss: 45.175693\n",
      "====> Test set loss: 0.8606\n",
      "Train Epoch: 314 [0/60000 (0%)]\tLoss: 59.874722\n",
      "====> Test set loss: 0.5944\n",
      "Train Epoch: 315 [0/60000 (0%)]\tLoss: 48.594771\n",
      "====> Test set loss: 0.5909\n",
      "Train Epoch: 316 [0/60000 (0%)]\tLoss: 48.931904\n",
      "====> Test set loss: 0.5272\n",
      "Train Epoch: 317 [0/60000 (0%)]\tLoss: 47.905786\n",
      "====> Test set loss: 0.5856\n",
      "Train Epoch: 318 [0/60000 (0%)]\tLoss: 62.797998\n",
      "====> Test set loss: 0.6601\n",
      "Train Epoch: 319 [0/60000 (0%)]\tLoss: 47.369668\n",
      "====> Test set loss: 0.5347\n",
      "Train Epoch: 320 [0/60000 (0%)]\tLoss: 57.693901\n",
      "====> Test set loss: 0.6478\n",
      "Train Epoch: 321 [0/60000 (0%)]\tLoss: 57.217939\n",
      "====> Test set loss: 0.6023\n",
      "Train Epoch: 322 [0/60000 (0%)]\tLoss: 61.701592\n",
      "====> Test set loss: 0.5270\n",
      "Train Epoch: 323 [0/60000 (0%)]\tLoss: 48.423022\n",
      "====> Test set loss: 0.6855\n",
      "Train Epoch: 324 [0/60000 (0%)]\tLoss: 50.357378\n",
      "====> Test set loss: 0.6061\n",
      "Train Epoch: 325 [0/60000 (0%)]\tLoss: 67.288506\n",
      "====> Test set loss: 0.6553\n",
      "Train Epoch: 326 [0/60000 (0%)]\tLoss: 61.743101\n",
      "====> Test set loss: 0.8169\n",
      "Train Epoch: 327 [0/60000 (0%)]\tLoss: 45.270938\n",
      "====> Test set loss: 0.7671\n",
      "Train Epoch: 328 [0/60000 (0%)]\tLoss: 54.345596\n",
      "====> Test set loss: 0.8224\n",
      "Train Epoch: 329 [0/60000 (0%)]\tLoss: 46.636318\n",
      "====> Test set loss: 0.5633\n",
      "Train Epoch: 330 [0/60000 (0%)]\tLoss: 62.064478\n",
      "====> Test set loss: 0.6645\n",
      "Train Epoch: 331 [0/60000 (0%)]\tLoss: 62.273135\n",
      "====> Test set loss: 0.8286\n",
      "Train Epoch: 332 [0/60000 (0%)]\tLoss: 89.212500\n",
      "====> Test set loss: 0.7323\n",
      "Train Epoch: 333 [0/60000 (0%)]\tLoss: 48.687046\n",
      "====> Test set loss: 0.7812\n",
      "Train Epoch: 334 [0/60000 (0%)]\tLoss: 83.550850\n",
      "====> Test set loss: 0.6462\n",
      "Train Epoch: 335 [0/60000 (0%)]\tLoss: 53.036826\n",
      "====> Test set loss: 0.8285\n",
      "Train Epoch: 336 [0/60000 (0%)]\tLoss: 56.834224\n",
      "====> Test set loss: 0.6657\n",
      "Train Epoch: 337 [0/60000 (0%)]\tLoss: 51.477017\n",
      "====> Test set loss: 0.5700\n",
      "Train Epoch: 338 [0/60000 (0%)]\tLoss: 68.973018\n",
      "====> Test set loss: 0.6374\n",
      "Train Epoch: 339 [0/60000 (0%)]\tLoss: 52.505850\n",
      "====> Test set loss: 0.8560\n",
      "Train Epoch: 340 [0/60000 (0%)]\tLoss: 61.992798\n",
      "====> Test set loss: 0.7545\n",
      "Train Epoch: 341 [0/60000 (0%)]\tLoss: 58.350415\n",
      "====> Test set loss: 0.6005\n",
      "Train Epoch: 342 [0/60000 (0%)]\tLoss: 46.578784\n",
      "====> Test set loss: 0.5797\n",
      "Train Epoch: 343 [0/60000 (0%)]\tLoss: 53.149194\n",
      "====> Test set loss: 0.8455\n",
      "Train Epoch: 344 [0/60000 (0%)]\tLoss: 75.556445\n",
      "====> Test set loss: 0.5725\n",
      "Train Epoch: 345 [0/60000 (0%)]\tLoss: 51.547192\n",
      "====> Test set loss: 0.6125\n",
      "Train Epoch: 346 [0/60000 (0%)]\tLoss: 53.117983\n",
      "====> Test set loss: 0.7867\n",
      "Train Epoch: 347 [0/60000 (0%)]\tLoss: 44.527324\n",
      "====> Test set loss: 0.8155\n",
      "Train Epoch: 348 [0/60000 (0%)]\tLoss: 78.669111\n",
      "====> Test set loss: 0.6031\n",
      "Train Epoch: 349 [0/60000 (0%)]\tLoss: 52.458774\n",
      "====> Test set loss: 0.6071\n"
     ]
    }
   ],
   "source": [
    "for i in range(350):\n",
    "    #train_c_epoch(epochs=1,mu_c=mu_c_g,logvar_c=logvar_c_g,pi_c=pi_c_g)\n",
    "\n",
    "    train_c(epoch=i,mu_c=mu_c_g,logvar_c=logvar_c_g,inv_sm_pi_c=inv_sm_pi_c_g)\n",
    "    test_c(epoch=i,mu_c=mu_c_g,logvar_c=logvar_c_g,inv_sm_pi_c=inv_sm_pi_c_g)\n",
    "    scheduler.step()\n",
    "    scheduler_clustering.step()\n",
    "    scheduler_mi.step()\n",
    "\n",
    "    beta += beta_delta\n"
   ],
   "metadata": {
    "collapsed": false,
    "pycharm": {
     "name": "#%%\n"
    }
   }
  },
  {
   "cell_type": "code",
   "execution_count": 126,
   "outputs": [
    {
     "data": {
      "text/plain": "<Figure size 432x288 with 1 Axes>",
      "image/png": "[encoded data removed]"
     },
     "metadata": {
      "needs_background": "light"
     },
     "output_type": "display_data"
    }
   ],
   "source": [
    "zs_g,ts_g,mus_g,logvars_g = take_latents()\n",
    "points = TSNE(n_components=2,random_state=0).fit_transform(mus_g.view(-1,latent_dim).cpu().detach().numpy())\n",
    "data_points = points[0:take_latent_max*batch_size]\n",
    "center_points = points[take_latent_max*batch_size:]\n",
    "data_labels = ts_g[0:take_latent_max*batch_size].cpu().detach().numpy()\n",
    "center_labels = (-ts_g[take_latent_max*batch_size:]-1).cpu().detach().numpy()\n",
    "drawpoints_with_centers(data_points,data_labels,center_points,center_labels)"
   ],
   "metadata": {
    "collapsed": false,
    "pycharm": {
     "name": "#%%\n"
    }
   }
  },
  {
   "cell_type": "code",
   "execution_count": 127,
   "outputs": [
    {
     "data": {
      "text/plain": "<Figure size 432x288 with 1 Axes>",
      "image/png": "[encoded data removed]"
     },
     "metadata": {
      "needs_background": "light"
     },
     "output_type": "display_data"
    }
   ],
   "source": [
    "#kmeans_model = KMeans(n_clusters=K_model_cluster, random_state=1).fit(mus_g.view(-1,latent_dim).cpu().detach().numpy())\n",
    "#drawpoints(points,kmeans_model.labels_)\n",
    "kmeans_model = KMeans(n_clusters=K_model_cluster, random_state=1).fit(mus_g.view(-1,latent_dim).cpu().detach().numpy())\n",
    "drawpoints_with_centers(data_points,kmeans_model.labels_[:take_latent_max*batch_size],center_points,center_labels)"
   ],
   "metadata": {
    "collapsed": false,
    "pycharm": {
     "name": "#%%\n"
    }
   }
  },
  {
   "cell_type": "code",
   "execution_count": 128,
   "outputs": [
    {
     "data": {
      "text/plain": "<Figure size 432x288 with 1 Axes>",
      "image/png": "[encoded data removed]"
     },
     "metadata": {
      "needs_background": "light"
     },
     "output_type": "display_data"
    }
   ],
   "source": [
    "#gauss_model = GaussianMixture(n_components=K_model_cluster,covariance_type='diag',random_state=1).fit(mus_g.view(-1,latent_dim).cpu().detach().numpy())\n",
    "#drawpoints(points,gauss_model.predict(mus_g.view(-1,latent_dim).cpu().detach().numpy()))\n",
    "gauss_model = GaussianMixture(n_components=K_model_cluster,covariance_type='diag',random_state=1).fit(mus_g.view(-1,latent_dim).cpu().detach().numpy())\n",
    "drawpoints_with_centers(data_points,gauss_model.predict(mus_g.view(-1,latent_dim).cpu().detach().numpy())[:take_latent_max*batch_size],center_points,center_labels)"
   ],
   "metadata": {
    "collapsed": false,
    "pycharm": {
     "name": "#%%\n"
    }
   }
  },
  {
   "cell_type": "code",
   "execution_count": 129,
   "outputs": [
    {
     "data": {
      "text/plain": "<Figure size 432x288 with 1 Axes>",
      "image/png": "[encoded data removed]"
     },
     "metadata": {
      "needs_background": "light"
     },
     "output_type": "display_data"
    }
   ],
   "source": [
    "\n",
    "_,_,_,_,gamma_c_g,_ = gauss(mus_g[0:batch_size*take_latent_max,:,:],logvars_g,mu_c_g,logvar_c_g,inv_sm_pi_c_g,1)\n",
    "#drawpoints(points[0:batch_size*take_latent_max,:],torch.argmax(gamma_c_g,2).view(-1).cpu().detach().numpy())\n",
    "#_,_,_,_,gamma_c_g,_ = gauss(mus_g[0:batch_size*take_latent_max,:,:],logvars_g,mu_c_g,chol_prec_seed_c_g,inv_sm_pi_c_g,1)\n",
    "drawpoints_with_centers(data_points,torch.argmax(gamma_c_g,2).view(-1).cpu().detach().numpy(),center_points,center_labels)"
   ],
   "metadata": {
    "collapsed": false,
    "pycharm": {
     "name": "#%%\n"
    }
   }
  },
  {
   "cell_type": "code",
   "execution_count": 130,
   "outputs": [],
   "source": [
    "show_generated_samples_c(mu_c_g,logvar_c_g)"
   ],
   "metadata": {
    "collapsed": false,
    "pycharm": {
     "name": "#%%\n"
    }
   }
  },
  {
   "cell_type": "code",
   "execution_count": 131,
   "outputs": [
    {
     "data": {
      "text/plain": "(0.0005083731656658001, 0.0005083731656658001, 1.0)"
     },
     "execution_count": 131,
     "metadata": {},
     "output_type": "execute_result"
    }
   ],
   "source": [
    "optimizer.param_groups[0]['lr'],optimizer_clustering.param_groups[0]['lr'],beta"
   ],
   "metadata": {
    "collapsed": false,
    "pycharm": {
     "name": "#%%\n"
    }
   }
  },
  {
   "cell_type": "code",
   "execution_count": 132,
   "outputs": [],
   "source": [
    "correspond_matrix = torch.zeros(K_real_cluster,K_model_cluster)\n",
    "\n",
    "for i in range(batch_size*take_latent_max):\n",
    "\n",
    "    for j in range(K_model_cluster):\n",
    "        for k in range(K_real_cluster):\n",
    "            if torch.argmax(gamma_c_g,2)[i,0] == j:\n",
    "                if ts_g[i] == k:\n",
    "                    correspond_matrix[k,j] +=1\n"
   ],
   "metadata": {
    "collapsed": false,
    "pycharm": {
     "name": "#%%\n"
    }
   }
  },
  {
   "cell_type": "code",
   "execution_count": 133,
   "outputs": [
    {
     "data": {
      "text/plain": "tensor([[100.,   0.,   1.,   0.,   0.,   2.,   1.,   0.,   0.,   2.],\n        [  0.,   4.,   0.,   0.,   0.,   0.,   0.,   2., 104.,   0.],\n        [  0.,   5., 109.,   0.,   0.,   0.,   2.,   0.,   0.,   0.],\n        [  0.,   3.,   1.,   2.,   0.,  78.,   0.,   2.,   1.,  10.],\n        [  0.,   0.,   0.,  16.,   1.,   0.,  69.,  23.,   0.,   0.],\n        [  2.,   2.,   0.,   5.,   2.,  34.,   0.,  13.,   0.,  24.],\n        [  0.,   0.,   2.,   0.,  89.,   0.,   3.,   5.,   0.,   1.],\n        [  0.,   2.,   2.,  33.,   0.,   0.,   3.,  35.,   0.,  17.],\n        [  0.,  63.,   1.,   0.,   0.,   5.,   3.,   5.,   0.,   4.],\n        [  0.,   1.,   0.,  49.,   0.,   2.,  28.,  21.,   0.,   6.]])"
     },
     "execution_count": 133,
     "metadata": {},
     "output_type": "execute_result"
    }
   ],
   "source": [
    "correspond_matrix"
   ],
   "metadata": {
    "collapsed": false,
    "pycharm": {
     "name": "#%%\n"
    }
   }
  },
  {
   "cell_type": "code",
   "execution_count": 134,
   "outputs": [
    {
     "data": {
      "text/plain": "tensor(1000.)"
     },
     "execution_count": 134,
     "metadata": {},
     "output_type": "execute_result"
    }
   ],
   "source": [
    "correspond_matrix.sum()"
   ],
   "metadata": {
    "collapsed": false,
    "pycharm": {
     "name": "#%%\n"
    }
   }
  },
  {
   "cell_type": "code",
   "execution_count": 135,
   "outputs": [
    {
     "data": {
      "text/plain": "torch.return_types.max(\nvalues=tensor([100.,  63., 109.,  49.,  89.,  78.,  69.,  35., 104.,  24.]),\nindices=tensor([0, 8, 2, 9, 6, 3, 4, 7, 1, 5]))"
     },
     "execution_count": 135,
     "metadata": {},
     "output_type": "execute_result"
    }
   ],
   "source": [
    "torch.max(correspond_matrix,0)"
   ],
   "metadata": {
    "collapsed": false,
    "pycharm": {
     "name": "#%%\n"
    }
   }
  },
  {
   "cell_type": "code",
   "execution_count": 136,
   "outputs": [
    {
     "data": {
      "text/plain": "tensor(0.7200)"
     },
     "execution_count": 136,
     "metadata": {},
     "output_type": "execute_result"
    }
   ],
   "source": [
    "torch.max(correspond_matrix,0).values.sum()/(batch_size*take_latent_max)"
   ],
   "metadata": {
    "collapsed": false,
    "pycharm": {
     "name": "#%%\n"
    }
   }
  },
  {
   "cell_type": "code",
   "execution_count": 137,
   "outputs": [
    {
     "data": {
      "text/plain": "tensor([[[0.1000, 0.1000, 0.1000, 0.1000, 0.1000, 0.1000, 0.1000, 0.1000,\n          0.1000, 0.1000]]], device='cuda:0', grad_fn=<SoftmaxBackward>)"
     },
     "execution_count": 137,
     "metadata": {},
     "output_type": "execute_result"
    }
   ],
   "source": [
    "F.softmax(inv_sm_pi_c_g,dim=2)"
   ],
   "metadata": {
    "collapsed": false,
    "pycharm": {
     "name": "#%%\n"
    }
   }
  },
  {
   "cell_type": "code",
   "execution_count": 138,
   "outputs": [
    {
     "data": {
      "text/plain": "tensor([[[-3.3106e-02, -6.2149e-02, -3.9231e-02, -5.7344e-02, -4.9488e-02,\n          -5.4495e-02, -5.2402e-02, -5.2529e-02, -4.9722e-02, -5.5787e-02],\n         [-6.8042e-02, -1.0665e-01, -7.5512e-02, -1.0575e-01, -9.1553e-02,\n          -1.0092e-01, -8.8186e-02, -9.6073e-02, -9.0087e-02, -9.9431e-02],\n         [-1.2790e+01, -1.3517e+01, -6.0307e+00, -7.2010e+00, -9.1961e+00,\n          -1.3023e+01, -1.0549e+01, -5.5734e+00,  3.2260e-01, -1.0197e+01],\n         [ 1.0770e+01,  2.3329e+00,  7.4911e+00, -6.2270e+00,  2.5385e-01,\n          -1.7207e+00, -4.3677e-01,  2.5237e+00,  2.6009e-01,  4.5841e+00],\n         [ 5.4515e-02,  1.1898e-01,  7.4231e-02,  1.3457e-01,  7.8983e-02,\n           9.8317e-02,  1.0329e-01,  1.1383e-01,  1.0335e-01,  1.1258e-01],\n         [ 3.2461e+00, -5.6520e+00, -9.2280e+00,  4.0724e+00,  2.6701e+00,\n          -8.0767e+00,  7.3543e+00,  5.0548e-02, -4.4877e+00, -1.1859e+00],\n         [ 2.0324e-02,  3.0971e-02,  2.3460e-02,  2.6763e-02,  4.6387e-02,\n           2.7872e-02,  2.4490e-02,  2.5993e-02,  1.0845e-02,  2.5417e-02],\n         [-6.7938e+00,  3.8123e+00,  8.6696e+00,  6.9234e-01,  7.7587e+00,\n          -4.9050e+00,  4.0382e+00,  1.2671e+00,  2.9322e+00, -2.8136e+00],\n         [-1.0202e+01,  3.8672e-01, -2.0560e+00,  6.7710e+00, -1.0291e+01,\n          -5.8552e+00,  5.1779e+00,  5.2856e+00, -1.0211e-01,  3.5751e+00],\n         [ 8.9023e+00, -5.1793e+00,  4.6690e+00,  2.2900e-01,  1.1218e+00,\n           1.9595e+00,  1.8392e+00, -7.1796e+00, -9.0877e+00, -4.7673e+00]]],\n       device='cuda:0', requires_grad=True)"
     },
     "execution_count": 138,
     "metadata": {},
     "output_type": "execute_result"
    }
   ],
   "source": [
    "mu_c_g"
   ],
   "metadata": {
    "collapsed": false,
    "pycharm": {
     "name": "#%%\n"
    }
   }
  },
  {
   "cell_type": "code",
   "execution_count": 139,
   "outputs": [
    {
     "data": {
      "text/plain": "tensor([[[ 0.1979,  0.1957,  0.1938,  0.1959,  0.1949,  0.2005,  0.1947,\n           0.1922,  0.1889,  0.1960],\n         [ 0.2557,  0.2536,  0.2477,  0.2540,  0.2462,  0.2527,  0.2516,\n           0.2490,  0.2532,  0.2539],\n         [20.8757, 33.3131, 19.9506, 10.9060, 11.8646, 21.5216, 14.4252,\n           8.6747,  0.3586, 20.1958],\n         [53.8112, 62.6781, 72.9889, 13.9957, 22.9991, 40.6819, 37.9552,\n          54.2123, 49.4659, 43.9826],\n         [ 0.3175,  0.3216,  0.3125,  0.3376,  0.2995,  0.3184,  0.3202,\n           0.3251,  0.3255,  0.3289],\n         [ 8.3861,  6.4551, 43.8865, 16.5960,  6.4023, 22.3547, 10.1100,\n          16.3021,  2.5350, 29.9778],\n         [ 0.1770,  0.1776,  0.1727,  0.1780,  0.1761,  0.1771,  0.1785,\n           0.1756,  0.1738,  0.1773],\n         [14.0725,  5.3625, 20.5846, 20.0579,  9.7006, 13.1418, 19.2368,\n          12.8432,  2.6694,  6.6977],\n         [19.5609, 19.3927, 29.1268, 37.8676, 15.9181, 30.1432, 15.3830,\n          56.5684,  6.0587, 90.0760],\n         [63.0304, 31.5340, 23.6751, 30.0165, 49.1225, 36.0624, 57.5315,\n           8.3995,  7.8704, 12.8105]]], device='cuda:0', grad_fn=<ExpBackward>)"
     },
     "execution_count": 139,
     "metadata": {},
     "output_type": "execute_result"
    }
   ],
   "source": [
    "logvar_c_g.exp()"
   ],
   "metadata": {
    "collapsed": false,
    "pycharm": {
     "name": "#%%\n"
    }
   }
  },
  {
   "cell_type": "code",
   "execution_count": 140,
   "outputs": [
    {
     "data": {
      "text/plain": "tensor([[-4.4492e-02, -8.1721e-02, -1.4681e+01,  1.3846e+00,  9.1893e-02,\n          5.1401e+00,  4.0048e-02,  3.4811e+00, -1.2513e+01, -4.3527e+00],\n        [ 1.4670e-02,  5.8413e-03, -7.2007e+00,  5.5909e+00, -2.2990e-02,\n          7.3740e-01,  1.3011e-02,  6.5706e+00,  1.0161e+01, -6.8501e+00],\n        [-2.2137e-02, -7.0803e-02, -6.9214e+00, -5.2498e+00,  7.5485e-02,\n          2.6907e+00,  4.2236e-02,  5.9193e-01,  4.9433e+00,  1.7703e+00],\n        [-1.6901e-02, -1.2274e-01, -6.8671e+00,  1.4198e+01,  9.0591e-02,\n          2.8391e+00,  6.5001e-02, -5.5127e+00, -1.4806e+01,  1.7156e+01],\n        [ 1.1862e-02, -5.3719e-02, -2.1223e+01,  1.9816e+01, -1.9084e-02,\n          3.5230e+00,  3.0783e-02, -6.9968e+00, -1.0194e+01,  6.4435e+00],\n        [ 4.6785e-03, -6.6963e-02, -3.2958e+00,  1.0344e+01,  4.1097e-02,\n         -1.2811e+01,  4.8486e-02,  1.2894e+01,  1.5764e+00,  5.1717e+00],\n        [-3.5292e-02, -7.6045e-02, -1.7456e+01,  1.8076e+00,  8.8397e-02,\n         -7.3383e+00,  5.5529e-02,  6.0237e+00, -2.0036e+00,  6.2536e-01],\n        [-3.3918e-02, -6.2976e-02, -1.3159e+01,  3.0410e+00,  7.2220e-02,\n          8.8309e-01,  5.4058e-04, -4.4717e+00,  8.5445e+00, -5.4790e+00],\n        [-3.2329e-02, -5.9046e-02, -6.9393e+00, -4.5446e+00,  7.9597e-02,\n         -1.7002e+00,  2.9555e-02,  1.4289e+00,  9.1675e+00, -8.3674e+00],\n        [-3.9436e-02, -1.1909e-01, -9.4792e+00, -1.0582e+01,  1.5953e-01,\n          4.3408e+00,  6.5414e-02, -2.5988e+00,  5.6350e-01,  4.1154e+00]],\n       device='cuda:0', grad_fn=<SelectBackward>)"
     },
     "execution_count": 140,
     "metadata": {},
     "output_type": "execute_result"
    }
   ],
   "source": [
    "mus_g[0:10,:,0]"
   ],
   "metadata": {
    "collapsed": false,
    "pycharm": {
     "name": "#%%\n"
    }
   }
  },
  {
   "cell_type": "code",
   "execution_count": 141,
   "outputs": [
    {
     "data": {
      "text/plain": "tensor([[0.1967, 0.2519, 0.5032, 0.3052, 0.3021, 0.1974, 0.1844, 0.1351, 0.4706,\n         0.3922],\n        [0.1758, 0.2189, 0.1548, 0.1891, 0.2710, 0.1173, 0.1654, 0.1451, 0.1109,\n         0.1625],\n        [0.1799, 0.2289, 0.1704, 0.1663, 0.2871, 0.1375, 0.1746, 0.0857, 0.1429,\n         0.1585],\n        [0.1904, 0.2566, 0.2175, 0.3549, 0.3087, 0.2394, 0.1750, 0.2740, 0.7687,\n         0.4196],\n        [0.1910, 0.2451, 0.5841, 0.4080, 0.3097, 0.1580, 0.1720, 0.3442, 0.4075,\n         0.3930],\n        [0.1923, 0.2436, 0.2310, 0.4317, 0.2905, 0.3126, 0.1786, 0.3543, 0.3082,\n         0.3384],\n        [0.1921, 0.2275, 0.4439, 0.2620, 0.3155, 0.1241, 0.1832, 0.1573, 0.2100,\n         0.3362],\n        [0.1931, 0.2438, 0.1914, 0.2321, 0.3176, 0.1475, 0.1789, 0.1674, 0.1236,\n         0.2484],\n        [0.1847, 0.2340, 0.2379, 0.2119, 0.3153, 0.2081, 0.1737, 0.1619, 0.1958,\n         0.2324],\n        [0.1930, 0.2601, 0.2331, 0.2601, 0.3287, 0.1947, 0.1815, 0.1445, 0.2318,\n         0.2221]], device='cuda:0')"
     },
     "execution_count": 141,
     "metadata": {},
     "output_type": "execute_result"
    }
   ],
   "source": [
    "logvars_g.exp()[0:10,:,0]"
   ],
   "metadata": {
    "collapsed": false,
    "pycharm": {
     "name": "#%%\n"
    }
   }
  },
  {
   "cell_type": "code",
   "execution_count": 397,
   "outputs": [
    {
     "data": {
      "text/plain": "'\\ntorch.save(\\n    {\\n        \"model_state_dict\" : model.state_dict(),\\n        \"optimizer\" : optimizer.state_dict(),\\n        \"optimizer_clustering\" : optimizer_clustering.state_dict(),\\n        \"mu_c_g\" : mu_c_g,\\n        \"logvar_c_g\" : logvar_c_g,\\n        \"inv_sm_pi_c_g\" : inv_sm_pi_c_g,\\n        \"beta\" : beta,\\n        \"K_model_cluster\": K_model_cluster\\n    },\\n    \"./SGD-q-exponential/model/success949.tar\"\\n)\\n'"
     },
     "execution_count": 397,
     "metadata": {},
     "output_type": "execute_result"
    }
   ],
   "source": [
    "'''\n",
    "torch.save(\n",
    "    {\n",
    "        \"model_state_dict\" : model.state_dict(),\n",
    "        \"optimizer\" : optimizer.state_dict(),\n",
    "        \"optimizer_clustering\" : optimizer_clustering.state_dict(),\n",
    "        \"mu_c_g\" : mu_c_g,\n",
    "        \"logvar_c_g\" : logvar_c_g,\n",
    "        \"inv_sm_pi_c_g\" : inv_sm_pi_c_g,\n",
    "        \"beta\" : beta,\n",
    "        \"K_model_cluster\": K_model_cluster\n",
    "    },\n",
    "    \"./SGD-q-exponential/model/success949.tar\"\n",
    ")\n",
    "'''\n",
    "#sdata966 = torch.load(\"./SGD-q-exponential/model/success966.tar\")\n",
    "#mu_c_g = sdata966[\"mu_c_g\"]"
   ],
   "metadata": {
    "collapsed": false,
    "pycharm": {
     "name": "#%%\n"
    }
   }
  },
  {
   "cell_type": "code",
   "execution_count": 22,
   "outputs": [],
   "source": [],
   "metadata": {
    "collapsed": false,
    "pycharm": {
     "name": "#%%\n"
    }
   }
  }
 ],
 "metadata": {
  "kernelspec": {
   "name": "pycharm-9c5a4569",
   "language": "python",
   "display_name": "PyCharm (auto_encoder)"
  },
  "language_info": {
   "codemirror_mode": {
    "name": "ipython",
    "version": 2
   },
   "file_extension": ".py",
   "mimetype": "text/x-python",
   "name": "python",
   "nbconvert_exporter": "python",
   "pygments_lexer": "ipython2",
   "version": "2.7.6"
  },
  "pycharm": {
   "stem_cell": {
    "cell_type": "raw",
    "source": [
     "#２０２０年１２月１７日Informax VAEの性質を取り込むことを開始"
    ],
    "metadata": {
     "collapsed": false
    }
   }
  }
 },
 "nbformat": 4,
 "nbformat_minor": 0
}