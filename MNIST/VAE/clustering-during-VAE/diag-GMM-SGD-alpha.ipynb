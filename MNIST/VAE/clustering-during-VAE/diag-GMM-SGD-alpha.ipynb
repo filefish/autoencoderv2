{
 "cells": [
  {
   "cell_type": "code",
   "execution_count": 32,
   "outputs": [],
   "source": [
    "from __future__ import print_function\n",
    "import argparse\n",
    "import torch\n",
    "import torch.utils.data\n",
    "from torch import nn, optim\n",
    "from torch.nn import functional as F\n",
    "from torchvision import datasets, transforms\n",
    "from torchvision.utils import save_image\n",
    "\n",
    "%matplotlib inline\n",
    "import matplotlib.pyplot as plt\n",
    "from torch.distributions.multivariate_normal import MultivariateNormal\n",
    "import numpy as np\n",
    "\n",
    "\n",
    "from sklearn.manifold import TSNE\n",
    "from random import random\n",
    "from sklearn.mixture import GaussianMixture\n",
    "from sklearn.mixture import BayesianGaussianMixture\n",
    "from sklearn.cluster import KMeans\n",
    "\n"
   ],
   "metadata": {
    "collapsed": false,
    "pycharm": {
     "name": "#%%\n"
    }
   }
  },
  {
   "cell_type": "code",
   "execution_count": 72,
   "outputs": [],
   "source": [
    "\n",
    "batch_size = 50\n",
    "take_latent_max =20\n",
    "num_epoch = 10\n",
    "input_dim=28*28\n",
    "output_dim=input_dim\n",
    "en_hidden1_dim = 500\n",
    "en_hidden2_dim = 500\n",
    "en_hidden3_dim = 2000\n",
    "latent_dim=10\n",
    "de_hidden1_dim = 2000\n",
    "de_hidden2_dim = 500\n",
    "de_hidden3_dim = 500\n",
    "\n",
    "\n",
    "log_interval = 600\n",
    "\n",
    "K_model_cluster = 10\n",
    "K_real_cluster = 10\n",
    "\n",
    "beta= 1.0\n",
    "beta_start = beta\n",
    "beta_end = 5.0\n",
    "total_step = 500\n",
    "beta_delta = (beta_end-beta_start)/total_step\n",
    "\n",
    "save_folder = 'SGD-alpha-results'\n",
    "\n",
    "KMeans_random_state = 1 #(random seed)\n",
    "Gaussian_random_state = 1  #(random seed)\n",
    "\n",
    "eps_N_c = 0\n",
    "iter_adiabatic =1\n",
    "\n",
    "alpha_0 = 10.\n",
    "\n",
    "mu_c_focus = 0.5"
   ],
   "metadata": {
    "collapsed": false,
    "pycharm": {
     "name": "#%%\n"
    }
   }
  },
  {
   "cell_type": "code",
   "execution_count": 73,
   "outputs": [],
   "source": [
    "device = 'cuda'\n",
    "kwargs = {'num_workers':1, 'pin_memory':True}\n",
    "\n",
    "train_loader = torch.utils.data.DataLoader(\n",
    "    datasets.MNIST('../data',train=True,download=True,\n",
    "                   transform=transforms.ToTensor()),\n",
    "    batch_size=batch_size,shuffle=True,**kwargs)\n",
    "\n",
    "test_loader = torch.utils.data.DataLoader(\n",
    "    datasets.MNIST('../data',train=False,transform=transforms.ToTensor()),\n",
    "    batch_size=batch_size,shuffle=True,**kwargs)\n"
   ],
   "metadata": {
    "collapsed": false,
    "pycharm": {
     "name": "#%%\n"
    }
   }
  },
  {
   "cell_type": "code",
   "execution_count": 74,
   "outputs": [],
   "source": [
    "def initialize_centers():\n",
    "\n",
    "    mu_c = mu_c_focus*torch.randn(1,latent_dim,K_model_cluster,device=device)\n",
    "    logvar_c = torch.zeros(1,latent_dim,K_model_cluster).to(device)\n",
    "    log_N_k = torch.zeros(1,1,K_model_cluster).to(device)\n",
    "\n",
    "    return mu_c,logvar_c, log_N_k"
   ],
   "metadata": {
    "collapsed": false,
    "pycharm": {
     "name": "#%%\n"
    }
   }
  },
  {
   "cell_type": "code",
   "execution_count": 75,
   "outputs": [
    {
     "data": {
      "text/plain": "(torch.Size([1, 10, 10]), torch.Size([1, 10, 10]), torch.Size([1, 1, 10]))"
     },
     "execution_count": 75,
     "metadata": {},
     "output_type": "execute_result"
    }
   ],
   "source": [
    "\n",
    "\n",
    "#zs_g,ts_g,mus_g,logvars_g = take_latents()\n",
    "mu_c_g,logvar_c_g,log_N_k_g = initialize_centers()\n",
    "#mu_c_g,logvar_c_g,pi_c_g,Q_c_g,gamma_c_g,log_P_g = gauss(mus_g,logvars_g,mu_c_g,logvar_c_g,pi_c_g,50)\n",
    "mu_c_g.shape,logvar_c_g.shape,log_N_k_g.shape\n",
    "#mu_c_g,logvar_c_g,pi_c_g,Q_c_g,gamma_c_g,log_P_g = gauss(mus_g,logvars_g,mu_c_g,logvar_c_g,pi_c_g,50)"
   ],
   "metadata": {
    "collapsed": false,
    "pycharm": {
     "name": "#%%\n"
    }
   }
  },
  {
   "cell_type": "code",
   "execution_count": 76,
   "outputs": [
    {
     "data": {
      "text/plain": "tensor([[[0., 0., 0., 0., 0., 0., 0., 0., 0., 0.]]], device='cuda:0',\n       requires_grad=True)"
     },
     "execution_count": 76,
     "metadata": {},
     "output_type": "execute_result"
    }
   ],
   "source": [
    "mu_c_g.requires_grad_(True)\n",
    "logvar_c_g.requires_grad_(True)\n",
    "log_N_k_g.requires_grad_(True)"
   ],
   "metadata": {
    "collapsed": false,
    "pycharm": {
     "name": "#%%\n"
    }
   }
  },
  {
   "cell_type": "code",
   "execution_count": 77,
   "outputs": [
    {
     "data": {
      "text/plain": "(True, True, True)"
     },
     "execution_count": 77,
     "metadata": {},
     "output_type": "execute_result"
    }
   ],
   "source": [
    "mu_c_g.requires_grad,logvar_c_g.requires_grad,log_N_k_g.requires_grad\n",
    "#F.softmax(inv_sm_pi_c_g,dim=0)"
   ],
   "metadata": {
    "collapsed": false,
    "pycharm": {
     "name": "#%%\n"
    }
   }
  },
  {
   "cell_type": "code",
   "execution_count": 78,
   "outputs": [],
   "source": [
    "class VAE(nn.Module):\n",
    "    def __init__(self):\n",
    "        super(VAE, self).__init__()\n",
    "\n",
    "        self.input_layer = nn.Linear(input_dim,en_hidden1_dim)##728 => 500 for MNIST\n",
    "        self.encode1_layer = nn.Linear(en_hidden1_dim,en_hidden2_dim)##500 => 500 for MNIST\n",
    "        self.encode2_layer = nn.Linear(en_hidden2_dim,en_hidden3_dim)##500 => 2000 for MNIST\n",
    "        self.mu_layer = nn.Linear(en_hidden3_dim,latent_dim)##2000 => 10 for MNIST\n",
    "        self.std_layer = nn.Linear(en_hidden3_dim,latent_dim)##2000 => 10 for MNIST\n",
    "        self.decode1_layer = nn.Linear(latent_dim,de_hidden1_dim)##10 => 2000 for MNIST\n",
    "        self.decode2_layer = nn.Linear(de_hidden1_dim,de_hidden2_dim)##2000 => 500 for MNIST\n",
    "        self.decode3_layer = nn.Linear(de_hidden2_dim,de_hidden3_dim)##500 => 500 for MNIST\n",
    "        self.output_layer = nn.Linear(de_hidden3_dim,output_dim)##500 => 728 for MNIST\n",
    "\n",
    "    def encode(self, x):\n",
    "        en_h1 = F.relu(self.input_layer(x))\n",
    "        en_h2 = F.relu(self.encode1_layer(en_h1))\n",
    "        en_h3 = F.relu(self.encode2_layer(en_h2))\n",
    "        return self.mu_layer(en_h3), self.std_layer(en_h3)\n",
    "    #入力から中心と分散の対数を作っている\n",
    "\n",
    "\n",
    "    def reparameterize(self,mu,logvar):\n",
    "        std = torch.exp(0.5*logvar)\n",
    "        eps = torch.randn_like(std)\n",
    "        #torch.randn_like(std)はstdと同じ次元の正規乱数を与えている。N(0,1)**size(std).ただし、標準偏差は対角的。\n",
    "        return mu + eps*std\n",
    "    #zの値を確率的に作っている。\n",
    "\n",
    "    def decode(self,z):\n",
    "        de_h1 = F.relu(self.decode1_layer(z))\n",
    "        de_h2 = F.relu(self.decode2_layer(de_h1))\n",
    "        de_h3 = F.relu(self.decode3_layer(de_h2))\n",
    "        return torch.sigmoid(self.output_layer(de_h3))\n",
    "    #zからNNを通したあとに、sigmoidで押し込んでxの値を作っている\n",
    "\n",
    "\n",
    "    def forward(self, x):\n",
    "        mu, logvar = self.encode(x.view(-1,784))\n",
    "        z = self.reparameterize(mu, logvar)\n",
    "        return self.decode(z),mu,logvar,z\n",
    "    #出力はxの予測値とzを算出するときの中心と分散になっている\n",
    "\n",
    "\n",
    "model = VAE().to(device)\n",
    "\n",
    "optimizer = optim.Adam(model.parameters(),lr=0.002)\n",
    "scheduler = torch.optim.lr_scheduler.MultiStepLR(optimizer,milestones=[20,40,60,80,100,120,140,160,180,200,220,240,260],gamma=0.9)\n",
    "\n",
    "optimizer_clustering = optim.Adam([mu_c_g,logvar_c_g,log_N_k_g],lr=0.002)\n",
    "scheduler_clustering = torch.optim.lr_scheduler.MultiStepLR(optimizer_clustering,milestones=[20,40,60,80,100,120,140,160,180,200,220,240,260],gamma=0.9)\n"
   ],
   "metadata": {
    "collapsed": false,
    "pycharm": {
     "name": "#%%\n"
    }
   }
  },
  {
   "cell_type": "code",
   "execution_count": 79,
   "outputs": [],
   "source": [
    "\n",
    "def take_latents():\n",
    "    zs = torch.empty(0,latent_dim,1).to(device).requires_grad_(False)\n",
    "    ts = torch.empty(0,dtype=torch.long).to(device).requires_grad_(False)\n",
    "    mus = torch.empty(0,latent_dim,1).to(device).requires_grad_(False)\n",
    "    logvars = torch.empty(0,latent_dim,1).to(device).requires_grad_(False)\n",
    "#zs = []\n",
    "#ts = []\n",
    "\n",
    "#ts.dtype = torch.int\n",
    "\n",
    "    #for x, t in test_loader:\n",
    "    for batch_idx, (x,t) in enumerate(test_loader):\n",
    "    # original。xがデータ、tがラベル。\n",
    "    #for i, im in enumerate(x.view(-1, 28, 28).detach().numpy()[:10]):\n",
    "    #  ax = fig.add_subplot(3, 10, i+1, xticks=[], yticks=[])\n",
    "    #  ax.imshow(im, 'gray')\n",
    "    #x = x.to(device)\n",
    "    # generate from x\n",
    "        if batch_idx < take_latent_max:\n",
    "            x = x.to(device)\n",
    "            with torch.no_grad():\n",
    "                recon_batch,mu,logvar, z = model(x)\n",
    "            t = t.to(device)\n",
    "    #zs.append(z)\n",
    "    #ts.append(t)\n",
    "            zs = torch.cat((zs,z.view(-1,latent_dim,1)),0)\n",
    "            ts = torch.cat((ts,t),0)\n",
    "            mus = torch.cat((mus,mu.view(-1,latent_dim,1)),0)\n",
    "            logvars = torch.cat((logvars,logvar.view(-1,latent_dim,1)),0)\n",
    "    #y = y.view(-1, 28, 28)\n",
    "    #for i, im in enumerate(y.cpu().detach().numpy()[:10]):\n",
    "     # ax = fig.add_subplot(3, 10, i+11, xticks=[], yticks=[])\n",
    "     # ax.imshow(im, 'gray')\n",
    "    mus = torch.cat((mus,mu_c_g.permute(2,1,0)),0)\n",
    "    ts = torch.cat((ts,torch.arange(-1,-K_model_cluster-1,-1).to(device)),0)\n",
    "    return zs,ts,mus,logvars\n"
   ],
   "metadata": {
    "collapsed": false,
    "pycharm": {
     "name": "#%%\n"
    }
   }
  },
  {
   "cell_type": "code",
   "execution_count": 80,
   "outputs": [],
   "source": [
    "def gauss(mus,logvars,mu_c,logvar_c,log_N_k,iter):\n",
    "\n",
    "    for i in range(iter):\n",
    "        with torch.no_grad():\n",
    "            Q_c = logvar_c+(logvars.exp()+(mus-mu_c).pow(2))/(logvar_c.exp())\n",
    "            log_pi_k = torch.digamma(alpha_0 + log_N_k.exp()) - torch.digamma(K_model_cluster*alpha_0+log_N_k.exp().sum(2,keepdim = True))\n",
    "\n",
    "            gamma_c = ((-0.5*Q_c.sum(1,keepdim=True)+log_pi_k).exp())/(((-0.5*Q_c.sum(1,keepdim=True)+log_pi_k).exp()).sum(2,keepdim=True))\n",
    "\n",
    "            N_c = gamma_c.sum(0,keepdim=True)\n",
    "            log_P = ((((-0.5*Q_c.sum(1,keepdim=True)+log_pi_k).exp()).sum(2).squeeze()).log()).sum()/((Q_c.shape)[0])\n",
    "            pi_c= N_c/(N_c.sum())\n",
    "            mu_c=(gamma_c*mus).sum(0,keepdim=True)/N_c\n",
    "            logvar_c=((gamma_c*((mus-mu_c).pow(2)+logvars.exp())).sum(0,keepdim=True)/N_c).log()\n",
    "\n",
    "\n",
    "    return mu_c,logvar_c,pi_c,Q_c,gamma_c,log_P\n"
   ],
   "metadata": {
    "collapsed": false,
    "pycharm": {
     "name": "#%%\n"
    }
   }
  },
  {
   "cell_type": "code",
   "execution_count": 81,
   "outputs": [],
   "source": [
    "def drawpoints(mus_numpy,ts_numpy):\n",
    "    colors = [\"red\", \"green\", \"blue\", \"orange\", \"purple\", \"brown\", \"fuchsia\", \"grey\", \"olive\", \"lightblue\",\"red\", \"green\", \"blue\", \"orange\", \"purple\", \"brown\", \"fuchsia\", \"grey\", \"olive\", \"lightblue\"]\n",
    "    for p,l in zip(points,ts_numpy):\n",
    "        plt.scatter(p[0],p[1],marker=\"${}$\".format(l),c=colors[l])\n",
    "\n",
    "cm = plt.cm.get_cmap('tab20')\n",
    "def drawpoints_with_centers(mus_numpy,ts_numpy,center_numpy,center_t_numpy):\n",
    "    for p,l in zip(mus_numpy,ts_numpy):\n",
    "        plt.scatter(p[0],p[1],marker=\"${}$\".format(l),color=cm.colors[l])\n",
    "    for p,l in zip(center_numpy,center_t_numpy):\n",
    "        plt.scatter(p[0],p[1],facecolors='none',edgecolors='red',s=200)\n",
    "    for p,l in zip(center_numpy,center_t_numpy):\n",
    "        plt.scatter(p[0],p[1],marker=\"${}$\".format(l),color='black',s=50)\n",
    "\n",
    "#    plt.xlim(-4,4)\n",
    "#    plt.ylim(-4,4)\n",
    "    plt.show()\n"
   ],
   "metadata": {
    "collapsed": false,
    "pycharm": {
     "name": "#%%\n"
    }
   }
  },
  {
   "cell_type": "code",
   "execution_count": 82,
   "outputs": [],
   "source": [
    "def show_generated_samples_c(mu_c,logvar_c):\n",
    "    for i in range(K_model_cluster):\n",
    "        with torch.no_grad():\n",
    "            sample_dist = MultivariateNormal(loc=mu_c[:,:,i],covariance_matrix=torch.diag(logvar_c[0,:,i].exp()))\n",
    "    #mu_distribution = MultivariateNormal(loc=mu_center.cpu(),covariance_matrix=cov_mus.cpu())\n",
    "            sample = sample_dist.sample([64,])\n",
    "#    sample = torch.randn(64,latent_dim).to(device)\n",
    "        #20次元の潜在空間のデータを64個作成して、GPUに送る\n",
    "            sample = model.decode(sample).cpu()\n",
    "        #ランダムな潜在変数から画像を生成する。\n",
    "            save_image(sample.view(64,1,28,28),save_folder+'/sample_c_' + str(i) + '.png',nrow=8)\n",
    "        #生成した６４個のデータを記録しておく"
   ],
   "metadata": {
    "collapsed": false,
    "pycharm": {
     "name": "#%%\n"
    }
   }
  },
  {
   "cell_type": "code",
   "execution_count": 83,
   "outputs": [],
   "source": [
    "def loss_function_c(recon_x,x,mus_f,logvars_f,mu_c_f,logvar_c_f,log_N_k_f):\n",
    "    BCE = F.binary_cross_entropy(recon_x,x.view(-1,784),reduction='sum')\n",
    "    KLD = -0.5*(1+logvars_f).sum() -((((-0.5*((logvar_c_f+(logvars_f.exp()+(mus_f-mu_c_f).pow(2))/(logvar_c_f.exp())).sum(1,keepdim=True))+torch.digamma(alpha_0 + log_N_k_f.exp()) - torch.digamma(K_model_cluster*alpha_0+log_N_k_f.exp().sum(2,keepdim = True))).exp()).sum(2,keepdim=True)).log()).sum() + ((log_N_k_f.exp())*(torch.digamma(alpha_0 + log_N_k_f.exp()) - torch.digamma(K_model_cluster*alpha_0+log_N_k_f.exp().sum(2,keepdim = True)))).sum(2).squeeze() + torch.lgamma(K_model_cluster*alpha_0+log_N_k_f.exp().sum(2).squeeze()) - (torch.lgamma(alpha_0 + log_N_k_f.exp())).sum(2).squeeze()#+(logvars_f.exp()+(mus_f-mu_c_f).pow(2))/(logvar_c_f.exp()))\n",
    "\n",
    "    return BCE+beta*KLD"
   ],
   "metadata": {
    "collapsed": false,
    "pycharm": {
     "name": "#%%\n"
    }
   }
  },
  {
   "cell_type": "code",
   "execution_count": 84,
   "outputs": [],
   "source": [
    "def train_c(epoch):\n",
    "    model.train()\n",
    "    train_loss = 0\n",
    "    for batch_idx, (data,_) in enumerate(train_loader):\n",
    "        #ラベルは使わないようだ\n",
    "        data = data.to(device)\n",
    "        #データをGPUにおくる\n",
    "        optimizer.zero_grad()\n",
    "        optimizer_clustering.zero_grad()\n",
    "        #傾きの初期化\n",
    "        recon_batch, mu, logvar,z = model(data)\n",
    "        #VAEからバッヂ分のデータと中心と分散のログを受け取る\n",
    "\n",
    "#        print('Train Epoch: {} [{}/{} ({:.0f}%)]\\tLoss: {}'.format(\n",
    "#              epoch,batch_idx*len(data),len(train_loader.dataset),\n",
    "#                100.*batch_idx/len(train_loader),\n",
    "#                inv_sm_pi_c_g\n",
    "#            ))\n",
    "\n",
    "        loss = loss_function_c(recon_x=recon_batch,x=data,mus_f=mu.view(-1,latent_dim,1),logvars_f=logvar.view(-1,latent_dim,1),mu_c_f=mu_c_g,logvar_c_f=logvar_c_g,log_N_k_f=log_N_k_g)\n",
    "        #バッヂ分のロスを計算。バッヂ数で割っていないようだ。書き出しのときにデータ数で割っている。\n",
    "        loss.backward()\n",
    "        #傾きを計算\n",
    "        train_loss+= loss.item()\n",
    "        optimizer.step()\n",
    "        #NNパラメータの更新\n",
    "\n",
    "        optimizer_clustering.step()\n",
    "        #NNクラスタリングパラメータの更新\n",
    "\n",
    "        if batch_idx % log_interval ==0:\n",
    "            #一定間隔でロスを書き出し。epochはここでしか使っていないようだ。len()は最初の次元の大きさを出すのでバッヂの大きさ。\n",
    "            print('Train Epoch: {} [{}/{} ({:.0f}%)]\\tLoss: {:.6f}'.format(\n",
    "              epoch,batch_idx*len(data),len(train_loader.dataset),\n",
    "                100.*batch_idx/len(train_loader),\n",
    "                loss.item()/len(data)\n",
    "            ))"
   ],
   "metadata": {
    "collapsed": false,
    "pycharm": {
     "name": "#%%\n"
    }
   }
  },
  {
   "cell_type": "code",
   "execution_count": 85,
   "outputs": [],
   "source": [
    "def test_c(epoch,mu_c,logvar_c,log_N_k):\n",
    "    model.eval()\n",
    "    test_loss = 0\n",
    "    with torch.no_grad():#バックプロパゲーションを行わないから、微分情報を残さない\n",
    "        for i, (data, _) in enumerate(test_loader):\n",
    "            #テストデータを取り出す。ラベルはいらない。\n",
    "            data =data.to(device)\n",
    "            #データをGPUに送る\n",
    "            recon_batch, mu, logvar,z = model(data)\n",
    "            #データからバッヂ分の再現画像と中心と分散の対数を出している。\n",
    "            test_loss += loss_function_c(recon_x=recon_batch,x=data,mus_f=mu.view(-1,latent_dim,1),logvars_f=logvar.view(-1,latent_dim,1),mu_c_f=mu_c,logvar_c_f=logvar_c,log_N_k_f=log_N_k).item()\n",
    "            #テストデータでのロスを出している\n",
    "            if i == 0:\n",
    "                #はじめのバッヂについて\n",
    "                n = min(data.size(0),16)\n",
    "                #nをバッヂのデータ数か８との小さい方として\n",
    "                comparizon = torch.cat([data[:n],recon_batch.view(batch_size,1,28,28)[:n]])\n",
    "                #元データと再現データを並べる\n",
    "                save_image(comparizon.cpu(),'./'+save_folder+'/reconstruction_c_' + str(epoch) + '.png',nrow=n)\n",
    "\n",
    "                test_loss /= len(test_loader.dataset)\n",
    "                print('====> Test set loss: {:.4f}'.format(test_loss))"
   ],
   "metadata": {
    "collapsed": false,
    "pycharm": {
     "name": "#%%\n"
    }
   }
  },
  {
   "cell_type": "code",
   "execution_count": 86,
   "outputs": [],
   "source": [
    "def train_c_epoch(epochs,mu_c,logvar_c,log_N_k):\n",
    "    for epoch in range(1, epochs +1):\n",
    "        train_c(epoch)\n",
    "        test_c(epoch,mu_c,logvar_c,log_N_k)\n",
    "        with torch.no_grad():\n",
    "            sample = torch.randn(64,latent_dim).to(device)\n",
    "        #20次元の潜在空間のデータを64個作成して、GPUに送る\n",
    "            sample = model.decode(sample).cpu()\n",
    "        #ランダムな潜在変数から画像を生成する。\n",
    "            save_image(sample.view(64,1,28,28),save_folder+'/sample_c_epoch_' + str(epoch) + '.png',nrow=8)\n",
    "        #生成した６４個のデータを記録しておく\n"
   ],
   "metadata": {
    "collapsed": false,
    "pycharm": {
     "name": "#%%\n"
    }
   }
  },
  {
   "cell_type": "code",
   "execution_count": 87,
   "outputs": [
    {
     "data": {
      "text/plain": "(tensor([[[ 0.0697, -0.1744,  0.0170, -0.5003,  1.1361,  0.2955,  0.7062,\n            0.6098,  0.1174,  0.4090],\n          [-0.7493, -0.0967,  0.0633,  0.5358, -0.4861,  0.3090,  0.5912,\n            0.0826,  0.8622,  0.3067],\n          [ 0.1162, -0.2433, -0.4147, -0.7430,  0.4628,  0.6945,  0.0112,\n            0.2337,  0.9813, -0.7072],\n          [-0.3229,  0.2791, -0.0366,  1.2526,  0.3457,  0.3375,  0.3395,\n           -0.7704, -0.3805, -0.3302],\n          [-0.0851, -0.9730, -0.2040, -0.5022,  0.7767, -0.3253,  0.4537,\n            0.5332, -0.2582,  0.6956],\n          [ 0.4812, -0.8250,  0.2983, -0.2673, -0.4794,  0.0378,  0.0385,\n           -0.4179,  0.4730, -0.3454],\n          [ 0.0629,  0.1074,  0.4086, -0.1051,  0.3224,  0.6050,  0.8613,\n            0.0037,  0.4682,  0.3982],\n          [ 0.0995, -0.1861,  0.2045,  0.1988, -0.5015, -0.1830,  0.0013,\n           -0.6500,  0.0578,  0.6914],\n          [ 0.0135,  0.7583, -0.3898,  0.0716, -0.9899,  0.1581,  0.4130,\n            0.3221,  0.2881,  0.5870],\n          [ 0.7483, -0.2106, -0.0420,  0.1231, -0.3665, -0.4756, -0.2672,\n            0.6707, -0.7592, -1.1766]]], device='cuda:0', requires_grad=True),\n tensor([[[0., 0., 0., 0., 0., 0., 0., 0., 0., 0.],\n          [0., 0., 0., 0., 0., 0., 0., 0., 0., 0.],\n          [0., 0., 0., 0., 0., 0., 0., 0., 0., 0.],\n          [0., 0., 0., 0., 0., 0., 0., 0., 0., 0.],\n          [0., 0., 0., 0., 0., 0., 0., 0., 0., 0.],\n          [0., 0., 0., 0., 0., 0., 0., 0., 0., 0.],\n          [0., 0., 0., 0., 0., 0., 0., 0., 0., 0.],\n          [0., 0., 0., 0., 0., 0., 0., 0., 0., 0.],\n          [0., 0., 0., 0., 0., 0., 0., 0., 0., 0.],\n          [0., 0., 0., 0., 0., 0., 0., 0., 0., 0.]]], device='cuda:0',\n        requires_grad=True),\n tensor([[[0., 0., 0., 0., 0., 0., 0., 0., 0., 0.]]], device='cuda:0',\n        requires_grad=True))"
     },
     "execution_count": 87,
     "metadata": {},
     "output_type": "execute_result"
    }
   ],
   "source": [
    "mu_c_g,logvar_c_g,log_N_k_g"
   ],
   "metadata": {
    "collapsed": false,
    "pycharm": {
     "name": "#%%\n"
    }
   }
  },
  {
   "cell_type": "code",
   "execution_count": 92,
   "outputs": [
    {
     "name": "stdout",
     "output_type": "stream",
     "text": [
      "Train Epoch: 0 [0/60000 (0%)]\tLoss: 112.283027\n",
      "Train Epoch: 0 [30000/60000 (50%)]\tLoss: 110.233145\n",
      "====> Test set loss: 0.6292\n",
      "Train Epoch: 1 [0/60000 (0%)]\tLoss: 112.069961\n",
      "Train Epoch: 1 [30000/60000 (50%)]\tLoss: 104.936504\n",
      "====> Test set loss: 0.5874\n",
      "Train Epoch: 2 [0/60000 (0%)]\tLoss: 113.324424\n",
      "Train Epoch: 2 [30000/60000 (50%)]\tLoss: 129.080186\n",
      "====> Test set loss: 0.6007\n",
      "Train Epoch: 3 [0/60000 (0%)]\tLoss: 119.349316\n",
      "Train Epoch: 3 [30000/60000 (50%)]\tLoss: 119.435361\n",
      "====> Test set loss: 0.5878\n",
      "Train Epoch: 4 [0/60000 (0%)]\tLoss: 114.869434\n",
      "Train Epoch: 4 [30000/60000 (50%)]\tLoss: 107.987188\n",
      "====> Test set loss: 0.6023\n",
      "Train Epoch: 5 [0/60000 (0%)]\tLoss: 118.378838\n",
      "Train Epoch: 5 [30000/60000 (50%)]\tLoss: 112.763174\n",
      "====> Test set loss: 0.5753\n",
      "Train Epoch: 6 [0/60000 (0%)]\tLoss: 116.916729\n",
      "Train Epoch: 6 [30000/60000 (50%)]\tLoss: 114.308516\n",
      "====> Test set loss: 0.6133\n",
      "Train Epoch: 7 [0/60000 (0%)]\tLoss: 122.117363\n",
      "Train Epoch: 7 [30000/60000 (50%)]\tLoss: 109.288369\n",
      "====> Test set loss: 0.5833\n",
      "Train Epoch: 8 [0/60000 (0%)]\tLoss: 118.325977\n",
      "Train Epoch: 8 [30000/60000 (50%)]\tLoss: 124.351279\n",
      "====> Test set loss: 0.6106\n",
      "Train Epoch: 9 [0/60000 (0%)]\tLoss: 125.057852\n",
      "Train Epoch: 9 [30000/60000 (50%)]\tLoss: 127.610293\n",
      "====> Test set loss: 0.6533\n",
      "Train Epoch: 10 [0/60000 (0%)]\tLoss: 117.938340\n",
      "Train Epoch: 10 [30000/60000 (50%)]\tLoss: 120.687041\n",
      "====> Test set loss: 0.6246\n",
      "Train Epoch: 11 [0/60000 (0%)]\tLoss: 117.730371\n",
      "Train Epoch: 11 [30000/60000 (50%)]\tLoss: 117.728613\n",
      "====> Test set loss: 0.5875\n",
      "Train Epoch: 12 [0/60000 (0%)]\tLoss: 113.852148\n",
      "Train Epoch: 12 [30000/60000 (50%)]\tLoss: 119.132471\n",
      "====> Test set loss: 0.6041\n",
      "Train Epoch: 13 [0/60000 (0%)]\tLoss: 119.589941\n",
      "Train Epoch: 13 [30000/60000 (50%)]\tLoss: 122.975723\n",
      "====> Test set loss: 0.6244\n",
      "Train Epoch: 14 [0/60000 (0%)]\tLoss: 119.782275\n",
      "Train Epoch: 14 [30000/60000 (50%)]\tLoss: 119.131836\n",
      "====> Test set loss: 0.6134\n",
      "Train Epoch: 15 [0/60000 (0%)]\tLoss: 115.662129\n",
      "Train Epoch: 15 [30000/60000 (50%)]\tLoss: 110.183467\n",
      "====> Test set loss: 0.5955\n",
      "Train Epoch: 16 [0/60000 (0%)]\tLoss: 132.870664\n",
      "Train Epoch: 16 [30000/60000 (50%)]\tLoss: 126.323193\n",
      "====> Test set loss: 0.6054\n",
      "Train Epoch: 17 [0/60000 (0%)]\tLoss: 120.263906\n",
      "Train Epoch: 17 [30000/60000 (50%)]\tLoss: 116.655957\n",
      "====> Test set loss: 0.5825\n",
      "Train Epoch: 18 [0/60000 (0%)]\tLoss: 127.312275\n",
      "Train Epoch: 18 [30000/60000 (50%)]\tLoss: 115.100898\n",
      "====> Test set loss: 0.6588\n",
      "Train Epoch: 19 [0/60000 (0%)]\tLoss: 118.573301\n",
      "Train Epoch: 19 [30000/60000 (50%)]\tLoss: 129.101641\n",
      "====> Test set loss: 0.5655\n",
      "Train Epoch: 20 [0/60000 (0%)]\tLoss: 121.715098\n",
      "Train Epoch: 20 [30000/60000 (50%)]\tLoss: 110.133672\n",
      "====> Test set loss: 0.5907\n",
      "Train Epoch: 21 [0/60000 (0%)]\tLoss: 116.284971\n",
      "Train Epoch: 21 [30000/60000 (50%)]\tLoss: 118.101426\n",
      "====> Test set loss: 0.5873\n",
      "Train Epoch: 22 [0/60000 (0%)]\tLoss: 123.456299\n",
      "Train Epoch: 22 [30000/60000 (50%)]\tLoss: 118.339902\n",
      "====> Test set loss: 0.5958\n",
      "Train Epoch: 23 [0/60000 (0%)]\tLoss: 118.843594\n",
      "Train Epoch: 23 [30000/60000 (50%)]\tLoss: 117.090605\n",
      "====> Test set loss: 0.6230\n",
      "Train Epoch: 24 [0/60000 (0%)]\tLoss: 124.446289\n",
      "Train Epoch: 24 [30000/60000 (50%)]\tLoss: 120.574316\n",
      "====> Test set loss: 0.6207\n",
      "Train Epoch: 25 [0/60000 (0%)]\tLoss: 116.101660\n",
      "Train Epoch: 25 [30000/60000 (50%)]\tLoss: 119.366094\n",
      "====> Test set loss: 0.6156\n",
      "Train Epoch: 26 [0/60000 (0%)]\tLoss: 120.037393\n",
      "Train Epoch: 26 [30000/60000 (50%)]\tLoss: 112.266934\n",
      "====> Test set loss: 0.6556\n",
      "Train Epoch: 27 [0/60000 (0%)]\tLoss: 113.527217\n",
      "Train Epoch: 27 [30000/60000 (50%)]\tLoss: 121.561699\n",
      "====> Test set loss: 0.6149\n",
      "Train Epoch: 28 [0/60000 (0%)]\tLoss: 113.110664\n",
      "Train Epoch: 28 [30000/60000 (50%)]\tLoss: 120.177793\n",
      "====> Test set loss: 0.6686\n",
      "Train Epoch: 29 [0/60000 (0%)]\tLoss: 119.272295\n",
      "Train Epoch: 29 [30000/60000 (50%)]\tLoss: 113.224648\n",
      "====> Test set loss: 0.5907\n",
      "Train Epoch: 30 [0/60000 (0%)]\tLoss: 117.455918\n",
      "Train Epoch: 30 [30000/60000 (50%)]\tLoss: 126.450186\n",
      "====> Test set loss: 0.6157\n",
      "Train Epoch: 31 [0/60000 (0%)]\tLoss: 125.321387\n",
      "Train Epoch: 31 [30000/60000 (50%)]\tLoss: 122.688408\n",
      "====> Test set loss: 0.6290\n",
      "Train Epoch: 32 [0/60000 (0%)]\tLoss: 113.314863\n",
      "Train Epoch: 32 [30000/60000 (50%)]\tLoss: 120.312363\n",
      "====> Test set loss: 0.6243\n",
      "Train Epoch: 33 [0/60000 (0%)]\tLoss: 125.204121\n",
      "Train Epoch: 33 [30000/60000 (50%)]\tLoss: 119.862334\n",
      "====> Test set loss: 0.6422\n",
      "Train Epoch: 34 [0/60000 (0%)]\tLoss: 118.129053\n",
      "Train Epoch: 34 [30000/60000 (50%)]\tLoss: 120.136357\n",
      "====> Test set loss: 0.5960\n",
      "Train Epoch: 35 [0/60000 (0%)]\tLoss: 124.394805\n",
      "Train Epoch: 35 [30000/60000 (50%)]\tLoss: 128.862598\n",
      "====> Test set loss: 0.6151\n",
      "Train Epoch: 36 [0/60000 (0%)]\tLoss: 110.493711\n",
      "Train Epoch: 36 [30000/60000 (50%)]\tLoss: 120.967920\n",
      "====> Test set loss: 0.5912\n",
      "Train Epoch: 37 [0/60000 (0%)]\tLoss: 126.524541\n",
      "Train Epoch: 37 [30000/60000 (50%)]\tLoss: 126.805645\n",
      "====> Test set loss: 0.6356\n",
      "Train Epoch: 38 [0/60000 (0%)]\tLoss: 117.086387\n",
      "Train Epoch: 38 [30000/60000 (50%)]\tLoss: 121.669805\n",
      "====> Test set loss: 0.6450\n",
      "Train Epoch: 39 [0/60000 (0%)]\tLoss: 125.572910\n",
      "Train Epoch: 39 [30000/60000 (50%)]\tLoss: 113.550674\n",
      "====> Test set loss: 0.6155\n",
      "Train Epoch: 40 [0/60000 (0%)]\tLoss: 109.785938\n",
      "Train Epoch: 40 [30000/60000 (50%)]\tLoss: 119.163496\n",
      "====> Test set loss: 0.5965\n",
      "Train Epoch: 41 [0/60000 (0%)]\tLoss: 119.694951\n",
      "Train Epoch: 41 [30000/60000 (50%)]\tLoss: 122.104277\n",
      "====> Test set loss: 0.6842\n",
      "Train Epoch: 42 [0/60000 (0%)]\tLoss: 116.834922\n",
      "Train Epoch: 42 [30000/60000 (50%)]\tLoss: 121.014639\n",
      "====> Test set loss: 0.6083\n",
      "Train Epoch: 43 [0/60000 (0%)]\tLoss: 121.895586\n",
      "Train Epoch: 43 [30000/60000 (50%)]\tLoss: 128.229375\n",
      "====> Test set loss: 0.6636\n",
      "Train Epoch: 44 [0/60000 (0%)]\tLoss: 118.620342\n",
      "Train Epoch: 44 [30000/60000 (50%)]\tLoss: 121.441211\n",
      "====> Test set loss: 0.6395\n",
      "Train Epoch: 45 [0/60000 (0%)]\tLoss: 118.735859\n",
      "Train Epoch: 45 [30000/60000 (50%)]\tLoss: 129.859590\n",
      "====> Test set loss: 0.6343\n",
      "Train Epoch: 46 [0/60000 (0%)]\tLoss: 113.929326\n",
      "Train Epoch: 46 [30000/60000 (50%)]\tLoss: 117.673574\n",
      "====> Test set loss: 0.6273\n",
      "Train Epoch: 47 [0/60000 (0%)]\tLoss: 111.426328\n",
      "Train Epoch: 47 [30000/60000 (50%)]\tLoss: 112.150791\n",
      "====> Test set loss: 0.6413\n",
      "Train Epoch: 48 [0/60000 (0%)]\tLoss: 125.883994\n",
      "Train Epoch: 48 [30000/60000 (50%)]\tLoss: 122.149727\n",
      "====> Test set loss: 0.6241\n",
      "Train Epoch: 49 [0/60000 (0%)]\tLoss: 127.320352\n",
      "Train Epoch: 49 [30000/60000 (50%)]\tLoss: 120.618535\n",
      "====> Test set loss: 0.6122\n",
      "Train Epoch: 50 [0/60000 (0%)]\tLoss: 120.220977\n",
      "Train Epoch: 50 [30000/60000 (50%)]\tLoss: 124.687090\n",
      "====> Test set loss: 0.6109\n",
      "Train Epoch: 51 [0/60000 (0%)]\tLoss: 134.209727\n",
      "Train Epoch: 51 [30000/60000 (50%)]\tLoss: 124.714551\n",
      "====> Test set loss: 0.7081\n",
      "Train Epoch: 52 [0/60000 (0%)]\tLoss: 110.594180\n",
      "Train Epoch: 52 [30000/60000 (50%)]\tLoss: 126.420918\n",
      "====> Test set loss: 0.6239\n",
      "Train Epoch: 53 [0/60000 (0%)]\tLoss: 121.904238\n",
      "Train Epoch: 53 [30000/60000 (50%)]\tLoss: 117.719238\n",
      "====> Test set loss: 0.6552\n",
      "Train Epoch: 54 [0/60000 (0%)]\tLoss: 125.105195\n",
      "Train Epoch: 54 [30000/60000 (50%)]\tLoss: 132.754297\n",
      "====> Test set loss: 0.6146\n",
      "Train Epoch: 55 [0/60000 (0%)]\tLoss: 123.381328\n",
      "Train Epoch: 55 [30000/60000 (50%)]\tLoss: 130.735557\n",
      "====> Test set loss: 0.6025\n",
      "Train Epoch: 56 [0/60000 (0%)]\tLoss: 110.368535\n",
      "Train Epoch: 56 [30000/60000 (50%)]\tLoss: 118.540488\n",
      "====> Test set loss: 0.6203\n",
      "Train Epoch: 57 [0/60000 (0%)]\tLoss: 121.925059\n",
      "Train Epoch: 57 [30000/60000 (50%)]\tLoss: 126.662773\n",
      "====> Test set loss: 0.6653\n",
      "Train Epoch: 58 [0/60000 (0%)]\tLoss: 121.508779\n",
      "Train Epoch: 58 [30000/60000 (50%)]\tLoss: 123.728242\n",
      "====> Test set loss: 0.6593\n",
      "Train Epoch: 59 [0/60000 (0%)]\tLoss: 117.483789\n",
      "Train Epoch: 59 [30000/60000 (50%)]\tLoss: 130.655566\n",
      "====> Test set loss: 0.6466\n",
      "Train Epoch: 60 [0/60000 (0%)]\tLoss: 124.989756\n",
      "Train Epoch: 60 [30000/60000 (50%)]\tLoss: 128.564844\n",
      "====> Test set loss: 0.6312\n",
      "Train Epoch: 61 [0/60000 (0%)]\tLoss: 120.472559\n",
      "Train Epoch: 61 [30000/60000 (50%)]\tLoss: 123.510947\n",
      "====> Test set loss: 0.6281\n",
      "Train Epoch: 62 [0/60000 (0%)]\tLoss: 127.535527\n",
      "Train Epoch: 62 [30000/60000 (50%)]\tLoss: 121.232305\n",
      "====> Test set loss: 0.6832\n",
      "Train Epoch: 63 [0/60000 (0%)]\tLoss: 119.846484\n",
      "Train Epoch: 63 [30000/60000 (50%)]\tLoss: 123.511006\n",
      "====> Test set loss: 0.6361\n",
      "Train Epoch: 64 [0/60000 (0%)]\tLoss: 128.782266\n",
      "Train Epoch: 64 [30000/60000 (50%)]\tLoss: 122.793418\n",
      "====> Test set loss: 0.6466\n",
      "Train Epoch: 65 [0/60000 (0%)]\tLoss: 121.663516\n",
      "Train Epoch: 65 [30000/60000 (50%)]\tLoss: 125.806992\n",
      "====> Test set loss: 0.6406\n",
      "Train Epoch: 66 [0/60000 (0%)]\tLoss: 116.544912\n",
      "Train Epoch: 66 [30000/60000 (50%)]\tLoss: 127.588955\n",
      "====> Test set loss: 0.6344\n",
      "Train Epoch: 67 [0/60000 (0%)]\tLoss: 126.098896\n",
      "Train Epoch: 67 [30000/60000 (50%)]\tLoss: 126.772207\n",
      "====> Test set loss: 0.6391\n",
      "Train Epoch: 68 [0/60000 (0%)]\tLoss: 128.636445\n",
      "Train Epoch: 68 [30000/60000 (50%)]\tLoss: 120.167520\n",
      "====> Test set loss: 0.6281\n",
      "Train Epoch: 69 [0/60000 (0%)]\tLoss: 129.006699\n",
      "Train Epoch: 69 [30000/60000 (50%)]\tLoss: 117.539795\n",
      "====> Test set loss: 0.6637\n",
      "Train Epoch: 70 [0/60000 (0%)]\tLoss: 119.316504\n",
      "Train Epoch: 70 [30000/60000 (50%)]\tLoss: 123.013906\n",
      "====> Test set loss: 0.6361\n",
      "Train Epoch: 71 [0/60000 (0%)]\tLoss: 124.173057\n",
      "Train Epoch: 71 [30000/60000 (50%)]\tLoss: 121.430547\n",
      "====> Test set loss: 0.6328\n",
      "Train Epoch: 72 [0/60000 (0%)]\tLoss: 122.583086\n",
      "Train Epoch: 72 [30000/60000 (50%)]\tLoss: 119.012695\n",
      "====> Test set loss: 0.6123\n",
      "Train Epoch: 73 [0/60000 (0%)]\tLoss: 116.620937\n",
      "Train Epoch: 73 [30000/60000 (50%)]\tLoss: 130.368740\n",
      "====> Test set loss: 0.6152\n",
      "Train Epoch: 74 [0/60000 (0%)]\tLoss: 122.912930\n",
      "Train Epoch: 74 [30000/60000 (50%)]\tLoss: 130.719551\n",
      "====> Test set loss: 0.6118\n",
      "Train Epoch: 75 [0/60000 (0%)]\tLoss: 116.792793\n",
      "Train Epoch: 75 [30000/60000 (50%)]\tLoss: 124.101621\n",
      "====> Test set loss: 0.6233\n",
      "Train Epoch: 76 [0/60000 (0%)]\tLoss: 128.124297\n",
      "Train Epoch: 76 [30000/60000 (50%)]\tLoss: 133.148584\n",
      "====> Test set loss: 0.6548\n",
      "Train Epoch: 77 [0/60000 (0%)]\tLoss: 125.084639\n",
      "Train Epoch: 77 [30000/60000 (50%)]\tLoss: 127.612129\n",
      "====> Test set loss: 0.6500\n",
      "Train Epoch: 78 [0/60000 (0%)]\tLoss: 132.591094\n",
      "Train Epoch: 78 [30000/60000 (50%)]\tLoss: 128.642764\n",
      "====> Test set loss: 0.6557\n",
      "Train Epoch: 79 [0/60000 (0%)]\tLoss: 124.416162\n",
      "Train Epoch: 79 [30000/60000 (50%)]\tLoss: 127.792627\n",
      "====> Test set loss: 0.6938\n"
     ]
    }
   ],
   "source": [
    "for i in range(80):\n",
    "    #train_c_epoch(epochs=1,mu_c=mu_c_g,logvar_c=logvar_c_g,pi_c=pi_c_g)\n",
    "\n",
    "    train_c(epoch=i)\n",
    "    test_c(epoch=i,mu_c=mu_c_g,logvar_c=logvar_c_g,log_N_k=log_N_k_g)\n",
    "    scheduler.step()\n",
    "    scheduler_clustering.step()\n",
    "\n",
    "    beta += beta_delta\n"
   ],
   "metadata": {
    "collapsed": false,
    "pycharm": {
     "name": "#%%\n"
    }
   }
  },
  {
   "cell_type": "code",
   "execution_count": 93,
   "outputs": [],
   "source": [
    "zs_g,ts_g,mus_g,logvars_g = take_latents()\n",
    "points = TSNE(n_components=2,random_state=0).fit_transform(mus_g.view(-1,latent_dim).cpu().detach().numpy())\n",
    "#drawpoints(points,ts_g.cpu().detach().numpy())"
   ],
   "metadata": {
    "collapsed": false,
    "pycharm": {
     "name": "#%%\n"
    }
   }
  },
  {
   "cell_type": "code",
   "execution_count": 94,
   "outputs": [],
   "source": [
    "data_points = points[0:take_latent_max*batch_size]\n",
    "center_points = points[take_latent_max*batch_size:]\n",
    "data_labels = ts_g[0:take_latent_max*batch_size].cpu().detach().numpy()\n",
    "center_labels = (-ts_g[take_latent_max*batch_size:]-1).cpu().detach().numpy()"
   ],
   "metadata": {
    "collapsed": false,
    "pycharm": {
     "name": "#%%\n"
    }
   }
  },
  {
   "cell_type": "code",
   "execution_count": 95,
   "outputs": [
    {
     "data": {
      "text/plain": "<Figure size 432x288 with 1 Axes>",
      "image/png": "[encoded data removed]"
     },
     "metadata": {
      "needs_background": "light"
     },
     "output_type": "display_data"
    }
   ],
   "source": [
    "drawpoints_with_centers(data_points,data_labels,center_points,center_labels)\n",
    "#drawpoints_with_centers(mus_g.view(-1,latent_dim).cpu().detach().numpy()[0:take_latent_max*batch_size],data_labels,mus_g.view(-1,latent_dim).cpu().detach().numpy()[take_latent_max*batch_size:],center_labels)"
   ],
   "metadata": {
    "collapsed": false,
    "pycharm": {
     "name": "#%%\n"
    }
   }
  },
  {
   "cell_type": "code",
   "execution_count": 305,
   "outputs": [
    {
     "data": {
      "text/plain": "<Figure size 432x288 with 1 Axes>",
      "image/png": "[encoded data removed]"
     },
     "metadata": {
      "needs_background": "light"
     },
     "output_type": "display_data"
    }
   ],
   "source": [
    "#kmeans_model = KMeans(n_clusters=K_model_cluster, random_state=1).fit(mus_g.view(-1,latent_dim).cpu().detach().numpy())\n",
    "#drawpoints(points,kmeans_model.labels_)\n",
    "kmeans_model = KMeans(n_clusters=K_model_cluster, random_state=1).fit(mus_g.view(-1,latent_dim).cpu().detach().numpy())\n",
    "drawpoints_with_centers(data_points,kmeans_model.labels_[:take_latent_max*batch_size],center_points,center_labels)"
   ],
   "metadata": {
    "collapsed": false,
    "pycharm": {
     "name": "#%%\n"
    }
   }
  },
  {
   "cell_type": "code",
   "execution_count": 306,
   "outputs": [
    {
     "data": {
      "text/plain": "<Figure size 432x288 with 1 Axes>",
      "image/png": "[encoded data removed]"
     },
     "metadata": {
      "needs_background": "light"
     },
     "output_type": "display_data"
    }
   ],
   "source": [
    "#gauss_model = GaussianMixture(n_components=K_model_cluster,covariance_type='diag',random_state=1).fit(mus_g.view(-1,latent_dim).cpu().detach().numpy())\n",
    "#drawpoints(points,gauss_model.predict(mus_g.view(-1,latent_dim).cpu().detach().numpy()))\n",
    "gauss_model = GaussianMixture(n_components=K_model_cluster,covariance_type='diag',random_state=1).fit(mus_g.view(-1,latent_dim).cpu().detach().numpy())\n",
    "drawpoints_with_centers(data_points,gauss_model.predict(mus_g.view(-1,latent_dim).cpu().detach().numpy())[:take_latent_max*batch_size],center_points,center_labels)"
   ],
   "metadata": {
    "collapsed": false,
    "pycharm": {
     "name": "#%%\n"
    }
   }
  },
  {
   "cell_type": "code",
   "execution_count": 307,
   "outputs": [
    {
     "data": {
      "text/plain": "<Figure size 432x288 with 1 Axes>",
      "image/png": "[encoded data removed]"
     },
     "metadata": {
      "needs_background": "light"
     },
     "output_type": "display_data"
    }
   ],
   "source": [
    "#_,_,_,_,gamma_c_g,_ = gauss(mus_g[0:batch_size*take_latent_max,:,:],logvars_g,mu_c_g,logvar_c_g,log_N_k_g,1)\n",
    "#drawpoints(points[0:batch_size*take_latent_max,:],torch.argmax(gamma_c_g,2).view(-1).cpu().detach().numpy())\n",
    "_,_,_,_,gamma_c_g,_ = gauss(mus_g[0:batch_size*take_latent_max,:,:],logvars_g,mu_c_g,logvar_c_g,log_N_k_g,1)\n",
    "drawpoints_with_centers(data_points,torch.argmax(gamma_c_g,2).view(-1).cpu().detach().numpy(),center_points,center_labels)"
   ],
   "metadata": {
    "collapsed": false,
    "pycharm": {
     "name": "#%%\n"
    }
   }
  },
  {
   "cell_type": "code",
   "execution_count": 308,
   "outputs": [],
   "source": [
    "show_generated_samples_c(mu_c_g,logvar_c_g)"
   ],
   "metadata": {
    "collapsed": false,
    "pycharm": {
     "name": "#%%\n"
    }
   }
  },
  {
   "cell_type": "code",
   "execution_count": 309,
   "outputs": [
    {
     "data": {
      "text/plain": "(0.0018000000000000002, 0.0018000000000000002, 1.1600000000000001)"
     },
     "execution_count": 309,
     "metadata": {},
     "output_type": "execute_result"
    }
   ],
   "source": [
    "#optimizer.param_groups[0]['lr']=0.002,optimizer_clustering.param_groups[0]['lr']=0.002\n",
    "optimizer.param_groups[0]['lr'],optimizer_clustering.param_groups[0]['lr'],beta"
   ],
   "metadata": {
    "collapsed": false,
    "pycharm": {
     "name": "#%%\n"
    }
   }
  },
  {
   "cell_type": "code",
   "execution_count": 310,
   "outputs": [],
   "source": [
    "correspond_matrix = torch.zeros(K_real_cluster,K_model_cluster)\n",
    "\n",
    "for i in range(batch_size*take_latent_max):\n",
    "\n",
    "    for j in range(K_model_cluster):\n",
    "        for k in range(K_real_cluster):\n",
    "            if torch.argmax(gamma_c_g,2)[i,0] == j:\n",
    "                if ts_g[i] == k:\n",
    "                    correspond_matrix[k,j] +=1\n"
   ],
   "metadata": {
    "collapsed": false,
    "pycharm": {
     "name": "#%%\n"
    }
   }
  },
  {
   "cell_type": "code",
   "execution_count": 311,
   "outputs": [
    {
     "data": {
      "text/plain": "tensor([[ 0.,  0.,  1.,  1., 87.,  0.,  1.,  0.,  1.,  0.],\n        [ 0.,  0.,  0.,  0.,  0., 79.,  0., 51.,  0.,  0.],\n        [ 0.,  0.,  1.,  1.,  2.,  0.,  1.,  0.,  0., 94.],\n        [ 1.,  0., 92.,  0.,  0.,  0.,  0.,  0.,  3.,  2.],\n        [ 2., 64.,  0., 29.,  0.,  0.,  3.,  0.,  0.,  1.],\n        [ 0.,  0., 17.,  1.,  6.,  0.,  1.,  0., 61.,  0.],\n        [ 0.,  0.,  0.,  0.,  1.,  1., 92.,  3.,  4.,  0.],\n        [74.,  3.,  0., 29.,  0.,  0.,  0.,  0.,  1.,  0.],\n        [ 1.,  6., 15.,  1.,  0.,  0.,  0.,  0., 68.,  0.],\n        [12., 60.,  4., 16.,  0.,  0.,  0.,  2.,  3.,  1.]])"
     },
     "execution_count": 311,
     "metadata": {},
     "output_type": "execute_result"
    }
   ],
   "source": [
    "correspond_matrix"
   ],
   "metadata": {
    "collapsed": false,
    "pycharm": {
     "name": "#%%\n"
    }
   }
  },
  {
   "cell_type": "code",
   "execution_count": 312,
   "outputs": [
    {
     "data": {
      "text/plain": "tensor(1000.)"
     },
     "execution_count": 312,
     "metadata": {},
     "output_type": "execute_result"
    }
   ],
   "source": [
    "correspond_matrix.sum()"
   ],
   "metadata": {
    "collapsed": false,
    "pycharm": {
     "name": "#%%\n"
    }
   }
  },
  {
   "cell_type": "code",
   "execution_count": 313,
   "outputs": [
    {
     "data": {
      "text/plain": "torch.return_types.max(\nvalues=tensor([74., 64., 92., 29., 87., 79., 92., 51., 68., 94.]),\nindices=tensor([7, 4, 3, 4, 0, 1, 6, 1, 8, 2]))"
     },
     "execution_count": 313,
     "metadata": {},
     "output_type": "execute_result"
    }
   ],
   "source": [
    "torch.max(correspond_matrix,0)"
   ],
   "metadata": {
    "collapsed": false,
    "pycharm": {
     "name": "#%%\n"
    }
   }
  },
  {
   "cell_type": "code",
   "execution_count": 314,
   "outputs": [
    {
     "data": {
      "text/plain": "tensor(0.7300)"
     },
     "execution_count": 314,
     "metadata": {},
     "output_type": "execute_result"
    }
   ],
   "source": [
    "torch.max(correspond_matrix,0).values.sum()/(batch_size*take_latent_max)"
   ],
   "metadata": {
    "collapsed": false,
    "pycharm": {
     "name": "#%%\n"
    }
   }
  },
  {
   "cell_type": "code",
   "execution_count": 315,
   "outputs": [
    {
     "data": {
      "text/plain": "tensor([ 6.8678, 10.0106, 10.9951,  8.0703,  9.4880,  4.6371,  7.5124,  3.6691,\n        10.4076,  7.0346], device='cuda:0', grad_fn=<SqueezeBackward0>)"
     },
     "execution_count": 315,
     "metadata": {},
     "output_type": "execute_result"
    }
   ],
   "source": [
    "log_N_k_g.exp().squeeze()"
   ],
   "metadata": {
    "collapsed": false,
    "pycharm": {
     "name": "#%%\n"
    }
   }
  },
  {
   "cell_type": "code",
   "execution_count": 316,
   "outputs": [
    {
     "data": {
      "text/plain": "tensor(78.6925, device='cuda:0', grad_fn=<SumBackward0>)"
     },
     "execution_count": 316,
     "metadata": {},
     "output_type": "execute_result"
    }
   ],
   "source": [
    "\n",
    "log_N_k_g.exp().squeeze().sum()"
   ],
   "metadata": {
    "collapsed": false,
    "pycharm": {
     "name": "#%%\n"
    }
   }
  },
  {
   "cell_type": "code",
   "execution_count": 479,
   "outputs": [],
   "source": [],
   "metadata": {
    "collapsed": false,
    "pycharm": {
     "name": "#%%\n"
    }
   }
  }
 ],
 "metadata": {
  "kernelspec": {
   "name": "pycharm-9c5a4569",
   "language": "python",
   "display_name": "PyCharm (auto_encoder)"
  },
  "language_info": {
   "codemirror_mode": {
    "name": "ipython",
    "version": 2
   },
   "file_extension": ".py",
   "mimetype": "text/x-python",
   "name": "python",
   "nbconvert_exporter": "python",
   "pygments_lexer": "ipython2",
   "version": "2.7.6"
  },
  "pycharm": {
   "stem_cell": {
    "cell_type": "raw",
    "source": [
     "#SGDを用いてGMMを行うプログラムを作成する。alphaでクラスタの大きさや数を可変にする。２０２０年１１月１８日２時１１分\n",
     "#2020年１１月２１日に本格ラン。"
    ],
    "metadata": {
     "collapsed": false
    }
   }
  }
 },
 "nbformat": 4,
 "nbformat_minor": 0
}