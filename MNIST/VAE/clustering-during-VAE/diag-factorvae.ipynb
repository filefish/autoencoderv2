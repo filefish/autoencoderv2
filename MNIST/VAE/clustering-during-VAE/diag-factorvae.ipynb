{
 "cells": [
  {
   "cell_type": "code",
   "execution_count": 1,
   "outputs": [],
   "source": [
    "from __future__ import print_function\n",
    "import argparse\n",
    "import torch\n",
    "import torch.utils.data\n",
    "from torch import nn, optim\n",
    "from torch.nn import functional as F\n",
    "from torchvision import datasets, transforms\n",
    "from torchvision.utils import save_image\n",
    "\n",
    "%matplotlib inline\n",
    "import matplotlib.pyplot as plt\n",
    "\n",
    "\n",
    "from torch.distributions.multivariate_normal import MultivariateNormal\n",
    "\n",
    "\n",
    "\n",
    "import numpy as np\n",
    "\n",
    "\n",
    "\n",
    "from sklearn.manifold import TSNE\n",
    "from random import random\n",
    "from sklearn.mixture import GaussianMixture\n",
    "from sklearn.mixture import BayesianGaussianMixture\n",
    "from sklearn.cluster import KMeans"
   ],
   "metadata": {
    "collapsed": false,
    "pycharm": {
     "name": "#%%\n"
    }
   }
  },
  {
   "cell_type": "code",
   "execution_count": 61,
   "outputs": [],
   "source": [
    "\n",
    "batch_size = 100\n",
    "take_latent_max =10\n",
    "num_epoch = 10\n",
    "input_dim=28*28\n",
    "output_dim=input_dim\n",
    "en_hidden1_dim = 500\n",
    "en_hidden2_dim = 500\n",
    "en_hidden3_dim = 2000\n",
    "latent_dim= 10\n",
    "de_hidden1_dim = 2000\n",
    "de_hidden2_dim = 500\n",
    "de_hidden3_dim = 500\n",
    "\n",
    "mi_hidden1_dim = 1000\n",
    "mi_hidden2_dim = 1000\n",
    "\n",
    "\n",
    "log_interval = 600\n",
    "\n",
    "K_model_cluster = 10\n",
    "K_real_cluster = 10\n",
    "\n",
    "beta= 1.\n",
    "beta_start = beta\n",
    "beta_end = 1.\n",
    "total_step = 500\n",
    "beta_delta = (beta_end-beta_start)/total_step\n",
    "\n",
    "\n",
    "save_folder = 'SGD-factorvae'\n",
    "\n",
    "KMeans_random_state = 1 #(random seed)\n",
    "Gaussian_random_state = 1  #(random seed)\n",
    "\n",
    "eps_N_c = 0\n",
    "iter_adiabatic =1\n",
    "\n",
    "qn_value =0\n",
    "\n",
    "TC_gamma = 10.\n",
    "\n",
    "stabilizer_eps = 0"
   ],
   "metadata": {
    "collapsed": false,
    "pycharm": {
     "name": "#%%\n"
    }
   }
  },
  {
   "cell_type": "code",
   "execution_count": 3,
   "outputs": [],
   "source": [
    "device = 'cuda'\n",
    "kwargs = {'num_workers':1, 'pin_memory':True}\n",
    "\n",
    "train_loader = torch.utils.data.DataLoader(\n",
    "    datasets.MNIST('../data',train=True,download=True,\n",
    "                   transform=transforms.ToTensor()),\n",
    "    batch_size=2*batch_size,shuffle=True,**kwargs)\n",
    "\n",
    "test_loader = torch.utils.data.DataLoader(\n",
    "    datasets.MNIST('../data',train=False,transform=transforms.ToTensor()),\n",
    "    batch_size=batch_size,shuffle=True,**kwargs)\n"
   ],
   "metadata": {
    "collapsed": false,
    "pycharm": {
     "name": "#%%\n"
    }
   }
  },
  {
   "cell_type": "code",
   "execution_count": 4,
   "outputs": [],
   "source": [
    "def initialize_centers():\n",
    "\n",
    "    mu_c = torch.randn(1,latent_dim,K_model_cluster,device=device)\n",
    "    logvar_c = torch.zeros(1,latent_dim,K_model_cluster).to(device)\n",
    "    inv_sm_pi_c = torch.zeros(1,1,K_model_cluster).to(device)\n",
    "\n",
    "    return mu_c,logvar_c,inv_sm_pi_c"
   ],
   "metadata": {
    "collapsed": false,
    "pycharm": {
     "name": "#%%\n"
    }
   }
  },
  {
   "cell_type": "code",
   "execution_count": 5,
   "outputs": [
    {
     "data": {
      "text/plain": "(torch.Size([1, 10, 10]), torch.Size([1, 10, 10]), torch.Size([1, 1, 10]))"
     },
     "execution_count": 5,
     "metadata": {},
     "output_type": "execute_result"
    }
   ],
   "source": [
    "\n",
    "\n",
    "#zs_g,ts_g,mus_g,logvars_g = take_latents()\n",
    "mu_c_g,logvar_c_g,inv_sm_pi_c_g = initialize_centers()\n",
    "#mu_c_g,logvar_c_g,pi_c_g,Q_c_g,gamma_c_g,log_P_g = gauss(mus_g,logvars_g,mu_c_g,logvar_c_g,pi_c_g,50)\n",
    "mu_c_g.shape,logvar_c_g.shape,inv_sm_pi_c_g.shape\n",
    "#mu_c_g,logvar_c_g,pi_c_g,Q_c_g,gamma_c_g,log_P_g = gauss(mus_g,logvars_g,mu_c_g,logvar_c_g,pi_c_g,50)"
   ],
   "metadata": {
    "collapsed": false,
    "pycharm": {
     "name": "#%%\n"
    }
   }
  },
  {
   "cell_type": "code",
   "execution_count": 6,
   "outputs": [
    {
     "data": {
      "text/plain": "tensor([[[0., 0., 0., 0., 0., 0., 0., 0., 0., 0.]]], device='cuda:0',\n       requires_grad=True)"
     },
     "execution_count": 6,
     "metadata": {},
     "output_type": "execute_result"
    }
   ],
   "source": [
    "mu_c_g.requires_grad_(True)\n",
    "logvar_c_g.requires_grad_(True)\n",
    "inv_sm_pi_c_g.requires_grad_(True)"
   ],
   "metadata": {
    "collapsed": false,
    "pycharm": {
     "name": "#%%\n"
    }
   }
  },
  {
   "cell_type": "code",
   "execution_count": 7,
   "outputs": [
    {
     "data": {
      "text/plain": "(True, True, True)"
     },
     "execution_count": 7,
     "metadata": {},
     "output_type": "execute_result"
    }
   ],
   "source": [
    "mu_c_g.requires_grad,logvar_c_g.requires_grad,inv_sm_pi_c_g.requires_grad\n",
    "#F.softmax(inv_sm_pi_c_g,dim=0)"
   ],
   "metadata": {
    "collapsed": false,
    "pycharm": {
     "name": "#%%\n"
    }
   }
  },
  {
   "cell_type": "code",
   "execution_count": 8,
   "outputs": [],
   "source": [
    "class VAE(nn.Module):\n",
    "    def __init__(self):\n",
    "        super(VAE, self).__init__()\n",
    "\n",
    "        self.input_layer = nn.Linear(input_dim,en_hidden1_dim)##728 => 500 for MNIST\n",
    "        self.encode1_layer = nn.Linear(en_hidden1_dim,en_hidden2_dim)##500 => 500 for MNIST\n",
    "        self.encode2_layer = nn.Linear(en_hidden2_dim,en_hidden3_dim)##500 => 2000 for MNIST\n",
    "        self.mu_layer = nn.Linear(en_hidden3_dim,latent_dim)##2000 => 10 for MNIST\n",
    "        self.std_layer = nn.Linear(en_hidden3_dim,latent_dim)##2000 => 10 for MNIST\n",
    "        self.decode1_layer = nn.Linear(latent_dim,de_hidden1_dim)##10 => 2000 for MNIST\n",
    "        self.decode2_layer = nn.Linear(de_hidden1_dim,de_hidden2_dim)##2000 => 500 for MNIST\n",
    "        self.decode3_layer = nn.Linear(de_hidden2_dim,de_hidden3_dim)##500 => 500 for MNIST\n",
    "        self.output_layer = nn.Linear(de_hidden3_dim,output_dim)##500 => 728 for MN#%%IST\n",
    "\n",
    "    def encode(self, x):\n",
    "        en_h1 = F.relu(self.input_layer(x))\n",
    "        en_h2 = F.relu(self.encode1_layer(en_h1))\n",
    "        en_h3 = F.relu(self.encode2_layer(en_h2))\n",
    "        return self.mu_layer(en_h3), self.std_layer(en_h3)\n",
    "    #入力から中心と分散の対数を作っている\n",
    "\n",
    "\n",
    "    def reparameterize(self,mu,logvar):\n",
    "        std = torch.exp(0.5*logvar)\n",
    "        eps = torch.randn_like(std)\n",
    "        #torch.randn_like(std)はstdと同じ次元の正規乱数を与えている。N(0,1)**size(std).ただし、標準偏差は対角的。\n",
    "        return mu + eps*std\n",
    "    #zの値を確率的に作っている。\n",
    "\n",
    "    def decode(self,z):\n",
    "        de_h1 = F.relu(self.decode1_layer(z))\n",
    "        de_h2 = F.relu(self.decode2_layer(de_h1))\n",
    "        de_h3 = F.relu(self.decode3_layer(de_h2))\n",
    "        return torch.sigmoid(self.output_layer(de_h3))\n",
    "    #zからNNを通したあとに、sigmoidで押し込んでxの値を作っている\n",
    "\n",
    "\n",
    "    def forward(self, x):\n",
    "        mu, logvar = self.encode(x.view(-1,784))\n",
    "        z = self.reparameterize(mu, logvar)\n",
    "        return self.decode(z),mu,logvar,z\n",
    "    #出力はxの予測値とzを算出するときの中心と分散になっている\n",
    "\n",
    "\n",
    "model = VAE().to(device)\n",
    "\n",
    "optimizer = optim.Adam(model.parameters(),lr=0.002)\n",
    "scheduler = torch.optim.lr_scheduler.MultiStepLR(optimizer,milestones=[20,40,60,80,100,120,140,160,180,200,220,240,260],gamma=0.9)\n",
    "\n",
    "\n",
    "#optimizer_clustering = optim.Adam([mu_c_g,logvar_c_g,inv_sm_pi_c_g],lr=0.002)\n",
    "optimizer_clustering = optim.Adam([mu_c_g,logvar_c_g],lr=0.002)\n",
    "scheduler_clustering = torch.optim.lr_scheduler.MultiStepLR(optimizer_clustering,milestones=[20,40,60,80,100,120,140,160,180,200,220,240,260],gamma=0.9)\n"
   ],
   "metadata": {
    "collapsed": false,
    "pycharm": {
     "name": "#%%\n"
    }
   }
  },
  {
   "cell_type": "code",
   "execution_count": 9,
   "outputs": [],
   "source": [
    "\n",
    "class TC_MLP(nn.Module):\n",
    "    def __init__(self):\n",
    "        super(TC_MLP, self).__init__()\n",
    "\n",
    "        self.input_layer = nn.Linear(latent_dim,mi_hidden1_dim)##728 => 500 for MNIST\n",
    "        self.hidden1_layer = nn.Linear(mi_hidden1_dim,mi_hidden2_dim)##500 => 500 for MNIST\n",
    "        self.output_layer = nn.Linear(mi_hidden2_dim,1)##500 => 2000 for MNIST\n",
    "\n",
    "    def forward(self, z):\n",
    "        h1 = F.leaky_relu(self.input_layer(z))\n",
    "        h2 = F.leaky_relu(self.hidden1_layer(h1))\n",
    "\n",
    "        return torch.sigmoid(self.output_layer(h2))\n",
    "    #出力はxの予測値とzを算出するときの中心と分散になっている\n",
    "\n",
    "\n",
    "TC_model = TC_MLP().to(device)\n",
    "\n",
    "optimizer_TC = optim.Adam(TC_model.parameters(),lr=0.002)\n",
    "scheduler_TC = torch.optim.lr_scheduler.MultiStepLR(optimizer_TC,milestones=[20,40,60,80,100,120,140,160,180,200,220,240,260],gamma=0.9)\n"
   ],
   "metadata": {
    "collapsed": false,
    "pycharm": {
     "name": "#%%\n"
    }
   }
  },
  {
   "cell_type": "code",
   "execution_count": 10,
   "outputs": [],
   "source": [
    "def take_latents():\n",
    "    zs = torch.empty(0,latent_dim,1).to(device).requires_grad_(False)\n",
    "    ts = torch.empty(0,dtype=torch.long).to(device).requires_grad_(False)\n",
    "    mus = torch.empty(0,latent_dim,1).to(device).requires_grad_(False)\n",
    "    logvars = torch.empty(0,latent_dim,1).to(device).requires_grad_(False)\n",
    "#zs = []\n",
    "#ts = []\n",
    "\n",
    "#ts.dtype = torch.int\n",
    "\n",
    "    #for x, t in test_loader:\n",
    "    for batch_idx, (x,t) in enumerate(test_loader):\n",
    "    # original。xがデータ、tがラベル。\n",
    "    #for i, im in enumerate(x.view(-1, 28, 28).detach().numpy()[:10]):\n",
    "    #  ax = fig.add_subplot(3, 10, i+1, xticks=[], yticks=[])\n",
    "    #  ax.imshow(im, 'gray')\n",
    "    #x = x.to(device)\n",
    "    # generate from x\n",
    "        if batch_idx < take_latent_max:\n",
    "            x = x.to(device)\n",
    "            with torch.no_grad():\n",
    "                recon_batch,mu,logvar, z = model(x)\n",
    "            t = t.to(device)\n",
    "    #zs.append(z)\n",
    "    #ts.append(t)\n",
    "            zs = torch.cat((zs,z.view(-1,latent_dim,1)),0)\n",
    "            ts = torch.cat((ts,t),0)\n",
    "            mus = torch.cat((mus,mu.view(-1,latent_dim,1)),0)\n",
    "            logvars = torch.cat((logvars,logvar.view(-1,latent_dim,1)),0)\n",
    "    #y = y.view(-1, 28, 28)\n",
    "    #for i, im in enumerate(y.cpu().detach().numpy()[:10]):\n",
    "     # ax = fig.add_subplot(3, 10, i+11, xticks=[], yticks=[])\n",
    "     # ax.imshow(im, 'gray')\n",
    "    mus = torch.cat((mus,mu_c_g.permute(2,1,0)),0)\n",
    "    ts = torch.cat((ts,torch.arange(-1,-K_model_cluster-1,-1).to(device)),0)\n",
    "    return zs,ts,mus,logvars\n"
   ],
   "metadata": {
    "collapsed": false,
    "pycharm": {
     "name": "#%%\n"
    }
   }
  },
  {
   "cell_type": "code",
   "execution_count": 11,
   "outputs": [],
   "source": [
    "def gauss(mus,logvars,mu_c,logvar_c,inv_sm_pi_c,iter):\n",
    "\n",
    "    for i in range(iter):\n",
    "        with torch.no_grad():\n",
    "            Q_c = logvar_c+(logvars.exp()+(mus-mu_c).pow(2))/(logvar_c.exp())\n",
    "\n",
    "            gamma_c = (F.softmax(inv_sm_pi_c,dim=2)*((-0.5*Q_c.sum(1,keepdim=True)).exp()))/((F.softmax(inv_sm_pi_c,dim=2)*((-0.5*Q_c.sum(1,keepdim=True)).exp())).sum(2,keepdim=True))\n",
    "\n",
    "            N_c = gamma_c.sum(0,keepdim=True)\n",
    "            log_P = (((F.softmax(inv_sm_pi_c,dim=2)*((-0.5*Q_c.sum(1,keepdim=True)).exp())).sum(2).squeeze()).log()).sum()/((Q_c.shape)[0])\n",
    "            pi_c= N_c/(N_c.sum())\n",
    "            mu_c=(gamma_c*mus).sum(0,keepdim=True)/N_c\n",
    "            logvar_c=((gamma_c*((mus-mu_c).pow(2)+logvars.exp())).sum(0,keepdim=True)/N_c).log()\n",
    "\n",
    "\n",
    "    return mu_c,logvar_c,pi_c,Q_c,gamma_c,log_P\n"
   ],
   "metadata": {
    "collapsed": false,
    "pycharm": {
     "name": "#%%\n"
    }
   }
  },
  {
   "cell_type": "code",
   "execution_count": 12,
   "outputs": [],
   "source": [
    "def drawpoints(mus_numpy,ts_numpy):\n",
    "    colors = [\"red\", \"green\", \"blue\", \"orange\", \"purple\", \"brown\", \"fuchsia\", \"grey\", \"olive\", \"lightblue\",\"red\", \"green\", \"blue\", \"orange\", \"purple\", \"brown\", \"fuchsia\", \"grey\", \"olive\", \"lightblue\"]\n",
    "    for p,l in zip(points,ts_numpy):\n",
    "        plt.scatter(p[0],p[1],marker=\"${}$\".format(l),c=colors[l])\n",
    "\n",
    "cm = plt.cm.get_cmap('tab20')\n",
    "def drawpoints_with_centers(mus_numpy,ts_numpy,center_numpy,center_t_numpy):\n",
    "    for p,l in zip(mus_numpy,ts_numpy):\n",
    "        plt.scatter(p[0],p[1],marker=\"${}$\".format(l),color=cm.colors[l])\n",
    "    for p,l in zip(center_numpy,center_t_numpy):\n",
    "        plt.scatter(p[0],p[1],facecolors='none',edgecolors='red',s=200)\n",
    "    for p,l in zip(center_numpy,center_t_numpy):\n",
    "        plt.scatter(p[0],p[1],marker=\"${}$\".format(l),color='black',s=50)\n",
    "\n",
    "#    plt.xlim(-4,4)\n",
    "#    plt.ylim(-4,4)\n",
    "    plt.show()"
   ],
   "metadata": {
    "collapsed": false,
    "pycharm": {
     "name": "#%%\n"
    }
   }
  },
  {
   "cell_type": "code",
   "execution_count": 13,
   "outputs": [],
   "source": [
    "N_wide = 10\n",
    "N_sigma =7\n",
    "def show_generated_samples_c(mu_c,logvar_c):\n",
    "\n",
    "    for i in range(K_model_cluster):\n",
    "        sample = torch.empty(latent_dim*(N_wide+1),latent_dim).to(device)\n",
    "        with torch.no_grad():\n",
    "            for j in range(latent_dim):\n",
    "                for k in range(N_wide+1):\n",
    "                    std_c =torch.zeros(latent_dim).to(device)\n",
    "                    std_c[j] = (logvar_c_g[0,j,i].exp()).sqrt()\n",
    "                    sample[j*(N_wide+1)+k,:] = mu_c[0,:,i]+N_sigma*(k-N_wide/2)*std_c/N_wide\n",
    "            #sample_dist = MultivariateNormal(loc=mu_c[:,:,i],covariance_matrix=torch.diag(logvar_c[0,:,i].exp()))\n",
    "    #mu_distribution = MultivariateNormal(loc=mu_center.cpu(),covariance_matrix=cov_mus.cpu())\n",
    "            #sample = sample_dist.sample([64,])\n",
    "#    sample = torch.randn(64,latent_dim).to(device)\n",
    "        #20次元の潜在空間のデータを64個作成して、GPUに送る\n",
    "            sample = model.decode(sample).cpu()\n",
    "        #ランダムな潜在変数から画像を生成する。\n",
    "            save_image(sample.view(latent_dim*(N_wide+1),1,28,28),save_folder+'/sample_c_' + str(i) + '.png',nrow=N_wide+1)\n",
    "        #生成した６４個のデータを記録しておく"
   ],
   "metadata": {
    "collapsed": false,
    "pycharm": {
     "name": "#%%\n"
    }
   }
  },
  {
   "cell_type": "code",
   "execution_count": 14,
   "outputs": [],
   "source": [
    "def q_exponential(x,n):\n",
    "    if n==0:\n",
    "        return x.exp()\n",
    "    else:\n",
    "        return (1. - x/n).pow(-n)\n",
    "\n",
    "def q_log(x,n):\n",
    "    if n==0:\n",
    "        return x.log()\n",
    "    else:\n",
    "        return n*(x.pow(1./n)-1.)"
   ],
   "metadata": {
    "collapsed": false,
    "pycharm": {
     "name": "#%%\n"
    }
   }
  },
  {
   "cell_type": "code",
   "execution_count": 15,
   "outputs": [],
   "source": [
    "def shuffle_latent(z):\n",
    "    tz = torch.randperm(batch_size)\n",
    "    z_temp = torch.empty(batch_size,latent_dim).to(device)\n",
    "    for i in range(latent_dim):\n",
    "        z_temp[:,i] = z[tz,i]\n",
    "    return z_temp"
   ],
   "metadata": {
    "collapsed": false,
    "pycharm": {
     "name": "#%%\n"
    }
   }
  },
  {
   "cell_type": "code",
   "execution_count": 16,
   "outputs": [],
   "source": [
    "def loss_function_c(recon_x,x,mus_f,logvars_f,mu_c_f,logvar_c_f,inv_sm_pi_c_f,D_z):\n",
    "    BCE = F.binary_cross_entropy(recon_x,x.view(-1,input_dim),reduction='sum')\n",
    "    KLD = -(q_log(stabilizer_eps+(F.softmax(inv_sm_pi_c_f,dim=2)*(q_exponential(-0.5*((-1.+logvar_c_f-logvars_f+(logvars_f.exp()+(mus_f-mu_c_f).pow(2))/(logvar_c_f.exp())).sum(1,keepdim=True)),qn_value))).sum(2,keepdim=True),qn_value)).sum()\n",
    "    TC = ((1.+stabilizer_eps)/(1.-D_z+stabilizer_eps)-1.+stabilizer_eps).log().sum()\n",
    "\n",
    "    return BCE+beta*KLD+TC_gamma*TC"
   ],
   "metadata": {
    "collapsed": false,
    "pycharm": {
     "name": "#%%\n"
    }
   }
  },
  {
   "cell_type": "code",
   "execution_count": 17,
   "outputs": [],
   "source": [
    "def loss_function_TC(D_z_data,D_z_shuffle):\n",
    "    return (-(D_z_data+stabilizer_eps).log()-(1.-D_z_shuffle+stabilizer_eps).log()).sum()"
   ],
   "metadata": {
    "collapsed": false,
    "pycharm": {
     "name": "#%%\n"
    }
   }
  },
  {
   "cell_type": "code",
   "execution_count": 18,
   "outputs": [],
   "source": [
    "def train_c(epoch,mu_c,logvar_c,inv_sm_pi_c):\n",
    "    model.train()\n",
    "    TC_model.train()\n",
    "    train_loss = 0\n",
    "    for batch_idx, (data,_) in enumerate(train_loader):\n",
    "        #ラベルは使わないようだ\n",
    "        data = data.to(device)\n",
    "        #データをGPUにおくる\n",
    "        optimizer.zero_grad()\n",
    "        optimizer_clustering.zero_grad()\n",
    "\n",
    "        #傾きの初期化\n",
    "        recon_batch, mu, logvar,z_data = model(data[0:batch_size,:,:])\n",
    "        z_data_tensor = z_data.detach()\n",
    "        D_z_data = TC_model(z_data)\n",
    "        #VAEからバッヂ分のデータと中心と分散のログを受け取る\n",
    "\n",
    "        loss = loss_function_c(recon_x=recon_batch,x=data[0:batch_size,:,:],mus_f=mu.view(-1,latent_dim,1),logvars_f=logvar.view(-1,latent_dim,1),mu_c_f=mu_c,logvar_c_f=logvar_c,inv_sm_pi_c_f=inv_sm_pi_c,D_z=D_z_data)\n",
    "        #バッヂ分のロスを計算。バッヂ数で割っていないようだ。書き出しのときにデータ数で割っている。\n",
    "        loss.backward()\n",
    "        #傾きを計算\n",
    "        train_loss+= loss.item()\n",
    "        optimizer.step()\n",
    "        #NNパラメータの更新\n",
    "\n",
    "        optimizer_clustering.step()\n",
    "        #NNクラスタリングパラメータの更新\n",
    "\n",
    "        optimizer_TC.zero_grad()\n",
    "        D_z_data_tensor = TC_model(z_data_tensor)\n",
    "        _, _, _,z_data_shuffle = model(data[batch_size:2*batch_size,:,:])\n",
    "        D_z_shuffle = TC_model(shuffle_latent(z_data_shuffle.detach()))\n",
    "        loss_TC = loss_function_TC(D_z_data=D_z_data_tensor,D_z_shuffle=D_z_shuffle)\n",
    "        loss_TC.backward()\n",
    "        optimizer_TC.step()\n",
    "        #MI_MLPの更新\n",
    "\n",
    "#        print(mu_c_g)\n",
    "#        print('var_c='.format(logvar_c_g.exp()))\n",
    "\n",
    "#        print('mu={}'.format(mu.view(-1,latent_dim,1).squeeze()))\n",
    "#        print('prec_c={}'.format((1./logvar_c_g.exp()).squeeze()))\n",
    "#        print('quad={}'.format(((((mu.view(-1,latent_dim,1)-mu_c_g).pow(2))/(logvar_c_g.exp())).sum(1)).squeeze()))\n",
    "#        print('quadvar={}'.format((((logvar.view(-1,latent_dim,1).exp())/(logvar_c_g.exp())).sum(1)).squeeze()))\n",
    "#        print('expDKL={}'.format((-0.5*((logvar_c_g+(logvar.view(-1,latent_dim,1).exp()+(mu.view(-1,latent_dim,1)-mu_c_g).pow(2))/(logvar_c_g.exp())).sum(1,keepdim=True))).exp().squeeze()))\n",
    "#        print('logDKL={}'.format((((F.softmax(inv_sm_pi_c_g,dim=2)*((-0.5*((logvar_c_g+(logvar.view(-1,latent_dim,1).exp()+(mu.view(-1,latent_dim,1)-mu_c_g).pow(2))/(logvar_c_g.exp())).sum(1,keepdim=True))).exp())).sum(2,keepdim=True)).log()).squeeze()))\n",
    "\n",
    "        if batch_idx % log_interval ==0:\n",
    "            #一定間隔でロスを書き出し。epochはここでしか使っていないようだ。len()は最初の次元の大きさを出すのでバッヂの大きさ。\n",
    "            print('Train Epoch: {} [{}/{} ({:.0f}%)]\\tLoss: {:.6f}'.format(\n",
    "              epoch,batch_idx*len(data),len(train_loader.dataset),\n",
    "                100.*batch_idx/len(train_loader),\n",
    "                loss.item()/len(data)\n",
    "            ))\n",
    "\n",
    "#        if batch_idx == 5:\n",
    "#            break"
   ],
   "metadata": {
    "collapsed": false,
    "pycharm": {
     "name": "#%%\n"
    }
   }
  },
  {
   "cell_type": "code",
   "execution_count": 19,
   "outputs": [],
   "source": [
    "def test_c(epoch,mu_c,logvar_c,inv_sm_pi_c):\n",
    "    model.eval()\n",
    "    TC_model.eval()\n",
    "    test_loss = 0\n",
    "    with torch.no_grad():#バックプロパゲーションを行わないから、微分情報を残さない\n",
    "        for i, (data, _) in enumerate(test_loader):\n",
    "            #テストデータを取り出す。ラベルはいらない。\n",
    "            data =data.to(device)\n",
    "            #データをGPUに送る\n",
    "            recon_batch, mu, logvar,z_data = model(data)\n",
    "            D_z_data = TC_model(z_data)\n",
    "            #データからバッヂ分の再現画像と中心と分散の対数を出している。\n",
    "            test_loss += loss_function_c(recon_x=recon_batch,x=data,mus_f=mu.view(-1,latent_dim,1),logvars_f=logvar.view(-1,latent_dim,1),mu_c_f=mu_c,logvar_c_f=logvar_c,inv_sm_pi_c_f=inv_sm_pi_c,D_z=D_z_data).item()\n",
    "            #テストデータでのロスを出している\n",
    "            if i == 0:\n",
    "                #はじめのバッヂについて\n",
    "                n = min(data.size(0),16)\n",
    "                #nをバッヂのデータ数か８との小さい方として\n",
    "                comparizon = torch.cat([data[:n],recon_batch.view(batch_size,1,28,28)[:n]])\n",
    "                #元データと再現データを並べる\n",
    "                save_image(comparizon.cpu(),'./'+save_folder+'/reconstruction_c_' + str(epoch) + '.png',nrow=n)\n",
    "\n",
    "                test_loss /= len(test_loader.dataset)\n",
    "                print('====> Test set loss: {:.4f}'.format(test_loss))"
   ],
   "metadata": {
    "collapsed": false,
    "pycharm": {
     "name": "#%%\n"
    }
   }
  },
  {
   "cell_type": "code",
   "execution_count": 20,
   "outputs": [
    {
     "data": {
      "text/plain": "\"\\ndef train_c_epoch(epochs,mu_c,logvar_c,inv_sm_pi_c):\\n    for epoch in range(1, epochs +1):\\n        train_c(epoch,mu_c,logvar_c,inv_sm_pi_c)\\n        test_c(epoch,mu_c,logvar_c,inv_sm_pi_c)\\n        with torch.no_grad():\\n            sample = torch.randn(64,latent_dim).to(device)\\n        #20次元の潜在空間のデータを64個作成して、GPUに送る\\n            sample = model.decode(sample).cpu()\\n        #ランダムな潜在変数から画像を生成する。\\n            save_image(sample.view(64,1,28,28),save_folder+'/sample_c_epoch_' + str(epoch) + '.png',nrow=8)\\n        #生成した６４個のデータを記録しておく\\n\\n\""
     },
     "execution_count": 20,
     "metadata": {},
     "output_type": "execute_result"
    }
   ],
   "source": [
    "'''\n",
    "def train_c_epoch(epochs,mu_c,logvar_c,inv_sm_pi_c):\n",
    "    for epoch in range(1, epochs +1):\n",
    "        train_c(epoch,mu_c,logvar_c,inv_sm_pi_c)\n",
    "        test_c(epoch,mu_c,logvar_c,inv_sm_pi_c)\n",
    "        with torch.no_grad():\n",
    "            sample = torch.randn(64,latent_dim).to(device)\n",
    "        #20次元の潜在空間のデータを64個作成して、GPUに送る\n",
    "            sample = model.decode(sample).cpu()\n",
    "        #ランダムな潜在変数から画像を生成する。\n",
    "            save_image(sample.view(64,1,28,28),save_folder+'/sample_c_epoch_' + str(epoch) + '.png',nrow=8)\n",
    "        #生成した６４個のデータを記録しておく\n",
    "\n",
    "'''"
   ],
   "metadata": {
    "collapsed": false,
    "pycharm": {
     "name": "#%%\n"
    }
   }
  },
  {
   "cell_type": "code",
   "execution_count": 21,
   "outputs": [
    {
     "data": {
      "text/plain": "(tensor([[[ 1.2973,  1.4047,  0.0241, -1.7028,  0.8122,  0.0493,  0.2799,\n            0.1628,  0.7086,  0.7176],\n          [ 2.5325, -0.1315, -0.2272, -1.0619, -1.7115, -2.1439,  0.8208,\n            0.6451,  1.2621, -0.3799],\n          [-0.5139,  0.4895,  0.1495,  0.3254, -0.2687,  0.6975, -0.2148,\n           -0.1993, -0.1752, -0.7022],\n          [-0.3406, -1.8429,  1.1654, -0.7467, -0.9089, -1.3466, -1.1933,\n           -0.7390, -0.1534, -2.6195],\n          [ 0.7842,  0.0471, -1.3570,  0.7200,  0.7101,  1.2160,  0.0213,\n            0.6160,  0.2927,  0.1231],\n          [ 0.8523, -0.0166,  0.1552, -1.4989,  1.0827,  0.3047,  0.9152,\n           -0.4614, -0.6301, -0.4888],\n          [-1.0563, -0.1127, -0.4686, -1.2337, -1.2488,  0.1347, -0.0764,\n           -1.6486, -0.6963,  0.6423],\n          [-0.5857, -0.3983, -0.4457,  1.1289, -0.2113, -0.9810,  0.2848,\n           -0.1165,  0.3160,  1.5835],\n          [-0.1473, -1.1107,  1.0200, -0.7700, -0.9771, -1.5334, -0.2198,\n           -0.7195,  0.2468,  0.0762],\n          [ 1.5108,  0.2267, -0.6219,  0.2383, -0.5349, -1.3404, -1.1616,\n            1.2005, -0.1817,  0.8588]]], device='cuda:0', requires_grad=True),\n tensor([[[0., 0., 0., 0., 0., 0., 0., 0., 0., 0.],\n          [0., 0., 0., 0., 0., 0., 0., 0., 0., 0.],\n          [0., 0., 0., 0., 0., 0., 0., 0., 0., 0.],\n          [0., 0., 0., 0., 0., 0., 0., 0., 0., 0.],\n          [0., 0., 0., 0., 0., 0., 0., 0., 0., 0.],\n          [0., 0., 0., 0., 0., 0., 0., 0., 0., 0.],\n          [0., 0., 0., 0., 0., 0., 0., 0., 0., 0.],\n          [0., 0., 0., 0., 0., 0., 0., 0., 0., 0.],\n          [0., 0., 0., 0., 0., 0., 0., 0., 0., 0.],\n          [0., 0., 0., 0., 0., 0., 0., 0., 0., 0.]]], device='cuda:0',\n        requires_grad=True),\n tensor([[[0.1000, 0.1000, 0.1000, 0.1000, 0.1000, 0.1000, 0.1000, 0.1000,\n           0.1000, 0.1000]]], device='cuda:0', grad_fn=<SoftmaxBackward>))"
     },
     "execution_count": 21,
     "metadata": {},
     "output_type": "execute_result"
    }
   ],
   "source": [
    "\n",
    "mu_c_g,logvar_c_g,F.softmax(inv_sm_pi_c_g,dim=2)"
   ],
   "metadata": {
    "collapsed": false,
    "pycharm": {
     "name": "#%%\n"
    }
   }
  },
  {
   "cell_type": "code",
   "execution_count": 22,
   "outputs": [],
   "source": [
    "#infomax_alpha = 2.\n",
    "beta_delta = 0.01"
   ],
   "metadata": {
    "collapsed": false,
    "pycharm": {
     "name": "#%%\n"
    }
   }
  },
  {
   "cell_type": "code",
   "execution_count": 62,
   "outputs": [
    {
     "name": "stdout",
     "output_type": "stream",
     "text": [
      "Train Epoch: 0 [0/60000 (0%)]\tLoss: 48.159995\n",
      "====> Test set loss: 1.0382\n",
      "Train Epoch: 1 [0/60000 (0%)]\tLoss: 49.555361\n",
      "====> Test set loss: 1.0494\n",
      "Train Epoch: 2 [0/60000 (0%)]\tLoss: 48.918149\n",
      "====> Test set loss: 1.0317\n",
      "Train Epoch: 3 [0/60000 (0%)]\tLoss: 49.305156\n",
      "====> Test set loss: 1.1216\n",
      "Train Epoch: 4 [0/60000 (0%)]\tLoss: 46.300415\n",
      "====> Test set loss: 1.0767\n",
      "Train Epoch: 5 [0/60000 (0%)]\tLoss: 46.894312\n",
      "====> Test set loss: 1.0928\n",
      "Train Epoch: 6 [0/60000 (0%)]\tLoss: 46.995586\n",
      "====> Test set loss: 1.1011\n",
      "Train Epoch: 7 [0/60000 (0%)]\tLoss: 50.917168\n",
      "====> Test set loss: 1.0885\n",
      "Train Epoch: 8 [0/60000 (0%)]\tLoss: 50.360986\n",
      "====> Test set loss: 1.0478\n",
      "Train Epoch: 9 [0/60000 (0%)]\tLoss: 49.183022\n",
      "====> Test set loss: 1.1325\n",
      "Train Epoch: 10 [0/60000 (0%)]\tLoss: 46.191333\n",
      "====> Test set loss: 1.0545\n",
      "Train Epoch: 11 [0/60000 (0%)]\tLoss: 46.456685\n",
      "====> Test set loss: 1.0540\n",
      "Train Epoch: 12 [0/60000 (0%)]\tLoss: 48.680410\n",
      "====> Test set loss: 1.0882\n",
      "Train Epoch: 13 [0/60000 (0%)]\tLoss: 48.495459\n",
      "====> Test set loss: 0.9613\n",
      "Train Epoch: 14 [0/60000 (0%)]\tLoss: 47.640088\n",
      "====> Test set loss: 1.0328\n",
      "Train Epoch: 15 [0/60000 (0%)]\tLoss: 48.446475\n",
      "====> Test set loss: 1.0260\n",
      "Train Epoch: 16 [0/60000 (0%)]\tLoss: 48.673027\n",
      "====> Test set loss: 1.0729\n",
      "Train Epoch: 17 [0/60000 (0%)]\tLoss: 46.605396\n",
      "====> Test set loss: 1.0406\n",
      "Train Epoch: 18 [0/60000 (0%)]\tLoss: 48.067114\n",
      "====> Test set loss: 1.0279\n",
      "Train Epoch: 19 [0/60000 (0%)]\tLoss: 50.274985\n",
      "====> Test set loss: 1.0937\n",
      "Train Epoch: 20 [0/60000 (0%)]\tLoss: 47.353677\n",
      "====> Test set loss: 1.0502\n",
      "Train Epoch: 21 [0/60000 (0%)]\tLoss: 48.718892\n",
      "====> Test set loss: 1.1156\n",
      "Train Epoch: 22 [0/60000 (0%)]\tLoss: 46.452656\n",
      "====> Test set loss: 1.0677\n",
      "Train Epoch: 23 [0/60000 (0%)]\tLoss: 49.989868\n",
      "====> Test set loss: 1.0756\n",
      "Train Epoch: 24 [0/60000 (0%)]\tLoss: 47.555176\n",
      "====> Test set loss: 1.0582\n",
      "Train Epoch: 25 [0/60000 (0%)]\tLoss: 49.346265\n",
      "====> Test set loss: 1.1293\n",
      "Train Epoch: 26 [0/60000 (0%)]\tLoss: 50.263672\n",
      "====> Test set loss: 1.0819\n",
      "Train Epoch: 27 [0/60000 (0%)]\tLoss: 49.511626\n",
      "====> Test set loss: 1.0766\n",
      "Train Epoch: 28 [0/60000 (0%)]\tLoss: 48.082993\n",
      "====> Test set loss: 1.0368\n",
      "Train Epoch: 29 [0/60000 (0%)]\tLoss: 50.045986\n",
      "====> Test set loss: 1.0815\n",
      "Train Epoch: 30 [0/60000 (0%)]\tLoss: 46.818579\n",
      "====> Test set loss: 1.0542\n",
      "Train Epoch: 31 [0/60000 (0%)]\tLoss: 46.224004\n",
      "====> Test set loss: 0.9934\n",
      "Train Epoch: 32 [0/60000 (0%)]\tLoss: 46.771396\n",
      "====> Test set loss: 1.0239\n",
      "Train Epoch: 33 [0/60000 (0%)]\tLoss: 47.505630\n",
      "====> Test set loss: 1.1064\n",
      "Train Epoch: 34 [0/60000 (0%)]\tLoss: 51.556060\n",
      "====> Test set loss: 1.0440\n",
      "Train Epoch: 35 [0/60000 (0%)]\tLoss: 49.936738\n",
      "====> Test set loss: 1.0451\n",
      "Train Epoch: 36 [0/60000 (0%)]\tLoss: 48.577754\n",
      "====> Test set loss: 1.0669\n",
      "Train Epoch: 37 [0/60000 (0%)]\tLoss: 48.565791\n",
      "====> Test set loss: 0.9581\n",
      "Train Epoch: 38 [0/60000 (0%)]\tLoss: 44.052876\n",
      "====> Test set loss: 1.0793\n",
      "Train Epoch: 39 [0/60000 (0%)]\tLoss: 48.778516\n",
      "====> Test set loss: 1.0570\n",
      "Train Epoch: 40 [0/60000 (0%)]\tLoss: 49.221406\n",
      "====> Test set loss: 1.0709\n",
      "Train Epoch: 41 [0/60000 (0%)]\tLoss: 47.499707\n",
      "====> Test set loss: 1.0198\n",
      "Train Epoch: 42 [0/60000 (0%)]\tLoss: 47.869360\n",
      "====> Test set loss: 1.0023\n",
      "Train Epoch: 43 [0/60000 (0%)]\tLoss: 49.730239\n",
      "====> Test set loss: 1.0486\n",
      "Train Epoch: 44 [0/60000 (0%)]\tLoss: 45.455591\n",
      "====> Test set loss: 1.0707\n",
      "Train Epoch: 45 [0/60000 (0%)]\tLoss: 47.318262\n",
      "====> Test set loss: 0.9947\n",
      "Train Epoch: 46 [0/60000 (0%)]\tLoss: 47.160615\n",
      "====> Test set loss: 0.9877\n",
      "Train Epoch: 47 [0/60000 (0%)]\tLoss: 48.592759\n",
      "====> Test set loss: 1.0687\n",
      "Train Epoch: 48 [0/60000 (0%)]\tLoss: 50.288564\n",
      "====> Test set loss: 1.0986\n",
      "Train Epoch: 49 [0/60000 (0%)]\tLoss: 48.064604\n",
      "====> Test set loss: 1.0115\n",
      "Train Epoch: 50 [0/60000 (0%)]\tLoss: 46.179507\n",
      "====> Test set loss: 1.0225\n",
      "Train Epoch: 51 [0/60000 (0%)]\tLoss: 49.831860\n",
      "====> Test set loss: 1.0387\n",
      "Train Epoch: 52 [0/60000 (0%)]\tLoss: 51.452437\n",
      "====> Test set loss: 1.0393\n",
      "Train Epoch: 53 [0/60000 (0%)]\tLoss: 46.964946\n",
      "====> Test set loss: 1.0310\n",
      "Train Epoch: 54 [0/60000 (0%)]\tLoss: 49.443486\n",
      "====> Test set loss: 1.0552\n",
      "Train Epoch: 55 [0/60000 (0%)]\tLoss: 47.885063\n",
      "====> Test set loss: 1.1184\n",
      "Train Epoch: 56 [0/60000 (0%)]\tLoss: 50.637134\n",
      "====> Test set loss: 1.0744\n",
      "Train Epoch: 57 [0/60000 (0%)]\tLoss: 50.253652\n",
      "====> Test set loss: 1.1228\n",
      "Train Epoch: 58 [0/60000 (0%)]\tLoss: 46.504854\n",
      "====> Test set loss: 1.0693\n",
      "Train Epoch: 59 [0/60000 (0%)]\tLoss: 47.686689\n",
      "====> Test set loss: 1.0706\n",
      "Train Epoch: 60 [0/60000 (0%)]\tLoss: 49.293745\n",
      "====> Test set loss: 1.0322\n",
      "Train Epoch: 61 [0/60000 (0%)]\tLoss: 47.978569\n",
      "====> Test set loss: 1.0164\n",
      "Train Epoch: 62 [0/60000 (0%)]\tLoss: 48.672324\n",
      "====> Test set loss: 1.0361\n",
      "Train Epoch: 63 [0/60000 (0%)]\tLoss: 49.457661\n",
      "====> Test set loss: 1.0219\n",
      "Train Epoch: 64 [0/60000 (0%)]\tLoss: 48.835469\n",
      "====> Test set loss: 1.0780\n",
      "Train Epoch: 65 [0/60000 (0%)]\tLoss: 49.717095\n",
      "====> Test set loss: 1.0210\n",
      "Train Epoch: 66 [0/60000 (0%)]\tLoss: 49.316592\n",
      "====> Test set loss: 1.0368\n",
      "Train Epoch: 67 [0/60000 (0%)]\tLoss: 48.181592\n",
      "====> Test set loss: 1.0366\n",
      "Train Epoch: 68 [0/60000 (0%)]\tLoss: 47.503125\n",
      "====> Test set loss: 1.0249\n",
      "Train Epoch: 69 [0/60000 (0%)]\tLoss: 49.328765\n",
      "====> Test set loss: 1.0658\n",
      "Train Epoch: 70 [0/60000 (0%)]\tLoss: 46.332305\n",
      "====> Test set loss: 1.0729\n",
      "Train Epoch: 71 [0/60000 (0%)]\tLoss: 47.106182\n",
      "====> Test set loss: 1.0266\n",
      "Train Epoch: 72 [0/60000 (0%)]\tLoss: 49.522593\n",
      "====> Test set loss: 1.1093\n",
      "Train Epoch: 73 [0/60000 (0%)]\tLoss: 49.070898\n",
      "====> Test set loss: 1.0517\n",
      "Train Epoch: 74 [0/60000 (0%)]\tLoss: 44.866401\n",
      "====> Test set loss: 1.0347\n",
      "Train Epoch: 75 [0/60000 (0%)]\tLoss: 49.207793\n",
      "====> Test set loss: 1.0122\n",
      "Train Epoch: 76 [0/60000 (0%)]\tLoss: 47.471553\n",
      "====> Test set loss: 1.1236\n",
      "Train Epoch: 77 [0/60000 (0%)]\tLoss: 49.690571\n",
      "====> Test set loss: 1.0384\n",
      "Train Epoch: 78 [0/60000 (0%)]\tLoss: 48.670400\n",
      "====> Test set loss: 1.0766\n",
      "Train Epoch: 79 [0/60000 (0%)]\tLoss: 49.966084\n",
      "====> Test set loss: 1.0686\n",
      "Train Epoch: 80 [0/60000 (0%)]\tLoss: 49.094678\n",
      "====> Test set loss: 1.0932\n",
      "Train Epoch: 81 [0/60000 (0%)]\tLoss: 45.997368\n",
      "====> Test set loss: 1.0948\n",
      "Train Epoch: 82 [0/60000 (0%)]\tLoss: 49.287646\n",
      "====> Test set loss: 1.0190\n",
      "Train Epoch: 83 [0/60000 (0%)]\tLoss: 49.411675\n",
      "====> Test set loss: 1.0441\n",
      "Train Epoch: 84 [0/60000 (0%)]\tLoss: 49.145835\n",
      "====> Test set loss: 1.0516\n",
      "Train Epoch: 85 [0/60000 (0%)]\tLoss: 47.933887\n",
      "====> Test set loss: 0.9977\n",
      "Train Epoch: 86 [0/60000 (0%)]\tLoss: 49.515674\n",
      "====> Test set loss: 1.0729\n",
      "Train Epoch: 87 [0/60000 (0%)]\tLoss: 48.163193\n",
      "====> Test set loss: 1.0461\n",
      "Train Epoch: 88 [0/60000 (0%)]\tLoss: 45.921646\n",
      "====> Test set loss: 1.0670\n",
      "Train Epoch: 89 [0/60000 (0%)]\tLoss: 46.586377\n",
      "====> Test set loss: 1.0549\n",
      "Train Epoch: 90 [0/60000 (0%)]\tLoss: 46.389492\n",
      "====> Test set loss: 1.0584\n",
      "Train Epoch: 91 [0/60000 (0%)]\tLoss: 48.224565\n",
      "====> Test set loss: 1.0941\n",
      "Train Epoch: 92 [0/60000 (0%)]\tLoss: 52.514995\n",
      "====> Test set loss: 1.0511\n",
      "Train Epoch: 93 [0/60000 (0%)]\tLoss: 47.517324\n",
      "====> Test set loss: 1.1023\n",
      "Train Epoch: 94 [0/60000 (0%)]\tLoss: 50.246104\n",
      "====> Test set loss: 1.0235\n",
      "Train Epoch: 95 [0/60000 (0%)]\tLoss: 51.585474\n",
      "====> Test set loss: 1.0680\n",
      "Train Epoch: 96 [0/60000 (0%)]\tLoss: 51.137930\n",
      "====> Test set loss: 1.0866\n",
      "Train Epoch: 97 [0/60000 (0%)]\tLoss: 48.670034\n",
      "====> Test set loss: 1.0621\n",
      "Train Epoch: 98 [0/60000 (0%)]\tLoss: 48.354736\n",
      "====> Test set loss: 1.0462\n",
      "Train Epoch: 99 [0/60000 (0%)]\tLoss: 49.356182\n",
      "====> Test set loss: 1.0186\n",
      "Train Epoch: 100 [0/60000 (0%)]\tLoss: 45.985234\n",
      "====> Test set loss: 1.0945\n",
      "Train Epoch: 101 [0/60000 (0%)]\tLoss: 49.293633\n",
      "====> Test set loss: 1.0376\n",
      "Train Epoch: 102 [0/60000 (0%)]\tLoss: 47.237256\n",
      "====> Test set loss: 1.0317\n",
      "Train Epoch: 103 [0/60000 (0%)]\tLoss: 49.574761\n",
      "====> Test set loss: 1.1639\n",
      "Train Epoch: 104 [0/60000 (0%)]\tLoss: 48.902974\n",
      "====> Test set loss: 1.0380\n",
      "Train Epoch: 105 [0/60000 (0%)]\tLoss: 50.009077\n",
      "====> Test set loss: 0.9229\n",
      "Train Epoch: 106 [0/60000 (0%)]\tLoss: 52.336636\n",
      "====> Test set loss: 1.1052\n",
      "Train Epoch: 107 [0/60000 (0%)]\tLoss: 48.181177\n",
      "====> Test set loss: 1.0495\n",
      "Train Epoch: 108 [0/60000 (0%)]\tLoss: 49.686270\n",
      "====> Test set loss: 1.0042\n",
      "Train Epoch: 109 [0/60000 (0%)]\tLoss: 47.173672\n",
      "====> Test set loss: 1.0519\n",
      "Train Epoch: 110 [0/60000 (0%)]\tLoss: 48.384492\n",
      "====> Test set loss: 1.1021\n",
      "Train Epoch: 111 [0/60000 (0%)]\tLoss: 49.967573\n",
      "====> Test set loss: 1.1148\n",
      "Train Epoch: 112 [0/60000 (0%)]\tLoss: 47.783398\n",
      "====> Test set loss: 1.1603\n",
      "Train Epoch: 113 [0/60000 (0%)]\tLoss: 47.410337\n",
      "====> Test set loss: 1.0424\n",
      "Train Epoch: 114 [0/60000 (0%)]\tLoss: 49.466563\n",
      "====> Test set loss: 1.0751\n",
      "Train Epoch: 115 [0/60000 (0%)]\tLoss: 48.900693\n",
      "====> Test set loss: 1.0380\n",
      "Train Epoch: 116 [0/60000 (0%)]\tLoss: 46.641338\n",
      "====> Test set loss: 1.0333\n",
      "Train Epoch: 117 [0/60000 (0%)]\tLoss: 50.081201\n",
      "====> Test set loss: 1.1021\n",
      "Train Epoch: 118 [0/60000 (0%)]\tLoss: 47.777139\n",
      "====> Test set loss: 1.0484\n",
      "Train Epoch: 119 [0/60000 (0%)]\tLoss: 47.542383\n",
      "====> Test set loss: 1.0899\n",
      "Train Epoch: 120 [0/60000 (0%)]\tLoss: 47.803872\n",
      "====> Test set loss: 1.0819\n",
      "Train Epoch: 121 [0/60000 (0%)]\tLoss: 46.996260\n",
      "====> Test set loss: 0.9851\n",
      "Train Epoch: 122 [0/60000 (0%)]\tLoss: 48.020024\n",
      "====> Test set loss: 1.0088\n",
      "Train Epoch: 123 [0/60000 (0%)]\tLoss: 47.580151\n",
      "====> Test set loss: 1.0595\n",
      "Train Epoch: 124 [0/60000 (0%)]\tLoss: 49.287524\n",
      "====> Test set loss: 1.0443\n",
      "Train Epoch: 125 [0/60000 (0%)]\tLoss: 48.760811\n",
      "====> Test set loss: 1.1012\n",
      "Train Epoch: 126 [0/60000 (0%)]\tLoss: 49.139849\n",
      "====> Test set loss: 1.0377\n",
      "Train Epoch: 127 [0/60000 (0%)]\tLoss: 46.704204\n",
      "====> Test set loss: 1.1367\n",
      "Train Epoch: 128 [0/60000 (0%)]\tLoss: 48.535073\n",
      "====> Test set loss: 1.0265\n",
      "Train Epoch: 129 [0/60000 (0%)]\tLoss: 47.782842\n",
      "====> Test set loss: 1.0356\n",
      "Train Epoch: 130 [0/60000 (0%)]\tLoss: 49.131245\n",
      "====> Test set loss: 1.1188\n",
      "Train Epoch: 131 [0/60000 (0%)]\tLoss: 49.042710\n",
      "====> Test set loss: 1.0138\n",
      "Train Epoch: 132 [0/60000 (0%)]\tLoss: 46.617520\n",
      "====> Test set loss: 1.0608\n",
      "Train Epoch: 133 [0/60000 (0%)]\tLoss: 48.866050\n",
      "====> Test set loss: 1.0315\n",
      "Train Epoch: 134 [0/60000 (0%)]\tLoss: 46.865825\n",
      "====> Test set loss: 1.0947\n",
      "Train Epoch: 135 [0/60000 (0%)]\tLoss: 47.528506\n",
      "====> Test set loss: 1.0481\n",
      "Train Epoch: 136 [0/60000 (0%)]\tLoss: 48.419058\n",
      "====> Test set loss: 1.0458\n",
      "Train Epoch: 137 [0/60000 (0%)]\tLoss: 47.536870\n",
      "====> Test set loss: 1.0632\n",
      "Train Epoch: 138 [0/60000 (0%)]\tLoss: 49.140728\n",
      "====> Test set loss: 1.1461\n",
      "Train Epoch: 139 [0/60000 (0%)]\tLoss: 50.997710\n",
      "====> Test set loss: 1.1331\n",
      "Train Epoch: 140 [0/60000 (0%)]\tLoss: 47.360552\n",
      "====> Test set loss: 1.0565\n",
      "Train Epoch: 141 [0/60000 (0%)]\tLoss: 46.032378\n",
      "====> Test set loss: 1.1223\n",
      "Train Epoch: 142 [0/60000 (0%)]\tLoss: 48.488496\n",
      "====> Test set loss: 1.0498\n",
      "Train Epoch: 143 [0/60000 (0%)]\tLoss: 45.798447\n",
      "====> Test set loss: 1.0874\n",
      "Train Epoch: 144 [0/60000 (0%)]\tLoss: 47.102793\n",
      "====> Test set loss: 1.1134\n",
      "Train Epoch: 145 [0/60000 (0%)]\tLoss: 48.504053\n",
      "====> Test set loss: 1.0163\n",
      "Train Epoch: 146 [0/60000 (0%)]\tLoss: 48.691367\n",
      "====> Test set loss: 1.0131\n",
      "Train Epoch: 147 [0/60000 (0%)]\tLoss: 49.414727\n",
      "====> Test set loss: 1.1547\n",
      "Train Epoch: 148 [0/60000 (0%)]\tLoss: 50.555928\n",
      "====> Test set loss: 1.0683\n",
      "Train Epoch: 149 [0/60000 (0%)]\tLoss: 49.035083\n",
      "====> Test set loss: 1.0142\n",
      "Train Epoch: 150 [0/60000 (0%)]\tLoss: 47.706836\n",
      "====> Test set loss: 1.1069\n",
      "Train Epoch: 151 [0/60000 (0%)]\tLoss: 47.252876\n",
      "====> Test set loss: 1.0594\n",
      "Train Epoch: 152 [0/60000 (0%)]\tLoss: 49.297251\n",
      "====> Test set loss: 1.0555\n",
      "Train Epoch: 153 [0/60000 (0%)]\tLoss: 47.819268\n",
      "====> Test set loss: 1.0506\n",
      "Train Epoch: 154 [0/60000 (0%)]\tLoss: 46.696973\n",
      "====> Test set loss: 1.1131\n",
      "Train Epoch: 155 [0/60000 (0%)]\tLoss: 46.486499\n",
      "====> Test set loss: 1.0699\n",
      "Train Epoch: 156 [0/60000 (0%)]\tLoss: 45.949512\n",
      "====> Test set loss: 1.0235\n",
      "Train Epoch: 157 [0/60000 (0%)]\tLoss: 49.020024\n",
      "====> Test set loss: 1.0385\n",
      "Train Epoch: 158 [0/60000 (0%)]\tLoss: 49.267197\n",
      "====> Test set loss: 1.0702\n",
      "Train Epoch: 159 [0/60000 (0%)]\tLoss: 47.074370\n",
      "====> Test set loss: 1.0440\n",
      "Train Epoch: 160 [0/60000 (0%)]\tLoss: 46.243086\n",
      "====> Test set loss: 1.0612\n",
      "Train Epoch: 161 [0/60000 (0%)]\tLoss: 45.412798\n",
      "====> Test set loss: 1.1005\n",
      "Train Epoch: 162 [0/60000 (0%)]\tLoss: 47.017461\n",
      "====> Test set loss: 1.0779\n",
      "Train Epoch: 163 [0/60000 (0%)]\tLoss: 50.575386\n",
      "====> Test set loss: 1.0220\n",
      "Train Epoch: 164 [0/60000 (0%)]\tLoss: 47.357476\n",
      "====> Test set loss: 1.0660\n",
      "Train Epoch: 165 [0/60000 (0%)]\tLoss: 50.741362\n",
      "====> Test set loss: 1.0716\n",
      "Train Epoch: 166 [0/60000 (0%)]\tLoss: 47.306484\n",
      "====> Test set loss: 0.9862\n",
      "Train Epoch: 167 [0/60000 (0%)]\tLoss: 47.234111\n",
      "====> Test set loss: 1.0107\n",
      "Train Epoch: 168 [0/60000 (0%)]\tLoss: 51.132197\n",
      "====> Test set loss: 1.1011\n",
      "Train Epoch: 169 [0/60000 (0%)]\tLoss: 46.279570\n",
      "====> Test set loss: 1.0332\n",
      "Train Epoch: 170 [0/60000 (0%)]\tLoss: 48.467627\n",
      "====> Test set loss: 1.0310\n",
      "Train Epoch: 171 [0/60000 (0%)]\tLoss: 48.029897\n",
      "====> Test set loss: 1.0201\n",
      "Train Epoch: 172 [0/60000 (0%)]\tLoss: 48.218975\n",
      "====> Test set loss: 1.0241\n",
      "Train Epoch: 173 [0/60000 (0%)]\tLoss: 48.602026\n",
      "====> Test set loss: 1.0744\n",
      "Train Epoch: 174 [0/60000 (0%)]\tLoss: 49.778887\n",
      "====> Test set loss: 1.0714\n",
      "Train Epoch: 175 [0/60000 (0%)]\tLoss: 49.756797\n",
      "====> Test set loss: 0.9723\n",
      "Train Epoch: 176 [0/60000 (0%)]\tLoss: 48.192832\n",
      "====> Test set loss: 1.0426\n",
      "Train Epoch: 177 [0/60000 (0%)]\tLoss: 47.436626\n",
      "====> Test set loss: 1.1435\n",
      "Train Epoch: 178 [0/60000 (0%)]\tLoss: 46.210269\n",
      "====> Test set loss: 1.1711\n",
      "Train Epoch: 179 [0/60000 (0%)]\tLoss: 50.285103\n",
      "====> Test set loss: 1.0184\n",
      "Train Epoch: 180 [0/60000 (0%)]\tLoss: 48.769321\n",
      "====> Test set loss: 1.0227\n",
      "Train Epoch: 181 [0/60000 (0%)]\tLoss: 47.105186\n",
      "====> Test set loss: 1.0502\n",
      "Train Epoch: 182 [0/60000 (0%)]\tLoss: 48.429678\n",
      "====> Test set loss: 1.0754\n",
      "Train Epoch: 183 [0/60000 (0%)]\tLoss: 46.269458\n",
      "====> Test set loss: 1.0988\n",
      "Train Epoch: 184 [0/60000 (0%)]\tLoss: 46.820757\n",
      "====> Test set loss: 1.0656\n",
      "Train Epoch: 185 [0/60000 (0%)]\tLoss: 47.930732\n",
      "====> Test set loss: 0.9992\n",
      "Train Epoch: 186 [0/60000 (0%)]\tLoss: 48.876885\n",
      "====> Test set loss: 1.0316\n",
      "Train Epoch: 187 [0/60000 (0%)]\tLoss: 46.959053\n",
      "====> Test set loss: 1.0462\n",
      "Train Epoch: 188 [0/60000 (0%)]\tLoss: 49.226885\n",
      "====> Test set loss: 1.1249\n",
      "Train Epoch: 189 [0/60000 (0%)]\tLoss: 48.199717\n",
      "====> Test set loss: 1.1180\n",
      "Train Epoch: 190 [0/60000 (0%)]\tLoss: 46.228633\n",
      "====> Test set loss: 1.0222\n",
      "Train Epoch: 191 [0/60000 (0%)]\tLoss: 48.959448\n",
      "====> Test set loss: 1.0718\n",
      "Train Epoch: 192 [0/60000 (0%)]\tLoss: 48.578486\n",
      "====> Test set loss: 1.1972\n",
      "Train Epoch: 193 [0/60000 (0%)]\tLoss: 47.486284\n",
      "====> Test set loss: 1.0760\n",
      "Train Epoch: 194 [0/60000 (0%)]\tLoss: 47.382607\n",
      "====> Test set loss: 1.1095\n",
      "Train Epoch: 195 [0/60000 (0%)]\tLoss: 49.800669\n",
      "====> Test set loss: 1.1187\n",
      "Train Epoch: 196 [0/60000 (0%)]\tLoss: 47.337173\n",
      "====> Test set loss: 1.1178\n",
      "Train Epoch: 197 [0/60000 (0%)]\tLoss: 51.743110\n",
      "====> Test set loss: 1.0339\n",
      "Train Epoch: 198 [0/60000 (0%)]\tLoss: 48.376631\n",
      "====> Test set loss: 0.9778\n",
      "Train Epoch: 199 [0/60000 (0%)]\tLoss: 47.974321\n",
      "====> Test set loss: 1.0676\n"
     ]
    }
   ],
   "source": [
    "for i in range(200):\n",
    "    #train_c_epoch(epochs=1,mu_c=mu_c_g,logvar_c=logvar_c_g,pi_c=pi_c_g)\n",
    "\n",
    "    train_c(epoch=i,mu_c=mu_c_g,logvar_c=logvar_c_g,inv_sm_pi_c=inv_sm_pi_c_g)\n",
    "    test_c(epoch=i,mu_c=mu_c_g,logvar_c=logvar_c_g,inv_sm_pi_c=inv_sm_pi_c_g)\n",
    "    scheduler.step()\n",
    "    scheduler_clustering.step()\n",
    "    scheduler_TC.step()\n",
    "\n",
    "    beta += beta_delta\n"
   ],
   "metadata": {
    "collapsed": false,
    "pycharm": {
     "name": "#%%\n"
    }
   }
  },
  {
   "cell_type": "code",
   "execution_count": 63,
   "outputs": [
    {
     "data": {
      "text/plain": "<Figure size 432x288 with 1 Axes>",
      "image/png": "[encoded data removed]"
     },
     "metadata": {
      "needs_background": "light"
     },
     "output_type": "display_data"
    }
   ],
   "source": [
    "zs_g,ts_g,mus_g,logvars_g = take_latents()\n",
    "points = TSNE(n_components=2,random_state=0).fit_transform(mus_g.view(-1,latent_dim).cpu().detach().numpy())\n",
    "data_points = points[0:take_latent_max*batch_size]\n",
    "center_points = points[take_latent_max*batch_size:]\n",
    "data_labels = ts_g[0:take_latent_max*batch_size].cpu().detach().numpy()\n",
    "center_labels = (-ts_g[take_latent_max*batch_size:]-1).cpu().detach().numpy()\n",
    "drawpoints_with_centers(data_points,data_labels,center_points,center_labels)"
   ],
   "metadata": {
    "collapsed": false,
    "pycharm": {
     "name": "#%%\n"
    }
   }
  },
  {
   "cell_type": "code",
   "execution_count": 64,
   "outputs": [
    {
     "data": {
      "text/plain": "<Figure size 432x288 with 1 Axes>",
      "image/png": "[encoded data removed]"
     },
     "metadata": {
      "needs_background": "light"
     },
     "output_type": "display_data"
    }
   ],
   "source": [
    "#kmeans_model = KMeans(n_clusters=K_model_cluster, random_state=1).fit(mus_g.view(-1,latent_dim).cpu().detach().numpy())\n",
    "#drawpoints(points,kmeans_model.labels_)\n",
    "kmeans_model = KMeans(n_clusters=K_model_cluster, random_state=1).fit(mus_g.view(-1,latent_dim).cpu().detach().numpy())\n",
    "drawpoints_with_centers(data_points,kmeans_model.labels_[:take_latent_max*batch_size],center_points,center_labels)"
   ],
   "metadata": {
    "collapsed": false,
    "pycharm": {
     "name": "#%%\n"
    }
   }
  },
  {
   "cell_type": "code",
   "execution_count": 65,
   "outputs": [
    {
     "data": {
      "text/plain": "<Figure size 432x288 with 1 Axes>",
      "image/png": "[encoded data removed]"
     },
     "metadata": {
      "needs_background": "light"
     },
     "output_type": "display_data"
    }
   ],
   "source": [
    "#gauss_model = GaussianMixture(n_components=K_model_cluster,covariance_type='diag',random_state=1).fit(mus_g.view(-1,latent_dim).cpu().detach().numpy())\n",
    "#drawpoints(points,gauss_model.predict(mus_g.view(-1,latent_dim).cpu().detach().numpy()))\n",
    "gauss_model = GaussianMixture(n_components=K_model_cluster,covariance_type='diag',random_state=1).fit(mus_g.view(-1,latent_dim).cpu().detach().numpy())\n",
    "drawpoints_with_centers(data_points,gauss_model.predict(mus_g.view(-1,latent_dim).cpu().detach().numpy())[:take_latent_max*batch_size],center_points,center_labels)"
   ],
   "metadata": {
    "collapsed": false,
    "pycharm": {
     "name": "#%%\n"
    }
   }
  },
  {
   "cell_type": "code",
   "execution_count": 66,
   "outputs": [
    {
     "data": {
      "text/plain": "<Figure size 432x288 with 1 Axes>",
      "image/png": "[encoded data removed]"
     },
     "metadata": {
      "needs_background": "light"
     },
     "output_type": "display_data"
    }
   ],
   "source": [
    "\n",
    "_,_,_,_,gamma_c_g,_ = gauss(mus_g[0:batch_size*take_latent_max,:,:],logvars_g,mu_c_g,logvar_c_g,inv_sm_pi_c_g,1)\n",
    "#drawpoints(points[0:batch_size*take_latent_max,:],torch.argmax(gamma_c_g,2).view(-1).cpu().detach().numpy())\n",
    "#_,_,_,_,gamma_c_g,_ = gauss(mus_g[0:batch_size*take_latent_max,:,:],logvars_g,mu_c_g,chol_prec_seed_c_g,inv_sm_pi_c_g,1)\n",
    "drawpoints_with_centers(data_points,torch.argmax(gamma_c_g,2).view(-1).cpu().detach().numpy(),center_points,center_labels)"
   ],
   "metadata": {
    "collapsed": false,
    "pycharm": {
     "name": "#%%\n"
    }
   }
  },
  {
   "cell_type": "code",
   "execution_count": 67,
   "outputs": [],
   "source": [
    "show_generated_samples_c(mu_c_g,logvar_c_g)"
   ],
   "metadata": {
    "collapsed": false,
    "pycharm": {
     "name": "#%%\n"
    }
   }
  },
  {
   "cell_type": "code",
   "execution_count": 68,
   "outputs": [
    {
     "data": {
      "text/plain": "(0.0005083731656658001, 0.0005083731656658001, 1.0)"
     },
     "execution_count": 68,
     "metadata": {},
     "output_type": "execute_result"
    }
   ],
   "source": [
    "optimizer.param_groups[0]['lr'],optimizer_clustering.param_groups[0]['lr'],beta"
   ],
   "metadata": {
    "collapsed": false,
    "pycharm": {
     "name": "#%%\n"
    }
   }
  },
  {
   "cell_type": "code",
   "execution_count": 69,
   "outputs": [],
   "source": [
    "correspond_matrix = torch.zeros(K_real_cluster,K_model_cluster)\n",
    "\n",
    "for i in range(batch_size*take_latent_max):\n",
    "\n",
    "    for j in range(K_model_cluster):\n",
    "        for k in range(K_real_cluster):\n",
    "            if torch.argmax(gamma_c_g,2)[i,0] == j:\n",
    "                if ts_g[i] == k:\n",
    "                    correspond_matrix[k,j] +=1\n"
   ],
   "metadata": {
    "collapsed": false,
    "pycharm": {
     "name": "#%%\n"
    }
   }
  },
  {
   "cell_type": "code",
   "execution_count": 70,
   "outputs": [
    {
     "data": {
      "text/plain": "tensor([[  0.,   0.,   0.,   0.,   1.,   0.,   0.,   0.,   0.,  94.],\n        [  0.,   1.,  97.,   0.,   0.,   1.,   0.,   0.,   0.,   0.],\n        [  0.,   7.,   0.,   0.,   0.,   0.,  99.,   0.,   0.,   0.],\n        [  0.,  12.,   0.,  90.,   0.,   1.,   1.,   0.,   0.,   0.],\n        [  0.,   4.,   0.,   0.,   1.,   0.,   0.,  58.,  46.,   0.],\n        [ 59.,  10.,   0.,  23.,   2.,   0.,   0.,   0.,   0.,   1.],\n        [  0.,   1.,   0.,   0., 105.,   0.,   0.,   0.,   0.,   0.],\n        [  0.,  18.,   0.,   0.,   0.,  80.,   1.,   2.,   2.,   0.],\n        [ 67.,  15.,   0.,   7.,   0.,   0.,   0.,   2.,   2.,   2.],\n        [  2.,   4.,   0.,   1.,   0.,   2.,   0.,  36.,  43.,   0.]])"
     },
     "execution_count": 70,
     "metadata": {},
     "output_type": "execute_result"
    }
   ],
   "source": [
    "correspond_matrix"
   ],
   "metadata": {
    "collapsed": false,
    "pycharm": {
     "name": "#%%\n"
    }
   }
  },
  {
   "cell_type": "code",
   "execution_count": 71,
   "outputs": [
    {
     "data": {
      "text/plain": "tensor(1000.)"
     },
     "execution_count": 71,
     "metadata": {},
     "output_type": "execute_result"
    }
   ],
   "source": [
    "correspond_matrix.sum()"
   ],
   "metadata": {
    "collapsed": false,
    "pycharm": {
     "name": "#%%\n"
    }
   }
  },
  {
   "cell_type": "code",
   "execution_count": 72,
   "outputs": [
    {
     "data": {
      "text/plain": "torch.return_types.max(\nvalues=tensor([ 67.,  18.,  97.,  90., 105.,  80.,  99.,  58.,  46.,  94.]),\nindices=tensor([8, 7, 1, 3, 6, 7, 2, 4, 4, 0]))"
     },
     "execution_count": 72,
     "metadata": {},
     "output_type": "execute_result"
    }
   ],
   "source": [
    "torch.max(correspond_matrix,0)"
   ],
   "metadata": {
    "collapsed": false,
    "pycharm": {
     "name": "#%%\n"
    }
   }
  },
  {
   "cell_type": "code",
   "execution_count": 73,
   "outputs": [
    {
     "data": {
      "text/plain": "tensor(0.7540)"
     },
     "execution_count": 73,
     "metadata": {},
     "output_type": "execute_result"
    }
   ],
   "source": [
    "torch.max(correspond_matrix,0).values.sum()/(batch_size*take_latent_max)"
   ],
   "metadata": {
    "collapsed": false,
    "pycharm": {
     "name": "#%%\n"
    }
   }
  },
  {
   "cell_type": "code",
   "execution_count": 74,
   "outputs": [
    {
     "data": {
      "text/plain": "tensor([[[0.1000, 0.1000, 0.1000, 0.1000, 0.1000, 0.1000, 0.1000, 0.1000,\n          0.1000, 0.1000]]], device='cuda:0', grad_fn=<SoftmaxBackward>)"
     },
     "execution_count": 74,
     "metadata": {},
     "output_type": "execute_result"
    }
   ],
   "source": [
    "F.softmax(inv_sm_pi_c_g,dim=2)"
   ],
   "metadata": {
    "collapsed": false,
    "pycharm": {
     "name": "#%%\n"
    }
   }
  },
  {
   "cell_type": "code",
   "execution_count": 75,
   "outputs": [
    {
     "data": {
      "text/plain": "tensor([[[ 2.2442e-01, -8.7611e-01, -1.5903e-03, -4.5152e-01, -4.7650e-01,\n           5.7137e-01,  1.8624e-01,  2.5606e-01,  2.8197e-01,  2.9328e-01],\n         [ 9.8201e-01,  3.5576e-01,  2.9081e-01, -6.4365e-01,  1.4926e+00,\n           5.5201e-01, -6.7014e-01,  8.4418e-01,  8.7282e-01, -4.0843e-01],\n         [-8.8960e-03, -4.8716e-03, -1.5705e-02, -3.0774e-04, -6.8223e-03,\n          -2.0211e-02, -2.1080e-03, -1.3999e-02, -1.6052e-02,  1.7872e-03],\n         [-8.1166e-01, -7.4946e-01,  1.1531e+00, -2.1945e+00, -1.4522e+00,\n           2.3882e+00, -1.5172e+00,  6.1396e-01,  1.0907e+00, -3.8637e+00],\n         [-3.3320e-01, -3.3290e-01, -3.5322e-01, -3.2845e-01, -3.1909e-01,\n          -3.6463e-01, -3.2795e-01, -3.5360e-01, -3.5589e-01, -3.0966e-01],\n         [ 7.8420e-01, -2.4421e-01,  2.7790e+00,  9.8956e-01,  8.8411e-01,\n          -1.0530e+00, -8.0296e-02, -1.7535e+00, -6.7531e-01, -1.9008e-01],\n         [-4.1934e-01, -1.2387e+00, -9.6728e-01, -7.3228e-01,  9.9128e-01,\n          -1.0999e+00, -2.8131e+00, -1.9539e+00, -1.8774e+00,  1.0087e+00],\n         [-7.6671e-01,  6.4356e-01, -7.8015e-02,  9.0622e-01,  3.8793e-01,\n          -4.9779e-01,  4.5057e-02,  7.1691e-01, -5.6299e-01, -4.4894e-01],\n         [ 1.5971e+00,  5.3856e-01, -4.0160e-01,  1.1870e+00, -1.9904e+00,\n           9.5253e-01, -1.0940e+00, -2.9398e-01, -4.6437e-02, -7.1562e-02],\n         [ 5.7056e-03,  4.3491e-03,  1.6049e-02,  2.8200e-03,  6.7533e-03,\n           7.8971e-03,  1.1130e-03,  7.1148e-03,  9.6171e-03,  1.6868e-03]]],\n       device='cuda:0', requires_grad=True)"
     },
     "execution_count": 75,
     "metadata": {},
     "output_type": "execute_result"
    }
   ],
   "source": [
    "mu_c_g"
   ],
   "metadata": {
    "collapsed": false,
    "pycharm": {
     "name": "#%%\n"
    }
   }
  },
  {
   "cell_type": "code",
   "execution_count": 76,
   "outputs": [
    {
     "data": {
      "text/plain": "tensor([[[0.4885, 1.4535, 0.0392, 0.6029, 0.3409, 0.1540, 1.1430, 0.2626,\n          0.2386, 0.6713],\n         [0.3289, 1.3825, 0.0410, 0.8140, 0.6245, 0.3860, 0.4621, 0.5006,\n          0.3532, 0.3726],\n         [0.0177, 0.0179, 0.0185, 0.0178, 0.0182, 0.0180, 0.0178, 0.0181,\n          0.0181, 0.0183],\n         [0.4337, 2.9447, 0.1671, 0.6583, 0.4282, 0.2900, 0.3500, 0.2680,\n          0.0976, 0.5875],\n         [0.0255, 0.0261, 0.0260, 0.0257, 0.0260, 0.0268, 0.0257, 0.0268,\n          0.0267, 0.0258],\n         [0.4433, 1.6361, 0.1410, 0.5400, 2.0640, 1.2130, 0.5450, 0.6916,\n          0.4337, 2.0381],\n         [1.4917, 1.1972, 0.4042, 0.5142, 0.1659, 0.3911, 1.1533, 0.4081,\n          0.2286, 0.2976],\n         [1.8782, 2.3519, 2.8109, 1.4926, 0.9419, 1.7316, 1.6548, 1.0853,\n          1.1261, 1.7496],\n         [0.4473, 2.7156, 0.1452, 0.5886, 0.7383, 0.3474, 0.9567, 1.0891,\n          1.1713, 0.3689],\n         [0.0151, 0.0154, 0.0157, 0.0152, 0.0156, 0.0157, 0.0151, 0.0153,\n          0.0154, 0.0154]]], device='cuda:0', grad_fn=<ExpBackward>)"
     },
     "execution_count": 76,
     "metadata": {},
     "output_type": "execute_result"
    }
   ],
   "source": [
    "logvar_c_g.exp()"
   ],
   "metadata": {
    "collapsed": false,
    "pycharm": {
     "name": "#%%\n"
    }
   }
  },
  {
   "cell_type": "code",
   "execution_count": 77,
   "outputs": [
    {
     "data": {
      "text/plain": "tensor([[ 4.3421e-01,  1.3562e+00,  3.5470e-03, -1.7407e+00, -3.1959e-01,\n          3.5437e+00,  4.9397e-01,  1.3270e-03, -7.8515e-01,  1.0689e-02],\n        [-6.5364e-01,  1.0807e+00, -1.1249e-02,  9.1600e-01, -3.5051e-01,\n          1.9162e-01, -2.1119e+00,  2.4643e-01, -1.0314e+00,  1.5336e-02],\n        [ 5.2754e-01, -1.0499e+00,  8.7016e-03, -3.9647e+00, -3.1830e-01,\n          1.6898e-02,  1.5869e+00, -3.8510e-01, -5.4839e-01, -1.6396e-04],\n        [-1.9769e-01,  1.1719e+00, -1.0426e-02,  1.0108e+00, -3.5809e-01,\n         -1.1703e+00, -2.0068e+00,  7.0610e-01,  5.2595e-01,  8.5066e-03],\n        [ 8.4764e-01,  1.1565e+00,  1.1926e-03, -1.3535e+00, -3.4757e-01,\n          5.0731e-01, -1.1042e+00, -2.0383e+00,  8.9447e-02,  1.2967e-02],\n        [-8.3499e-03, -1.7288e+00,  6.1467e-06, -1.0456e+00, -3.3147e-01,\n          2.7162e-01, -3.0504e+00,  1.7474e+00, -1.6867e+00,  5.2630e-03],\n        [-8.7616e-01, -9.7792e-02, -1.0836e-03, -2.9681e-01, -3.4222e-01,\n         -3.6373e-01, -1.4476e+00, -3.4290e-01,  1.3162e+00,  8.2284e-03],\n        [-1.0071e-01,  4.2918e-01, -6.7856e-03,  7.2860e-01, -3.4360e-01,\n          3.1705e+00, -2.7090e+00, -2.6344e+00, -4.7104e-01,  2.1057e-02],\n        [-1.2832e+00,  9.5147e-01, -6.3397e-03,  2.3008e-02, -3.4490e-01,\n          1.0798e-02, -3.6292e+00,  1.6235e+00,  1.8910e-01,  4.5723e-03],\n        [ 1.3169e+00, -1.1804e+00,  4.7769e-03, -4.2107e+00, -3.1599e-01,\n          3.8829e-01,  9.7252e-01,  1.0459e+00, -3.7512e-01, -1.0509e-03]],\n       device='cuda:0', grad_fn=<SelectBackward>)"
     },
     "execution_count": 77,
     "metadata": {},
     "output_type": "execute_result"
    }
   ],
   "source": [
    "mus_g[0:10,:,0]"
   ],
   "metadata": {
    "collapsed": false,
    "pycharm": {
     "name": "#%%\n"
    }
   }
  },
  {
   "cell_type": "code",
   "execution_count": 78,
   "outputs": [
    {
     "data": {
      "text/plain": "tensor([[0.0389, 0.0181, 0.0186, 0.0109, 0.0264, 0.0148, 0.0093, 0.0119, 0.0209,\n         0.0152],\n        [0.0117, 0.0160, 0.0182, 0.0027, 0.0263, 0.0074, 0.0169, 0.0066, 0.0071,\n         0.0150],\n        [0.0278, 0.0214, 0.0184, 0.0156, 0.0249, 0.0065, 0.0083, 0.0070, 0.0109,\n         0.0157],\n        [0.0155, 0.0165, 0.0181, 0.0027, 0.0260, 0.0067, 0.0155, 0.0068, 0.0065,\n         0.0151],\n        [0.0151, 0.0135, 0.0179, 0.0062, 0.0250, 0.0062, 0.0086, 0.0073, 0.0069,\n         0.0148],\n        [0.0168, 0.0168, 0.0176, 0.0065, 0.0252, 0.0069, 0.0157, 0.0088, 0.0070,\n         0.0149],\n        [0.0154, 0.0124, 0.0179, 0.0049, 0.0257, 0.0063, 0.0149, 0.0071, 0.0079,\n         0.0148],\n        [0.0343, 0.0411, 0.0184, 0.0146, 0.0253, 0.0245, 0.0130, 0.0121, 0.0297,\n         0.0149],\n        [0.0198, 0.0114, 0.0185, 0.0036, 0.0261, 0.0084, 0.0252, 0.0132, 0.0114,\n         0.0149],\n        [0.0293, 0.0212, 0.0183, 0.0154, 0.0252, 0.0072, 0.0062, 0.0090, 0.0104,\n         0.0155]], device='cuda:0')"
     },
     "execution_count": 78,
     "metadata": {},
     "output_type": "execute_result"
    }
   ],
   "source": [
    "logvars_g.exp()[0:10,:,0]"
   ],
   "metadata": {
    "collapsed": false,
    "pycharm": {
     "name": "#%%\n"
    }
   }
  },
  {
   "cell_type": "code",
   "execution_count": null,
   "outputs": [],
   "source": [
    "'''\n",
    "torch.save(\n",
    "    {\n",
    "        \"model_state_dict\" : model.state_dict(),\n",
    "        \"optimizer\" : optimizer.state_dict(),\n",
    "        \"optimizer_clustering\" : optimizer_clustering.state_dict(),\n",
    "        \"mu_c_g\" : mu_c_g,\n",
    "        \"logvar_c_g\" : logvar_c_g,\n",
    "        \"inv_sm_pi_c_g\" : inv_sm_pi_c_g,\n",
    "        \"beta\" : beta,\n",
    "        \"K_model_cluster\": K_model_cluster\n",
    "    },\n",
    "    \"./SGD-q-exponential/model/success949.tar\"\n",
    ")\n",
    "'''\n",
    "#sdata966 = torch.load(\"./SGD-q-exponential/model/success966.tar\")\n",
    "#mu_c_g = sdata966[\"mu_c_g\"]"
   ],
   "metadata": {
    "collapsed": false,
    "pycharm": {
     "name": "#%%\n"
    }
   }
  },
  {
   "cell_type": "code",
   "execution_count": 22,
   "outputs": [],
   "source": [],
   "metadata": {
    "collapsed": false,
    "pycharm": {
     "name": "#%%\n"
    }
   }
  }
 ],
 "metadata": {
  "kernelspec": {
   "name": "pycharm-9c5a4569",
   "language": "python",
   "display_name": "PyCharm (auto_encoder)"
  },
  "language_info": {
   "codemirror_mode": {
    "name": "ipython",
    "version": 2
   },
   "file_extension": ".py",
   "mimetype": "text/x-python",
   "name": "python",
   "nbconvert_exporter": "python",
   "pygments_lexer": "ipython2",
   "version": "2.7.6"
  },
  "pycharm": {
   "stem_cell": {
    "cell_type": "raw",
    "source": [
     "#２０２０年１２月２１日Factor-VAEの性質を取り込むことを開始\n",
     "#２０２０年１２月２３日特徴量の分離はうまくいっているようだが、クラスタリングに関する改善はわずか。\n",
     "#γを５以上にするとGAN特有の不安定性が見えるようだ。\n",
     "#特徴量を次元ごとに５シグマ動かすときれいに特徴の変化がわかった。１シグマでは殆ど同じ字に見える\n",
     "#判別器の層を６層まで増やせば、もう少し改善するかもしれないが、あまり期待できないので一旦次に行く。\n",
     "#stabilize_epsでは不安定性は止まらなかった。\n",
     "#安定的にTCを取り入れるのなら、MMD的な方法が安全なのかもしれない。"
    ],
    "metadata": {
     "collapsed": false
    }
   }
  }
 },
 "nbformat": 4,
 "nbformat_minor": 0
}