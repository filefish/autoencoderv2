{
 "cells": [
  {
   "cell_type": "code",
   "execution_count": 1,
   "outputs": [],
   "source": [
    "from __future__ import print_function\n",
    "import argparse\n",
    "import torch\n",
    "import torch.utils.data\n",
    "from torch import nn, optim\n",
    "from torch.nn import functional as F\n",
    "from torchvision import datasets, transforms\n",
    "from torchvision.utils import save_image\n",
    "\n",
    "%matplotlib inline\n",
    "import matplotlib.pyplot as plt\n",
    "from torch.distributions.multivariate_normal import MultivariateNormal\n",
    "import numpy as np\n",
    "\n",
    "\n",
    "from sklearn.manifold import TSNE\n",
    "from random import random\n",
    "from sklearn.mixture import GaussianMixture\n",
    "from sklearn.mixture import BayesianGaussianMixture\n",
    "from sklearn.cluster import KMeans"
   ],
   "metadata": {
    "collapsed": false,
    "pycharm": {
     "name": "#%%\n"
    }
   }
  },
  {
   "cell_type": "code",
   "execution_count": 2,
   "outputs": [],
   "source": [
    "\n",
    "batch_size = 100\n",
    "take_latent_max =10\n",
    "num_epoch = 10\n",
    "input_dim=28*28\n",
    "output_dim=input_dim\n",
    "en_hidden1_dim = 500\n",
    "en_hidden2_dim = 500\n",
    "en_hidden3_dim = 2000\n",
    "latent_dim= 10\n",
    "de_hidden1_dim = 2000\n",
    "de_hidden2_dim = 500\n",
    "de_hidden3_dim = 500\n",
    "\n",
    "\n",
    "log_interval = 1\n",
    "\n",
    "K_model_cluster = 10\n",
    "\n",
    "beta= 1.\n",
    "\n",
    "save_folder = 'adiabatic-results'\n",
    "\n",
    "KMeans_random_state = 1 #(random seed)\n",
    "Gaussian_random_state = 1  #(random seed)\n",
    "\n",
    "eps_N_c = 0\n",
    "iter_adiabatic =1"
   ],
   "metadata": {
    "collapsed": false,
    "pycharm": {
     "name": "#%%\n"
    }
   }
  },
  {
   "cell_type": "code",
   "execution_count": 3,
   "outputs": [],
   "source": [
    "device = 'cuda'\n",
    "kwargs = {'num_workers':1, 'pin_memory':True}\n",
    "\n",
    "train_loader = torch.utils.data.DataLoader(\n",
    "    datasets.MNIST('../data',train=True,download=True,\n",
    "                   transform=transforms.ToTensor()),\n",
    "    batch_size=batch_size,shuffle=True,**kwargs)\n",
    "\n",
    "test_loader = torch.utils.data.DataLoader(\n",
    "    datasets.MNIST('../data',train=False,transform=transforms.ToTensor()),\n",
    "    batch_size=batch_size,shuffle=True,**kwargs)"
   ],
   "metadata": {
    "collapsed": false,
    "pycharm": {
     "name": "#%%\n"
    }
   }
  },
  {
   "cell_type": "code",
   "execution_count": 4,
   "outputs": [],
   "source": [
    "class VAE(nn.Module):\n",
    "    def __init__(self):\n",
    "        super(VAE, self).__init__()\n",
    "\n",
    "        self.input_layer = nn.Linear(input_dim,en_hidden1_dim)##728 => 500 for MNIST\n",
    "        self.encode1_layer = nn.Linear(en_hidden1_dim,en_hidden2_dim)##500 => 500 for MNIST\n",
    "        self.encode2_layer = nn.Linear(en_hidden2_dim,en_hidden3_dim)##500 => 2000 for MNIST\n",
    "        self.mu_layer = nn.Linear(en_hidden3_dim,latent_dim)##2000 => 10 for MNIST\n",
    "        self.std_layer = nn.Linear(en_hidden3_dim,latent_dim)##2000 => 10 for MNIST\n",
    "        self.decode1_layer = nn.Linear(latent_dim,de_hidden1_dim)##10 => 2000 for MNIST\n",
    "        self.decode2_layer = nn.Linear(de_hidden1_dim,de_hidden2_dim)##2000 => 500 for MNIST\n",
    "        self.decode3_layer = nn.Linear(de_hidden2_dim,de_hidden3_dim)##500 => 500 for MNIST\n",
    "        self.output_layer = nn.Linear(de_hidden3_dim,output_dim)##500 => 728 for MNIST\n",
    "\n",
    "        self.pre1_mu_layer = nn.Linear(en_hidden1_dim,latent_dim)##2000 => 10 for MNIST\n",
    "        self.pre1_std_layer = nn.Linear(en_hidden1_dim,latent_dim)##2000 => 10 for MNIST\n",
    "        self.pre1_decode3_layer = nn.Linear(latent_dim,de_hidden3_dim)##10 => 2000 for MNIST\n",
    "\n",
    "        self.pre2_mu_layer = nn.Linear(en_hidden2_dim,latent_dim)##2000 => 10 for MNIST\n",
    "        self.pre2_std_layer = nn.Linear(en_hidden2_dim,latent_dim)##2000 => 10 for MNIST\n",
    "        self.pre2_decode2_layer = nn.Linear(latent_dim,de_hidden2_dim)##10 => 2000 for MNIST\n",
    "\n",
    "        self.pre3_mu_layer = nn.Linear(en_hidden3_dim,latent_dim)##2000 => 10 for MNIST\n",
    "        self.pre3_std_layer = nn.Linear(en_hidden3_dim,latent_dim)##2000 => 10 for MNIST\n",
    "        self.pre3_decode1_layer = nn.Linear(latent_dim,de_hidden1_dim)##10 => 2000 for MNIST\n",
    "\n",
    "\n",
    "    def encode(self, x):\n",
    "        en_h1 = F.relu(self.input_layer(x))\n",
    "        en_h2 = F.relu(self.encode1_layer(en_h1))\n",
    "        en_h3 = F.relu(self.encode2_layer(en_h2))\n",
    "        return self.mu_layer(en_h3), self.std_layer(en_h3)\n",
    "    #入力から中心と分散の対数を作っている\n",
    "\n",
    "    def pre1_encode(self, x):\n",
    "        en_h1 = F.relu(self.input_layer(x))\n",
    "        return self.pre1_mu_layer(en_h1), self.pre1_std_layer(en_h1)\n",
    "\n",
    "    def pre2_encode(self, x):\n",
    "        en_h1 = F.relu(self.input_layer(x))\n",
    "        en_h2 = F.relu(self.encode1_layer(en_h1))\n",
    "        return self.pre2_mu_layer(en_h2), self.pre2_std_layer(en_h2)\n",
    "\n",
    "    def pre3_encode(self, x):\n",
    "        en_h1 = F.relu(self.input_layer(x))\n",
    "        en_h2 = F.relu(self.encode1_layer(en_h1))\n",
    "        en_h3 = F.relu(self.encode2_layer(en_h2))\n",
    "        return self.pre3_mu_layer(en_h3), self.pre3_std_layer(en_h3)\n",
    "\n",
    "\n",
    "    def reparameterize(self,mu,logvar):\n",
    "        std = torch.exp(0.5*logvar)\n",
    "        eps = torch.randn_like(std)\n",
    "        #torch.randn_like(std)はstdと同じ次元の正規乱数を与えている。N(0,1)**size(std).ただし、標準偏差は対角的。\n",
    "        return mu + eps*std\n",
    "    #zの値を確率的に作っている。\n",
    "\n",
    "    def decode(self,z):\n",
    "        de_h1 = F.relu(self.decode1_layer(z))\n",
    "        de_h2 = F.relu(self.decode2_layer(de_h1))\n",
    "        de_h3 = F.relu(self.decode3_layer(de_h2))\n",
    "        return torch.sigmoid(self.output_layer(de_h3))\n",
    "    #zからNNを通したあとに、sigmoidで押し込んでxの値を作っている\n",
    "\n",
    "    def pre1_decode(self,z):\n",
    "        de_h3 = F.relu(self.pre1_decode3_layer(z))\n",
    "        return torch.sigmoid(self.output_layer(de_h3))\n",
    "\n",
    "    def pre2_decode(self,z):\n",
    "        de_h2 = F.relu(self.pre2_decode2_layer(z))\n",
    "        de_h3 = F.relu(self.decode3_layer(de_h2))\n",
    "        return torch.sigmoid(self.output_layer(de_h3))\n",
    "\n",
    "    def pre3_decode(self,z):\n",
    "        de_h1 = F.relu(self.pre3_decode1_layer(z))\n",
    "        de_h2 = F.relu(self.decode2_layer(de_h1))\n",
    "        de_h3 = F.relu(self.decode3_layer(de_h2))\n",
    "        return torch.sigmoid(self.output_layer(de_h3))\n",
    "\n",
    "    def forward(self, x):\n",
    "        mu, logvar = self.encode(x.view(-1,784))\n",
    "        z = self.reparameterize(mu, logvar)\n",
    "        return self.decode(z),mu,logvar,z\n",
    "    #出力はxの予測値とzを算出するときの中心と分散になっている\n",
    "\n",
    "    def pre1_forward(self, x):\n",
    "        mu, logvar = self.pre1_encode(x.view(-1,784))\n",
    "        z = self.reparameterize(mu, logvar)\n",
    "        return self.pre1_decode(z),mu,logvar,z\n",
    "\n",
    "    def pre2_forward(self, x):\n",
    "        mu, logvar = self.pre2_encode(x.view(-1,784))\n",
    "        z = self.reparameterize(mu, logvar)\n",
    "        return self.pre2_decode(z),mu,logvar,z\n",
    "\n",
    "    def pre3_forward(self, x):\n",
    "        mu, logvar = self.pre3_encode(x.view(-1,784))\n",
    "        z = self.reparameterize(mu, logvar)\n",
    "        return self.pre3_decode(z),mu,logvar,z\n",
    "\n",
    "model = VAE().to(device)\n",
    "optimizer = optim.Adam(model.parameters(),lr=0.002)\n",
    "scheduler = torch.optim.lr_scheduler.StepLR(optimizer,step_size=10,gamma=0.9)\n",
    "\n",
    "pre1_params = list(model.input_layer.parameters())+list(model.output_layer.parameters())+list(model.pre1_mu_layer.parameters())+list(model.pre1_std_layer.parameters())+list(model.pre1_decode3_layer.parameters())\n",
    "pre1_optimizer = optim.Adam(pre1_params,lr=0.002)\n",
    "\n",
    "pre2_params = list(model.encode1_layer.parameters())+list(model.decode3_layer.parameters())+list(model.pre2_mu_layer.parameters())+list(model.pre2_std_layer.parameters())+list(model.pre2_decode2_layer.parameters())\n",
    "pre2_optimizer = optim.Adam(pre2_params,lr=0.002)\n",
    "\n",
    "pre3_params = list(model.encode2_layer.parameters())+list(model.decode2_layer.parameters())+list(model.pre3_mu_layer.parameters())+list(model.pre3_std_layer.parameters())+list(model.pre3_decode1_layer.parameters())\n",
    "pre3_optimizer = optim.Adam(pre3_params,lr=0.002)\n"
   ],
   "metadata": {
    "collapsed": false,
    "pycharm": {
     "name": "#%%\n"
    }
   }
  },
  {
   "cell_type": "code",
   "execution_count": 5,
   "outputs": [],
   "source": [
    "def loss_function(recon_x,x,mu,logvar):\n",
    "    BCE = F.binary_cross_entropy(recon_x,x.view(-1,784),reduction='sum')\n",
    "    #recon_xはsigmoidをdecordeで通されているので、[0,1]になっている。\n",
    "    KLD = -0.5*torch.sum(1+logvar-mu.pow(2)-logvar.exp())\n",
    "\n",
    "    return BCE+beta*KLD\n",
    "\n"
   ],
   "metadata": {
    "collapsed": false,
    "pycharm": {
     "name": "#%%\n"
    }
   }
  },
  {
   "cell_type": "code",
   "execution_count": 6,
   "outputs": [],
   "source": [
    "def train(epoch):\n",
    "    model.train()\n",
    "    train_loss = 0\n",
    "    for batch_idx, (data,_) in enumerate(train_loader):\n",
    "        #ラベルは使わないようだ\n",
    "        data = data.to(device)\n",
    "        #データをGPUにおくる\n",
    "        optimizer.zero_grad()\n",
    "        #傾きの初期化\n",
    "        recon_batch, mu, logvar,z = model(data)\n",
    "        #VAEからバッヂ分のデータと中心と分散のログを受け取る\n",
    "        loss = loss_function(recon_batch,data,mu,logvar)\n",
    "        #バッヂ分のロスを計算。バッヂ数で割っていないようだ。書き出しのときにデータ数で割っている。\n",
    "        loss.backward()\n",
    "        #傾きを計算\n",
    "        train_loss+= loss.item()\n",
    "        optimizer.step()\n",
    "        #パラメータの更新\n",
    "        if batch_idx % log_interval ==0:\n",
    "            #一定間隔でロスを書き出し。epochはここでしか使っていないようだ。\n",
    "            print('Train Epoch: {} [{}/{} ({:.0f}%)]\\tLoss: {:.6f}'.format(\n",
    "              epoch,batch_idx*len(data),len(train_loader.dataset),\n",
    "                100.*batch_idx/len(train_loader),\n",
    "                loss.item()/len(data)\n",
    "            ))\n"
   ],
   "metadata": {
    "collapsed": false,
    "pycharm": {
     "name": "#%%\n"
    }
   }
  },
  {
   "cell_type": "code",
   "execution_count": 7,
   "outputs": [],
   "source": [
    "def pre1_train(epoch):\n",
    "    model.train()\n",
    "    train_loss = 0\n",
    "    for batch_idx, (data,_) in enumerate(train_loader):\n",
    "        #ラベルは使わないようだ\n",
    "        data = data.to(device)\n",
    "        #データをGPUにおくる\n",
    "        pre1_optimizer.zero_grad()\n",
    "        #傾きの初期化\n",
    "        recon_batch, mu, logvar,z = model.pre1_forward(data)\n",
    "        #VAEからバッヂ分のデータと中心と分散のログを受け取る\n",
    "        loss = loss_function(recon_batch,data,mu,logvar)\n",
    "        #バッヂ分のロスを計算。バッヂ数で割っていないようだ。書き出しのときにデータ数で割っている。\n",
    "        loss.backward()\n",
    "        #傾きを計算\n",
    "        train_loss+= loss.item()\n",
    "        pre1_optimizer.step()\n",
    "        #パラメータの更新\n",
    "        if batch_idx % log_interval ==0:\n",
    "            #一定間隔でロスを書き出し。epochはここでしか使っていないようだ。\n",
    "            print('Train Epoch: {} [{}/{} ({:.0f}%)]\\tLoss: {:.6f}'.format(\n",
    "              epoch,batch_idx*len(data),len(train_loader.dataset),\n",
    "                100.*batch_idx/len(train_loader),\n",
    "                loss.item()/len(data)\n",
    "            ))"
   ],
   "metadata": {
    "collapsed": false,
    "pycharm": {
     "name": "#%%\n"
    }
   }
  },
  {
   "cell_type": "code",
   "execution_count": 8,
   "outputs": [],
   "source": [
    "def pre2_train(epoch):\n",
    "    model.train()\n",
    "    train_loss = 0\n",
    "    for batch_idx, (data,_) in enumerate(train_loader):\n",
    "        #ラベルは使わないようだ\n",
    "        data = data.to(device)\n",
    "        #データをGPUにおくる\n",
    "        pre2_optimizer.zero_grad()\n",
    "        #傾きの初期化\n",
    "        recon_batch, mu, logvar,z = model.pre2_forward(data)\n",
    "        #VAEからバッヂ分のデータと中心と分散のログを受け取る\n",
    "        loss = loss_function(recon_batch,data,mu,logvar)\n",
    "        #バッヂ分のロスを計算。バッヂ数で割っていないようだ。書き出しのときにデータ数で割っている。\n",
    "        loss.backward()\n",
    "        #傾きを計算\n",
    "        train_loss+= loss.item()\n",
    "        pre2_optimizer.step()\n",
    "        #パラメータの更新\n",
    "        if batch_idx % log_interval ==0:\n",
    "            #一定間隔でロスを書き出し。epochはここでしか使っていないようだ。\n",
    "            print('Train Epoch: {} [{}/{} ({:.0f}%)]\\tLoss: {:.6f}'.format(\n",
    "              epoch,batch_idx*len(data),len(train_loader.dataset),\n",
    "                100.*batch_idx/len(train_loader),\n",
    "                loss.item()/len(data)\n",
    "            ))"
   ],
   "metadata": {
    "collapsed": false,
    "pycharm": {
     "name": "#%%\n"
    }
   }
  },
  {
   "cell_type": "code",
   "execution_count": 9,
   "outputs": [],
   "source": [
    "def pre3_train(epoch):\n",
    "    model.train()\n",
    "    train_loss = 0\n",
    "    for batch_idx, (data,_) in enumerate(train_loader):\n",
    "        #ラベルは使わないようだ\n",
    "        data = data.to(device)\n",
    "        #データをGPUにおくる\n",
    "        pre3_optimizer.zero_grad()\n",
    "        #傾きの初期化\n",
    "        recon_batch, mu, logvar,z = model.pre3_forward(data)\n",
    "        #VAEからバッヂ分のデータと中心と分散のログを受け取る\n",
    "        loss = loss_function(recon_batch,data,mu,logvar)\n",
    "        #バッヂ分のロスを計算。バッヂ数で割っていないようだ。書き出しのときにデータ数で割っている。\n",
    "        loss.backward()\n",
    "        #傾きを計算\n",
    "        train_loss+= loss.item()\n",
    "        pre3_optimizer.step()\n",
    "        #パラメータの更新\n",
    "        if batch_idx % log_interval ==0:\n",
    "            #一定間隔でロスを書き出し。epochはここでしか使っていないようだ。\n",
    "            print('Train Epoch: {} [{}/{} ({:.0f}%)]\\tLoss: {:.6f}'.format(\n",
    "              epoch,batch_idx*len(data),len(train_loader.dataset),\n",
    "                100.*batch_idx/len(train_loader),\n",
    "                loss.item()/len(data)\n",
    "            ))"
   ],
   "metadata": {
    "collapsed": false,
    "pycharm": {
     "name": "#%%\n"
    }
   }
  },
  {
   "cell_type": "code",
   "execution_count": 10,
   "outputs": [],
   "source": [
    "def test(epoch):\n",
    "    model.eval()\n",
    "    test_loss = 0\n",
    "    with torch.no_grad():#バックプロパゲーションを行わないから、微分情報を残さない\n",
    "        for i, (data, _) in enumerate(test_loader):\n",
    "            #テストデータを取り出す。ラベルはいらない。\n",
    "            data =data.to(device)\n",
    "            #データをGPUに送る\n",
    "            recon_batch, mu, logvar,z = model(data)\n",
    "            #データからバッヂ分の再現画像と中心と分散の対数を出している。\n",
    "            test_loss += loss_function(recon_batch,data,mu,logvar).item()\n",
    "            #テストデータでのロスを出している\n",
    "            if i == 0:\n",
    "                #はじめのバッヂについて\n",
    "                n = min(data.size(0),16)\n",
    "                #nをバッヂのデータ数か８との小さい方として\n",
    "                comparizon = torch.cat([data[:n],recon_batch.view(batch_size,1,28,28)[:n]])\n",
    "                #元データと再現データを並べる\n",
    "                save_image(comparizon.cpu(),'./'+save_folder+'/reconstruction_' + str(epoch) + '.png',nrow=n)\n",
    "\n",
    "                test_loss /= len(test_loader.dataset)\n",
    "                print('====> Test set loss: {:.4f}'.format(test_loss))"
   ],
   "metadata": {
    "collapsed": false,
    "pycharm": {
     "name": "#%%\n"
    }
   }
  },
  {
   "cell_type": "code",
   "execution_count": 11,
   "outputs": [],
   "source": [
    "def pre1_test(epoch):\n",
    "    model.eval()\n",
    "    test_loss = 0\n",
    "    with torch.no_grad():#バックプロパゲーションを行わないから、微分情報を残さない\n",
    "        for i, (data, _) in enumerate(test_loader):\n",
    "            #テストデータを取り出す。ラベルはいらない。\n",
    "            data =data.to(device)\n",
    "            #データをGPUに送る\n",
    "            recon_batch, mu, logvar,z = model.pre1_forward(data)\n",
    "            #データからバッヂ分の再現画像と中心と分散の対数を出している。\n",
    "            test_loss += loss_function(recon_batch,data,mu,logvar).item()\n",
    "            #テストデータでのロスを出している\n",
    "            if i == 0:\n",
    "                #はじめのバッヂについて\n",
    "                n = min(data.size(0),16)\n",
    "                #nをバッヂのデータ数か８との小さい方として\n",
    "                comparizon = torch.cat([data[:n],recon_batch.view(batch_size,1,28,28)[:n]])\n",
    "                #元データと再現データを並べる\n",
    "                save_image(comparizon.cpu(),'./'+save_folder+'/reconstruction_pre1_' + str(epoch) + '.png',nrow=n)\n",
    "\n",
    "                test_loss /= len(test_loader.dataset)\n",
    "                print('====> Test set loss: {:.4f}'.format(test_loss))"
   ],
   "metadata": {
    "collapsed": false,
    "pycharm": {
     "name": "#%%\n"
    }
   }
  },
  {
   "cell_type": "code",
   "execution_count": 12,
   "outputs": [],
   "source": [
    "def pre2_test(epoch):\n",
    "    model.eval()\n",
    "    test_loss = 0\n",
    "    with torch.no_grad():#バックプロパゲーションを行わないから、微分情報を残さない\n",
    "        for i, (data, _) in enumerate(test_loader):\n",
    "            #テストデータを取り出す。ラベルはいらない。\n",
    "            data =data.to(device)\n",
    "            #データをGPUに送る\n",
    "            recon_batch, mu, logvar,z = model.pre2_forward(data)\n",
    "            #データからバッヂ分の再現画像と中心と分散の対数を出している。\n",
    "            test_loss += loss_function(recon_batch,data,mu,logvar).item()\n",
    "            #テストデータでのロスを出している\n",
    "            if i == 0:\n",
    "                #はじめのバッヂについて\n",
    "                n = min(data.size(0),16)\n",
    "                #nをバッヂのデータ数か８との小さい方として\n",
    "                comparizon = torch.cat([data[:n],recon_batch.view(batch_size,1,28,28)[:n]])\n",
    "                #元データと再現データを並べる\n",
    "                save_image(comparizon.cpu(),'./'+save_folder+'/reconstruction_pre2_' + str(epoch) + '.png',nrow=n)\n",
    "\n",
    "                test_loss /= len(test_loader.dataset)\n",
    "                print('====> Test set loss: {:.4f}'.format(test_loss))"
   ],
   "metadata": {
    "collapsed": false,
    "pycharm": {
     "name": "#%%\n"
    }
   }
  },
  {
   "cell_type": "code",
   "execution_count": 13,
   "outputs": [],
   "source": [
    "def pre3_test(epoch):\n",
    "    model.eval()\n",
    "    test_loss = 0\n",
    "    with torch.no_grad():#バックプロパゲーションを行わないから、微分情報を残さない\n",
    "        for i, (data, _) in enumerate(test_loader):\n",
    "            #テストデータを取り出す。ラベルはいらない。\n",
    "            data =data.to(device)\n",
    "            #データをGPUに送る\n",
    "            recon_batch, mu, logvar,z = model.pre3_forward(data)\n",
    "            #データからバッヂ分の再現画像と中心と分散の対数を出している。\n",
    "            test_loss += loss_function(recon_batch,data,mu,logvar).item()\n",
    "            #テストデータでのロスを出している\n",
    "            if i == 0:\n",
    "                #はじめのバッヂについて\n",
    "                n = min(data.size(0),16)\n",
    "                #nをバッヂのデータ数か８との小さい方として\n",
    "                comparizon = torch.cat([data[:n],recon_batch.view(batch_size,1,28,28)[:n]])\n",
    "                #元データと再現データを並べる\n",
    "                save_image(comparizon.cpu(),'./'+save_folder+'/reconstruction_pre3_' + str(epoch) + '.png',nrow=n)\n",
    "\n",
    "                test_loss /= len(test_loader.dataset)\n",
    "                print('====> Test set loss: {:.4f}'.format(test_loss))\n"
   ],
   "metadata": {
    "collapsed": false,
    "pycharm": {
     "name": "#%%\n"
    }
   }
  },
  {
   "cell_type": "code",
   "execution_count": 14,
   "outputs": [],
   "source": [
    "def initial_train(epochs):\n",
    "    for epoch in range(1, epochs +1):\n",
    "        train(epoch)\n",
    "        test(epoch)\n",
    "        scheduler.step()\n",
    "        with torch.no_grad():\n",
    "            sample = torch.randn(64,latent_dim).to(device)\n",
    "        #20次元の潜在空間のデータを64個作成して、GPUに送る\n",
    "            sample = model.decode(sample).cpu()\n",
    "        #ランダムな潜在変数から画像を生成する。\n",
    "            save_image(sample.view(64,1,28,28),save_folder+'/sample_' + str(epoch) + '.png',nrow=8)\n",
    "        #生成した６４個のデータを記録しておく"
   ],
   "metadata": {
    "collapsed": false,
    "pycharm": {
     "name": "#%%\n"
    }
   }
  },
  {
   "cell_type": "code",
   "execution_count": 15,
   "outputs": [],
   "source": [
    "def pre1_loop(epochs):\n",
    "    for epoch in range(0, epochs):\n",
    "        pre1_train(epoch)\n",
    "        pre1_test(epoch)\n",
    "        scheduler.step()\n",
    "        with torch.no_grad():\n",
    "            sample = torch.randn(64,latent_dim).to(device)\n",
    "        #20次元の潜在空間のデータを64個作成して、GPUに送る\n",
    "            sample = model.pre1_decode(sample).cpu()\n",
    "        #ランダムな潜在変数から画像を生成する。\n",
    "            save_image(sample.view(64,1,28,28),save_folder+'/sample_pre1_' + str(epoch) + '.png',nrow=8)\n",
    "        #生成した６４個のデータを記録しておく"
   ],
   "metadata": {
    "collapsed": false,
    "pycharm": {
     "name": "#%%\n"
    }
   }
  },
  {
   "cell_type": "code",
   "execution_count": 16,
   "outputs": [],
   "source": [
    "def pre2_loop(epochs):\n",
    "    for epoch in range(1, epochs +1):\n",
    "        pre2_train(epoch)\n",
    "        pre2_test(epoch)\n",
    "        scheduler.step()\n",
    "        with torch.no_grad():\n",
    "            sample = torch.randn(64,latent_dim).to(device)\n",
    "        #20次元の潜在空間のデータを64個作成して、GPUに送る\n",
    "            sample = model.pre2_decode(sample).cpu()\n",
    "        #ランダムな潜在変数から画像を生成する。\n",
    "            save_image(sample.view(64,1,28,28),save_folder+'/sample_pre2_' + str(epoch) + '.png',nrow=8)\n",
    "        #生成した６４個のデータを記録しておく"
   ],
   "metadata": {
    "collapsed": false,
    "pycharm": {
     "name": "#%%\n"
    }
   }
  },
  {
   "cell_type": "code",
   "execution_count": 17,
   "outputs": [],
   "source": [
    "def pre3_loop(epochs):\n",
    "    for epoch in range(1, epochs +1):\n",
    "        pre3_train(epoch)\n",
    "        pre3_test(epoch)\n",
    "        scheduler.step()\n",
    "        with torch.no_grad():\n",
    "            sample = torch.randn(64,latent_dim).to(device)\n",
    "        #20次元の潜在空間のデータを64個作成して、GPUに送る\n",
    "            sample = model.pre3_decode(sample).cpu()\n",
    "        #ランダムな潜在変数から画像を生成する。\n",
    "            save_image(sample.view(64,1,28,28),save_folder+'/sample_pre3_' + str(epoch) + '.png',nrow=8)\n",
    "        #生成した６４個のデータを記録しておく\n"
   ],
   "metadata": {
    "collapsed": false,
    "pycharm": {
     "name": "#%%\n"
    }
   }
  },
  {
   "cell_type": "code",
   "execution_count": 18,
   "outputs": [],
   "source": [
    "def take_latents():\n",
    "    zs = torch.empty(0,latent_dim,1).to(device).requires_grad_(False)\n",
    "    ts = torch.empty(0,dtype=torch.long).to(device).requires_grad_(False)\n",
    "    mus = torch.empty(0,latent_dim,1).to(device).requires_grad_(False)\n",
    "    logvars = torch.empty(0,latent_dim,1).to(device).requires_grad_(False)\n",
    "#zs = []\n",
    "#ts = []\n",
    "\n",
    "#ts.dtype = torch.int\n",
    "\n",
    "    #for x, t in test_loader:\n",
    "    for batch_idx, (x,t) in enumerate(test_loader):\n",
    "    # original。xがデータ、tがラベル。\n",
    "    #for i, im in enumerate(x.view(-1, 28, 28).detach().numpy()[:10]):\n",
    "    #  ax = fig.add_subplot(3, 10, i+1, xticks=[], yticks=[])\n",
    "    #  ax.imshow(im, 'gray')\n",
    "    #x = x.to(device)\n",
    "    # generate from x\n",
    "        if batch_idx < take_latent_max:\n",
    "            x = x.to(device)\n",
    "            with torch.no_grad():\n",
    "                recon_batch,mu,logvar, z = model(x)\n",
    "            t = t.to(device)\n",
    "    #zs.append(z)\n",
    "    #ts.append(t)\n",
    "            zs = torch.cat((zs,z.view(-1,latent_dim,1)),0)\n",
    "            ts = torch.cat((ts,t),0)\n",
    "            mus = torch.cat((mus,mu.view(-1,latent_dim,1)),0)\n",
    "            logvars = torch.cat((logvars,logvar.view(-1,latent_dim,1)),0)\n",
    "    #y = y.view(-1, 28, 28)\n",
    "    #for i, im in enumerate(y.cpu().detach().numpy()[:10]):\n",
    "     # ax = fig.add_subplot(3, 10, i+11, xticks=[], yticks=[])\n",
    "     # ax.imshow(im, 'gray')\n",
    "    return zs,ts,mus,logvars"
   ],
   "metadata": {
    "collapsed": false,
    "pycharm": {
     "name": "#%%\n"
    }
   }
  },
  {
   "cell_type": "code",
   "execution_count": 19,
   "outputs": [],
   "source": [
    "def pre1_take_latents():\n",
    "    zs = torch.empty(0,latent_dim,1).to(device).requires_grad_(False)\n",
    "    ts = torch.empty(0,dtype=torch.long).to(device).requires_grad_(False)\n",
    "    mus = torch.empty(0,latent_dim,1).to(device).requires_grad_(False)\n",
    "    logvars = torch.empty(0,latent_dim,1).to(device).requires_grad_(False)\n",
    "\n",
    "    for batch_idx, (x,t) in enumerate(test_loader):\n",
    "\n",
    "        if batch_idx < take_latent_max:\n",
    "            x = x.to(device)\n",
    "            with torch.no_grad():\n",
    "                recon_batch,mu,logvar, z = model.pre1_forward(x)\n",
    "            t = t.to(device)\n",
    "\n",
    "            zs = torch.cat((zs,z.view(-1,latent_dim,1)),0)\n",
    "            ts = torch.cat((ts,t),0)\n",
    "            mus = torch.cat((mus,mu.view(-1,latent_dim,1)),0)\n",
    "            logvars = torch.cat((logvars,logvar.view(-1,latent_dim,1)),0)\n",
    "\n",
    "    return zs,ts,mus,logvars"
   ],
   "metadata": {
    "collapsed": false,
    "pycharm": {
     "name": "#%%\n"
    }
   }
  },
  {
   "cell_type": "code",
   "execution_count": 20,
   "outputs": [],
   "source": [
    "def pre2_take_latents():\n",
    "    zs = torch.empty(0,latent_dim,1).to(device).requires_grad_(False)\n",
    "    ts = torch.empty(0,dtype=torch.long).to(device).requires_grad_(False)\n",
    "    mus = torch.empty(0,latent_dim,1).to(device).requires_grad_(False)\n",
    "    logvars = torch.empty(0,latent_dim,1).to(device).requires_grad_(False)\n",
    "\n",
    "    for batch_idx, (x,t) in enumerate(test_loader):\n",
    "\n",
    "        if batch_idx < take_latent_max:\n",
    "            x = x.to(device)\n",
    "            with torch.no_grad():\n",
    "                recon_batch,mu,logvar, z = model.pre2_forward(x)\n",
    "            t = t.to(device)\n",
    "\n",
    "            zs = torch.cat((zs,z.view(-1,latent_dim,1)),0)\n",
    "            ts = torch.cat((ts,t),0)\n",
    "            mus = torch.cat((mus,mu.view(-1,latent_dim,1)),0)\n",
    "            logvars = torch.cat((logvars,logvar.view(-1,latent_dim,1)),0)\n",
    "\n",
    "    return zs,ts,mus,logvars"
   ],
   "metadata": {
    "collapsed": false,
    "pycharm": {
     "name": "#%%\n"
    }
   }
  },
  {
   "cell_type": "code",
   "execution_count": 21,
   "outputs": [],
   "source": [
    "def pre3_take_latents():\n",
    "    zs = torch.empty(0,latent_dim,1).to(device).requires_grad_(False)\n",
    "    ts = torch.empty(0,dtype=torch.long).to(device).requires_grad_(False)\n",
    "    mus = torch.empty(0,latent_dim,1).to(device).requires_grad_(False)\n",
    "    logvars = torch.empty(0,latent_dim,1).to(device).requires_grad_(False)\n",
    "\n",
    "    for batch_idx, (x,t) in enumerate(test_loader):\n",
    "\n",
    "        if batch_idx < take_latent_max:\n",
    "            x = x.to(device)\n",
    "            with torch.no_grad():\n",
    "                recon_batch,mu,logvar, z = model.pre3_forward(x)\n",
    "            t = t.to(device)\n",
    "\n",
    "            zs = torch.cat((zs,z.view(-1,latent_dim,1)),0)\n",
    "            ts = torch.cat((ts,t),0)\n",
    "            mus = torch.cat((mus,mu.view(-1,latent_dim,1)),0)\n",
    "            logvars = torch.cat((logvars,logvar.view(-1,latent_dim,1)),0)\n",
    "\n",
    "    return zs,ts,mus,logvars"
   ],
   "metadata": {
    "collapsed": false,
    "pycharm": {
     "name": "#%%\n"
    }
   }
  },
  {
   "cell_type": "code",
   "execution_count": 22,
   "outputs": [],
   "source": [
    "def initialize_centers():\n",
    "\n",
    "    #mu_center = mus.mean(0,keepdim=True).detach().requires_grad_(False)\n",
    "    #mus_white = mus.detach().requires_grad_(False)-mu_center\n",
    "    #cov_mus = torch.matmul(mus_white.squeeze(2).t(),mus_white.squeeze(2))/mus.shape[0]\n",
    "\n",
    "    #mu_distribution = MultivariateNormal(loc=mu_center.view(-1,latent_dim),covariance_matrix=cov_mus)\n",
    "    #mu_c = mu_distribution.sample([K_model_cluster,])\n",
    "    #mu_c = mu_c.permute(1,2,0)\n",
    "\n",
    "    #logvar_c = torch.diag(cov_mus).log()\n",
    "    #logvar_c = logvar_c.view(1,latent_dim,1)\n",
    "    #logvar_c = logvar_c.repeat(1,1,K_model_cluster)\n",
    "\n",
    "    #mu_distribution = MultivariateNormal(loc=torch.zeros(latent_dim),covariance_matrix=torch.eye(latent_dim))\n",
    "    #mu_c = mu_distribution.sample([K_model_cluster,])\n",
    "    #mu_c = mu_c.permute(1,0)\n",
    "    #mu_c = mu_c.view(1,latent_dim,K_model_cluster).to(device)\n",
    "\n",
    "\n",
    "    mu_c = torch.randn(1,latent_dim,K_model_cluster,device=device)\n",
    "\n",
    "    logvar_c = torch.zeros(1,latent_dim,K_model_cluster).to(device).requires_grad_(False)\n",
    "\n",
    "    pi_c = torch.full((1,1,K_model_cluster),1./K_model_cluster).to(device).requires_grad_(False)\n",
    "\n",
    "    return mu_c,logvar_c,pi_c"
   ],
   "metadata": {
    "collapsed": false,
    "pycharm": {
     "name": "#%%\n"
    }
   }
  },
  {
   "cell_type": "code",
   "execution_count": 23,
   "outputs": [],
   "source": [
    "def gauss(mus,logvars,mu_c,logvar_c,pi_c,iter):\n",
    "    #mus = mus_ini\n",
    "    #logvars = logvars_ini\n",
    "    #mu_c = mu_c_ini\n",
    "    #logvar_c = logvar_c_ini\n",
    "    #pi_c = pi_c_ini\n",
    "\n",
    "    for i in range(iter):\n",
    "        with torch.no_grad():\n",
    "            Q_c = logvar_c+(logvars.exp()+(mus-mu_c).pow(2))/(logvar_c.exp())\n",
    "\n",
    "            gamma_c = (pi_c*((-0.5*Q_c.sum(1,keepdim=True)).exp()))/((pi_c*((-0.5*Q_c.sum(1,keepdim=True)).exp())).sum(2,keepdim=True))\n",
    "\n",
    "            N_c = gamma_c.sum(0,keepdim=True)\n",
    "            log_P = (((pi_c*((-0.5*Q_c.sum(1,keepdim=True)).exp())).sum(2).squeeze()).log()).sum()/((Q_c.shape)[0])\n",
    "            pi_c= N_c/(N_c.sum())\n",
    "            mu_c=(gamma_c*mus).sum(0,keepdim=True)/N_c\n",
    "            logvar_c=((gamma_c*((mus-mu_c).pow(2)+logvars.exp())).sum(0,keepdim=True)/N_c).log()\n",
    "\n",
    "\n",
    "    return mu_c,logvar_c,pi_c,Q_c,gamma_c,log_P"
   ],
   "metadata": {
    "collapsed": false,
    "pycharm": {
     "name": "#%%\n"
    }
   }
  },
  {
   "cell_type": "code",
   "execution_count": 24,
   "outputs": [],
   "source": [
    "\n",
    "def gauss_z(z,mu_c,logvar_c,pi_c,iter):\n",
    "    #mus = mus_ini\n",
    "    #logvars = logvars_ini\n",
    "    #mu_c = mu_c_ini\n",
    "    #logvar_c = logvar_c_ini\n",
    "    #pi_c = pi_c_ini\n",
    "\n",
    "    for i in range(iter):\n",
    "        with torch.no_grad():\n",
    "            Q_c = logvar_c+((z-mu_c).pow(2))/(logvar_c.exp())\n",
    "\n",
    "            gamma_c = (pi_c*((-0.5*Q_c.sum(1,keepdim=True)).exp()))/((pi_c*((-0.5*Q_c.sum(1,keepdim=True)).exp())).sum(2,keepdim=True))\n",
    "\n",
    "            N_c = gamma_c.sum(0,keepdim=True)#+eps_N_c*torch.ones_like(gamma_c)\n",
    "            log_P = (((pi_c*((-0.5*Q_c.sum(1,keepdim=True)).exp())).sum(2).squeeze()).log()).sum()/((Q_c.shape)[0])\n",
    "            pi_c= N_c/(N_c.sum())\n",
    "            mu_c=(gamma_c*z).sum(0,keepdim=True)/N_c\n",
    "            logvar_c=((gamma_c*((z-mu_c).pow(2))).sum(0,keepdim=True)/N_c).log()\n",
    "\n",
    "\n",
    "    return mu_c,logvar_c,pi_c,Q_c,gamma_c,log_P"
   ],
   "metadata": {
    "collapsed": false,
    "pycharm": {
     "name": "#%%\n"
    }
   }
  },
  {
   "cell_type": "code",
   "execution_count": 25,
   "outputs": [],
   "source": [
    "def drawpoints(mus_numpy,ts_numpy):\n",
    "    colors = [\"red\", \"green\", \"blue\", \"orange\", \"purple\", \"brown\", \"fuchsia\", \"grey\", \"olive\", \"lightblue\"]\n",
    "    for p,l in zip(points,ts_numpy):\n",
    "        plt.scatter(p[0],p[1],marker=\"${}$\".format(l),c=colors[l])"
   ],
   "metadata": {
    "collapsed": false,
    "pycharm": {
     "name": "#%%\n"
    }
   }
  },
  {
   "cell_type": "code",
   "execution_count": 26,
   "outputs": [],
   "source": [
    "def show_generated_samples_c(mu_c,logvar_c):\n",
    "    for i in range(K_model_cluster):\n",
    "        with torch.no_grad():\n",
    "            sample_dist = MultivariateNormal(loc=mu_c[:,:,i],covariance_matrix=torch.diag(logvar_c[0,:,i].exp()))\n",
    "    #mu_distribution = MultivariateNormal(loc=mu_center.cpu(),covariance_matrix=cov_mus.cpu())\n",
    "            sample = sample_dist.sample([64,])\n",
    "#    sample = torch.randn(64,latent_dim).to(device)\n",
    "        #20次元の潜在空間のデータを64個作成して、GPUに送る\n",
    "            sample = model.decode(sample).cpu()\n",
    "        #ランダムな潜在変数から画像を生成する。\n",
    "            save_image(sample.view(64,1,28,28),save_folder+'/sample_c_' + str(i) + '.png',nrow=8)\n",
    "        #生成した６４個のデータを記録しておく"
   ],
   "metadata": {
    "collapsed": false,
    "pycharm": {
     "name": "#%%\n"
    }
   }
  },
  {
   "cell_type": "code",
   "execution_count": 27,
   "outputs": [],
   "source": [
    "def loss_function_c(recon_x,x,mus_f,logvars_f,mu_c_f,logvar_c_f,pi_c_f):\n",
    "    BCE = F.binary_cross_entropy(recon_x,x.view(-1,784),reduction='sum')\n",
    "    #recon_xはsigmoidをdecordeで通されているので、[0,1]になっている。\n",
    "    #KLD = -0.5*torch.sum(1+logvar-mu.pow(2)-logvar.exp())\n",
    "    #Q_c_f = -logvars_f+logvar_c_f+logvars_f.exp()/(logvar_c_f.exp())+(mus_f-mu_c_f).pow(2)/(logvar_c_f.exp())\n",
    "    #KLD = (((pi_c_f*((-0.5*(-logvars_f+logvar_c_f+logvars_f.exp()/(logvar_c_f.exp())+(mus_f-mu_c_f).pow(2)/(logvar_c_f.exp())).sum(1,keepdim=True)).exp())).sum(2).squeeze()).log()).sum()\n",
    "    KLD = -0.5*(1+logvars_f).sum() -(((pi_c_f*((-0.5*((logvar_c_f+(logvars_f.exp()+(mus_f-mu_c_f).pow(2))/(logvar_c_f.exp())).sum(1,keepdim=True))).exp())).sum(2,keepdim=True)).log()).sum()#+(logvars_f.exp()+(mus_f-mu_c_f).pow(2))/(logvar_c_f.exp()))\n",
    "\n",
    "    return BCE+beta*KLD"
   ],
   "metadata": {
    "collapsed": false,
    "pycharm": {
     "name": "#%%\n"
    }
   }
  },
  {
   "cell_type": "code",
   "execution_count": 28,
   "outputs": [],
   "source": [
    "def train_c(epoch,mu_c,logvar_c,pi_c):\n",
    "    model.train()\n",
    "    train_loss = 0\n",
    "    for batch_idx, (data,_) in enumerate(train_loader):\n",
    "        #ラベルは使わないようだ\n",
    "        data = data.to(device)\n",
    "        #データをGPUにおくる\n",
    "        optimizer.zero_grad()\n",
    "        #傾きの初期化\n",
    "        recon_batch, mu, logvar,z = model(data)\n",
    "        #VAEからバッヂ分のデータと中心と分散のログを受け取る\n",
    "        loss = loss_function_c(recon_x=recon_batch,x=data,mus_f=mu.view(-1,latent_dim,1),logvars_f=logvar.view(-1,latent_dim,1),mu_c_f=mu_c,logvar_c_f=logvar_c,pi_c_f=pi_c)\n",
    "        #バッヂ分のロスを計算。バッヂ数で割っていないようだ。書き出しのときにデータ数で割っている。\n",
    "        loss.backward()\n",
    "        #傾きを計算\n",
    "        train_loss+= loss.item()\n",
    "        optimizer.step()\n",
    "        #NNパラメータの更新\n",
    "        if batch_idx % log_interval ==0:\n",
    "            #一定間隔でロスを書き出し。epochはここでしか使っていないようだ。len()は最初の次元の大きさを出すのでバッヂの大きさ。\n",
    "            print('Train Epoch: {} [{}/{} ({:.0f}%)]\\tLoss: {:.6f}'.format(\n",
    "              epoch,batch_idx*len(data),len(train_loader.dataset),\n",
    "                100.*batch_idx/len(train_loader),\n",
    "                loss.item()/len(data)\n",
    "            ))"
   ],
   "metadata": {
    "collapsed": false,
    "pycharm": {
     "name": "#%%\n"
    }
   }
  },
  {
   "cell_type": "code",
   "execution_count": 29,
   "outputs": [],
   "source": [
    "def train_c_adiabatic(epoch,mu_c_adiabatic,logvar_c_adiabatic,pi_c_adiabatic):\n",
    "    model.train()\n",
    "    train_loss = 0\n",
    "    mu_c = mu_c_adiabatic\n",
    "    logvar_c = logvar_c_adiabatic\n",
    "    pi_c =pi_c_adiabatic\n",
    "    for batch_idx, (data,_) in enumerate(train_loader):\n",
    "        #ラベルは使わないようだ\n",
    "        data = data.to(device)\n",
    "        #データをGPUにおくる\n",
    "        optimizer.zero_grad()\n",
    "        #傾きの初期化\n",
    "        recon_batch, mu, logvar,z = model(data)\n",
    "        #VAEからバッヂ分のデータと中心と分散のログを受け取る\n",
    "        loss = loss_function_c(recon_x=recon_batch,x=data,mus_f=mu.view(-1,latent_dim,1),logvars_f=logvar.view(-1,latent_dim,1),mu_c_f=mu_c,logvar_c_f=logvar_c,pi_c_f=pi_c)\n",
    "        #バッヂ分のロスを計算。バッヂ数で割っていないようだ。書き出しのときにデータ数で割っている。\n",
    "        loss.backward()\n",
    "        #傾きを計算\n",
    "        train_loss+= loss.item()\n",
    "        optimizer.step()\n",
    "        #NNパラメータの更新\n",
    "        print('Train Epoch: {} [{}/{} ({:.0f}%)]\\tpi_c: {}'.format(\n",
    "              epoch,batch_idx*len(data),len(train_loader.dataset),\n",
    "                100.*batch_idx/len(train_loader),\n",
    "                pi_c))\n",
    "        mu_c,logvar_c,pi_c,_,_,_ = gauss(mu.view(-1,latent_dim,1),logvar.view(-1,latent_dim,1),mu_c,logvar_c,pi_c,iter_adiabatic)\n",
    "        if batch_idx % log_interval ==0:\n",
    "            #一定間隔でロスを書き出し。epochはここでしか使っていないようだ。len()は最初の次元の大きさを出すのでバッヂの大きさ。\n",
    "            print('Train Epoch: {} [{}/{} ({:.0f}%)]\\tLoss: {:.6f}'.format(\n",
    "              epoch,batch_idx*len(data),len(train_loader.dataset),\n",
    "                100.*batch_idx/len(train_loader),\n",
    "                loss.item()/len(data)\n",
    "            ))\n",
    "\n",
    "    return mu_c,logvar_c,pi_c\n",
    "\n"
   ],
   "metadata": {
    "collapsed": false,
    "pycharm": {
     "name": "#%%\n"
    }
   }
  },
  {
   "cell_type": "code",
   "execution_count": 30,
   "outputs": [],
   "source": [
    "def test_c(epoch,mu_c,logvar_c,pi_c):\n",
    "    model.eval()\n",
    "    test_loss = 0\n",
    "    with torch.no_grad():#バックプロパゲーションを行わないから、微分情報を残さない\n",
    "        for i, (data, _) in enumerate(test_loader):\n",
    "            #テストデータを取り出す。ラベルはいらない。\n",
    "            data =data.to(device)\n",
    "            #データをGPUに送る\n",
    "            recon_batch, mu, logvar,z = model(data)\n",
    "            #データからバッヂ分の再現画像と中心と分散の対数を出している。\n",
    "            test_loss += loss_function_c(recon_x=recon_batch,x=data,mus_f=mu.view(-1,latent_dim,1),logvars_f=logvar.view(-1,latent_dim,1),mu_c_f=mu_c,logvar_c_f=logvar_c,pi_c_f=pi_c).item()\n",
    "            #テストデータでのロスを出している\n",
    "            if i == 0:\n",
    "                #はじめのバッヂについて\n",
    "                n = min(data.size(0),16)\n",
    "                #nをバッヂのデータ数か８との小さい方として\n",
    "                comparizon = torch.cat([data[:n],recon_batch.view(batch_size,1,28,28)[:n]])\n",
    "                #元データと再現データを並べる\n",
    "                save_image(comparizon.cpu(),'./'+save_folder+'/reconstruction_c_' + str(epoch) + '.png',nrow=n)\n",
    "\n",
    "                test_loss /= len(test_loader.dataset)\n",
    "                print('====> Test set loss: {:.4f}'.format(test_loss))"
   ],
   "metadata": {
    "collapsed": false,
    "pycharm": {
     "name": "#%%\n"
    }
   }
  },
  {
   "cell_type": "code",
   "execution_count": 31,
   "outputs": [],
   "source": [
    "def train_c_epoch(epochs,mu_c,logvar_c,pi_c):\n",
    "    for epoch in range(1, epochs +1):\n",
    "        train_c(epoch,mu_c,logvar_c,pi_c)\n",
    "        test_c(epoch,mu_c,logvar_c,pi_c)\n",
    "        with torch.no_grad():\n",
    "            sample = torch.randn(64,latent_dim).to(device)\n",
    "        #20次元の潜在空間のデータを64個作成して、GPUに送る\n",
    "            sample = model.decode(sample).cpu()\n",
    "        #ランダムな潜在変数から画像を生成する。\n",
    "            save_image(sample.view(64,1,28,28),save_folder+'/sample_c_epoch_' + str(epoch) + '.png',nrow=8)\n",
    "        #生成した６４個のデータを記録しておく"
   ],
   "metadata": {
    "collapsed": false,
    "pycharm": {
     "name": "#%%\n"
    }
   }
  },
  {
   "cell_type": "code",
   "execution_count": 32,
   "outputs": [],
   "source": [
    "beta = 1."
   ],
   "metadata": {
    "collapsed": false,
    "pycharm": {
     "name": "#%%\n"
    }
   }
  },
  {
   "cell_type": "code",
   "execution_count": 91,
   "outputs": [
    {
     "name": "stdout",
     "output_type": "stream",
     "text": [
      "Train Epoch: 0 [0/60000 (0%)]\tLoss: 550.767930\n",
      "====> Test set loss: 1.2524\n",
      "Train Epoch: 1 [0/60000 (0%)]\tLoss: 129.473340\n",
      "====> Test set loss: 1.1324\n",
      "Train Epoch: 2 [0/60000 (0%)]\tLoss: 118.664766\n",
      "====> Test set loss: 1.1465\n",
      "Train Epoch: 3 [0/60000 (0%)]\tLoss: 114.271729\n",
      "====> Test set loss: 1.0880\n",
      "Train Epoch: 4 [0/60000 (0%)]\tLoss: 114.687363\n",
      "====> Test set loss: 1.1109\n",
      "Train Epoch: 5 [0/60000 (0%)]\tLoss: 111.778799\n",
      "====> Test set loss: 1.0732\n",
      "Train Epoch: 6 [0/60000 (0%)]\tLoss: 113.035215\n",
      "====> Test set loss: 1.1395\n",
      "Train Epoch: 7 [0/60000 (0%)]\tLoss: 107.978682\n",
      "====> Test set loss: 1.1025\n",
      "Train Epoch: 8 [0/60000 (0%)]\tLoss: 112.260684\n",
      "====> Test set loss: 1.0490\n",
      "Train Epoch: 9 [0/60000 (0%)]\tLoss: 108.977061\n",
      "====> Test set loss: 1.1027\n"
     ]
    },
    {
     "name": "stderr",
     "output_type": "stream",
     "text": [
      "/usr/local/lib/python3.8/dist-packages/torch/optim/lr_scheduler.py:131: UserWarning: Detected call of `lr_scheduler.step()` before `optimizer.step()`. In PyTorch 1.1.0 and later, you should call them in the opposite order: `optimizer.step()` before `lr_scheduler.step()`.  Failure to do this will result in PyTorch skipping the first value of the learning rate schedule. See more details at https://pytorch.org/docs/stable/optim.html#how-to-adjust-learning-rate\n",
      "  warnings.warn(\"Detected call of `lr_scheduler.step()` before `optimizer.step()`. \"\n"
     ]
    }
   ],
   "source": [
    "pre1_loop(10)\n",
    "zs_g,ts_g,mus_g,logvars_g = pre1_take_latents()"
   ],
   "metadata": {
    "collapsed": false,
    "pycharm": {
     "name": "#%%\n"
    }
   }
  },
  {
   "cell_type": "code",
   "execution_count": 96,
   "outputs": [
    {
     "name": "stdout",
     "output_type": "stream",
     "text": [
      "Train Epoch: 1 [0/60000 (0%)]\tLoss: 245.156504\n",
      "====> Test set loss: 1.1362\n",
      "Train Epoch: 2 [0/60000 (0%)]\tLoss: 116.893418\n",
      "====> Test set loss: 1.1321\n",
      "Train Epoch: 3 [0/60000 (0%)]\tLoss: 116.390068\n",
      "====> Test set loss: 1.1419\n",
      "Train Epoch: 4 [0/60000 (0%)]\tLoss: 114.740596\n",
      "====> Test set loss: 1.1015\n",
      "Train Epoch: 5 [0/60000 (0%)]\tLoss: 112.795967\n",
      "====> Test set loss: 1.1310\n",
      "Train Epoch: 6 [0/60000 (0%)]\tLoss: 107.831182\n",
      "====> Test set loss: 1.0871\n",
      "Train Epoch: 7 [0/60000 (0%)]\tLoss: 105.825664\n",
      "====> Test set loss: 1.1049\n",
      "Train Epoch: 8 [0/60000 (0%)]\tLoss: 106.159150\n",
      "====> Test set loss: 1.1237\n",
      "Train Epoch: 9 [0/60000 (0%)]\tLoss: 104.360117\n",
      "====> Test set loss: 1.1608\n",
      "Train Epoch: 10 [0/60000 (0%)]\tLoss: 108.219199\n",
      "====> Test set loss: 1.0922\n"
     ]
    }
   ],
   "source": [
    "pre2_loop(10)\n",
    "zs_g,ts_g,mus_g,logvars_g = pre2_take_latents()"
   ],
   "metadata": {
    "collapsed": false,
    "pycharm": {
     "name": "#%%\n"
    }
   }
  },
  {
   "cell_type": "code",
   "execution_count": 101,
   "outputs": [
    {
     "name": "stdout",
     "output_type": "stream",
     "text": [
      "Train Epoch: 1 [0/60000 (0%)]\tLoss: 285.813496\n",
      "====> Test set loss: 1.3083\n",
      "Train Epoch: 2 [0/60000 (0%)]\tLoss: 125.589453\n",
      "====> Test set loss: 1.2014\n",
      "Train Epoch: 3 [0/60000 (0%)]\tLoss: 125.697852\n",
      "====> Test set loss: 1.2128\n",
      "Train Epoch: 4 [0/60000 (0%)]\tLoss: 126.191836\n",
      "====> Test set loss: 1.2004\n",
      "Train Epoch: 5 [0/60000 (0%)]\tLoss: 124.237441\n",
      "====> Test set loss: 1.1724\n",
      "Train Epoch: 6 [0/60000 (0%)]\tLoss: 114.222266\n",
      "====> Test set loss: 1.1559\n",
      "Train Epoch: 7 [0/60000 (0%)]\tLoss: 120.034258\n",
      "====> Test set loss: 1.1946\n",
      "Train Epoch: 8 [0/60000 (0%)]\tLoss: 113.086699\n",
      "====> Test set loss: 1.1639\n",
      "Train Epoch: 9 [0/60000 (0%)]\tLoss: 119.457168\n",
      "====> Test set loss: 1.1456\n",
      "Train Epoch: 10 [0/60000 (0%)]\tLoss: 120.925918\n",
      "====> Test set loss: 1.2165\n"
     ]
    }
   ],
   "source": [
    "pre3_loop(10)\n",
    "zs_g,ts_g,mus_g,logvars_g = pre2_take_latents()"
   ],
   "metadata": {
    "collapsed": false,
    "pycharm": {
     "name": "#%%\n"
    }
   }
  },
  {
   "cell_type": "code",
   "execution_count": 33,
   "outputs": [
    {
     "data": {
      "text/plain": "(torch.Size([1, 10, 10]), torch.Size([1, 10, 10]), torch.Size([1, 1, 10]))"
     },
     "execution_count": 33,
     "metadata": {},
     "output_type": "execute_result"
    }
   ],
   "source": [
    "#zs_g,ts_g,mus_g,logvars_g = take_latents()\n",
    "mu_c_g,logvar_c_g,pi_c_g = initialize_centers()\n",
    "#mu_c_g,logvar_c_g,pi_c_g,Q_c_g,gamma_c_g,log_P_g = gauss(mus_g,logvars_g,mu_c_g,logvar_c_g,pi_c_g,50)\n",
    "mu_c_g.shape,logvar_c_g.shape,pi_c_g.shape\n",
    "#mu_c_g,logvar_c_g,pi_c_g,Q_c_g,gamma_c_g,log_P_g = gauss(mus_g,logvars_g,mu_c_g,logvar_c_g,pi_c_g,50)"
   ],
   "metadata": {
    "collapsed": false,
    "pycharm": {
     "name": "#%%\n"
    }
   }
  },
  {
   "cell_type": "code",
   "execution_count": 34,
   "outputs": [
    {
     "name": "stdout",
     "output_type": "stream",
     "text": [
      "Train Epoch: 0 [0/60000 (0%)]\tpi_c: tensor([[[0.1000, 0.1000, 0.1000, 0.1000, 0.1000, 0.1000, 0.1000, 0.1000,\n",
      "          0.1000, 0.1000]]], device='cuda:0')\n",
      "Train Epoch: 0 [0/60000 (0%)]\tLoss: 546.869297\n",
      "Train Epoch: 0 [100/60000 (0%)]\tpi_c: tensor([[[1.5002e-02, 9.0723e-04, 1.3375e-02, 1.9678e-01, 7.5760e-01,\n",
      "          2.3319e-03, 1.7850e-03, 5.5280e-06, 4.6756e-03, 7.5357e-03]]],\n",
      "       device='cuda:0')\n",
      "Train Epoch: 0 [100/60000 (0%)]\tLoss: 449.461406\n",
      "Train Epoch: 0 [200/60000 (0%)]\tpi_c: tensor([[[1.4994e-02, 9.0677e-04, 1.3372e-02, 1.9678e-01, 7.5761e-01,\n",
      "          2.3315e-03, 1.7847e-03, 5.5281e-06, 4.6746e-03, 7.5358e-03]]],\n",
      "       device='cuda:0')\n",
      "Train Epoch: 0 [200/60000 (0%)]\tLoss: 384.482578\n",
      "Train Epoch: 0 [300/60000 (0%)]\tpi_c: tensor([[[1.4992e-02, 9.0664e-04, 1.3371e-02, 1.9678e-01, 7.5761e-01,\n",
      "          2.3314e-03, 1.7846e-03, 5.5281e-06, 4.6743e-03, 7.5358e-03]]],\n",
      "       device='cuda:0')\n",
      "Train Epoch: 0 [300/60000 (0%)]\tLoss: 263.815313\n",
      "Train Epoch: 0 [400/60000 (1%)]\tpi_c: tensor([[[1.4995e-02, 9.0681e-04, 1.3373e-02, 1.9678e-01, 7.5761e-01,\n",
      "          2.3316e-03, 1.7847e-03, 5.5281e-06, 4.6747e-03, 7.5358e-03]]],\n",
      "       device='cuda:0')\n",
      "Train Epoch: 0 [400/60000 (1%)]\tLoss: 235.360254\n",
      "Train Epoch: 0 [500/60000 (1%)]\tpi_c: tensor([[[1.4995e-02, 9.0681e-04, 1.3373e-02, 1.9678e-01, 7.5761e-01,\n",
      "          2.3316e-03, 1.7847e-03, 5.5281e-06, 4.6747e-03, 7.5358e-03]]],\n",
      "       device='cuda:0')\n",
      "Train Epoch: 0 [500/60000 (1%)]\tLoss: 239.495078\n",
      "Train Epoch: 0 [600/60000 (1%)]\tpi_c: tensor([[[1.4995e-02, 9.0681e-04, 1.3373e-02, 1.9678e-01, 7.5761e-01,\n",
      "          2.3316e-03, 1.7847e-03, 5.5281e-06, 4.6747e-03, 7.5358e-03]]],\n",
      "       device='cuda:0')\n",
      "Train Epoch: 0 [600/60000 (1%)]\tLoss: 226.621230\n",
      "Train Epoch: 0 [700/60000 (1%)]\tpi_c: tensor([[[1.4995e-02, 9.0681e-04, 1.3373e-02, 1.9678e-01, 7.5761e-01,\n",
      "          2.3316e-03, 1.7847e-03, 5.5281e-06, 4.6747e-03, 7.5358e-03]]],\n",
      "       device='cuda:0')\n",
      "Train Epoch: 0 [700/60000 (1%)]\tLoss: 229.889531\n",
      "Train Epoch: 0 [800/60000 (1%)]\tpi_c: tensor([[[1.4995e-02, 9.0681e-04, 1.3373e-02, 1.9678e-01, 7.5761e-01,\n",
      "          2.3316e-03, 1.7847e-03, 5.5281e-06, 4.6747e-03, 7.5358e-03]]],\n",
      "       device='cuda:0')\n",
      "Train Epoch: 0 [800/60000 (1%)]\tLoss: 228.831250\n",
      "Train Epoch: 0 [900/60000 (2%)]\tpi_c: tensor([[[1.4995e-02, 9.0681e-04, 1.3373e-02, 1.9678e-01, 7.5761e-01,\n",
      "          2.3316e-03, 1.7847e-03, 5.5281e-06, 4.6747e-03, 7.5358e-03]]],\n",
      "       device='cuda:0')\n",
      "Train Epoch: 0 [900/60000 (2%)]\tLoss: 214.883145\n",
      "Train Epoch: 0 [1000/60000 (2%)]\tpi_c: tensor([[[1.4995e-02, 9.0681e-04, 1.3373e-02, 1.9678e-01, 7.5761e-01,\n",
      "          2.3316e-03, 1.7847e-03, 5.5281e-06, 4.6747e-03, 7.5358e-03]]],\n",
      "       device='cuda:0')\n",
      "Train Epoch: 0 [1000/60000 (2%)]\tLoss: 218.404922\n",
      "Train Epoch: 0 [1100/60000 (2%)]\tpi_c: tensor([[[1.4995e-02, 9.0681e-04, 1.3373e-02, 1.9678e-01, 7.5761e-01,\n",
      "          2.3316e-03, 1.7847e-03, 5.5281e-06, 4.6747e-03, 7.5358e-03]]],\n",
      "       device='cuda:0')\n",
      "Train Epoch: 0 [1100/60000 (2%)]\tLoss: 211.745234\n",
      "Train Epoch: 0 [1200/60000 (2%)]\tpi_c: tensor([[[1.4995e-02, 9.0681e-04, 1.3373e-02, 1.9678e-01, 7.5761e-01,\n",
      "          2.3316e-03, 1.7847e-03, 5.5281e-06, 4.6747e-03, 7.5358e-03]]],\n",
      "       device='cuda:0')\n",
      "Train Epoch: 0 [1200/60000 (2%)]\tLoss: 218.597227\n",
      "Train Epoch: 0 [1300/60000 (2%)]\tpi_c: tensor([[[1.4995e-02, 9.0681e-04, 1.3373e-02, 1.9678e-01, 7.5761e-01,\n",
      "          2.3316e-03, 1.7847e-03, 5.5281e-06, 4.6747e-03, 7.5358e-03]]],\n",
      "       device='cuda:0')\n",
      "Train Epoch: 0 [1300/60000 (2%)]\tLoss: 219.067266\n",
      "Train Epoch: 0 [1400/60000 (2%)]\tpi_c: tensor([[[1.4995e-02, 9.0681e-04, 1.3373e-02, 1.9678e-01, 7.5761e-01,\n",
      "          2.3316e-03, 1.7847e-03, 5.5281e-06, 4.6747e-03, 7.5358e-03]]],\n",
      "       device='cuda:0')\n",
      "Train Epoch: 0 [1400/60000 (2%)]\tLoss: 214.982773\n",
      "Train Epoch: 0 [1500/60000 (2%)]\tpi_c: tensor([[[1.4995e-02, 9.0681e-04, 1.3373e-02, 1.9678e-01, 7.5761e-01,\n",
      "          2.3316e-03, 1.7847e-03, 5.5281e-06, 4.6747e-03, 7.5358e-03]]],\n",
      "       device='cuda:0')\n",
      "Train Epoch: 0 [1500/60000 (2%)]\tLoss: 215.785156\n",
      "Train Epoch: 0 [1600/60000 (3%)]\tpi_c: tensor([[[1.4995e-02, 9.0681e-04, 1.3373e-02, 1.9678e-01, 7.5761e-01,\n",
      "          2.3316e-03, 1.7847e-03, 5.5281e-06, 4.6747e-03, 7.5358e-03]]],\n",
      "       device='cuda:0')\n",
      "Train Epoch: 0 [1600/60000 (3%)]\tLoss: 205.016270\n",
      "Train Epoch: 0 [1700/60000 (3%)]\tpi_c: tensor([[[1.4995e-02, 9.0681e-04, 1.3373e-02, 1.9678e-01, 7.5761e-01,\n",
      "          2.3316e-03, 1.7847e-03, 5.5281e-06, 4.6747e-03, 7.5358e-03]]],\n",
      "       device='cuda:0')\n",
      "Train Epoch: 0 [1700/60000 (3%)]\tLoss: 209.133848\n",
      "Train Epoch: 0 [1800/60000 (3%)]\tpi_c: tensor([[[1.4995e-02, 9.0681e-04, 1.3373e-02, 1.9678e-01, 7.5761e-01,\n",
      "          2.3316e-03, 1.7847e-03, 5.5281e-06, 4.6747e-03, 7.5358e-03]]],\n",
      "       device='cuda:0')\n",
      "Train Epoch: 0 [1800/60000 (3%)]\tLoss: 203.131504\n",
      "Train Epoch: 0 [1900/60000 (3%)]\tpi_c: tensor([[[1.4995e-02, 9.0681e-04, 1.3373e-02, 1.9678e-01, 7.5761e-01,\n",
      "          2.3316e-03, 1.7847e-03, 5.5281e-06, 4.6747e-03, 7.5358e-03]]],\n",
      "       device='cuda:0')\n",
      "Train Epoch: 0 [1900/60000 (3%)]\tLoss: 201.469687\n",
      "Train Epoch: 0 [2000/60000 (3%)]\tpi_c: tensor([[[1.4995e-02, 9.0681e-04, 1.3373e-02, 1.9678e-01, 7.5761e-01,\n",
      "          2.3316e-03, 1.7847e-03, 5.5281e-06, 4.6747e-03, 7.5358e-03]]],\n",
      "       device='cuda:0')\n",
      "Train Epoch: 0 [2000/60000 (3%)]\tLoss: 209.195176\n",
      "Train Epoch: 0 [2100/60000 (4%)]\tpi_c: tensor([[[1.4995e-02, 9.0681e-04, 1.3373e-02, 1.9678e-01, 7.5761e-01,\n",
      "          2.3316e-03, 1.7847e-03, 5.5281e-06, 4.6747e-03, 7.5358e-03]]],\n",
      "       device='cuda:0')\n",
      "Train Epoch: 0 [2100/60000 (4%)]\tLoss: 211.202305\n",
      "Train Epoch: 0 [2200/60000 (4%)]\tpi_c: tensor([[[1.4995e-02, 9.0681e-04, 1.3373e-02, 1.9678e-01, 7.5761e-01,\n",
      "          2.3316e-03, 1.7847e-03, 5.5281e-06, 4.6747e-03, 7.5358e-03]]],\n",
      "       device='cuda:0')\n",
      "Train Epoch: 0 [2200/60000 (4%)]\tLoss: 200.164473\n",
      "Train Epoch: 0 [2300/60000 (4%)]\tpi_c: tensor([[[1.4995e-02, 9.0681e-04, 1.3373e-02, 1.9678e-01, 7.5761e-01,\n",
      "          2.3316e-03, 1.7847e-03, 5.5281e-06, 4.6747e-03, 7.5358e-03]]],\n",
      "       device='cuda:0')\n",
      "Train Epoch: 0 [2300/60000 (4%)]\tLoss: 201.448867\n",
      "Train Epoch: 0 [2400/60000 (4%)]\tpi_c: tensor([[[1.4995e-02, 9.0681e-04, 1.3373e-02, 1.9678e-01, 7.5761e-01,\n",
      "          2.3316e-03, 1.7847e-03, 5.5281e-06, 4.6747e-03, 7.5358e-03]]],\n",
      "       device='cuda:0')\n",
      "Train Epoch: 0 [2400/60000 (4%)]\tLoss: 207.418086\n",
      "Train Epoch: 0 [2500/60000 (4%)]\tpi_c: tensor([[[1.4995e-02, 9.0681e-04, 1.3373e-02, 1.9678e-01, 7.5761e-01,\n",
      "          2.3316e-03, 1.7847e-03, 5.5281e-06, 4.6747e-03, 7.5358e-03]]],\n",
      "       device='cuda:0')\n",
      "Train Epoch: 0 [2500/60000 (4%)]\tLoss: 198.426016\n",
      "Train Epoch: 0 [2600/60000 (4%)]\tpi_c: tensor([[[1.4995e-02, 9.0681e-04, 1.3373e-02, 1.9678e-01, 7.5761e-01,\n",
      "          2.3316e-03, 1.7847e-03, 5.5281e-06, 4.6747e-03, 7.5358e-03]]],\n",
      "       device='cuda:0')\n",
      "Train Epoch: 0 [2600/60000 (4%)]\tLoss: 214.641738\n",
      "Train Epoch: 0 [2700/60000 (4%)]\tpi_c: tensor([[[1.4995e-02, 9.0681e-04, 1.3373e-02, 1.9678e-01, 7.5761e-01,\n",
      "          2.3316e-03, 1.7847e-03, 5.5281e-06, 4.6747e-03, 7.5358e-03]]],\n",
      "       device='cuda:0')\n",
      "Train Epoch: 0 [2700/60000 (4%)]\tLoss: 202.897012\n",
      "Train Epoch: 0 [2800/60000 (5%)]\tpi_c: tensor([[[1.4995e-02, 9.0681e-04, 1.3373e-02, 1.9678e-01, 7.5761e-01,\n",
      "          2.3316e-03, 1.7847e-03, 5.5281e-06, 4.6747e-03, 7.5358e-03]]],\n",
      "       device='cuda:0')\n",
      "Train Epoch: 0 [2800/60000 (5%)]\tLoss: 206.956699\n",
      "Train Epoch: 0 [2900/60000 (5%)]\tpi_c: tensor([[[1.4995e-02, 9.0681e-04, 1.3373e-02, 1.9678e-01, 7.5761e-01,\n",
      "          2.3316e-03, 1.7847e-03, 5.5281e-06, 4.6747e-03, 7.5358e-03]]],\n",
      "       device='cuda:0')\n",
      "Train Epoch: 0 [2900/60000 (5%)]\tLoss: 202.129258\n",
      "Train Epoch: 0 [3000/60000 (5%)]\tpi_c: tensor([[[1.4996e-02, 9.0676e-04, 1.3373e-02, 1.9678e-01, 7.5761e-01,\n",
      "          2.3316e-03, 1.7846e-03, 5.5282e-06, 4.6748e-03, 7.5360e-03]]],\n",
      "       device='cuda:0')\n",
      "Train Epoch: 0 [3000/60000 (5%)]\tLoss: 202.891816\n",
      "Train Epoch: 0 [3100/60000 (5%)]\tpi_c: tensor([[[1.4994e-02, 9.0684e-04, 1.3372e-02, 1.9679e-01, 7.5761e-01,\n",
      "          2.3316e-03, 1.7847e-03, 5.5280e-06, 4.6747e-03, 7.5357e-03]]],\n",
      "       device='cuda:0')\n",
      "Train Epoch: 0 [3100/60000 (5%)]\tLoss: 200.433457\n",
      "Train Epoch: 0 [3200/60000 (5%)]\tpi_c: tensor([[[1.4994e-02, 9.0686e-04, 1.3372e-02, 1.9679e-01, 7.5761e-01,\n",
      "          2.3316e-03, 1.7848e-03, 5.5280e-06, 4.6746e-03, 7.5356e-03]]],\n",
      "       device='cuda:0')\n",
      "Train Epoch: 0 [3200/60000 (5%)]\tLoss: 200.191406\n",
      "Train Epoch: 0 [3300/60000 (6%)]\tpi_c: tensor([[[1.4997e-02, 9.0669e-04, 1.3373e-02, 1.9677e-01, 7.5762e-01,\n",
      "          2.3316e-03, 1.7844e-03, 5.5283e-06, 4.6749e-03, 7.5362e-03]]],\n",
      "       device='cuda:0')\n",
      "Train Epoch: 0 [3300/60000 (6%)]\tLoss: 202.478301\n",
      "Train Epoch: 0 [3400/60000 (6%)]\tpi_c: tensor([[[1.4976e-02, 9.0791e-04, 1.3368e-02, 1.9688e-01, 7.5754e-01,\n",
      "          2.3317e-03, 1.7870e-03, 5.5259e-06, 4.6728e-03, 7.5321e-03]]],\n",
      "       device='cuda:0')\n",
      "Train Epoch: 0 [3400/60000 (6%)]\tLoss: 197.346563\n",
      "Train Epoch: 0 [3500/60000 (6%)]\tpi_c: tensor([[[1.5039e-02, 9.0485e-04, 1.3382e-02, 1.9661e-01, 7.5773e-01,\n",
      "          2.3313e-03, 1.7807e-03, 5.5326e-06, 4.6786e-03, 7.5436e-03]]],\n",
      "       device='cuda:0')\n",
      "Train Epoch: 0 [3500/60000 (6%)]\tLoss: 199.171074\n",
      "Train Epoch: 0 [3600/60000 (6%)]\tpi_c: tensor([[[1.5041e-02, 9.0708e-04, 1.3378e-02, 1.9672e-01, 7.5761e-01,\n",
      "          2.3313e-03, 1.7854e-03, 5.5308e-06, 4.6771e-03, 7.5409e-03]]],\n",
      "       device='cuda:0')\n",
      "Train Epoch: 0 [3600/60000 (6%)]\tLoss: 199.422500\n",
      "Train Epoch: 0 [3700/60000 (6%)]\tpi_c: tensor([[[1.5041e-02, 9.2214e-04, 1.3348e-02, 1.9753e-01, 7.5682e-01,\n",
      "          2.3310e-03, 1.8170e-03, 5.5173e-06, 4.6656e-03, 7.5212e-03]]],\n",
      "       device='cuda:0')\n",
      "Train Epoch: 0 [3700/60000 (6%)]\tLoss: 203.332676\n",
      "Train Epoch: 0 [3800/60000 (6%)]\tpi_c: tensor([[[1.5455e-02, 9.9704e-04, 1.3257e-02, 2.0068e-01, 7.5319e-01,\n",
      "          2.3266e-03, 1.9760e-03, 5.4813e-06, 4.6353e-03, 7.4789e-03]]],\n",
      "       device='cuda:0')\n",
      "Train Epoch: 0 [3800/60000 (6%)]\tLoss: 204.592969\n",
      "Train Epoch: 0 [3900/60000 (6%)]\tpi_c: tensor([[[2.0018e-02, 1.4013e-03, 1.3070e-02, 2.1307e-01, 7.3516e-01,\n",
      "          2.2881e-03, 2.8447e-03, 5.4464e-06, 4.6097e-03, 7.5418e-03]]],\n",
      "       device='cuda:0')\n",
      "Train Epoch: 0 [3900/60000 (6%)]\tLoss: 207.402598\n",
      "Train Epoch: 0 [4000/60000 (7%)]\tpi_c: tensor([[[4.1761e-02, 4.2704e-03, 1.1726e-02, 2.8805e-01, 6.3090e-01,\n",
      "          2.0864e-03, 9.1349e-03, 5.1183e-06, 4.3532e-03, 7.7061e-03]]],\n",
      "       device='cuda:0')\n",
      "Train Epoch: 0 [4000/60000 (7%)]\tLoss: 202.962695\n",
      "Train Epoch: 0 [4100/60000 (7%)]\tpi_c: tensor([[[9.8349e-02, 1.1859e-02, 1.5076e-02, 2.8944e-01, 5.3641e-01,\n",
      "          1.6701e-03, 2.7277e-02, 7.5569e-06, 6.5052e-03, 1.3407e-02]]],\n",
      "       device='cuda:0')\n",
      "Train Epoch: 0 [4100/60000 (7%)]\tLoss: 199.807051\n",
      "Train Epoch: 0 [4200/60000 (7%)]\tpi_c: tensor([[[1.3928e-01, 9.7480e-03, 1.9032e-02, 2.0109e-01, 5.7806e-01,\n",
      "          1.7932e-03, 2.3593e-02, 1.0103e-05, 8.7313e-03, 1.8664e-02]]],\n",
      "       device='cuda:0')\n",
      "Train Epoch: 0 [4200/60000 (7%)]\tLoss: 206.087871\n",
      "Train Epoch: 0 [4300/60000 (7%)]\tpi_c: tensor([[[1.0410e-01, 2.5950e-02, 1.4469e-02, 2.3393e-01, 5.3586e-01,\n",
      "          1.8407e-03, 6.3074e-02, 7.6813e-06, 6.6370e-03, 1.4128e-02]]],\n",
      "       device='cuda:0')\n",
      "Train Epoch: 0 [4300/60000 (7%)]\tLoss: 209.911797\n",
      "Train Epoch: 0 [4400/60000 (7%)]\tpi_c: tensor([[[6.8222e-02, 4.3263e-02, 9.5335e-03, 2.8321e-01, 4.7197e-01,\n",
      "          1.7946e-03, 1.0834e-01, 5.0579e-06, 4.3699e-03, 9.2896e-03]]],\n",
      "       device='cuda:0')\n",
      "Train Epoch: 0 [4400/60000 (7%)]\tLoss: 191.981367\n",
      "Train Epoch: 0 [4500/60000 (8%)]\tpi_c: tensor([[[1.4848e-01, 1.9984e-02, 1.9127e-02, 2.5215e-01, 4.8502e-01,\n",
      "          1.6334e-03, 4.4494e-02, 1.0614e-05, 9.1908e-03, 1.9902e-02]]],\n",
      "       device='cuda:0')\n",
      "Train Epoch: 0 [4500/60000 (8%)]\tLoss: 201.805410\n",
      "Train Epoch: 0 [4600/60000 (8%)]\tpi_c: tensor([[[1.6668e-01, 2.3563e-02, 2.0934e-02, 2.4375e-01, 4.5533e-01,\n",
      "          1.5434e-03, 5.5713e-02, 1.1795e-05, 1.0221e-02, 2.2250e-02]]],\n",
      "       device='cuda:0')\n",
      "Train Epoch: 0 [4600/60000 (8%)]\tLoss: 196.106309\n",
      "Train Epoch: 0 [4700/60000 (8%)]\tpi_c: tensor([[[2.0299e-01, 2.2244e-02, 2.5694e-02, 1.9680e-01, 4.7603e-01,\n",
      "          1.6033e-03, 3.4986e-02, 1.4425e-05, 1.2497e-02, 2.7151e-02]]],\n",
      "       device='cuda:0')\n",
      "Train Epoch: 0 [4700/60000 (8%)]\tLoss: 187.999668\n",
      "Train Epoch: 0 [4800/60000 (8%)]\tpi_c: tensor([[[1.9346e-01, 3.9562e-02, 2.3671e-02, 2.2017e-01, 4.1490e-01,\n",
      "          1.4149e-03, 6.9342e-02, 1.3549e-05, 1.1749e-02, 2.5714e-02]]],\n",
      "       device='cuda:0')\n",
      "Train Epoch: 0 [4800/60000 (8%)]\tLoss: 186.242031\n",
      "Train Epoch: 0 [4900/60000 (8%)]\tpi_c: tensor([[[1.8328e-01, 3.4204e-02, 2.2143e-02, 2.4864e-01, 4.3530e-01,\n",
      "          1.5554e-03, 3.9477e-02, 1.2770e-05, 1.1077e-02, 2.4308e-02]]],\n",
      "       device='cuda:0')\n",
      "Train Epoch: 0 [4900/60000 (8%)]\tLoss: 191.991348\n",
      "Train Epoch: 0 [5000/60000 (8%)]\tpi_c: tensor([[[1.7783e-01, 3.5908e-02, 2.1118e-02, 2.4839e-01, 4.3283e-01,\n",
      "          1.5956e-03, 4.8117e-02, 1.2306e-05, 1.0679e-02, 2.3518e-02]]],\n",
      "       device='cuda:0')\n",
      "Train Epoch: 0 [5000/60000 (8%)]\tLoss: 192.748574\n",
      "Train Epoch: 0 [5100/60000 (8%)]\tpi_c: tensor([[[1.8865e-01, 4.0099e-02, 2.1720e-02, 2.8040e-01, 3.9233e-01,\n",
      "          1.6621e-03, 3.9103e-02, 1.2899e-05, 1.1202e-02, 2.4824e-02]]],\n",
      "       device='cuda:0')\n",
      "Train Epoch: 0 [5100/60000 (8%)]\tLoss: 202.746172\n",
      "Train Epoch: 0 [5200/60000 (9%)]\tpi_c: tensor([[[1.3685e-01, 8.3535e-02, 1.5938e-02, 2.8661e-01, 3.3470e-01,\n",
      "          1.4744e-03, 1.1468e-01, 9.3985e-06, 8.1602e-03, 1.8041e-02]]],\n",
      "       device='cuda:0')\n",
      "Train Epoch: 0 [5200/60000 (9%)]\tLoss: 189.712109\n",
      "Train Epoch: 0 [5300/60000 (9%)]\tpi_c: tensor([[[1.8990e-01, 9.1352e-02, 2.1840e-02, 2.8180e-01, 2.9358e-01,\n",
      "          1.4836e-03, 8.3777e-02, 1.2979e-05, 1.1272e-02, 2.4985e-02]]],\n",
      "       device='cuda:0')\n",
      "Train Epoch: 0 [5300/60000 (9%)]\tLoss: 196.337305\n",
      "Train Epoch: 0 [5400/60000 (9%)]\tpi_c: tensor([[[1.4375e-01, 7.0225e-02, 1.6094e-02, 3.4571e-01, 3.0947e-01,\n",
      "          1.5107e-03, 8.5940e-02, 9.7253e-06, 8.4525e-03, 1.8835e-02]]],\n",
      "       device='cuda:0')\n",
      "Train Epoch: 0 [5400/60000 (9%)]\tLoss: 193.568652\n",
      "Train Epoch: 0 [5500/60000 (9%)]\tpi_c: tensor([[[1.0647e-01, 6.0657e-02, 1.2172e-02, 2.5087e-01, 5.0828e-01,\n",
      "          2.1161e-03, 3.9136e-02, 7.2580e-06, 6.3047e-03, 1.3993e-02]]],\n",
      "       device='cuda:0')\n",
      "Train Epoch: 0 [5500/60000 (9%)]\tLoss: 189.821230\n",
      "Train Epoch: 0 [5600/60000 (9%)]\tpi_c: tensor([[[1.2461e-01, 1.1453e-01, 1.3096e-02, 2.6512e-01, 4.3635e-01,\n",
      "          2.7604e-03, 2.0188e-02, 8.2317e-06, 7.1660e-03, 1.6168e-02]]],\n",
      "       device='cuda:0')\n",
      "Train Epoch: 0 [5600/60000 (9%)]\tLoss: 189.866777\n",
      "Train Epoch: 0 [5700/60000 (10%)]\tpi_c: tensor([[[1.2535e-01, 1.7359e-01, 1.3022e-02, 2.6376e-01, 3.7651e-01,\n",
      "          2.1628e-03, 2.2185e-02, 8.2404e-06, 7.1759e-03, 1.6231e-02]]],\n",
      "       device='cuda:0')\n",
      "Train Epoch: 0 [5700/60000 (10%)]\tLoss: 193.055645\n",
      "Train Epoch: 0 [5800/60000 (10%)]\tpi_c: tensor([[[1.0250e-01, 5.8184e-02, 1.0490e-02, 2.8454e-01, 4.5781e-01,\n",
      "          4.2391e-03, 6.3158e-02, 6.7010e-06, 5.8375e-03, 1.3242e-02]]],\n",
      "       device='cuda:0')\n",
      "Train Epoch: 0 [5800/60000 (10%)]\tLoss: 199.664004\n",
      "Train Epoch: 0 [5900/60000 (10%)]\tpi_c: tensor([[[8.7813e-02, 5.6958e-02, 8.7572e-03, 3.5965e-01, 4.4483e-01,\n",
      "          5.5786e-03, 2.0207e-02, 5.6551e-06, 4.9309e-03, 1.1270e-02]]],\n",
      "       device='cuda:0')\n",
      "Train Epoch: 0 [5900/60000 (10%)]\tLoss: 189.768086\n",
      "Train Epoch: 0 [6000/60000 (10%)]\tpi_c: tensor([[[1.1569e-01, 1.2351e-01, 1.1893e-02, 2.9310e-01, 4.1962e-01,\n",
      "          5.1050e-03, 1.0002e-02, 7.3121e-06, 6.3788e-03, 1.4696e-02]]],\n",
      "       device='cuda:0')\n",
      "Train Epoch: 0 [6000/60000 (10%)]\tLoss: 183.719492\n",
      "Train Epoch: 0 [6100/60000 (10%)]\tpi_c: tensor([[[1.1986e-01, 7.3420e-02, 1.7126e-02, 2.5128e-01, 4.8687e-01,\n",
      "          9.4697e-03, 1.9993e-02, 7.7749e-06, 6.7489e-03, 1.5225e-02]]],\n",
      "       device='cuda:0')\n",
      "Train Epoch: 0 [6100/60000 (10%)]\tLoss: 196.981855\n",
      "Train Epoch: 0 [6200/60000 (10%)]\tpi_c: tensor([[[7.2325e-02, 5.7480e-02, 2.0836e-02, 3.1381e-01, 5.0817e-01,\n",
      "          1.4731e-02, 2.9861e-08, 4.6103e-06, 3.9492e-03, 8.7009e-03]]],\n",
      "       device='cuda:0')\n",
      "Train Epoch: 0 [6200/60000 (10%)]\tLoss: 190.864082\n",
      "Train Epoch: 0 [6300/60000 (10%)]\tpi_c: tensor([[[1.2953e-01, 4.0221e-02, 1.0683e-02, 3.1605e-01, 4.6639e-01,\n",
      "          2.1873e-02, 4.2083e-11, 4.2365e-06, 3.7517e-03, 1.1500e-02]]],\n",
      "       device='cuda:0')\n",
      "Train Epoch: 0 [6300/60000 (10%)]\tLoss: 191.678203\n",
      "Train Epoch: 0 [6400/60000 (11%)]\tpi_c: tensor([[[8.9320e-02, 5.6629e-02, 2.2236e-02, 3.1807e-01, 4.7765e-01,\n",
      "          2.1582e-02, 4.5101e-10, 5.9824e-06, 5.0003e-03, 9.5043e-03]]],\n",
      "       device='cuda:0')\n",
      "Train Epoch: 0 [6400/60000 (11%)]\tLoss: 186.872695\n",
      "Train Epoch: 0 [6500/60000 (11%)]\tpi_c: tensor([[[1.2741e-01, 5.7302e-02, 4.3397e-02, 2.7219e-01, 4.5956e-01,\n",
      "          2.2170e-02, 3.4105e-09, 8.7758e-06, 7.0771e-03, 1.0888e-02]]],\n",
      "       device='cuda:0')\n",
      "Train Epoch: 0 [6500/60000 (11%)]\tLoss: 197.322598\n",
      "Train Epoch: 0 [6600/60000 (11%)]\tpi_c: tensor([[[7.2455e-02, 7.3642e-02, 3.6562e-02, 2.2151e-01, 5.4117e-01,\n",
      "          4.0835e-02, 2.2359e-07, 7.1018e-06, 5.6960e-03, 8.1212e-03]]],\n",
      "       device='cuda:0')\n",
      "Train Epoch: 0 [6600/60000 (11%)]\tLoss: 195.267988\n",
      "Train Epoch: 0 [6700/60000 (11%)]\tpi_c: tensor([[[7.2629e-02, 8.9888e-02, 5.1063e-02, 1.6678e-01, 5.6279e-01,\n",
      "          4.5507e-02, 1.3803e-05, 7.2426e-06, 5.6920e-03, 5.6247e-03]]],\n",
      "       device='cuda:0')\n",
      "Train Epoch: 0 [6700/60000 (11%)]\tLoss: 185.070273\n",
      "Train Epoch: 0 [6800/60000 (11%)]\tpi_c: tensor([[[1.1626e-01, 3.5384e-02, 8.0220e-02, 1.0607e-01, 5.6304e-01,\n",
      "          7.2936e-02, 3.2958e-06, 1.8461e-05, 1.5037e-02, 1.1034e-02]]],\n",
      "       device='cuda:0')\n",
      "Train Epoch: 0 [6800/60000 (11%)]\tLoss: 195.748027\n",
      "Train Epoch: 0 [6900/60000 (12%)]\tpi_c: tensor([[[7.2394e-02, 1.1227e-01, 6.3488e-02, 1.4031e-01, 5.1021e-01,\n",
      "          7.5647e-02, 1.2233e-03, 1.3671e-05, 1.1432e-02, 1.3011e-02]]],\n",
      "       device='cuda:0')\n",
      "Train Epoch: 0 [6900/60000 (12%)]\tLoss: 192.024199\n",
      "Train Epoch: 0 [7000/60000 (12%)]\tpi_c: tensor([[[1.0049e-01, 3.9482e-02, 7.6417e-02, 2.0622e-01, 4.1893e-01,\n",
      "          1.2743e-01, 1.7255e-12, 2.1264e-05, 1.7758e-02, 1.3246e-02]]],\n",
      "       device='cuda:0')\n",
      "Train Epoch: 0 [7000/60000 (12%)]\tLoss: 195.966367\n",
      "Train Epoch: 0 [7100/60000 (12%)]\tpi_c: tensor([[[7.9167e-02, 5.0067e-02, 6.9077e-02, 1.7987e-01, 3.9757e-01,\n",
      "          1.8179e-01, 5.8398e-12, 2.8588e-05, 2.4012e-02, 1.8415e-02]]],\n",
      "       device='cuda:0')\n",
      "Train Epoch: 0 [7100/60000 (12%)]\tLoss: 190.084941\n",
      "Train Epoch: 0 [7200/60000 (12%)]\tpi_c: tensor([[[9.8958e-02, 1.0105e-02, 4.5515e-02, 1.3966e-01, 4.2715e-01,\n",
      "          2.1372e-01, 1.4173e-12, 3.8371e-05, 3.3520e-02, 3.1324e-02]]],\n",
      "       device='cuda:0')\n",
      "Train Epoch: 0 [7200/60000 (12%)]\tLoss: 195.109883\n",
      "Train Epoch: 0 [7300/60000 (12%)]\tpi_c: tensor([[[9.0923e-02, 9.9492e-03, 8.3872e-02, 1.7871e-01, 4.1033e-01,\n",
      "          2.0050e-01, 9.6622e-14, 1.5836e-05, 1.3636e-02, 1.2075e-02]]],\n",
      "       device='cuda:0')\n",
      "Train Epoch: 0 [7300/60000 (12%)]\tLoss: 194.900859\n",
      "Train Epoch: 0 [7400/60000 (12%)]\tpi_c: tensor([[[4.8749e-02, 1.9958e-02, 7.2783e-02, 1.3283e-01, 3.7111e-01,\n",
      "          2.7880e-01, 1.9383e-13, 4.4078e-05, 3.8686e-02, 3.7042e-02]]],\n",
      "       device='cuda:0')\n",
      "Train Epoch: 0 [7400/60000 (12%)]\tLoss: 182.502305\n",
      "Train Epoch: 0 [7500/60000 (12%)]\tpi_c: tensor([[[1.3976e-01, 2.0000e-02, 6.2679e-02, 5.3015e-02, 4.5888e-01,\n",
      "          2.3352e-01, 1.9423e-13, 2.0034e-05, 1.7277e-02, 1.4846e-02]]],\n",
      "       device='cuda:0')\n",
      "Train Epoch: 0 [7500/60000 (12%)]\tLoss: 192.248789\n",
      "Train Epoch: 0 [7600/60000 (13%)]\tpi_c: tensor([[[9.0697e-02, 0.0000e+00, 8.1815e-02, 4.8240e-02, 4.2460e-01,\n",
      "          3.0345e-01, 0.0000e+00, 3.1162e-05, 2.7053e-02, 2.4113e-02]]],\n",
      "       device='cuda:0')\n",
      "Train Epoch: 0 [7600/60000 (13%)]\tLoss: nan\n"
     ]
    },
    {
     "ename": "RuntimeError",
     "evalue": "CUDA error: device-side assert triggered",
     "output_type": "error",
     "traceback": [
      "\u001B[0;31m---------------------------------------------------------------------------\u001B[0m",
      "\u001B[0;31mRuntimeError\u001B[0m                              Traceback (most recent call last)",
      "\u001B[0;32m<ipython-input-34-d386c159f7a5>\u001B[0m in \u001B[0;36m<module>\u001B[0;34m\u001B[0m\n\u001B[1;32m      3\u001B[0m \u001B[0;34m\u001B[0m\u001B[0m\n\u001B[1;32m      4\u001B[0m     \u001B[0;31m#train_c(epoch=i,mu_c=mu_c_g,logvar_c=logvar_c_g,pi_c=pi_c_g)\u001B[0m\u001B[0;34m\u001B[0m\u001B[0;34m\u001B[0m\u001B[0;34m\u001B[0m\u001B[0m\n\u001B[0;32m----> 5\u001B[0;31m     \u001B[0mmu_c_g\u001B[0m\u001B[0;34m,\u001B[0m\u001B[0mlogvar_c_g\u001B[0m\u001B[0;34m,\u001B[0m\u001B[0mpi_c_g\u001B[0m \u001B[0;34m=\u001B[0m \u001B[0mtrain_c_adiabatic\u001B[0m\u001B[0;34m(\u001B[0m\u001B[0mepoch\u001B[0m\u001B[0;34m=\u001B[0m\u001B[0mi\u001B[0m\u001B[0;34m,\u001B[0m\u001B[0mmu_c_adiabatic\u001B[0m\u001B[0;34m=\u001B[0m\u001B[0mmu_c_g\u001B[0m\u001B[0;34m,\u001B[0m\u001B[0mlogvar_c_adiabatic\u001B[0m\u001B[0;34m=\u001B[0m\u001B[0mlogvar_c_g\u001B[0m\u001B[0;34m,\u001B[0m\u001B[0mpi_c_adiabatic\u001B[0m\u001B[0;34m=\u001B[0m\u001B[0mpi_c_g\u001B[0m\u001B[0;34m)\u001B[0m\u001B[0;34m\u001B[0m\u001B[0;34m\u001B[0m\u001B[0m\n\u001B[0m\u001B[1;32m      6\u001B[0m     \u001B[0mtest_c\u001B[0m\u001B[0;34m(\u001B[0m\u001B[0mepoch\u001B[0m\u001B[0;34m=\u001B[0m\u001B[0mi\u001B[0m\u001B[0;34m,\u001B[0m\u001B[0mmu_c\u001B[0m\u001B[0;34m=\u001B[0m\u001B[0mmu_c_g\u001B[0m\u001B[0;34m,\u001B[0m\u001B[0mlogvar_c\u001B[0m\u001B[0;34m=\u001B[0m\u001B[0mlogvar_c_g\u001B[0m\u001B[0;34m,\u001B[0m\u001B[0mpi_c\u001B[0m\u001B[0;34m=\u001B[0m\u001B[0mpi_c_g\u001B[0m\u001B[0;34m)\u001B[0m\u001B[0;34m\u001B[0m\u001B[0;34m\u001B[0m\u001B[0m\n\u001B[1;32m      7\u001B[0m     \u001B[0mscheduler\u001B[0m\u001B[0;34m.\u001B[0m\u001B[0mstep\u001B[0m\u001B[0;34m(\u001B[0m\u001B[0;34m)\u001B[0m\u001B[0;34m\u001B[0m\u001B[0;34m\u001B[0m\u001B[0m\n",
      "\u001B[0;32m<ipython-input-29-f6098edff471>\u001B[0m in \u001B[0;36mtrain_c_adiabatic\u001B[0;34m(epoch, mu_c_adiabatic, logvar_c_adiabatic, pi_c_adiabatic)\u001B[0m\n\u001B[1;32m     17\u001B[0m         \u001B[0mloss\u001B[0m\u001B[0;34m.\u001B[0m\u001B[0mbackward\u001B[0m\u001B[0;34m(\u001B[0m\u001B[0;34m)\u001B[0m\u001B[0;34m\u001B[0m\u001B[0;34m\u001B[0m\u001B[0m\n\u001B[1;32m     18\u001B[0m         \u001B[0;31m#傾きを計算\u001B[0m\u001B[0;34m\u001B[0m\u001B[0;34m\u001B[0m\u001B[0;34m\u001B[0m\u001B[0m\n\u001B[0;32m---> 19\u001B[0;31m         \u001B[0mtrain_loss\u001B[0m\u001B[0;34m+=\u001B[0m \u001B[0mloss\u001B[0m\u001B[0;34m.\u001B[0m\u001B[0mitem\u001B[0m\u001B[0;34m(\u001B[0m\u001B[0;34m)\u001B[0m\u001B[0;34m\u001B[0m\u001B[0;34m\u001B[0m\u001B[0m\n\u001B[0m\u001B[1;32m     20\u001B[0m         \u001B[0moptimizer\u001B[0m\u001B[0;34m.\u001B[0m\u001B[0mstep\u001B[0m\u001B[0;34m(\u001B[0m\u001B[0;34m)\u001B[0m\u001B[0;34m\u001B[0m\u001B[0;34m\u001B[0m\u001B[0m\n\u001B[1;32m     21\u001B[0m         \u001B[0;31m#NNパラメータの更新\u001B[0m\u001B[0;34m\u001B[0m\u001B[0;34m\u001B[0m\u001B[0;34m\u001B[0m\u001B[0m\n",
      "\u001B[0;31mRuntimeError\u001B[0m: CUDA error: device-side assert triggered"
     ]
    }
   ],
   "source": [
    "for i in range(1):\n",
    "    #train_c_epoch(epochs=1,mu_c=mu_c_g,logvar_c=logvar_c_g,pi_c=pi_c_g)\n",
    "\n",
    "    #train_c(epoch=i,mu_c=mu_c_g,logvar_c=logvar_c_g,pi_c=pi_c_g)\n",
    "    mu_c_g,logvar_c_g,pi_c_g = train_c_adiabatic(epoch=i,mu_c_adiabatic=mu_c_g,logvar_c_adiabatic=logvar_c_g,pi_c_adiabatic=pi_c_g)\n",
    "    test_c(epoch=i,mu_c=mu_c_g,logvar_c=logvar_c_g,pi_c=pi_c_g)\n",
    "    scheduler.step()\n",
    "    #zs_g,ts_g,mus_g,logvars_g = take_latents()\n",
    "\n",
    "    #mu_c_g,logvar_c_g,pi_c_g,Q_c_g,gamma_c_g,log_P_g = gauss(mus_g,logvars_g,mu_c_g,logvar_c_g,pi_c_g,50)\n",
    "#    mu_c_g,logvar_c_g,pi_c_g,Q_c_g,gamma_c_g,log_P_g = gauss_z(zs_g,mu_c_g,logvar_c_g,pi_c_g,50)\n",
    "\n",
    "\n",
    "\n",
    "#(lo\n",
    "# gvars_g.exp()).mean(0,keepdim=True).shape\n",
    "#logvar_c_g.exp().shape\n",
    "#(logvars_g.exp()/logvar_c_g.exp())[0,:,0]\n",
    "#(-0.5*Q_c_g.sum(1,keepdim=True)).exp()\n",
    "#(((mus_g-mu_c_g).pow(2))/(logvar_c_g.exp())).mean(0,keepdim=True),(logvars_g.exp()).mean(0,keepdim=True)\n",
    "#logvar_c_g.exp()+(logvars_g.exp()).mean(0,keepdim=True)\n",
    "pi_c_g"
   ],
   "metadata": {
    "collapsed": false,
    "pycharm": {
     "name": "#%%\n"
    }
   }
  },
  {
   "cell_type": "code",
   "execution_count": 306,
   "outputs": [
    {
     "data": {
      "text/plain": "tensor([0.1119, 0.1751, 0.0448, 0.0632, 0.0836, 0.0553, 0.2890, 0.0496, 0.0668,\n        0.0609], device='cuda:0')"
     },
     "execution_count": 306,
     "metadata": {},
     "output_type": "execute_result"
    }
   ],
   "source": [
    "pi_c_g[0,0,:]"
   ],
   "metadata": {
    "collapsed": false,
    "pycharm": {
     "name": "#%%\n"
    }
   }
  },
  {
   "cell_type": "code",
   "execution_count": 307,
   "outputs": [
    {
     "data": {
      "text/plain": "<Figure size 432x288 with 1 Axes>",
      "image/png": "[encoded data removed]"
     },
     "metadata": {
      "needs_background": "light"
     },
     "output_type": "display_data"
    }
   ],
   "source": [
    "points = TSNE(n_components=2,random_state=0).fit_transform(mus_g.view(-1,latent_dim).cpu().detach().numpy())\n",
    "drawpoints(points,ts_g.cpu().detach().numpy())"
   ],
   "metadata": {
    "collapsed": false,
    "pycharm": {
     "name": "#%%\n"
    }
   }
  },
  {
   "cell_type": "code",
   "execution_count": 308,
   "outputs": [
    {
     "data": {
      "text/plain": "<Figure size 432x288 with 1 Axes>",
      "image/png": "[encoded data removed]"
     },
     "metadata": {
      "needs_background": "light"
     },
     "output_type": "display_data"
    }
   ],
   "source": [
    "drawpoints(points,torch.argmax(gamma_c_g,2).view(-1).cpu().detach().numpy())"
   ],
   "metadata": {
    "collapsed": false,
    "pycharm": {
     "name": "#%%\n"
    }
   }
  },
  {
   "cell_type": "code",
   "execution_count": 309,
   "outputs": [
    {
     "data": {
      "text/plain": "<Figure size 432x288 with 1 Axes>",
      "image/png": "[encoded data removed]"
     },
     "metadata": {
      "needs_background": "light"
     },
     "output_type": "display_data"
    }
   ],
   "source": [
    "kmeans_model = KMeans(n_clusters=K_model_cluster, random_state=1).fit(mus_g.view(-1,latent_dim).cpu().detach().numpy())\n",
    "drawpoints(points,kmeans_model.labels_)"
   ],
   "metadata": {
    "collapsed": false,
    "pycharm": {
     "name": "#%%\n"
    }
   }
  },
  {
   "cell_type": "code",
   "execution_count": 310,
   "outputs": [
    {
     "data": {
      "text/plain": "<Figure size 432x288 with 1 Axes>",
      "image/png": "[encoded data removed]"
     },
     "metadata": {
      "needs_background": "light"
     },
     "output_type": "display_data"
    }
   ],
   "source": [
    "gauss_model = GaussianMixture(n_components=K_model_cluster,covariance_type='diag',random_state=1).fit(mus_g.view(-1,latent_dim).cpu().detach().numpy())\n",
    "drawpoints(points,gauss_model.predict(mus_g.view(-1,latent_dim).cpu().detach().numpy()))"
   ],
   "metadata": {
    "collapsed": false,
    "pycharm": {
     "name": "#%%\n"
    }
   }
  },
  {
   "cell_type": "code",
   "execution_count": 311,
   "outputs": [],
   "source": [
    "show_generated_samples_c(mu_c_g,logvar_c_g)"
   ],
   "metadata": {
    "collapsed": false,
    "pycharm": {
     "name": "#%%\n"
    }
   }
  },
  {
   "cell_type": "code",
   "execution_count": 312,
   "outputs": [
    {
     "data": {
      "text/plain": "5.562567788873875e-05"
     },
     "execution_count": 312,
     "metadata": {},
     "output_type": "execute_result"
    }
   ],
   "source": [
    "optimizer.param_groups[0]['lr']"
   ],
   "metadata": {
    "collapsed": false,
    "pycharm": {
     "name": "#%%\n"
    }
   }
  },
  {
   "cell_type": "code",
   "execution_count": 109,
   "outputs": [],
   "source": [
    "\n",
    "mu_c_g = torch.from_numpy(kmeans_model.cluster_centers_).to(device)"
   ],
   "metadata": {
    "collapsed": false,
    "pycharm": {
     "name": "#%%\n"
    }
   }
  },
  {
   "cell_type": "code",
   "execution_count": 184,
   "outputs": [],
   "source": [
    "mu_c_g = mu_c_g.view(1,latent_dim,K_model_cluster)"
   ],
   "metadata": {
    "collapsed": false,
    "pycharm": {
     "name": "#%%\n"
    }
   }
  },
  {
   "cell_type": "code",
   "execution_count": 186,
   "outputs": [
    {
     "data": {
      "text/plain": "torch.Size([1, 10, 10])"
     },
     "execution_count": 186,
     "metadata": {},
     "output_type": "execute_result"
    }
   ],
   "source": [
    "mu_c_g.shape"
   ],
   "metadata": {
    "collapsed": false,
    "pycharm": {
     "name": "#%%\n"
    }
   }
  },
  {
   "cell_type": "code",
   "execution_count": null,
   "outputs": [],
   "source": [],
   "metadata": {
    "collapsed": false,
    "pycharm": {
     "name": "#%%\n"
    }
   }
  }
 ],
 "metadata": {
  "kernelspec": {
   "name": "pycharm-9c5a4569",
   "language": "python",
   "display_name": "PyCharm (auto_encoder)"
  },
  "language_info": {
   "codemirror_mode": {
    "name": "ipython",
    "version": 2
   },
   "file_extension": ".py",
   "mimetype": "text/x-python",
   "name": "python",
   "nbconvert_exporter": "python",
   "pygments_lexer": "ipython2",
   "version": "2.7.6"
  },
  "pycharm": {
   "stem_cell": {
    "cell_type": "raw",
    "source": [
     "#毎バッヂごとにGMMクラスタリングを行う方法。すぐにpi_cのうち一つが０になり、計算が進まない。このような方法がうまく行かないのか、何かバグがあるのか判然としない。一旦おいておいて、SGD的な方法に移る。何か知見が得られれば戻ってくるかもしれない。２０２０年１１月４日０時４１分"
    ],
    "metadata": {
     "collapsed": false
    }
   }
  }
 },
 "nbformat": 4,
 "nbformat_minor": 0
}