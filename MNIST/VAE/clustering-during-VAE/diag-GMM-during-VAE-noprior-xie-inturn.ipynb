{
 "cells": [
  {
   "cell_type": "code",
   "execution_count": 108,
   "outputs": [],
   "source": [
    "from __future__ import print_function\n",
    "import argparse\n",
    "import torch\n",
    "import torch.utils.data\n",
    "from torch import nn, optim\n",
    "from torch.nn import functional as F\n",
    "from torchvision import datasets, transforms\n",
    "from torchvision.utils import save_image\n",
    "\n",
    "%matplotlib inline\n",
    "import matplotlib.pyplot as plt\n",
    "from torch.distributions.multivariate_normal import MultivariateNormal\n",
    "import numpy as np\n",
    "\n",
    "\n",
    "from sklearn.manifold import TSNE\n",
    "from random import random\n",
    "from sklearn.mixture import GaussianMixture\n",
    "from sklearn.mixture import BayesianGaussianMixture\n",
    "from sklearn.cluster import KMeans"
   ],
   "metadata": {
    "collapsed": false,
    "pycharm": {
     "name": "#%%\n"
    }
   }
  },
  {
   "cell_type": "code",
   "execution_count": 142,
   "outputs": [],
   "source": [
    "batch_size = 100\n",
    "take_latent_max =10\n",
    "num_epoch = 10\n",
    "input_dim=28*28\n",
    "output_dim=input_dim\n",
    "en_hidden1_dim = 500\n",
    "en_hidden2_dim = 500\n",
    "en_hidden3_dim = 2000\n",
    "latent_dim= 10\n",
    "de_hidden1_dim = 2000\n",
    "de_hidden2_dim = 500\n",
    "de_hidden3_dim = 500\n",
    "\n",
    "\n",
    "log_interval = 600\n",
    "\n",
    "K_model_cluster = 10\n",
    "\n",
    "beta= 1.\n",
    "\n",
    "save_folder = 'inturn-results'\n",
    "\n",
    "KMeans_random_state = 10\n",
    "Gaussian_random_state = 100"
   ],
   "metadata": {
    "collapsed": false,
    "pycharm": {
     "name": "#%%\n"
    }
   }
  },
  {
   "cell_type": "code",
   "execution_count": 53,
   "outputs": [],
   "source": [
    "device = 'cuda'\n",
    "kwargs = {'num_workers':1, 'pin_memory':True}\n",
    "\n",
    "train_loader = torch.utils.data.DataLoader(\n",
    "    datasets.MNIST('../data',train=True,download=True,\n",
    "                   transform=transforms.ToTensor()),\n",
    "    batch_size=batch_size,shuffle=True,**kwargs)\n",
    "\n",
    "test_loader = torch.utils.data.DataLoader(\n",
    "    datasets.MNIST('../data',train=False,transform=transforms.ToTensor()),\n",
    "    batch_size=batch_size,shuffle=True,**kwargs)"
   ],
   "metadata": {
    "collapsed": false,
    "pycharm": {
     "name": "#%%\n"
    }
   }
  },
  {
   "cell_type": "code",
   "execution_count": 160,
   "outputs": [],
   "source": [
    "class VAE(nn.Module):\n",
    "    def __init__(self):\n",
    "        super(VAE, self).__init__()\n",
    "\n",
    "        self.input_layer = nn.Linear(input_dim,en_hidden1_dim)##728 => 500 for MNIST\n",
    "        self.encode1_layer = nn.Linear(en_hidden1_dim,en_hidden2_dim)##500 => 500 for MNIST\n",
    "        self.encode2_layer = nn.Linear(en_hidden2_dim,en_hidden3_dim)##500 => 2000 for MNIST\n",
    "        self.mu_layer = nn.Linear(en_hidden3_dim,latent_dim)##2000 => 10 for MNIST\n",
    "        self.std_layer = nn.Linear(en_hidden3_dim,latent_dim)##2000 => 10 for MNIST\n",
    "        self.decode1_layer = nn.Linear(latent_dim,de_hidden1_dim)##10 => 2000 for MNIST\n",
    "        self.decode2_layer = nn.Linear(de_hidden1_dim,de_hidden2_dim)##2000 => 500 for MNIST\n",
    "        self.decode3_layer = nn.Linear(de_hidden2_dim,de_hidden3_dim)##500 => 500 for MNIST\n",
    "        self.output_layer = nn.Linear(de_hidden3_dim,output_dim)##500 => 728 for MNIST\n",
    "\n",
    "    def encode(self, x):\n",
    "        en_h1 = F.relu(self.input_layer(x))\n",
    "        en_h2 = F.relu(self.encode1_layer(en_h1))\n",
    "        en_h3 = F.relu(self.encode2_layer(en_h2))\n",
    "        return self.mu_layer(en_h3), self.std_layer(en_h3)\n",
    "    #入力から中心と分散の対数を作っている\n",
    "\n",
    "    def reparameterize(self,mu,logvar):\n",
    "        std = torch.exp(0.5*logvar)\n",
    "        eps = torch.randn_like(std)\n",
    "        #torch.randn_like(std)はstdと同じ次元の正規乱数を与えている。N(0,1)**size(std).ただし、標準偏差は対角的。\n",
    "        return mu + eps*std\n",
    "    #zの値を確率的に作っている。\n",
    "\n",
    "    def decode(self,z):\n",
    "        de_h1 = F.relu(self.decode1_layer(z))\n",
    "        de_h2 = F.relu(self.decode2_layer(de_h1))\n",
    "        de_h3 = F.relu(self.decode3_layer(de_h2))\n",
    "        return torch.sigmoid(self.output_layer(de_h3))\n",
    "    #zからNNを通したあとに、sigmoidで押し込んでxの値を作っている\n",
    "\n",
    "    def forward(self, x):\n",
    "        mu, logvar = self.encode(x.view(-1,784))\n",
    "        z = self.reparameterize(mu, logvar)\n",
    "        return self.decode(z),mu,logvar,z\n",
    "    #出力はxの予測値とzを算出するときの中心と分散になっている\n",
    "\n",
    "model = VAE().to(device)\n",
    "optimizer = optim.Adam(model.parameters(),lr=0.002)\n",
    "scheduler = torch.optim.lr_scheduler.StepLR(optimizer,step_size=10,gamma=0.9)"
   ],
   "metadata": {
    "collapsed": false,
    "pycharm": {
     "name": "#%%\n"
    }
   }
  },
  {
   "cell_type": "code",
   "execution_count": 55,
   "outputs": [],
   "source": [
    "def loss_function(recon_x,x,mu,logvar):\n",
    "    BCE = F.binary_cross_entropy(recon_x,x.view(-1,784),reduction='sum')\n",
    "    #recon_xはsigmoidをdecordeで通されているので、[0,1]になっている。\n",
    "    KLD = -0.5*torch.sum(1+logvar-mu.pow(2)-logvar.exp())\n",
    "\n",
    "    return BCE+beta*KLD\n",
    "\n"
   ],
   "metadata": {
    "collapsed": false,
    "pycharm": {
     "name": "#%%\n"
    }
   }
  },
  {
   "cell_type": "code",
   "execution_count": 56,
   "outputs": [],
   "source": [
    "def train(epoch):\n",
    "    model.train()\n",
    "    train_loss = 0\n",
    "    for batch_idx, (data,_) in enumerate(train_loader):\n",
    "        #ラベルは使わないようだ\n",
    "        data = data.to(device)\n",
    "        #データをGPUにおくる\n",
    "        optimizer.zero_grad()\n",
    "        #傾きの初期化\n",
    "        recon_batch, mu, logvar,z = model(data)\n",
    "        #VAEからバッヂ分のデータと中心と分散のログを受け取る\n",
    "        loss = loss_function(recon_batch,data,mu,logvar)\n",
    "        #バッヂ分のロスを計算。バッヂ数で割っていないようだ。書き出しのときにデータ数で割っている。\n",
    "        loss.backward()\n",
    "        #傾きを計算\n",
    "        train_loss+= loss.item()\n",
    "        optimizer.step()\n",
    "        #パラメータの更新\n",
    "        if batch_idx % log_interval ==0:\n",
    "            #一定間隔でロスを書き出し。epochはここでしか使っていないようだ。\n",
    "            print('Train Epoch: {} [{}/{} ({:.0f}%)]\\tLoss: {:.6f}'.format(\n",
    "              epoch,batch_idx*len(data),len(train_loader.dataset),\n",
    "                100.*batch_idx/len(train_loader),\n",
    "                loss.item()/len(data)\n",
    "            ))"
   ],
   "metadata": {
    "collapsed": false,
    "pycharm": {
     "name": "#%%\n"
    }
   }
  },
  {
   "cell_type": "code",
   "execution_count": 57,
   "outputs": [],
   "source": [
    "def test(epoch):\n",
    "    model.eval()\n",
    "    test_loss = 0\n",
    "    with torch.no_grad():#バックプロパゲーションを行わないから、微分情報を残さない\n",
    "        for i, (data, _) in enumerate(test_loader):\n",
    "            #テストデータを取り出す。ラベルはいらない。\n",
    "            data =data.to(device)\n",
    "            #データをGPUに送る\n",
    "            recon_batch, mu, logvar,z = model(data)\n",
    "            #データからバッヂ分の再現画像と中心と分散の対数を出している。\n",
    "            test_loss += loss_function(recon_batch,data,mu,logvar).item()\n",
    "            #テストデータでのロスを出している\n",
    "            if i == 0:\n",
    "                #はじめのバッヂについて\n",
    "                n = min(data.size(0),16)\n",
    "                #nをバッヂのデータ数か８との小さい方として\n",
    "                comparizon = torch.cat([data[:n],recon_batch.view(batch_size,1,28,28)[:n]])\n",
    "                #元データと再現データを並べる\n",
    "                save_image(comparizon.cpu(),'./'+save_folder+'/reconstruction_' + str(epoch) + '.png',nrow=n)\n",
    "\n",
    "                test_loss /= len(test_loader.dataset)\n",
    "                print('====> Test set loss: {:.4f}'.format(test_loss))"
   ],
   "metadata": {
    "collapsed": false,
    "pycharm": {
     "name": "#%%\n"
    }
   }
  },
  {
   "cell_type": "code",
   "execution_count": 62,
   "outputs": [],
   "source": [
    "def initial_train(epochs):\n",
    "    for epoch in range(1, epochs +1):\n",
    "        train(epoch)\n",
    "        test(epoch)\n",
    "        scheduler.step()\n",
    "        with torch.no_grad():\n",
    "            sample = torch.randn(64,latent_dim).to(device)\n",
    "        #20次元の潜在空間のデータを64個作成して、GPUに送る\n",
    "            sample = model.decode(sample).cpu()\n",
    "        #ランダムな潜在変数から画像を生成する。\n",
    "            save_image(sample.view(64,1,28,28),save_folder+'/sample_' + str(epoch) + '.png',nrow=8)\n",
    "        #生成した６４個のデータを記録しておく\n"
   ],
   "metadata": {
    "collapsed": false,
    "pycharm": {
     "name": "#%%\n"
    }
   }
  },
  {
   "cell_type": "code",
   "execution_count": 9,
   "outputs": [],
   "source": [
    "def take_latents():\n",
    "    zs = torch.empty(0,latent_dim,1).to(device).requires_grad_(False)\n",
    "    ts = torch.empty(0,dtype=torch.long).to(device).requires_grad_(False)\n",
    "    mus = torch.empty(0,latent_dim,1).to(device).requires_grad_(False)\n",
    "    logvars = torch.empty(0,latent_dim,1).to(device).requires_grad_(False)\n",
    "#zs = []\n",
    "#ts = []\n",
    "\n",
    "#ts.dtype = torch.int\n",
    "\n",
    "    #for x, t in test_loader:\n",
    "    for batch_idx, (x,t) in enumerate(test_loader):\n",
    "    # original。xがデータ、tがラベル。\n",
    "    #for i, im in enumerate(x.view(-1, 28, 28).detach().numpy()[:10]):\n",
    "    #  ax = fig.add_subplot(3, 10, i+1, xticks=[], yticks=[])\n",
    "    #  ax.imshow(im, 'gray')\n",
    "    #x = x.to(device)\n",
    "    # generate from x\n",
    "        if batch_idx < take_latent_max:\n",
    "            x = x.to(device)\n",
    "            with torch.no_grad():\n",
    "                recon_batch,mu,logvar, z = model(x)\n",
    "            t = t.to(device)\n",
    "    #zs.append(z)\n",
    "    #ts.append(t)\n",
    "            zs = torch.cat((zs,z.view(-1,latent_dim,1)),0)\n",
    "            ts = torch.cat((ts,t),0)\n",
    "            mus = torch.cat((mus,mu.view(-1,latent_dim,1)),0)\n",
    "            logvars = torch.cat((logvars,logvar.view(-1,latent_dim,1)),0)\n",
    "    #y = y.view(-1, 28, 28)\n",
    "    #for i, im in enumerate(y.cpu().detach().numpy()[:10]):\n",
    "     # ax = fig.add_subplot(3, 10, i+11, xticks=[], yticks=[])\n",
    "     # ax.imshow(im, 'gray')\n",
    "    return zs,ts,mus,logvars"
   ],
   "metadata": {
    "collapsed": false,
    "pycharm": {
     "name": "#%%\n"
    }
   }
  },
  {
   "cell_type": "code",
   "execution_count": 10,
   "outputs": [],
   "source": [
    "def initialize_centers():\n",
    "\n",
    "    #mu_center = mus.mean(0,keepdim=True).detach().requires_grad_(False)\n",
    "    #mus_white = mus.detach().requires_grad_(False)-mu_center\n",
    "    #cov_mus = torch.matmul(mus_white.squeeze(2).t(),mus_white.squeeze(2))/mus.shape[0]\n",
    "\n",
    "    #mu_distribution = MultivariateNormal(loc=mu_center.view(-1,latent_dim),covariance_matrix=cov_mus)\n",
    "    #mu_c = mu_distribution.sample([K_model_cluster,])\n",
    "    #mu_c = mu_c.permute(1,2,0)\n",
    "\n",
    "    #logvar_c = torch.diag(cov_mus).log()\n",
    "    #logvar_c = logvar_c.view(1,latent_dim,1)\n",
    "    #logvar_c = logvar_c.repeat(1,1,K_model_cluster)\n",
    "\n",
    "    #mu_distribution = MultivariateNormal(loc=torch.zeros(latent_dim),covariance_matrix=torch.eye(latent_dim))\n",
    "    #mu_c = mu_distribution.sample([K_model_cluster,])\n",
    "    #mu_c = mu_c.permute(1,0)\n",
    "    #mu_c = mu_c.view(1,latent_dim,K_model_cluster).to(device)\n",
    "\n",
    "\n",
    "    mu_c = torch.randn(1,latent_dim,K_model_cluster,device=device)\n",
    "\n",
    "    logvar_c = torch.zeros(1,latent_dim,K_model_cluster).to(device).requires_grad_(False)\n",
    "\n",
    "    pi_c = torch.full((1,1,K_model_cluster),1./K_model_cluster).to(device).requires_grad_(False)\n",
    "\n",
    "    return mu_c,logvar_c,pi_c"
   ],
   "metadata": {
    "collapsed": false,
    "pycharm": {
     "name": "#%%\n"
    }
   }
  },
  {
   "cell_type": "code",
   "execution_count": 11,
   "outputs": [],
   "source": [
    "def gauss(mus,logvars,mu_c,logvar_c,pi_c,iter):\n",
    "    #mus = mus_ini\n",
    "    #logvars = logvars_ini\n",
    "    #mu_c = mu_c_ini\n",
    "    #logvar_c = logvar_c_ini\n",
    "    #pi_c = pi_c_ini\n",
    "\n",
    "    for i in range(iter):\n",
    "        with torch.no_grad():\n",
    "            Q_c = logvar_c+(logvars.exp()+(mus-mu_c).pow(2))/(logvar_c.exp())\n",
    "\n",
    "            gamma_c = (pi_c*((-0.5*Q_c.sum(1,keepdim=True)).exp()))/(pi_c*((-0.5*Q_c.sum(1,keepdim=True)).exp())).sum(2,keepdim=True)\n",
    "\n",
    "            N_c = gamma_c.sum(0,keepdim=True)\n",
    "            log_P = (((pi_c*((-0.5*Q_c.sum(1,keepdim=True)).exp())).sum(2).squeeze()).log()).sum()/(Q_c.shape)[0]\n",
    "            pi_c= N_c/N_c.sum()\n",
    "            mu_c=(gamma_c*mus).sum(0,keepdim=True)/N_c\n",
    "            logvar_c=((gamma_c*((mus-mu_c).pow(2)+logvars.exp())).sum(0,keepdim=True)/N_c).log()\n",
    "\n",
    "\n",
    "    return mu_c,logvar_c,pi_c,Q_c,gamma_c,log_P"
   ],
   "metadata": {
    "collapsed": false,
    "pycharm": {
     "name": "#%%\n"
    }
   }
  },
  {
   "cell_type": "code",
   "execution_count": 12,
   "outputs": [],
   "source": [
    "def drawpoints(mus_numpy,ts_numpy):\n",
    "    colors = [\"red\", \"green\", \"blue\", \"orange\", \"purple\", \"brown\", \"fuchsia\", \"grey\", \"olive\", \"lightblue\"]\n",
    "    for p,l in zip(points,ts_numpy):\n",
    "        plt.scatter(p[0],p[1],marker=\"${}$\".format(l),c=colors[l])"
   ],
   "metadata": {
    "collapsed": false,
    "pycharm": {
     "name": "#%%\n"
    }
   }
  },
  {
   "cell_type": "code",
   "execution_count": 13,
   "outputs": [],
   "source": [
    "def show_generated_samples_c(mu_c,logvar_c):\n",
    "    for i in range(K_model_cluster):\n",
    "        with torch.no_grad():\n",
    "            sample_dist = MultivariateNormal(loc=mu_c[:,:,i],covariance_matrix=torch.diag(logvar_c[0,:,i].exp()))\n",
    "    #mu_distribution = MultivariateNormal(loc=mu_center.cpu(),covariance_matrix=cov_mus.cpu())\n",
    "            sample = sample_dist.sample([64,])\n",
    "#    sample = torch.randn(64,latent_dim).to(device)\n",
    "        #20次元の潜在空間のデータを64個作成して、GPUに送る\n",
    "            sample = model.decode(sample).cpu()\n",
    "        #ランダムな潜在変数から画像を生成する。\n",
    "            save_image(sample.view(64,1,28,28),save_folder+'/sample_c_' + str(i) + '.png',nrow=8)\n",
    "        #生成した６４個のデータを記録しておく"
   ],
   "metadata": {
    "collapsed": false,
    "pycharm": {
     "name": "#%%\n"
    }
   }
  },
  {
   "cell_type": "code",
   "execution_count": 14,
   "outputs": [],
   "source": [
    "def loss_function_c(recon_x,x,mus_f,logvars_f,mu_c_f,logvar_c_f,pi_c_f):\n",
    "    BCE = F.binary_cross_entropy(recon_x,x.view(-1,784),reduction='sum')\n",
    "    #recon_xはsigmoidをdecordeで通されているので、[0,1]になっている。\n",
    "    #KLD = -0.5*torch.sum(1+logvar-mu.pow(2)-logvar.exp())\n",
    "    #Q_c_f = -logvars_f+logvar_c_f+logvars_f.exp()/(logvar_c_f.exp())+(mus_f-mu_c_f).pow(2)/(logvar_c_f.exp())\n",
    "    #KLD = (((pi_c_f*((-0.5*(-logvars_f+logvar_c_f+logvars_f.exp()/(logvar_c_f.exp())+(mus_f-mu_c_f).pow(2)/(logvar_c_f.exp())).sum(1,keepdim=True)).exp())).sum(2).squeeze()).log()).sum()\n",
    "    KLD = -0.5*(1+logvars_f).sum() -(((pi_c_f*(-0.5*((logvar_c_f+(logvars_f.exp()+(mus_f-mu_c_f).pow(2))/logvar_c_f.exp()).sum(1,keepdim=True))).exp()).sum(2,keepdim=True)).log()).sum()#+(logvars_f.exp()+(mus_f-mu_c_f).pow(2))/(logvar_c_f.exp()))\n",
    "\n",
    "    return BCE+beta*KLD"
   ],
   "metadata": {
    "collapsed": false,
    "pycharm": {
     "name": "#%%\n"
    }
   }
  },
  {
   "cell_type": "code",
   "execution_count": 15,
   "outputs": [],
   "source": [
    "def train_c(epoch,mu_c,logvar_c,pi_c):\n",
    "    model.train()\n",
    "    train_loss = 0\n",
    "    for batch_idx, (data,_) in enumerate(train_loader):\n",
    "        #ラベルは使わないようだ\n",
    "        data = data.to(device)\n",
    "        #データをGPUにおくる\n",
    "        optimizer.zero_grad()\n",
    "        #傾きの初期化\n",
    "        recon_batch, mu, logvar,z = model(data)\n",
    "        #VAEからバッヂ分のデータと中心と分散のログを受け取る\n",
    "        loss = loss_function_c(recon_x=recon_batch,x=data,mus_f=mu.view(-1,latent_dim,1),logvars_f=logvar.view(-1,latent_dim,1),mu_c_f=mu_c,logvar_c_f=logvar_c,pi_c_f=pi_c)\n",
    "        #バッヂ分のロスを計算。バッヂ数で割っていないようだ。書き出しのときにデータ数で割っている。\n",
    "        loss.backward()\n",
    "        #傾きを計算\n",
    "        train_loss+= loss.item()\n",
    "        optimizer.step()\n",
    "        #パラメータの更新\n",
    "        if batch_idx % log_interval ==0:\n",
    "            #一定間隔でロスを書き出し。epochはここでしか使っていないようだ。len()は最初の次元の大きさを出すのでバッヂの大きさ。\n",
    "            print('Train Epoch: {} [{}/{} ({:.0f}%)]\\tLoss: {:.6f}'.format(\n",
    "              epoch,batch_idx*len(data),len(train_loader.dataset),\n",
    "                100.*batch_idx/len(train_loader),\n",
    "                loss.item()/len(data)\n",
    "            ))"
   ],
   "metadata": {
    "collapsed": false,
    "pycharm": {
     "name": "#%%\n"
    }
   }
  },
  {
   "cell_type": "code",
   "execution_count": 16,
   "outputs": [],
   "source": [
    "def test_c(epoch,mu_c,logvar_c,pi_c):\n",
    "    model.eval()\n",
    "    test_loss = 0\n",
    "    with torch.no_grad():#バックプロパゲーションを行わないから、微分情報を残さない\n",
    "        for i, (data, _) in enumerate(test_loader):\n",
    "            #テストデータを取り出す。ラベルはいらない。\n",
    "            data =data.to(device)\n",
    "            #データをGPUに送る\n",
    "            recon_batch, mu, logvar,z = model(data)\n",
    "            #データからバッヂ分の再現画像と中心と分散の対数を出している。\n",
    "            test_loss += loss_function_c(recon_x=recon_batch,x=data,mus_f=mu.view(-1,latent_dim,1),logvars_f=logvar.view(-1,latent_dim,1),mu_c_f=mu_c,logvar_c_f=logvar_c,pi_c_f=pi_c).item()\n",
    "            #テストデータでのロスを出している\n",
    "            if i == 0:\n",
    "                #はじめのバッヂについて\n",
    "                n = min(data.size(0),16)\n",
    "                #nをバッヂのデータ数か８との小さい方として\n",
    "                comparizon = torch.cat([data[:n],recon_batch.view(batch_size,1,28,28)[:n]])\n",
    "                #元データと再現データを並べる\n",
    "                save_image(comparizon.cpu(),'./'+save_folder+'/reconstruction_c_' + str(epoch) + '.png',nrow=n)\n",
    "\n",
    "                test_loss /= len(test_loader.dataset)\n",
    "                print('====> Test set loss: {:.4f}'.format(test_loss))"
   ],
   "metadata": {
    "collapsed": false,
    "pycharm": {
     "name": "#%%\n"
    }
   }
  },
  {
   "cell_type": "code",
   "execution_count": 59,
   "outputs": [],
   "source": [
    "def train_c_epoch(epochs,mu_c,logvar_c,pi_c):\n",
    "    for epoch in range(1, epochs +1):\n",
    "        train_c(epoch,mu_c,logvar_c,pi_c)\n",
    "        test_c(epoch,mu_c,logvar_c,pi_c)\n",
    "        with torch.no_grad():\n",
    "            sample = torch.randn(64,latent_dim).to(device)\n",
    "        #20次元の潜在空間のデータを64個作成して、GPUに送る\n",
    "            sample = model.decode(sample).cpu()\n",
    "        #ランダムな潜在変数から画像を生成する。\n",
    "            save_image(sample.view(64,1,28,28),save_folder+'/sample_c_epoch_' + str(epoch) + '.png',nrow=8)\n",
    "        #生成した６４個のデータを記録しておく"
   ],
   "metadata": {
    "collapsed": false,
    "pycharm": {
     "name": "#%%\n"
    }
   }
  },
  {
   "cell_type": "code",
   "execution_count": 170,
   "outputs": [],
   "source": [
    "beta = 1."
   ],
   "metadata": {
    "collapsed": false,
    "pycharm": {
     "name": "#%%\n"
    }
   }
  },
  {
   "cell_type": "code",
   "execution_count": 171,
   "outputs": [
    {
     "name": "stdout",
     "output_type": "stream",
     "text": [
      "Train Epoch: 1 [0/60000 (0%)]\tLoss: 318.893750\n",
      "====> Test set loss: 1.1053\n",
      "Train Epoch: 2 [0/60000 (0%)]\tLoss: 104.041738\n",
      "====> Test set loss: 1.0123\n",
      "Train Epoch: 3 [0/60000 (0%)]\tLoss: 98.287754\n",
      "====> Test set loss: 1.0075\n",
      "Train Epoch: 4 [0/60000 (0%)]\tLoss: 95.782871\n",
      "====> Test set loss: 1.0770\n",
      "Train Epoch: 5 [0/60000 (0%)]\tLoss: 91.289678\n",
      "====> Test set loss: 1.0786\n",
      "Train Epoch: 6 [0/60000 (0%)]\tLoss: 97.477432\n",
      "====> Test set loss: 1.0209\n",
      "Train Epoch: 7 [0/60000 (0%)]\tLoss: 97.424785\n",
      "====> Test set loss: 1.0950\n",
      "Train Epoch: 8 [0/60000 (0%)]\tLoss: 98.048691\n",
      "====> Test set loss: 1.0662\n",
      "Train Epoch: 9 [0/60000 (0%)]\tLoss: 96.989063\n",
      "====> Test set loss: 1.0739\n",
      "Train Epoch: 10 [0/60000 (0%)]\tLoss: 95.449482\n",
      "====> Test set loss: 1.0978\n",
      "Train Epoch: 11 [0/60000 (0%)]\tLoss: 95.380371\n",
      "====> Test set loss: 1.0455\n",
      "Train Epoch: 12 [0/60000 (0%)]\tLoss: 95.694609\n",
      "====> Test set loss: 0.9643\n",
      "Train Epoch: 13 [0/60000 (0%)]\tLoss: 98.051982\n",
      "====> Test set loss: 1.0539\n",
      "Train Epoch: 14 [0/60000 (0%)]\tLoss: 91.898223\n",
      "====> Test set loss: 1.0042\n",
      "Train Epoch: 15 [0/60000 (0%)]\tLoss: 90.960947\n",
      "====> Test set loss: 1.0462\n",
      "Train Epoch: 16 [0/60000 (0%)]\tLoss: 86.316572\n",
      "====> Test set loss: 1.1069\n",
      "Train Epoch: 17 [0/60000 (0%)]\tLoss: 96.217617\n",
      "====> Test set loss: 1.0851\n",
      "Train Epoch: 18 [0/60000 (0%)]\tLoss: 91.638447\n",
      "====> Test set loss: 1.0551\n",
      "Train Epoch: 19 [0/60000 (0%)]\tLoss: 96.825635\n",
      "====> Test set loss: 1.0307\n",
      "Train Epoch: 20 [0/60000 (0%)]\tLoss: 96.587012\n",
      "====> Test set loss: 0.9864\n",
      "Train Epoch: 21 [0/60000 (0%)]\tLoss: 95.476055\n",
      "====> Test set loss: 1.0454\n",
      "Train Epoch: 22 [0/60000 (0%)]\tLoss: 94.814922\n",
      "====> Test set loss: 1.0251\n",
      "Train Epoch: 23 [0/60000 (0%)]\tLoss: 90.843008\n",
      "====> Test set loss: 0.9874\n",
      "Train Epoch: 24 [0/60000 (0%)]\tLoss: 95.539619\n",
      "====> Test set loss: 1.0269\n",
      "Train Epoch: 25 [0/60000 (0%)]\tLoss: 92.281914\n",
      "====> Test set loss: 1.0054\n",
      "Train Epoch: 26 [0/60000 (0%)]\tLoss: 92.719043\n",
      "====> Test set loss: 0.9960\n",
      "Train Epoch: 27 [0/60000 (0%)]\tLoss: 94.124102\n",
      "====> Test set loss: 1.0254\n",
      "Train Epoch: 28 [0/60000 (0%)]\tLoss: 96.217686\n",
      "====> Test set loss: 1.0296\n",
      "Train Epoch: 29 [0/60000 (0%)]\tLoss: 95.552148\n",
      "====> Test set loss: 1.0245\n",
      "Train Epoch: 30 [0/60000 (0%)]\tLoss: 97.499365\n",
      "====> Test set loss: 0.9851\n",
      "Train Epoch: 31 [0/60000 (0%)]\tLoss: 97.085273\n",
      "====> Test set loss: 1.0449\n",
      "Train Epoch: 32 [0/60000 (0%)]\tLoss: 91.143955\n",
      "====> Test set loss: 1.0090\n",
      "Train Epoch: 33 [0/60000 (0%)]\tLoss: 96.233564\n",
      "====> Test set loss: 1.0501\n",
      "Train Epoch: 34 [0/60000 (0%)]\tLoss: 90.556055\n",
      "====> Test set loss: 1.0534\n",
      "Train Epoch: 35 [0/60000 (0%)]\tLoss: 91.940908\n",
      "====> Test set loss: 0.9967\n",
      "Train Epoch: 36 [0/60000 (0%)]\tLoss: 95.236963\n",
      "====> Test set loss: 1.0162\n",
      "Train Epoch: 37 [0/60000 (0%)]\tLoss: 93.747344\n",
      "====> Test set loss: 1.0494\n",
      "Train Epoch: 38 [0/60000 (0%)]\tLoss: 94.108096\n",
      "====> Test set loss: 1.0895\n",
      "Train Epoch: 39 [0/60000 (0%)]\tLoss: 94.230234\n",
      "====> Test set loss: 0.9963\n",
      "Train Epoch: 40 [0/60000 (0%)]\tLoss: 92.916602\n",
      "====> Test set loss: 1.0505\n",
      "Train Epoch: 41 [0/60000 (0%)]\tLoss: 91.405859\n",
      "====> Test set loss: 1.0553\n",
      "Train Epoch: 42 [0/60000 (0%)]\tLoss: 98.294473\n",
      "====> Test set loss: 1.0217\n",
      "Train Epoch: 43 [0/60000 (0%)]\tLoss: 92.609980\n",
      "====> Test set loss: 1.0138\n",
      "Train Epoch: 44 [0/60000 (0%)]\tLoss: 92.890391\n",
      "====> Test set loss: 1.0412\n",
      "Train Epoch: 45 [0/60000 (0%)]\tLoss: 94.973066\n",
      "====> Test set loss: 1.0326\n",
      "Train Epoch: 46 [0/60000 (0%)]\tLoss: 95.321260\n",
      "====> Test set loss: 1.0010\n",
      "Train Epoch: 47 [0/60000 (0%)]\tLoss: 94.138145\n",
      "====> Test set loss: 1.0123\n",
      "Train Epoch: 48 [0/60000 (0%)]\tLoss: 95.282148\n",
      "====> Test set loss: 1.0445\n",
      "Train Epoch: 49 [0/60000 (0%)]\tLoss: 88.805254\n",
      "====> Test set loss: 1.0424\n",
      "Train Epoch: 50 [0/60000 (0%)]\tLoss: 91.697871\n",
      "====> Test set loss: 1.0653\n",
      "Train Epoch: 51 [0/60000 (0%)]\tLoss: 91.083027\n",
      "====> Test set loss: 1.0348\n",
      "Train Epoch: 52 [0/60000 (0%)]\tLoss: 92.601152\n",
      "====> Test set loss: 0.9987\n",
      "Train Epoch: 53 [0/60000 (0%)]\tLoss: 93.480820\n",
      "====> Test set loss: 1.0274\n",
      "Train Epoch: 54 [0/60000 (0%)]\tLoss: 92.007285\n",
      "====> Test set loss: 1.0292\n",
      "Train Epoch: 55 [0/60000 (0%)]\tLoss: 91.002334\n",
      "====> Test set loss: 1.0373\n",
      "Train Epoch: 56 [0/60000 (0%)]\tLoss: 94.402891\n",
      "====> Test set loss: 1.0470\n",
      "Train Epoch: 57 [0/60000 (0%)]\tLoss: 96.708535\n",
      "====> Test set loss: 0.9920\n",
      "Train Epoch: 58 [0/60000 (0%)]\tLoss: 91.021523\n",
      "====> Test set loss: 0.9723\n",
      "Train Epoch: 59 [0/60000 (0%)]\tLoss: 93.323594\n",
      "====> Test set loss: 1.0453\n",
      "Train Epoch: 60 [0/60000 (0%)]\tLoss: 92.314834\n",
      "====> Test set loss: 1.0492\n",
      "Train Epoch: 61 [0/60000 (0%)]\tLoss: 94.877041\n",
      "====> Test set loss: 1.0121\n",
      "Train Epoch: 62 [0/60000 (0%)]\tLoss: 91.580156\n",
      "====> Test set loss: 0.9752\n",
      "Train Epoch: 63 [0/60000 (0%)]\tLoss: 86.386484\n",
      "====> Test set loss: 1.0107\n",
      "Train Epoch: 64 [0/60000 (0%)]\tLoss: 91.284688\n",
      "====> Test set loss: 1.0538\n",
      "Train Epoch: 65 [0/60000 (0%)]\tLoss: 90.981328\n",
      "====> Test set loss: 1.0389\n",
      "Train Epoch: 66 [0/60000 (0%)]\tLoss: 92.213594\n",
      "====> Test set loss: 1.0634\n",
      "Train Epoch: 67 [0/60000 (0%)]\tLoss: 91.804219\n",
      "====> Test set loss: 1.0017\n",
      "Train Epoch: 68 [0/60000 (0%)]\tLoss: 92.116445\n",
      "====> Test set loss: 1.0131\n",
      "Train Epoch: 69 [0/60000 (0%)]\tLoss: 88.763564\n",
      "====> Test set loss: 0.9586\n",
      "Train Epoch: 70 [0/60000 (0%)]\tLoss: 94.651504\n",
      "====> Test set loss: 1.0685\n",
      "Train Epoch: 71 [0/60000 (0%)]\tLoss: 90.962695\n",
      "====> Test set loss: 1.0300\n",
      "Train Epoch: 72 [0/60000 (0%)]\tLoss: 93.430566\n",
      "====> Test set loss: 0.9844\n",
      "Train Epoch: 73 [0/60000 (0%)]\tLoss: 92.479229\n",
      "====> Test set loss: 1.0242\n",
      "Train Epoch: 74 [0/60000 (0%)]\tLoss: 92.266338\n",
      "====> Test set loss: 0.9787\n",
      "Train Epoch: 75 [0/60000 (0%)]\tLoss: 89.902051\n",
      "====> Test set loss: 1.0262\n",
      "Train Epoch: 76 [0/60000 (0%)]\tLoss: 90.649414\n",
      "====> Test set loss: 0.9784\n",
      "Train Epoch: 77 [0/60000 (0%)]\tLoss: 95.376006\n",
      "====> Test set loss: 0.9402\n",
      "Train Epoch: 78 [0/60000 (0%)]\tLoss: 90.850586\n",
      "====> Test set loss: 1.0016\n",
      "Train Epoch: 79 [0/60000 (0%)]\tLoss: 93.646768\n",
      "====> Test set loss: 1.0708\n",
      "Train Epoch: 80 [0/60000 (0%)]\tLoss: 88.067910\n",
      "====> Test set loss: 0.9844\n",
      "Train Epoch: 81 [0/60000 (0%)]\tLoss: 90.147402\n",
      "====> Test set loss: 1.0375\n",
      "Train Epoch: 82 [0/60000 (0%)]\tLoss: 93.713047\n",
      "====> Test set loss: 0.9965\n",
      "Train Epoch: 83 [0/60000 (0%)]\tLoss: 90.948613\n",
      "====> Test set loss: 0.9985\n",
      "Train Epoch: 84 [0/60000 (0%)]\tLoss: 92.382666\n",
      "====> Test set loss: 0.9910\n",
      "Train Epoch: 85 [0/60000 (0%)]\tLoss: 88.924111\n",
      "====> Test set loss: 0.9462\n",
      "Train Epoch: 86 [0/60000 (0%)]\tLoss: 95.455684\n",
      "====> Test set loss: 1.0948\n",
      "Train Epoch: 87 [0/60000 (0%)]\tLoss: 92.794238\n",
      "====> Test set loss: 0.9772\n",
      "Train Epoch: 88 [0/60000 (0%)]\tLoss: 91.908291\n",
      "====> Test set loss: 1.0583\n",
      "Train Epoch: 89 [0/60000 (0%)]\tLoss: 89.523105\n",
      "====> Test set loss: 1.0347\n",
      "Train Epoch: 90 [0/60000 (0%)]\tLoss: 91.291680\n",
      "====> Test set loss: 1.0348\n",
      "Train Epoch: 91 [0/60000 (0%)]\tLoss: 90.245332\n",
      "====> Test set loss: 1.0499\n",
      "Train Epoch: 92 [0/60000 (0%)]\tLoss: 92.520791\n",
      "====> Test set loss: 1.0199\n",
      "Train Epoch: 93 [0/60000 (0%)]\tLoss: 89.182305\n",
      "====> Test set loss: 0.9601\n",
      "Train Epoch: 94 [0/60000 (0%)]\tLoss: 87.906543\n",
      "====> Test set loss: 0.9979\n",
      "Train Epoch: 95 [0/60000 (0%)]\tLoss: 92.559268\n",
      "====> Test set loss: 0.9971\n",
      "Train Epoch: 96 [0/60000 (0%)]\tLoss: 91.697871\n",
      "====> Test set loss: 1.0413\n",
      "Train Epoch: 97 [0/60000 (0%)]\tLoss: 91.064873\n",
      "====> Test set loss: 1.0714\n",
      "Train Epoch: 98 [0/60000 (0%)]\tLoss: 94.584121\n",
      "====> Test set loss: 0.9906\n",
      "Train Epoch: 99 [0/60000 (0%)]\tLoss: 92.720430\n",
      "====> Test set loss: 1.0916\n",
      "Train Epoch: 100 [0/60000 (0%)]\tLoss: 86.554658\n",
      "====> Test set loss: 0.9987\n"
     ]
    }
   ],
   "source": [
    "initial_train(100)\n",
    "zs_g,ts_g,mus_g,logvars_g = take_latents()"
   ],
   "metadata": {
    "collapsed": false,
    "pycharm": {
     "name": "#%%\n"
    }
   }
  },
  {
   "cell_type": "code",
   "execution_count": 187,
   "outputs": [
    {
     "data": {
      "text/plain": "(torch.Size([1, 10, 10]), torch.Size([1, 10, 10]), torch.Size([1, 1, 10]))"
     },
     "execution_count": 187,
     "metadata": {},
     "output_type": "execute_result"
    }
   ],
   "source": [
    "#zs_g,ts_g,mus_g,logvars_g = take_latents()\n",
    "mu_c_g,logvar_c_g,pi_c_g = initialize_centers()\n",
    "mu_c_g,logvar_c_g,pi_c_g,Q_c_g,gamma_c_g,log_P_g = gauss(mus_g,logvars_g,mu_c_g,logvar_c_g,pi_c_g,50)\n",
    "mu_c_g.shape,logvar_c_g.shape,pi_c_g.shape\n",
    "#mu_c_g,logvar_c_g,pi_c_g,Q_c_g,gamma_c_g,log_P_g = gauss(mus_g,logvars_g,mu_c_g,logvar_c_g,pi_c_g,50)"
   ],
   "metadata": {
    "collapsed": false,
    "pycharm": {
     "name": "#%%\n"
    }
   }
  },
  {
   "cell_type": "code",
   "execution_count": 201,
   "outputs": [
    {
     "name": "stdout",
     "output_type": "stream",
     "text": [
      "Train Epoch: 0 [0/60000 (0%)]\tLoss: 92.345420\n",
      "====> Test set loss: 1.0632\n",
      "Train Epoch: 1 [0/60000 (0%)]\tLoss: 89.409082\n",
      "====> Test set loss: 1.0923\n",
      "Train Epoch: 2 [0/60000 (0%)]\tLoss: nan\n"
     ]
    },
    {
     "ename": "RuntimeError",
     "evalue": "reduce failed to synchronize: device-side assert triggered",
     "output_type": "error",
     "traceback": [
      "\u001B[0;31m---------------------------------------------------------------------------\u001B[0m",
      "\u001B[0;31mRuntimeError\u001B[0m                              Traceback (most recent call last)",
      "\u001B[0;32m<ipython-input-201-0aeb92f5a4e9>\u001B[0m in \u001B[0;36m<module>\u001B[0;34m\u001B[0m\n\u001B[1;32m      3\u001B[0m     \u001B[0;31m#train_c_epoch(epochs=1,mu_c=mu_c_g,logvar_c=logvar_c_g,pi_c=pi_c_g)\u001B[0m\u001B[0;34m\u001B[0m\u001B[0;34m\u001B[0m\u001B[0;34m\u001B[0m\u001B[0m\n\u001B[1;32m      4\u001B[0m \u001B[0;34m\u001B[0m\u001B[0m\n\u001B[0;32m----> 5\u001B[0;31m     \u001B[0mtrain_c\u001B[0m\u001B[0;34m(\u001B[0m\u001B[0mepoch\u001B[0m\u001B[0;34m=\u001B[0m\u001B[0mi\u001B[0m\u001B[0;34m,\u001B[0m\u001B[0mmu_c\u001B[0m\u001B[0;34m=\u001B[0m\u001B[0mmu_c_g\u001B[0m\u001B[0;34m,\u001B[0m\u001B[0mlogvar_c\u001B[0m\u001B[0;34m=\u001B[0m\u001B[0mlogvar_c_g\u001B[0m\u001B[0;34m,\u001B[0m\u001B[0mpi_c\u001B[0m\u001B[0;34m=\u001B[0m\u001B[0mpi_c_g\u001B[0m\u001B[0;34m)\u001B[0m\u001B[0;34m\u001B[0m\u001B[0;34m\u001B[0m\u001B[0m\n\u001B[0m\u001B[1;32m      6\u001B[0m     \u001B[0mtest_c\u001B[0m\u001B[0;34m(\u001B[0m\u001B[0mepoch\u001B[0m\u001B[0;34m=\u001B[0m\u001B[0mi\u001B[0m\u001B[0;34m,\u001B[0m\u001B[0mmu_c\u001B[0m\u001B[0;34m=\u001B[0m\u001B[0mmu_c_g\u001B[0m\u001B[0;34m,\u001B[0m\u001B[0mlogvar_c\u001B[0m\u001B[0;34m=\u001B[0m\u001B[0mlogvar_c_g\u001B[0m\u001B[0;34m,\u001B[0m\u001B[0mpi_c\u001B[0m\u001B[0;34m=\u001B[0m\u001B[0mpi_c_g\u001B[0m\u001B[0;34m)\u001B[0m\u001B[0;34m\u001B[0m\u001B[0;34m\u001B[0m\u001B[0m\n\u001B[1;32m      7\u001B[0m     \u001B[0mscheduler\u001B[0m\u001B[0;34m.\u001B[0m\u001B[0mstep\u001B[0m\u001B[0;34m(\u001B[0m\u001B[0;34m)\u001B[0m\u001B[0;34m\u001B[0m\u001B[0;34m\u001B[0m\u001B[0m\n",
      "\u001B[0;32m<ipython-input-15-0063277e2dfc>\u001B[0m in \u001B[0;36mtrain_c\u001B[0;34m(epoch, mu_c, logvar_c, pi_c)\u001B[0m\n\u001B[1;32m     11\u001B[0m         \u001B[0mrecon_batch\u001B[0m\u001B[0;34m,\u001B[0m \u001B[0mmu\u001B[0m\u001B[0;34m,\u001B[0m \u001B[0mlogvar\u001B[0m\u001B[0;34m,\u001B[0m\u001B[0mz\u001B[0m \u001B[0;34m=\u001B[0m \u001B[0mmodel\u001B[0m\u001B[0;34m(\u001B[0m\u001B[0mdata\u001B[0m\u001B[0;34m)\u001B[0m\u001B[0;34m\u001B[0m\u001B[0;34m\u001B[0m\u001B[0m\n\u001B[1;32m     12\u001B[0m         \u001B[0;31m#VAEからバッヂ分のデータと中心と分散のログを受け取る\u001B[0m\u001B[0;34m\u001B[0m\u001B[0;34m\u001B[0m\u001B[0;34m\u001B[0m\u001B[0m\n\u001B[0;32m---> 13\u001B[0;31m         \u001B[0mloss\u001B[0m \u001B[0;34m=\u001B[0m \u001B[0mloss_function_c\u001B[0m\u001B[0;34m(\u001B[0m\u001B[0mrecon_x\u001B[0m\u001B[0;34m=\u001B[0m\u001B[0mrecon_batch\u001B[0m\u001B[0;34m,\u001B[0m\u001B[0mx\u001B[0m\u001B[0;34m=\u001B[0m\u001B[0mdata\u001B[0m\u001B[0;34m,\u001B[0m\u001B[0mmus_f\u001B[0m\u001B[0;34m=\u001B[0m\u001B[0mmu\u001B[0m\u001B[0;34m.\u001B[0m\u001B[0mview\u001B[0m\u001B[0;34m(\u001B[0m\u001B[0;34m-\u001B[0m\u001B[0;36m1\u001B[0m\u001B[0;34m,\u001B[0m\u001B[0mlatent_dim\u001B[0m\u001B[0;34m,\u001B[0m\u001B[0;36m1\u001B[0m\u001B[0;34m)\u001B[0m\u001B[0;34m,\u001B[0m\u001B[0mlogvars_f\u001B[0m\u001B[0;34m=\u001B[0m\u001B[0mlogvar\u001B[0m\u001B[0;34m.\u001B[0m\u001B[0mview\u001B[0m\u001B[0;34m(\u001B[0m\u001B[0;34m-\u001B[0m\u001B[0;36m1\u001B[0m\u001B[0;34m,\u001B[0m\u001B[0mlatent_dim\u001B[0m\u001B[0;34m,\u001B[0m\u001B[0;36m1\u001B[0m\u001B[0;34m)\u001B[0m\u001B[0;34m,\u001B[0m\u001B[0mmu_c_f\u001B[0m\u001B[0;34m=\u001B[0m\u001B[0mmu_c\u001B[0m\u001B[0;34m,\u001B[0m\u001B[0mlogvar_c_f\u001B[0m\u001B[0;34m=\u001B[0m\u001B[0mlogvar_c\u001B[0m\u001B[0;34m,\u001B[0m\u001B[0mpi_c_f\u001B[0m\u001B[0;34m=\u001B[0m\u001B[0mpi_c\u001B[0m\u001B[0;34m)\u001B[0m\u001B[0;34m\u001B[0m\u001B[0;34m\u001B[0m\u001B[0m\n\u001B[0m\u001B[1;32m     14\u001B[0m         \u001B[0;31m#バッヂ分のロスを計算。バッヂ数で割っていないようだ。書き出しのときにデータ数で割っている。\u001B[0m\u001B[0;34m\u001B[0m\u001B[0;34m\u001B[0m\u001B[0;34m\u001B[0m\u001B[0m\n\u001B[1;32m     15\u001B[0m         \u001B[0mloss\u001B[0m\u001B[0;34m.\u001B[0m\u001B[0mbackward\u001B[0m\u001B[0;34m(\u001B[0m\u001B[0;34m)\u001B[0m\u001B[0;34m\u001B[0m\u001B[0;34m\u001B[0m\u001B[0m\n",
      "\u001B[0;32m<ipython-input-14-25672c7d99d0>\u001B[0m in \u001B[0;36mloss_function_c\u001B[0;34m(recon_x, x, mus_f, logvars_f, mu_c_f, logvar_c_f, pi_c_f)\u001B[0m\n\u001B[1;32m      1\u001B[0m \u001B[0;34m\u001B[0m\u001B[0m\n\u001B[1;32m      2\u001B[0m \u001B[0;32mdef\u001B[0m \u001B[0mloss_function_c\u001B[0m\u001B[0;34m(\u001B[0m\u001B[0mrecon_x\u001B[0m\u001B[0;34m,\u001B[0m\u001B[0mx\u001B[0m\u001B[0;34m,\u001B[0m\u001B[0mmus_f\u001B[0m\u001B[0;34m,\u001B[0m\u001B[0mlogvars_f\u001B[0m\u001B[0;34m,\u001B[0m\u001B[0mmu_c_f\u001B[0m\u001B[0;34m,\u001B[0m\u001B[0mlogvar_c_f\u001B[0m\u001B[0;34m,\u001B[0m\u001B[0mpi_c_f\u001B[0m\u001B[0;34m)\u001B[0m\u001B[0;34m:\u001B[0m\u001B[0;34m\u001B[0m\u001B[0;34m\u001B[0m\u001B[0m\n\u001B[0;32m----> 3\u001B[0;31m     \u001B[0mBCE\u001B[0m \u001B[0;34m=\u001B[0m \u001B[0mF\u001B[0m\u001B[0;34m.\u001B[0m\u001B[0mbinary_cross_entropy\u001B[0m\u001B[0;34m(\u001B[0m\u001B[0mrecon_x\u001B[0m\u001B[0;34m,\u001B[0m\u001B[0mx\u001B[0m\u001B[0;34m.\u001B[0m\u001B[0mview\u001B[0m\u001B[0;34m(\u001B[0m\u001B[0;34m-\u001B[0m\u001B[0;36m1\u001B[0m\u001B[0;34m,\u001B[0m\u001B[0;36m784\u001B[0m\u001B[0;34m)\u001B[0m\u001B[0;34m,\u001B[0m\u001B[0mreduction\u001B[0m\u001B[0;34m=\u001B[0m\u001B[0;34m'sum'\u001B[0m\u001B[0;34m)\u001B[0m\u001B[0;34m\u001B[0m\u001B[0;34m\u001B[0m\u001B[0m\n\u001B[0m\u001B[1;32m      4\u001B[0m     \u001B[0;31m#recon_xはsigmoidをdecordeで通されているので、[0,1]になっている。\u001B[0m\u001B[0;34m\u001B[0m\u001B[0;34m\u001B[0m\u001B[0;34m\u001B[0m\u001B[0m\n\u001B[1;32m      5\u001B[0m     \u001B[0;31m#KLD = -0.5*torch.sum(1+logvar-mu.pow(2)-logvar.exp())\u001B[0m\u001B[0;34m\u001B[0m\u001B[0;34m\u001B[0m\u001B[0;34m\u001B[0m\u001B[0m\n",
      "\u001B[0;32m~/PycharmProjects/auto_encoder/venv/lib/python3.6/site-packages/torch/nn/functional.py\u001B[0m in \u001B[0;36mbinary_cross_entropy\u001B[0;34m(input, target, weight, size_average, reduce, reduction)\u001B[0m\n\u001B[1;32m   2111\u001B[0m \u001B[0;34m\u001B[0m\u001B[0m\n\u001B[1;32m   2112\u001B[0m     return torch._C._nn.binary_cross_entropy(\n\u001B[0;32m-> 2113\u001B[0;31m         input, target, weight, reduction_enum)\n\u001B[0m\u001B[1;32m   2114\u001B[0m \u001B[0;34m\u001B[0m\u001B[0m\n\u001B[1;32m   2115\u001B[0m \u001B[0;34m\u001B[0m\u001B[0m\n",
      "\u001B[0;31mRuntimeError\u001B[0m: reduce failed to synchronize: device-side assert triggered"
     ]
    }
   ],
   "source": [
    "for i in range(50):\n",
    "    #train_c_epoch(epochs=1,mu_c=mu_c_g,logvar_c=logvar_c_g,pi_c=pi_c_g)\n",
    "\n",
    "    train_c(epoch=i,mu_c=mu_c_g,logvar_c=logvar_c_g,pi_c=pi_c_g)\n",
    "    test_c(epoch=i,mu_c=mu_c_g,logvar_c=logvar_c_g,pi_c=pi_c_g)\n",
    "    scheduler.step()\n",
    "    zs_g,ts_g,mus_g,logvars_g = take_latents()\n",
    "\n",
    "\n",
    "    mu_c_g,logvar_c_g,pi_c_g,Q_c_g,gamma_c_g,log_P_g = gauss(mus_g,logvars_g,mu_c_g,logvar_c_g,pi_c_g,50)\n",
    "\n",
    "\n",
    "\n",
    "#(lo\n",
    "# gvars_g.exp()).mean(0,keepdim=True).shape\n",
    "#logvar_c_g.exp().shape\n",
    "#(logvars_g.exp()/logvar_c_g.exp())[0,:,0]\n",
    "#(-0.5*Q_c_g.sum(1,keepdim=True)).exp()\n",
    "#(((mus_g-mu_c_g).pow(2))/(logvar_c_g.exp())).mean(0,keepdim=True),(logvars_g.exp()).mean(0,keepdim=True)\n",
    "#logvar_c_g.exp()+(logvars_g.exp()).mean(0,keepdim=True)\n",
    "log_P_g,pi_c_g"
   ],
   "metadata": {
    "collapsed": false,
    "pycharm": {
     "name": "#%%\n"
    }
   }
  },
  {
   "cell_type": "code",
   "execution_count": 196,
   "outputs": [
    {
     "data": {
      "text/plain": "<Figure size 432x288 with 1 Axes>",
      "image/png": "[encoded data removed]"
     },
     "metadata": {
      "needs_background": "light"
     },
     "output_type": "display_data"
    }
   ],
   "source": [
    "points = TSNE(n_components=2,random_state=0).fit_transform(mus_g.view(-1,latent_dim).cpu().detach().numpy())\n",
    "drawpoints(points,ts_g.cpu().detach().numpy())"
   ],
   "metadata": {
    "collapsed": false,
    "pycharm": {
     "name": "#%%\n"
    }
   }
  },
  {
   "cell_type": "code",
   "execution_count": 197,
   "outputs": [
    {
     "data": {
      "text/plain": "<Figure size 432x288 with 1 Axes>",
      "image/png": "[encoded data removed]"
     },
     "metadata": {
      "needs_background": "light"
     },
     "output_type": "display_data"
    }
   ],
   "source": [
    "drawpoints(points,torch.argmax(gamma_c_g,2).view(-1).cpu().detach().numpy())"
   ],
   "metadata": {
    "collapsed": false,
    "pycharm": {
     "name": "#%%\n"
    }
   }
  },
  {
   "cell_type": "code",
   "execution_count": 198,
   "outputs": [
    {
     "data": {
      "text/plain": "<Figure size 432x288 with 1 Axes>",
      "image/png": "[encoded data removed]"
     },
     "metadata": {
      "needs_background": "light"
     },
     "output_type": "display_data"
    }
   ],
   "source": [
    "kmeans_model = KMeans(n_clusters=K_model_cluster, random_state=1).fit(mus_g.view(-1,latent_dim).cpu().detach().numpy())\n",
    "drawpoints(points,kmeans_model.labels_)"
   ],
   "metadata": {
    "collapsed": false,
    "pycharm": {
     "name": "#%%\n"
    }
   }
  },
  {
   "cell_type": "code",
   "execution_count": 199,
   "outputs": [
    {
     "data": {
      "text/plain": "<Figure size 432x288 with 1 Axes>",
      "image/png": "[encoded data removed]"
     },
     "metadata": {
      "needs_background": "light"
     },
     "output_type": "display_data"
    }
   ],
   "source": [
    "gauss_model = GaussianMixture(n_components=K_model_cluster,covariance_type='diag',random_state=1).fit(mus_g.view(-1,latent_dim).cpu().detach().numpy())\n",
    "drawpoints(points,gauss_model.predict(mus_g.view(-1,latent_dim).cpu().detach().numpy()))"
   ],
   "metadata": {
    "collapsed": false,
    "pycharm": {
     "name": "#%%\n"
    }
   }
  },
  {
   "cell_type": "code",
   "execution_count": null,
   "outputs": [],
   "source": [
    "show_generated_samples_c(mu_c_g,logvar_c_g)"
   ],
   "metadata": {
    "collapsed": false,
    "pycharm": {
     "name": "#%%\n"
    }
   }
  },
  {
   "cell_type": "code",
   "execution_count": 120,
   "outputs": [
    {
     "data": {
      "text/plain": "8.478231655043248e-05"
     },
     "execution_count": 120,
     "metadata": {},
     "output_type": "execute_result"
    }
   ],
   "source": [
    "optimizer.param_groups[0]['lr']"
   ],
   "metadata": {
    "collapsed": false,
    "pycharm": {
     "name": "#%%\n"
    }
   }
  },
  {
   "cell_type": "code",
   "execution_count": 181,
   "outputs": [],
   "source": [
    "\n",
    "mu_c_g = torch.from_numpy(kmeans_model.cluster_centers_).to(device)"
   ],
   "metadata": {
    "collapsed": false,
    "pycharm": {
     "name": "#%%\n"
    }
   }
  },
  {
   "cell_type": "code",
   "execution_count": 184,
   "outputs": [],
   "source": [
    "mu_c_g = mu_c_g.view(1,latent_dim,K_model_cluster)"
   ],
   "metadata": {
    "collapsed": false,
    "pycharm": {
     "name": "#%%\n"
    }
   }
  },
  {
   "cell_type": "code",
   "execution_count": 186,
   "outputs": [
    {
     "data": {
      "text/plain": "torch.Size([1, 10, 10])"
     },
     "execution_count": 186,
     "metadata": {},
     "output_type": "execute_result"
    }
   ],
   "source": [
    "mu_c_g.shape"
   ],
   "metadata": {
    "collapsed": false,
    "pycharm": {
     "name": "#%%\n"
    }
   }
  },
  {
   "cell_type": "code",
   "execution_count": null,
   "outputs": [],
   "source": [],
   "metadata": {
    "collapsed": false,
    "pycharm": {
     "name": "#%%\n"
    }
   }
  }
 ],
 "metadata": {
  "kernelspec": {
   "display_name": "Python 3",
   "language": "python",
   "name": "python3"
  },
  "language_info": {
   "codemirror_mode": {
    "name": "ipython",
    "version": 2
   },
   "file_extension": ".py",
   "mimetype": "text/x-python",
   "name": "python",
   "nbconvert_exporter": "python",
   "pygments_lexer": "ipython2",
   "version": "2.7.6"
  }
 },
 "nbformat": 4,
 "nbformat_minor": 0
}