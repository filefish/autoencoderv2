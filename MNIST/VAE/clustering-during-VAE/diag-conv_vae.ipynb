{
 "cells": [
  {
   "cell_type": "code",
   "execution_count": 1,
   "outputs": [],
   "source": [
    "from __future__ import print_function\n",
    "import argparse\n",
    "import torch\n",
    "import torch.utils.data\n",
    "from torch import nn, optim\n",
    "from torch.nn import functional as F\n",
    "from torchvision import datasets, transforms\n",
    "from torchvision.utils import save_image\n",
    "\n",
    "%matplotlib inline\n",
    "import matplotlib.pyplot as plt\n",
    "\n",
    "\n",
    "from torch.distributions.multivariate_normal import MultivariateNormal\n",
    "\n",
    "\n",
    "\n",
    "import numpy as np\n",
    "\n",
    "\n",
    "\n",
    "from sklearn.manifold import TSNE\n",
    "from random import random\n",
    "from sklearn.mixture import GaussianMixture\n",
    "from sklearn.mixture import BayesianGaussianMixture\n",
    "from sklearn.cluster import KMeans"
   ],
   "metadata": {
    "collapsed": false,
    "pycharm": {
     "name": "#%%\n"
    }
   }
  },
  {
   "cell_type": "code",
   "execution_count": 4,
   "outputs": [],
   "source": [
    "\n",
    "batch_size = 100\n",
    "take_latent_max =10\n",
    "num_epoch = 10\n",
    "input_width = 28\n",
    "#input_dim=28*28\n",
    "input_dim=7*7*64\n",
    "output_dim=input_dim\n",
    "en_hidden1_dim = 500\n",
    "en_hidden2_dim = 500\n",
    "en_hidden3_dim = 2000\n",
    "latent_dim= 10\n",
    "de_hidden1_dim = 2000\n",
    "de_hidden2_dim = 500\n",
    "de_hidden3_dim = 500\n",
    "\n",
    "mi_hidden1_dim = 1000\n",
    "mi_hidden2_dim = 1000\n",
    "\n",
    "input_ch = 1\n",
    "nch1 =32\n",
    "kernel1 = 4\n",
    "stride1 = 2\n",
    "padding1 = 1\n",
    "dilation1 = 1\n",
    "\n",
    "out_width1 = int((input_width+2*padding1-kernel1)/stride1 + 1)\n",
    "\n",
    "nch2 = nch1*2\n",
    "kernel2 = kernel1\n",
    "stride2 = stride1\n",
    "padding2 = padding1\n",
    "dilation2 = dilation1\n",
    "\n",
    "out_width2 = int((out_width1+2*padding2-kernel2)/stride2 + 1)\n",
    "\n",
    "nch3 = nch2*2\n",
    "kernel3 = 3\n",
    "stride3 = stride2\n",
    "padding3 = padding2\n",
    "dilation3 = dilation2\n",
    "\n",
    "out_width3 = int((out_width2+2*padding3-kernel3)/stride3 + 1)\n",
    "\n",
    "nch4 = nch3*2\n",
    "kernel4 = 4\n",
    "stride4 = 1\n",
    "padding4 = 0\n",
    "dilation4 = dilation3\n",
    "\n",
    "out_width4 = int((out_width3+2*padding4-kernel4)/stride4 + 1)\n",
    "\n",
    "tnch4 = nch4\n",
    "tkernel4 = kernel4\n",
    "tstride4 = stride4\n",
    "tpadding4 = padding4\n",
    "tdilation4 = dilation4\n",
    "\n",
    "tout_width4 = int((out_width4-1)*tstride4 -2*tpadding4 + tkernel4)\n",
    "\n",
    "tnch3 = nch3\n",
    "tkernel3 = kernel3\n",
    "tstride3 = stride3\n",
    "tpadding3 = padding3\n",
    "tdilation3 = dilation3\n",
    "\n",
    "tout_width3 = int((out_width3-1)*tstride3 -2*tpadding3 + tkernel3)\n",
    "\n",
    "tnch2 = nch2\n",
    "tkernel2 = kernel2\n",
    "tstride2 = stride2\n",
    "tpadding2 = padding2\n",
    "tdilation2 = dilation2\n",
    "\n",
    "tout_width2 = int((out_width2-1)*tstride2 -2*tpadding2 + tkernel2)\n",
    "\n",
    "tnch1 = nch1\n",
    "tkernel1 = kernel1\n",
    "tstride1 = stride1\n",
    "tpadding1 = padding1\n",
    "tdilation1 = dilation1\n",
    "\n",
    "tout_width1 = int((out_width1-1)*tstride1 -2*tpadding1 + tkernel1)\n",
    "\n",
    "out_ch = input_ch\n",
    "\n",
    "\n",
    "log_interval = 600\n",
    "\n",
    "K_model_cluster = 10\n",
    "K_real_cluster = 10\n",
    "\n",
    "beta= 1.\n",
    "beta_start = beta\n",
    "beta_end = 1.\n",
    "total_step = 500\n",
    "beta_delta = (beta_end-beta_start)/total_step\n",
    "\n",
    "\n",
    "save_folder = 'SGD-conv-vae-results'\n",
    "\n",
    "KMeans_random_state = 1 #(random seed)\n",
    "Gaussian_random_state = 1  #(random seed)\n",
    "\n",
    "eps_N_c = 0\n",
    "iter_adiabatic =1\n",
    "\n",
    "qn_value =0\n",
    "\n",
    "TC_gamma = 10.\n",
    "\n",
    "stabilizer_eps = 1.0e-16"
   ],
   "metadata": {
    "collapsed": false,
    "pycharm": {
     "name": "#%%\n"
    }
   }
  },
  {
   "cell_type": "code",
   "execution_count": 5,
   "outputs": [
    {
     "data": {
      "text/plain": "4"
     },
     "execution_count": 5,
     "metadata": {},
     "output_type": "execute_result"
    }
   ],
   "source": [
    "tout_width4"
   ],
   "metadata": {
    "collapsed": false,
    "pycharm": {
     "name": "#%%\n"
    }
   }
  },
  {
   "cell_type": "code",
   "execution_count": 6,
   "outputs": [],
   "source": [
    "device = 'cuda'\n",
    "kwargs = {'num_workers':1, 'pin_memory':True}\n",
    "\n",
    "train_loader = torch.utils.data.DataLoader(\n",
    "    datasets.MNIST('../data',train=True,download=True,\n",
    "                   transform=transforms.ToTensor()),\n",
    "    batch_size=batch_size,shuffle=True,**kwargs)\n",
    "\n",
    "test_loader = torch.utils.data.DataLoader(\n",
    "    datasets.MNIST('../data',train=False,transform=transforms.ToTensor()),\n",
    "    batch_size=batch_size,shuffle=True,**kwargs)\n"
   ],
   "metadata": {
    "collapsed": false,
    "pycharm": {
     "name": "#%%\n"
    }
   }
  },
  {
   "cell_type": "code",
   "execution_count": 7,
   "outputs": [],
   "source": [
    "def initialize_centers():\n",
    "\n",
    "    mu_c = torch.randn(1,latent_dim,K_model_cluster,device=device)\n",
    "    logvar_c = torch.zeros(1,latent_dim,K_model_cluster).to(device)\n",
    "    inv_sm_pi_c = torch.zeros(1,1,K_model_cluster).to(device)\n",
    "\n",
    "    return mu_c,logvar_c,inv_sm_pi_c"
   ],
   "metadata": {
    "collapsed": false,
    "pycharm": {
     "name": "#%%\n"
    }
   }
  },
  {
   "cell_type": "code",
   "execution_count": 8,
   "outputs": [
    {
     "data": {
      "text/plain": "(torch.Size([1, 10, 10]), torch.Size([1, 10, 10]), torch.Size([1, 1, 10]))"
     },
     "execution_count": 8,
     "metadata": {},
     "output_type": "execute_result"
    }
   ],
   "source": [
    "\n",
    "\n",
    "#zs_g,ts_g,mus_g,logvars_g = take_latents()\n",
    "mu_c_g,logvar_c_g,inv_sm_pi_c_g = initialize_centers()\n",
    "#mu_c_g,logvar_c_g,pi_c_g,Q_c_g,gamma_c_g,log_P_g = gauss(mus_g,logvars_g,mu_c_g,logvar_c_g,pi_c_g,50)\n",
    "mu_c_g.shape,logvar_c_g.shape,inv_sm_pi_c_g.shape\n",
    "#mu_c_g,logvar_c_g,pi_c_g,Q_c_g,gamma_c_g,log_P_g = gauss(mus_g,logvars_g,mu_c_g,logvar_c_g,pi_c_g,50)"
   ],
   "metadata": {
    "collapsed": false,
    "pycharm": {
     "name": "#%%\n"
    }
   }
  },
  {
   "cell_type": "code",
   "execution_count": 9,
   "outputs": [
    {
     "data": {
      "text/plain": "tensor([[[0., 0., 0., 0., 0., 0., 0., 0., 0., 0.]]], device='cuda:0',\n       requires_grad=True)"
     },
     "execution_count": 9,
     "metadata": {},
     "output_type": "execute_result"
    }
   ],
   "source": [
    "mu_c_g.requires_grad_(True)\n",
    "logvar_c_g.requires_grad_(True)\n",
    "inv_sm_pi_c_g.requires_grad_(True)"
   ],
   "metadata": {
    "collapsed": false,
    "pycharm": {
     "name": "#%%\n"
    }
   }
  },
  {
   "cell_type": "code",
   "execution_count": 10,
   "outputs": [
    {
     "data": {
      "text/plain": "(True, True, True)"
     },
     "execution_count": 10,
     "metadata": {},
     "output_type": "execute_result"
    }
   ],
   "source": [
    "mu_c_g.requires_grad,logvar_c_g.requires_grad,inv_sm_pi_c_g.requires_grad\n",
    "#F.softmax(inv_sm_pi_c_g,dim=0)"
   ],
   "metadata": {
    "collapsed": false,
    "pycharm": {
     "name": "#%%\n"
    }
   }
  },
  {
   "cell_type": "code",
   "execution_count": 11,
   "outputs": [],
   "source": [
    "class VAE(nn.Module):\n",
    "    def __init__(self):\n",
    "        super(VAE, self).__init__()\n",
    "\n",
    "        self.input_layer = nn.Linear(input_dim,en_hidden1_dim)##728 => 500 for MNIST\n",
    "        self.encode1_layer = nn.Linear(en_hidden1_dim,en_hidden2_dim)##500 => 500 for MNIST\n",
    "        self.encode2_layer = nn.Linear(en_hidden2_dim,en_hidden3_dim)##500 => 2000 for MNIST\n",
    "        self.mu_layer = nn.Linear(en_hidden3_dim,latent_dim)##2000 => 10 for MNIST\n",
    "        self.std_layer = nn.Linear(en_hidden3_dim,latent_dim)##2000 => 10 for MNIST\n",
    "        self.decode1_layer = nn.Linear(latent_dim,de_hidden1_dim)##10 => 2000 for MNIST\n",
    "        self.decode2_layer = nn.Linear(de_hidden1_dim,de_hidden2_dim)##2000 => 500 for MNIST\n",
    "        self.decode3_layer = nn.Linear(de_hidden2_dim,de_hidden3_dim)##500 => 500 for MNIST\n",
    "        self.output_layer = nn.Linear(de_hidden3_dim,output_dim)##500 => 728 for MN#%%IST\n",
    "\n",
    "        self.first_conv = nn.Conv2d(in_channels=input_ch,out_channels=nch1,kernel_size=kernel1,stride=stride1,padding=padding1,dilation=dilation1)\n",
    "        self.first_bn = nn.BatchNorm2d(nch1)\n",
    "        self.second_conv = nn.Conv2d(in_channels=nch1,out_channels=nch2,kernel_size=kernel2,stride=stride2,padding=padding2,dilation=dilation2)\n",
    "        self.second_bn = nn.BatchNorm2d(nch2)\n",
    "        self.third_conv = nn.Conv2d(in_channels=nch2,out_channels=nch3,kernel_size=kernel3,stride=stride3,padding=padding3,dilation=dilation3)\n",
    "        self.third_bn = nn.BatchNorm2d(nch3)\n",
    "        self.fourth_conv = nn.Conv2d(in_channels=nch3,out_channels=nch4,kernel_size=kernel4,stride=stride4,padding=padding4,dilation=dilation4)\n",
    "        self.fourth_bn = nn.BatchNorm2d(nch4)\n",
    "\n",
    "\n",
    "        self.conv_mu_layer = nn.Linear(out_width4*out_width4*nch4,latent_dim)##4*4*128 => 10 for MNIST\n",
    "        self.conv_std_layer = nn.Linear(out_width4*out_width4*nch4,latent_dim)##4*4*128 => 10 for MNIST\n",
    "        self.conv_latent_decode = nn.Linear(latent_dim,out_width4*out_width4*nch4) # 10 -> 4*4*128\n",
    "\n",
    "        self.fourth_tconv = nn.ConvTranspose2d(in_channels=tnch4,out_channels=tnch3,kernel_size=tkernel4,stride=tstride4,padding=tpadding4,dilation=tdilation4)\n",
    "        self.fourth_tbn = nn.BatchNorm2d(tnch3)\n",
    "        self.third_tconv = nn.ConvTranspose2d(in_channels=tnch3,out_channels=tnch2,kernel_size=tkernel3,stride=tstride3,padding=tpadding3,dilation=tdilation3)\n",
    "        self.third_tbn = nn.BatchNorm2d(tnch2)\n",
    "        self.second_tconv = nn.ConvTranspose2d(in_channels=tnch2,out_channels=tnch1,kernel_size=tkernel2,stride=tstride2,padding=tpadding2,dilation=tdilation2)\n",
    "        self.second_tbn = nn.BatchNorm2d(tnch1)\n",
    "        self.first_tconv = nn.ConvTranspose2d(in_channels=tnch1,out_channels=out_ch,kernel_size=tkernel1,stride=tstride1,padding=tpadding1,dilation=tdilation1)\n",
    "        self.first_tbn = nn.BatchNorm2d(out_ch)\n",
    "\n",
    "\n",
    "    def encode(self, x):\n",
    "        en_h1 = F.relu(self.input_layer(x))\n",
    "        en_h2 = F.relu(self.encode1_layer(en_h1))\n",
    "        en_h3 = F.relu(self.encode2_layer(en_h2))\n",
    "        return self.mu_layer(en_h3), self.std_layer(en_h3)\n",
    "    #入力から中心と分散の対数を作っている\n",
    "\n",
    "    def conv_encode(self, x):\n",
    "        conv_h1 = F.relu(self.first_bn(self.first_conv(x)))  #28*28 -> 14*14*32\n",
    "        conv_h2 = F.relu(self.second_bn(self.second_conv(conv_h1)))  #14*14*32 -> 7*7*64\n",
    "        conv_h3 = F.relu(self.third_bn(self.third_conv(conv_h2)))  #7*7*64 -> 4*4*128\n",
    "        conv_h4 = F.relu(self.fourth_bn(self.fourth_conv(conv_h3)))  #4*4*128 -> 1*1*256\n",
    "        return self.conv_mu_layer(conv_h4.view(batch_size,out_width4*out_width4*nch4)), self.conv_std_layer(conv_h4.view(batch_size,out_width4*out_width4*nch4))  #1*1*256 -> 10\n",
    "\n",
    "#    def conv_encode(self, x):\n",
    "#        conv_h1 = F.relu(self.first_conv(x))  #28*28 -> 14*14*32\n",
    "#        conv_h2 = F.relu(self.second_conv(conv_h1))  #14*14*32 -> 7*7*64\n",
    "#        return conv_h2.view(batch_size,out_width2*out_width2*nch2) #フラットにして出す\n",
    "\n",
    "\n",
    "    def reparameterize(self,mu,logvar):\n",
    "        std = torch.exp(0.5*logvar)\n",
    "        eps = torch.randn_like(std)\n",
    "        #torch.randn_like(std)はstdと同じ次元の正規乱数を与えている。N(0,1)**size(std).ただし、標準偏差は対角的。\n",
    "        return mu + eps*std\n",
    "    #zの値を確率的に作っている。\n",
    "\n",
    "    def decode(self,z):\n",
    "        de_h1 = F.relu(self.decode1_layer(z))\n",
    "        de_h2 = F.relu(self.decode2_layer(de_h1))\n",
    "        de_h3 = F.relu(self.decode3_layer(de_h2))\n",
    "        return self.output_layer(de_h3)\n",
    "    #zからNNを通したあとに、sigmoidで押し込んでxの値を作っている\n",
    "\n",
    "\n",
    " #   def tconv_decode(self,z):\n",
    " #       tconv_h1 = F.relu(self.conv_latent_decode(z))  #10 -> 7*7*64\n",
    " #       tconv_h2 = F.relu(self.second_tconv(z.view(-1,tnch2,out_width2,out_width2))) #7*7*64 ->14*14*32\n",
    " #       return torch.sigmoid((self.first_tconv(tconv_h2)).squeeze()) #14*14*32 -> 28*28\n",
    "    #zからNNを通したあとに、sigmoidで押し込んでxの値を作っている\n",
    "\n",
    "    def tconv_decode(self,z):\n",
    "        tconv_h4 = F.relu(self.conv_latent_decode(z))#10 -> 1*1*256\n",
    "        tconv_h3 = F.relu(self.fourth_tbn(self.fourth_tconv(tconv_h4.view(-1,tnch4,out_width4,out_width4)))) #1*1*256->4*4*128\n",
    "        tconv_h2 = F.relu(self.third_tbn(self.third_tconv(tconv_h3))) #4*4*128 ->7*7*64\n",
    "        tconv_h1 = F.relu(self.second_tbn(self.second_tconv(tconv_h2))) #7*7*64 ->14*14*32\n",
    "        return torch.sigmoid(self.first_tconv(tconv_h1).squeeze()) #14*14*32 -> 28*28\n",
    "#    #zからNNを通したあとに、sigmoidで押し込んでxの値を作っている\n",
    "\n",
    "#    def forward(self, x):\n",
    "#        mu, logvar = self.encode(self.conv_encode(x))\n",
    "#        z = self.reparameterize(mu, logvar)\n",
    "#        return self.tconv_decode(self.decode(z)),mu,logvar,z\n",
    "    #出力はxの予測値とzを算出するときの中心と分散になっている\n",
    "\n",
    "    def forward(self, x):\n",
    "        mu, logvar = self.conv_encode(x)\n",
    "        z = self.reparameterize(mu, logvar)\n",
    "        return self.tconv_decode(z),mu,logvar,z\n",
    "    #出力はxの予測値とzを算出するときの中心と分散になっている\n",
    "\n",
    "\n",
    "model = VAE().to(device)\n",
    "\n",
    "optimizer = optim.Adam(model.parameters(),lr=0.002)\n",
    "scheduler = torch.optim.lr_scheduler.MultiStepLR(optimizer,milestones=[20,40,60,80,100,120,140,160,180,200,220,240,260],gamma=0.9)\n",
    "\n",
    "\n",
    "#optimizer_clustering = optim.Adam([mu_c_g,logvar_c_g,inv_sm_pi_c_g],lr=0.002)\n",
    "optimizer_clustering = optim.Adam([mu_c_g,logvar_c_g],lr=0.002)\n",
    "scheduler_clustering = torch.optim.lr_scheduler.MultiStepLR(optimizer_clustering,milestones=[20,40,60,80,100,120,140,160,180,200,220,240,260],gamma=0.9)\n"
   ],
   "metadata": {
    "collapsed": false,
    "pycharm": {
     "name": "#%%\n"
    }
   }
  },
  {
   "cell_type": "code",
   "execution_count": 12,
   "outputs": [],
   "source": [
    "def take_latents():\n",
    "    zs = torch.empty(0,latent_dim,1).to(device).requires_grad_(False)\n",
    "    ts = torch.empty(0,dtype=torch.long).to(device).requires_grad_(False)\n",
    "    mus = torch.empty(0,latent_dim,1).to(device).requires_grad_(False)\n",
    "    logvars = torch.empty(0,latent_dim,1).to(device).requires_grad_(False)\n",
    "#zs = []\n",
    "#ts = []\n",
    "\n",
    "#ts.dtype = torch.int\n",
    "\n",
    "    #for x, t in test_loader:\n",
    "    for batch_idx, (x,t) in enumerate(test_loader):\n",
    "    # original。xがデータ、tがラベル。\n",
    "    #for i, im in enumerate(x.view(-1, 28, 28).detach().numpy()[:10]):\n",
    "    #  ax = fig.add_subplot(3, 10, i+1, xticks=[], yticks=[])\n",
    "    #  ax.imshow(im, 'gray')\n",
    "    #x = x.to(device)\n",
    "    # generate from x\n",
    "        if batch_idx < take_latent_max:\n",
    "            x = x.to(device)\n",
    "            with torch.no_grad():\n",
    "                recon_batch,mu,logvar, z = model(x)\n",
    "            t = t.to(device)\n",
    "    #zs.append(z)\n",
    "    #ts.append(t)\n",
    "            zs = torch.cat((zs,z.view(-1,latent_dim,1)),0)\n",
    "            ts = torch.cat((ts,t),0)\n",
    "            mus = torch.cat((mus,mu.view(-1,latent_dim,1)),0)\n",
    "            logvars = torch.cat((logvars,logvar.view(-1,latent_dim,1)),0)\n",
    "    #y = y.view(-1, 28, 28)\n",
    "    #for i, im in enumerate(y.cpu().detach().numpy()[:10]):\n",
    "     # ax = fig.add_subplot(3, 10, i+11, xticks=[], yticks=[])\n",
    "     # ax.imshow(im, 'gray')\n",
    "    mus = torch.cat((mus,mu_c_g.permute(2,1,0)),0)\n",
    "    ts = torch.cat((ts,torch.arange(-1,-K_model_cluster-1,-1).to(device)),0)\n",
    "    return zs,ts,mus,logvars\n"
   ],
   "metadata": {
    "collapsed": false,
    "pycharm": {
     "name": "#%%\n"
    }
   }
  },
  {
   "cell_type": "code",
   "execution_count": 13,
   "outputs": [],
   "source": [
    "def gauss(mus,logvars,mu_c,logvar_c,inv_sm_pi_c,iter):\n",
    "\n",
    "    for i in range(iter):\n",
    "        with torch.no_grad():\n",
    "            Q_c = logvar_c+(logvars.exp()+(mus-mu_c).pow(2))/(logvar_c.exp())\n",
    "\n",
    "            gamma_c = (F.softmax(inv_sm_pi_c,dim=2)*((-0.5*Q_c.sum(1,keepdim=True)).exp()))/((F.softmax(inv_sm_pi_c,dim=2)*((-0.5*Q_c.sum(1,keepdim=True)).exp())).sum(2,keepdim=True))\n",
    "\n",
    "            N_c = gamma_c.sum(0,keepdim=True)\n",
    "            log_P = (((F.softmax(inv_sm_pi_c,dim=2)*((-0.5*Q_c.sum(1,keepdim=True)).exp())).sum(2).squeeze()).log()).sum()/((Q_c.shape)[0])\n",
    "            pi_c= N_c/(N_c.sum())\n",
    "            mu_c=(gamma_c*mus).sum(0,keepdim=True)/N_c\n",
    "            logvar_c=((gamma_c*((mus-mu_c).pow(2)+logvars.exp())).sum(0,keepdim=True)/N_c).log()\n",
    "\n",
    "\n",
    "    return mu_c,logvar_c,pi_c,Q_c,gamma_c,log_P\n"
   ],
   "metadata": {
    "collapsed": false,
    "pycharm": {
     "name": "#%%\n"
    }
   }
  },
  {
   "cell_type": "code",
   "execution_count": 14,
   "outputs": [],
   "source": [
    "def drawpoints(mus_numpy,ts_numpy):\n",
    "    colors = [\"red\", \"green\", \"blue\", \"orange\", \"purple\", \"brown\", \"fuchsia\", \"grey\", \"olive\", \"lightblue\",\"red\", \"green\", \"blue\", \"orange\", \"purple\", \"brown\", \"fuchsia\", \"grey\", \"olive\", \"lightblue\"]\n",
    "    for p,l in zip(points,ts_numpy):\n",
    "        plt.scatter(p[0],p[1],marker=\"${}$\".format(l),c=colors[l])\n",
    "\n",
    "cm = plt.cm.get_cmap('tab20')\n",
    "def drawpoints_with_centers(mus_numpy,ts_numpy,center_numpy,center_t_numpy):\n",
    "    for p,l in zip(mus_numpy,ts_numpy):\n",
    "        plt.scatter(p[0],p[1],marker=\"${}$\".format(l),color=cm.colors[l])\n",
    "    for p,l in zip(center_numpy,center_t_numpy):\n",
    "        plt.scatter(p[0],p[1],facecolors='none',edgecolors='red',s=200)\n",
    "    for p,l in zip(center_numpy,center_t_numpy):\n",
    "        plt.scatter(p[0],p[1],marker=\"${}$\".format(l),color='black',s=50)\n",
    "\n",
    "#    plt.xlim(-4,4)\n",
    "#    plt.ylim(-4,4)\n",
    "    plt.show()"
   ],
   "metadata": {
    "collapsed": false,
    "pycharm": {
     "name": "#%%\n"
    }
   }
  },
  {
   "cell_type": "code",
   "execution_count": 15,
   "outputs": [],
   "source": [
    "N_wide = 10\n",
    "N_sigma =7\n",
    "def show_generated_samples_c(mu_c,logvar_c):\n",
    "\n",
    "    for i in range(K_model_cluster):\n",
    "        sample = torch.empty(latent_dim*(N_wide+1),latent_dim).to(device)\n",
    "        with torch.no_grad():\n",
    "            for j in range(latent_dim):\n",
    "                for k in range(N_wide+1):\n",
    "                    std_c =torch.zeros(latent_dim).to(device)\n",
    "                    std_c[j] = (logvar_c_g[0,j,i].exp()).sqrt()\n",
    "                    sample[j*(N_wide+1)+k,:] = mu_c[0,:,i]+N_sigma*(k-N_wide/2)*std_c/N_wide\n",
    "            #sample_dist = MultivariateNormal(loc=mu_c[:,:,i],covariance_matrix=torch.diag(logvar_c[0,:,i].exp()))\n",
    "    #mu_distribution = MultivariateNormal(loc=mu_center.cpu(),covariance_matrix=cov_mus.cpu())\n",
    "            #sample = sample_dist.sample([64,])\n",
    "#    sample = torch.randn(64,latent_dim).to(device)\n",
    "        #20次元の潜在空間のデータを64個作成して、GPUに送る\n",
    "            sample = model.tconv_decode(sample).cpu()\n",
    "            #sample = model.tconv_decode(model.decode(sample)).cpu()\n",
    "        #ランダムな潜在変数から画像を生成する。\n",
    "            save_image(sample.view(latent_dim*(N_wide+1),1,28,28),save_folder+'/sample_c_' + str(i) + '.png',nrow=N_wide+1)\n",
    "        #生成した６４個のデータを記録しておく"
   ],
   "metadata": {
    "collapsed": false,
    "pycharm": {
     "name": "#%%\n"
    }
   }
  },
  {
   "cell_type": "code",
   "execution_count": 16,
   "outputs": [],
   "source": [
    "def q_exponential(x,n):\n",
    "    if n==0:\n",
    "        return x.exp()\n",
    "    else:\n",
    "        return (1. - x/n).pow(-n)\n",
    "\n",
    "def q_log(x,n):\n",
    "    if n==0:\n",
    "        return x.log()\n",
    "    else:\n",
    "        return n*(x.pow(1./n)-1.)"
   ],
   "metadata": {
    "collapsed": false,
    "pycharm": {
     "name": "#%%\n"
    }
   }
  },
  {
   "cell_type": "code",
   "execution_count": 17,
   "outputs": [],
   "source": [
    "def loss_function_c(recon_x,x,mus_f,logvars_f,mu_c_f,logvar_c_f,inv_sm_pi_c_f):\n",
    "    BCE = F.binary_cross_entropy(recon_x.view(-1,input_dim),x.view(-1,input_dim),reduction='sum')\n",
    "    KLD = -(q_log(stabilizer_eps+(F.softmax(inv_sm_pi_c_f,dim=2)*(q_exponential(-0.5*((-1.+logvar_c_f-logvars_f+(logvars_f.exp()+(mus_f-mu_c_f).pow(2))/(logvar_c_f.exp())).sum(1,keepdim=True)),qn_value))).sum(2,keepdim=True),qn_value)).sum()\n",
    "\n",
    "    return BCE+beta*KLD\n"
   ],
   "metadata": {
    "collapsed": false,
    "pycharm": {
     "name": "#%%\n"
    }
   }
  },
  {
   "cell_type": "code",
   "execution_count": 18,
   "outputs": [],
   "source": [
    "def train_c(epoch,mu_c,logvar_c,inv_sm_pi_c):\n",
    "    model.train()\n",
    "    train_loss = 0\n",
    "    for batch_idx, (data,_) in enumerate(train_loader):\n",
    "        #ラベルは使わないようだ\n",
    "        data = data.to(device)\n",
    "        #データをGPUにおくる\n",
    "        optimizer.zero_grad()\n",
    "        optimizer_clustering.zero_grad()\n",
    "\n",
    "        #傾きの初期化\n",
    "        recon_batch, mu, logvar,z_data = model(data)\n",
    "        #VAEからバッヂ分のデータと中心と分散のログを受け取る\n",
    "\n",
    "        loss = loss_function_c(recon_x=recon_batch,x=data,mus_f=mu.view(-1,latent_dim,1),logvars_f=logvar.view(-1,latent_dim,1),mu_c_f=mu_c,logvar_c_f=logvar_c,inv_sm_pi_c_f=inv_sm_pi_c)\n",
    "        #バッヂ分のロスを計算。バッヂ数で割っていないようだ。書き出しのときにデータ数で割っている。\n",
    "        loss.backward()\n",
    "        #傾きを計算\n",
    "        train_loss+= loss.item()\n",
    "        optimizer.step()\n",
    "        #NNパラメータの更新\n",
    "\n",
    "        optimizer_clustering.step()\n",
    "        #NNクラスタリングパラメータの更新\n",
    "\n",
    "\n",
    "#        print(mu_c_g)\n",
    "#        print('var_c='.format(logvar_c_g.exp()))\n",
    "\n",
    "#        print('mu={}'.format(mu.view(-1,latent_dim,1).squeeze()))\n",
    "#        print('prec_c={}'.format((1./logvar_c_g.exp()).squeeze()))\n",
    "#        print('quad={}'.format(((((mu.view(-1,latent_dim,1)-mu_c_g).pow(2))/(logvar_c_g.exp())).sum(1)).squeeze()))\n",
    "#        print('quadvar={}'.format((((logvar.view(-1,latent_dim,1).exp())/(logvar_c_g.exp())).sum(1)).squeeze()))\n",
    "#        print('expDKL={}'.format((-0.5*((logvar_c_g+(logvar.view(-1,latent_dim,1).exp()+(mu.view(-1,latent_dim,1)-mu_c_g).pow(2))/(logvar_c_g.exp())).sum(1,keepdim=True))).exp().squeeze()))\n",
    "#        print('logDKL={}'.format((((F.softmax(inv_sm_pi_c_g,dim=2)*((-0.5*((logvar_c_g+(logvar.view(-1,latent_dim,1).exp()+(mu.view(-1,latent_dim,1)-mu_c_g).pow(2))/(logvar_c_g.exp())).sum(1,keepdim=True))).exp())).sum(2,keepdim=True)).log()).squeeze()))\n",
    "\n",
    "        if batch_idx % log_interval ==0:\n",
    "            #一定間隔でロスを書き出し。epochはここでしか使っていないようだ。len()は最初の次元の大きさを出すのでバッヂの大きさ。\n",
    "            print('Train Epoch: {} [{}/{} ({:.0f}%)]\\tLoss: {:.6f}'.format(\n",
    "              epoch,batch_idx*len(data),len(train_loader.dataset),\n",
    "                100.*batch_idx/len(train_loader),\n",
    "                loss.item()/len(data)\n",
    "            ))\n",
    "\n",
    "#        if batch_idx == 5:\n",
    "#            break"
   ],
   "metadata": {
    "collapsed": false,
    "pycharm": {
     "name": "#%%\n"
    }
   }
  },
  {
   "cell_type": "code",
   "execution_count": 19,
   "outputs": [],
   "source": [
    "def test_c(epoch,mu_c,logvar_c,inv_sm_pi_c):\n",
    "    model.eval()\n",
    "    test_loss = 0\n",
    "    with torch.no_grad():#バックプロパゲーションを行わないから、微分情報を残さない\n",
    "        for i, (data, _) in enumerate(test_loader):\n",
    "            #テストデータを取り出す。ラベルはいらない。\n",
    "            data =data.to(device)\n",
    "            #データをGPUに送る\n",
    "            recon_batch, mu, logvar,z_data = model(data)\n",
    "            #データからバッヂ分の再現画像と中心と分散の対数を出している。\n",
    "            test_loss += loss_function_c(recon_x=recon_batch,x=data,mus_f=mu.view(-1,latent_dim,1),logvars_f=logvar.view(-1,latent_dim,1),mu_c_f=mu_c,logvar_c_f=logvar_c,inv_sm_pi_c_f=inv_sm_pi_c).item()\n",
    "            #テストデータでのロスを出している\n",
    "            if i == 0:\n",
    "                #はじめのバッヂについて\n",
    "                n = min(data.size(0),16)\n",
    "                #nをバッヂのデータ数か８との小さい方として\n",
    "                comparizon = torch.cat([data[:n],recon_batch.view(batch_size,1,28,28)[:n]])\n",
    "                #元データと再現データを並べる\n",
    "                save_image(comparizon.cpu(),'./'+save_folder+'/reconstruction_c_' + str(epoch) + '.png',nrow=n)\n",
    "\n",
    "                test_loss /= len(test_loader.dataset)\n",
    "                print('====> Test set loss: {:.4f}'.format(test_loss))"
   ],
   "metadata": {
    "collapsed": false,
    "pycharm": {
     "name": "#%%\n"
    }
   }
  },
  {
   "cell_type": "code",
   "execution_count": 20,
   "outputs": [
    {
     "data": {
      "text/plain": "\"\\ndef train_c_epoch(epochs,mu_c,logvar_c,inv_sm_pi_c):\\n    for epoch in range(1, epochs +1):\\n        train_c(epoch,mu_c,logvar_c,inv_sm_pi_c)\\n        test_c(epoch,mu_c,logvar_c,inv_sm_pi_c)\\n        with torch.no_grad():\\n            sample = torch.randn(64,latent_dim).to(device)\\n        #20次元の潜在空間のデータを64個作成して、GPUに送る\\n            sample = model.decode(sample).cpu()\\n        #ランダムな潜在変数から画像を生成する。\\n            save_image(sample.view(64,1,28,28),save_folder+'/sample_c_epoch_' + str(epoch) + '.png',nrow=8)\\n        #生成した６４個のデータを記録しておく\\n\\n\""
     },
     "execution_count": 20,
     "metadata": {},
     "output_type": "execute_result"
    }
   ],
   "source": [
    "'''\n",
    "def train_c_epoch(epochs,mu_c,logvar_c,inv_sm_pi_c):\n",
    "    for epoch in range(1, epochs +1):\n",
    "        train_c(epoch,mu_c,logvar_c,inv_sm_pi_c)\n",
    "        test_c(epoch,mu_c,logvar_c,inv_sm_pi_c)\n",
    "        with torch.no_grad():\n",
    "            sample = torch.randn(64,latent_dim).to(device)\n",
    "        #20次元の潜在空間のデータを64個作成して、GPUに送る\n",
    "            sample = model.decode(sample).cpu()\n",
    "        #ランダムな潜在変数から画像を生成する。\n",
    "            save_image(sample.view(64,1,28,28),save_folder+'/sample_c_epoch_' + str(epoch) + '.png',nrow=8)\n",
    "        #生成した６４個のデータを記録しておく\n",
    "\n",
    "'''"
   ],
   "metadata": {
    "collapsed": false,
    "pycharm": {
     "name": "#%%\n"
    }
   }
  },
  {
   "cell_type": "code",
   "execution_count": 21,
   "outputs": [
    {
     "data": {
      "text/plain": "(tensor([[[ 0.4519, -0.3219,  2.5174, -2.3789, -0.5193,  1.2967,  1.4071,\n            1.1582, -2.5024,  1.3282],\n          [ 0.8141,  0.9535, -0.3471, -0.0662, -0.0887, -0.4486, -0.6486,\n           -0.1566,  0.4525, -0.7346],\n          [ 0.3074,  1.3153,  1.4545,  1.7507, -0.0511,  0.1216,  2.0988,\n            0.7314, -0.4840,  1.9580],\n          [-1.0150, -1.6722, -0.9606, -0.6719, -1.3621, -0.0704, -0.0508,\n            0.3868, -0.3654,  1.2156],\n          [ 0.4578, -0.6063, -1.0672,  0.9901, -0.0712, -0.3948, -1.3406,\n            0.4382,  1.3012, -0.2782],\n          [ 1.0010, -2.1101, -0.3539, -1.7692, -0.6056, -1.8551,  1.0525,\n           -0.5902, -1.5097, -0.0259],\n          [-0.3756, -0.1100, -1.2002, -0.5655, -1.3940,  0.8034,  1.2671,\n            1.1770, -0.6734,  1.7142],\n          [-1.0369,  0.0130, -1.2211, -1.4355, -0.5050,  0.1097,  1.2729,\n            0.3484,  1.2638, -0.7612],\n          [-0.0506, -0.8390,  0.1964, -1.0383, -1.3206, -1.8094,  0.8003,\n           -1.2222, -2.7496,  1.1640],\n          [-1.3587,  1.7519, -1.4153, -0.7212,  1.8034,  0.0945,  0.1856,\n           -1.4303,  1.2616, -0.0482]]], device='cuda:0', requires_grad=True),\n tensor([[[0., 0., 0., 0., 0., 0., 0., 0., 0., 0.],\n          [0., 0., 0., 0., 0., 0., 0., 0., 0., 0.],\n          [0., 0., 0., 0., 0., 0., 0., 0., 0., 0.],\n          [0., 0., 0., 0., 0., 0., 0., 0., 0., 0.],\n          [0., 0., 0., 0., 0., 0., 0., 0., 0., 0.],\n          [0., 0., 0., 0., 0., 0., 0., 0., 0., 0.],\n          [0., 0., 0., 0., 0., 0., 0., 0., 0., 0.],\n          [0., 0., 0., 0., 0., 0., 0., 0., 0., 0.],\n          [0., 0., 0., 0., 0., 0., 0., 0., 0., 0.],\n          [0., 0., 0., 0., 0., 0., 0., 0., 0., 0.]]], device='cuda:0',\n        requires_grad=True),\n tensor([[[0.1000, 0.1000, 0.1000, 0.1000, 0.1000, 0.1000, 0.1000, 0.1000,\n           0.1000, 0.1000]]], device='cuda:0', grad_fn=<SoftmaxBackward>))"
     },
     "execution_count": 21,
     "metadata": {},
     "output_type": "execute_result"
    }
   ],
   "source": [
    "\n",
    "mu_c_g,logvar_c_g,F.softmax(inv_sm_pi_c_g,dim=2)"
   ],
   "metadata": {
    "collapsed": false,
    "pycharm": {
     "name": "#%%\n"
    }
   }
  },
  {
   "cell_type": "code",
   "execution_count": 93,
   "outputs": [],
   "source": [
    "#infomax_alpha = 2.\n",
    "#beta_delta = 0.04\n",
    "stabilizer_eps = 1.0e-32"
   ],
   "metadata": {
    "collapsed": false,
    "pycharm": {
     "name": "#%%\n"
    }
   }
  },
  {
   "cell_type": "code",
   "execution_count": 94,
   "outputs": [
    {
     "name": "stdout",
     "output_type": "stream",
     "text": [
      "Train Epoch: 0 [0/60000 (0%)]\tLoss: 90.881582\n",
      "====> Test set loss: 0.9978\n",
      "Train Epoch: 1 [0/60000 (0%)]\tLoss: 92.122920\n",
      "====> Test set loss: 0.9380\n",
      "Train Epoch: 2 [0/60000 (0%)]\tLoss: 89.457959\n",
      "====> Test set loss: 0.9242\n",
      "Train Epoch: 3 [0/60000 (0%)]\tLoss: 93.650088\n",
      "====> Test set loss: 0.9624\n",
      "Train Epoch: 4 [0/60000 (0%)]\tLoss: 87.332734\n",
      "====> Test set loss: 0.9059\n",
      "Train Epoch: 5 [0/60000 (0%)]\tLoss: 91.842617\n",
      "====> Test set loss: 0.8757\n",
      "Train Epoch: 6 [0/60000 (0%)]\tLoss: 90.945273\n",
      "====> Test set loss: 0.9445\n",
      "Train Epoch: 7 [0/60000 (0%)]\tLoss: 89.106699\n",
      "====> Test set loss: 0.9600\n",
      "Train Epoch: 8 [0/60000 (0%)]\tLoss: 89.830605\n",
      "====> Test set loss: 0.9913\n",
      "Train Epoch: 9 [0/60000 (0%)]\tLoss: 93.293340\n",
      "====> Test set loss: 0.9374\n",
      "Train Epoch: 10 [0/60000 (0%)]\tLoss: 87.144707\n",
      "====> Test set loss: 0.9214\n",
      "Train Epoch: 11 [0/60000 (0%)]\tLoss: 89.878516\n",
      "====> Test set loss: 0.9211\n",
      "Train Epoch: 12 [0/60000 (0%)]\tLoss: 92.678828\n",
      "====> Test set loss: 0.9764\n",
      "Train Epoch: 13 [0/60000 (0%)]\tLoss: 89.370391\n",
      "====> Test set loss: 0.9584\n",
      "Train Epoch: 14 [0/60000 (0%)]\tLoss: 88.658848\n",
      "====> Test set loss: 0.9769\n",
      "Train Epoch: 15 [0/60000 (0%)]\tLoss: 93.491367\n",
      "====> Test set loss: 0.9200\n",
      "Train Epoch: 16 [0/60000 (0%)]\tLoss: 90.116855\n",
      "====> Test set loss: 0.9465\n",
      "Train Epoch: 17 [0/60000 (0%)]\tLoss: 92.897207\n",
      "====> Test set loss: 0.9765\n",
      "Train Epoch: 18 [0/60000 (0%)]\tLoss: 93.736123\n",
      "====> Test set loss: 0.9241\n",
      "Train Epoch: 19 [0/60000 (0%)]\tLoss: 94.334102\n",
      "====> Test set loss: 0.9450\n",
      "Train Epoch: 20 [0/60000 (0%)]\tLoss: 87.838721\n",
      "====> Test set loss: 0.9234\n",
      "Train Epoch: 21 [0/60000 (0%)]\tLoss: 91.075225\n",
      "====> Test set loss: 0.9802\n",
      "Train Epoch: 22 [0/60000 (0%)]\tLoss: 92.741523\n",
      "====> Test set loss: 0.9329\n",
      "Train Epoch: 23 [0/60000 (0%)]\tLoss: 88.273672\n",
      "====> Test set loss: 0.9802\n",
      "Train Epoch: 24 [0/60000 (0%)]\tLoss: 89.030000\n",
      "====> Test set loss: 0.9550\n",
      "Train Epoch: 25 [0/60000 (0%)]\tLoss: 94.628086\n",
      "====> Test set loss: 0.9127\n",
      "Train Epoch: 26 [0/60000 (0%)]\tLoss: 87.869424\n",
      "====> Test set loss: 0.9813\n",
      "Train Epoch: 27 [0/60000 (0%)]\tLoss: 86.300547\n",
      "====> Test set loss: 0.9573\n",
      "Train Epoch: 28 [0/60000 (0%)]\tLoss: 93.679346\n",
      "====> Test set loss: 0.9168\n",
      "Train Epoch: 29 [0/60000 (0%)]\tLoss: 90.911992\n",
      "====> Test set loss: 0.9743\n",
      "Train Epoch: 30 [0/60000 (0%)]\tLoss: 93.987539\n",
      "====> Test set loss: 0.9296\n",
      "Train Epoch: 31 [0/60000 (0%)]\tLoss: 89.623018\n",
      "====> Test set loss: 1.0069\n",
      "Train Epoch: 32 [0/60000 (0%)]\tLoss: 87.359268\n",
      "====> Test set loss: 0.9289\n",
      "Train Epoch: 33 [0/60000 (0%)]\tLoss: 95.682090\n",
      "====> Test set loss: 0.9369\n",
      "Train Epoch: 34 [0/60000 (0%)]\tLoss: 91.250664\n",
      "====> Test set loss: 0.9579\n",
      "Train Epoch: 35 [0/60000 (0%)]\tLoss: 90.002061\n",
      "====> Test set loss: 0.9232\n",
      "Train Epoch: 36 [0/60000 (0%)]\tLoss: 87.219990\n",
      "====> Test set loss: 0.9474\n",
      "Train Epoch: 37 [0/60000 (0%)]\tLoss: 88.861084\n",
      "====> Test set loss: 0.9686\n",
      "Train Epoch: 38 [0/60000 (0%)]\tLoss: 90.464277\n",
      "====> Test set loss: 0.9494\n",
      "Train Epoch: 39 [0/60000 (0%)]\tLoss: 87.525928\n",
      "====> Test set loss: 0.9141\n",
      "Train Epoch: 40 [0/60000 (0%)]\tLoss: 90.647246\n",
      "====> Test set loss: 0.9485\n",
      "Train Epoch: 41 [0/60000 (0%)]\tLoss: 89.541074\n",
      "====> Test set loss: 0.9831\n",
      "Train Epoch: 42 [0/60000 (0%)]\tLoss: 93.227012\n",
      "====> Test set loss: 0.9304\n",
      "Train Epoch: 43 [0/60000 (0%)]\tLoss: 90.082920\n",
      "====> Test set loss: 0.9720\n",
      "Train Epoch: 44 [0/60000 (0%)]\tLoss: 89.310449\n",
      "====> Test set loss: 0.9565\n",
      "Train Epoch: 45 [0/60000 (0%)]\tLoss: 89.915967\n",
      "====> Test set loss: 0.9531\n",
      "Train Epoch: 46 [0/60000 (0%)]\tLoss: 88.537119\n",
      "====> Test set loss: 0.9286\n",
      "Train Epoch: 47 [0/60000 (0%)]\tLoss: 91.353545\n",
      "====> Test set loss: 0.9251\n",
      "Train Epoch: 48 [0/60000 (0%)]\tLoss: 89.493350\n",
      "====> Test set loss: 0.9975\n",
      "Train Epoch: 49 [0/60000 (0%)]\tLoss: 88.911367\n",
      "====> Test set loss: 0.9608\n",
      "Train Epoch: 50 [0/60000 (0%)]\tLoss: 91.644551\n",
      "====> Test set loss: 0.9688\n",
      "Train Epoch: 51 [0/60000 (0%)]\tLoss: 93.708564\n",
      "====> Test set loss: 0.9076\n",
      "Train Epoch: 52 [0/60000 (0%)]\tLoss: 88.807500\n",
      "====> Test set loss: 0.9333\n",
      "Train Epoch: 53 [0/60000 (0%)]\tLoss: 89.662432\n",
      "====> Test set loss: 0.9681\n",
      "Train Epoch: 54 [0/60000 (0%)]\tLoss: 87.999316\n",
      "====> Test set loss: 0.9262\n",
      "Train Epoch: 55 [0/60000 (0%)]\tLoss: 90.226465\n",
      "====> Test set loss: 0.8878\n",
      "Train Epoch: 56 [0/60000 (0%)]\tLoss: 92.641201\n",
      "====> Test set loss: 0.9629\n",
      "Train Epoch: 57 [0/60000 (0%)]\tLoss: 92.988525\n",
      "====> Test set loss: 0.9284\n",
      "Train Epoch: 58 [0/60000 (0%)]\tLoss: 90.349883\n",
      "====> Test set loss: 0.8976\n",
      "Train Epoch: 59 [0/60000 (0%)]\tLoss: 88.317617\n",
      "====> Test set loss: 0.9519\n",
      "Train Epoch: 60 [0/60000 (0%)]\tLoss: 89.664863\n",
      "====> Test set loss: 0.9674\n",
      "Train Epoch: 61 [0/60000 (0%)]\tLoss: 87.520781\n",
      "====> Test set loss: 0.8953\n",
      "Train Epoch: 62 [0/60000 (0%)]\tLoss: 89.270771\n",
      "====> Test set loss: 0.9566\n",
      "Train Epoch: 63 [0/60000 (0%)]\tLoss: 89.933975\n",
      "====> Test set loss: 0.9756\n",
      "Train Epoch: 64 [0/60000 (0%)]\tLoss: 94.206035\n",
      "====> Test set loss: 0.9168\n",
      "Train Epoch: 65 [0/60000 (0%)]\tLoss: 90.989219\n",
      "====> Test set loss: 0.9151\n",
      "Train Epoch: 66 [0/60000 (0%)]\tLoss: 92.268457\n",
      "====> Test set loss: 0.9710\n",
      "Train Epoch: 67 [0/60000 (0%)]\tLoss: 89.145576\n",
      "====> Test set loss: 0.9496\n",
      "Train Epoch: 68 [0/60000 (0%)]\tLoss: 90.640029\n",
      "====> Test set loss: 0.9697\n",
      "Train Epoch: 69 [0/60000 (0%)]\tLoss: 89.152510\n",
      "====> Test set loss: 0.9710\n",
      "Train Epoch: 70 [0/60000 (0%)]\tLoss: 89.726797\n",
      "====> Test set loss: 0.9342\n",
      "Train Epoch: 71 [0/60000 (0%)]\tLoss: 88.947812\n",
      "====> Test set loss: 0.9415\n",
      "Train Epoch: 72 [0/60000 (0%)]\tLoss: 89.190996\n",
      "====> Test set loss: 1.0145\n",
      "Train Epoch: 73 [0/60000 (0%)]\tLoss: 93.122949\n",
      "====> Test set loss: 0.9481\n",
      "Train Epoch: 74 [0/60000 (0%)]\tLoss: 89.798867\n",
      "====> Test set loss: 0.9763\n",
      "Train Epoch: 75 [0/60000 (0%)]\tLoss: 85.831299\n",
      "====> Test set loss: 0.9358\n",
      "Train Epoch: 76 [0/60000 (0%)]\tLoss: 94.137207\n",
      "====> Test set loss: 0.9326\n",
      "Train Epoch: 77 [0/60000 (0%)]\tLoss: 87.016670\n",
      "====> Test set loss: 0.9693\n",
      "Train Epoch: 78 [0/60000 (0%)]\tLoss: 88.890029\n",
      "====> Test set loss: 1.0195\n",
      "Train Epoch: 79 [0/60000 (0%)]\tLoss: 91.237178\n",
      "====> Test set loss: 0.9312\n",
      "Train Epoch: 80 [0/60000 (0%)]\tLoss: 91.019805\n",
      "====> Test set loss: 0.9487\n",
      "Train Epoch: 81 [0/60000 (0%)]\tLoss: 87.395576\n",
      "====> Test set loss: 0.8973\n",
      "Train Epoch: 82 [0/60000 (0%)]\tLoss: 89.850049\n",
      "====> Test set loss: 0.9099\n",
      "Train Epoch: 83 [0/60000 (0%)]\tLoss: 89.811680\n",
      "====> Test set loss: 0.9837\n",
      "Train Epoch: 84 [0/60000 (0%)]\tLoss: 88.559014\n",
      "====> Test set loss: 0.9334\n",
      "Train Epoch: 85 [0/60000 (0%)]\tLoss: 89.225303\n",
      "====> Test set loss: 0.9016\n",
      "Train Epoch: 86 [0/60000 (0%)]\tLoss: 87.781387\n",
      "====> Test set loss: 0.9242\n",
      "Train Epoch: 87 [0/60000 (0%)]\tLoss: 88.888672\n",
      "====> Test set loss: 0.8970\n",
      "Train Epoch: 88 [0/60000 (0%)]\tLoss: 88.138027\n",
      "====> Test set loss: 0.9492\n",
      "Train Epoch: 89 [0/60000 (0%)]\tLoss: 90.726455\n",
      "====> Test set loss: 0.9574\n"
     ]
    }
   ],
   "source": [
    "for i in range(90):\n",
    "    #train_c_epoch(epochs=1,mu_c=mu_c_g,logvar_c=logvar_c_g,pi_c=pi_c_g)\n",
    "\n",
    "    train_c(epoch=i,mu_c=mu_c_g,logvar_c=logvar_c_g,inv_sm_pi_c=inv_sm_pi_c_g)\n",
    "    test_c(epoch=i,mu_c=mu_c_g,logvar_c=logvar_c_g,inv_sm_pi_c=inv_sm_pi_c_g)\n",
    "    scheduler.step()\n",
    "    scheduler_clustering.step()\n",
    "\n",
    "    beta += beta_delta\n"
   ],
   "metadata": {
    "collapsed": false,
    "pycharm": {
     "name": "#%%\n"
    }
   }
  },
  {
   "cell_type": "code",
   "execution_count": 95,
   "outputs": [
    {
     "data": {
      "text/plain": "<Figure size 432x288 with 1 Axes>",
      "image/png": "[encoded data removed]"
     },
     "metadata": {
      "needs_background": "light"
     },
     "output_type": "display_data"
    }
   ],
   "source": [
    "zs_g,ts_g,mus_g,logvars_g = take_latents()\n",
    "points = TSNE(n_components=2,random_state=0).fit_transform(mus_g.view(-1,latent_dim).cpu().detach().numpy())\n",
    "data_points = points[0:take_latent_max*batch_size]\n",
    "center_points = points[take_latent_max*batch_size:]\n",
    "data_labels = ts_g[0:take_latent_max*batch_size].cpu().detach().numpy()\n",
    "center_labels = (-ts_g[take_latent_max*batch_size:]-1).cpu().detach().numpy()\n",
    "drawpoints_with_centers(data_points,data_labels,center_points,center_labels)"
   ],
   "metadata": {
    "collapsed": false,
    "pycharm": {
     "name": "#%%\n"
    }
   }
  },
  {
   "cell_type": "code",
   "execution_count": 96,
   "outputs": [
    {
     "data": {
      "text/plain": "<Figure size 432x288 with 1 Axes>",
      "image/png": "[encoded data removed]"
     },
     "metadata": {
      "needs_background": "light"
     },
     "output_type": "display_data"
    }
   ],
   "source": [
    "#kmeans_model = KMeans(n_clusters=K_model_cluster, random_state=1).fit(mus_g.view(-1,latent_dim).cpu().detach().numpy())\n",
    "#drawpoints(points,kmeans_model.labels_)\n",
    "kmeans_model = KMeans(n_clusters=K_model_cluster, random_state=1).fit(mus_g.view(-1,latent_dim).cpu().detach().numpy())\n",
    "drawpoints_with_centers(data_points,kmeans_model.labels_[:take_latent_max*batch_size],center_points,center_labels)"
   ],
   "metadata": {
    "collapsed": false,
    "pycharm": {
     "name": "#%%\n"
    }
   }
  },
  {
   "cell_type": "code",
   "execution_count": 97,
   "outputs": [
    {
     "data": {
      "text/plain": "<Figure size 432x288 with 1 Axes>",
      "image/png": "[encoded data removed]"
     },
     "metadata": {
      "needs_background": "light"
     },
     "output_type": "display_data"
    }
   ],
   "source": [
    "#gauss_model = GaussianMixture(n_components=K_model_cluster,covariance_type='diag',random_state=1).fit(mus_g.view(-1,latent_dim).cpu().detach().numpy())\n",
    "#drawpoints(points,gauss_model.predict(mus_g.view(-1,latent_dim).cpu().detach().numpy()))\n",
    "gauss_model = GaussianMixture(n_components=K_model_cluster,covariance_type='diag',random_state=1).fit(mus_g.view(-1,latent_dim).cpu().detach().numpy())\n",
    "drawpoints_with_centers(data_points,gauss_model.predict(mus_g.view(-1,latent_dim).cpu().detach().numpy())[:take_latent_max*batch_size],center_points,center_labels)"
   ],
   "metadata": {
    "collapsed": false,
    "pycharm": {
     "name": "#%%\n"
    }
   }
  },
  {
   "cell_type": "code",
   "execution_count": 98,
   "outputs": [
    {
     "data": {
      "text/plain": "<Figure size 432x288 with 1 Axes>",
      "image/png": "[encoded data removed]"
     },
     "metadata": {
      "needs_background": "light"
     },
     "output_type": "display_data"
    }
   ],
   "source": [
    "\n",
    "_,_,_,_,gamma_c_g,_ = gauss(mus_g[0:batch_size*take_latent_max,:,:],logvars_g,mu_c_g,logvar_c_g,inv_sm_pi_c_g,1)\n",
    "#drawpoints(points[0:batch_size*take_latent_max,:],torch.argmax(gamma_c_g,2).view(-1).cpu().detach().numpy())\n",
    "#_,_,_,_,gamma_c_g,_ = gauss(mus_g[0:batch_size*take_latent_max,:,:],logvars_g,mu_c_g,chol_prec_seed_c_g,inv_sm_pi_c_g,1)\n",
    "drawpoints_with_centers(data_points,torch.argmax(gamma_c_g,2).view(-1).cpu().detach().numpy(),center_points,center_labels)"
   ],
   "metadata": {
    "collapsed": false,
    "pycharm": {
     "name": "#%%\n"
    }
   }
  },
  {
   "cell_type": "code",
   "execution_count": 99,
   "outputs": [],
   "source": [
    "show_generated_samples_c(mu_c_g,logvar_c_g)"
   ],
   "metadata": {
    "collapsed": false,
    "pycharm": {
     "name": "#%%\n"
    }
   }
  },
  {
   "cell_type": "code",
   "execution_count": 100,
   "outputs": [
    {
     "data": {
      "text/plain": "(0.000774840978, 0.000774840978, 1.0)"
     },
     "execution_count": 100,
     "metadata": {},
     "output_type": "execute_result"
    }
   ],
   "source": [
    "optimizer.param_groups[0]['lr'],optimizer_clustering.param_groups[0]['lr'],beta"
   ],
   "metadata": {
    "collapsed": false,
    "pycharm": {
     "name": "#%%\n"
    }
   }
  },
  {
   "cell_type": "code",
   "execution_count": 101,
   "outputs": [],
   "source": [
    "correspond_matrix = torch.zeros(K_real_cluster,K_model_cluster)\n",
    "\n",
    "for i in range(batch_size*take_latent_max):\n",
    "\n",
    "    for j in range(K_model_cluster):\n",
    "        for k in range(K_real_cluster):\n",
    "            if torch.argmax(gamma_c_g,2)[i,0] == j:\n",
    "                if ts_g[i] == k:\n",
    "                    correspond_matrix[k,j] +=1\n"
   ],
   "metadata": {
    "collapsed": false,
    "pycharm": {
     "name": "#%%\n"
    }
   }
  },
  {
   "cell_type": "code",
   "execution_count": 102,
   "outputs": [
    {
     "data": {
      "text/plain": "tensor([[  0.,   0.,   0., 103.,   0.,   0.,   0.,   0.,   1.,   0.],\n        [  0.,   0.,   0.,   0.,   0.,   0., 106.,   0.,   1.,   0.],\n        [  0.,   0.,   0.,   0.,   0.,   0.,   0.,   0.,  90.,   2.],\n        [  0.,   0.,   0.,   0.,   2.,   2.,   0.,   0.,   4.,  90.],\n        [  0.,  47.,   0.,   0.,   0.,   0.,   0.,  39.,   0.,   0.],\n        [  0.,   0.,   1.,   0.,  97.,   0.,   0.,   1.,   0.,   2.],\n        [  0.,   0., 103.,   2.,   1.,   0.,   1.,   0.,   0.,   0.],\n        [  0.,   1.,   0.,   0.,   0.,  88.,   0.,   2.,   3.,   0.],\n        [103.,   0.,   0.,   2.,   1.,   0.,   0.,   1.,   0.,   1.],\n        [  3.,  36.,   0.,   0.,   0.,   2.,   1.,  61.,   0.,   0.]])"
     },
     "execution_count": 102,
     "metadata": {},
     "output_type": "execute_result"
    }
   ],
   "source": [
    "correspond_matrix"
   ],
   "metadata": {
    "collapsed": false,
    "pycharm": {
     "name": "#%%\n"
    }
   }
  },
  {
   "cell_type": "code",
   "execution_count": 103,
   "outputs": [
    {
     "data": {
      "text/plain": "tensor(1000.)"
     },
     "execution_count": 103,
     "metadata": {},
     "output_type": "execute_result"
    }
   ],
   "source": [
    "correspond_matrix.sum()"
   ],
   "metadata": {
    "collapsed": false,
    "pycharm": {
     "name": "#%%\n"
    }
   }
  },
  {
   "cell_type": "code",
   "execution_count": 104,
   "outputs": [
    {
     "data": {
      "text/plain": "torch.return_types.max(\nvalues=tensor([103.,  47., 103., 103.,  97.,  88., 106.,  61.,  90.,  90.]),\nindices=tensor([8, 4, 6, 0, 5, 7, 1, 9, 2, 3]))"
     },
     "execution_count": 104,
     "metadata": {},
     "output_type": "execute_result"
    }
   ],
   "source": [
    "torch.max(correspond_matrix,0)"
   ],
   "metadata": {
    "collapsed": false,
    "pycharm": {
     "name": "#%%\n"
    }
   }
  },
  {
   "cell_type": "code",
   "execution_count": 105,
   "outputs": [
    {
     "data": {
      "text/plain": "tensor(0.8880)"
     },
     "execution_count": 105,
     "metadata": {},
     "output_type": "execute_result"
    }
   ],
   "source": [
    "torch.max(correspond_matrix,0).values.sum()/(batch_size*take_latent_max)"
   ],
   "metadata": {
    "collapsed": false,
    "pycharm": {
     "name": "#%%\n"
    }
   }
  },
  {
   "cell_type": "code",
   "execution_count": 106,
   "outputs": [
    {
     "data": {
      "text/plain": "tensor([[[0.1000, 0.1000, 0.1000, 0.1000, 0.1000, 0.1000, 0.1000, 0.1000,\n          0.1000, 0.1000]]], device='cuda:0', grad_fn=<SoftmaxBackward>)"
     },
     "execution_count": 106,
     "metadata": {},
     "output_type": "execute_result"
    }
   ],
   "source": [
    "F.softmax(inv_sm_pi_c_g,dim=2)"
   ],
   "metadata": {
    "collapsed": false,
    "pycharm": {
     "name": "#%%\n"
    }
   }
  },
  {
   "cell_type": "code",
   "execution_count": 107,
   "outputs": [
    {
     "data": {
      "text/plain": "tensor([[[ 4.1766,  1.2794,  2.0448,  1.8124, -1.2178,  0.3685, -2.2559,\n           2.7941, -1.0848, -1.8345],\n         [ 0.4683,  4.4430, -0.7916,  1.6467, -2.2073, -1.9283, -2.2771,\n           0.3908,  1.5133, -2.4267],\n         [ 3.0438,  1.2078,  2.6584, -1.2541,  2.0196,  2.1135, 11.9986,\n           4.0097, -0.4545,  0.6805],\n         [-2.1199,  1.2205, -2.3947, -3.6577, -0.2884,  0.2107, -2.3320,\n           1.5012, -2.2464,  0.1152],\n         [ 2.2693,  0.1511,  3.2310,  0.3405,  0.4737, -2.7026, -1.8313,\n           0.1952,  0.1948, -1.6497],\n         [ 3.4524, -3.6643, -1.6920, -1.2708,  4.9711, -4.5605, -1.3373,\n          -3.0972, -1.7511,  2.9290],\n         [ 2.6775, -1.5704, -5.2442, -1.1618, -2.7662,  4.6146,  1.8863,\n          -0.3348,  4.2976,  3.7148],\n         [-0.0753,  1.4662, -1.8115, -6.9893, -1.5518,  1.3276,  4.0604,\n           1.4161,  0.2670, -3.8923],\n         [-0.6172, -2.6232,  2.9323, -1.6735, -1.1642, -5.8052,  2.1750,\n          -4.4045,  4.5038,  0.9325],\n         [-0.6243,  3.2901,  0.4160, -2.1441, -1.0023,  0.0509,  0.0463,\n          -0.9223, -0.8669,  1.6294]]], device='cuda:0', requires_grad=True)"
     },
     "execution_count": 107,
     "metadata": {},
     "output_type": "execute_result"
    }
   ],
   "source": [
    "mu_c_g"
   ],
   "metadata": {
    "collapsed": false,
    "pycharm": {
     "name": "#%%\n"
    }
   }
  },
  {
   "cell_type": "code",
   "execution_count": 108,
   "outputs": [
    {
     "data": {
      "text/plain": "tensor([[[ 6.2353,  6.8483,  2.9430,  6.4764,  8.1347,  4.5249,  1.9957,\n           3.2636,  8.6576,  3.2851],\n         [ 3.7001,  4.6632,  2.0747,  2.1944,  4.7797,  6.4492,  4.6076,\n           5.5947,  9.3341,  4.9932],\n         [ 8.6723,  9.3825, 12.6874, 10.8938,  6.8628,  7.7339,  5.7108,\n           5.7204,  5.4511,  5.9584],\n         [ 5.2746,  7.8952,  2.7902,  4.4782,  4.2023,  2.3782,  1.9842,\n           5.9632,  4.4929,  2.9813],\n         [ 4.3621,  4.6296,  4.2430,  6.0736,  5.0670,  6.0848,  8.8213,\n           3.4399,  6.2654,  5.3615],\n         [ 4.0034,  2.8274,  7.0865,  4.2614,  5.7396,  2.1044,  2.1803,\n           2.1146,  7.1165,  3.3804],\n         [ 2.7616,  4.8046,  2.1392,  3.0710,  2.3403,  8.5943,  3.1834,\n           2.7200,  9.7666,  4.6452],\n         [ 5.4427,  2.9133,  4.3171,  2.4925, 13.9650,  5.8118,  4.4909,\n           2.5959,  7.0281,  6.4740],\n         [ 4.2275,  6.1786,  1.6932,  3.1149,  5.7144,  8.6412,  4.4289,\n           3.8979,  8.0921,  5.0750],\n         [19.2780, 12.8732, 10.9571, 16.0331, 17.2046, 18.0153, 43.8647,\n          14.8582, 15.8062, 14.6304]]], device='cuda:0', grad_fn=<ExpBackward>)"
     },
     "execution_count": 108,
     "metadata": {},
     "output_type": "execute_result"
    }
   ],
   "source": [
    "logvar_c_g.exp()"
   ],
   "metadata": {
    "collapsed": false,
    "pycharm": {
     "name": "#%%\n"
    }
   }
  },
  {
   "cell_type": "code",
   "execution_count": 109,
   "outputs": [
    {
     "data": {
      "text/plain": "tensor([[-0.3540, -0.1322,  0.4025,  1.6991,  5.9922,  9.2032, -1.4162, -2.5785,\n         -2.2705,  4.0928],\n        [ 1.5310, -2.5301, -0.3573, -0.7365,  5.1404,  1.0011, -1.4836, -7.1931,\n         -0.9637,  2.2266],\n        [ 2.5087, -0.4400,  5.9487,  2.1762,  1.5674, -3.7181,  2.0860,  0.6072,\n         -5.3711, -2.5971],\n        [ 6.1169,  1.6651, -0.8181,  0.3696, -0.8803, -3.1851, 11.8216,  0.1126,\n          3.8271,  2.8213],\n        [ 4.8938, -0.7185, -0.3722, -5.1232,  4.4843,  4.9866,  0.8652, -0.0163,\n          5.0164,  1.3694],\n        [ 5.3181,  3.6653,  3.2678, -1.3718,  2.6361,  2.9558,  3.5512, -0.2719,\n         -0.1956, -3.4185],\n        [ 2.8085,  1.8524,  3.1131,  0.4536, -0.0899, -2.8373, -1.3075,  0.9883,\n         -4.9890,  5.7762],\n        [ 0.1985, -0.8985, -0.5893,  1.0399, -4.0840,  2.4628,  5.5135, -3.0560,\n          4.2161,  6.7464],\n        [ 0.8925,  2.4489, -2.1689,  1.8365, -2.6273, -0.0278,  2.4155, -1.8970,\n          7.2966,  0.1539],\n        [-0.7483, -5.3767,  7.7864, -1.9743, -8.9777, -0.2272,  0.8348,  4.3813,\n          1.4040,  0.6694]], device='cuda:0', grad_fn=<SelectBackward>)"
     },
     "execution_count": 109,
     "metadata": {},
     "output_type": "execute_result"
    }
   ],
   "source": [
    "mus_g[0:10,:,0]"
   ],
   "metadata": {
    "collapsed": false,
    "pycharm": {
     "name": "#%%\n"
    }
   }
  },
  {
   "cell_type": "code",
   "execution_count": 110,
   "outputs": [
    {
     "data": {
      "text/plain": "tensor([[0.2805, 0.1928, 0.0704, 0.1967, 0.1244, 0.1982, 0.1714, 0.0871, 0.1489,\n         0.1753],\n        [0.1754, 0.1300, 0.0427, 0.1521, 0.0939, 0.0840, 0.1134, 0.1173, 0.1217,\n         0.1025],\n        [0.2732, 0.1054, 0.1023, 0.2030, 0.2181, 0.3145, 0.2425, 0.2427, 0.1525,\n         0.0823],\n        [0.2520, 0.3026, 0.1658, 0.3397, 0.2597, 0.1283, 0.3196, 0.2234, 0.1430,\n         0.1905],\n        [0.1223, 0.1645, 0.0473, 0.1235, 0.1296, 0.0956, 0.0759, 0.0566, 0.1590,\n         0.1207],\n        [0.1863, 0.1875, 0.0816, 0.1608, 0.1737, 0.1006, 0.1617, 0.1066, 0.1276,\n         0.0901],\n        [0.1901, 0.1453, 0.0507, 0.1327, 0.2311, 0.2532, 0.1906, 0.2287, 0.1418,\n         0.1133],\n        [0.2006, 0.2068, 0.0883, 0.2102, 0.2159, 0.1211, 0.1388, 0.0762, 0.1233,\n         0.1481],\n        [0.0746, 0.0892, 0.0503, 0.0930, 0.1153, 0.0517, 0.0659, 0.0552, 0.1445,\n         0.0678],\n        [1.6264, 0.7806, 0.9652, 1.6882, 1.1132, 1.2273, 1.0583, 0.7014, 0.7461,\n         0.1760]], device='cuda:0')"
     },
     "execution_count": 110,
     "metadata": {},
     "output_type": "execute_result"
    }
   ],
   "source": [
    "logvars_g.exp()[0:10,:,0]"
   ],
   "metadata": {
    "collapsed": false,
    "pycharm": {
     "name": "#%%\n"
    }
   }
  },
  {
   "cell_type": "code",
   "execution_count": null,
   "outputs": [],
   "source": [
    "'''\n",
    "torch.save(\n",
    "    {\n",
    "        \"model_state_dict\" : model.state_dict(),\n",
    "        \"optimizer\" : optimizer.state_dict(),\n",
    "        \"optimizer_clustering\" : optimizer_clustering.state_dict(),\n",
    "        \"mu_c_g\" : mu_c_g,\n",
    "        \"logvar_c_g\" : logvar_c_g,\n",
    "        \"inv_sm_pi_c_g\" : inv_sm_pi_c_g,\n",
    "        \"beta\" : beta,\n",
    "        \"K_model_cluster\": K_model_cluster\n",
    "    },\n",
    "    \"./SGD-q-exponential/model/success949.tar\"\n",
    ")\n",
    "'''\n",
    "#sdata966 = torch.load(\"./SGD-q-exponential/model/success966.tar\")\n",
    "#mu_c_g = sdata966[\"mu_c_g\"]"
   ],
   "metadata": {
    "collapsed": false,
    "pycharm": {
     "name": "#%%\n"
    }
   }
  },
  {
   "cell_type": "code",
   "execution_count": 22,
   "outputs": [],
   "source": [],
   "metadata": {
    "collapsed": false,
    "pycharm": {
     "name": "#%%\n"
    }
   }
  }
 ],
 "metadata": {
  "kernelspec": {
   "name": "pycharm-9c5a4569",
   "language": "python",
   "display_name": "PyCharm (auto_encoder)"
  },
  "language_info": {
   "codemirror_mode": {
    "name": "ipython",
    "version": 2
   },
   "file_extension": ".py",
   "mimetype": "text/x-python",
   "name": "python",
   "nbconvert_exporter": "python",
   "pygments_lexer": "ipython2",
   "version": "2.7.6"
  },
  "pycharm": {
   "stem_cell": {
    "cell_type": "raw",
    "source": [
     "#２０２０年１２月２３日畳み込み型VAEによるクラスタリングを始める\n",
     "#2020年12月28日４時３６分畳み込みNNを２から４回の畳込みとバッヂ正規化のありなしを試したが、特に改善はないようだ。３段くらいで十分。\n",
     "#もし、アーキテクチャーを改善すればうまく行くとしても、設計に強く寄るようでは面白くないので、次に行く。"
    ],
    "metadata": {
     "collapsed": false
    }
   }
  }
 },
 "nbformat": 4,
 "nbformat_minor": 0
}