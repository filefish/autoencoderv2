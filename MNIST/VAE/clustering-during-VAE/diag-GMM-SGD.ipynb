{
 "cells": [
  {
   "cell_type": "code",
   "execution_count": 1,
   "outputs": [],
   "source": [
    "from __future__ import print_function\n",
    "import argparse\n",
    "import torch\n",
    "import torch.utils.data\n",
    "from torch import nn, optim\n",
    "from torch.nn import functional as F\n",
    "from torchvision import datasets, transforms\n",
    "from torchvision.utils import save_image\n",
    "\n",
    "%matplotlib inline\n",
    "import matplotlib.pyplot as plt\n",
    "from torch.distributions.multivariate_normal import MultivariateNormal\n",
    "import numpy as np\n",
    "\n",
    "\n",
    "from sklearn.manifold import TSNE\n",
    "from random import random\n",
    "from sklearn.mixture import GaussianMixture\n",
    "from sklearn.mixture import BayesianGaussianMixture\n",
    "from sklearn.cluster import KMeans"
   ],
   "metadata": {
    "collapsed": false,
    "pycharm": {
     "name": "#%%\n"
    }
   }
  },
  {
   "cell_type": "code",
   "execution_count": 1003,
   "outputs": [],
   "source": [
    "\n",
    "batch_size = 100\n",
    "take_latent_max =10\n",
    "num_epoch = 10\n",
    "input_dim=28*28\n",
    "output_dim=input_dim\n",
    "en_hidden1_dim = 500\n",
    "en_hidden2_dim = 500\n",
    "en_hidden3_dim = 2000\n",
    "latent_dim= 10\n",
    "de_hidden1_dim = 2000\n",
    "de_hidden2_dim = 500\n",
    "de_hidden3_dim = 500\n",
    "\n",
    "\n",
    "log_interval = 600\n",
    "\n",
    "K_model_cluster = 10\n",
    "K_real_cluster = 10\n",
    "\n",
    "beta= 1.\n",
    "\n",
    "save_folder = 'SGD-results'\n",
    "\n",
    "KMeans_random_state = 1 #(random seed)\n",
    "Gaussian_random_state = 1  #(random seed)\n",
    "\n",
    "eps_N_c = 0\n",
    "iter_adiabatic =1"
   ],
   "metadata": {
    "collapsed": false,
    "pycharm": {
     "name": "#%%\n"
    }
   }
  },
  {
   "cell_type": "code",
   "execution_count": 937,
   "outputs": [],
   "source": [
    "device = 'cuda'\n",
    "kwargs = {'num_workers':1, 'pin_memory':True}\n",
    "\n",
    "train_loader = torch.utils.data.DataLoader(\n",
    "    datasets.MNIST('../data',train=True,download=True,\n",
    "                   transform=transforms.ToTensor()),\n",
    "    batch_size=batch_size,shuffle=True,**kwargs)\n",
    "\n",
    "test_loader = torch.utils.data.DataLoader(\n",
    "    datasets.MNIST('../data',train=False,transform=transforms.ToTensor()),\n",
    "    batch_size=batch_size,shuffle=True,**kwargs)\n"
   ],
   "metadata": {
    "collapsed": false,
    "pycharm": {
     "name": "#%%\n"
    }
   }
  },
  {
   "cell_type": "code",
   "execution_count": 938,
   "outputs": [],
   "source": [
    "def initialize_centers():\n",
    "\n",
    "    mu_c = torch.randn(1,latent_dim,K_model_cluster,device=device)\n",
    "    logvar_c = torch.zeros(1,latent_dim,K_model_cluster).to(device)\n",
    "    pi_c = torch.full((1,1,K_model_cluster),1./K_model_cluster).to(device)\n",
    "\n",
    "    return mu_c,logvar_c,pi_c\n",
    "\n",
    "    #mu_center = mus.mean(0,keepdim=True).detach().requires_grad_(False)\n",
    "    #mus_white = mus.detach().requires_grad_(False)-mu_center\n",
    "    #cov_mus = torch.matmul(mus_white.squeeze(2).t(),mus_white.squeeze(2))/mus.shape[0]\n",
    "\n",
    "    #mu_distribution = MultivariateNormal(loc=mu_center.view(-1,latent_dim),covariance_matrix=cov_mus)\n",
    "    #mu_c = mu_distribution.sample([K_model_cluster,])\n",
    "    #mu_c = mu_c.permute(1,2,0)\n",
    "\n",
    "    #logvar_c = torch.diag(cov_mus).log()\n",
    "    #logvar_c = logvar_c.view(1,latent_dim,1)\n",
    "    #logvar_c = logvar_c.repeat(1,1,K_model_cluster)\n",
    "\n",
    "    #mu_distribution = MultivariateNormal(loc=torch.zeros(latent_dim),covariance_matrix=torch.eye(latent_dim))\n",
    "    #mu_c = mu_distribution.sample([K_model_cluster,])\n",
    "    #mu_c = mu_c.permute(1,0)\n",
    "    #mu_c = mu_c.view(1,latent_dim,K_model_cluster).to(device)"
   ],
   "metadata": {
    "collapsed": false,
    "pycharm": {
     "name": "#%%\n"
    }
   }
  },
  {
   "cell_type": "code",
   "execution_count": 939,
   "outputs": [
    {
     "data": {
      "text/plain": "(torch.Size([1, 10, 20]), torch.Size([1, 10, 20]), torch.Size([1, 1, 20]))"
     },
     "execution_count": 939,
     "metadata": {},
     "output_type": "execute_result"
    }
   ],
   "source": [
    "\n",
    "\n",
    "#zs_g,ts_g,mus_g,logvars_g = take_latents()\n",
    "mu_c_g,logvar_c_g,pi_c_g = initialize_centers()\n",
    "#mu_c_g,logvar_c_g,pi_c_g,Q_c_g,gamma_c_g,log_P_g = gauss(mus_g,logvars_g,mu_c_g,logvar_c_g,pi_c_g,50)\n",
    "mu_c_g.shape,logvar_c_g.shape,pi_c_g.shape\n",
    "#mu_c_g,logvar_c_g,pi_c_g,Q_c_g,gamma_c_g,log_P_g = gauss(mus_g,logvars_g,mu_c_g,logvar_c_g,pi_c_g,50)"
   ],
   "metadata": {
    "collapsed": false,
    "pycharm": {
     "name": "#%%\n"
    }
   }
  },
  {
   "cell_type": "code",
   "execution_count": 940,
   "outputs": [
    {
     "data": {
      "text/plain": "tensor([[[0.0500, 0.0500, 0.0500, 0.0500, 0.0500, 0.0500, 0.0500, 0.0500,\n          0.0500, 0.0500, 0.0500, 0.0500, 0.0500, 0.0500, 0.0500, 0.0500,\n          0.0500, 0.0500, 0.0500, 0.0500]]], device='cuda:0')"
     },
     "execution_count": 940,
     "metadata": {},
     "output_type": "execute_result"
    }
   ],
   "source": [
    "mu_c_g.requires_grad_(True)\n",
    "logvar_c_g.requires_grad_(True)\n",
    "pi_c_g.requires_grad_(False)"
   ],
   "metadata": {
    "collapsed": false,
    "pycharm": {
     "name": "#%%\n"
    }
   }
  },
  {
   "cell_type": "code",
   "execution_count": 941,
   "outputs": [
    {
     "data": {
      "text/plain": "(True, True, False)"
     },
     "execution_count": 941,
     "metadata": {},
     "output_type": "execute_result"
    }
   ],
   "source": [
    "mu_c_g.requires_grad,logvar_c_g.requires_grad,pi_c_g.requires_grad"
   ],
   "metadata": {
    "collapsed": false,
    "pycharm": {
     "name": "#%%\n"
    }
   }
  },
  {
   "cell_type": "code",
   "execution_count": 942,
   "outputs": [],
   "source": [
    "class VAE(nn.Module):\n",
    "    def __init__(self):\n",
    "        super(VAE, self).__init__()\n",
    "\n",
    "        self.input_layer = nn.Linear(input_dim,en_hidden1_dim)##728 => 500 for MNIST\n",
    "        self.encode1_layer = nn.Linear(en_hidden1_dim,en_hidden2_dim)##500 => 500 for MNIST\n",
    "        self.encode2_layer = nn.Linear(en_hidden2_dim,en_hidden3_dim)##500 => 2000 for MNIST\n",
    "        self.mu_layer = nn.Linear(en_hidden3_dim,latent_dim)##2000 => 10 for MNIST\n",
    "        self.std_layer = nn.Linear(en_hidden3_dim,latent_dim)##2000 => 10 for MNIST\n",
    "        self.decode1_layer = nn.Linear(latent_dim,de_hidden1_dim)##10 => 2000 for MNIST\n",
    "        self.decode2_layer = nn.Linear(de_hidden1_dim,de_hidden2_dim)##2000 => 500 for MNIST\n",
    "        self.decode3_layer = nn.Linear(de_hidden2_dim,de_hidden3_dim)##500 => 500 for MNIST\n",
    "        self.output_layer = nn.Linear(de_hidden3_dim,output_dim)##500 => 728 for MNIST\n",
    "\n",
    "    def encode(self, x):\n",
    "        en_h1 = F.relu(self.input_layer(x))\n",
    "        en_h2 = F.relu(self.encode1_layer(en_h1))\n",
    "        en_h3 = F.relu(self.encode2_layer(en_h2))\n",
    "        return self.mu_layer(en_h3), self.std_layer(en_h3)\n",
    "    #入力から中心と分散の対数を作っている\n",
    "\n",
    "\n",
    "    def reparameterize(self,mu,logvar):\n",
    "        std = torch.exp(0.5*logvar)\n",
    "        eps = torch.randn_like(std)\n",
    "        #torch.randn_like(std)はstdと同じ次元の正規乱数を与えている。N(0,1)**size(std).ただし、標準偏差は対角的。\n",
    "        return mu + eps*std\n",
    "    #zの値を確率的に作っている。\n",
    "\n",
    "    def decode(self,z):\n",
    "        de_h1 = F.relu(self.decode1_layer(z))\n",
    "        de_h2 = F.relu(self.decode2_layer(de_h1))\n",
    "        de_h3 = F.relu(self.decode3_layer(de_h2))\n",
    "        return torch.sigmoid(self.output_layer(de_h3))\n",
    "    #zからNNを通したあとに、sigmoidで押し込んでxの値を作っている\n",
    "\n",
    "\n",
    "    def forward(self, x):\n",
    "        mu, logvar = self.encode(x.view(-1,784))\n",
    "        z = self.reparameterize(mu, logvar)\n",
    "        return self.decode(z),mu,logvar,z\n",
    "    #出力はxの予測値とzを算出するときの中心と分散になっている\n",
    "\n",
    "\n",
    "model = VAE().to(device)\n",
    "\n",
    "optimizer = optim.Adam(model.parameters(),lr=0.002)\n",
    "scheduler = torch.optim.lr_scheduler.StepLR(optimizer,step_size=10,gamma=0.9)\n",
    "\n",
    "optimizer_clustering = optim.Adam([mu_c_g,logvar_c_g],lr=0.002)\n",
    "scheduler_clustering = torch.optim.lr_scheduler.StepLR(optimizer_clustering,step_size=10,gamma=0.9)\n"
   ],
   "metadata": {
    "collapsed": false,
    "pycharm": {
     "name": "#%%\n"
    }
   }
  },
  {
   "cell_type": "code",
   "execution_count": 884,
   "outputs": [],
   "source": [
    "def loss_function(recon_x,x,mu,logvar):\n",
    "    BCE = F.binary_cross_entropy(recon_x,x.view(-1,input_dim),reduction='sum')\n",
    "    #recon_xはsigmoidをdecordeで通されているので、[0,1]になっている。\n",
    "    KLD = -0.5*torch.sum(1+logvar-mu.pow(2)-logvar.exp())\n",
    "\n",
    "    return BCE+beta*KLD\n",
    "\n"
   ],
   "metadata": {
    "collapsed": false,
    "pycharm": {
     "name": "#%%\n"
    }
   }
  },
  {
   "cell_type": "code",
   "execution_count": 885,
   "outputs": [],
   "source": [
    "def train(epoch):\n",
    "    model.train()\n",
    "    train_loss = 0\n",
    "    for batch_idx, (data,_) in enumerate(train_loader):\n",
    "        #ラベルは使わないようだ\n",
    "        data = data.to(device)\n",
    "        #データをGPUにおくる\n",
    "        optimizer.zero_grad()\n",
    "        #傾きの初期化\n",
    "        recon_batch, mu, logvar,z = model(data)\n",
    "        #VAEからバッヂ分のデータと中心と分散のログを受け取る\n",
    "        loss = loss_function(recon_batch,data,mu,logvar)\n",
    "        #バッヂ分のロスを計算。バッヂ数で割っていないようだ。書き出しのときにデータ数で割っている。\n",
    "        loss.backward()\n",
    "        #傾きを計算\n",
    "        train_loss+= loss.item()\n",
    "        optimizer.step()\n",
    "        #パラメータの更新\n",
    "        if batch_idx % log_interval ==0:\n",
    "            #一定間隔でロスを書き出し。epochはここでしか使っていないようだ。\n",
    "            print('Train Epoch: {} [{}/{} ({:.0f}%)]\\tLoss: {:.6f}'.format(\n",
    "              epoch,batch_idx*len(data),len(train_loader.dataset),\n",
    "                100.*batch_idx/len(train_loader),\n",
    "                loss.item()/len(data)\n",
    "            ))\n"
   ],
   "metadata": {
    "collapsed": false,
    "pycharm": {
     "name": "#%%\n"
    }
   }
  },
  {
   "cell_type": "code",
   "execution_count": 886,
   "outputs": [],
   "source": [
    "def test(epoch):\n",
    "    model.eval()\n",
    "    test_loss = 0\n",
    "    with torch.no_grad():#バックプロパゲーションを行わないから、微分情報を残さない\n",
    "        for i, (data, _) in enumerate(test_loader):\n",
    "            #テストデータを取り出す。ラベルはいらない。\n",
    "            data =data.to(device)\n",
    "            #データをGPUに送る\n",
    "            recon_batch, mu, logvar,z = model(data)\n",
    "            #データからバッヂ分の再現画像と中心と分散の対数を出している。\n",
    "            test_loss += loss_function(recon_batch,data,mu,logvar).item()\n",
    "            #テストデータでのロスを出している\n",
    "            if i == 0:\n",
    "                #はじめのバッヂについて\n",
    "                n = min(data.size(0),16)\n",
    "                #nをバッヂのデータ数か８との小さい方として\n",
    "                comparizon = torch.cat([data[:n],recon_batch.view(batch_size,1,28,28)[:n]])\n",
    "                #元データと再現データを並べる\n",
    "                save_image(comparizon.cpu(),'./'+save_folder+'/reconstruction_' + str(epoch) + '.png',nrow=n)\n",
    "\n",
    "                test_loss /= len(test_loader.dataset)\n",
    "                print('====> Test set loss: {:.4f}'.format(test_loss))"
   ],
   "metadata": {
    "collapsed": false,
    "pycharm": {
     "name": "#%%\n"
    }
   }
  },
  {
   "cell_type": "code",
   "execution_count": 887,
   "outputs": [],
   "source": [
    "\n",
    "def initial_train(epochs):\n",
    "    for epoch in range(1, epochs +1):\n",
    "        train(epoch)\n",
    "        test(epoch)\n",
    "        scheduler.step()\n",
    "        with torch.no_grad():\n",
    "            sample = torch.randn(64,latent_dim).to(device)\n",
    "        #20次元の潜在空間のデータを64個作成して、GPUに送る\n",
    "            sample = model.decode(sample).cpu()\n",
    "        #ランダムな潜在変数から画像を生成する。\n",
    "            save_image(sample.view(64,1,28,28),save_folder+'/sample_' + str(epoch) + '.png',nrow=8)\n",
    "        #生成した６４個のデータを記録しておく"
   ],
   "metadata": {
    "collapsed": false,
    "pycharm": {
     "name": "#%%\n"
    }
   }
  },
  {
   "cell_type": "code",
   "execution_count": 888,
   "outputs": [],
   "source": [
    "def take_latents():\n",
    "    zs = torch.empty(0,latent_dim,1).to(device).requires_grad_(False)\n",
    "    ts = torch.empty(0,dtype=torch.long).to(device).requires_grad_(False)\n",
    "    mus = torch.empty(0,latent_dim,1).to(device).requires_grad_(False)\n",
    "    logvars = torch.empty(0,latent_dim,1).to(device).requires_grad_(False)\n",
    "#zs = []\n",
    "#ts = []\n",
    "\n",
    "#ts.dtype = torch.int\n",
    "\n",
    "    #for x, t in test_loader:\n",
    "    for batch_idx, (x,t) in enumerate(test_loader):\n",
    "    # original。xがデータ、tがラベル。\n",
    "    #for i, im in enumerate(x.view(-1, 28, 28).detach().numpy()[:10]):\n",
    "    #  ax = fig.add_subplot(3, 10, i+1, xticks=[], yticks=[])\n",
    "    #  ax.imshow(im, 'gray')\n",
    "    #x = x.to(device)\n",
    "    # generate from x\n",
    "        if batch_idx < take_latent_max:\n",
    "            x = x.to(device)\n",
    "            with torch.no_grad():\n",
    "                recon_batch,mu,logvar, z = model(x)\n",
    "            t = t.to(device)\n",
    "    #zs.append(z)\n",
    "    #ts.append(t)\n",
    "            zs = torch.cat((zs,z.view(-1,latent_dim,1)),0)\n",
    "            ts = torch.cat((ts,t),0)\n",
    "            mus = torch.cat((mus,mu.view(-1,latent_dim,1)),0)\n",
    "            logvars = torch.cat((logvars,logvar.view(-1,latent_dim,1)),0)\n",
    "    #y = y.view(-1, 28, 28)\n",
    "    #for i, im in enumerate(y.cpu().detach().numpy()[:10]):\n",
    "     # ax = fig.add_subplot(3, 10, i+11, xticks=[], yticks=[])\n",
    "     # ax.imshow(im, 'gray')\n",
    "    mus = torch.cat((mus,mu_c_g.permute(2,1,0)),0)\n",
    "    ts = torch.cat((ts,torch.arange(-1,-K_model_cluster-1,-1).to(device)),0)\n",
    "    return zs,ts,mus,logvars\n"
   ],
   "metadata": {
    "collapsed": false,
    "pycharm": {
     "name": "#%%\n"
    }
   }
  },
  {
   "cell_type": "code",
   "execution_count": 889,
   "outputs": [],
   "source": [
    "def gauss(mus,logvars,mu_c,logvar_c,pi_c,iter):\n",
    "    #mus = mus_ini\n",
    "    #logvars = logvars_ini\n",
    "    #mu_c = mu_c_ini\n",
    "    #logvar_c = logvar_c_ini\n",
    "    #pi_c = pi_c_ini\n",
    "\n",
    "    for i in range(iter):\n",
    "        with torch.no_grad():\n",
    "            Q_c = logvar_c+(logvars.exp()+(mus-mu_c).pow(2))/(logvar_c.exp())\n",
    "\n",
    "            gamma_c = (pi_c*((-0.5*Q_c.sum(1,keepdim=True)).exp()))/((pi_c*((-0.5*Q_c.sum(1,keepdim=True)).exp())).sum(2,keepdim=True))\n",
    "\n",
    "            N_c = gamma_c.sum(0,keepdim=True)\n",
    "            log_P = (((pi_c*((-0.5*Q_c.sum(1,keepdim=True)).exp())).sum(2).squeeze()).log()).sum()/((Q_c.shape)[0])\n",
    "            pi_c= N_c/(N_c.sum())\n",
    "            mu_c=(gamma_c*mus).sum(0,keepdim=True)/N_c\n",
    "            logvar_c=((gamma_c*((mus-mu_c).pow(2)+logvars.exp())).sum(0,keepdim=True)/N_c).log()\n",
    "\n",
    "\n",
    "    return mu_c,logvar_c,pi_c,Q_c,gamma_c,log_P"
   ],
   "metadata": {
    "collapsed": false,
    "pycharm": {
     "name": "#%%\n"
    }
   }
  },
  {
   "cell_type": "code",
   "execution_count": 890,
   "outputs": [],
   "source": [
    "\n",
    "def gauss_z(z,mu_c,logvar_c,pi_c,iter):\n",
    "    #mus = mus_ini\n",
    "    #logvars = logvars_ini\n",
    "    #mu_c = mu_c_ini\n",
    "    #logvar_c = logvar_c_ini\n",
    "    #pi_c = pi_c_ini\n",
    "\n",
    "    for i in range(iter):\n",
    "        with torch.no_grad():\n",
    "            Q_c = logvar_c+((z-mu_c).pow(2))/(logvar_c.exp())\n",
    "\n",
    "            gamma_c = (pi_c*((-0.5*Q_c.sum(1,keepdim=True)).exp()))/((pi_c*((-0.5*Q_c.sum(1,keepdim=True)).exp())).sum(2,keepdim=True))\n",
    "\n",
    "            N_c = gamma_c.sum(0,keepdim=True)#+eps_N_c*torch.ones_like(gamma_c)\n",
    "            log_P = (((pi_c*((-0.5*Q_c.sum(1,keepdim=True)).exp())).sum(2).squeeze()).log()).sum()/((Q_c.shape)[0])\n",
    "            pi_c= N_c/(N_c.sum())\n",
    "            mu_c=(gamma_c*z).sum(0,keepdim=True)/N_c\n",
    "            logvar_c=((gamma_c*((z-mu_c).pow(2))).sum(0,keepdim=True)/N_c).log()\n",
    "\n",
    "\n",
    "    return mu_c,logvar_c,pi_c,Q_c,gamma_c,log_P"
   ],
   "metadata": {
    "collapsed": false,
    "pycharm": {
     "name": "#%%\n"
    }
   }
  },
  {
   "cell_type": "code",
   "execution_count": 900,
   "outputs": [],
   "source": [
    "def drawpoints(mus_numpy,ts_numpy):\n",
    "    colors = [\"red\", \"green\", \"blue\", \"orange\", \"purple\", \"brown\", \"fuchsia\", \"grey\", \"olive\", \"lightblue\",\"red\", \"green\", \"blue\", \"orange\", \"purple\", \"brown\", \"fuchsia\", \"grey\", \"olive\", \"lightblue\"]\n",
    "    for p,l in zip(points,ts_numpy):\n",
    "        plt.scatter(p[0],p[1],marker=\"${}$\".format(l),c=colors[l])"
   ],
   "metadata": {
    "collapsed": false,
    "pycharm": {
     "name": "#%%\n"
    }
   }
  },
  {
   "cell_type": "code",
   "execution_count": 892,
   "outputs": [],
   "source": [
    "def show_generated_samples_c(mu_c,logvar_c):\n",
    "    for i in range(K_model_cluster):\n",
    "        with torch.no_grad():\n",
    "            sample_dist = MultivariateNormal(loc=mu_c[:,:,i],covariance_matrix=torch.diag(logvar_c[0,:,i].exp()))\n",
    "    #mu_distribution = MultivariateNormal(loc=mu_center.cpu(),covariance_matrix=cov_mus.cpu())\n",
    "            sample = sample_dist.sample([64,])\n",
    "#    sample = torch.randn(64,latent_dim).to(device)\n",
    "        #20次元の潜在空間のデータを64個作成して、GPUに送る\n",
    "            sample = model.decode(sample).cpu()\n",
    "        #ランダムな潜在変数から画像を生成する。\n",
    "            save_image(sample.view(64,1,28,28),save_folder+'/sample_c_' + str(i) + '.png',nrow=8)\n",
    "        #生成した６４個のデータを記録しておく"
   ],
   "metadata": {
    "collapsed": false,
    "pycharm": {
     "name": "#%%\n"
    }
   }
  },
  {
   "cell_type": "code",
   "execution_count": 893,
   "outputs": [],
   "source": [
    "def loss_function_c(recon_x,x,mus_f,logvars_f,mu_c_f,logvar_c_f,pi_c_f):\n",
    "    BCE = F.binary_cross_entropy(recon_x,x.view(-1,784),reduction='sum')\n",
    "    #recon_xはsigmoidをdecordeで通されているので、[0,1]になっている。\n",
    "    #KLD = -0.5*torch.sum(1+logvar-mu.pow(2)-logvar.exp())\n",
    "    #Q_c_f = -logvars_f+logvar_c_f+logvars_f.exp()/(logvar_c_f.exp())+(mus_f-mu_c_f).pow(2)/(logvar_c_f.exp())\n",
    "    #KLD = (((pi_c_f*((-0.5*(-logvars_f+logvar_c_f+logvars_f.exp()/(logvar_c_f.exp())+(mus_f-mu_c_f).pow(2)/(logvar_c_f.exp())).sum(1,keepdim=True)).exp())).sum(2).squeeze()).log()).sum()\n",
    "    KLD = -0.5*(1+logvars_f).sum() -(((pi_c_f*((-0.5*((logvar_c_f+(logvars_f.exp()+(mus_f-mu_c_f).pow(2))/(logvar_c_f.exp())).sum(1,keepdim=True))).exp())).sum(2,keepdim=True)).log()).sum()#+(logvars_f.exp()+(mus_f-mu_c_f).pow(2))/(logvar_c_f.exp()))\n",
    "\n",
    "    return BCE+beta*KLD"
   ],
   "metadata": {
    "collapsed": false,
    "pycharm": {
     "name": "#%%\n"
    }
   }
  },
  {
   "cell_type": "code",
   "execution_count": 894,
   "outputs": [],
   "source": [
    "def train_c(epoch):\n",
    "    model.train()\n",
    "    train_loss = 0\n",
    "    for batch_idx, (data,_) in enumerate(train_loader):\n",
    "        #ラベルは使わないようだ\n",
    "        data = data.to(device)\n",
    "        #データをGPUにおくる\n",
    "        optimizer.zero_grad()\n",
    "        optimizer_clustering.zero_grad()\n",
    "        #傾きの初期化\n",
    "        recon_batch, mu, logvar,z = model(data)\n",
    "        #VAEからバッヂ分のデータと中心と分散のログを受け取る\n",
    "        loss = loss_function_c(recon_x=recon_batch,x=data,mus_f=mu.view(-1,latent_dim,1),logvars_f=logvar.view(-1,latent_dim,1),mu_c_f=mu_c_g,logvar_c_f=logvar_c_g,pi_c_f=pi_c_g)\n",
    "        #バッヂ分のロスを計算。バッヂ数で割っていないようだ。書き出しのときにデータ数で割っている。\n",
    "        loss.backward()\n",
    "        #傾きを計算\n",
    "        train_loss+= loss.item()\n",
    "        optimizer.step()\n",
    "        #NNパラメータの更新\n",
    "\n",
    "        optimizer_clustering.step()\n",
    "        #NNクラスタリングパラメータの更新\n",
    "\n",
    "        if batch_idx % log_interval ==0:\n",
    "            #一定間隔でロスを書き出し。epochはここでしか使っていないようだ。len()は最初の次元の大きさを出すのでバッヂの大きさ。\n",
    "            print('Train Epoch: {} [{}/{} ({:.0f}%)]\\tLoss: {:.6f}'.format(\n",
    "              epoch,batch_idx*len(data),len(train_loader.dataset),\n",
    "                100.*batch_idx/len(train_loader),\n",
    "                loss.item()/len(data)\n",
    "            ))"
   ],
   "metadata": {
    "collapsed": false,
    "pycharm": {
     "name": "#%%\n"
    }
   }
  },
  {
   "cell_type": "code",
   "execution_count": 895,
   "outputs": [],
   "source": [
    "def test_c(epoch,mu_c,logvar_c,pi_c):\n",
    "    model.eval()\n",
    "    test_loss = 0\n",
    "    with torch.no_grad():#バックプロパゲーションを行わないから、微分情報を残さない\n",
    "        for i, (data, _) in enumerate(test_loader):\n",
    "            #テストデータを取り出す。ラベルはいらない。\n",
    "            data =data.to(device)\n",
    "            #データをGPUに送る\n",
    "            recon_batch, mu, logvar,z = model(data)\n",
    "            #データからバッヂ分の再現画像と中心と分散の対数を出している。\n",
    "            test_loss += loss_function_c(recon_x=recon_batch,x=data,mus_f=mu.view(-1,latent_dim,1),logvars_f=logvar.view(-1,latent_dim,1),mu_c_f=mu_c,logvar_c_f=logvar_c,pi_c_f=pi_c).item()\n",
    "            #テストデータでのロスを出している\n",
    "            if i == 0:\n",
    "                #はじめのバッヂについて\n",
    "                n = min(data.size(0),16)\n",
    "                #nをバッヂのデータ数か８との小さい方として\n",
    "                comparizon = torch.cat([data[:n],recon_batch.view(batch_size,1,28,28)[:n]])\n",
    "                #元データと再現データを並べる\n",
    "                save_image(comparizon.cpu(),'./'+save_folder+'/reconstruction_c_' + str(epoch) + '.png',nrow=n)\n",
    "\n",
    "                test_loss /= len(test_loader.dataset)\n",
    "                print('====> Test set loss: {:.4f}'.format(test_loss))"
   ],
   "metadata": {
    "collapsed": false,
    "pycharm": {
     "name": "#%%\n"
    }
   }
  },
  {
   "cell_type": "code",
   "execution_count": 896,
   "outputs": [],
   "source": [
    "def train_c_epoch(epochs,mu_c,logvar_c,pi_c):\n",
    "    for epoch in range(1, epochs +1):\n",
    "        train_c(epoch,mu_c,logvar_c,pi_c)\n",
    "        test_c(epoch,mu_c,logvar_c,pi_c)\n",
    "        with torch.no_grad():\n",
    "            sample = torch.randn(64,latent_dim).to(device)\n",
    "        #20次元の潜在空間のデータを64個作成して、GPUに送る\n",
    "            sample = model.decode(sample).cpu()\n",
    "        #ランダムな潜在変数から画像を生成する。\n",
    "            save_image(sample.view(64,1,28,28),save_folder+'/sample_c_epoch_' + str(epoch) + '.png',nrow=8)\n",
    "        #生成した６４個のデータを記録しておく\n"
   ],
   "metadata": {
    "collapsed": false,
    "pycharm": {
     "name": "#%%\n"
    }
   }
  },
  {
   "cell_type": "code",
   "execution_count": 897,
   "outputs": [
    {
     "data": {
      "text/plain": "(tensor([[[-1.3770,  0.1899, -1.6141, -0.2470,  0.4051, -1.4607, -0.2888,\n           -0.5350,  1.1047,  1.0723, -1.2907,  0.6557, -0.4676,  0.8220,\n           -0.2310],\n          [-0.3067,  0.5231,  0.5989,  0.5619, -1.0392,  0.2726,  0.7544,\n            0.5243, -1.0135, -0.2254, -2.1005, -1.3786, -1.4012, -1.3439,\n           -0.6293],\n          [-0.9324, -0.1368,  1.1153, -0.8567, -0.2944, -0.2325,  1.5845,\n           -0.2529, -0.0926, -0.3284, -0.0783,  0.8460, -0.5668,  0.6722,\n            0.3490],\n          [ 0.0417,  0.4540, -1.2315,  0.1286, -0.0863, -1.8573, -0.3815,\n           -0.3467, -0.2260,  1.2498,  0.5175,  0.0047, -1.0470,  0.1833,\n           -1.4860],\n          [-0.3376, -1.6903, -0.4795, -1.4233,  0.1834, -0.9634, -0.1833,\n            1.2527,  0.4442,  0.3589,  0.5600,  0.0503, -0.3358, -0.6626,\n           -0.5991],\n          [ 1.5546,  0.4550,  1.0273, -1.0631, -0.8834,  1.5043,  1.4660,\n            0.8585,  0.7218, -0.9582,  0.9544, -0.9928, -1.1527, -0.1265,\n           -0.2653],\n          [ 1.3635, -0.5638,  0.5577,  0.3330, -0.4638, -0.4768, -0.3910,\n            0.1260,  0.2695,  0.7572,  0.6790, -0.4476, -1.0360, -0.1084,\n            0.4350],\n          [-0.0044,  1.4100, -0.1438, -0.6099, -0.7132,  0.3356,  1.9800,\n           -0.0184, -0.5050, -0.9759,  0.4770, -0.5340,  0.8881,  0.2632,\n            1.7009],\n          [-1.6291,  0.9296, -0.0868, -0.8148, -1.6891, -0.5434, -0.0496,\n            1.0065,  1.2893,  1.0722, -0.4686, -0.5367,  2.1432, -0.3145,\n           -0.1141],\n          [-0.4932,  1.2235,  0.4595, -1.0728, -0.9989,  0.5145, -0.8423,\n            1.9105, -0.0162,  0.7521,  0.4627, -0.1607,  0.3556, -1.9794,\n           -0.6890]]], device='cuda:0', requires_grad=True),\n tensor([[[0., 0., 0., 0., 0., 0., 0., 0., 0., 0., 0., 0., 0., 0., 0.],\n          [0., 0., 0., 0., 0., 0., 0., 0., 0., 0., 0., 0., 0., 0., 0.],\n          [0., 0., 0., 0., 0., 0., 0., 0., 0., 0., 0., 0., 0., 0., 0.],\n          [0., 0., 0., 0., 0., 0., 0., 0., 0., 0., 0., 0., 0., 0., 0.],\n          [0., 0., 0., 0., 0., 0., 0., 0., 0., 0., 0., 0., 0., 0., 0.],\n          [0., 0., 0., 0., 0., 0., 0., 0., 0., 0., 0., 0., 0., 0., 0.],\n          [0., 0., 0., 0., 0., 0., 0., 0., 0., 0., 0., 0., 0., 0., 0.],\n          [0., 0., 0., 0., 0., 0., 0., 0., 0., 0., 0., 0., 0., 0., 0.],\n          [0., 0., 0., 0., 0., 0., 0., 0., 0., 0., 0., 0., 0., 0., 0.],\n          [0., 0., 0., 0., 0., 0., 0., 0., 0., 0., 0., 0., 0., 0., 0.]]],\n        device='cuda:0', requires_grad=True),\n tensor([[[0.0667, 0.0667, 0.0667, 0.0667, 0.0667, 0.0667, 0.0667, 0.0667,\n           0.0667, 0.0667, 0.0667, 0.0667, 0.0667, 0.0667, 0.0667]]],\n        device='cuda:0'))"
     },
     "execution_count": 897,
     "metadata": {},
     "output_type": "execute_result"
    }
   ],
   "source": [
    "mu_c_g,logvar_c_g,pi_c_g"
   ],
   "metadata": {
    "collapsed": false,
    "pycharm": {
     "name": "#%%\n"
    }
   }
  },
  {
   "cell_type": "code",
   "execution_count": 991,
   "outputs": [
    {
     "name": "stdout",
     "output_type": "stream",
     "text": [
      "Train Epoch: 0 [0/60000 (0%)]\tLoss: 95.167686\n",
      "====> Test set loss: 1.1208\n",
      "Train Epoch: 1 [0/60000 (0%)]\tLoss: 94.296777\n",
      "====> Test set loss: 1.0696\n",
      "Train Epoch: 2 [0/60000 (0%)]\tLoss: 94.407842\n",
      "====> Test set loss: 1.0726\n",
      "Train Epoch: 3 [0/60000 (0%)]\tLoss: 94.317129\n",
      "====> Test set loss: 1.0432\n",
      "Train Epoch: 4 [0/60000 (0%)]\tLoss: 94.609531\n",
      "====> Test set loss: 1.0082\n",
      "Train Epoch: 5 [0/60000 (0%)]\tLoss: 96.524609\n",
      "====> Test set loss: 1.0074\n",
      "Train Epoch: 6 [0/60000 (0%)]\tLoss: 94.414004\n",
      "====> Test set loss: 0.9800\n",
      "Train Epoch: 7 [0/60000 (0%)]\tLoss: 97.941143\n",
      "====> Test set loss: 1.0641\n",
      "Train Epoch: 8 [0/60000 (0%)]\tLoss: 96.099609\n",
      "====> Test set loss: 1.0998\n",
      "Train Epoch: 9 [0/60000 (0%)]\tLoss: 98.706797\n",
      "====> Test set loss: 1.1157\n",
      "Train Epoch: 10 [0/60000 (0%)]\tLoss: 94.997559\n",
      "====> Test set loss: 1.0603\n",
      "Train Epoch: 11 [0/60000 (0%)]\tLoss: 95.777129\n",
      "====> Test set loss: 1.0047\n",
      "Train Epoch: 12 [0/60000 (0%)]\tLoss: 91.243437\n",
      "====> Test set loss: 1.0373\n",
      "Train Epoch: 13 [0/60000 (0%)]\tLoss: 94.881240\n",
      "====> Test set loss: 1.0747\n",
      "Train Epoch: 14 [0/60000 (0%)]\tLoss: 96.651924\n",
      "====> Test set loss: 1.1033\n",
      "Train Epoch: 15 [0/60000 (0%)]\tLoss: 91.878760\n",
      "====> Test set loss: 1.0623\n",
      "Train Epoch: 16 [0/60000 (0%)]\tLoss: 92.668018\n",
      "====> Test set loss: 1.0646\n",
      "Train Epoch: 17 [0/60000 (0%)]\tLoss: 96.622676\n",
      "====> Test set loss: 1.0691\n",
      "Train Epoch: 18 [0/60000 (0%)]\tLoss: 90.793066\n",
      "====> Test set loss: 0.9990\n",
      "Train Epoch: 19 [0/60000 (0%)]\tLoss: 97.854219\n",
      "====> Test set loss: 1.0224\n",
      "Train Epoch: 20 [0/60000 (0%)]\tLoss: 93.936338\n",
      "====> Test set loss: 1.0947\n",
      "Train Epoch: 21 [0/60000 (0%)]\tLoss: 98.779033\n",
      "====> Test set loss: 1.0208\n",
      "Train Epoch: 22 [0/60000 (0%)]\tLoss: 95.756953\n",
      "====> Test set loss: 1.0185\n",
      "Train Epoch: 23 [0/60000 (0%)]\tLoss: 99.040547\n",
      "====> Test set loss: 1.0367\n",
      "Train Epoch: 24 [0/60000 (0%)]\tLoss: 89.089912\n",
      "====> Test set loss: 1.0487\n",
      "Train Epoch: 25 [0/60000 (0%)]\tLoss: 94.770254\n",
      "====> Test set loss: 1.0128\n",
      "Train Epoch: 26 [0/60000 (0%)]\tLoss: 92.798965\n",
      "====> Test set loss: 1.0401\n",
      "Train Epoch: 27 [0/60000 (0%)]\tLoss: 91.825352\n",
      "====> Test set loss: 1.0240\n",
      "Train Epoch: 28 [0/60000 (0%)]\tLoss: 93.604785\n",
      "====> Test set loss: 1.0384\n",
      "Train Epoch: 29 [0/60000 (0%)]\tLoss: 97.447490\n",
      "====> Test set loss: 0.9832\n",
      "Train Epoch: 30 [0/60000 (0%)]\tLoss: 92.655674\n",
      "====> Test set loss: 1.1159\n",
      "Train Epoch: 31 [0/60000 (0%)]\tLoss: 96.337998\n",
      "====> Test set loss: 1.0961\n",
      "Train Epoch: 32 [0/60000 (0%)]\tLoss: 98.068340\n",
      "====> Test set loss: 1.1512\n",
      "Train Epoch: 33 [0/60000 (0%)]\tLoss: 95.859180\n",
      "====> Test set loss: 1.0563\n",
      "Train Epoch: 34 [0/60000 (0%)]\tLoss: 95.228594\n",
      "====> Test set loss: 1.0626\n",
      "Train Epoch: 35 [0/60000 (0%)]\tLoss: 96.685615\n",
      "====> Test set loss: 1.0933\n",
      "Train Epoch: 36 [0/60000 (0%)]\tLoss: 93.471826\n",
      "====> Test set loss: 0.9939\n",
      "Train Epoch: 37 [0/60000 (0%)]\tLoss: 98.612490\n",
      "====> Test set loss: 1.0485\n",
      "Train Epoch: 38 [0/60000 (0%)]\tLoss: 96.166729\n",
      "====> Test set loss: 1.0544\n",
      "Train Epoch: 39 [0/60000 (0%)]\tLoss: 92.369717\n",
      "====> Test set loss: 1.0610\n",
      "Train Epoch: 40 [0/60000 (0%)]\tLoss: 93.980859\n",
      "====> Test set loss: 1.0825\n",
      "Train Epoch: 41 [0/60000 (0%)]\tLoss: 95.768682\n",
      "====> Test set loss: 1.0885\n",
      "Train Epoch: 42 [0/60000 (0%)]\tLoss: 98.879502\n",
      "====> Test set loss: 1.0888\n",
      "Train Epoch: 43 [0/60000 (0%)]\tLoss: 93.633496\n",
      "====> Test set loss: 1.0685\n",
      "Train Epoch: 44 [0/60000 (0%)]\tLoss: 94.721475\n",
      "====> Test set loss: 1.0244\n",
      "Train Epoch: 45 [0/60000 (0%)]\tLoss: 92.930732\n",
      "====> Test set loss: 1.1299\n",
      "Train Epoch: 46 [0/60000 (0%)]\tLoss: 95.012451\n",
      "====> Test set loss: 1.0661\n",
      "Train Epoch: 47 [0/60000 (0%)]\tLoss: 94.337031\n",
      "====> Test set loss: 1.0765\n",
      "Train Epoch: 48 [0/60000 (0%)]\tLoss: 95.872432\n",
      "====> Test set loss: 1.1560\n",
      "Train Epoch: 49 [0/60000 (0%)]\tLoss: 95.975322\n",
      "====> Test set loss: 1.0255\n",
      "Train Epoch: 50 [0/60000 (0%)]\tLoss: 91.841621\n",
      "====> Test set loss: 1.0160\n",
      "Train Epoch: 51 [0/60000 (0%)]\tLoss: 95.424014\n",
      "====> Test set loss: 1.0579\n",
      "Train Epoch: 52 [0/60000 (0%)]\tLoss: 96.046963\n",
      "====> Test set loss: 1.0819\n",
      "Train Epoch: 53 [0/60000 (0%)]\tLoss: 96.145771\n",
      "====> Test set loss: 1.0780\n",
      "Train Epoch: 54 [0/60000 (0%)]\tLoss: 97.170000\n",
      "====> Test set loss: 1.0226\n",
      "Train Epoch: 55 [0/60000 (0%)]\tLoss: 94.497666\n",
      "====> Test set loss: 1.0847\n",
      "Train Epoch: 56 [0/60000 (0%)]\tLoss: 95.804326\n",
      "====> Test set loss: 1.1179\n",
      "Train Epoch: 57 [0/60000 (0%)]\tLoss: 89.338437\n",
      "====> Test set loss: 1.0268\n",
      "Train Epoch: 58 [0/60000 (0%)]\tLoss: 93.727764\n",
      "====> Test set loss: 1.0477\n",
      "Train Epoch: 59 [0/60000 (0%)]\tLoss: 93.342793\n",
      "====> Test set loss: 1.0689\n",
      "Train Epoch: 60 [0/60000 (0%)]\tLoss: 90.715859\n",
      "====> Test set loss: 1.1067\n",
      "Train Epoch: 61 [0/60000 (0%)]\tLoss: 97.098193\n",
      "====> Test set loss: 1.0941\n",
      "Train Epoch: 62 [0/60000 (0%)]\tLoss: 93.361973\n",
      "====> Test set loss: 1.0623\n",
      "Train Epoch: 63 [0/60000 (0%)]\tLoss: 96.593906\n",
      "====> Test set loss: 1.0960\n",
      "Train Epoch: 64 [0/60000 (0%)]\tLoss: 95.000518\n",
      "====> Test set loss: 1.0374\n",
      "Train Epoch: 65 [0/60000 (0%)]\tLoss: 94.094805\n",
      "====> Test set loss: 0.9923\n",
      "Train Epoch: 66 [0/60000 (0%)]\tLoss: 91.667598\n",
      "====> Test set loss: 1.0844\n",
      "Train Epoch: 67 [0/60000 (0%)]\tLoss: 95.108701\n",
      "====> Test set loss: 1.1310\n",
      "Train Epoch: 68 [0/60000 (0%)]\tLoss: 89.371250\n",
      "====> Test set loss: 1.0941\n",
      "Train Epoch: 69 [0/60000 (0%)]\tLoss: 98.625752\n",
      "====> Test set loss: 1.0810\n",
      "Train Epoch: 70 [0/60000 (0%)]\tLoss: 98.532344\n",
      "====> Test set loss: 1.0446\n",
      "Train Epoch: 71 [0/60000 (0%)]\tLoss: 93.551875\n",
      "====> Test set loss: 1.0334\n",
      "Train Epoch: 72 [0/60000 (0%)]\tLoss: 99.458516\n",
      "====> Test set loss: 0.9975\n",
      "Train Epoch: 73 [0/60000 (0%)]\tLoss: 94.415752\n",
      "====> Test set loss: 1.0769\n",
      "Train Epoch: 74 [0/60000 (0%)]\tLoss: 95.272256\n",
      "====> Test set loss: 1.0606\n",
      "Train Epoch: 75 [0/60000 (0%)]\tLoss: 94.466113\n",
      "====> Test set loss: 1.1811\n",
      "Train Epoch: 76 [0/60000 (0%)]\tLoss: 95.541924\n",
      "====> Test set loss: 1.0610\n",
      "Train Epoch: 77 [0/60000 (0%)]\tLoss: 95.329805\n",
      "====> Test set loss: 1.0274\n",
      "Train Epoch: 78 [0/60000 (0%)]\tLoss: 96.263311\n",
      "====> Test set loss: 0.9938\n",
      "Train Epoch: 79 [0/60000 (0%)]\tLoss: 95.062012\n",
      "====> Test set loss: 1.0616\n",
      "Train Epoch: 80 [0/60000 (0%)]\tLoss: 93.785098\n",
      "====> Test set loss: 1.0540\n",
      "Train Epoch: 81 [0/60000 (0%)]\tLoss: 97.005752\n",
      "====> Test set loss: 1.1052\n",
      "Train Epoch: 82 [0/60000 (0%)]\tLoss: 94.713984\n",
      "====> Test set loss: 1.0539\n",
      "Train Epoch: 83 [0/60000 (0%)]\tLoss: 97.055078\n",
      "====> Test set loss: 1.0416\n",
      "Train Epoch: 84 [0/60000 (0%)]\tLoss: 96.970830\n",
      "====> Test set loss: 0.9973\n",
      "Train Epoch: 85 [0/60000 (0%)]\tLoss: 92.895146\n",
      "====> Test set loss: 1.0859\n",
      "Train Epoch: 86 [0/60000 (0%)]\tLoss: 95.481406\n",
      "====> Test set loss: 0.9796\n",
      "Train Epoch: 87 [0/60000 (0%)]\tLoss: 93.772051\n",
      "====> Test set loss: 1.1235\n",
      "Train Epoch: 88 [0/60000 (0%)]\tLoss: 97.156396\n",
      "====> Test set loss: 1.0800\n",
      "Train Epoch: 89 [0/60000 (0%)]\tLoss: 98.136162\n",
      "====> Test set loss: 1.0316\n",
      "Train Epoch: 90 [0/60000 (0%)]\tLoss: 94.659111\n",
      "====> Test set loss: 1.0413\n",
      "Train Epoch: 91 [0/60000 (0%)]\tLoss: 90.937559\n",
      "====> Test set loss: 1.0911\n",
      "Train Epoch: 92 [0/60000 (0%)]\tLoss: 92.912949\n",
      "====> Test set loss: 1.0081\n",
      "Train Epoch: 93 [0/60000 (0%)]\tLoss: 92.589785\n",
      "====> Test set loss: 1.1315\n",
      "Train Epoch: 94 [0/60000 (0%)]\tLoss: 96.766377\n",
      "====> Test set loss: 1.0061\n",
      "Train Epoch: 95 [0/60000 (0%)]\tLoss: 94.567920\n",
      "====> Test set loss: 1.0560\n",
      "Train Epoch: 96 [0/60000 (0%)]\tLoss: 93.850986\n",
      "====> Test set loss: 0.9677\n",
      "Train Epoch: 97 [0/60000 (0%)]\tLoss: 95.390488\n",
      "====> Test set loss: 1.0186\n",
      "Train Epoch: 98 [0/60000 (0%)]\tLoss: 95.231475\n",
      "====> Test set loss: 1.0890\n",
      "Train Epoch: 99 [0/60000 (0%)]\tLoss: 96.733936\n",
      "====> Test set loss: 1.1392\n"
     ]
    }
   ],
   "source": [
    "for i in range(100):\n",
    "    #train_c_epoch(epochs=1,mu_c=mu_c_g,logvar_c=logvar_c_g,pi_c=pi_c_g)\n",
    "\n",
    "    train_c(epoch=i)\n",
    "    test_c(epoch=i,mu_c=mu_c_g,logvar_c=logvar_c_g,pi_c=pi_c_g)\n",
    "    scheduler.step()\n",
    "    scheduler_clustering.step()\n"
   ],
   "metadata": {
    "collapsed": false,
    "pycharm": {
     "name": "#%%\n"
    }
   }
  },
  {
   "cell_type": "code",
   "execution_count": 992,
   "outputs": [
    {
     "data": {
      "text/plain": "<Figure size 432x288 with 1 Axes>",
      "image/png": "[encoded data removed]"
     },
     "metadata": {
      "needs_background": "light"
     },
     "output_type": "display_data"
    }
   ],
   "source": [
    "zs_g,ts_g,mus_g,logvars_g = take_latents()\n",
    "points = TSNE(n_components=2,random_state=0).fit_transform(mus_g.view(-1,latent_dim).cpu().detach().numpy())\n",
    "drawpoints(points,ts_g.cpu().detach().numpy())"
   ],
   "metadata": {
    "collapsed": false,
    "pycharm": {
     "name": "#%%\n"
    }
   }
  },
  {
   "cell_type": "code",
   "execution_count": 993,
   "outputs": [
    {
     "data": {
      "text/plain": "<Figure size 432x288 with 1 Axes>",
      "image/png": "[encoded data removed]"
     },
     "metadata": {
      "needs_background": "light"
     },
     "output_type": "display_data"
    }
   ],
   "source": [
    "\n",
    "kmeans_model = KMeans(n_clusters=K_model_cluster, random_state=1).fit(mus_g.view(-1,latent_dim).cpu().detach().numpy())\n",
    "drawpoints(points,kmeans_model.labels_)"
   ],
   "metadata": {
    "collapsed": false,
    "pycharm": {
     "name": "#%%\n"
    }
   }
  },
  {
   "cell_type": "code",
   "execution_count": 994,
   "outputs": [
    {
     "data": {
      "text/plain": "<Figure size 432x288 with 1 Axes>",
      "image/png": "[encoded data removed]"
     },
     "metadata": {
      "needs_background": "light"
     },
     "output_type": "display_data"
    }
   ],
   "source": [
    "gauss_model = GaussianMixture(n_components=K_model_cluster,covariance_type='diag',random_state=1).fit(mus_g.view(-1,latent_dim).cpu().detach().numpy())\n",
    "drawpoints(points,gauss_model.predict(mus_g.view(-1,latent_dim).cpu().detach().numpy()))"
   ],
   "metadata": {
    "collapsed": false,
    "pycharm": {
     "name": "#%%\n"
    }
   }
  },
  {
   "cell_type": "code",
   "execution_count": 995,
   "outputs": [
    {
     "data": {
      "text/plain": "<Figure size 432x288 with 1 Axes>",
      "image/png": "[encoded data removed]"
     },
     "metadata": {
      "needs_background": "light"
     },
     "output_type": "display_data"
    }
   ],
   "source": [
    "\n",
    "_,_,_,_,gamma_c_g,_ = gauss(mus_g[0:batch_size*take_latent_max,:,:],logvars_g,mu_c_g,logvar_c_g,pi_c_g,1)\n",
    "drawpoints(points[0:batch_size*take_latent_max,:],torch.argmax(gamma_c_g,2).view(-1).cpu().detach().numpy())"
   ],
   "metadata": {
    "collapsed": false,
    "pycharm": {
     "name": "#%%\n"
    }
   }
  },
  {
   "cell_type": "code",
   "execution_count": 996,
   "outputs": [],
   "source": [
    "show_generated_samples_c(mu_c_g,logvar_c_g)"
   ],
   "metadata": {
    "collapsed": false,
    "pycharm": {
     "name": "#%%\n"
    }
   }
  },
  {
   "cell_type": "code",
   "execution_count": 997,
   "outputs": [
    {
     "data": {
      "text/plain": "8.478231655043248e-05"
     },
     "execution_count": 997,
     "metadata": {},
     "output_type": "execute_result"
    }
   ],
   "source": [
    "optimizer.param_groups[0]['lr']"
   ],
   "metadata": {
    "collapsed": false,
    "pycharm": {
     "name": "#%%\n"
    }
   }
  },
  {
   "cell_type": "code",
   "execution_count": 998,
   "outputs": [],
   "source": [
    "correspond_matrix = torch.zeros(K_real_cluster,K_model_cluster)\n",
    "\n",
    "for i in range(batch_size*take_latent_max):\n",
    "\n",
    "    for j in range(K_model_cluster):\n",
    "        for k in range(K_real_cluster):\n",
    "            if torch.argmax(gamma_c_g,2)[i,0] == j:\n",
    "                if ts_g[i] == k:\n",
    "                    correspond_matrix[k,j] +=1\n"
   ],
   "metadata": {
    "collapsed": false,
    "pycharm": {
     "name": "#%%\n"
    }
   }
  },
  {
   "cell_type": "code",
   "execution_count": 999,
   "outputs": [
    {
     "data": {
      "text/plain": "tensor([[ 0., 63.,  0.,  0.,  0.,  0., 41.,  0.,  0.,  1.,  0.,  0.,  0.,  0.,\n          0.,  0.,  0.,  0.,  0.,  0.],\n        [ 0.,  0.,  0.,  1.,  0.,  0.,  0.,  0.,  0.,  0., 45.,  2.,  1.,  1.,\n          0.,  0.,  0.,  0., 58.,  0.],\n        [ 0.,  0.,  0., 54.,  0.,  0.,  2.,  0.,  0.,  0.,  0., 29.,  0.,  0.,\n          1.,  0.,  0.,  0.,  0.,  0.],\n        [ 1.,  0.,  0.,  0.,  0.,  0.,  0.,  0.,  0.,  4.,  0.,  4.,  1.,  1.,\n         44.,  0., 41.,  0.,  0.,  1.],\n        [ 0.,  0.,  3.,  0.,  1.,  0.,  0.,  0.,  0.,  0.,  0.,  3.,  0.,  2.,\n          0., 21.,  0., 65.,  0.,  0.],\n        [25.,  1.,  0.,  0.,  0.,  0.,  0.,  1.,  0., 16.,  0.,  0.,  0.,  0.,\n          1.,  0.,  9.,  0.,  0., 51.],\n        [ 0.,  0., 54.,  0.,  0., 55.,  1.,  0.,  0.,  0.,  0.,  0.,  0.,  0.,\n          0.,  1.,  0.,  0.,  0.,  0.],\n        [ 0.,  0.,  0.,  2., 25.,  0.,  0.,  0., 28.,  0.,  0.,  1.,  0., 27.,\n          0.,  0.,  0.,  0.,  0.,  0.],\n        [ 9.,  0.,  0.,  0.,  1.,  0.,  0.,  2.,  0., 17.,  0.,  0., 68.,  0.,\n          0.,  0.,  0.,  0.,  0.,  2.],\n        [ 0.,  0.,  0.,  0.,  1.,  0.,  0., 71.,  2.,  2.,  0.,  0.,  0.,  2.,\n          0., 31.,  2.,  1.,  0.,  0.]])"
     },
     "execution_count": 999,
     "metadata": {},
     "output_type": "execute_result"
    }
   ],
   "source": [
    "correspond_matrix"
   ],
   "metadata": {
    "collapsed": false,
    "pycharm": {
     "name": "#%%\n"
    }
   }
  },
  {
   "cell_type": "code",
   "execution_count": 1000,
   "outputs": [
    {
     "data": {
      "text/plain": "tensor(1000.)"
     },
     "execution_count": 1000,
     "metadata": {},
     "output_type": "execute_result"
    }
   ],
   "source": [
    "correspond_matrix.sum()"
   ],
   "metadata": {
    "collapsed": false,
    "pycharm": {
     "name": "#%%\n"
    }
   }
  },
  {
   "cell_type": "code",
   "execution_count": 1001,
   "outputs": [
    {
     "data": {
      "text/plain": "torch.return_types.max(\nvalues=tensor([25., 63., 54., 54., 25., 55., 41., 71., 28., 17., 45., 29., 68., 27.,\n        44., 31., 41., 65., 58., 51.]),\nindices=tensor([5, 0, 6, 2, 7, 6, 0, 9, 7, 8, 1, 2, 8, 7, 3, 9, 3, 4, 1, 5]))"
     },
     "execution_count": 1001,
     "metadata": {},
     "output_type": "execute_result"
    }
   ],
   "source": [
    "torch.max(correspond_matrix,0)"
   ],
   "metadata": {
    "collapsed": false,
    "pycharm": {
     "name": "#%%\n"
    }
   }
  },
  {
   "cell_type": "code",
   "execution_count": 1002,
   "outputs": [
    {
     "data": {
      "text/plain": "tensor(0.8920)"
     },
     "execution_count": 1002,
     "metadata": {},
     "output_type": "execute_result"
    }
   ],
   "source": [
    "torch.max(correspond_matrix,0).values.sum()/(batch_size*take_latent_max)"
   ],
   "metadata": {
    "collapsed": false,
    "pycharm": {
     "name": "#%%\n"
    }
   }
  },
  {
   "cell_type": "code",
   "execution_count": 954,
   "outputs": [],
   "source": [],
   "metadata": {
    "collapsed": false,
    "pycharm": {
     "name": "#%%\n"
    }
   }
  }
 ],
 "metadata": {
  "kernelspec": {
   "name": "pycharm-9c5a4569",
   "language": "python",
   "display_name": "PyCharm (auto_encoder)"
  },
  "language_info": {
   "codemirror_mode": {
    "name": "ipython",
    "version": 2
   },
   "file_extension": ".py",
   "mimetype": "text/x-python",
   "name": "python",
   "nbconvert_exporter": "python",
   "pygments_lexer": "ipython2",
   "version": "2.7.6"
  },
  "pycharm": {
   "stem_cell": {
    "cell_type": "raw",
    "source": [
     "#SGDを用いてGMMを行うプログラムを作成する。２０２０年１１月４日２時１１分"
    ],
    "metadata": {
     "collapsed": false
    }
   }
  }
 },
 "nbformat": 4,
 "nbformat_minor": 0
}