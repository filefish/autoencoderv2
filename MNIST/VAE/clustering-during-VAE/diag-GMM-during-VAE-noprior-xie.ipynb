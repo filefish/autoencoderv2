{
 "cells": [
  {
   "cell_type": "code",
   "execution_count": null,
   "outputs": [],
   "source": [],
   "metadata": {
    "collapsed": false,
    "pycharm": {
     "name": "#%%\n"
    }
   }
  },
  {
   "cell_type": "code",
   "execution_count": 1,
   "outputs": [],
   "source": [
    "from __future__ import print_function\n",
    "import argparse\n",
    "import torch\n",
    "import torch.utils.data\n",
    "from torch import nn, optim\n",
    "from torch.nn import functional as F\n",
    "from torchvision import datasets, transforms\n",
    "from torchvision.utils import save_image\n",
    "\n",
    "%matplotlib inline\n",
    "import matplotlib.pyplot as plt\n",
    "from torch.distributions.multivariate_normal import MultivariateNormal\n",
    "import numpy as np\n",
    "\n",
    "\n",
    "from sklearn.manifold import TSNE\n",
    "from random import random\n",
    "from sklearn.mixture import GaussianMixture\n",
    "from sklearn.mixture import BayesianGaussianMixture"
   ],
   "metadata": {
    "collapsed": false,
    "pycharm": {
     "name": "#%%\n"
    }
   }
  },
  {
   "cell_type": "code",
   "execution_count": 2,
   "outputs": [],
   "source": [
    "batch_size = 100\n",
    "take_latent_max =10\n",
    "num_epoch = 10\n",
    "input_dim=28*28\n",
    "output_dim=input_dim\n",
    "en_hidden1_dim = 500\n",
    "en_hidden2_dim = 500\n",
    "en_hidden3_dim = 2000\n",
    "latent_dim= 10\n",
    "de_hidden1_dim = 2000\n",
    "de_hidden2_dim = 500\n",
    "de_hidden3_dim = 500\n",
    "\n",
    "\n",
    "log_interval = 10\n",
    "\n",
    "K_model_cluster = 10\n",
    "\n",
    "beta= 1.\n",
    "\n"
   ],
   "metadata": {
    "collapsed": false,
    "pycharm": {
     "name": "#%%\n"
    }
   }
  },
  {
   "cell_type": "code",
   "execution_count": 4,
   "outputs": [],
   "source": [
    "device = 'cuda'\n",
    "kwargs = {'num_workers':1, 'pin_memory':True}\n",
    "\n",
    "train_loader = torch.utils.data.DataLoader(\n",
    "    datasets.MNIST('../data',train=True,download=True,\n",
    "                   transform=transforms.ToTensor()),\n",
    "    batch_size=batch_size,shuffle=True,**kwargs)\n",
    "\n",
    "test_loader = torch.utils.data.DataLoader(\n",
    "    datasets.MNIST('../data',train=False,transform=transforms.ToTensor()),\n",
    "    batch_size=batch_size,shuffle=True,**kwargs)"
   ],
   "metadata": {
    "collapsed": false,
    "pycharm": {
     "name": "#%%\n"
    }
   }
  },
  {
   "cell_type": "code",
   "execution_count": 779,
   "outputs": [],
   "source": [
    "class VAE(nn.Module):\n",
    "    def __init__(self):\n",
    "        super(VAE, self).__init__()\n",
    "\n",
    "        self.input_layer = nn.Linear(input_dim,en_hidden1_dim)##728 => 500 for MNIST\n",
    "        self.encode1_layer = nn.Linear(en_hidden1_dim,en_hidden2_dim)##500 => 500 for MNIST\n",
    "        self.encode2_layer = nn.Linear(en_hidden2_dim,en_hidden3_dim)##500 => 2000 for MNIST\n",
    "        self.mu_layer = nn.Linear(en_hidden3_dim,latent_dim)##2000 => 10 for MNIST\n",
    "        self.std_layer = nn.Linear(en_hidden3_dim,latent_dim)##2000 => 10 for MNIST\n",
    "        self.decode1_layer = nn.Linear(latent_dim,de_hidden1_dim)##10 => 2000 for MNIST\n",
    "        self.decode2_layer = nn.Linear(de_hidden1_dim,de_hidden2_dim)##2000 => 500 for MNIST\n",
    "        self.decode3_layer = nn.Linear(de_hidden2_dim,de_hidden3_dim)##500 => 500 for MNIST\n",
    "        self.output_layer = nn.Linear(de_hidden3_dim,output_dim)##500 => 728 for MNIST\n",
    "\n",
    "    def encode(self, x):\n",
    "        en_h1 = F.relu(self.input_layer(x))\n",
    "        en_h2 = F.relu(self.encode1_layer(en_h1))\n",
    "        en_h3 = F.relu(self.encode2_layer(en_h2))\n",
    "        return self.mu_layer(en_h3), self.std_layer(en_h3)\n",
    "    #入力から中心と分散の対数を作っている\n",
    "\n",
    "    def reparameterize(self,mu,logvar):\n",
    "        std = torch.exp(0.5*logvar)\n",
    "        eps = torch.randn_like(std)\n",
    "        #torch.randn_like(std)はstdと同じ次元の正規乱数を与えている。N(0,1)**size(std).ただし、標準偏差は対角的。\n",
    "        return mu + eps*std\n",
    "    #zの値を確率的に作っている。\n",
    "\n",
    "    def decode(self,z):\n",
    "        de_h1 = F.relu(self.decode1_layer(z))\n",
    "        de_h2 = F.relu(self.decode2_layer(de_h1))\n",
    "        de_h3 = F.relu(self.decode3_layer(de_h2))\n",
    "        return torch.sigmoid(self.output_layer(de_h3))\n",
    "    #zからNNを通したあとに、sigmoidで押し込んでxの値を作っている\n",
    "\n",
    "    def forward(self, x):\n",
    "        mu, logvar = self.encode(x.view(-1,784))\n",
    "        z = self.reparameterize(mu, logvar)\n",
    "        return self.decode(z),mu,logvar,z\n",
    "    #出力はxの予測値とzを算出するときの中心と分散になっている\n",
    "\n",
    "model = VAE().to(device)\n",
    "optimizer = optim.Adam(model.parameters(),lr=1e-3)"
   ],
   "metadata": {
    "collapsed": false,
    "pycharm": {
     "name": "#%%\n"
    }
   }
  },
  {
   "cell_type": "code",
   "execution_count": 6,
   "outputs": [],
   "source": [
    "def loss_function(recon_x,x,mu,logvar):\n",
    "    BCE = F.binary_cross_entropy(recon_x,x.view(-1,784),reduction='sum')\n",
    "    #recon_xはsigmoidをdecordeで通されているので、[0,1]になっている。\n",
    "    KLD = -0.5*torch.sum(1+logvar-mu.pow(2)-logvar.exp())\n",
    "\n",
    "    return BCE+beta*KLD\n",
    "\n"
   ],
   "metadata": {
    "collapsed": false,
    "pycharm": {
     "name": "#%%\n"
    }
   }
  },
  {
   "cell_type": "code",
   "execution_count": 7,
   "outputs": [],
   "source": [
    "def train(epoch):\n",
    "    model.train()\n",
    "    train_loss = 0\n",
    "    for batch_idx, (data,_) in enumerate(train_loader):\n",
    "        #ラベルは使わないようだ\n",
    "        data = data.to(device)\n",
    "        #データをGPUにおくる\n",
    "        optimizer.zero_grad()\n",
    "        #傾きの初期化\n",
    "        recon_batch, mu, logvar,z = model(data)\n",
    "        #VAEからバッヂ分のデータと中心と分散のログを受け取る\n",
    "        loss = loss_function(recon_batch,data,mu,logvar)\n",
    "        #バッヂ分のロスを計算。バッヂ数で割っていないようだ。書き出しのときにデータ数で割っている。\n",
    "        loss.backward()\n",
    "        #傾きを計算\n",
    "        train_loss+= loss.item()\n",
    "        optimizer.step()\n",
    "        #パラメータの更新\n",
    "        if batch_idx % log_interval ==0:\n",
    "            #一定間隔でロスを書き出し。epochはここでしか使っていないようだ。\n",
    "            print('Train Epoch: {} [{}/{} ({:.0f}%)]\\tLoss: {:.6f}'.format(\n",
    "              epoch,batch_idx*len(data),len(train_loader.dataset),\n",
    "                100.*batch_idx/len(train_loader),\n",
    "                loss.item()/len(data)\n",
    "            ))"
   ],
   "metadata": {
    "collapsed": false,
    "pycharm": {
     "name": "#%%\n"
    }
   }
  },
  {
   "cell_type": "code",
   "execution_count": 8,
   "outputs": [],
   "source": [
    "def test(epoch):\n",
    "    model.eval()\n",
    "    test_loss = 0\n",
    "    with torch.no_grad():#バックプロパゲーションを行わないから、微分情報を残さない\n",
    "        for i, (data, _) in enumerate(test_loader):\n",
    "            #テストデータを取り出す。ラベルはいらない。\n",
    "            data =data.to(device)\n",
    "            #データをGPUに送る\n",
    "            recon_batch, mu, logvar,z = model(data)\n",
    "            #データからバッヂ分の再現画像と中心と分散の対数を出している。\n",
    "            test_loss += loss_function(recon_batch,data,mu,logvar).item()\n",
    "            #テストデータでのロスを出している\n",
    "            if i == 0:\n",
    "                #はじめのバッヂについて\n",
    "                n = min(data.size(0),16)\n",
    "                #nをバッヂのデータ数か８との小さい方として\n",
    "                comparizon = torch.cat([data[:n],recon_batch.view(batch_size,1,28,28)[:n]])\n",
    "                #元データと再現データを並べる\n",
    "                save_image(comparizon.cpu(),'./xie-results/reconstruction_' + str(epoch) + '.png',nrow=n)\n",
    "\n",
    "                test_loss /= len(test_loader.dataset)\n",
    "                print('====> Test set loss: {:.4f}'.format(test_loss))"
   ],
   "metadata": {
    "collapsed": false,
    "pycharm": {
     "name": "#%%\n"
    }
   }
  },
  {
   "cell_type": "code",
   "execution_count": 9,
   "outputs": [],
   "source": [
    "def initial_train(epochs):\n",
    "    for epoch in range(1, epochs +1):\n",
    "        train(epoch)\n",
    "        test(epoch)\n",
    "        with torch.no_grad():\n",
    "            sample = torch.randn(64,latent_dim).to(device)\n",
    "        #20次元の潜在空間のデータを64個作成して、GPUに送る\n",
    "            sample = model.decode(sample).cpu()\n",
    "        #ランダムな潜在変数から画像を生成する。\n",
    "            save_image(sample.view(64,1,28,28),'xie-results/sample_' + str(epoch) + '.png',nrow=8)\n",
    "        #生成した６４個のデータを記録しておく\n"
   ],
   "metadata": {
    "collapsed": false,
    "pycharm": {
     "name": "#%%\n"
    }
   }
  },
  {
   "cell_type": "code",
   "execution_count": 10,
   "outputs": [],
   "source": [
    "def take_latents():\n",
    "    zs = torch.empty(0,latent_dim,1).to(device).requires_grad_(False)\n",
    "    ts = torch.empty(0,dtype=torch.long).to(device).requires_grad_(False)\n",
    "    mus = torch.empty(0,latent_dim,1).to(device).requires_grad_(False)\n",
    "    logvars = torch.empty(0,latent_dim,1).to(device).requires_grad_(False)\n",
    "#zs = []\n",
    "#ts = []\n",
    "\n",
    "#ts.dtype = torch.int\n",
    "\n",
    "    #for x, t in test_loader:\n",
    "    for batch_idx, (x,t) in enumerate(test_loader):\n",
    "    # original。xがデータ、tがラベル。\n",
    "    #for i, im in enumerate(x.view(-1, 28, 28).detach().numpy()[:10]):\n",
    "    #  ax = fig.add_subplot(3, 10, i+1, xticks=[], yticks=[])\n",
    "    #  ax.imshow(im, 'gray')\n",
    "    #x = x.to(device)\n",
    "    # generate from x\n",
    "        if batch_idx < take_latent_max:\n",
    "            x = x.to(device)\n",
    "            with torch.no_grad():\n",
    "                recon_batch,mu,logvar, z = model(x)\n",
    "            t = t.to(device)\n",
    "    #zs.append(z)\n",
    "    #ts.append(t)\n",
    "            zs = torch.cat((zs,z.view(-1,latent_dim,1)),0)\n",
    "            ts = torch.cat((ts,t),0)\n",
    "            mus = torch.cat((mus,mu.view(-1,latent_dim,1)),0)\n",
    "            logvars = torch.cat((logvars,logvar.view(-1,latent_dim,1)),0)\n",
    "    #y = y.view(-1, 28, 28)\n",
    "    #for i, im in enumerate(y.cpu().detach().numpy()[:10]):\n",
    "     # ax = fig.add_subplot(3, 10, i+11, xticks=[], yticks=[])\n",
    "     # ax.imshow(im, 'gray')\n",
    "    return zs,ts,mus,logvars"
   ],
   "metadata": {
    "collapsed": false,
    "pycharm": {
     "name": "#%%\n"
    }
   }
  },
  {
   "cell_type": "code",
   "execution_count": 179,
   "outputs": [],
   "source": [
    "def initialize_centers(mus):\n",
    "\n",
    "    mu_center = mus.mean(0,keepdim=True).detach().requires_grad_(False)\n",
    "    mus_white = mus.detach().requires_grad_(False)-mu_center\n",
    "    cov_mus = torch.matmul(mus_white.squeeze(2).t(),mus_white.squeeze(2))/mus.shape[0]\n",
    "\n",
    "    mu_distribution = MultivariateNormal(loc=mu_center.view(-1,latent_dim),covariance_matrix=cov_mus)\n",
    "#mu_distribution = MultivariateNormal(loc=mu_center.cpu(),covariance_matrix=cov_mus.cpu())\n",
    "    mu_c = mu_distribution.sample([K_model_cluster,])\n",
    "    mu_c = mu_c.permute(1,2,0)\n",
    "\n",
    "    #logvar_c = torch.diag(cov_mus).log()\n",
    "    #logvar_c = logvar_c.view(1,latent_dim,1)\n",
    "    #logvar_c = logvar_c.repeat(1,1,K_model_cluster)\n",
    "\n",
    "    logvar_c = torch.zeros(1,latent_dim,K_model_cluster).to(device).requires_grad_(False)\n",
    "\n",
    "    pi_c = torch.full((1,1,K_model_cluster),1./K_model_cluster).to(device).requires_grad_(False)\n",
    "\n",
    "    return mu_c,logvar_c,pi_c"
   ],
   "metadata": {
    "collapsed": false,
    "pycharm": {
     "name": "#%%\n"
    }
   }
  },
  {
   "cell_type": "code",
   "execution_count": 850,
   "outputs": [],
   "source": [
    "#zs_g,ts_g,mus_g,logvars_g,mu_c_g,logvar_c_g,pi_c_g = initialize_centers()"
   ],
   "metadata": {
    "collapsed": false,
    "pycharm": {
     "name": "#%%\n"
    }
   }
  },
  {
   "cell_type": "code",
   "execution_count": 168,
   "outputs": [],
   "source": [
    "def gauss(mus,logvars,mu_c,logvar_c,pi_c,iter):\n",
    "    #mus = mus_ini\n",
    "    #logvars = logvars_ini\n",
    "    #mu_c = mu_c_ini\n",
    "    #logvar_c = logvar_c_ini\n",
    "    #pi_c = pi_c_ini\n",
    "\n",
    "    for i in range(iter):\n",
    "        with torch.no_grad():\n",
    "            Q_c = logvar_c+(logvars.exp()+(mus-mu_c).pow(2))/(logvar_c.exp())\n",
    "\n",
    "            gamma_c = (pi_c*((-0.5*Q_c.sum(1,keepdim=True)).exp()))/(pi_c*((-0.5*Q_c.sum(1,keepdim=True)).exp())).sum(2,keepdim=True)\n",
    "\n",
    "            N_c = gamma_c.sum(0,keepdim=True)\n",
    "            log_P = (((pi_c*((-0.5*Q_c.sum(1,keepdim=True)).exp())).sum(2).squeeze()).log()).sum()/(Q_c.shape)[0]\n",
    "            pi_c= N_c/N_c.sum()\n",
    "            mu_c=(gamma_c*mus).sum(0,keepdim=True)/N_c\n",
    "            logvar_c=((gamma_c*((mus-mu_c).pow(2)+logvars.exp())).sum(0,keepdim=True)/N_c).log()\n",
    "\n",
    "\n",
    "    return mu_c,logvar_c,pi_c,Q_c,gamma_c,log_P"
   ],
   "metadata": {
    "collapsed": false,
    "pycharm": {
     "name": "#%%\n"
    }
   }
  },
  {
   "cell_type": "code",
   "execution_count": 13,
   "outputs": [],
   "source": [
    "def drawpoints(mus_numpy,ts_numpy):\n",
    "    colors = [\"red\", \"green\", \"blue\", \"orange\", \"purple\", \"brown\", \"fuchsia\", \"grey\", \"olive\", \"lightblue\"]\n",
    "    for p,l in zip(points,ts_numpy):\n",
    "        plt.scatter(p[0],p[1],marker=\"${}$\".format(l),c=colors[l])"
   ],
   "metadata": {
    "collapsed": false,
    "pycharm": {
     "name": "#%%\n"
    }
   }
  },
  {
   "cell_type": "code",
   "execution_count": 14,
   "outputs": [],
   "source": [
    "def show_generated_samples_c(mu_c,logvar_c):\n",
    "    for i in range(K_model_cluster):\n",
    "        with torch.no_grad():\n",
    "            sample_dist = MultivariateNormal(loc=mu_c[:,:,i],covariance_matrix=torch.diag(logvar_c[0,:,i].exp()))\n",
    "    #mu_distribution = MultivariateNormal(loc=mu_center.cpu(),covariance_matrix=cov_mus.cpu())\n",
    "            sample = sample_dist.sample([64,])\n",
    "#    sample = torch.randn(64,latent_dim).to(device)\n",
    "        #20次元の潜在空間のデータを64個作成して、GPUに送る\n",
    "            sample = model.decode(sample).cpu()\n",
    "        #ランダムな潜在変数から画像を生成する。\n",
    "            save_image(sample.view(64,1,28,28),'xie-results/sample_c_' + str(i) + '.png',nrow=8)\n",
    "        #生成した６４個のデータを記録しておく"
   ],
   "metadata": {
    "collapsed": false,
    "pycharm": {
     "name": "#%%\n"
    }
   }
  },
  {
   "cell_type": "code",
   "execution_count": 15,
   "outputs": [],
   "source": [
    "def loss_function_c(recon_x,x,mus_f,logvars_f,mu_c_f,logvar_c_f,pi_c_f):\n",
    "    BCE = F.binary_cross_entropy(recon_x,x.view(-1,784),reduction='sum')\n",
    "    #recon_xはsigmoidをdecordeで通されているので、[0,1]になっている。\n",
    "    #KLD = -0.5*torch.sum(1+logvar-mu.pow(2)-logvar.exp())\n",
    "    #Q_c_f = -logvars_f+logvar_c_f+logvars_f.exp()/(logvar_c_f.exp())+(mus_f-mu_c_f).pow(2)/(logvar_c_f.exp())\n",
    "    #KLD = (((pi_c_f*((-0.5*(-logvars_f+logvar_c_f+logvars_f.exp()/(logvar_c_f.exp())+(mus_f-mu_c_f).pow(2)/(logvar_c_f.exp())).sum(1,keepdim=True)).exp())).sum(2).squeeze()).log()).sum()\n",
    "    KLD = -0.5*(1+logvars_f).sum() -(((pi_c_f*(-0.5*((logvar_c_f+(logvars_f.exp()+(mus_f-mu_c_f).pow(2))/logvar_c_f.exp()).sum(1,keepdim=True))).exp()).sum(2,keepdim=True)).log()).sum()#+(logvars_f.exp()+(mus_f-mu_c_f).pow(2))/(logvar_c_f.exp()))\n",
    "\n",
    "    return BCE+beta*KLD"
   ],
   "metadata": {
    "collapsed": false,
    "pycharm": {
     "name": "#%%\n"
    }
   }
  },
  {
   "cell_type": "code",
   "execution_count": 16,
   "outputs": [],
   "source": [
    "def train_c(epoch,mu_c,logvar_c,pi_c):\n",
    "    model.train()\n",
    "    train_loss = 0\n",
    "    for batch_idx, (data,_) in enumerate(train_loader):\n",
    "        #ラベルは使わないようだ\n",
    "        data = data.to(device)\n",
    "        #データをGPUにおくる\n",
    "        optimizer.zero_grad()\n",
    "        #傾きの初期化\n",
    "        recon_batch, mu, logvar,z = model(data)\n",
    "        #VAEからバッヂ分のデータと中心と分散のログを受け取る\n",
    "        loss = loss_function_c(recon_x=recon_batch,x=data,mus_f=mu.view(-1,latent_dim,1),logvars_f=logvar.view(-1,latent_dim,1),mu_c_f=mu_c,logvar_c_f=logvar_c,pi_c_f=pi_c)\n",
    "        #バッヂ分のロスを計算。バッヂ数で割っていないようだ。書き出しのときにデータ数で割っている。\n",
    "        loss.backward()\n",
    "        #傾きを計算\n",
    "        train_loss+= loss.item()\n",
    "        optimizer.step()\n",
    "        #パラメータの更新\n",
    "        if batch_idx % log_interval ==0:\n",
    "            #一定間隔でロスを書き出し。epochはここでしか使っていないようだ。len()は最初の次元の大きさを出すのでバッヂの大きさ。\n",
    "            print('Train Epoch: {} [{}/{} ({:.0f}%)]\\tLoss: {:.6f}'.format(\n",
    "              epoch,batch_idx*len(data),len(train_loader.dataset),\n",
    "                100.*batch_idx/len(train_loader),\n",
    "                loss.item()/len(data)\n",
    "            ))"
   ],
   "metadata": {
    "collapsed": false,
    "pycharm": {
     "name": "#%%\n"
    }
   }
  },
  {
   "cell_type": "code",
   "execution_count": 17,
   "outputs": [],
   "source": [
    "def test_c(epoch,mu_c,logvar_c,pi_c):\n",
    "    model.eval()\n",
    "    test_loss = 0\n",
    "    with torch.no_grad():#バックプロパゲーションを行わないから、微分情報を残さない\n",
    "        for i, (data, _) in enumerate(test_loader):\n",
    "            #テストデータを取り出す。ラベルはいらない。\n",
    "            data =data.to(device)\n",
    "            #データをGPUに送る\n",
    "            recon_batch, mu, logvar,z = model(data)\n",
    "            #データからバッヂ分の再現画像と中心と分散の対数を出している。\n",
    "            test_loss += loss_function_c(recon_x=recon_batch,x=data,mus_f=mu.view(-1,latent_dim,1),logvars_f=logvar.view(-1,latent_dim,1),mu_c_f=mu_c,logvar_c_f=logvar_c,pi_c_f=pi_c).item()\n",
    "            #テストデータでのロスを出している\n",
    "            if i == 0:\n",
    "                #はじめのバッヂについて\n",
    "                n = min(data.size(0),16)\n",
    "                #nをバッヂのデータ数か８との小さい方として\n",
    "                comparizon = torch.cat([data[:n],recon_batch.view(batch_size,1,28,28)[:n]])\n",
    "                #元データと再現データを並べる\n",
    "                save_image(comparizon.cpu(),'./xie-results/reconstruction_c_' + str(epoch) + '.png',nrow=n)\n",
    "\n",
    "                test_loss /= len(test_loader.dataset)\n",
    "                print('====> Test set loss: {:.4f}'.format(test_loss))"
   ],
   "metadata": {
    "collapsed": false,
    "pycharm": {
     "name": "#%%\n"
    }
   }
  },
  {
   "cell_type": "code",
   "execution_count": 20,
   "outputs": [],
   "source": [
    "def train_c_epoch(epochs,mu_c,logvar_c,pi_c):\n",
    "    for epoch in range(1, epochs +1):\n",
    "        train_c(epoch,mu_c,logvar_c,pi_c)\n",
    "        test_c(epoch,mu_c,logvar_c,pi_c)\n",
    "        with torch.no_grad():\n",
    "            sample = torch.randn(64,latent_dim).to(device)\n",
    "        #20次元の潜在空間のデータを64個作成して、GPUに送る\n",
    "            sample = model.decode(sample).cpu()\n",
    "        #ランダムな潜在変数から画像を生成する。\n",
    "            save_image(sample.view(64,1,28,28),'xie-results/sample_c_epoch_' + str(epoch) + '.png',nrow=8)\n",
    "        #生成した６４個のデータを記録しておく"
   ],
   "metadata": {
    "collapsed": false,
    "pycharm": {
     "name": "#%%\n"
    }
   }
  },
  {
   "cell_type": "code",
   "execution_count": 780,
   "outputs": [
    {
     "name": "stdout",
     "output_type": "stream",
     "text": [
      "Train Epoch: 1 [0/60000 (0%)]\tLoss: 543.592148\n",
      "Train Epoch: 1 [1000/60000 (2%)]\tLoss: 231.806680\n",
      "Train Epoch: 1 [2000/60000 (3%)]\tLoss: 215.224863\n",
      "Train Epoch: 1 [3000/60000 (5%)]\tLoss: 225.025391\n",
      "Train Epoch: 1 [4000/60000 (7%)]\tLoss: 204.977422\n",
      "Train Epoch: 1 [5000/60000 (8%)]\tLoss: 202.020879\n",
      "Train Epoch: 1 [6000/60000 (10%)]\tLoss: 199.698789\n",
      "Train Epoch: 1 [7000/60000 (12%)]\tLoss: 205.115566\n",
      "Train Epoch: 1 [8000/60000 (13%)]\tLoss: 206.534570\n",
      "Train Epoch: 1 [9000/60000 (15%)]\tLoss: 198.471387\n",
      "Train Epoch: 1 [10000/60000 (17%)]\tLoss: 196.937617\n",
      "Train Epoch: 1 [11000/60000 (18%)]\tLoss: 193.510547\n",
      "Train Epoch: 1 [12000/60000 (20%)]\tLoss: 194.476543\n",
      "Train Epoch: 1 [13000/60000 (22%)]\tLoss: 198.942988\n",
      "Train Epoch: 1 [14000/60000 (23%)]\tLoss: 188.042344\n",
      "Train Epoch: 1 [15000/60000 (25%)]\tLoss: 190.491738\n",
      "Train Epoch: 1 [16000/60000 (27%)]\tLoss: 189.569668\n",
      "Train Epoch: 1 [17000/60000 (28%)]\tLoss: 182.367031\n",
      "Train Epoch: 1 [18000/60000 (30%)]\tLoss: 190.023301\n",
      "Train Epoch: 1 [19000/60000 (32%)]\tLoss: 187.986367\n",
      "Train Epoch: 1 [20000/60000 (33%)]\tLoss: 183.849141\n",
      "Train Epoch: 1 [21000/60000 (35%)]\tLoss: 186.986934\n",
      "Train Epoch: 1 [22000/60000 (37%)]\tLoss: 175.606328\n",
      "Train Epoch: 1 [23000/60000 (38%)]\tLoss: 182.482441\n",
      "Train Epoch: 1 [24000/60000 (40%)]\tLoss: 170.594512\n",
      "Train Epoch: 1 [25000/60000 (42%)]\tLoss: 178.644316\n",
      "Train Epoch: 1 [26000/60000 (43%)]\tLoss: 177.356484\n",
      "Train Epoch: 1 [27000/60000 (45%)]\tLoss: 161.654043\n",
      "Train Epoch: 1 [28000/60000 (47%)]\tLoss: 181.414727\n",
      "Train Epoch: 1 [29000/60000 (48%)]\tLoss: 171.075352\n",
      "Train Epoch: 1 [30000/60000 (50%)]\tLoss: 177.318320\n",
      "Train Epoch: 1 [31000/60000 (52%)]\tLoss: 178.812637\n",
      "Train Epoch: 1 [32000/60000 (53%)]\tLoss: 164.398516\n",
      "Train Epoch: 1 [33000/60000 (55%)]\tLoss: 167.590215\n",
      "Train Epoch: 1 [34000/60000 (57%)]\tLoss: 166.519492\n",
      "Train Epoch: 1 [35000/60000 (58%)]\tLoss: 170.277480\n",
      "Train Epoch: 1 [36000/60000 (60%)]\tLoss: 161.537754\n",
      "Train Epoch: 1 [37000/60000 (62%)]\tLoss: 172.976934\n",
      "Train Epoch: 1 [38000/60000 (63%)]\tLoss: 163.479053\n",
      "Train Epoch: 1 [39000/60000 (65%)]\tLoss: 162.027383\n",
      "Train Epoch: 1 [40000/60000 (67%)]\tLoss: 157.676543\n",
      "Train Epoch: 1 [41000/60000 (68%)]\tLoss: 166.525469\n",
      "Train Epoch: 1 [42000/60000 (70%)]\tLoss: 158.688896\n",
      "Train Epoch: 1 [43000/60000 (72%)]\tLoss: 159.411064\n",
      "Train Epoch: 1 [44000/60000 (73%)]\tLoss: 149.783574\n",
      "Train Epoch: 1 [45000/60000 (75%)]\tLoss: 156.749639\n",
      "Train Epoch: 1 [46000/60000 (77%)]\tLoss: 158.891416\n",
      "Train Epoch: 1 [47000/60000 (78%)]\tLoss: 150.717773\n",
      "Train Epoch: 1 [48000/60000 (80%)]\tLoss: 155.242969\n",
      "Train Epoch: 1 [49000/60000 (82%)]\tLoss: 154.888877\n",
      "Train Epoch: 1 [50000/60000 (83%)]\tLoss: 157.516270\n",
      "Train Epoch: 1 [51000/60000 (85%)]\tLoss: 162.244229\n",
      "Train Epoch: 1 [52000/60000 (87%)]\tLoss: 154.445381\n",
      "Train Epoch: 1 [53000/60000 (88%)]\tLoss: 162.121602\n",
      "Train Epoch: 1 [54000/60000 (90%)]\tLoss: 156.282686\n",
      "Train Epoch: 1 [55000/60000 (92%)]\tLoss: 156.923613\n",
      "Train Epoch: 1 [56000/60000 (93%)]\tLoss: 148.371094\n",
      "Train Epoch: 1 [57000/60000 (95%)]\tLoss: 153.966660\n",
      "Train Epoch: 1 [58000/60000 (97%)]\tLoss: 152.624434\n",
      "Train Epoch: 1 [59000/60000 (98%)]\tLoss: 144.040068\n",
      "====> Test set loss: 1.4430\n",
      "Train Epoch: 2 [0/60000 (0%)]\tLoss: 150.265703\n",
      "Train Epoch: 2 [1000/60000 (2%)]\tLoss: 152.352090\n",
      "Train Epoch: 2 [2000/60000 (3%)]\tLoss: 152.288633\n",
      "Train Epoch: 2 [3000/60000 (5%)]\tLoss: 142.793457\n",
      "Train Epoch: 2 [4000/60000 (7%)]\tLoss: 148.628926\n",
      "Train Epoch: 2 [5000/60000 (8%)]\tLoss: 149.414561\n",
      "Train Epoch: 2 [6000/60000 (10%)]\tLoss: 147.463613\n",
      "Train Epoch: 2 [7000/60000 (12%)]\tLoss: 142.634277\n",
      "Train Epoch: 2 [8000/60000 (13%)]\tLoss: 144.936699\n",
      "Train Epoch: 2 [9000/60000 (15%)]\tLoss: 133.731943\n",
      "Train Epoch: 2 [10000/60000 (17%)]\tLoss: 147.992656\n",
      "Train Epoch: 2 [11000/60000 (18%)]\tLoss: 146.402920\n",
      "Train Epoch: 2 [12000/60000 (20%)]\tLoss: 146.465879\n",
      "Train Epoch: 2 [13000/60000 (22%)]\tLoss: 143.113125\n",
      "Train Epoch: 2 [14000/60000 (23%)]\tLoss: 142.766025\n",
      "Train Epoch: 2 [15000/60000 (25%)]\tLoss: 140.485049\n",
      "Train Epoch: 2 [16000/60000 (27%)]\tLoss: 137.749287\n",
      "Train Epoch: 2 [17000/60000 (28%)]\tLoss: 138.353223\n",
      "Train Epoch: 2 [18000/60000 (30%)]\tLoss: 138.339980\n",
      "Train Epoch: 2 [19000/60000 (32%)]\tLoss: 133.202432\n",
      "Train Epoch: 2 [20000/60000 (33%)]\tLoss: 138.130488\n",
      "Train Epoch: 2 [21000/60000 (35%)]\tLoss: 146.720459\n",
      "Train Epoch: 2 [22000/60000 (37%)]\tLoss: 141.449590\n",
      "Train Epoch: 2 [23000/60000 (38%)]\tLoss: 141.711729\n",
      "Train Epoch: 2 [24000/60000 (40%)]\tLoss: 132.668008\n",
      "Train Epoch: 2 [25000/60000 (42%)]\tLoss: 136.694463\n",
      "Train Epoch: 2 [26000/60000 (43%)]\tLoss: 135.855195\n",
      "Train Epoch: 2 [27000/60000 (45%)]\tLoss: 139.521152\n",
      "Train Epoch: 2 [28000/60000 (47%)]\tLoss: 137.457793\n",
      "Train Epoch: 2 [29000/60000 (48%)]\tLoss: 137.371182\n",
      "Train Epoch: 2 [30000/60000 (50%)]\tLoss: 135.413877\n",
      "Train Epoch: 2 [31000/60000 (52%)]\tLoss: 133.355498\n",
      "Train Epoch: 2 [32000/60000 (53%)]\tLoss: 139.576250\n",
      "Train Epoch: 2 [33000/60000 (55%)]\tLoss: 143.859004\n",
      "Train Epoch: 2 [34000/60000 (57%)]\tLoss: 138.844141\n",
      "Train Epoch: 2 [35000/60000 (58%)]\tLoss: 138.287832\n",
      "Train Epoch: 2 [36000/60000 (60%)]\tLoss: 126.640664\n",
      "Train Epoch: 2 [37000/60000 (62%)]\tLoss: 130.865762\n",
      "Train Epoch: 2 [38000/60000 (63%)]\tLoss: 142.497959\n",
      "Train Epoch: 2 [39000/60000 (65%)]\tLoss: 127.549980\n",
      "Train Epoch: 2 [40000/60000 (67%)]\tLoss: 138.879053\n",
      "Train Epoch: 2 [41000/60000 (68%)]\tLoss: 129.929326\n",
      "Train Epoch: 2 [42000/60000 (70%)]\tLoss: 126.279414\n",
      "Train Epoch: 2 [43000/60000 (72%)]\tLoss: 134.532979\n",
      "Train Epoch: 2 [44000/60000 (73%)]\tLoss: 132.220381\n",
      "Train Epoch: 2 [45000/60000 (75%)]\tLoss: 129.947520\n",
      "Train Epoch: 2 [46000/60000 (77%)]\tLoss: 131.208467\n",
      "Train Epoch: 2 [47000/60000 (78%)]\tLoss: 135.986533\n",
      "Train Epoch: 2 [48000/60000 (80%)]\tLoss: 131.274600\n",
      "Train Epoch: 2 [49000/60000 (82%)]\tLoss: 124.550186\n",
      "Train Epoch: 2 [50000/60000 (83%)]\tLoss: 128.793711\n",
      "Train Epoch: 2 [51000/60000 (85%)]\tLoss: 135.427207\n",
      "Train Epoch: 2 [52000/60000 (87%)]\tLoss: 125.700371\n",
      "Train Epoch: 2 [53000/60000 (88%)]\tLoss: 139.008740\n",
      "Train Epoch: 2 [54000/60000 (90%)]\tLoss: 135.130254\n",
      "Train Epoch: 2 [55000/60000 (92%)]\tLoss: 133.487490\n",
      "Train Epoch: 2 [56000/60000 (93%)]\tLoss: 135.319141\n",
      "Train Epoch: 2 [57000/60000 (95%)]\tLoss: 131.334102\n",
      "Train Epoch: 2 [58000/60000 (97%)]\tLoss: 134.282480\n",
      "Train Epoch: 2 [59000/60000 (98%)]\tLoss: 130.737402\n",
      "====> Test set loss: 1.3948\n",
      "Train Epoch: 3 [0/60000 (0%)]\tLoss: 130.630723\n",
      "Train Epoch: 3 [1000/60000 (2%)]\tLoss: 131.169736\n",
      "Train Epoch: 3 [2000/60000 (3%)]\tLoss: 130.768896\n",
      "Train Epoch: 3 [3000/60000 (5%)]\tLoss: 129.115254\n",
      "Train Epoch: 3 [4000/60000 (7%)]\tLoss: 127.352666\n",
      "Train Epoch: 3 [5000/60000 (8%)]\tLoss: 129.572979\n",
      "Train Epoch: 3 [6000/60000 (10%)]\tLoss: 127.637100\n",
      "Train Epoch: 3 [7000/60000 (12%)]\tLoss: 131.255059\n",
      "Train Epoch: 3 [8000/60000 (13%)]\tLoss: 125.368721\n",
      "Train Epoch: 3 [9000/60000 (15%)]\tLoss: 135.145820\n",
      "Train Epoch: 3 [10000/60000 (17%)]\tLoss: 132.770625\n",
      "Train Epoch: 3 [11000/60000 (18%)]\tLoss: 126.093848\n",
      "Train Epoch: 3 [12000/60000 (20%)]\tLoss: 137.969131\n",
      "Train Epoch: 3 [13000/60000 (22%)]\tLoss: 125.680156\n",
      "Train Epoch: 3 [14000/60000 (23%)]\tLoss: 127.861934\n",
      "Train Epoch: 3 [15000/60000 (25%)]\tLoss: 129.749336\n",
      "Train Epoch: 3 [16000/60000 (27%)]\tLoss: 127.217061\n",
      "Train Epoch: 3 [17000/60000 (28%)]\tLoss: 133.438018\n",
      "Train Epoch: 3 [18000/60000 (30%)]\tLoss: 126.527773\n",
      "Train Epoch: 3 [19000/60000 (32%)]\tLoss: 135.705361\n",
      "Train Epoch: 3 [20000/60000 (33%)]\tLoss: 131.343623\n",
      "Train Epoch: 3 [21000/60000 (35%)]\tLoss: 124.110977\n",
      "Train Epoch: 3 [22000/60000 (37%)]\tLoss: 127.198535\n",
      "Train Epoch: 3 [23000/60000 (38%)]\tLoss: 120.474531\n",
      "Train Epoch: 3 [24000/60000 (40%)]\tLoss: 119.439443\n",
      "Train Epoch: 3 [25000/60000 (42%)]\tLoss: 123.085850\n",
      "Train Epoch: 3 [26000/60000 (43%)]\tLoss: 125.399199\n",
      "Train Epoch: 3 [27000/60000 (45%)]\tLoss: 124.652627\n",
      "Train Epoch: 3 [28000/60000 (47%)]\tLoss: 129.526797\n",
      "Train Epoch: 3 [29000/60000 (48%)]\tLoss: 129.578799\n",
      "Train Epoch: 3 [30000/60000 (50%)]\tLoss: 129.203770\n",
      "Train Epoch: 3 [31000/60000 (52%)]\tLoss: 124.042363\n",
      "Train Epoch: 3 [32000/60000 (53%)]\tLoss: 123.010996\n",
      "Train Epoch: 3 [33000/60000 (55%)]\tLoss: 133.115879\n",
      "Train Epoch: 3 [34000/60000 (57%)]\tLoss: 123.851162\n",
      "Train Epoch: 3 [35000/60000 (58%)]\tLoss: 132.388281\n",
      "Train Epoch: 3 [36000/60000 (60%)]\tLoss: 135.159355\n",
      "Train Epoch: 3 [37000/60000 (62%)]\tLoss: 119.085547\n",
      "Train Epoch: 3 [38000/60000 (63%)]\tLoss: 120.415000\n",
      "Train Epoch: 3 [39000/60000 (65%)]\tLoss: 129.059951\n",
      "Train Epoch: 3 [40000/60000 (67%)]\tLoss: 125.899854\n",
      "Train Epoch: 3 [41000/60000 (68%)]\tLoss: 124.024648\n",
      "Train Epoch: 3 [42000/60000 (70%)]\tLoss: 118.266992\n",
      "Train Epoch: 3 [43000/60000 (72%)]\tLoss: 125.356426\n",
      "Train Epoch: 3 [44000/60000 (73%)]\tLoss: 118.417344\n",
      "Train Epoch: 3 [45000/60000 (75%)]\tLoss: 121.264248\n",
      "Train Epoch: 3 [46000/60000 (77%)]\tLoss: 124.746533\n",
      "Train Epoch: 3 [47000/60000 (78%)]\tLoss: 120.136787\n",
      "Train Epoch: 3 [48000/60000 (80%)]\tLoss: 122.790635\n",
      "Train Epoch: 3 [49000/60000 (82%)]\tLoss: 123.954150\n",
      "Train Epoch: 3 [50000/60000 (83%)]\tLoss: 123.684561\n",
      "Train Epoch: 3 [51000/60000 (85%)]\tLoss: 126.340488\n",
      "Train Epoch: 3 [52000/60000 (87%)]\tLoss: 125.048145\n",
      "Train Epoch: 3 [53000/60000 (88%)]\tLoss: 120.686514\n",
      "Train Epoch: 3 [54000/60000 (90%)]\tLoss: 129.886660\n",
      "Train Epoch: 3 [55000/60000 (92%)]\tLoss: 119.340684\n",
      "Train Epoch: 3 [56000/60000 (93%)]\tLoss: 126.654121\n",
      "Train Epoch: 3 [57000/60000 (95%)]\tLoss: 125.468145\n",
      "Train Epoch: 3 [58000/60000 (97%)]\tLoss: 121.517842\n",
      "Train Epoch: 3 [59000/60000 (98%)]\tLoss: 118.940430\n",
      "====> Test set loss: 1.1801\n"
     ]
    }
   ],
   "source": [
    "initial_train(3)"
   ],
   "metadata": {
    "collapsed": false,
    "pycharm": {
     "name": "#%%\n"
    }
   }
  },
  {
   "cell_type": "code",
   "execution_count": 781,
   "outputs": [],
   "source": [
    "zs_g,ts_g,mus_g,logvars_g = take_latents()\n",
    "mu_c_g,logvar_c_g,pi_c_g = initialize_centers(mus_g)"
   ],
   "metadata": {
    "collapsed": false,
    "pycharm": {
     "name": "#%%\n"
    }
   }
  },
  {
   "cell_type": "code",
   "execution_count": 1323,
   "outputs": [],
   "source": [
    "zs_g,ts_g,mus_g,logvars_g = take_latents()"
   ],
   "metadata": {
    "collapsed": false,
    "pycharm": {
     "name": "#%%\n"
    }
   }
  },
  {
   "cell_type": "code",
   "execution_count": 1326,
   "outputs": [
    {
     "data": {
      "text/plain": "tensor(2.5848, device='cuda:0')"
     },
     "execution_count": 1326,
     "metadata": {},
     "output_type": "execute_result"
    }
   ],
   "source": [
    "mu_c_g,logvar_c_g,pi_c_g,Q_c_g,gamma_c_g,log_P_g = gauss(mus_g,logvars_g,mu_c_g,logvar_c_g,pi_c_g,10)\n",
    "log_P_g"
   ],
   "metadata": {
    "collapsed": false,
    "pycharm": {
     "name": "#%%\n"
    }
   }
  },
  {
   "cell_type": "code",
   "execution_count": 1327,
   "outputs": [
    {
     "data": {
      "text/plain": "tensor([[[0.1265, 0.0431, 0.0935, 0.0950, 0.1404, 0.1102, 0.2172, 0.0608,\n          0.0453, 0.0679]]], device='cuda:0')"
     },
     "execution_count": 1327,
     "metadata": {},
     "output_type": "execute_result"
    }
   ],
   "source": [
    "#(logvars_g.exp()).mean(0,keepdim=True).shape\n",
    "#logvar_c_g.exp().shape\n",
    "#(logvars_g.exp()/logvar_c_g.exp())[0,:,0]\n",
    "#(-0.5*Q_c_g.sum(1,keepdim=True)).exp()\n",
    "#(((mus_g-mu_c_g).pow(2))/(logvar_c_g.exp())).mean(0,keepdim=True),(logvars_g.exp()).mean(0,keepdim=True)\n",
    "#logvar_c_g.exp()+(logvars_g.exp()).mean(0,keepdim=True)\n",
    "pi_c_g"
   ],
   "metadata": {
    "collapsed": false,
    "pycharm": {
     "name": "#%%\n"
    }
   }
  },
  {
   "cell_type": "code",
   "execution_count": 1328,
   "outputs": [
    {
     "data": {
      "text/plain": "<Figure size 432x288 with 1 Axes>",
      "image/png": "[encoded data removed]"
     },
     "metadata": {
      "needs_background": "light"
     },
     "output_type": "display_data"
    }
   ],
   "source": [
    "points = TSNE(n_components=2,random_state=0).fit_transform(mus_g.view(-1,latent_dim).cpu().detach().numpy())\n",
    "drawpoints(points,ts_g.cpu().detach().numpy())"
   ],
   "metadata": {
    "collapsed": false,
    "pycharm": {
     "name": "#%%\n"
    }
   }
  },
  {
   "cell_type": "code",
   "execution_count": 1329,
   "outputs": [
    {
     "data": {
      "text/plain": "<Figure size 432x288 with 1 Axes>",
      "image/png": "[encoded data removed]"
     },
     "metadata": {
      "needs_background": "light"
     },
     "output_type": "display_data"
    }
   ],
   "source": [
    "drawpoints(points,torch.argmax(gamma_c_g,2).view(-1).cpu().detach().numpy())"
   ],
   "metadata": {
    "collapsed": false,
    "pycharm": {
     "name": "#%%\n"
    }
   }
  },
  {
   "cell_type": "code",
   "execution_count": 1330,
   "outputs": [],
   "source": [
    "show_generated_samples_c(mu_c_g,logvar_c_g)\n"
   ],
   "metadata": {
    "collapsed": false,
    "pycharm": {
     "name": "#%%\n"
    }
   }
  },
  {
   "cell_type": "code",
   "execution_count": 1331,
   "outputs": [
    {
     "name": "stdout",
     "output_type": "stream",
     "text": [
      "Train Epoch: 1 [0/60000 (0%)]\tLoss: 99.423643\n",
      "Train Epoch: 1 [1000/60000 (2%)]\tLoss: 98.113691\n",
      "Train Epoch: 1 [2000/60000 (3%)]\tLoss: 103.320371\n",
      "Train Epoch: 1 [3000/60000 (5%)]\tLoss: 98.378887\n",
      "Train Epoch: 1 [4000/60000 (7%)]\tLoss: 97.893311\n",
      "Train Epoch: 1 [5000/60000 (8%)]\tLoss: 99.969951\n",
      "Train Epoch: 1 [6000/60000 (10%)]\tLoss: 93.576318\n",
      "Train Epoch: 1 [7000/60000 (12%)]\tLoss: 92.783916\n",
      "Train Epoch: 1 [8000/60000 (13%)]\tLoss: 102.472891\n",
      "Train Epoch: 1 [9000/60000 (15%)]\tLoss: 96.635576\n",
      "Train Epoch: 1 [10000/60000 (17%)]\tLoss: 95.178115\n",
      "Train Epoch: 1 [11000/60000 (18%)]\tLoss: 90.048096\n",
      "Train Epoch: 1 [12000/60000 (20%)]\tLoss: 97.409375\n",
      "Train Epoch: 1 [13000/60000 (22%)]\tLoss: 97.401387\n",
      "Train Epoch: 1 [14000/60000 (23%)]\tLoss: 93.033252\n",
      "Train Epoch: 1 [15000/60000 (25%)]\tLoss: 98.825195\n",
      "Train Epoch: 1 [16000/60000 (27%)]\tLoss: 96.565811\n",
      "Train Epoch: 1 [17000/60000 (28%)]\tLoss: 95.154561\n",
      "Train Epoch: 1 [18000/60000 (30%)]\tLoss: 105.025137\n",
      "Train Epoch: 1 [19000/60000 (32%)]\tLoss: 95.565430\n",
      "Train Epoch: 1 [20000/60000 (33%)]\tLoss: 96.676348\n",
      "Train Epoch: 1 [21000/60000 (35%)]\tLoss: 98.588398\n",
      "Train Epoch: 1 [22000/60000 (37%)]\tLoss: 94.244648\n",
      "Train Epoch: 1 [23000/60000 (38%)]\tLoss: 98.044209\n",
      "Train Epoch: 1 [24000/60000 (40%)]\tLoss: 95.884326\n",
      "Train Epoch: 1 [25000/60000 (42%)]\tLoss: 98.156045\n",
      "Train Epoch: 1 [26000/60000 (43%)]\tLoss: 100.268555\n",
      "Train Epoch: 1 [27000/60000 (45%)]\tLoss: 95.147725\n",
      "Train Epoch: 1 [28000/60000 (47%)]\tLoss: 92.831328\n",
      "Train Epoch: 1 [29000/60000 (48%)]\tLoss: 95.339639\n",
      "Train Epoch: 1 [30000/60000 (50%)]\tLoss: 100.925811\n",
      "Train Epoch: 1 [31000/60000 (52%)]\tLoss: 98.774482\n",
      "Train Epoch: 1 [32000/60000 (53%)]\tLoss: 101.961035\n",
      "Train Epoch: 1 [33000/60000 (55%)]\tLoss: 97.217725\n",
      "Train Epoch: 1 [34000/60000 (57%)]\tLoss: 96.239629\n",
      "Train Epoch: 1 [35000/60000 (58%)]\tLoss: 98.197080\n",
      "Train Epoch: 1 [36000/60000 (60%)]\tLoss: 99.864375\n",
      "Train Epoch: 1 [37000/60000 (62%)]\tLoss: 100.695693\n",
      "Train Epoch: 1 [38000/60000 (63%)]\tLoss: 93.606973\n",
      "Train Epoch: 1 [39000/60000 (65%)]\tLoss: 97.682520\n",
      "Train Epoch: 1 [40000/60000 (67%)]\tLoss: 96.576768\n",
      "Train Epoch: 1 [41000/60000 (68%)]\tLoss: 94.896270\n",
      "Train Epoch: 1 [42000/60000 (70%)]\tLoss: 98.918477\n",
      "Train Epoch: 1 [43000/60000 (72%)]\tLoss: 92.775498\n",
      "Train Epoch: 1 [44000/60000 (73%)]\tLoss: 98.640889\n",
      "Train Epoch: 1 [45000/60000 (75%)]\tLoss: 102.079414\n",
      "Train Epoch: 1 [46000/60000 (77%)]\tLoss: 97.352539\n",
      "Train Epoch: 1 [47000/60000 (78%)]\tLoss: 102.572383\n",
      "Train Epoch: 1 [48000/60000 (80%)]\tLoss: 94.699707\n",
      "Train Epoch: 1 [49000/60000 (82%)]\tLoss: 93.401289\n",
      "Train Epoch: 1 [50000/60000 (83%)]\tLoss: 94.838359\n",
      "Train Epoch: 1 [51000/60000 (85%)]\tLoss: 96.329668\n",
      "Train Epoch: 1 [52000/60000 (87%)]\tLoss: 92.056484\n",
      "Train Epoch: 1 [53000/60000 (88%)]\tLoss: 97.701416\n",
      "Train Epoch: 1 [54000/60000 (90%)]\tLoss: 98.489160\n",
      "Train Epoch: 1 [55000/60000 (92%)]\tLoss: 96.976357\n",
      "Train Epoch: 1 [56000/60000 (93%)]\tLoss: 93.173828\n",
      "Train Epoch: 1 [57000/60000 (95%)]\tLoss: 102.289932\n",
      "Train Epoch: 1 [58000/60000 (97%)]\tLoss: 98.733340\n",
      "Train Epoch: 1 [59000/60000 (98%)]\tLoss: 90.952812\n",
      "====> Test set loss: 1.0827\n",
      "Train Epoch: 2 [0/60000 (0%)]\tLoss: 95.433115\n",
      "Train Epoch: 2 [1000/60000 (2%)]\tLoss: 99.219443\n",
      "Train Epoch: 2 [2000/60000 (3%)]\tLoss: 96.570664\n",
      "Train Epoch: 2 [3000/60000 (5%)]\tLoss: 94.675762\n",
      "Train Epoch: 2 [4000/60000 (7%)]\tLoss: 99.595137\n",
      "Train Epoch: 2 [5000/60000 (8%)]\tLoss: 96.572803\n",
      "Train Epoch: 2 [6000/60000 (10%)]\tLoss: 94.136016\n",
      "Train Epoch: 2 [7000/60000 (12%)]\tLoss: 97.607158\n",
      "Train Epoch: 2 [8000/60000 (13%)]\tLoss: 99.123984\n",
      "Train Epoch: 2 [9000/60000 (15%)]\tLoss: 94.105205\n",
      "Train Epoch: 2 [10000/60000 (17%)]\tLoss: 96.340156\n",
      "Train Epoch: 2 [11000/60000 (18%)]\tLoss: 100.747441\n",
      "Train Epoch: 2 [12000/60000 (20%)]\tLoss: 98.770898\n",
      "Train Epoch: 2 [13000/60000 (22%)]\tLoss: 94.470449\n",
      "Train Epoch: 2 [14000/60000 (23%)]\tLoss: 99.093906\n",
      "Train Epoch: 2 [15000/60000 (25%)]\tLoss: 95.514570\n",
      "Train Epoch: 2 [16000/60000 (27%)]\tLoss: 100.545205\n",
      "Train Epoch: 2 [17000/60000 (28%)]\tLoss: 99.082012\n",
      "Train Epoch: 2 [18000/60000 (30%)]\tLoss: 91.692637\n",
      "Train Epoch: 2 [19000/60000 (32%)]\tLoss: 91.977686\n",
      "Train Epoch: 2 [20000/60000 (33%)]\tLoss: 98.190967\n",
      "Train Epoch: 2 [21000/60000 (35%)]\tLoss: 95.599160\n",
      "Train Epoch: 2 [22000/60000 (37%)]\tLoss: 94.033281\n",
      "Train Epoch: 2 [23000/60000 (38%)]\tLoss: 102.337959\n",
      "Train Epoch: 2 [24000/60000 (40%)]\tLoss: 100.408047\n",
      "Train Epoch: 2 [25000/60000 (42%)]\tLoss: 98.736455\n",
      "Train Epoch: 2 [26000/60000 (43%)]\tLoss: 99.763711\n",
      "Train Epoch: 2 [27000/60000 (45%)]\tLoss: 94.325791\n",
      "Train Epoch: 2 [28000/60000 (47%)]\tLoss: 104.847461\n",
      "Train Epoch: 2 [29000/60000 (48%)]\tLoss: 94.769746\n",
      "Train Epoch: 2 [30000/60000 (50%)]\tLoss: 95.284512\n",
      "Train Epoch: 2 [31000/60000 (52%)]\tLoss: 96.557285\n",
      "Train Epoch: 2 [32000/60000 (53%)]\tLoss: 97.489932\n",
      "Train Epoch: 2 [33000/60000 (55%)]\tLoss: 99.152861\n",
      "Train Epoch: 2 [34000/60000 (57%)]\tLoss: 93.830176\n",
      "Train Epoch: 2 [35000/60000 (58%)]\tLoss: 99.349834\n",
      "Train Epoch: 2 [36000/60000 (60%)]\tLoss: 96.807998\n",
      "Train Epoch: 2 [37000/60000 (62%)]\tLoss: 99.253105\n",
      "Train Epoch: 2 [38000/60000 (63%)]\tLoss: 97.680859\n",
      "Train Epoch: 2 [39000/60000 (65%)]\tLoss: 97.614736\n",
      "Train Epoch: 2 [40000/60000 (67%)]\tLoss: 96.446914\n",
      "Train Epoch: 2 [41000/60000 (68%)]\tLoss: 99.824766\n",
      "Train Epoch: 2 [42000/60000 (70%)]\tLoss: 101.742061\n",
      "Train Epoch: 2 [43000/60000 (72%)]\tLoss: 96.520576\n",
      "Train Epoch: 2 [44000/60000 (73%)]\tLoss: 97.280615\n",
      "Train Epoch: 2 [45000/60000 (75%)]\tLoss: 94.946289\n",
      "Train Epoch: 2 [46000/60000 (77%)]\tLoss: 96.362725\n",
      "Train Epoch: 2 [47000/60000 (78%)]\tLoss: 101.084678\n",
      "Train Epoch: 2 [48000/60000 (80%)]\tLoss: 95.550645\n",
      "Train Epoch: 2 [49000/60000 (82%)]\tLoss: 100.457510\n",
      "Train Epoch: 2 [50000/60000 (83%)]\tLoss: 94.906113\n",
      "Train Epoch: 2 [51000/60000 (85%)]\tLoss: 92.638887\n",
      "Train Epoch: 2 [52000/60000 (87%)]\tLoss: 91.869111\n",
      "Train Epoch: 2 [53000/60000 (88%)]\tLoss: 96.362256\n",
      "Train Epoch: 2 [54000/60000 (90%)]\tLoss: 97.529873\n",
      "Train Epoch: 2 [55000/60000 (92%)]\tLoss: 99.919219\n",
      "Train Epoch: 2 [56000/60000 (93%)]\tLoss: 98.125068\n",
      "Train Epoch: 2 [57000/60000 (95%)]\tLoss: 96.468809\n",
      "Train Epoch: 2 [58000/60000 (97%)]\tLoss: 92.314141\n",
      "Train Epoch: 2 [59000/60000 (98%)]\tLoss: 99.869951\n",
      "====> Test set loss: 1.0343\n",
      "Train Epoch: 3 [0/60000 (0%)]\tLoss: 93.019902\n",
      "Train Epoch: 3 [1000/60000 (2%)]\tLoss: 97.318008\n",
      "Train Epoch: 3 [2000/60000 (3%)]\tLoss: 100.549268\n",
      "Train Epoch: 3 [3000/60000 (5%)]\tLoss: 100.880635\n",
      "Train Epoch: 3 [4000/60000 (7%)]\tLoss: 93.603818\n",
      "Train Epoch: 3 [5000/60000 (8%)]\tLoss: 94.572744\n",
      "Train Epoch: 3 [6000/60000 (10%)]\tLoss: 91.130283\n",
      "Train Epoch: 3 [7000/60000 (12%)]\tLoss: 95.989414\n",
      "Train Epoch: 3 [8000/60000 (13%)]\tLoss: 97.729971\n",
      "Train Epoch: 3 [9000/60000 (15%)]\tLoss: 99.293398\n",
      "Train Epoch: 3 [10000/60000 (17%)]\tLoss: 100.066250\n",
      "Train Epoch: 3 [11000/60000 (18%)]\tLoss: 96.057480\n",
      "Train Epoch: 3 [12000/60000 (20%)]\tLoss: 97.534238\n",
      "Train Epoch: 3 [13000/60000 (22%)]\tLoss: 95.268740\n",
      "Train Epoch: 3 [14000/60000 (23%)]\tLoss: 101.616465\n",
      "Train Epoch: 3 [15000/60000 (25%)]\tLoss: 94.871836\n",
      "Train Epoch: 3 [16000/60000 (27%)]\tLoss: 98.606953\n",
      "Train Epoch: 3 [17000/60000 (28%)]\tLoss: 97.805781\n",
      "Train Epoch: 3 [18000/60000 (30%)]\tLoss: 95.435391\n",
      "Train Epoch: 3 [19000/60000 (32%)]\tLoss: 100.036514\n",
      "Train Epoch: 3 [20000/60000 (33%)]\tLoss: 95.404443\n",
      "Train Epoch: 3 [21000/60000 (35%)]\tLoss: 95.200039\n",
      "Train Epoch: 3 [22000/60000 (37%)]\tLoss: 95.361025\n",
      "Train Epoch: 3 [23000/60000 (38%)]\tLoss: 99.149619\n",
      "Train Epoch: 3 [24000/60000 (40%)]\tLoss: 96.231055\n",
      "Train Epoch: 3 [25000/60000 (42%)]\tLoss: 98.708828\n",
      "Train Epoch: 3 [26000/60000 (43%)]\tLoss: 95.306660\n",
      "Train Epoch: 3 [27000/60000 (45%)]\tLoss: 97.987305\n",
      "Train Epoch: 3 [28000/60000 (47%)]\tLoss: 93.756113\n",
      "Train Epoch: 3 [29000/60000 (48%)]\tLoss: 93.156406\n",
      "Train Epoch: 3 [30000/60000 (50%)]\tLoss: 96.079316\n",
      "Train Epoch: 3 [31000/60000 (52%)]\tLoss: 94.796777\n",
      "Train Epoch: 3 [32000/60000 (53%)]\tLoss: 97.541152\n",
      "Train Epoch: 3 [33000/60000 (55%)]\tLoss: 94.274219\n",
      "Train Epoch: 3 [34000/60000 (57%)]\tLoss: 99.003984\n",
      "Train Epoch: 3 [35000/60000 (58%)]\tLoss: 96.697187\n",
      "Train Epoch: 3 [36000/60000 (60%)]\tLoss: 98.298340\n",
      "Train Epoch: 3 [37000/60000 (62%)]\tLoss: 99.443848\n",
      "Train Epoch: 3 [38000/60000 (63%)]\tLoss: 96.909004\n",
      "Train Epoch: 3 [39000/60000 (65%)]\tLoss: 94.800293\n",
      "Train Epoch: 3 [40000/60000 (67%)]\tLoss: 101.192910\n",
      "Train Epoch: 3 [41000/60000 (68%)]\tLoss: 95.292783\n",
      "Train Epoch: 3 [42000/60000 (70%)]\tLoss: 96.691670\n",
      "Train Epoch: 3 [43000/60000 (72%)]\tLoss: 94.061436\n",
      "Train Epoch: 3 [44000/60000 (73%)]\tLoss: 94.654102\n",
      "Train Epoch: 3 [45000/60000 (75%)]\tLoss: 96.798594\n",
      "Train Epoch: 3 [46000/60000 (77%)]\tLoss: 99.448477\n",
      "Train Epoch: 3 [47000/60000 (78%)]\tLoss: 100.396465\n",
      "Train Epoch: 3 [48000/60000 (80%)]\tLoss: 91.101758\n",
      "Train Epoch: 3 [49000/60000 (82%)]\tLoss: 97.017197\n",
      "Train Epoch: 3 [50000/60000 (83%)]\tLoss: 95.348457\n",
      "Train Epoch: 3 [51000/60000 (85%)]\tLoss: 94.294238\n",
      "Train Epoch: 3 [52000/60000 (87%)]\tLoss: 98.245937\n",
      "Train Epoch: 3 [53000/60000 (88%)]\tLoss: 93.050469\n",
      "Train Epoch: 3 [54000/60000 (90%)]\tLoss: 95.248789\n",
      "Train Epoch: 3 [55000/60000 (92%)]\tLoss: 93.840293\n",
      "Train Epoch: 3 [56000/60000 (93%)]\tLoss: 99.490508\n",
      "Train Epoch: 3 [57000/60000 (95%)]\tLoss: 95.448838\n",
      "Train Epoch: 3 [58000/60000 (97%)]\tLoss: 96.039385\n",
      "Train Epoch: 3 [59000/60000 (98%)]\tLoss: 93.528877\n",
      "====> Test set loss: 1.1105\n"
     ]
    }
   ],
   "source": [
    "train_c_epoch(epochs=3,mu_c=mu_c_g,logvar_c=logvar_c_g,pi_c=pi_c_g)"
   ],
   "metadata": {
    "collapsed": false,
    "pycharm": {
     "name": "#%%\n"
    }
   }
  },
  {
   "cell_type": "code",
   "execution_count": null,
   "outputs": [],
   "source": [],
   "metadata": {
    "collapsed": false,
    "pycharm": {
     "name": "#%%\n"
    }
   }
  }
 ],
 "metadata": {
  "kernelspec": {
   "display_name": "Python 3",
   "language": "python",
   "name": "python3"
  },
  "language_info": {
   "codemirror_mode": {
    "name": "ipython",
    "version": 2
   },
   "file_extension": ".py",
   "mimetype": "text/x-python",
   "name": "python",
   "nbconvert_exporter": "python",
   "pygments_lexer": "ipython2",
   "version": "2.7.6"
  }
 },
 "nbformat": 4,
 "nbformat_minor": 0
}