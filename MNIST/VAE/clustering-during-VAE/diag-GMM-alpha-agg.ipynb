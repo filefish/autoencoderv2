{
 "cells": [
  {
   "cell_type": "code",
   "execution_count": 468,
   "outputs": [],
   "source": [
    "from __future__ import print_function\n",
    "import argparse\n",
    "import torch\n",
    "import torch.utils.data\n",
    "from torch import nn, optim\n",
    "from torch.nn import functional as F\n",
    "from torchvision import datasets, transforms\n",
    "from torchvision.utils import save_image\n",
    "\n",
    "%matplotlib inline\n",
    "import matplotlib.pyplot as plt\n",
    "from torch.distributions.multivariate_normal import MultivariateNormal\n",
    "import numpy as np\n",
    "\n",
    "\n",
    "from sklearn.manifold import TSNE\n",
    "from random import random\n",
    "from sklearn.mixture import GaussianMixture\n",
    "from sklearn.mixture import BayesianGaussianMixture\n",
    "from sklearn.cluster import KMeans\n",
    "\n",
    "import math"
   ],
   "metadata": {
    "collapsed": false,
    "pycharm": {
     "name": "#%%\n"
    }
   }
  },
  {
   "cell_type": "code",
   "execution_count": 1571,
   "outputs": [],
   "source": [
    "\n",
    "batch_size = 100\n",
    "take_latent_max =10\n",
    "num_epoch = 10\n",
    "input_dim=28*28\n",
    "output_dim=input_dim\n",
    "en_hidden1_dim = 500\n",
    "en_hidden2_dim = 500\n",
    "en_hidden3_dim = 2000\n",
    "latent_dim=10\n",
    "de_hidden1_dim = 2000\n",
    "de_hidden2_dim = 500\n",
    "de_hidden3_dim = 500\n",
    "\n",
    "\n",
    "log_interval = 600\n",
    "\n",
    "K_model_cluster = 10\n",
    "K_real_cluster = 10\n",
    "\n",
    "beta= 1.0\n",
    "beta_start = beta\n",
    "beta_end = 5.0\n",
    "total_step = 500\n",
    "beta_delta = (beta_end-beta_start)/total_step\n",
    "\n",
    "save_folder = 'alpha-agg-results'\n",
    "\n",
    "KMeans_random_state = 1 #(random seed)\n",
    "Gaussian_random_state = 1  #(random seed)\n",
    "\n",
    "eps_N_c = 0\n",
    "iter_adiabatic =1\n",
    "\n",
    "alpha_0 = 10.\n",
    "\n",
    "mu_c_focus = 0.5\n",
    "\n",
    "stabilizer_eps = 1.0e-16"
   ],
   "metadata": {
    "collapsed": false,
    "pycharm": {
     "name": "#%%\n"
    }
   }
  },
  {
   "cell_type": "code",
   "execution_count": 1572,
   "outputs": [],
   "source": [
    "device = 'cuda'\n",
    "kwargs = {'num_workers':1, 'pin_memory':True}\n",
    "\n",
    "train_loader = torch.utils.data.DataLoader(\n",
    "    datasets.MNIST('../data',train=True,download=True,\n",
    "                   transform=transforms.ToTensor()),\n",
    "    batch_size=batch_size,shuffle=True,**kwargs)\n",
    "\n",
    "test_loader = torch.utils.data.DataLoader(\n",
    "    datasets.MNIST('../data',train=False,transform=transforms.ToTensor()),\n",
    "    batch_size=batch_size,shuffle=True,**kwargs)\n"
   ],
   "metadata": {
    "collapsed": false,
    "pycharm": {
     "name": "#%%\n"
    }
   }
  },
  {
   "cell_type": "code",
   "execution_count": 1573,
   "outputs": [],
   "source": [
    "def initialize_centers():\n",
    "\n",
    "    mu_c = mu_c_focus*torch.randn(1,latent_dim,K_model_cluster,device=device)\n",
    "    logvar_c = torch.zeros(1,latent_dim,K_model_cluster).to(device)\n",
    "    log_N_k = torch.zeros(1,1,K_model_cluster).to(device)\n",
    "\n",
    "    return mu_c,logvar_c, log_N_k"
   ],
   "metadata": {
    "collapsed": false,
    "pycharm": {
     "name": "#%%\n"
    }
   }
  },
  {
   "cell_type": "code",
   "execution_count": 1574,
   "outputs": [
    {
     "data": {
      "text/plain": "(torch.Size([1, 10, 10]), torch.Size([1, 10, 10]), torch.Size([1, 1, 10]))"
     },
     "execution_count": 1574,
     "metadata": {},
     "output_type": "execute_result"
    }
   ],
   "source": [
    "\n",
    "\n",
    "#zs_g,ts_g,mus_g,logvars_g = take_latents()\n",
    "mu_c_g,logvar_c_g,log_N_k_g = initialize_centers()\n",
    "#mu_c_g,logvar_c_g,pi_c_g,Q_c_g,gamma_c_g,log_P_g = gauss(mus_g,logvars_g,mu_c_g,logvar_c_g,pi_c_g,50)\n",
    "mu_c_g.shape,logvar_c_g.shape,log_N_k_g.shape\n",
    "#mu_c_g,logvar_c_g,pi_c_g,Q_c_g,gamma_c_g,log_P_g = gauss(mus_g,logvars_g,mu_c_g,logvar_c_g,pi_c_g,50)"
   ],
   "metadata": {
    "collapsed": false,
    "pycharm": {
     "name": "#%%\n"
    }
   }
  },
  {
   "cell_type": "code",
   "execution_count": 1575,
   "outputs": [
    {
     "data": {
      "text/plain": "tensor([[[0., 0., 0., 0., 0., 0., 0., 0., 0., 0.]]], device='cuda:0',\n       requires_grad=True)"
     },
     "execution_count": 1575,
     "metadata": {},
     "output_type": "execute_result"
    }
   ],
   "source": [
    "mu_c_g.requires_grad_(True)\n",
    "logvar_c_g.requires_grad_(True)\n",
    "log_N_k_g.requires_grad_(True)"
   ],
   "metadata": {
    "collapsed": false,
    "pycharm": {
     "name": "#%%\n"
    }
   }
  },
  {
   "cell_type": "code",
   "execution_count": 1576,
   "outputs": [
    {
     "data": {
      "text/plain": "(True, True, True)"
     },
     "execution_count": 1576,
     "metadata": {},
     "output_type": "execute_result"
    }
   ],
   "source": [
    "mu_c_g.requires_grad,logvar_c_g.requires_grad,log_N_k_g.requires_grad\n",
    "#F.softmax(inv_sm_pi_c_g,dim=0)"
   ],
   "metadata": {
    "collapsed": false,
    "pycharm": {
     "name": "#%%\n"
    }
   }
  },
  {
   "cell_type": "code",
   "execution_count": 1577,
   "outputs": [],
   "source": [
    "class VAE(nn.Module):\n",
    "    def __init__(self):\n",
    "        super(VAE, self).__init__()\n",
    "\n",
    "        self.input_layer = nn.Linear(input_dim,en_hidden1_dim)##728 => 500 for MNIST\n",
    "        self.encode1_layer = nn.Linear(en_hidden1_dim,en_hidden2_dim)##500 => 500 for MNIST\n",
    "        self.encode2_layer = nn.Linear(en_hidden2_dim,en_hidden3_dim)##500 => 2000 for MNIST\n",
    "        self.mu_layer = nn.Linear(en_hidden3_dim,latent_dim)##2000 => 10 for MNIST\n",
    "        self.std_layer = nn.Linear(en_hidden3_dim,latent_dim)##2000 => 10 for MNIST\n",
    "        self.decode1_layer = nn.Linear(latent_dim,de_hidden1_dim)##10 => 2000 for MNIST\n",
    "        self.decode2_layer = nn.Linear(de_hidden1_dim,de_hidden2_dim)##2000 => 500 for MNIST\n",
    "        self.decode3_layer = nn.Linear(de_hidden2_dim,de_hidden3_dim)##500 => 500 for MNIST\n",
    "        self.output_layer = nn.Linear(de_hidden3_dim,output_dim)##500 => 728 for MNIST\n",
    "\n",
    "    def encode(self, x):\n",
    "        en_h1 = F.relu(self.input_layer(x))\n",
    "        en_h2 = F.relu(self.encode1_layer(en_h1))\n",
    "        en_h3 = F.relu(self.encode2_layer(en_h2))\n",
    "        return self.mu_layer(en_h3), self.std_layer(en_h3)\n",
    "    #入力から中心と分散の対数を作っている\n",
    "\n",
    "\n",
    "    def reparameterize(self,mu,logvar):\n",
    "        std = torch.exp(0.5*logvar)\n",
    "        eps = torch.randn_like(std)\n",
    "        #torch.randn_like(std)はstdと同じ次元の正規乱数を与えている。N(0,1)**size(std).ただし、標準偏差は対角的。\n",
    "        return mu + eps*std\n",
    "    #zの値を確率的に作っている。\n",
    "\n",
    "    def decode(self,z):\n",
    "        de_h1 = F.relu(self.decode1_layer(z))\n",
    "        de_h2 = F.relu(self.decode2_layer(de_h1))\n",
    "        de_h3 = F.relu(self.decode3_layer(de_h2))\n",
    "        return torch.sigmoid(self.output_layer(de_h3))\n",
    "    #zからNNを通したあとに、sigmoidで押し込んでxの値を作っている\n",
    "\n",
    "\n",
    "    def forward(self, x):\n",
    "        mu, logvar = self.encode(x.view(-1,784))\n",
    "        z = self.reparameterize(mu, logvar)\n",
    "        return self.decode(z),mu,logvar,z\n",
    "    #出力はxの予測値とzを算出するときの中心と分散になっている\n",
    "\n",
    "\n",
    "model = VAE().to(device)\n",
    "\n",
    "optimizer = optim.Adam(model.parameters(),lr=0.002)\n",
    "scheduler = torch.optim.lr_scheduler.MultiStepLR(optimizer,milestones=[20,40,60,80,100,120,140,160,180,200,220,240,260],gamma=0.9)\n",
    "\n",
    "optimizer_clustering = optim.Adam([mu_c_g,logvar_c_g,log_N_k_g],lr=0.002)\n",
    "scheduler_clustering = torch.optim.lr_scheduler.MultiStepLR(optimizer_clustering,milestones=[20,40,60,80,100,120,140,160,180,200,220,240,260],gamma=0.9)\n"
   ],
   "metadata": {
    "collapsed": false,
    "pycharm": {
     "name": "#%%\n"
    }
   }
  },
  {
   "cell_type": "code",
   "execution_count": 1578,
   "outputs": [],
   "source": [
    "\n",
    "def take_latents():\n",
    "    zs = torch.empty(0,latent_dim,1).to(device).requires_grad_(False)\n",
    "    ts = torch.empty(0,dtype=torch.long).to(device).requires_grad_(False)\n",
    "    mus = torch.empty(0,latent_dim,1).to(device).requires_grad_(False)\n",
    "    logvars = torch.empty(0,latent_dim,1).to(device).requires_grad_(False)\n",
    "#zs = []\n",
    "#ts = []\n",
    "\n",
    "#ts.dtype = torch.int\n",
    "\n",
    "    #for x, t in test_loader:\n",
    "    for batch_idx, (x,t) in enumerate(test_loader):\n",
    "    # original。xがデータ、tがラベル。\n",
    "    #for i, im in enumerate(x.view(-1, 28, 28).detach().numpy()[:10]):\n",
    "    #  ax = fig.add_subplot(3, 10, i+1, xticks=[], yticks=[])\n",
    "    #  ax.imshow(im, 'gray')\n",
    "    #x = x.to(device)\n",
    "    # generate from x\n",
    "        if batch_idx < take_latent_max:\n",
    "            x = x.to(device)\n",
    "            with torch.no_grad():\n",
    "                recon_batch,mu,logvar, z = model(x)\n",
    "            t = t.to(device)\n",
    "    #zs.append(z)\n",
    "    #ts.append(t)\n",
    "            zs = torch.cat((zs,z.view(-1,latent_dim,1)),0)\n",
    "            ts = torch.cat((ts,t),0)\n",
    "            mus = torch.cat((mus,mu.view(-1,latent_dim,1)),0)\n",
    "            logvars = torch.cat((logvars,logvar.view(-1,latent_dim,1)),0)\n",
    "    #y = y.view(-1, 28, 28)\n",
    "    #for i, im in enumerate(y.cpu().detach().numpy()[:10]):\n",
    "     # ax = fig.add_subplot(3, 10, i+11, xticks=[], yticks=[])\n",
    "     # ax.imshow(im, 'gray')\n",
    "    mus = torch.cat((mus,mu_c_g.permute(2,1,0)),0)\n",
    "    ts = torch.cat((ts,torch.arange(-1,-K_model_cluster-1,-1).to(device)),0)\n",
    "    return zs,ts,mus,logvars\n"
   ],
   "metadata": {
    "collapsed": false,
    "pycharm": {
     "name": "#%%\n"
    }
   }
  },
  {
   "cell_type": "code",
   "execution_count": 1579,
   "outputs": [],
   "source": [
    "def gauss(mus,logvars,mu_c,logvar_c,log_N_k,iter):\n",
    "\n",
    "    for i in range(iter):\n",
    "        with torch.no_grad():\n",
    "            Q_c = logvar_c+(logvars.exp()+(mus-mu_c).pow(2))/(logvar_c.exp())\n",
    "            log_pi_k = torch.digamma(alpha_0 + log_N_k.exp()) - torch.digamma(K_model_cluster*alpha_0+log_N_k.exp().sum(2,keepdim = True))\n",
    "\n",
    "            gamma_c = ((-0.5*Q_c.sum(1,keepdim=True)+log_pi_k).exp())/(((-0.5*Q_c.sum(1,keepdim=True)+log_pi_k).exp()).sum(2,keepdim=True))\n",
    "\n",
    "            N_c = gamma_c.sum(0,keepdim=True)\n",
    "            log_P = ((((-0.5*Q_c.sum(1,keepdim=True)+log_pi_k).exp()).sum(2).squeeze()).log()).sum()/((Q_c.shape)[0])\n",
    "            pi_c= N_c/(N_c.sum())\n",
    "            mu_c=(gamma_c*mus).sum(0,keepdim=True)/N_c\n",
    "            logvar_c=((gamma_c*((mus-mu_c).pow(2)+logvars.exp())).sum(0,keepdim=True)/N_c).log()\n",
    "\n",
    "\n",
    "    return mu_c,logvar_c,pi_c,Q_c,gamma_c,log_P\n"
   ],
   "metadata": {
    "collapsed": false,
    "pycharm": {
     "name": "#%%\n"
    }
   }
  },
  {
   "cell_type": "code",
   "execution_count": 1580,
   "outputs": [],
   "source": [
    "def drawpoints(mus_numpy,ts_numpy):\n",
    "    colors = [\"red\", \"green\", \"blue\", \"orange\", \"purple\", \"brown\", \"fuchsia\", \"grey\", \"olive\", \"lightblue\",\"red\", \"green\", \"blue\", \"orange\", \"purple\", \"brown\", \"fuchsia\", \"grey\", \"olive\", \"lightblue\"]\n",
    "    for p,l in zip(points,ts_numpy):\n",
    "        plt.scatter(p[0],p[1],marker=\"${}$\".format(l),c=colors[l])\n",
    "\n",
    "cm = plt.cm.get_cmap('tab20')\n",
    "def drawpoints_with_centers(mus_numpy,ts_numpy,center_numpy,center_t_numpy):\n",
    "    for p,l in zip(mus_numpy,ts_numpy):\n",
    "        plt.scatter(p[0],p[1],marker=\"${}$\".format(l),color=cm.colors[l])\n",
    "    for p,l in zip(center_numpy,center_t_numpy):\n",
    "        plt.scatter(p[0],p[1],facecolors='none',edgecolors='red',s=200)\n",
    "    for p,l in zip(center_numpy,center_t_numpy):\n",
    "        plt.scatter(p[0],p[1],marker=\"${}$\".format(l),color='black',s=50)\n",
    "    plt.show()\n"
   ],
   "metadata": {
    "collapsed": false,
    "pycharm": {
     "name": "#%%\n"
    }
   }
  },
  {
   "cell_type": "code",
   "execution_count": 1581,
   "outputs": [],
   "source": [
    "N_wide = 10\n",
    "N_sigma =7\n",
    "def show_generated_samples_c(mu_c,logvar_c):\n",
    "\n",
    "    for i in range(K_model_cluster):\n",
    "        sample = torch.empty(latent_dim*(N_wide+1),latent_dim).to(device)\n",
    "        with torch.no_grad():\n",
    "            for j in range(latent_dim):\n",
    "                for k in range(N_wide+1):\n",
    "                    std_c =torch.zeros(latent_dim).to(device)\n",
    "                    std_c[j] = (logvar_c_g[0,j,i].exp()).sqrt()\n",
    "                    sample[j*(N_wide+1)+k,:] = mu_c[0,:,i]+N_sigma*(k-N_wide/2)*std_c/N_wide\n",
    "            #sample_dist = MultivariateNormal(loc=mu_c[:,:,i],covariance_matrix=torch.diag(logvar_c[0,:,i].exp()))\n",
    "    #mu_distribution = MultivariateNormal(loc=mu_center.cpu(),covariance_matrix=cov_mus.cpu())\n",
    "            #sample = sample_dist.sample([64,])\n",
    "#    sample = torch.randn(64,latent_dim).to(device)\n",
    "        #20次元の潜在空間のデータを64個作成して、GPUに送る\n",
    "            sample = model.decode(sample).cpu()\n",
    "        #ランダムな潜在変数から画像を生成する。\n",
    "            save_image(sample.view(latent_dim*(N_wide+1),1,28,28),save_folder+'/sample_c_' + str(i) + '.png',nrow=N_wide+1)\n",
    "        #生成した６４個のデータを記録しておく"
   ],
   "metadata": {
    "collapsed": false,
    "pycharm": {
     "name": "#%%\n"
    }
   }
  },
  {
   "cell_type": "code",
   "execution_count": 1582,
   "outputs": [],
   "source": [
    "def loss_function_c(recon_x,x,mus_f,logvars_f,mu_c_f,logvar_c_f,log_N_k_f):\n",
    "    BCE = F.binary_cross_entropy(recon_x,x.view(-1,784),reduction='sum')\n",
    "    KLD = -0.5*(1+logvars_f).sum() -((((-0.5*((logvar_c_f+(logvars_f.exp()+(mus_f-mu_c_f).pow(2))/(logvar_c_f.exp())).sum(1,keepdim=True))+torch.digamma(alpha_0 + log_N_k_f.exp()) - torch.digamma(K_model_cluster*alpha_0+log_N_k_f.exp().sum(2,keepdim = True))).exp()).sum(2,keepdim=True)+stabilizer_eps).log()).sum() + ((log_N_k_f.exp())*(torch.digamma(alpha_0 + log_N_k_f.exp()) - torch.digamma(K_model_cluster*alpha_0+log_N_k_f.exp().sum(2,keepdim = True)))).sum(2).squeeze() + torch.lgamma(K_model_cluster*alpha_0+log_N_k_f.exp().sum(2).squeeze()) - (torch.lgamma(alpha_0 + log_N_k_f.exp())).sum(2).squeeze()#+(logvars_f.exp()+(mus_f-mu_c_f).pow(2))/(logvar_c_f.exp()))\n",
    "\n",
    "    return BCE+beta*KLD"
   ],
   "metadata": {
    "collapsed": false,
    "pycharm": {
     "name": "#%%\n"
    }
   }
  },
  {
   "cell_type": "code",
   "execution_count": 1583,
   "outputs": [],
   "source": [
    "def train_c(epoch):\n",
    "    model.train()\n",
    "    train_loss = 0\n",
    "    for batch_idx, (data,_) in enumerate(train_loader):\n",
    "        #ラベルは使わないようだ\n",
    "        data = data.to(device)\n",
    "        #データをGPUにおくる\n",
    "        optimizer.zero_grad()\n",
    "        optimizer_clustering.zero_grad()\n",
    "        #傾きの初期化\n",
    "        recon_batch, mu, logvar,z = model(data)\n",
    "        #VAEからバッヂ分のデータと中心と分散のログを受け取る\n",
    "\n",
    "#        print('Train Epoch: {} [{}/{} ({:.0f}%)]\\tLoss: {}'.format(\n",
    "#              epoch,batch_idx*len(data),len(train_loader.dataset),\n",
    "#                100.*batch_idx/len(train_loader),\n",
    "#                inv_sm_pi_c_g\n",
    "#            ))\n",
    "\n",
    "        loss = loss_function_c(recon_x=recon_batch,x=data,mus_f=mu.view(-1,latent_dim,1),logvars_f=logvar.view(-1,latent_dim,1),mu_c_f=mu_c_g,logvar_c_f=logvar_c_g,log_N_k_f=log_N_k_g)\n",
    "        #バッヂ分のロスを計算。バッヂ数で割っていないようだ。書き出しのときにデータ数で割っている。\n",
    "        loss.backward()\n",
    "        #傾きを計算\n",
    "        train_loss+= loss.item()\n",
    "        optimizer.step()\n",
    "        #NNパラメータの更新\n",
    "\n",
    "        optimizer_clustering.step()\n",
    "        #NNクラスタリングパラメータの更新\n",
    "\n",
    "        if batch_idx % log_interval ==0:\n",
    "            #一定間隔でロスを書き出し。epochはここでしか使っていないようだ。len()は最初の次元の大きさを出すのでバッヂの大きさ。\n",
    "            print('Train Epoch: {} [{}/{} ({:.0f}%)]\\tLoss: {:.6f}'.format(\n",
    "              epoch,batch_idx*len(data),len(train_loader.dataset),\n",
    "                100.*batch_idx/len(train_loader),\n",
    "                loss.item()/len(data)\n",
    "            ))"
   ],
   "metadata": {
    "collapsed": false,
    "pycharm": {
     "name": "#%%\n"
    }
   }
  },
  {
   "cell_type": "code",
   "execution_count": 1584,
   "outputs": [],
   "source": [
    "def test_c(epoch,mu_c,logvar_c,log_N_k):\n",
    "    model.eval()\n",
    "    test_loss = 0\n",
    "    with torch.no_grad():#バックプロパゲーションを行わないから、微分情報を残さない\n",
    "        for i, (data, _) in enumerate(test_loader):\n",
    "            #テストデータを取り出す。ラベルはいらない。\n",
    "            data =data.to(device)\n",
    "            #データをGPUに送る\n",
    "            recon_batch, mu, logvar,z = model(data)\n",
    "            #データからバッヂ分の再現画像と中心と分散の対数を出している。\n",
    "            test_loss += loss_function_c(recon_x=recon_batch,x=data,mus_f=mu.view(-1,latent_dim,1),logvars_f=logvar.view(-1,latent_dim,1),mu_c_f=mu_c,logvar_c_f=logvar_c,log_N_k_f=log_N_k).item()\n",
    "            #テストデータでのロスを出している\n",
    "            if i == 0:\n",
    "                #はじめのバッヂについて\n",
    "                n = min(data.size(0),16)\n",
    "                #nをバッヂのデータ数か８との小さい方として\n",
    "                comparizon = torch.cat([data[:n],recon_batch.view(batch_size,1,28,28)[:n]])\n",
    "                #元データと再現データを並べる\n",
    "                save_image(comparizon.cpu(),'./'+save_folder+'/reconstruction_c_' + str(epoch) + '.png',nrow=n)\n",
    "\n",
    "                test_loss /= len(test_loader.dataset)\n",
    "                print('====> Test set loss: {:.4f}'.format(test_loss))"
   ],
   "metadata": {
    "collapsed": false,
    "pycharm": {
     "name": "#%%\n"
    }
   }
  },
  {
   "cell_type": "code",
   "execution_count": 1585,
   "outputs": [],
   "source": [
    "def train_c_epoch(epochs,mu_c,logvar_c,log_N_k):\n",
    "    for epoch in range(1, epochs +1):\n",
    "        train_c(epoch)\n",
    "        test_c(epoch,mu_c,logvar_c,log_N_k)\n",
    "        with torch.no_grad():\n",
    "            sample = torch.randn(64,latent_dim).to(device)\n",
    "        #20次元の潜在空間のデータを64個作成して、GPUに送る\n",
    "            sample = model.decode(sample).cpu()\n",
    "        #ランダムな潜在変数から画像を生成する。\n",
    "            save_image(sample.view(64,1,28,28),save_folder+'/sample_c_epoch_' + str(epoch) + '.png',nrow=8)\n",
    "        #生成した６４個のデータを記録しておく\n"
   ],
   "metadata": {
    "collapsed": false,
    "pycharm": {
     "name": "#%%\n"
    }
   }
  },
  {
   "cell_type": "code",
   "execution_count": 1586,
   "outputs": [
    {
     "data": {
      "text/plain": "(tensor([[[ 0.2465, -0.1262, -1.1789, -0.1034, -0.0227,  0.2057,  0.8290,\n           -0.2366, -1.1050,  0.2461],\n          [ 0.2781,  0.1534,  0.4468, -1.0142,  0.9247, -0.4679,  0.1119,\n           -2.0733, -1.0302, -1.0688],\n          [ 0.1168, -0.6898,  0.1386, -0.2765, -0.3681,  0.6526,  0.2961,\n           -0.4677, -0.4074,  0.0442],\n          [ 0.3214,  0.0074, -0.1244, -0.5907, -0.6404,  0.0917, -0.0323,\n           -0.2437, -0.3598,  0.3577],\n          [-0.5349,  0.5533,  0.3793, -1.2099,  0.2402, -0.1234, -0.3023,\n            0.5951,  0.4054,  0.4395],\n          [ 0.3674,  0.8935,  1.0168,  0.7844,  0.4243,  0.3695, -0.0750,\n           -0.2225,  0.6795,  0.1203],\n          [-0.1483, -0.0860,  0.1898, -0.1000,  0.9797,  0.5368,  0.1988,\n            0.8933,  0.2534, -0.2434],\n          [ 0.5548, -1.0933,  0.5005,  0.0156, -0.3791, -0.0662,  1.1631,\n            0.0107,  0.0474, -0.1073],\n          [-0.0435, -0.4992,  0.9710, -0.2065, -0.1802,  0.1462, -0.0886,\n            0.8967,  1.1619,  0.4785],\n          [ 0.1375,  0.7305, -0.1985, -0.2926,  0.0307, -1.0159, -0.2789,\n            0.7686,  0.0256, -0.3270]]], device='cuda:0', requires_grad=True),\n tensor([[[0., 0., 0., 0., 0., 0., 0., 0., 0., 0.],\n          [0., 0., 0., 0., 0., 0., 0., 0., 0., 0.],\n          [0., 0., 0., 0., 0., 0., 0., 0., 0., 0.],\n          [0., 0., 0., 0., 0., 0., 0., 0., 0., 0.],\n          [0., 0., 0., 0., 0., 0., 0., 0., 0., 0.],\n          [0., 0., 0., 0., 0., 0., 0., 0., 0., 0.],\n          [0., 0., 0., 0., 0., 0., 0., 0., 0., 0.],\n          [0., 0., 0., 0., 0., 0., 0., 0., 0., 0.],\n          [0., 0., 0., 0., 0., 0., 0., 0., 0., 0.],\n          [0., 0., 0., 0., 0., 0., 0., 0., 0., 0.]]], device='cuda:0',\n        requires_grad=True),\n tensor([[[0., 0., 0., 0., 0., 0., 0., 0., 0., 0.]]], device='cuda:0',\n        requires_grad=True))"
     },
     "execution_count": 1586,
     "metadata": {},
     "output_type": "execute_result"
    }
   ],
   "source": [
    "mu_c_g,logvar_c_g,log_N_k_g"
   ],
   "metadata": {
    "collapsed": false,
    "pycharm": {
     "name": "#%%\n"
    }
   }
  },
  {
   "cell_type": "code",
   "execution_count": 1609,
   "outputs": [
    {
     "name": "stdout",
     "output_type": "stream",
     "text": [
      "Train Epoch: 0 [0/60000 (0%)]\tLoss: 130.633604\n",
      "====> Test set loss: 1.3880\n",
      "Train Epoch: 1 [0/60000 (0%)]\tLoss: 136.273965\n",
      "====> Test set loss: 1.4111\n",
      "Train Epoch: 2 [0/60000 (0%)]\tLoss: 136.226318\n",
      "====> Test set loss: 1.4499\n",
      "Train Epoch: 3 [0/60000 (0%)]\tLoss: 137.024063\n",
      "====> Test set loss: 1.4689\n",
      "Train Epoch: 4 [0/60000 (0%)]\tLoss: 139.165469\n",
      "====> Test set loss: 1.4263\n",
      "Train Epoch: 5 [0/60000 (0%)]\tLoss: 137.254678\n",
      "====> Test set loss: 1.4272\n",
      "Train Epoch: 6 [0/60000 (0%)]\tLoss: 137.112764\n",
      "====> Test set loss: 1.4269\n",
      "Train Epoch: 7 [0/60000 (0%)]\tLoss: 135.081865\n",
      "====> Test set loss: 1.4435\n",
      "Train Epoch: 8 [0/60000 (0%)]\tLoss: 138.832949\n",
      "====> Test set loss: 1.4739\n",
      "Train Epoch: 9 [0/60000 (0%)]\tLoss: 130.951719\n",
      "====> Test set loss: 1.4044\n",
      "Train Epoch: 10 [0/60000 (0%)]\tLoss: 136.631797\n",
      "====> Test set loss: 1.3284\n",
      "Train Epoch: 11 [0/60000 (0%)]\tLoss: 137.063945\n",
      "====> Test set loss: 1.4573\n",
      "Train Epoch: 12 [0/60000 (0%)]\tLoss: 134.891445\n",
      "====> Test set loss: 1.4204\n",
      "Train Epoch: 13 [0/60000 (0%)]\tLoss: 135.129551\n",
      "====> Test set loss: 1.5057\n",
      "Train Epoch: 14 [0/60000 (0%)]\tLoss: 142.816367\n",
      "====> Test set loss: 1.4937\n",
      "Train Epoch: 15 [0/60000 (0%)]\tLoss: 131.897656\n",
      "====> Test set loss: 1.4980\n",
      "Train Epoch: 16 [0/60000 (0%)]\tLoss: 139.737461\n",
      "====> Test set loss: 1.4229\n",
      "Train Epoch: 17 [0/60000 (0%)]\tLoss: 134.837793\n",
      "====> Test set loss: 1.4285\n",
      "Train Epoch: 18 [0/60000 (0%)]\tLoss: 138.463721\n",
      "====> Test set loss: 1.4294\n",
      "Train Epoch: 19 [0/60000 (0%)]\tLoss: 134.858945\n",
      "====> Test set loss: 1.3898\n",
      "Train Epoch: 20 [0/60000 (0%)]\tLoss: 132.526191\n",
      "====> Test set loss: 1.3333\n",
      "Train Epoch: 21 [0/60000 (0%)]\tLoss: 132.835488\n",
      "====> Test set loss: 1.5159\n",
      "Train Epoch: 22 [0/60000 (0%)]\tLoss: 137.412285\n",
      "====> Test set loss: 1.4380\n",
      "Train Epoch: 23 [0/60000 (0%)]\tLoss: 136.875479\n",
      "====> Test set loss: 1.4740\n",
      "Train Epoch: 24 [0/60000 (0%)]\tLoss: 134.963799\n",
      "====> Test set loss: 1.4803\n",
      "Train Epoch: 25 [0/60000 (0%)]\tLoss: 137.392744\n",
      "====> Test set loss: 1.4231\n",
      "Train Epoch: 26 [0/60000 (0%)]\tLoss: 138.144326\n",
      "====> Test set loss: 1.4554\n",
      "Train Epoch: 27 [0/60000 (0%)]\tLoss: 138.870234\n",
      "====> Test set loss: 1.3879\n",
      "Train Epoch: 28 [0/60000 (0%)]\tLoss: 139.132852\n",
      "====> Test set loss: 1.4381\n",
      "Train Epoch: 29 [0/60000 (0%)]\tLoss: 132.805234\n",
      "====> Test set loss: 1.4758\n",
      "Train Epoch: 30 [0/60000 (0%)]\tLoss: 136.178701\n",
      "====> Test set loss: 1.4202\n",
      "Train Epoch: 31 [0/60000 (0%)]\tLoss: 134.272178\n",
      "====> Test set loss: 1.4144\n",
      "Train Epoch: 32 [0/60000 (0%)]\tLoss: 136.069277\n",
      "====> Test set loss: 1.4201\n",
      "Train Epoch: 33 [0/60000 (0%)]\tLoss: 142.256494\n",
      "====> Test set loss: 1.3962\n",
      "Train Epoch: 34 [0/60000 (0%)]\tLoss: 137.601387\n",
      "====> Test set loss: 1.4420\n",
      "Train Epoch: 35 [0/60000 (0%)]\tLoss: 139.483184\n",
      "====> Test set loss: 1.4507\n",
      "Train Epoch: 36 [0/60000 (0%)]\tLoss: 132.116484\n",
      "====> Test set loss: 1.4399\n",
      "Train Epoch: 37 [0/60000 (0%)]\tLoss: 140.261992\n",
      "====> Test set loss: 1.4048\n",
      "Train Epoch: 38 [0/60000 (0%)]\tLoss: 141.250488\n",
      "====> Test set loss: 1.4498\n",
      "Train Epoch: 39 [0/60000 (0%)]\tLoss: 143.542422\n",
      "====> Test set loss: 1.4580\n",
      "Train Epoch: 40 [0/60000 (0%)]\tLoss: 141.842891\n",
      "====> Test set loss: 1.4713\n",
      "Train Epoch: 41 [0/60000 (0%)]\tLoss: 139.134854\n",
      "====> Test set loss: 1.4327\n",
      "Train Epoch: 42 [0/60000 (0%)]\tLoss: 142.916699\n",
      "====> Test set loss: 1.4821\n",
      "Train Epoch: 43 [0/60000 (0%)]\tLoss: 139.446152\n",
      "====> Test set loss: 1.4494\n",
      "Train Epoch: 44 [0/60000 (0%)]\tLoss: 135.865098\n",
      "====> Test set loss: 1.5002\n",
      "Train Epoch: 45 [0/60000 (0%)]\tLoss: 144.387500\n",
      "====> Test set loss: 1.4942\n",
      "Train Epoch: 46 [0/60000 (0%)]\tLoss: 140.494102\n",
      "====> Test set loss: 1.4809\n",
      "Train Epoch: 47 [0/60000 (0%)]\tLoss: 140.288047\n",
      "====> Test set loss: 1.4034\n",
      "Train Epoch: 48 [0/60000 (0%)]\tLoss: 143.310215\n",
      "====> Test set loss: 1.5475\n",
      "Train Epoch: 49 [0/60000 (0%)]\tLoss: 140.232480\n",
      "====> Test set loss: 1.4492\n",
      "Train Epoch: 50 [0/60000 (0%)]\tLoss: 141.768770\n",
      "====> Test set loss: 1.4095\n",
      "Train Epoch: 51 [0/60000 (0%)]\tLoss: 144.838086\n",
      "====> Test set loss: 1.4499\n",
      "Train Epoch: 52 [0/60000 (0%)]\tLoss: 137.744316\n",
      "====> Test set loss: 1.3900\n",
      "Train Epoch: 53 [0/60000 (0%)]\tLoss: 142.729707\n",
      "====> Test set loss: 1.4139\n",
      "Train Epoch: 54 [0/60000 (0%)]\tLoss: 136.025332\n",
      "====> Test set loss: 1.4259\n",
      "Train Epoch: 55 [0/60000 (0%)]\tLoss: 139.442109\n",
      "====> Test set loss: 1.5094\n",
      "Train Epoch: 56 [0/60000 (0%)]\tLoss: 142.298574\n",
      "====> Test set loss: 1.4214\n",
      "Train Epoch: 57 [0/60000 (0%)]\tLoss: 141.222461\n",
      "====> Test set loss: 1.4685\n",
      "Train Epoch: 58 [0/60000 (0%)]\tLoss: 141.175996\n",
      "====> Test set loss: 1.4271\n",
      "Train Epoch: 59 [0/60000 (0%)]\tLoss: 145.619355\n",
      "====> Test set loss: 1.4763\n",
      "Train Epoch: 60 [0/60000 (0%)]\tLoss: 140.809199\n",
      "====> Test set loss: 1.4400\n",
      "Train Epoch: 61 [0/60000 (0%)]\tLoss: 140.258486\n",
      "====> Test set loss: 1.5045\n",
      "Train Epoch: 62 [0/60000 (0%)]\tLoss: 142.473105\n",
      "====> Test set loss: 1.4891\n",
      "Train Epoch: 63 [0/60000 (0%)]\tLoss: 145.648828\n",
      "====> Test set loss: 1.5085\n",
      "Train Epoch: 64 [0/60000 (0%)]\tLoss: 141.129414\n",
      "====> Test set loss: 1.4802\n",
      "Train Epoch: 65 [0/60000 (0%)]\tLoss: 137.723984\n",
      "====> Test set loss: 1.4151\n",
      "Train Epoch: 66 [0/60000 (0%)]\tLoss: 146.632539\n",
      "====> Test set loss: 1.4743\n",
      "Train Epoch: 67 [0/60000 (0%)]\tLoss: 138.676406\n",
      "====> Test set loss: 1.5092\n",
      "Train Epoch: 68 [0/60000 (0%)]\tLoss: 138.975068\n",
      "====> Test set loss: 1.4778\n",
      "Train Epoch: 69 [0/60000 (0%)]\tLoss: 143.724375\n",
      "====> Test set loss: 1.4672\n",
      "Train Epoch: 70 [0/60000 (0%)]\tLoss: 143.280068\n",
      "====> Test set loss: 1.4419\n",
      "Train Epoch: 71 [0/60000 (0%)]\tLoss: 143.329453\n",
      "====> Test set loss: 1.5268\n",
      "Train Epoch: 72 [0/60000 (0%)]\tLoss: 140.509160\n",
      "====> Test set loss: 1.4842\n",
      "Train Epoch: 73 [0/60000 (0%)]\tLoss: 142.722588\n",
      "====> Test set loss: 1.4744\n",
      "Train Epoch: 74 [0/60000 (0%)]\tLoss: 143.863926\n",
      "====> Test set loss: 1.3873\n",
      "Train Epoch: 75 [0/60000 (0%)]\tLoss: 144.927793\n",
      "====> Test set loss: 1.5270\n",
      "Train Epoch: 76 [0/60000 (0%)]\tLoss: 139.578242\n",
      "====> Test set loss: 1.5101\n",
      "Train Epoch: 77 [0/60000 (0%)]\tLoss: 139.866270\n",
      "====> Test set loss: 1.4441\n",
      "Train Epoch: 78 [0/60000 (0%)]\tLoss: 150.299375\n",
      "====> Test set loss: 1.5322\n",
      "Train Epoch: 79 [0/60000 (0%)]\tLoss: 146.330996\n",
      "====> Test set loss: 1.4824\n",
      "Train Epoch: 80 [0/60000 (0%)]\tLoss: 137.248018\n",
      "====> Test set loss: 1.5073\n",
      "Train Epoch: 81 [0/60000 (0%)]\tLoss: 141.392266\n",
      "====> Test set loss: 1.5500\n",
      "Train Epoch: 82 [0/60000 (0%)]\tLoss: 151.063926\n",
      "====> Test set loss: 1.4841\n",
      "Train Epoch: 83 [0/60000 (0%)]\tLoss: 138.721309\n",
      "====> Test set loss: 1.4710\n",
      "Train Epoch: 84 [0/60000 (0%)]\tLoss: 143.086436\n",
      "====> Test set loss: 1.5721\n",
      "Train Epoch: 85 [0/60000 (0%)]\tLoss: 144.231211\n",
      "====> Test set loss: 1.5420\n",
      "Train Epoch: 86 [0/60000 (0%)]\tLoss: 148.034375\n",
      "====> Test set loss: 1.4256\n",
      "Train Epoch: 87 [0/60000 (0%)]\tLoss: 142.347285\n",
      "====> Test set loss: 1.3640\n",
      "Train Epoch: 88 [0/60000 (0%)]\tLoss: 148.099746\n",
      "====> Test set loss: 1.4587\n",
      "Train Epoch: 89 [0/60000 (0%)]\tLoss: 145.478809\n",
      "====> Test set loss: 1.4832\n",
      "Train Epoch: 90 [0/60000 (0%)]\tLoss: 147.078223\n",
      "====> Test set loss: 1.4945\n",
      "Train Epoch: 91 [0/60000 (0%)]\tLoss: 136.824609\n",
      "====> Test set loss: 1.5047\n",
      "Train Epoch: 92 [0/60000 (0%)]\tLoss: 142.780508\n",
      "====> Test set loss: 1.4427\n",
      "Train Epoch: 93 [0/60000 (0%)]\tLoss: 147.162578\n",
      "====> Test set loss: 1.5300\n",
      "Train Epoch: 94 [0/60000 (0%)]\tLoss: 144.285371\n",
      "====> Test set loss: 1.5914\n",
      "Train Epoch: 95 [0/60000 (0%)]\tLoss: 145.194727\n",
      "====> Test set loss: 1.4202\n",
      "Train Epoch: 96 [0/60000 (0%)]\tLoss: 146.875371\n",
      "====> Test set loss: 1.4805\n",
      "Train Epoch: 97 [0/60000 (0%)]\tLoss: 146.405742\n",
      "====> Test set loss: 1.4321\n",
      "Train Epoch: 98 [0/60000 (0%)]\tLoss: 145.103135\n",
      "====> Test set loss: 1.5462\n",
      "Train Epoch: 99 [0/60000 (0%)]\tLoss: 141.762891\n",
      "====> Test set loss: 1.5136\n",
      "Train Epoch: 100 [0/60000 (0%)]\tLoss: 142.030762\n",
      "====> Test set loss: 1.4946\n",
      "Train Epoch: 101 [0/60000 (0%)]\tLoss: 150.746445\n",
      "====> Test set loss: 1.5540\n",
      "Train Epoch: 102 [0/60000 (0%)]\tLoss: 143.616406\n",
      "====> Test set loss: 1.5603\n",
      "Train Epoch: 103 [0/60000 (0%)]\tLoss: 144.891035\n",
      "====> Test set loss: 1.5600\n",
      "Train Epoch: 104 [0/60000 (0%)]\tLoss: 145.686963\n",
      "====> Test set loss: 1.5113\n",
      "Train Epoch: 105 [0/60000 (0%)]\tLoss: 151.014434\n",
      "====> Test set loss: 1.5102\n",
      "Train Epoch: 106 [0/60000 (0%)]\tLoss: 140.897217\n",
      "====> Test set loss: 1.4818\n",
      "Train Epoch: 107 [0/60000 (0%)]\tLoss: 145.131084\n",
      "====> Test set loss: 1.6084\n",
      "Train Epoch: 108 [0/60000 (0%)]\tLoss: 147.218008\n",
      "====> Test set loss: 1.5251\n",
      "Train Epoch: 109 [0/60000 (0%)]\tLoss: 150.796748\n",
      "====> Test set loss: 1.5104\n",
      "Train Epoch: 110 [0/60000 (0%)]\tLoss: 141.485938\n",
      "====> Test set loss: 1.5018\n",
      "Train Epoch: 111 [0/60000 (0%)]\tLoss: 143.392441\n",
      "====> Test set loss: 1.5288\n",
      "Train Epoch: 112 [0/60000 (0%)]\tLoss: 148.085967\n",
      "====> Test set loss: 1.5670\n",
      "Train Epoch: 113 [0/60000 (0%)]\tLoss: 147.781738\n",
      "====> Test set loss: 1.4491\n",
      "Train Epoch: 114 [0/60000 (0%)]\tLoss: 149.017119\n",
      "====> Test set loss: 1.5352\n",
      "Train Epoch: 115 [0/60000 (0%)]\tLoss: 142.721504\n",
      "====> Test set loss: 1.6410\n",
      "Train Epoch: 116 [0/60000 (0%)]\tLoss: 145.437051\n",
      "====> Test set loss: 1.5265\n",
      "Train Epoch: 117 [0/60000 (0%)]\tLoss: 146.636582\n",
      "====> Test set loss: 1.5215\n",
      "Train Epoch: 118 [0/60000 (0%)]\tLoss: 151.459287\n",
      "====> Test set loss: 1.5375\n",
      "Train Epoch: 119 [0/60000 (0%)]\tLoss: 145.024961\n",
      "====> Test set loss: 1.4892\n",
      "Train Epoch: 120 [0/60000 (0%)]\tLoss: 144.869238\n",
      "====> Test set loss: 1.5489\n",
      "Train Epoch: 121 [0/60000 (0%)]\tLoss: 151.643447\n",
      "====> Test set loss: 1.4599\n",
      "Train Epoch: 122 [0/60000 (0%)]\tLoss: 151.058184\n",
      "====> Test set loss: 1.5461\n",
      "Train Epoch: 123 [0/60000 (0%)]\tLoss: 147.356582\n",
      "====> Test set loss: 1.6012\n",
      "Train Epoch: 124 [0/60000 (0%)]\tLoss: 145.266152\n",
      "====> Test set loss: 1.5357\n",
      "Train Epoch: 125 [0/60000 (0%)]\tLoss: 154.360879\n",
      "====> Test set loss: 1.5042\n",
      "Train Epoch: 126 [0/60000 (0%)]\tLoss: 144.796660\n",
      "====> Test set loss: 1.5694\n",
      "Train Epoch: 127 [0/60000 (0%)]\tLoss: 141.721611\n",
      "====> Test set loss: 1.5194\n",
      "Train Epoch: 128 [0/60000 (0%)]\tLoss: 149.075693\n",
      "====> Test set loss: 1.5095\n",
      "Train Epoch: 129 [0/60000 (0%)]\tLoss: 143.904043\n",
      "====> Test set loss: 1.4761\n",
      "Train Epoch: 130 [0/60000 (0%)]\tLoss: 150.995059\n",
      "====> Test set loss: 1.5402\n",
      "Train Epoch: 131 [0/60000 (0%)]\tLoss: 146.692559\n",
      "====> Test set loss: 1.6033\n",
      "Train Epoch: 132 [0/60000 (0%)]\tLoss: 147.927178\n",
      "====> Test set loss: 1.4862\n",
      "Train Epoch: 133 [0/60000 (0%)]\tLoss: 149.410029\n",
      "====> Test set loss: 1.4579\n",
      "Train Epoch: 134 [0/60000 (0%)]\tLoss: 143.981406\n",
      "====> Test set loss: 1.5039\n",
      "Train Epoch: 135 [0/60000 (0%)]\tLoss: 148.283926\n",
      "====> Test set loss: 1.4825\n",
      "Train Epoch: 136 [0/60000 (0%)]\tLoss: 145.959395\n",
      "====> Test set loss: 1.5143\n",
      "Train Epoch: 137 [0/60000 (0%)]\tLoss: 143.293330\n",
      "====> Test set loss: 1.5818\n",
      "Train Epoch: 138 [0/60000 (0%)]\tLoss: 148.846670\n",
      "====> Test set loss: 1.4693\n",
      "Train Epoch: 139 [0/60000 (0%)]\tLoss: 146.233730\n",
      "====> Test set loss: 1.5483\n",
      "Train Epoch: 140 [0/60000 (0%)]\tLoss: 147.148008\n",
      "====> Test set loss: 1.5724\n",
      "Train Epoch: 141 [0/60000 (0%)]\tLoss: 143.938008\n",
      "====> Test set loss: 1.5205\n",
      "Train Epoch: 142 [0/60000 (0%)]\tLoss: 139.315908\n",
      "====> Test set loss: 1.6173\n",
      "Train Epoch: 143 [0/60000 (0%)]\tLoss: 152.214199\n",
      "====> Test set loss: 1.5944\n",
      "Train Epoch: 144 [0/60000 (0%)]\tLoss: 148.296904\n",
      "====> Test set loss: 1.6048\n",
      "Train Epoch: 145 [0/60000 (0%)]\tLoss: 154.337520\n",
      "====> Test set loss: 1.5978\n",
      "Train Epoch: 146 [0/60000 (0%)]\tLoss: 153.400957\n",
      "====> Test set loss: 1.5212\n",
      "Train Epoch: 147 [0/60000 (0%)]\tLoss: 155.066104\n",
      "====> Test set loss: 1.5379\n",
      "Train Epoch: 148 [0/60000 (0%)]\tLoss: 148.625283\n",
      "====> Test set loss: 1.5806\n",
      "Train Epoch: 149 [0/60000 (0%)]\tLoss: 151.142012\n",
      "====> Test set loss: 1.5532\n",
      "Train Epoch: 150 [0/60000 (0%)]\tLoss: 153.688555\n",
      "====> Test set loss: 1.5709\n",
      "Train Epoch: 151 [0/60000 (0%)]\tLoss: 153.616445\n",
      "====> Test set loss: 1.5556\n",
      "Train Epoch: 152 [0/60000 (0%)]\tLoss: 146.760879\n",
      "====> Test set loss: 1.5329\n",
      "Train Epoch: 153 [0/60000 (0%)]\tLoss: 158.096523\n",
      "====> Test set loss: 1.5415\n",
      "Train Epoch: 154 [0/60000 (0%)]\tLoss: 155.712881\n",
      "====> Test set loss: 1.5566\n",
      "Train Epoch: 155 [0/60000 (0%)]\tLoss: 148.598555\n",
      "====> Test set loss: 1.5300\n",
      "Train Epoch: 156 [0/60000 (0%)]\tLoss: 151.010537\n",
      "====> Test set loss: 1.4848\n",
      "Train Epoch: 157 [0/60000 (0%)]\tLoss: 154.423555\n",
      "====> Test set loss: 1.6295\n",
      "Train Epoch: 158 [0/60000 (0%)]\tLoss: 152.379063\n",
      "====> Test set loss: 1.5306\n",
      "Train Epoch: 159 [0/60000 (0%)]\tLoss: 149.623604\n",
      "====> Test set loss: 1.5883\n",
      "Train Epoch: 160 [0/60000 (0%)]\tLoss: 147.923594\n",
      "====> Test set loss: 1.5432\n",
      "Train Epoch: 161 [0/60000 (0%)]\tLoss: 151.486367\n",
      "====> Test set loss: 1.4887\n",
      "Train Epoch: 162 [0/60000 (0%)]\tLoss: 154.751465\n",
      "====> Test set loss: 1.5275\n",
      "Train Epoch: 163 [0/60000 (0%)]\tLoss: 147.200430\n",
      "====> Test set loss: 1.5740\n",
      "Train Epoch: 164 [0/60000 (0%)]\tLoss: 156.047656\n",
      "====> Test set loss: 1.6761\n",
      "Train Epoch: 165 [0/60000 (0%)]\tLoss: 144.150156\n",
      "====> Test set loss: 1.5937\n",
      "Train Epoch: 166 [0/60000 (0%)]\tLoss: 149.827373\n",
      "====> Test set loss: 1.5398\n",
      "Train Epoch: 167 [0/60000 (0%)]\tLoss: 154.750566\n",
      "====> Test set loss: 1.5747\n",
      "Train Epoch: 168 [0/60000 (0%)]\tLoss: 146.327598\n",
      "====> Test set loss: 1.5302\n",
      "Train Epoch: 169 [0/60000 (0%)]\tLoss: 148.236895\n",
      "====> Test set loss: 1.5926\n",
      "Train Epoch: 170 [0/60000 (0%)]\tLoss: 153.286094\n",
      "====> Test set loss: 1.5579\n",
      "Train Epoch: 171 [0/60000 (0%)]\tLoss: 148.353008\n",
      "====> Test set loss: 1.5416\n",
      "Train Epoch: 172 [0/60000 (0%)]\tLoss: 152.321328\n",
      "====> Test set loss: 1.5186\n",
      "Train Epoch: 173 [0/60000 (0%)]\tLoss: 148.948594\n",
      "====> Test set loss: 1.4857\n",
      "Train Epoch: 174 [0/60000 (0%)]\tLoss: 153.707793\n",
      "====> Test set loss: 1.4744\n",
      "Train Epoch: 175 [0/60000 (0%)]\tLoss: 147.245850\n",
      "====> Test set loss: 1.5926\n",
      "Train Epoch: 176 [0/60000 (0%)]\tLoss: 150.003594\n",
      "====> Test set loss: 1.5049\n",
      "Train Epoch: 177 [0/60000 (0%)]\tLoss: 154.284590\n",
      "====> Test set loss: 1.5837\n",
      "Train Epoch: 178 [0/60000 (0%)]\tLoss: 159.016270\n",
      "====> Test set loss: 1.6700\n",
      "Train Epoch: 179 [0/60000 (0%)]\tLoss: 154.780430\n",
      "====> Test set loss: 1.5679\n",
      "Train Epoch: 180 [0/60000 (0%)]\tLoss: 155.228311\n",
      "====> Test set loss: 1.6349\n",
      "Train Epoch: 181 [0/60000 (0%)]\tLoss: 154.211367\n",
      "====> Test set loss: 1.5487\n",
      "Train Epoch: 182 [0/60000 (0%)]\tLoss: 148.673789\n",
      "====> Test set loss: 1.5479\n",
      "Train Epoch: 183 [0/60000 (0%)]\tLoss: 152.627285\n",
      "====> Test set loss: 1.5366\n",
      "Train Epoch: 184 [0/60000 (0%)]\tLoss: 150.820527\n",
      "====> Test set loss: 1.5321\n",
      "Train Epoch: 185 [0/60000 (0%)]\tLoss: 155.369590\n",
      "====> Test set loss: 1.5134\n",
      "Train Epoch: 186 [0/60000 (0%)]\tLoss: 156.183242\n",
      "====> Test set loss: 1.5613\n",
      "Train Epoch: 187 [0/60000 (0%)]\tLoss: 146.176895\n",
      "====> Test set loss: 1.5428\n",
      "Train Epoch: 188 [0/60000 (0%)]\tLoss: 155.083066\n",
      "====> Test set loss: 1.6905\n",
      "Train Epoch: 189 [0/60000 (0%)]\tLoss: 154.086240\n",
      "====> Test set loss: 1.5523\n",
      "Train Epoch: 190 [0/60000 (0%)]\tLoss: 153.034697\n",
      "====> Test set loss: 1.6292\n",
      "Train Epoch: 191 [0/60000 (0%)]\tLoss: 160.511094\n",
      "====> Test set loss: 1.5550\n",
      "Train Epoch: 192 [0/60000 (0%)]\tLoss: 154.907754\n",
      "====> Test set loss: 1.5888\n",
      "Train Epoch: 193 [0/60000 (0%)]\tLoss: 156.730938\n",
      "====> Test set loss: 1.6012\n",
      "Train Epoch: 194 [0/60000 (0%)]\tLoss: 153.410225\n",
      "====> Test set loss: 1.6323\n",
      "Train Epoch: 195 [0/60000 (0%)]\tLoss: 154.499434\n",
      "====> Test set loss: 1.6093\n",
      "Train Epoch: 196 [0/60000 (0%)]\tLoss: 150.740410\n",
      "====> Test set loss: 1.5853\n",
      "Train Epoch: 197 [0/60000 (0%)]\tLoss: 157.701367\n",
      "====> Test set loss: 1.6253\n",
      "Train Epoch: 198 [0/60000 (0%)]\tLoss: 155.082539\n",
      "====> Test set loss: 1.5768\n",
      "Train Epoch: 199 [0/60000 (0%)]\tLoss: 153.681934\n",
      "====> Test set loss: 1.6166\n"
     ]
    }
   ],
   "source": [
    "for i in range(200):\n",
    "    #train_c_epoch(epochs=1,mu_c=mu_c_g,logvar_c=logvar_c_g,pi_c=pi_c_g)\n",
    "\n",
    "    train_c(epoch=i)\n",
    "    test_c(epoch=i,mu_c=mu_c_g,logvar_c=logvar_c_g,log_N_k=log_N_k_g)\n",
    "    scheduler.step()\n",
    "    scheduler_clustering.step()\n",
    "\n",
    "    beta += beta_delta\n"
   ],
   "metadata": {
    "collapsed": false,
    "pycharm": {
     "name": "#%%\n"
    }
   }
  },
  {
   "cell_type": "code",
   "execution_count": 1610,
   "outputs": [
    {
     "data": {
      "text/plain": "<Figure size 432x288 with 1 Axes>",
      "image/png": "[encoded data removed]"
     },
     "metadata": {
      "needs_background": "light"
     },
     "output_type": "display_data"
    }
   ],
   "source": [
    "zs_g,ts_g,mus_g,logvars_g = take_latents()\n",
    "points = TSNE(n_components=2,random_state=0).fit_transform(mus_g.view(-1,latent_dim).cpu().detach().numpy())\n",
    "data_points = points[0:take_latent_max*batch_size]\n",
    "center_points = points[take_latent_max*batch_size:]\n",
    "data_labels = ts_g[0:take_latent_max*batch_size].cpu().detach().numpy()\n",
    "center_labels = (-ts_g[take_latent_max*batch_size:]-1).cpu().detach().numpy()\n",
    "drawpoints_with_centers(data_points,data_labels,center_points,center_labels)"
   ],
   "metadata": {
    "collapsed": false,
    "pycharm": {
     "name": "#%%\n"
    }
   }
  },
  {
   "cell_type": "code",
   "execution_count": 1611,
   "outputs": [
    {
     "data": {
      "text/plain": "<Figure size 432x288 with 1 Axes>",
      "image/png": "[encoded data removed]"
     },
     "metadata": {
      "needs_background": "light"
     },
     "output_type": "display_data"
    }
   ],
   "source": [
    "kmeans_model = KMeans(n_clusters=K_model_cluster, random_state=1).fit(mus_g.view(-1,latent_dim).cpu().detach().numpy())\n",
    "drawpoints_with_centers(data_points,kmeans_model.labels_[:take_latent_max*batch_size],center_points,center_labels)"
   ],
   "metadata": {
    "collapsed": false,
    "pycharm": {
     "name": "#%%\n"
    }
   }
  },
  {
   "cell_type": "code",
   "execution_count": 1612,
   "outputs": [
    {
     "data": {
      "text/plain": "<Figure size 432x288 with 1 Axes>",
      "image/png": "[encoded data removed]"
     },
     "metadata": {
      "needs_background": "light"
     },
     "output_type": "display_data"
    }
   ],
   "source": [
    "gauss_model = GaussianMixture(n_components=K_model_cluster,covariance_type='diag',random_state=1).fit(mus_g.view(-1,latent_dim).cpu().detach().numpy())\n",
    "drawpoints_with_centers(data_points,gauss_model.predict(mus_g.view(-1,latent_dim).cpu().detach().numpy())[:take_latent_max*batch_size],center_points,center_labels)"
   ],
   "metadata": {
    "collapsed": false,
    "pycharm": {
     "name": "#%%\n"
    }
   }
  },
  {
   "cell_type": "code",
   "execution_count": 1613,
   "outputs": [
    {
     "data": {
      "text/plain": "<Figure size 432x288 with 1 Axes>",
      "image/png": "[encoded data removed]"
     },
     "metadata": {
      "needs_background": "light"
     },
     "output_type": "display_data"
    }
   ],
   "source": [
    "#_,_,_,_,gamma_c_g,_ = gauss(mus_g[0:batch_size*take_latent_max,:,:],logvars_g,mu_c_g,logvar_c_g,log_N_k_g,1)\n",
    "#drawpoints(points[0:batch_size*take_latent_max,:],torch.argmax(gamma_c_g,2).view(-1).cpu().detach().numpy())\n",
    "_,_,_,_,gamma_c_g,_ = gauss(mus_g[0:batch_size*take_latent_max,:,:],logvars_g,mu_c_g,logvar_c_g,log_N_k_g,1)\n",
    "drawpoints_with_centers(data_points,torch.argmax(gamma_c_g,2).view(-1).cpu().detach().numpy(),center_points,center_labels)"
   ],
   "metadata": {
    "collapsed": false,
    "pycharm": {
     "name": "#%%\n"
    }
   }
  },
  {
   "cell_type": "code",
   "execution_count": 1614,
   "outputs": [],
   "source": [
    "show_generated_samples_c(mu_c_g,logvar_c_g)"
   ],
   "metadata": {
    "collapsed": false,
    "pycharm": {
     "name": "#%%\n"
    }
   }
  },
  {
   "cell_type": "code",
   "execution_count": 1615,
   "outputs": [
    {
     "data": {
      "text/plain": "(0.0005083731656658001, 0.0005083731656658001, 5.0000000000000036)"
     },
     "execution_count": 1615,
     "metadata": {},
     "output_type": "execute_result"
    }
   ],
   "source": [
    "#optimizer.param_groups[0]['lr']=0.002,optimizer_clustering.param_groups[0]['lr']=0.002\n",
    "optimizer.param_groups[0]['lr'],optimizer_clustering.param_groups[0]['lr'],beta"
   ],
   "metadata": {
    "collapsed": false,
    "pycharm": {
     "name": "#%%\n"
    }
   }
  },
  {
   "cell_type": "code",
   "execution_count": 1616,
   "outputs": [],
   "source": [
    "correspond_matrix = torch.zeros(K_real_cluster,K_model_cluster)\n",
    "\n",
    "for i in range(batch_size*take_latent_max):\n",
    "\n",
    "    for j in range(K_model_cluster):\n",
    "        for k in range(K_real_cluster):\n",
    "            if torch.argmax(gamma_c_g,2)[i,0] == j:\n",
    "                if ts_g[i] == k:\n",
    "                    correspond_matrix[k,j] +=1\n"
   ],
   "metadata": {
    "collapsed": false,
    "pycharm": {
     "name": "#%%\n"
    }
   }
  },
  {
   "cell_type": "code",
   "execution_count": 1617,
   "outputs": [
    {
     "data": {
      "text/plain": "tensor([[  0.,   0.,   0.,   0.,   0., 103.,   0.,   1.,   0.,   0.],\n        [  0., 126.,   0.,   0.,   0.,   0.,   0.,   0.,   0.,   0.],\n        [  0.,   0.,   0.,  77.,   0.,   0.,   1.,   1.,   0.,   0.],\n        [  0.,   0.,   2.,   1.,   0.,   0., 101.,   3.,   0.,   0.],\n        [  0.,   0.,   0.,   1.,  92.,   0.,   0.,   0.,   3.,   0.],\n        [  1.,   0.,   0.,   0.,   0.,   0.,   2.,  83.,   0.,   2.],\n        [  0.,   0.,   0.,   0.,   1.,   0.,   0.,   3.,   0.,  87.],\n        [  0.,   0., 100.,   2.,   0.,   0.,   0.,   0.,   3.,   0.],\n        [ 93.,   0.,   0.,   0.,   0.,   0.,   5.,   2.,   1.,   1.],\n        [  0.,   1.,   2.,   0.,   1.,   0.,   2.,   0.,  96.,   0.]])"
     },
     "execution_count": 1617,
     "metadata": {},
     "output_type": "execute_result"
    }
   ],
   "source": [
    "correspond_matrix"
   ],
   "metadata": {
    "collapsed": false,
    "pycharm": {
     "name": "#%%\n"
    }
   }
  },
  {
   "cell_type": "code",
   "execution_count": 1618,
   "outputs": [
    {
     "data": {
      "text/plain": "tensor(1000.)"
     },
     "execution_count": 1618,
     "metadata": {},
     "output_type": "execute_result"
    }
   ],
   "source": [
    "correspond_matrix.sum()"
   ],
   "metadata": {
    "collapsed": false,
    "pycharm": {
     "name": "#%%\n"
    }
   }
  },
  {
   "cell_type": "code",
   "execution_count": 1619,
   "outputs": [
    {
     "data": {
      "text/plain": "torch.return_types.max(\nvalues=tensor([ 93., 126., 100.,  77.,  92., 103., 101.,  83.,  96.,  87.]),\nindices=tensor([8, 1, 7, 2, 4, 0, 3, 5, 9, 6]))"
     },
     "execution_count": 1619,
     "metadata": {},
     "output_type": "execute_result"
    }
   ],
   "source": [
    "torch.max(correspond_matrix,0)"
   ],
   "metadata": {
    "collapsed": false,
    "pycharm": {
     "name": "#%%\n"
    }
   }
  },
  {
   "cell_type": "code",
   "execution_count": 1620,
   "outputs": [
    {
     "data": {
      "text/plain": "tensor(0.9580)"
     },
     "execution_count": 1620,
     "metadata": {},
     "output_type": "execute_result"
    }
   ],
   "source": [
    "torch.max(correspond_matrix,0).values.sum()/(batch_size*take_latent_max)"
   ],
   "metadata": {
    "collapsed": false,
    "pycharm": {
     "name": "#%%\n"
    }
   }
  },
  {
   "cell_type": "code",
   "execution_count": 1621,
   "outputs": [
    {
     "data": {
      "text/plain": "tensor([ 9.0477, 10.8473, 10.3530, 10.5151,  9.6719,  9.8066, 11.2004,  9.1817,\n         9.6184,  9.5263], device='cuda:0', grad_fn=<SqueezeBackward0>)"
     },
     "execution_count": 1621,
     "metadata": {},
     "output_type": "execute_result"
    }
   ],
   "source": [
    "log_N_k_g.exp().squeeze()"
   ],
   "metadata": {
    "collapsed": false,
    "pycharm": {
     "name": "#%%\n"
    }
   }
  },
  {
   "cell_type": "code",
   "execution_count": 1622,
   "outputs": [
    {
     "data": {
      "text/plain": "tensor(99.7685, device='cuda:0', grad_fn=<SumBackward0>)"
     },
     "execution_count": 1622,
     "metadata": {},
     "output_type": "execute_result"
    }
   ],
   "source": [
    "\n",
    "log_N_k_g.exp().squeeze().sum()"
   ],
   "metadata": {
    "collapsed": false,
    "pycharm": {
     "name": "#%%\n"
    }
   }
  },
  {
   "cell_type": "code",
   "execution_count": 1623,
   "outputs": [
    {
     "data": {
      "text/plain": "tensor([[0., 0., 0., 0., 0., 0., 0., 0., 0., 0.],\n        [0., 0., 0., 0., 0., 0., 0., 0., 0., 0.],\n        [0., 0., 0., 0., 0., 0., 0., 0., 0., 0.],\n        [0., 0., 0., 0., 0., 0., 0., 0., 0., 0.],\n        [0., 0., 0., 0., 0., 0., 0., 0., 0., 0.],\n        [0., 0., 0., 0., 0., 0., 0., 0., 0., 0.],\n        [0., 0., 0., 0., 0., 0., 0., 0., 0., 0.],\n        [0., 0., 0., 0., 0., 0., 0., 0., 0., 0.],\n        [0., 0., 0., 0., 0., 0., 0., 0., 0., 0.],\n        [0., 0., 0., 0., 0., 0., 0., 0., 0., 0.]])"
     },
     "execution_count": 1623,
     "metadata": {},
     "output_type": "execute_result"
    }
   ],
   "source": [
    "affinity_mat = torch.zeros(K_model_cluster,K_model_cluster)\n",
    "affinity_mat"
   ],
   "metadata": {
    "collapsed": false,
    "pycharm": {
     "name": "#%%\n"
    }
   }
  },
  {
   "cell_type": "code",
   "execution_count": 1624,
   "outputs": [
    {
     "data": {
      "text/plain": "tensor([[-18.0456, -11.8396, -14.5316,  -7.4791, -14.8929, -17.3541,  -4.9201,\n          -8.0057, -11.0107, -18.0456],\n        [-11.8396, -33.5370, -13.5469, -13.4801, -12.4110, -33.5370, -14.6445,\n         -23.4739, -16.7593, -19.5245],\n        [-14.5316, -13.5469, -42.6745, -17.9692,  -9.8403, -42.6745, -14.7814,\n         -16.6701,  -8.6171, -40.8726],\n        [ -7.4791, -13.4801, -17.9692, -42.6745,  -9.4552, -14.5946,  -9.1181,\n         -13.8982,  -8.1988, -10.9593],\n        [-14.8929, -12.4110,  -9.8403,  -9.4552, -42.6745, -27.0784, -18.7466,\n         -17.6858,  -5.5232, -14.9660],\n        [-17.3541, -33.5370, -42.6745, -14.5946, -27.0784, -42.6745, -11.3861,\n          -9.5990, -36.5309,  -9.5929],\n        [ -4.9201, -14.6445, -14.7814,  -9.1181, -18.7466, -11.3861, -42.6745,\n          -7.0358, -16.7237, -14.5265],\n        [ -8.0057, -23.4739, -16.6701, -13.8982, -17.6858,  -9.5990,  -7.0358,\n         -42.6745, -19.9344,  -8.4045],\n        [-11.0107, -16.7593,  -8.6171,  -8.1988,  -5.5232, -36.5309, -16.7237,\n         -19.9344, -42.6745, -25.2700],\n        [-18.0456, -19.5245, -40.8726, -10.9593, -14.9660,  -9.5929, -14.5265,\n          -8.4045, -25.2700, -42.6745]], grad_fn=<CopySlices>)"
     },
     "execution_count": 1624,
     "metadata": {},
     "output_type": "execute_result"
    }
   ],
   "source": [
    "for i in range(K_model_cluster):\n",
    "    for j in range(K_model_cluster):\n",
    "        if i!=j:\n",
    "#            affinity_mat[i,j]= 1./((mu_c_g[0,:,i]-mu_c_g[0,:,j]).pow(2).sum())\n",
    "            affinity_mat[i,j]= -(0.5*(((2*math.pi*(logvar_c_g[0,:,i].exp()+logvar_c_g[0,:,j].exp())).log()+(mu_c_g[0,:,i]-mu_c_g[0,:,j]).pow(2)/(logvar_c_g[0,:,i].exp()+logvar_c_g[0,:,j].exp())).sum()))\n",
    "    for j in range(K_model_cluster):\n",
    "        if i==j:\n",
    "            affinity_mat[i,i]= torch.min(affinity_mat)\n",
    "\n",
    "\n",
    "affinity_mat"
   ],
   "metadata": {
    "collapsed": false,
    "pycharm": {
     "name": "#%%\n"
    }
   }
  },
  {
   "cell_type": "code",
   "execution_count": 1625,
   "outputs": [],
   "source": [
    "index_mat = torch.arange(K_model_cluster)\n",
    "index_row = torch.arange(K_model_cluster)"
   ],
   "metadata": {
    "collapsed": false,
    "pycharm": {
     "name": "#%%\n"
    }
   }
  },
  {
   "cell_type": "code",
   "execution_count": 1626,
   "outputs": [
    {
     "data": {
      "text/plain": "(tensor([[0, 1, 2, 3, 4, 5, 6, 7, 8, 9],\n         [0, 1, 2, 3, 4, 5, 0, 7, 8, 9]]),\n 0,\n 6)"
     },
     "execution_count": 1626,
     "metadata": {},
     "output_type": "execute_result"
    }
   ],
   "source": [
    "(i_c,j_c) = np.unravel_index(torch.argmax(affinity_mat),affinity_mat.shape)\n",
    "for i in range(K_model_cluster):\n",
    "    if index_row[i]==j_c:\n",
    "        index_row[i]=i_c\n",
    "index_mat = torch.cat((index_mat.view(-1,K_model_cluster),index_row.view(1,K_model_cluster)),0)\n",
    "index_mat,i_c,j_c"
   ],
   "metadata": {
    "collapsed": false,
    "pycharm": {
     "name": "#%%\n"
    }
   }
  },
  {
   "cell_type": "code",
   "execution_count": 1627,
   "outputs": [
    {
     "data": {
      "text/plain": "tensor([[-42.6745, -11.8396, -14.5316,  -7.4791, -14.8929, -11.3861, -42.6745,\n          -7.0358, -11.0107, -14.5265],\n        [-11.8396, -33.5370, -13.5469, -13.4801, -12.4110, -33.5370, -42.6745,\n         -23.4739, -16.7593, -19.5245],\n        [-14.5316, -13.5469, -42.6745, -17.9692,  -9.8403, -42.6745, -42.6745,\n         -16.6701,  -8.6171, -40.8726],\n        [ -7.4791, -13.4801, -17.9692, -42.6745,  -9.4552, -14.5946, -42.6745,\n         -13.8982,  -8.1988, -10.9593],\n        [-14.8929, -12.4110,  -9.8403,  -9.4552, -42.6745, -27.0784, -42.6745,\n         -17.6858,  -5.5232, -14.9660],\n        [-11.3861, -33.5370, -42.6745, -14.5946, -27.0784, -42.6745, -42.6745,\n          -9.5990, -36.5309,  -9.5929],\n        [-42.6745, -42.6745, -42.6745, -42.6745, -42.6745, -42.6745, -42.6745,\n         -42.6745, -42.6745, -42.6745],\n        [ -7.0358, -23.4739, -16.6701, -13.8982, -17.6858,  -9.5990, -42.6745,\n         -42.6745, -19.9344,  -8.4045],\n        [-11.0107, -16.7593,  -8.6171,  -8.1988,  -5.5232, -36.5309, -42.6745,\n         -19.9344, -42.6745, -25.2700],\n        [-14.5265, -19.5245, -40.8726, -10.9593, -14.9660,  -9.5929, -42.6745,\n          -8.4045, -25.2700, -42.6745]], grad_fn=<CopySlices>)"
     },
     "execution_count": 1627,
     "metadata": {},
     "output_type": "execute_result"
    }
   ],
   "source": [
    "affinity_mat[i_c,:]= torch.max(affinity_mat[i_c],affinity_mat[j_c])\n",
    "#affinity_mat[i_c,:]= (0.5*(affinity_mat[i_c].exp()+affinity_mat[j_c].exp())).log()\n",
    "affinity_mat[j_c,:]= torch.min(affinity_mat)\n",
    "affinity_mat[:,j_c]= torch.min(affinity_mat)\n",
    "affinity_mat[i_c,i_c]= torch.min(affinity_mat)\n",
    "affinity_mat[:,i_c]= affinity_mat[i_c,:]\n",
    "affinity_mat"
   ],
   "metadata": {
    "collapsed": false,
    "pycharm": {
     "name": "#%%\n"
    }
   }
  },
  {
   "cell_type": "code",
   "execution_count": 1628,
   "outputs": [
    {
     "data": {
      "text/plain": "<Figure size 432x288 with 1 Axes>",
      "image/png": "[encoded data removed]"
     },
     "metadata": {
      "needs_background": "light"
     },
     "output_type": "display_data"
    }
   ],
   "source": [
    "#_,_,_,_,gamma_c_g,_ = gauss(mus_g[0:batch_size*take_latent_max,:,:],logvars_g,mu_c_g,logvar_c_g,log_N_k_g,1)\n",
    "drawpoints_with_centers(data_points,index_row[torch.argmax(gamma_c_g,2).view(-1).cpu().detach().numpy()],center_points,index_row)\n"
   ],
   "metadata": {
    "collapsed": false,
    "pycharm": {
     "name": "#%%\n"
    }
   }
  },
  {
   "cell_type": "code",
   "execution_count": 1631,
   "outputs": [],
   "source": [
    "torch.save(\n",
    "    {\n",
    "        \"model_state_dict\" : model.state_dict(),\n",
    "        \"optimizer\" : optimizer.state_dict(),\n",
    "        \"optimizer_clustering\" : optimizer_clustering.state_dict(),\n",
    "        \"mu_c_g\" : mu_c_g,\n",
    "        \"logvar_c_g\" : logvar_c_g,\n",
    "        \"alpha\" : alpha_0,\n",
    "        \"beta\" : beta,\n",
    "        \"K_model_cluster\": K_model_cluster,\n",
    "        \"latent_dim\":latent_dim\n",
    "    },\n",
    "    \"./alpha-agg-results/model/success958.tar\"\n",
    ")"
   ],
   "metadata": {
    "collapsed": false,
    "pycharm": {
     "name": "#%%\n"
    }
   }
  },
  {
   "cell_type": "code",
   "execution_count": null,
   "outputs": [],
   "source": [],
   "metadata": {
    "collapsed": false,
    "pycharm": {
     "name": "#%%\n"
    }
   }
  }
 ],
 "metadata": {
  "kernelspec": {
   "name": "pycharm-9c5a4569",
   "language": "python",
   "display_name": "PyCharm (auto_encoder)"
  },
  "language_info": {
   "codemirror_mode": {
    "name": "ipython",
    "version": 2
   },
   "file_extension": ".py",
   "mimetype": "text/x-python",
   "name": "python",
   "nbconvert_exporter": "python",
   "pygments_lexer": "ipython2",
   "version": "2.7.6"
  },
  "pycharm": {
   "stem_cell": {
    "cell_type": "raw",
    "source": [
     "#SGDを用いてGMMを行うプログラムを作成する。alphaでクラスタの大きさや数を可変にする。２０２０年１１月１８日２時１１分\n",
     "#2021年1月3日からクラスターを統合していくプログラムを模索。"
    ],
    "metadata": {
     "collapsed": false
    }
   }
  }
 },
 "nbformat": 4,
 "nbformat_minor": 0
}