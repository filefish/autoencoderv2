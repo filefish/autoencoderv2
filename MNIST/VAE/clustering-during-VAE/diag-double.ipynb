{
 "cells": [
  {
   "cell_type": "code",
   "execution_count": 1,
   "outputs": [],
   "source": [
    "from __future__ import print_function\n",
    "import argparse\n",
    "import torch\n",
    "import torch.utils.data\n",
    "from torch import nn, optim\n",
    "from torch.nn import functional as F\n",
    "from torchvision import datasets, transforms\n",
    "from torchvision.utils import save_image\n",
    "\n",
    "%matplotlib inline\n",
    "import matplotlib.pyplot as plt\n",
    "from torch.distributions.multivariate_normal import MultivariateNormal\n",
    "\n",
    "\n",
    "import numpy as np\n",
    "\n",
    "\n",
    "\n",
    "from sklearn.manifold import TSNE\n",
    "from random import random\n",
    "from sklearn.mixture import GaussianMixture\n",
    "from sklearn.mixture import BayesianGaussianMixture\n",
    "from sklearn.cluster import KMeans"
   ],
   "metadata": {
    "collapsed": false,
    "pycharm": {
     "name": "#%%\n"
    }
   }
  },
  {
   "cell_type": "code",
   "execution_count": 297,
   "outputs": [],
   "source": [
    "\n",
    "batch_size = 100\n",
    "take_latent_max =10\n",
    "num_epoch = 10\n",
    "input_dim=28*28\n",
    "output_dim=input_dim\n",
    "\n",
    "en_hidden1_dim = 500\n",
    "en_hidden2_dim = 500\n",
    "en_hidden3_dim = 2000\n",
    "latent_dim= 30\n",
    "de_hidden1_dim = 2000\n",
    "de_hidden2_dim = 500\n",
    "de_hidden3_dim = 500\n",
    "\n",
    "cen_hidden1_dim = 500\n",
    "cen_hidden2_dim = 500\n",
    "cen_hidden3_dim = 2000\n",
    "clatent_dim= 5\n",
    "cde_hidden1_dim = 2000\n",
    "cde_hidden2_dim = 500\n",
    "cde_hidden3_dim = 500\n",
    "\n",
    "\n",
    "log_interval = 600\n",
    "\n",
    "K_model_cluster = 10\n",
    "K_real_cluster = 10\n",
    "\n",
    "beta= 1.\n",
    "beta_start = beta\n",
    "beta_end = 1.\n",
    "total_step = 500\n",
    "beta_delta = (beta_end-beta_start)/total_step\n",
    "\n",
    "mse_alpha = 0.1\n",
    "cbeta=0.0001\n",
    "\n",
    "save_folder = 'double-results'\n",
    "\n",
    "KMeans_random_state = 1 #(random seed)\n",
    "Gaussian_random_state = 1  #(random seed)\n",
    "\n",
    "eps_N_c = 0\n",
    "iter_adiabatic =1\n",
    "\n",
    "qn_value =0\n",
    "\n",
    "infomax_alpha = 10.\n",
    "\n",
    "stabilizer_eps = 1.0e-16"
   ],
   "metadata": {
    "collapsed": false,
    "pycharm": {
     "name": "#%%\n"
    }
   }
  },
  {
   "cell_type": "code",
   "execution_count": 274,
   "outputs": [],
   "source": [
    "device = 'cuda'\n",
    "kwargs = {'num_workers':1, 'pin_memory':True}\n",
    "\n",
    "train_loader = torch.utils.data.DataLoader(\n",
    "    datasets.MNIST('../data',train=True,download=True,\n",
    "                   transform=transforms.ToTensor()),\n",
    "    batch_size=batch_size,shuffle=True,**kwargs)\n",
    "\n",
    "test_loader = torch.utils.data.DataLoader(\n",
    "    datasets.MNIST('../data',train=False,transform=transforms.ToTensor()),\n",
    "    batch_size=batch_size,shuffle=True,**kwargs)\n"
   ],
   "metadata": {
    "collapsed": false,
    "pycharm": {
     "name": "#%%\n"
    }
   }
  },
  {
   "cell_type": "code",
   "execution_count": 275,
   "outputs": [],
   "source": [
    "def initialize_centers():\n",
    "\n",
    "    mu_c = torch.randn(1,clatent_dim,K_model_cluster,device=device)\n",
    "    logvar_c = torch.zeros(1,clatent_dim,K_model_cluster).to(device)\n",
    "    inv_sm_pi_c = torch.zeros(1,1,K_model_cluster).to(device)\n",
    "\n",
    "    return mu_c,logvar_c,inv_sm_pi_c"
   ],
   "metadata": {
    "collapsed": false,
    "pycharm": {
     "name": "#%%\n"
    }
   }
  },
  {
   "cell_type": "code",
   "execution_count": 276,
   "outputs": [
    {
     "data": {
      "text/plain": "(torch.Size([1, 5, 10]), torch.Size([1, 5, 10]), torch.Size([1, 1, 10]))"
     },
     "execution_count": 276,
     "metadata": {},
     "output_type": "execute_result"
    }
   ],
   "source": [
    "\n",
    "\n",
    "#zs_g,ts_g,mus_g,logvars_g = take_latents()\n",
    "mu_c_g,logvar_c_g,inv_sm_pi_c_g = initialize_centers()\n",
    "#mu_c_g,logvar_c_g,pi_c_g,Q_c_g,gamma_c_g,log_P_g = gauss(mus_g,logvars_g,mu_c_g,logvar_c_g,pi_c_g,50)\n",
    "mu_c_g.shape,logvar_c_g.shape,inv_sm_pi_c_g.shape\n",
    "#mu_c_g,logvar_c_g,pi_c_g,Q_c_g,gamma_c_g,log_P_g = gauss(mus_g,logvars_g,mu_c_g,logvar_c_g,pi_c_g,50)"
   ],
   "metadata": {
    "collapsed": false,
    "pycharm": {
     "name": "#%%\n"
    }
   }
  },
  {
   "cell_type": "code",
   "execution_count": 277,
   "outputs": [
    {
     "data": {
      "text/plain": "tensor([[[0., 0., 0., 0., 0., 0., 0., 0., 0., 0.]]], device='cuda:0',\n       requires_grad=True)"
     },
     "execution_count": 277,
     "metadata": {},
     "output_type": "execute_result"
    }
   ],
   "source": [
    "mu_c_g.requires_grad_(True)\n",
    "logvar_c_g.requires_grad_(True)\n",
    "inv_sm_pi_c_g.requires_grad_(True)"
   ],
   "metadata": {
    "collapsed": false,
    "pycharm": {
     "name": "#%%\n"
    }
   }
  },
  {
   "cell_type": "code",
   "execution_count": 278,
   "outputs": [
    {
     "data": {
      "text/plain": "(tensor([[[-0.3976, -0.0237, -0.9736,  1.7674, -0.5137,  1.1360, -1.0946,\n           -0.2450, -1.1958,  0.9258],\n          [ 0.7890, -1.1392,  1.1317,  0.8032,  1.4857, -1.8396,  0.3277,\n           -0.3966,  0.0811,  1.4120],\n          [ 0.5562, -0.2617, -1.0210,  1.7120,  1.5729, -0.1561,  0.1589,\n           -1.1689, -0.2868,  0.6142],\n          [-0.7980, -0.4687, -0.6695, -0.9153,  1.7357,  0.6435,  0.3061,\n           -0.1708, -0.0099, -0.7519],\n          [ 1.3277,  2.1966, -0.1500,  0.2244,  1.6664, -0.1601, -0.9196,\n            0.9353, -0.4248, -1.2664]]], device='cuda:0', requires_grad=True),\n tensor([[[0., 0., 0., 0., 0., 0., 0., 0., 0., 0.],\n          [0., 0., 0., 0., 0., 0., 0., 0., 0., 0.],\n          [0., 0., 0., 0., 0., 0., 0., 0., 0., 0.],\n          [0., 0., 0., 0., 0., 0., 0., 0., 0., 0.],\n          [0., 0., 0., 0., 0., 0., 0., 0., 0., 0.]]], device='cuda:0',\n        requires_grad=True),\n tensor([[[0., 0., 0., 0., 0., 0., 0., 0., 0., 0.]]], device='cuda:0',\n        requires_grad=True))"
     },
     "execution_count": 278,
     "metadata": {},
     "output_type": "execute_result"
    }
   ],
   "source": [
    "mu_c_g,logvar_c_g,inv_sm_pi_c_g\n",
    "#F.softmax(inv_sm_pi_c_g,dim=0)"
   ],
   "metadata": {
    "collapsed": false,
    "pycharm": {
     "name": "#%%\n"
    }
   }
  },
  {
   "cell_type": "code",
   "execution_count": 279,
   "outputs": [],
   "source": [
    "class VAE(nn.Module):\n",
    "    def __init__(self):\n",
    "        super(VAE, self).__init__()\n",
    "\n",
    "        self.input_layer = nn.Linear(input_dim,en_hidden1_dim)##728 => 500 for MNIST\n",
    "        self.encode1_layer = nn.Linear(en_hidden1_dim,en_hidden2_dim)##500 => 500 for MNIST\n",
    "        self.encode2_layer = nn.Linear(en_hidden2_dim,en_hidden3_dim)##500 => 2000 for MNIST\n",
    "        self.mu_layer = nn.Linear(en_hidden3_dim,latent_dim)##2000 => 10 for MNIST\n",
    "        self.std_layer = nn.Linear(en_hidden3_dim,latent_dim)##2000 => 10 for MNIST\n",
    "        self.decode1_layer = nn.Linear(latent_dim,de_hidden1_dim)##10 => 2000 for MNIST\n",
    "        self.decode2_layer = nn.Linear(de_hidden1_dim,de_hidden2_dim)##2000 => 500 for MNIST\n",
    "        self.decode3_layer = nn.Linear(de_hidden2_dim,de_hidden3_dim)##500 => 500 for MNIST\n",
    "        self.output_layer = nn.Linear(de_hidden3_dim,output_dim)##500 => 728 for MNIST\n",
    "\n",
    "    def encode(self, x):\n",
    "        en_h1 = F.relu(self.input_layer(x))\n",
    "        en_h2 = F.relu(self.encode1_layer(en_h1))\n",
    "        en_h3 = F.relu(self.encode2_layer(en_h2))\n",
    "        return self.mu_layer(en_h3), self.std_layer(en_h3)\n",
    "    #入力から中心と分散の対数を作っている\n",
    "\n",
    "\n",
    "    def reparameterize(self,mu,logvar):\n",
    "        std = torch.exp(0.5*logvar)\n",
    "        eps = torch.randn_like(std)\n",
    "        #torch.randn_like(std)はstdと同じ次元の正規乱数を与えている。N(0,1)**size(std).ただし、標準偏差は対角的。\n",
    "        return mu + eps*std\n",
    "    #zの値を確率的に作っている。\n",
    "\n",
    "    def decode(self,z):\n",
    "        de_h1 = F.relu(self.decode1_layer(z))\n",
    "        de_h2 = F.relu(self.decode2_layer(de_h1))\n",
    "        de_h3 = F.relu(self.decode3_layer(de_h2))\n",
    "        return torch.sigmoid(self.output_layer(de_h3))\n",
    "    #zからNNを通したあとに、sigmoidで押し込んでxの値を作っている\n",
    "\n",
    "\n",
    "    def forward(self, x):\n",
    "        mu, logvar = self.encode(x.view(-1,784))\n",
    "        z = self.reparameterize(mu, logvar)\n",
    "        return self.decode(z),mu,logvar,z\n",
    "    #出力はxの予測値とzを算出するときの中心と分散になっている\n",
    "\n",
    "\n",
    "model = VAE().to(device)\n",
    "\n",
    "optimizer = optim.Adam(model.parameters(),lr=0.002)\n",
    "scheduler = torch.optim.lr_scheduler.MultiStepLR(optimizer,milestones=[20,40,60,80,100,120,140,160,180,200,220,240,260],gamma=0.9)\n",
    "\n"
   ],
   "metadata": {
    "collapsed": false,
    "pycharm": {
     "name": "#%%\n"
    }
   }
  },
  {
   "cell_type": "code",
   "execution_count": 280,
   "outputs": [],
   "source": [
    "class Clustering_VAE(nn.Module):\n",
    "    def __init__(self):\n",
    "        super(Clustering_VAE, self).__init__()\n",
    "\n",
    "        self.input_layer = nn.Linear(latent_dim,cen_hidden1_dim)##728 => 500 for MNIST\n",
    "        self.encode1_layer = nn.Linear(cen_hidden1_dim,cen_hidden2_dim)##500 => 500 for MNIST\n",
    "        self.encode2_layer = nn.Linear(cen_hidden2_dim,cen_hidden3_dim)##500 => 2000 for MNIST\n",
    "        self.mu_layer = nn.Linear(cen_hidden3_dim,clatent_dim)##2000 => 10 for MNIST\n",
    "        self.std_layer = nn.Linear(cen_hidden3_dim,clatent_dim)##2000 => 10 for MNIST\n",
    "        self.decode1_layer = nn.Linear(clatent_dim,cde_hidden1_dim)##10 => 2000 for MNIST\n",
    "        self.decode2_layer = nn.Linear(cde_hidden1_dim,cde_hidden2_dim)##2000 => 500 for MNIST\n",
    "        self.decode3_layer = nn.Linear(cde_hidden2_dim,cde_hidden3_dim)##500 => 500 for MNIST\n",
    "        self.output_layer = nn.Linear(cde_hidden3_dim,latent_dim)##500 => 728 for MNIST\n",
    "\n",
    "    def encode(self, x):\n",
    "        en_h1 = F.relu(self.input_layer(x))\n",
    "        en_h2 = F.relu(self.encode1_layer(en_h1))\n",
    "        en_h3 = F.relu(self.encode2_layer(en_h2))\n",
    "        return self.mu_layer(en_h3), self.std_layer(en_h3)\n",
    "    #入力から中心と分散の対数を作っている\n",
    "\n",
    "\n",
    "    def reparameterize(self,mu,logvar):\n",
    "        std = torch.exp(0.5*logvar)\n",
    "        eps = torch.randn_like(std)\n",
    "        #torch.randn_like(std)はstdと同じ次元の正規乱数を与えている。N(0,1)**size(std).ただし、標準偏差は対角的。\n",
    "        return mu + eps*std\n",
    "    #zの値を確率的に作っている。\n",
    "\n",
    "    def decode(self,z):\n",
    "        de_h1 = F.relu(self.decode1_layer(z))\n",
    "        de_h2 = F.relu(self.decode2_layer(de_h1))\n",
    "        de_h3 = F.relu(self.decode3_layer(de_h2))\n",
    "        return self.output_layer(de_h3)\n",
    "\n",
    "\n",
    "    def forward(self, x):\n",
    "        mu, logvar = self.encode(x)\n",
    "        z = self.reparameterize(mu, logvar)\n",
    "        return self.decode(z),mu,logvar,z\n",
    "    #出力はxの予測値とzを算出するときの中心と分散になっている\n",
    "\n",
    "\n",
    "clustering_model = Clustering_VAE().to(device)\n",
    "\n",
    "cmodel_optimizer = optim.Adam(clustering_model.parameters(),lr=0.002)\n",
    "cmodel_scheduler = torch.optim.lr_scheduler.MultiStepLR(cmodel_optimizer,milestones=[20,40,60,80,100,120,140,160,180,200,220,240,260],gamma=0.9)\n",
    "\n",
    "#optimizer_clustering = optim.Adam([mu_c_g,logvar_c_g,inv_sm_pi_c_g],lr=0.002)\n",
    "optimizer_clustering = optim.Adam([mu_c_g,logvar_c_g],lr=0.002)\n",
    "scheduler_clustering = torch.optim.lr_scheduler.MultiStepLR(optimizer_clustering,milestones=[20,40,60,80,100,120,140,160,180,200,220,240,260],gamma=0.9)"
   ],
   "metadata": {
    "collapsed": false,
    "pycharm": {
     "name": "#%%\n"
    }
   }
  },
  {
   "cell_type": "code",
   "execution_count": 281,
   "outputs": [],
   "source": [
    "def take_latents():\n",
    "    zs = torch.empty(0,latent_dim,1).to(device).requires_grad_(False)\n",
    "    ts = torch.empty(0,dtype=torch.long).to(device).requires_grad_(False)\n",
    "    mus = torch.empty(0,latent_dim,1).to(device).requires_grad_(False)\n",
    "    logvars = torch.empty(0,latent_dim,1).to(device).requires_grad_(False)\n",
    "\n",
    "    #for x, t in test_loader:\n",
    "    for batch_idx, (x,t) in enumerate(test_loader):\n",
    "    # original。xがデータ、tがラベル。\n",
    "\n",
    "    # generate from x\n",
    "        if batch_idx < take_latent_max:\n",
    "            x = x.to(device)\n",
    "            with torch.no_grad():\n",
    "                recon_batch,mu,logvar, z = model(x)\n",
    "            t = t.to(device)\n",
    "            zs = torch.cat((zs,z.view(-1,latent_dim,1)),0)\n",
    "            ts = torch.cat((ts,t),0)\n",
    "            mus = torch.cat((mus,mu.view(-1,latent_dim,1)),0)\n",
    "            logvars = torch.cat((logvars,logvar.view(-1,latent_dim,1)),0)\n",
    "\n",
    "    return zs,ts,mus,logvars"
   ],
   "metadata": {
    "collapsed": false,
    "pycharm": {
     "name": "#%%\n"
    }
   }
  },
  {
   "cell_type": "code",
   "execution_count": 282,
   "outputs": [],
   "source": [
    "def take_clatents():\n",
    "    zs = torch.empty(0,clatent_dim,1).to(device).requires_grad_(False)\n",
    "    ts = torch.empty(0,dtype=torch.long).to(device).requires_grad_(False)\n",
    "    mus = torch.empty(0,clatent_dim,1).to(device).requires_grad_(False)\n",
    "    logvars = torch.empty(0,clatent_dim,1).to(device).requires_grad_(False)\n",
    "#zs = []\n",
    "#ts = []\n",
    "\n",
    "#ts.dtype = torch.int\n",
    "\n",
    "    #for x, t in test_loader:\n",
    "    for batch_idx, (x,t) in enumerate(test_loader):\n",
    "    # original。xがデータ、tがラベル。\n",
    "    #for i, im in enumerate(x.view(-1, 28, 28).detach().numpy()[:10]):\n",
    "    #  ax = fig.add_subplot(3, 10, i+1, xticks=[], yticks=[])\n",
    "    #  ax.imshow(im, 'gray')\n",
    "    #x = x.to(device)\n",
    "    # generate from x\n",
    "        if batch_idx < take_latent_max:\n",
    "            x = x.to(device)\n",
    "            with torch.no_grad():\n",
    "                recon_batch,mu,logvar, z = model(x)\n",
    "                crecon_batch, cmu, clogvar,cz = clustering_model(mu)\n",
    "            t = t.to(device)\n",
    "    #zs.append(z)\n",
    "    #ts.append(t)\n",
    "            zs = torch.cat((zs,cz.view(-1,clatent_dim,1)),0)\n",
    "            ts = torch.cat((ts,t),0)\n",
    "            mus = torch.cat((mus,cmu.view(-1,clatent_dim,1)),0)\n",
    "            logvars = torch.cat((logvars,clogvar.view(-1,clatent_dim,1)),0)\n",
    "    #y = y.view(-1, 28, 28)\n",
    "    #for i, im in enumerate(y.cpu().detach().numpy()[:10]):\n",
    "     # ax = fig.add_subplot(3, 10, i+11, xticks=[], yticks=[])\n",
    "     # ax.imshow(im, 'gray')\n",
    "    mus = torch.cat((mus,mu_c_g.permute(2,1,0)),0)\n",
    "    ts = torch.cat((ts,torch.arange(-1,-K_model_cluster-1,-1).to(device)),0)\n",
    "    return zs,ts,mus,logvars"
   ],
   "metadata": {
    "collapsed": false,
    "pycharm": {
     "name": "#%%\n"
    }
   }
  },
  {
   "cell_type": "code",
   "execution_count": 283,
   "outputs": [],
   "source": [
    "def gauss(mus,logvars,mu_c,logvar_c,inv_sm_pi_c,iter):\n",
    "\n",
    "    for i in range(iter):\n",
    "        with torch.no_grad():\n",
    "            Q_c = logvar_c+(logvars.exp()+(mus-mu_c).pow(2))/(logvar_c.exp())\n",
    "\n",
    "            gamma_c = (F.softmax(inv_sm_pi_c,dim=2)*((-0.5*Q_c.sum(1,keepdim=True)).exp()))/((F.softmax(inv_sm_pi_c,dim=2)*((-0.5*Q_c.sum(1,keepdim=True)).exp())).sum(2,keepdim=True))\n",
    "\n",
    "            N_c = gamma_c.sum(0,keepdim=True)\n",
    "            log_P = (((F.softmax(inv_sm_pi_c,dim=2)*((-0.5*Q_c.sum(1,keepdim=True)).exp())).sum(2).squeeze()).log()).sum()/((Q_c.shape)[0])\n",
    "            pi_c= N_c/(N_c.sum())\n",
    "            mu_c=(gamma_c*mus).sum(0,keepdim=True)/N_c\n",
    "            logvar_c=((gamma_c*((mus-mu_c).pow(2)+logvars.exp())).sum(0,keepdim=True)/N_c).log()\n",
    "\n",
    "\n",
    "    return mu_c,logvar_c,pi_c,Q_c,gamma_c,log_P\n"
   ],
   "metadata": {
    "collapsed": false,
    "pycharm": {
     "name": "#%%\n"
    }
   }
  },
  {
   "cell_type": "code",
   "execution_count": 284,
   "outputs": [],
   "source": [
    "def drawpoints(mus_numpy,ts_numpy):\n",
    "    colors = [\"red\", \"green\", \"blue\", \"orange\", \"purple\", \"brown\", \"fuchsia\", \"grey\", \"olive\", \"lightblue\",\"red\", \"green\", \"blue\", \"orange\", \"purple\", \"brown\", \"fuchsia\", \"grey\", \"olive\", \"lightblue\"]\n",
    "    for p,l in zip(points,ts_numpy):\n",
    "        plt.scatter(p[0],p[1],marker=\"${}$\".format(l),c=colors[l])\n",
    "\n",
    "cm = plt.cm.get_cmap('tab20')\n",
    "def drawpoints_with_centers(mus_numpy,ts_numpy,center_numpy,center_t_numpy):\n",
    "    for p,l in zip(mus_numpy,ts_numpy):\n",
    "        plt.scatter(p[0],p[1],marker=\"${}$\".format(l),color=cm.colors[l])\n",
    "    for p,l in zip(center_numpy,center_t_numpy):\n",
    "        plt.scatter(p[0],p[1],facecolors='none',edgecolors='red',s=200)\n",
    "    for p,l in zip(center_numpy,center_t_numpy):\n",
    "        plt.scatter(p[0],p[1],marker=\"${}$\".format(l),color='black',s=50)\n",
    "\n",
    "#    plt.xlim(-4,4)\n",
    "#    plt.ylim(-4,4)\n",
    "    plt.show()"
   ],
   "metadata": {
    "collapsed": false,
    "pycharm": {
     "name": "#%%\n"
    }
   }
  },
  {
   "cell_type": "code",
   "execution_count": 285,
   "outputs": [],
   "source": [
    "def show_generated_samples():\n",
    "    with torch.no_grad():\n",
    "            #sample_dist = MultivariateNormal(loc=mu_c[:,:,i],covariance_matrix=torch.diag(logvar_c[0,:,i].exp()))\n",
    "    #mu_distribution = MultivariateNormal(loc=mu_center.cpu(),covariance_matrix=cov_mus.cpu())\n",
    "            #sample = sample_dist.sample([64,])\n",
    "        sample = torch.randn(64,latent_dim).to(device)\n",
    "        #20次元の潜在空間のデータを64個作成して、GPUに送る\n",
    "        sample = model.decode(sample).cpu()\n",
    "        #ランダムな潜在変数から画像を生成する。\n",
    "        save_image(sample.view(64,1,28,28),save_folder+'/sample.png',nrow=8)\n",
    "        #生成した６４個のデータを記録しておく"
   ],
   "metadata": {
    "collapsed": false,
    "pycharm": {
     "name": "#%%\n"
    }
   }
  },
  {
   "cell_type": "code",
   "execution_count": 286,
   "outputs": [],
   "source": [
    "def show_generated_samples_c(mu_c,logvar_c):\n",
    "    for i in range(K_model_cluster):\n",
    "        with torch.no_grad():\n",
    "            sample_dist = MultivariateNormal(loc=mu_c[:,:,i],covariance_matrix=torch.diag(logvar_c[0,:,i].exp()))\n",
    "    #mu_distribution = MultivariateNormal(loc=mu_center.cpu(),covariance_matrix=cov_mus.cpu())\n",
    "            sample = sample_dist.sample([64,])\n",
    "#    sample = torch.randn(64,latent_dim).to(device)\n",
    "        #20次元の潜在空間のデータを64個作成して、GPUに送る\n",
    "            sample = model.decode(sample).cpu()\n",
    "        #ランダムな潜在変数から画像を生成する。\n",
    "            save_image(sample.view(64,1,28,28),save_folder+'/sample_c_' + str(i) + '.png',nrow=8)\n",
    "        #生成した６４個のデータを記録しておく"
   ],
   "metadata": {
    "collapsed": false,
    "pycharm": {
     "name": "#%%\n"
    }
   }
  },
  {
   "cell_type": "code",
   "execution_count": 287,
   "outputs": [],
   "source": [
    "def q_exponential(x,n):\n",
    "    if n==0:\n",
    "        return x.exp()\n",
    "    else:\n",
    "        return (1. - x/n).pow(-n)\n",
    "\n",
    "def q_log(x,n):\n",
    "    if n==0:\n",
    "        return x.log()\n",
    "    else:\n",
    "        return n*(x.pow(1./n)-1.)"
   ],
   "metadata": {
    "collapsed": false,
    "pycharm": {
     "name": "#%%\n"
    }
   }
  },
  {
   "cell_type": "code",
   "execution_count": 288,
   "outputs": [],
   "source": [
    "def loss_function_c(recon_x,x,mus_f,logvars_f,mu_c_f,logvar_c_f,inv_sm_pi_c_f,cmus_f,clogvars_f,recon_z):\n",
    "    BCE = F.binary_cross_entropy(recon_x,x.view(-1,input_dim),reduction='sum')\n",
    "    KLD = -0.5*torch.sum(1+logvars_f-mus_f.pow(2)-logvars_f.exp())\n",
    "    MSE = (((recon_z-mus_f).pow(2))/(logvars_f.exp())).sum()\n",
    "    #KLD = -(q_log((F.softmax(inv_sm_pi_c_f,dim=2)*(q_exponential(-0.5*((-1.+logvar_c_f-logvars_f+(logvars_f.exp()+(mus_f-mu_c_f).pow(2))/(logvar_c_f.exp())).sum(1,keepdim=True)),qn_value))).sum(2,keepdim=True),qn_value)).sum()\n",
    "    cKLD = -(((F.softmax(inv_sm_pi_c_f,dim=2)*((-0.5*((-1.+logvar_c_f-clogvars_f+(clogvars_f.exp()+(cmus_f-mu_c_f).pow(2))/(logvar_c_f.exp())).sum(1,keepdim=True))).exp())).sum(2,keepdim=True)+stabilizer_eps).log()).sum()\n",
    "#    cKLD = (((-0.5*((-1.+logvar_c_f-clogvars_f).sum(1,keepdim=True)).exp()).sum(2,keepdim=True)).log()).sum()\n",
    "#    cKLD = -(((cmus_f-mu_c_f).pow(2))/(logvar_c_f.exp())).sum()\n",
    "\n",
    "    return BCE+beta*KLD+mse_alpha*MSE+cbeta*cKLD"
   ],
   "metadata": {
    "collapsed": false,
    "pycharm": {
     "name": "#%%\n"
    }
   }
  },
  {
   "cell_type": "code",
   "execution_count": 289,
   "outputs": [],
   "source": [
    "def train_c(epoch,mu_c,logvar_c,inv_sm_pi_c):\n",
    "    model.train()\n",
    "    train_loss = 0\n",
    "    for batch_idx, (data,_) in enumerate(train_loader):\n",
    "        #ラベルは使わないようだ\n",
    "        data = data.to(device)\n",
    "        #データをGPUにおくる\n",
    "        optimizer.zero_grad()\n",
    "        cmodel_optimizer.zero_grad()\n",
    "        optimizer_clustering.zero_grad()\n",
    "        #傾きの初期化\n",
    "        recon_batch, mu, logvar,z_data = model(data)\n",
    "        #VAEからバッヂ分のデータと中心と分散のログを受け取る\n",
    "\n",
    "        crecon_batch, cmu, clogvar,cz_data = clustering_model(mu)\n",
    "        #小VAEからバッヂ分のデータと中心と分散のログを受け取る\n",
    "\n",
    "\n",
    "        loss = loss_function_c(recon_x=recon_batch,x=data,mus_f=mu.view(-1,latent_dim,1),logvars_f=logvar.view(-1,latent_dim,1),mu_c_f=mu_c,logvar_c_f=logvar_c,inv_sm_pi_c_f=inv_sm_pi_c,cmus_f=cmu.view(-1,clatent_dim,1),clogvars_f=clogvar.view(-1,clatent_dim,1),recon_z=crecon_batch.view(-1,latent_dim,1))\n",
    "        #バッヂ分のロスを計算。バッヂ数で割っていないようだ。書き出しのときにデータ数で割っている。\n",
    "        loss.backward()\n",
    "        #傾きを計算\n",
    "        train_loss+= loss.item()\n",
    "        optimizer.step()\n",
    "        #NNパラメータの更新\n",
    "        cmodel_optimizer.step()\n",
    "        #小VAEパラメーターの更新\n",
    "        optimizer_clustering.step()\n",
    "        #NNクラスタリングパラメータの更新\n",
    "\n",
    "\n",
    "#        print(mu_c_g)\n",
    "#        print('var_c='.format(logvar_c_g.exp()))\n",
    "\n",
    "#        print('mu={}'.format(mu.view(-1,latent_dim,1).squeeze()))\n",
    "#        print('prec_c={}'.format((1./logvar_c_g.exp()).squeeze()))\n",
    "#        print('quad={}'.format(((((mu.view(-1,latent_dim,1)-mu_c_g).pow(2))/(logvar_c_g.exp())).sum(1)).squeeze()))\n",
    "#        print('quadvar={}'.format((((logvar.view(-1,latent_dim,1).exp())/(logvar_c_g.exp())).sum(1)).squeeze()))\n",
    "#        print('expDKL={}'.format((-0.5*((logvar_c_g+(logvar.view(-1,latent_dim,1).exp()+(mu.view(-1,latent_dim,1)-mu_c_g).pow(2))/(logvar_c_g.exp())).sum(1,keepdim=True))).exp().squeeze()))\n",
    "#        print('logDKL={}'.format((((F.softmax(inv_sm_pi_c_g,dim=2)*((-0.5*((logvar_c_g+(logvar.view(-1,latent_dim,1).exp()+(mu.view(-1,latent_dim,1)-mu_c_g).pow(2))/(logvar_c_g.exp())).sum(1,keepdim=True))).exp())).sum(2,keepdim=True)).log()).squeeze()))\n",
    "\n",
    "        if batch_idx % log_interval ==0:\n",
    "            #一定間隔でロスを書き出し。epochはここでしか使っていないようだ。len()は最初の次元の大きさを出すのでバッヂの大きさ。\n",
    "            print('Train Epoch: {} [{}/{} ({:.0f}%)]\\tLoss: {:.6f}'.format(\n",
    "              epoch,batch_idx*len(data),len(train_loader.dataset),\n",
    "                100.*batch_idx/len(train_loader),\n",
    "                loss.item()/len(data)\n",
    "            ))\n",
    "\n",
    "#        if batch_idx == 5:\n",
    "#            break"
   ],
   "metadata": {
    "collapsed": false,
    "pycharm": {
     "name": "#%%\n"
    }
   }
  },
  {
   "cell_type": "code",
   "execution_count": 290,
   "outputs": [],
   "source": [
    "def test_c(epoch,mu_c,logvar_c,inv_sm_pi_c):\n",
    "    model.eval()\n",
    "    test_loss = 0\n",
    "    with torch.no_grad():#バックプロパゲーションを行わないから、微分情報を残さない\n",
    "        for i, (data, _) in enumerate(test_loader):\n",
    "            #テストデータを取り出す。ラベルはいらない。\n",
    "            data =data.to(device)\n",
    "            #データをGPUに送る\n",
    "            recon_batch, mu, logvar,z_data = model(data)\n",
    "            #データからバッヂ分の再現画像と中心と分散の対数を出している。\n",
    "            crecon_batch, cmu, clogvar,cz_data = clustering_model(mu)\n",
    "            #小VAEからバッヂ分のデータと中心と分散のログを受け取る\n",
    "\n",
    "            test_loss += loss_function_c(recon_x=recon_batch,x=data,mus_f=mu.view(-1,latent_dim,1),logvars_f=logvar.view(-1,latent_dim,1),mu_c_f=mu_c,logvar_c_f=logvar_c,inv_sm_pi_c_f=inv_sm_pi_c,cmus_f=cmu.view(-1,clatent_dim,1),clogvars_f=clogvar.view(-1,clatent_dim,1),recon_z=crecon_batch.view(-1,latent_dim,1)).item()\n",
    "            #テストデータでのロスを出している\n",
    "            if i == 0:\n",
    "                #はじめのバッヂについて\n",
    "                n = min(data.size(0),16)\n",
    "                #nをバッヂのデータ数か８との小さい方として\n",
    "                comparizon = torch.cat([data[:n],recon_batch.view(batch_size,1,28,28)[:n]])\n",
    "                #元データと再現データを並べる\n",
    "                save_image(comparizon.cpu(),'./'+save_folder+'/reconstruction_c_' + str(epoch) + '.png',nrow=n)\n",
    "\n",
    "                test_loss /= len(test_loader.dataset)\n",
    "                print('====> Test set loss: {:.4f}'.format(test_loss))"
   ],
   "metadata": {
    "collapsed": false,
    "pycharm": {
     "name": "#%%\n"
    }
   }
  },
  {
   "cell_type": "code",
   "execution_count": 291,
   "outputs": [
    {
     "data": {
      "text/plain": "\"\\ndef train_c_epoch(epochs,mu_c,logvar_c,inv_sm_pi_c):\\n    for epoch in range(1, epochs +1):\\n        train_c(epoch,mu_c,logvar_c,inv_sm_pi_c)\\n        test_c(epoch,mu_c,logvar_c,inv_sm_pi_c)\\n        with torch.no_grad():\\n            sample = torch.randn(64,latent_dim).to(device)\\n        #20次元の潜在空間のデータを64個作成して、GPUに送る\\n            sample = model.decode(sample).cpu()\\n        #ランダムな潜在変数から画像を生成する。\\n            save_image(sample.view(64,1,28,28),save_folder+'/sample_c_epoch_' + str(epoch) + '.png',nrow=8)\\n        #生成した６４個のデータを記録しておく\\n\""
     },
     "execution_count": 291,
     "metadata": {},
     "output_type": "execute_result"
    }
   ],
   "source": [
    "\"\"\"\n",
    "def train_c_epoch(epochs,mu_c,logvar_c,inv_sm_pi_c):\n",
    "    for epoch in range(1, epochs +1):\n",
    "        train_c(epoch,mu_c,logvar_c,inv_sm_pi_c)\n",
    "        test_c(epoch,mu_c,logvar_c,inv_sm_pi_c)\n",
    "        with torch.no_grad():\n",
    "            sample = torch.randn(64,latent_dim).to(device)\n",
    "        #20次元の潜在空間のデータを64個作成して、GPUに送る\n",
    "            sample = model.decode(sample).cpu()\n",
    "        #ランダムな潜在変数から画像を生成する。\n",
    "            save_image(sample.view(64,1,28,28),save_folder+'/sample_c_epoch_' + str(epoch) + '.png',nrow=8)\n",
    "        #生成した６４個のデータを記録しておく\n",
    "\"\"\""
   ],
   "metadata": {
    "collapsed": false,
    "pycharm": {
     "name": "#%%\n"
    }
   }
  },
  {
   "cell_type": "code",
   "execution_count": 292,
   "outputs": [
    {
     "data": {
      "text/plain": "(tensor([[[-0.3976, -0.0237, -0.9736,  1.7674, -0.5137,  1.1360, -1.0946,\n           -0.2450, -1.1958,  0.9258],\n          [ 0.7890, -1.1392,  1.1317,  0.8032,  1.4857, -1.8396,  0.3277,\n           -0.3966,  0.0811,  1.4120],\n          [ 0.5562, -0.2617, -1.0210,  1.7120,  1.5729, -0.1561,  0.1589,\n           -1.1689, -0.2868,  0.6142],\n          [-0.7980, -0.4687, -0.6695, -0.9153,  1.7357,  0.6435,  0.3061,\n           -0.1708, -0.0099, -0.7519],\n          [ 1.3277,  2.1966, -0.1500,  0.2244,  1.6664, -0.1601, -0.9196,\n            0.9353, -0.4248, -1.2664]]], device='cuda:0', requires_grad=True),\n tensor([[[0., 0., 0., 0., 0., 0., 0., 0., 0., 0.],\n          [0., 0., 0., 0., 0., 0., 0., 0., 0., 0.],\n          [0., 0., 0., 0., 0., 0., 0., 0., 0., 0.],\n          [0., 0., 0., 0., 0., 0., 0., 0., 0., 0.],\n          [0., 0., 0., 0., 0., 0., 0., 0., 0., 0.]]], device='cuda:0',\n        requires_grad=True),\n tensor([[[0.1000, 0.1000, 0.1000, 0.1000, 0.1000, 0.1000, 0.1000, 0.1000,\n           0.1000, 0.1000]]], device='cuda:0', grad_fn=<SoftmaxBackward>))"
     },
     "execution_count": 292,
     "metadata": {},
     "output_type": "execute_result"
    }
   ],
   "source": [
    "\n",
    "mu_c_g,logvar_c_g,F.softmax(inv_sm_pi_c_g,dim=2)"
   ],
   "metadata": {
    "collapsed": false,
    "pycharm": {
     "name": "#%%\n"
    }
   }
  },
  {
   "cell_type": "code",
   "execution_count": 293,
   "outputs": [],
   "source": [
    "#infomax_alpha = 2.\n",
    "#logvar_c_g.shape\n",
    "#cbeta=0.1"
   ],
   "metadata": {
    "collapsed": false,
    "pycharm": {
     "name": "#%%\n"
    }
   }
  },
  {
   "cell_type": "code",
   "execution_count": 310,
   "outputs": [
    {
     "name": "stdout",
     "output_type": "stream",
     "text": [
      "Train Epoch: 0 [0/60000 (0%)]\tLoss: 105.652852\n",
      "====> Test set loss: 1.1044\n",
      "Train Epoch: 1 [0/60000 (0%)]\tLoss: 110.769063\n",
      "====> Test set loss: 1.1561\n",
      "Train Epoch: 2 [0/60000 (0%)]\tLoss: 103.408330\n",
      "====> Test set loss: 1.1883\n",
      "Train Epoch: 3 [0/60000 (0%)]\tLoss: 111.954512\n",
      "====> Test set loss: 1.1571\n",
      "Train Epoch: 4 [0/60000 (0%)]\tLoss: 112.242979\n",
      "====> Test set loss: 1.2036\n",
      "Train Epoch: 5 [0/60000 (0%)]\tLoss: 116.950205\n",
      "====> Test set loss: 1.1388\n",
      "Train Epoch: 6 [0/60000 (0%)]\tLoss: 114.636904\n",
      "====> Test set loss: 1.0884\n",
      "Train Epoch: 7 [0/60000 (0%)]\tLoss: 113.568066\n",
      "====> Test set loss: 1.0701\n",
      "Train Epoch: 8 [0/60000 (0%)]\tLoss: 111.347197\n",
      "====> Test set loss: 1.1549\n",
      "Train Epoch: 9 [0/60000 (0%)]\tLoss: 114.348828\n",
      "====> Test set loss: 1.1172\n",
      "Train Epoch: 10 [0/60000 (0%)]\tLoss: 110.629424\n",
      "====> Test set loss: 1.1475\n",
      "Train Epoch: 11 [0/60000 (0%)]\tLoss: 109.981680\n",
      "====> Test set loss: 1.1512\n",
      "Train Epoch: 12 [0/60000 (0%)]\tLoss: 114.384131\n",
      "====> Test set loss: 1.1886\n",
      "Train Epoch: 13 [0/60000 (0%)]\tLoss: 111.778535\n",
      "====> Test set loss: 1.2022\n",
      "Train Epoch: 14 [0/60000 (0%)]\tLoss: 110.323965\n",
      "====> Test set loss: 1.1770\n",
      "Train Epoch: 15 [0/60000 (0%)]\tLoss: 108.574434\n",
      "====> Test set loss: 1.1354\n",
      "Train Epoch: 16 [0/60000 (0%)]\tLoss: 110.808389\n",
      "====> Test set loss: 1.0538\n",
      "Train Epoch: 17 [0/60000 (0%)]\tLoss: 115.420195\n",
      "====> Test set loss: 1.1587\n",
      "Train Epoch: 18 [0/60000 (0%)]\tLoss: 117.068174\n",
      "====> Test set loss: 1.1634\n",
      "Train Epoch: 19 [0/60000 (0%)]\tLoss: 105.772861\n",
      "====> Test set loss: 1.1533\n",
      "Train Epoch: 20 [0/60000 (0%)]\tLoss: 119.301328\n",
      "====> Test set loss: 1.1399\n",
      "Train Epoch: 21 [0/60000 (0%)]\tLoss: 105.341582\n",
      "====> Test set loss: 1.1604\n",
      "Train Epoch: 22 [0/60000 (0%)]\tLoss: 110.434961\n",
      "====> Test set loss: 1.1955\n",
      "Train Epoch: 23 [0/60000 (0%)]\tLoss: 112.132490\n",
      "====> Test set loss: 1.1666\n",
      "Train Epoch: 24 [0/60000 (0%)]\tLoss: 106.894111\n",
      "====> Test set loss: 1.1456\n",
      "Train Epoch: 25 [0/60000 (0%)]\tLoss: 117.533428\n",
      "====> Test set loss: 1.1972\n",
      "Train Epoch: 26 [0/60000 (0%)]\tLoss: 105.123633\n",
      "====> Test set loss: 1.1083\n",
      "Train Epoch: 27 [0/60000 (0%)]\tLoss: 112.998359\n",
      "====> Test set loss: 1.1423\n",
      "Train Epoch: 28 [0/60000 (0%)]\tLoss: 111.719531\n",
      "====> Test set loss: 1.0819\n",
      "Train Epoch: 29 [0/60000 (0%)]\tLoss: 110.371543\n",
      "====> Test set loss: 1.1207\n",
      "Train Epoch: 30 [0/60000 (0%)]\tLoss: 106.398770\n",
      "====> Test set loss: 1.1047\n",
      "Train Epoch: 31 [0/60000 (0%)]\tLoss: 107.421309\n",
      "====> Test set loss: 1.0696\n",
      "Train Epoch: 32 [0/60000 (0%)]\tLoss: 114.709863\n",
      "====> Test set loss: 1.1050\n",
      "Train Epoch: 33 [0/60000 (0%)]\tLoss: 107.904785\n",
      "====> Test set loss: 1.0932\n",
      "Train Epoch: 34 [0/60000 (0%)]\tLoss: 110.990137\n",
      "====> Test set loss: 1.1476\n",
      "Train Epoch: 35 [0/60000 (0%)]\tLoss: 110.252295\n",
      "====> Test set loss: 1.1291\n",
      "Train Epoch: 36 [0/60000 (0%)]\tLoss: 115.024053\n",
      "====> Test set loss: 1.1729\n",
      "Train Epoch: 37 [0/60000 (0%)]\tLoss: 108.085205\n",
      "====> Test set loss: 1.1233\n",
      "Train Epoch: 38 [0/60000 (0%)]\tLoss: 106.952187\n",
      "====> Test set loss: 1.0925\n",
      "Train Epoch: 39 [0/60000 (0%)]\tLoss: 107.603398\n",
      "====> Test set loss: 1.1860\n",
      "Train Epoch: 40 [0/60000 (0%)]\tLoss: 108.794766\n",
      "====> Test set loss: 1.1070\n",
      "Train Epoch: 41 [0/60000 (0%)]\tLoss: 107.533936\n",
      "====> Test set loss: 1.1051\n",
      "Train Epoch: 42 [0/60000 (0%)]\tLoss: 106.801445\n",
      "====> Test set loss: 1.1444\n",
      "Train Epoch: 43 [0/60000 (0%)]\tLoss: 109.268574\n",
      "====> Test set loss: 1.1189\n",
      "Train Epoch: 44 [0/60000 (0%)]\tLoss: 108.164043\n",
      "====> Test set loss: 1.1114\n",
      "Train Epoch: 45 [0/60000 (0%)]\tLoss: 105.093311\n",
      "====> Test set loss: 1.1150\n",
      "Train Epoch: 46 [0/60000 (0%)]\tLoss: 112.771680\n",
      "====> Test set loss: 1.1023\n",
      "Train Epoch: 47 [0/60000 (0%)]\tLoss: 108.506533\n",
      "====> Test set loss: 1.1509\n",
      "Train Epoch: 48 [0/60000 (0%)]\tLoss: 112.671094\n",
      "====> Test set loss: 1.1608\n",
      "Train Epoch: 49 [0/60000 (0%)]\tLoss: 112.943799\n",
      "====> Test set loss: 1.1041\n",
      "Train Epoch: 50 [0/60000 (0%)]\tLoss: 104.606035\n",
      "====> Test set loss: 1.1554\n",
      "Train Epoch: 51 [0/60000 (0%)]\tLoss: 116.949307\n",
      "====> Test set loss: 1.0726\n",
      "Train Epoch: 52 [0/60000 (0%)]\tLoss: 103.716260\n",
      "====> Test set loss: 1.1091\n",
      "Train Epoch: 53 [0/60000 (0%)]\tLoss: 106.381475\n",
      "====> Test set loss: 1.1795\n",
      "Train Epoch: 54 [0/60000 (0%)]\tLoss: 111.606025\n",
      "====> Test set loss: 1.2497\n",
      "Train Epoch: 55 [0/60000 (0%)]\tLoss: 113.326426\n",
      "====> Test set loss: 1.1165\n",
      "Train Epoch: 56 [0/60000 (0%)]\tLoss: 104.382637\n",
      "====> Test set loss: 1.0916\n",
      "Train Epoch: 57 [0/60000 (0%)]\tLoss: 112.692061\n",
      "====> Test set loss: 1.2075\n",
      "Train Epoch: 58 [0/60000 (0%)]\tLoss: 116.259971\n",
      "====> Test set loss: 1.1656\n",
      "Train Epoch: 59 [0/60000 (0%)]\tLoss: 114.011357\n",
      "====> Test set loss: 1.0626\n",
      "Train Epoch: 60 [0/60000 (0%)]\tLoss: 115.809072\n",
      "====> Test set loss: 1.1482\n",
      "Train Epoch: 61 [0/60000 (0%)]\tLoss: 109.773311\n",
      "====> Test set loss: 1.1404\n",
      "Train Epoch: 62 [0/60000 (0%)]\tLoss: 106.268291\n",
      "====> Test set loss: 1.1110\n",
      "Train Epoch: 63 [0/60000 (0%)]\tLoss: 106.899971\n",
      "====> Test set loss: 1.0670\n",
      "Train Epoch: 64 [0/60000 (0%)]\tLoss: 108.886787\n",
      "====> Test set loss: 1.1520\n",
      "Train Epoch: 65 [0/60000 (0%)]\tLoss: 107.287471\n",
      "====> Test set loss: 1.1911\n",
      "Train Epoch: 66 [0/60000 (0%)]\tLoss: 110.547578\n",
      "====> Test set loss: 1.1497\n",
      "Train Epoch: 67 [0/60000 (0%)]\tLoss: 108.645498\n",
      "====> Test set loss: 1.0953\n",
      "Train Epoch: 68 [0/60000 (0%)]\tLoss: 107.893096\n",
      "====> Test set loss: 1.1853\n",
      "Train Epoch: 69 [0/60000 (0%)]\tLoss: 110.138027\n",
      "====> Test set loss: 1.1134\n",
      "Train Epoch: 70 [0/60000 (0%)]\tLoss: 112.931680\n",
      "====> Test set loss: 1.0660\n",
      "Train Epoch: 71 [0/60000 (0%)]\tLoss: 110.396865\n",
      "====> Test set loss: 1.0941\n",
      "Train Epoch: 72 [0/60000 (0%)]\tLoss: 104.467344\n",
      "====> Test set loss: 1.1239\n",
      "Train Epoch: 73 [0/60000 (0%)]\tLoss: 110.240830\n",
      "====> Test set loss: 1.0699\n",
      "Train Epoch: 74 [0/60000 (0%)]\tLoss: 102.812588\n",
      "====> Test set loss: 1.1714\n",
      "Train Epoch: 75 [0/60000 (0%)]\tLoss: 110.609609\n",
      "====> Test set loss: 1.0644\n",
      "Train Epoch: 76 [0/60000 (0%)]\tLoss: 104.996631\n",
      "====> Test set loss: 1.1677\n",
      "Train Epoch: 77 [0/60000 (0%)]\tLoss: 110.865752\n",
      "====> Test set loss: 1.0835\n",
      "Train Epoch: 78 [0/60000 (0%)]\tLoss: 118.776240\n",
      "====> Test set loss: 1.0961\n",
      "Train Epoch: 79 [0/60000 (0%)]\tLoss: 115.378809\n",
      "====> Test set loss: 1.1338\n",
      "Train Epoch: 80 [0/60000 (0%)]\tLoss: 107.951299\n",
      "====> Test set loss: 1.1118\n",
      "Train Epoch: 81 [0/60000 (0%)]\tLoss: 107.979092\n",
      "====> Test set loss: 1.0755\n",
      "Train Epoch: 82 [0/60000 (0%)]\tLoss: 110.339746\n",
      "====> Test set loss: 1.1210\n",
      "Train Epoch: 83 [0/60000 (0%)]\tLoss: 112.655547\n",
      "====> Test set loss: 1.0887\n",
      "Train Epoch: 84 [0/60000 (0%)]\tLoss: 113.889482\n",
      "====> Test set loss: 1.1138\n",
      "Train Epoch: 85 [0/60000 (0%)]\tLoss: 108.290303\n",
      "====> Test set loss: 1.1498\n",
      "Train Epoch: 86 [0/60000 (0%)]\tLoss: 115.751689\n",
      "====> Test set loss: 1.0877\n",
      "Train Epoch: 87 [0/60000 (0%)]\tLoss: 105.612578\n",
      "====> Test set loss: 1.1260\n",
      "Train Epoch: 88 [0/60000 (0%)]\tLoss: 112.580645\n",
      "====> Test set loss: 1.1211\n",
      "Train Epoch: 89 [0/60000 (0%)]\tLoss: 107.992773\n",
      "====> Test set loss: 1.1249\n",
      "Train Epoch: 90 [0/60000 (0%)]\tLoss: 109.616436\n",
      "====> Test set loss: 1.0732\n",
      "Train Epoch: 91 [0/60000 (0%)]\tLoss: 112.734902\n",
      "====> Test set loss: 1.1741\n",
      "Train Epoch: 92 [0/60000 (0%)]\tLoss: 104.991670\n",
      "====> Test set loss: 1.1625\n",
      "Train Epoch: 93 [0/60000 (0%)]\tLoss: 115.587637\n",
      "====> Test set loss: 1.1504\n",
      "Train Epoch: 94 [0/60000 (0%)]\tLoss: 104.930586\n",
      "====> Test set loss: 1.1870\n",
      "Train Epoch: 95 [0/60000 (0%)]\tLoss: 104.915303\n",
      "====> Test set loss: 1.1133\n",
      "Train Epoch: 96 [0/60000 (0%)]\tLoss: 113.365215\n",
      "====> Test set loss: 1.0958\n",
      "Train Epoch: 97 [0/60000 (0%)]\tLoss: 106.714248\n",
      "====> Test set loss: 1.1492\n",
      "Train Epoch: 98 [0/60000 (0%)]\tLoss: 104.190850\n",
      "====> Test set loss: 1.0789\n",
      "Train Epoch: 99 [0/60000 (0%)]\tLoss: 100.054990\n",
      "====> Test set loss: 1.1079\n"
     ]
    }
   ],
   "source": [
    "for i in range(100):\n",
    "    #train_c_epoch(epochs=1,mu_c=mu_c_g,logvar_c=logvar_c_g,pi_c=pi_c_g)\n",
    "\n",
    "    train_c(epoch=i,mu_c=mu_c_g,logvar_c=logvar_c_g,inv_sm_pi_c=inv_sm_pi_c_g)\n",
    "    test_c(epoch=i,mu_c=mu_c_g,logvar_c=logvar_c_g,inv_sm_pi_c=inv_sm_pi_c_g)\n",
    "    scheduler.step()\n",
    "#    scheduler_clustering.step()\n",
    "\n",
    "\n",
    "    beta += beta_delta\n"
   ],
   "metadata": {
    "collapsed": false,
    "pycharm": {
     "name": "#%%\n"
    }
   }
  },
  {
   "cell_type": "code",
   "execution_count": 311,
   "outputs": [
    {
     "data": {
      "text/plain": "<Figure size 432x288 with 1 Axes>",
      "image/png": "[encoded data removed]"
     },
     "metadata": {
      "needs_background": "light"
     },
     "output_type": "display_data"
    }
   ],
   "source": [
    "zs_g,ts_g,mus_g,logvars_g = take_latents()\n",
    "points = TSNE(n_components=2,random_state=0).fit_transform(mus_g.view(-1,latent_dim).cpu().detach().numpy())\n",
    "data_points = points[0:take_latent_max*batch_size]\n",
    "#center_points = points[take_latent_max*batch_size:]\n",
    "data_labels = ts_g[0:take_latent_max*batch_size].cpu().detach().numpy()\n",
    "#center_labels = (-ts_g[take_latent_max*batch_size:]-1).cpu().detach().numpy()\n",
    "drawpoints(data_points,data_labels)\n",
    "#drawpoints_with_centers(data_points,data_labels,center_points,center_labels)"
   ],
   "metadata": {
    "collapsed": false,
    "pycharm": {
     "name": "#%%\n"
    }
   }
  },
  {
   "cell_type": "code",
   "execution_count": 312,
   "outputs": [
    {
     "data": {
      "text/plain": "<Figure size 432x288 with 1 Axes>",
      "image/png": "[encoded data removed]"
     },
     "metadata": {
      "needs_background": "light"
     },
     "output_type": "display_data"
    }
   ],
   "source": [
    "czs_g,cts_g,cmus_g,clogvars_g = take_clatents()\n",
    "points = TSNE(n_components=2,random_state=0).fit_transform(cmus_g.view(-1,clatent_dim).cpu().detach().numpy())\n",
    "cdata_points = points[0:take_latent_max*batch_size]\n",
    "center_points = points[take_latent_max*batch_size:]\n",
    "cdata_labels = cts_g[0:take_latent_max*batch_size].cpu().detach().numpy()\n",
    "center_labels = (-cts_g[take_latent_max*batch_size:]-1).cpu().detach().numpy()\n",
    "#drawpoints(cdata_points,cdata_labels)\n",
    "drawpoints_with_centers(cdata_points,cdata_labels,center_points,center_labels)"
   ],
   "metadata": {
    "collapsed": false,
    "pycharm": {
     "name": "#%%\n"
    }
   }
  },
  {
   "cell_type": "code",
   "execution_count": 63,
   "outputs": [
    {
     "data": {
      "text/plain": "tensor([ 0.2643,  0.2001, -0.2235, -0.0039,  0.2304], device='cuda:0',\n       grad_fn=<SelectBackward>)"
     },
     "execution_count": 63,
     "metadata": {},
     "output_type": "execute_result"
    }
   ],
   "source": [
    "mu_c_g[0,:,5]"
   ],
   "metadata": {
    "collapsed": false,
    "pycharm": {
     "name": "#%%\n"
    }
   }
  },
  {
   "cell_type": "code",
   "execution_count": 36,
   "outputs": [
    {
     "data": {
      "text/plain": "<Figure size 432x288 with 1 Axes>",
      "image/png": "[encoded data removed]"
     },
     "metadata": {
      "needs_background": "light"
     },
     "output_type": "display_data"
    }
   ],
   "source": [
    "#kmeans_model = KMeans(n_clusters=K_model_cluster, random_state=1).fit(mus_g.view(-1,latent_dim).cpu().detach().numpy())\n",
    "#drawpoints(points,kmeans_model.labels_)\n",
    "kmeans_model = KMeans(n_clusters=K_model_cluster, random_state=1).fit(mus_g.view(-1,latent_dim).cpu().detach().numpy())\n",
    "drawpoints(data_points,kmeans_model.labels_[:take_latent_max*batch_size])\n",
    "#drawpoints_with_centers(data_points,kmeans_model.labels_[:take_latent_max*batch_size],center_points,center_labels)"
   ],
   "metadata": {
    "collapsed": false,
    "pycharm": {
     "name": "#%%\n"
    }
   }
  },
  {
   "cell_type": "code",
   "execution_count": 37,
   "outputs": [
    {
     "data": {
      "text/plain": "<Figure size 432x288 with 1 Axes>",
      "image/png": "[encoded data removed]"
     },
     "metadata": {
      "needs_background": "light"
     },
     "output_type": "display_data"
    }
   ],
   "source": [
    "#gauss_model = GaussianMixture(n_components=K_model_cluster,covariance_type='diag',random_state=1).fit(mus_g.view(-1,latent_dim).cpu().detach().numpy())\n",
    "#drawpoints(points,gauss_model.predict(mus_g.view(-1,latent_dim).cpu().detach().numpy()))\n",
    "gauss_model = GaussianMixture(n_components=K_model_cluster,covariance_type='diag',random_state=1).fit(mus_g.view(-1,latent_dim).cpu().detach().numpy())\n",
    "drawpoints(data_points,gauss_model.predict(mus_g.view(-1,latent_dim).cpu().detach().numpy())[:take_latent_max*batch_size])\n",
    "#drawpoints_with_centers(data_points,gauss_model.predict(mus_g.view(-1,latent_dim).cpu().detach().numpy())[:take_latent_max*batch_size],center_points,center_labels)"
   ],
   "metadata": {
    "collapsed": false,
    "pycharm": {
     "name": "#%%\n"
    }
   }
  },
  {
   "cell_type": "code",
   "execution_count": 27,
   "outputs": [
    {
     "ename": "RuntimeError",
     "evalue": "The size of tensor a (10) must match the size of tensor b (5) at non-singleton dimension 1",
     "output_type": "error",
     "traceback": [
      "\u001B[0;31m---------------------------------------------------------------------------\u001B[0m",
      "\u001B[0;31mRuntimeError\u001B[0m                              Traceback (most recent call last)",
      "\u001B[0;32m<ipython-input-27-e25781cff33a>\u001B[0m in \u001B[0;36m<module>\u001B[0;34m\u001B[0m\n\u001B[0;32m----> 1\u001B[0;31m \u001B[0m_\u001B[0m\u001B[0;34m,\u001B[0m\u001B[0m_\u001B[0m\u001B[0;34m,\u001B[0m\u001B[0m_\u001B[0m\u001B[0;34m,\u001B[0m\u001B[0m_\u001B[0m\u001B[0;34m,\u001B[0m\u001B[0mgamma_c_g\u001B[0m\u001B[0;34m,\u001B[0m\u001B[0m_\u001B[0m \u001B[0;34m=\u001B[0m \u001B[0mgauss\u001B[0m\u001B[0;34m(\u001B[0m\u001B[0mmus_g\u001B[0m\u001B[0;34m[\u001B[0m\u001B[0;36m0\u001B[0m\u001B[0;34m:\u001B[0m\u001B[0mbatch_size\u001B[0m\u001B[0;34m*\u001B[0m\u001B[0mtake_latent_max\u001B[0m\u001B[0;34m,\u001B[0m\u001B[0;34m:\u001B[0m\u001B[0;34m,\u001B[0m\u001B[0;34m:\u001B[0m\u001B[0;34m]\u001B[0m\u001B[0;34m,\u001B[0m\u001B[0mlogvars_g\u001B[0m\u001B[0;34m,\u001B[0m\u001B[0mmu_c_g\u001B[0m\u001B[0;34m,\u001B[0m\u001B[0mlogvar_c_g\u001B[0m\u001B[0;34m,\u001B[0m\u001B[0minv_sm_pi_c_g\u001B[0m\u001B[0;34m,\u001B[0m\u001B[0;36m1\u001B[0m\u001B[0;34m)\u001B[0m\u001B[0;34m\u001B[0m\u001B[0;34m\u001B[0m\u001B[0m\n\u001B[0m\u001B[1;32m      2\u001B[0m \u001B[0;31m#drawpoints(points[0:batch_size*take_latent_max,:],torch.argmax(gamma_c_g,2).view(-1).cpu().detach().numpy())\u001B[0m\u001B[0;34m\u001B[0m\u001B[0;34m\u001B[0m\u001B[0;34m\u001B[0m\u001B[0m\n\u001B[1;32m      3\u001B[0m \u001B[0;31m#_,_,_,_,gamma_c_g,_ = gauss(mus_g[0:batch_size*take_latent_max,:,:],logvars_g,mu_c_g,chol_prec_seed_c_g,inv_sm_pi_c_g,1)\u001B[0m\u001B[0;34m\u001B[0m\u001B[0;34m\u001B[0m\u001B[0;34m\u001B[0m\u001B[0m\n\u001B[1;32m      4\u001B[0m \u001B[0mdrawpoints\u001B[0m\u001B[0;34m(\u001B[0m\u001B[0mdata_points\u001B[0m\u001B[0;34m,\u001B[0m\u001B[0mtorch\u001B[0m\u001B[0;34m.\u001B[0m\u001B[0margmax\u001B[0m\u001B[0;34m(\u001B[0m\u001B[0mgamma_c_g\u001B[0m\u001B[0;34m,\u001B[0m\u001B[0;36m2\u001B[0m\u001B[0;34m)\u001B[0m\u001B[0;34m.\u001B[0m\u001B[0mview\u001B[0m\u001B[0;34m(\u001B[0m\u001B[0;34m-\u001B[0m\u001B[0;36m1\u001B[0m\u001B[0;34m)\u001B[0m\u001B[0;34m.\u001B[0m\u001B[0mcpu\u001B[0m\u001B[0;34m(\u001B[0m\u001B[0;34m)\u001B[0m\u001B[0;34m.\u001B[0m\u001B[0mdetach\u001B[0m\u001B[0;34m(\u001B[0m\u001B[0;34m)\u001B[0m\u001B[0;34m.\u001B[0m\u001B[0mnumpy\u001B[0m\u001B[0;34m(\u001B[0m\u001B[0;34m)\u001B[0m\u001B[0;34m)\u001B[0m\u001B[0;34m\u001B[0m\u001B[0;34m\u001B[0m\u001B[0m\n\u001B[1;32m      5\u001B[0m \u001B[0;31m#drawpoints_with_centers(data_points,torch.argmax(gamma_c_g,2).view(-1).cpu().detach().numpy(),center_points,center_labels)\u001B[0m\u001B[0;34m\u001B[0m\u001B[0;34m\u001B[0m\u001B[0;34m\u001B[0m\u001B[0m\n",
      "\u001B[0;32m<ipython-input-12-aa2454a1ef6f>\u001B[0m in \u001B[0;36mgauss\u001B[0;34m(mus, logvars, mu_c, logvar_c, inv_sm_pi_c, iter)\u001B[0m\n\u001B[1;32m      3\u001B[0m     \u001B[0;32mfor\u001B[0m \u001B[0mi\u001B[0m \u001B[0;32min\u001B[0m \u001B[0mrange\u001B[0m\u001B[0;34m(\u001B[0m\u001B[0miter\u001B[0m\u001B[0;34m)\u001B[0m\u001B[0;34m:\u001B[0m\u001B[0;34m\u001B[0m\u001B[0;34m\u001B[0m\u001B[0m\n\u001B[1;32m      4\u001B[0m         \u001B[0;32mwith\u001B[0m \u001B[0mtorch\u001B[0m\u001B[0;34m.\u001B[0m\u001B[0mno_grad\u001B[0m\u001B[0;34m(\u001B[0m\u001B[0;34m)\u001B[0m\u001B[0;34m:\u001B[0m\u001B[0;34m\u001B[0m\u001B[0;34m\u001B[0m\u001B[0m\n\u001B[0;32m----> 5\u001B[0;31m             \u001B[0mQ_c\u001B[0m \u001B[0;34m=\u001B[0m \u001B[0mlogvar_c\u001B[0m\u001B[0;34m+\u001B[0m\u001B[0;34m(\u001B[0m\u001B[0mlogvars\u001B[0m\u001B[0;34m.\u001B[0m\u001B[0mexp\u001B[0m\u001B[0;34m(\u001B[0m\u001B[0;34m)\u001B[0m\u001B[0;34m+\u001B[0m\u001B[0;34m(\u001B[0m\u001B[0mmus\u001B[0m\u001B[0;34m-\u001B[0m\u001B[0mmu_c\u001B[0m\u001B[0;34m)\u001B[0m\u001B[0;34m.\u001B[0m\u001B[0mpow\u001B[0m\u001B[0;34m(\u001B[0m\u001B[0;36m2\u001B[0m\u001B[0;34m)\u001B[0m\u001B[0;34m)\u001B[0m\u001B[0;34m/\u001B[0m\u001B[0;34m(\u001B[0m\u001B[0mlogvar_c\u001B[0m\u001B[0;34m.\u001B[0m\u001B[0mexp\u001B[0m\u001B[0;34m(\u001B[0m\u001B[0;34m)\u001B[0m\u001B[0;34m)\u001B[0m\u001B[0;34m\u001B[0m\u001B[0;34m\u001B[0m\u001B[0m\n\u001B[0m\u001B[1;32m      6\u001B[0m \u001B[0;34m\u001B[0m\u001B[0m\n\u001B[1;32m      7\u001B[0m             \u001B[0mgamma_c\u001B[0m \u001B[0;34m=\u001B[0m \u001B[0;34m(\u001B[0m\u001B[0mF\u001B[0m\u001B[0;34m.\u001B[0m\u001B[0msoftmax\u001B[0m\u001B[0;34m(\u001B[0m\u001B[0minv_sm_pi_c\u001B[0m\u001B[0;34m,\u001B[0m\u001B[0mdim\u001B[0m\u001B[0;34m=\u001B[0m\u001B[0;36m2\u001B[0m\u001B[0;34m)\u001B[0m\u001B[0;34m*\u001B[0m\u001B[0;34m(\u001B[0m\u001B[0;34m(\u001B[0m\u001B[0;34m-\u001B[0m\u001B[0;36m0.5\u001B[0m\u001B[0;34m*\u001B[0m\u001B[0mQ_c\u001B[0m\u001B[0;34m.\u001B[0m\u001B[0msum\u001B[0m\u001B[0;34m(\u001B[0m\u001B[0;36m1\u001B[0m\u001B[0;34m,\u001B[0m\u001B[0mkeepdim\u001B[0m\u001B[0;34m=\u001B[0m\u001B[0;32mTrue\u001B[0m\u001B[0;34m)\u001B[0m\u001B[0;34m)\u001B[0m\u001B[0;34m.\u001B[0m\u001B[0mexp\u001B[0m\u001B[0;34m(\u001B[0m\u001B[0;34m)\u001B[0m\u001B[0;34m)\u001B[0m\u001B[0;34m)\u001B[0m\u001B[0;34m/\u001B[0m\u001B[0;34m(\u001B[0m\u001B[0;34m(\u001B[0m\u001B[0mF\u001B[0m\u001B[0;34m.\u001B[0m\u001B[0msoftmax\u001B[0m\u001B[0;34m(\u001B[0m\u001B[0minv_sm_pi_c\u001B[0m\u001B[0;34m,\u001B[0m\u001B[0mdim\u001B[0m\u001B[0;34m=\u001B[0m\u001B[0;36m2\u001B[0m\u001B[0;34m)\u001B[0m\u001B[0;34m*\u001B[0m\u001B[0;34m(\u001B[0m\u001B[0;34m(\u001B[0m\u001B[0;34m-\u001B[0m\u001B[0;36m0.5\u001B[0m\u001B[0;34m*\u001B[0m\u001B[0mQ_c\u001B[0m\u001B[0;34m.\u001B[0m\u001B[0msum\u001B[0m\u001B[0;34m(\u001B[0m\u001B[0;36m1\u001B[0m\u001B[0;34m,\u001B[0m\u001B[0mkeepdim\u001B[0m\u001B[0;34m=\u001B[0m\u001B[0;32mTrue\u001B[0m\u001B[0;34m)\u001B[0m\u001B[0;34m)\u001B[0m\u001B[0;34m.\u001B[0m\u001B[0mexp\u001B[0m\u001B[0;34m(\u001B[0m\u001B[0;34m)\u001B[0m\u001B[0;34m)\u001B[0m\u001B[0;34m)\u001B[0m\u001B[0;34m.\u001B[0m\u001B[0msum\u001B[0m\u001B[0;34m(\u001B[0m\u001B[0;36m2\u001B[0m\u001B[0;34m,\u001B[0m\u001B[0mkeepdim\u001B[0m\u001B[0;34m=\u001B[0m\u001B[0;32mTrue\u001B[0m\u001B[0;34m)\u001B[0m\u001B[0;34m)\u001B[0m\u001B[0;34m\u001B[0m\u001B[0;34m\u001B[0m\u001B[0m\n",
      "\u001B[0;31mRuntimeError\u001B[0m: The size of tensor a (10) must match the size of tensor b (5) at non-singleton dimension 1"
     ]
    }
   ],
   "source": [
    "\n",
    "_,_,_,_,gamma_c_g,_ = gauss(mus_g[0:batch_size*take_latent_max,:,:],logvars_g,mu_c_g,logvar_c_g,inv_sm_pi_c_g,1)\n",
    "#drawpoints(points[0:batch_size*take_latent_max,:],torch.argmax(gamma_c_g,2).view(-1).cpu().detach().numpy())\n",
    "#_,_,_,_,gamma_c_g,_ = gauss(mus_g[0:batch_size*take_latent_max,:,:],logvars_g,mu_c_g,chol_prec_seed_c_g,inv_sm_pi_c_g,1)\n",
    "drawpoints(data_points,torch.argmax(gamma_c_g,2).view(-1).cpu().detach().numpy())\n",
    "#drawpoints_with_centers(data_points,torch.argmax(gamma_c_g,2).view(-1).cpu().detach().numpy(),center_points,center_labels)"
   ],
   "metadata": {
    "collapsed": false,
    "pycharm": {
     "name": "#%%\n"
    }
   }
  },
  {
   "cell_type": "code",
   "execution_count": 38,
   "outputs": [],
   "source": [
    "show_generated_samples()"
   ],
   "metadata": {
    "collapsed": false,
    "pycharm": {
     "name": "#%%\n"
    }
   }
  },
  {
   "cell_type": "code",
   "execution_count": 39,
   "outputs": [
    {
     "data": {
      "text/plain": "(0.0018000000000000002, 0.002, 0.002, 1.0)"
     },
     "execution_count": 39,
     "metadata": {},
     "output_type": "execute_result"
    }
   ],
   "source": [
    "#optimizer.param_groups[0]['lr'],beta\n",
    "optimizer.param_groups[0]['lr'],optimizer_clustering.param_groups[0]['lr'],cmodel_optimizer.param_groups[0]['lr'],beta"
   ],
   "metadata": {
    "collapsed": false,
    "pycharm": {
     "name": "#%%\n"
    }
   }
  },
  {
   "cell_type": "code",
   "execution_count": 132,
   "outputs": [],
   "source": [
    "correspond_matrix = torch.zeros(K_real_cluster,K_model_cluster)\n",
    "\n",
    "for i in range(batch_size*take_latent_max):\n",
    "\n",
    "    for j in range(K_model_cluster):\n",
    "        for k in range(K_real_cluster):\n",
    "            if torch.argmax(gamma_c_g,2)[i,0] == j:\n",
    "                if ts_g[i] == k:\n",
    "                    correspond_matrix[k,j] +=1\n"
   ],
   "metadata": {
    "collapsed": false,
    "pycharm": {
     "name": "#%%\n"
    }
   }
  },
  {
   "cell_type": "code",
   "execution_count": 133,
   "outputs": [
    {
     "data": {
      "text/plain": "tensor([[100.,   0.,   1.,   0.,   0.,   2.,   1.,   0.,   0.,   2.],\n        [  0.,   4.,   0.,   0.,   0.,   0.,   0.,   2., 104.,   0.],\n        [  0.,   5., 109.,   0.,   0.,   0.,   2.,   0.,   0.,   0.],\n        [  0.,   3.,   1.,   2.,   0.,  78.,   0.,   2.,   1.,  10.],\n        [  0.,   0.,   0.,  16.,   1.,   0.,  69.,  23.,   0.,   0.],\n        [  2.,   2.,   0.,   5.,   2.,  34.,   0.,  13.,   0.,  24.],\n        [  0.,   0.,   2.,   0.,  89.,   0.,   3.,   5.,   0.,   1.],\n        [  0.,   2.,   2.,  33.,   0.,   0.,   3.,  35.,   0.,  17.],\n        [  0.,  63.,   1.,   0.,   0.,   5.,   3.,   5.,   0.,   4.],\n        [  0.,   1.,   0.,  49.,   0.,   2.,  28.,  21.,   0.,   6.]])"
     },
     "execution_count": 133,
     "metadata": {},
     "output_type": "execute_result"
    }
   ],
   "source": [
    "correspond_matrix"
   ],
   "metadata": {
    "collapsed": false,
    "pycharm": {
     "name": "#%%\n"
    }
   }
  },
  {
   "cell_type": "code",
   "execution_count": 134,
   "outputs": [
    {
     "data": {
      "text/plain": "tensor(1000.)"
     },
     "execution_count": 134,
     "metadata": {},
     "output_type": "execute_result"
    }
   ],
   "source": [
    "correspond_matrix.sum()"
   ],
   "metadata": {
    "collapsed": false,
    "pycharm": {
     "name": "#%%\n"
    }
   }
  },
  {
   "cell_type": "code",
   "execution_count": 135,
   "outputs": [
    {
     "data": {
      "text/plain": "torch.return_types.max(\nvalues=tensor([100.,  63., 109.,  49.,  89.,  78.,  69.,  35., 104.,  24.]),\nindices=tensor([0, 8, 2, 9, 6, 3, 4, 7, 1, 5]))"
     },
     "execution_count": 135,
     "metadata": {},
     "output_type": "execute_result"
    }
   ],
   "source": [
    "torch.max(correspond_matrix,0)"
   ],
   "metadata": {
    "collapsed": false,
    "pycharm": {
     "name": "#%%\n"
    }
   }
  },
  {
   "cell_type": "code",
   "execution_count": 136,
   "outputs": [
    {
     "data": {
      "text/plain": "tensor(0.7200)"
     },
     "execution_count": 136,
     "metadata": {},
     "output_type": "execute_result"
    }
   ],
   "source": [
    "torch.max(correspond_matrix,0).values.sum()/(batch_size*take_latent_max)"
   ],
   "metadata": {
    "collapsed": false,
    "pycharm": {
     "name": "#%%\n"
    }
   }
  },
  {
   "cell_type": "code",
   "execution_count": 137,
   "outputs": [
    {
     "data": {
      "text/plain": "tensor([[[0.1000, 0.1000, 0.1000, 0.1000, 0.1000, 0.1000, 0.1000, 0.1000,\n          0.1000, 0.1000]]], device='cuda:0', grad_fn=<SoftmaxBackward>)"
     },
     "execution_count": 137,
     "metadata": {},
     "output_type": "execute_result"
    }
   ],
   "source": [
    "F.softmax(inv_sm_pi_c_g,dim=2)"
   ],
   "metadata": {
    "collapsed": false,
    "pycharm": {
     "name": "#%%\n"
    }
   }
  },
  {
   "cell_type": "code",
   "execution_count": 138,
   "outputs": [
    {
     "data": {
      "text/plain": "tensor([[[-3.3106e-02, -6.2149e-02, -3.9231e-02, -5.7344e-02, -4.9488e-02,\n          -5.4495e-02, -5.2402e-02, -5.2529e-02, -4.9722e-02, -5.5787e-02],\n         [-6.8042e-02, -1.0665e-01, -7.5512e-02, -1.0575e-01, -9.1553e-02,\n          -1.0092e-01, -8.8186e-02, -9.6073e-02, -9.0087e-02, -9.9431e-02],\n         [-1.2790e+01, -1.3517e+01, -6.0307e+00, -7.2010e+00, -9.1961e+00,\n          -1.3023e+01, -1.0549e+01, -5.5734e+00,  3.2260e-01, -1.0197e+01],\n         [ 1.0770e+01,  2.3329e+00,  7.4911e+00, -6.2270e+00,  2.5385e-01,\n          -1.7207e+00, -4.3677e-01,  2.5237e+00,  2.6009e-01,  4.5841e+00],\n         [ 5.4515e-02,  1.1898e-01,  7.4231e-02,  1.3457e-01,  7.8983e-02,\n           9.8317e-02,  1.0329e-01,  1.1383e-01,  1.0335e-01,  1.1258e-01],\n         [ 3.2461e+00, -5.6520e+00, -9.2280e+00,  4.0724e+00,  2.6701e+00,\n          -8.0767e+00,  7.3543e+00,  5.0548e-02, -4.4877e+00, -1.1859e+00],\n         [ 2.0324e-02,  3.0971e-02,  2.3460e-02,  2.6763e-02,  4.6387e-02,\n           2.7872e-02,  2.4490e-02,  2.5993e-02,  1.0845e-02,  2.5417e-02],\n         [-6.7938e+00,  3.8123e+00,  8.6696e+00,  6.9234e-01,  7.7587e+00,\n          -4.9050e+00,  4.0382e+00,  1.2671e+00,  2.9322e+00, -2.8136e+00],\n         [-1.0202e+01,  3.8672e-01, -2.0560e+00,  6.7710e+00, -1.0291e+01,\n          -5.8552e+00,  5.1779e+00,  5.2856e+00, -1.0211e-01,  3.5751e+00],\n         [ 8.9023e+00, -5.1793e+00,  4.6690e+00,  2.2900e-01,  1.1218e+00,\n           1.9595e+00,  1.8392e+00, -7.1796e+00, -9.0877e+00, -4.7673e+00]]],\n       device='cuda:0', requires_grad=True)"
     },
     "execution_count": 138,
     "metadata": {},
     "output_type": "execute_result"
    }
   ],
   "source": [
    "mu_c_g"
   ],
   "metadata": {
    "collapsed": false,
    "pycharm": {
     "name": "#%%\n"
    }
   }
  },
  {
   "cell_type": "code",
   "execution_count": 139,
   "outputs": [
    {
     "data": {
      "text/plain": "tensor([[[ 0.1979,  0.1957,  0.1938,  0.1959,  0.1949,  0.2005,  0.1947,\n           0.1922,  0.1889,  0.1960],\n         [ 0.2557,  0.2536,  0.2477,  0.2540,  0.2462,  0.2527,  0.2516,\n           0.2490,  0.2532,  0.2539],\n         [20.8757, 33.3131, 19.9506, 10.9060, 11.8646, 21.5216, 14.4252,\n           8.6747,  0.3586, 20.1958],\n         [53.8112, 62.6781, 72.9889, 13.9957, 22.9991, 40.6819, 37.9552,\n          54.2123, 49.4659, 43.9826],\n         [ 0.3175,  0.3216,  0.3125,  0.3376,  0.2995,  0.3184,  0.3202,\n           0.3251,  0.3255,  0.3289],\n         [ 8.3861,  6.4551, 43.8865, 16.5960,  6.4023, 22.3547, 10.1100,\n          16.3021,  2.5350, 29.9778],\n         [ 0.1770,  0.1776,  0.1727,  0.1780,  0.1761,  0.1771,  0.1785,\n           0.1756,  0.1738,  0.1773],\n         [14.0725,  5.3625, 20.5846, 20.0579,  9.7006, 13.1418, 19.2368,\n          12.8432,  2.6694,  6.6977],\n         [19.5609, 19.3927, 29.1268, 37.8676, 15.9181, 30.1432, 15.3830,\n          56.5684,  6.0587, 90.0760],\n         [63.0304, 31.5340, 23.6751, 30.0165, 49.1225, 36.0624, 57.5315,\n           8.3995,  7.8704, 12.8105]]], device='cuda:0', grad_fn=<ExpBackward>)"
     },
     "execution_count": 139,
     "metadata": {},
     "output_type": "execute_result"
    }
   ],
   "source": [
    "logvar_c_g.exp()"
   ],
   "metadata": {
    "collapsed": false,
    "pycharm": {
     "name": "#%%\n"
    }
   }
  },
  {
   "cell_type": "code",
   "execution_count": 140,
   "outputs": [
    {
     "data": {
      "text/plain": "tensor([[-4.4492e-02, -8.1721e-02, -1.4681e+01,  1.3846e+00,  9.1893e-02,\n          5.1401e+00,  4.0048e-02,  3.4811e+00, -1.2513e+01, -4.3527e+00],\n        [ 1.4670e-02,  5.8413e-03, -7.2007e+00,  5.5909e+00, -2.2990e-02,\n          7.3740e-01,  1.3011e-02,  6.5706e+00,  1.0161e+01, -6.8501e+00],\n        [-2.2137e-02, -7.0803e-02, -6.9214e+00, -5.2498e+00,  7.5485e-02,\n          2.6907e+00,  4.2236e-02,  5.9193e-01,  4.9433e+00,  1.7703e+00],\n        [-1.6901e-02, -1.2274e-01, -6.8671e+00,  1.4198e+01,  9.0591e-02,\n          2.8391e+00,  6.5001e-02, -5.5127e+00, -1.4806e+01,  1.7156e+01],\n        [ 1.1862e-02, -5.3719e-02, -2.1223e+01,  1.9816e+01, -1.9084e-02,\n          3.5230e+00,  3.0783e-02, -6.9968e+00, -1.0194e+01,  6.4435e+00],\n        [ 4.6785e-03, -6.6963e-02, -3.2958e+00,  1.0344e+01,  4.1097e-02,\n         -1.2811e+01,  4.8486e-02,  1.2894e+01,  1.5764e+00,  5.1717e+00],\n        [-3.5292e-02, -7.6045e-02, -1.7456e+01,  1.8076e+00,  8.8397e-02,\n         -7.3383e+00,  5.5529e-02,  6.0237e+00, -2.0036e+00,  6.2536e-01],\n        [-3.3918e-02, -6.2976e-02, -1.3159e+01,  3.0410e+00,  7.2220e-02,\n          8.8309e-01,  5.4058e-04, -4.4717e+00,  8.5445e+00, -5.4790e+00],\n        [-3.2329e-02, -5.9046e-02, -6.9393e+00, -4.5446e+00,  7.9597e-02,\n         -1.7002e+00,  2.9555e-02,  1.4289e+00,  9.1675e+00, -8.3674e+00],\n        [-3.9436e-02, -1.1909e-01, -9.4792e+00, -1.0582e+01,  1.5953e-01,\n          4.3408e+00,  6.5414e-02, -2.5988e+00,  5.6350e-01,  4.1154e+00]],\n       device='cuda:0', grad_fn=<SelectBackward>)"
     },
     "execution_count": 140,
     "metadata": {},
     "output_type": "execute_result"
    }
   ],
   "source": [
    "mus_g[0:10,:,0]"
   ],
   "metadata": {
    "collapsed": false,
    "pycharm": {
     "name": "#%%\n"
    }
   }
  },
  {
   "cell_type": "code",
   "execution_count": 141,
   "outputs": [
    {
     "data": {
      "text/plain": "tensor([[0.1967, 0.2519, 0.5032, 0.3052, 0.3021, 0.1974, 0.1844, 0.1351, 0.4706,\n         0.3922],\n        [0.1758, 0.2189, 0.1548, 0.1891, 0.2710, 0.1173, 0.1654, 0.1451, 0.1109,\n         0.1625],\n        [0.1799, 0.2289, 0.1704, 0.1663, 0.2871, 0.1375, 0.1746, 0.0857, 0.1429,\n         0.1585],\n        [0.1904, 0.2566, 0.2175, 0.3549, 0.3087, 0.2394, 0.1750, 0.2740, 0.7687,\n         0.4196],\n        [0.1910, 0.2451, 0.5841, 0.4080, 0.3097, 0.1580, 0.1720, 0.3442, 0.4075,\n         0.3930],\n        [0.1923, 0.2436, 0.2310, 0.4317, 0.2905, 0.3126, 0.1786, 0.3543, 0.3082,\n         0.3384],\n        [0.1921, 0.2275, 0.4439, 0.2620, 0.3155, 0.1241, 0.1832, 0.1573, 0.2100,\n         0.3362],\n        [0.1931, 0.2438, 0.1914, 0.2321, 0.3176, 0.1475, 0.1789, 0.1674, 0.1236,\n         0.2484],\n        [0.1847, 0.2340, 0.2379, 0.2119, 0.3153, 0.2081, 0.1737, 0.1619, 0.1958,\n         0.2324],\n        [0.1930, 0.2601, 0.2331, 0.2601, 0.3287, 0.1947, 0.1815, 0.1445, 0.2318,\n         0.2221]], device='cuda:0')"
     },
     "execution_count": 141,
     "metadata": {},
     "output_type": "execute_result"
    }
   ],
   "source": [
    "logvars_g.exp()[0:10,:,0]"
   ],
   "metadata": {
    "collapsed": false,
    "pycharm": {
     "name": "#%%\n"
    }
   }
  },
  {
   "cell_type": "code",
   "execution_count": 397,
   "outputs": [
    {
     "data": {
      "text/plain": "'\\ntorch.save(\\n    {\\n        \"model_state_dict\" : model.state_dict(),\\n        \"optimizer\" : optimizer.state_dict(),\\n        \"optimizer_clustering\" : optimizer_clustering.state_dict(),\\n        \"mu_c_g\" : mu_c_g,\\n        \"logvar_c_g\" : logvar_c_g,\\n        \"inv_sm_pi_c_g\" : inv_sm_pi_c_g,\\n        \"beta\" : beta,\\n        \"K_model_cluster\": K_model_cluster\\n    },\\n    \"./SGD-q-exponential/model/success949.tar\"\\n)\\n'"
     },
     "execution_count": 397,
     "metadata": {},
     "output_type": "execute_result"
    }
   ],
   "source": [
    "'''\n",
    "torch.save(\n",
    "    {\n",
    "        \"model_state_dict\" : model.state_dict(),\n",
    "        \"optimizer\" : optimizer.state_dict(),\n",
    "        \"optimizer_clustering\" : optimizer_clustering.state_dict(),\n",
    "        \"mu_c_g\" : mu_c_g,\n",
    "        \"logvar_c_g\" : logvar_c_g,\n",
    "        \"inv_sm_pi_c_g\" : inv_sm_pi_c_g,\n",
    "        \"beta\" : beta,\n",
    "        \"K_model_cluster\": K_model_cluster\n",
    "    },\n",
    "    \"./SGD-q-exponential/model/success949.tar\"\n",
    ")\n",
    "'''\n",
    "#sdata966 = torch.load(\"./SGD-q-exponential/model/success966.tar\")\n",
    "#mu_c_g = sdata966[\"mu_c_g\"]"
   ],
   "metadata": {
    "collapsed": false,
    "pycharm": {
     "name": "#%%\n"
    }
   }
  },
  {
   "cell_type": "code",
   "execution_count": 22,
   "outputs": [],
   "source": [],
   "metadata": {
    "collapsed": false,
    "pycharm": {
     "name": "#%%\n"
    }
   }
  }
 ],
 "metadata": {
  "kernelspec": {
   "name": "pycharm-9c5a4569",
   "language": "python",
   "display_name": "PyCharm (auto_encoder)"
  },
  "language_info": {
   "codemirror_mode": {
    "name": "ipython",
    "version": 2
   },
   "file_extension": ".py",
   "mimetype": "text/x-python",
   "name": "python",
   "nbconvert_exporter": "python",
   "pygments_lexer": "ipython2",
   "version": "2.7.6"
  },
  "pycharm": {
   "stem_cell": {
    "cell_type": "raw",
    "source": [
     "#２０２０年１２月28日潜在空間をクラスタリングするというアイデアで行ってみる。\n",
     "#2020年大晦日、パラメータを変えて走らせるもあまり良い結果は得られない。構造上、うまく行っていないように見える。\n",
     "#計算の安定化には対数の中に一つstabilizer_epsを入れると劇的な効果があることがわかった。"
    ],
    "metadata": {
     "collapsed": false
    }
   }
  }
 },
 "nbformat": 4,
 "nbformat_minor": 0
}