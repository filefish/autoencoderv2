{
 "cells": [
  {
   "cell_type": "code",
   "execution_count": 1,
   "outputs": [],
   "source": [
    "from __future__ import print_function\n",
    "import argparse\n",
    "import torch\n",
    "import torch.utils.data\n",
    "from torch import nn, optim\n",
    "from torch.nn import functional as F\n",
    "from torchvision import datasets, transforms\n",
    "from torchvision.utils import save_image\n",
    "\n",
    "%matplotlib inline\n",
    "import matplotlib.pyplot as plt\n",
    "from torch.distributions.multivariate_normal import MultivariateNormal\n",
    "import numpy as np\n",
    "\n",
    "\n",
    "from sklearn.manifold import TSNE\n",
    "from random import random\n",
    "from sklearn.mixture import GaussianMixture\n",
    "from sklearn.mixture import BayesianGaussianMixture\n",
    "from sklearn.cluster import KMeans"
   ],
   "metadata": {
    "collapsed": false,
    "pycharm": {
     "name": "#%%\n"
    }
   }
  },
  {
   "cell_type": "code",
   "execution_count": 2,
   "outputs": [],
   "source": [
    "batch_size = 100\n",
    "take_latent_max =10\n",
    "num_epoch = 10\n",
    "input_dim=28*28\n",
    "output_dim=input_dim\n",
    "en_hidden1_dim = 500\n",
    "en_hidden2_dim = 500\n",
    "en_hidden3_dim = 2000\n",
    "latent_dim= 10\n",
    "de_hidden1_dim = 2000\n",
    "de_hidden2_dim = 500\n",
    "de_hidden3_dim = 500\n",
    "\n",
    "\n",
    "log_interval = 600\n",
    "\n",
    "K_model_cluster = 10\n",
    "\n",
    "beta= 1.\n",
    "\n",
    "save_folder = 'pretraining-results'\n",
    "\n",
    "KMeans_random_state = 1 #(random seed)\n",
    "Gaussian_random_state = 1  #(random seed)"
   ],
   "metadata": {
    "collapsed": false,
    "pycharm": {
     "name": "#%%\n"
    }
   }
  },
  {
   "cell_type": "code",
   "execution_count": 4,
   "outputs": [],
   "source": [
    "device = 'cuda'\n",
    "kwargs = {'num_workers':1, 'pin_memory':True}\n",
    "\n",
    "train_loader = torch.utils.data.DataLoader(\n",
    "    datasets.MNIST('../data',train=True,download=True,\n",
    "                   transform=transforms.ToTensor()),\n",
    "    batch_size=batch_size,shuffle=True,**kwargs)\n",
    "\n",
    "test_loader = torch.utils.data.DataLoader(\n",
    "    datasets.MNIST('../data',train=False,transform=transforms.ToTensor()),\n",
    "    batch_size=batch_size,shuffle=True,**kwargs)"
   ],
   "metadata": {
    "collapsed": false,
    "pycharm": {
     "name": "#%%\n"
    }
   }
  },
  {
   "cell_type": "code",
   "execution_count": 158,
   "outputs": [],
   "source": [
    "class VAE(nn.Module):\n",
    "    def __init__(self):\n",
    "        super(VAE, self).__init__()\n",
    "\n",
    "        self.input_layer = nn.Linear(input_dim,en_hidden1_dim)##728 => 500 for MNIST\n",
    "        self.encode1_layer = nn.Linear(en_hidden1_dim,en_hidden2_dim)##500 => 500 for MNIST\n",
    "        self.encode2_layer = nn.Linear(en_hidden2_dim,en_hidden3_dim)##500 => 2000 for MNIST\n",
    "        self.mu_layer = nn.Linear(en_hidden3_dim,latent_dim)##2000 => 10 for MNIST\n",
    "        self.std_layer = nn.Linear(en_hidden3_dim,latent_dim)##2000 => 10 for MNIST\n",
    "        self.decode1_layer = nn.Linear(latent_dim,de_hidden1_dim)##10 => 2000 for MNIST\n",
    "        self.decode2_layer = nn.Linear(de_hidden1_dim,de_hidden2_dim)##2000 => 500 for MNIST\n",
    "        self.decode3_layer = nn.Linear(de_hidden2_dim,de_hidden3_dim)##500 => 500 for MNIST\n",
    "        self.output_layer = nn.Linear(de_hidden3_dim,output_dim)##500 => 728 for MNIST\n",
    "\n",
    "        self.pre1_mu_layer = nn.Linear(en_hidden1_dim,latent_dim)##2000 => 10 for MNIST\n",
    "        self.pre1_std_layer = nn.Linear(en_hidden1_dim,latent_dim)##2000 => 10 for MNIST\n",
    "        self.pre1_decode3_layer = nn.Linear(latent_dim,de_hidden3_dim)##10 => 2000 for MNIST\n",
    "\n",
    "        self.pre2_mu_layer = nn.Linear(en_hidden2_dim,latent_dim)##2000 => 10 for MNIST\n",
    "        self.pre2_std_layer = nn.Linear(en_hidden2_dim,latent_dim)##2000 => 10 for MNIST\n",
    "        self.pre2_decode2_layer = nn.Linear(latent_dim,de_hidden2_dim)##10 => 2000 for MNIST\n",
    "\n",
    "        self.pre3_mu_layer = nn.Linear(en_hidden3_dim,latent_dim)##2000 => 10 for MNIST\n",
    "        self.pre3_std_layer = nn.Linear(en_hidden3_dim,latent_dim)##2000 => 10 for MNIST\n",
    "        self.pre3_decode1_layer = nn.Linear(latent_dim,de_hidden1_dim)##10 => 2000 for MNIST\n",
    "\n",
    "\n",
    "    def encode(self, x):\n",
    "        en_h1 = F.relu(self.input_layer(x))\n",
    "        en_h2 = F.relu(self.encode1_layer(en_h1))\n",
    "        en_h3 = F.relu(self.encode2_layer(en_h2))\n",
    "        return self.mu_layer(en_h3), self.std_layer(en_h3)\n",
    "    #入力から中心と分散の対数を作っている\n",
    "\n",
    "    def pre1_encode(self, x):\n",
    "        en_h1 = F.relu(self.input_layer(x))\n",
    "        return self.pre1_mu_layer(en_h1), self.pre1_std_layer(en_h1)\n",
    "\n",
    "    def pre2_encode(self, x):\n",
    "        en_h1 = F.relu(self.input_layer(x))\n",
    "        en_h2 = F.relu(self.encode1_layer(en_h1))\n",
    "        return self.pre2_mu_layer(en_h2), self.pre2_std_layer(en_h2)\n",
    "\n",
    "    def pre3_encode(self, x):\n",
    "        en_h1 = F.relu(self.input_layer(x))\n",
    "        en_h2 = F.relu(self.encode1_layer(en_h1))\n",
    "        en_h3 = F.relu(self.encode2_layer(en_h2))\n",
    "        return self.pre3_mu_layer(en_h3), self.pre3_std_layer(en_h3)\n",
    "\n",
    "\n",
    "    def reparameterize(self,mu,logvar):\n",
    "        std = torch.exp(0.5*logvar)\n",
    "        eps = torch.randn_like(std)\n",
    "        #torch.randn_like(std)はstdと同じ次元の正規乱数を与えている。N(0,1)**size(std).ただし、標準偏差は対角的。\n",
    "        return mu + eps*std\n",
    "    #zの値を確率的に作っている。\n",
    "\n",
    "    def decode(self,z):\n",
    "        de_h1 = F.relu(self.decode1_layer(z))\n",
    "        de_h2 = F.relu(self.decode2_layer(de_h1))\n",
    "        de_h3 = F.relu(self.decode3_layer(de_h2))\n",
    "        return torch.sigmoid(self.output_layer(de_h3))\n",
    "    #zからNNを通したあとに、sigmoidで押し込んでxの値を作っている\n",
    "\n",
    "    def pre1_decode(self,z):\n",
    "        de_h3 = F.relu(self.pre1_decode3_layer(z))\n",
    "        return torch.sigmoid(self.output_layer(de_h3))\n",
    "\n",
    "    def pre2_decode(self,z):\n",
    "        de_h2 = F.relu(self.pre2_decode2_layer(z))\n",
    "        de_h3 = F.relu(self.decode3_layer(de_h2))\n",
    "        return torch.sigmoid(self.output_layer(de_h3))\n",
    "\n",
    "    def pre3_decode(self,z):\n",
    "        de_h1 = F.relu(self.pre3_decode1_layer(z))\n",
    "        de_h2 = F.relu(self.decode2_layer(de_h1))\n",
    "        de_h3 = F.relu(self.decode3_layer(de_h2))\n",
    "        return torch.sigmoid(self.output_layer(de_h3))\n",
    "\n",
    "    def forward(self, x):\n",
    "        mu, logvar = self.encode(x.view(-1,784))\n",
    "        z = self.reparameterize(mu, logvar)\n",
    "        return self.decode(z),mu,logvar,z\n",
    "    #出力はxの予測値とzを算出するときの中心と分散になっている\n",
    "\n",
    "    def pre1_forward(self, x):\n",
    "        mu, logvar = self.pre1_encode(x.view(-1,784))\n",
    "        z = self.reparameterize(mu, logvar)\n",
    "        return self.pre1_decode(z),mu,logvar,z\n",
    "\n",
    "    def pre2_forward(self, x):\n",
    "        mu, logvar = self.pre2_encode(x.view(-1,784))\n",
    "        z = self.reparameterize(mu, logvar)\n",
    "        return self.pre2_decode(z),mu,logvar,z\n",
    "\n",
    "    def pre3_forward(self, x):\n",
    "        mu, logvar = self.pre3_encode(x.view(-1,784))\n",
    "        z = self.reparameterize(mu, logvar)\n",
    "        return self.pre3_decode(z),mu,logvar,z\n",
    "\n",
    "model = VAE().to(device)\n",
    "optimizer = optim.Adam(model.parameters(),lr=0.002)\n",
    "scheduler = torch.optim.lr_scheduler.StepLR(optimizer,step_size=10,gamma=0.9)\n",
    "\n",
    "pre1_params = list(model.input_layer.parameters())+list(model.output_layer.parameters())+list(model.pre1_mu_layer.parameters())+list(model.pre1_std_layer.parameters())+list(model.pre1_decode3_layer.parameters())\n",
    "pre1_optimizer = optim.Adam(pre1_params,lr=0.002)\n",
    "\n",
    "pre2_params = list(model.encode1_layer.parameters())+list(model.decode3_layer.parameters())+list(model.pre2_mu_layer.parameters())+list(model.pre2_std_layer.parameters())+list(model.pre2_decode2_layer.parameters())\n",
    "pre2_optimizer = optim.Adam(pre2_params,lr=0.002)\n",
    "\n",
    "pre3_params = list(model.encode2_layer.parameters())+list(model.decode2_layer.parameters())+list(model.pre3_mu_layer.parameters())+list(model.pre3_std_layer.parameters())+list(model.pre3_decode1_layer.parameters())\n",
    "pre3_optimizer = optim.Adam(pre3_params,lr=0.002)\n"
   ],
   "metadata": {
    "collapsed": false,
    "pycharm": {
     "name": "#%%\n"
    }
   }
  },
  {
   "cell_type": "code",
   "execution_count": 113,
   "outputs": [],
   "source": [
    "def loss_function(recon_x,x,mu,logvar):\n",
    "    BCE = F.binary_cross_entropy(recon_x,x.view(-1,784),reduction='sum')\n",
    "    #recon_xはsigmoidをdecordeで通されているので、[0,1]になっている。\n",
    "    KLD = -0.5*torch.sum(1+logvar-mu.pow(2)-logvar.exp())\n",
    "\n",
    "    return BCE+beta*KLD\n",
    "\n"
   ],
   "metadata": {
    "collapsed": false,
    "pycharm": {
     "name": "#%%\n"
    }
   }
  },
  {
   "cell_type": "code",
   "execution_count": 114,
   "outputs": [],
   "source": [
    "def train(epoch):\n",
    "    model.train()\n",
    "    train_loss = 0\n",
    "    for batch_idx, (data,_) in enumerate(train_loader):\n",
    "        #ラベルは使わないようだ\n",
    "        data = data.to(device)\n",
    "        #データをGPUにおくる\n",
    "        optimizer.zero_grad()\n",
    "        #傾きの初期化\n",
    "        recon_batch, mu, logvar,z = model(data)\n",
    "        #VAEからバッヂ分のデータと中心と分散のログを受け取る\n",
    "        loss = loss_function(recon_batch,data,mu,logvar)\n",
    "        #バッヂ分のロスを計算。バッヂ数で割っていないようだ。書き出しのときにデータ数で割っている。\n",
    "        loss.backward()\n",
    "        #傾きを計算\n",
    "        train_loss+= loss.item()\n",
    "        optimizer.step()\n",
    "        #パラメータの更新\n",
    "        if batch_idx % log_interval ==0:\n",
    "            #一定間隔でロスを書き出し。epochはここでしか使っていないようだ。\n",
    "            print('Train Epoch: {} [{}/{} ({:.0f}%)]\\tLoss: {:.6f}'.format(\n",
    "              epoch,batch_idx*len(data),len(train_loader.dataset),\n",
    "                100.*batch_idx/len(train_loader),\n",
    "                loss.item()/len(data)\n",
    "            ))"
   ],
   "metadata": {
    "collapsed": false,
    "pycharm": {
     "name": "#%%\n"
    }
   }
  },
  {
   "cell_type": "code",
   "execution_count": 115,
   "outputs": [],
   "source": [
    "def pre1_train(epoch):\n",
    "    model.train()\n",
    "    train_loss = 0\n",
    "    for batch_idx, (data,_) in enumerate(train_loader):\n",
    "        #ラベルは使わないようだ\n",
    "        data = data.to(device)\n",
    "        #データをGPUにおくる\n",
    "        pre1_optimizer.zero_grad()\n",
    "        #傾きの初期化\n",
    "        recon_batch, mu, logvar,z = model.pre1_forward(data)\n",
    "        #VAEからバッヂ分のデータと中心と分散のログを受け取る\n",
    "        loss = loss_function(recon_batch,data,mu,logvar)\n",
    "        #バッヂ分のロスを計算。バッヂ数で割っていないようだ。書き出しのときにデータ数で割っている。\n",
    "        loss.backward()\n",
    "        #傾きを計算\n",
    "        train_loss+= loss.item()\n",
    "        pre1_optimizer.step()\n",
    "        #パラメータの更新\n",
    "        if batch_idx % log_interval ==0:\n",
    "            #一定間隔でロスを書き出し。epochはここでしか使っていないようだ。\n",
    "            print('Train Epoch: {} [{}/{} ({:.0f}%)]\\tLoss: {:.6f}'.format(\n",
    "              epoch,batch_idx*len(data),len(train_loader.dataset),\n",
    "                100.*batch_idx/len(train_loader),\n",
    "                loss.item()/len(data)\n",
    "            ))"
   ],
   "metadata": {
    "collapsed": false,
    "pycharm": {
     "name": "#%%\n"
    }
   }
  },
  {
   "cell_type": "code",
   "execution_count": 116,
   "outputs": [],
   "source": [
    "def pre1_train(epoch):\n",
    "    model.train()\n",
    "    train_loss = 0\n",
    "    for batch_idx, (data,_) in enumerate(train_loader):\n",
    "        #ラベルは使わないようだ\n",
    "        data = data.to(device)\n",
    "        #データをGPUにおくる\n",
    "        pre1_optimizer.zero_grad()\n",
    "        #傾きの初期化\n",
    "        recon_batch, mu, logvar,z = model.pre1_forward(data)\n",
    "        #VAEからバッヂ分のデータと中心と分散のログを受け取る\n",
    "        loss = loss_function(recon_batch,data,mu,logvar)\n",
    "        #バッヂ分のロスを計算。バッヂ数で割っていないようだ。書き出しのときにデータ数で割っている。\n",
    "        loss.backward()\n",
    "        #傾きを計算\n",
    "        train_loss+= loss.item()\n",
    "        pre1_optimizer.step()\n",
    "        #パラメータの更新\n",
    "        if batch_idx % log_interval ==0:\n",
    "            #一定間隔でロスを書き出し。epochはここでしか使っていないようだ。\n",
    "            print('Train Epoch: {} [{}/{} ({:.0f}%)]\\tLoss: {:.6f}'.format(\n",
    "              epoch,batch_idx*len(data),len(train_loader.dataset),\n",
    "                100.*batch_idx/len(train_loader),\n",
    "                loss.item()/len(data)\n",
    "            ))"
   ],
   "metadata": {
    "collapsed": false,
    "pycharm": {
     "name": "#%%\n"
    }
   }
  },
  {
   "cell_type": "code",
   "execution_count": 117,
   "outputs": [],
   "source": [
    "def pre2_train(epoch):\n",
    "    model.train()\n",
    "    train_loss = 0\n",
    "    for batch_idx, (data,_) in enumerate(train_loader):\n",
    "        #ラベルは使わないようだ\n",
    "        data = data.to(device)\n",
    "        #データをGPUにおくる\n",
    "        pre2_optimizer.zero_grad()\n",
    "        #傾きの初期化\n",
    "        recon_batch, mu, logvar,z = model.pre2_forward(data)\n",
    "        #VAEからバッヂ分のデータと中心と分散のログを受け取る\n",
    "        loss = loss_function(recon_batch,data,mu,logvar)\n",
    "        #バッヂ分のロスを計算。バッヂ数で割っていないようだ。書き出しのときにデータ数で割っている。\n",
    "        loss.backward()\n",
    "        #傾きを計算\n",
    "        train_loss+= loss.item()\n",
    "        pre2_optimizer.step()\n",
    "        #パラメータの更新\n",
    "        if batch_idx % log_interval ==0:\n",
    "            #一定間隔でロスを書き出し。epochはここでしか使っていないようだ。\n",
    "            print('Train Epoch: {} [{}/{} ({:.0f}%)]\\tLoss: {:.6f}'.format(\n",
    "              epoch,batch_idx*len(data),len(train_loader.dataset),\n",
    "                100.*batch_idx/len(train_loader),\n",
    "                loss.item()/len(data)\n",
    "            ))"
   ],
   "metadata": {
    "collapsed": false,
    "pycharm": {
     "name": "#%%\n"
    }
   }
  },
  {
   "cell_type": "code",
   "execution_count": 118,
   "outputs": [],
   "source": [
    "def pre3_train(epoch):\n",
    "    model.train()\n",
    "    train_loss = 0\n",
    "    for batch_idx, (data,_) in enumerate(train_loader):\n",
    "        #ラベルは使わないようだ\n",
    "        data = data.to(device)\n",
    "        #データをGPUにおくる\n",
    "        pre3_optimizer.zero_grad()\n",
    "        #傾きの初期化\n",
    "        recon_batch, mu, logvar,z = model.pre3_forward(data)\n",
    "        #VAEからバッヂ分のデータと中心と分散のログを受け取る\n",
    "        loss = loss_function(recon_batch,data,mu,logvar)\n",
    "        #バッヂ分のロスを計算。バッヂ数で割っていないようだ。書き出しのときにデータ数で割っている。\n",
    "        loss.backward()\n",
    "        #傾きを計算\n",
    "        train_loss+= loss.item()\n",
    "        pre3_optimizer.step()\n",
    "        #パラメータの更新\n",
    "        if batch_idx % log_interval ==0:\n",
    "            #一定間隔でロスを書き出し。epochはここでしか使っていないようだ。\n",
    "            print('Train Epoch: {} [{}/{} ({:.0f}%)]\\tLoss: {:.6f}'.format(\n",
    "              epoch,batch_idx*len(data),len(train_loader.dataset),\n",
    "                100.*batch_idx/len(train_loader),\n",
    "                loss.item()/len(data)\n",
    "            ))"
   ],
   "metadata": {
    "collapsed": false,
    "pycharm": {
     "name": "#%%\n"
    }
   }
  },
  {
   "cell_type": "code",
   "execution_count": 119,
   "outputs": [],
   "source": [
    "def test(epoch):\n",
    "    model.eval()\n",
    "    test_loss = 0\n",
    "    with torch.no_grad():#バックプロパゲーションを行わないから、微分情報を残さない\n",
    "        for i, (data, _) in enumerate(test_loader):\n",
    "            #テストデータを取り出す。ラベルはいらない。\n",
    "            data =data.to(device)\n",
    "            #データをGPUに送る\n",
    "            recon_batch, mu, logvar,z = model(data)\n",
    "            #データからバッヂ分の再現画像と中心と分散の対数を出している。\n",
    "            test_loss += loss_function(recon_batch,data,mu,logvar).item()\n",
    "            #テストデータでのロスを出している\n",
    "            if i == 0:\n",
    "                #はじめのバッヂについて\n",
    "                n = min(data.size(0),16)\n",
    "                #nをバッヂのデータ数か８との小さい方として\n",
    "                comparizon = torch.cat([data[:n],recon_batch.view(batch_size,1,28,28)[:n]])\n",
    "                #元データと再現データを並べる\n",
    "                save_image(comparizon.cpu(),'./'+save_folder+'/reconstruction_' + str(epoch) + '.png',nrow=n)\n",
    "\n",
    "                test_loss /= len(test_loader.dataset)\n",
    "                print('====> Test set loss: {:.4f}'.format(test_loss))"
   ],
   "metadata": {
    "collapsed": false,
    "pycharm": {
     "name": "#%%\n"
    }
   }
  },
  {
   "cell_type": "code",
   "execution_count": 120,
   "outputs": [],
   "source": [
    "def pre1_test(epoch):\n",
    "    model.eval()\n",
    "    test_loss = 0\n",
    "    with torch.no_grad():#バックプロパゲーションを行わないから、微分情報を残さない\n",
    "        for i, (data, _) in enumerate(test_loader):\n",
    "            #テストデータを取り出す。ラベルはいらない。\n",
    "            data =data.to(device)\n",
    "            #データをGPUに送る\n",
    "            recon_batch, mu, logvar,z = model.pre1_forward(data)\n",
    "            #データからバッヂ分の再現画像と中心と分散の対数を出している。\n",
    "            test_loss += loss_function(recon_batch,data,mu,logvar).item()\n",
    "            #テストデータでのロスを出している\n",
    "            if i == 0:\n",
    "                #はじめのバッヂについて\n",
    "                n = min(data.size(0),16)\n",
    "                #nをバッヂのデータ数か８との小さい方として\n",
    "                comparizon = torch.cat([data[:n],recon_batch.view(batch_size,1,28,28)[:n]])\n",
    "                #元データと再現データを並べる\n",
    "                save_image(comparizon.cpu(),'./'+save_folder+'/reconstruction_pre1_' + str(epoch) + '.png',nrow=n)\n",
    "\n",
    "                test_loss /= len(test_loader.dataset)\n",
    "                print('====> Test set loss: {:.4f}'.format(test_loss))"
   ],
   "metadata": {
    "collapsed": false,
    "pycharm": {
     "name": "#%%\n"
    }
   }
  },
  {
   "cell_type": "code",
   "execution_count": 121,
   "outputs": [],
   "source": [
    "def pre2_test(epoch):\n",
    "    model.eval()\n",
    "    test_loss = 0\n",
    "    with torch.no_grad():#バックプロパゲーションを行わないから、微分情報を残さない\n",
    "        for i, (data, _) in enumerate(test_loader):\n",
    "            #テストデータを取り出す。ラベルはいらない。\n",
    "            data =data.to(device)\n",
    "            #データをGPUに送る\n",
    "            recon_batch, mu, logvar,z = model.pre2_forward(data)\n",
    "            #データからバッヂ分の再現画像と中心と分散の対数を出している。\n",
    "            test_loss += loss_function(recon_batch,data,mu,logvar).item()\n",
    "            #テストデータでのロスを出している\n",
    "            if i == 0:\n",
    "                #はじめのバッヂについて\n",
    "                n = min(data.size(0),16)\n",
    "                #nをバッヂのデータ数か８との小さい方として\n",
    "                comparizon = torch.cat([data[:n],recon_batch.view(batch_size,1,28,28)[:n]])\n",
    "                #元データと再現データを並べる\n",
    "                save_image(comparizon.cpu(),'./'+save_folder+'/reconstruction_pre2_' + str(epoch) + '.png',nrow=n)\n",
    "\n",
    "                test_loss /= len(test_loader.dataset)\n",
    "                print('====> Test set loss: {:.4f}'.format(test_loss))"
   ],
   "metadata": {
    "collapsed": false,
    "pycharm": {
     "name": "#%%\n"
    }
   }
  },
  {
   "cell_type": "code",
   "execution_count": 122,
   "outputs": [],
   "source": [
    "def pre3_test(epoch):\n",
    "    model.eval()\n",
    "    test_loss = 0\n",
    "    with torch.no_grad():#バックプロパゲーションを行わないから、微分情報を残さない\n",
    "        for i, (data, _) in enumerate(test_loader):\n",
    "            #テストデータを取り出す。ラベルはいらない。\n",
    "            data =data.to(device)\n",
    "            #データをGPUに送る\n",
    "            recon_batch, mu, logvar,z = model.pre3_forward(data)\n",
    "            #データからバッヂ分の再現画像と中心と分散の対数を出している。\n",
    "            test_loss += loss_function(recon_batch,data,mu,logvar).item()\n",
    "            #テストデータでのロスを出している\n",
    "            if i == 0:\n",
    "                #はじめのバッヂについて\n",
    "                n = min(data.size(0),16)\n",
    "                #nをバッヂのデータ数か８との小さい方として\n",
    "                comparizon = torch.cat([data[:n],recon_batch.view(batch_size,1,28,28)[:n]])\n",
    "                #元データと再現データを並べる\n",
    "                save_image(comparizon.cpu(),'./'+save_folder+'/reconstruction_pre3_' + str(epoch) + '.png',nrow=n)\n",
    "\n",
    "                test_loss /= len(test_loader.dataset)\n",
    "                print('====> Test set loss: {:.4f}'.format(test_loss))\n"
   ],
   "metadata": {
    "collapsed": false,
    "pycharm": {
     "name": "#%%\n"
    }
   }
  },
  {
   "cell_type": "code",
   "execution_count": 123,
   "outputs": [],
   "source": [
    "def initial_train(epochs):\n",
    "    for epoch in range(1, epochs +1):\n",
    "        train(epoch)\n",
    "        test(epoch)\n",
    "        scheduler.step()\n",
    "        with torch.no_grad():\n",
    "            sample = torch.randn(64,latent_dim).to(device)\n",
    "        #20次元の潜在空間のデータを64個作成して、GPUに送る\n",
    "            sample = model.decode(sample).cpu()\n",
    "        #ランダムな潜在変数から画像を生成する。\n",
    "            save_image(sample.view(64,1,28,28),save_folder+'/sample_' + str(epoch) + '.png',nrow=8)\n",
    "        #生成した６４個のデータを記録しておく"
   ],
   "metadata": {
    "collapsed": false,
    "pycharm": {
     "name": "#%%\n"
    }
   }
  },
  {
   "cell_type": "code",
   "execution_count": 124,
   "outputs": [],
   "source": [
    "def pre1_loop(epochs):\n",
    "    for epoch in range(1, epochs +1):\n",
    "        pre1_train(epoch)\n",
    "        pre1_test(epoch)\n",
    "        scheduler.step()\n",
    "        with torch.no_grad():\n",
    "            sample = torch.randn(64,latent_dim).to(device)\n",
    "        #20次元の潜在空間のデータを64個作成して、GPUに送る\n",
    "            sample = model.pre1_decode(sample).cpu()\n",
    "        #ランダムな潜在変数から画像を生成する。\n",
    "            save_image(sample.view(64,1,28,28),save_folder+'/sample_pre1_' + str(epoch) + '.png',nrow=8)\n",
    "        #生成した６４個のデータを記録しておく"
   ],
   "metadata": {
    "collapsed": false,
    "pycharm": {
     "name": "#%%\n"
    }
   }
  },
  {
   "cell_type": "code",
   "execution_count": 125,
   "outputs": [],
   "source": [
    "def pre2_loop(epochs):\n",
    "    for epoch in range(1, epochs +1):\n",
    "        pre2_train(epoch)\n",
    "        pre2_test(epoch)\n",
    "        scheduler.step()\n",
    "        with torch.no_grad():\n",
    "            sample = torch.randn(64,latent_dim).to(device)\n",
    "        #20次元の潜在空間のデータを64個作成して、GPUに送る\n",
    "            sample = model.pre2_decode(sample).cpu()\n",
    "        #ランダムな潜在変数から画像を生成する。\n",
    "            save_image(sample.view(64,1,28,28),save_folder+'/sample_pre2_' + str(epoch) + '.png',nrow=8)\n",
    "        #生成した６４個のデータを記録しておく"
   ],
   "metadata": {
    "collapsed": false,
    "pycharm": {
     "name": "#%%\n"
    }
   }
  },
  {
   "cell_type": "code",
   "execution_count": 126,
   "outputs": [],
   "source": [
    "def pre3_loop(epochs):\n",
    "    for epoch in range(1, epochs +1):\n",
    "        pre3_train(epoch)\n",
    "        pre3_test(epoch)\n",
    "        scheduler.step()\n",
    "        with torch.no_grad():\n",
    "            sample = torch.randn(64,latent_dim).to(device)\n",
    "        #20次元の潜在空間のデータを64個作成して、GPUに送る\n",
    "            sample = model.pre3_decode(sample).cpu()\n",
    "        #ランダムな潜在変数から画像を生成する。\n",
    "            save_image(sample.view(64,1,28,28),save_folder+'/sample_pre3_' + str(epoch) + '.png',nrow=8)\n",
    "        #生成した６４個のデータを記録しておく\n"
   ],
   "metadata": {
    "collapsed": false,
    "pycharm": {
     "name": "#%%\n"
    }
   }
  },
  {
   "cell_type": "code",
   "execution_count": 127,
   "outputs": [],
   "source": [
    "def take_latents():\n",
    "    zs = torch.empty(0,latent_dim,1).to(device).requires_grad_(False)\n",
    "    ts = torch.empty(0,dtype=torch.long).to(device).requires_grad_(False)\n",
    "    mus = torch.empty(0,latent_dim,1).to(device).requires_grad_(False)\n",
    "    logvars = torch.empty(0,latent_dim,1).to(device).requires_grad_(False)\n",
    "#zs = []\n",
    "#ts = []\n",
    "\n",
    "#ts.dtype = torch.int\n",
    "\n",
    "    #for x, t in test_loader:\n",
    "    for batch_idx, (x,t) in enumerate(test_loader):\n",
    "    # original。xがデータ、tがラベル。\n",
    "    #for i, im in enumerate(x.view(-1, 28, 28).detach().numpy()[:10]):\n",
    "    #  ax = fig.add_subplot(3, 10, i+1, xticks=[], yticks=[])\n",
    "    #  ax.imshow(im, 'gray')\n",
    "    #x = x.to(device)\n",
    "    # generate from x\n",
    "        if batch_idx < take_latent_max:\n",
    "            x = x.to(device)\n",
    "            with torch.no_grad():\n",
    "                recon_batch,mu,logvar, z = model(x)\n",
    "            t = t.to(device)\n",
    "    #zs.append(z)\n",
    "    #ts.append(t)\n",
    "            zs = torch.cat((zs,z.view(-1,latent_dim,1)),0)\n",
    "            ts = torch.cat((ts,t),0)\n",
    "            mus = torch.cat((mus,mu.view(-1,latent_dim,1)),0)\n",
    "            logvars = torch.cat((logvars,logvar.view(-1,latent_dim,1)),0)\n",
    "    #y = y.view(-1, 28, 28)\n",
    "    #for i, im in enumerate(y.cpu().detach().numpy()[:10]):\n",
    "     # ax = fig.add_subplot(3, 10, i+11, xticks=[], yticks=[])\n",
    "     # ax.imshow(im, 'gray')\n",
    "    return zs,ts,mus,logvars"
   ],
   "metadata": {
    "collapsed": false,
    "pycharm": {
     "name": "#%%\n"
    }
   }
  },
  {
   "cell_type": "code",
   "execution_count": 128,
   "outputs": [],
   "source": [
    "def pre1_take_latents():\n",
    "    zs = torch.empty(0,latent_dim,1).to(device).requires_grad_(False)\n",
    "    ts = torch.empty(0,dtype=torch.long).to(device).requires_grad_(False)\n",
    "    mus = torch.empty(0,latent_dim,1).to(device).requires_grad_(False)\n",
    "    logvars = torch.empty(0,latent_dim,1).to(device).requires_grad_(False)\n",
    "\n",
    "    for batch_idx, (x,t) in enumerate(test_loader):\n",
    "\n",
    "        if batch_idx < take_latent_max:\n",
    "            x = x.to(device)\n",
    "            with torch.no_grad():\n",
    "                recon_batch,mu,logvar, z = model.pre1_forward(x)\n",
    "            t = t.to(device)\n",
    "\n",
    "            zs = torch.cat((zs,z.view(-1,latent_dim,1)),0)\n",
    "            ts = torch.cat((ts,t),0)\n",
    "            mus = torch.cat((mus,mu.view(-1,latent_dim,1)),0)\n",
    "            logvars = torch.cat((logvars,logvar.view(-1,latent_dim,1)),0)\n",
    "\n",
    "    return zs,ts,mus,logvars"
   ],
   "metadata": {
    "collapsed": false,
    "pycharm": {
     "name": "#%%\n"
    }
   }
  },
  {
   "cell_type": "code",
   "execution_count": 129,
   "outputs": [],
   "source": [
    "def pre2_take_latents():\n",
    "    zs = torch.empty(0,latent_dim,1).to(device).requires_grad_(False)\n",
    "    ts = torch.empty(0,dtype=torch.long).to(device).requires_grad_(False)\n",
    "    mus = torch.empty(0,latent_dim,1).to(device).requires_grad_(False)\n",
    "    logvars = torch.empty(0,latent_dim,1).to(device).requires_grad_(False)\n",
    "\n",
    "    for batch_idx, (x,t) in enumerate(test_loader):\n",
    "\n",
    "        if batch_idx < take_latent_max:\n",
    "            x = x.to(device)\n",
    "            with torch.no_grad():\n",
    "                recon_batch,mu,logvar, z = model.pre2_forward(x)\n",
    "            t = t.to(device)\n",
    "\n",
    "            zs = torch.cat((zs,z.view(-1,latent_dim,1)),0)\n",
    "            ts = torch.cat((ts,t),0)\n",
    "            mus = torch.cat((mus,mu.view(-1,latent_dim,1)),0)\n",
    "            logvars = torch.cat((logvars,logvar.view(-1,latent_dim,1)),0)\n",
    "\n",
    "    return zs,ts,mus,logvars"
   ],
   "metadata": {
    "collapsed": false,
    "pycharm": {
     "name": "#%%\n"
    }
   }
  },
  {
   "cell_type": "code",
   "execution_count": 130,
   "outputs": [],
   "source": [
    "def pre3_take_latents():\n",
    "    zs = torch.empty(0,latent_dim,1).to(device).requires_grad_(False)\n",
    "    ts = torch.empty(0,dtype=torch.long).to(device).requires_grad_(False)\n",
    "    mus = torch.empty(0,latent_dim,1).to(device).requires_grad_(False)\n",
    "    logvars = torch.empty(0,latent_dim,1).to(device).requires_grad_(False)\n",
    "\n",
    "    for batch_idx, (x,t) in enumerate(test_loader):\n",
    "\n",
    "        if batch_idx < take_latent_max:\n",
    "            x = x.to(device)\n",
    "            with torch.no_grad():\n",
    "                recon_batch,mu,logvar, z = model.pre3_forward(x)\n",
    "            t = t.to(device)\n",
    "\n",
    "            zs = torch.cat((zs,z.view(-1,latent_dim,1)),0)\n",
    "            ts = torch.cat((ts,t),0)\n",
    "            mus = torch.cat((mus,mu.view(-1,latent_dim,1)),0)\n",
    "            logvars = torch.cat((logvars,logvar.view(-1,latent_dim,1)),0)\n",
    "\n",
    "    return zs,ts,mus,logvars"
   ],
   "metadata": {
    "collapsed": false,
    "pycharm": {
     "name": "#%%\n"
    }
   }
  },
  {
   "cell_type": "code",
   "execution_count": 131,
   "outputs": [],
   "source": [
    "def initialize_centers():\n",
    "\n",
    "    #mu_center = mus.mean(0,keepdim=True).detach().requires_grad_(False)\n",
    "    #mus_white = mus.detach().requires_grad_(False)-mu_center\n",
    "    #cov_mus = torch.matmul(mus_white.squeeze(2).t(),mus_white.squeeze(2))/mus.shape[0]\n",
    "\n",
    "    #mu_distribution = MultivariateNormal(loc=mu_center.view(-1,latent_dim),covariance_matrix=cov_mus)\n",
    "    #mu_c = mu_distribution.sample([K_model_cluster,])\n",
    "    #mu_c = mu_c.permute(1,2,0)\n",
    "\n",
    "    #logvar_c = torch.diag(cov_mus).log()\n",
    "    #logvar_c = logvar_c.view(1,latent_dim,1)\n",
    "    #logvar_c = logvar_c.repeat(1,1,K_model_cluster)\n",
    "\n",
    "    #mu_distribution = MultivariateNormal(loc=torch.zeros(latent_dim),covariance_matrix=torch.eye(latent_dim))\n",
    "    #mu_c = mu_distribution.sample([K_model_cluster,])\n",
    "    #mu_c = mu_c.permute(1,0)\n",
    "    #mu_c = mu_c.view(1,latent_dim,K_model_cluster).to(device)\n",
    "\n",
    "\n",
    "    mu_c = torch.randn(1,latent_dim,K_model_cluster,device=device)\n",
    "\n",
    "    logvar_c = torch.zeros(1,latent_dim,K_model_cluster).to(device).requires_grad_(False)\n",
    "\n",
    "    pi_c = torch.full((1,1,K_model_cluster),1./K_model_cluster).to(device).requires_grad_(False)\n",
    "\n",
    "    return mu_c,logvar_c,pi_c"
   ],
   "metadata": {
    "collapsed": false,
    "pycharm": {
     "name": "#%%\n"
    }
   }
  },
  {
   "cell_type": "code",
   "execution_count": 132,
   "outputs": [],
   "source": [
    "def gauss(mus,logvars,mu_c,logvar_c,pi_c,iter):\n",
    "    #mus = mus_ini\n",
    "    #logvars = logvars_ini\n",
    "    #mu_c = mu_c_ini\n",
    "    #logvar_c = logvar_c_ini\n",
    "    #pi_c = pi_c_ini\n",
    "\n",
    "    for i in range(iter):\n",
    "        with torch.no_grad():\n",
    "            Q_c = logvar_c+(logvars.exp()+(mus-mu_c).pow(2))/(logvar_c.exp())\n",
    "\n",
    "            gamma_c = (pi_c*((-0.5*Q_c.sum(1,keepdim=True)).exp()))/(pi_c*((-0.5*Q_c.sum(1,keepdim=True)).exp())).sum(2,keepdim=True)\n",
    "\n",
    "            N_c = gamma_c.sum(0,keepdim=True)\n",
    "            log_P = (((pi_c*((-0.5*Q_c.sum(1,keepdim=True)).exp())).sum(2).squeeze()).log()).sum()/(Q_c.shape)[0]\n",
    "            pi_c= N_c/N_c.sum()\n",
    "            mu_c=(gamma_c*mus).sum(0,keepdim=True)/N_c\n",
    "            logvar_c=((gamma_c*((mus-mu_c).pow(2)+logvars.exp())).sum(0,keepdim=True)/N_c).log()\n",
    "\n",
    "\n",
    "    return mu_c,logvar_c,pi_c,Q_c,gamma_c,log_P"
   ],
   "metadata": {
    "collapsed": false,
    "pycharm": {
     "name": "#%%\n"
    }
   }
  },
  {
   "cell_type": "code",
   "execution_count": 133,
   "outputs": [],
   "source": [
    "def drawpoints(mus_numpy,ts_numpy):\n",
    "    colors = [\"red\", \"green\", \"blue\", \"orange\", \"purple\", \"brown\", \"fuchsia\", \"grey\", \"olive\", \"lightblue\"]\n",
    "    for p,l in zip(points,ts_numpy):\n",
    "        plt.scatter(p[0],p[1],marker=\"${}$\".format(l),c=colors[l])"
   ],
   "metadata": {
    "collapsed": false,
    "pycharm": {
     "name": "#%%\n"
    }
   }
  },
  {
   "cell_type": "code",
   "execution_count": 134,
   "outputs": [],
   "source": [
    "def show_generated_samples_c(mu_c,logvar_c):\n",
    "    for i in range(K_model_cluster):\n",
    "        with torch.no_grad():\n",
    "            sample_dist = MultivariateNormal(loc=mu_c[:,:,i],covariance_matrix=torch.diag(logvar_c[0,:,i].exp()))\n",
    "    #mu_distribution = MultivariateNormal(loc=mu_center.cpu(),covariance_matrix=cov_mus.cpu())\n",
    "            sample = sample_dist.sample([64,])\n",
    "#    sample = torch.randn(64,latent_dim).to(device)\n",
    "        #20次元の潜在空間のデータを64個作成して、GPUに送る\n",
    "            sample = model.decode(sample).cpu()\n",
    "        #ランダムな潜在変数から画像を生成する。\n",
    "            save_image(sample.view(64,1,28,28),save_folder+'/sample_c_' + str(i) + '.png',nrow=8)\n",
    "        #生成した６４個のデータを記録しておく"
   ],
   "metadata": {
    "collapsed": false,
    "pycharm": {
     "name": "#%%\n"
    }
   }
  },
  {
   "cell_type": "code",
   "execution_count": 135,
   "outputs": [],
   "source": [
    "def loss_function_c(recon_x,x,mus_f,logvars_f,mu_c_f,logvar_c_f,pi_c_f):\n",
    "    BCE = F.binary_cross_entropy(recon_x,x.view(-1,784),reduction='sum')\n",
    "    #recon_xはsigmoidをdecordeで通されているので、[0,1]になっている。\n",
    "    #KLD = -0.5*torch.sum(1+logvar-mu.pow(2)-logvar.exp())\n",
    "    #Q_c_f = -logvars_f+logvar_c_f+logvars_f.exp()/(logvar_c_f.exp())+(mus_f-mu_c_f).pow(2)/(logvar_c_f.exp())\n",
    "    #KLD = (((pi_c_f*((-0.5*(-logvars_f+logvar_c_f+logvars_f.exp()/(logvar_c_f.exp())+(mus_f-mu_c_f).pow(2)/(logvar_c_f.exp())).sum(1,keepdim=True)).exp())).sum(2).squeeze()).log()).sum()\n",
    "    KLD = -0.5*(1+logvars_f).sum() -(((pi_c_f*(-0.5*((logvar_c_f+(logvars_f.exp()+(mus_f-mu_c_f).pow(2))/logvar_c_f.exp()).sum(1,keepdim=True))).exp()).sum(2,keepdim=True)).log()).sum()#+(logvars_f.exp()+(mus_f-mu_c_f).pow(2))/(logvar_c_f.exp()))\n",
    "\n",
    "    return BCE+beta*KLD"
   ],
   "metadata": {
    "collapsed": false,
    "pycharm": {
     "name": "#%%\n"
    }
   }
  },
  {
   "cell_type": "code",
   "execution_count": 136,
   "outputs": [],
   "source": [
    "def train_c(epoch,mu_c,logvar_c,pi_c):\n",
    "    model.train()\n",
    "    train_loss = 0\n",
    "    for batch_idx, (data,_) in enumerate(train_loader):\n",
    "        #ラベルは使わないようだ\n",
    "        data = data.to(device)\n",
    "        #データをGPUにおくる\n",
    "        optimizer.zero_grad()\n",
    "        #傾きの初期化\n",
    "        recon_batch, mu, logvar,z = model(data)\n",
    "        #VAEからバッヂ分のデータと中心と分散のログを受け取る\n",
    "        loss = loss_function_c(recon_x=recon_batch,x=data,mus_f=mu.view(-1,latent_dim,1),logvars_f=logvar.view(-1,latent_dim,1),mu_c_f=mu_c,logvar_c_f=logvar_c,pi_c_f=pi_c)\n",
    "        #バッヂ分のロスを計算。バッヂ数で割っていないようだ。書き出しのときにデータ数で割っている。\n",
    "        loss.backward()\n",
    "        #傾きを計算\n",
    "        train_loss+= loss.item()\n",
    "        optimizer.step()\n",
    "        #パラメータの更新\n",
    "        if batch_idx % log_interval ==0:\n",
    "            #一定間隔でロスを書き出し。epochはここでしか使っていないようだ。len()は最初の次元の大きさを出すのでバッヂの大きさ。\n",
    "            print('Train Epoch: {} [{}/{} ({:.0f}%)]\\tLoss: {:.6f}'.format(\n",
    "              epoch,batch_idx*len(data),len(train_loader.dataset),\n",
    "                100.*batch_idx/len(train_loader),\n",
    "                loss.item()/len(data)\n",
    "            ))"
   ],
   "metadata": {
    "collapsed": false,
    "pycharm": {
     "name": "#%%\n"
    }
   }
  },
  {
   "cell_type": "code",
   "execution_count": 137,
   "outputs": [],
   "source": [
    "def test_c(epoch,mu_c,logvar_c,pi_c):\n",
    "    model.eval()\n",
    "    test_loss = 0\n",
    "    with torch.no_grad():#バックプロパゲーションを行わないから、微分情報を残さない\n",
    "        for i, (data, _) in enumerate(test_loader):\n",
    "            #テストデータを取り出す。ラベルはいらない。\n",
    "            data =data.to(device)\n",
    "            #データをGPUに送る\n",
    "            recon_batch, mu, logvar,z = model(data)\n",
    "            #データからバッヂ分の再現画像と中心と分散の対数を出している。\n",
    "            test_loss += loss_function_c(recon_x=recon_batch,x=data,mus_f=mu.view(-1,latent_dim,1),logvars_f=logvar.view(-1,latent_dim,1),mu_c_f=mu_c,logvar_c_f=logvar_c,pi_c_f=pi_c).item()\n",
    "            #テストデータでのロスを出している\n",
    "            if i == 0:\n",
    "                #はじめのバッヂについて\n",
    "                n = min(data.size(0),16)\n",
    "                #nをバッヂのデータ数か８との小さい方として\n",
    "                comparizon = torch.cat([data[:n],recon_batch.view(batch_size,1,28,28)[:n]])\n",
    "                #元データと再現データを並べる\n",
    "                save_image(comparizon.cpu(),'./'+save_folder+'/reconstruction_c_' + str(epoch) + '.png',nrow=n)\n",
    "\n",
    "                test_loss /= len(test_loader.dataset)\n",
    "                print('====> Test set loss: {:.4f}'.format(test_loss))"
   ],
   "metadata": {
    "collapsed": false,
    "pycharm": {
     "name": "#%%\n"
    }
   }
  },
  {
   "cell_type": "code",
   "execution_count": 138,
   "outputs": [],
   "source": [
    "def train_c_epoch(epochs,mu_c,logvar_c,pi_c):\n",
    "    for epoch in range(1, epochs +1):\n",
    "        train_c(epoch,mu_c,logvar_c,pi_c)\n",
    "        test_c(epoch,mu_c,logvar_c,pi_c)\n",
    "        with torch.no_grad():\n",
    "            sample = torch.randn(64,latent_dim).to(device)\n",
    "        #20次元の潜在空間のデータを64個作成して、GPUに送る\n",
    "            sample = model.decode(sample).cpu()\n",
    "        #ランダムな潜在変数から画像を生成する。\n",
    "            save_image(sample.view(64,1,28,28),save_folder+'/sample_c_epoch_' + str(epoch) + '.png',nrow=8)\n",
    "        #生成した６４個のデータを記録しておく"
   ],
   "metadata": {
    "collapsed": false,
    "pycharm": {
     "name": "#%%\n"
    }
   }
  },
  {
   "cell_type": "code",
   "execution_count": 159,
   "outputs": [],
   "source": [
    "beta = 0."
   ],
   "metadata": {
    "collapsed": false,
    "pycharm": {
     "name": "#%%\n"
    }
   }
  },
  {
   "cell_type": "code",
   "execution_count": 160,
   "outputs": [
    {
     "name": "stdout",
     "output_type": "stream",
     "text": [
      "Train Epoch: 1 [0/60000 (0%)]\tLoss: 549.779375\n",
      "====> Test set loss: 0.9442\n",
      "Train Epoch: 2 [0/60000 (0%)]\tLoss: 90.795645\n",
      "====> Test set loss: 0.8588\n",
      "Train Epoch: 3 [0/60000 (0%)]\tLoss: 91.435986\n",
      "====> Test set loss: 0.8674\n",
      "Train Epoch: 4 [0/60000 (0%)]\tLoss: 84.735391\n",
      "====> Test set loss: 0.7838\n",
      "Train Epoch: 5 [0/60000 (0%)]\tLoss: 84.949980\n",
      "====> Test set loss: 0.8531\n",
      "Train Epoch: 6 [0/60000 (0%)]\tLoss: 85.920625\n",
      "====> Test set loss: 0.8457\n",
      "Train Epoch: 7 [0/60000 (0%)]\tLoss: 81.998818\n",
      "====> Test set loss: 0.8462\n",
      "Train Epoch: 8 [0/60000 (0%)]\tLoss: 79.660918\n",
      "====> Test set loss: 0.7763\n",
      "Train Epoch: 9 [0/60000 (0%)]\tLoss: 83.345811\n",
      "====> Test set loss: 0.7814\n",
      "Train Epoch: 10 [0/60000 (0%)]\tLoss: 81.136968\n",
      "====> Test set loss: 0.8197\n"
     ]
    }
   ],
   "source": [
    "pre1_loop(10)\n",
    "zs_g,ts_g,mus_g,logvars_g = pre1_take_latents()"
   ],
   "metadata": {
    "collapsed": false,
    "pycharm": {
     "name": "#%%\n"
    }
   }
  },
  {
   "cell_type": "code",
   "execution_count": 164,
   "outputs": [
    {
     "name": "stdout",
     "output_type": "stream",
     "text": [
      "Train Epoch: 1 [0/60000 (0%)]\tLoss: 248.098027\n",
      "====> Test set loss: 0.9051\n",
      "Train Epoch: 2 [0/60000 (0%)]\tLoss: 91.631230\n",
      "====> Test set loss: 0.8265\n",
      "Train Epoch: 3 [0/60000 (0%)]\tLoss: 81.738691\n",
      "====> Test set loss: 0.8406\n",
      "Train Epoch: 4 [0/60000 (0%)]\tLoss: 86.441797\n",
      "====> Test set loss: 0.8308\n",
      "Train Epoch: 5 [0/60000 (0%)]\tLoss: 88.819531\n",
      "====> Test set loss: 0.8643\n",
      "Train Epoch: 6 [0/60000 (0%)]\tLoss: 86.160469\n",
      "====> Test set loss: 0.8224\n",
      "Train Epoch: 7 [0/60000 (0%)]\tLoss: 83.045898\n",
      "====> Test set loss: 0.8003\n",
      "Train Epoch: 8 [0/60000 (0%)]\tLoss: 79.453413\n",
      "====> Test set loss: 0.8198\n",
      "Train Epoch: 9 [0/60000 (0%)]\tLoss: 81.642900\n",
      "====> Test set loss: 0.8093\n",
      "Train Epoch: 10 [0/60000 (0%)]\tLoss: 77.545610\n",
      "====> Test set loss: 0.8571\n"
     ]
    }
   ],
   "source": [
    "pre2_loop(10)\n",
    "zs_g,ts_g,mus_g,logvars_g = pre2_take_latents()"
   ],
   "metadata": {
    "collapsed": false,
    "pycharm": {
     "name": "#%%\n"
    }
   }
  },
  {
   "cell_type": "code",
   "execution_count": 168,
   "outputs": [
    {
     "name": "stdout",
     "output_type": "stream",
     "text": [
      "Train Epoch: 1 [0/60000 (0%)]\tLoss: 282.320391\n",
      "====> Test set loss: 0.9476\n",
      "Train Epoch: 2 [0/60000 (0%)]\tLoss: 98.796553\n",
      "====> Test set loss: 0.9371\n",
      "Train Epoch: 3 [0/60000 (0%)]\tLoss: 96.180898\n",
      "====> Test set loss: 0.9262\n",
      "Train Epoch: 4 [0/60000 (0%)]\tLoss: 92.892715\n",
      "====> Test set loss: 0.8750\n",
      "Train Epoch: 5 [0/60000 (0%)]\tLoss: 93.687383\n",
      "====> Test set loss: 0.9059\n",
      "Train Epoch: 6 [0/60000 (0%)]\tLoss: 94.510352\n",
      "====> Test set loss: 0.8808\n",
      "Train Epoch: 7 [0/60000 (0%)]\tLoss: 92.793535\n",
      "====> Test set loss: 0.9040\n",
      "Train Epoch: 8 [0/60000 (0%)]\tLoss: 95.714199\n",
      "====> Test set loss: 0.8929\n",
      "Train Epoch: 9 [0/60000 (0%)]\tLoss: 86.945449\n",
      "====> Test set loss: 0.8597\n",
      "Train Epoch: 10 [0/60000 (0%)]\tLoss: 86.791191\n",
      "====> Test set loss: 0.8574\n"
     ]
    }
   ],
   "source": [
    "pre3_loop(10)\n",
    "zs_g,ts_g,mus_g,logvars_g = pre2_take_latents()"
   ],
   "metadata": {
    "collapsed": false,
    "pycharm": {
     "name": "#%%\n"
    }
   }
  },
  {
   "cell_type": "code",
   "execution_count": 172,
   "outputs": [
    {
     "data": {
      "text/plain": "(torch.Size([1, 10, 10]), torch.Size([1, 10, 10]), torch.Size([1, 1, 10]))"
     },
     "execution_count": 172,
     "metadata": {},
     "output_type": "execute_result"
    }
   ],
   "source": [
    "#zs_g,ts_g,mus_g,logvars_g = take_latents()\n",
    "mu_c_g,logvar_c_g,pi_c_g = initialize_centers()\n",
    "mu_c_g,logvar_c_g,pi_c_g,Q_c_g,gamma_c_g,log_P_g = gauss(mus_g,logvars_g,mu_c_g,logvar_c_g,pi_c_g,50)\n",
    "mu_c_g.shape,logvar_c_g.shape,pi_c_g.shape\n",
    "#mu_c_g,logvar_c_g,pi_c_g,Q_c_g,gamma_c_g,log_P_g = gauss(mus_g,logvars_g,mu_c_g,logvar_c_g,pi_c_g,50)"
   ],
   "metadata": {
    "collapsed": false,
    "pycharm": {
     "name": "#%%\n"
    }
   }
  },
  {
   "cell_type": "code",
   "execution_count": 173,
   "outputs": [
    {
     "name": "stdout",
     "output_type": "stream",
     "text": [
      "Train Epoch: 0 [0/60000 (0%)]\tLoss: 408.239531\n",
      "====> Test set loss: 0.8565\n",
      "Train Epoch: 1 [0/60000 (0%)]\tLoss: 88.874580\n",
      "====> Test set loss: 0.7899\n",
      "Train Epoch: 2 [0/60000 (0%)]\tLoss: nan\n"
     ]
    },
    {
     "ename": "RuntimeError",
     "evalue": "reduce failed to synchronize: device-side assert triggered",
     "output_type": "error",
     "traceback": [
      "\u001B[0;31m---------------------------------------------------------------------------\u001B[0m",
      "\u001B[0;31mRuntimeError\u001B[0m                              Traceback (most recent call last)",
      "\u001B[0;32m<ipython-input-173-0aeb92f5a4e9>\u001B[0m in \u001B[0;36m<module>\u001B[0;34m\u001B[0m\n\u001B[1;32m      3\u001B[0m     \u001B[0;31m#train_c_epoch(epochs=1,mu_c=mu_c_g,logvar_c=logvar_c_g,pi_c=pi_c_g)\u001B[0m\u001B[0;34m\u001B[0m\u001B[0;34m\u001B[0m\u001B[0;34m\u001B[0m\u001B[0m\n\u001B[1;32m      4\u001B[0m \u001B[0;34m\u001B[0m\u001B[0m\n\u001B[0;32m----> 5\u001B[0;31m     \u001B[0mtrain_c\u001B[0m\u001B[0;34m(\u001B[0m\u001B[0mepoch\u001B[0m\u001B[0;34m=\u001B[0m\u001B[0mi\u001B[0m\u001B[0;34m,\u001B[0m\u001B[0mmu_c\u001B[0m\u001B[0;34m=\u001B[0m\u001B[0mmu_c_g\u001B[0m\u001B[0;34m,\u001B[0m\u001B[0mlogvar_c\u001B[0m\u001B[0;34m=\u001B[0m\u001B[0mlogvar_c_g\u001B[0m\u001B[0;34m,\u001B[0m\u001B[0mpi_c\u001B[0m\u001B[0;34m=\u001B[0m\u001B[0mpi_c_g\u001B[0m\u001B[0;34m)\u001B[0m\u001B[0;34m\u001B[0m\u001B[0;34m\u001B[0m\u001B[0m\n\u001B[0m\u001B[1;32m      6\u001B[0m     \u001B[0mtest_c\u001B[0m\u001B[0;34m(\u001B[0m\u001B[0mepoch\u001B[0m\u001B[0;34m=\u001B[0m\u001B[0mi\u001B[0m\u001B[0;34m,\u001B[0m\u001B[0mmu_c\u001B[0m\u001B[0;34m=\u001B[0m\u001B[0mmu_c_g\u001B[0m\u001B[0;34m,\u001B[0m\u001B[0mlogvar_c\u001B[0m\u001B[0;34m=\u001B[0m\u001B[0mlogvar_c_g\u001B[0m\u001B[0;34m,\u001B[0m\u001B[0mpi_c\u001B[0m\u001B[0;34m=\u001B[0m\u001B[0mpi_c_g\u001B[0m\u001B[0;34m)\u001B[0m\u001B[0;34m\u001B[0m\u001B[0;34m\u001B[0m\u001B[0m\n\u001B[1;32m      7\u001B[0m     \u001B[0mscheduler\u001B[0m\u001B[0;34m.\u001B[0m\u001B[0mstep\u001B[0m\u001B[0;34m(\u001B[0m\u001B[0;34m)\u001B[0m\u001B[0;34m\u001B[0m\u001B[0;34m\u001B[0m\u001B[0m\n",
      "\u001B[0;32m<ipython-input-136-0063277e2dfc>\u001B[0m in \u001B[0;36mtrain_c\u001B[0;34m(epoch, mu_c, logvar_c, pi_c)\u001B[0m\n\u001B[1;32m     11\u001B[0m         \u001B[0mrecon_batch\u001B[0m\u001B[0;34m,\u001B[0m \u001B[0mmu\u001B[0m\u001B[0;34m,\u001B[0m \u001B[0mlogvar\u001B[0m\u001B[0;34m,\u001B[0m\u001B[0mz\u001B[0m \u001B[0;34m=\u001B[0m \u001B[0mmodel\u001B[0m\u001B[0;34m(\u001B[0m\u001B[0mdata\u001B[0m\u001B[0;34m)\u001B[0m\u001B[0;34m\u001B[0m\u001B[0;34m\u001B[0m\u001B[0m\n\u001B[1;32m     12\u001B[0m         \u001B[0;31m#VAEからバッヂ分のデータと中心と分散のログを受け取る\u001B[0m\u001B[0;34m\u001B[0m\u001B[0;34m\u001B[0m\u001B[0;34m\u001B[0m\u001B[0m\n\u001B[0;32m---> 13\u001B[0;31m         \u001B[0mloss\u001B[0m \u001B[0;34m=\u001B[0m \u001B[0mloss_function_c\u001B[0m\u001B[0;34m(\u001B[0m\u001B[0mrecon_x\u001B[0m\u001B[0;34m=\u001B[0m\u001B[0mrecon_batch\u001B[0m\u001B[0;34m,\u001B[0m\u001B[0mx\u001B[0m\u001B[0;34m=\u001B[0m\u001B[0mdata\u001B[0m\u001B[0;34m,\u001B[0m\u001B[0mmus_f\u001B[0m\u001B[0;34m=\u001B[0m\u001B[0mmu\u001B[0m\u001B[0;34m.\u001B[0m\u001B[0mview\u001B[0m\u001B[0;34m(\u001B[0m\u001B[0;34m-\u001B[0m\u001B[0;36m1\u001B[0m\u001B[0;34m,\u001B[0m\u001B[0mlatent_dim\u001B[0m\u001B[0;34m,\u001B[0m\u001B[0;36m1\u001B[0m\u001B[0;34m)\u001B[0m\u001B[0;34m,\u001B[0m\u001B[0mlogvars_f\u001B[0m\u001B[0;34m=\u001B[0m\u001B[0mlogvar\u001B[0m\u001B[0;34m.\u001B[0m\u001B[0mview\u001B[0m\u001B[0;34m(\u001B[0m\u001B[0;34m-\u001B[0m\u001B[0;36m1\u001B[0m\u001B[0;34m,\u001B[0m\u001B[0mlatent_dim\u001B[0m\u001B[0;34m,\u001B[0m\u001B[0;36m1\u001B[0m\u001B[0;34m)\u001B[0m\u001B[0;34m,\u001B[0m\u001B[0mmu_c_f\u001B[0m\u001B[0;34m=\u001B[0m\u001B[0mmu_c\u001B[0m\u001B[0;34m,\u001B[0m\u001B[0mlogvar_c_f\u001B[0m\u001B[0;34m=\u001B[0m\u001B[0mlogvar_c\u001B[0m\u001B[0;34m,\u001B[0m\u001B[0mpi_c_f\u001B[0m\u001B[0;34m=\u001B[0m\u001B[0mpi_c\u001B[0m\u001B[0;34m)\u001B[0m\u001B[0;34m\u001B[0m\u001B[0;34m\u001B[0m\u001B[0m\n\u001B[0m\u001B[1;32m     14\u001B[0m         \u001B[0;31m#バッヂ分のロスを計算。バッヂ数で割っていないようだ。書き出しのときにデータ数で割っている。\u001B[0m\u001B[0;34m\u001B[0m\u001B[0;34m\u001B[0m\u001B[0;34m\u001B[0m\u001B[0m\n\u001B[1;32m     15\u001B[0m         \u001B[0mloss\u001B[0m\u001B[0;34m.\u001B[0m\u001B[0mbackward\u001B[0m\u001B[0;34m(\u001B[0m\u001B[0;34m)\u001B[0m\u001B[0;34m\u001B[0m\u001B[0;34m\u001B[0m\u001B[0m\n",
      "\u001B[0;32m<ipython-input-135-25672c7d99d0>\u001B[0m in \u001B[0;36mloss_function_c\u001B[0;34m(recon_x, x, mus_f, logvars_f, mu_c_f, logvar_c_f, pi_c_f)\u001B[0m\n\u001B[1;32m      1\u001B[0m \u001B[0;34m\u001B[0m\u001B[0m\n\u001B[1;32m      2\u001B[0m \u001B[0;32mdef\u001B[0m \u001B[0mloss_function_c\u001B[0m\u001B[0;34m(\u001B[0m\u001B[0mrecon_x\u001B[0m\u001B[0;34m,\u001B[0m\u001B[0mx\u001B[0m\u001B[0;34m,\u001B[0m\u001B[0mmus_f\u001B[0m\u001B[0;34m,\u001B[0m\u001B[0mlogvars_f\u001B[0m\u001B[0;34m,\u001B[0m\u001B[0mmu_c_f\u001B[0m\u001B[0;34m,\u001B[0m\u001B[0mlogvar_c_f\u001B[0m\u001B[0;34m,\u001B[0m\u001B[0mpi_c_f\u001B[0m\u001B[0;34m)\u001B[0m\u001B[0;34m:\u001B[0m\u001B[0;34m\u001B[0m\u001B[0;34m\u001B[0m\u001B[0m\n\u001B[0;32m----> 3\u001B[0;31m     \u001B[0mBCE\u001B[0m \u001B[0;34m=\u001B[0m \u001B[0mF\u001B[0m\u001B[0;34m.\u001B[0m\u001B[0mbinary_cross_entropy\u001B[0m\u001B[0;34m(\u001B[0m\u001B[0mrecon_x\u001B[0m\u001B[0;34m,\u001B[0m\u001B[0mx\u001B[0m\u001B[0;34m.\u001B[0m\u001B[0mview\u001B[0m\u001B[0;34m(\u001B[0m\u001B[0;34m-\u001B[0m\u001B[0;36m1\u001B[0m\u001B[0;34m,\u001B[0m\u001B[0;36m784\u001B[0m\u001B[0;34m)\u001B[0m\u001B[0;34m,\u001B[0m\u001B[0mreduction\u001B[0m\u001B[0;34m=\u001B[0m\u001B[0;34m'sum'\u001B[0m\u001B[0;34m)\u001B[0m\u001B[0;34m\u001B[0m\u001B[0;34m\u001B[0m\u001B[0m\n\u001B[0m\u001B[1;32m      4\u001B[0m     \u001B[0;31m#recon_xはsigmoidをdecordeで通されているので、[0,1]になっている。\u001B[0m\u001B[0;34m\u001B[0m\u001B[0;34m\u001B[0m\u001B[0;34m\u001B[0m\u001B[0m\n\u001B[1;32m      5\u001B[0m     \u001B[0;31m#KLD = -0.5*torch.sum(1+logvar-mu.pow(2)-logvar.exp())\u001B[0m\u001B[0;34m\u001B[0m\u001B[0;34m\u001B[0m\u001B[0;34m\u001B[0m\u001B[0m\n",
      "\u001B[0;32m~/PycharmProjects/auto_encoder/venv/lib/python3.6/site-packages/torch/nn/functional.py\u001B[0m in \u001B[0;36mbinary_cross_entropy\u001B[0;34m(input, target, weight, size_average, reduce, reduction)\u001B[0m\n\u001B[1;32m   2111\u001B[0m \u001B[0;34m\u001B[0m\u001B[0m\n\u001B[1;32m   2112\u001B[0m     return torch._C._nn.binary_cross_entropy(\n\u001B[0;32m-> 2113\u001B[0;31m         input, target, weight, reduction_enum)\n\u001B[0m\u001B[1;32m   2114\u001B[0m \u001B[0;34m\u001B[0m\u001B[0m\n\u001B[1;32m   2115\u001B[0m \u001B[0;34m\u001B[0m\u001B[0m\n",
      "\u001B[0;31mRuntimeError\u001B[0m: reduce failed to synchronize: device-side assert triggered"
     ]
    }
   ],
   "source": [
    "for i in range(50):\n",
    "    #train_c_epoch(epochs=1,mu_c=mu_c_g,logvar_c=logvar_c_g,pi_c=pi_c_g)\n",
    "\n",
    "    train_c(epoch=i,mu_c=mu_c_g,logvar_c=logvar_c_g,pi_c=pi_c_g)\n",
    "    test_c(epoch=i,mu_c=mu_c_g,logvar_c=logvar_c_g,pi_c=pi_c_g)\n",
    "    scheduler.step()\n",
    "    zs_g,ts_g,mus_g,logvars_g = take_latents()\n",
    "\n",
    "\n",
    "    mu_c_g,logvar_c_g,pi_c_g,Q_c_g,gamma_c_g,log_P_g = gauss(mus_g,logvars_g,mu_c_g,logvar_c_g,pi_c_g,50)\n",
    "\n",
    "\n",
    "\n",
    "#(lo\n",
    "# gvars_g.exp()).mean(0,keepdim=True).shape\n",
    "#logvar_c_g.exp().shape\n",
    "#(logvars_g.exp()/logvar_c_g.exp())[0,:,0]\n",
    "#(-0.5*Q_c_g.sum(1,keepdim=True)).exp()\n",
    "#(((mus_g-mu_c_g).pow(2))/(logvar_c_g.exp())).mean(0,keepdim=True),(logvars_g.exp()).mean(0,keepdim=True)\n",
    "#logvar_c_g.exp()+(logvars_g.exp()).mean(0,keepdim=True)\n",
    "log_P_g,pi_c_g"
   ],
   "metadata": {
    "collapsed": false,
    "pycharm": {
     "name": "#%%\n"
    }
   }
  },
  {
   "cell_type": "code",
   "execution_count": 169,
   "outputs": [
    {
     "data": {
      "text/plain": "<Figure size 432x288 with 1 Axes>",
      "image/png": "[encoded data removed]"
     },
     "metadata": {
      "needs_background": "light"
     },
     "output_type": "display_data"
    }
   ],
   "source": [
    "points = TSNE(n_components=2,random_state=0).fit_transform(mus_g.view(-1,latent_dim).cpu().detach().numpy())\n",
    "drawpoints(points,ts_g.cpu().detach().numpy())"
   ],
   "metadata": {
    "collapsed": false,
    "pycharm": {
     "name": "#%%\n"
    }
   }
  },
  {
   "cell_type": "code",
   "execution_count": 157,
   "outputs": [
    {
     "data": {
      "text/plain": "<Figure size 432x288 with 1 Axes>",
      "image/png": "[encoded data removed]"
     },
     "metadata": {
      "needs_background": "light"
     },
     "output_type": "display_data"
    }
   ],
   "source": [
    "drawpoints(points,torch.argmax(gamma_c_g,2).view(-1).cpu().detach().numpy())"
   ],
   "metadata": {
    "collapsed": false,
    "pycharm": {
     "name": "#%%\n"
    }
   }
  },
  {
   "cell_type": "code",
   "execution_count": 170,
   "outputs": [
    {
     "data": {
      "text/plain": "<Figure size 432x288 with 1 Axes>",
      "image/png": "[encoded data removed]"
     },
     "metadata": {
      "needs_background": "light"
     },
     "output_type": "display_data"
    }
   ],
   "source": [
    "kmeans_model = KMeans(n_clusters=K_model_cluster, random_state=1).fit(mus_g.view(-1,latent_dim).cpu().detach().numpy())\n",
    "drawpoints(points,kmeans_model.labels_)"
   ],
   "metadata": {
    "collapsed": false,
    "pycharm": {
     "name": "#%%\n"
    }
   }
  },
  {
   "cell_type": "code",
   "execution_count": 171,
   "outputs": [
    {
     "data": {
      "text/plain": "<Figure size 432x288 with 1 Axes>",
      "image/png": "[encoded data removed]"
     },
     "metadata": {
      "needs_background": "light"
     },
     "output_type": "display_data"
    }
   ],
   "source": [
    "gauss_model = GaussianMixture(n_components=K_model_cluster,covariance_type='diag',random_state=1).fit(mus_g.view(-1,latent_dim).cpu().detach().numpy())\n",
    "drawpoints(points,gauss_model.predict(mus_g.view(-1,latent_dim).cpu().detach().numpy()))"
   ],
   "metadata": {
    "collapsed": false,
    "pycharm": {
     "name": "#%%\n"
    }
   }
  },
  {
   "cell_type": "code",
   "execution_count": null,
   "outputs": [],
   "source": [
    "show_generated_samples_c(mu_c_g,logvar_c_g)"
   ],
   "metadata": {
    "collapsed": false,
    "pycharm": {
     "name": "#%%\n"
    }
   }
  },
  {
   "cell_type": "code",
   "execution_count": 120,
   "outputs": [
    {
     "data": {
      "text/plain": "8.478231655043248e-05"
     },
     "execution_count": 120,
     "metadata": {},
     "output_type": "execute_result"
    }
   ],
   "source": [
    "optimizer.param_groups[0]['lr']"
   ],
   "metadata": {
    "collapsed": false,
    "pycharm": {
     "name": "#%%\n"
    }
   }
  },
  {
   "cell_type": "code",
   "execution_count": 181,
   "outputs": [],
   "source": [
    "\n",
    "mu_c_g = torch.from_numpy(kmeans_model.cluster_centers_).to(device)"
   ],
   "metadata": {
    "collapsed": false,
    "pycharm": {
     "name": "#%%\n"
    }
   }
  },
  {
   "cell_type": "code",
   "execution_count": 184,
   "outputs": [],
   "source": [
    "mu_c_g = mu_c_g.view(1,latent_dim,K_model_cluster)"
   ],
   "metadata": {
    "collapsed": false,
    "pycharm": {
     "name": "#%%\n"
    }
   }
  },
  {
   "cell_type": "code",
   "execution_count": 186,
   "outputs": [
    {
     "data": {
      "text/plain": "torch.Size([1, 10, 10])"
     },
     "execution_count": 186,
     "metadata": {},
     "output_type": "execute_result"
    }
   ],
   "source": [
    "mu_c_g.shape"
   ],
   "metadata": {
    "collapsed": false,
    "pycharm": {
     "name": "#%%\n"
    }
   }
  },
  {
   "cell_type": "code",
   "execution_count": null,
   "outputs": [],
   "source": [],
   "metadata": {
    "collapsed": false,
    "pycharm": {
     "name": "#%%\n"
    }
   }
  }
 ],
 "metadata": {
  "kernelspec": {
   "display_name": "Python 3",
   "language": "python",
   "name": "python3"
  },
  "language_info": {
   "codemirror_mode": {
    "name": "ipython",
    "version": 2
   },
   "file_extension": ".py",
   "mimetype": "text/x-python",
   "name": "python",
   "nbconvert_exporter": "python",
   "pygments_lexer": "ipython2",
   "version": "2.7.6"
  }
 },
 "nbformat": 4,
 "nbformat_minor": 0
}