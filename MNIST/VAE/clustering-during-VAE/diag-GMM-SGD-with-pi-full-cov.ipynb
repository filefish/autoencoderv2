{
 "cells": [
  {
   "cell_type": "code",
   "execution_count": 784,
   "outputs": [],
   "source": [
    "from __future__ import print_function\n",
    "\n",
    "import argparse\n",
    "import torch\n",
    "import torch.utils.data\n",
    "from torch import nn, optim\n",
    "from torch.nn import functional as F\n",
    "from torchvision import datasets, transforms\n",
    "from torchvision.utils import save_image\n",
    "\n",
    "import matplotlib.pyplot as plt\n",
    "from torch.distributions.multivariate_normal import MultivariateNormal\n",
    "import numpy as np\n",
    "\n",
    "\n",
    "from sklearn.manifold import TSNE\n",
    "from random import random\n",
    "from sklearn.mixture import GaussianMixture\n",
    "from sklearn.mixture import BayesianGaussianMixture\n",
    "from sklearn.cluster import KMeans"
   ],
   "metadata": {
    "collapsed": false,
    "pycharm": {
     "name": "#%%\n"
    }
   }
  },
  {
   "cell_type": "code",
   "execution_count": 785,
   "outputs": [],
   "source": [
    "\n",
    "batch_size = 100\n",
    "take_latent_max =10\n",
    "num_epoch = 10\n",
    "input_dim=28*28\n",
    "output_dim=input_dim\n",
    "en_hidden1_dim = 500\n",
    "en_hidden2_dim = 500\n",
    "en_hidden3_dim = 2000\n",
    "latent_dim= 10\n",
    "de_hidden1_dim = 2000\n",
    "de_hidden2_dim = 500\n",
    "de_hidden3_dim = 500\n",
    "\n",
    "\n",
    "log_interval = 100\n",
    "\n",
    "K_model_cluster = 10\n",
    "K_real_cluster = 10\n",
    "\n",
    "beta= 1.\n",
    "beta_start = beta\n",
    "beta_end = 1.\n",
    "total_step = 500\n",
    "beta_delta = (beta_end-beta_start)/total_step\n",
    "\n",
    "save_folder = 'SGD-pi-full-cov-results'\n",
    "\n",
    "KMeans_random_state = 1 #(random seed)\n",
    "Gaussian_random_state = 1  #(random seed)\n",
    "\n",
    "eps_N_c = 0\n",
    "iter_adiabatic =1\n",
    "\n",
    "\n",
    "mu_c_focus = 0.8\n",
    "chol_seed_initial = 0.6"
   ],
   "metadata": {
    "collapsed": false,
    "pycharm": {
     "name": "#%%\n"
    }
   }
  },
  {
   "cell_type": "code",
   "execution_count": 786,
   "outputs": [],
   "source": [
    "device = 'cuda'\n",
    "kwargs = {'num_workers':1, 'pin_memory':True}\n",
    "\n",
    "train_loader = torch.utils.data.DataLoader(\n",
    "    datasets.MNIST('../data',train=True,download=True,\n",
    "                   transform=transforms.ToTensor()),\n",
    "    batch_size=batch_size,shuffle=True,**kwargs)\n",
    "\n",
    "test_loader = torch.utils.data.DataLoader(\n",
    "    datasets.MNIST('../data',train=False,transform=transforms.ToTensor()),\n",
    "    batch_size=batch_size,shuffle=True,**kwargs)\n"
   ],
   "metadata": {
    "collapsed": false,
    "pycharm": {
     "name": "#%%\n"
    }
   }
  },
  {
   "cell_type": "code",
   "execution_count": 787,
   "outputs": [],
   "source": [
    "def initialize_centers():\n",
    "\n",
    "    mu_c = mu_c_focus*torch.randn(1,latent_dim,K_model_cluster,device=device)\n",
    "    logvar_c = torch.zeros(1,latent_dim,K_model_cluster).to(device)\n",
    "    inv_sm_pi_c = torch.zeros(1,1,K_model_cluster).to(device)\n",
    "    chol_prec_seed_c = torch.zeros(1,latent_dim,latent_dim,K_model_cluster).to(device)#+chol_seed_initial\n",
    "\n",
    "    for k in range(K_model_cluster):\n",
    "        for i in range(latent_dim):\n",
    "            chol_prec_seed_c[0,i,i,k] += chol_seed_initial\n",
    "\n",
    "    return mu_c,logvar_c,inv_sm_pi_c,chol_prec_seed_c"
   ],
   "metadata": {
    "collapsed": false,
    "pycharm": {
     "name": "#%%\n"
    }
   }
  },
  {
   "cell_type": "code",
   "execution_count": 788,
   "outputs": [
    {
     "data": {
      "text/plain": "(torch.Size([1, 10, 10]),\n torch.Size([1, 10, 10]),\n torch.Size([1, 1, 10]),\n torch.Size([1, 10, 10, 10]))"
     },
     "execution_count": 788,
     "metadata": {},
     "output_type": "execute_result"
    }
   ],
   "source": [
    "\n",
    "\n",
    "#zs_g,ts_g,mus_g,logvars_g = take_latents()\n",
    "mu_c_g,logvar_c_g,inv_sm_pi_c_g,chol_prec_seed_c_g = initialize_centers()\n",
    "#mu_c_g,logvar_c_g,pi_c_g,Q_c_g,gamma_c_g,log_P_g = gauss(mus_g,logvars_g,mu_c_g,logvar_c_g,pi_c_g,50)\n",
    "mu_c_g.shape,logvar_c_g.shape,inv_sm_pi_c_g.shape,chol_prec_seed_c_g.shape\n",
    "#mu_c_g,logvar_c_g,pi_c_g,Q_c_g,gamma_c_g,log_P_g = gauss(mus_g,logvars_g,mu_c_g,logvar_c_g,pi_c_g,50)"
   ],
   "metadata": {
    "collapsed": false,
    "pycharm": {
     "name": "#%%\n"
    }
   }
  },
  {
   "cell_type": "code",
   "execution_count": 789,
   "outputs": [
    {
     "data": {
      "text/plain": "tensor([[[[0.6000, 0.6000, 0.6000, 0.6000, 0.6000, 0.6000, 0.6000, 0.6000,\n           0.6000, 0.6000],\n          [0.0000, 0.0000, 0.0000, 0.0000, 0.0000, 0.0000, 0.0000, 0.0000,\n           0.0000, 0.0000],\n          [0.0000, 0.0000, 0.0000, 0.0000, 0.0000, 0.0000, 0.0000, 0.0000,\n           0.0000, 0.0000],\n          [0.0000, 0.0000, 0.0000, 0.0000, 0.0000, 0.0000, 0.0000, 0.0000,\n           0.0000, 0.0000],\n          [0.0000, 0.0000, 0.0000, 0.0000, 0.0000, 0.0000, 0.0000, 0.0000,\n           0.0000, 0.0000],\n          [0.0000, 0.0000, 0.0000, 0.0000, 0.0000, 0.0000, 0.0000, 0.0000,\n           0.0000, 0.0000],\n          [0.0000, 0.0000, 0.0000, 0.0000, 0.0000, 0.0000, 0.0000, 0.0000,\n           0.0000, 0.0000],\n          [0.0000, 0.0000, 0.0000, 0.0000, 0.0000, 0.0000, 0.0000, 0.0000,\n           0.0000, 0.0000],\n          [0.0000, 0.0000, 0.0000, 0.0000, 0.0000, 0.0000, 0.0000, 0.0000,\n           0.0000, 0.0000],\n          [0.0000, 0.0000, 0.0000, 0.0000, 0.0000, 0.0000, 0.0000, 0.0000,\n           0.0000, 0.0000]],\n\n         [[0.0000, 0.0000, 0.0000, 0.0000, 0.0000, 0.0000, 0.0000, 0.0000,\n           0.0000, 0.0000],\n          [0.6000, 0.6000, 0.6000, 0.6000, 0.6000, 0.6000, 0.6000, 0.6000,\n           0.6000, 0.6000],\n          [0.0000, 0.0000, 0.0000, 0.0000, 0.0000, 0.0000, 0.0000, 0.0000,\n           0.0000, 0.0000],\n          [0.0000, 0.0000, 0.0000, 0.0000, 0.0000, 0.0000, 0.0000, 0.0000,\n           0.0000, 0.0000],\n          [0.0000, 0.0000, 0.0000, 0.0000, 0.0000, 0.0000, 0.0000, 0.0000,\n           0.0000, 0.0000],\n          [0.0000, 0.0000, 0.0000, 0.0000, 0.0000, 0.0000, 0.0000, 0.0000,\n           0.0000, 0.0000],\n          [0.0000, 0.0000, 0.0000, 0.0000, 0.0000, 0.0000, 0.0000, 0.0000,\n           0.0000, 0.0000],\n          [0.0000, 0.0000, 0.0000, 0.0000, 0.0000, 0.0000, 0.0000, 0.0000,\n           0.0000, 0.0000],\n          [0.0000, 0.0000, 0.0000, 0.0000, 0.0000, 0.0000, 0.0000, 0.0000,\n           0.0000, 0.0000],\n          [0.0000, 0.0000, 0.0000, 0.0000, 0.0000, 0.0000, 0.0000, 0.0000,\n           0.0000, 0.0000]],\n\n         [[0.0000, 0.0000, 0.0000, 0.0000, 0.0000, 0.0000, 0.0000, 0.0000,\n           0.0000, 0.0000],\n          [0.0000, 0.0000, 0.0000, 0.0000, 0.0000, 0.0000, 0.0000, 0.0000,\n           0.0000, 0.0000],\n          [0.6000, 0.6000, 0.6000, 0.6000, 0.6000, 0.6000, 0.6000, 0.6000,\n           0.6000, 0.6000],\n          [0.0000, 0.0000, 0.0000, 0.0000, 0.0000, 0.0000, 0.0000, 0.0000,\n           0.0000, 0.0000],\n          [0.0000, 0.0000, 0.0000, 0.0000, 0.0000, 0.0000, 0.0000, 0.0000,\n           0.0000, 0.0000],\n          [0.0000, 0.0000, 0.0000, 0.0000, 0.0000, 0.0000, 0.0000, 0.0000,\n           0.0000, 0.0000],\n          [0.0000, 0.0000, 0.0000, 0.0000, 0.0000, 0.0000, 0.0000, 0.0000,\n           0.0000, 0.0000],\n          [0.0000, 0.0000, 0.0000, 0.0000, 0.0000, 0.0000, 0.0000, 0.0000,\n           0.0000, 0.0000],\n          [0.0000, 0.0000, 0.0000, 0.0000, 0.0000, 0.0000, 0.0000, 0.0000,\n           0.0000, 0.0000],\n          [0.0000, 0.0000, 0.0000, 0.0000, 0.0000, 0.0000, 0.0000, 0.0000,\n           0.0000, 0.0000]],\n\n         [[0.0000, 0.0000, 0.0000, 0.0000, 0.0000, 0.0000, 0.0000, 0.0000,\n           0.0000, 0.0000],\n          [0.0000, 0.0000, 0.0000, 0.0000, 0.0000, 0.0000, 0.0000, 0.0000,\n           0.0000, 0.0000],\n          [0.0000, 0.0000, 0.0000, 0.0000, 0.0000, 0.0000, 0.0000, 0.0000,\n           0.0000, 0.0000],\n          [0.6000, 0.6000, 0.6000, 0.6000, 0.6000, 0.6000, 0.6000, 0.6000,\n           0.6000, 0.6000],\n          [0.0000, 0.0000, 0.0000, 0.0000, 0.0000, 0.0000, 0.0000, 0.0000,\n           0.0000, 0.0000],\n          [0.0000, 0.0000, 0.0000, 0.0000, 0.0000, 0.0000, 0.0000, 0.0000,\n           0.0000, 0.0000],\n          [0.0000, 0.0000, 0.0000, 0.0000, 0.0000, 0.0000, 0.0000, 0.0000,\n           0.0000, 0.0000],\n          [0.0000, 0.0000, 0.0000, 0.0000, 0.0000, 0.0000, 0.0000, 0.0000,\n           0.0000, 0.0000],\n          [0.0000, 0.0000, 0.0000, 0.0000, 0.0000, 0.0000, 0.0000, 0.0000,\n           0.0000, 0.0000],\n          [0.0000, 0.0000, 0.0000, 0.0000, 0.0000, 0.0000, 0.0000, 0.0000,\n           0.0000, 0.0000]],\n\n         [[0.0000, 0.0000, 0.0000, 0.0000, 0.0000, 0.0000, 0.0000, 0.0000,\n           0.0000, 0.0000],\n          [0.0000, 0.0000, 0.0000, 0.0000, 0.0000, 0.0000, 0.0000, 0.0000,\n           0.0000, 0.0000],\n          [0.0000, 0.0000, 0.0000, 0.0000, 0.0000, 0.0000, 0.0000, 0.0000,\n           0.0000, 0.0000],\n          [0.0000, 0.0000, 0.0000, 0.0000, 0.0000, 0.0000, 0.0000, 0.0000,\n           0.0000, 0.0000],\n          [0.6000, 0.6000, 0.6000, 0.6000, 0.6000, 0.6000, 0.6000, 0.6000,\n           0.6000, 0.6000],\n          [0.0000, 0.0000, 0.0000, 0.0000, 0.0000, 0.0000, 0.0000, 0.0000,\n           0.0000, 0.0000],\n          [0.0000, 0.0000, 0.0000, 0.0000, 0.0000, 0.0000, 0.0000, 0.0000,\n           0.0000, 0.0000],\n          [0.0000, 0.0000, 0.0000, 0.0000, 0.0000, 0.0000, 0.0000, 0.0000,\n           0.0000, 0.0000],\n          [0.0000, 0.0000, 0.0000, 0.0000, 0.0000, 0.0000, 0.0000, 0.0000,\n           0.0000, 0.0000],\n          [0.0000, 0.0000, 0.0000, 0.0000, 0.0000, 0.0000, 0.0000, 0.0000,\n           0.0000, 0.0000]],\n\n         [[0.0000, 0.0000, 0.0000, 0.0000, 0.0000, 0.0000, 0.0000, 0.0000,\n           0.0000, 0.0000],\n          [0.0000, 0.0000, 0.0000, 0.0000, 0.0000, 0.0000, 0.0000, 0.0000,\n           0.0000, 0.0000],\n          [0.0000, 0.0000, 0.0000, 0.0000, 0.0000, 0.0000, 0.0000, 0.0000,\n           0.0000, 0.0000],\n          [0.0000, 0.0000, 0.0000, 0.0000, 0.0000, 0.0000, 0.0000, 0.0000,\n           0.0000, 0.0000],\n          [0.0000, 0.0000, 0.0000, 0.0000, 0.0000, 0.0000, 0.0000, 0.0000,\n           0.0000, 0.0000],\n          [0.6000, 0.6000, 0.6000, 0.6000, 0.6000, 0.6000, 0.6000, 0.6000,\n           0.6000, 0.6000],\n          [0.0000, 0.0000, 0.0000, 0.0000, 0.0000, 0.0000, 0.0000, 0.0000,\n           0.0000, 0.0000],\n          [0.0000, 0.0000, 0.0000, 0.0000, 0.0000, 0.0000, 0.0000, 0.0000,\n           0.0000, 0.0000],\n          [0.0000, 0.0000, 0.0000, 0.0000, 0.0000, 0.0000, 0.0000, 0.0000,\n           0.0000, 0.0000],\n          [0.0000, 0.0000, 0.0000, 0.0000, 0.0000, 0.0000, 0.0000, 0.0000,\n           0.0000, 0.0000]],\n\n         [[0.0000, 0.0000, 0.0000, 0.0000, 0.0000, 0.0000, 0.0000, 0.0000,\n           0.0000, 0.0000],\n          [0.0000, 0.0000, 0.0000, 0.0000, 0.0000, 0.0000, 0.0000, 0.0000,\n           0.0000, 0.0000],\n          [0.0000, 0.0000, 0.0000, 0.0000, 0.0000, 0.0000, 0.0000, 0.0000,\n           0.0000, 0.0000],\n          [0.0000, 0.0000, 0.0000, 0.0000, 0.0000, 0.0000, 0.0000, 0.0000,\n           0.0000, 0.0000],\n          [0.0000, 0.0000, 0.0000, 0.0000, 0.0000, 0.0000, 0.0000, 0.0000,\n           0.0000, 0.0000],\n          [0.0000, 0.0000, 0.0000, 0.0000, 0.0000, 0.0000, 0.0000, 0.0000,\n           0.0000, 0.0000],\n          [0.6000, 0.6000, 0.6000, 0.6000, 0.6000, 0.6000, 0.6000, 0.6000,\n           0.6000, 0.6000],\n          [0.0000, 0.0000, 0.0000, 0.0000, 0.0000, 0.0000, 0.0000, 0.0000,\n           0.0000, 0.0000],\n          [0.0000, 0.0000, 0.0000, 0.0000, 0.0000, 0.0000, 0.0000, 0.0000,\n           0.0000, 0.0000],\n          [0.0000, 0.0000, 0.0000, 0.0000, 0.0000, 0.0000, 0.0000, 0.0000,\n           0.0000, 0.0000]],\n\n         [[0.0000, 0.0000, 0.0000, 0.0000, 0.0000, 0.0000, 0.0000, 0.0000,\n           0.0000, 0.0000],\n          [0.0000, 0.0000, 0.0000, 0.0000, 0.0000, 0.0000, 0.0000, 0.0000,\n           0.0000, 0.0000],\n          [0.0000, 0.0000, 0.0000, 0.0000, 0.0000, 0.0000, 0.0000, 0.0000,\n           0.0000, 0.0000],\n          [0.0000, 0.0000, 0.0000, 0.0000, 0.0000, 0.0000, 0.0000, 0.0000,\n           0.0000, 0.0000],\n          [0.0000, 0.0000, 0.0000, 0.0000, 0.0000, 0.0000, 0.0000, 0.0000,\n           0.0000, 0.0000],\n          [0.0000, 0.0000, 0.0000, 0.0000, 0.0000, 0.0000, 0.0000, 0.0000,\n           0.0000, 0.0000],\n          [0.0000, 0.0000, 0.0000, 0.0000, 0.0000, 0.0000, 0.0000, 0.0000,\n           0.0000, 0.0000],\n          [0.6000, 0.6000, 0.6000, 0.6000, 0.6000, 0.6000, 0.6000, 0.6000,\n           0.6000, 0.6000],\n          [0.0000, 0.0000, 0.0000, 0.0000, 0.0000, 0.0000, 0.0000, 0.0000,\n           0.0000, 0.0000],\n          [0.0000, 0.0000, 0.0000, 0.0000, 0.0000, 0.0000, 0.0000, 0.0000,\n           0.0000, 0.0000]],\n\n         [[0.0000, 0.0000, 0.0000, 0.0000, 0.0000, 0.0000, 0.0000, 0.0000,\n           0.0000, 0.0000],\n          [0.0000, 0.0000, 0.0000, 0.0000, 0.0000, 0.0000, 0.0000, 0.0000,\n           0.0000, 0.0000],\n          [0.0000, 0.0000, 0.0000, 0.0000, 0.0000, 0.0000, 0.0000, 0.0000,\n           0.0000, 0.0000],\n          [0.0000, 0.0000, 0.0000, 0.0000, 0.0000, 0.0000, 0.0000, 0.0000,\n           0.0000, 0.0000],\n          [0.0000, 0.0000, 0.0000, 0.0000, 0.0000, 0.0000, 0.0000, 0.0000,\n           0.0000, 0.0000],\n          [0.0000, 0.0000, 0.0000, 0.0000, 0.0000, 0.0000, 0.0000, 0.0000,\n           0.0000, 0.0000],\n          [0.0000, 0.0000, 0.0000, 0.0000, 0.0000, 0.0000, 0.0000, 0.0000,\n           0.0000, 0.0000],\n          [0.0000, 0.0000, 0.0000, 0.0000, 0.0000, 0.0000, 0.0000, 0.0000,\n           0.0000, 0.0000],\n          [0.6000, 0.6000, 0.6000, 0.6000, 0.6000, 0.6000, 0.6000, 0.6000,\n           0.6000, 0.6000],\n          [0.0000, 0.0000, 0.0000, 0.0000, 0.0000, 0.0000, 0.0000, 0.0000,\n           0.0000, 0.0000]],\n\n         [[0.0000, 0.0000, 0.0000, 0.0000, 0.0000, 0.0000, 0.0000, 0.0000,\n           0.0000, 0.0000],\n          [0.0000, 0.0000, 0.0000, 0.0000, 0.0000, 0.0000, 0.0000, 0.0000,\n           0.0000, 0.0000],\n          [0.0000, 0.0000, 0.0000, 0.0000, 0.0000, 0.0000, 0.0000, 0.0000,\n           0.0000, 0.0000],\n          [0.0000, 0.0000, 0.0000, 0.0000, 0.0000, 0.0000, 0.0000, 0.0000,\n           0.0000, 0.0000],\n          [0.0000, 0.0000, 0.0000, 0.0000, 0.0000, 0.0000, 0.0000, 0.0000,\n           0.0000, 0.0000],\n          [0.0000, 0.0000, 0.0000, 0.0000, 0.0000, 0.0000, 0.0000, 0.0000,\n           0.0000, 0.0000],\n          [0.0000, 0.0000, 0.0000, 0.0000, 0.0000, 0.0000, 0.0000, 0.0000,\n           0.0000, 0.0000],\n          [0.0000, 0.0000, 0.0000, 0.0000, 0.0000, 0.0000, 0.0000, 0.0000,\n           0.0000, 0.0000],\n          [0.0000, 0.0000, 0.0000, 0.0000, 0.0000, 0.0000, 0.0000, 0.0000,\n           0.0000, 0.0000],\n          [0.6000, 0.6000, 0.6000, 0.6000, 0.6000, 0.6000, 0.6000, 0.6000,\n           0.6000, 0.6000]]]], device='cuda:0', requires_grad=True)"
     },
     "execution_count": 789,
     "metadata": {},
     "output_type": "execute_result"
    }
   ],
   "source": [
    "mu_c_g.requires_grad_(True)\n",
    "logvar_c_g.requires_grad_(True)\n",
    "inv_sm_pi_c_g.requires_grad_(True)\n",
    "chol_prec_seed_c_g.requires_grad_(True)\n"
   ],
   "metadata": {
    "collapsed": false,
    "pycharm": {
     "name": "#%%\n"
    }
   }
  },
  {
   "cell_type": "code",
   "execution_count": 790,
   "outputs": [
    {
     "data": {
      "text/plain": "tensor([[0.6000, 0.0000, 0.0000, 0.0000, 0.0000, 0.0000, 0.0000, 0.0000, 0.0000,\n         0.0000],\n        [0.0000, 0.6000, 0.0000, 0.0000, 0.0000, 0.0000, 0.0000, 0.0000, 0.0000,\n         0.0000],\n        [0.0000, 0.0000, 0.6000, 0.0000, 0.0000, 0.0000, 0.0000, 0.0000, 0.0000,\n         0.0000],\n        [0.0000, 0.0000, 0.0000, 0.6000, 0.0000, 0.0000, 0.0000, 0.0000, 0.0000,\n         0.0000],\n        [0.0000, 0.0000, 0.0000, 0.0000, 0.6000, 0.0000, 0.0000, 0.0000, 0.0000,\n         0.0000],\n        [0.0000, 0.0000, 0.0000, 0.0000, 0.0000, 0.6000, 0.0000, 0.0000, 0.0000,\n         0.0000],\n        [0.0000, 0.0000, 0.0000, 0.0000, 0.0000, 0.0000, 0.6000, 0.0000, 0.0000,\n         0.0000],\n        [0.0000, 0.0000, 0.0000, 0.0000, 0.0000, 0.0000, 0.0000, 0.6000, 0.0000,\n         0.0000],\n        [0.0000, 0.0000, 0.0000, 0.0000, 0.0000, 0.0000, 0.0000, 0.0000, 0.6000,\n         0.0000],\n        [0.0000, 0.0000, 0.0000, 0.0000, 0.0000, 0.0000, 0.0000, 0.0000, 0.0000,\n         0.6000]], device='cuda:0', grad_fn=<SelectBackward>)"
     },
     "execution_count": 790,
     "metadata": {},
     "output_type": "execute_result"
    }
   ],
   "source": [
    "chol_prec_seed_c_g[0,:,:,0]"
   ],
   "metadata": {
    "collapsed": false,
    "pycharm": {
     "name": "#%%\n"
    }
   }
  },
  {
   "cell_type": "code",
   "execution_count": 791,
   "outputs": [
    {
     "data": {
      "text/plain": "(True, True, True, True)"
     },
     "execution_count": 791,
     "metadata": {},
     "output_type": "execute_result"
    }
   ],
   "source": [
    "mu_c_g.requires_grad,logvar_c_g.requires_grad,inv_sm_pi_c_g.requires_grad,chol_prec_seed_c_g.requires_grad\n",
    "#F.softmax(inv_sm_pi_c_g,dim=0)"
   ],
   "metadata": {
    "collapsed": false,
    "pycharm": {
     "name": "#%%\n"
    }
   }
  },
  {
   "cell_type": "code",
   "execution_count": 792,
   "outputs": [
    {
     "data": {
      "text/plain": "torch.Size([1, 10, 10, 10])"
     },
     "execution_count": 792,
     "metadata": {},
     "output_type": "execute_result"
    }
   ],
   "source": [
    "chol_prec_seed_c_g.shape"
   ],
   "metadata": {
    "collapsed": false,
    "pycharm": {
     "name": "#%%\n"
    }
   }
  },
  {
   "cell_type": "code",
   "execution_count": 793,
   "outputs": [],
   "source": [
    "def cholesky_prec(chol_prec_seed_c):\n",
    "\n",
    "\n",
    "    chol_prec_seed_c_f = torch.zeros_like(chol_prec_seed_c)\n",
    "    for i in range(K_model_cluster):\n",
    "        for j in range(latent_dim):\n",
    "            for k in range(latent_dim):\n",
    "                if j == k:\n",
    "                    chol_prec_seed_c_f[0,j,j,i] = torch.log(1+torch.exp(chol_prec_seed_c[0,j,j,i]))\n",
    "                elif j > k:\n",
    "                    chol_prec_seed_c_f[0,j,k,i] = chol_prec_seed_c[0,j,k,i]\n",
    "\n",
    "\n",
    "    return chol_prec_seed_c_f\n",
    "\n"
   ],
   "metadata": {
    "collapsed": false,
    "pycharm": {
     "name": "#%%\n"
    }
   }
  },
  {
   "cell_type": "code",
   "execution_count": 794,
   "outputs": [
    {
     "data": {
      "text/plain": "tensor([[1.0375, 0.0000, 0.0000, 0.0000, 0.0000, 0.0000, 0.0000, 0.0000, 0.0000,\n         0.0000],\n        [0.0000, 1.0375, 0.0000, 0.0000, 0.0000, 0.0000, 0.0000, 0.0000, 0.0000,\n         0.0000],\n        [0.0000, 0.0000, 1.0375, 0.0000, 0.0000, 0.0000, 0.0000, 0.0000, 0.0000,\n         0.0000],\n        [0.0000, 0.0000, 0.0000, 1.0375, 0.0000, 0.0000, 0.0000, 0.0000, 0.0000,\n         0.0000],\n        [0.0000, 0.0000, 0.0000, 0.0000, 1.0375, 0.0000, 0.0000, 0.0000, 0.0000,\n         0.0000],\n        [0.0000, 0.0000, 0.0000, 0.0000, 0.0000, 1.0375, 0.0000, 0.0000, 0.0000,\n         0.0000],\n        [0.0000, 0.0000, 0.0000, 0.0000, 0.0000, 0.0000, 1.0375, 0.0000, 0.0000,\n         0.0000],\n        [0.0000, 0.0000, 0.0000, 0.0000, 0.0000, 0.0000, 0.0000, 1.0375, 0.0000,\n         0.0000],\n        [0.0000, 0.0000, 0.0000, 0.0000, 0.0000, 0.0000, 0.0000, 0.0000, 1.0375,\n         0.0000],\n        [0.0000, 0.0000, 0.0000, 0.0000, 0.0000, 0.0000, 0.0000, 0.0000, 0.0000,\n         1.0375]], device='cuda:0', grad_fn=<SelectBackward>)"
     },
     "execution_count": 794,
     "metadata": {},
     "output_type": "execute_result"
    }
   ],
   "source": [
    "cholesky_prec(chol_prec_seed_c_g)[0,:,:,0]\n",
    "\n",
    "\n",
    "#torch.einsum(\"ijkl,inkl -> ijnl\",cholesky_prec(chol_prec_seed_c_g),cholesky_prec(chol_prec_seed_c_g))[0,:,:,0]\n",
    "#torch.matmul(cholesky_prec(chol_prec_seed_c_g)[0,:,:,0],cholesky_prec(chol_prec_seed_c_g)[0,:,:,0].t())\n",
    "#loss_test = torch.einsum(\"ijkl,inkl -> ijnl\",cholesky_prec(chol_prec_seed_c_g),cholesky_prec(chol_prec_seed_c_g)).sum()\n",
    "\n",
    "#loss_test.backward()\n",
    "#chol_prec_seed_c_g.grad[0,:,:,0]\n",
    "#chol_prec_seed_c_g.grad.data.zero_()"
   ],
   "metadata": {
    "collapsed": false,
    "pycharm": {
     "name": "#%%\n"
    }
   }
  },
  {
   "cell_type": "code",
   "execution_count": 795,
   "outputs": [],
   "source": [
    "def prec(chol_prec_seed_c):\n",
    "    return torch.einsum(\"ijkl,inkl -> ijnl\",cholesky_prec(chol_prec_seed_c),cholesky_prec(chol_prec_seed_c))\n",
    "\n",
    "#loss_test=prec(chol_prec_seed_c_g).sum()\n",
    "#chol_prec_seed_c_g.grad.data.zero_()\n",
    "#loss_test.backward()\n",
    "#chol_prec_seed_c_g.grad[0,:,:,1]"
   ],
   "metadata": {
    "collapsed": false,
    "pycharm": {
     "name": "#%%\n"
    }
   }
  },
  {
   "cell_type": "code",
   "execution_count": 796,
   "outputs": [
    {
     "data": {
      "text/plain": "torch.return_types.eig(\neigenvalues=tensor([[1.0764, 0.0000],\n        [1.0764, 0.0000],\n        [1.0764, 0.0000],\n        [1.0764, 0.0000],\n        [1.0764, 0.0000],\n        [1.0764, 0.0000],\n        [1.0764, 0.0000],\n        [1.0764, 0.0000],\n        [1.0764, 0.0000],\n        [1.0764, 0.0000]], device='cuda:0', grad_fn=<EigBackward>),\neigenvectors=tensor([], device='cuda:0', grad_fn=<EigBackward>))"
     },
     "execution_count": 796,
     "metadata": {},
     "output_type": "execute_result"
    }
   ],
   "source": [
    "torch.eig(prec(chol_prec_seed_c_g)[0,:,:,9])"
   ],
   "metadata": {
    "collapsed": false,
    "pycharm": {
     "name": "#%%\n"
    }
   }
  },
  {
   "cell_type": "code",
   "execution_count": 797,
   "outputs": [
    {
     "data": {
      "text/plain": "torch.Size([100, 10, 1])"
     },
     "execution_count": 797,
     "metadata": {},
     "output_type": "execute_result"
    }
   ],
   "source": [
    "mus_g = torch.randn(batch_size,latent_dim,1).to(device)\n",
    "mus_g.shape"
   ],
   "metadata": {
    "collapsed": false,
    "pycharm": {
     "name": "#%%\n"
    }
   }
  },
  {
   "cell_type": "code",
   "execution_count": 798,
   "outputs": [
    {
     "data": {
      "text/plain": "tensor([[1.0764, 0.0000, 0.0000, 0.0000, 0.0000, 0.0000, 0.0000, 0.0000, 0.0000,\n         0.0000],\n        [0.0000, 1.0764, 0.0000, 0.0000, 0.0000, 0.0000, 0.0000, 0.0000, 0.0000,\n         0.0000],\n        [0.0000, 0.0000, 1.0764, 0.0000, 0.0000, 0.0000, 0.0000, 0.0000, 0.0000,\n         0.0000],\n        [0.0000, 0.0000, 0.0000, 1.0764, 0.0000, 0.0000, 0.0000, 0.0000, 0.0000,\n         0.0000],\n        [0.0000, 0.0000, 0.0000, 0.0000, 1.0764, 0.0000, 0.0000, 0.0000, 0.0000,\n         0.0000],\n        [0.0000, 0.0000, 0.0000, 0.0000, 0.0000, 1.0764, 0.0000, 0.0000, 0.0000,\n         0.0000],\n        [0.0000, 0.0000, 0.0000, 0.0000, 0.0000, 0.0000, 1.0764, 0.0000, 0.0000,\n         0.0000],\n        [0.0000, 0.0000, 0.0000, 0.0000, 0.0000, 0.0000, 0.0000, 1.0764, 0.0000,\n         0.0000],\n        [0.0000, 0.0000, 0.0000, 0.0000, 0.0000, 0.0000, 0.0000, 0.0000, 1.0764,\n         0.0000],\n        [0.0000, 0.0000, 0.0000, 0.0000, 0.0000, 0.0000, 0.0000, 0.0000, 0.0000,\n         1.0764]], device='cuda:0', grad_fn=<SelectBackward>)"
     },
     "execution_count": 798,
     "metadata": {},
     "output_type": "execute_result"
    }
   ],
   "source": [
    "#(mus_g-mu_c_g)\n",
    "prec(chol_prec_seed_c_g)[0,:,:,0]"
   ],
   "metadata": {
    "collapsed": false,
    "pycharm": {
     "name": "#%%\n"
    }
   }
  },
  {
   "cell_type": "code",
   "execution_count": 799,
   "outputs": [
    {
     "data": {
      "text/plain": "tensor([15.7270, 12.9980, 19.2852, 25.8467,  7.3078,  8.1176, 10.4225,  8.0074,\n         6.2235, 13.4170], device='cuda:0', grad_fn=<SliceBackward>)"
     },
     "execution_count": 799,
     "metadata": {},
     "output_type": "execute_result"
    }
   ],
   "source": [
    "torch.einsum(\"bij,xikj,bkj -> bj\",mus_g-mu_c_g,prec(chol_prec_seed_c_g),mus_g-mu_c_g).unsqueeze(1)[0,0,:]"
   ],
   "metadata": {
    "collapsed": false,
    "pycharm": {
     "name": "#%%\n"
    }
   }
  },
  {
   "cell_type": "code",
   "execution_count": 800,
   "outputs": [
    {
     "data": {
      "text/plain": "tensor(5.8023, device='cuda:0', grad_fn=<MulBackward0>)"
     },
     "execution_count": 800,
     "metadata": {},
     "output_type": "execute_result"
    }
   ],
   "source": [
    "((mus_g-mu_c_g)[0,:,1]).pow(2).sum()*0.4805"
   ],
   "metadata": {
    "collapsed": false,
    "pycharm": {
     "name": "#%%\n"
    }
   }
  },
  {
   "cell_type": "code",
   "execution_count": 801,
   "outputs": [],
   "source": [
    "class VAE(nn.Module):\n",
    "    def __init__(self):\n",
    "        super(VAE, self).__init__()\n",
    "\n",
    "        self.input_layer = nn.Linear(input_dim,en_hidden1_dim)##728 => 500 for MNIST\n",
    "        self.encode1_layer = nn.Linear(en_hidden1_dim,en_hidden2_dim)##500 => 500 for MNIST\n",
    "        self.encode2_layer = nn.Linear(en_hidden2_dim,en_hidden3_dim)##500 => 2000 for MNIST\n",
    "        self.mu_layer = nn.Linear(en_hidden3_dim,latent_dim)##2000 => 10 for MNIST\n",
    "        self.std_layer = nn.Linear(en_hidden3_dim,latent_dim)##2000 => 10 for MNIST\n",
    "        self.decode1_layer = nn.Linear(latent_dim,de_hidden1_dim)##10 => 2000 for MNIST\n",
    "        self.decode2_layer = nn.Linear(de_hidden1_dim,de_hidden2_dim)##2000 => 500 for MNIST\n",
    "        self.decode3_layer = nn.Linear(de_hidden2_dim,de_hidden3_dim)##500 => 500 for MNIST\n",
    "        self.output_layer = nn.Linear(de_hidden3_dim,output_dim)##500 => 728 for MNIST\n",
    "\n",
    "    def encode(self, x):\n",
    "        en_h1 = F.relu(self.input_layer(x))\n",
    "        en_h2 = F.relu(self.encode1_layer(en_h1))\n",
    "        en_h3 = F.relu(self.encode2_layer(en_h2))\n",
    "        return self.mu_layer(en_h3), self.std_layer(en_h3)\n",
    "    #入力から中心と分散の対数を作っている\n",
    "\n",
    "\n",
    "    def reparameterize(self,mu,logvar):\n",
    "        std = torch.exp(0.5*logvar)\n",
    "        eps = torch.randn_like(std)\n",
    "        #torch.randn_like(std)はstdと同じ次元の正規乱数を与えている。N(0,1)**size(std).ただし、標準偏差は対角的。\n",
    "        return mu + eps*std\n",
    "    #zの値を確率的に作っている。\n",
    "\n",
    "    def decode(self,z):\n",
    "        de_h1 = F.relu(self.decode1_layer(z))\n",
    "        de_h2 = F.relu(self.decode2_layer(de_h1))\n",
    "        de_h3 = F.relu(self.decode3_layer(de_h2))\n",
    "        return torch.sigmoid(self.output_layer(de_h3))\n",
    "    #zからNNを通したあとに、sigmoidで押し込んでxの値を作っている\n",
    "\n",
    "\n",
    "    def forward(self, x):\n",
    "        mu, logvar = self.encode(x.view(-1,784))\n",
    "        z = self.reparameterize(mu, logvar)\n",
    "        return self.decode(z),mu,logvar,z\n",
    "    #出力はxの予測値とzを算出するときの中心と分散になっている\n",
    "\n",
    "\n",
    "model = VAE().to(device)\n",
    "\n",
    "optimizer = optim.Adam(model.parameters(),lr=0.002)\n",
    "scheduler = torch.optim.lr_scheduler.MultiStepLR(optimizer,milestones=[20,40,60,80,100,120,140,160,180,200,220,240,260],gamma=0.9)\n",
    "\n",
    "#optimizer_clustering = optim.Adam([mu_c_g,chol_prec_seed_c_g,inv_sm_pi_c_g],lr=0.002)\n",
    "optimizer_clustering = optim.Adam([mu_c_g,chol_prec_seed_c_g],lr=0.002)\n",
    "scheduler_clustering = torch.optim.lr_scheduler.MultiStepLR(optimizer_clustering,milestones=[20,40,60,80,100,120,140,160,180,200,220,240,260],gamma=0.9)\n"
   ],
   "metadata": {
    "collapsed": false,
    "pycharm": {
     "name": "#%%\n"
    }
   }
  },
  {
   "cell_type": "code",
   "execution_count": 802,
   "outputs": [],
   "source": [
    "def take_latents():\n",
    "    zs = torch.empty(0,latent_dim,1).to(device).requires_grad_(False)\n",
    "    ts = torch.empty(0,dtype=torch.long).to(device).requires_grad_(False)\n",
    "    mus = torch.empty(0,latent_dim,1).to(device).requires_grad_(False)\n",
    "    logvars = torch.empty(0,latent_dim,1).to(device).requires_grad_(False)\n",
    "#zs = []\n",
    "#ts = []\n",
    "\n",
    "#ts.dtype = torch.int\n",
    "\n",
    "    #for x, t in test_loader:\n",
    "    for batch_idx, (x,t) in enumerate(test_loader):\n",
    "    # original。xがデータ、tがラベル。\n",
    "    #for i, im in enumerate(x.view(-1, 28, 28).detach().numpy()[:10]):\n",
    "    #  ax = fig.add_subplot(3, 10, i+1, xticks=[], yticks=[])\n",
    "    #  ax.imshow(im, 'gray')\n",
    "    #x = x.to(device)\n",
    "    # generate from x\n",
    "        if batch_idx < take_latent_max:\n",
    "            x = x.to(device)\n",
    "            with torch.no_grad():\n",
    "                recon_batch,mu,logvar, z = model(x)\n",
    "            t = t.to(device)\n",
    "    #zs.append(z)\n",
    "    #ts.append(t)\n",
    "            zs = torch.cat((zs,z.view(-1,latent_dim,1)),0)\n",
    "            ts = torch.cat((ts,t),0)\n",
    "            mus = torch.cat((mus,mu.view(-1,latent_dim,1)),0)\n",
    "            logvars = torch.cat((logvars,logvar.view(-1,latent_dim,1)),0)\n",
    "    #y = y.view(-1, 28, 28)\n",
    "    #for i, im in enumerate(y.cpu().detach().numpy()[:10]):\n",
    "     # ax = fig.add_subplot(3, 10, i+11, xticks=[], yticks=[])\n",
    "     # ax.imshow(im, 'gray')\n",
    "    mus = torch.cat((mus,mu_c_g.permute(2,1,0)),0)\n",
    "    ts = torch.cat((ts,torch.arange(-1,-K_model_cluster-1,-1).to(device)),0)\n",
    "    return zs,ts,mus,logvars\n"
   ],
   "metadata": {
    "collapsed": false,
    "pycharm": {
     "name": "#%%\n"
    }
   }
  },
  {
   "cell_type": "code",
   "execution_count": 803,
   "outputs": [],
   "source": [
    "def DKL(mus,logvars,mu_c,chol_prec_seed_c):\n",
    "    return -2.0*(torch.log(torch.einsum(\"ijjk -> ijk\",cholesky_prec(chol_prec_seed_c)))).sum(1)\\\n",
    "           +((logvars.exp())*(torch.einsum(\"ijjk -> ijk\",prec(chol_prec_seed_c)))).sum(1)\\\n",
    "           +torch.einsum(\"bij,xikj,bkj -> bj\",mus-mu_c,prec(chol_prec_seed_c),mus-mu_c)\n"
   ],
   "metadata": {
    "collapsed": false,
    "pycharm": {
     "name": "#%%\n"
    }
   }
  },
  {
   "cell_type": "code",
   "execution_count": 804,
   "outputs": [],
   "source": [
    "def gauss(mus,logvars,mu_c,chol_prec_seed_c,inv_sm_pi_c,iter):\n",
    "\n",
    "    for i in range(iter):\n",
    "        with torch.no_grad():\n",
    "            #Q_c = logvar_c+(logvars.exp()+(mus-mu_c).pow(2))/(logvar_c.exp())\n",
    "            Q_c = DKL(mus,logvars,mu_c,chol_prec_seed_c)\n",
    "            gamma_c = (F.softmax(inv_sm_pi_c,dim=2)*((-0.5*Q_c.unsqueeze(1)).exp()))/((F.softmax(inv_sm_pi_c,dim=2)*((-0.5*Q_c.unsqueeze(1)).exp())).sum(2,keepdim=True))\n",
    "\n",
    "            N_c = gamma_c.sum(0,keepdim=True)\n",
    "            log_P = (((F.softmax(inv_sm_pi_c,dim=2)*((-0.5*Q_c.unsqueeze(1)).exp())).sum(2).squeeze()).log()).sum()/((Q_c.shape)[0])\n",
    "            pi_c= N_c/(N_c.sum())\n",
    "            mu_c=(gamma_c*mus).sum(0,keepdim=True)/N_c\n",
    "            logvar_c=((gamma_c*((mus-mu_c).pow(2)+logvars.exp())).sum(0,keepdim=True)/N_c).log()\n",
    "\n",
    "\n",
    "    return mu_c,logvar_c,pi_c,Q_c,gamma_c,log_P\n"
   ],
   "metadata": {
    "collapsed": false,
    "pycharm": {
     "name": "#%%\n"
    }
   }
  },
  {
   "cell_type": "code",
   "execution_count": 805,
   "outputs": [],
   "source": [
    "def drawpoints(mus_numpy,ts_numpy):\n",
    "    colors = [\"red\", \"green\", \"blue\", \"orange\", \"purple\", \"brown\", \"fuchsia\", \"grey\", \"olive\", \"lightblue\",\"red\", \"green\", \"blue\", \"orange\", \"purple\", \"brown\", \"fuchsia\", \"grey\", \"olive\", \"lightblue\"]\n",
    "    for p,l in zip(mus_numpy,ts_numpy):\n",
    "        plt.scatter(p[0],p[1],marker=\"${}$\".format(l),c=colors[l])\n",
    "\n",
    "cm = plt.cm.get_cmap('tab20')\n",
    "def drawpoints_with_centers(mus_numpy,ts_numpy,center_numpy,center_t_numpy):\n",
    "    for p,l in zip(mus_numpy,ts_numpy):\n",
    "        plt.scatter(p[0],p[1],marker=\"${}$\".format(l),color=cm.colors[l])\n",
    "    for p,l in zip(center_numpy,center_t_numpy):\n",
    "        plt.scatter(p[0],p[1],facecolors='none',edgecolors='red',s=200)\n",
    "    for p,l in zip(center_numpy,center_t_numpy):\n",
    "        plt.scatter(p[0],p[1],marker=\"${}$\".format(l),color='black',s=50)\n",
    "\n",
    "#    plt.xlim(-4,4)\n",
    "#    plt.ylim(-4,4)\n",
    "    plt.show()"
   ],
   "metadata": {
    "collapsed": false,
    "pycharm": {
     "name": "#%%\n"
    }
   }
  },
  {
   "cell_type": "code",
   "execution_count": 806,
   "outputs": [],
   "source": [
    "def show_generated_samples_c(mu_c,chol_prec_seed_c):\n",
    "    for i in range(K_model_cluster):\n",
    "        with torch.no_grad():\n",
    "#            sample_dist = MultivariateNormal(loc=mu_c[:,:,i],covariance_matrix=torch.diag(logvar_c[0,:,i].exp()))\n",
    "            sample_dist = MultivariateNormal(loc=mu_c[0,:,i],precision_matrix=prec(chol_prec_seed_c)[0,:,:,i])\n",
    "    #mu_distribution = MultivariateNormal(loc=mu_center.cpu(),covariance_matrix=cov_mus.cpu())\n",
    "            sample = sample_dist.sample([64,])\n",
    "#    sample = torch.randn(64,latent_dim).to(device)\n",
    "        #20次元の潜在空間のデータを64個作成して、GPUに送る\n",
    "            sample = model.decode(sample).cpu()\n",
    "        #ランダムな潜在変数から画像を生成する。\n",
    "            save_image(sample.view(64,1,28,28),save_folder+'/sample_c_' + str(i) + '.png',nrow=8)\n",
    "        #生成した６４個のデータを記録しておく"
   ],
   "metadata": {
    "collapsed": false,
    "pycharm": {
     "name": "#%%\n"
    }
   }
  },
  {
   "cell_type": "code",
   "execution_count": 807,
   "outputs": [],
   "source": [
    "def loss_function_c(recon_x,x,mus_f,logvars_f,mu_c_f,chol_prec_seed_c_f,inv_sm_pi_c_f):\n",
    "    BCE = F.binary_cross_entropy(recon_x,x.view(-1,784),reduction='sum')\n",
    "    KLD = -0.5*(1+logvars_f).sum() -(((((F.softmax(inv_sm_pi_c_f,dim=2)).view(1,K_model_cluster))*((-0.5*(DKL(mus_f,logvars_f,mu_c_f,chol_prec_seed_c_f))).exp())).sum(1)).log()).sum()#+(logvars_f.exp()+(mus_f-mu_c_f).pow(2))/(logvar_c_f.exp()))\n",
    "\n",
    "    return BCE+beta*KLD\n",
    "\n",
    "#def loss_function_c(recon_x,x,mus_f,logvars_f,mu_c_f,logvar_c_f,inv_sm_pi_c_f):\n",
    "#    BCE = F.binary_cross_entropy(recon_x,x.view(-1,784),reduction='sum')\n",
    "#    KLD = -0.5*(1+logvars_f).sum() -(((F.softmax(inv_sm_pi_c_f,dim=2)*((-0.5*((logvar_c_f+(logvars_f.exp()+(mus_f-mu_c_f).pow(2))/(logvar_c_f.exp())).sum(1,keepdim=True))).exp())).sum(2,keepdim=True)).log()).sum()#+(logvars_f.exp()+(mus_f-mu_c_f).pow(2))/(logvar_c_f.exp()))\n",
    "\n",
    "#    return BCE+beta*KLD\n",
    "\n",
    "\n"
   ],
   "metadata": {
    "collapsed": false,
    "pycharm": {
     "name": "#%%\n"
    }
   }
  },
  {
   "cell_type": "code",
   "execution_count": 808,
   "outputs": [],
   "source": [
    "def train_c(epoch,mu_c,chol_prec_seed_c,inv_sm_pi_c):\n",
    "    model.train()\n",
    "    train_loss = 0\n",
    "    for batch_idx, (data,_) in enumerate(train_loader):\n",
    "        #ラベルは使わないようだ\n",
    "        data = data.to(device)\n",
    "        #データをGPUにおくる\n",
    "        optimizer.zero_grad()\n",
    "        optimizer_clustering.zero_grad()\n",
    "        #傾きの初期化\n",
    "        recon_batch, mu, logvar,z = model(data)\n",
    "        #VAEからバッヂ分のデータと中心と分散のログを受け取る\n",
    "\n",
    "#        print('Train Epoch: {} [{}/{} ({:.0f}%)]\\tLoss: {}'.format(\n",
    "#              epoch,batch_idx*len(data),len(train_loader.dataset),\n",
    "#                100.*batch_idx/len(train_loader),\n",
    "#                inv_sm_pi_c_g\n",
    "#            ))\n",
    "\n",
    "        loss = loss_function_c(recon_x=recon_batch,x=data,mus_f=mu.view(-1,latent_dim,1),logvars_f=logvar.view(-1,latent_dim,1),mu_c_f=mu_c,chol_prec_seed_c_f=chol_prec_seed_c,inv_sm_pi_c_f=inv_sm_pi_c)\n",
    "        #バッヂ分のロスを計算。バッヂ数で割っていないようだ。書き出しのときにデータ数で割っている。\n",
    "        loss.backward()\n",
    "        #傾きを計算\n",
    "        train_loss+= loss.item()\n",
    "        optimizer.step()\n",
    "        #NNパラメータの更新\n",
    "#        print('loss={}'.format(loss))\n",
    "#        print(mu_c[0,:,:])\n",
    "#        print(chol_prec_seed_c[0,:,:,9])\n",
    "#        print(inv_sm_pi_c)\n",
    "#        print(mu_c.grad[0,:,:])\n",
    "#        print(chol_prec_seed_c.grad[0,:,:,9])\n",
    "#        print(inv_sm_pi_c.grad)\n",
    "\n",
    "#        print('mu={}'.format(mu.view(-1,latent_dim)))\n",
    "#        print('mu_c={}'.format(mu_c_g.squeeze()))\n",
    "#        print('logvarc={}'.format(-2.0*(torch.log(torch.einsum(\"ijjk -> ijk\",cholesky_prec(chol_prec_seed_c)))).sum(1)))\n",
    "#        print('var={}'.format(logvar.view(-1,latent_dim,1).exp().squeeze()))\n",
    "#        print('prec_c={}'.format(torch.einsum(\"ijjk -> ijk\",prec(chol_prec_seed_c)).squeeze()))\n",
    "#        print('var/var_c={}'.format(((logvar.view(-1,latent_dim,1).exp())*torch.einsum(\"ijjk -> ijk\",prec(chol_prec_seed_c))).sum(1)))\n",
    "#        print('quad={}'.format(torch.einsum(\"bij,xikj,bkj -> bj\",mu.view(-1,latent_dim,1)-mu_c,prec(chol_prec_seed_c),mu.view(-1,latent_dim,1)-mu_c)))\n",
    "#        print('pis={}'.format((F.softmax(inv_sm_pi_c,dim=2)).view(1,K_model_cluster)))\n",
    "#        print('KLD={}'.format(DKL(mu.view(-1,latent_dim,1),logvar.view(-1,latent_dim,1),mu_c,chol_prec_seed_c)))\n",
    "#        print('expKLD={}'.format((-0.5*DKL(mu.view(-1,latent_dim,1),logvar.view(-1,latent_dim,1),mu_c,chol_prec_seed_c)).exp()))\n",
    "#        print('logKLD={}'.format(((F.softmax(inv_sm_pi_c,dim=2).view(1,K_model_cluster)*(-0.5*DKL(mu.view(-1,latent_dim,1),logvar.view(-1,latent_dim,1),mu_c,chol_prec_seed_c)).exp()).sum(1)).log()))\n",
    "\n",
    "        optimizer_clustering.step()\n",
    "#        print(mu_c[0,:,:])\n",
    "#        print(chol_prec_seed_c[0,:,:,9])\n",
    "#        print(inv_sm_pi_c)\n",
    "\n",
    "        #NNクラスタリングパラメータの更新\n",
    "\n",
    "        if batch_idx % log_interval ==0:\n",
    "            #一定間隔でロスを書き出し。epochはここでしか使っていないようだ。len()は最初の次元の大きさを出すのでバッヂの大きさ。\n",
    "            print('Train Epoch: {} [{}/{} ({:.0f}%)]\\tLoss: {:.6f}'.format(\n",
    "              epoch,batch_idx*len(data),len(train_loader.dataset),\n",
    "                100.*batch_idx/len(train_loader),\n",
    "                loss.item()/len(data)\n",
    "            ))\n",
    "\n",
    "#        if batch_idx == 5:\n",
    "#            break\n"
   ],
   "metadata": {
    "collapsed": false,
    "pycharm": {
     "name": "#%%\n"
    }
   }
  },
  {
   "cell_type": "code",
   "execution_count": 809,
   "outputs": [],
   "source": [
    "def test_c(epoch,mu_c,chol_prec_seed_c,inv_sm_pi_c):\n",
    "    model.eval()\n",
    "    test_loss = 0\n",
    "    with torch.no_grad():#バックプロパゲーションを行わないから、微分情報を残さない\n",
    "        for i, (data, _) in enumerate(test_loader):\n",
    "            #テストデータを取り出す。ラベルはいらない。\n",
    "            data =data.to(device)\n",
    "            #データをGPUに送る\n",
    "            recon_batch, mu, logvar,z = model(data)\n",
    "            #データからバッヂ分の再現画像と中心と分散の対数を出している。\n",
    "            test_loss += loss_function_c(recon_x=recon_batch,x=data,mus_f=mu.view(-1,latent_dim,1),logvars_f=logvar.view(-1,latent_dim,1),mu_c_f=mu_c,chol_prec_seed_c_f=chol_prec_seed_c,inv_sm_pi_c_f=inv_sm_pi_c).item()\n",
    "            #テストデータでのロスを出している\n",
    "            if i == 0:\n",
    "                #はじめのバッヂについて\n",
    "                n = min(data.size(0),16)\n",
    "                #nをバッヂのデータ数か８との小さい方として\n",
    "                comparizon = torch.cat([data[:n],recon_batch.view(batch_size,1,28,28)[:n]])\n",
    "                #元データと再現データを並べる\n",
    "                save_image(comparizon.cpu(),'./'+save_folder+'/reconstruction_c_' + str(epoch) + '.png',nrow=n)\n",
    "\n",
    "                test_loss /= len(test_loader.dataset)\n",
    "                print('====> Test set loss: {:.4f}'.format(test_loss))"
   ],
   "metadata": {
    "collapsed": false,
    "pycharm": {
     "name": "#%%\n"
    }
   }
  },
  {
   "cell_type": "code",
   "execution_count": 810,
   "outputs": [],
   "source": [
    "def train_c_epoch(epochs,mu_c,chol_prec_seed_c,inv_sm_pi_c):\n",
    "    for epoch in range(1, epochs +1):\n",
    "        train_c(epoch,mu_c,chol_prec_seed_c,inv_sm_pi_c)\n",
    "        test_c(epoch,mu_c,chol_prec_seed_c,inv_sm_pi_c)\n",
    "        with torch.no_grad():\n",
    "            sample = torch.randn(64,latent_dim).to(device)\n",
    "        #20次元の潜在空間のデータを64個作成して、GPUに送る\n",
    "            sample = model.decode(sample).cpu()\n",
    "        #ランダムな潜在変数から画像を生成する。\n",
    "            save_image(sample.view(64,1,28,28),save_folder+'/sample_c_epoch_' + str(epoch) + '.png',nrow=8)\n",
    "        #生成した６４個のデータを記録しておく\n"
   ],
   "metadata": {
    "collapsed": false,
    "pycharm": {
     "name": "#%%\n"
    }
   }
  },
  {
   "cell_type": "code",
   "execution_count": 811,
   "outputs": [
    {
     "data": {
      "text/plain": "(tensor([[[-0.4815, -1.0601, -0.1050, -0.3309, -0.8293,  1.1902, -0.1545,\n           -0.2641, -0.2545, -1.1405],\n          [ 0.5676,  0.1515, -1.3779,  0.2359, -0.5090,  0.5241,  0.0286,\n           -0.1376, -1.3846, -0.1718],\n          [ 0.0212, -0.5632, -0.9560,  1.9324, -0.5841,  1.3376,  1.7200,\n           -0.4069, -0.3340, -0.6116],\n          [-0.1934,  0.1834,  0.9540, -0.7141,  0.3545,  0.8960,  0.6380,\n            1.5552,  1.1659,  0.8049],\n          [ 0.5671, -0.1512,  0.5032, -0.8037,  0.1386, -0.3412, -0.3421,\n           -0.3687, -0.5687, -0.7482],\n          [-0.9409,  0.5544, -1.9611,  0.4986, -0.1268,  0.8007, -0.1472,\n            1.5879,  0.4928,  0.4126],\n          [ 0.6646,  0.8411, -0.9748, -0.3804,  0.4081,  1.3762,  0.4824,\n           -0.0683,  0.5475,  0.2204],\n          [ 1.3758, -0.4923, -0.6429, -0.5643, -0.6290, -1.1399,  0.0844,\n            0.7447,  0.1146, -0.9269],\n          [ 1.0579,  0.2280, -0.4883,  2.2303, -0.3996, -0.4527,  1.0897,\n           -1.5527, -0.0926,  0.0127],\n          [ 0.2245,  1.0405, -1.4600,  1.0866, -0.3869, -0.2255, -0.4023,\n           -1.0314, -0.3363,  0.5308]]], device='cuda:0', requires_grad=True),\n tensor([[[0.6000, 0.0000, 0.0000, 0.0000, 0.0000, 0.0000, 0.0000, 0.0000,\n           0.0000, 0.0000],\n          [0.0000, 0.6000, 0.0000, 0.0000, 0.0000, 0.0000, 0.0000, 0.0000,\n           0.0000, 0.0000],\n          [0.0000, 0.0000, 0.6000, 0.0000, 0.0000, 0.0000, 0.0000, 0.0000,\n           0.0000, 0.0000],\n          [0.0000, 0.0000, 0.0000, 0.6000, 0.0000, 0.0000, 0.0000, 0.0000,\n           0.0000, 0.0000],\n          [0.0000, 0.0000, 0.0000, 0.0000, 0.6000, 0.0000, 0.0000, 0.0000,\n           0.0000, 0.0000],\n          [0.0000, 0.0000, 0.0000, 0.0000, 0.0000, 0.6000, 0.0000, 0.0000,\n           0.0000, 0.0000],\n          [0.0000, 0.0000, 0.0000, 0.0000, 0.0000, 0.0000, 0.6000, 0.0000,\n           0.0000, 0.0000],\n          [0.0000, 0.0000, 0.0000, 0.0000, 0.0000, 0.0000, 0.0000, 0.6000,\n           0.0000, 0.0000],\n          [0.0000, 0.0000, 0.0000, 0.0000, 0.0000, 0.0000, 0.0000, 0.0000,\n           0.6000, 0.0000],\n          [0.0000, 0.0000, 0.0000, 0.0000, 0.0000, 0.0000, 0.0000, 0.0000,\n           0.0000, 0.6000]]], device='cuda:0', grad_fn=<SelectBackward>),\n tensor([[[1.0375, 0.0000, 0.0000, 0.0000, 0.0000, 0.0000, 0.0000, 0.0000,\n           0.0000, 0.0000],\n          [0.0000, 1.0375, 0.0000, 0.0000, 0.0000, 0.0000, 0.0000, 0.0000,\n           0.0000, 0.0000],\n          [0.0000, 0.0000, 1.0375, 0.0000, 0.0000, 0.0000, 0.0000, 0.0000,\n           0.0000, 0.0000],\n          [0.0000, 0.0000, 0.0000, 1.0375, 0.0000, 0.0000, 0.0000, 0.0000,\n           0.0000, 0.0000],\n          [0.0000, 0.0000, 0.0000, 0.0000, 1.0375, 0.0000, 0.0000, 0.0000,\n           0.0000, 0.0000],\n          [0.0000, 0.0000, 0.0000, 0.0000, 0.0000, 1.0375, 0.0000, 0.0000,\n           0.0000, 0.0000],\n          [0.0000, 0.0000, 0.0000, 0.0000, 0.0000, 0.0000, 1.0375, 0.0000,\n           0.0000, 0.0000],\n          [0.0000, 0.0000, 0.0000, 0.0000, 0.0000, 0.0000, 0.0000, 1.0375,\n           0.0000, 0.0000],\n          [0.0000, 0.0000, 0.0000, 0.0000, 0.0000, 0.0000, 0.0000, 0.0000,\n           1.0375, 0.0000],\n          [0.0000, 0.0000, 0.0000, 0.0000, 0.0000, 0.0000, 0.0000, 0.0000,\n           0.0000, 1.0375]]], device='cuda:0', grad_fn=<SelectBackward>),\n tensor([[[1.0764, 0.0000, 0.0000, 0.0000, 0.0000, 0.0000, 0.0000, 0.0000,\n           0.0000, 0.0000],\n          [0.0000, 1.0764, 0.0000, 0.0000, 0.0000, 0.0000, 0.0000, 0.0000,\n           0.0000, 0.0000],\n          [0.0000, 0.0000, 1.0764, 0.0000, 0.0000, 0.0000, 0.0000, 0.0000,\n           0.0000, 0.0000],\n          [0.0000, 0.0000, 0.0000, 1.0764, 0.0000, 0.0000, 0.0000, 0.0000,\n           0.0000, 0.0000],\n          [0.0000, 0.0000, 0.0000, 0.0000, 1.0764, 0.0000, 0.0000, 0.0000,\n           0.0000, 0.0000],\n          [0.0000, 0.0000, 0.0000, 0.0000, 0.0000, 1.0764, 0.0000, 0.0000,\n           0.0000, 0.0000],\n          [0.0000, 0.0000, 0.0000, 0.0000, 0.0000, 0.0000, 1.0764, 0.0000,\n           0.0000, 0.0000],\n          [0.0000, 0.0000, 0.0000, 0.0000, 0.0000, 0.0000, 0.0000, 1.0764,\n           0.0000, 0.0000],\n          [0.0000, 0.0000, 0.0000, 0.0000, 0.0000, 0.0000, 0.0000, 0.0000,\n           1.0764, 0.0000],\n          [0.0000, 0.0000, 0.0000, 0.0000, 0.0000, 0.0000, 0.0000, 0.0000,\n           0.0000, 1.0764]]], device='cuda:0', grad_fn=<SelectBackward>),\n torch.return_types.eig(\n eigenvalues=tensor([[1.0764, 0.0000],\n         [1.0764, 0.0000],\n         [1.0764, 0.0000],\n         [1.0764, 0.0000],\n         [1.0764, 0.0000],\n         [1.0764, 0.0000],\n         [1.0764, 0.0000],\n         [1.0764, 0.0000],\n         [1.0764, 0.0000],\n         [1.0764, 0.0000]], device='cuda:0', grad_fn=<EigBackward>),\n eigenvectors=tensor([], device='cuda:0', grad_fn=<EigBackward>)),\n tensor([[[0.1000, 0.1000, 0.1000, 0.1000, 0.1000, 0.1000, 0.1000, 0.1000,\n           0.1000, 0.1000]]], device='cuda:0', grad_fn=<SoftmaxBackward>))"
     },
     "execution_count": 811,
     "metadata": {},
     "output_type": "execute_result"
    }
   ],
   "source": [
    "mu_c_g,chol_prec_seed_c_g[:,:,:,0],cholesky_prec(chol_prec_seed_c_g)[:,:,:,0],prec(chol_prec_seed_c_g)[:,:,:,0],torch.eig(prec(chol_prec_seed_c_g)[0,:,:,0]),F.softmax(inv_sm_pi_c_g,dim=2)"
   ],
   "metadata": {
    "collapsed": false,
    "pycharm": {
     "name": "#%%\n"
    }
   }
  },
  {
   "cell_type": "code",
   "execution_count": 950,
   "outputs": [
    {
     "name": "stdout",
     "output_type": "stream",
     "text": [
      "Train Epoch: 0 [0/60000 (0%)]\tLoss: 98.196797\n",
      "Train Epoch: 0 [10000/60000 (17%)]\tLoss: 103.219961\n",
      "Train Epoch: 0 [20000/60000 (33%)]\tLoss: 103.360801\n",
      "Train Epoch: 0 [30000/60000 (50%)]\tLoss: 104.814336\n",
      "Train Epoch: 0 [40000/60000 (67%)]\tLoss: 102.757168\n",
      "Train Epoch: 0 [50000/60000 (83%)]\tLoss: 107.739453\n",
      "====> Test set loss: 1.0362\n",
      "Train Epoch: 1 [0/60000 (0%)]\tLoss: 98.851289\n",
      "Train Epoch: 1 [10000/60000 (17%)]\tLoss: 102.994277\n",
      "Train Epoch: 1 [20000/60000 (33%)]\tLoss: 102.372666\n",
      "Train Epoch: 1 [30000/60000 (50%)]\tLoss: 107.564834\n",
      "Train Epoch: 1 [40000/60000 (67%)]\tLoss: 109.194043\n",
      "Train Epoch: 1 [50000/60000 (83%)]\tLoss: 103.681865\n",
      "====> Test set loss: 1.0704\n",
      "Train Epoch: 2 [0/60000 (0%)]\tLoss: 99.612959\n",
      "Train Epoch: 2 [10000/60000 (17%)]\tLoss: 107.242578\n",
      "Train Epoch: 2 [20000/60000 (33%)]\tLoss: 106.238047\n",
      "Train Epoch: 2 [30000/60000 (50%)]\tLoss: 109.984209\n",
      "Train Epoch: 2 [40000/60000 (67%)]\tLoss: 102.320566\n",
      "Train Epoch: 2 [50000/60000 (83%)]\tLoss: 108.509414\n",
      "====> Test set loss: 0.9882\n",
      "Train Epoch: 3 [0/60000 (0%)]\tLoss: 104.852520\n",
      "Train Epoch: 3 [10000/60000 (17%)]\tLoss: 99.994902\n",
      "Train Epoch: 3 [20000/60000 (33%)]\tLoss: 103.475879\n",
      "Train Epoch: 3 [30000/60000 (50%)]\tLoss: 99.325908\n",
      "Train Epoch: 3 [40000/60000 (67%)]\tLoss: 108.874600\n",
      "Train Epoch: 3 [50000/60000 (83%)]\tLoss: 100.686533\n",
      "====> Test set loss: 1.0843\n",
      "Train Epoch: 4 [0/60000 (0%)]\tLoss: 103.496162\n",
      "Train Epoch: 4 [10000/60000 (17%)]\tLoss: 98.997285\n",
      "Train Epoch: 4 [20000/60000 (33%)]\tLoss: 100.765264\n",
      "Train Epoch: 4 [30000/60000 (50%)]\tLoss: 107.676318\n",
      "Train Epoch: 4 [40000/60000 (67%)]\tLoss: 106.325127\n",
      "Train Epoch: 4 [50000/60000 (83%)]\tLoss: 101.545576\n",
      "====> Test set loss: 1.0766\n",
      "Train Epoch: 5 [0/60000 (0%)]\tLoss: 103.429570\n",
      "Train Epoch: 5 [10000/60000 (17%)]\tLoss: 102.268467\n",
      "Train Epoch: 5 [20000/60000 (33%)]\tLoss: 102.470596\n",
      "Train Epoch: 5 [30000/60000 (50%)]\tLoss: 104.645137\n",
      "Train Epoch: 5 [40000/60000 (67%)]\tLoss: 103.440273\n",
      "Train Epoch: 5 [50000/60000 (83%)]\tLoss: 102.293828\n",
      "====> Test set loss: 1.0498\n",
      "Train Epoch: 6 [0/60000 (0%)]\tLoss: 101.316104\n",
      "Train Epoch: 6 [10000/60000 (17%)]\tLoss: 100.455068\n",
      "Train Epoch: 6 [20000/60000 (33%)]\tLoss: 98.117178\n",
      "Train Epoch: 6 [30000/60000 (50%)]\tLoss: 104.567471\n",
      "Train Epoch: 6 [40000/60000 (67%)]\tLoss: 100.196133\n",
      "Train Epoch: 6 [50000/60000 (83%)]\tLoss: 101.034316\n",
      "====> Test set loss: 1.0655\n",
      "Train Epoch: 7 [0/60000 (0%)]\tLoss: 102.958477\n",
      "Train Epoch: 7 [10000/60000 (17%)]\tLoss: 100.709199\n",
      "Train Epoch: 7 [20000/60000 (33%)]\tLoss: 104.844668\n",
      "Train Epoch: 7 [30000/60000 (50%)]\tLoss: 99.126816\n",
      "Train Epoch: 7 [40000/60000 (67%)]\tLoss: 103.569629\n",
      "Train Epoch: 7 [50000/60000 (83%)]\tLoss: 101.630146\n",
      "====> Test set loss: 1.0763\n",
      "Train Epoch: 8 [0/60000 (0%)]\tLoss: 97.877100\n",
      "Train Epoch: 8 [10000/60000 (17%)]\tLoss: 106.552891\n",
      "Train Epoch: 8 [20000/60000 (33%)]\tLoss: 102.863721\n",
      "Train Epoch: 8 [30000/60000 (50%)]\tLoss: 101.429648\n",
      "Train Epoch: 8 [40000/60000 (67%)]\tLoss: 104.221104\n",
      "Train Epoch: 8 [50000/60000 (83%)]\tLoss: 103.140088\n",
      "====> Test set loss: 1.0517\n",
      "Train Epoch: 9 [0/60000 (0%)]\tLoss: 104.192383\n",
      "Train Epoch: 9 [10000/60000 (17%)]\tLoss: 106.157451\n",
      "Train Epoch: 9 [20000/60000 (33%)]\tLoss: 97.666582\n",
      "Train Epoch: 9 [30000/60000 (50%)]\tLoss: 102.595586\n",
      "Train Epoch: 9 [40000/60000 (67%)]\tLoss: 103.207148\n",
      "Train Epoch: 9 [50000/60000 (83%)]\tLoss: 101.635342\n",
      "====> Test set loss: 1.0589\n",
      "Train Epoch: 10 [0/60000 (0%)]\tLoss: 102.524512\n",
      "Train Epoch: 10 [10000/60000 (17%)]\tLoss: 99.317188\n",
      "Train Epoch: 10 [20000/60000 (33%)]\tLoss: 104.880498\n",
      "Train Epoch: 10 [30000/60000 (50%)]\tLoss: 110.452832\n",
      "Train Epoch: 10 [40000/60000 (67%)]\tLoss: 107.601240\n",
      "Train Epoch: 10 [50000/60000 (83%)]\tLoss: 100.321162\n",
      "====> Test set loss: 1.0289\n",
      "Train Epoch: 11 [0/60000 (0%)]\tLoss: 99.380098\n",
      "Train Epoch: 11 [10000/60000 (17%)]\tLoss: 103.727432\n",
      "Train Epoch: 11 [20000/60000 (33%)]\tLoss: 101.273125\n",
      "Train Epoch: 11 [30000/60000 (50%)]\tLoss: 97.660596\n",
      "Train Epoch: 11 [40000/60000 (67%)]\tLoss: 109.370820\n",
      "Train Epoch: 11 [50000/60000 (83%)]\tLoss: 106.361055\n",
      "====> Test set loss: 1.0201\n",
      "Train Epoch: 12 [0/60000 (0%)]\tLoss: 103.567529\n",
      "Train Epoch: 12 [10000/60000 (17%)]\tLoss: 108.744980\n",
      "Train Epoch: 12 [20000/60000 (33%)]\tLoss: 97.397051\n",
      "Train Epoch: 12 [30000/60000 (50%)]\tLoss: 104.868105\n",
      "Train Epoch: 12 [40000/60000 (67%)]\tLoss: 103.612734\n",
      "Train Epoch: 12 [50000/60000 (83%)]\tLoss: 100.118516\n",
      "====> Test set loss: 1.0701\n",
      "Train Epoch: 13 [0/60000 (0%)]\tLoss: 101.125664\n",
      "Train Epoch: 13 [10000/60000 (17%)]\tLoss: 101.830234\n",
      "Train Epoch: 13 [20000/60000 (33%)]\tLoss: 103.399043\n",
      "Train Epoch: 13 [30000/60000 (50%)]\tLoss: 101.546055\n",
      "Train Epoch: 13 [40000/60000 (67%)]\tLoss: 110.643359\n",
      "Train Epoch: 13 [50000/60000 (83%)]\tLoss: 99.710977\n",
      "====> Test set loss: 1.0994\n",
      "Train Epoch: 14 [0/60000 (0%)]\tLoss: 103.178916\n",
      "Train Epoch: 14 [10000/60000 (17%)]\tLoss: 101.469512\n",
      "Train Epoch: 14 [20000/60000 (33%)]\tLoss: 96.829238\n",
      "Train Epoch: 14 [30000/60000 (50%)]\tLoss: 101.778984\n",
      "Train Epoch: 14 [40000/60000 (67%)]\tLoss: 100.888711\n",
      "Train Epoch: 14 [50000/60000 (83%)]\tLoss: 94.566504\n",
      "====> Test set loss: 1.0156\n",
      "Train Epoch: 15 [0/60000 (0%)]\tLoss: 102.260859\n",
      "Train Epoch: 15 [10000/60000 (17%)]\tLoss: 98.548193\n",
      "Train Epoch: 15 [20000/60000 (33%)]\tLoss: 101.593115\n",
      "Train Epoch: 15 [30000/60000 (50%)]\tLoss: 104.428408\n",
      "Train Epoch: 15 [40000/60000 (67%)]\tLoss: 101.163496\n",
      "Train Epoch: 15 [50000/60000 (83%)]\tLoss: 101.315576\n",
      "====> Test set loss: 1.0214\n",
      "Train Epoch: 16 [0/60000 (0%)]\tLoss: 98.141318\n",
      "Train Epoch: 16 [10000/60000 (17%)]\tLoss: 99.849307\n",
      "Train Epoch: 16 [20000/60000 (33%)]\tLoss: 103.641250\n",
      "Train Epoch: 16 [30000/60000 (50%)]\tLoss: 103.432812\n",
      "Train Epoch: 16 [40000/60000 (67%)]\tLoss: 105.151836\n",
      "Train Epoch: 16 [50000/60000 (83%)]\tLoss: 103.127695\n",
      "====> Test set loss: 1.0613\n",
      "Train Epoch: 17 [0/60000 (0%)]\tLoss: 103.232080\n",
      "Train Epoch: 17 [10000/60000 (17%)]\tLoss: 104.943506\n",
      "Train Epoch: 17 [20000/60000 (33%)]\tLoss: 102.177520\n",
      "Train Epoch: 17 [30000/60000 (50%)]\tLoss: 108.854805\n",
      "Train Epoch: 17 [40000/60000 (67%)]\tLoss: 101.451504\n",
      "Train Epoch: 17 [50000/60000 (83%)]\tLoss: 104.507793\n",
      "====> Test set loss: 1.0232\n",
      "Train Epoch: 18 [0/60000 (0%)]\tLoss: 96.801143\n",
      "Train Epoch: 18 [10000/60000 (17%)]\tLoss: 98.091836\n",
      "Train Epoch: 18 [20000/60000 (33%)]\tLoss: 105.764521\n",
      "Train Epoch: 18 [30000/60000 (50%)]\tLoss: 105.096689\n",
      "Train Epoch: 18 [40000/60000 (67%)]\tLoss: 100.715244\n",
      "Train Epoch: 18 [50000/60000 (83%)]\tLoss: 104.152500\n",
      "====> Test set loss: 1.0592\n",
      "Train Epoch: 19 [0/60000 (0%)]\tLoss: 102.376455\n",
      "Train Epoch: 19 [10000/60000 (17%)]\tLoss: 101.549531\n",
      "Train Epoch: 19 [20000/60000 (33%)]\tLoss: 105.007031\n",
      "Train Epoch: 19 [30000/60000 (50%)]\tLoss: 103.099521\n",
      "Train Epoch: 19 [40000/60000 (67%)]\tLoss: 105.660059\n",
      "Train Epoch: 19 [50000/60000 (83%)]\tLoss: 101.604229\n",
      "====> Test set loss: 1.0430\n",
      "Train Epoch: 20 [0/60000 (0%)]\tLoss: 100.908105\n",
      "Train Epoch: 20 [10000/60000 (17%)]\tLoss: 102.178926\n",
      "Train Epoch: 20 [20000/60000 (33%)]\tLoss: 104.204043\n",
      "Train Epoch: 20 [30000/60000 (50%)]\tLoss: 104.548057\n",
      "Train Epoch: 20 [40000/60000 (67%)]\tLoss: 104.930576\n",
      "Train Epoch: 20 [50000/60000 (83%)]\tLoss: 101.119746\n",
      "====> Test set loss: 1.0522\n",
      "Train Epoch: 21 [0/60000 (0%)]\tLoss: 98.866064\n",
      "Train Epoch: 21 [10000/60000 (17%)]\tLoss: 98.243838\n",
      "Train Epoch: 21 [20000/60000 (33%)]\tLoss: 98.568154\n",
      "Train Epoch: 21 [30000/60000 (50%)]\tLoss: 101.286807\n",
      "Train Epoch: 21 [40000/60000 (67%)]\tLoss: 100.905156\n",
      "Train Epoch: 21 [50000/60000 (83%)]\tLoss: 105.352686\n",
      "====> Test set loss: 1.0434\n",
      "Train Epoch: 22 [0/60000 (0%)]\tLoss: 95.335508\n",
      "Train Epoch: 22 [10000/60000 (17%)]\tLoss: 102.597285\n",
      "Train Epoch: 22 [20000/60000 (33%)]\tLoss: 96.944902\n",
      "Train Epoch: 22 [30000/60000 (50%)]\tLoss: 98.537314\n",
      "Train Epoch: 22 [40000/60000 (67%)]\tLoss: 106.412129\n",
      "Train Epoch: 22 [50000/60000 (83%)]\tLoss: 96.605625\n",
      "====> Test set loss: 0.9565\n",
      "Train Epoch: 23 [0/60000 (0%)]\tLoss: 100.327158\n",
      "Train Epoch: 23 [10000/60000 (17%)]\tLoss: 102.819834\n",
      "Train Epoch: 23 [20000/60000 (33%)]\tLoss: 104.957207\n",
      "Train Epoch: 23 [30000/60000 (50%)]\tLoss: 95.831172\n",
      "Train Epoch: 23 [40000/60000 (67%)]\tLoss: 98.704111\n",
      "Train Epoch: 23 [50000/60000 (83%)]\tLoss: 105.590879\n",
      "====> Test set loss: 1.0474\n",
      "Train Epoch: 24 [0/60000 (0%)]\tLoss: 96.247334\n",
      "Train Epoch: 24 [10000/60000 (17%)]\tLoss: 94.173428\n",
      "Train Epoch: 24 [20000/60000 (33%)]\tLoss: 99.881016\n",
      "Train Epoch: 24 [30000/60000 (50%)]\tLoss: 103.604512\n",
      "Train Epoch: 24 [40000/60000 (67%)]\tLoss: 100.224639\n",
      "Train Epoch: 24 [50000/60000 (83%)]\tLoss: 103.288555\n",
      "====> Test set loss: 1.0693\n",
      "Train Epoch: 25 [0/60000 (0%)]\tLoss: 94.073027\n",
      "Train Epoch: 25 [10000/60000 (17%)]\tLoss: 97.214365\n",
      "Train Epoch: 25 [20000/60000 (33%)]\tLoss: 103.664014\n",
      "Train Epoch: 25 [30000/60000 (50%)]\tLoss: 100.155273\n",
      "Train Epoch: 25 [40000/60000 (67%)]\tLoss: 103.787285\n",
      "Train Epoch: 25 [50000/60000 (83%)]\tLoss: 103.931533\n",
      "====> Test set loss: 1.0361\n",
      "Train Epoch: 26 [0/60000 (0%)]\tLoss: 102.244053\n",
      "Train Epoch: 26 [10000/60000 (17%)]\tLoss: 101.410068\n",
      "Train Epoch: 26 [20000/60000 (33%)]\tLoss: 100.826924\n",
      "Train Epoch: 26 [30000/60000 (50%)]\tLoss: 100.222275\n",
      "Train Epoch: 26 [40000/60000 (67%)]\tLoss: 104.998828\n",
      "Train Epoch: 26 [50000/60000 (83%)]\tLoss: 101.220898\n",
      "====> Test set loss: 1.0260\n",
      "Train Epoch: 27 [0/60000 (0%)]\tLoss: 100.607529\n",
      "Train Epoch: 27 [10000/60000 (17%)]\tLoss: 101.441553\n",
      "Train Epoch: 27 [20000/60000 (33%)]\tLoss: 100.972793\n",
      "Train Epoch: 27 [30000/60000 (50%)]\tLoss: 100.605615\n",
      "Train Epoch: 27 [40000/60000 (67%)]\tLoss: 99.603613\n",
      "Train Epoch: 27 [50000/60000 (83%)]\tLoss: 104.748711\n",
      "====> Test set loss: 1.0610\n",
      "Train Epoch: 28 [0/60000 (0%)]\tLoss: 99.144492\n",
      "Train Epoch: 28 [10000/60000 (17%)]\tLoss: 102.812910\n",
      "Train Epoch: 28 [20000/60000 (33%)]\tLoss: 96.348867\n",
      "Train Epoch: 28 [30000/60000 (50%)]\tLoss: 104.861738\n",
      "Train Epoch: 28 [40000/60000 (67%)]\tLoss: 104.381641\n",
      "Train Epoch: 28 [50000/60000 (83%)]\tLoss: 101.827148\n",
      "====> Test set loss: 1.0319\n",
      "Train Epoch: 29 [0/60000 (0%)]\tLoss: 98.302480\n",
      "Train Epoch: 29 [10000/60000 (17%)]\tLoss: 97.159102\n",
      "Train Epoch: 29 [20000/60000 (33%)]\tLoss: 103.449258\n",
      "Train Epoch: 29 [30000/60000 (50%)]\tLoss: 102.142695\n",
      "Train Epoch: 29 [40000/60000 (67%)]\tLoss: 97.223633\n",
      "Train Epoch: 29 [50000/60000 (83%)]\tLoss: 99.868730\n",
      "====> Test set loss: 1.0323\n",
      "Train Epoch: 30 [0/60000 (0%)]\tLoss: 93.296719\n",
      "Train Epoch: 30 [10000/60000 (17%)]\tLoss: 98.680000\n",
      "Train Epoch: 30 [20000/60000 (33%)]\tLoss: 99.204814\n",
      "Train Epoch: 30 [30000/60000 (50%)]\tLoss: 103.280908\n",
      "Train Epoch: 30 [40000/60000 (67%)]\tLoss: 100.637363\n",
      "Train Epoch: 30 [50000/60000 (83%)]\tLoss: 98.065586\n",
      "====> Test set loss: 1.0229\n",
      "Train Epoch: 31 [0/60000 (0%)]\tLoss: 99.378867\n",
      "Train Epoch: 31 [10000/60000 (17%)]\tLoss: 96.112070\n",
      "Train Epoch: 31 [20000/60000 (33%)]\tLoss: 101.323154\n",
      "Train Epoch: 31 [30000/60000 (50%)]\tLoss: 99.590430\n",
      "Train Epoch: 31 [40000/60000 (67%)]\tLoss: 102.522256\n",
      "Train Epoch: 31 [50000/60000 (83%)]\tLoss: 98.562959\n",
      "====> Test set loss: 1.0649\n",
      "Train Epoch: 32 [0/60000 (0%)]\tLoss: 94.987568\n",
      "Train Epoch: 32 [10000/60000 (17%)]\tLoss: 98.308418\n",
      "Train Epoch: 32 [20000/60000 (33%)]\tLoss: 96.633076\n",
      "Train Epoch: 32 [30000/60000 (50%)]\tLoss: 101.164619\n",
      "Train Epoch: 32 [40000/60000 (67%)]\tLoss: 101.879805\n",
      "Train Epoch: 32 [50000/60000 (83%)]\tLoss: 102.668574\n",
      "====> Test set loss: 1.0615\n",
      "Train Epoch: 33 [0/60000 (0%)]\tLoss: 100.482686\n",
      "Train Epoch: 33 [10000/60000 (17%)]\tLoss: 99.130703\n",
      "Train Epoch: 33 [20000/60000 (33%)]\tLoss: 100.904209\n",
      "Train Epoch: 33 [30000/60000 (50%)]\tLoss: 103.370225\n",
      "Train Epoch: 33 [40000/60000 (67%)]\tLoss: 100.266426\n",
      "Train Epoch: 33 [50000/60000 (83%)]\tLoss: 100.734541\n",
      "====> Test set loss: 1.0337\n",
      "Train Epoch: 34 [0/60000 (0%)]\tLoss: 102.694668\n",
      "Train Epoch: 34 [10000/60000 (17%)]\tLoss: 100.138027\n",
      "Train Epoch: 34 [20000/60000 (33%)]\tLoss: 102.710332\n",
      "Train Epoch: 34 [30000/60000 (50%)]\tLoss: 97.858359\n",
      "Train Epoch: 34 [40000/60000 (67%)]\tLoss: 96.179268\n",
      "Train Epoch: 34 [50000/60000 (83%)]\tLoss: 106.802266\n",
      "====> Test set loss: 1.0691\n",
      "Train Epoch: 35 [0/60000 (0%)]\tLoss: 102.461348\n",
      "Train Epoch: 35 [10000/60000 (17%)]\tLoss: 96.720771\n",
      "Train Epoch: 35 [20000/60000 (33%)]\tLoss: 101.346133\n",
      "Train Epoch: 35 [30000/60000 (50%)]\tLoss: 102.725322\n",
      "Train Epoch: 35 [40000/60000 (67%)]\tLoss: 102.992920\n",
      "Train Epoch: 35 [50000/60000 (83%)]\tLoss: 99.670029\n",
      "====> Test set loss: 1.0609\n",
      "Train Epoch: 36 [0/60000 (0%)]\tLoss: 98.763838\n",
      "Train Epoch: 36 [10000/60000 (17%)]\tLoss: 100.959609\n",
      "Train Epoch: 36 [20000/60000 (33%)]\tLoss: 99.844990\n",
      "Train Epoch: 36 [30000/60000 (50%)]\tLoss: 101.715234\n",
      "Train Epoch: 36 [40000/60000 (67%)]\tLoss: 95.613984\n",
      "Train Epoch: 36 [50000/60000 (83%)]\tLoss: 98.434531\n",
      "====> Test set loss: 1.0113\n",
      "Train Epoch: 37 [0/60000 (0%)]\tLoss: 102.161260\n",
      "Train Epoch: 37 [10000/60000 (17%)]\tLoss: 102.078340\n",
      "Train Epoch: 37 [20000/60000 (33%)]\tLoss: 99.250791\n",
      "Train Epoch: 37 [30000/60000 (50%)]\tLoss: 105.192607\n",
      "Train Epoch: 37 [40000/60000 (67%)]\tLoss: 99.574697\n",
      "Train Epoch: 37 [50000/60000 (83%)]\tLoss: 101.366523\n",
      "====> Test set loss: 1.0714\n",
      "Train Epoch: 38 [0/60000 (0%)]\tLoss: 99.328652\n",
      "Train Epoch: 38 [10000/60000 (17%)]\tLoss: 100.257861\n",
      "Train Epoch: 38 [20000/60000 (33%)]\tLoss: 105.291309\n",
      "Train Epoch: 38 [30000/60000 (50%)]\tLoss: 96.448828\n",
      "Train Epoch: 38 [40000/60000 (67%)]\tLoss: 102.351807\n",
      "Train Epoch: 38 [50000/60000 (83%)]\tLoss: 101.405811\n",
      "====> Test set loss: 1.0753\n",
      "Train Epoch: 39 [0/60000 (0%)]\tLoss: 97.111455\n",
      "Train Epoch: 39 [10000/60000 (17%)]\tLoss: 97.784297\n",
      "Train Epoch: 39 [20000/60000 (33%)]\tLoss: 101.322910\n",
      "Train Epoch: 39 [30000/60000 (50%)]\tLoss: 101.123848\n",
      "Train Epoch: 39 [40000/60000 (67%)]\tLoss: 97.759639\n",
      "Train Epoch: 39 [50000/60000 (83%)]\tLoss: 101.549473\n",
      "====> Test set loss: 1.0269\n",
      "Train Epoch: 40 [0/60000 (0%)]\tLoss: 99.687324\n",
      "Train Epoch: 40 [10000/60000 (17%)]\tLoss: 99.637744\n",
      "Train Epoch: 40 [20000/60000 (33%)]\tLoss: 96.964541\n",
      "Train Epoch: 40 [30000/60000 (50%)]\tLoss: 99.228828\n",
      "Train Epoch: 40 [40000/60000 (67%)]\tLoss: 98.830215\n",
      "Train Epoch: 40 [50000/60000 (83%)]\tLoss: 99.791318\n",
      "====> Test set loss: 1.0542\n",
      "Train Epoch: 41 [0/60000 (0%)]\tLoss: 102.872578\n",
      "Train Epoch: 41 [10000/60000 (17%)]\tLoss: 95.333828\n",
      "Train Epoch: 41 [20000/60000 (33%)]\tLoss: 100.679443\n",
      "Train Epoch: 41 [30000/60000 (50%)]\tLoss: 97.498604\n",
      "Train Epoch: 41 [40000/60000 (67%)]\tLoss: 99.139385\n",
      "Train Epoch: 41 [50000/60000 (83%)]\tLoss: 94.850898\n",
      "====> Test set loss: 1.0550\n",
      "Train Epoch: 42 [0/60000 (0%)]\tLoss: 95.893066\n",
      "Train Epoch: 42 [10000/60000 (17%)]\tLoss: 102.060645\n",
      "Train Epoch: 42 [20000/60000 (33%)]\tLoss: 96.852305\n",
      "Train Epoch: 42 [30000/60000 (50%)]\tLoss: 99.456572\n",
      "Train Epoch: 42 [40000/60000 (67%)]\tLoss: 99.462959\n",
      "Train Epoch: 42 [50000/60000 (83%)]\tLoss: 100.684648\n",
      "====> Test set loss: 1.0465\n",
      "Train Epoch: 43 [0/60000 (0%)]\tLoss: 96.204082\n",
      "Train Epoch: 43 [10000/60000 (17%)]\tLoss: 98.961543\n",
      "Train Epoch: 43 [20000/60000 (33%)]\tLoss: 95.562705\n",
      "Train Epoch: 43 [30000/60000 (50%)]\tLoss: 103.587129\n",
      "Train Epoch: 43 [40000/60000 (67%)]\tLoss: 97.308086\n",
      "Train Epoch: 43 [50000/60000 (83%)]\tLoss: 98.531475\n",
      "====> Test set loss: 1.0319\n",
      "Train Epoch: 44 [0/60000 (0%)]\tLoss: 100.263057\n",
      "Train Epoch: 44 [10000/60000 (17%)]\tLoss: 100.447012\n",
      "Train Epoch: 44 [20000/60000 (33%)]\tLoss: 103.260703\n",
      "Train Epoch: 44 [30000/60000 (50%)]\tLoss: 98.462607\n",
      "Train Epoch: 44 [40000/60000 (67%)]\tLoss: 101.937393\n",
      "Train Epoch: 44 [50000/60000 (83%)]\tLoss: 103.383848\n",
      "====> Test set loss: 1.0337\n",
      "Train Epoch: 45 [0/60000 (0%)]\tLoss: 97.048486\n",
      "Train Epoch: 45 [10000/60000 (17%)]\tLoss: 99.306738\n",
      "Train Epoch: 45 [20000/60000 (33%)]\tLoss: 96.126182\n",
      "Train Epoch: 45 [30000/60000 (50%)]\tLoss: 103.694912\n",
      "Train Epoch: 45 [40000/60000 (67%)]\tLoss: 99.163281\n",
      "Train Epoch: 45 [50000/60000 (83%)]\tLoss: 100.902373\n",
      "====> Test set loss: 1.0328\n",
      "Train Epoch: 46 [0/60000 (0%)]\tLoss: 102.020771\n",
      "Train Epoch: 46 [10000/60000 (17%)]\tLoss: 99.248057\n",
      "Train Epoch: 46 [20000/60000 (33%)]\tLoss: 91.717109\n",
      "Train Epoch: 46 [30000/60000 (50%)]\tLoss: 97.053604\n",
      "Train Epoch: 46 [40000/60000 (67%)]\tLoss: 95.832236\n",
      "Train Epoch: 46 [50000/60000 (83%)]\tLoss: 96.032246\n",
      "====> Test set loss: 1.0501\n",
      "Train Epoch: 47 [0/60000 (0%)]\tLoss: 99.091514\n",
      "Train Epoch: 47 [10000/60000 (17%)]\tLoss: 98.941396\n",
      "Train Epoch: 47 [20000/60000 (33%)]\tLoss: 101.630947\n",
      "Train Epoch: 47 [30000/60000 (50%)]\tLoss: 100.917422\n",
      "Train Epoch: 47 [40000/60000 (67%)]\tLoss: 101.050410\n",
      "Train Epoch: 47 [50000/60000 (83%)]\tLoss: 100.987109\n",
      "====> Test set loss: 1.0219\n",
      "Train Epoch: 48 [0/60000 (0%)]\tLoss: 105.274404\n",
      "Train Epoch: 48 [10000/60000 (17%)]\tLoss: 102.600869\n",
      "Train Epoch: 48 [20000/60000 (33%)]\tLoss: 99.007012\n",
      "Train Epoch: 48 [30000/60000 (50%)]\tLoss: 94.729160\n",
      "Train Epoch: 48 [40000/60000 (67%)]\tLoss: 105.002900\n",
      "Train Epoch: 48 [50000/60000 (83%)]\tLoss: 104.111270\n",
      "====> Test set loss: 1.0739\n",
      "Train Epoch: 49 [0/60000 (0%)]\tLoss: 99.728838\n",
      "Train Epoch: 49 [10000/60000 (17%)]\tLoss: 96.382891\n",
      "Train Epoch: 49 [20000/60000 (33%)]\tLoss: 99.528418\n",
      "Train Epoch: 49 [30000/60000 (50%)]\tLoss: 97.378633\n",
      "Train Epoch: 49 [40000/60000 (67%)]\tLoss: 96.281563\n",
      "Train Epoch: 49 [50000/60000 (83%)]\tLoss: 96.896592\n",
      "====> Test set loss: 0.9995\n",
      "Train Epoch: 50 [0/60000 (0%)]\tLoss: 100.740371\n",
      "Train Epoch: 50 [10000/60000 (17%)]\tLoss: 103.190049\n",
      "Train Epoch: 50 [20000/60000 (33%)]\tLoss: 101.221465\n",
      "Train Epoch: 50 [30000/60000 (50%)]\tLoss: 100.199570\n",
      "Train Epoch: 50 [40000/60000 (67%)]\tLoss: 104.861719\n",
      "Train Epoch: 50 [50000/60000 (83%)]\tLoss: 98.502324\n",
      "====> Test set loss: 0.9715\n",
      "Train Epoch: 51 [0/60000 (0%)]\tLoss: 93.729756\n",
      "Train Epoch: 51 [10000/60000 (17%)]\tLoss: 99.091680\n",
      "Train Epoch: 51 [20000/60000 (33%)]\tLoss: 98.086523\n",
      "Train Epoch: 51 [30000/60000 (50%)]\tLoss: 101.159961\n",
      "Train Epoch: 51 [40000/60000 (67%)]\tLoss: 98.113213\n",
      "Train Epoch: 51 [50000/60000 (83%)]\tLoss: 100.967520\n",
      "====> Test set loss: 1.0796\n",
      "Train Epoch: 52 [0/60000 (0%)]\tLoss: 97.599785\n",
      "Train Epoch: 52 [10000/60000 (17%)]\tLoss: 97.757041\n",
      "Train Epoch: 52 [20000/60000 (33%)]\tLoss: 95.932686\n",
      "Train Epoch: 52 [30000/60000 (50%)]\tLoss: 100.593379\n",
      "Train Epoch: 52 [40000/60000 (67%)]\tLoss: 101.533994\n",
      "Train Epoch: 52 [50000/60000 (83%)]\tLoss: 101.160713\n",
      "====> Test set loss: 1.0497\n",
      "Train Epoch: 53 [0/60000 (0%)]\tLoss: 101.318818\n",
      "Train Epoch: 53 [10000/60000 (17%)]\tLoss: 96.350596\n",
      "Train Epoch: 53 [20000/60000 (33%)]\tLoss: 97.295557\n",
      "Train Epoch: 53 [30000/60000 (50%)]\tLoss: 103.544102\n",
      "Train Epoch: 53 [40000/60000 (67%)]\tLoss: 97.470068\n",
      "Train Epoch: 53 [50000/60000 (83%)]\tLoss: 101.353965\n",
      "====> Test set loss: 1.0157\n",
      "Train Epoch: 54 [0/60000 (0%)]\tLoss: 99.102207\n",
      "Train Epoch: 54 [10000/60000 (17%)]\tLoss: 94.711445\n",
      "Train Epoch: 54 [20000/60000 (33%)]\tLoss: 96.116973\n",
      "Train Epoch: 54 [30000/60000 (50%)]\tLoss: 100.133418\n",
      "Train Epoch: 54 [40000/60000 (67%)]\tLoss: 98.242217\n",
      "Train Epoch: 54 [50000/60000 (83%)]\tLoss: 99.122744\n",
      "====> Test set loss: 0.9616\n",
      "Train Epoch: 55 [0/60000 (0%)]\tLoss: 98.631211\n",
      "Train Epoch: 55 [10000/60000 (17%)]\tLoss: 91.325742\n",
      "Train Epoch: 55 [20000/60000 (33%)]\tLoss: 95.829033\n",
      "Train Epoch: 55 [30000/60000 (50%)]\tLoss: 101.513105\n",
      "Train Epoch: 55 [40000/60000 (67%)]\tLoss: 98.721357\n",
      "Train Epoch: 55 [50000/60000 (83%)]\tLoss: 98.692832\n",
      "====> Test set loss: 1.1032\n",
      "Train Epoch: 56 [0/60000 (0%)]\tLoss: 101.151143\n",
      "Train Epoch: 56 [10000/60000 (17%)]\tLoss: 102.410801\n",
      "Train Epoch: 56 [20000/60000 (33%)]\tLoss: 103.870547\n",
      "Train Epoch: 56 [30000/60000 (50%)]\tLoss: 96.364199\n",
      "Train Epoch: 56 [40000/60000 (67%)]\tLoss: 99.031982\n",
      "Train Epoch: 56 [50000/60000 (83%)]\tLoss: 105.399805\n",
      "====> Test set loss: 1.0472\n",
      "Train Epoch: 57 [0/60000 (0%)]\tLoss: 101.229053\n",
      "Train Epoch: 57 [10000/60000 (17%)]\tLoss: 99.154219\n",
      "Train Epoch: 57 [20000/60000 (33%)]\tLoss: 97.479727\n",
      "Train Epoch: 57 [30000/60000 (50%)]\tLoss: 99.782344\n",
      "Train Epoch: 57 [40000/60000 (67%)]\tLoss: 105.795752\n",
      "Train Epoch: 57 [50000/60000 (83%)]\tLoss: 100.518125\n",
      "====> Test set loss: 1.0710\n",
      "Train Epoch: 58 [0/60000 (0%)]\tLoss: 96.758506\n",
      "Train Epoch: 58 [10000/60000 (17%)]\tLoss: 99.188535\n",
      "Train Epoch: 58 [20000/60000 (33%)]\tLoss: 101.730576\n",
      "Train Epoch: 58 [30000/60000 (50%)]\tLoss: 98.023506\n",
      "Train Epoch: 58 [40000/60000 (67%)]\tLoss: 102.831387\n",
      "Train Epoch: 58 [50000/60000 (83%)]\tLoss: 93.800498\n",
      "====> Test set loss: 1.0355\n",
      "Train Epoch: 59 [0/60000 (0%)]\tLoss: 101.858486\n",
      "Train Epoch: 59 [10000/60000 (17%)]\tLoss: 98.463418\n",
      "Train Epoch: 59 [20000/60000 (33%)]\tLoss: 101.656465\n",
      "Train Epoch: 59 [30000/60000 (50%)]\tLoss: 100.940391\n",
      "Train Epoch: 59 [40000/60000 (67%)]\tLoss: 98.346494\n",
      "Train Epoch: 59 [50000/60000 (83%)]\tLoss: 98.012305\n",
      "====> Test set loss: 1.0271\n",
      "Train Epoch: 60 [0/60000 (0%)]\tLoss: 100.093418\n",
      "Train Epoch: 60 [10000/60000 (17%)]\tLoss: 102.541602\n",
      "Train Epoch: 60 [20000/60000 (33%)]\tLoss: 97.977686\n",
      "Train Epoch: 60 [30000/60000 (50%)]\tLoss: 98.149102\n",
      "Train Epoch: 60 [40000/60000 (67%)]\tLoss: 98.290957\n",
      "Train Epoch: 60 [50000/60000 (83%)]\tLoss: 96.201846\n",
      "====> Test set loss: 0.9862\n",
      "Train Epoch: 61 [0/60000 (0%)]\tLoss: 96.967344\n",
      "Train Epoch: 61 [10000/60000 (17%)]\tLoss: 99.976641\n",
      "Train Epoch: 61 [20000/60000 (33%)]\tLoss: 97.448262\n",
      "Train Epoch: 61 [30000/60000 (50%)]\tLoss: 102.967217\n",
      "Train Epoch: 61 [40000/60000 (67%)]\tLoss: 94.147559\n",
      "Train Epoch: 61 [50000/60000 (83%)]\tLoss: 96.148682\n",
      "====> Test set loss: 0.9959\n",
      "Train Epoch: 62 [0/60000 (0%)]\tLoss: 96.287598\n",
      "Train Epoch: 62 [10000/60000 (17%)]\tLoss: 97.152939\n",
      "Train Epoch: 62 [20000/60000 (33%)]\tLoss: 101.278867\n",
      "Train Epoch: 62 [30000/60000 (50%)]\tLoss: 97.568643\n",
      "Train Epoch: 62 [40000/60000 (67%)]\tLoss: 101.606934\n",
      "Train Epoch: 62 [50000/60000 (83%)]\tLoss: 96.282998\n",
      "====> Test set loss: 1.0292\n",
      "Train Epoch: 63 [0/60000 (0%)]\tLoss: 98.044854\n",
      "Train Epoch: 63 [10000/60000 (17%)]\tLoss: 97.361660\n",
      "Train Epoch: 63 [20000/60000 (33%)]\tLoss: 94.612285\n",
      "Train Epoch: 63 [30000/60000 (50%)]\tLoss: 97.860146\n",
      "Train Epoch: 63 [40000/60000 (67%)]\tLoss: 105.020391\n",
      "Train Epoch: 63 [50000/60000 (83%)]\tLoss: 96.799014\n",
      "====> Test set loss: 1.0227\n",
      "Train Epoch: 64 [0/60000 (0%)]\tLoss: 99.320879\n",
      "Train Epoch: 64 [10000/60000 (17%)]\tLoss: 96.643477\n",
      "Train Epoch: 64 [20000/60000 (33%)]\tLoss: 103.746230\n",
      "Train Epoch: 64 [30000/60000 (50%)]\tLoss: 96.644023\n",
      "Train Epoch: 64 [40000/60000 (67%)]\tLoss: 96.248242\n",
      "Train Epoch: 64 [50000/60000 (83%)]\tLoss: 100.527627\n",
      "====> Test set loss: 1.0904\n",
      "Train Epoch: 65 [0/60000 (0%)]\tLoss: 97.856270\n",
      "Train Epoch: 65 [10000/60000 (17%)]\tLoss: 95.792910\n",
      "Train Epoch: 65 [20000/60000 (33%)]\tLoss: 95.656445\n",
      "Train Epoch: 65 [30000/60000 (50%)]\tLoss: 97.555732\n",
      "Train Epoch: 65 [40000/60000 (67%)]\tLoss: 98.830371\n",
      "Train Epoch: 65 [50000/60000 (83%)]\tLoss: 99.474902\n",
      "====> Test set loss: 1.0424\n",
      "Train Epoch: 66 [0/60000 (0%)]\tLoss: 97.866113\n",
      "Train Epoch: 66 [10000/60000 (17%)]\tLoss: 102.216875\n",
      "Train Epoch: 66 [20000/60000 (33%)]\tLoss: 99.435391\n",
      "Train Epoch: 66 [30000/60000 (50%)]\tLoss: 100.840898\n",
      "Train Epoch: 66 [40000/60000 (67%)]\tLoss: 100.815215\n",
      "Train Epoch: 66 [50000/60000 (83%)]\tLoss: 104.861758\n",
      "====> Test set loss: 1.0063\n",
      "Train Epoch: 67 [0/60000 (0%)]\tLoss: 101.324072\n",
      "Train Epoch: 67 [10000/60000 (17%)]\tLoss: 99.502285\n",
      "Train Epoch: 67 [20000/60000 (33%)]\tLoss: 101.523818\n",
      "Train Epoch: 67 [30000/60000 (50%)]\tLoss: 101.402529\n",
      "Train Epoch: 67 [40000/60000 (67%)]\tLoss: 98.203086\n",
      "Train Epoch: 67 [50000/60000 (83%)]\tLoss: 94.029980\n",
      "====> Test set loss: 1.0476\n",
      "Train Epoch: 68 [0/60000 (0%)]\tLoss: 99.692002\n",
      "Train Epoch: 68 [10000/60000 (17%)]\tLoss: 100.078730\n",
      "Train Epoch: 68 [20000/60000 (33%)]\tLoss: 103.264824\n",
      "Train Epoch: 68 [30000/60000 (50%)]\tLoss: 97.357715\n",
      "Train Epoch: 68 [40000/60000 (67%)]\tLoss: 95.623359\n",
      "Train Epoch: 68 [50000/60000 (83%)]\tLoss: 95.076133\n",
      "====> Test set loss: 0.9854\n",
      "Train Epoch: 69 [0/60000 (0%)]\tLoss: 98.581992\n",
      "Train Epoch: 69 [10000/60000 (17%)]\tLoss: 94.410313\n",
      "Train Epoch: 69 [20000/60000 (33%)]\tLoss: 99.935635\n",
      "Train Epoch: 69 [30000/60000 (50%)]\tLoss: 97.582285\n",
      "Train Epoch: 69 [40000/60000 (67%)]\tLoss: 90.983564\n",
      "Train Epoch: 69 [50000/60000 (83%)]\tLoss: 97.497930\n",
      "====> Test set loss: 1.0655\n",
      "Train Epoch: 70 [0/60000 (0%)]\tLoss: 92.950898\n",
      "Train Epoch: 70 [10000/60000 (17%)]\tLoss: 98.719697\n",
      "Train Epoch: 70 [20000/60000 (33%)]\tLoss: 98.680859\n",
      "Train Epoch: 70 [30000/60000 (50%)]\tLoss: 97.359697\n",
      "Train Epoch: 70 [40000/60000 (67%)]\tLoss: 96.695391\n",
      "Train Epoch: 70 [50000/60000 (83%)]\tLoss: 99.097139\n",
      "====> Test set loss: 1.0349\n",
      "Train Epoch: 71 [0/60000 (0%)]\tLoss: 94.689629\n",
      "Train Epoch: 71 [10000/60000 (17%)]\tLoss: 93.985508\n",
      "Train Epoch: 71 [20000/60000 (33%)]\tLoss: 99.302813\n",
      "Train Epoch: 71 [30000/60000 (50%)]\tLoss: 99.760439\n",
      "Train Epoch: 71 [40000/60000 (67%)]\tLoss: 95.201152\n",
      "Train Epoch: 71 [50000/60000 (83%)]\tLoss: 101.145986\n",
      "====> Test set loss: 1.0943\n",
      "Train Epoch: 72 [0/60000 (0%)]\tLoss: 96.207754\n",
      "Train Epoch: 72 [10000/60000 (17%)]\tLoss: 96.904277\n",
      "Train Epoch: 72 [20000/60000 (33%)]\tLoss: 98.781113\n",
      "Train Epoch: 72 [30000/60000 (50%)]\tLoss: 99.791377\n",
      "Train Epoch: 72 [40000/60000 (67%)]\tLoss: 98.559570\n",
      "Train Epoch: 72 [50000/60000 (83%)]\tLoss: 93.842861\n",
      "====> Test set loss: 1.0505\n",
      "Train Epoch: 73 [0/60000 (0%)]\tLoss: 98.523662\n",
      "Train Epoch: 73 [10000/60000 (17%)]\tLoss: 101.726260\n",
      "Train Epoch: 73 [20000/60000 (33%)]\tLoss: 102.242705\n",
      "Train Epoch: 73 [30000/60000 (50%)]\tLoss: 93.641025\n",
      "Train Epoch: 73 [40000/60000 (67%)]\tLoss: 92.059795\n",
      "Train Epoch: 73 [50000/60000 (83%)]\tLoss: 96.942852\n",
      "====> Test set loss: 1.0210\n",
      "Train Epoch: 74 [0/60000 (0%)]\tLoss: 100.614307\n",
      "Train Epoch: 74 [10000/60000 (17%)]\tLoss: 97.076953\n",
      "Train Epoch: 74 [20000/60000 (33%)]\tLoss: 101.100107\n",
      "Train Epoch: 74 [30000/60000 (50%)]\tLoss: 99.039121\n",
      "Train Epoch: 74 [40000/60000 (67%)]\tLoss: 94.849824\n",
      "Train Epoch: 74 [50000/60000 (83%)]\tLoss: 99.893506\n",
      "====> Test set loss: 1.0474\n",
      "Train Epoch: 75 [0/60000 (0%)]\tLoss: 97.536738\n",
      "Train Epoch: 75 [10000/60000 (17%)]\tLoss: 91.212598\n",
      "Train Epoch: 75 [20000/60000 (33%)]\tLoss: 94.595664\n",
      "Train Epoch: 75 [30000/60000 (50%)]\tLoss: 99.218682\n",
      "Train Epoch: 75 [40000/60000 (67%)]\tLoss: 95.369277\n",
      "Train Epoch: 75 [50000/60000 (83%)]\tLoss: 96.271270\n",
      "====> Test set loss: 1.0854\n",
      "Train Epoch: 76 [0/60000 (0%)]\tLoss: 98.709121\n",
      "Train Epoch: 76 [10000/60000 (17%)]\tLoss: 92.990986\n",
      "Train Epoch: 76 [20000/60000 (33%)]\tLoss: 98.577539\n",
      "Train Epoch: 76 [30000/60000 (50%)]\tLoss: 99.324873\n",
      "Train Epoch: 76 [40000/60000 (67%)]\tLoss: 95.283604\n",
      "Train Epoch: 76 [50000/60000 (83%)]\tLoss: 100.906475\n",
      "====> Test set loss: 1.0086\n",
      "Train Epoch: 77 [0/60000 (0%)]\tLoss: 98.627119\n",
      "Train Epoch: 77 [10000/60000 (17%)]\tLoss: 99.719053\n",
      "Train Epoch: 77 [20000/60000 (33%)]\tLoss: 102.405889\n",
      "Train Epoch: 77 [30000/60000 (50%)]\tLoss: 101.185645\n",
      "Train Epoch: 77 [40000/60000 (67%)]\tLoss: 101.162969\n",
      "Train Epoch: 77 [50000/60000 (83%)]\tLoss: 100.612822\n",
      "====> Test set loss: 1.0163\n",
      "Train Epoch: 78 [0/60000 (0%)]\tLoss: 96.603252\n",
      "Train Epoch: 78 [10000/60000 (17%)]\tLoss: 99.767471\n",
      "Train Epoch: 78 [20000/60000 (33%)]\tLoss: 97.057266\n",
      "Train Epoch: 78 [30000/60000 (50%)]\tLoss: 96.218213\n",
      "Train Epoch: 78 [40000/60000 (67%)]\tLoss: 97.062607\n",
      "Train Epoch: 78 [50000/60000 (83%)]\tLoss: 97.883008\n",
      "====> Test set loss: 1.0348\n",
      "Train Epoch: 79 [0/60000 (0%)]\tLoss: 99.202988\n",
      "Train Epoch: 79 [10000/60000 (17%)]\tLoss: 93.786348\n",
      "Train Epoch: 79 [20000/60000 (33%)]\tLoss: 101.074229\n",
      "Train Epoch: 79 [30000/60000 (50%)]\tLoss: 99.034307\n",
      "Train Epoch: 79 [40000/60000 (67%)]\tLoss: 96.743398\n",
      "Train Epoch: 79 [50000/60000 (83%)]\tLoss: 99.407285\n",
      "====> Test set loss: 0.9900\n",
      "Train Epoch: 80 [0/60000 (0%)]\tLoss: 95.091562\n",
      "Train Epoch: 80 [10000/60000 (17%)]\tLoss: 98.151074\n",
      "Train Epoch: 80 [20000/60000 (33%)]\tLoss: 98.057793\n",
      "Train Epoch: 80 [30000/60000 (50%)]\tLoss: 97.677061\n",
      "Train Epoch: 80 [40000/60000 (67%)]\tLoss: 98.269180\n",
      "Train Epoch: 80 [50000/60000 (83%)]\tLoss: 94.052852\n",
      "====> Test set loss: 0.9995\n",
      "Train Epoch: 81 [0/60000 (0%)]\tLoss: 100.523770\n",
      "Train Epoch: 81 [10000/60000 (17%)]\tLoss: 98.728271\n",
      "Train Epoch: 81 [20000/60000 (33%)]\tLoss: 100.378115\n",
      "Train Epoch: 81 [30000/60000 (50%)]\tLoss: 97.883125\n",
      "Train Epoch: 81 [40000/60000 (67%)]\tLoss: 99.276992\n",
      "Train Epoch: 81 [50000/60000 (83%)]\tLoss: 93.827295\n",
      "====> Test set loss: 1.0007\n",
      "Train Epoch: 82 [0/60000 (0%)]\tLoss: 99.205117\n",
      "Train Epoch: 82 [10000/60000 (17%)]\tLoss: 92.893350\n",
      "Train Epoch: 82 [20000/60000 (33%)]\tLoss: 98.780498\n",
      "Train Epoch: 82 [30000/60000 (50%)]\tLoss: 98.926289\n",
      "Train Epoch: 82 [40000/60000 (67%)]\tLoss: 92.484785\n",
      "Train Epoch: 82 [50000/60000 (83%)]\tLoss: 97.761758\n",
      "====> Test set loss: 1.0360\n",
      "Train Epoch: 83 [0/60000 (0%)]\tLoss: 99.988438\n",
      "Train Epoch: 83 [10000/60000 (17%)]\tLoss: 95.156865\n",
      "Train Epoch: 83 [20000/60000 (33%)]\tLoss: 97.285762\n",
      "Train Epoch: 83 [30000/60000 (50%)]\tLoss: 90.280264\n",
      "Train Epoch: 83 [40000/60000 (67%)]\tLoss: 94.265059\n",
      "Train Epoch: 83 [50000/60000 (83%)]\tLoss: 93.409424\n",
      "====> Test set loss: 1.0257\n",
      "Train Epoch: 84 [0/60000 (0%)]\tLoss: 101.331436\n",
      "Train Epoch: 84 [10000/60000 (17%)]\tLoss: 95.807090\n",
      "Train Epoch: 84 [20000/60000 (33%)]\tLoss: 99.951367\n",
      "Train Epoch: 84 [30000/60000 (50%)]\tLoss: 93.198340\n",
      "Train Epoch: 84 [40000/60000 (67%)]\tLoss: 100.076934\n",
      "Train Epoch: 84 [50000/60000 (83%)]\tLoss: 97.048418\n",
      "====> Test set loss: 0.9779\n",
      "Train Epoch: 85 [0/60000 (0%)]\tLoss: 99.335313\n",
      "Train Epoch: 85 [10000/60000 (17%)]\tLoss: 96.569736\n",
      "Train Epoch: 85 [20000/60000 (33%)]\tLoss: 97.898633\n",
      "Train Epoch: 85 [30000/60000 (50%)]\tLoss: 98.756924\n",
      "Train Epoch: 85 [40000/60000 (67%)]\tLoss: 95.734561\n",
      "Train Epoch: 85 [50000/60000 (83%)]\tLoss: 98.395273\n",
      "====> Test set loss: 1.0164\n",
      "Train Epoch: 86 [0/60000 (0%)]\tLoss: 93.823262\n",
      "Train Epoch: 86 [10000/60000 (17%)]\tLoss: 103.412871\n",
      "Train Epoch: 86 [20000/60000 (33%)]\tLoss: 95.794775\n",
      "Train Epoch: 86 [30000/60000 (50%)]\tLoss: 97.304463\n",
      "Train Epoch: 86 [40000/60000 (67%)]\tLoss: 100.598330\n",
      "Train Epoch: 86 [50000/60000 (83%)]\tLoss: 96.949316\n",
      "====> Test set loss: 1.0239\n",
      "Train Epoch: 87 [0/60000 (0%)]\tLoss: 95.892803\n",
      "Train Epoch: 87 [10000/60000 (17%)]\tLoss: 95.727393\n",
      "Train Epoch: 87 [20000/60000 (33%)]\tLoss: 94.020684\n",
      "Train Epoch: 87 [30000/60000 (50%)]\tLoss: 99.850625\n",
      "Train Epoch: 87 [40000/60000 (67%)]\tLoss: 98.673223\n",
      "Train Epoch: 87 [50000/60000 (83%)]\tLoss: 98.253418\n",
      "====> Test set loss: 1.0302\n",
      "Train Epoch: 88 [0/60000 (0%)]\tLoss: 101.871650\n",
      "Train Epoch: 88 [10000/60000 (17%)]\tLoss: 98.704336\n",
      "Train Epoch: 88 [20000/60000 (33%)]\tLoss: 93.256836\n",
      "Train Epoch: 88 [30000/60000 (50%)]\tLoss: 93.636484\n",
      "Train Epoch: 88 [40000/60000 (67%)]\tLoss: 98.226777\n",
      "Train Epoch: 88 [50000/60000 (83%)]\tLoss: 96.116592\n",
      "====> Test set loss: 1.0297\n",
      "Train Epoch: 89 [0/60000 (0%)]\tLoss: 96.148789\n",
      "Train Epoch: 89 [10000/60000 (17%)]\tLoss: 94.792510\n",
      "Train Epoch: 89 [20000/60000 (33%)]\tLoss: 97.379629\n",
      "Train Epoch: 89 [30000/60000 (50%)]\tLoss: 99.083740\n",
      "Train Epoch: 89 [40000/60000 (67%)]\tLoss: 101.834307\n",
      "Train Epoch: 89 [50000/60000 (83%)]\tLoss: 92.726318\n",
      "====> Test set loss: 1.0511\n",
      "Train Epoch: 90 [0/60000 (0%)]\tLoss: 97.645664\n",
      "Train Epoch: 90 [10000/60000 (17%)]\tLoss: 95.312910\n",
      "Train Epoch: 90 [20000/60000 (33%)]\tLoss: 94.640713\n",
      "Train Epoch: 90 [30000/60000 (50%)]\tLoss: 102.456992\n",
      "Train Epoch: 90 [40000/60000 (67%)]\tLoss: 100.633760\n",
      "Train Epoch: 90 [50000/60000 (83%)]\tLoss: 98.938477\n",
      "====> Test set loss: 1.0551\n",
      "Train Epoch: 91 [0/60000 (0%)]\tLoss: 92.873232\n",
      "Train Epoch: 91 [10000/60000 (17%)]\tLoss: 95.381846\n",
      "Train Epoch: 91 [20000/60000 (33%)]\tLoss: 96.287441\n",
      "Train Epoch: 91 [30000/60000 (50%)]\tLoss: 93.635127\n",
      "Train Epoch: 91 [40000/60000 (67%)]\tLoss: 92.725840\n",
      "Train Epoch: 91 [50000/60000 (83%)]\tLoss: 101.653643\n",
      "====> Test set loss: 1.0188\n",
      "Train Epoch: 92 [0/60000 (0%)]\tLoss: 96.974707\n",
      "Train Epoch: 92 [10000/60000 (17%)]\tLoss: 95.243535\n",
      "Train Epoch: 92 [20000/60000 (33%)]\tLoss: 99.863359\n",
      "Train Epoch: 92 [30000/60000 (50%)]\tLoss: 94.896201\n",
      "Train Epoch: 92 [40000/60000 (67%)]\tLoss: 98.500479\n",
      "Train Epoch: 92 [50000/60000 (83%)]\tLoss: 97.401006\n",
      "====> Test set loss: 1.0331\n",
      "Train Epoch: 93 [0/60000 (0%)]\tLoss: 98.629941\n",
      "Train Epoch: 93 [10000/60000 (17%)]\tLoss: 96.424648\n",
      "Train Epoch: 93 [20000/60000 (33%)]\tLoss: 95.899463\n",
      "Train Epoch: 93 [30000/60000 (50%)]\tLoss: 94.889795\n",
      "Train Epoch: 93 [40000/60000 (67%)]\tLoss: 101.751621\n",
      "Train Epoch: 93 [50000/60000 (83%)]\tLoss: 98.294629\n",
      "====> Test set loss: 1.0643\n",
      "Train Epoch: 94 [0/60000 (0%)]\tLoss: 98.339707\n",
      "Train Epoch: 94 [10000/60000 (17%)]\tLoss: 95.898516\n",
      "Train Epoch: 94 [20000/60000 (33%)]\tLoss: 98.671074\n",
      "Train Epoch: 94 [30000/60000 (50%)]\tLoss: 96.646602\n",
      "Train Epoch: 94 [40000/60000 (67%)]\tLoss: 93.082031\n",
      "Train Epoch: 94 [50000/60000 (83%)]\tLoss: 100.739209\n",
      "====> Test set loss: 0.9807\n",
      "Train Epoch: 95 [0/60000 (0%)]\tLoss: 95.788096\n",
      "Train Epoch: 95 [10000/60000 (17%)]\tLoss: 93.828076\n",
      "Train Epoch: 95 [20000/60000 (33%)]\tLoss: 97.762041\n",
      "Train Epoch: 95 [30000/60000 (50%)]\tLoss: 98.624082\n",
      "Train Epoch: 95 [40000/60000 (67%)]\tLoss: 95.750547\n",
      "Train Epoch: 95 [50000/60000 (83%)]\tLoss: 97.889365\n",
      "====> Test set loss: 1.0164\n",
      "Train Epoch: 96 [0/60000 (0%)]\tLoss: 94.018047\n",
      "Train Epoch: 96 [10000/60000 (17%)]\tLoss: 95.965732\n",
      "Train Epoch: 96 [20000/60000 (33%)]\tLoss: 97.354600\n",
      "Train Epoch: 96 [30000/60000 (50%)]\tLoss: 94.899375\n",
      "Train Epoch: 96 [40000/60000 (67%)]\tLoss: 95.445176\n",
      "Train Epoch: 96 [50000/60000 (83%)]\tLoss: 99.550400\n",
      "====> Test set loss: 1.0492\n",
      "Train Epoch: 97 [0/60000 (0%)]\tLoss: 101.497881\n",
      "Train Epoch: 97 [10000/60000 (17%)]\tLoss: 97.208125\n",
      "Train Epoch: 97 [20000/60000 (33%)]\tLoss: 94.744980\n",
      "Train Epoch: 97 [30000/60000 (50%)]\tLoss: 97.444414\n",
      "Train Epoch: 97 [40000/60000 (67%)]\tLoss: 99.178125\n",
      "Train Epoch: 97 [50000/60000 (83%)]\tLoss: 100.474482\n",
      "====> Test set loss: 1.1018\n",
      "Train Epoch: 98 [0/60000 (0%)]\tLoss: 96.501582\n",
      "Train Epoch: 98 [10000/60000 (17%)]\tLoss: 100.368750\n",
      "Train Epoch: 98 [20000/60000 (33%)]\tLoss: 95.640010\n",
      "Train Epoch: 98 [30000/60000 (50%)]\tLoss: 93.652441\n",
      "Train Epoch: 98 [40000/60000 (67%)]\tLoss: 91.815234\n",
      "Train Epoch: 98 [50000/60000 (83%)]\tLoss: 99.853252\n",
      "====> Test set loss: 1.0581\n",
      "Train Epoch: 99 [0/60000 (0%)]\tLoss: 96.796279\n",
      "Train Epoch: 99 [10000/60000 (17%)]\tLoss: 95.585293\n",
      "Train Epoch: 99 [20000/60000 (33%)]\tLoss: 93.401494\n",
      "Train Epoch: 99 [30000/60000 (50%)]\tLoss: 97.399209\n",
      "Train Epoch: 99 [40000/60000 (67%)]\tLoss: 96.469727\n",
      "Train Epoch: 99 [50000/60000 (83%)]\tLoss: 97.649678\n",
      "====> Test set loss: 1.0537\n",
      "Train Epoch: 100 [0/60000 (0%)]\tLoss: 98.229941\n",
      "Train Epoch: 100 [10000/60000 (17%)]\tLoss: 102.078213\n",
      "Train Epoch: 100 [20000/60000 (33%)]\tLoss: 98.619434\n",
      "Train Epoch: 100 [30000/60000 (50%)]\tLoss: 98.386934\n",
      "Train Epoch: 100 [40000/60000 (67%)]\tLoss: 96.444414\n",
      "Train Epoch: 100 [50000/60000 (83%)]\tLoss: 99.057129\n",
      "====> Test set loss: 1.0296\n",
      "Train Epoch: 101 [0/60000 (0%)]\tLoss: 96.393496\n",
      "Train Epoch: 101 [10000/60000 (17%)]\tLoss: 100.084248\n",
      "Train Epoch: 101 [20000/60000 (33%)]\tLoss: 96.975928\n",
      "Train Epoch: 101 [30000/60000 (50%)]\tLoss: 97.033848\n",
      "Train Epoch: 101 [40000/60000 (67%)]\tLoss: 97.381250\n",
      "Train Epoch: 101 [50000/60000 (83%)]\tLoss: 100.624785\n",
      "====> Test set loss: 1.0113\n",
      "Train Epoch: 102 [0/60000 (0%)]\tLoss: 92.735977\n",
      "Train Epoch: 102 [10000/60000 (17%)]\tLoss: 94.501953\n",
      "Train Epoch: 102 [20000/60000 (33%)]\tLoss: 96.471982\n",
      "Train Epoch: 102 [30000/60000 (50%)]\tLoss: 97.633525\n",
      "Train Epoch: 102 [40000/60000 (67%)]\tLoss: 94.673555\n",
      "Train Epoch: 102 [50000/60000 (83%)]\tLoss: 98.290156\n",
      "====> Test set loss: 0.9702\n",
      "Train Epoch: 103 [0/60000 (0%)]\tLoss: 98.986436\n",
      "Train Epoch: 103 [10000/60000 (17%)]\tLoss: 96.609229\n",
      "Train Epoch: 103 [20000/60000 (33%)]\tLoss: 98.099961\n",
      "Train Epoch: 103 [30000/60000 (50%)]\tLoss: 97.184473\n",
      "Train Epoch: 103 [40000/60000 (67%)]\tLoss: 91.530059\n",
      "Train Epoch: 103 [50000/60000 (83%)]\tLoss: 96.783945\n",
      "====> Test set loss: 1.1433\n",
      "Train Epoch: 104 [0/60000 (0%)]\tLoss: 98.007910\n",
      "Train Epoch: 104 [10000/60000 (17%)]\tLoss: 97.162207\n",
      "Train Epoch: 104 [20000/60000 (33%)]\tLoss: 94.594365\n",
      "Train Epoch: 104 [30000/60000 (50%)]\tLoss: 93.717764\n",
      "Train Epoch: 104 [40000/60000 (67%)]\tLoss: 93.236689\n",
      "Train Epoch: 104 [50000/60000 (83%)]\tLoss: 99.232432\n",
      "====> Test set loss: 1.0064\n",
      "Train Epoch: 105 [0/60000 (0%)]\tLoss: 98.368828\n",
      "Train Epoch: 105 [10000/60000 (17%)]\tLoss: 97.994434\n",
      "Train Epoch: 105 [20000/60000 (33%)]\tLoss: 93.286455\n",
      "Train Epoch: 105 [30000/60000 (50%)]\tLoss: 101.206201\n",
      "Train Epoch: 105 [40000/60000 (67%)]\tLoss: 92.507246\n",
      "Train Epoch: 105 [50000/60000 (83%)]\tLoss: 105.936836\n",
      "====> Test set loss: 1.0060\n",
      "Train Epoch: 106 [0/60000 (0%)]\tLoss: 99.156328\n",
      "Train Epoch: 106 [10000/60000 (17%)]\tLoss: 95.368584\n",
      "Train Epoch: 106 [20000/60000 (33%)]\tLoss: 96.384824\n",
      "Train Epoch: 106 [30000/60000 (50%)]\tLoss: 97.808906\n",
      "Train Epoch: 106 [40000/60000 (67%)]\tLoss: 97.572520\n",
      "Train Epoch: 106 [50000/60000 (83%)]\tLoss: 98.127012\n",
      "====> Test set loss: 0.9902\n",
      "Train Epoch: 107 [0/60000 (0%)]\tLoss: 97.112012\n",
      "Train Epoch: 107 [10000/60000 (17%)]\tLoss: 97.389492\n",
      "Train Epoch: 107 [20000/60000 (33%)]\tLoss: 94.621104\n",
      "Train Epoch: 107 [30000/60000 (50%)]\tLoss: 96.418213\n",
      "Train Epoch: 107 [40000/60000 (67%)]\tLoss: 98.682100\n",
      "Train Epoch: 107 [50000/60000 (83%)]\tLoss: 96.697461\n",
      "====> Test set loss: 1.0652\n",
      "Train Epoch: 108 [0/60000 (0%)]\tLoss: 97.361719\n",
      "Train Epoch: 108 [10000/60000 (17%)]\tLoss: 93.228770\n",
      "Train Epoch: 108 [20000/60000 (33%)]\tLoss: 94.073125\n",
      "Train Epoch: 108 [30000/60000 (50%)]\tLoss: 96.073604\n",
      "Train Epoch: 108 [40000/60000 (67%)]\tLoss: 99.838789\n",
      "Train Epoch: 108 [50000/60000 (83%)]\tLoss: 97.856084\n",
      "====> Test set loss: 1.1090\n",
      "Train Epoch: 109 [0/60000 (0%)]\tLoss: 97.143691\n",
      "Train Epoch: 109 [10000/60000 (17%)]\tLoss: 96.372715\n",
      "Train Epoch: 109 [20000/60000 (33%)]\tLoss: 89.792266\n",
      "Train Epoch: 109 [30000/60000 (50%)]\tLoss: 98.784355\n",
      "Train Epoch: 109 [40000/60000 (67%)]\tLoss: 97.838008\n",
      "Train Epoch: 109 [50000/60000 (83%)]\tLoss: 91.812178\n",
      "====> Test set loss: 1.0486\n",
      "Train Epoch: 110 [0/60000 (0%)]\tLoss: 94.514863\n",
      "Train Epoch: 110 [10000/60000 (17%)]\tLoss: 93.977227\n",
      "Train Epoch: 110 [20000/60000 (33%)]\tLoss: 95.263887\n",
      "Train Epoch: 110 [30000/60000 (50%)]\tLoss: 95.720791\n",
      "Train Epoch: 110 [40000/60000 (67%)]\tLoss: 96.877080\n",
      "Train Epoch: 110 [50000/60000 (83%)]\tLoss: 98.058105\n",
      "====> Test set loss: 1.0154\n",
      "Train Epoch: 111 [0/60000 (0%)]\tLoss: 91.021670\n",
      "Train Epoch: 111 [10000/60000 (17%)]\tLoss: 94.982061\n",
      "Train Epoch: 111 [20000/60000 (33%)]\tLoss: 96.401729\n",
      "Train Epoch: 111 [30000/60000 (50%)]\tLoss: 96.937305\n",
      "Train Epoch: 111 [40000/60000 (67%)]\tLoss: 92.653750\n",
      "Train Epoch: 111 [50000/60000 (83%)]\tLoss: 96.451074\n",
      "====> Test set loss: 1.0492\n",
      "Train Epoch: 112 [0/60000 (0%)]\tLoss: 96.341113\n",
      "Train Epoch: 112 [10000/60000 (17%)]\tLoss: 97.668652\n",
      "Train Epoch: 112 [20000/60000 (33%)]\tLoss: 94.079277\n",
      "Train Epoch: 112 [30000/60000 (50%)]\tLoss: 94.932002\n",
      "Train Epoch: 112 [40000/60000 (67%)]\tLoss: 95.658945\n",
      "Train Epoch: 112 [50000/60000 (83%)]\tLoss: 98.400566\n",
      "====> Test set loss: 1.0354\n",
      "Train Epoch: 113 [0/60000 (0%)]\tLoss: 91.179277\n",
      "Train Epoch: 113 [10000/60000 (17%)]\tLoss: 94.771074\n",
      "Train Epoch: 113 [20000/60000 (33%)]\tLoss: 98.081553\n",
      "Train Epoch: 113 [30000/60000 (50%)]\tLoss: 96.369424\n",
      "Train Epoch: 113 [40000/60000 (67%)]\tLoss: 93.662617\n",
      "Train Epoch: 113 [50000/60000 (83%)]\tLoss: 101.001943\n",
      "====> Test set loss: 1.0783\n",
      "Train Epoch: 114 [0/60000 (0%)]\tLoss: 95.196738\n",
      "Train Epoch: 114 [10000/60000 (17%)]\tLoss: 100.871445\n",
      "Train Epoch: 114 [20000/60000 (33%)]\tLoss: 92.988232\n",
      "Train Epoch: 114 [30000/60000 (50%)]\tLoss: 100.017354\n",
      "Train Epoch: 114 [40000/60000 (67%)]\tLoss: 96.046299\n",
      "Train Epoch: 114 [50000/60000 (83%)]\tLoss: 101.472256\n",
      "====> Test set loss: 1.0053\n",
      "Train Epoch: 115 [0/60000 (0%)]\tLoss: 98.850146\n",
      "Train Epoch: 115 [10000/60000 (17%)]\tLoss: 100.201406\n",
      "Train Epoch: 115 [20000/60000 (33%)]\tLoss: 98.541562\n",
      "Train Epoch: 115 [30000/60000 (50%)]\tLoss: 97.453916\n",
      "Train Epoch: 115 [40000/60000 (67%)]\tLoss: 98.716504\n",
      "Train Epoch: 115 [50000/60000 (83%)]\tLoss: 97.577490\n",
      "====> Test set loss: 1.0549\n",
      "Train Epoch: 116 [0/60000 (0%)]\tLoss: 94.563770\n",
      "Train Epoch: 116 [10000/60000 (17%)]\tLoss: 94.309189\n",
      "Train Epoch: 116 [20000/60000 (33%)]\tLoss: 95.153750\n",
      "Train Epoch: 116 [30000/60000 (50%)]\tLoss: 94.040840\n",
      "Train Epoch: 116 [40000/60000 (67%)]\tLoss: 98.471084\n",
      "Train Epoch: 116 [50000/60000 (83%)]\tLoss: 93.262500\n",
      "====> Test set loss: 1.0685\n",
      "Train Epoch: 117 [0/60000 (0%)]\tLoss: 93.058037\n",
      "Train Epoch: 117 [10000/60000 (17%)]\tLoss: 95.896025\n",
      "Train Epoch: 117 [20000/60000 (33%)]\tLoss: 95.927217\n",
      "Train Epoch: 117 [30000/60000 (50%)]\tLoss: 95.200820\n",
      "Train Epoch: 117 [40000/60000 (67%)]\tLoss: 94.683760\n",
      "Train Epoch: 117 [50000/60000 (83%)]\tLoss: 100.585156\n",
      "====> Test set loss: 0.9861\n",
      "Train Epoch: 118 [0/60000 (0%)]\tLoss: 98.864531\n",
      "Train Epoch: 118 [10000/60000 (17%)]\tLoss: 98.318516\n",
      "Train Epoch: 118 [20000/60000 (33%)]\tLoss: 99.208311\n",
      "Train Epoch: 118 [30000/60000 (50%)]\tLoss: 96.296816\n",
      "Train Epoch: 118 [40000/60000 (67%)]\tLoss: 91.272686\n",
      "Train Epoch: 118 [50000/60000 (83%)]\tLoss: 97.268496\n",
      "====> Test set loss: 0.9983\n",
      "Train Epoch: 119 [0/60000 (0%)]\tLoss: 95.419268\n",
      "Train Epoch: 119 [10000/60000 (17%)]\tLoss: 102.608936\n",
      "Train Epoch: 119 [20000/60000 (33%)]\tLoss: 99.998154\n",
      "Train Epoch: 119 [30000/60000 (50%)]\tLoss: 93.979609\n",
      "Train Epoch: 119 [40000/60000 (67%)]\tLoss: 96.029912\n",
      "Train Epoch: 119 [50000/60000 (83%)]\tLoss: 93.272217\n",
      "====> Test set loss: 1.0896\n",
      "Train Epoch: 120 [0/60000 (0%)]\tLoss: 96.427939\n",
      "Train Epoch: 120 [10000/60000 (17%)]\tLoss: 95.908848\n",
      "Train Epoch: 120 [20000/60000 (33%)]\tLoss: 98.039463\n",
      "Train Epoch: 120 [30000/60000 (50%)]\tLoss: 98.947012\n",
      "Train Epoch: 120 [40000/60000 (67%)]\tLoss: 95.513291\n",
      "Train Epoch: 120 [50000/60000 (83%)]\tLoss: 98.655908\n",
      "====> Test set loss: 1.0715\n",
      "Train Epoch: 121 [0/60000 (0%)]\tLoss: 94.398096\n",
      "Train Epoch: 121 [10000/60000 (17%)]\tLoss: 101.125215\n",
      "Train Epoch: 121 [20000/60000 (33%)]\tLoss: 95.818672\n",
      "Train Epoch: 121 [30000/60000 (50%)]\tLoss: 97.850439\n",
      "Train Epoch: 121 [40000/60000 (67%)]\tLoss: 95.174385\n",
      "Train Epoch: 121 [50000/60000 (83%)]\tLoss: 97.209697\n",
      "====> Test set loss: 1.0808\n",
      "Train Epoch: 122 [0/60000 (0%)]\tLoss: 99.272529\n",
      "Train Epoch: 122 [10000/60000 (17%)]\tLoss: 94.733535\n",
      "Train Epoch: 122 [20000/60000 (33%)]\tLoss: 95.782422\n",
      "Train Epoch: 122 [30000/60000 (50%)]\tLoss: 98.414834\n",
      "Train Epoch: 122 [40000/60000 (67%)]\tLoss: 95.262930\n",
      "Train Epoch: 122 [50000/60000 (83%)]\tLoss: 96.552021\n",
      "====> Test set loss: 0.9980\n",
      "Train Epoch: 123 [0/60000 (0%)]\tLoss: 96.494883\n",
      "Train Epoch: 123 [10000/60000 (17%)]\tLoss: 99.963115\n",
      "Train Epoch: 123 [20000/60000 (33%)]\tLoss: 96.225645\n",
      "Train Epoch: 123 [30000/60000 (50%)]\tLoss: 97.904453\n",
      "Train Epoch: 123 [40000/60000 (67%)]\tLoss: 101.689551\n",
      "Train Epoch: 123 [50000/60000 (83%)]\tLoss: 93.781865\n",
      "====> Test set loss: 1.0699\n",
      "Train Epoch: 124 [0/60000 (0%)]\tLoss: 92.762500\n",
      "Train Epoch: 124 [10000/60000 (17%)]\tLoss: 94.462012\n",
      "Train Epoch: 124 [20000/60000 (33%)]\tLoss: 95.710020\n",
      "Train Epoch: 124 [30000/60000 (50%)]\tLoss: 95.721455\n",
      "Train Epoch: 124 [40000/60000 (67%)]\tLoss: 95.923760\n",
      "Train Epoch: 124 [50000/60000 (83%)]\tLoss: 99.211250\n",
      "====> Test set loss: 1.0283\n",
      "Train Epoch: 125 [0/60000 (0%)]\tLoss: 92.370918\n",
      "Train Epoch: 125 [10000/60000 (17%)]\tLoss: 96.595186\n",
      "Train Epoch: 125 [20000/60000 (33%)]\tLoss: 100.186309\n",
      "Train Epoch: 125 [30000/60000 (50%)]\tLoss: 95.069629\n",
      "Train Epoch: 125 [40000/60000 (67%)]\tLoss: 93.759756\n",
      "Train Epoch: 125 [50000/60000 (83%)]\tLoss: 95.487910\n",
      "====> Test set loss: 1.0685\n",
      "Train Epoch: 126 [0/60000 (0%)]\tLoss: 97.692109\n",
      "Train Epoch: 126 [10000/60000 (17%)]\tLoss: 96.410449\n",
      "Train Epoch: 126 [20000/60000 (33%)]\tLoss: 95.927070\n",
      "Train Epoch: 126 [30000/60000 (50%)]\tLoss: 94.076035\n",
      "Train Epoch: 126 [40000/60000 (67%)]\tLoss: 100.548691\n",
      "Train Epoch: 126 [50000/60000 (83%)]\tLoss: 97.907236\n",
      "====> Test set loss: 1.0050\n",
      "Train Epoch: 127 [0/60000 (0%)]\tLoss: 93.274912\n",
      "Train Epoch: 127 [10000/60000 (17%)]\tLoss: 98.841377\n",
      "Train Epoch: 127 [20000/60000 (33%)]\tLoss: 93.405996\n",
      "Train Epoch: 127 [30000/60000 (50%)]\tLoss: 95.716758\n",
      "Train Epoch: 127 [40000/60000 (67%)]\tLoss: 95.958916\n",
      "Train Epoch: 127 [50000/60000 (83%)]\tLoss: 95.544482\n",
      "====> Test set loss: 1.0435\n",
      "Train Epoch: 128 [0/60000 (0%)]\tLoss: 90.683926\n",
      "Train Epoch: 128 [10000/60000 (17%)]\tLoss: 92.656230\n",
      "Train Epoch: 128 [20000/60000 (33%)]\tLoss: 90.696162\n",
      "Train Epoch: 128 [30000/60000 (50%)]\tLoss: 92.012168\n",
      "Train Epoch: 128 [40000/60000 (67%)]\tLoss: 95.048496\n",
      "Train Epoch: 128 [50000/60000 (83%)]\tLoss: 96.965283\n",
      "====> Test set loss: 1.0321\n",
      "Train Epoch: 129 [0/60000 (0%)]\tLoss: 100.063809\n",
      "Train Epoch: 129 [10000/60000 (17%)]\tLoss: 92.292441\n",
      "Train Epoch: 129 [20000/60000 (33%)]\tLoss: 92.529326\n",
      "Train Epoch: 129 [30000/60000 (50%)]\tLoss: 96.120859\n",
      "Train Epoch: 129 [40000/60000 (67%)]\tLoss: 97.569473\n",
      "Train Epoch: 129 [50000/60000 (83%)]\tLoss: 97.529443\n",
      "====> Test set loss: 1.0293\n",
      "Train Epoch: 130 [0/60000 (0%)]\tLoss: 94.154336\n",
      "Train Epoch: 130 [10000/60000 (17%)]\tLoss: 95.664512\n",
      "Train Epoch: 130 [20000/60000 (33%)]\tLoss: 93.058730\n",
      "Train Epoch: 130 [30000/60000 (50%)]\tLoss: 94.185742\n",
      "Train Epoch: 130 [40000/60000 (67%)]\tLoss: 96.175059\n",
      "Train Epoch: 130 [50000/60000 (83%)]\tLoss: 94.653018\n",
      "====> Test set loss: 1.0048\n",
      "Train Epoch: 131 [0/60000 (0%)]\tLoss: 94.022148\n",
      "Train Epoch: 131 [10000/60000 (17%)]\tLoss: 99.423359\n",
      "Train Epoch: 131 [20000/60000 (33%)]\tLoss: 100.040684\n",
      "Train Epoch: 131 [30000/60000 (50%)]\tLoss: 94.749355\n",
      "Train Epoch: 131 [40000/60000 (67%)]\tLoss: 97.177783\n",
      "Train Epoch: 131 [50000/60000 (83%)]\tLoss: 95.662705\n",
      "====> Test set loss: 1.0187\n",
      "Train Epoch: 132 [0/60000 (0%)]\tLoss: 99.439590\n",
      "Train Epoch: 132 [10000/60000 (17%)]\tLoss: 94.189189\n",
      "Train Epoch: 132 [20000/60000 (33%)]\tLoss: 98.333203\n",
      "Train Epoch: 132 [30000/60000 (50%)]\tLoss: 96.075254\n",
      "Train Epoch: 132 [40000/60000 (67%)]\tLoss: 93.118770\n",
      "Train Epoch: 132 [50000/60000 (83%)]\tLoss: 92.832451\n",
      "====> Test set loss: 1.0444\n",
      "Train Epoch: 133 [0/60000 (0%)]\tLoss: 92.207783\n",
      "Train Epoch: 133 [10000/60000 (17%)]\tLoss: 100.489678\n",
      "Train Epoch: 133 [20000/60000 (33%)]\tLoss: 94.023545\n",
      "Train Epoch: 133 [30000/60000 (50%)]\tLoss: 93.830186\n",
      "Train Epoch: 133 [40000/60000 (67%)]\tLoss: 101.604717\n",
      "Train Epoch: 133 [50000/60000 (83%)]\tLoss: 99.041504\n",
      "====> Test set loss: 1.0186\n",
      "Train Epoch: 134 [0/60000 (0%)]\tLoss: 93.598662\n",
      "Train Epoch: 134 [10000/60000 (17%)]\tLoss: 96.331455\n",
      "Train Epoch: 134 [20000/60000 (33%)]\tLoss: 99.487061\n",
      "Train Epoch: 134 [30000/60000 (50%)]\tLoss: 97.925820\n",
      "Train Epoch: 134 [40000/60000 (67%)]\tLoss: 96.159756\n",
      "Train Epoch: 134 [50000/60000 (83%)]\tLoss: 93.347910\n",
      "====> Test set loss: 1.1230\n",
      "Train Epoch: 135 [0/60000 (0%)]\tLoss: 92.000098\n",
      "Train Epoch: 135 [10000/60000 (17%)]\tLoss: 95.080322\n",
      "Train Epoch: 135 [20000/60000 (33%)]\tLoss: 96.158682\n",
      "Train Epoch: 135 [30000/60000 (50%)]\tLoss: 96.407061\n",
      "Train Epoch: 135 [40000/60000 (67%)]\tLoss: 92.933076\n",
      "Train Epoch: 135 [50000/60000 (83%)]\tLoss: 95.203691\n",
      "====> Test set loss: 1.0069\n",
      "Train Epoch: 136 [0/60000 (0%)]\tLoss: 94.882266\n",
      "Train Epoch: 136 [10000/60000 (17%)]\tLoss: 94.488701\n",
      "Train Epoch: 136 [20000/60000 (33%)]\tLoss: 94.848730\n",
      "Train Epoch: 136 [30000/60000 (50%)]\tLoss: 100.093984\n",
      "Train Epoch: 136 [40000/60000 (67%)]\tLoss: 101.744707\n",
      "Train Epoch: 136 [50000/60000 (83%)]\tLoss: 91.574805\n",
      "====> Test set loss: 1.0373\n",
      "Train Epoch: 137 [0/60000 (0%)]\tLoss: 91.860049\n",
      "Train Epoch: 137 [10000/60000 (17%)]\tLoss: 92.224990\n",
      "Train Epoch: 137 [20000/60000 (33%)]\tLoss: 96.321143\n",
      "Train Epoch: 137 [30000/60000 (50%)]\tLoss: 95.386914\n",
      "Train Epoch: 137 [40000/60000 (67%)]\tLoss: 99.476475\n",
      "Train Epoch: 137 [50000/60000 (83%)]\tLoss: 96.201328\n",
      "====> Test set loss: 1.0577\n",
      "Train Epoch: 138 [0/60000 (0%)]\tLoss: 93.198633\n",
      "Train Epoch: 138 [10000/60000 (17%)]\tLoss: 90.818965\n",
      "Train Epoch: 138 [20000/60000 (33%)]\tLoss: 96.003770\n",
      "Train Epoch: 138 [30000/60000 (50%)]\tLoss: 94.929658\n",
      "Train Epoch: 138 [40000/60000 (67%)]\tLoss: 95.106094\n",
      "Train Epoch: 138 [50000/60000 (83%)]\tLoss: 98.483174\n",
      "====> Test set loss: 1.0255\n",
      "Train Epoch: 139 [0/60000 (0%)]\tLoss: 96.270850\n",
      "Train Epoch: 139 [10000/60000 (17%)]\tLoss: 97.495293\n",
      "Train Epoch: 139 [20000/60000 (33%)]\tLoss: 95.114883\n",
      "Train Epoch: 139 [30000/60000 (50%)]\tLoss: 93.409834\n",
      "Train Epoch: 139 [40000/60000 (67%)]\tLoss: 99.269502\n",
      "Train Epoch: 139 [50000/60000 (83%)]\tLoss: 92.543809\n",
      "====> Test set loss: 1.0862\n",
      "Train Epoch: 140 [0/60000 (0%)]\tLoss: 98.507295\n",
      "Train Epoch: 140 [10000/60000 (17%)]\tLoss: 89.782500\n",
      "Train Epoch: 140 [20000/60000 (33%)]\tLoss: 92.150117\n",
      "Train Epoch: 140 [30000/60000 (50%)]\tLoss: 96.178887\n",
      "Train Epoch: 140 [40000/60000 (67%)]\tLoss: 97.792148\n",
      "Train Epoch: 140 [50000/60000 (83%)]\tLoss: 97.235625\n",
      "====> Test set loss: 1.0730\n",
      "Train Epoch: 141 [0/60000 (0%)]\tLoss: 97.495479\n",
      "Train Epoch: 141 [10000/60000 (17%)]\tLoss: 94.431455\n",
      "Train Epoch: 141 [20000/60000 (33%)]\tLoss: 94.589473\n",
      "Train Epoch: 141 [30000/60000 (50%)]\tLoss: 100.532441\n",
      "Train Epoch: 141 [40000/60000 (67%)]\tLoss: 96.247256\n",
      "Train Epoch: 141 [50000/60000 (83%)]\tLoss: 96.498311\n",
      "====> Test set loss: 1.0249\n",
      "Train Epoch: 142 [0/60000 (0%)]\tLoss: 95.254658\n",
      "Train Epoch: 142 [10000/60000 (17%)]\tLoss: 96.822520\n",
      "Train Epoch: 142 [20000/60000 (33%)]\tLoss: 93.769395\n",
      "Train Epoch: 142 [30000/60000 (50%)]\tLoss: 94.866816\n",
      "Train Epoch: 142 [40000/60000 (67%)]\tLoss: 96.426582\n",
      "Train Epoch: 142 [50000/60000 (83%)]\tLoss: 95.761172\n",
      "====> Test set loss: 1.0310\n",
      "Train Epoch: 143 [0/60000 (0%)]\tLoss: 94.077617\n",
      "Train Epoch: 143 [10000/60000 (17%)]\tLoss: 100.307822\n",
      "Train Epoch: 143 [20000/60000 (33%)]\tLoss: 92.000889\n",
      "Train Epoch: 143 [30000/60000 (50%)]\tLoss: 96.078438\n",
      "Train Epoch: 143 [40000/60000 (67%)]\tLoss: 93.970732\n",
      "Train Epoch: 143 [50000/60000 (83%)]\tLoss: 94.873447\n",
      "====> Test set loss: 1.0009\n",
      "Train Epoch: 144 [0/60000 (0%)]\tLoss: 92.545947\n",
      "Train Epoch: 144 [10000/60000 (17%)]\tLoss: 96.786709\n",
      "Train Epoch: 144 [20000/60000 (33%)]\tLoss: 93.806445\n",
      "Train Epoch: 144 [30000/60000 (50%)]\tLoss: 95.697129\n",
      "Train Epoch: 144 [40000/60000 (67%)]\tLoss: 95.806660\n",
      "Train Epoch: 144 [50000/60000 (83%)]\tLoss: 99.026045\n",
      "====> Test set loss: 1.0524\n",
      "Train Epoch: 145 [0/60000 (0%)]\tLoss: 94.855156\n",
      "Train Epoch: 145 [10000/60000 (17%)]\tLoss: 94.984160\n",
      "Train Epoch: 145 [20000/60000 (33%)]\tLoss: 93.284170\n",
      "Train Epoch: 145 [30000/60000 (50%)]\tLoss: 96.293770\n",
      "Train Epoch: 145 [40000/60000 (67%)]\tLoss: 95.400547\n",
      "Train Epoch: 145 [50000/60000 (83%)]\tLoss: 95.590625\n",
      "====> Test set loss: 1.0230\n",
      "Train Epoch: 146 [0/60000 (0%)]\tLoss: 95.202998\n",
      "Train Epoch: 146 [10000/60000 (17%)]\tLoss: 94.754922\n",
      "Train Epoch: 146 [20000/60000 (33%)]\tLoss: 90.917139\n",
      "Train Epoch: 146 [30000/60000 (50%)]\tLoss: 95.324873\n",
      "Train Epoch: 146 [40000/60000 (67%)]\tLoss: 91.972539\n",
      "Train Epoch: 146 [50000/60000 (83%)]\tLoss: 95.620078\n",
      "====> Test set loss: 0.9597\n",
      "Train Epoch: 147 [0/60000 (0%)]\tLoss: 95.748789\n",
      "Train Epoch: 147 [10000/60000 (17%)]\tLoss: 94.435732\n",
      "Train Epoch: 147 [20000/60000 (33%)]\tLoss: 97.602588\n",
      "Train Epoch: 147 [30000/60000 (50%)]\tLoss: 98.211523\n",
      "Train Epoch: 147 [40000/60000 (67%)]\tLoss: 98.492686\n",
      "Train Epoch: 147 [50000/60000 (83%)]\tLoss: 96.457764\n",
      "====> Test set loss: 1.0387\n",
      "Train Epoch: 148 [0/60000 (0%)]\tLoss: 95.211738\n",
      "Train Epoch: 148 [10000/60000 (17%)]\tLoss: 95.364727\n",
      "Train Epoch: 148 [20000/60000 (33%)]\tLoss: 95.456953\n",
      "Train Epoch: 148 [30000/60000 (50%)]\tLoss: 93.376807\n",
      "Train Epoch: 148 [40000/60000 (67%)]\tLoss: 94.036504\n",
      "Train Epoch: 148 [50000/60000 (83%)]\tLoss: 92.774951\n",
      "====> Test set loss: 1.0843\n",
      "Train Epoch: 149 [0/60000 (0%)]\tLoss: 96.254482\n",
      "Train Epoch: 149 [10000/60000 (17%)]\tLoss: 94.240254\n",
      "Train Epoch: 149 [20000/60000 (33%)]\tLoss: 92.504932\n",
      "Train Epoch: 149 [30000/60000 (50%)]\tLoss: 95.788857\n",
      "Train Epoch: 149 [40000/60000 (67%)]\tLoss: 97.625967\n",
      "Train Epoch: 149 [50000/60000 (83%)]\tLoss: 93.695615\n",
      "====> Test set loss: 1.1086\n"
     ]
    }
   ],
   "source": [
    "for i in range(150):\n",
    "    #train_c_epoch(epochs=1,mu_c=mu_c_g,logvar_c=logvar_c_g,pi_c=pi_c_g)\n",
    "\n",
    "    train_c(epoch=i,mu_c=mu_c_g,chol_prec_seed_c=chol_prec_seed_c_g,inv_sm_pi_c=inv_sm_pi_c_g)\n",
    "    test_c(epoch=i,mu_c=mu_c_g,chol_prec_seed_c=chol_prec_seed_c_g,inv_sm_pi_c=inv_sm_pi_c_g)\n",
    "    scheduler.step()\n",
    "    scheduler_clustering.step()\n",
    "\n",
    "    beta += beta_delta"
   ],
   "metadata": {
    "collapsed": false,
    "pycharm": {
     "name": "#%%\n"
    }
   }
  },
  {
   "cell_type": "code",
   "execution_count": 951,
   "outputs": [],
   "source": [
    "\n",
    "zs_g,ts_g,mus_g,logvars_g = take_latents()\n",
    "points = TSNE(n_components=2,random_state=0).fit_transform(mus_g.view(-1,latent_dim).cpu().detach().numpy())\n",
    "#drawpoints(points,ts_g.cpu().detach().numpy())\n",
    "data_points = points[0:take_latent_max*batch_size]\n",
    "center_points = points[take_latent_max*batch_size:]\n",
    "data_labels = ts_g[0:take_latent_max*batch_size].cpu().detach().numpy()\n",
    "center_labels = (-ts_g[take_latent_max*batch_size:]-1).cpu().detach().numpy()"
   ],
   "metadata": {
    "collapsed": false,
    "pycharm": {
     "name": "#%%\n"
    }
   }
  },
  {
   "cell_type": "code",
   "execution_count": 952,
   "outputs": [
    {
     "data": {
      "text/plain": "<Figure size 432x288 with 1 Axes>",
      "image/png": "[encoded data removed]"
     },
     "metadata": {
      "needs_background": "light"
     },
     "output_type": "display_data"
    }
   ],
   "source": [
    "drawpoints_with_centers(data_points,data_labels,center_points,center_labels)"
   ],
   "metadata": {
    "collapsed": false,
    "pycharm": {
     "name": "#%%\n"
    }
   }
  },
  {
   "cell_type": "code",
   "execution_count": 953,
   "outputs": [
    {
     "data": {
      "text/plain": "<Figure size 432x288 with 1 Axes>",
      "image/png": "[encoded data removed]"
     },
     "metadata": {
      "needs_background": "light"
     },
     "output_type": "display_data"
    }
   ],
   "source": [
    "#kmeans_model = KMeans(n_clusters=K_model_cluster, random_state=1).fit(mus_g.view(-1,latent_dim).cpu().detach().numpy())\n",
    "#drawpoints(points,kmeans_model.labels_)\n",
    "kmeans_model = KMeans(n_clusters=K_model_cluster, random_state=1).fit(mus_g.view(-1,latent_dim).cpu().detach().numpy())\n",
    "drawpoints_with_centers(data_points,kmeans_model.labels_[:take_latent_max*batch_size],center_points,center_labels)"
   ],
   "metadata": {
    "collapsed": false,
    "pycharm": {
     "name": "#%%\n"
    }
   }
  },
  {
   "cell_type": "code",
   "execution_count": 954,
   "outputs": [
    {
     "data": {
      "text/plain": "<Figure size 432x288 with 1 Axes>",
      "image/png": "[encoded data removed]"
     },
     "metadata": {
      "needs_background": "light"
     },
     "output_type": "display_data"
    }
   ],
   "source": [
    "#gauss_model = GaussianMixture(n_components=K_model_cluster,covariance_type='diag',random_state=1).fit(mus_g.view(-1,latent_dim).cpu().detach().numpy())\n",
    "#drawpoints(points,gauss_model.predict(mus_g.view(-1,latent_dim).cpu().detach().numpy()))\n",
    "gauss_model = GaussianMixture(n_components=K_model_cluster,covariance_type='diag',random_state=1).fit(mus_g.view(-1,latent_dim).cpu().detach().numpy())\n",
    "drawpoints_with_centers(data_points,gauss_model.predict(mus_g.view(-1,latent_dim).cpu().detach().numpy())[:take_latent_max*batch_size],center_points,center_labels)"
   ],
   "metadata": {
    "collapsed": false,
    "pycharm": {
     "name": "#%%\n"
    }
   }
  },
  {
   "cell_type": "code",
   "execution_count": 955,
   "outputs": [
    {
     "data": {
      "text/plain": "<Figure size 432x288 with 1 Axes>",
      "image/png": "[encoded data removed]"
     },
     "metadata": {
      "needs_background": "light"
     },
     "output_type": "display_data"
    }
   ],
   "source": [
    "#_,_,_,_,gamma_c_g,_ = gauss(mus_g[0:batch_size*take_latent_max,:,:],logvars_g,mu_c_g,logvar_c_g,log_N_k_g,1)\n",
    "#drawpoints(points[0:batch_size*take_latent_max,:],torch.argmax(gamma_c_g,2).view(-1).cpu().detach().numpy())\n",
    "_,_,_,_,gamma_c_g,_ = gauss(mus_g[0:batch_size*take_latent_max,:,:],logvars_g,mu_c_g,chol_prec_seed_c_g,inv_sm_pi_c_g,1)\n",
    "drawpoints_with_centers(data_points,torch.argmax(gamma_c_g,2).view(-1).cpu().detach().numpy(),center_points,center_labels)"
   ],
   "metadata": {
    "collapsed": false,
    "pycharm": {
     "name": "#%%\n"
    }
   }
  },
  {
   "cell_type": "code",
   "execution_count": 956,
   "outputs": [],
   "source": [
    "show_generated_samples_c(mu_c_g,chol_prec_seed_c_g)"
   ],
   "metadata": {
    "collapsed": false,
    "pycharm": {
     "name": "#%%\n"
    }
   }
  },
  {
   "cell_type": "code",
   "execution_count": 957,
   "outputs": [
    {
     "data": {
      "text/plain": "(0.00086093442, 0.00086093442, 1.0)"
     },
     "execution_count": 957,
     "metadata": {},
     "output_type": "execute_result"
    }
   ],
   "source": [
    "#optimizer.param_groups[0]['lr']=0.002,optimizer_clustering.param_groups[0]['lr']=0.002\n",
    "optimizer.param_groups[0]['lr'],optimizer_clustering.param_groups[0]['lr'],beta"
   ],
   "metadata": {
    "collapsed": false,
    "pycharm": {
     "name": "#%%\n"
    }
   }
  },
  {
   "cell_type": "code",
   "execution_count": 958,
   "outputs": [],
   "source": [
    "correspond_matrix = torch.zeros(K_real_cluster,K_model_cluster)\n",
    "\n",
    "for i in range(batch_size*take_latent_max):\n",
    "\n",
    "    for j in range(K_model_cluster):\n",
    "        for k in range(K_real_cluster):\n",
    "            if torch.argmax(gamma_c_g,2)[i,0] == j:\n",
    "                if ts_g[i] == k:\n",
    "                    correspond_matrix[k,j] +=1\n"
   ],
   "metadata": {
    "collapsed": false,
    "pycharm": {
     "name": "#%%\n"
    }
   }
  },
  {
   "cell_type": "code",
   "execution_count": 959,
   "outputs": [
    {
     "data": {
      "text/plain": "tensor([[  0.,   1.,   0.,   0.,   1.,   1.,   0.,   0., 106.,   0.],\n        [122.,   0.,   0.,   0.,   0.,   2.,   0.,   1.,   0.,   0.],\n        [  0.,   0.,   0.,   0.,   1.,   3.,   1.,   0.,   1.,  96.],\n        [  0.,   0.,   0.,   1.,  93.,   1.,   0.,   4.,   0.,   1.],\n        [  0.,   0.,  53.,   0.,   0.,  29.,   0.,   0.,   1.,   0.],\n        [  0.,   0.,   1.,  87.,   1.,   1.,   0.,   0.,   0.,   0.],\n        [  0.,  91.,   0.,   2.,   0.,   1.,   0.,   0.,   0.,   0.],\n        [  0.,   0.,   2.,   0.,   0.,  17.,  85.,   0.,   0.,   0.],\n        [  0.,   0.,   0.,   7.,   4.,   3.,   0.,  88.,   0.,   0.],\n        [  0.,   0.,  79.,   3.,   1.,   7.,   0.,   1.,   0.,   0.]])"
     },
     "execution_count": 959,
     "metadata": {},
     "output_type": "execute_result"
    }
   ],
   "source": [
    "correspond_matrix"
   ],
   "metadata": {
    "collapsed": false,
    "pycharm": {
     "name": "#%%\n"
    }
   }
  },
  {
   "cell_type": "code",
   "execution_count": 960,
   "outputs": [
    {
     "data": {
      "text/plain": "tensor(1000.)"
     },
     "execution_count": 960,
     "metadata": {},
     "output_type": "execute_result"
    }
   ],
   "source": [
    "correspond_matrix.sum()"
   ],
   "metadata": {
    "collapsed": false,
    "pycharm": {
     "name": "#%%\n"
    }
   }
  },
  {
   "cell_type": "code",
   "execution_count": 961,
   "outputs": [
    {
     "data": {
      "text/plain": "torch.return_types.max(\nvalues=tensor([122.,  91.,  79.,  87.,  93.,  29.,  85.,  88., 106.,  96.]),\nindices=tensor([1, 6, 9, 5, 3, 4, 7, 8, 0, 2]))"
     },
     "execution_count": 961,
     "metadata": {},
     "output_type": "execute_result"
    }
   ],
   "source": [
    "torch.max(correspond_matrix,0)"
   ],
   "metadata": {
    "collapsed": false,
    "pycharm": {
     "name": "#%%\n"
    }
   }
  },
  {
   "cell_type": "code",
   "execution_count": 962,
   "outputs": [
    {
     "data": {
      "text/plain": "tensor(0.8760)"
     },
     "execution_count": 962,
     "metadata": {},
     "output_type": "execute_result"
    }
   ],
   "source": [
    "torch.max(correspond_matrix,0).values.sum()/(batch_size*take_latent_max)"
   ],
   "metadata": {
    "collapsed": false,
    "pycharm": {
     "name": "#%%\n"
    }
   }
  },
  {
   "cell_type": "code",
   "execution_count": 963,
   "outputs": [
    {
     "data": {
      "text/plain": "tensor([[[0.1000, 0.1000, 0.1000, 0.1000, 0.1000, 0.1000, 0.1000, 0.1000,\n          0.1000, 0.1000]]], device='cuda:0', grad_fn=<SoftmaxBackward>)"
     },
     "execution_count": 963,
     "metadata": {},
     "output_type": "execute_result"
    }
   ],
   "source": [
    "F.softmax(inv_sm_pi_c_g,dim=2)"
   ],
   "metadata": {
    "collapsed": false,
    "pycharm": {
     "name": "#%%\n"
    }
   }
  },
  {
   "cell_type": "code",
   "execution_count": 964,
   "outputs": [
    {
     "data": {
      "text/plain": "tensor([[[1., 1., 1., 1., 1., 1., 1., 1., 1., 1.]]], device='cuda:0',\n       grad_fn=<ExpBackward>)"
     },
     "execution_count": 964,
     "metadata": {},
     "output_type": "execute_result"
    }
   ],
   "source": [
    "inv_sm_pi_c_g.exp()"
   ],
   "metadata": {
    "collapsed": false,
    "pycharm": {
     "name": "#%%\n"
    }
   }
  },
  {
   "cell_type": "code",
   "execution_count": 965,
   "outputs": [
    {
     "data": {
      "text/plain": "tensor([[[ 2.5001e+00, -5.8595e-01,  1.3215e+00, -2.4841e-01, -9.8973e-02,\n           1.0892e+00,  2.5402e+00,  6.3465e-01, -1.7952e+00, -2.8412e-01],\n         [ 8.3761e-02, -7.6209e-02, -1.0129e-01,  2.4896e-01, -5.4999e-01,\n          -5.4601e-01,  3.2160e-01,  1.0619e-01,  1.6080e-01,  1.5531e-01],\n         [ 5.2513e-01, -8.8287e-01, -3.9462e-01, -8.9558e-01,  7.1119e-01,\n           1.6211e-01,  2.1781e-01,  1.1144e-01, -1.0124e+00,  1.7725e+00],\n         [-3.0365e-01,  4.6064e-01,  4.4602e-01,  8.6651e-03,  2.6203e-01,\n           4.9645e-01, -8.9220e-02,  7.6282e-01,  7.2273e-01,  5.5817e-01],\n         [ 4.3361e-01,  5.6436e-01,  1.0284e+00, -7.9233e-01, -1.8518e+00,\n           9.7272e-01, -3.4859e-01, -5.2538e-01, -4.1823e-01,  4.0741e-01],\n         [ 1.1366e+00,  1.4128e+00, -6.7333e-01, -4.7234e-01,  4.0875e-01,\n          -7.2336e-01, -1.7684e+00, -2.7821e-01, -2.9188e-01,  3.1141e-01],\n         [-4.2022e-02, -6.0921e-02, -2.4391e-01,  1.0068e+00, -3.9028e-03,\n          -2.0737e-01, -6.7017e-01,  2.7228e-01, -9.3661e-01,  9.3664e-02],\n         [ 4.8257e-03,  8.9388e-03,  3.3335e-03,  3.3607e-03,  1.2608e-03,\n           3.8646e-03, -3.6464e-03,  6.3420e-03,  2.5948e-03,  9.2003e-03],\n         [ 1.4723e+00,  2.8900e-01, -3.9527e-01,  8.4382e-01,  3.7898e-01,\n          -4.1514e-01, -1.9667e-01,  7.4853e-01,  3.5613e-01,  3.6210e-01],\n         [ 3.1700e-03, -4.8428e-03, -2.3761e-03, -3.0177e-04, -3.6092e-03,\n          -3.0481e-03,  4.9791e-03, -2.6695e-03, -4.8595e-03,  3.4861e-04]]],\n       device='cuda:0', requires_grad=True)"
     },
     "execution_count": 965,
     "metadata": {},
     "output_type": "execute_result"
    }
   ],
   "source": [
    "mu_c_g"
   ],
   "metadata": {
    "collapsed": false,
    "pycharm": {
     "name": "#%%\n"
    }
   }
  },
  {
   "cell_type": "code",
   "execution_count": 966,
   "outputs": [
    {
     "data": {
      "text/plain": "tensor([[[0.0631, 0.1934, 0.2279, 0.4079, 0.5730, 1.0331, 0.2526, 0.2162,\n          0.1745, 0.3674],\n         [0.0552, 0.1440, 0.1386, 0.4471, 0.4288, 0.5567, 0.1726, 0.2566,\n          0.2773, 0.6083],\n         [0.1103, 0.1143, 0.1872, 0.1745, 0.3157, 0.7966, 0.2849, 0.1324,\n          0.1933, 0.3363],\n         [0.2918, 0.2466, 0.2125, 0.2697, 0.3230, 0.4614, 0.2270, 0.3067,\n          0.4084, 0.3630],\n         [0.0831, 0.2396, 0.2082, 0.3281, 0.2576, 0.7257, 0.1447, 0.1384,\n          0.2897, 0.3682],\n         [0.0730, 0.1450, 0.2859, 0.4138, 0.5944, 1.0407, 0.6988, 0.3328,\n          0.2359, 0.4734],\n         [0.0675, 0.2532, 0.2225, 0.3641, 0.3660, 0.5213, 0.3187, 0.2994,\n          0.1595, 0.7382],\n         [0.0108, 0.0094, 0.0095, 0.0095, 0.0094, 0.0095, 0.0098, 0.0092,\n          0.0097, 0.0092],\n         [0.1278, 0.4682, 0.3781, 0.6984, 0.6620, 1.3972, 0.5416, 0.5400,\n          0.6474, 0.3869],\n         [0.0108, 0.0095, 0.0095, 0.0095, 0.0095, 0.0096, 0.0098, 0.0094,\n          0.0097, 0.0093]]], device='cuda:0', grad_fn=<MulBackward0>)"
     },
     "execution_count": 966,
     "metadata": {},
     "output_type": "execute_result"
    }
   ],
   "source": [
    "1./torch.einsum('ijjk->ijk',prec(chol_prec_seed_c_g))\n",
    "#prec(chol_prec_seed_c_g)[0,:,:,1]"
   ],
   "metadata": {
    "collapsed": false,
    "pycharm": {
     "name": "#%%\n"
    }
   }
  },
  {
   "cell_type": "code",
   "execution_count": 967,
   "outputs": [
    {
     "data": {
      "text/plain": "tensor([[ 3.9645e+00, -4.7373e-01, -4.2411e-01, -4.8321e-01,  9.9291e-01,\n         -2.3501e+00,  2.6470e-02,  1.7230e-02,  8.7825e-01, -3.0333e-04],\n        [ 1.0610e+00, -2.2838e-01,  1.4457e+00, -3.0552e-01,  2.5348e+00,\n         -5.0108e-01,  4.5096e-01,  1.1444e-02,  8.9482e-01,  2.8436e-03],\n        [ 2.5259e+00,  1.3013e-01,  6.2455e-01,  8.1862e-01,  4.5189e-01,\n          1.4866e+00, -2.1526e-01,  1.9599e-02,  1.5093e+00,  8.5640e-03],\n        [-7.6443e-01, -1.4256e+00, -2.8460e-01,  4.0746e-01, -1.6534e+00,\n         -3.6217e-01, -1.0815e+00,  8.4031e-04,  9.8079e-02, -3.6754e-03],\n        [ 2.1912e+00, -2.1495e-01,  1.2995e-01,  5.0438e-01,  2.8326e-01,\n          1.5725e+00,  7.9226e-02,  1.8745e-02,  1.8929e+00,  6.1252e-03],\n        [-3.1239e+00, -8.1506e-01, -7.2441e-01,  1.5115e+00, -8.5101e-02,\n         -2.3888e-01, -3.1507e-01,  3.5034e-03,  6.5759e-01, -5.9253e-03],\n        [ 7.0216e-01,  9.7951e-02, -4.7801e-03,  6.9531e-01,  6.5849e-01,\n          1.3059e+00,  6.9651e-01,  1.7501e-02,  1.5545e+00,  5.5258e-03],\n        [-1.2414e+00,  8.7367e-01,  1.6546e+00,  8.7150e-01,  5.2495e-01,\n          1.2317e-02,  5.7935e-01,  1.3535e-02,  5.3263e-01,  5.7206e-03],\n        [ 1.5387e+00, -8.0981e-01,  7.0060e-01,  7.8428e-01,  2.3509e+00,\n         -1.1195e-01,  2.3553e-01,  2.0323e-02,  5.9082e-01,  1.0257e-03],\n        [-5.5188e-01, -1.4940e-04, -4.1449e-01,  1.0052e+00,  9.2973e-02,\n          1.6409e+00, -5.1162e-01,  1.0646e-02, -2.1921e-01,  2.2238e-03]],\n       device='cuda:0', grad_fn=<SelectBackward>)"
     },
     "execution_count": 967,
     "metadata": {},
     "output_type": "execute_result"
    }
   ],
   "source": [
    "mus_g[0:10,:,0]"
   ],
   "metadata": {
    "collapsed": false,
    "pycharm": {
     "name": "#%%\n"
    }
   }
  },
  {
   "cell_type": "code",
   "execution_count": 968,
   "outputs": [
    {
     "data": {
      "text/plain": "tensor([[0.0266, 0.0637, 0.0153, 0.0184, 0.0225, 0.0107, 0.0437, 0.0100, 0.0097,\n         0.0096],\n        [0.0079, 0.0202, 0.0096, 0.0136, 0.0161, 0.0049, 0.0233, 0.0100, 0.0090,\n         0.0096],\n        [0.0465, 0.0429, 0.0349, 0.0099, 0.0248, 0.0163, 0.0530, 0.0108, 0.0070,\n         0.0108],\n        [0.0051, 0.0102, 0.0066, 0.0117, 0.0079, 0.0057, 0.0091, 0.0094, 0.0059,\n         0.0095],\n        [0.0365, 0.0429, 0.0288, 0.0108, 0.0219, 0.0176, 0.0470, 0.0108, 0.0068,\n         0.0109],\n        [0.0142, 0.0130, 0.0078, 0.0101, 0.0102, 0.0135, 0.0126, 0.0100, 0.0087,\n         0.0097],\n        [0.0063, 0.0207, 0.0101, 0.0104, 0.0079, 0.0059, 0.0156, 0.0096, 0.0080,\n         0.0097],\n        [0.0031, 0.0096, 0.0053, 0.0086, 0.0047, 0.0049, 0.0080, 0.0094, 0.0057,\n         0.0090],\n        [0.0080, 0.0138, 0.0075, 0.0108, 0.0097, 0.0050, 0.0189, 0.0096, 0.0050,\n         0.0093],\n        [0.0046, 0.0179, 0.0051, 0.0111, 0.0048, 0.0097, 0.0090, 0.0096, 0.0034,\n         0.0095]], device='cuda:0')"
     },
     "execution_count": 968,
     "metadata": {},
     "output_type": "execute_result"
    }
   ],
   "source": [
    "logvars_g.exp()[0:10,:,0]"
   ],
   "metadata": {
    "collapsed": false,
    "pycharm": {
     "name": "#%%\n"
    }
   }
  },
  {
   "cell_type": "code",
   "execution_count": 969,
   "outputs": [
    {
     "data": {
      "text/plain": "tensor([[ 3.9617e+00,  0.0000e+00,  0.0000e+00,  0.0000e+00,  0.0000e+00,\n          0.0000e+00,  0.0000e+00,  0.0000e+00,  0.0000e+00,  0.0000e+00],\n        [-2.4795e-01,  4.2344e+00,  0.0000e+00,  0.0000e+00,  0.0000e+00,\n          0.0000e+00,  0.0000e+00,  0.0000e+00,  0.0000e+00,  0.0000e+00],\n        [-6.9568e-02, -7.9589e-01,  2.8470e+00,  0.0000e+00,  0.0000e+00,\n          0.0000e+00,  0.0000e+00,  0.0000e+00,  0.0000e+00,  0.0000e+00],\n        [-4.7993e-02, -4.0610e-01,  2.8099e-02,  1.6257e+00,  0.0000e+00,\n          0.0000e+00,  0.0000e+00,  0.0000e+00,  0.0000e+00,  0.0000e+00],\n        [ 5.1868e-01, -1.1927e+00, -1.4917e+00,  9.9829e-02,  2.7872e+00,\n          0.0000e+00,  0.0000e+00,  0.0000e+00,  0.0000e+00,  0.0000e+00],\n        [ 2.0038e+00,  9.0174e-01,  5.9757e-01, -3.6947e-01,  1.2478e+00,\n          2.5338e+00,  0.0000e+00,  0.0000e+00,  0.0000e+00,  0.0000e+00],\n        [ 3.5562e-01, -5.1418e-02,  2.2312e+00,  3.6651e-01, -1.1284e+00,\n          3.0338e-01,  2.8073e+00,  0.0000e+00,  0.0000e+00,  0.0000e+00],\n        [ 5.4352e-03, -1.6055e-02, -1.6179e-02, -2.5160e-01, -5.1642e-02,\n         -6.0418e-02,  2.3645e-02,  9.6348e+00,  0.0000e+00,  0.0000e+00],\n        [ 1.9541e+00,  1.0232e+00,  5.6229e-02, -1.4610e-01,  1.8250e-01,\n          1.5054e+00, -3.5619e-01,  9.3345e-03,  4.1455e-02,  0.0000e+00],\n        [-5.2906e-03, -1.3840e-02, -4.9559e-02,  1.7238e-01, -1.8736e-02,\n          8.7825e-02,  1.6784e-03,  8.1311e-03, -3.9670e-02,  9.6164e+00]],\n       device='cuda:0', grad_fn=<SelectBackward>)"
     },
     "execution_count": 969,
     "metadata": {},
     "output_type": "execute_result"
    }
   ],
   "source": [
    "chol_prec_seed_c_g[0,:,:,0]"
   ],
   "metadata": {
    "collapsed": false,
    "pycharm": {
     "name": "#%%\n"
    }
   }
  },
  {
   "cell_type": "code",
   "execution_count": 970,
   "outputs": [
    {
     "data": {
      "text/plain": "tensor([[ 3.9805e+00,  0.0000e+00,  0.0000e+00,  0.0000e+00,  0.0000e+00,\n          0.0000e+00,  0.0000e+00,  0.0000e+00,  0.0000e+00,  0.0000e+00],\n        [-2.4795e-01,  4.2488e+00,  0.0000e+00,  0.0000e+00,  0.0000e+00,\n          0.0000e+00,  0.0000e+00,  0.0000e+00,  0.0000e+00,  0.0000e+00],\n        [-6.9568e-02, -7.9589e-01,  2.9034e+00,  0.0000e+00,  0.0000e+00,\n          0.0000e+00,  0.0000e+00,  0.0000e+00,  0.0000e+00,  0.0000e+00],\n        [-4.7993e-02, -4.0610e-01,  2.8099e-02,  1.8053e+00,  0.0000e+00,\n          0.0000e+00,  0.0000e+00,  0.0000e+00,  0.0000e+00,  0.0000e+00],\n        [ 5.1868e-01, -1.1927e+00, -1.4917e+00,  9.9829e-02,  2.8470e+00,\n          0.0000e+00,  0.0000e+00,  0.0000e+00,  0.0000e+00,  0.0000e+00],\n        [ 2.0038e+00,  9.0174e-01,  5.9757e-01, -3.6947e-01,  1.2478e+00,\n          2.6101e+00,  0.0000e+00,  0.0000e+00,  0.0000e+00,  0.0000e+00],\n        [ 3.5562e-01, -5.1418e-02,  2.2312e+00,  3.6651e-01, -1.1284e+00,\n          3.0338e-01,  2.8659e+00,  0.0000e+00,  0.0000e+00,  0.0000e+00],\n        [ 5.4352e-03, -1.6055e-02, -1.6179e-02, -2.5160e-01, -5.1642e-02,\n         -6.0418e-02,  2.3645e-02,  9.6348e+00,  0.0000e+00,  0.0000e+00],\n        [ 1.9541e+00,  1.0232e+00,  5.6229e-02, -1.4610e-01,  1.8250e-01,\n          1.5054e+00, -3.5619e-01,  9.3345e-03,  7.1409e-01,  0.0000e+00],\n        [-5.2906e-03, -1.3840e-02, -4.9559e-02,  1.7238e-01, -1.8736e-02,\n          8.7825e-02,  1.6784e-03,  8.1311e-03, -3.9670e-02,  9.6165e+00]],\n       device='cuda:0', grad_fn=<SelectBackward>)"
     },
     "execution_count": 970,
     "metadata": {},
     "output_type": "execute_result"
    }
   ],
   "source": [
    "cholesky_prec(chol_prec_seed_c_g)[0,:,:,0]\n"
   ],
   "metadata": {
    "collapsed": false,
    "pycharm": {
     "name": "#%%\n"
    }
   }
  },
  {
   "cell_type": "code",
   "execution_count": 971,
   "outputs": [
    {
     "data": {
      "text/plain": "tensor([[ 1.5845e+01, -9.8696e-01, -2.7691e-01, -1.9104e-01,  2.0646e+00,\n          7.9763e+00,  1.4155e+00,  2.1635e-02,  7.7785e+00, -2.1059e-02],\n        [-9.8696e-01,  1.8114e+01, -3.3643e+00, -1.7135e+00, -5.1963e+00,\n          3.3345e+00, -3.0664e-01, -6.9561e-02,  3.8629e+00, -5.7490e-02],\n        [-2.7691e-01, -3.3643e+00,  9.0681e+00,  4.0813e-01, -3.4179e+00,\n          8.7792e-01,  6.4944e+00, -3.4575e-02, -7.8706e-01, -1.3251e-01],\n        [-1.9104e-01, -1.7135e+00,  4.0813e-01,  3.4272e+00,  5.9778e-01,\n         -1.1126e+00,  7.2818e-01, -4.4841e-01, -7.7150e-01,  3.1569e-01],\n        [ 2.0646e+00, -5.1963e+00, -3.4179e+00,  5.9778e-01,  1.2032e+01,\n          2.5881e+00, -6.2585e+00, -1.2604e-01,  2.1425e-01,  5.1559e-02],\n        [ 7.9763e+00,  3.3345e+00,  8.7792e-01, -1.1126e+00,  2.5881e+00,\n          1.3692e+01,  1.2480e+00, -1.4244e-01,  9.0830e+00,  8.9470e-02],\n        [ 1.4155e+00, -3.0664e-01,  6.4944e+00,  7.2818e-01, -6.2585e+00,\n          1.2480e+00,  1.4820e+01, -1.7848e-02, -5.5809e-02,  4.0290e-03],\n        [ 2.1635e-02, -6.9561e-02, -3.4575e-02, -4.4841e-01, -1.2604e-01,\n         -1.4244e-01, -1.7848e-02,  9.2901e+01,  1.1182e-02,  3.1667e-02],\n        [ 7.7785e+00,  3.8629e+00, -7.8706e-01, -7.7150e-01,  2.1425e-01,\n          9.0830e+00, -5.5809e-02,  1.1182e-02,  7.8265e+00,  4.7467e-02],\n        [-2.1059e-02, -5.7490e-02, -1.3251e-01,  3.1569e-01,  5.1559e-02,\n          8.9470e-02,  4.0290e-03,  3.1667e-02,  4.7467e-02,  9.2519e+01]],\n       device='cuda:0', grad_fn=<SelectBackward>)"
     },
     "execution_count": 971,
     "metadata": {},
     "output_type": "execute_result"
    }
   ],
   "source": [
    "prec(chol_prec_seed_c_g)[0,:,:,0]"
   ],
   "metadata": {
    "collapsed": false,
    "pycharm": {
     "name": "#%%\n"
    }
   }
  },
  {
   "cell_type": "code",
   "execution_count": 972,
   "outputs": [
    {
     "data": {
      "text/plain": "torch.return_types.eig(\neigenvalues=tensor([[92.5186,  0.0000],\n        [92.9057,  0.0000],\n        [30.5799,  0.0000],\n        [23.8409,  0.0000],\n        [21.3132,  0.0000],\n        [ 7.6058,  0.0000],\n        [ 0.3311,  0.0000],\n        [ 5.1318,  0.0000],\n        [ 2.8863,  0.0000],\n        [ 3.1314,  0.0000]], device='cuda:0', grad_fn=<EigBackward>),\neigenvectors=tensor([], device='cuda:0', grad_fn=<EigBackward>))"
     },
     "execution_count": 972,
     "metadata": {},
     "output_type": "execute_result"
    }
   ],
   "source": [
    "torch.eig(prec(chol_prec_seed_c_g)[0,:,:,0])"
   ],
   "metadata": {
    "collapsed": false,
    "pycharm": {
     "name": "#%%\n"
    }
   }
  },
  {
   "cell_type": "code",
   "execution_count": null,
   "outputs": [],
   "source": [
    "\"\"\"\n",
    "torch.save(\n",
    "    {\n",
    "        \"model_state_dict\" : model.state_dict(),\n",
    "        \"optimizer\" : optimizer.state_dict(),\n",
    "        \"optimizer_clustering\" : optimizer_clustering.state_dict(),\n",
    "        \"mu_c_g\" : mu_c_g,\n",
    "        \"chol_prec_seed_c_g\" : chol_prec_seed_c_g,\n",
    "        \"inv_sm_pi_c_g\" : inv_sm_pi_c_g,\n",
    "        \"beta\" : beta,\n",
    "        \"K_model_cluster\": K_model_cluster\n",
    "    },\n",
    "    \"./SGD-pi-full-cov-results/model/success966.tar\"\n",
    ")\n",
    "\n",
    "sdata966 = torch.load(\"./SGD-pi-full-cov-results/model/success966.tar\")\n",
    "mu_c_g = sdata966[\"mu_c_g\"]\n",
    "\"\"\""
   ],
   "metadata": {
    "collapsed": false,
    "pycharm": {
     "name": "#%%\n"
    }
   }
  },
  {
   "cell_type": "code",
   "execution_count": 405,
   "outputs": [],
   "source": [],
   "metadata": {
    "collapsed": false,
    "pycharm": {
     "name": "#%%\n"
    }
   }
  }
 ],
 "metadata": {
  "kernelspec": {
   "name": "pycharm-9c5a4569",
   "language": "python",
   "display_name": "PyCharm (auto_encoder)"
  },
  "language_info": {
   "codemirror_mode": {
    "name": "ipython",
    "version": 2
   },
   "file_extension": ".py",
   "mimetype": "text/x-python",
   "name": "python",
   "nbconvert_exporter": "python",
   "pygments_lexer": "ipython2",
   "version": "2.7.6"
  },
  "pycharm": {
   "stem_cell": {
    "cell_type": "raw",
    "source": [
     "#SGDを用いてGMMを行うプログラムを作成する。２０２０年１１月４日２時１１分\n",
     "#共分散行列をフルにした場合の計算。２０２０年１２月２日スタート\n",
     "#２０２０年１２月１５日悪くはないが良くもないのに、計算時間が１エポック４分位になっているので、一旦諦める。"
    ],
    "metadata": {
     "collapsed": false
    }
   }
  }
 },
 "nbformat": 4,
 "nbformat_minor": 0
}