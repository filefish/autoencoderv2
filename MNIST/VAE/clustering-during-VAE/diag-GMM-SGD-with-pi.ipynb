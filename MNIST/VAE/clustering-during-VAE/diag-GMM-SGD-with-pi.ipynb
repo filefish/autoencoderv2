{
 "cells": [
  {
   "cell_type": "code",
   "execution_count": 1,
   "outputs": [],
   "source": [
    "from __future__ import print_function\n",
    "import argparse\n",
    "import torch\n",
    "import torch.utils.data\n",
    "from torch import nn, optim\n",
    "from torch.nn import functional as F\n",
    "from torchvision import datasets, transforms\n",
    "from torchvision.utils import save_image\n",
    "\n",
    "%matplotlib inline\n",
    "import matplotlib.pyplot as plt\n",
    "from torch.distributions.multivariate_normal import MultivariateNormal\n",
    "import numpy as np\n",
    "\n",
    "\n",
    "from sklearn.manifold import TSNE\n",
    "from random import random\n",
    "from sklearn.mixture import GaussianMixture\n",
    "from sklearn.mixture import BayesianGaussianMixture\n",
    "from sklearn.cluster import KMeans"
   ],
   "metadata": {
    "collapsed": false,
    "pycharm": {
     "name": "#%%\n"
    }
   }
  },
  {
   "cell_type": "code",
   "execution_count": 2,
   "outputs": [],
   "source": [
    "\n",
    "batch_size = 100\n",
    "take_latent_max =10\n",
    "num_epoch = 10\n",
    "input_dim=28*28\n",
    "output_dim=input_dim\n",
    "en_hidden1_dim = 500\n",
    "en_hidden2_dim = 500\n",
    "en_hidden3_dim = 2000\n",
    "latent_dim= 10\n",
    "de_hidden1_dim = 2000\n",
    "de_hidden2_dim = 500\n",
    "de_hidden3_dim = 500\n",
    "\n",
    "\n",
    "log_interval = 600\n",
    "\n",
    "K_model_cluster = 10\n",
    "K_real_cluster = 10\n",
    "\n",
    "beta= 1.\n",
    "\n",
    "save_folder = 'SGD-pi-results'\n",
    "\n",
    "KMeans_random_state = 1 #(random seed)\n",
    "Gaussian_random_state = 1  #(random seed)\n",
    "\n",
    "eps_N_c = 0\n",
    "iter_adiabatic =1"
   ],
   "metadata": {
    "collapsed": false,
    "pycharm": {
     "name": "#%%\n"
    }
   }
  },
  {
   "cell_type": "code",
   "execution_count": 3,
   "outputs": [],
   "source": [
    "device = 'cuda'\n",
    "kwargs = {'num_workers':1, 'pin_memory':True}\n",
    "\n",
    "train_loader = torch.utils.data.DataLoader(\n",
    "    datasets.MNIST('../data',train=True,download=True,\n",
    "                   transform=transforms.ToTensor()),\n",
    "    batch_size=batch_size,shuffle=True,**kwargs)\n",
    "\n",
    "test_loader = torch.utils.data.DataLoader(\n",
    "    datasets.MNIST('../data',train=False,transform=transforms.ToTensor()),\n",
    "    batch_size=batch_size,shuffle=True,**kwargs)\n"
   ],
   "metadata": {
    "collapsed": false,
    "pycharm": {
     "name": "#%%\n"
    }
   }
  },
  {
   "cell_type": "code",
   "execution_count": 4,
   "outputs": [],
   "source": [
    "def initialize_centers():\n",
    "\n",
    "    mu_c = torch.randn(1,latent_dim,K_model_cluster,device=device)\n",
    "    logvar_c = torch.zeros(1,latent_dim,K_model_cluster).to(device)\n",
    "    inv_sm_pi_c = torch.zeros(1,1,K_model_cluster).to(device)\n",
    "\n",
    "    return mu_c,logvar_c,inv_sm_pi_c"
   ],
   "metadata": {
    "collapsed": false,
    "pycharm": {
     "name": "#%%\n"
    }
   }
  },
  {
   "cell_type": "code",
   "execution_count": 5,
   "outputs": [
    {
     "data": {
      "text/plain": "(torch.Size([1, 10, 10]), torch.Size([1, 10, 10]), torch.Size([1, 1, 10]))"
     },
     "execution_count": 5,
     "metadata": {},
     "output_type": "execute_result"
    }
   ],
   "source": [
    "\n",
    "\n",
    "#zs_g,ts_g,mus_g,logvars_g = take_latents()\n",
    "mu_c_g,logvar_c_g,inv_sm_pi_c_g = initialize_centers()\n",
    "#mu_c_g,logvar_c_g,pi_c_g,Q_c_g,gamma_c_g,log_P_g = gauss(mus_g,logvars_g,mu_c_g,logvar_c_g,pi_c_g,50)\n",
    "mu_c_g.shape,logvar_c_g.shape,inv_sm_pi_c_g.shape\n",
    "#mu_c_g,logvar_c_g,pi_c_g,Q_c_g,gamma_c_g,log_P_g = gauss(mus_g,logvars_g,mu_c_g,logvar_c_g,pi_c_g,50)"
   ],
   "metadata": {
    "collapsed": false,
    "pycharm": {
     "name": "#%%\n"
    }
   }
  },
  {
   "cell_type": "code",
   "execution_count": 6,
   "outputs": [
    {
     "data": {
      "text/plain": "tensor([[[0., 0., 0., 0., 0., 0., 0., 0., 0., 0.]]], device='cuda:0',\n       requires_grad=True)"
     },
     "execution_count": 6,
     "metadata": {},
     "output_type": "execute_result"
    }
   ],
   "source": [
    "mu_c_g.requires_grad_(True)\n",
    "logvar_c_g.requires_grad_(True)\n",
    "inv_sm_pi_c_g.requires_grad_(True)"
   ],
   "metadata": {
    "collapsed": false,
    "pycharm": {
     "name": "#%%\n"
    }
   }
  },
  {
   "cell_type": "code",
   "execution_count": 7,
   "outputs": [
    {
     "data": {
      "text/plain": "(True, True, True)"
     },
     "execution_count": 7,
     "metadata": {},
     "output_type": "execute_result"
    }
   ],
   "source": [
    "mu_c_g.requires_grad,logvar_c_g.requires_grad,inv_sm_pi_c_g.requires_grad\n",
    "#F.softmax(inv_sm_pi_c_g,dim=0)"
   ],
   "metadata": {
    "collapsed": false,
    "pycharm": {
     "name": "#%%\n"
    }
   }
  },
  {
   "cell_type": "code",
   "execution_count": 8,
   "outputs": [],
   "source": [
    "class VAE(nn.Module):\n",
    "    def __init__(self):\n",
    "        super(VAE, self).__init__()\n",
    "\n",
    "        self.input_layer = nn.Linear(input_dim,en_hidden1_dim)##728 => 500 for MNIST\n",
    "        self.encode1_layer = nn.Linear(en_hidden1_dim,en_hidden2_dim)##500 => 500 for MNIST\n",
    "        self.encode2_layer = nn.Linear(en_hidden2_dim,en_hidden3_dim)##500 => 2000 for MNIST\n",
    "        self.mu_layer = nn.Linear(en_hidden3_dim,latent_dim)##2000 => 10 for MNIST\n",
    "        self.std_layer = nn.Linear(en_hidden3_dim,latent_dim)##2000 => 10 for MNIST\n",
    "        self.decode1_layer = nn.Linear(latent_dim,de_hidden1_dim)##10 => 2000 for MNIST\n",
    "        self.decode2_layer = nn.Linear(de_hidden1_dim,de_hidden2_dim)##2000 => 500 for MNIST\n",
    "        self.decode3_layer = nn.Linear(de_hidden2_dim,de_hidden3_dim)##500 => 500 for MNIST\n",
    "        self.output_layer = nn.Linear(de_hidden3_dim,output_dim)##500 => 728 for MNIST\n",
    "\n",
    "    def encode(self, x):\n",
    "        en_h1 = F.relu(self.input_layer(x))\n",
    "        en_h2 = F.relu(self.encode1_layer(en_h1))\n",
    "        en_h3 = F.relu(self.encode2_layer(en_h2))\n",
    "        return self.mu_layer(en_h3), self.std_layer(en_h3)\n",
    "    #入力から中心と分散の対数を作っている\n",
    "\n",
    "\n",
    "    def reparameterize(self,mu,logvar):\n",
    "        std = torch.exp(0.5*logvar)\n",
    "        eps = torch.randn_like(std)\n",
    "        #torch.randn_like(std)はstdと同じ次元の正規乱数を与えている。N(0,1)**size(std).ただし、標準偏差は対角的。\n",
    "        return mu + eps*std\n",
    "    #zの値を確率的に作っている。\n",
    "\n",
    "    def decode(self,z):\n",
    "        de_h1 = F.relu(self.decode1_layer(z))\n",
    "        de_h2 = F.relu(self.decode2_layer(de_h1))\n",
    "        de_h3 = F.relu(self.decode3_layer(de_h2))\n",
    "        return torch.sigmoid(self.output_layer(de_h3))\n",
    "    #zからNNを通したあとに、sigmoidで押し込んでxの値を作っている\n",
    "\n",
    "\n",
    "    def forward(self, x):\n",
    "        mu, logvar = self.encode(x.view(-1,784))\n",
    "        z = self.reparameterize(mu, logvar)\n",
    "        return self.decode(z),mu,logvar,z\n",
    "    #出力はxの予測値とzを算出するときの中心と分散になっている\n",
    "\n",
    "\n",
    "model = VAE().to(device)\n",
    "\n",
    "optimizer = optim.Adam(model.parameters(),lr=0.002)\n",
    "scheduler = torch.optim.lr_scheduler.StepLR(optimizer,step_size=10,gamma=0.9)\n",
    "\n",
    "optimizer_clustering = optim.Adam([mu_c_g,logvar_c_g,inv_sm_pi_c_g],lr=0.002)\n",
    "scheduler_clustering = torch.optim.lr_scheduler.StepLR(optimizer_clustering,step_size=10,gamma=0.9)\n"
   ],
   "metadata": {
    "collapsed": false,
    "pycharm": {
     "name": "#%%\n"
    }
   }
  },
  {
   "cell_type": "code",
   "execution_count": 9,
   "outputs": [],
   "source": [
    "def loss_function(recon_x,x,mu,logvar):\n",
    "    BCE = F.binary_cross_entropy(recon_x,x.view(-1,input_dim),reduction='sum')\n",
    "    #recon_xはsigmoidをdecordeで通されているので、[0,1]になっている。\n",
    "    KLD = -0.5*torch.sum(1+logvar-mu.pow(2)-logvar.exp())\n",
    "\n",
    "    return BCE+beta*KLD\n",
    "\n"
   ],
   "metadata": {
    "collapsed": false,
    "pycharm": {
     "name": "#%%\n"
    }
   }
  },
  {
   "cell_type": "code",
   "execution_count": 10,
   "outputs": [],
   "source": [
    "def train(epoch):\n",
    "    model.train()\n",
    "    train_loss = 0\n",
    "    for batch_idx, (data,_) in enumerate(train_loader):\n",
    "        #ラベルは使わないようだ\n",
    "        data = data.to(device)\n",
    "        #データをGPUにおくる\n",
    "        optimizer.zero_grad()\n",
    "        #傾きの初期化\n",
    "        recon_batch, mu, logvar,z = model(data)\n",
    "        #VAEからバッヂ分のデータと中心と分散のログを受け取る\n",
    "        loss = loss_function(recon_batch,data,mu,logvar)\n",
    "        #バッヂ分のロスを計算。バッヂ数で割っていないようだ。書き出しのときにデータ数で割っている。\n",
    "        loss.backward()\n",
    "        #傾きを計算\n",
    "        train_loss+= loss.item()\n",
    "        optimizer.step()\n",
    "        #パラメータの更新\n",
    "        if batch_idx % log_interval ==0:\n",
    "            #一定間隔でロスを書き出し。epochはここでしか使っていないようだ。\n",
    "            print('Train Epoch: {} [{}/{} ({:.0f}%)]\\tLoss: {:.6f}'.format(\n",
    "              epoch,batch_idx*len(data),len(train_loader.dataset),\n",
    "                100.*batch_idx/len(train_loader),\n",
    "                loss.item()/len(data)\n",
    "            ))\n"
   ],
   "metadata": {
    "collapsed": false,
    "pycharm": {
     "name": "#%%\n"
    }
   }
  },
  {
   "cell_type": "code",
   "execution_count": 11,
   "outputs": [],
   "source": [
    "def test(epoch):\n",
    "    model.eval()\n",
    "    test_loss = 0\n",
    "    with torch.no_grad():#バックプロパゲーションを行わないから、微分情報を残さない\n",
    "        for i, (data, _) in enumerate(test_loader):\n",
    "            #テストデータを取り出す。ラベルはいらない。\n",
    "            data =data.to(device)\n",
    "            #データをGPUに送る\n",
    "            recon_batch, mu, logvar,z = model(data)\n",
    "            #データからバッヂ分の再現画像と中心と分散の対数を出している。\n",
    "            test_loss += loss_function(recon_batch,data,mu,logvar).item()\n",
    "            #テストデータでのロスを出している\n",
    "            if i == 0:\n",
    "                #はじめのバッヂについて\n",
    "                n = min(data.size(0),16)\n",
    "                #nをバッヂのデータ数か８との小さい方として\n",
    "                comparizon = torch.cat([data[:n],recon_batch.view(batch_size,1,28,28)[:n]])\n",
    "                #元データと再現データを並べる\n",
    "                save_image(comparizon.cpu(),'./'+save_folder+'/reconstruction_' + str(epoch) + '.png',nrow=n)\n",
    "\n",
    "                test_loss /= len(test_loader.dataset)\n",
    "                print('====> Test set loss: {:.4f}'.format(test_loss))"
   ],
   "metadata": {
    "collapsed": false,
    "pycharm": {
     "name": "#%%\n"
    }
   }
  },
  {
   "cell_type": "code",
   "execution_count": 12,
   "outputs": [],
   "source": [
    "\n",
    "def initial_train(epochs):\n",
    "    for epoch in range(1, epochs +1):\n",
    "        train(epoch)\n",
    "        test(epoch)\n",
    "        scheduler.step()\n",
    "        with torch.no_grad():\n",
    "            sample = torch.randn(64,latent_dim).to(device)\n",
    "        #20次元の潜在空間のデータを64個作成して、GPUに送る\n",
    "            sample = model.decode(sample).cpu()\n",
    "        #ランダムな潜在変数から画像を生成する。\n",
    "            save_image(sample.view(64,1,28,28),save_folder+'/sample_' + str(epoch) + '.png',nrow=8)\n",
    "        #生成した６４個のデータを記録しておく"
   ],
   "metadata": {
    "collapsed": false,
    "pycharm": {
     "name": "#%%\n"
    }
   }
  },
  {
   "cell_type": "code",
   "execution_count": 13,
   "outputs": [],
   "source": [
    "def take_latents():\n",
    "    zs = torch.empty(0,latent_dim,1).to(device).requires_grad_(False)\n",
    "    ts = torch.empty(0,dtype=torch.long).to(device).requires_grad_(False)\n",
    "    mus = torch.empty(0,latent_dim,1).to(device).requires_grad_(False)\n",
    "    logvars = torch.empty(0,latent_dim,1).to(device).requires_grad_(False)\n",
    "#zs = []\n",
    "#ts = []\n",
    "\n",
    "#ts.dtype = torch.int\n",
    "\n",
    "    #for x, t in test_loader:\n",
    "    for batch_idx, (x,t) in enumerate(test_loader):\n",
    "    # original。xがデータ、tがラベル。\n",
    "    #for i, im in enumerate(x.view(-1, 28, 28).detach().numpy()[:10]):\n",
    "    #  ax = fig.add_subplot(3, 10, i+1, xticks=[], yticks=[])\n",
    "    #  ax.imshow(im, 'gray')\n",
    "    #x = x.to(device)\n",
    "    # generate from x\n",
    "        if batch_idx < take_latent_max:\n",
    "            x = x.to(device)\n",
    "            with torch.no_grad():\n",
    "                recon_batch,mu,logvar, z = model(x)\n",
    "            t = t.to(device)\n",
    "    #zs.append(z)\n",
    "    #ts.append(t)\n",
    "            zs = torch.cat((zs,z.view(-1,latent_dim,1)),0)\n",
    "            ts = torch.cat((ts,t),0)\n",
    "            mus = torch.cat((mus,mu.view(-1,latent_dim,1)),0)\n",
    "            logvars = torch.cat((logvars,logvar.view(-1,latent_dim,1)),0)\n",
    "    #y = y.view(-1, 28, 28)\n",
    "    #for i, im in enumerate(y.cpu().detach().numpy()[:10]):\n",
    "     # ax = fig.add_subplot(3, 10, i+11, xticks=[], yticks=[])\n",
    "     # ax.imshow(im, 'gray')\n",
    "    mus = torch.cat((mus,mu_c_g.permute(2,1,0)),0)\n",
    "    ts = torch.cat((ts,torch.arange(-1,-K_model_cluster-1,-1).to(device)),0)\n",
    "    return zs,ts,mus,logvars\n"
   ],
   "metadata": {
    "collapsed": false,
    "pycharm": {
     "name": "#%%\n"
    }
   }
  },
  {
   "cell_type": "code",
   "execution_count": 14,
   "outputs": [],
   "source": [
    "def gauss(mus,logvars,mu_c,logvar_c,inv_sm_pi_c,iter):\n",
    "\n",
    "    for i in range(iter):\n",
    "        with torch.no_grad():\n",
    "            Q_c = logvar_c+(logvars.exp()+(mus-mu_c).pow(2))/(logvar_c.exp())\n",
    "\n",
    "            gamma_c = (F.softmax(inv_sm_pi_c,dim=2)*((-0.5*Q_c.sum(1,keepdim=True)).exp()))/((F.softmax(inv_sm_pi_c,dim=2)*((-0.5*Q_c.sum(1,keepdim=True)).exp())).sum(2,keepdim=True))\n",
    "\n",
    "            N_c = gamma_c.sum(0,keepdim=True)\n",
    "            log_P = (((F.softmax(inv_sm_pi_c,dim=2)*((-0.5*Q_c.sum(1,keepdim=True)).exp())).sum(2).squeeze()).log()).sum()/((Q_c.shape)[0])\n",
    "            pi_c= N_c/(N_c.sum())\n",
    "            mu_c=(gamma_c*mus).sum(0,keepdim=True)/N_c\n",
    "            logvar_c=((gamma_c*((mus-mu_c).pow(2)+logvars.exp())).sum(0,keepdim=True)/N_c).log()\n",
    "\n",
    "\n",
    "    return mu_c,logvar_c,pi_c,Q_c,gamma_c,log_P\n"
   ],
   "metadata": {
    "collapsed": false,
    "pycharm": {
     "name": "#%%\n"
    }
   }
  },
  {
   "cell_type": "code",
   "execution_count": 24,
   "outputs": [],
   "source": [
    "def drawpoints(mus_numpy,ts_numpy):\n",
    "    colors = [\"red\", \"green\", \"blue\", \"orange\", \"purple\", \"brown\", \"fuchsia\", \"grey\", \"olive\", \"lightblue\",\"red\", \"green\", \"blue\", \"orange\", \"purple\", \"brown\", \"fuchsia\", \"grey\", \"olive\", \"lightblue\"]\n",
    "    for p,l in zip(points,ts_numpy):\n",
    "        plt.scatter(p[0],p[1],marker=\"${}$\".format(l),c=colors[l])\n",
    "\n",
    "cm = plt.cm.get_cmap('tab20')\n",
    "def drawpoints_with_centers(mus_numpy,ts_numpy,center_numpy,center_t_numpy):\n",
    "    for p,l in zip(mus_numpy,ts_numpy):\n",
    "        plt.scatter(p[0],p[1],marker=\"${}$\".format(l),color=cm.colors[l])\n",
    "    for p,l in zip(center_numpy,center_t_numpy):\n",
    "        plt.scatter(p[0],p[1],facecolors='none',edgecolors='red',s=200)\n",
    "    for p,l in zip(center_numpy,center_t_numpy):\n",
    "        plt.scatter(p[0],p[1],marker=\"${}$\".format(l),color='black',s=50)\n",
    "\n",
    "#    plt.xlim(-4,4)\n",
    "#    plt.ylim(-4,4)\n",
    "    plt.show()"
   ],
   "metadata": {
    "collapsed": false,
    "pycharm": {
     "name": "#%%\n"
    }
   }
  },
  {
   "cell_type": "code",
   "execution_count": 16,
   "outputs": [],
   "source": [
    "def show_generated_samples_c(mu_c,logvar_c):\n",
    "    for i in range(K_model_cluster):\n",
    "        with torch.no_grad():\n",
    "            sample_dist = MultivariateNormal(loc=mu_c[:,:,i],covariance_matrix=torch.diag(logvar_c[0,:,i].exp()))\n",
    "    #mu_distribution = MultivariateNormal(loc=mu_center.cpu(),covariance_matrix=cov_mus.cpu())\n",
    "            sample = sample_dist.sample([64,])\n",
    "#    sample = torch.randn(64,latent_dim).to(device)\n",
    "        #20次元の潜在空間のデータを64個作成して、GPUに送る\n",
    "            sample = model.decode(sample).cpu()\n",
    "        #ランダムな潜在変数から画像を生成する。\n",
    "            save_image(sample.view(64,1,28,28),save_folder+'/sample_c_' + str(i) + '.png',nrow=8)\n",
    "        #生成した６４個のデータを記録しておく"
   ],
   "metadata": {
    "collapsed": false,
    "pycharm": {
     "name": "#%%\n"
    }
   }
  },
  {
   "cell_type": "code",
   "execution_count": 17,
   "outputs": [],
   "source": [
    "def loss_function_c(recon_x,x,mus_f,logvars_f,mu_c_f,logvar_c_f,inv_sm_pi_c_f):\n",
    "    BCE = F.binary_cross_entropy(recon_x,x.view(-1,784),reduction='sum')\n",
    "    KLD = -0.5*(1+logvars_f).sum() -(((F.softmax(inv_sm_pi_c_f,dim=2)*((-0.5*((logvar_c_f+(logvars_f.exp()+(mus_f-mu_c_f).pow(2))/(logvar_c_f.exp())).sum(1,keepdim=True))).exp())).sum(2,keepdim=True)).log()).sum()#+(logvars_f.exp()+(mus_f-mu_c_f).pow(2))/(logvar_c_f.exp()))\n",
    "\n",
    "    return BCE+beta*KLD"
   ],
   "metadata": {
    "collapsed": false,
    "pycharm": {
     "name": "#%%\n"
    }
   }
  },
  {
   "cell_type": "code",
   "execution_count": 18,
   "outputs": [],
   "source": [
    "def train_c(epoch):\n",
    "    model.train()\n",
    "    train_loss = 0\n",
    "    for batch_idx, (data,_) in enumerate(train_loader):\n",
    "        #ラベルは使わないようだ\n",
    "        data = data.to(device)\n",
    "        #データをGPUにおくる\n",
    "        optimizer.zero_grad()\n",
    "        optimizer_clustering.zero_grad()\n",
    "        #傾きの初期化\n",
    "        recon_batch, mu, logvar,z = model(data)\n",
    "        #VAEからバッヂ分のデータと中心と分散のログを受け取る\n",
    "\n",
    "#        print('Train Epoch: {} [{}/{} ({:.0f}%)]\\tLoss: {}'.format(\n",
    "#              epoch,batch_idx*len(data),len(train_loader.dataset),\n",
    "#                100.*batch_idx/len(train_loader),\n",
    "#                inv_sm_pi_c_g\n",
    "#            ))\n",
    "\n",
    "        loss = loss_function_c(recon_x=recon_batch,x=data,mus_f=mu.view(-1,latent_dim,1),logvars_f=logvar.view(-1,latent_dim,1),mu_c_f=mu_c_g,logvar_c_f=logvar_c_g,inv_sm_pi_c_f=inv_sm_pi_c_g)\n",
    "        #バッヂ分のロスを計算。バッヂ数で割っていないようだ。書き出しのときにデータ数で割っている。\n",
    "        loss.backward()\n",
    "        #傾きを計算\n",
    "        train_loss+= loss.item()\n",
    "        optimizer.step()\n",
    "        #NNパラメータの更新\n",
    "\n",
    "        optimizer_clustering.step()\n",
    "        #NNクラスタリングパラメータの更新\n",
    "\n",
    "#        print(mu_c_g)\n",
    "#        print('var_c='.format(logvar_c_g.exp()))\n",
    "\n",
    "#        print('mu={}'.format(mu.view(-1,latent_dim,1).squeeze()))\n",
    "#        print('prec_c={}'.format((1./logvar_c_g.exp()).squeeze()))\n",
    "#        print('quad={}'.format(((((mu.view(-1,latent_dim,1)-mu_c_g).pow(2))/(logvar_c_g.exp())).sum(1)).squeeze()))\n",
    "#        print('quadvar={}'.format((((logvar.view(-1,latent_dim,1).exp())/(logvar_c_g.exp())).sum(1)).squeeze()))\n",
    "#        print('expDKL={}'.format((-0.5*((logvar_c_g+(logvar.view(-1,latent_dim,1).exp()+(mu.view(-1,latent_dim,1)-mu_c_g).pow(2))/(logvar_c_g.exp())).sum(1,keepdim=True))).exp().squeeze()))\n",
    "#        print('logDKL={}'.format((((F.softmax(inv_sm_pi_c_g,dim=2)*((-0.5*((logvar_c_g+(logvar.view(-1,latent_dim,1).exp()+(mu.view(-1,latent_dim,1)-mu_c_g).pow(2))/(logvar_c_g.exp())).sum(1,keepdim=True))).exp())).sum(2,keepdim=True)).log()).squeeze()))\n",
    "\n",
    "        if batch_idx % log_interval ==0:\n",
    "            #一定間隔でロスを書き出し。epochはここでしか使っていないようだ。len()は最初の次元の大きさを出すのでバッヂの大きさ。\n",
    "            print('Train Epoch: {} [{}/{} ({:.0f}%)]\\tLoss: {:.6f}'.format(\n",
    "              epoch,batch_idx*len(data),len(train_loader.dataset),\n",
    "                100.*batch_idx/len(train_loader),\n",
    "                loss.item()/len(data)\n",
    "            ))\n",
    "\n",
    "#        if batch_idx == 5:\n",
    "#            break"
   ],
   "metadata": {
    "collapsed": false,
    "pycharm": {
     "name": "#%%\n"
    }
   }
  },
  {
   "cell_type": "code",
   "execution_count": 19,
   "outputs": [],
   "source": [
    "def test_c(epoch,mu_c,logvar_c,inv_sm_pi_c):\n",
    "    model.eval()\n",
    "    test_loss = 0\n",
    "    with torch.no_grad():#バックプロパゲーションを行わないから、微分情報を残さない\n",
    "        for i, (data, _) in enumerate(test_loader):\n",
    "            #テストデータを取り出す。ラベルはいらない。\n",
    "            data =data.to(device)\n",
    "            #データをGPUに送る\n",
    "            recon_batch, mu, logvar,z = model(data)\n",
    "            #データからバッヂ分の再現画像と中心と分散の対数を出している。\n",
    "            test_loss += loss_function_c(recon_x=recon_batch,x=data,mus_f=mu.view(-1,latent_dim,1),logvars_f=logvar.view(-1,latent_dim,1),mu_c_f=mu_c,logvar_c_f=logvar_c,inv_sm_pi_c_f=inv_sm_pi_c).item()\n",
    "            #テストデータでのロスを出している\n",
    "            if i == 0:\n",
    "                #はじめのバッヂについて\n",
    "                n = min(data.size(0),16)\n",
    "                #nをバッヂのデータ数か８との小さい方として\n",
    "                comparizon = torch.cat([data[:n],recon_batch.view(batch_size,1,28,28)[:n]])\n",
    "                #元データと再現データを並べる\n",
    "                save_image(comparizon.cpu(),'./'+save_folder+'/reconstruction_c_' + str(epoch) + '.png',nrow=n)\n",
    "\n",
    "                test_loss /= len(test_loader.dataset)\n",
    "                print('====> Test set loss: {:.4f}'.format(test_loss))"
   ],
   "metadata": {
    "collapsed": false,
    "pycharm": {
     "name": "#%%\n"
    }
   }
  },
  {
   "cell_type": "code",
   "execution_count": 20,
   "outputs": [],
   "source": [
    "def train_c_epoch(epochs,mu_c,logvar_c,inv_sm_pi_c):\n",
    "    for epoch in range(1, epochs +1):\n",
    "        train_c(epoch,mu_c,logvar_c,inv_sm_pi_c)\n",
    "        test_c(epoch,mu_c,logvar_c,inv_sm_pi_c)\n",
    "        with torch.no_grad():\n",
    "            sample = torch.randn(64,latent_dim).to(device)\n",
    "        #20次元の潜在空間のデータを64個作成して、GPUに送る\n",
    "            sample = model.decode(sample).cpu()\n",
    "        #ランダムな潜在変数から画像を生成する。\n",
    "            save_image(sample.view(64,1,28,28),save_folder+'/sample_c_epoch_' + str(epoch) + '.png',nrow=8)\n",
    "        #生成した６４個のデータを記録しておく\n"
   ],
   "metadata": {
    "collapsed": false,
    "pycharm": {
     "name": "#%%\n"
    }
   }
  },
  {
   "cell_type": "code",
   "execution_count": 21,
   "outputs": [
    {
     "data": {
      "text/plain": "(tensor([[[ 0.0205,  0.3335,  1.6945,  2.2869, -0.4991, -1.0566, -1.0713,\n           -0.8535,  0.7981, -1.0285],\n          [-0.1525,  0.6375, -1.0685, -1.3792,  1.6177,  1.7170,  1.1194,\n            0.3443,  0.6458,  1.4226],\n          [ 0.0368,  0.2790, -0.0207,  1.0427, -0.1859, -0.3761, -0.2756,\n            0.3061,  2.3599,  0.7331],\n          [ 0.2201, -1.0485,  0.5327,  0.2386,  1.2062, -1.6211, -0.7480,\n           -0.4070,  0.3087,  0.0401],\n          [-0.5800, -0.2749, -0.8610, -1.3363, -0.7912, -0.8955, -0.1658,\n            0.4336, -0.4479,  0.3492],\n          [ 0.5088,  0.2571,  0.2606,  0.8515,  0.3374,  1.3715,  0.9135,\n            0.3237, -0.9576, -0.0560],\n          [-1.2943,  0.8086, -1.0563, -0.7301,  2.3736,  0.2767,  0.2376,\n            0.5423, -1.4447,  2.5474],\n          [-1.9158,  2.7035,  1.6561, -0.6765, -1.1811,  1.3786,  1.8159,\n           -2.1320, -1.3604,  0.4366],\n          [-0.1559,  0.6311, -1.4892,  1.4963, -0.4967, -0.2177, -1.7407,\n           -1.5228, -0.0182,  0.5325],\n          [-0.3991,  0.3379,  0.5869,  0.2315,  0.3074,  1.1617, -1.2211,\n            0.5232, -0.2595,  0.5644]]], device='cuda:0', requires_grad=True),\n tensor([[[0., 0., 0., 0., 0., 0., 0., 0., 0., 0.],\n          [0., 0., 0., 0., 0., 0., 0., 0., 0., 0.],\n          [0., 0., 0., 0., 0., 0., 0., 0., 0., 0.],\n          [0., 0., 0., 0., 0., 0., 0., 0., 0., 0.],\n          [0., 0., 0., 0., 0., 0., 0., 0., 0., 0.],\n          [0., 0., 0., 0., 0., 0., 0., 0., 0., 0.],\n          [0., 0., 0., 0., 0., 0., 0., 0., 0., 0.],\n          [0., 0., 0., 0., 0., 0., 0., 0., 0., 0.],\n          [0., 0., 0., 0., 0., 0., 0., 0., 0., 0.],\n          [0., 0., 0., 0., 0., 0., 0., 0., 0., 0.]]], device='cuda:0',\n        requires_grad=True),\n tensor([[[0.1000, 0.1000, 0.1000, 0.1000, 0.1000, 0.1000, 0.1000, 0.1000,\n           0.1000, 0.1000]]], device='cuda:0', grad_fn=<SoftmaxBackward>))"
     },
     "execution_count": 21,
     "metadata": {},
     "output_type": "execute_result"
    }
   ],
   "source": [
    "mu_c_g,logvar_c_g,F.softmax(inv_sm_pi_c_g,dim=2)"
   ],
   "metadata": {
    "collapsed": false,
    "pycharm": {
     "name": "#%%\n"
    }
   }
  },
  {
   "cell_type": "code",
   "execution_count": 117,
   "outputs": [
    {
     "name": "stdout",
     "output_type": "stream",
     "text": [
      "Train Epoch: 0 [0/60000 (0%)]\tLoss: 103.857012\n",
      "====> Test set loss: 1.0533\n",
      "Train Epoch: 1 [0/60000 (0%)]\tLoss: 100.993691\n",
      "====> Test set loss: 1.0347\n",
      "Train Epoch: 2 [0/60000 (0%)]\tLoss: 103.142334\n",
      "====> Test set loss: 0.9805\n",
      "Train Epoch: 3 [0/60000 (0%)]\tLoss: 102.648145\n",
      "====> Test set loss: 1.0285\n",
      "Train Epoch: 4 [0/60000 (0%)]\tLoss: 97.965850\n",
      "====> Test set loss: 1.0090\n",
      "Train Epoch: 5 [0/60000 (0%)]\tLoss: 100.861504\n",
      "====> Test set loss: 1.0131\n",
      "Train Epoch: 6 [0/60000 (0%)]\tLoss: 102.341680\n",
      "====> Test set loss: 0.9734\n",
      "Train Epoch: 7 [0/60000 (0%)]\tLoss: 103.566299\n",
      "====> Test set loss: 0.9891\n",
      "Train Epoch: 8 [0/60000 (0%)]\tLoss: 96.260537\n",
      "====> Test set loss: 1.0486\n",
      "Train Epoch: 9 [0/60000 (0%)]\tLoss: 102.867432\n",
      "====> Test set loss: 0.9964\n",
      "Train Epoch: 10 [0/60000 (0%)]\tLoss: 98.901152\n",
      "====> Test set loss: 1.0266\n",
      "Train Epoch: 11 [0/60000 (0%)]\tLoss: 99.044932\n",
      "====> Test set loss: 1.0831\n",
      "Train Epoch: 12 [0/60000 (0%)]\tLoss: 101.907754\n",
      "====> Test set loss: 1.0585\n",
      "Train Epoch: 13 [0/60000 (0%)]\tLoss: 98.508223\n",
      "====> Test set loss: 1.0661\n",
      "Train Epoch: 14 [0/60000 (0%)]\tLoss: 103.005459\n",
      "====> Test set loss: 1.0467\n",
      "Train Epoch: 15 [0/60000 (0%)]\tLoss: 102.694209\n",
      "====> Test set loss: 0.9787\n",
      "Train Epoch: 16 [0/60000 (0%)]\tLoss: 102.123145\n",
      "====> Test set loss: 1.1105\n",
      "Train Epoch: 17 [0/60000 (0%)]\tLoss: 104.310215\n",
      "====> Test set loss: 1.0267\n",
      "Train Epoch: 18 [0/60000 (0%)]\tLoss: 101.971201\n",
      "====> Test set loss: 0.9985\n",
      "Train Epoch: 19 [0/60000 (0%)]\tLoss: 97.278389\n",
      "====> Test set loss: 1.0244\n",
      "Train Epoch: 20 [0/60000 (0%)]\tLoss: 98.455518\n",
      "====> Test set loss: 1.0235\n",
      "Train Epoch: 21 [0/60000 (0%)]\tLoss: 103.607686\n",
      "====> Test set loss: 1.0589\n",
      "Train Epoch: 22 [0/60000 (0%)]\tLoss: 102.872510\n",
      "====> Test set loss: 1.0040\n",
      "Train Epoch: 23 [0/60000 (0%)]\tLoss: 104.184746\n",
      "====> Test set loss: 1.0930\n",
      "Train Epoch: 24 [0/60000 (0%)]\tLoss: 99.688838\n",
      "====> Test set loss: 0.9753\n",
      "Train Epoch: 25 [0/60000 (0%)]\tLoss: 97.232363\n",
      "====> Test set loss: 1.0255\n",
      "Train Epoch: 26 [0/60000 (0%)]\tLoss: 97.682119\n",
      "====> Test set loss: 1.0469\n",
      "Train Epoch: 27 [0/60000 (0%)]\tLoss: 97.569883\n",
      "====> Test set loss: 1.0677\n",
      "Train Epoch: 28 [0/60000 (0%)]\tLoss: 104.614893\n",
      "====> Test set loss: 1.0095\n",
      "Train Epoch: 29 [0/60000 (0%)]\tLoss: 100.219482\n",
      "====> Test set loss: 1.0344\n",
      "Train Epoch: 30 [0/60000 (0%)]\tLoss: 94.496221\n",
      "====> Test set loss: 1.0565\n",
      "Train Epoch: 31 [0/60000 (0%)]\tLoss: 98.788057\n",
      "====> Test set loss: 1.0484\n",
      "Train Epoch: 32 [0/60000 (0%)]\tLoss: 96.844746\n",
      "====> Test set loss: 1.0546\n",
      "Train Epoch: 33 [0/60000 (0%)]\tLoss: 101.674922\n",
      "====> Test set loss: 1.0497\n",
      "Train Epoch: 34 [0/60000 (0%)]\tLoss: 99.699629\n",
      "====> Test set loss: 1.0755\n",
      "Train Epoch: 35 [0/60000 (0%)]\tLoss: 100.960898\n",
      "====> Test set loss: 1.0472\n",
      "Train Epoch: 36 [0/60000 (0%)]\tLoss: 92.713408\n",
      "====> Test set loss: 1.0470\n",
      "Train Epoch: 37 [0/60000 (0%)]\tLoss: 103.195459\n",
      "====> Test set loss: 1.0147\n",
      "Train Epoch: 38 [0/60000 (0%)]\tLoss: 100.898135\n",
      "====> Test set loss: 1.0614\n",
      "Train Epoch: 39 [0/60000 (0%)]\tLoss: 99.465479\n",
      "====> Test set loss: 0.9618\n",
      "Train Epoch: 40 [0/60000 (0%)]\tLoss: 97.644326\n",
      "====> Test set loss: 1.0105\n",
      "Train Epoch: 41 [0/60000 (0%)]\tLoss: 99.814014\n",
      "====> Test set loss: 1.0143\n",
      "Train Epoch: 42 [0/60000 (0%)]\tLoss: 95.748535\n",
      "====> Test set loss: 1.0185\n",
      "Train Epoch: 43 [0/60000 (0%)]\tLoss: 95.425908\n",
      "====> Test set loss: 1.0247\n",
      "Train Epoch: 44 [0/60000 (0%)]\tLoss: 103.497627\n",
      "====> Test set loss: 1.0922\n",
      "Train Epoch: 45 [0/60000 (0%)]\tLoss: 104.352500\n",
      "====> Test set loss: 1.0757\n",
      "Train Epoch: 46 [0/60000 (0%)]\tLoss: 96.804346\n",
      "====> Test set loss: 0.9981\n",
      "Train Epoch: 47 [0/60000 (0%)]\tLoss: 93.832998\n",
      "====> Test set loss: 0.9766\n",
      "Train Epoch: 48 [0/60000 (0%)]\tLoss: 94.731484\n",
      "====> Test set loss: 1.0506\n",
      "Train Epoch: 49 [0/60000 (0%)]\tLoss: 95.170479\n",
      "====> Test set loss: 1.0214\n",
      "Train Epoch: 50 [0/60000 (0%)]\tLoss: 94.395488\n",
      "====> Test set loss: 1.0391\n",
      "Train Epoch: 51 [0/60000 (0%)]\tLoss: 94.443604\n",
      "====> Test set loss: 1.0469\n",
      "Train Epoch: 52 [0/60000 (0%)]\tLoss: 99.501250\n",
      "====> Test set loss: 1.0535\n",
      "Train Epoch: 53 [0/60000 (0%)]\tLoss: 97.392256\n",
      "====> Test set loss: 0.9528\n",
      "Train Epoch: 54 [0/60000 (0%)]\tLoss: 95.349727\n",
      "====> Test set loss: 0.9953\n",
      "Train Epoch: 55 [0/60000 (0%)]\tLoss: 99.193604\n",
      "====> Test set loss: 1.0226\n",
      "Train Epoch: 56 [0/60000 (0%)]\tLoss: 98.789951\n",
      "====> Test set loss: 0.9681\n",
      "Train Epoch: 57 [0/60000 (0%)]\tLoss: 96.287383\n",
      "====> Test set loss: 1.0461\n",
      "Train Epoch: 58 [0/60000 (0%)]\tLoss: 93.305664\n",
      "====> Test set loss: 1.0503\n",
      "Train Epoch: 59 [0/60000 (0%)]\tLoss: 94.130732\n",
      "====> Test set loss: 1.0175\n",
      "Train Epoch: 60 [0/60000 (0%)]\tLoss: 94.267637\n",
      "====> Test set loss: 1.0414\n",
      "Train Epoch: 61 [0/60000 (0%)]\tLoss: 96.831670\n",
      "====> Test set loss: 0.9550\n",
      "Train Epoch: 62 [0/60000 (0%)]\tLoss: 97.036689\n",
      "====> Test set loss: 1.0586\n",
      "Train Epoch: 63 [0/60000 (0%)]\tLoss: 99.492607\n",
      "====> Test set loss: 1.0280\n",
      "Train Epoch: 64 [0/60000 (0%)]\tLoss: 98.162910\n",
      "====> Test set loss: 1.0732\n",
      "Train Epoch: 65 [0/60000 (0%)]\tLoss: 96.433545\n",
      "====> Test set loss: 1.0271\n",
      "Train Epoch: 66 [0/60000 (0%)]\tLoss: 101.038828\n",
      "====> Test set loss: 1.0571\n",
      "Train Epoch: 67 [0/60000 (0%)]\tLoss: 100.124424\n",
      "====> Test set loss: 0.9550\n",
      "Train Epoch: 68 [0/60000 (0%)]\tLoss: 99.041484\n",
      "====> Test set loss: 1.0707\n",
      "Train Epoch: 69 [0/60000 (0%)]\tLoss: 99.794326\n",
      "====> Test set loss: 1.0577\n",
      "Train Epoch: 70 [0/60000 (0%)]\tLoss: 97.279160\n",
      "====> Test set loss: 1.0541\n",
      "Train Epoch: 71 [0/60000 (0%)]\tLoss: 97.623242\n",
      "====> Test set loss: 1.0309\n",
      "Train Epoch: 72 [0/60000 (0%)]\tLoss: 94.600889\n",
      "====> Test set loss: 1.0309\n",
      "Train Epoch: 73 [0/60000 (0%)]\tLoss: 94.466436\n",
      "====> Test set loss: 0.9699\n",
      "Train Epoch: 74 [0/60000 (0%)]\tLoss: 101.144082\n",
      "====> Test set loss: 1.0041\n",
      "Train Epoch: 75 [0/60000 (0%)]\tLoss: 92.995342\n",
      "====> Test set loss: 1.0724\n",
      "Train Epoch: 76 [0/60000 (0%)]\tLoss: 100.453164\n",
      "====> Test set loss: 1.0388\n",
      "Train Epoch: 77 [0/60000 (0%)]\tLoss: 95.489736\n",
      "====> Test set loss: 1.0541\n",
      "Train Epoch: 78 [0/60000 (0%)]\tLoss: 94.779023\n",
      "====> Test set loss: 0.9906\n",
      "Train Epoch: 79 [0/60000 (0%)]\tLoss: 98.218838\n",
      "====> Test set loss: 1.0290\n",
      "Train Epoch: 80 [0/60000 (0%)]\tLoss: 97.865537\n",
      "====> Test set loss: 1.0047\n",
      "Train Epoch: 81 [0/60000 (0%)]\tLoss: 95.261816\n",
      "====> Test set loss: 1.0306\n",
      "Train Epoch: 82 [0/60000 (0%)]\tLoss: 95.061758\n",
      "====> Test set loss: 1.0618\n",
      "Train Epoch: 83 [0/60000 (0%)]\tLoss: 94.479687\n",
      "====> Test set loss: 1.0653\n",
      "Train Epoch: 84 [0/60000 (0%)]\tLoss: 98.474551\n",
      "====> Test set loss: 1.0143\n",
      "Train Epoch: 85 [0/60000 (0%)]\tLoss: 100.280010\n",
      "====> Test set loss: 0.9979\n",
      "Train Epoch: 86 [0/60000 (0%)]\tLoss: 94.158037\n",
      "====> Test set loss: 1.0254\n",
      "Train Epoch: 87 [0/60000 (0%)]\tLoss: 95.943145\n",
      "====> Test set loss: 0.9966\n",
      "Train Epoch: 88 [0/60000 (0%)]\tLoss: 96.125537\n",
      "====> Test set loss: 0.9949\n",
      "Train Epoch: 89 [0/60000 (0%)]\tLoss: 98.400215\n",
      "====> Test set loss: 1.0164\n",
      "Train Epoch: 90 [0/60000 (0%)]\tLoss: 100.957520\n",
      "====> Test set loss: 1.0671\n",
      "Train Epoch: 91 [0/60000 (0%)]\tLoss: 96.780996\n",
      "====> Test set loss: 1.0629\n",
      "Train Epoch: 92 [0/60000 (0%)]\tLoss: 95.640752\n",
      "====> Test set loss: 1.0075\n",
      "Train Epoch: 93 [0/60000 (0%)]\tLoss: 98.465117\n",
      "====> Test set loss: 1.0556\n",
      "Train Epoch: 94 [0/60000 (0%)]\tLoss: 88.789414\n",
      "====> Test set loss: 1.0277\n",
      "Train Epoch: 95 [0/60000 (0%)]\tLoss: 94.413281\n",
      "====> Test set loss: 1.0107\n",
      "Train Epoch: 96 [0/60000 (0%)]\tLoss: 95.698906\n",
      "====> Test set loss: 1.0057\n",
      "Train Epoch: 97 [0/60000 (0%)]\tLoss: 93.826865\n",
      "====> Test set loss: 1.0484\n",
      "Train Epoch: 98 [0/60000 (0%)]\tLoss: 95.583574\n",
      "====> Test set loss: 1.0772\n",
      "Train Epoch: 99 [0/60000 (0%)]\tLoss: 96.504707\n",
      "====> Test set loss: 0.9746\n",
      "Train Epoch: 100 [0/60000 (0%)]\tLoss: 94.784775\n",
      "====> Test set loss: 0.9898\n",
      "Train Epoch: 101 [0/60000 (0%)]\tLoss: 89.427510\n",
      "====> Test set loss: 1.1331\n",
      "Train Epoch: 102 [0/60000 (0%)]\tLoss: 97.394941\n",
      "====> Test set loss: 1.0164\n",
      "Train Epoch: 103 [0/60000 (0%)]\tLoss: 93.675166\n",
      "====> Test set loss: 1.0104\n",
      "Train Epoch: 104 [0/60000 (0%)]\tLoss: 98.878418\n",
      "====> Test set loss: 1.0352\n",
      "Train Epoch: 105 [0/60000 (0%)]\tLoss: 100.929863\n",
      "====> Test set loss: 1.0011\n",
      "Train Epoch: 106 [0/60000 (0%)]\tLoss: 97.402988\n",
      "====> Test set loss: 1.0756\n",
      "Train Epoch: 107 [0/60000 (0%)]\tLoss: 97.400098\n",
      "====> Test set loss: 0.9044\n",
      "Train Epoch: 108 [0/60000 (0%)]\tLoss: 103.337207\n",
      "====> Test set loss: 1.0472\n",
      "Train Epoch: 109 [0/60000 (0%)]\tLoss: 94.219453\n",
      "====> Test set loss: 1.0314\n",
      "Train Epoch: 110 [0/60000 (0%)]\tLoss: 98.550195\n",
      "====> Test set loss: 1.0396\n",
      "Train Epoch: 111 [0/60000 (0%)]\tLoss: 92.368975\n",
      "====> Test set loss: 1.0292\n",
      "Train Epoch: 112 [0/60000 (0%)]\tLoss: 94.161387\n",
      "====> Test set loss: 0.9908\n",
      "Train Epoch: 113 [0/60000 (0%)]\tLoss: 95.079395\n",
      "====> Test set loss: 1.0959\n",
      "Train Epoch: 114 [0/60000 (0%)]\tLoss: 93.335137\n",
      "====> Test set loss: 1.0262\n",
      "Train Epoch: 115 [0/60000 (0%)]\tLoss: 98.648945\n",
      "====> Test set loss: 1.0643\n",
      "Train Epoch: 116 [0/60000 (0%)]\tLoss: 92.400762\n",
      "====> Test set loss: 1.0352\n",
      "Train Epoch: 117 [0/60000 (0%)]\tLoss: 100.236338\n",
      "====> Test set loss: 1.0557\n",
      "Train Epoch: 118 [0/60000 (0%)]\tLoss: 94.887041\n",
      "====> Test set loss: 1.0224\n",
      "Train Epoch: 119 [0/60000 (0%)]\tLoss: 95.937490\n",
      "====> Test set loss: 0.9752\n",
      "Train Epoch: 120 [0/60000 (0%)]\tLoss: 102.374111\n",
      "====> Test set loss: 1.0245\n",
      "Train Epoch: 121 [0/60000 (0%)]\tLoss: 95.929248\n",
      "====> Test set loss: 1.0673\n",
      "Train Epoch: 122 [0/60000 (0%)]\tLoss: 96.742168\n",
      "====> Test set loss: 0.9973\n",
      "Train Epoch: 123 [0/60000 (0%)]\tLoss: 92.957598\n",
      "====> Test set loss: 1.0317\n",
      "Train Epoch: 124 [0/60000 (0%)]\tLoss: 96.910801\n",
      "====> Test set loss: 1.1088\n",
      "Train Epoch: 125 [0/60000 (0%)]\tLoss: 98.854629\n",
      "====> Test set loss: 0.9823\n",
      "Train Epoch: 126 [0/60000 (0%)]\tLoss: 96.575811\n",
      "====> Test set loss: 1.0626\n",
      "Train Epoch: 127 [0/60000 (0%)]\tLoss: 91.446641\n",
      "====> Test set loss: 1.0182\n",
      "Train Epoch: 128 [0/60000 (0%)]\tLoss: 94.032539\n",
      "====> Test set loss: 1.0773\n",
      "Train Epoch: 129 [0/60000 (0%)]\tLoss: 98.024336\n",
      "====> Test set loss: 1.0774\n",
      "Train Epoch: 130 [0/60000 (0%)]\tLoss: 96.069023\n",
      "====> Test set loss: 1.0906\n",
      "Train Epoch: 131 [0/60000 (0%)]\tLoss: 93.382539\n",
      "====> Test set loss: 1.0407\n",
      "Train Epoch: 132 [0/60000 (0%)]\tLoss: 97.723379\n",
      "====> Test set loss: 1.0270\n",
      "Train Epoch: 133 [0/60000 (0%)]\tLoss: 98.977383\n",
      "====> Test set loss: 1.0144\n",
      "Train Epoch: 134 [0/60000 (0%)]\tLoss: 92.345449\n",
      "====> Test set loss: 1.0009\n",
      "Train Epoch: 135 [0/60000 (0%)]\tLoss: 95.022783\n",
      "====> Test set loss: 1.0375\n",
      "Train Epoch: 136 [0/60000 (0%)]\tLoss: 101.966426\n",
      "====> Test set loss: 1.0654\n",
      "Train Epoch: 137 [0/60000 (0%)]\tLoss: 98.787939\n",
      "====> Test set loss: 1.0074\n",
      "Train Epoch: 138 [0/60000 (0%)]\tLoss: 90.612207\n",
      "====> Test set loss: 1.0939\n",
      "Train Epoch: 139 [0/60000 (0%)]\tLoss: 90.179453\n",
      "====> Test set loss: 1.0101\n",
      "Train Epoch: 140 [0/60000 (0%)]\tLoss: 96.639971\n",
      "====> Test set loss: 1.0790\n",
      "Train Epoch: 141 [0/60000 (0%)]\tLoss: 97.997998\n",
      "====> Test set loss: 1.0202\n",
      "Train Epoch: 142 [0/60000 (0%)]\tLoss: 92.107012\n",
      "====> Test set loss: 1.0364\n",
      "Train Epoch: 143 [0/60000 (0%)]\tLoss: 96.134463\n",
      "====> Test set loss: 1.0013\n",
      "Train Epoch: 144 [0/60000 (0%)]\tLoss: 91.812119\n",
      "====> Test set loss: 1.0233\n",
      "Train Epoch: 145 [0/60000 (0%)]\tLoss: 95.122549\n",
      "====> Test set loss: 1.0346\n",
      "Train Epoch: 146 [0/60000 (0%)]\tLoss: 94.068809\n",
      "====> Test set loss: 1.0336\n",
      "Train Epoch: 147 [0/60000 (0%)]\tLoss: 96.305801\n",
      "====> Test set loss: 1.0900\n",
      "Train Epoch: 148 [0/60000 (0%)]\tLoss: 93.200283\n",
      "====> Test set loss: 0.9794\n",
      "Train Epoch: 149 [0/60000 (0%)]\tLoss: 94.968945\n",
      "====> Test set loss: 1.0266\n",
      "Train Epoch: 150 [0/60000 (0%)]\tLoss: 95.825937\n",
      "====> Test set loss: 1.0445\n",
      "Train Epoch: 151 [0/60000 (0%)]\tLoss: 97.204268\n",
      "====> Test set loss: 1.0923\n",
      "Train Epoch: 152 [0/60000 (0%)]\tLoss: 97.192998\n",
      "====> Test set loss: 1.0259\n",
      "Train Epoch: 153 [0/60000 (0%)]\tLoss: 93.630645\n",
      "====> Test set loss: 1.0159\n",
      "Train Epoch: 154 [0/60000 (0%)]\tLoss: 93.762832\n",
      "====> Test set loss: 0.9877\n",
      "Train Epoch: 155 [0/60000 (0%)]\tLoss: 96.432930\n",
      "====> Test set loss: 0.9983\n",
      "Train Epoch: 156 [0/60000 (0%)]\tLoss: 92.672773\n",
      "====> Test set loss: 1.0541\n",
      "Train Epoch: 157 [0/60000 (0%)]\tLoss: 96.916602\n",
      "====> Test set loss: 1.0689\n",
      "Train Epoch: 158 [0/60000 (0%)]\tLoss: 95.476846\n",
      "====> Test set loss: 1.0258\n",
      "Train Epoch: 159 [0/60000 (0%)]\tLoss: 96.007383\n",
      "====> Test set loss: 1.0816\n",
      "Train Epoch: 160 [0/60000 (0%)]\tLoss: 93.601895\n",
      "====> Test set loss: 1.0515\n",
      "Train Epoch: 161 [0/60000 (0%)]\tLoss: 99.372168\n",
      "====> Test set loss: 0.9629\n",
      "Train Epoch: 162 [0/60000 (0%)]\tLoss: 93.968105\n",
      "====> Test set loss: 1.0262\n",
      "Train Epoch: 163 [0/60000 (0%)]\tLoss: 93.537490\n",
      "====> Test set loss: 0.9488\n",
      "Train Epoch: 164 [0/60000 (0%)]\tLoss: 96.976660\n",
      "====> Test set loss: 0.9967\n",
      "Train Epoch: 165 [0/60000 (0%)]\tLoss: 90.401641\n",
      "====> Test set loss: 1.0043\n",
      "Train Epoch: 166 [0/60000 (0%)]\tLoss: 96.970537\n",
      "====> Test set loss: 1.0666\n",
      "Train Epoch: 167 [0/60000 (0%)]\tLoss: 94.180186\n",
      "====> Test set loss: 1.0481\n",
      "Train Epoch: 168 [0/60000 (0%)]\tLoss: 98.601895\n",
      "====> Test set loss: 1.0422\n",
      "Train Epoch: 169 [0/60000 (0%)]\tLoss: 92.974424\n",
      "====> Test set loss: 1.0368\n",
      "Train Epoch: 170 [0/60000 (0%)]\tLoss: 95.930273\n",
      "====> Test set loss: 1.0176\n",
      "Train Epoch: 171 [0/60000 (0%)]\tLoss: 91.938916\n",
      "====> Test set loss: 1.0784\n",
      "Train Epoch: 172 [0/60000 (0%)]\tLoss: 94.893691\n",
      "====> Test set loss: 1.0044\n",
      "Train Epoch: 173 [0/60000 (0%)]\tLoss: 95.019707\n",
      "====> Test set loss: 0.9910\n",
      "Train Epoch: 174 [0/60000 (0%)]\tLoss: 93.517432\n",
      "====> Test set loss: 1.0019\n",
      "Train Epoch: 175 [0/60000 (0%)]\tLoss: 95.202480\n",
      "====> Test set loss: 1.0240\n",
      "Train Epoch: 176 [0/60000 (0%)]\tLoss: 92.792549\n",
      "====> Test set loss: 0.9755\n",
      "Train Epoch: 177 [0/60000 (0%)]\tLoss: 96.565488\n",
      "====> Test set loss: 1.0195\n",
      "Train Epoch: 178 [0/60000 (0%)]\tLoss: 89.453057\n",
      "====> Test set loss: 1.0511\n",
      "Train Epoch: 179 [0/60000 (0%)]\tLoss: 95.058818\n",
      "====> Test set loss: 1.0116\n",
      "Train Epoch: 180 [0/60000 (0%)]\tLoss: 96.807432\n",
      "====> Test set loss: 1.0986\n",
      "Train Epoch: 181 [0/60000 (0%)]\tLoss: 92.778105\n",
      "====> Test set loss: 1.0367\n",
      "Train Epoch: 182 [0/60000 (0%)]\tLoss: 92.725410\n",
      "====> Test set loss: 1.0351\n",
      "Train Epoch: 183 [0/60000 (0%)]\tLoss: 93.660059\n",
      "====> Test set loss: 1.0230\n",
      "Train Epoch: 184 [0/60000 (0%)]\tLoss: 95.886074\n",
      "====> Test set loss: 0.9752\n",
      "Train Epoch: 185 [0/60000 (0%)]\tLoss: 94.452949\n",
      "====> Test set loss: 1.0407\n",
      "Train Epoch: 186 [0/60000 (0%)]\tLoss: 95.971875\n",
      "====> Test set loss: 1.0219\n",
      "Train Epoch: 187 [0/60000 (0%)]\tLoss: 92.347305\n",
      "====> Test set loss: 1.0388\n",
      "Train Epoch: 188 [0/60000 (0%)]\tLoss: 92.866328\n",
      "====> Test set loss: 1.0881\n",
      "Train Epoch: 189 [0/60000 (0%)]\tLoss: 88.980811\n",
      "====> Test set loss: 1.0484\n",
      "Train Epoch: 190 [0/60000 (0%)]\tLoss: 93.439268\n",
      "====> Test set loss: 1.0119\n",
      "Train Epoch: 191 [0/60000 (0%)]\tLoss: 91.688223\n",
      "====> Test set loss: 1.0718\n",
      "Train Epoch: 192 [0/60000 (0%)]\tLoss: 94.742148\n",
      "====> Test set loss: 1.0574\n",
      "Train Epoch: 193 [0/60000 (0%)]\tLoss: 92.661162\n",
      "====> Test set loss: 1.0610\n",
      "Train Epoch: 194 [0/60000 (0%)]\tLoss: 91.891182\n",
      "====> Test set loss: 1.0837\n",
      "Train Epoch: 195 [0/60000 (0%)]\tLoss: 94.785352\n",
      "====> Test set loss: 1.0851\n",
      "Train Epoch: 196 [0/60000 (0%)]\tLoss: 95.448418\n",
      "====> Test set loss: 1.0973\n",
      "Train Epoch: 197 [0/60000 (0%)]\tLoss: 99.525684\n",
      "====> Test set loss: 1.0295\n",
      "Train Epoch: 198 [0/60000 (0%)]\tLoss: 97.495430\n",
      "====> Test set loss: 0.9784\n",
      "Train Epoch: 199 [0/60000 (0%)]\tLoss: 93.935234\n",
      "====> Test set loss: 0.9657\n",
      "Train Epoch: 200 [0/60000 (0%)]\tLoss: 93.122119\n",
      "====> Test set loss: 0.9807\n",
      "Train Epoch: 201 [0/60000 (0%)]\tLoss: 93.377949\n",
      "====> Test set loss: 1.0268\n",
      "Train Epoch: 202 [0/60000 (0%)]\tLoss: 91.358701\n",
      "====> Test set loss: 1.0173\n",
      "Train Epoch: 203 [0/60000 (0%)]\tLoss: 95.744268\n",
      "====> Test set loss: 1.0686\n",
      "Train Epoch: 204 [0/60000 (0%)]\tLoss: 94.363350\n",
      "====> Test set loss: 1.0023\n",
      "Train Epoch: 205 [0/60000 (0%)]\tLoss: 94.925039\n",
      "====> Test set loss: 1.0393\n",
      "Train Epoch: 206 [0/60000 (0%)]\tLoss: 91.556934\n",
      "====> Test set loss: 1.0091\n",
      "Train Epoch: 207 [0/60000 (0%)]\tLoss: 97.590967\n",
      "====> Test set loss: 0.9622\n",
      "Train Epoch: 208 [0/60000 (0%)]\tLoss: 88.964707\n",
      "====> Test set loss: 1.0335\n",
      "Train Epoch: 209 [0/60000 (0%)]\tLoss: 92.992656\n",
      "====> Test set loss: 1.1092\n",
      "Train Epoch: 210 [0/60000 (0%)]\tLoss: 94.856660\n",
      "====> Test set loss: 1.0593\n",
      "Train Epoch: 211 [0/60000 (0%)]\tLoss: 93.530557\n",
      "====> Test set loss: 1.0426\n",
      "Train Epoch: 212 [0/60000 (0%)]\tLoss: 96.329531\n",
      "====> Test set loss: 1.0547\n",
      "Train Epoch: 213 [0/60000 (0%)]\tLoss: 92.547021\n",
      "====> Test set loss: 1.0158\n",
      "Train Epoch: 214 [0/60000 (0%)]\tLoss: 91.825244\n",
      "====> Test set loss: 0.9699\n",
      "Train Epoch: 215 [0/60000 (0%)]\tLoss: 96.438477\n",
      "====> Test set loss: 1.1012\n",
      "Train Epoch: 216 [0/60000 (0%)]\tLoss: 93.114453\n",
      "====> Test set loss: 1.0547\n",
      "Train Epoch: 217 [0/60000 (0%)]\tLoss: 95.141963\n",
      "====> Test set loss: 1.1045\n",
      "Train Epoch: 218 [0/60000 (0%)]\tLoss: 95.162295\n",
      "====> Test set loss: 1.0215\n",
      "Train Epoch: 219 [0/60000 (0%)]\tLoss: 95.767295\n",
      "====> Test set loss: 1.0209\n",
      "Train Epoch: 220 [0/60000 (0%)]\tLoss: 99.323711\n",
      "====> Test set loss: 1.0186\n",
      "Train Epoch: 221 [0/60000 (0%)]\tLoss: 96.090146\n",
      "====> Test set loss: 1.0490\n",
      "Train Epoch: 222 [0/60000 (0%)]\tLoss: 95.048896\n",
      "====> Test set loss: 1.0270\n",
      "Train Epoch: 223 [0/60000 (0%)]\tLoss: 95.318057\n",
      "====> Test set loss: 1.0607\n",
      "Train Epoch: 224 [0/60000 (0%)]\tLoss: 93.919004\n",
      "====> Test set loss: 0.9779\n",
      "Train Epoch: 225 [0/60000 (0%)]\tLoss: 90.851621\n",
      "====> Test set loss: 1.0118\n",
      "Train Epoch: 226 [0/60000 (0%)]\tLoss: 91.593564\n",
      "====> Test set loss: 1.0594\n",
      "Train Epoch: 227 [0/60000 (0%)]\tLoss: 92.958145\n",
      "====> Test set loss: 0.9734\n",
      "Train Epoch: 228 [0/60000 (0%)]\tLoss: 95.497021\n",
      "====> Test set loss: 1.0058\n",
      "Train Epoch: 229 [0/60000 (0%)]\tLoss: 94.640283\n",
      "====> Test set loss: 0.9705\n",
      "Train Epoch: 230 [0/60000 (0%)]\tLoss: 89.928857\n",
      "====> Test set loss: 1.0144\n",
      "Train Epoch: 231 [0/60000 (0%)]\tLoss: 89.443623\n",
      "====> Test set loss: 1.0041\n",
      "Train Epoch: 232 [0/60000 (0%)]\tLoss: 95.296855\n",
      "====> Test set loss: 1.0248\n",
      "Train Epoch: 233 [0/60000 (0%)]\tLoss: 94.500820\n",
      "====> Test set loss: 1.0739\n",
      "Train Epoch: 234 [0/60000 (0%)]\tLoss: 89.854043\n",
      "====> Test set loss: 0.9881\n",
      "Train Epoch: 235 [0/60000 (0%)]\tLoss: 96.347285\n",
      "====> Test set loss: 0.9744\n",
      "Train Epoch: 236 [0/60000 (0%)]\tLoss: 95.192334\n",
      "====> Test set loss: 1.0230\n",
      "Train Epoch: 237 [0/60000 (0%)]\tLoss: 94.425918\n",
      "====> Test set loss: 1.0029\n",
      "Train Epoch: 238 [0/60000 (0%)]\tLoss: 92.508223\n",
      "====> Test set loss: 1.0361\n",
      "Train Epoch: 239 [0/60000 (0%)]\tLoss: 93.422891\n",
      "====> Test set loss: 1.0508\n",
      "Train Epoch: 240 [0/60000 (0%)]\tLoss: 88.567480\n",
      "====> Test set loss: 1.0805\n",
      "Train Epoch: 241 [0/60000 (0%)]\tLoss: 93.039316\n",
      "====> Test set loss: 1.0292\n",
      "Train Epoch: 242 [0/60000 (0%)]\tLoss: 91.464600\n",
      "====> Test set loss: 1.0054\n",
      "Train Epoch: 243 [0/60000 (0%)]\tLoss: 91.297832\n",
      "====> Test set loss: 1.0385\n",
      "Train Epoch: 244 [0/60000 (0%)]\tLoss: 93.020352\n",
      "====> Test set loss: 1.0877\n",
      "Train Epoch: 245 [0/60000 (0%)]\tLoss: 92.101641\n",
      "====> Test set loss: 1.0235\n",
      "Train Epoch: 246 [0/60000 (0%)]\tLoss: 95.833877\n",
      "====> Test set loss: 1.0603\n",
      "Train Epoch: 247 [0/60000 (0%)]\tLoss: 91.172861\n",
      "====> Test set loss: 1.0035\n",
      "Train Epoch: 248 [0/60000 (0%)]\tLoss: 93.457285\n",
      "====> Test set loss: 1.0443\n",
      "Train Epoch: 249 [0/60000 (0%)]\tLoss: 93.086689\n",
      "====> Test set loss: 1.0030\n",
      "Train Epoch: 250 [0/60000 (0%)]\tLoss: 92.053379\n",
      "====> Test set loss: 1.0343\n",
      "Train Epoch: 251 [0/60000 (0%)]\tLoss: 97.776699\n",
      "====> Test set loss: 1.0033\n",
      "Train Epoch: 252 [0/60000 (0%)]\tLoss: 92.804941\n",
      "====> Test set loss: 1.0561\n",
      "Train Epoch: 253 [0/60000 (0%)]\tLoss: 95.952148\n",
      "====> Test set loss: 1.0597\n",
      "Train Epoch: 254 [0/60000 (0%)]\tLoss: 95.093242\n",
      "====> Test set loss: 1.0408\n",
      "Train Epoch: 255 [0/60000 (0%)]\tLoss: 95.037285\n",
      "====> Test set loss: 1.0265\n",
      "Train Epoch: 256 [0/60000 (0%)]\tLoss: 93.954434\n",
      "====> Test set loss: 1.0471\n",
      "Train Epoch: 257 [0/60000 (0%)]\tLoss: 95.099600\n",
      "====> Test set loss: 1.0677\n",
      "Train Epoch: 258 [0/60000 (0%)]\tLoss: 95.834668\n",
      "====> Test set loss: 1.0271\n",
      "Train Epoch: 259 [0/60000 (0%)]\tLoss: 93.199893\n",
      "====> Test set loss: 0.9624\n",
      "Train Epoch: 260 [0/60000 (0%)]\tLoss: 91.872607\n",
      "====> Test set loss: 1.0808\n",
      "Train Epoch: 261 [0/60000 (0%)]\tLoss: 93.602930\n",
      "====> Test set loss: 1.1205\n",
      "Train Epoch: 262 [0/60000 (0%)]\tLoss: 93.348730\n",
      "====> Test set loss: 1.0153\n",
      "Train Epoch: 263 [0/60000 (0%)]\tLoss: 92.416553\n",
      "====> Test set loss: 1.0471\n",
      "Train Epoch: 264 [0/60000 (0%)]\tLoss: 89.570947\n",
      "====> Test set loss: 0.9981\n",
      "Train Epoch: 265 [0/60000 (0%)]\tLoss: 92.911045\n",
      "====> Test set loss: 0.9790\n",
      "Train Epoch: 266 [0/60000 (0%)]\tLoss: 93.953516\n",
      "====> Test set loss: 1.0522\n",
      "Train Epoch: 267 [0/60000 (0%)]\tLoss: 95.152324\n",
      "====> Test set loss: 1.0244\n",
      "Train Epoch: 268 [0/60000 (0%)]\tLoss: 89.386582\n",
      "====> Test set loss: 1.0248\n",
      "Train Epoch: 269 [0/60000 (0%)]\tLoss: 90.487305\n",
      "====> Test set loss: 0.9731\n",
      "Train Epoch: 270 [0/60000 (0%)]\tLoss: 94.838057\n",
      "====> Test set loss: 0.9402\n",
      "Train Epoch: 271 [0/60000 (0%)]\tLoss: 93.796914\n",
      "====> Test set loss: 1.0687\n",
      "Train Epoch: 272 [0/60000 (0%)]\tLoss: 94.219512\n",
      "====> Test set loss: 1.0322\n",
      "Train Epoch: 273 [0/60000 (0%)]\tLoss: 94.224277\n",
      "====> Test set loss: 0.9952\n",
      "Train Epoch: 274 [0/60000 (0%)]\tLoss: 93.266719\n",
      "====> Test set loss: 0.9702\n",
      "Train Epoch: 275 [0/60000 (0%)]\tLoss: 94.549814\n",
      "====> Test set loss: 1.0779\n",
      "Train Epoch: 276 [0/60000 (0%)]\tLoss: 92.932109\n",
      "====> Test set loss: 1.0575\n",
      "Train Epoch: 277 [0/60000 (0%)]\tLoss: 92.351152\n",
      "====> Test set loss: 1.0353\n",
      "Train Epoch: 278 [0/60000 (0%)]\tLoss: 94.916865\n",
      "====> Test set loss: 1.0718\n",
      "Train Epoch: 279 [0/60000 (0%)]\tLoss: 94.573066\n",
      "====> Test set loss: 1.0640\n",
      "Train Epoch: 280 [0/60000 (0%)]\tLoss: 91.241738\n",
      "====> Test set loss: 1.0201\n",
      "Train Epoch: 281 [0/60000 (0%)]\tLoss: 91.377891\n",
      "====> Test set loss: 1.0200\n",
      "Train Epoch: 282 [0/60000 (0%)]\tLoss: 93.186768\n",
      "====> Test set loss: 0.9986\n",
      "Train Epoch: 283 [0/60000 (0%)]\tLoss: 92.115508\n",
      "====> Test set loss: 1.0114\n",
      "Train Epoch: 284 [0/60000 (0%)]\tLoss: 96.538125\n",
      "====> Test set loss: 1.0000\n",
      "Train Epoch: 285 [0/60000 (0%)]\tLoss: 87.673789\n",
      "====> Test set loss: 0.9797\n",
      "Train Epoch: 286 [0/60000 (0%)]\tLoss: 89.472617\n",
      "====> Test set loss: 1.0211\n",
      "Train Epoch: 287 [0/60000 (0%)]\tLoss: 95.238301\n",
      "====> Test set loss: 1.0432\n",
      "Train Epoch: 288 [0/60000 (0%)]\tLoss: 90.398174\n",
      "====> Test set loss: 1.0326\n",
      "Train Epoch: 289 [0/60000 (0%)]\tLoss: 94.781807\n",
      "====> Test set loss: 0.9986\n",
      "Train Epoch: 290 [0/60000 (0%)]\tLoss: 94.583828\n",
      "====> Test set loss: 1.0133\n",
      "Train Epoch: 291 [0/60000 (0%)]\tLoss: 91.168418\n",
      "====> Test set loss: 1.0145\n",
      "Train Epoch: 292 [0/60000 (0%)]\tLoss: 88.947275\n",
      "====> Test set loss: 1.0204\n",
      "Train Epoch: 293 [0/60000 (0%)]\tLoss: 92.785381\n",
      "====> Test set loss: 1.0783\n",
      "Train Epoch: 294 [0/60000 (0%)]\tLoss: 92.848584\n",
      "====> Test set loss: 1.0165\n",
      "Train Epoch: 295 [0/60000 (0%)]\tLoss: 97.688135\n",
      "====> Test set loss: 1.0209\n",
      "Train Epoch: 296 [0/60000 (0%)]\tLoss: 89.852695\n",
      "====> Test set loss: 1.0863\n",
      "Train Epoch: 297 [0/60000 (0%)]\tLoss: 96.625039\n",
      "====> Test set loss: 1.0431\n",
      "Train Epoch: 298 [0/60000 (0%)]\tLoss: 92.703057\n",
      "====> Test set loss: 0.9986\n",
      "Train Epoch: 299 [0/60000 (0%)]\tLoss: 94.484951\n",
      "====> Test set loss: 1.0498\n",
      "Train Epoch: 300 [0/60000 (0%)]\tLoss: 92.227568\n",
      "====> Test set loss: 0.9885\n",
      "Train Epoch: 301 [0/60000 (0%)]\tLoss: 83.004395\n",
      "====> Test set loss: 1.1164\n",
      "Train Epoch: 302 [0/60000 (0%)]\tLoss: 90.885537\n",
      "====> Test set loss: 1.0446\n",
      "Train Epoch: 303 [0/60000 (0%)]\tLoss: 92.479404\n",
      "====> Test set loss: 0.9988\n",
      "Train Epoch: 304 [0/60000 (0%)]\tLoss: 93.698252\n",
      "====> Test set loss: 1.0536\n",
      "Train Epoch: 305 [0/60000 (0%)]\tLoss: 92.547412\n",
      "====> Test set loss: 1.0615\n",
      "Train Epoch: 306 [0/60000 (0%)]\tLoss: 95.383359\n",
      "====> Test set loss: 0.9869\n",
      "Train Epoch: 307 [0/60000 (0%)]\tLoss: 88.704922\n",
      "====> Test set loss: 0.9644\n",
      "Train Epoch: 308 [0/60000 (0%)]\tLoss: 93.064375\n",
      "====> Test set loss: 1.0354\n",
      "Train Epoch: 309 [0/60000 (0%)]\tLoss: 92.349561\n",
      "====> Test set loss: 1.0099\n",
      "Train Epoch: 310 [0/60000 (0%)]\tLoss: 87.377285\n",
      "====> Test set loss: 1.0684\n",
      "Train Epoch: 311 [0/60000 (0%)]\tLoss: 90.164590\n",
      "====> Test set loss: 1.0131\n",
      "Train Epoch: 312 [0/60000 (0%)]\tLoss: 88.946016\n",
      "====> Test set loss: 0.9620\n",
      "Train Epoch: 313 [0/60000 (0%)]\tLoss: 91.784590\n",
      "====> Test set loss: 1.0315\n",
      "Train Epoch: 314 [0/60000 (0%)]\tLoss: 96.332783\n",
      "====> Test set loss: 0.9859\n",
      "Train Epoch: 315 [0/60000 (0%)]\tLoss: 92.745371\n",
      "====> Test set loss: 0.9822\n",
      "Train Epoch: 316 [0/60000 (0%)]\tLoss: 91.568828\n",
      "====> Test set loss: 1.0259\n",
      "Train Epoch: 317 [0/60000 (0%)]\tLoss: 94.881426\n",
      "====> Test set loss: 0.9979\n",
      "Train Epoch: 318 [0/60000 (0%)]\tLoss: 91.690820\n",
      "====> Test set loss: 1.0432\n",
      "Train Epoch: 319 [0/60000 (0%)]\tLoss: 92.981338\n",
      "====> Test set loss: 1.0434\n",
      "Train Epoch: 320 [0/60000 (0%)]\tLoss: 89.025977\n",
      "====> Test set loss: 1.0235\n",
      "Train Epoch: 321 [0/60000 (0%)]\tLoss: 92.356729\n",
      "====> Test set loss: 1.0620\n",
      "Train Epoch: 322 [0/60000 (0%)]\tLoss: 95.147256\n",
      "====> Test set loss: 1.0403\n",
      "Train Epoch: 323 [0/60000 (0%)]\tLoss: 94.425801\n",
      "====> Test set loss: 1.0290\n",
      "Train Epoch: 324 [0/60000 (0%)]\tLoss: 95.948604\n",
      "====> Test set loss: 1.0668\n",
      "Train Epoch: 325 [0/60000 (0%)]\tLoss: 89.713066\n",
      "====> Test set loss: 1.0406\n",
      "Train Epoch: 326 [0/60000 (0%)]\tLoss: 93.708965\n",
      "====> Test set loss: 1.0301\n",
      "Train Epoch: 327 [0/60000 (0%)]\tLoss: 87.620166\n",
      "====> Test set loss: 1.1239\n",
      "Train Epoch: 328 [0/60000 (0%)]\tLoss: 93.373154\n",
      "====> Test set loss: 0.9740\n",
      "Train Epoch: 329 [0/60000 (0%)]\tLoss: 91.199219\n",
      "====> Test set loss: 1.0464\n",
      "Train Epoch: 330 [0/60000 (0%)]\tLoss: 95.282891\n",
      "====> Test set loss: 1.0495\n",
      "Train Epoch: 331 [0/60000 (0%)]\tLoss: 92.011328\n",
      "====> Test set loss: 1.0797\n",
      "Train Epoch: 332 [0/60000 (0%)]\tLoss: 92.482773\n",
      "====> Test set loss: 1.0137\n",
      "Train Epoch: 333 [0/60000 (0%)]\tLoss: 95.011602\n",
      "====> Test set loss: 0.9783\n",
      "Train Epoch: 334 [0/60000 (0%)]\tLoss: 91.465332\n",
      "====> Test set loss: 1.0552\n",
      "Train Epoch: 335 [0/60000 (0%)]\tLoss: 94.911963\n",
      "====> Test set loss: 0.9781\n",
      "Train Epoch: 336 [0/60000 (0%)]\tLoss: 95.460908\n",
      "====> Test set loss: 0.9654\n",
      "Train Epoch: 337 [0/60000 (0%)]\tLoss: 93.971152\n",
      "====> Test set loss: 1.0236\n",
      "Train Epoch: 338 [0/60000 (0%)]\tLoss: 92.365361\n",
      "====> Test set loss: 1.0271\n",
      "Train Epoch: 339 [0/60000 (0%)]\tLoss: 88.699717\n",
      "====> Test set loss: 0.9775\n",
      "Train Epoch: 340 [0/60000 (0%)]\tLoss: 91.630244\n",
      "====> Test set loss: 1.0451\n",
      "Train Epoch: 341 [0/60000 (0%)]\tLoss: 90.374941\n",
      "====> Test set loss: 0.9732\n",
      "Train Epoch: 342 [0/60000 (0%)]\tLoss: 90.630615\n",
      "====> Test set loss: 0.9778\n",
      "Train Epoch: 343 [0/60000 (0%)]\tLoss: 94.442637\n",
      "====> Test set loss: 0.9809\n",
      "Train Epoch: 344 [0/60000 (0%)]\tLoss: 92.373320\n",
      "====> Test set loss: 1.0451\n",
      "Train Epoch: 345 [0/60000 (0%)]\tLoss: 96.098193\n",
      "====> Test set loss: 0.9972\n",
      "Train Epoch: 346 [0/60000 (0%)]\tLoss: 90.898633\n",
      "====> Test set loss: 0.9843\n",
      "Train Epoch: 347 [0/60000 (0%)]\tLoss: 88.437109\n",
      "====> Test set loss: 1.0363\n",
      "Train Epoch: 348 [0/60000 (0%)]\tLoss: 93.575342\n",
      "====> Test set loss: 1.0430\n",
      "Train Epoch: 349 [0/60000 (0%)]\tLoss: 94.468789\n",
      "====> Test set loss: 1.0836\n",
      "Train Epoch: 350 [0/60000 (0%)]\tLoss: 95.612158\n",
      "====> Test set loss: 1.0260\n",
      "Train Epoch: 351 [0/60000 (0%)]\tLoss: 92.411250\n",
      "====> Test set loss: 1.0105\n",
      "Train Epoch: 352 [0/60000 (0%)]\tLoss: 92.526016\n",
      "====> Test set loss: 1.0174\n",
      "Train Epoch: 353 [0/60000 (0%)]\tLoss: 92.106729\n",
      "====> Test set loss: 1.0725\n",
      "Train Epoch: 354 [0/60000 (0%)]\tLoss: 95.104443\n",
      "====> Test set loss: 1.1156\n",
      "Train Epoch: 355 [0/60000 (0%)]\tLoss: 91.974844\n",
      "====> Test set loss: 0.9983\n",
      "Train Epoch: 356 [0/60000 (0%)]\tLoss: 93.742217\n",
      "====> Test set loss: 1.0675\n",
      "Train Epoch: 357 [0/60000 (0%)]\tLoss: 93.446572\n",
      "====> Test set loss: 1.0397\n",
      "Train Epoch: 358 [0/60000 (0%)]\tLoss: 90.706777\n",
      "====> Test set loss: 1.0187\n",
      "Train Epoch: 359 [0/60000 (0%)]\tLoss: 94.199717\n",
      "====> Test set loss: 1.0499\n",
      "Train Epoch: 360 [0/60000 (0%)]\tLoss: 92.491299\n",
      "====> Test set loss: 1.0142\n",
      "Train Epoch: 361 [0/60000 (0%)]\tLoss: 88.494785\n",
      "====> Test set loss: 1.0249\n",
      "Train Epoch: 362 [0/60000 (0%)]\tLoss: 93.167910\n",
      "====> Test set loss: 1.0896\n",
      "Train Epoch: 363 [0/60000 (0%)]\tLoss: 96.905830\n",
      "====> Test set loss: 1.1123\n",
      "Train Epoch: 364 [0/60000 (0%)]\tLoss: 91.291865\n",
      "====> Test set loss: 1.0496\n",
      "Train Epoch: 365 [0/60000 (0%)]\tLoss: 92.475684\n",
      "====> Test set loss: 1.0078\n",
      "Train Epoch: 366 [0/60000 (0%)]\tLoss: 96.320186\n",
      "====> Test set loss: 0.9785\n",
      "Train Epoch: 367 [0/60000 (0%)]\tLoss: 95.844424\n",
      "====> Test set loss: 0.9893\n",
      "Train Epoch: 368 [0/60000 (0%)]\tLoss: 92.877900\n",
      "====> Test set loss: 1.1288\n",
      "Train Epoch: 369 [0/60000 (0%)]\tLoss: 94.696729\n",
      "====> Test set loss: 1.0569\n",
      "Train Epoch: 370 [0/60000 (0%)]\tLoss: 91.944707\n",
      "====> Test set loss: 1.0093\n",
      "Train Epoch: 371 [0/60000 (0%)]\tLoss: 88.737783\n",
      "====> Test set loss: 1.0102\n",
      "Train Epoch: 372 [0/60000 (0%)]\tLoss: 93.898789\n",
      "====> Test set loss: 0.9920\n",
      "Train Epoch: 373 [0/60000 (0%)]\tLoss: 92.094268\n",
      "====> Test set loss: 0.9834\n",
      "Train Epoch: 374 [0/60000 (0%)]\tLoss: 92.656924\n",
      "====> Test set loss: 1.0552\n",
      "Train Epoch: 375 [0/60000 (0%)]\tLoss: 88.897188\n",
      "====> Test set loss: 1.0121\n",
      "Train Epoch: 376 [0/60000 (0%)]\tLoss: 95.344785\n",
      "====> Test set loss: 1.0146\n",
      "Train Epoch: 377 [0/60000 (0%)]\tLoss: 95.339775\n",
      "====> Test set loss: 0.9871\n",
      "Train Epoch: 378 [0/60000 (0%)]\tLoss: 93.131533\n",
      "====> Test set loss: 1.0286\n",
      "Train Epoch: 379 [0/60000 (0%)]\tLoss: 90.852158\n",
      "====> Test set loss: 1.0185\n",
      "Train Epoch: 380 [0/60000 (0%)]\tLoss: 93.951719\n",
      "====> Test set loss: 1.0199\n",
      "Train Epoch: 381 [0/60000 (0%)]\tLoss: 93.615605\n",
      "====> Test set loss: 1.0492\n",
      "Train Epoch: 382 [0/60000 (0%)]\tLoss: 94.393545\n",
      "====> Test set loss: 0.9730\n",
      "Train Epoch: 383 [0/60000 (0%)]\tLoss: 96.133848\n",
      "====> Test set loss: 0.9972\n",
      "Train Epoch: 384 [0/60000 (0%)]\tLoss: 95.533604\n",
      "====> Test set loss: 0.9766\n",
      "Train Epoch: 385 [0/60000 (0%)]\tLoss: 93.149844\n",
      "====> Test set loss: 1.0294\n",
      "Train Epoch: 386 [0/60000 (0%)]\tLoss: 90.334756\n",
      "====> Test set loss: 1.0380\n",
      "Train Epoch: 387 [0/60000 (0%)]\tLoss: 89.811377\n",
      "====> Test set loss: 1.0159\n",
      "Train Epoch: 388 [0/60000 (0%)]\tLoss: 93.928232\n",
      "====> Test set loss: 0.9902\n",
      "Train Epoch: 389 [0/60000 (0%)]\tLoss: 93.205605\n",
      "====> Test set loss: 1.0567\n",
      "Train Epoch: 390 [0/60000 (0%)]\tLoss: 94.247148\n",
      "====> Test set loss: 1.0223\n",
      "Train Epoch: 391 [0/60000 (0%)]\tLoss: 92.139687\n",
      "====> Test set loss: 0.9923\n",
      "Train Epoch: 392 [0/60000 (0%)]\tLoss: 90.791992\n",
      "====> Test set loss: 1.0417\n",
      "Train Epoch: 393 [0/60000 (0%)]\tLoss: 93.447061\n",
      "====> Test set loss: 1.0216\n",
      "Train Epoch: 394 [0/60000 (0%)]\tLoss: 93.400068\n",
      "====> Test set loss: 0.9702\n",
      "Train Epoch: 395 [0/60000 (0%)]\tLoss: 94.537832\n",
      "====> Test set loss: 1.0884\n",
      "Train Epoch: 396 [0/60000 (0%)]\tLoss: 92.269678\n",
      "====> Test set loss: 1.0667\n",
      "Train Epoch: 397 [0/60000 (0%)]\tLoss: 89.908213\n",
      "====> Test set loss: 1.0102\n",
      "Train Epoch: 398 [0/60000 (0%)]\tLoss: 94.886162\n",
      "====> Test set loss: 1.0521\n",
      "Train Epoch: 399 [0/60000 (0%)]\tLoss: 89.614043\n",
      "====> Test set loss: 1.0494\n",
      "Train Epoch: 400 [0/60000 (0%)]\tLoss: 88.534502\n",
      "====> Test set loss: 0.9708\n",
      "Train Epoch: 401 [0/60000 (0%)]\tLoss: 88.652715\n",
      "====> Test set loss: 0.9924\n",
      "Train Epoch: 402 [0/60000 (0%)]\tLoss: 92.294912\n",
      "====> Test set loss: 1.0931\n",
      "Train Epoch: 403 [0/60000 (0%)]\tLoss: 91.062686\n",
      "====> Test set loss: 1.0755\n",
      "Train Epoch: 404 [0/60000 (0%)]\tLoss: 95.664775\n",
      "====> Test set loss: 1.0122\n",
      "Train Epoch: 405 [0/60000 (0%)]\tLoss: 93.856885\n",
      "====> Test set loss: 1.0539\n",
      "Train Epoch: 406 [0/60000 (0%)]\tLoss: 92.429658\n",
      "====> Test set loss: 1.0609\n",
      "Train Epoch: 407 [0/60000 (0%)]\tLoss: 93.701172\n",
      "====> Test set loss: 1.0547\n",
      "Train Epoch: 408 [0/60000 (0%)]\tLoss: 92.604766\n",
      "====> Test set loss: 1.0106\n",
      "Train Epoch: 409 [0/60000 (0%)]\tLoss: 91.412666\n",
      "====> Test set loss: 0.9802\n",
      "Train Epoch: 410 [0/60000 (0%)]\tLoss: 94.334414\n",
      "====> Test set loss: 1.0270\n",
      "Train Epoch: 411 [0/60000 (0%)]\tLoss: 95.117012\n",
      "====> Test set loss: 1.0103\n",
      "Train Epoch: 412 [0/60000 (0%)]\tLoss: 93.456465\n",
      "====> Test set loss: 0.9812\n",
      "Train Epoch: 413 [0/60000 (0%)]\tLoss: 94.423076\n",
      "====> Test set loss: 1.0217\n",
      "Train Epoch: 414 [0/60000 (0%)]\tLoss: 96.229229\n",
      "====> Test set loss: 0.9804\n",
      "Train Epoch: 415 [0/60000 (0%)]\tLoss: 88.337178\n",
      "====> Test set loss: 1.0407\n",
      "Train Epoch: 416 [0/60000 (0%)]\tLoss: 95.058486\n",
      "====> Test set loss: 1.0418\n",
      "Train Epoch: 417 [0/60000 (0%)]\tLoss: 93.284414\n",
      "====> Test set loss: 1.0700\n",
      "Train Epoch: 418 [0/60000 (0%)]\tLoss: 88.832393\n",
      "====> Test set loss: 0.9802\n",
      "Train Epoch: 419 [0/60000 (0%)]\tLoss: 93.143828\n",
      "====> Test set loss: 1.0265\n",
      "Train Epoch: 420 [0/60000 (0%)]\tLoss: 89.147383\n",
      "====> Test set loss: 1.0168\n",
      "Train Epoch: 421 [0/60000 (0%)]\tLoss: 91.565391\n",
      "====> Test set loss: 1.0098\n",
      "Train Epoch: 422 [0/60000 (0%)]\tLoss: 91.194775\n",
      "====> Test set loss: 1.0595\n",
      "Train Epoch: 423 [0/60000 (0%)]\tLoss: 91.975234\n",
      "====> Test set loss: 1.0121\n",
      "Train Epoch: 424 [0/60000 (0%)]\tLoss: 91.700400\n",
      "====> Test set loss: 1.0520\n",
      "Train Epoch: 425 [0/60000 (0%)]\tLoss: 93.606387\n",
      "====> Test set loss: 1.0204\n",
      "Train Epoch: 426 [0/60000 (0%)]\tLoss: 92.718125\n",
      "====> Test set loss: 1.0113\n",
      "Train Epoch: 427 [0/60000 (0%)]\tLoss: 91.437100\n",
      "====> Test set loss: 1.1405\n",
      "Train Epoch: 428 [0/60000 (0%)]\tLoss: 90.411182\n",
      "====> Test set loss: 0.9913\n",
      "Train Epoch: 429 [0/60000 (0%)]\tLoss: 91.264873\n",
      "====> Test set loss: 1.0316\n",
      "Train Epoch: 430 [0/60000 (0%)]\tLoss: 93.305879\n",
      "====> Test set loss: 1.0424\n",
      "Train Epoch: 431 [0/60000 (0%)]\tLoss: 89.512783\n",
      "====> Test set loss: 1.0351\n",
      "Train Epoch: 432 [0/60000 (0%)]\tLoss: 90.033828\n",
      "====> Test set loss: 1.1221\n",
      "Train Epoch: 433 [0/60000 (0%)]\tLoss: 92.984668\n",
      "====> Test set loss: 1.0443\n",
      "Train Epoch: 434 [0/60000 (0%)]\tLoss: 90.549395\n",
      "====> Test set loss: 1.0475\n",
      "Train Epoch: 435 [0/60000 (0%)]\tLoss: 89.893164\n",
      "====> Test set loss: 1.0471\n",
      "Train Epoch: 436 [0/60000 (0%)]\tLoss: 94.473525\n",
      "====> Test set loss: 1.0141\n",
      "Train Epoch: 437 [0/60000 (0%)]\tLoss: 93.155000\n",
      "====> Test set loss: 1.0234\n",
      "Train Epoch: 438 [0/60000 (0%)]\tLoss: 94.844414\n",
      "====> Test set loss: 1.1465\n",
      "Train Epoch: 439 [0/60000 (0%)]\tLoss: 90.841230\n",
      "====> Test set loss: 0.9984\n",
      "Train Epoch: 440 [0/60000 (0%)]\tLoss: 91.949316\n",
      "====> Test set loss: 1.0803\n",
      "Train Epoch: 441 [0/60000 (0%)]\tLoss: 93.563027\n",
      "====> Test set loss: 1.0766\n",
      "Train Epoch: 442 [0/60000 (0%)]\tLoss: 92.481084\n",
      "====> Test set loss: 0.9916\n",
      "Train Epoch: 443 [0/60000 (0%)]\tLoss: 94.739121\n",
      "====> Test set loss: 1.0596\n",
      "Train Epoch: 444 [0/60000 (0%)]\tLoss: 92.261777\n",
      "====> Test set loss: 1.0779\n",
      "Train Epoch: 445 [0/60000 (0%)]\tLoss: 89.770225\n",
      "====> Test set loss: 1.0178\n",
      "Train Epoch: 446 [0/60000 (0%)]\tLoss: 93.279189\n",
      "====> Test set loss: 0.9740\n",
      "Train Epoch: 447 [0/60000 (0%)]\tLoss: 92.208271\n",
      "====> Test set loss: 1.0279\n",
      "Train Epoch: 448 [0/60000 (0%)]\tLoss: 94.553379\n",
      "====> Test set loss: 1.0601\n",
      "Train Epoch: 449 [0/60000 (0%)]\tLoss: 92.989473\n",
      "====> Test set loss: 0.9967\n",
      "Train Epoch: 450 [0/60000 (0%)]\tLoss: 95.201807\n",
      "====> Test set loss: 0.9778\n",
      "Train Epoch: 451 [0/60000 (0%)]\tLoss: 89.989238\n",
      "====> Test set loss: 1.0654\n",
      "Train Epoch: 452 [0/60000 (0%)]\tLoss: 88.478008\n",
      "====> Test set loss: 1.0264\n",
      "Train Epoch: 453 [0/60000 (0%)]\tLoss: 92.803896\n",
      "====> Test set loss: 1.0289\n",
      "Train Epoch: 454 [0/60000 (0%)]\tLoss: 91.850566\n",
      "====> Test set loss: 1.0193\n",
      "Train Epoch: 455 [0/60000 (0%)]\tLoss: 94.354463\n",
      "====> Test set loss: 1.0287\n",
      "Train Epoch: 456 [0/60000 (0%)]\tLoss: 91.024434\n",
      "====> Test set loss: 1.0305\n",
      "Train Epoch: 457 [0/60000 (0%)]\tLoss: 88.987861\n",
      "====> Test set loss: 1.0214\n",
      "Train Epoch: 458 [0/60000 (0%)]\tLoss: 93.095205\n",
      "====> Test set loss: 1.0494\n",
      "Train Epoch: 459 [0/60000 (0%)]\tLoss: 92.410137\n",
      "====> Test set loss: 0.9819\n",
      "Train Epoch: 460 [0/60000 (0%)]\tLoss: 92.930459\n",
      "====> Test set loss: 1.0125\n",
      "Train Epoch: 461 [0/60000 (0%)]\tLoss: 94.078975\n",
      "====> Test set loss: 0.9844\n",
      "Train Epoch: 462 [0/60000 (0%)]\tLoss: 92.434160\n",
      "====> Test set loss: 1.0738\n",
      "Train Epoch: 463 [0/60000 (0%)]\tLoss: 92.602246\n",
      "====> Test set loss: 1.0401\n",
      "Train Epoch: 464 [0/60000 (0%)]\tLoss: 91.486895\n",
      "====> Test set loss: 0.9905\n",
      "Train Epoch: 465 [0/60000 (0%)]\tLoss: 93.046426\n",
      "====> Test set loss: 0.9757\n",
      "Train Epoch: 466 [0/60000 (0%)]\tLoss: 93.563076\n",
      "====> Test set loss: 1.0370\n",
      "Train Epoch: 467 [0/60000 (0%)]\tLoss: 92.806562\n",
      "====> Test set loss: 1.0217\n",
      "Train Epoch: 468 [0/60000 (0%)]\tLoss: 91.247822\n",
      "====> Test set loss: 1.1239\n",
      "Train Epoch: 469 [0/60000 (0%)]\tLoss: 92.498213\n",
      "====> Test set loss: 1.0449\n"
     ]
    }
   ],
   "source": [
    "for i in range(470):\n",
    "    #train_c_epoch(epochs=1,mu_c=mu_c_g,logvar_c=logvar_c_g,pi_c=pi_c_g)\n",
    "\n",
    "    train_c(epoch=i)\n",
    "    test_c(epoch=i,mu_c=mu_c_g,logvar_c=logvar_c_g,inv_sm_pi_c=inv_sm_pi_c_g)\n",
    "    scheduler.step()\n",
    "    scheduler_clustering.step()"
   ],
   "metadata": {
    "collapsed": false,
    "pycharm": {
     "name": "#%%\n"
    }
   }
  },
  {
   "cell_type": "code",
   "execution_count": 118,
   "outputs": [],
   "source": [
    "zs_g,ts_g,mus_g,logvars_g = take_latents()\n",
    "points = TSNE(n_components=2,random_state=0).fit_transform(mus_g.view(-1,latent_dim).cpu().detach().numpy())\n",
    "data_points = points[0:take_latent_max*batch_size]\n",
    "center_points = points[take_latent_max*batch_size:]\n",
    "data_labels = ts_g[0:take_latent_max*batch_size].cpu().detach().numpy()\n",
    "center_labels = (-ts_g[take_latent_max*batch_size:]-1).cpu().detach().numpy()"
   ],
   "metadata": {
    "collapsed": false,
    "pycharm": {
     "name": "#%%\n"
    }
   }
  },
  {
   "cell_type": "code",
   "execution_count": 119,
   "outputs": [
    {
     "data": {
      "text/plain": "<Figure size 432x288 with 1 Axes>",
      "image/png": "[encoded data removed]"
     },
     "metadata": {
      "needs_background": "light"
     },
     "output_type": "display_data"
    }
   ],
   "source": [
    "drawpoints_with_centers(data_points,data_labels,center_points,center_labels)"
   ],
   "metadata": {
    "collapsed": false,
    "pycharm": {
     "name": "#%%\n"
    }
   }
  },
  {
   "cell_type": "code",
   "execution_count": 120,
   "outputs": [
    {
     "data": {
      "text/plain": "<Figure size 432x288 with 1 Axes>",
      "image/png": "[encoded data removed]"
     },
     "metadata": {
      "needs_background": "light"
     },
     "output_type": "display_data"
    }
   ],
   "source": [
    "#kmeans_model = KMeans(n_clusters=K_model_cluster, random_state=1).fit(mus_g.view(-1,latent_dim).cpu().detach().numpy())\n",
    "#drawpoints(points,kmeans_model.labels_)\n",
    "kmeans_model = KMeans(n_clusters=K_model_cluster, random_state=1).fit(mus_g.view(-1,latent_dim).cpu().detach().numpy())\n",
    "drawpoints_with_centers(data_points,kmeans_model.labels_[:take_latent_max*batch_size],center_points,center_labels)"
   ],
   "metadata": {
    "collapsed": false,
    "pycharm": {
     "name": "#%%\n"
    }
   }
  },
  {
   "cell_type": "code",
   "execution_count": 121,
   "outputs": [
    {
     "data": {
      "text/plain": "<Figure size 432x288 with 1 Axes>",
      "image/png": "[encoded data removed]"
     },
     "metadata": {
      "needs_background": "light"
     },
     "output_type": "display_data"
    }
   ],
   "source": [
    "#gauss_model = GaussianMixture(n_components=K_model_cluster,covariance_type='diag',random_state=1).fit(mus_g.view(-1,latent_dim).cpu().detach().numpy())\n",
    "#drawpoints(points,gauss_model.predict(mus_g.view(-1,latent_dim).cpu().detach().numpy()))\n",
    "gauss_model = GaussianMixture(n_components=K_model_cluster,covariance_type='diag',random_state=1).fit(mus_g.view(-1,latent_dim).cpu().detach().numpy())\n",
    "drawpoints_with_centers(data_points,gauss_model.predict(mus_g.view(-1,latent_dim).cpu().detach().numpy())[:take_latent_max*batch_size],center_points,center_labels)"
   ],
   "metadata": {
    "collapsed": false,
    "pycharm": {
     "name": "#%%\n"
    }
   }
  },
  {
   "cell_type": "code",
   "execution_count": 122,
   "outputs": [
    {
     "data": {
      "text/plain": "<Figure size 432x288 with 1 Axes>",
      "image/png": "[encoded data removed]"
     },
     "metadata": {
      "needs_background": "light"
     },
     "output_type": "display_data"
    }
   ],
   "source": [
    "\n",
    "_,_,_,_,gamma_c_g,_ = gauss(mus_g[0:batch_size*take_latent_max,:,:],logvars_g,mu_c_g,logvar_c_g,inv_sm_pi_c_g,1)\n",
    "#drawpoints(points[0:batch_size*take_latent_max,:],torch.argmax(gamma_c_g,2).view(-1).cpu().detach().numpy())\n",
    "#_,_,_,_,gamma_c_g,_ = gauss(mus_g[0:batch_size*take_latent_max,:,:],logvars_g,mu_c_g,chol_prec_seed_c_g,inv_sm_pi_c_g,1)\n",
    "drawpoints_with_centers(data_points,torch.argmax(gamma_c_g,2).view(-1).cpu().detach().numpy(),center_points,center_labels)"
   ],
   "metadata": {
    "collapsed": false,
    "pycharm": {
     "name": "#%%\n"
    }
   }
  },
  {
   "cell_type": "code",
   "execution_count": 123,
   "outputs": [],
   "source": [
    "show_generated_samples_c(mu_c_g,logvar_c_g)"
   ],
   "metadata": {
    "collapsed": false,
    "pycharm": {
     "name": "#%%\n"
    }
   }
  },
  {
   "cell_type": "code",
   "execution_count": 124,
   "outputs": [
    {
     "data": {
      "text/plain": "1.030755041464024e-05"
     },
     "execution_count": 124,
     "metadata": {},
     "output_type": "execute_result"
    }
   ],
   "source": [
    "optimizer.param_groups[0]['lr']"
   ],
   "metadata": {
    "collapsed": false,
    "pycharm": {
     "name": "#%%\n"
    }
   }
  },
  {
   "cell_type": "code",
   "execution_count": 125,
   "outputs": [],
   "source": [
    "correspond_matrix = torch.zeros(K_real_cluster,K_model_cluster)\n",
    "\n",
    "for i in range(batch_size*take_latent_max):\n",
    "\n",
    "    for j in range(K_model_cluster):\n",
    "        for k in range(K_real_cluster):\n",
    "            if torch.argmax(gamma_c_g,2)[i,0] == j:\n",
    "                if ts_g[i] == k:\n",
    "                    correspond_matrix[k,j] +=1\n"
   ],
   "metadata": {
    "collapsed": false,
    "pycharm": {
     "name": "#%%\n"
    }
   }
  },
  {
   "cell_type": "code",
   "execution_count": 126,
   "outputs": [
    {
     "data": {
      "text/plain": "tensor([[ 53.,   0.,   0.,   0.,   0.,   0.,   0.,   0.,  33.,   7.],\n        [  0.,  37.,   0.,   0.,   0.,   0.,  88.,   1.,   0.,   0.],\n        [  0.,   0.,   0.,   0.,  95.,   4.,   0.,   0.,   0.,   3.],\n        [  0.,   0.,   1.,   0.,   0., 105.,   0.,   0.,   0.,   0.],\n        [  0.,   0.,   0.,  91.,   0.,   1.,   0.,   1.,   0.,  14.],\n        [  0.,   0.,   0.,   1.,   0., 103.,   0.,   1.,   0.,   2.],\n        [  0.,   0.,   0.,   0.,   1.,   4.,   0.,  70.,   0.,  10.],\n        [  0.,   0.,  80.,   3.,   1.,   0.,   0.,   0.,   0.,   9.],\n        [  0.,   0.,   1.,   2.,   0.,  83.,   0.,   0.,   0.,   3.],\n        [  0.,   0.,   5.,  77.,   0.,   3.,   0.,   0.,   0.,   7.]])"
     },
     "execution_count": 126,
     "metadata": {},
     "output_type": "execute_result"
    }
   ],
   "source": [
    "correspond_matrix"
   ],
   "metadata": {
    "collapsed": false,
    "pycharm": {
     "name": "#%%\n"
    }
   }
  },
  {
   "cell_type": "code",
   "execution_count": 127,
   "outputs": [
    {
     "data": {
      "text/plain": "tensor(1000.)"
     },
     "execution_count": 127,
     "metadata": {},
     "output_type": "execute_result"
    }
   ],
   "source": [
    "correspond_matrix.sum()"
   ],
   "metadata": {
    "collapsed": false,
    "pycharm": {
     "name": "#%%\n"
    }
   }
  },
  {
   "cell_type": "code",
   "execution_count": 128,
   "outputs": [
    {
     "data": {
      "text/plain": "torch.return_types.max(\nvalues=tensor([ 53.,  37.,  80.,  91.,  95., 105.,  88.,  70.,  33.,  14.]),\nindices=tensor([0, 1, 7, 4, 2, 3, 1, 6, 0, 4]))"
     },
     "execution_count": 128,
     "metadata": {},
     "output_type": "execute_result"
    }
   ],
   "source": [
    "torch.max(correspond_matrix,0)"
   ],
   "metadata": {
    "collapsed": false,
    "pycharm": {
     "name": "#%%\n"
    }
   }
  },
  {
   "cell_type": "code",
   "execution_count": 129,
   "outputs": [
    {
     "data": {
      "text/plain": "tensor(0.6660)"
     },
     "execution_count": 129,
     "metadata": {},
     "output_type": "execute_result"
    }
   ],
   "source": [
    "torch.max(correspond_matrix,0).values.sum()/(batch_size*take_latent_max)"
   ],
   "metadata": {
    "collapsed": false,
    "pycharm": {
     "name": "#%%\n"
    }
   }
  },
  {
   "cell_type": "code",
   "execution_count": 130,
   "outputs": [
    {
     "data": {
      "text/plain": "tensor([[[0.0601, 0.0386, 0.1015, 0.1590, 0.1011, 0.2865, 0.0695, 0.0873,\n          0.0339, 0.0627]]], device='cuda:0', grad_fn=<SoftmaxBackward>)"
     },
     "execution_count": 130,
     "metadata": {},
     "output_type": "execute_result"
    }
   ],
   "source": [
    "F.softmax(inv_sm_pi_c_g,dim=2)"
   ],
   "metadata": {
    "collapsed": false,
    "pycharm": {
     "name": "#%%\n"
    }
   }
  },
  {
   "cell_type": "code",
   "execution_count": 131,
   "outputs": [
    {
     "data": {
      "text/plain": "tensor([[[ 4.2756e-02,  1.8344e+00,  7.0663e-01,  1.2605e-01,  2.2102e-01,\n           1.9216e-02,  3.5773e-01, -2.6988e-01,  1.2732e-01, -7.1441e-01],\n         [ 9.3776e-01, -7.1341e-02,  1.1705e+00,  1.2933e-01,  1.6323e+00,\n           1.4925e+00, -6.8134e-01, -1.1098e+00,  6.2344e-01,  2.6992e-01],\n         [-1.8650e-01,  7.9229e-01,  1.3069e-01, -3.1151e-01, -1.6954e+00,\n           1.2937e+00,  7.9304e-01,  1.6835e-01, -2.3818e-01, -7.7805e-01],\n         [-2.6788e-03, -2.7007e-03, -2.7581e-03, -2.6468e-03, -2.3669e-03,\n          -2.5627e-03, -2.6789e-03, -2.5585e-03, -2.7435e-03, -2.5586e-03],\n         [-7.5577e-01, -1.9990e+00, -1.7922e-02, -1.4932e+00, -9.6710e-01,\n          -9.9718e-01, -1.3837e+00, -2.2228e+00, -1.0754e+00, -1.3560e+00],\n         [ 4.0559e-01,  3.0731e-01, -2.9432e-01, -7.0774e-02,  6.9397e-01,\n           1.1807e-01,  3.0690e-01, -1.1469e-01,  5.0976e-01, -3.1361e-01],\n         [-5.0817e-01,  1.3394e+00, -2.2642e+00, -1.6621e+00,  2.4762e+00,\n           5.2540e-01,  1.0034e+00,  4.5053e-01,  1.0802e+00, -1.4690e+00],\n         [-3.2703e+00,  3.1851e+00,  2.4609e+00,  1.1211e+00, -5.1351e-01,\n          -2.1921e-01,  3.6615e+00, -7.2386e-01, -2.2919e+00,  1.6375e-01],\n         [-1.3574e+00, -3.3508e-01, -7.3277e-01, -6.0438e-01,  1.5947e+00,\n           2.3137e-01, -3.3027e-01, -7.1876e-01, -1.8628e+00, -3.4020e-01],\n         [-4.5209e-04, -4.5615e-04, -6.6485e-04, -5.6063e-04, -6.0121e-04,\n          -5.6996e-04, -4.9027e-04, -3.9099e-04, -3.1395e-04, -4.9955e-04]]],\n       device='cuda:0', requires_grad=True)"
     },
     "execution_count": 131,
     "metadata": {},
     "output_type": "execute_result"
    }
   ],
   "source": [
    "mu_c_g"
   ],
   "metadata": {
    "collapsed": false,
    "pycharm": {
     "name": "#%%\n"
    }
   }
  },
  {
   "cell_type": "code",
   "execution_count": 132,
   "outputs": [
    {
     "data": {
      "text/plain": "tensor([[[1.4480, 3.1248, 1.7623, 1.4442, 2.0280, 2.3243, 2.0994, 0.8640,\n          1.1497, 2.2624],\n         [0.3834, 0.3821, 0.5589, 0.3556, 1.5503, 0.8245, 0.2484, 0.1450,\n          0.2122, 1.4103],\n         [0.3700, 0.0417, 0.5148, 0.6285, 1.1465, 0.7294, 0.0420, 0.4823,\n          0.2682, 1.4160],\n         [0.0041, 0.0042, 0.0041, 0.0041, 0.0041, 0.0041, 0.0042, 0.0041,\n          0.0041, 0.0041],\n         [0.6992, 0.2467, 0.5001, 0.3265, 0.8330, 0.4567, 0.2512, 0.4087,\n          0.5436, 1.1411],\n         [0.3332, 0.0773, 0.2582, 0.2066, 1.1969, 0.6046, 0.0739, 0.1748,\n          0.1673, 0.7415],\n         [0.6210, 0.2543, 1.7353, 0.2981, 0.9139, 0.7186, 0.2653, 0.3538,\n          0.2095, 1.9391],\n         [0.2244, 0.3761, 0.3968, 0.3375, 1.6143, 0.7588, 0.2584, 0.5222,\n          0.3730, 2.3034],\n         [0.5357, 0.0551, 0.4760, 0.3462, 1.3649, 0.5723, 0.0519, 0.2157,\n          0.3082, 1.0079],\n         [0.0041, 0.0042, 0.0041, 0.0041, 0.0041, 0.0041, 0.0042, 0.0041,\n          0.0041, 0.0041]]], device='cuda:0', grad_fn=<ExpBackward>)"
     },
     "execution_count": 132,
     "metadata": {},
     "output_type": "execute_result"
    }
   ],
   "source": [
    "logvar_c_g.exp()"
   ],
   "metadata": {
    "collapsed": false,
    "pycharm": {
     "name": "#%%\n"
    }
   }
  },
  {
   "cell_type": "code",
   "execution_count": 133,
   "outputs": [
    {
     "data": {
      "text/plain": "tensor([[-2.6993e-01, -5.7208e-01,  8.0299e-01, -2.6243e-03, -1.2637e+00,\n          3.9761e-01,  8.1798e-01,  3.1429e+00, -3.6502e-01, -5.2061e-04],\n        [ 1.7746e+00,  1.1175e+00,  4.0311e-01, -2.5179e-03, -1.4263e+00,\n          9.8933e-01,  1.6768e+00, -2.6614e+00, -1.6704e+00,  3.1248e-05],\n        [-1.2777e+00, -1.5697e+00, -6.1876e-01, -2.1548e-03, -2.1042e+00,\n          3.0003e-01,  2.6327e-01, -1.4074e+00, -1.2021e+00, -6.8570e-04],\n        [ 3.2655e-01,  2.0331e+00,  6.0747e-01, -2.8481e-03,  9.9662e-01,\n         -4.1613e-01, -1.8031e+00,  2.7881e+00, -1.8957e+00, -1.6348e-04],\n        [ 1.2527e+00,  4.2952e-01, -7.1240e-01, -2.5341e-03, -2.3381e-01,\n          8.9224e-01,  6.7969e-01, -2.8453e+00, -2.3178e+00, -1.0725e-04],\n        [ 3.4842e-01,  1.8753e+00,  5.9833e-01, -2.2935e-03, -1.7990e+00,\n         -5.6228e-01,  1.5613e+00,  4.7193e-01, -2.5537e-01,  3.0263e-05],\n        [ 9.3776e-01, -6.8578e-01,  1.6669e-01, -2.5142e-03, -2.4613e+00,\n         -4.4208e-01,  2.3483e-02, -3.0424e+00,  5.4484e-01, -2.6641e-04],\n        [ 2.2424e+00,  1.7291e+00,  2.3612e+00, -1.9238e-03, -1.3108e+00,\n          1.0390e+00, -2.1704e-01, -7.6935e-01,  9.7045e-01, -5.8922e-04],\n        [ 1.3246e+00,  1.5031e-01, -7.6251e-01, -2.7573e-03, -4.5456e-01,\n         -1.1163e-01, -1.0883e+00,  1.9222e-01, -1.9490e+00,  2.7574e-05],\n        [ 3.2659e+00, -8.0784e-01,  7.6339e-01, -2.5549e-03, -2.3690e+00,\n          5.0692e-01,  1.5784e-01,  2.4977e+00, -3.2915e-01, -2.4314e-04]],\n       device='cuda:0', grad_fn=<SelectBackward>)"
     },
     "execution_count": 133,
     "metadata": {},
     "output_type": "execute_result"
    }
   ],
   "source": [
    "mus_g[0:10,:,0]"
   ],
   "metadata": {
    "collapsed": false,
    "pycharm": {
     "name": "#%%\n"
    }
   }
  },
  {
   "cell_type": "code",
   "execution_count": 134,
   "outputs": [
    {
     "data": {
      "text/plain": "tensor([[0.0089, 0.0189, 0.0406, 0.0042, 0.0244, 0.0721, 0.0158, 0.0266, 0.0496,\n         0.0042],\n        [0.0065, 0.0120, 0.0150, 0.0041, 0.0142, 0.0293, 0.0107, 0.0095, 0.0134,\n         0.0041],\n        [0.0041, 0.0062, 0.0052, 0.0041, 0.0110, 0.0178, 0.0036, 0.0044, 0.0100,\n         0.0041],\n        [0.0082, 0.0171, 0.0782, 0.0041, 0.0132, 0.0326, 0.0150, 0.0191, 0.0220,\n         0.0041],\n        [0.0042, 0.0114, 0.0096, 0.0040, 0.0131, 0.0258, 0.0067, 0.0085, 0.0110,\n         0.0041],\n        [0.0066, 0.0123, 0.0106, 0.0040, 0.0149, 0.0227, 0.0073, 0.0073, 0.0189,\n         0.0041],\n        [0.0090, 0.0100, 0.0109, 0.0041, 0.0126, 0.0191, 0.0172, 0.0092, 0.0157,\n         0.0041],\n        [0.0064, 0.0121, 0.0160, 0.0041, 0.0113, 0.0277, 0.0074, 0.0052, 0.0200,\n         0.0041],\n        [0.0052, 0.0083, 0.0053, 0.0041, 0.0100, 0.0186, 0.0057, 0.0043, 0.0121,\n         0.0041],\n        [0.0142, 0.0197, 0.0397, 0.0042, 0.0286, 0.0586, 0.0274, 0.0195, 0.0483,\n         0.0042]], device='cuda:0')"
     },
     "execution_count": 134,
     "metadata": {},
     "output_type": "execute_result"
    }
   ],
   "source": [
    "logvars_g.exp()[0:10,:,0]"
   ],
   "metadata": {
    "collapsed": false,
    "pycharm": {
     "name": "#%%\n"
    }
   }
  },
  {
   "cell_type": "code",
   "execution_count": null,
   "outputs": [],
   "source": [],
   "metadata": {
    "collapsed": false,
    "pycharm": {
     "name": "#%%\n"
    }
   }
  }
 ],
 "metadata": {
  "kernelspec": {
   "name": "pycharm-9c5a4569",
   "language": "python",
   "display_name": "PyCharm (auto_encoder)"
  },
  "language_info": {
   "codemirror_mode": {
    "name": "ipython",
    "version": 2
   },
   "file_extension": ".py",
   "mimetype": "text/x-python",
   "name": "python",
   "nbconvert_exporter": "python",
   "pygments_lexer": "ipython2",
   "version": "2.7.6"
  },
  "pycharm": {
   "stem_cell": {
    "cell_type": "raw",
    "source": [
     "#SGDを用いてGMMを行うプログラムを作成する。２０２０年１１月４日２時１１分"
    ],
    "metadata": {
     "collapsed": false
    }
   }
  }
 },
 "nbformat": 4,
 "nbformat_minor": 0
}