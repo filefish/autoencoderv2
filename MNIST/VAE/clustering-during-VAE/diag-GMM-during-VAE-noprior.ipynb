{
 "cells": [
  {
   "cell_type": "code",
   "execution_count": null,
   "outputs": [],
   "source": [],
   "metadata": {
    "collapsed": false,
    "pycharm": {
     "name": "#%%\n"
    }
   }
  },
  {
   "cell_type": "code",
   "execution_count": 1,
   "outputs": [],
   "source": [
    "from __future__ import print_function\n",
    "import argparse\n",
    "import torch\n",
    "import torch.utils.data\n",
    "from torch import nn, optim\n",
    "from torch.nn import functional as F\n",
    "from torchvision import datasets, transforms\n",
    "from torchvision.utils import save_image\n",
    "\n",
    "%matplotlib inline\n",
    "import matplotlib.pyplot as plt\n",
    "from torch.distributions.multivariate_normal import MultivariateNormal\n",
    "import numpy as np\n",
    "\n",
    "\n",
    "from sklearn.manifold import TSNE\n",
    "from random import random\n",
    "from sklearn.mixture import GaussianMixture\n",
    "from sklearn.mixture import BayesianGaussianMixture"
   ],
   "metadata": {
    "collapsed": false,
    "pycharm": {
     "name": "#%%\n"
    }
   }
  },
  {
   "cell_type": "code",
   "execution_count": 2,
   "outputs": [],
   "source": [
    "batch_size = 100\n",
    "take_latent_max =10\n",
    "num_epoch = 10\n",
    "input_dim=28*28\n",
    "output_dim=input_dim\n",
    "en_hidden1_dim = 400\n",
    "latent_dim= 20\n",
    "de_hidden1_dim = 400\n",
    "log_interval = 10\n",
    "\n",
    "K_model_cluster = 10\n",
    "\n",
    "beta= 1.\n",
    "\n"
   ],
   "metadata": {
    "collapsed": false,
    "pycharm": {
     "name": "#%%\n"
    }
   }
  },
  {
   "cell_type": "code",
   "execution_count": 3,
   "outputs": [],
   "source": [
    "device = 'cuda'\n",
    "kwargs = {'num_workers':1, 'pin_memory':True}\n",
    "\n",
    "train_loader = torch.utils.data.DataLoader(\n",
    "    datasets.MNIST('../data',train=True,download=True,\n",
    "                   transform=transforms.ToTensor()),\n",
    "    batch_size=batch_size,shuffle=True,**kwargs)\n",
    "\n",
    "test_loader = torch.utils.data.DataLoader(\n",
    "    datasets.MNIST('../data',train=False,transform=transforms.ToTensor()),\n",
    "    batch_size=batch_size,shuffle=True,**kwargs)"
   ],
   "metadata": {
    "collapsed": false,
    "pycharm": {
     "name": "#%%\n"
    }
   }
  },
  {
   "cell_type": "code",
   "execution_count": 4,
   "outputs": [],
   "source": [
    "class VAE(nn.Module):\n",
    "    def __init__(self):\n",
    "        super(VAE, self).__init__()\n",
    "\n",
    "        self.input_layer = nn.Linear(input_dim,en_hidden1_dim)\n",
    "        self.mu_layer = nn.Linear(en_hidden1_dim,latent_dim)\n",
    "        self.std_layer = nn.Linear(en_hidden1_dim,latent_dim)\n",
    "        self.decode1_layer = nn.Linear(latent_dim,de_hidden1_dim)\n",
    "        self.output_layer = nn.Linear(de_hidden1_dim,output_dim)\n",
    "\n",
    "    def encode(self, x):\n",
    "        h1 = F.relu(self.input_layer(x))\n",
    "        return self.mu_layer(h1), self.std_layer(h1)\n",
    "    #入力から中心と分散の対数を作っている\n",
    "\n",
    "    def reparameterize(self,mu,logvar):\n",
    "        std = torch.exp(0.5*logvar)\n",
    "        eps = torch.randn_like(std)\n",
    "        #torch.randn_like(std)はstdと同じ次元の正規乱数を与えている。N(0,1)**size(std).ただし、標準偏差は対角的。\n",
    "        return mu + eps*std\n",
    "    #zの値を確率的に作っている。\n",
    "\n",
    "    def decode(self,z):\n",
    "        h3 = F.relu(self.decode1_layer(z))\n",
    "        return torch.sigmoid(self.output_layer(h3))\n",
    "    #zからNNを通したあとに、sigmoidで押し込んでxの値を作っている\n",
    "\n",
    "    def forward(self, x):\n",
    "        mu, logvar = self.encode(x.view(-1,784))\n",
    "        z = self.reparameterize(mu, logvar)\n",
    "        return self.decode(z),mu,logvar,z\n",
    "    #出力はxの予測値とzを算出するときの中心と分散になっている\n",
    "\n",
    "model = VAE().to(device)\n",
    "optimizer = optim.Adam(model.parameters(),lr=1e-3)"
   ],
   "metadata": {
    "collapsed": false,
    "pycharm": {
     "name": "#%%\n"
    }
   }
  },
  {
   "cell_type": "code",
   "execution_count": 5,
   "outputs": [],
   "source": [
    "def loss_function(recon_x,x,mu,logvar):\n",
    "    BCE = F.binary_cross_entropy(recon_x,x.view(-1,784),reduction='sum')\n",
    "    #recon_xはsigmoidをdecordeで通されているので、[0,1]になっている。\n",
    "    KLD = -0.5*torch.sum(1+logvar-mu.pow(2)-logvar.exp())\n",
    "\n",
    "    return BCE+beta*KLD\n",
    "\n"
   ],
   "metadata": {
    "collapsed": false,
    "pycharm": {
     "name": "#%%\n"
    }
   }
  },
  {
   "cell_type": "code",
   "execution_count": 6,
   "outputs": [],
   "source": [
    "def train(epoch):\n",
    "    model.train()\n",
    "    train_loss = 0\n",
    "    for batch_idx, (data,_) in enumerate(train_loader):\n",
    "        #ラベルは使わないようだ\n",
    "        data = data.to(device)\n",
    "        #データをGPUにおくる\n",
    "        optimizer.zero_grad()\n",
    "        #傾きの初期化\n",
    "        recon_batch, mu, logvar,z = model(data)\n",
    "        #VAEからバッヂ分のデータと中心と分散のログを受け取る\n",
    "        loss = loss_function(recon_batch,data,mu,logvar)\n",
    "        #バッヂ分のロスを計算。バッヂ数で割っていないようだ。書き出しのときにデータ数で割っている。\n",
    "        loss.backward()\n",
    "        #傾きを計算\n",
    "        train_loss+= loss.item()\n",
    "        optimizer.step()\n",
    "        #パラメータの更新\n",
    "        if batch_idx % log_interval ==0:\n",
    "            #一定間隔でロスを書き出し。epochはここでしか使っていないようだ。\n",
    "            print('Train Epoch: {} [{}/{} ({:.0f}%)]\\tLoss: {:.6f}'.format(\n",
    "              epoch,batch_idx*len(data),len(train_loader.dataset),\n",
    "                100.*batch_idx/len(train_loader),\n",
    "                loss.item()/len(data)\n",
    "            ))"
   ],
   "metadata": {
    "collapsed": false,
    "pycharm": {
     "name": "#%%\n"
    }
   }
  },
  {
   "cell_type": "code",
   "execution_count": 7,
   "outputs": [],
   "source": [
    "def test(epoch):\n",
    "    model.eval()\n",
    "    test_loss = 0\n",
    "    with torch.no_grad():#バックプロパゲーションを行わないから、微分情報を残さない\n",
    "        for i, (data, _) in enumerate(test_loader):\n",
    "            #テストデータを取り出す。ラベルはいらない。\n",
    "            data =data.to(device)\n",
    "            #データをGPUに送る\n",
    "            recon_batch, mu, logvar,z = model(data)\n",
    "            #データからバッヂ分の再現画像と中心と分散の対数を出している。\n",
    "            test_loss += loss_function(recon_batch,data,mu,logvar).item()\n",
    "            #テストデータでのロスを出している\n",
    "            if i == 0:\n",
    "                #はじめのバッヂについて\n",
    "                n = min(data.size(0),16)\n",
    "                #nをバッヂのデータ数か８との小さい方として\n",
    "                comparizon = torch.cat([data[:n],recon_batch.view(batch_size,1,28,28)[:n]])\n",
    "                #元データと再現データを並べる\n",
    "                save_image(comparizon.cpu(),'./results/reconstruction_' + str(epoch) + '.png',nrow=n)\n",
    "\n",
    "                test_loss /= len(test_loader.dataset)\n",
    "                print('====> Test set loss: {:.4f}'.format(test_loss))"
   ],
   "metadata": {
    "collapsed": false,
    "pycharm": {
     "name": "#%%\n"
    }
   }
  },
  {
   "cell_type": "code",
   "execution_count": 8,
   "outputs": [],
   "source": [
    "def initial_train(epochs):\n",
    "    for epoch in range(1, epochs +1):\n",
    "        train(epoch)\n",
    "        test(epoch)\n",
    "        with torch.no_grad():\n",
    "            sample = torch.randn(64,latent_dim).to(device)\n",
    "        #20次元の潜在空間のデータを64個作成して、GPUに送る\n",
    "            sample = model.decode(sample).cpu()\n",
    "        #ランダムな潜在変数から画像を生成する。\n",
    "            save_image(sample.view(64,1,28,28),'results/sample_' + str(epoch) + '.png',nrow=8)\n",
    "        #生成した６４個のデータを記録しておく\n"
   ],
   "metadata": {
    "collapsed": false,
    "pycharm": {
     "name": "#%%\n"
    }
   }
  },
  {
   "cell_type": "code",
   "execution_count": 9,
   "outputs": [],
   "source": [
    "def take_latents():\n",
    "    zs = torch.empty(0,latent_dim,1).to(device).requires_grad_(False)\n",
    "    ts = torch.empty(0,dtype=torch.long).to(device).requires_grad_(False)\n",
    "    mus = torch.empty(0,latent_dim,1).to(device).requires_grad_(False)\n",
    "    logvars = torch.empty(0,latent_dim,1).to(device).requires_grad_(False)\n",
    "#zs = []\n",
    "#ts = []\n",
    "\n",
    "#ts.dtype = torch.int\n",
    "\n",
    "    #for x, t in test_loader:\n",
    "    for batch_idx, (x,t) in enumerate(test_loader):\n",
    "    # original。xがデータ、tがラベル。\n",
    "    #for i, im in enumerate(x.view(-1, 28, 28).detach().numpy()[:10]):\n",
    "    #  ax = fig.add_subplot(3, 10, i+1, xticks=[], yticks=[])\n",
    "    #  ax.imshow(im, 'gray')\n",
    "    #x = x.to(device)\n",
    "    # generate from x\n",
    "        if batch_idx < take_latent_max:\n",
    "            x = x.to(device)\n",
    "            with torch.no_grad():\n",
    "                recon_batch,mu,logvar, z = model(x)\n",
    "            t = t.to(device)\n",
    "    #zs.append(z)\n",
    "    #ts.append(t)\n",
    "            zs = torch.cat((zs,z.view(-1,latent_dim,1)),0)\n",
    "            ts = torch.cat((ts,t),0)\n",
    "            mus = torch.cat((mus,mu.view(-1,latent_dim,1)),0)\n",
    "            logvars = torch.cat((logvars,logvar.view(-1,latent_dim,1)),0)\n",
    "    #y = y.view(-1, 28, 28)\n",
    "    #for i, im in enumerate(y.cpu().detach().numpy()[:10]):\n",
    "     # ax = fig.add_subplot(3, 10, i+11, xticks=[], yticks=[])\n",
    "     # ax.imshow(im, 'gray')\n",
    "    return zs,ts,mus,logvars"
   ],
   "metadata": {
    "collapsed": false,
    "pycharm": {
     "name": "#%%\n"
    }
   }
  },
  {
   "cell_type": "code",
   "execution_count": 10,
   "outputs": [],
   "source": [
    "def initialize_centers(mus):\n",
    "\n",
    "    mu_center = mus.mean(0,keepdim=True).detach().requires_grad_(False)\n",
    "    mus_white = mus.detach().requires_grad_(False)-mu_center\n",
    "    cov_mus = torch.matmul(mus_white.squeeze(2).t(),mus_white.squeeze(2))/mus.shape[0]\n",
    "\n",
    "    mu_distribution = MultivariateNormal(loc=mu_center.view(-1,latent_dim),covariance_matrix=cov_mus)\n",
    "#mu_distribution = MultivariateNormal(loc=mu_center.cpu(),covariance_matrix=cov_mus.cpu())\n",
    "    mu_c = mu_distribution.sample([K_model_cluster,])\n",
    "    mu_c = mu_c.permute(1,2,0)\n",
    "\n",
    "    logvar_c = torch.diag(cov_mus).log()\n",
    "    logvar_c = logvar_c.view(1,latent_dim,1)\n",
    "#logvar_c = logvar_c.repeat(0,K_model_cluster)\n",
    "    logvar_c = logvar_c.repeat(1,1,K_model_cluster)\n",
    "\n",
    "    pi_c = torch.full((1,1,K_model_cluster),1./K_model_cluster).to(device).requires_grad_(False)\n",
    "\n",
    "    return mu_c,logvar_c,pi_c"
   ],
   "metadata": {
    "collapsed": false,
    "pycharm": {
     "name": "#%%\n"
    }
   }
  },
  {
   "cell_type": "code",
   "execution_count": 850,
   "outputs": [],
   "source": [
    "#zs_g,ts_g,mus_g,logvars_g,mu_c_g,logvar_c_g,pi_c_g = initialize_centers()"
   ],
   "metadata": {
    "collapsed": false,
    "pycharm": {
     "name": "#%%\n"
    }
   }
  },
  {
   "cell_type": "code",
   "execution_count": 11,
   "outputs": [],
   "source": [
    "def gauss(mus,logvars,mu_c,logvar_c,pi_c,iter):\n",
    "    #mus = mus_ini\n",
    "    #logvars = logvars_ini\n",
    "    #mu_c = mu_c_ini\n",
    "    #logvar_c = logvar_c_ini\n",
    "    #pi_c = pi_c_ini\n",
    "\n",
    "    for i in range(iter):\n",
    "        with torch.no_grad():\n",
    "            Q_c = logvar_c+logvars.exp()/(logvar_c.exp())+(mus-mu_c).pow(2)/(logvar_c.exp())\n",
    "\n",
    "            gamma_c = (pi_c*((-0.5*Q_c.sum(1,keepdim=True)).exp()))/(pi_c*((-0.5*Q_c.sum(1,keepdim=True)).exp())).sum(2,keepdim=True)\n",
    "\n",
    "            N_c = gamma_c.sum(0,keepdim=True)\n",
    "            log_P = (((pi_c*((-0.5*Q_c.sum(1,keepdim=True)).exp())).sum(2).squeeze()).log()).sum()/(Q_c.shape)[0]\n",
    "            pi_c= N_c/N_c.sum()\n",
    "            mu_c=(gamma_c*mus).sum(0,keepdim=True)/N_c\n",
    "            logvar_c=((gamma_c*((mus-mu_c).pow(2)+logvars.exp())).sum(0,keepdim=True)/N_c).log()\n",
    "\n",
    "    return mu_c,logvar_c,pi_c,Q_c,gamma_c,log_P"
   ],
   "metadata": {
    "collapsed": false,
    "pycharm": {
     "name": "#%%\n"
    }
   }
  },
  {
   "cell_type": "code",
   "execution_count": 12,
   "outputs": [],
   "source": [
    "def drawpoints(mus_numpy,ts_numpy):\n",
    "    colors = [\"red\", \"green\", \"blue\", \"orange\", \"purple\", \"brown\", \"fuchsia\", \"grey\", \"olive\", \"lightblue\"]\n",
    "    for p,l in zip(points,ts_numpy):\n",
    "        plt.scatter(p[0],p[1],marker=\"${}$\".format(l),c=colors[l])"
   ],
   "metadata": {
    "collapsed": false,
    "pycharm": {
     "name": "#%%\n"
    }
   }
  },
  {
   "cell_type": "code",
   "execution_count": 13,
   "outputs": [],
   "source": [
    "def show_generated_samples_c(mu_c,logvar_c):\n",
    "    for i in range(K_model_cluster):\n",
    "        with torch.no_grad():\n",
    "            sample_dist = MultivariateNormal(loc=mu_c[:,:,i],covariance_matrix=torch.diag(logvar_c[0,:,i].exp()))\n",
    "    #mu_distribution = MultivariateNormal(loc=mu_center.cpu(),covariance_matrix=cov_mus.cpu())\n",
    "            sample = sample_dist.sample([64,])\n",
    "#    sample = torch.randn(64,latent_dim).to(device)\n",
    "        #20次元の潜在空間のデータを64個作成して、GPUに送る\n",
    "            sample = model.decode(sample).cpu()\n",
    "        #ランダムな潜在変数から画像を生成する。\n",
    "            save_image(sample.view(64,1,28,28),'results/sample_c_' + str(i) + '.png',nrow=8)\n",
    "        #生成した６４個のデータを記録しておく"
   ],
   "metadata": {
    "collapsed": false,
    "pycharm": {
     "name": "#%%\n"
    }
   }
  },
  {
   "cell_type": "code",
   "execution_count": 14,
   "outputs": [],
   "source": [
    "def loss_function_c(recon_x,x,mus_f,logvars_f,mu_c_f,logvar_c_f,pi_c_f):\n",
    "    BCE = F.binary_cross_entropy(recon_x,x.view(-1,784),reduction='sum')\n",
    "    #recon_xはsigmoidをdecordeで通されているので、[0,1]になっている。\n",
    "    #KLD = -0.5*torch.sum(1+logvar-mu.pow(2)-logvar.exp())\n",
    "    #Q_c_f = -logvars_f+logvar_c_f+logvars_f.exp()/(logvar_c_f.exp())+(mus_f-mu_c_f).pow(2)/(logvar_c_f.exp())\n",
    "    #KLD = (((pi_c_f*((-0.5*(-logvars_f+logvar_c_f+logvars_f.exp()/(logvar_c_f.exp())+(mus_f-mu_c_f).pow(2)/(logvar_c_f.exp())).sum(1,keepdim=True)).exp())).sum(2).squeeze()).log()).sum()\n",
    "    KLD = -0.5*(1+logvars_f).sum() -(((pi_c_f*(-0.5*((logvar_c_f+(logvars_f.exp()+(mus_f-mu_c_f).pow(2))/logvar_c_f.exp()).sum(1,keepdim=True))).exp()).sum(2,keepdim=True)).log()).sum()#+(logvars_f.exp()+(mus_f-mu_c_f).pow(2))/(logvar_c_f.exp()))\n",
    "\n",
    "    return BCE+beta*KLD"
   ],
   "metadata": {
    "collapsed": false,
    "pycharm": {
     "name": "#%%\n"
    }
   }
  },
  {
   "cell_type": "code",
   "execution_count": 15,
   "outputs": [],
   "source": [
    "def train_c(epoch,mu_c,logvar_c,pi_c):\n",
    "    model.train()\n",
    "    train_loss = 0\n",
    "    for batch_idx, (data,_) in enumerate(train_loader):\n",
    "        #ラベルは使わないようだ\n",
    "        data = data.to(device)\n",
    "        #データをGPUにおくる\n",
    "        optimizer.zero_grad()\n",
    "        #傾きの初期化\n",
    "        recon_batch, mu, logvar,z = model(data)\n",
    "        #VAEからバッヂ分のデータと中心と分散のログを受け取る\n",
    "        loss = loss_function_c(recon_x=recon_batch,x=data,mus_f=mu.view(-1,latent_dim,1),logvars_f=logvar.view(-1,latent_dim,1),mu_c_f=mu_c,logvar_c_f=logvar_c,pi_c_f=pi_c)\n",
    "        #バッヂ分のロスを計算。バッヂ数で割っていないようだ。書き出しのときにデータ数で割っている。\n",
    "        loss.backward()\n",
    "        #傾きを計算\n",
    "        train_loss+= loss.item()\n",
    "        optimizer.step()\n",
    "        #パラメータの更新\n",
    "        if batch_idx % log_interval ==0:\n",
    "            #一定間隔でロスを書き出し。epochはここでしか使っていないようだ。len()は最初の次元の大きさを出すのでバッヂの大きさ。\n",
    "            print('Train Epoch: {} [{}/{} ({:.0f}%)]\\tLoss: {:.6f}'.format(\n",
    "              epoch,batch_idx*len(data),len(train_loader.dataset),\n",
    "                100.*batch_idx/len(train_loader),\n",
    "                loss.item()/len(data)\n",
    "            ))"
   ],
   "metadata": {
    "collapsed": false,
    "pycharm": {
     "name": "#%%\n"
    }
   }
  },
  {
   "cell_type": "code",
   "execution_count": 16,
   "outputs": [],
   "source": [
    "def test_c(epoch,mu_c,logvar_c,pi_c):\n",
    "    model.eval()\n",
    "    test_loss = 0\n",
    "    with torch.no_grad():#バックプロパゲーションを行わないから、微分情報を残さない\n",
    "        for i, (data, _) in enumerate(test_loader):\n",
    "            #テストデータを取り出す。ラベルはいらない。\n",
    "            data =data.to(device)\n",
    "            #データをGPUに送る\n",
    "            recon_batch, mu, logvar,z = model(data)\n",
    "            #データからバッヂ分の再現画像と中心と分散の対数を出している。\n",
    "            test_loss += loss_function_c(recon_x=recon_batch,x=data,mus_f=mu.view(-1,latent_dim,1),logvars_f=logvar.view(-1,latent_dim,1),mu_c_f=mu_c,logvar_c_f=logvar_c,pi_c_f=pi_c).item()\n",
    "            #テストデータでのロスを出している\n",
    "            if i == 0:\n",
    "                #はじめのバッヂについて\n",
    "                n = min(data.size(0),16)\n",
    "                #nをバッヂのデータ数か８との小さい方として\n",
    "                comparizon = torch.cat([data[:n],recon_batch.view(batch_size,1,28,28)[:n]])\n",
    "                #元データと再現データを並べる\n",
    "                save_image(comparizon.cpu(),'./results/reconstruction_c_' + str(epoch) + '.png',nrow=n)\n",
    "\n",
    "                test_loss /= len(test_loader.dataset)\n",
    "                print('====> Test set loss: {:.4f}'.format(test_loss))"
   ],
   "metadata": {
    "collapsed": false,
    "pycharm": {
     "name": "#%%\n"
    }
   }
  },
  {
   "cell_type": "code",
   "execution_count": 17,
   "outputs": [],
   "source": [
    "def train_c_epoch(epochs,mu_c,logvar_c,pi_c):\n",
    "    for epoch in range(1, epochs +1):\n",
    "        train_c(epoch,mu_c,logvar_c,pi_c)\n",
    "        test_c(epoch,mu_c,logvar_c,pi_c)\n",
    "        with torch.no_grad():\n",
    "            sample = torch.randn(64,latent_dim).to(device)\n",
    "        #20次元の潜在空間のデータを64個作成して、GPUに送る\n",
    "            sample = model.decode(sample).cpu()\n",
    "        #ランダムな潜在変数から画像を生成する。\n",
    "            save_image(sample.view(64,1,28,28),'results/sample_c_epoch_' + str(epoch) + '.png',nrow=8)\n",
    "        #生成した６４個のデータを記録しておく"
   ],
   "metadata": {
    "collapsed": false,
    "pycharm": {
     "name": "#%%\n"
    }
   }
  },
  {
   "cell_type": "code",
   "execution_count": 18,
   "outputs": [
    {
     "name": "stdout",
     "output_type": "stream",
     "text": [
      "Train Epoch: 1 [0/60000 (0%)]\tLoss: 549.909102\n",
      "Train Epoch: 1 [1000/60000 (2%)]\tLoss: 311.415039\n",
      "Train Epoch: 1 [2000/60000 (3%)]\tLoss: 235.766406\n",
      "Train Epoch: 1 [3000/60000 (5%)]\tLoss: 228.090508\n",
      "Train Epoch: 1 [4000/60000 (7%)]\tLoss: 219.564434\n",
      "Train Epoch: 1 [5000/60000 (8%)]\tLoss: 210.802812\n",
      "Train Epoch: 1 [6000/60000 (10%)]\tLoss: 202.591914\n",
      "Train Epoch: 1 [7000/60000 (12%)]\tLoss: 200.446465\n",
      "Train Epoch: 1 [8000/60000 (13%)]\tLoss: 195.461953\n",
      "Train Epoch: 1 [9000/60000 (15%)]\tLoss: 188.026484\n",
      "Train Epoch: 1 [10000/60000 (17%)]\tLoss: 175.009648\n",
      "Train Epoch: 1 [11000/60000 (18%)]\tLoss: 173.896289\n",
      "Train Epoch: 1 [12000/60000 (20%)]\tLoss: 166.893652\n",
      "Train Epoch: 1 [13000/60000 (22%)]\tLoss: 176.647051\n",
      "Train Epoch: 1 [14000/60000 (23%)]\tLoss: 164.294961\n",
      "Train Epoch: 1 [15000/60000 (25%)]\tLoss: 157.814492\n",
      "Train Epoch: 1 [16000/60000 (27%)]\tLoss: 161.868262\n",
      "Train Epoch: 1 [17000/60000 (28%)]\tLoss: 160.068594\n",
      "Train Epoch: 1 [18000/60000 (30%)]\tLoss: 154.500332\n",
      "Train Epoch: 1 [19000/60000 (32%)]\tLoss: 159.316094\n",
      "Train Epoch: 1 [20000/60000 (33%)]\tLoss: 154.921992\n",
      "Train Epoch: 1 [21000/60000 (35%)]\tLoss: 147.776250\n",
      "Train Epoch: 1 [22000/60000 (37%)]\tLoss: 150.359873\n",
      "Train Epoch: 1 [23000/60000 (38%)]\tLoss: 150.281230\n",
      "Train Epoch: 1 [24000/60000 (40%)]\tLoss: 146.493564\n",
      "Train Epoch: 1 [25000/60000 (42%)]\tLoss: 149.919893\n",
      "Train Epoch: 1 [26000/60000 (43%)]\tLoss: 144.538262\n",
      "Train Epoch: 1 [27000/60000 (45%)]\tLoss: 138.888369\n",
      "Train Epoch: 1 [28000/60000 (47%)]\tLoss: 139.181055\n",
      "Train Epoch: 1 [29000/60000 (48%)]\tLoss: 141.530664\n",
      "Train Epoch: 1 [30000/60000 (50%)]\tLoss: 142.813652\n",
      "Train Epoch: 1 [31000/60000 (52%)]\tLoss: 138.412090\n",
      "Train Epoch: 1 [32000/60000 (53%)]\tLoss: 136.530059\n",
      "Train Epoch: 1 [33000/60000 (55%)]\tLoss: 140.726396\n",
      "Train Epoch: 1 [34000/60000 (57%)]\tLoss: 137.525322\n",
      "Train Epoch: 1 [35000/60000 (58%)]\tLoss: 138.793398\n",
      "Train Epoch: 1 [36000/60000 (60%)]\tLoss: 136.209102\n",
      "Train Epoch: 1 [37000/60000 (62%)]\tLoss: 133.515352\n",
      "Train Epoch: 1 [38000/60000 (63%)]\tLoss: 132.940010\n",
      "Train Epoch: 1 [39000/60000 (65%)]\tLoss: 132.492969\n",
      "Train Epoch: 1 [40000/60000 (67%)]\tLoss: 128.737930\n",
      "Train Epoch: 1 [41000/60000 (68%)]\tLoss: 133.469873\n",
      "Train Epoch: 1 [42000/60000 (70%)]\tLoss: 131.302422\n",
      "Train Epoch: 1 [43000/60000 (72%)]\tLoss: 132.768750\n",
      "Train Epoch: 1 [44000/60000 (73%)]\tLoss: 129.277568\n",
      "Train Epoch: 1 [45000/60000 (75%)]\tLoss: 132.143809\n",
      "Train Epoch: 1 [46000/60000 (77%)]\tLoss: 131.446973\n",
      "Train Epoch: 1 [47000/60000 (78%)]\tLoss: 130.570615\n",
      "Train Epoch: 1 [48000/60000 (80%)]\tLoss: 134.206953\n",
      "Train Epoch: 1 [49000/60000 (82%)]\tLoss: 128.398213\n",
      "Train Epoch: 1 [50000/60000 (83%)]\tLoss: 128.429365\n",
      "Train Epoch: 1 [51000/60000 (85%)]\tLoss: 130.504063\n",
      "Train Epoch: 1 [52000/60000 (87%)]\tLoss: 131.559629\n",
      "Train Epoch: 1 [53000/60000 (88%)]\tLoss: 129.467598\n",
      "Train Epoch: 1 [54000/60000 (90%)]\tLoss: 123.587891\n",
      "Train Epoch: 1 [55000/60000 (92%)]\tLoss: 126.664766\n",
      "Train Epoch: 1 [56000/60000 (93%)]\tLoss: 127.985820\n",
      "Train Epoch: 1 [57000/60000 (95%)]\tLoss: 127.362793\n",
      "Train Epoch: 1 [58000/60000 (97%)]\tLoss: 127.471895\n",
      "Train Epoch: 1 [59000/60000 (98%)]\tLoss: 124.743770\n",
      "====> Test set loss: 1.1916\n",
      "Train Epoch: 2 [0/60000 (0%)]\tLoss: 120.718691\n",
      "Train Epoch: 2 [1000/60000 (2%)]\tLoss: 126.907168\n",
      "Train Epoch: 2 [2000/60000 (3%)]\tLoss: 121.823838\n",
      "Train Epoch: 2 [3000/60000 (5%)]\tLoss: 119.319961\n",
      "Train Epoch: 2 [4000/60000 (7%)]\tLoss: 120.623027\n",
      "Train Epoch: 2 [5000/60000 (8%)]\tLoss: 123.881738\n",
      "Train Epoch: 2 [6000/60000 (10%)]\tLoss: 123.966504\n",
      "Train Epoch: 2 [7000/60000 (12%)]\tLoss: 120.869385\n",
      "Train Epoch: 2 [8000/60000 (13%)]\tLoss: 124.185918\n",
      "Train Epoch: 2 [9000/60000 (15%)]\tLoss: 117.996523\n",
      "Train Epoch: 2 [10000/60000 (17%)]\tLoss: 130.305361\n",
      "Train Epoch: 2 [11000/60000 (18%)]\tLoss: 124.060801\n",
      "Train Epoch: 2 [12000/60000 (20%)]\tLoss: 121.309111\n",
      "Train Epoch: 2 [13000/60000 (22%)]\tLoss: 125.338311\n",
      "Train Epoch: 2 [14000/60000 (23%)]\tLoss: 114.343437\n",
      "Train Epoch: 2 [15000/60000 (25%)]\tLoss: 118.230020\n",
      "Train Epoch: 2 [16000/60000 (27%)]\tLoss: 117.912178\n",
      "Train Epoch: 2 [17000/60000 (28%)]\tLoss: 120.635537\n",
      "Train Epoch: 2 [18000/60000 (30%)]\tLoss: 119.353818\n",
      "Train Epoch: 2 [19000/60000 (32%)]\tLoss: 114.635693\n",
      "Train Epoch: 2 [20000/60000 (33%)]\tLoss: 116.500156\n",
      "Train Epoch: 2 [21000/60000 (35%)]\tLoss: 119.498887\n",
      "Train Epoch: 2 [22000/60000 (37%)]\tLoss: 122.007656\n",
      "Train Epoch: 2 [23000/60000 (38%)]\tLoss: 119.497363\n",
      "Train Epoch: 2 [24000/60000 (40%)]\tLoss: 120.556904\n",
      "Train Epoch: 2 [25000/60000 (42%)]\tLoss: 117.560400\n",
      "Train Epoch: 2 [26000/60000 (43%)]\tLoss: 123.394297\n",
      "Train Epoch: 2 [27000/60000 (45%)]\tLoss: 118.612285\n",
      "Train Epoch: 2 [28000/60000 (47%)]\tLoss: 119.086367\n",
      "Train Epoch: 2 [29000/60000 (48%)]\tLoss: 119.657012\n",
      "Train Epoch: 2 [30000/60000 (50%)]\tLoss: 116.641533\n",
      "Train Epoch: 2 [31000/60000 (52%)]\tLoss: 121.591035\n",
      "Train Epoch: 2 [32000/60000 (53%)]\tLoss: 124.125293\n",
      "Train Epoch: 2 [33000/60000 (55%)]\tLoss: 115.214697\n",
      "Train Epoch: 2 [34000/60000 (57%)]\tLoss: 115.337959\n",
      "Train Epoch: 2 [35000/60000 (58%)]\tLoss: 115.250215\n",
      "Train Epoch: 2 [36000/60000 (60%)]\tLoss: 118.486426\n",
      "Train Epoch: 2 [37000/60000 (62%)]\tLoss: 118.411016\n",
      "Train Epoch: 2 [38000/60000 (63%)]\tLoss: 120.034443\n",
      "Train Epoch: 2 [39000/60000 (65%)]\tLoss: 119.938418\n",
      "Train Epoch: 2 [40000/60000 (67%)]\tLoss: 116.572314\n",
      "Train Epoch: 2 [41000/60000 (68%)]\tLoss: 117.975908\n",
      "Train Epoch: 2 [42000/60000 (70%)]\tLoss: 117.623203\n",
      "Train Epoch: 2 [43000/60000 (72%)]\tLoss: 121.423105\n",
      "Train Epoch: 2 [44000/60000 (73%)]\tLoss: 115.007832\n",
      "Train Epoch: 2 [45000/60000 (75%)]\tLoss: 117.909492\n",
      "Train Epoch: 2 [46000/60000 (77%)]\tLoss: 115.420518\n",
      "Train Epoch: 2 [47000/60000 (78%)]\tLoss: 117.413223\n",
      "Train Epoch: 2 [48000/60000 (80%)]\tLoss: 115.445859\n",
      "Train Epoch: 2 [49000/60000 (82%)]\tLoss: 114.163379\n",
      "Train Epoch: 2 [50000/60000 (83%)]\tLoss: 117.522344\n",
      "Train Epoch: 2 [51000/60000 (85%)]\tLoss: 118.416445\n",
      "Train Epoch: 2 [52000/60000 (87%)]\tLoss: 115.928242\n",
      "Train Epoch: 2 [53000/60000 (88%)]\tLoss: 115.472871\n",
      "Train Epoch: 2 [54000/60000 (90%)]\tLoss: 118.541973\n",
      "Train Epoch: 2 [55000/60000 (92%)]\tLoss: 114.934746\n",
      "Train Epoch: 2 [56000/60000 (93%)]\tLoss: 113.426504\n",
      "Train Epoch: 2 [57000/60000 (95%)]\tLoss: 122.869541\n",
      "Train Epoch: 2 [58000/60000 (97%)]\tLoss: 113.258105\n",
      "Train Epoch: 2 [59000/60000 (98%)]\tLoss: 112.871465\n",
      "====> Test set loss: 1.1121\n",
      "Train Epoch: 3 [0/60000 (0%)]\tLoss: 116.488848\n",
      "Train Epoch: 3 [1000/60000 (2%)]\tLoss: 114.402295\n",
      "Train Epoch: 3 [2000/60000 (3%)]\tLoss: 118.211973\n",
      "Train Epoch: 3 [3000/60000 (5%)]\tLoss: 107.694365\n",
      "Train Epoch: 3 [4000/60000 (7%)]\tLoss: 109.151787\n",
      "Train Epoch: 3 [5000/60000 (8%)]\tLoss: 111.487002\n",
      "Train Epoch: 3 [6000/60000 (10%)]\tLoss: 110.806494\n",
      "Train Epoch: 3 [7000/60000 (12%)]\tLoss: 113.207783\n",
      "Train Epoch: 3 [8000/60000 (13%)]\tLoss: 114.066367\n",
      "Train Epoch: 3 [9000/60000 (15%)]\tLoss: 114.781621\n",
      "Train Epoch: 3 [10000/60000 (17%)]\tLoss: 110.865449\n",
      "Train Epoch: 3 [11000/60000 (18%)]\tLoss: 114.578867\n",
      "Train Epoch: 3 [12000/60000 (20%)]\tLoss: 110.179043\n",
      "Train Epoch: 3 [13000/60000 (22%)]\tLoss: 112.296650\n",
      "Train Epoch: 3 [14000/60000 (23%)]\tLoss: 123.304023\n",
      "Train Epoch: 3 [15000/60000 (25%)]\tLoss: 104.194980\n",
      "Train Epoch: 3 [16000/60000 (27%)]\tLoss: 108.570469\n",
      "Train Epoch: 3 [17000/60000 (28%)]\tLoss: 113.477285\n",
      "Train Epoch: 3 [18000/60000 (30%)]\tLoss: 110.607852\n",
      "Train Epoch: 3 [19000/60000 (32%)]\tLoss: 112.736572\n",
      "Train Epoch: 3 [20000/60000 (33%)]\tLoss: 115.554756\n",
      "Train Epoch: 3 [21000/60000 (35%)]\tLoss: 115.877930\n",
      "Train Epoch: 3 [22000/60000 (37%)]\tLoss: 113.515977\n",
      "Train Epoch: 3 [23000/60000 (38%)]\tLoss: 115.145703\n",
      "Train Epoch: 3 [24000/60000 (40%)]\tLoss: 110.698389\n",
      "Train Epoch: 3 [25000/60000 (42%)]\tLoss: 113.986309\n",
      "Train Epoch: 3 [26000/60000 (43%)]\tLoss: 110.747441\n",
      "Train Epoch: 3 [27000/60000 (45%)]\tLoss: 113.407227\n",
      "Train Epoch: 3 [28000/60000 (47%)]\tLoss: 114.532148\n",
      "Train Epoch: 3 [29000/60000 (48%)]\tLoss: 114.815996\n",
      "Train Epoch: 3 [30000/60000 (50%)]\tLoss: 111.018564\n",
      "Train Epoch: 3 [31000/60000 (52%)]\tLoss: 109.636006\n",
      "Train Epoch: 3 [32000/60000 (53%)]\tLoss: 116.046025\n",
      "Train Epoch: 3 [33000/60000 (55%)]\tLoss: 120.182285\n",
      "Train Epoch: 3 [34000/60000 (57%)]\tLoss: 109.691602\n",
      "Train Epoch: 3 [35000/60000 (58%)]\tLoss: 114.565352\n",
      "Train Epoch: 3 [36000/60000 (60%)]\tLoss: 113.421445\n",
      "Train Epoch: 3 [37000/60000 (62%)]\tLoss: 111.073828\n",
      "Train Epoch: 3 [38000/60000 (63%)]\tLoss: 113.524473\n",
      "Train Epoch: 3 [39000/60000 (65%)]\tLoss: 110.283291\n",
      "Train Epoch: 3 [40000/60000 (67%)]\tLoss: 108.887520\n",
      "Train Epoch: 3 [41000/60000 (68%)]\tLoss: 113.450820\n",
      "Train Epoch: 3 [42000/60000 (70%)]\tLoss: 115.305137\n",
      "Train Epoch: 3 [43000/60000 (72%)]\tLoss: 109.273340\n",
      "Train Epoch: 3 [44000/60000 (73%)]\tLoss: 114.838223\n",
      "Train Epoch: 3 [45000/60000 (75%)]\tLoss: 114.625273\n",
      "Train Epoch: 3 [46000/60000 (77%)]\tLoss: 115.238047\n",
      "Train Epoch: 3 [47000/60000 (78%)]\tLoss: 113.605596\n",
      "Train Epoch: 3 [48000/60000 (80%)]\tLoss: 111.986699\n",
      "Train Epoch: 3 [49000/60000 (82%)]\tLoss: 111.263115\n",
      "Train Epoch: 3 [50000/60000 (83%)]\tLoss: 113.907773\n",
      "Train Epoch: 3 [51000/60000 (85%)]\tLoss: 112.071523\n",
      "Train Epoch: 3 [52000/60000 (87%)]\tLoss: 110.009902\n",
      "Train Epoch: 3 [53000/60000 (88%)]\tLoss: 110.231904\n",
      "Train Epoch: 3 [54000/60000 (90%)]\tLoss: 110.875332\n",
      "Train Epoch: 3 [55000/60000 (92%)]\tLoss: 113.372109\n",
      "Train Epoch: 3 [56000/60000 (93%)]\tLoss: 112.366465\n",
      "Train Epoch: 3 [57000/60000 (95%)]\tLoss: 104.247637\n",
      "Train Epoch: 3 [58000/60000 (97%)]\tLoss: 108.055430\n",
      "Train Epoch: 3 [59000/60000 (98%)]\tLoss: 106.577187\n",
      "====> Test set loss: 1.0867\n"
     ]
    }
   ],
   "source": [
    "initial_train(3)"
   ],
   "metadata": {
    "collapsed": false,
    "pycharm": {
     "name": "#%%\n"
    }
   }
  },
  {
   "cell_type": "code",
   "execution_count": 19,
   "outputs": [],
   "source": [
    "zs_g,ts_g,mus_g,logvars_g = take_latents()\n",
    "mu_c_g,logvar_c_g,pi_c_g = initialize_centers(mus_g)"
   ],
   "metadata": {
    "collapsed": false,
    "pycharm": {
     "name": "#%%\n"
    }
   }
  },
  {
   "cell_type": "code",
   "execution_count": 510,
   "outputs": [],
   "source": [
    "zs_g,ts_g,mus_g,logvars_g = take_latents()"
   ],
   "metadata": {
    "collapsed": false,
    "pycharm": {
     "name": "#%%\n"
    }
   }
  },
  {
   "cell_type": "code",
   "execution_count": 518,
   "outputs": [
    {
     "data": {
      "text/plain": "tensor(-6.1234, device='cuda:0')"
     },
     "execution_count": 518,
     "metadata": {},
     "output_type": "execute_result"
    }
   ],
   "source": [
    "mu_c_g,logvar_c_g,pi_c_g,Q_c_g,gamma_c_g,log_P_g = gauss(mus_g,logvars_g,mu_c_g,logvar_c_g,pi_c_g,10)\n",
    "log_P_g"
   ],
   "metadata": {
    "collapsed": false,
    "pycharm": {
     "name": "#%%\n"
    }
   }
  },
  {
   "cell_type": "code",
   "execution_count": 514,
   "outputs": [
    {
     "data": {
      "text/plain": "<Figure size 432x288 with 1 Axes>",
      "image/png": "[encoded data removed]"
     },
     "metadata": {
      "needs_background": "light"
     },
     "output_type": "display_data"
    }
   ],
   "source": [
    "points = TSNE(n_components=2,random_state=0).fit_transform(mus_g.view(-1,latent_dim).cpu().detach().numpy())\n",
    "drawpoints(points,ts_g.cpu().detach().numpy())"
   ],
   "metadata": {
    "collapsed": false,
    "pycharm": {
     "name": "#%%\n"
    }
   }
  },
  {
   "cell_type": "code",
   "execution_count": 515,
   "outputs": [
    {
     "data": {
      "text/plain": "<Figure size 432x288 with 1 Axes>",
      "image/png": "[encoded data removed]"
     },
     "metadata": {
      "needs_background": "light"
     },
     "output_type": "display_data"
    }
   ],
   "source": [
    "drawpoints(points,torch.argmax(gamma_c_g,2).view(-1).cpu().detach().numpy())"
   ],
   "metadata": {
    "collapsed": false,
    "pycharm": {
     "name": "#%%\n"
    }
   }
  },
  {
   "cell_type": "code",
   "execution_count": 516,
   "outputs": [],
   "source": [
    "show_generated_samples_c(mu_c_g,logvar_c_g)\n"
   ],
   "metadata": {
    "collapsed": false,
    "pycharm": {
     "name": "#%%\n"
    }
   }
  },
  {
   "cell_type": "code",
   "execution_count": 517,
   "outputs": [
    {
     "name": "stdout",
     "output_type": "stream",
     "text": [
      "Train Epoch: 1 [0/60000 (0%)]\tLoss: 98.641445\n",
      "Train Epoch: 1 [1000/60000 (2%)]\tLoss: 98.714141\n",
      "Train Epoch: 1 [2000/60000 (3%)]\tLoss: 96.751494\n",
      "Train Epoch: 1 [3000/60000 (5%)]\tLoss: 98.535820\n",
      "Train Epoch: 1 [4000/60000 (7%)]\tLoss: 100.803779\n",
      "Train Epoch: 1 [5000/60000 (8%)]\tLoss: 100.405430\n",
      "Train Epoch: 1 [6000/60000 (10%)]\tLoss: 97.564111\n",
      "Train Epoch: 1 [7000/60000 (12%)]\tLoss: 98.630117\n",
      "Train Epoch: 1 [8000/60000 (13%)]\tLoss: 98.170889\n",
      "Train Epoch: 1 [9000/60000 (15%)]\tLoss: 95.520215\n",
      "Train Epoch: 1 [10000/60000 (17%)]\tLoss: 95.563555\n",
      "Train Epoch: 1 [11000/60000 (18%)]\tLoss: 102.451758\n",
      "Train Epoch: 1 [12000/60000 (20%)]\tLoss: 97.065615\n",
      "Train Epoch: 1 [13000/60000 (22%)]\tLoss: 100.001934\n",
      "Train Epoch: 1 [14000/60000 (23%)]\tLoss: 99.873633\n",
      "Train Epoch: 1 [15000/60000 (25%)]\tLoss: 96.348184\n",
      "Train Epoch: 1 [16000/60000 (27%)]\tLoss: 97.824414\n",
      "Train Epoch: 1 [17000/60000 (28%)]\tLoss: 97.224746\n",
      "Train Epoch: 1 [18000/60000 (30%)]\tLoss: 97.365586\n",
      "Train Epoch: 1 [19000/60000 (32%)]\tLoss: 101.912969\n",
      "Train Epoch: 1 [20000/60000 (33%)]\tLoss: 98.634141\n",
      "Train Epoch: 1 [21000/60000 (35%)]\tLoss: 93.531035\n",
      "Train Epoch: 1 [22000/60000 (37%)]\tLoss: 96.510068\n",
      "Train Epoch: 1 [23000/60000 (38%)]\tLoss: 99.924951\n",
      "Train Epoch: 1 [24000/60000 (40%)]\tLoss: 97.607783\n",
      "Train Epoch: 1 [25000/60000 (42%)]\tLoss: 97.463809\n",
      "Train Epoch: 1 [26000/60000 (43%)]\tLoss: 95.074561\n",
      "Train Epoch: 1 [27000/60000 (45%)]\tLoss: 99.288535\n",
      "Train Epoch: 1 [28000/60000 (47%)]\tLoss: 99.090381\n",
      "Train Epoch: 1 [29000/60000 (48%)]\tLoss: 105.424717\n",
      "Train Epoch: 1 [30000/60000 (50%)]\tLoss: 99.664941\n",
      "Train Epoch: 1 [31000/60000 (52%)]\tLoss: 99.472529\n",
      "Train Epoch: 1 [32000/60000 (53%)]\tLoss: 89.092969\n",
      "Train Epoch: 1 [33000/60000 (55%)]\tLoss: 96.448857\n",
      "Train Epoch: 1 [34000/60000 (57%)]\tLoss: 100.907305\n",
      "Train Epoch: 1 [35000/60000 (58%)]\tLoss: 97.867148\n",
      "Train Epoch: 1 [36000/60000 (60%)]\tLoss: 97.493789\n",
      "Train Epoch: 1 [37000/60000 (62%)]\tLoss: 98.889375\n",
      "Train Epoch: 1 [38000/60000 (63%)]\tLoss: 99.927363\n",
      "Train Epoch: 1 [39000/60000 (65%)]\tLoss: 99.813525\n",
      "Train Epoch: 1 [40000/60000 (67%)]\tLoss: 95.507393\n",
      "Train Epoch: 1 [41000/60000 (68%)]\tLoss: 96.681211\n",
      "Train Epoch: 1 [42000/60000 (70%)]\tLoss: 97.876631\n",
      "Train Epoch: 1 [43000/60000 (72%)]\tLoss: 92.982207\n",
      "Train Epoch: 1 [44000/60000 (73%)]\tLoss: 98.586367\n",
      "Train Epoch: 1 [45000/60000 (75%)]\tLoss: 96.956875\n",
      "Train Epoch: 1 [46000/60000 (77%)]\tLoss: 98.160762\n",
      "Train Epoch: 1 [47000/60000 (78%)]\tLoss: 93.430371\n",
      "Train Epoch: 1 [48000/60000 (80%)]\tLoss: 101.574941\n",
      "Train Epoch: 1 [49000/60000 (82%)]\tLoss: 92.935527\n",
      "Train Epoch: 1 [50000/60000 (83%)]\tLoss: 95.087588\n",
      "Train Epoch: 1 [51000/60000 (85%)]\tLoss: 97.521680\n",
      "Train Epoch: 1 [52000/60000 (87%)]\tLoss: 98.908613\n",
      "Train Epoch: 1 [53000/60000 (88%)]\tLoss: 99.067383\n",
      "Train Epoch: 1 [54000/60000 (90%)]\tLoss: 104.199990\n",
      "Train Epoch: 1 [55000/60000 (92%)]\tLoss: 93.228350\n",
      "Train Epoch: 1 [56000/60000 (93%)]\tLoss: 97.602422\n",
      "Train Epoch: 1 [57000/60000 (95%)]\tLoss: 96.831611\n",
      "Train Epoch: 1 [58000/60000 (97%)]\tLoss: 96.006201\n",
      "Train Epoch: 1 [59000/60000 (98%)]\tLoss: 98.301465\n",
      "====> Test set loss: 0.9399\n",
      "Train Epoch: 2 [0/60000 (0%)]\tLoss: 96.184863\n",
      "Train Epoch: 2 [1000/60000 (2%)]\tLoss: 99.408770\n",
      "Train Epoch: 2 [2000/60000 (3%)]\tLoss: 98.245996\n",
      "Train Epoch: 2 [3000/60000 (5%)]\tLoss: 94.506309\n",
      "Train Epoch: 2 [4000/60000 (7%)]\tLoss: 98.713887\n",
      "Train Epoch: 2 [5000/60000 (8%)]\tLoss: 97.929766\n",
      "Train Epoch: 2 [6000/60000 (10%)]\tLoss: 99.726738\n",
      "Train Epoch: 2 [7000/60000 (12%)]\tLoss: 101.181533\n",
      "Train Epoch: 2 [8000/60000 (13%)]\tLoss: 95.851934\n",
      "Train Epoch: 2 [9000/60000 (15%)]\tLoss: 95.796484\n",
      "Train Epoch: 2 [10000/60000 (17%)]\tLoss: 97.004492\n",
      "Train Epoch: 2 [11000/60000 (18%)]\tLoss: 97.502764\n",
      "Train Epoch: 2 [12000/60000 (20%)]\tLoss: 99.217871\n",
      "Train Epoch: 2 [13000/60000 (22%)]\tLoss: 98.270801\n",
      "Train Epoch: 2 [14000/60000 (23%)]\tLoss: 95.334473\n",
      "Train Epoch: 2 [15000/60000 (25%)]\tLoss: 98.523574\n",
      "Train Epoch: 2 [16000/60000 (27%)]\tLoss: 96.549580\n",
      "Train Epoch: 2 [17000/60000 (28%)]\tLoss: 102.777129\n",
      "Train Epoch: 2 [18000/60000 (30%)]\tLoss: 101.358789\n",
      "Train Epoch: 2 [19000/60000 (32%)]\tLoss: 100.384170\n",
      "Train Epoch: 2 [20000/60000 (33%)]\tLoss: 99.104785\n",
      "Train Epoch: 2 [21000/60000 (35%)]\tLoss: 96.549941\n",
      "Train Epoch: 2 [22000/60000 (37%)]\tLoss: 99.576270\n",
      "Train Epoch: 2 [23000/60000 (38%)]\tLoss: 95.370469\n",
      "Train Epoch: 2 [24000/60000 (40%)]\tLoss: 98.325498\n",
      "Train Epoch: 2 [25000/60000 (42%)]\tLoss: 95.224639\n",
      "Train Epoch: 2 [26000/60000 (43%)]\tLoss: 97.313340\n",
      "Train Epoch: 2 [27000/60000 (45%)]\tLoss: 96.027275\n",
      "Train Epoch: 2 [28000/60000 (47%)]\tLoss: 99.711533\n",
      "Train Epoch: 2 [29000/60000 (48%)]\tLoss: 97.154111\n",
      "Train Epoch: 2 [30000/60000 (50%)]\tLoss: 96.468184\n",
      "Train Epoch: 2 [31000/60000 (52%)]\tLoss: 96.510801\n",
      "Train Epoch: 2 [32000/60000 (53%)]\tLoss: 98.354131\n",
      "Train Epoch: 2 [33000/60000 (55%)]\tLoss: 100.556582\n",
      "Train Epoch: 2 [34000/60000 (57%)]\tLoss: 98.662090\n",
      "Train Epoch: 2 [35000/60000 (58%)]\tLoss: 95.580098\n",
      "Train Epoch: 2 [36000/60000 (60%)]\tLoss: 95.287578\n",
      "Train Epoch: 2 [37000/60000 (62%)]\tLoss: 95.272715\n",
      "Train Epoch: 2 [38000/60000 (63%)]\tLoss: 97.039082\n",
      "Train Epoch: 2 [39000/60000 (65%)]\tLoss: 105.887871\n",
      "Train Epoch: 2 [40000/60000 (67%)]\tLoss: 98.186328\n",
      "Train Epoch: 2 [41000/60000 (68%)]\tLoss: 98.620664\n",
      "Train Epoch: 2 [42000/60000 (70%)]\tLoss: 95.940459\n",
      "Train Epoch: 2 [43000/60000 (72%)]\tLoss: 95.305488\n",
      "Train Epoch: 2 [44000/60000 (73%)]\tLoss: 94.961348\n",
      "Train Epoch: 2 [45000/60000 (75%)]\tLoss: 95.619316\n",
      "Train Epoch: 2 [46000/60000 (77%)]\tLoss: 96.910117\n",
      "Train Epoch: 2 [47000/60000 (78%)]\tLoss: 99.152363\n",
      "Train Epoch: 2 [48000/60000 (80%)]\tLoss: 100.266445\n",
      "Train Epoch: 2 [49000/60000 (82%)]\tLoss: 99.462227\n",
      "Train Epoch: 2 [50000/60000 (83%)]\tLoss: 101.033506\n",
      "Train Epoch: 2 [51000/60000 (85%)]\tLoss: 103.251016\n",
      "Train Epoch: 2 [52000/60000 (87%)]\tLoss: 100.595010\n",
      "Train Epoch: 2 [53000/60000 (88%)]\tLoss: 97.954688\n",
      "Train Epoch: 2 [54000/60000 (90%)]\tLoss: 96.229385\n",
      "Train Epoch: 2 [55000/60000 (92%)]\tLoss: 98.913789\n",
      "Train Epoch: 2 [56000/60000 (93%)]\tLoss: 101.320391\n",
      "Train Epoch: 2 [57000/60000 (95%)]\tLoss: 98.287734\n",
      "Train Epoch: 2 [58000/60000 (97%)]\tLoss: 100.252734\n",
      "Train Epoch: 2 [59000/60000 (98%)]\tLoss: 94.933770\n",
      "====> Test set loss: 0.9676\n",
      "Train Epoch: 3 [0/60000 (0%)]\tLoss: 92.075781\n",
      "Train Epoch: 3 [1000/60000 (2%)]\tLoss: 97.637676\n",
      "Train Epoch: 3 [2000/60000 (3%)]\tLoss: 98.544609\n",
      "Train Epoch: 3 [3000/60000 (5%)]\tLoss: 101.430293\n",
      "Train Epoch: 3 [4000/60000 (7%)]\tLoss: 94.153984\n",
      "Train Epoch: 3 [5000/60000 (8%)]\tLoss: 94.436152\n",
      "Train Epoch: 3 [6000/60000 (10%)]\tLoss: 97.400469\n",
      "Train Epoch: 3 [7000/60000 (12%)]\tLoss: 95.531406\n",
      "Train Epoch: 3 [8000/60000 (13%)]\tLoss: 95.703604\n",
      "Train Epoch: 3 [9000/60000 (15%)]\tLoss: 97.957734\n",
      "Train Epoch: 3 [10000/60000 (17%)]\tLoss: 102.107187\n",
      "Train Epoch: 3 [11000/60000 (18%)]\tLoss: 99.513418\n",
      "Train Epoch: 3 [12000/60000 (20%)]\tLoss: 98.610000\n",
      "Train Epoch: 3 [13000/60000 (22%)]\tLoss: 101.322227\n",
      "Train Epoch: 3 [14000/60000 (23%)]\tLoss: 96.192637\n",
      "Train Epoch: 3 [15000/60000 (25%)]\tLoss: 95.572588\n",
      "Train Epoch: 3 [16000/60000 (27%)]\tLoss: 98.276562\n",
      "Train Epoch: 3 [17000/60000 (28%)]\tLoss: 95.034316\n",
      "Train Epoch: 3 [18000/60000 (30%)]\tLoss: 96.476885\n",
      "Train Epoch: 3 [19000/60000 (32%)]\tLoss: 95.951484\n",
      "Train Epoch: 3 [20000/60000 (33%)]\tLoss: 94.963945\n",
      "Train Epoch: 3 [21000/60000 (35%)]\tLoss: 97.573262\n",
      "Train Epoch: 3 [22000/60000 (37%)]\tLoss: 102.089180\n",
      "Train Epoch: 3 [23000/60000 (38%)]\tLoss: 95.781631\n",
      "Train Epoch: 3 [24000/60000 (40%)]\tLoss: 98.540371\n",
      "Train Epoch: 3 [25000/60000 (42%)]\tLoss: 95.525918\n",
      "Train Epoch: 3 [26000/60000 (43%)]\tLoss: 93.788184\n",
      "Train Epoch: 3 [27000/60000 (45%)]\tLoss: 99.900117\n",
      "Train Epoch: 3 [28000/60000 (47%)]\tLoss: 97.414609\n",
      "Train Epoch: 3 [29000/60000 (48%)]\tLoss: 94.719453\n",
      "Train Epoch: 3 [30000/60000 (50%)]\tLoss: 96.231699\n",
      "Train Epoch: 3 [31000/60000 (52%)]\tLoss: 99.787871\n",
      "Train Epoch: 3 [32000/60000 (53%)]\tLoss: 95.216855\n",
      "Train Epoch: 3 [33000/60000 (55%)]\tLoss: 97.978008\n",
      "Train Epoch: 3 [34000/60000 (57%)]\tLoss: 94.230293\n",
      "Train Epoch: 3 [35000/60000 (58%)]\tLoss: 97.817344\n",
      "Train Epoch: 3 [36000/60000 (60%)]\tLoss: 91.377266\n",
      "Train Epoch: 3 [37000/60000 (62%)]\tLoss: 94.893135\n",
      "Train Epoch: 3 [38000/60000 (63%)]\tLoss: 96.968789\n",
      "Train Epoch: 3 [39000/60000 (65%)]\tLoss: 100.121826\n",
      "Train Epoch: 3 [40000/60000 (67%)]\tLoss: 96.748506\n",
      "Train Epoch: 3 [41000/60000 (68%)]\tLoss: 94.469258\n",
      "Train Epoch: 3 [42000/60000 (70%)]\tLoss: 97.805586\n",
      "Train Epoch: 3 [43000/60000 (72%)]\tLoss: 100.473672\n",
      "Train Epoch: 3 [44000/60000 (73%)]\tLoss: 104.235273\n",
      "Train Epoch: 3 [45000/60000 (75%)]\tLoss: 100.109629\n",
      "Train Epoch: 3 [46000/60000 (77%)]\tLoss: 99.137500\n",
      "Train Epoch: 3 [47000/60000 (78%)]\tLoss: 95.836357\n",
      "Train Epoch: 3 [48000/60000 (80%)]\tLoss: 94.836328\n",
      "Train Epoch: 3 [49000/60000 (82%)]\tLoss: 93.868594\n",
      "Train Epoch: 3 [50000/60000 (83%)]\tLoss: 100.379883\n",
      "Train Epoch: 3 [51000/60000 (85%)]\tLoss: 97.903320\n",
      "Train Epoch: 3 [52000/60000 (87%)]\tLoss: 100.444004\n",
      "Train Epoch: 3 [53000/60000 (88%)]\tLoss: 100.981582\n",
      "Train Epoch: 3 [54000/60000 (90%)]\tLoss: 95.900430\n",
      "Train Epoch: 3 [55000/60000 (92%)]\tLoss: 97.902178\n",
      "Train Epoch: 3 [56000/60000 (93%)]\tLoss: 98.539277\n",
      "Train Epoch: 3 [57000/60000 (95%)]\tLoss: 97.852832\n",
      "Train Epoch: 3 [58000/60000 (97%)]\tLoss: 100.838877\n",
      "Train Epoch: 3 [59000/60000 (98%)]\tLoss: 96.734014\n",
      "====> Test set loss: 0.9684\n"
     ]
    }
   ],
   "source": [
    "train_c_epoch(epochs=3,mu_c=mu_c_g,logvar_c=logvar_c_g,pi_c=pi_c_g)\n",
    "\n",
    "\n",
    "\n",
    "\n",
    "\n",
    "\n",
    "\n",
    "\n"
   ],
   "metadata": {
    "collapsed": false,
    "pycharm": {
     "name": "#%%\n"
    }
   }
  },
  {
   "cell_type": "code",
   "execution_count": null,
   "outputs": [],
   "source": [],
   "metadata": {
    "collapsed": false,
    "pycharm": {
     "name": "#%%\n"
    }
   }
  }
 ],
 "metadata": {
  "kernelspec": {
   "display_name": "Python 3",
   "language": "python",
   "name": "python3"
  },
  "language_info": {
   "codemirror_mode": {
    "name": "ipython",
    "version": 2
   },
   "file_extension": ".py",
   "mimetype": "text/x-python",
   "name": "python",
   "nbconvert_exporter": "python",
   "pygments_lexer": "ipython2",
   "version": "2.7.6"
  }
 },
 "nbformat": 4,
 "nbformat_minor": 0
}