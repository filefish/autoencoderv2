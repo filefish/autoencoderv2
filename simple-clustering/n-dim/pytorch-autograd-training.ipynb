{
 "cells": [
  {
   "cell_type": "code",
   "execution_count": null,
   "metadata": {
    "collapsed": true
   },
   "outputs": [],
   "source": []
  },
  {
   "cell_type": "code",
   "execution_count": 1,
   "outputs": [],
   "source": [
    "import torch\n",
    "import torch.nn as nn\n",
    "import torch.optim as optim\n",
    "import matplotlib.pyplot as plt\n",
    "from torch.distributions.multivariate_normal import MultivariateNormal\n"
   ],
   "metadata": {
    "collapsed": false,
    "pycharm": {
     "name": "#%%\n",
     "is_executing": false
    }
   }
  },
  {
   "cell_type": "code",
   "execution_count": 2,
   "outputs": [],
   "source": [
    "x = torch.randn(100,3)"
   ],
   "metadata": {
    "collapsed": false,
    "pycharm": {
     "name": "#%%\n",
     "is_executing": false
    }
   }
  },
  {
   "cell_type": "code",
   "execution_count": 3,
   "outputs": [
    {
     "data": {
      "text/plain": "tensor([[ 1.2852,  0.6731, -1.1640],\n        [-0.6906,  0.4229, -1.4933],\n        [ 0.0693,  1.0324, -1.0483],\n        [-1.3740, -3.0344, -2.8331],\n        [-0.8330,  0.3623,  1.0266],\n        [-1.0387,  0.3193, -0.6139],\n        [-0.5291, -1.3994,  0.0805],\n        [-1.5010,  0.3095, -0.0246],\n        [-2.3262,  1.1469, -0.3803],\n        [-0.4232,  0.8612,  0.7807],\n        [ 1.0899, -0.0747,  1.0393],\n        [-0.0729, -0.6723,  1.5213],\n        [ 1.6424, -0.6895, -1.1465],\n        [ 0.5237,  0.0440,  2.1313],\n        [-1.0450,  0.7648, -0.2872],\n        [ 0.9480, -1.2491, -1.8269],\n        [-2.1356,  0.3101,  0.7963],\n        [ 1.2401, -0.1705,  0.1151],\n        [-0.0164, -0.3042,  1.6839],\n        [-1.7719, -1.3008, -1.1759],\n        [ 1.0598,  1.6622, -1.0152],\n        [-0.2771,  0.8625, -0.1281],\n        [ 0.7010,  0.1737,  0.4751],\n        [-0.3824,  0.3824,  2.1301],\n        [ 0.0900,  0.4682,  0.2531],\n        [ 1.0458, -1.3603, -1.1608],\n        [ 1.2136,  0.4381, -0.9238],\n        [ 1.9229, -1.3879, -0.9438],\n        [-0.2528, -2.1228, -0.3950],\n        [-0.4291, -0.2779,  0.6073],\n        [-1.7783, -0.1719, -1.1601],\n        [ 1.9417,  0.2197, -0.0773],\n        [ 0.8618,  0.5746, -0.3689],\n        [ 0.5185,  0.7939,  0.3418],\n        [-1.0691,  0.5769,  0.8134],\n        [-0.1525, -1.5115,  0.5790],\n        [ 1.1383, -0.2777,  0.4752],\n        [ 1.3966, -2.1734, -0.6796],\n        [-0.4007, -1.0923, -0.4021],\n        [-0.3041, -0.9166,  0.5170],\n        [-0.0602,  0.7115, -0.4142],\n        [ 0.0683, -0.7545, -0.6423],\n        [ 0.5934, -2.1097,  0.7922],\n        [ 0.4952,  1.4111, -0.9159],\n        [-0.1758, -0.7695,  0.6070],\n        [ 0.0423,  0.2247, -0.2576],\n        [-0.5038,  0.2746, -1.3627],\n        [-0.0886,  0.6558, -1.8881],\n        [ 0.0763,  1.2406, -1.8971],\n        [-1.9364, -1.3937, -1.0670],\n        [-1.2779,  0.2100,  0.1216],\n        [ 0.0058, -1.2493, -1.3280],\n        [-0.3162,  0.0690, -1.0493],\n        [ 0.4148, -1.4928, -0.2967],\n        [ 0.7156,  0.5490, -0.6938],\n        [ 1.1283,  0.7492,  0.9212],\n        [-1.0708, -1.1425, -0.6745],\n        [-0.0283, -0.8939, -1.3268],\n        [-0.8353,  0.5482,  0.8228],\n        [-1.6784, -0.6783,  0.3474],\n        [ 0.8256,  0.1005,  0.5239],\n        [-0.5376, -0.9264, -0.0048],\n        [ 0.7773,  0.9819,  0.2207],\n        [-0.8548, -0.6985,  0.5744],\n        [ 2.0122, -0.1098,  0.2370],\n        [ 0.2627,  1.6809, -0.4556],\n        [-2.2370, -0.1846, -0.1227],\n        [-0.1810,  0.5886,  1.1825],\n        [ 1.2810,  0.1816, -0.7310],\n        [ 1.7629,  0.4689,  1.2125],\n        [-0.1986, -0.4325,  0.1171],\n        [ 0.4119,  0.2157, -0.4562],\n        [ 0.2323,  0.0797,  0.6908],\n        [-0.5399,  0.5607,  0.1455],\n        [ 0.0762,  0.5767, -0.5598],\n        [-0.5925, -0.4839,  0.3808],\n        [-0.4298, -0.5787,  0.4003],\n        [ 0.4882, -0.6333,  0.0666],\n        [-0.8321,  1.5259, -0.8799],\n        [-0.5112, -0.7896, -1.7461],\n        [-0.0480, -0.1921,  0.9032],\n        [ 1.7451, -0.7712,  0.9866],\n        [ 0.0426, -0.5257, -1.7111],\n        [ 0.1392,  2.1927,  0.9683],\n        [-0.6708,  0.3377,  0.6567],\n        [-0.4093, -0.3593, -0.2217],\n        [-0.0382,  1.3961, -1.0618],\n        [ 0.8077,  0.3323,  0.5991],\n        [-0.1994, -0.0952,  0.3640],\n        [-0.3918,  0.1034,  0.6672],\n        [ 0.2748, -0.8045,  1.3712],\n        [ 0.0232, -1.7035, -1.0237],\n        [ 0.6295, -1.9890, -0.0701],\n        [ 0.5884,  0.8508, -2.1005],\n        [-0.4444, -0.4311,  0.8888],\n        [-0.0817, -0.6390,  0.8689],\n        [-1.0786, -0.3949, -0.0832],\n        [-0.7556,  0.6093,  1.0739],\n        [ 1.0035,  0.3304,  1.5834],\n        [-2.2439,  1.5708, -0.2265]])"
     },
     "metadata": {},
     "output_type": "execute_result",
     "execution_count": 3
    }
   ],
   "source": [
    "x"
   ],
   "metadata": {
    "collapsed": false,
    "pycharm": {
     "name": "#%%\n",
     "is_executing": false
    }
   }
  },
  {
   "cell_type": "code",
   "execution_count": 6,
   "outputs": [],
   "source": [
    "a = torch.tensor([1.,2.,3.],requires_grad=True)"
   ],
   "metadata": {
    "collapsed": false,
    "pycharm": {
     "name": "#%%\n",
     "is_executing": false
    }
   }
  },
  {
   "cell_type": "code",
   "execution_count": 7,
   "outputs": [
    {
     "data": {
      "text/plain": "tensor([1., 2., 3.], requires_grad=True)"
     },
     "metadata": {},
     "output_type": "execute_result",
     "execution_count": 7
    }
   ],
   "source": [
    "a"
   ],
   "metadata": {
    "collapsed": false,
    "pycharm": {
     "name": "#%%\n",
     "is_executing": false
    }
   }
  },
  {
   "cell_type": "code",
   "execution_count": 25,
   "outputs": [],
   "source": [
    "y = torch.mv(x,a)"
   ],
   "metadata": {
    "collapsed": false,
    "pycharm": {
     "name": "#%%\n",
     "is_executing": false
    }
   }
  },
  {
   "cell_type": "code",
   "execution_count": 26,
   "outputs": [
    {
     "data": {
      "text/plain": "tensor([ -0.8606,  -4.3246,  -1.0111, -15.9423,   2.9715,  -2.2416,  -3.0863,\n         -0.9558,  -1.1732,   3.6413,   4.0583,   3.1463,  -3.1761,   7.0058,\n         -0.3772,  -7.0309,   0.8735,   1.2446,   4.4270,  -7.9014,   1.3386,\n          1.0636,   2.4737,   6.7726,   1.7858,  -5.1571,  -0.6816,  -3.6843,\n         -5.6833,   0.8370,  -5.6023,   2.1491,   0.9042,   3.1317,   2.5249,\n         -1.4385,   2.0084,  -4.9889,  -3.7917,  -0.5863,   0.1201,  -3.3675,\n         -1.2495,   0.5696,   0.1062,  -0.2810,  -4.0425,  -4.4415,  -3.1336,\n         -7.9248,  -0.4932,  -6.4769,  -3.3261,  -3.4609,  -0.2678,   5.3904,\n         -5.3794,  -5.7964,   2.7293,  -1.9927,   2.5982,  -2.4047,   3.4032,\n         -0.5285,   2.5034,   2.2577,  -2.9744,   4.5438,  -0.5488,   6.3382,\n         -0.7124,  -0.5253,   2.4642,   1.0178,  -0.4497,  -0.4180,  -0.3864,\n         -0.5787,  -0.4198,  -7.3288,   2.2777,   3.1626,  -6.1421,   7.4294,\n          1.9746,  -1.7928,  -0.4314,   3.2697,   0.7022,   1.8165,   2.7794,\n         -6.4549,  -3.5587,  -4.0115,   1.3597,   1.2470,  -2.1179,   3.6846,\n          6.4148,   0.2182], grad_fn=<MvBackward>)"
     },
     "metadata": {},
     "output_type": "execute_result",
     "execution_count": 26
    }
   ],
   "source": [
    "y"
   ],
   "metadata": {
    "collapsed": false,
    "pycharm": {
     "name": "#%%\n",
     "is_executing": false
    }
   }
  },
  {
   "cell_type": "code",
   "execution_count": 27,
   "outputs": [],
   "source": [
    "o = y.sum()"
   ],
   "metadata": {
    "collapsed": false,
    "pycharm": {
     "name": "#%%\n",
     "is_executing": false
    }
   }
  },
  {
   "cell_type": "code",
   "execution_count": 28,
   "outputs": [
    {
     "data": {
      "text/plain": "tensor(-50.3773, grad_fn=<SumBackward0>)"
     },
     "metadata": {},
     "output_type": "execute_result",
     "execution_count": 28
    }
   ],
   "source": [
    "o"
   ],
   "metadata": {
    "collapsed": false,
    "pycharm": {
     "name": "#%%\n",
     "is_executing": false
    }
   }
  },
  {
   "cell_type": "code",
   "execution_count": 29,
   "outputs": [],
   "source": [
    "o.backward()"
   ],
   "metadata": {
    "collapsed": false,
    "pycharm": {
     "name": "#%%\n",
     "is_executing": false
    }
   }
  },
  {
   "cell_type": "code",
   "execution_count": 14,
   "outputs": [
    {
     "data": {
      "text/plain": "tensor([-4.4380, -9.6872, -8.8549])"
     },
     "metadata": {},
     "output_type": "execute_result",
     "execution_count": 14
    }
   ],
   "source": [
    "a.grad"
   ],
   "metadata": {
    "collapsed": false,
    "pycharm": {
     "name": "#%%\n",
     "is_executing": false
    }
   }
  },
  {
   "cell_type": "code",
   "execution_count": 17,
   "outputs": [
    {
     "data": {
      "text/plain": "tensor([-4.4380, -9.6872, -8.8549])"
     },
     "metadata": {},
     "output_type": "execute_result",
     "execution_count": 17
    }
   ],
   "source": [
    "x.sum(0)\n"
   ],
   "metadata": {
    "collapsed": false,
    "pycharm": {
     "name": "#%%\n",
     "is_executing": false
    }
   }
  },
  {
   "cell_type": "code",
   "execution_count": 19,
   "outputs": [
    {
     "data": {
      "text/plain": "True"
     },
     "metadata": {},
     "output_type": "execute_result",
     "execution_count": 19
    }
   ],
   "source": [
    "x.grad is None"
   ],
   "metadata": {
    "collapsed": false,
    "pycharm": {
     "name": "#%%\n",
     "is_executing": false
    }
   }
  },
  {
   "cell_type": "code",
   "execution_count": 22,
   "outputs": [],
   "source": [
    "x.requires_grad = True"
   ],
   "metadata": {
    "collapsed": false,
    "pycharm": {
     "name": "#%%\n",
     "is_executing": false
    }
   }
  },
  {
   "cell_type": "code",
   "execution_count": 23,
   "outputs": [
    {
     "data": {
      "text/plain": "True"
     },
     "metadata": {},
     "output_type": "execute_result",
     "execution_count": 23
    }
   ],
   "source": [
    "x.requires_grad\n"
   ],
   "metadata": {
    "collapsed": false,
    "pycharm": {
     "name": "#%%\n",
     "is_executing": false
    }
   }
  },
  {
   "cell_type": "code",
   "execution_count": 30,
   "outputs": [
    {
     "data": {
      "text/plain": "tensor([[1., 2., 3.],\n        [1., 2., 3.],\n        [1., 2., 3.],\n        [1., 2., 3.],\n        [1., 2., 3.],\n        [1., 2., 3.],\n        [1., 2., 3.],\n        [1., 2., 3.],\n        [1., 2., 3.],\n        [1., 2., 3.],\n        [1., 2., 3.],\n        [1., 2., 3.],\n        [1., 2., 3.],\n        [1., 2., 3.],\n        [1., 2., 3.],\n        [1., 2., 3.],\n        [1., 2., 3.],\n        [1., 2., 3.],\n        [1., 2., 3.],\n        [1., 2., 3.],\n        [1., 2., 3.],\n        [1., 2., 3.],\n        [1., 2., 3.],\n        [1., 2., 3.],\n        [1., 2., 3.],\n        [1., 2., 3.],\n        [1., 2., 3.],\n        [1., 2., 3.],\n        [1., 2., 3.],\n        [1., 2., 3.],\n        [1., 2., 3.],\n        [1., 2., 3.],\n        [1., 2., 3.],\n        [1., 2., 3.],\n        [1., 2., 3.],\n        [1., 2., 3.],\n        [1., 2., 3.],\n        [1., 2., 3.],\n        [1., 2., 3.],\n        [1., 2., 3.],\n        [1., 2., 3.],\n        [1., 2., 3.],\n        [1., 2., 3.],\n        [1., 2., 3.],\n        [1., 2., 3.],\n        [1., 2., 3.],\n        [1., 2., 3.],\n        [1., 2., 3.],\n        [1., 2., 3.],\n        [1., 2., 3.],\n        [1., 2., 3.],\n        [1., 2., 3.],\n        [1., 2., 3.],\n        [1., 2., 3.],\n        [1., 2., 3.],\n        [1., 2., 3.],\n        [1., 2., 3.],\n        [1., 2., 3.],\n        [1., 2., 3.],\n        [1., 2., 3.],\n        [1., 2., 3.],\n        [1., 2., 3.],\n        [1., 2., 3.],\n        [1., 2., 3.],\n        [1., 2., 3.],\n        [1., 2., 3.],\n        [1., 2., 3.],\n        [1., 2., 3.],\n        [1., 2., 3.],\n        [1., 2., 3.],\n        [1., 2., 3.],\n        [1., 2., 3.],\n        [1., 2., 3.],\n        [1., 2., 3.],\n        [1., 2., 3.],\n        [1., 2., 3.],\n        [1., 2., 3.],\n        [1., 2., 3.],\n        [1., 2., 3.],\n        [1., 2., 3.],\n        [1., 2., 3.],\n        [1., 2., 3.],\n        [1., 2., 3.],\n        [1., 2., 3.],\n        [1., 2., 3.],\n        [1., 2., 3.],\n        [1., 2., 3.],\n        [1., 2., 3.],\n        [1., 2., 3.],\n        [1., 2., 3.],\n        [1., 2., 3.],\n        [1., 2., 3.],\n        [1., 2., 3.],\n        [1., 2., 3.],\n        [1., 2., 3.],\n        [1., 2., 3.],\n        [1., 2., 3.],\n        [1., 2., 3.],\n        [1., 2., 3.],\n        [1., 2., 3.]])"
     },
     "metadata": {},
     "output_type": "execute_result",
     "execution_count": 30
    }
   ],
   "source": [
    "x.grad"
   ],
   "metadata": {
    "collapsed": false,
    "pycharm": {
     "name": "#%%\n",
     "is_executing": false
    }
   }
  },
  {
   "cell_type": "code",
   "execution_count": 2,
   "outputs": [
    {
     "data": {
      "text/plain": "tensor([1., 2., 3.])"
     },
     "metadata": {},
     "output_type": "execute_result",
     "execution_count": 2
    }
   ],
   "source": [
    "\n",
    "w_true = torch.Tensor([1,2,3])\n",
    "w_true"
   ],
   "metadata": {
    "collapsed": false,
    "pycharm": {
     "name": "#%%\n",
     "is_executing": false
    }
   }
  },
  {
   "cell_type": "code",
   "execution_count": 3,
   "outputs": [
    {
     "data": {
      "text/plain": "False"
     },
     "metadata": {},
     "output_type": "execute_result",
     "execution_count": 3
    }
   ],
   "source": [
    "w_true.requires_grad"
   ],
   "metadata": {
    "collapsed": false,
    "pycharm": {
     "name": "#%%\n",
     "is_executing": false
    }
   }
  },
  {
   "cell_type": "code",
   "execution_count": 4,
   "outputs": [],
   "source": [
    "X = torch.cat([torch.ones(100,1),torch.randn(100,2)],1)"
   ],
   "metadata": {
    "collapsed": false,
    "pycharm": {
     "name": "#%%\n",
     "is_executing": false
    }
   }
  },
  {
   "cell_type": "code",
   "execution_count": 5,
   "outputs": [
    {
     "data": {
      "text/plain": "tensor([[ 1.0000e+00,  9.9325e-01, -4.0089e-01],\n        [ 1.0000e+00,  1.6496e-01,  1.1766e+00],\n        [ 1.0000e+00, -2.3434e+00, -9.0215e-01],\n        [ 1.0000e+00,  2.0890e+00,  3.3173e-01],\n        [ 1.0000e+00, -1.5304e-01, -1.5834e+00],\n        [ 1.0000e+00,  3.1840e-02, -1.6991e+00],\n        [ 1.0000e+00,  3.4971e-01, -4.9368e-01],\n        [ 1.0000e+00, -8.9426e-01,  5.4047e-01],\n        [ 1.0000e+00, -6.6114e-01, -9.5446e-01],\n        [ 1.0000e+00, -4.5036e-01, -6.8110e-01],\n        [ 1.0000e+00,  6.1316e-01, -1.9167e+00],\n        [ 1.0000e+00,  5.4934e-01, -2.9333e-02],\n        [ 1.0000e+00,  4.3011e-01, -1.9705e+00],\n        [ 1.0000e+00,  5.4125e-01, -5.1652e-01],\n        [ 1.0000e+00, -2.3099e+00,  8.6340e-01],\n        [ 1.0000e+00,  1.3549e+00,  1.0800e+00],\n        [ 1.0000e+00, -3.4247e-01,  2.1720e-01],\n        [ 1.0000e+00, -4.2443e-01,  9.1998e-01],\n        [ 1.0000e+00, -2.8842e-02, -5.1117e-01],\n        [ 1.0000e+00, -1.8257e+00, -2.4277e+00],\n        [ 1.0000e+00, -3.9752e-01, -4.5528e-01],\n        [ 1.0000e+00, -2.6888e+00, -1.5527e+00],\n        [ 1.0000e+00, -7.1031e-01, -1.7563e+00],\n        [ 1.0000e+00,  2.0156e-03, -5.3079e-01],\n        [ 1.0000e+00, -1.3518e+00, -6.4471e-01],\n        [ 1.0000e+00,  8.5145e-02, -2.8649e-01],\n        [ 1.0000e+00,  5.0535e-01, -1.0910e+00],\n        [ 1.0000e+00,  1.1033e+00, -2.6329e-01],\n        [ 1.0000e+00, -6.6318e-01,  1.0536e+00],\n        [ 1.0000e+00, -2.1658e+00, -5.0475e-01],\n        [ 1.0000e+00, -3.7584e-01,  4.2656e-01],\n        [ 1.0000e+00,  1.1310e+00, -2.1195e-01],\n        [ 1.0000e+00,  5.2378e-01, -7.0505e-01],\n        [ 1.0000e+00,  1.4245e+00,  1.0539e+00],\n        [ 1.0000e+00, -1.1290e+00,  7.6696e-01],\n        [ 1.0000e+00,  1.7518e-02,  7.6513e-01],\n        [ 1.0000e+00, -2.0117e-01,  2.1477e+00],\n        [ 1.0000e+00,  1.2475e-01,  5.7979e-01],\n        [ 1.0000e+00,  3.9654e-01,  1.0803e+00],\n        [ 1.0000e+00, -3.3434e-01,  3.2333e-01],\n        [ 1.0000e+00,  6.5526e-01,  5.2046e-01],\n        [ 1.0000e+00,  4.9398e-01,  9.0271e-01],\n        [ 1.0000e+00, -2.0204e-01, -5.2433e-02],\n        [ 1.0000e+00, -1.4480e+00,  1.7195e+00],\n        [ 1.0000e+00,  1.0723e-01, -2.8322e-01],\n        [ 1.0000e+00, -3.8291e-01, -1.2142e-01],\n        [ 1.0000e+00,  1.7906e+00,  7.3143e-01],\n        [ 1.0000e+00, -1.4785e-01,  1.6492e-01],\n        [ 1.0000e+00, -2.5847e-02, -4.2541e-01],\n        [ 1.0000e+00,  1.1424e+00,  5.6334e-01],\n        [ 1.0000e+00, -3.6108e-01,  1.5477e+00],\n        [ 1.0000e+00,  2.7101e+00,  1.0698e-01],\n        [ 1.0000e+00,  7.1416e-01,  1.4608e+00],\n        [ 1.0000e+00, -2.0517e-01, -8.8663e-01],\n        [ 1.0000e+00,  1.2778e+00, -1.4484e+00],\n        [ 1.0000e+00,  1.3620e+00, -1.7552e+00],\n        [ 1.0000e+00, -9.5240e-02,  4.2085e-01],\n        [ 1.0000e+00,  1.1499e+00, -8.0282e-01],\n        [ 1.0000e+00,  1.0975e+00,  5.8628e-01],\n        [ 1.0000e+00,  5.4484e-01, -5.3576e-01],\n        [ 1.0000e+00, -2.2808e+00, -7.9217e-01],\n        [ 1.0000e+00,  3.7455e-01, -6.6520e-01],\n        [ 1.0000e+00, -1.0478e+00,  3.5633e-01],\n        [ 1.0000e+00,  1.5702e-01,  2.6886e-02],\n        [ 1.0000e+00,  1.1903e+00, -1.1831e+00],\n        [ 1.0000e+00, -1.3797e+00,  6.8583e-01],\n        [ 1.0000e+00, -1.2350e+00,  6.5234e-01],\n        [ 1.0000e+00, -4.1209e-02,  6.9664e-01],\n        [ 1.0000e+00,  4.1667e-01,  1.0869e+00],\n        [ 1.0000e+00, -1.9907e-01,  1.0122e+00],\n        [ 1.0000e+00,  1.6020e-03, -1.9214e-02],\n        [ 1.0000e+00, -1.2358e+00,  3.2368e+00],\n        [ 1.0000e+00,  8.8107e-01, -1.2932e+00],\n        [ 1.0000e+00,  1.5295e-02,  1.6747e+00],\n        [ 1.0000e+00, -9.5802e-02, -2.0702e-01],\n        [ 1.0000e+00,  8.5151e-01,  7.9013e-01],\n        [ 1.0000e+00,  1.7741e+00,  1.2675e+00],\n        [ 1.0000e+00, -4.6522e-01,  4.0047e-01],\n        [ 1.0000e+00, -2.1893e-01,  1.0789e+00],\n        [ 1.0000e+00, -3.0486e-01,  1.6526e+00],\n        [ 1.0000e+00, -2.0671e+00,  3.1156e+00],\n        [ 1.0000e+00, -9.7003e-01,  6.7546e-01],\n        [ 1.0000e+00,  1.5182e+00,  6.8631e-01],\n        [ 1.0000e+00,  1.9952e-01, -5.2795e-01],\n        [ 1.0000e+00, -5.6583e-01, -8.3586e-01],\n        [ 1.0000e+00,  2.4732e+00,  3.1395e-01],\n        [ 1.0000e+00,  8.1338e-01, -1.2950e+00],\n        [ 1.0000e+00, -5.0924e-01,  4.4585e-01],\n        [ 1.0000e+00,  8.4685e-01,  8.0750e-01],\n        [ 1.0000e+00, -7.2503e-01, -8.3263e-01],\n        [ 1.0000e+00,  1.2266e+00,  8.6747e-01],\n        [ 1.0000e+00,  7.2186e-01, -1.1559e+00],\n        [ 1.0000e+00, -1.7647e-01, -2.0918e-01],\n        [ 1.0000e+00,  8.5025e-01, -1.4524e-01],\n        [ 1.0000e+00,  2.6782e-01,  6.4155e-01],\n        [ 1.0000e+00,  1.9802e+00,  4.6531e-01],\n        [ 1.0000e+00,  2.0078e+00,  6.6311e-01],\n        [ 1.0000e+00, -9.8376e-01,  4.2293e-01],\n        [ 1.0000e+00, -2.9025e-01, -8.7266e-01],\n        [ 1.0000e+00, -6.5199e-01, -5.1363e-01]])"
     },
     "metadata": {},
     "output_type": "execute_result",
     "execution_count": 5
    }
   ],
   "source": [
    "X"
   ],
   "metadata": {
    "collapsed": false,
    "pycharm": {
     "name": "#%%\n",
     "is_executing": false
    }
   }
  },
  {
   "cell_type": "code",
   "execution_count": 6,
   "outputs": [],
   "source": [
    "\n",
    "y = torch.mv(X,w_true) + torch.randn(100)*0.5"
   ],
   "metadata": {
    "collapsed": false,
    "pycharm": {
     "name": "#%%\n",
     "is_executing": false
    }
   }
  },
  {
   "cell_type": "code",
   "execution_count": null,
   "outputs": [
    {
     "data": {
      "text/plain": "tensor([ 0.9453,  5.6849, -5.7914,  6.5774, -4.2589, -3.2213, -0.8460,  0.5078,\n        -2.9499, -1.9276, -3.9571,  1.6803, -4.8682,  1.2174, -1.9743,  6.8366,\n         0.5047,  3.3280, -0.1832, -9.8651, -1.5574, -9.1362, -5.6764, -0.1460,\n        -4.4136,  0.6443, -1.9301,  2.9040,  3.0851, -4.8983,  1.7565,  3.0975,\n        -0.0403,  7.2948,  0.7413,  3.0634,  7.3631,  3.1185,  5.0711,  1.9599,\n         4.5245,  4.5141,  0.1420,  3.0710,  0.1651,  0.4682,  6.2495,  1.2881,\n        -0.2615,  6.5270,  3.9434,  6.5383,  6.3152, -2.5475, -0.7483, -0.2742,\n         2.6599, -0.0383,  5.2703,  0.4009, -5.7875, -0.6916,  0.3438,  2.0933,\n        -0.0653,  0.5770,  0.7955,  2.9635,  4.9924,  4.3424,  1.3418,  8.1492,\n        -1.2724,  5.7341, -1.2499,  4.4132,  7.8398,  1.0188,  3.9360,  5.9176,\n         4.7620,  1.7206,  4.9867,  0.0863, -2.0983,  6.0451, -1.6287,  1.4164,\n         5.7438, -3.1079,  5.9796, -1.5160,  0.0827,  1.8945,  3.7577,  6.9404,\n         6.4198, -0.4423, -2.9045, -2.4610])"
     },
     "metadata": {},
     "output_type": "execute_result",
     "execution_count": 7
    }
   ],
   "source": [
    "y\n"
   ],
   "metadata": {
    "collapsed": false,
    "pycharm": {
     "name": "#%%\n",
     "is_executing": true
    }
   }
  },
  {
   "cell_type": "code",
   "execution_count": 8,
   "outputs": [
    {
     "data": {
      "text/plain": "torch.Size([100])"
     },
     "metadata": {},
     "output_type": "execute_result",
     "execution_count": 8
    }
   ],
   "source": [
    "y.shape"
   ],
   "metadata": {
    "collapsed": false,
    "pycharm": {
     "name": "#%%\n",
     "is_executing": false
    }
   }
  },
  {
   "cell_type": "code",
   "execution_count": 9,
   "outputs": [],
   "source": [
    "w = torch.randn(3,requires_grad=True)"
   ],
   "metadata": {
    "collapsed": false,
    "pycharm": {
     "name": "#%%\n",
     "is_executing": false
    }
   }
  },
  {
   "cell_type": "code",
   "execution_count": 17,
   "outputs": [
    {
     "data": {
      "text/plain": "tensor([ 0.8116, -0.1237, -0.8117], requires_grad=True)"
     },
     "metadata": {},
     "output_type": "execute_result",
     "execution_count": 17
    }
   ],
   "source": [
    "w"
   ],
   "metadata": {
    "collapsed": false,
    "pycharm": {
     "name": "#%%\n",
     "is_executing": false
    }
   }
  },
  {
   "cell_type": "code",
   "execution_count": 11,
   "outputs": [],
   "source": [
    "gamma=0.1\n"
   ],
   "metadata": {
    "collapsed": false,
    "pycharm": {
     "name": "#%%\n",
     "is_executing": false
    }
   }
  },
  {
   "cell_type": "code",
   "execution_count": 14,
   "outputs": [],
   "source": [
    "losses = []\n"
   ],
   "metadata": {
    "collapsed": false,
    "pycharm": {
     "name": "#%%\n",
     "is_executing": false
    }
   }
  },
  {
   "cell_type": "code",
   "execution_count": 18,
   "outputs": [],
   "source": [
    "for epoc in range(100):\n",
    "    \n",
    "    w.grad = None\n",
    "    \n",
    "    y_pred = torch.mv(X,w)\n",
    "    \n",
    "    loss = torch.mean((y-y_pred)**2)\n",
    "    loss.backward()\n",
    "    \n",
    "    w.data = w.data - gamma*w.grad.data\n",
    "    \n",
    "    losses.append(loss.item())"
   ],
   "metadata": {
    "collapsed": false,
    "pycharm": {
     "name": "#%%\n",
     "is_executing": false
    }
   }
  },
  {
   "cell_type": "code",
   "execution_count": 19,
   "outputs": [
    {
     "data": {
      "text/plain": "[<matplotlib.lines.Line2D at 0x7ff4ec1f8668>]"
     },
     "metadata": {},
     "output_type": "execute_result",
     "execution_count": 19
    },
    {
     "data": {
      "text/plain": "<Figure size 432x288 with 1 Axes>",
      "image/png": "[encoded data removed]"
     },
     "metadata": {
      "needs_background": "light"
     },
     "output_type": "display_data"
    }
   ],
   "source": [
    "plt.plot(losses)"
   ],
   "metadata": {
    "collapsed": false,
    "pycharm": {
     "name": "#%%\n",
     "is_executing": false
    }
   }
  },
  {
   "cell_type": "code",
   "execution_count": 20,
   "outputs": [
    {
     "data": {
      "text/plain": "tensor([0.9604, 2.0069, 2.9843], requires_grad=True)"
     },
     "metadata": {},
     "output_type": "execute_result",
     "execution_count": 20
    }
   ],
   "source": [
    "w"
   ],
   "metadata": {
    "collapsed": false,
    "pycharm": {
     "name": "#%%\n",
     "is_executing": false
    }
   }
  },
  {
   "cell_type": "code",
   "execution_count": 21,
   "outputs": [],
   "source": [
    "net = nn.Linear(in_features=3,out_features=1,bias=False)"
   ],
   "metadata": {
    "collapsed": false,
    "pycharm": {
     "name": "#%%\n",
     "is_executing": false
    }
   }
  },
  {
   "cell_type": "code",
   "execution_count": 22,
   "outputs": [],
   "source": [
    "optimizer = optim.SGD(net.parameters(),lr=0.1)"
   ],
   "metadata": {
    "collapsed": false,
    "pycharm": {
     "name": "#%%\n",
     "is_executing": false
    }
   }
  },
  {
   "cell_type": "code",
   "execution_count": 23,
   "outputs": [],
   "source": [
    "loss_fn = nn.MSELoss()"
   ],
   "metadata": {
    "collapsed": false,
    "pycharm": {
     "name": "#%%\n",
     "is_executing": false
    }
   }
  },
  {
   "cell_type": "code",
   "execution_count": 24,
   "outputs": [],
   "source": [
    "losses = []"
   ],
   "metadata": {
    "collapsed": false,
    "pycharm": {
     "name": "#%%\n",
     "is_executing": false
    }
   }
  },
  {
   "cell_type": "code",
   "execution_count": 25,
   "outputs": [],
   "source": [
    "for epoc in range(100):\n",
    "    optimizer.zero_grad()\n",
    "    \n",
    "    y_pred = net(X)\n",
    "    \n",
    "    loss = loss_fn(y_pred.view_as(y),y)\n",
    "    \n",
    "    loss.backward()\n",
    "    \n",
    "    optimizer.step()\n",
    "    \n",
    "    losses.append(loss.item())"
   ],
   "metadata": {
    "collapsed": false,
    "pycharm": {
     "name": "#%%\n",
     "is_executing": false
    }
   }
  },
  {
   "cell_type": "code",
   "execution_count": 26,
   "outputs": [
    {
     "data": {
      "text/plain": "[Parameter containing:\n tensor([[0.9604, 2.0069, 2.9843]], requires_grad=True)]"
     },
     "metadata": {},
     "output_type": "execute_result",
     "execution_count": 26
    }
   ],
   "source": [
    "list(net.parameters())"
   ],
   "metadata": {
    "collapsed": false,
    "pycharm": {
     "name": "#%%\n",
     "is_executing": false
    }
   }
  },
  {
   "cell_type": "code",
   "execution_count": 27,
   "outputs": [
    {
     "data": {
      "text/plain": "[<matplotlib.lines.Line2D at 0x7ff4ec120860>]"
     },
     "metadata": {},
     "output_type": "execute_result",
     "execution_count": 27
    },
    {
     "data": {
      "text/plain": "<Figure size 432x288 with 1 Axes>",
      "image/png": "[encoded data removed]"
     },
     "metadata": {
      "needs_background": "light"
     },
     "output_type": "display_data"
    }
   ],
   "source": [
    "plt.plot(losses)"
   ],
   "metadata": {
    "collapsed": false,
    "pycharm": {
     "name": "#%%\n",
     "is_executing": false
    }
   }
  },
  {
   "cell_type": "code",
   "execution_count": 38,
   "outputs": [],
   "source": [
    "\n",
    "class mylinear(nn.Module):\n",
    "    \n",
    "    def __init__(self,in_features,out_features,bias=False):\n",
    "        super().__init__()\n",
    "        \n",
    "        self.linear1 = nn.Linear(in_features,out_features,bias)\n",
    "        \n",
    "    def forward(self, x):\n",
    "        \n",
    "        x = self.linear1(x)\n",
    "        return x\n",
    "    \n",
    "    "
   ],
   "metadata": {
    "collapsed": false,
    "pycharm": {
     "name": "#%%\n",
     "is_executing": false
    }
   }
  },
  {
   "cell_type": "code",
   "execution_count": 39,
   "outputs": [],
   "source": [
    "\n",
    "mynet = mylinear(3,1)"
   ],
   "metadata": {
    "collapsed": false,
    "pycharm": {
     "name": "#%%\n",
     "is_executing": false
    }
   }
  },
  {
   "cell_type": "code",
   "execution_count": 40,
   "outputs": [],
   "source": [
    "myoptim = optim.SGD(mynet.parameters(),lr = 0.1)"
   ],
   "metadata": {
    "collapsed": false,
    "pycharm": {
     "name": "#%%\n",
     "is_executing": false
    }
   }
  },
  {
   "cell_type": "code",
   "execution_count": 41,
   "outputs": [],
   "source": [
    "mylosses = []"
   ],
   "metadata": {
    "collapsed": false,
    "pycharm": {
     "name": "#%%\n",
     "is_executing": false
    }
   }
  },
  {
   "cell_type": "code",
   "execution_count": 42,
   "outputs": [],
   "source": [
    "\n",
    "for epoc in range(100):\n",
    "    myoptim.zero_grad()\n",
    "    \n",
    "    y_pred = mynet(X)\n",
    "    \n",
    "    loss = loss_fn(y_pred.view_as(y),y)\n",
    "    \n",
    "    loss.backward()\n",
    "    \n",
    "    myoptim.step()\n",
    "    \n",
    "    mylosses.append(loss.item())\n",
    "    "
   ],
   "metadata": {
    "collapsed": false,
    "pycharm": {
     "name": "#%%\n",
     "is_executing": false
    }
   }
  },
  {
   "cell_type": "code",
   "execution_count": 43,
   "outputs": [
    {
     "data": {
      "text/plain": "[Parameter containing:\n tensor([[0.9604, 2.0069, 2.9843]], requires_grad=True)]"
     },
     "metadata": {},
     "output_type": "execute_result",
     "execution_count": 43
    }
   ],
   "source": [
    "\n",
    "list(mynet.linear1.parameters())"
   ],
   "metadata": {
    "collapsed": false,
    "pycharm": {
     "name": "#%%\n",
     "is_executing": false
    }
   }
  },
  {
   "cell_type": "code",
   "execution_count": 44,
   "outputs": [
    {
     "data": {
      "text/plain": "[<matplotlib.lines.Line2D at 0x7ff4ebe13048>]"
     },
     "metadata": {},
     "output_type": "execute_result",
     "execution_count": 44
    },
    {
     "data": {
      "text/plain": "<Figure size 432x288 with 1 Axes>",
      "image/png": "[encoded data removed]"
     },
     "metadata": {
      "needs_background": "light"
     },
     "output_type": "display_data"
    }
   ],
   "source": [
    "\n",
    "plt.plot(mylosses)\n"
   ],
   "metadata": {
    "collapsed": false,
    "pycharm": {
     "name": "#%%\n",
     "is_executing": false
    }
   }
  },
  {
   "cell_type": "code",
   "execution_count": 91,
   "outputs": [],
   "source": [
    "\n",
    "x = torch.tensor(1.,requires_grad=True)"
   ],
   "metadata": {
    "collapsed": false,
    "pycharm": {
     "name": "#%%\n",
     "is_executing": false
    }
   }
  },
  {
   "cell_type": "code",
   "execution_count": 46,
   "outputs": [
    {
     "data": {
      "text/plain": "tensor(1., requires_grad=True)"
     },
     "metadata": {},
     "output_type": "execute_result",
     "execution_count": 46
    }
   ],
   "source": [
    "x"
   ],
   "metadata": {
    "collapsed": false,
    "pycharm": {
     "name": "#%%\n",
     "is_executing": false
    }
   }
  },
  {
   "cell_type": "code",
   "execution_count": 69,
   "outputs": [],
   "source": [
    "y = x**2"
   ],
   "metadata": {
    "collapsed": false,
    "pycharm": {
     "name": "#%%\n",
     "is_executing": false
    }
   }
  },
  {
   "cell_type": "code",
   "execution_count": 48,
   "outputs": [
    {
     "data": {
      "text/plain": "tensor(1., requires_grad=True)"
     },
     "metadata": {},
     "output_type": "execute_result",
     "execution_count": 48
    }
   ],
   "source": [
    "y"
   ],
   "metadata": {
    "collapsed": false,
    "pycharm": {
     "name": "#%%\n",
     "is_executing": false
    }
   }
  },
  {
   "cell_type": "code",
   "execution_count": 49,
   "outputs": [],
   "source": [
    "y.backward()"
   ],
   "metadata": {
    "collapsed": false,
    "pycharm": {
     "name": "#%%\n",
     "is_executing": false
    }
   }
  },
  {
   "cell_type": "code",
   "execution_count": 50,
   "outputs": [
    {
     "data": {
      "text/plain": "tensor(1.)"
     },
     "metadata": {},
     "output_type": "execute_result",
     "execution_count": 50
    }
   ],
   "source": [
    "x.grad"
   ],
   "metadata": {
    "collapsed": false,
    "pycharm": {
     "name": "#%%\n",
     "is_executing": false
    }
   }
  },
  {
   "cell_type": "code",
   "execution_count": 70,
   "outputs": [],
   "source": [
    "z = y**2"
   ],
   "metadata": {
    "collapsed": false,
    "pycharm": {
     "name": "#%%\n",
     "is_executing": false
    }
   }
  },
  {
   "cell_type": "code",
   "execution_count": 52,
   "outputs": [
    {
     "data": {
      "text/plain": "tensor(1., grad_fn=<PowBackward0>)"
     },
     "metadata": {},
     "output_type": "execute_result",
     "execution_count": 52
    }
   ],
   "source": [
    "z"
   ],
   "metadata": {
    "collapsed": false,
    "pycharm": {
     "name": "#%%\n",
     "is_executing": false
    }
   }
  },
  {
   "cell_type": "code",
   "execution_count": 98,
   "outputs": [
    {
     "traceback": [
      "\u001b[0;31m---------------------------------------------------------------------------\u001b[0m",
      "\u001b[0;31mRuntimeError\u001b[0m                              Traceback (most recent call last)",
      "\u001b[0;32m<ipython-input-98-40c0c9b0bbab>\u001b[0m in \u001b[0;36m<module>\u001b[0;34m\u001b[0m\n\u001b[0;32m----> 1\u001b[0;31m \u001b[0mz\u001b[0m\u001b[0;34m.\u001b[0m\u001b[0mbackward\u001b[0m\u001b[0;34m(\u001b[0m\u001b[0;34m)\u001b[0m\u001b[0;34m\u001b[0m\u001b[0;34m\u001b[0m\u001b[0m\n\u001b[0m",
      "\u001b[0;32m~/PycharmProjects/auto_encoder/venv/lib/python3.6/site-packages/torch/tensor.py\u001b[0m in \u001b[0;36mbackward\u001b[0;34m(self, gradient, retain_graph, create_graph)\u001b[0m\n\u001b[1;32m    105\u001b[0m                 \u001b[0mproducts\u001b[0m\u001b[0;34m.\u001b[0m \u001b[0mDefaults\u001b[0m \u001b[0mto\u001b[0m\u001b[0;31m \u001b[0m\u001b[0;31m`\u001b[0m\u001b[0;31m`\u001b[0m\u001b[0;32mFalse\u001b[0m\u001b[0;31m`\u001b[0m\u001b[0;31m`\u001b[0m\u001b[0;34m.\u001b[0m\u001b[0;34m\u001b[0m\u001b[0;34m\u001b[0m\u001b[0m\n\u001b[1;32m    106\u001b[0m         \"\"\"\n\u001b[0;32m--> 107\u001b[0;31m         \u001b[0mtorch\u001b[0m\u001b[0;34m.\u001b[0m\u001b[0mautograd\u001b[0m\u001b[0;34m.\u001b[0m\u001b[0mbackward\u001b[0m\u001b[0;34m(\u001b[0m\u001b[0mself\u001b[0m\u001b[0;34m,\u001b[0m \u001b[0mgradient\u001b[0m\u001b[0;34m,\u001b[0m \u001b[0mretain_graph\u001b[0m\u001b[0;34m,\u001b[0m \u001b[0mcreate_graph\u001b[0m\u001b[0;34m)\u001b[0m\u001b[0;34m\u001b[0m\u001b[0;34m\u001b[0m\u001b[0m\n\u001b[0m\u001b[1;32m    108\u001b[0m \u001b[0;34m\u001b[0m\u001b[0m\n\u001b[1;32m    109\u001b[0m     \u001b[0;32mdef\u001b[0m \u001b[0mregister_hook\u001b[0m\u001b[0;34m(\u001b[0m\u001b[0mself\u001b[0m\u001b[0;34m,\u001b[0m \u001b[0mhook\u001b[0m\u001b[0;34m)\u001b[0m\u001b[0;34m:\u001b[0m\u001b[0;34m\u001b[0m\u001b[0;34m\u001b[0m\u001b[0m\n",
      "\u001b[0;32m~/PycharmProjects/auto_encoder/venv/lib/python3.6/site-packages/torch/autograd/__init__.py\u001b[0m in \u001b[0;36mbackward\u001b[0;34m(tensors, grad_tensors, retain_graph, create_graph, grad_variables)\u001b[0m\n\u001b[1;32m     91\u001b[0m     Variable._execution_engine.run_backward(\n\u001b[1;32m     92\u001b[0m         \u001b[0mtensors\u001b[0m\u001b[0;34m,\u001b[0m \u001b[0mgrad_tensors\u001b[0m\u001b[0;34m,\u001b[0m \u001b[0mretain_graph\u001b[0m\u001b[0;34m,\u001b[0m \u001b[0mcreate_graph\u001b[0m\u001b[0;34m,\u001b[0m\u001b[0;34m\u001b[0m\u001b[0;34m\u001b[0m\u001b[0m\n\u001b[0;32m---> 93\u001b[0;31m         allow_unreachable=True)  # allow_unreachable flag\n\u001b[0m\u001b[1;32m     94\u001b[0m \u001b[0;34m\u001b[0m\u001b[0m\n\u001b[1;32m     95\u001b[0m \u001b[0;34m\u001b[0m\u001b[0m\n",
      "\u001b[0;31mRuntimeError\u001b[0m: Trying to backward through the graph a second time, but the buffers have already been freed. Specify retain_graph=True when calling backward the first time."
     ],
     "ename": "RuntimeError",
     "evalue": "Trying to backward through the graph a second time, but the buffers have already been freed. Specify retain_graph=True when calling backward the first time.",
     "output_type": "error"
    }
   ],
   "source": [
    "z.backward()"
   ],
   "metadata": {
    "collapsed": false,
    "pycharm": {
     "name": "#%%\n",
     "is_executing": false
    }
   }
  },
  {
   "cell_type": "code",
   "execution_count": 80,
   "outputs": [],
   "source": [
    "y.grad"
   ],
   "metadata": {
    "collapsed": false,
    "pycharm": {
     "name": "#%%\n",
     "is_executing": false
    }
   }
  },
  {
   "cell_type": "code",
   "execution_count": 81,
   "outputs": [
    {
     "data": {
      "text/plain": "tensor(4.)"
     },
     "metadata": {},
     "output_type": "execute_result",
     "execution_count": 81
    }
   ],
   "source": [
    "x.grad"
   ],
   "metadata": {
    "collapsed": false,
    "pycharm": {
     "name": "#%%\n",
     "is_executing": false
    }
   }
  },
  {
   "cell_type": "code",
   "execution_count": 82,
   "outputs": [
    {
     "traceback": [
      "\u001b[0;31m---------------------------------------------------------------------------\u001b[0m",
      "\u001b[0;31mAttributeError\u001b[0m                            Traceback (most recent call last)",
      "\u001b[0;32m<ipython-input-82-0cf3b1e2fc0c>\u001b[0m in \u001b[0;36m<module>\u001b[0;34m\u001b[0m\n\u001b[0;32m----> 1\u001b[0;31m \u001b[0mz\u001b[0m\u001b[0;34m.\u001b[0m\u001b[0mzero_grad\u001b[0m\u001b[0;34m(\u001b[0m\u001b[0;34m)\u001b[0m\u001b[0;34m\u001b[0m\u001b[0;34m\u001b[0m\u001b[0m\n\u001b[0m\u001b[1;32m      2\u001b[0m \u001b[0;34m\u001b[0m\u001b[0m\n\u001b[1;32m      3\u001b[0m \u001b[0;34m\u001b[0m\u001b[0m\n",
      "\u001b[0;31mAttributeError\u001b[0m: 'Tensor' object has no attribute 'zero_grad'"
     ],
     "ename": "AttributeError",
     "evalue": "'Tensor' object has no attribute 'zero_grad'",
     "output_type": "error"
    }
   ],
   "source": [
    "z.zero_grad()\n",
    "\n"
   ],
   "metadata": {
    "collapsed": false,
    "pycharm": {
     "name": "#%%\n",
     "is_executing": false
    }
   }
  },
  {
   "cell_type": "code",
   "execution_count": 75,
   "outputs": [
    {
     "data": {
      "text/plain": "tensor(1., grad_fn=<PowBackward0>)"
     },
     "metadata": {},
     "output_type": "execute_result",
     "execution_count": 75
    }
   ],
   "source": [
    "y"
   ],
   "metadata": {
    "collapsed": false,
    "pycharm": {
     "name": "#%%\n",
     "is_executing": false
    }
   }
  },
  {
   "cell_type": "code",
   "execution_count": 60,
   "outputs": [
    {
     "data": {
      "text/plain": "tensor(1., requires_grad=True)"
     },
     "metadata": {},
     "output_type": "execute_result",
     "execution_count": 60
    }
   ],
   "source": [
    "x"
   ],
   "metadata": {
    "collapsed": false,
    "pycharm": {
     "name": "#%%\n",
     "is_executing": false
    }
   }
  },
  {
   "cell_type": "code",
   "execution_count": 61,
   "outputs": [
    {
     "data": {
      "text/plain": "tensor(1., grad_fn=<PowBackward0>)"
     },
     "metadata": {},
     "output_type": "execute_result",
     "execution_count": 61
    }
   ],
   "source": [
    "z"
   ],
   "metadata": {
    "collapsed": false,
    "pycharm": {
     "name": "#%%\n",
     "is_executing": false
    }
   }
  },
  {
   "cell_type": "code",
   "execution_count": 83,
   "outputs": [],
   "source": [
    "\n",
    "def square(x):\n",
    "    return x**2"
   ],
   "metadata": {
    "collapsed": false,
    "pycharm": {
     "name": "#%%\n",
     "is_executing": false
    }
   }
  },
  {
   "cell_type": "code",
   "execution_count": 92,
   "outputs": [],
   "source": [
    "w=square(x)"
   ],
   "metadata": {
    "collapsed": false,
    "pycharm": {
     "name": "#%%\n",
     "is_executing": false
    }
   }
  },
  {
   "cell_type": "code",
   "execution_count": 93,
   "outputs": [
    {
     "data": {
      "text/plain": "tensor(1., grad_fn=<PowBackward0>)"
     },
     "metadata": {},
     "output_type": "execute_result",
     "execution_count": 93
    }
   ],
   "source": [
    "w"
   ],
   "metadata": {
    "collapsed": false,
    "pycharm": {
     "name": "#%%\n",
     "is_executing": false
    }
   }
  },
  {
   "cell_type": "code",
   "execution_count": 103,
   "outputs": [
    {
     "data": {
      "text/plain": "tensor(2.)"
     },
     "metadata": {},
     "output_type": "execute_result",
     "execution_count": 103
    }
   ],
   "source": [
    "x.grad"
   ],
   "metadata": {
    "collapsed": false,
    "pycharm": {
     "name": "#%%\n",
     "is_executing": false
    }
   }
  },
  {
   "cell_type": "code",
   "execution_count": 102,
   "outputs": [
    {
     "traceback": [
      "\u001b[0;31m---------------------------------------------------------------------------\u001b[0m",
      "\u001b[0;31mRuntimeError\u001b[0m                              Traceback (most recent call last)",
      "\u001b[0;32m<ipython-input-102-fdaeb047dc58>\u001b[0m in \u001b[0;36m<module>\u001b[0;34m\u001b[0m\n\u001b[0;32m----> 1\u001b[0;31m \u001b[0mw\u001b[0m\u001b[0;34m.\u001b[0m\u001b[0mbackward\u001b[0m\u001b[0;34m(\u001b[0m\u001b[0;34m)\u001b[0m\u001b[0;34m\u001b[0m\u001b[0;34m\u001b[0m\u001b[0m\n\u001b[0m",
      "\u001b[0;32m~/PycharmProjects/auto_encoder/venv/lib/python3.6/site-packages/torch/tensor.py\u001b[0m in \u001b[0;36mbackward\u001b[0;34m(self, gradient, retain_graph, create_graph)\u001b[0m\n\u001b[1;32m    105\u001b[0m                 \u001b[0mproducts\u001b[0m\u001b[0;34m.\u001b[0m \u001b[0mDefaults\u001b[0m \u001b[0mto\u001b[0m\u001b[0;31m \u001b[0m\u001b[0;31m`\u001b[0m\u001b[0;31m`\u001b[0m\u001b[0;32mFalse\u001b[0m\u001b[0;31m`\u001b[0m\u001b[0;31m`\u001b[0m\u001b[0;34m.\u001b[0m\u001b[0;34m\u001b[0m\u001b[0;34m\u001b[0m\u001b[0m\n\u001b[1;32m    106\u001b[0m         \"\"\"\n\u001b[0;32m--> 107\u001b[0;31m         \u001b[0mtorch\u001b[0m\u001b[0;34m.\u001b[0m\u001b[0mautograd\u001b[0m\u001b[0;34m.\u001b[0m\u001b[0mbackward\u001b[0m\u001b[0;34m(\u001b[0m\u001b[0mself\u001b[0m\u001b[0;34m,\u001b[0m \u001b[0mgradient\u001b[0m\u001b[0;34m,\u001b[0m \u001b[0mretain_graph\u001b[0m\u001b[0;34m,\u001b[0m \u001b[0mcreate_graph\u001b[0m\u001b[0;34m)\u001b[0m\u001b[0;34m\u001b[0m\u001b[0;34m\u001b[0m\u001b[0m\n\u001b[0m\u001b[1;32m    108\u001b[0m \u001b[0;34m\u001b[0m\u001b[0m\n\u001b[1;32m    109\u001b[0m     \u001b[0;32mdef\u001b[0m \u001b[0mregister_hook\u001b[0m\u001b[0;34m(\u001b[0m\u001b[0mself\u001b[0m\u001b[0;34m,\u001b[0m \u001b[0mhook\u001b[0m\u001b[0;34m)\u001b[0m\u001b[0;34m:\u001b[0m\u001b[0;34m\u001b[0m\u001b[0;34m\u001b[0m\u001b[0m\n",
      "\u001b[0;32m~/PycharmProjects/auto_encoder/venv/lib/python3.6/site-packages/torch/autograd/__init__.py\u001b[0m in \u001b[0;36mbackward\u001b[0;34m(tensors, grad_tensors, retain_graph, create_graph, grad_variables)\u001b[0m\n\u001b[1;32m     91\u001b[0m     Variable._execution_engine.run_backward(\n\u001b[1;32m     92\u001b[0m         \u001b[0mtensors\u001b[0m\u001b[0;34m,\u001b[0m \u001b[0mgrad_tensors\u001b[0m\u001b[0;34m,\u001b[0m \u001b[0mretain_graph\u001b[0m\u001b[0;34m,\u001b[0m \u001b[0mcreate_graph\u001b[0m\u001b[0;34m,\u001b[0m\u001b[0;34m\u001b[0m\u001b[0;34m\u001b[0m\u001b[0m\n\u001b[0;32m---> 93\u001b[0;31m         allow_unreachable=True)  # allow_unreachable flag\n\u001b[0m\u001b[1;32m     94\u001b[0m \u001b[0;34m\u001b[0m\u001b[0m\n\u001b[1;32m     95\u001b[0m \u001b[0;34m\u001b[0m\u001b[0m\n",
      "\u001b[0;31mRuntimeError\u001b[0m: Trying to backward through the graph a second time, but the buffers have already been freed. Specify retain_graph=True when calling backward the first time."
     ],
     "ename": "RuntimeError",
     "evalue": "Trying to backward through the graph a second time, but the buffers have already been freed. Specify retain_graph=True when calling backward the first time.",
     "output_type": "error"
    }
   ],
   "source": [
    "w.backward()"
   ],
   "metadata": {
    "collapsed": false,
    "pycharm": {
     "name": "#%%\n",
     "is_executing": false
    }
   }
  },
  {
   "cell_type": "code",
   "execution_count": 104,
   "outputs": [
    {
     "traceback": [
      "\u001b[0;31m---------------------------------------------------------------------------\u001b[0m",
      "\u001b[0;31mAttributeError\u001b[0m                            Traceback (most recent call last)",
      "\u001b[0;32m<ipython-input-104-0c065614bf18>\u001b[0m in \u001b[0;36m<module>\u001b[0;34m\u001b[0m\n\u001b[1;32m      1\u001b[0m \u001b[0;34m\u001b[0m\u001b[0m\n\u001b[0;32m----> 2\u001b[0;31m \u001b[0mw\u001b[0m\u001b[0;34m.\u001b[0m\u001b[0mgrad\u001b[0m\u001b[0;34m.\u001b[0m\u001b[0mzero_\u001b[0m\u001b[0;34m(\u001b[0m\u001b[0;34m)\u001b[0m\u001b[0;34m\u001b[0m\u001b[0;34m\u001b[0m\u001b[0m\n\u001b[0m",
      "\u001b[0;31mAttributeError\u001b[0m: 'NoneType' object has no attribute 'zero_'"
     ],
     "ename": "AttributeError",
     "evalue": "'NoneType' object has no attribute 'zero_'",
     "output_type": "error"
    }
   ],
   "source": [
    "\n",
    "w.grad.zero_()"
   ],
   "metadata": {
    "collapsed": false,
    "pycharm": {
     "name": "#%%\n",
     "is_executing": false
    }
   }
  },
  {
   "cell_type": "code",
   "execution_count": 105,
   "outputs": [
    {
     "data": {
      "text/plain": "tensor(1., grad_fn=<PowBackward0>)"
     },
     "metadata": {},
     "output_type": "execute_result",
     "execution_count": 105
    }
   ],
   "source": [
    "w\n"
   ],
   "metadata": {
    "collapsed": false,
    "pycharm": {
     "name": "#%%\n",
     "is_executing": false
    }
   }
  },
  {
   "cell_type": "code",
   "execution_count": 106,
   "outputs": [
    {
     "data": {
      "text/plain": "tensor(1., grad_fn=<PowBackward0>)"
     },
     "metadata": {},
     "output_type": "execute_result",
     "execution_count": 106
    }
   ],
   "source": [
    "z"
   ],
   "metadata": {
    "collapsed": false,
    "pycharm": {
     "name": "#%%\n",
     "is_executing": false
    }
   }
  },
  {
   "cell_type": "code",
   "execution_count": 108,
   "outputs": [
    {
     "traceback": [
      "\u001b[0;36m  File \u001b[0;32m\"<ipython-input-108-8ae8f83904aa>\"\u001b[0;36m, line \u001b[0;32m2\u001b[0m\n\u001b[0;31m    model = nn.Sequential{square()}\u001b[0m\n\u001b[0m                         ^\u001b[0m\n\u001b[0;31mSyntaxError\u001b[0m\u001b[0;31m:\u001b[0m invalid syntax\n"
     ],
     "ename": "SyntaxError",
     "evalue": "invalid syntax (<ipython-input-108-8ae8f83904aa>, line 2)",
     "output_type": "error"
    }
   ],
   "source": [
    "\n",
    "model = nn.Sequential{square()}\n"
   ],
   "metadata": {
    "collapsed": false,
    "pycharm": {
     "name": "#%%\n",
     "is_executing": false
    }
   }
  },
  {
   "cell_type": "code",
   "execution_count": 11,
   "outputs": [],
   "source": [
    "class practice(nn.Module):\n",
    "    def __init__(self,in_features,out_features,bias=False):\n",
    "        super().__init__()\n",
    "        \n",
    "        self.linear1 = nn.Linear(in_features,out_features,bias)\n",
    "        \n",
    "    def sanjyo(self, x):\n",
    "        return x.pow(3)\n",
    "        \n",
    "    def forward(self, x):        \n",
    "        x = sanjyo(x)\n",
    "        return x    "
   ],
   "metadata": {
    "collapsed": false,
    "pycharm": {
     "name": "#%%\n",
     "is_executing": false
    }
   }
  },
  {
   "cell_type": "code",
   "execution_count": 3,
   "outputs": [],
   "source": [
    "v=practice(1,1)"
   ],
   "metadata": {
    "collapsed": false,
    "pycharm": {
     "name": "#%%\n",
     "is_executing": false
    }
   }
  },
  {
   "cell_type": "code",
   "execution_count": 116,
   "outputs": [
    {
     "data": {
      "text/plain": "tensor(1., grad_fn=<PowBackward0>)"
     },
     "metadata": {},
     "output_type": "execute_result",
     "execution_count": 116
    }
   ],
   "source": [
    "v.sanjyo(x)"
   ],
   "metadata": {
    "collapsed": false,
    "pycharm": {
     "name": "#%%\n",
     "is_executing": false
    }
   }
  },
  {
   "cell_type": "code",
   "execution_count": 21,
   "outputs": [],
   "source": [
    "u=v.sanjyo(x)"
   ],
   "metadata": {
    "collapsed": false,
    "pycharm": {
     "name": "#%%\n",
     "is_executing": false
    }
   }
  },
  {
   "cell_type": "code",
   "execution_count": 22,
   "outputs": [],
   "source": [
    "u.backward()"
   ],
   "metadata": {
    "collapsed": false,
    "pycharm": {
     "name": "#%%\n",
     "is_executing": false
    }
   }
  },
  {
   "cell_type": "code",
   "execution_count": 16,
   "outputs": [
    {
     "data": {
      "text/plain": "tensor(0.)"
     },
     "metadata": {},
     "output_type": "execute_result",
     "execution_count": 16
    }
   ],
   "source": [
    "x.grad.zero_()"
   ],
   "metadata": {
    "collapsed": false,
    "pycharm": {
     "name": "#%%\n",
     "is_executing": false
    }
   }
  },
  {
   "cell_type": "code",
   "execution_count": 23,
   "outputs": [
    {
     "data": {
      "text/plain": "tensor(12.)"
     },
     "metadata": {},
     "output_type": "execute_result",
     "execution_count": 23
    }
   ],
   "source": [
    "x.grad"
   ],
   "metadata": {
    "collapsed": false,
    "pycharm": {
     "name": "#%%\n",
     "is_executing": false
    }
   }
  },
  {
   "cell_type": "code",
   "execution_count": 20,
   "outputs": [],
   "source": [
    "x = torch.tensor(2.,requires_grad=True)"
   ],
   "metadata": {
    "collapsed": false,
    "pycharm": {
     "name": "#%%\n",
     "is_executing": false
    }
   }
  },
  {
   "cell_type": "code",
   "execution_count": 24,
   "outputs": [],
   "source": [
    "\n",
    "def hikizan(x,y):\n",
    "    return x-y\n",
    "\n"
   ],
   "metadata": {
    "collapsed": false,
    "pycharm": {
     "name": "#%%\n",
     "is_executing": false
    }
   }
  },
  {
   "cell_type": "code",
   "execution_count": 31,
   "outputs": [],
   "source": [
    "x=torch.randn(100,3)\n",
    "y=torch.randn(100,3)"
   ],
   "metadata": {
    "collapsed": false,
    "pycharm": {
     "name": "#%%\n",
     "is_executing": false
    }
   }
  },
  {
   "cell_type": "code",
   "execution_count": 32,
   "outputs": [
    {
     "data": {
      "text/plain": "tensor([[ 2.0041e+00, -2.2565e+00, -2.8161e+00],\n        [-1.9632e+00, -1.9339e+00,  2.4671e+00],\n        [ 1.0852e+00,  1.1180e+00, -1.6483e+00],\n        [-1.3250e-01, -1.1983e+00, -2.2291e+00],\n        [ 3.3385e+00, -9.2135e-01, -2.1708e+00],\n        [-2.1592e+00, -1.1228e+00, -1.1230e+00],\n        [-2.5882e+00,  1.3281e+00, -3.9238e-01],\n        [ 6.7657e-01, -1.2450e+00,  9.8516e-01],\n        [ 7.9979e-01,  1.0554e+00,  1.2481e+00],\n        [ 1.9538e-01,  3.8067e-01, -1.1075e+00],\n        [ 8.8085e-01,  9.1120e-01, -2.9511e+00],\n        [-6.4852e-01, -5.4782e-01,  1.6917e+00],\n        [ 1.1291e+00,  1.4204e+00,  8.9019e-01],\n        [ 1.9423e+00,  1.0401e-01, -1.5664e+00],\n        [ 4.7340e-01, -2.0407e-01,  1.0189e+00],\n        [-1.1133e+00, -6.4914e-01,  1.8811e+00],\n        [ 5.6173e-01,  2.8369e-02, -1.6481e-01],\n        [-4.3234e-01, -2.2349e+00, -2.0782e+00],\n        [-2.4279e-01,  4.2960e-01, -2.3512e+00],\n        [ 6.5547e-01, -2.1308e+00, -9.4367e-01],\n        [ 3.1822e+00, -2.6401e-01,  1.7194e+00],\n        [ 2.2122e+00,  1.5675e+00,  4.5808e-01],\n        [ 4.1695e-01,  1.2940e-01, -3.0399e-01],\n        [-1.0059e+00, -2.5425e+00, -6.6881e-02],\n        [ 3.2222e+00, -2.1123e-01,  1.2033e+00],\n        [-1.1077e+00, -2.1366e+00, -6.3494e-01],\n        [-2.5240e+00, -1.1259e+00,  1.9288e+00],\n        [ 2.8126e-01, -2.5810e+00,  1.0807e+00],\n        [-2.2956e+00, -7.2049e-01, -1.5090e+00],\n        [ 5.5949e-01, -1.9002e+00,  2.3258e+00],\n        [ 1.4890e+00, -1.2688e+00,  4.8692e-01],\n        [-1.0467e-01, -4.1167e-01, -1.3423e-01],\n        [-8.4486e-01, -4.3530e-01,  9.8054e-01],\n        [ 2.4535e+00, -2.4102e+00,  4.8130e+00],\n        [ 9.0426e-01,  1.9313e+00,  1.8934e+00],\n        [ 2.7012e-01, -9.8815e-01, -9.2614e-01],\n        [ 1.3399e+00,  1.4321e+00,  1.6919e+00],\n        [-1.3242e+00, -8.1771e-01,  9.5848e-01],\n        [-1.6125e+00, -3.3021e-01, -6.7519e-01],\n        [ 9.0421e-01, -1.4028e+00, -2.1691e+00],\n        [-1.8872e+00,  3.5091e-01, -1.9140e+00],\n        [ 7.1500e-01, -2.0988e-01, -2.8685e-01],\n        [ 3.4601e+00,  1.6734e+00,  8.7731e-01],\n        [ 2.8660e+00,  2.3715e+00, -1.2080e+00],\n        [ 9.4739e-02, -1.1634e+00,  4.3084e-01],\n        [ 1.0582e-01, -6.6737e-01,  1.9792e+00],\n        [ 9.6623e-02, -1.4295e-01, -1.1420e+00],\n        [ 2.0857e+00, -3.4333e-01,  1.4626e+00],\n        [-3.3808e-01, -1.4177e-01,  1.1161e+00],\n        [ 2.8967e-01,  1.5507e-01, -1.1327e+00],\n        [-3.2364e+00,  2.6856e+00,  1.6553e+00],\n        [-1.1060e+00, -2.2007e+00, -9.0757e-01],\n        [-3.4394e-01,  3.2388e+00,  5.5066e-01],\n        [-2.4125e+00,  1.0277e+00,  2.1833e-01],\n        [ 9.3637e-01, -1.2198e+00, -6.2437e-02],\n        [ 3.2802e+00,  1.8795e+00,  1.2024e+00],\n        [-3.3306e-01, -7.4561e-01,  3.0023e+00],\n        [ 6.9539e-01, -3.5280e+00, -2.0586e-01],\n        [ 1.0116e+00, -4.9036e-01, -6.9034e-01],\n        [-1.0570e-01,  8.2057e-01,  1.0471e+00],\n        [ 2.6565e+00, -1.5686e+00, -1.2407e+00],\n        [ 3.3032e-02, -1.0045e+00,  8.4909e-01],\n        [ 1.7287e+00,  3.8482e-01,  1.1819e+00],\n        [-3.0355e+00,  1.1201e+00, -1.7860e+00],\n        [ 1.5247e+00,  1.3489e+00, -1.1900e+00],\n        [-1.5658e-01,  8.6525e-01,  3.0176e+00],\n        [-1.0153e-01,  1.6680e+00,  1.1358e+00],\n        [ 1.0203e+00, -1.1191e+00, -1.6254e+00],\n        [ 2.6872e-01, -1.9016e+00,  1.0699e+00],\n        [ 7.6845e-01, -1.0377e+00, -3.8355e-01],\n        [ 7.0558e-01, -2.3656e-01, -4.6203e-02],\n        [-5.3468e-01,  2.6724e-01, -6.6591e-01],\n        [ 1.1342e+00, -7.8354e-01,  2.3056e+00],\n        [-2.2983e+00, -1.6690e+00, -1.9459e+00],\n        [ 8.0139e-01, -1.2512e+00,  7.5058e-04],\n        [-3.8091e-01, -2.5114e+00,  7.0693e-02],\n        [ 8.9442e-01,  1.2190e+00, -1.4978e+00],\n        [ 1.6142e+00,  5.3377e-01, -6.8606e-01],\n        [ 1.9286e+00,  1.7233e+00, -9.8214e-02],\n        [ 8.7256e-02,  2.4875e+00,  1.4441e-01],\n        [ 1.8400e+00,  3.7095e+00, -2.0943e+00],\n        [ 7.6849e-01, -2.6367e+00,  1.9511e+00],\n        [ 3.2532e-01,  3.5024e-01, -6.6734e-02],\n        [-6.1950e-01, -2.7263e-01,  2.4051e+00],\n        [ 2.5162e+00, -9.5286e-01,  6.6832e-01],\n        [ 8.8936e-01, -1.4357e-01,  7.1645e-01],\n        [ 2.7194e+00, -5.5868e-01,  1.7632e+00],\n        [-5.0452e-01,  4.5278e-01, -1.9296e+00],\n        [ 8.0199e-01, -9.8073e-01, -5.6991e-01],\n        [ 2.7479e+00, -5.8669e-01, -5.6504e-01],\n        [-2.8175e-01,  2.5474e-01, -3.7063e+00],\n        [-1.7252e+00,  9.0038e-01,  1.3271e+00],\n        [-8.0890e-01, -1.0290e+00,  1.7373e+00],\n        [-1.4778e+00,  1.3765e+00,  1.5969e+00],\n        [-1.6836e+00,  2.6098e+00,  1.2560e+00],\n        [ 7.1789e-01,  2.0136e+00,  9.2233e-01],\n        [-2.9992e+00, -1.4369e+00,  1.4450e-02],\n        [ 2.7095e-01,  1.1171e+00, -1.1392e+00],\n        [-9.0865e-01,  1.9542e+00, -1.0160e+00],\n        [-8.5842e-02, -6.2762e-01, -1.3251e+00]])"
     },
     "metadata": {},
     "output_type": "execute_result",
     "execution_count": 32
    }
   ],
   "source": [
    "hikizan(x,y)"
   ],
   "metadata": {
    "collapsed": false,
    "pycharm": {
     "name": "#%%\n",
     "is_executing": false
    }
   }
  },
  {
   "cell_type": "code",
   "execution_count": 33,
   "outputs": [
    {
     "data": {
      "text/plain": "tensor(0.0272)"
     },
     "metadata": {},
     "output_type": "execute_result",
     "execution_count": 33
    }
   ],
   "source": [
    "x.mean()"
   ],
   "metadata": {
    "collapsed": false,
    "pycharm": {
     "name": "#%%\n",
     "is_executing": false
    }
   }
  },
  {
   "cell_type": "code",
   "execution_count": 34,
   "outputs": [
    {
     "data": {
      "text/plain": "tensor(-0.0444)"
     },
     "metadata": {},
     "output_type": "execute_result",
     "execution_count": 34
    }
   ],
   "source": [
    "y.mean()"
   ],
   "metadata": {
    "collapsed": false,
    "pycharm": {
     "name": "#%%\n",
     "is_executing": false
    }
   }
  },
  {
   "cell_type": "code",
   "execution_count": 35,
   "outputs": [],
   "source": [
    "a=torch.tensor(1.,requires_grad=True)"
   ],
   "metadata": {
    "collapsed": false,
    "pycharm": {
     "name": "#%%\n",
     "is_executing": false
    }
   }
  },
  {
   "cell_type": "code",
   "execution_count": 38,
   "outputs": [],
   "source": [
    "meanoptim = optim.SGD([a],lr=0.1)"
   ],
   "metadata": {
    "collapsed": false,
    "pycharm": {
     "name": "#%%\n",
     "is_executing": false
    }
   }
  },
  {
   "cell_type": "code",
   "execution_count": 40,
   "outputs": [],
   "source": [
    "\n",
    "loss_fn = nn.MSELoss()\n",
    "mylosses = []"
   ],
   "metadata": {
    "collapsed": false,
    "pycharm": {
     "name": "#%%\n",
     "is_executing": false
    }
   }
  },
  {
   "cell_type": "code",
   "execution_count": 41,
   "outputs": [
    {
     "name": "stderr",
     "text": [
      "/home/user/PycharmProjects/auto_encoder/venv/lib/python3.6/site-packages/torch/nn/modules/loss.py:443: UserWarning: Using a target size (torch.Size([])) that is different to the input size (torch.Size([100, 3])). This will likely lead to incorrect results due to broadcasting. Please ensure they have the same size.\n  return F.mse_loss(input, target, reduction=self.reduction)\n"
     ],
     "output_type": "stream"
    }
   ],
   "source": [
    "for epoc in range(100):\n",
    "    meanoptim.zero_grad()\n",
    "    \n",
    "    loss = loss_fn(x,a)\n",
    "    \n",
    "    loss.backward()\n",
    "    \n",
    "    meanoptim.step()\n",
    "    \n",
    "    mylosses.append(loss.item())"
   ],
   "metadata": {
    "collapsed": false,
    "pycharm": {
     "name": "#%%\n",
     "is_executing": false
    }
   }
  },
  {
   "cell_type": "code",
   "execution_count": 42,
   "outputs": [
    {
     "data": {
      "text/plain": "tensor(0.0272, requires_grad=True)"
     },
     "metadata": {},
     "output_type": "execute_result",
     "execution_count": 42
    }
   ],
   "source": [
    "a"
   ],
   "metadata": {
    "collapsed": false,
    "pycharm": {
     "name": "#%%\n",
     "is_executing": false
    }
   }
  },
  {
   "cell_type": "code",
   "execution_count": 43,
   "outputs": [
    {
     "data": {
      "text/plain": "[<matplotlib.lines.Line2D at 0x7f020f24b8d0>]"
     },
     "metadata": {},
     "output_type": "execute_result",
     "execution_count": 43
    },
    {
     "data": {
      "text/plain": "<Figure size 432x288 with 1 Axes>",
      "image/png": "[encoded data removed]"
     },
     "metadata": {
      "needs_background": "light"
     },
     "output_type": "display_data"
    }
   ],
   "source": [
    "plt.plot(mylosses)"
   ],
   "metadata": {
    "collapsed": false,
    "pycharm": {
     "name": "#%%\n",
     "is_executing": false
    }
   }
  },
  {
   "cell_type": "code",
   "execution_count": null,
   "outputs": [],
   "source": [
    "\n"
   ],
   "metadata": {
    "collapsed": false,
    "pycharm": {
     "name": "#%%\n"
    }
   }
  }
 ],
 "metadata": {
  "language_info": {
   "codemirror_mode": {
    "name": "ipython",
    "version": 2
   },
   "file_extension": ".py",
   "mimetype": "text/x-python",
   "name": "python",
   "nbconvert_exporter": "python",
   "pygments_lexer": "ipython2",
   "version": "2.7.6"
  },
  "kernelspec": {
   "name": "python3",
   "language": "python",
   "display_name": "Python 3"
  },
  "pycharm": {
   "stem_cell": {
    "cell_type": "raw",
    "source": [],
    "metadata": {
     "collapsed": false
    }
   }
  }
 },
 "nbformat": 4,
 "nbformat_minor": 0
}