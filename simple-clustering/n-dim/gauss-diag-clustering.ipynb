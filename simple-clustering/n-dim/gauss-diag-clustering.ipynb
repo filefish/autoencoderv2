{
 "cells": [
  {
   "cell_type": "code",
   "execution_count": null,
   "metadata": {
    "collapsed": true
   },
   "outputs": [],
   "source": []
  },
  {
   "cell_type": "code",
   "execution_count": 148,
   "outputs": [],
   "source": [
    "import numpy as np\n",
    "from sklearn.mixture import GaussianMixture\n",
    "from sklearn.mixture import BayesianGaussianMixture\n",
    "from sklearn.preprocessing import StandardScaler\n",
    "from sklearn import datasets\n",
    "from scipy import stats\n",
    "import matplotlib.pyplot as plt\n",
    "%matplotlib inline\n",
    "from scipy.stats import norm\n",
    "from scipy.stats import multivariate_normal"
   ],
   "metadata": {
    "collapsed": false,
    "pycharm": {
     "name": "#%%\n",
     "is_executing": false
    }
   }
  },
  {
   "cell_type": "code",
   "execution_count": 8,
   "outputs": [],
   "source": [
    "K_true_cluster = 2\n",
    "K_model_cluster = 2\n",
    "feature_dim =2\n",
    "iter_max = 10\n",
    "N_seed = 100"
   ],
   "metadata": {
    "collapsed": false,
    "pycharm": {
     "name": "#%%\n",
     "is_executing": false
    }
   }
  },
  {
   "cell_type": "code",
   "execution_count": 70,
   "outputs": [],
   "source": [
    "pi_ratio = np.array([1,1])\n",
    "pi = pi_ratio/pi_ratio.sum()\n",
    "N_distribution = N_seed*pi_ratio\n",
    "N_total = N_distribution.sum()"
   ],
   "metadata": {
    "collapsed": false,
    "pycharm": {
     "name": "#%%\n",
     "is_executing": false
    }
   }
  },
  {
   "cell_type": "code",
   "execution_count": 117,
   "outputs": [
    {
     "data": {
      "text/plain": "array([[0, 0],\n       [1, 1]])"
     },
     "metadata": {},
     "output_type": "execute_result",
     "execution_count": 117
    }
   ],
   "source": [
    "mu_true = np.array([[0,0],\n",
    "                    [1,1]])\n",
    "mu_true"
   ],
   "metadata": {
    "collapsed": false,
    "pycharm": {
     "name": "#%%\n",
     "is_executing": false
    }
   }
  },
  {
   "cell_type": "code",
   "execution_count": 118,
   "outputs": [
    {
     "data": {
      "text/plain": "array([[[0.01, 0.  ],\n        [0.  , 0.01]],\n\n       [[0.02, 0.  ],\n        [0.  , 0.02]]])"
     },
     "metadata": {},
     "output_type": "execute_result",
     "execution_count": 118
    }
   ],
   "source": [
    "sigma0 = np.array([[0.01,0],[0,0.01]])\n",
    "sigma1 = np.array([[0.02,0],[0,0.02]])\n",
    "sigma = np.array([sigma0,sigma1])\n",
    "sigma\n"
   ],
   "metadata": {
    "collapsed": false,
    "pycharm": {
     "name": "#%%\n",
     "is_executing": false
    }
   }
  },
  {
   "cell_type": "code",
   "execution_count": 119,
   "outputs": [
    {
     "data": {
      "text/plain": "array([[[-7.45875373e-02, -1.26799376e-01],\n        [-8.48496179e-02,  4.60669149e-02],\n        [-6.38406809e-02, -7.78173364e-02],\n        [ 4.48173903e-02,  2.38130775e-02],\n        [-2.85393666e-02,  6.17569213e-02],\n        [-2.16589386e-01, -8.03951326e-02],\n        [ 1.97600922e-02, -1.12761819e-01],\n        [ 1.59194887e-01,  1.66810951e-01],\n        [-7.01276303e-02, -7.45962699e-02],\n        [ 1.22398614e-02, -2.59612792e-02],\n        [-1.89546240e-02,  1.54755544e-02],\n        [-1.03931923e-01, -4.14176190e-02],\n        [-1.18598423e-01,  1.39856222e-01],\n        [ 1.11153242e-01, -2.54443975e-02],\n        [ 7.24208867e-02, -6.34732211e-03],\n        [-1.58349371e-01, -6.03129817e-03],\n        [ 1.28300081e-01,  1.02269066e-01],\n        [-3.00344872e-02, -2.53078107e-02],\n        [-1.02619751e-02, -3.07701697e-02],\n        [ 2.88917036e-01, -4.93399094e-02],\n        [ 7.97033276e-02, -4.10206193e-03],\n        [-1.42122383e-01, -3.12182959e-02],\n        [-1.17139852e-01,  2.40027926e-03],\n        [-1.22459872e-01, -4.46001945e-02],\n        [-7.51229388e-02,  5.19378841e-02],\n        [ 9.63581546e-03, -5.72111770e-02],\n        [-8.81277072e-02,  2.42756268e-02],\n        [-3.83430871e-02, -9.77286492e-02],\n        [-1.59219541e-02, -1.20908378e-01],\n        [ 8.29956770e-03,  1.09271945e-01],\n        [ 4.20425689e-02,  1.60631663e-01],\n        [ 1.61569829e-01, -1.29079914e-01],\n        [-4.67701303e-02, -1.17029104e-01],\n        [-1.08656066e-01, -6.49653173e-02],\n        [-1.08815831e-01, -6.81595334e-02],\n        [ 1.93041908e-01, -4.19149214e-03],\n        [-1.14521774e-01, -3.42429459e-02],\n        [-3.91977521e-02,  4.11217110e-02],\n        [ 6.74585113e-02,  1.66025186e-01],\n        [ 8.23824667e-02,  7.42971389e-02],\n        [ 2.73996950e-02, -9.07444270e-02],\n        [ 1.63939366e-02,  2.09577427e-03],\n        [ 1.09868192e-01,  4.99833257e-02],\n        [-7.31259665e-02, -1.36921429e-01],\n        [ 8.57403082e-03, -1.77358030e-01],\n        [-7.86093797e-02,  8.86523664e-02],\n        [ 1.84064889e-01,  1.07247633e-01],\n        [-4.16191183e-02,  1.00312643e-01],\n        [-5.16737899e-02,  1.60924444e-02],\n        [ 7.27864779e-02, -1.33405568e-01],\n        [ 8.77958844e-02, -4.16742945e-02],\n        [ 7.28500841e-02, -7.92491316e-02],\n        [ 7.35698954e-02, -2.11729190e-02],\n        [ 1.87125293e-02, -5.49925735e-03],\n        [-5.70600598e-02,  2.37439467e-02],\n        [-1.47410758e-01, -2.38445965e-02],\n        [ 5.69539035e-02, -4.59231427e-02],\n        [ 7.64637764e-02,  8.98251965e-02],\n        [-1.41163179e-03, -1.83156253e-01],\n        [-1.71508222e-02,  1.14739241e-01],\n        [ 8.21575257e-02, -2.53949702e-02],\n        [ 5.11966255e-02,  1.97450568e-02],\n        [ 4.78123321e-02, -8.90631396e-02],\n        [-4.28232874e-02,  1.06007049e-01],\n        [-9.08658800e-02, -7.54890950e-02],\n        [ 3.54436956e-02, -1.40343930e-02],\n        [ 6.85017448e-02,  9.65112673e-02],\n        [ 1.14896819e-01, -2.94059219e-02],\n        [-9.30262694e-02, -8.47628702e-02],\n        [ 8.49374884e-02, -1.14750258e-01],\n        [ 7.74678434e-03,  4.33269377e-02],\n        [ 2.91341000e-03, -2.06477248e-02],\n        [-3.00749972e-02,  2.11152040e-01],\n        [ 1.22912511e-02,  5.26720035e-02],\n        [ 1.11480927e-01,  1.20932515e-01],\n        [ 2.65219060e-02,  1.50326941e-02],\n        [-5.10471615e-02, -7.82505306e-02],\n        [-1.71157913e-01,  1.27337888e-02],\n        [-3.49905640e-02, -2.34930450e-02],\n        [ 2.43988030e-02,  6.77865979e-02],\n        [-6.38571085e-02,  1.68185115e-01],\n        [ 7.67007369e-02, -8.35334066e-02],\n        [ 5.39954511e-02,  3.71684357e-02],\n        [-6.91135042e-02, -1.11770582e-01],\n        [-8.83210454e-03,  1.27718031e-02],\n        [-1.80801931e-01,  3.01609057e-01],\n        [ 1.25398434e-01,  1.15725997e-01],\n        [-6.77679044e-02,  3.61938349e-02],\n        [-1.61051881e-01, -1.02768902e-01],\n        [-3.98967656e-02,  4.95245737e-02],\n        [ 1.83354596e-01, -3.10453312e-03],\n        [ 6.00995864e-02, -5.10124627e-02],\n        [-2.40822492e-02,  1.68170903e-04],\n        [-7.09317424e-02, -7.99965573e-02],\n        [-2.51949812e-02, -2.29912170e-02],\n        [ 1.87015759e-02,  1.87337505e-01],\n        [ 1.02238057e-01, -7.88578726e-02],\n        [-1.62861561e-01,  2.01009171e-02],\n        [-3.15470056e-02, -8.23719110e-02],\n        [ 8.15466739e-02, -9.30440599e-02]],\n\n       [[ 8.72586394e-01,  8.32250206e-01],\n        [ 1.25855485e+00,  9.15153596e-01],\n        [ 1.02983961e+00,  8.45230110e-01],\n        [ 9.39551934e-01,  7.44558257e-01],\n        [ 7.93835514e-01,  9.98376834e-01],\n        [ 1.06949469e+00,  9.87479922e-01],\n        [ 1.00076590e+00,  9.59665844e-01],\n        [ 1.18349027e+00,  9.93823134e-01],\n        [ 9.41314368e-01,  9.27651804e-01],\n        [ 9.55157517e-01,  8.51067371e-01],\n        [ 1.01187116e+00,  9.92286011e-01],\n        [ 9.81860471e-01,  7.71142794e-01],\n        [ 9.39343000e-01,  1.09876837e+00],\n        [ 1.07547496e+00,  1.07491498e+00],\n        [ 9.13674430e-01,  1.03131026e+00],\n        [ 9.48295389e-01,  9.42137424e-01],\n        [ 1.09625936e+00,  1.00386453e+00],\n        [ 9.69606134e-01,  9.80699805e-01],\n        [ 8.76171490e-01,  1.00167601e+00],\n        [ 8.78314803e-01,  9.17581669e-01],\n        [ 1.14071249e+00,  7.60209175e-01],\n        [ 9.21299505e-01,  1.12868200e+00],\n        [ 6.54907783e-01,  9.14353055e-01],\n        [ 1.05294499e+00,  8.74579179e-01],\n        [ 1.25358198e+00,  1.11179201e+00],\n        [ 1.16905584e+00,  8.22260996e-01],\n        [ 1.12426024e+00,  9.34044911e-01],\n        [ 1.17253518e+00,  9.74010555e-01],\n        [ 9.79028517e-01,  1.27331490e+00],\n        [ 8.26143878e-01,  1.10026446e+00],\n        [ 1.09730516e+00,  1.03540964e+00],\n        [ 9.36337947e-01,  8.98348599e-01],\n        [ 9.16046200e-01,  9.93250807e-01],\n        [ 1.01347843e+00,  1.10304554e+00],\n        [ 1.02667490e+00,  8.14724077e-01],\n        [ 1.01292576e+00,  1.03388117e+00],\n        [ 8.95629910e-01,  1.00570215e+00],\n        [ 1.18412797e+00,  8.34499348e-01],\n        [ 1.00127076e+00,  1.06472431e+00],\n        [ 9.68137024e-01,  8.12355602e-01],\n        [ 1.18701021e+00,  1.06283083e+00],\n        [ 1.00870634e+00,  9.29779559e-01],\n        [ 9.49258505e-01,  1.02050443e+00],\n        [ 8.99345969e-01,  1.09950997e+00],\n        [ 1.13127360e+00,  9.69897490e-01],\n        [ 9.99002845e-01,  1.11984970e+00],\n        [ 1.09164219e+00,  8.68448448e-01],\n        [ 8.25561707e-01,  1.13320749e+00],\n        [ 9.24622427e-01,  1.01952490e+00],\n        [ 1.03029013e+00,  1.11568689e+00],\n        [ 1.22151514e+00,  7.91951263e-01],\n        [ 9.63851867e-01,  9.88554284e-01],\n        [ 1.04386288e+00,  1.23537963e+00],\n        [ 8.64422072e-01,  9.47872222e-01],\n        [ 1.15068123e+00,  7.61491192e-01],\n        [ 1.05100067e+00,  1.07449887e+00],\n        [ 1.14938121e+00,  1.20480667e+00],\n        [ 1.08064155e+00,  1.24621749e+00],\n        [ 1.08509863e+00,  9.74256172e-01],\n        [ 8.51273964e-01,  1.08217248e+00],\n        [ 8.50921209e-01,  9.44283431e-01],\n        [ 9.96128902e-01,  1.11344059e+00],\n        [ 9.56560136e-01,  1.00215151e+00],\n        [ 8.09906601e-01,  1.11808609e+00],\n        [ 9.00595689e-01,  1.00884747e+00],\n        [ 8.52285832e-01,  9.73791035e-01],\n        [ 9.86632334e-01,  1.21111880e+00],\n        [ 8.40828358e-01,  1.28338464e+00],\n        [ 1.09291744e+00,  1.05556390e+00],\n        [ 1.23620717e+00,  9.38679392e-01],\n        [ 1.01878452e+00,  7.11180446e-01],\n        [ 8.53919029e-01,  1.17602940e+00],\n        [ 9.92485978e-01,  7.16617563e-01],\n        [ 9.54737009e-01,  1.13051394e+00],\n        [ 1.13193945e+00,  8.97016477e-01],\n        [ 1.01944775e+00,  7.15589139e-01],\n        [ 1.19447664e+00,  1.07240825e+00],\n        [ 1.22437161e+00,  1.05637440e+00],\n        [ 9.75621650e-01,  9.11411816e-01],\n        [ 9.29308678e-01,  6.28445459e-01],\n        [ 7.02650159e-01,  1.10181922e+00],\n        [ 9.34025126e-01,  1.10435746e+00],\n        [ 1.05816583e+00,  8.82882710e-01],\n        [ 1.00023890e+00,  1.05276402e+00],\n        [ 1.10830614e+00,  9.35832716e-01],\n        [ 1.07014792e+00,  9.34755780e-01],\n        [ 5.69246445e-01,  8.50127840e-01],\n        [ 1.01540487e+00,  7.36230247e-01],\n        [ 1.07226355e+00,  1.02670270e+00],\n        [ 1.12185555e+00,  1.02808547e+00],\n        [ 9.01899153e-01,  1.03371630e+00],\n        [ 9.32045787e-01,  1.01052905e+00],\n        [ 1.07961918e+00,  9.15497565e-01],\n        [ 1.12733000e+00,  9.18419232e-01],\n        [ 1.09994778e+00,  9.24245793e-01],\n        [ 1.03045097e+00,  9.26163998e-01],\n        [ 1.01909834e+00,  1.01135866e+00],\n        [ 1.26884202e+00,  9.45292284e-01],\n        [ 1.11785237e+00,  8.90936087e-01],\n        [ 1.17131889e+00,  9.00818414e-01]]])"
     },
     "metadata": {},
     "output_type": "execute_result",
     "execution_count": 119
    }
   ],
   "source": [
    "data = np.random.multivariate_normal(mu_true[0],sigma[0],size=N_distribution[0])\n",
    "data = data[np.newaxis,:,:]\n",
    "new_data = np.random.multivariate_normal(mu_true[1],sigma[1],size=N_distribution[1])\n",
    "new_data = new_data[np.newaxis,:,:]\n",
    "data = np.append(data,new_data,axis=0)\n",
    "data"
   ],
   "metadata": {
    "collapsed": false,
    "pycharm": {
     "name": "#%%\n",
     "is_executing": false
    }
   }
  },
  {
   "cell_type": "code",
   "execution_count": 120,
   "outputs": [
    {
     "data": {
      "text/plain": "<matplotlib.collections.PathCollection at 0x7f3f788479b0>"
     },
     "metadata": {},
     "output_type": "execute_result",
     "execution_count": 120
    },
    {
     "data": {
      "text/plain": "<Figure size 432x288 with 1 Axes>",
      "image/png": "[encoded data removed]"
     },
     "metadata": {
      "needs_background": "light"
     },
     "output_type": "display_data"
    }
   ],
   "source": [
    "plt.scatter(data[0,:,0],data[0,:,1],label='data_0')\n",
    "plt.scatter(data[1,:,0],data[1,:,1],label='data_1')"
   ],
   "metadata": {
    "collapsed": false,
    "pycharm": {
     "name": "#%%\n",
     "is_executing": false
    }
   }
  },
  {
   "cell_type": "code",
   "execution_count": 121,
   "outputs": [
    {
     "data": {
      "text/plain": "array([[-7.45875373e-02, -1.26799376e-01],\n       [-8.48496179e-02,  4.60669149e-02],\n       [-6.38406809e-02, -7.78173364e-02],\n       [ 4.48173903e-02,  2.38130775e-02],\n       [-2.85393666e-02,  6.17569213e-02],\n       [-2.16589386e-01, -8.03951326e-02],\n       [ 1.97600922e-02, -1.12761819e-01],\n       [ 1.59194887e-01,  1.66810951e-01],\n       [-7.01276303e-02, -7.45962699e-02],\n       [ 1.22398614e-02, -2.59612792e-02],\n       [-1.89546240e-02,  1.54755544e-02],\n       [-1.03931923e-01, -4.14176190e-02],\n       [-1.18598423e-01,  1.39856222e-01],\n       [ 1.11153242e-01, -2.54443975e-02],\n       [ 7.24208867e-02, -6.34732211e-03],\n       [-1.58349371e-01, -6.03129817e-03],\n       [ 1.28300081e-01,  1.02269066e-01],\n       [-3.00344872e-02, -2.53078107e-02],\n       [-1.02619751e-02, -3.07701697e-02],\n       [ 2.88917036e-01, -4.93399094e-02],\n       [ 7.97033276e-02, -4.10206193e-03],\n       [-1.42122383e-01, -3.12182959e-02],\n       [-1.17139852e-01,  2.40027926e-03],\n       [-1.22459872e-01, -4.46001945e-02],\n       [-7.51229388e-02,  5.19378841e-02],\n       [ 9.63581546e-03, -5.72111770e-02],\n       [-8.81277072e-02,  2.42756268e-02],\n       [-3.83430871e-02, -9.77286492e-02],\n       [-1.59219541e-02, -1.20908378e-01],\n       [ 8.29956770e-03,  1.09271945e-01],\n       [ 4.20425689e-02,  1.60631663e-01],\n       [ 1.61569829e-01, -1.29079914e-01],\n       [-4.67701303e-02, -1.17029104e-01],\n       [-1.08656066e-01, -6.49653173e-02],\n       [-1.08815831e-01, -6.81595334e-02],\n       [ 1.93041908e-01, -4.19149214e-03],\n       [-1.14521774e-01, -3.42429459e-02],\n       [-3.91977521e-02,  4.11217110e-02],\n       [ 6.74585113e-02,  1.66025186e-01],\n       [ 8.23824667e-02,  7.42971389e-02],\n       [ 2.73996950e-02, -9.07444270e-02],\n       [ 1.63939366e-02,  2.09577427e-03],\n       [ 1.09868192e-01,  4.99833257e-02],\n       [-7.31259665e-02, -1.36921429e-01],\n       [ 8.57403082e-03, -1.77358030e-01],\n       [-7.86093797e-02,  8.86523664e-02],\n       [ 1.84064889e-01,  1.07247633e-01],\n       [-4.16191183e-02,  1.00312643e-01],\n       [-5.16737899e-02,  1.60924444e-02],\n       [ 7.27864779e-02, -1.33405568e-01],\n       [ 8.77958844e-02, -4.16742945e-02],\n       [ 7.28500841e-02, -7.92491316e-02],\n       [ 7.35698954e-02, -2.11729190e-02],\n       [ 1.87125293e-02, -5.49925735e-03],\n       [-5.70600598e-02,  2.37439467e-02],\n       [-1.47410758e-01, -2.38445965e-02],\n       [ 5.69539035e-02, -4.59231427e-02],\n       [ 7.64637764e-02,  8.98251965e-02],\n       [-1.41163179e-03, -1.83156253e-01],\n       [-1.71508222e-02,  1.14739241e-01],\n       [ 8.21575257e-02, -2.53949702e-02],\n       [ 5.11966255e-02,  1.97450568e-02],\n       [ 4.78123321e-02, -8.90631396e-02],\n       [-4.28232874e-02,  1.06007049e-01],\n       [-9.08658800e-02, -7.54890950e-02],\n       [ 3.54436956e-02, -1.40343930e-02],\n       [ 6.85017448e-02,  9.65112673e-02],\n       [ 1.14896819e-01, -2.94059219e-02],\n       [-9.30262694e-02, -8.47628702e-02],\n       [ 8.49374884e-02, -1.14750258e-01],\n       [ 7.74678434e-03,  4.33269377e-02],\n       [ 2.91341000e-03, -2.06477248e-02],\n       [-3.00749972e-02,  2.11152040e-01],\n       [ 1.22912511e-02,  5.26720035e-02],\n       [ 1.11480927e-01,  1.20932515e-01],\n       [ 2.65219060e-02,  1.50326941e-02],\n       [-5.10471615e-02, -7.82505306e-02],\n       [-1.71157913e-01,  1.27337888e-02],\n       [-3.49905640e-02, -2.34930450e-02],\n       [ 2.43988030e-02,  6.77865979e-02],\n       [-6.38571085e-02,  1.68185115e-01],\n       [ 7.67007369e-02, -8.35334066e-02],\n       [ 5.39954511e-02,  3.71684357e-02],\n       [-6.91135042e-02, -1.11770582e-01],\n       [-8.83210454e-03,  1.27718031e-02],\n       [-1.80801931e-01,  3.01609057e-01],\n       [ 1.25398434e-01,  1.15725997e-01],\n       [-6.77679044e-02,  3.61938349e-02],\n       [-1.61051881e-01, -1.02768902e-01],\n       [-3.98967656e-02,  4.95245737e-02],\n       [ 1.83354596e-01, -3.10453312e-03],\n       [ 6.00995864e-02, -5.10124627e-02],\n       [-2.40822492e-02,  1.68170903e-04],\n       [-7.09317424e-02, -7.99965573e-02],\n       [-2.51949812e-02, -2.29912170e-02],\n       [ 1.87015759e-02,  1.87337505e-01],\n       [ 1.02238057e-01, -7.88578726e-02],\n       [-1.62861561e-01,  2.01009171e-02],\n       [-3.15470056e-02, -8.23719110e-02],\n       [ 8.15466739e-02, -9.30440599e-02],\n       [ 8.72586394e-01,  8.32250206e-01],\n       [ 1.25855485e+00,  9.15153596e-01],\n       [ 1.02983961e+00,  8.45230110e-01],\n       [ 9.39551934e-01,  7.44558257e-01],\n       [ 7.93835514e-01,  9.98376834e-01],\n       [ 1.06949469e+00,  9.87479922e-01],\n       [ 1.00076590e+00,  9.59665844e-01],\n       [ 1.18349027e+00,  9.93823134e-01],\n       [ 9.41314368e-01,  9.27651804e-01],\n       [ 9.55157517e-01,  8.51067371e-01],\n       [ 1.01187116e+00,  9.92286011e-01],\n       [ 9.81860471e-01,  7.71142794e-01],\n       [ 9.39343000e-01,  1.09876837e+00],\n       [ 1.07547496e+00,  1.07491498e+00],\n       [ 9.13674430e-01,  1.03131026e+00],\n       [ 9.48295389e-01,  9.42137424e-01],\n       [ 1.09625936e+00,  1.00386453e+00],\n       [ 9.69606134e-01,  9.80699805e-01],\n       [ 8.76171490e-01,  1.00167601e+00],\n       [ 8.78314803e-01,  9.17581669e-01],\n       [ 1.14071249e+00,  7.60209175e-01],\n       [ 9.21299505e-01,  1.12868200e+00],\n       [ 6.54907783e-01,  9.14353055e-01],\n       [ 1.05294499e+00,  8.74579179e-01],\n       [ 1.25358198e+00,  1.11179201e+00],\n       [ 1.16905584e+00,  8.22260996e-01],\n       [ 1.12426024e+00,  9.34044911e-01],\n       [ 1.17253518e+00,  9.74010555e-01],\n       [ 9.79028517e-01,  1.27331490e+00],\n       [ 8.26143878e-01,  1.10026446e+00],\n       [ 1.09730516e+00,  1.03540964e+00],\n       [ 9.36337947e-01,  8.98348599e-01],\n       [ 9.16046200e-01,  9.93250807e-01],\n       [ 1.01347843e+00,  1.10304554e+00],\n       [ 1.02667490e+00,  8.14724077e-01],\n       [ 1.01292576e+00,  1.03388117e+00],\n       [ 8.95629910e-01,  1.00570215e+00],\n       [ 1.18412797e+00,  8.34499348e-01],\n       [ 1.00127076e+00,  1.06472431e+00],\n       [ 9.68137024e-01,  8.12355602e-01],\n       [ 1.18701021e+00,  1.06283083e+00],\n       [ 1.00870634e+00,  9.29779559e-01],\n       [ 9.49258505e-01,  1.02050443e+00],\n       [ 8.99345969e-01,  1.09950997e+00],\n       [ 1.13127360e+00,  9.69897490e-01],\n       [ 9.99002845e-01,  1.11984970e+00],\n       [ 1.09164219e+00,  8.68448448e-01],\n       [ 8.25561707e-01,  1.13320749e+00],\n       [ 9.24622427e-01,  1.01952490e+00],\n       [ 1.03029013e+00,  1.11568689e+00],\n       [ 1.22151514e+00,  7.91951263e-01],\n       [ 9.63851867e-01,  9.88554284e-01],\n       [ 1.04386288e+00,  1.23537963e+00],\n       [ 8.64422072e-01,  9.47872222e-01],\n       [ 1.15068123e+00,  7.61491192e-01],\n       [ 1.05100067e+00,  1.07449887e+00],\n       [ 1.14938121e+00,  1.20480667e+00],\n       [ 1.08064155e+00,  1.24621749e+00],\n       [ 1.08509863e+00,  9.74256172e-01],\n       [ 8.51273964e-01,  1.08217248e+00],\n       [ 8.50921209e-01,  9.44283431e-01],\n       [ 9.96128902e-01,  1.11344059e+00],\n       [ 9.56560136e-01,  1.00215151e+00],\n       [ 8.09906601e-01,  1.11808609e+00],\n       [ 9.00595689e-01,  1.00884747e+00],\n       [ 8.52285832e-01,  9.73791035e-01],\n       [ 9.86632334e-01,  1.21111880e+00],\n       [ 8.40828358e-01,  1.28338464e+00],\n       [ 1.09291744e+00,  1.05556390e+00],\n       [ 1.23620717e+00,  9.38679392e-01],\n       [ 1.01878452e+00,  7.11180446e-01],\n       [ 8.53919029e-01,  1.17602940e+00],\n       [ 9.92485978e-01,  7.16617563e-01],\n       [ 9.54737009e-01,  1.13051394e+00],\n       [ 1.13193945e+00,  8.97016477e-01],\n       [ 1.01944775e+00,  7.15589139e-01],\n       [ 1.19447664e+00,  1.07240825e+00],\n       [ 1.22437161e+00,  1.05637440e+00],\n       [ 9.75621650e-01,  9.11411816e-01],\n       [ 9.29308678e-01,  6.28445459e-01],\n       [ 7.02650159e-01,  1.10181922e+00],\n       [ 9.34025126e-01,  1.10435746e+00],\n       [ 1.05816583e+00,  8.82882710e-01],\n       [ 1.00023890e+00,  1.05276402e+00],\n       [ 1.10830614e+00,  9.35832716e-01],\n       [ 1.07014792e+00,  9.34755780e-01],\n       [ 5.69246445e-01,  8.50127840e-01],\n       [ 1.01540487e+00,  7.36230247e-01],\n       [ 1.07226355e+00,  1.02670270e+00],\n       [ 1.12185555e+00,  1.02808547e+00],\n       [ 9.01899153e-01,  1.03371630e+00],\n       [ 9.32045787e-01,  1.01052905e+00],\n       [ 1.07961918e+00,  9.15497565e-01],\n       [ 1.12733000e+00,  9.18419232e-01],\n       [ 1.09994778e+00,  9.24245793e-01],\n       [ 1.03045097e+00,  9.26163998e-01],\n       [ 1.01909834e+00,  1.01135866e+00],\n       [ 1.26884202e+00,  9.45292284e-01],\n       [ 1.11785237e+00,  8.90936087e-01],\n       [ 1.17131889e+00,  9.00818414e-01]])"
     },
     "metadata": {},
     "output_type": "execute_result",
     "execution_count": 121
    }
   ],
   "source": [
    "data_total = data.reshape(-1,feature_dim)\n",
    "data_total"
   ],
   "metadata": {
    "collapsed": false,
    "pycharm": {
     "name": "#%%\n",
     "is_executing": false
    }
   }
  },
  {
   "cell_type": "code",
   "execution_count": 122,
   "outputs": [
    {
     "data": {
      "text/plain": "array([0.50291975, 0.48797135])"
     },
     "metadata": {},
     "output_type": "execute_result",
     "execution_count": 122
    }
   ],
   "source": [
    "\n",
    "mean_original= data_total.mean(axis=0)\n",
    "mean_original"
   ],
   "metadata": {
    "collapsed": false,
    "pycharm": {
     "name": "#%%\n",
     "is_executing": false
    }
   }
  },
  {
   "cell_type": "code",
   "execution_count": 124,
   "outputs": [
    {
     "data": {
      "text/plain": "array([[0.26925481, 0.24791656],\n       [0.24791656, 0.25398419]])"
     },
     "metadata": {},
     "output_type": "execute_result",
     "execution_count": 124
    }
   ],
   "source": [
    "cov_original = np.cov(data_total.T)\n",
    "cov_original"
   ],
   "metadata": {
    "collapsed": false,
    "pycharm": {
     "name": "#%%\n",
     "is_executing": false
    }
   }
  },
  {
   "cell_type": "code",
   "execution_count": 175,
   "outputs": [
    {
     "data": {
      "text/plain": "array([[0.33484884, 0.21381992],\n       [1.16055679, 1.19950134]])"
     },
     "metadata": {},
     "output_type": "execute_result",
     "execution_count": 175
    }
   ],
   "source": [
    "mu = np.random.multivariate_normal(mean_original,cov_original,K_model_cluster)\n",
    "mu"
   ],
   "metadata": {
    "collapsed": false,
    "pycharm": {
     "name": "#%%\n",
     "is_executing": false
    }
   }
  },
  {
   "cell_type": "code",
   "execution_count": 128,
   "outputs": [
    {
     "data": {
      "text/plain": "array([0.5, 0.5])"
     },
     "metadata": {},
     "output_type": "execute_result",
     "execution_count": 128
    }
   ],
   "source": [
    "pi = np.full(K_model_cluster,1./K_model_cluster)\n",
    "pi"
   ],
   "metadata": {
    "collapsed": false,
    "pycharm": {
     "name": "#%%\n",
     "is_executing": false
    }
   }
  },
  {
   "cell_type": "code",
   "execution_count": 154,
   "outputs": [
    {
     "data": {
      "text/plain": "array([[[0.26925481, 0.        ],\n        [0.        , 0.25398419]],\n\n       [[0.26925481, 0.        ],\n        [0.        , 0.25398419]]])"
     },
     "metadata": {},
     "output_type": "execute_result",
     "execution_count": 154
    }
   ],
   "source": [
    "cov = np.diag(cov_original.diagonal())\n",
    "cov = cov.reshape(-1,feature_dim,feature_dim)\n",
    "for i in range(K_model_cluster-1):\n",
    "    cov = np.append(cov,np.diag(cov_original.diagonal()).reshape(-1,feature_dim,feature_dim),axis=0)\n",
    "cov"
   ],
   "metadata": {
    "collapsed": false,
    "pycharm": {
     "name": "#%%\n",
     "is_executing": false
    }
   }
  },
  {
   "cell_type": "code",
   "execution_count": 232,
   "outputs": [
    {
     "data": {
      "text/plain": "array([[ 1.00809095,  0.97801001],\n       [-0.00225146, -0.00206731]])"
     },
     "metadata": {},
     "output_type": "execute_result",
     "execution_count": 232
    }
   ],
   "source": [
    "N_nk = multivariate_normal(mu[0],cov[0]).pdf(data_total)\n",
    "N_nk = N_nk.reshape(-1,1)\n",
    "for i in range(1,K_model_cluster):\n",
    "    N_nk_temp = multivariate_normal(mu[i],cov[i]).pdf(data_total)\n",
    "    N_nk_temp = N_nk_temp.reshape(-1,1)\n",
    "    N_nk = np.append(N_nk,N_nk_temp,axis=1)\n",
    "\n",
    "pi_N_nk = N_nk*pi\n",
    "\n",
    "sum_pi_N_nk = pi_N_nk.sum(axis=1).reshape(-1,1)\n",
    "\n",
    "gamma_nk = pi_N_nk/sum_pi_N_nk\n",
    "\n",
    "N_k = gamma_nk.sum(axis=0)\n",
    "\n",
    "mu = np.average(data_total,weights=gamma_nk[:,0],axis=0)\n",
    "for i in range(1,K_model_cluster):\n",
    "    mu = np.append(mu,np.average(data_total,weights=gamma_nk[:,i],axis=0))\n",
    "\n",
    "mu = mu.reshape(-1,K_model_cluster)\n",
    "mu"
   ],
   "metadata": {
    "collapsed": false,
    "pycharm": {
     "name": "#%%\n",
     "is_executing": false
    }
   }
  },
  {
   "cell_type": "code",
   "execution_count": 233,
   "outputs": [
    {
     "data": {
      "text/plain": "array([[[0.01676004, 0.        ],\n        [0.        , 0.01708255]],\n\n       [[0.00866114, 0.        ],\n        [0.        , 0.00807021]]])"
     },
     "metadata": {},
     "output_type": "execute_result",
     "execution_count": 233
    }
   ],
   "source": [
    "\n",
    "cov = np.diag(np.average((data_total-mu[0])**2,weights=gamma_nk[:,0],axis=0))\n",
    "cov  = cov.reshape(-1,feature_dim,feature_dim)\n",
    "for i in range(1,K_model_cluster):\n",
    "    cov = np.append(cov,np.diag(np.average((data_total-mu[i])**2,weights=gamma_nk[:,i],axis=0)).reshape(-1,feature_dim,feature_dim),axis=0)\n",
    "cov"
   ],
   "metadata": {
    "collapsed": false,
    "pycharm": {
     "name": "#%%\n",
     "is_executing": false
    }
   }
  },
  {
   "cell_type": "code",
   "execution_count": 234,
   "outputs": [
    {
     "data": {
      "text/plain": "array([0.5, 0.5])"
     },
     "metadata": {},
     "output_type": "execute_result",
     "execution_count": 234
    }
   ],
   "source": [
    "pi = N_k/N_total\n",
    "pi"
   ],
   "metadata": {
    "collapsed": false,
    "pycharm": {
     "name": "#%%\n",
     "is_executing": false
    }
   }
  },
  {
   "cell_type": "code",
   "execution_count": 235,
   "outputs": [
    {
     "data": {
      "text/plain": "180.1421665835079"
     },
     "metadata": {},
     "output_type": "execute_result",
     "execution_count": 235
    }
   ],
   "source": [
    "log_P = np.log(pi_N_nk.sum(axis=1)).sum()\n",
    "log_P"
   ],
   "metadata": {
    "collapsed": false,
    "pycharm": {
     "name": "#%%\n",
     "is_executing": false
    }
   }
  },
  {
   "cell_type": "code",
   "execution_count": 236,
   "outputs": [
    {
     "data": {
      "text/plain": "array([[3.47163877e-31, 1.00000000e+00],\n       [2.57297357e-27, 1.00000000e+00],\n       [7.68296505e-30, 1.00000000e+00],\n       [1.48419544e-24, 1.00000000e+00],\n       [1.68369343e-25, 1.00000000e+00],\n       [2.18035100e-33, 1.00000000e+00],\n       [1.80275069e-28, 1.00000000e+00],\n       [2.58992034e-17, 1.00000000e+00],\n       [6.37196029e-30, 1.00000000e+00],\n       [1.12895952e-26, 1.00000000e+00],\n       [1.84316382e-26, 1.00000000e+00],\n       [5.79044956e-30, 1.00000000e+00],\n       [1.57829511e-25, 1.00000000e+00],\n       [6.42800772e-24, 1.00000000e+00],\n       [1.49323786e-24, 1.00000000e+00],\n       [2.33313366e-30, 1.00000000e+00],\n       [4.33164611e-20, 1.00000000e+00],\n       [9.30181654e-28, 1.00000000e+00],\n       [2.21600606e-27, 1.00000000e+00],\n       [5.77953385e-19, 1.00000000e+00],\n       [2.71862432e-24, 1.00000000e+00],\n       [1.31475809e-30, 1.00000000e+00],\n       [3.32414513e-29, 1.00000000e+00],\n       [1.78586528e-30, 1.00000000e+00],\n       [6.33230839e-27, 1.00000000e+00],\n       [1.73814591e-27, 1.00000000e+00],\n       [5.82501055e-28, 1.00000000e+00],\n       [1.18909928e-29, 1.00000000e+00],\n       [1.38584634e-29, 1.00000000e+00],\n       [3.06034816e-23, 1.00000000e+00],\n       [7.43216460e-21, 1.00000000e+00],\n       [8.63623544e-25, 1.00000000e+00],\n       [2.75185568e-30, 1.00000000e+00],\n       [1.25426001e-30, 1.00000000e+00],\n       [1.04924380e-30, 1.00000000e+00],\n       [6.02671840e-21, 1.00000000e+00],\n       [4.83503045e-30, 1.00000000e+00],\n       [2.56966360e-26, 1.00000000e+00],\n       [5.38687948e-20, 1.00000000e+00],\n       [3.51622390e-22, 1.00000000e+00],\n       [8.85145605e-28, 1.00000000e+00],\n       [7.15047096e-26, 1.00000000e+00],\n       [4.79777621e-22, 1.00000000e+00],\n       [2.29802080e-31, 1.00000000e+00],\n       [4.08641927e-30, 1.00000000e+00],\n       [5.09124086e-26, 1.00000000e+00],\n       [2.81727384e-18, 1.00000000e+00],\n       [8.82844778e-25, 1.00000000e+00],\n       [2.82394206e-27, 1.00000000e+00],\n       [1.83270127e-27, 1.00000000e+00],\n       [5.61191316e-25, 1.00000000e+00],\n       [2.84426305e-26, 1.00000000e+00],\n       [6.94738104e-25, 1.00000000e+00],\n       [5.33122023e-26, 1.00000000e+00],\n       [3.25139017e-27, 1.00000000e+00],\n       [1.50332677e-30, 1.00000000e+00],\n       [6.09606893e-26, 1.00000000e+00],\n       [6.35927023e-22, 1.00000000e+00],\n       [1.71144304e-30, 1.00000000e+00],\n       [9.43500366e-24, 1.00000000e+00],\n       [9.56452285e-25, 1.00000000e+00],\n       [1.74644532e-24, 1.00000000e+00],\n       [3.45812626e-27, 1.00000000e+00],\n       [1.18692508e-24, 1.00000000e+00],\n       [1.90658844e-30, 1.00000000e+00],\n       [9.24580538e-26, 1.00000000e+00],\n       [5.82388672e-22, 1.00000000e+00],\n       [6.61736756e-24, 1.00000000e+00],\n       [1.04201005e-30, 1.00000000e+00],\n       [1.01227968e-26, 1.00000000e+00],\n       [4.80066043e-25, 1.00000000e+00],\n       [8.61944215e-27, 1.00000000e+00],\n       [3.14089202e-21, 1.00000000e+00],\n       [1.11624896e-24, 1.00000000e+00],\n       [4.69683627e-20, 1.00000000e+00],\n       [2.82852194e-25, 1.00000000e+00],\n       [1.56135172e-29, 1.00000000e+00],\n       [3.57677482e-30, 1.00000000e+00],\n       [7.70045999e-28, 1.00000000e+00],\n       [5.94463216e-24, 1.00000000e+00],\n       [2.21171529e-23, 1.00000000e+00],\n       [2.91653283e-26, 1.00000000e+00],\n       [5.86655376e-24, 1.00000000e+00],\n       [9.97860770e-31, 1.00000000e+00],\n       [2.87812322e-26, 1.00000000e+00],\n       [7.00558625e-22, 1.00000000e+00],\n       [8.49857797e-20, 1.00000000e+00],\n       [3.70575611e-27, 1.00000000e+00],\n       [1.09859895e-32, 1.00000000e+00],\n       [4.10096016e-26, 1.00000000e+00],\n       [3.22695776e-21, 1.00000000e+00],\n       [5.64849847e-26, 1.00000000e+00],\n       [5.59764713e-27, 1.00000000e+00],\n       [4.58698957e-30, 1.00000000e+00],\n       [1.40787444e-27, 1.00000000e+00],\n       [1.09772661e-20, 1.00000000e+00],\n       [1.97786618e-25, 1.00000000e+00],\n       [8.41405236e-30, 1.00000000e+00],\n       [3.90876304e-29, 1.00000000e+00],\n       [2.44116677e-26, 1.00000000e+00],\n       [1.00000000e+00, 7.87371492e-38],\n       [1.00000000e+00, 4.76287133e-62],\n       [1.00000000e+00, 3.25799309e-46],\n       [1.00000000e+00, 6.64001446e-37],\n       [1.00000000e+00, 1.21875213e-42],\n       [1.00000000e+00, 1.62339917e-55],\n       [1.00000000e+00, 1.58794276e-50],\n       [1.00000000e+00, 5.90691650e-62],\n       [1.00000000e+00, 6.55601686e-46],\n       [1.00000000e+00, 9.59162105e-43],\n       [1.00000000e+00, 8.31996637e-53],\n       [1.00000000e+00, 3.10005314e-40],\n       [1.00000000e+00, 5.21401901e-55],\n       [1.00000000e+00, 1.42744782e-60],\n       [1.00000000e+00, 4.91383837e-50],\n       [1.00000000e+00, 5.33828701e-47],\n       [1.00000000e+00, 8.58237309e-58],\n       [1.00000000e+00, 4.54396816e-50],\n       [1.00000000e+00, 1.21310317e-46],\n       [1.00000000e+00, 2.36351892e-42],\n       [1.00000000e+00, 5.61936499e-48],\n       [1.00000000e+00, 8.02242735e-56],\n       [1.00000000e+00, 3.54082119e-32],\n       [1.00000000e+00, 7.48557952e-49],\n       [1.00000000e+00, 2.45766913e-72],\n       [1.00000000e+00, 1.85884570e-52],\n       [1.00000000e+00, 1.28891425e-55],\n       [1.00000000e+00, 2.62877107e-60],\n       [1.00000000e+00, 3.28665729e-67],\n       [1.00000000e+00, 1.05713608e-49],\n       [1.00000000e+00, 1.50429456e-59],\n       [1.00000000e+00, 3.56316925e-44],\n       [1.00000000e+00, 4.17828936e-48],\n       [1.00000000e+00, 5.99454591e-59],\n       [1.00000000e+00, 1.43078445e-44],\n       [1.00000000e+00, 4.27894479e-55],\n       [1.00000000e+00, 8.71831293e-48],\n       [1.00000000e+00, 7.08989875e-54],\n       [1.00000000e+00, 3.40679740e-56],\n       [1.00000000e+00, 1.65918494e-41],\n       [1.00000000e+00, 6.91375754e-66],\n       [1.00000000e+00, 2.22451184e-49],\n       [1.00000000e+00, 3.46230104e-51],\n       [1.00000000e+00, 4.12867063e-53],\n       [1.00000000e+00, 7.41539146e-58],\n       [1.00000000e+00, 3.63504036e-59],\n       [1.00000000e+00, 1.44005761e-50],\n       [1.00000000e+00, 1.52690213e-51],\n       [1.00000000e+00, 6.27803526e-50],\n       [1.00000000e+00, 1.60898828e-60],\n       [1.00000000e+00, 6.68606643e-54],\n       [1.00000000e+00, 3.36859336e-50],\n       [1.00000000e+00, 3.35194339e-68],\n       [1.00000000e+00, 2.96967129e-43],\n       [1.00000000e+00, 1.41809486e-48],\n       [1.00000000e+00, 2.82004902e-59],\n       [1.00000000e+00, 5.96825209e-72],\n       [1.00000000e+00, 9.14730566e-71],\n       [1.00000000e+00, 1.23670261e-55],\n       [1.00000000e+00, 7.35369784e-50],\n       [1.00000000e+00, 1.96563697e-42],\n       [1.00000000e+00, 1.17120436e-58],\n       [1.00000000e+00, 1.46067374e-50],\n       [1.00000000e+00, 5.82955972e-50],\n       [1.00000000e+00, 3.41654142e-48],\n       [1.00000000e+00, 4.88806828e-44],\n       [1.00000000e+00, 7.64012037e-64],\n       [1.00000000e+00, 3.73683256e-61],\n       [1.00000000e+00, 2.02898540e-60],\n       [1.00000000e+00, 5.40667313e-62],\n       [1.00000000e+00, 2.43801528e-39],\n       [1.00000000e+00, 2.45255231e-55],\n       [1.00000000e+00, 2.96345742e-38],\n       [1.00000000e+00, 1.45405112e-57],\n       [1.00000000e+00, 3.85601042e-54],\n       [1.00000000e+00, 1.42513687e-39],\n       [1.00000000e+00, 7.92331737e-67],\n       [1.00000000e+00, 1.32901478e-67],\n       [1.00000000e+00, 8.90030413e-47],\n       [1.00000000e+00, 3.06131948e-31],\n       [1.00000000e+00, 2.90984338e-44],\n       [1.00000000e+00, 4.60252028e-55],\n       [1.00000000e+00, 1.54590252e-49],\n       [1.00000000e+00, 1.74850735e-55],\n       [1.00000000e+00, 7.38244994e-55],\n       [1.00000000e+00, 8.54800897e-53],\n       [1.00000000e+00, 1.90382525e-25],\n       [1.00000000e+00, 2.62220076e-40],\n       [1.00000000e+00, 9.22255137e-58],\n       [1.00000000e+00, 1.86495699e-60],\n       [1.00000000e+00, 1.34503006e-49],\n       [1.00000000e+00, 8.31778406e-50],\n       [1.00000000e+00, 2.65165694e-52],\n       [1.00000000e+00, 5.58618980e-55],\n       [1.00000000e+00, 8.06191477e-54],\n       [1.00000000e+00, 2.66148023e-50],\n       [1.00000000e+00, 3.41866330e-54],\n       [1.00000000e+00, 3.50184041e-64],\n       [1.00000000e+00, 4.42453747e-53],\n       [1.00000000e+00, 1.82881182e-56]])"
     },
     "metadata": {},
     "output_type": "execute_result",
     "execution_count": 236
    }
   ],
   "source": [
    "gamma_nk"
   ],
   "metadata": {
    "collapsed": false,
    "pycharm": {
     "name": "#%%\n",
     "is_executing": false
    }
   }
  },
  {
   "cell_type": "code",
   "execution_count": null,
   "outputs": [],
   "source": [
    "\n"
   ],
   "metadata": {
    "collapsed": false,
    "pycharm": {
     "name": "#%%\n"
    }
   }
  }
 ],
 "metadata": {
  "language_info": {
   "codemirror_mode": {
    "name": "ipython",
    "version": 2
   },
   "file_extension": ".py",
   "mimetype": "text/x-python",
   "name": "python",
   "nbconvert_exporter": "python",
   "pygments_lexer": "ipython2",
   "version": "2.7.6"
  },
  "kernelspec": {
   "name": "python3",
   "language": "python",
   "display_name": "Python 3"
  },
  "pycharm": {
   "stem_cell": {
    "cell_type": "raw",
    "source": [],
    "metadata": {
     "collapsed": false
    }
   }
  }
 },
 "nbformat": 4,
 "nbformat_minor": 0
}