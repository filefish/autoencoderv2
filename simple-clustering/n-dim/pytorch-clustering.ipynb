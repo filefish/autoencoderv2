{
 "cells": [
  {
   "cell_type": "code",
   "execution_count": 584,
   "metadata": {
    "collapsed": true
   },
   "outputs": [],
   "source": [
    "import torch\n",
    "import torch.nn as nn\n",
    "import torch.optim as optim\n",
    "import matplotlib.pyplot as plt\n",
    "from torch.distributions.multivariate_normal import MultivariateNormal\n",
    "import numpy as np\n",
    "\n"
   ]
  },
  {
   "cell_type": "code",
   "execution_count": 858,
   "outputs": [],
   "source": [
    "K_true_cluster = 2\n",
    "K_model_cluster = 2\n",
    "feature_dim =10\n",
    "iter_max = 10\n",
    "N_seed = 100\n"
   ],
   "metadata": {
    "collapsed": false,
    "pycharm": {
     "name": "#%%\n"
    }
   }
  },
  {
   "cell_type": "code",
   "execution_count": 650,
   "outputs": [],
   "source": [
    "pi_ratio = torch.tensor([1.,1.])\n",
    "pi = pi_ratio/pi_ratio.sum()\n",
    "N_distribution = N_seed*pi_ratio\n",
    "N_total = N_distribution.sum()"
   ],
   "metadata": {
    "collapsed": false,
    "pycharm": {
     "name": "#%%\n"
    }
   }
  },
  {
   "cell_type": "code",
   "execution_count": 854,
   "outputs": [
    {
     "data": {
      "text/plain": "tensor([[0., 0., 0., 0., 0., 0., 0., 0., 0., 0.],\n        [1., 1., 1., 1., 1., 1., 1., 1., 1., 1.]])"
     },
     "execution_count": 854,
     "metadata": {},
     "output_type": "execute_result"
    }
   ],
   "source": [
    "#mu_true = torch.tensor([[0.,0.,0.],[1.,1.,1.]],requires_grad=False)\n",
    "mu_true = torch.zeros(10,requires_grad=False)\n",
    "mu_true = torch.stack((mu_true,torch.ones(10)))\n",
    "mu_true"
   ],
   "metadata": {
    "collapsed": false,
    "pycharm": {
     "name": "#%%\n"
    }
   }
  },
  {
   "cell_type": "code",
   "execution_count": 856,
   "outputs": [
    {
     "data": {
      "text/plain": "tensor([[[0.0100, 0.0000, 0.0000, 0.0000, 0.0000, 0.0000, 0.0000, 0.0000,\n          0.0000, 0.0000],\n         [0.0000, 0.0100, 0.0000, 0.0000, 0.0000, 0.0000, 0.0000, 0.0000,\n          0.0000, 0.0000],\n         [0.0000, 0.0000, 0.0100, 0.0000, 0.0000, 0.0000, 0.0000, 0.0000,\n          0.0000, 0.0000],\n         [0.0000, 0.0000, 0.0000, 0.0100, 0.0000, 0.0000, 0.0000, 0.0000,\n          0.0000, 0.0000],\n         [0.0000, 0.0000, 0.0000, 0.0000, 0.0100, 0.0000, 0.0000, 0.0000,\n          0.0000, 0.0000],\n         [0.0000, 0.0000, 0.0000, 0.0000, 0.0000, 0.0100, 0.0000, 0.0000,\n          0.0000, 0.0000],\n         [0.0000, 0.0000, 0.0000, 0.0000, 0.0000, 0.0000, 0.0100, 0.0000,\n          0.0000, 0.0000],\n         [0.0000, 0.0000, 0.0000, 0.0000, 0.0000, 0.0000, 0.0000, 0.0100,\n          0.0000, 0.0000],\n         [0.0000, 0.0000, 0.0000, 0.0000, 0.0000, 0.0000, 0.0000, 0.0000,\n          0.0100, 0.0000],\n         [0.0000, 0.0000, 0.0000, 0.0000, 0.0000, 0.0000, 0.0000, 0.0000,\n          0.0000, 0.0100]],\n\n        [[0.0100, 0.0000, 0.0000, 0.0000, 0.0000, 0.0000, 0.0000, 0.0000,\n          0.0000, 0.0000],\n         [0.0000, 0.0100, 0.0000, 0.0000, 0.0000, 0.0000, 0.0000, 0.0000,\n          0.0000, 0.0000],\n         [0.0000, 0.0000, 0.0100, 0.0000, 0.0000, 0.0000, 0.0000, 0.0000,\n          0.0000, 0.0000],\n         [0.0000, 0.0000, 0.0000, 0.0100, 0.0000, 0.0000, 0.0000, 0.0000,\n          0.0000, 0.0000],\n         [0.0000, 0.0000, 0.0000, 0.0000, 0.0100, 0.0000, 0.0000, 0.0000,\n          0.0000, 0.0000],\n         [0.0000, 0.0000, 0.0000, 0.0000, 0.0000, 0.0100, 0.0000, 0.0000,\n          0.0000, 0.0000],\n         [0.0000, 0.0000, 0.0000, 0.0000, 0.0000, 0.0000, 0.0100, 0.0000,\n          0.0000, 0.0000],\n         [0.0000, 0.0000, 0.0000, 0.0000, 0.0000, 0.0000, 0.0000, 0.0100,\n          0.0000, 0.0000],\n         [0.0000, 0.0000, 0.0000, 0.0000, 0.0000, 0.0000, 0.0000, 0.0000,\n          0.0100, 0.0000],\n         [0.0000, 0.0000, 0.0000, 0.0000, 0.0000, 0.0000, 0.0000, 0.0000,\n          0.0000, 0.0100]]])"
     },
     "execution_count": 856,
     "metadata": {},
     "output_type": "execute_result"
    }
   ],
   "source": [
    "#sigma1 = torch.tensor([[0.01,0,0],[0.,0.01,0.],[0,0,0.01]],requires_grad=False)\n",
    "#sigma2 = torch.tensor([[0.01,0,0],[0.,0.01,0.],[0,0,0.01]],requires_grad=False)\n",
    "sigma1 = 0.01*torch.eye(10,requires_grad=False)\n",
    "sigma2 = 0.01*torch.eye(10,requires_grad=False)\n",
    "sigma = torch.stack((sigma1,sigma2),0)\n",
    "sigma"
   ],
   "metadata": {
    "collapsed": false,
    "pycharm": {
     "name": "#%%\n"
    }
   }
  },
  {
   "cell_type": "code",
   "execution_count": 859,
   "outputs": [
    {
     "data": {
      "text/plain": "(torch.Size([200, 10]), torch.Size([200, 1]))"
     },
     "execution_count": 859,
     "metadata": {},
     "output_type": "execute_result"
    }
   ],
   "source": [
    "data=torch.empty(0,feature_dim)\n",
    "label = torch.empty(0,1).int()\n",
    "for i in range(K_true_cluster):\n",
    "    data_distribution = MultivariateNormal(mu_true[i],sigma[i])\n",
    "    \n",
    "    data = torch.cat((data,data_distribution.sample([int(N_distribution[i].item()),])),0) #pycharmが勧める方法\n",
    "    \n",
    "    #data = torch.cat((data,data_distribution.sample_n(int(N_distribution[i].item()))),0) #sample_nを用いたやり方\n",
    "    \n",
    "    #data = torch.cat((data,data_distribution.sample(torch.Size([int(N_distribution[i].item())]))),0)#torch.Size[N]で指定するやり方\n",
    "    \n",
    "    #data_distribution =data_distribution.expand(torch.Size([int(N_distribution[i].item())]))#分布をexpandしておくやり方\n",
    "    #data = torch.cat((data,data_distribution.sample()),0)\n",
    "    \n",
    "    label = torch.cat((label,  torch.full((int(N_distribution[i].item()),1),i).int()),0)\n",
    "    \n",
    "data.shape,label.shape\n"
   ],
   "metadata": {
    "collapsed": false,
    "pycharm": {
     "name": "#%%\n"
    }
   }
  },
  {
   "cell_type": "code",
   "execution_count": 861,
   "outputs": [
    {
     "data": {
      "text/plain": "<matplotlib.collections.PathCollection at 0x7fab8bca6da0>"
     },
     "execution_count": 861,
     "metadata": {},
     "output_type": "execute_result"
    },
    {
     "data": {
      "text/plain": "<Figure size 432x288 with 1 Axes>",
      "image/png": "[encoded data removed]"
     },
     "metadata": {
      "needs_background": "light"
     },
     "output_type": "display_data"
    }
   ],
   "source": [
    "plt.scatter(data[:int(N_distribution[0].item()),0],data[:int(N_distribution[0].item()),9],marker=\"*\",alpha=0.3)\n",
    "plt.scatter(data[int(N_distribution[0].item()):,0],data[int(N_distribution[0].item()):,9],alpha=0.3)\n",
    "\n"
   ],
   "metadata": {
    "collapsed": false,
    "pycharm": {
     "name": "#%%\n"
    }
   }
  },
  {
   "cell_type": "code",
   "execution_count": 862,
   "outputs": [
    {
     "data": {
      "text/plain": "tensor([0.5007, 0.4979, 0.5059, 0.4977, 0.5025, 0.5064, 0.5012, 0.4965, 0.4987,\n        0.4939])"
     },
     "execution_count": 862,
     "metadata": {},
     "output_type": "execute_result"
    }
   ],
   "source": [
    "mu_original = data.mean(0)\n",
    "mu_original.requires_grad_(False)\n"
   ],
   "metadata": {
    "collapsed": false,
    "pycharm": {
     "name": "#%%データ全体の中心を求めている\n"
    }
   }
  },
  {
   "cell_type": "code",
   "execution_count": 863,
   "outputs": [
    {
     "data": {
      "text/plain": "tensor([[0.2615, 0.2505, 0.2520, 0.2489, 0.2575, 0.2467, 0.2479, 0.2471, 0.2459,\n         0.2512],\n        [0.2505, 0.2562, 0.2500, 0.2467, 0.2555, 0.2446, 0.2451, 0.2441, 0.2457,\n         0.2474],\n        [0.2520, 0.2500, 0.2619, 0.2495, 0.2587, 0.2476, 0.2473, 0.2467, 0.2484,\n         0.2505],\n        [0.2489, 0.2467, 0.2495, 0.2554, 0.2538, 0.2445, 0.2441, 0.2436, 0.2455,\n         0.2475],\n        [0.2575, 0.2555, 0.2587, 0.2538, 0.2727, 0.2514, 0.2516, 0.2525, 0.2537,\n         0.2560],\n        [0.2467, 0.2446, 0.2476, 0.2445, 0.2514, 0.2526, 0.2412, 0.2405, 0.2421,\n         0.2457],\n        [0.2479, 0.2451, 0.2473, 0.2441, 0.2516, 0.2412, 0.2513, 0.2418, 0.2428,\n         0.2454],\n        [0.2471, 0.2441, 0.2467, 0.2436, 0.2525, 0.2405, 0.2418, 0.2531, 0.2423,\n         0.2465],\n        [0.2459, 0.2457, 0.2484, 0.2455, 0.2537, 0.2421, 0.2428, 0.2423, 0.2543,\n         0.2474],\n        [0.2512, 0.2474, 0.2505, 0.2475, 0.2560, 0.2457, 0.2454, 0.2465, 0.2474,\n         0.2596]])"
     },
     "execution_count": 863,
     "metadata": {},
     "output_type": "execute_result"
    }
   ],
   "source": [
    "data_white = data-mu_original\n",
    "cov_original = torch.matmul(data_white.transpose(1,0),data_white)/N_total\n",
    "cov_original.requires_grad_(False)\n"
   ],
   "metadata": {
    "collapsed": false,
    "pycharm": {
     "name": "#%%データ全体の共分散行列を求めている\n"
    }
   }
  },
  {
   "cell_type": "code",
   "execution_count": 864,
   "outputs": [
    {
     "data": {
      "text/plain": "tensor([[0.4482, 0.2464, 0.4078, 0.2830, 0.6050, 0.3963, 0.4023, 0.3324, 0.2993,\n         0.4000],\n        [0.2725, 0.3888, 0.3158, 0.1407, 0.3973, 0.2899, 0.3447, 0.2426, 0.2379,\n         0.2630]], requires_grad=True)"
     },
     "execution_count": 864,
     "metadata": {},
     "output_type": "execute_result"
    }
   ],
   "source": [
    "\n",
    "original_distribution = MultivariateNormal(mu_original,cov_original)\n",
    "mu_k = original_distribution.sample([K_model_cluster,]).requires_grad_(True)\n",
    "mu_k\n",
    "\n"
   ],
   "metadata": {
    "collapsed": false,
    "pycharm": {
     "name": "#%%\n"
    }
   }
  },
  {
   "cell_type": "code",
   "execution_count": 865,
   "outputs": [
    {
     "data": {
      "text/plain": "tensor([0.5000, 0.5000])"
     },
     "execution_count": 865,
     "metadata": {},
     "output_type": "execute_result"
    }
   ],
   "source": [
    "pi_k = torch.full((K_model_cluster,),1./K_model_cluster,requires_grad=False)\n",
    "pi_k"
   ],
   "metadata": {
    "collapsed": false,
    "pycharm": {
     "name": "#%%\n"
    }
   }
  },
  {
   "cell_type": "code",
   "execution_count": 867,
   "outputs": [
    {
     "data": {
      "text/plain": "tensor([[[0.0500, 0.0000, 0.0000, 0.0000, 0.0000, 0.0000, 0.0000, 0.0000,\n          0.0000, 0.0000],\n         [0.0000, 0.0500, 0.0000, 0.0000, 0.0000, 0.0000, 0.0000, 0.0000,\n          0.0000, 0.0000],\n         [0.0000, 0.0000, 0.0500, 0.0000, 0.0000, 0.0000, 0.0000, 0.0000,\n          0.0000, 0.0000],\n         [0.0000, 0.0000, 0.0000, 0.0500, 0.0000, 0.0000, 0.0000, 0.0000,\n          0.0000, 0.0000],\n         [0.0000, 0.0000, 0.0000, 0.0000, 0.0500, 0.0000, 0.0000, 0.0000,\n          0.0000, 0.0000],\n         [0.0000, 0.0000, 0.0000, 0.0000, 0.0000, 0.0500, 0.0000, 0.0000,\n          0.0000, 0.0000],\n         [0.0000, 0.0000, 0.0000, 0.0000, 0.0000, 0.0000, 0.0500, 0.0000,\n          0.0000, 0.0000],\n         [0.0000, 0.0000, 0.0000, 0.0000, 0.0000, 0.0000, 0.0000, 0.0500,\n          0.0000, 0.0000],\n         [0.0000, 0.0000, 0.0000, 0.0000, 0.0000, 0.0000, 0.0000, 0.0000,\n          0.0500, 0.0000],\n         [0.0000, 0.0000, 0.0000, 0.0000, 0.0000, 0.0000, 0.0000, 0.0000,\n          0.0000, 0.0500]],\n\n        [[0.0500, 0.0000, 0.0000, 0.0000, 0.0000, 0.0000, 0.0000, 0.0000,\n          0.0000, 0.0000],\n         [0.0000, 0.0500, 0.0000, 0.0000, 0.0000, 0.0000, 0.0000, 0.0000,\n          0.0000, 0.0000],\n         [0.0000, 0.0000, 0.0500, 0.0000, 0.0000, 0.0000, 0.0000, 0.0000,\n          0.0000, 0.0000],\n         [0.0000, 0.0000, 0.0000, 0.0500, 0.0000, 0.0000, 0.0000, 0.0000,\n          0.0000, 0.0000],\n         [0.0000, 0.0000, 0.0000, 0.0000, 0.0500, 0.0000, 0.0000, 0.0000,\n          0.0000, 0.0000],\n         [0.0000, 0.0000, 0.0000, 0.0000, 0.0000, 0.0500, 0.0000, 0.0000,\n          0.0000, 0.0000],\n         [0.0000, 0.0000, 0.0000, 0.0000, 0.0000, 0.0000, 0.0500, 0.0000,\n          0.0000, 0.0000],\n         [0.0000, 0.0000, 0.0000, 0.0000, 0.0000, 0.0000, 0.0000, 0.0500,\n          0.0000, 0.0000],\n         [0.0000, 0.0000, 0.0000, 0.0000, 0.0000, 0.0000, 0.0000, 0.0000,\n          0.0500, 0.0000],\n         [0.0000, 0.0000, 0.0000, 0.0000, 0.0000, 0.0000, 0.0000, 0.0000,\n          0.0000, 0.0500]]])"
     },
     "execution_count": 867,
     "metadata": {},
     "output_type": "execute_result"
    }
   ],
   "source": [
    "#cov_k = cov_original.clone().requires_grad_(True)\n",
    "cov_k = 0.05*torch.eye(feature_dim,requires_grad=False)\n",
    "cov_k = cov_k.repeat(K_model_cluster,1,1)\n",
    "cov_k"
   ],
   "metadata": {
    "collapsed": false,
    "pycharm": {
     "name": "#%%\n"
    }
   }
  },
  {
   "cell_type": "code",
   "execution_count": 13,
   "outputs": [
    {
     "data": {
      "text/plain": "tensor([[[0.5043, 0.0000],\n         [0.4920, 0.1610]],\n\n        [[0.5043, 0.0000],\n         [0.4920, 0.1610]]], requires_grad=True)"
     },
     "execution_count": 13,
     "metadata": {},
     "output_type": "execute_result"
    }
   ],
   "source": [
    "chol_k = torch.cholesky(cov_original)\n",
    "chol_k = chol_k.repeat(K_model_cluster,1,1)\n",
    "chol_k = chol_k.clone().detach().requires_grad_(True)\n",
    "chol_k\n"
   ],
   "metadata": {
    "collapsed": false,
    "pycharm": {
     "name": "#%%\n"
    }
   }
  },
  {
   "cell_type": "code",
   "execution_count": 691,
   "outputs": [
    {
     "data": {
      "text/plain": "tensor([[[0.2571, 0.0000, 0.0000],\n         [0.0000, 0.2562, 0.0000],\n         [0.0000, 0.0000, 0.2511]],\n\n        [[0.2571, 0.0000, 0.0000],\n         [0.0000, 0.2562, 0.0000],\n         [0.0000, 0.0000, 0.2511]]], grad_fn=<RepeatBackward>)"
     },
     "execution_count": 691,
     "metadata": {},
     "output_type": "execute_result"
    }
   ],
   "source": [
    "cov_diag_k = torch.diag(torch.diagonal(cov_k[0]))\n",
    "cov_diag_k = cov_diag_k.repeat(K_model_cluster,1,1)\n",
    "cov_diag_k\n",
    "\n"
   ],
   "metadata": {
    "collapsed": false,
    "pycharm": {
     "name": "#%%\n"
    }
   }
  },
  {
   "cell_type": "code",
   "execution_count": 701,
   "outputs": [
    {
     "data": {
      "text/plain": "tensor([[ 0.0104,  0.0024, -0.0056],\n        [ 1.0011,  1.0153,  0.9986]], grad_fn=<CopySlices>)"
     },
     "execution_count": 701,
     "metadata": {},
     "output_type": "execute_result"
    }
   ],
   "source": [
    "N_nk = torch.empty(int(N_total),K_model_cluster)\n",
    "for i in range(K_model_cluster):\n",
    "    N_nk_dist = MultivariateNormal(mu_k[i],covariance_matrix=cov_diag_k[i])\n",
    "    N_nk[:,i] = N_nk_dist.log_prob(data).exp()\n",
    "\n",
    "\n",
    "pi_N_nk = pi_k*N_nk\n",
    "gamma_nk = pi_N_nk/pi_N_nk.sum(1).view(-1,1)\n",
    "N_k = gamma_nk.sum(0)\n",
    "N_k\n",
    "for i in range(K_model_cluster):\n",
    "    mu_k[i] = (gamma_nk[:,i].view(-1,1)*data).sum(0)/N_k[i]\n",
    "\n",
    "mu_k"
   ],
   "metadata": {
    "collapsed": false,
    "pycharm": {
     "name": "#%%対角共分散行列に限った場合のプログラム\n"
    }
   }
  },
  {
   "cell_type": "code",
   "execution_count": 702,
   "outputs": [
    {
     "data": {
      "text/plain": "tensor([0.5000, 0.5000], grad_fn=<DivBackward0>)"
     },
     "execution_count": 702,
     "metadata": {},
     "output_type": "execute_result"
    }
   ],
   "source": [
    "pi_k = N_k/N_total\n",
    "pi_k"
   ],
   "metadata": {
    "collapsed": false,
    "pycharm": {
     "name": "#%%\n"
    }
   }
  },
  {
   "cell_type": "code",
   "execution_count": 703,
   "outputs": [
    {
     "data": {
      "text/plain": "tensor([[[0.0122, 0.0000, 0.0000],\n         [0.0000, 0.0073, 0.0000],\n         [0.0000, 0.0000, 0.0111]],\n\n        [[0.0109, 0.0000, 0.0000],\n         [0.0000, 0.0083, 0.0000],\n         [0.0000, 0.0000, 0.0088]]], grad_fn=<CopySlices>)"
     },
     "execution_count": 703,
     "metadata": {},
     "output_type": "execute_result"
    }
   ],
   "source": [
    "\n",
    "for i in range(K_model_cluster):\n",
    "    cov_diag_k[i] = torch.diag((gamma_nk[:,i].view(-1,1)*((data-mu_k[i])**2)).sum(0)/N_k[i])\n",
    "\n",
    "cov_diag_k"
   ],
   "metadata": {
    "collapsed": false,
    "pycharm": {
     "name": "#%%\n"
    }
   }
  },
  {
   "cell_type": "code",
   "execution_count": 167,
   "outputs": [],
   "source": [
    "\n",
    "\n"
   ],
   "metadata": {
    "collapsed": false,
    "pycharm": {
     "name": "#%%\n"
    }
   }
  },
  {
   "cell_type": "code",
   "execution_count": 882,
   "outputs": [
    {
     "data": {
      "text/plain": "tensor([[0.0000e+00, 7.1048e+01],\n        [0.0000e+00, 2.3465e+03],\n        [0.0000e+00, 1.4356e+03],\n        [0.0000e+00, 7.8146e+04],\n        [0.0000e+00, 1.5604e+04],\n        [0.0000e+00, 3.8699e+04],\n        [0.0000e+00, 1.4807e+02],\n        [0.0000e+00, 2.9581e+04],\n        [0.0000e+00, 7.4026e+03],\n        [0.0000e+00, 5.5263e+03],\n        [0.0000e+00, 3.3174e+03],\n        [0.0000e+00, 5.6670e+03],\n        [0.0000e+00, 6.9381e+04],\n        [0.0000e+00, 6.2078e+03],\n        [0.0000e+00, 2.6283e+04],\n        [0.0000e+00, 1.3028e+03],\n        [0.0000e+00, 5.6759e+04],\n        [0.0000e+00, 7.7984e+03],\n        [0.0000e+00, 1.2133e+04],\n        [0.0000e+00, 6.6458e+04],\n        [0.0000e+00, 1.7563e+05],\n        [0.0000e+00, 3.2635e+04],\n        [0.0000e+00, 6.8672e+03],\n        [0.0000e+00, 1.8099e+02],\n        [0.0000e+00, 1.4188e+04],\n        [0.0000e+00, 4.8349e+05],\n        [0.0000e+00, 1.1360e+04],\n        [0.0000e+00, 2.0615e+02],\n        [0.0000e+00, 1.2650e+05],\n        [0.0000e+00, 9.9509e+02],\n        [0.0000e+00, 3.1237e+04],\n        [0.0000e+00, 1.1085e+04],\n        [0.0000e+00, 8.5174e+05],\n        [0.0000e+00, 1.3615e+04],\n        [0.0000e+00, 5.7836e+03],\n        [0.0000e+00, 1.0428e+05],\n        [0.0000e+00, 9.7454e+04],\n        [0.0000e+00, 1.8794e+04],\n        [0.0000e+00, 3.3104e+04],\n        [0.0000e+00, 7.3455e+03],\n        [0.0000e+00, 3.1056e+03],\n        [0.0000e+00, 4.0740e+05],\n        [0.0000e+00, 1.9797e+04],\n        [0.0000e+00, 2.8341e+04],\n        [0.0000e+00, 8.1485e+04],\n        [0.0000e+00, 9.3758e+03],\n        [0.0000e+00, 5.6986e+03],\n        [0.0000e+00, 1.0923e+04],\n        [0.0000e+00, 5.9503e+03],\n        [0.0000e+00, 3.2961e+05],\n        [0.0000e+00, 1.6175e+05],\n        [0.0000e+00, 2.2439e+03],\n        [0.0000e+00, 4.0735e+04],\n        [0.0000e+00, 3.6756e+03],\n        [0.0000e+00, 7.9684e+04],\n        [0.0000e+00, 5.1190e+03],\n        [0.0000e+00, 7.2301e+04],\n        [0.0000e+00, 1.6087e+04],\n        [0.0000e+00, 5.6025e+01],\n        [0.0000e+00, 5.2499e+04],\n        [0.0000e+00, 1.0839e+05],\n        [0.0000e+00, 1.4689e+04],\n        [0.0000e+00, 1.7642e+04],\n        [0.0000e+00, 8.1762e+04],\n        [0.0000e+00, 3.2320e+04],\n        [0.0000e+00, 7.6092e+04],\n        [0.0000e+00, 3.0664e+04],\n        [0.0000e+00, 7.4418e+04],\n        [0.0000e+00, 5.9298e+02],\n        [0.0000e+00, 5.3676e+04],\n        [0.0000e+00, 2.8420e+03],\n        [0.0000e+00, 5.1028e+02],\n        [0.0000e+00, 1.8745e+04],\n        [0.0000e+00, 7.7267e+04],\n        [0.0000e+00, 1.0848e+04],\n        [0.0000e+00, 1.0226e+05],\n        [0.0000e+00, 5.2083e+03],\n        [0.0000e+00, 9.1092e+03],\n        [0.0000e+00, 5.3731e+00],\n        [0.0000e+00, 8.8763e+02],\n        [0.0000e+00, 3.1831e+05],\n        [0.0000e+00, 3.8570e+04],\n        [0.0000e+00, 3.0386e+04],\n        [0.0000e+00, 1.5498e+03],\n        [0.0000e+00, 4.4319e+05],\n        [0.0000e+00, 2.2182e+04],\n        [0.0000e+00, 1.3925e+05],\n        [0.0000e+00, 1.8853e+05],\n        [0.0000e+00, 4.0258e+04],\n        [0.0000e+00, 5.0328e+04],\n        [0.0000e+00, 2.4575e+03],\n        [0.0000e+00, 1.1358e+03],\n        [0.0000e+00, 9.9247e+03],\n        [0.0000e+00, 1.1017e+05],\n        [0.0000e+00, 1.5682e+04],\n        [0.0000e+00, 6.1198e+03],\n        [0.0000e+00, 8.3210e+04],\n        [0.0000e+00, 2.2419e+04],\n        [0.0000e+00, 3.5935e+01],\n        [0.0000e+00, 5.1925e+04],\n        [1.9334e+03, 0.0000e+00],\n        [1.2184e+04, 0.0000e+00],\n        [4.8835e+04, 0.0000e+00],\n        [1.6056e+03, 0.0000e+00],\n        [1.2375e+04, 0.0000e+00],\n        [2.7075e+04, 0.0000e+00],\n        [8.2207e+04, 0.0000e+00],\n        [1.5229e+03, 0.0000e+00],\n        [6.5755e+03, 0.0000e+00],\n        [2.4182e+01, 0.0000e+00],\n        [1.1713e+04, 0.0000e+00],\n        [1.0654e+03, 0.0000e+00],\n        [9.2109e+04, 0.0000e+00],\n        [1.2763e+03, 0.0000e+00],\n        [1.8839e+04, 0.0000e+00],\n        [1.2505e+03, 0.0000e+00],\n        [4.3070e+04, 0.0000e+00],\n        [7.1369e+04, 0.0000e+00],\n        [3.4427e+02, 0.0000e+00],\n        [9.8742e+03, 0.0000e+00],\n        [1.7515e+05, 0.0000e+00],\n        [1.1441e+05, 0.0000e+00],\n        [2.6893e+03, 0.0000e+00],\n        [2.4790e+03, 0.0000e+00],\n        [9.6381e+04, 0.0000e+00],\n        [1.1243e+05, 0.0000e+00],\n        [3.9163e+04, 0.0000e+00],\n        [1.5968e+04, 0.0000e+00],\n        [9.1738e+03, 0.0000e+00],\n        [2.4559e+04, 0.0000e+00],\n        [4.0349e+04, 0.0000e+00],\n        [1.2988e+05, 0.0000e+00],\n        [1.7951e+02, 0.0000e+00],\n        [2.1412e+04, 0.0000e+00],\n        [3.8362e+03, 0.0000e+00],\n        [9.7303e+01, 0.0000e+00],\n        [2.2296e+04, 0.0000e+00],\n        [3.4466e+04, 0.0000e+00],\n        [1.1014e+04, 0.0000e+00],\n        [1.6731e+05, 0.0000e+00],\n        [1.4585e+04, 0.0000e+00],\n        [1.2627e+04, 0.0000e+00],\n        [7.9023e+03, 0.0000e+00],\n        [8.9824e+03, 0.0000e+00],\n        [4.5709e+04, 0.0000e+00],\n        [2.4663e+04, 0.0000e+00],\n        [7.5510e+03, 0.0000e+00],\n        [2.4398e+04, 0.0000e+00],\n        [2.6605e+03, 0.0000e+00],\n        [8.1282e+04, 0.0000e+00],\n        [5.0601e+03, 0.0000e+00],\n        [3.0461e+03, 0.0000e+00],\n        [1.2435e+04, 0.0000e+00],\n        [2.1862e+05, 0.0000e+00],\n        [3.5650e+03, 0.0000e+00],\n        [4.9050e+02, 0.0000e+00],\n        [5.1992e+02, 0.0000e+00],\n        [4.1236e+03, 0.0000e+00],\n        [8.0443e+02, 0.0000e+00],\n        [5.6584e+03, 0.0000e+00],\n        [3.1933e+01, 0.0000e+00],\n        [1.0122e+04, 0.0000e+00],\n        [4.2099e+02, 0.0000e+00],\n        [1.2888e+04, 0.0000e+00],\n        [2.6227e+04, 0.0000e+00],\n        [1.6346e+04, 0.0000e+00],\n        [4.0949e+04, 0.0000e+00],\n        [4.3323e+04, 0.0000e+00],\n        [3.5318e+03, 0.0000e+00],\n        [1.7188e+02, 0.0000e+00],\n        [2.2139e+02, 0.0000e+00],\n        [1.9111e+04, 0.0000e+00],\n        [5.3475e+04, 0.0000e+00],\n        [4.8431e+04, 0.0000e+00],\n        [2.8974e+03, 0.0000e+00],\n        [1.3181e+04, 0.0000e+00],\n        [1.5882e+02, 0.0000e+00],\n        [1.6004e+05, 0.0000e+00],\n        [4.1472e+04, 0.0000e+00],\n        [2.5050e+04, 0.0000e+00],\n        [5.8638e+01, 0.0000e+00],\n        [3.2056e+04, 0.0000e+00],\n        [1.9182e+03, 0.0000e+00],\n        [4.3340e+02, 0.0000e+00],\n        [3.6562e+03, 0.0000e+00],\n        [5.5685e+04, 0.0000e+00],\n        [1.3729e+03, 0.0000e+00],\n        [2.7323e+03, 0.0000e+00],\n        [1.4139e+04, 0.0000e+00],\n        [1.3967e+05, 0.0000e+00],\n        [1.2178e+02, 0.0000e+00],\n        [9.6856e+04, 0.0000e+00],\n        [7.0944e+00, 0.0000e+00],\n        [7.4747e+04, 0.0000e+00],\n        [3.0149e+03, 0.0000e+00],\n        [2.1180e+04, 0.0000e+00],\n        [4.1926e+04, 0.0000e+00],\n        [1.5039e+04, 0.0000e+00],\n        [4.0837e+02, 0.0000e+00],\n        [1.6867e+03, 0.0000e+00]], grad_fn=<CopySlices>)"
     },
     "execution_count": 882,
     "metadata": {},
     "output_type": "execute_result"
    }
   ],
   "source": [
    "N_nk = torch.empty(int(N_total),K_model_cluster)\n",
    "for i in range(K_model_cluster):\n",
    "    N_nk_dist = MultivariateNormal(loc=mu_k[i],covariance_matrix=cov_k[i])\n",
    "    N_nk[:,i] = N_nk_dist.log_prob(data).exp()\n",
    "\n",
    "N_nk"
   ],
   "metadata": {
    "collapsed": false,
    "pycharm": {
     "name": "#%%一般の共分散行列の場合のプログラム\n"
    }
   }
  },
  {
   "cell_type": "code",
   "execution_count": 883,
   "outputs": [
    {
     "data": {
      "text/plain": "tensor([[0., 1.],\n        [0., 1.],\n        [0., 1.],\n        [0., 1.],\n        [0., 1.],\n        [0., 1.],\n        [0., 1.],\n        [0., 1.],\n        [0., 1.],\n        [0., 1.],\n        [0., 1.],\n        [0., 1.],\n        [0., 1.],\n        [0., 1.],\n        [0., 1.],\n        [0., 1.],\n        [0., 1.],\n        [0., 1.],\n        [0., 1.],\n        [0., 1.],\n        [0., 1.],\n        [0., 1.],\n        [0., 1.],\n        [0., 1.],\n        [0., 1.],\n        [0., 1.],\n        [0., 1.],\n        [0., 1.],\n        [0., 1.],\n        [0., 1.],\n        [0., 1.],\n        [0., 1.],\n        [0., 1.],\n        [0., 1.],\n        [0., 1.],\n        [0., 1.],\n        [0., 1.],\n        [0., 1.],\n        [0., 1.],\n        [0., 1.],\n        [0., 1.],\n        [0., 1.],\n        [0., 1.],\n        [0., 1.],\n        [0., 1.],\n        [0., 1.],\n        [0., 1.],\n        [0., 1.],\n        [0., 1.],\n        [0., 1.],\n        [0., 1.],\n        [0., 1.],\n        [0., 1.],\n        [0., 1.],\n        [0., 1.],\n        [0., 1.],\n        [0., 1.],\n        [0., 1.],\n        [0., 1.],\n        [0., 1.],\n        [0., 1.],\n        [0., 1.],\n        [0., 1.],\n        [0., 1.],\n        [0., 1.],\n        [0., 1.],\n        [0., 1.],\n        [0., 1.],\n        [0., 1.],\n        [0., 1.],\n        [0., 1.],\n        [0., 1.],\n        [0., 1.],\n        [0., 1.],\n        [0., 1.],\n        [0., 1.],\n        [0., 1.],\n        [0., 1.],\n        [0., 1.],\n        [0., 1.],\n        [0., 1.],\n        [0., 1.],\n        [0., 1.],\n        [0., 1.],\n        [0., 1.],\n        [0., 1.],\n        [0., 1.],\n        [0., 1.],\n        [0., 1.],\n        [0., 1.],\n        [0., 1.],\n        [0., 1.],\n        [0., 1.],\n        [0., 1.],\n        [0., 1.],\n        [0., 1.],\n        [0., 1.],\n        [0., 1.],\n        [0., 1.],\n        [0., 1.],\n        [1., 0.],\n        [1., 0.],\n        [1., 0.],\n        [1., 0.],\n        [1., 0.],\n        [1., 0.],\n        [1., 0.],\n        [1., 0.],\n        [1., 0.],\n        [1., 0.],\n        [1., 0.],\n        [1., 0.],\n        [1., 0.],\n        [1., 0.],\n        [1., 0.],\n        [1., 0.],\n        [1., 0.],\n        [1., 0.],\n        [1., 0.],\n        [1., 0.],\n        [1., 0.],\n        [1., 0.],\n        [1., 0.],\n        [1., 0.],\n        [1., 0.],\n        [1., 0.],\n        [1., 0.],\n        [1., 0.],\n        [1., 0.],\n        [1., 0.],\n        [1., 0.],\n        [1., 0.],\n        [1., 0.],\n        [1., 0.],\n        [1., 0.],\n        [1., 0.],\n        [1., 0.],\n        [1., 0.],\n        [1., 0.],\n        [1., 0.],\n        [1., 0.],\n        [1., 0.],\n        [1., 0.],\n        [1., 0.],\n        [1., 0.],\n        [1., 0.],\n        [1., 0.],\n        [1., 0.],\n        [1., 0.],\n        [1., 0.],\n        [1., 0.],\n        [1., 0.],\n        [1., 0.],\n        [1., 0.],\n        [1., 0.],\n        [1., 0.],\n        [1., 0.],\n        [1., 0.],\n        [1., 0.],\n        [1., 0.],\n        [1., 0.],\n        [1., 0.],\n        [1., 0.],\n        [1., 0.],\n        [1., 0.],\n        [1., 0.],\n        [1., 0.],\n        [1., 0.],\n        [1., 0.],\n        [1., 0.],\n        [1., 0.],\n        [1., 0.],\n        [1., 0.],\n        [1., 0.],\n        [1., 0.],\n        [1., 0.],\n        [1., 0.],\n        [1., 0.],\n        [1., 0.],\n        [1., 0.],\n        [1., 0.],\n        [1., 0.],\n        [1., 0.],\n        [1., 0.],\n        [1., 0.],\n        [1., 0.],\n        [1., 0.],\n        [1., 0.],\n        [1., 0.],\n        [1., 0.],\n        [1., 0.],\n        [1., 0.],\n        [1., 0.],\n        [1., 0.],\n        [1., 0.],\n        [1., 0.],\n        [1., 0.],\n        [1., 0.],\n        [1., 0.],\n        [1., 0.]], grad_fn=<DivBackward0>)"
     },
     "execution_count": 883,
     "metadata": {},
     "output_type": "execute_result"
    }
   ],
   "source": [
    "\n",
    "pi_N_nk = pi_k*N_nk\n",
    "gamma_nk = pi_N_nk/pi_N_nk.sum(1).view(-1,1)\n",
    "N_k = gamma_nk.sum(0)\n",
    "gamma_nk"
   ],
   "metadata": {
    "collapsed": false,
    "pycharm": {
     "name": "#%%\n"
    }
   }
  },
  {
   "cell_type": "code",
   "execution_count": 884,
   "outputs": [
    {
     "data": {
      "text/plain": "tensor(1701.5708, grad_fn=<SumBackward0>)"
     },
     "execution_count": 884,
     "metadata": {},
     "output_type": "execute_result"
    }
   ],
   "source": [
    "log_P = torch.log(pi_N_nk.sum(1)).sum()\n",
    "log_P"
   ],
   "metadata": {
    "collapsed": false,
    "pycharm": {
     "name": "#%%\n"
    }
   }
  },
  {
   "cell_type": "code",
   "execution_count": 885,
   "outputs": [
    {
     "data": {
      "text/plain": "tensor([[ 1.0028e+00,  9.9508e-01,  1.0078e+00,  9.9314e-01,  1.0158e+00,\n          9.9790e-01,  9.9328e-01,  9.8867e-01,  9.9245e-01,  9.9391e-01],\n        [-1.3569e-03,  7.3129e-04,  3.9691e-03,  2.2095e-03, -1.0744e-02,\n          1.4957e-02,  9.1412e-03,  4.3806e-03,  5.0413e-03, -6.1789e-03]],\n       grad_fn=<CopySlices>)"
     },
     "execution_count": 885,
     "metadata": {},
     "output_type": "execute_result"
    }
   ],
   "source": [
    "for i in range(K_model_cluster):\n",
    "    mu_k[i] = (gamma_nk[:,i].view(-1,1)*data).sum(0)/N_k[i]\n",
    "\n",
    "mu_k"
   ],
   "metadata": {
    "collapsed": false,
    "pycharm": {
     "name": "#%%\n"
    }
   }
  },
  {
   "cell_type": "code",
   "execution_count": 886,
   "outputs": [
    {
     "data": {
      "text/plain": "tensor([0.5000, 0.5000], grad_fn=<DivBackward0>)"
     },
     "execution_count": 886,
     "metadata": {},
     "output_type": "execute_result"
    }
   ],
   "source": [
    "\n",
    "pi_k = N_k/N_total\n",
    "pi_k"
   ],
   "metadata": {
    "collapsed": false,
    "pycharm": {
     "name": "#%%\n"
    }
   }
  },
  {
   "cell_type": "code",
   "execution_count": 887,
   "outputs": [],
   "source": [
    "\n",
    "data_center = torch.empty(K_model_cluster,int(N_total),feature_dim)\n",
    "data_center_gamma = torch.empty(K_model_cluster,int(N_total),feature_dim)\n",
    "\n",
    "for i in range(K_model_cluster):\n",
    "    data_center[i] = data-mu_k[i]\n",
    "    data_center_gamma[i] = gamma_nk[:,i].view(-1,1)*data_center[i]\n",
    "\n",
    "\n",
    "\n",
    "#plt.scatter(data_center[1,:,0].detach().numpy(),data_center[1,:,1].detach().numpy())\n",
    "#plt.scatter(data_center_gamma[0,:,0].detach().numpy(),data_center_gamma[0,:,1].detach().numpy())\n",
    "#data_center_gamma[1].shape\n",
    "\n",
    "#data_center_gamma[0]\n",
    "#torch.matmul(data_center[0].transpose(1,0),data_center_gamma[0])/N_total\n"
   ],
   "metadata": {
    "collapsed": false,
    "pycharm": {
     "name": "#%%\n"
    }
   }
  },
  {
   "cell_type": "code",
   "execution_count": 888,
   "outputs": [
    {
     "data": {
      "text/plain": "tensor([[[ 1.0264e-02,  8.8848e-04,  4.8351e-04,  3.1315e-04, -4.1056e-04,\n           1.4140e-03,  4.7937e-05,  2.7457e-04, -1.8013e-03,  5.5864e-04],\n         [ 8.8848e-04,  9.5700e-03,  5.1850e-04,  1.2880e-03, -8.9766e-04,\n           9.4575e-04, -3.5667e-04, -8.4325e-04,  6.9871e-04, -1.6104e-03],\n         [ 4.8351e-04,  5.1850e-04,  1.2651e-02,  7.9399e-04,  1.4690e-03,\n           1.7274e-03,  6.2757e-06, -1.7453e-03,  8.1106e-04, -1.0245e-04],\n         [ 3.1315e-04,  1.2880e-03,  7.9399e-04,  9.7354e-03, -6.8830e-04,\n          -5.3593e-04,  1.8507e-04,  5.7433e-04, -1.6191e-03, -9.2617e-04],\n         [-4.1056e-04, -8.9766e-04,  1.4690e-03, -6.8830e-04,  1.0332e-02,\n          -9.6542e-04, -8.4488e-04, -6.7899e-04,  1.1765e-03,  1.3432e-04],\n         [ 1.4140e-03,  9.4575e-04,  1.7274e-03, -5.3593e-04, -9.6542e-04,\n           9.3116e-03, -1.3902e-03, -9.5717e-04, -5.3410e-04,  2.6553e-04],\n         [ 4.7937e-05, -3.5667e-04,  6.2757e-06,  1.8507e-04, -8.4488e-04,\n          -1.3902e-03,  8.9868e-03, -8.0576e-04,  7.4167e-04, -1.5173e-03],\n         [ 2.7457e-04, -8.4325e-04, -1.7453e-03,  5.7433e-04, -6.7899e-04,\n          -9.5717e-04, -8.0576e-04,  1.1607e-02, -2.2824e-03,  3.0316e-04],\n         [-1.8013e-03,  6.9871e-04,  8.1106e-04, -1.6191e-03,  1.1765e-03,\n          -5.3410e-04,  7.4167e-04, -2.2824e-03,  1.0794e-02, -2.1774e-06],\n         [ 5.5864e-04, -1.6104e-03, -1.0245e-04, -9.2617e-04,  1.3432e-04,\n           2.6553e-04, -1.5173e-03,  3.0316e-04, -2.1774e-06,  1.0833e-02]],\n\n        [[ 8.5394e-03,  8.6829e-04, -5.0346e-04, -8.6190e-05,  8.0765e-05,\n          -1.5472e-03,  1.5639e-03, -3.0566e-04, -2.1321e-03, -3.0206e-04],\n         [ 8.6829e-04,  8.4224e-03,  4.3844e-04, -6.0334e-04,  1.5405e-03,\n          -4.4060e-04,  1.3451e-03, -3.2841e-04, -2.9625e-04, -8.3655e-04],\n         [-5.0346e-04,  4.3844e-04,  7.4034e-03,  7.7817e-04,  7.0496e-04,\n           7.1642e-05,  6.7510e-04,  1.1717e-03,  3.2984e-04, -8.3892e-04],\n         [-8.6190e-05, -6.0334e-04,  7.7817e-04,  1.0059e-02, -4.2440e-04,\n           2.5427e-03,  3.7182e-04, -1.0797e-03,  3.3580e-03,  4.3388e-04],\n         [ 8.0765e-05,  1.5405e-03,  7.0496e-04, -4.2440e-04,  8.0932e-03,\n          -6.7611e-04, -1.1771e-03,  4.0526e-04, -5.3246e-04, -1.4629e-03],\n         [-1.5472e-03, -4.4060e-04,  7.1642e-05,  2.5427e-03, -6.7611e-04,\n           1.2867e-02,  1.2575e-04, -1.7249e-03, -4.6109e-04, -3.1186e-04],\n         [ 1.5639e-03,  1.3451e-03,  6.7510e-04,  3.7182e-04, -1.1771e-03,\n           1.2575e-04,  9.4094e-03,  2.2218e-05, -9.3812e-04,  1.6195e-04],\n         [-3.0566e-04, -3.2841e-04,  1.1717e-03, -1.0797e-03,  4.0526e-04,\n          -1.7249e-03,  2.2218e-05,  1.0166e-02,  9.0385e-04,  4.9930e-04],\n         [-2.1321e-03, -2.9625e-04,  3.2984e-04,  3.3580e-03, -5.3246e-04,\n          -4.6109e-04, -9.3812e-04,  9.0385e-04,  1.0267e-02,  1.0768e-03],\n         [-3.0206e-04, -8.3655e-04, -8.3892e-04,  4.3388e-04, -1.4629e-03,\n          -3.1186e-04,  1.6195e-04,  4.9930e-04,  1.0768e-03,  8.1882e-03]]],\n       grad_fn=<CopySlices>)"
     },
     "execution_count": 888,
     "metadata": {},
     "output_type": "execute_result"
    }
   ],
   "source": [
    "for i in range(K_model_cluster):\n",
    "    cov_k[i] = torch.matmul(data_center[i].transpose(1,0),data_center_gamma[i])/N_k[i]\n",
    "    \n",
    "cov_k\n"
   ],
   "metadata": {
    "collapsed": false,
    "pycharm": {
     "name": "#%%\n"
    }
   }
  },
  {
   "cell_type": "code",
   "execution_count": 534,
   "outputs": [
    {
     "data": {
      "text/plain": "tensor([0.1339], requires_grad=True)"
     },
     "execution_count": 534,
     "metadata": {},
     "output_type": "execute_result"
    }
   ],
   "source": [
    "theta= torch.rand(1,requires_grad=True)\n",
    "#pi_k[0] = torch.cos(theta)**2\n",
    "#pi_k[1] = torch.sin(theta)**2\n",
    "theta"
   ],
   "metadata": {
    "collapsed": false,
    "pycharm": {
     "name": "#%%SGDによる最小化（試してみたが、非常に収束が遅い。解析解の反復法が現実的だろう。）\n"
    }
   }
  },
  {
   "cell_type": "code",
   "execution_count": 421,
   "outputs": [
    {
     "data": {
      "text/plain": "tensor([[0.3089, 0.6911]], grad_fn=<ViewBackward>)"
     },
     "execution_count": 421,
     "metadata": {},
     "output_type": "execute_result"
    }
   ],
   "source": [
    "#def pi_calc(theta_i):\n",
    "#    return [torch.cos(theta)**2,torch.sin(theta)**2]\n",
    "\n",
    "def pi_calc(theta_i):\n",
    "    return [torch.cos(theta)**2,torch.sin(theta)**2]\n",
    "\n",
    "\n",
    "\n",
    "torch.stack((pi_calc(theta)[0],pi_calc(theta)[1])).view(-1,2)"
   ],
   "metadata": {
    "collapsed": false,
    "pycharm": {
     "name": "#%%\n"
    }
   }
  },
  {
   "cell_type": "code",
   "execution_count": 444,
   "outputs": [],
   "source": [
    "optimizer = optim.SGD([mu_k,chol_k,theta],lr=0.01)"
   ],
   "metadata": {
    "collapsed": false,
    "pycharm": {
     "name": "#%%\n"
    }
   }
  },
  {
   "cell_type": "code",
   "execution_count": 1397,
   "outputs": [],
   "source": [
    "optimizer.zero_grad()\n",
    "#mu_k.grad = None\n",
    "#chol_k.grad = None\n",
    "pi_k = torch.stack((pi_calc(theta)[0],pi_calc(theta)[1])).view(-1,2)\n",
    "N_nk = torch.empty(int(N_total),K_model_cluster)\n",
    "for i in range(K_model_cluster):\n",
    "    N_nk_dist = MultivariateNormal(mu_k[i],scale_tril=chol_k[i])\n",
    "    N_nk[:,i] = N_nk_dist.log_prob(data).exp()\n",
    "pi_N_nk = pi_k*N_nk\n",
    "\n",
    "log_P = pi_N_nk.sum(1).log().sum()/N_total\n",
    "\n",
    "L = -log_P\n",
    "\n",
    "L.backward()\n",
    "\n",
    "optimizer.step()"
   ],
   "metadata": {
    "collapsed": false,
    "pycharm": {
     "name": "#%%\n"
    }
   }
  },
  {
   "cell_type": "code",
   "execution_count": 1398,
   "outputs": [
    {
     "data": {
      "text/plain": "tensor([[0.9707, 0.9438],\n        [0.0234, 0.0237]], requires_grad=True)"
     },
     "execution_count": 1398,
     "metadata": {},
     "output_type": "execute_result"
    }
   ],
   "source": [
    "\n",
    "mu_k"
   ],
   "metadata": {
    "collapsed": false,
    "pycharm": {
     "name": "#%%\n"
    }
   }
  },
  {
   "cell_type": "code",
   "execution_count": 1399,
   "outputs": [
    {
     "data": {
      "text/plain": "tensor([[[0.1201, 0.0000],\n         [0.1692, 0.2041]],\n\n        [[0.1283, 0.0000],\n         [0.0976, 0.1267]]], requires_grad=True)"
     },
     "execution_count": 1399,
     "metadata": {},
     "output_type": "execute_result"
    }
   ],
   "source": [
    "chol_k"
   ],
   "metadata": {
    "collapsed": false,
    "pycharm": {
     "name": "#%%\n"
    }
   }
  },
  {
   "cell_type": "code",
   "execution_count": 1400,
   "outputs": [
    {
     "data": {
      "text/plain": "(tensor([[0.0144, 0.0203],\n         [0.0203, 0.0703]], grad_fn=<MmBackward>), tensor([[0.0165, 0.0125],\n         [0.0125, 0.0256]], grad_fn=<MmBackward>))"
     },
     "execution_count": 1400,
     "metadata": {},
     "output_type": "execute_result"
    }
   ],
   "source": [
    "torch.matmul(chol_k[0],chol_k[0].t()),torch.matmul(chol_k[1],chol_k[1].t())"
   ],
   "metadata": {
    "collapsed": false,
    "pycharm": {
     "name": "#%%\n"
    }
   }
  },
  {
   "cell_type": "code",
   "execution_count": 1401,
   "outputs": [
    {
     "data": {
      "text/plain": "[tensor([0.5051], grad_fn=<PowBackward0>),\n tensor([0.4949], grad_fn=<PowBackward0>)]"
     },
     "execution_count": 1401,
     "metadata": {},
     "output_type": "execute_result"
    }
   ],
   "source": [
    "pi_calc(theta)"
   ],
   "metadata": {
    "collapsed": false,
    "pycharm": {
     "name": "#%%\n"
    }
   }
  },
  {
   "cell_type": "code",
   "execution_count": 1402,
   "outputs": [
    {
     "data": {
      "text/plain": "tensor(-0.6553, grad_fn=<NegBackward>)"
     },
     "execution_count": 1402,
     "metadata": {},
     "output_type": "execute_result"
    }
   ],
   "source": [
    "L"
   ],
   "metadata": {
    "collapsed": false,
    "pycharm": {
     "name": "#%%\n"
    }
   }
  },
  {
   "cell_type": "code",
   "execution_count": 1403,
   "outputs": [
    {
     "data": {
      "text/plain": "tensor([[2.3602e-16, 1.0000e+00],\n        [2.6819e-19, 1.0000e+00],\n        [3.7575e-16, 1.0000e+00],\n        [8.1985e-16, 1.0000e+00],\n        [8.8094e-13, 1.0000e+00],\n        [1.8619e-14, 1.0000e+00],\n        [3.1400e-10, 1.0000e+00],\n        [2.5123e-15, 1.0000e+00],\n        [5.8454e-17, 1.0000e+00],\n        [1.2977e-17, 1.0000e+00],\n        [1.0027e-08, 1.0000e+00],\n        [2.8352e-15, 1.0000e+00],\n        [5.5005e-16, 1.0000e+00],\n        [2.3661e-12, 1.0000e+00],\n        [2.4993e-08, 1.0000e+00],\n        [1.3837e-16, 1.0000e+00],\n        [1.1257e-15, 1.0000e+00],\n        [6.5739e-12, 1.0000e+00],\n        [1.9319e-08, 1.0000e+00],\n        [1.2429e-12, 1.0000e+00],\n        [2.6644e-17, 1.0000e+00],\n        [1.3198e-17, 1.0000e+00],\n        [8.1023e-12, 1.0000e+00],\n        [7.9654e-21, 1.0000e+00],\n        [1.3645e-12, 1.0000e+00],\n        [5.1626e-13, 1.0000e+00],\n        [2.8358e-15, 1.0000e+00],\n        [1.3244e-16, 1.0000e+00],\n        [2.1289e-18, 1.0000e+00],\n        [2.4764e-16, 1.0000e+00],\n        [1.6231e-22, 1.0000e+00],\n        [1.3193e-18, 1.0000e+00],\n        [1.8824e-16, 1.0000e+00],\n        [8.6361e-21, 1.0000e+00],\n        [6.7181e-15, 1.0000e+00],\n        [7.4911e-18, 1.0000e+00],\n        [8.4728e-15, 1.0000e+00],\n        [2.0832e-23, 1.0000e+00],\n        [2.3423e-19, 1.0000e+00],\n        [5.3413e-20, 1.0000e+00],\n        [7.7925e-13, 1.0000e+00],\n        [7.1627e-12, 1.0000e+00],\n        [4.8398e-16, 1.0000e+00],\n        [1.0616e-13, 1.0000e+00],\n        [1.0787e-17, 1.0000e+00],\n        [1.3425e-09, 1.0000e+00],\n        [1.4306e-15, 1.0000e+00],\n        [6.4849e-15, 1.0000e+00],\n        [9.1298e-17, 1.0000e+00],\n        [2.6402e-16, 1.0000e+00],\n        [3.4771e-11, 1.0000e+00],\n        [2.2072e-18, 1.0000e+00],\n        [3.1395e-12, 1.0000e+00],\n        [2.1133e-10, 1.0000e+00],\n        [5.6433e-12, 1.0000e+00],\n        [2.7159e-17, 1.0000e+00],\n        [2.1204e-13, 1.0000e+00],\n        [7.7793e-15, 1.0000e+00],\n        [2.2433e-21, 1.0000e+00],\n        [2.1340e-15, 1.0000e+00],\n        [5.5136e-17, 1.0000e+00],\n        [2.6999e-16, 1.0000e+00],\n        [1.2801e-12, 1.0000e+00],\n        [1.1071e-13, 1.0000e+00],\n        [6.0800e-15, 1.0000e+00],\n        [5.9661e-15, 1.0000e+00],\n        [2.1996e-15, 1.0000e+00],\n        [4.1749e-14, 1.0000e+00],\n        [2.9858e-17, 1.0000e+00],\n        [4.6323e-13, 1.0000e+00],\n        [8.8419e-14, 1.0000e+00],\n        [1.1266e-12, 1.0000e+00],\n        [7.2040e-10, 1.0000e+00],\n        [1.5316e-21, 1.0000e+00],\n        [1.6573e-17, 1.0000e+00],\n        [1.2853e-15, 1.0000e+00],\n        [4.2214e-17, 1.0000e+00],\n        [6.4013e-14, 1.0000e+00],\n        [3.9010e-15, 1.0000e+00],\n        [9.1921e-09, 1.0000e+00],\n        [7.1631e-17, 1.0000e+00],\n        [3.3278e-18, 1.0000e+00],\n        [3.5009e-08, 1.0000e+00],\n        [7.8164e-17, 1.0000e+00],\n        [2.4280e-22, 1.0000e+00],\n        [1.0257e-13, 1.0000e+00],\n        [4.9344e-16, 1.0000e+00],\n        [2.2215e-21, 1.0000e+00],\n        [7.6823e-21, 1.0000e+00],\n        [9.5135e-18, 1.0000e+00],\n        [1.0849e-17, 1.0000e+00],\n        [6.2427e-17, 1.0000e+00],\n        [5.6619e-19, 1.0000e+00],\n        [1.8353e-17, 1.0000e+00],\n        [6.6639e-22, 1.0000e+00],\n        [7.4408e-14, 1.0000e+00],\n        [2.3631e-14, 1.0000e+00],\n        [5.2536e-15, 1.0000e+00],\n        [2.3706e-22, 1.0000e+00],\n        [4.3473e-15, 1.0000e+00],\n        [1.0000e+00, 3.6781e-13],\n        [1.0000e+00, 8.7044e-12],\n        [1.0000e+00, 1.1340e-15],\n        [1.0000e+00, 1.2343e-07],\n        [1.0000e+00, 1.7355e-15],\n        [1.0000e+00, 4.3288e-13],\n        [1.0000e+00, 5.3108e-10],\n        [1.0000e+00, 7.0010e-13],\n        [1.0000e+00, 1.4524e-12],\n        [1.0000e+00, 3.2394e-09],\n        [1.0000e+00, 4.1802e-11],\n        [1.0000e+00, 1.4348e-13],\n        [1.0000e+00, 6.2344e-13],\n        [1.0000e+00, 2.1283e-12],\n        [1.0000e+00, 2.7157e-11],\n        [1.0000e+00, 7.2320e-12],\n        [1.0000e+00, 1.1034e-06],\n        [1.0000e+00, 8.1233e-14],\n        [1.0000e+00, 3.7424e-12],\n        [1.0000e+00, 5.6886e-10],\n        [1.0000e+00, 4.6279e-13],\n        [1.0000e+00, 1.0795e-11],\n        [1.0000e+00, 1.8558e-10],\n        [1.0000e+00, 5.1912e-14],\n        [1.0000e+00, 3.6041e-11],\n        [1.0000e+00, 2.8991e-09],\n        [1.0000e+00, 1.8027e-12],\n        [1.0000e+00, 7.2125e-12],\n        [1.0000e+00, 4.0942e-12],\n        [1.0000e+00, 3.8194e-13],\n        [1.0000e+00, 3.7972e-12],\n        [1.0000e+00, 1.9798e-12],\n        [1.0000e+00, 2.2437e-09],\n        [1.0000e+00, 4.4033e-13],\n        [1.0000e+00, 1.0190e-13],\n        [1.0000e+00, 6.3241e-13],\n        [1.0000e+00, 1.9321e-08],\n        [1.0000e+00, 5.0153e-13],\n        [1.0000e+00, 5.3850e-11],\n        [1.0000e+00, 2.6163e-13],\n        [1.0000e+00, 5.9413e-11],\n        [1.0000e+00, 2.1491e-14],\n        [1.0000e+00, 3.5032e-11],\n        [1.0000e+00, 8.8287e-13],\n        [1.0000e+00, 2.4993e-14],\n        [1.0000e+00, 8.2358e-12],\n        [1.0000e+00, 5.0782e-12],\n        [1.0000e+00, 2.4534e-12],\n        [1.0000e+00, 9.5069e-12],\n        [1.0000e+00, 7.8936e-11],\n        [1.0000e+00, 5.8348e-11],\n        [1.0000e+00, 1.8417e-13],\n        [1.0000e+00, 1.9763e-13],\n        [1.0000e+00, 7.7636e-13],\n        [1.0000e+00, 1.5020e-10],\n        [1.0000e+00, 5.7259e-14],\n        [1.0000e+00, 1.4276e-11],\n        [1.0000e+00, 2.0802e-13],\n        [1.0000e+00, 1.4398e-13],\n        [1.0000e+00, 1.5234e-14],\n        [1.0000e+00, 8.5648e-13],\n        [1.0000e+00, 3.2271e-15],\n        [1.0000e+00, 3.3625e-14],\n        [1.0000e+00, 1.8553e-12],\n        [1.0000e+00, 1.3698e-10],\n        [1.0000e+00, 7.9166e-11],\n        [1.0000e+00, 1.1359e-11],\n        [1.0000e+00, 6.4890e-13],\n        [1.0000e+00, 1.4894e-10],\n        [1.0000e+00, 5.0657e-15],\n        [1.0000e+00, 2.9539e-14],\n        [1.0000e+00, 1.8510e-11],\n        [1.0000e+00, 3.7463e-11],\n        [1.0000e+00, 5.1465e-10],\n        [1.0000e+00, 2.9980e-11],\n        [1.0000e+00, 1.0043e-11],\n        [1.0000e+00, 1.7603e-12],\n        [9.9993e-01, 7.0657e-05],\n        [1.0000e+00, 9.7717e-14],\n        [1.0000e+00, 8.1578e-11],\n        [1.0000e+00, 4.9552e-12],\n        [1.0000e+00, 6.8044e-12],\n        [1.0000e+00, 1.6009e-11],\n        [1.0000e+00, 1.6688e-13],\n        [1.0000e+00, 3.1107e-13],\n        [1.0000e+00, 1.6742e-12],\n        [1.0000e+00, 2.0280e-11],\n        [1.0000e+00, 2.7463e-11],\n        [1.0000e+00, 9.8129e-15],\n        [1.0000e+00, 5.6448e-13],\n        [1.0000e+00, 3.7118e-13],\n        [1.0000e+00, 3.5178e-12],\n        [1.0000e+00, 2.4567e-09],\n        [1.0000e+00, 5.8158e-12],\n        [1.0000e+00, 3.2966e-14],\n        [1.0000e+00, 2.2438e-13],\n        [1.0000e+00, 3.5049e-14],\n        [1.0000e+00, 4.6765e-11],\n        [1.0000e+00, 3.0932e-13],\n        [1.0000e+00, 2.6489e-12]], grad_fn=<DivBackward0>)"
     },
     "execution_count": 1403,
     "metadata": {},
     "output_type": "execute_result"
    }
   ],
   "source": [
    "N_nk/N_nk.sum(1).view(-1,1)"
   ],
   "metadata": {
    "collapsed": false,
    "pycharm": {
     "name": "#%%\n"
    }
   }
  },
  {
   "cell_type": "code",
   "execution_count": 194,
   "outputs": [
    {
     "ename": "TypeError",
     "evalue": "unsupported operand type(s) for *: 'float' and 'NoneType'",
     "output_type": "error",
     "traceback": [
      "\u001B[0;31m---------------------------------------------------------------------------\u001B[0m",
      "\u001B[0;31mTypeError\u001B[0m                                 Traceback (most recent call last)",
      "\u001B[0;32m<ipython-input-194-756aef48ba0e>\u001B[0m in \u001B[0;36m<module>\u001B[0;34m\u001B[0m\n\u001B[1;32m      1\u001B[0m \u001B[0mlr\u001B[0m\u001B[0;34m=\u001B[0m\u001B[0;36m0.01\u001B[0m\u001B[0;34m\u001B[0m\u001B[0;34m\u001B[0m\u001B[0m\n\u001B[0;32m----> 2\u001B[0;31m \u001B[0mmu_k\u001B[0m \u001B[0;34m=\u001B[0m \u001B[0mmu_k\u001B[0m \u001B[0;34m-\u001B[0m \u001B[0mlr\u001B[0m\u001B[0;34m*\u001B[0m\u001B[0mmu_k\u001B[0m\u001B[0;34m.\u001B[0m\u001B[0mgrad\u001B[0m\u001B[0;34m\u001B[0m\u001B[0;34m\u001B[0m\u001B[0m\n\u001B[0m\u001B[1;32m      3\u001B[0m \u001B[0mmu_k\u001B[0m\u001B[0;34m\u001B[0m\u001B[0;34m\u001B[0m\u001B[0m\n",
      "\u001B[0;31mTypeError\u001B[0m: unsupported operand type(s) for *: 'float' and 'NoneType'"
     ]
    }
   ],
   "source": [
    "lr=0.01\n",
    "mu_k = mu_k - lr*mu_k.grad\n",
    "mu_k"
   ],
   "metadata": {
    "collapsed": false,
    "pycharm": {
     "name": "#%%\n"
    }
   }
  },
  {
   "cell_type": "code",
   "execution_count": 195,
   "outputs": [
    {
     "ename": "TypeError",
     "evalue": "unsupported operand type(s) for *: 'float' and 'NoneType'",
     "output_type": "error",
     "traceback": [
      "\u001B[0;31m---------------------------------------------------------------------------\u001B[0m",
      "\u001B[0;31mTypeError\u001B[0m                                 Traceback (most recent call last)",
      "\u001B[0;32m<ipython-input-195-83bee0795a8f>\u001B[0m in \u001B[0;36m<module>\u001B[0;34m\u001B[0m\n\u001B[1;32m      1\u001B[0m \u001B[0;34m\u001B[0m\u001B[0m\n\u001B[1;32m      2\u001B[0m \u001B[0;34m\u001B[0m\u001B[0m\n\u001B[0;32m----> 3\u001B[0;31m \u001B[0mchol_k\u001B[0m  \u001B[0;34m=\u001B[0m \u001B[0mchol_k\u001B[0m \u001B[0;34m-\u001B[0m \u001B[0mlr\u001B[0m\u001B[0;34m*\u001B[0m\u001B[0mchol_k\u001B[0m\u001B[0;34m.\u001B[0m\u001B[0mgrad\u001B[0m\u001B[0;34m\u001B[0m\u001B[0;34m\u001B[0m\u001B[0m\n\u001B[0m\u001B[1;32m      4\u001B[0m \u001B[0mchol_k\u001B[0m\u001B[0;34m\u001B[0m\u001B[0;34m\u001B[0m\u001B[0m\n\u001B[1;32m      5\u001B[0m \u001B[0;34m\u001B[0m\u001B[0m\n",
      "\u001B[0;31mTypeError\u001B[0m: unsupported operand type(s) for *: 'float' and 'NoneType'"
     ]
    }
   ],
   "source": [
    "\n",
    "chol_k  = chol_k - lr*chol_k.grad\n",
    "chol_k"
   ],
   "metadata": {
    "collapsed": false,
    "pycharm": {
     "name": "#%%\n"
    }
   }
  },
  {
   "cell_type": "code",
   "execution_count": 598,
   "outputs": [
    {
     "data": {
      "text/plain": "tensor([[0.4350, 0.1879],\n        [1.0256, 1.0339]], requires_grad=True)"
     },
     "metadata": {},
     "output_type": "execute_result",
     "execution_count": 598
    }
   ],
   "source": [
    "mu_k"
   ],
   "metadata": {
    "collapsed": false,
    "pycharm": {
     "name": "#%%\n",
     "is_executing": false
    }
   }
  },
  {
   "cell_type": "code",
   "execution_count": 198,
   "outputs": [],
   "source": [
    "mu_k.grad"
   ],
   "metadata": {
    "collapsed": false,
    "pycharm": {
     "name": "#%%\n"
    }
   }
  },
  {
   "cell_type": "code",
   "execution_count": null,
   "outputs": [],
   "source": [
    "cov_k.requires_grad"
   ],
   "metadata": {
    "collapsed": false,
    "pycharm": {
     "name": "#%%\n"
    }
   }
  },
  {
   "cell_type": "code",
   "execution_count": 204,
   "outputs": [
    {
     "traceback": [
      "\u001B[0;31m---------------------------------------------------------------------------\u001B[0m",
      "\u001B[0;31mRuntimeError\u001B[0m                              Traceback (most recent call last)",
      "\u001B[0;32m<ipython-input-204-bb800e911650>\u001B[0m in \u001B[0;36m<module>\u001B[0;34m\u001B[0m\n\u001B[0;32m----> 1\u001B[0;31m \u001B[0mM\u001B[0m\u001B[0;34m.\u001B[0m\u001B[0mbackward\u001B[0m\u001B[0;34m(\u001B[0m\u001B[0mretain_graph\u001B[0m \u001B[0;34m=\u001B[0m \u001B[0;32mTrue\u001B[0m\u001B[0;34m)\u001B[0m\u001B[0;34m\u001B[0m\u001B[0;34m\u001B[0m\u001B[0m\n\u001B[0m",
      "\u001B[0;32m~/PycharmProjects/auto_encoder/venv/lib/python3.6/site-packages/torch/tensor.py\u001B[0m in \u001B[0;36mbackward\u001B[0;34m(self, gradient, retain_graph, create_graph)\u001B[0m\n\u001B[1;32m    105\u001B[0m                 \u001B[0mproducts\u001B[0m\u001B[0;34m.\u001B[0m \u001B[0mDefaults\u001B[0m \u001B[0mto\u001B[0m\u001B[0;31m \u001B[0m\u001B[0;31m`\u001B[0m\u001B[0;31m`\u001B[0m\u001B[0;32mFalse\u001B[0m\u001B[0;31m`\u001B[0m\u001B[0;31m`\u001B[0m\u001B[0;34m.\u001B[0m\u001B[0;34m\u001B[0m\u001B[0;34m\u001B[0m\u001B[0m\n\u001B[1;32m    106\u001B[0m         \"\"\"\n\u001B[0;32m--> 107\u001B[0;31m         \u001B[0mtorch\u001B[0m\u001B[0;34m.\u001B[0m\u001B[0mautograd\u001B[0m\u001B[0;34m.\u001B[0m\u001B[0mbackward\u001B[0m\u001B[0;34m(\u001B[0m\u001B[0mself\u001B[0m\u001B[0;34m,\u001B[0m \u001B[0mgradient\u001B[0m\u001B[0;34m,\u001B[0m \u001B[0mretain_graph\u001B[0m\u001B[0;34m,\u001B[0m \u001B[0mcreate_graph\u001B[0m\u001B[0;34m)\u001B[0m\u001B[0;34m\u001B[0m\u001B[0;34m\u001B[0m\u001B[0m\n\u001B[0m\u001B[1;32m    108\u001B[0m \u001B[0;34m\u001B[0m\u001B[0m\n\u001B[1;32m    109\u001B[0m     \u001B[0;32mdef\u001B[0m \u001B[0mregister_hook\u001B[0m\u001B[0;34m(\u001B[0m\u001B[0mself\u001B[0m\u001B[0;34m,\u001B[0m \u001B[0mhook\u001B[0m\u001B[0;34m)\u001B[0m\u001B[0;34m:\u001B[0m\u001B[0;34m\u001B[0m\u001B[0;34m\u001B[0m\u001B[0m\n",
      "\u001B[0;32m~/PycharmProjects/auto_encoder/venv/lib/python3.6/site-packages/torch/autograd/__init__.py\u001B[0m in \u001B[0;36mbackward\u001B[0;34m(tensors, grad_tensors, retain_graph, create_graph, grad_variables)\u001B[0m\n\u001B[1;32m     91\u001B[0m     Variable._execution_engine.run_backward(\n\u001B[1;32m     92\u001B[0m         \u001B[0mtensors\u001B[0m\u001B[0;34m,\u001B[0m \u001B[0mgrad_tensors\u001B[0m\u001B[0;34m,\u001B[0m \u001B[0mretain_graph\u001B[0m\u001B[0;34m,\u001B[0m \u001B[0mcreate_graph\u001B[0m\u001B[0;34m,\u001B[0m\u001B[0;34m\u001B[0m\u001B[0;34m\u001B[0m\u001B[0m\n\u001B[0;32m---> 93\u001B[0;31m         allow_unreachable=True)  # allow_unreachable flag\n\u001B[0m\u001B[1;32m     94\u001B[0m \u001B[0;34m\u001B[0m\u001B[0m\n\u001B[1;32m     95\u001B[0m \u001B[0;34m\u001B[0m\u001B[0m\n",
      "\u001B[0;31mRuntimeError\u001B[0m: Trying to backward through the graph a second time, but the buffers have already been freed. Specify retain_graph=True when calling backward the first time."
     ],
     "ename": "RuntimeError",
     "evalue": "Trying to backward through the graph a second time, but the buffers have already been freed. Specify retain_graph=True when calling backward the first time.",
     "output_type": "error"
    }
   ],
   "source": [
    "M.backward(retain_graph = True)"
   ],
   "metadata": {
    "collapsed": false,
    "pycharm": {
     "name": "#%%\n",
     "is_executing": false
    }
   }
  },
  {
   "cell_type": "code",
   "execution_count": 205,
   "outputs": [
    {
     "data": {
      "text/plain": "tensor([[[0.2564, 0.2515],\n         [0.2515, 0.2649]],\n\n        [[0.2564, 0.2515],\n         [0.2515, 0.2649]]], grad_fn=<RepeatBackward>)"
     },
     "metadata": {},
     "output_type": "execute_result",
     "execution_count": 205
    }
   ],
   "source": [
    "cov_k"
   ],
   "metadata": {
    "collapsed": false,
    "pycharm": {
     "name": "#%%\n",
     "is_executing": false
    }
   }
  },
  {
   "cell_type": "code",
   "execution_count": 490,
   "outputs": [],
   "source": [
    "cov_k_test =torch.randn((2,2,2),requires_grad=True)"
   ],
   "metadata": {
    "collapsed": false,
    "pycharm": {
     "name": "#%%\n",
     "is_executing": false
    }
   }
  },
  {
   "cell_type": "code",
   "execution_count": 459,
   "outputs": [],
   "source": [
    "#cov_k_test[0] =  cov_original.clone()\n",
    "\n"
   ],
   "metadata": {
    "collapsed": false,
    "pycharm": {
     "name": "#%%\n",
     "is_executing": false
    }
   }
  },
  {
   "cell_type": "code",
   "execution_count": 491,
   "outputs": [
    {
     "data": {
      "text/plain": "tensor(-0.1531, grad_fn=<SumBackward0>)"
     },
     "metadata": {},
     "output_type": "execute_result",
     "execution_count": 491
    }
   ],
   "source": [
    "MM = torch.matmul(cov_k_test,cov_k_test).sum()\n",
    "MM"
   ],
   "metadata": {
    "collapsed": false,
    "pycharm": {
     "name": "#%%\n",
     "is_executing": false
    }
   }
  },
  {
   "cell_type": "code",
   "execution_count": 492,
   "outputs": [],
   "source": [
    "MM.backward(retain_graph=True)"
   ],
   "metadata": {
    "collapsed": false,
    "pycharm": {
     "name": "#%%\n",
     "is_executing": false
    }
   }
  },
  {
   "cell_type": "code",
   "execution_count": 493,
   "outputs": [
    {
     "data": {
      "text/plain": "tensor([[[-1.4295, -1.7243],\n         [ 1.5671,  1.2723]],\n\n        [[-0.8134, -0.1083],\n         [-2.5954, -1.8902]]])"
     },
     "metadata": {},
     "output_type": "execute_result",
     "execution_count": 493
    }
   ],
   "source": [
    "cov_k_test.grad"
   ],
   "metadata": {
    "collapsed": false,
    "pycharm": {
     "name": "#%%\n",
     "is_executing": false
    }
   }
  },
  {
   "cell_type": "code",
   "execution_count": 494,
   "outputs": [
    {
     "data": {
      "text/plain": "tensor([[[-0.2005,  0.3086],\n         [-1.3371,  1.1504]],\n\n        [[-0.8220, -0.2065],\n         [ 1.0371, -1.3604]]], requires_grad=True)"
     },
     "metadata": {},
     "output_type": "execute_result",
     "execution_count": 494
    }
   ],
   "source": [
    "cov_k_test"
   ],
   "metadata": {
    "collapsed": false,
    "pycharm": {
     "name": "#%%\n",
     "is_executing": false
    }
   }
  },
  {
   "cell_type": "code",
   "execution_count": 51,
   "outputs": [],
   "source": [
    "\n",
    "mu_test = torch.ones(2,requires_grad =True)"
   ],
   "metadata": {
    "collapsed": false,
    "pycharm": {
     "name": "#%%\n"
    }
   }
  },
  {
   "cell_type": "code",
   "execution_count": 52,
   "outputs": [
    {
     "data": {
      "text/plain": "tensor([1., 1.], requires_grad=True)"
     },
     "execution_count": 52,
     "metadata": {},
     "output_type": "execute_result"
    }
   ],
   "source": [
    "mu_test"
   ],
   "metadata": {
    "collapsed": false,
    "pycharm": {
     "name": "#%%\n"
    }
   }
  },
  {
   "cell_type": "code",
   "execution_count": 62,
   "outputs": [
    {
     "data": {
      "text/plain": "tensor([[0.2481, 0.7396],\n        [0.4381, 0.3992]], requires_grad=True)"
     },
     "execution_count": 62,
     "metadata": {},
     "output_type": "execute_result"
    }
   ],
   "source": [
    "cov_test =torch.rand(2,2,requires_grad=True)\n",
    "cov_test"
   ],
   "metadata": {
    "collapsed": false,
    "pycharm": {
     "name": "#%%\n"
    }
   }
  },
  {
   "cell_type": "code",
   "execution_count": 63,
   "outputs": [
    {
     "data": {
      "text/plain": "tensor([[0.6085, 0.4039],\n        [0.4039, 0.3513]], grad_fn=<MmBackward>)"
     },
     "execution_count": 63,
     "metadata": {},
     "output_type": "execute_result"
    }
   ],
   "source": [
    "cov2_test= torch.matmul(cov_test,cov_test.t())\n",
    "cov2_test"
   ],
   "metadata": {
    "collapsed": false,
    "pycharm": {
     "name": "#%%\n"
    }
   }
  },
  {
   "cell_type": "code",
   "execution_count": 69,
   "outputs": [
    {
     "data": {
      "text/plain": "tensor([[0.7801, 0.0000],\n        [0.5178, 0.2885]], requires_grad=True)"
     },
     "execution_count": 69,
     "metadata": {},
     "output_type": "execute_result"
    }
   ],
   "source": [
    "sqrt_cov = torch.cholesky(cov2_test)\n",
    "sqrt_cov = sqrt_cov.clone().detach().requires_grad_(True)\n",
    "sqrt_cov"
   ],
   "metadata": {
    "collapsed": false,
    "pycharm": {
     "name": "#%%\n"
    }
   }
  },
  {
   "cell_type": "code",
   "execution_count": 70,
   "outputs": [
    {
     "data": {
      "text/plain": "tensor([[0.6085, 0.4039],\n        [0.4039, 0.3513]], grad_fn=<MmBackward>)"
     },
     "execution_count": 70,
     "metadata": {},
     "output_type": "execute_result"
    }
   ],
   "source": [
    "cov2 = torch.matmul(sqrt_cov,sqrt_cov.t())\n",
    "cov2"
   ],
   "metadata": {
    "collapsed": false,
    "pycharm": {
     "name": "#%%\n"
    }
   }
  },
  {
   "cell_type": "code",
   "execution_count": 71,
   "outputs": [],
   "source": [
    "#cov_k = cov_original.clone().requires_grad_(True)\n",
    "#cov_k = cov_k.repeat(K_model_cluster,1,1)\n",
    "L_test_dist = MultivariateNormal(mu_test,scale_tril=sqrt_cov)"
   ],
   "metadata": {
    "collapsed": false,
    "pycharm": {
     "name": "#%%\n"
    }
   }
  },
  {
   "cell_type": "code",
   "execution_count": 72,
   "outputs": [],
   "source": [
    "data_test = torch.tensor([0.5,0.5],requires_grad=False)\n",
    "#data_test = data_test.view(-1,2)"
   ],
   "metadata": {
    "collapsed": false,
    "pycharm": {
     "name": "#%%\n"
    }
   }
  },
  {
   "cell_type": "code",
   "execution_count": 73,
   "outputs": [],
   "source": [
    "L_test = L_test_dist.log_prob(data_test).exp()"
   ],
   "metadata": {
    "collapsed": false,
    "pycharm": {
     "name": "#%%\n"
    }
   }
  },
  {
   "cell_type": "code",
   "execution_count": 74,
   "outputs": [
    {
     "data": {
      "text/plain": "tensor(0.4860, grad_fn=<ExpBackward>)"
     },
     "execution_count": 74,
     "metadata": {},
     "output_type": "execute_result"
    }
   ],
   "source": [
    "L_test"
   ],
   "metadata": {
    "collapsed": false,
    "pycharm": {
     "name": "#%%\n"
    }
   }
  },
  {
   "cell_type": "code",
   "execution_count": 75,
   "outputs": [],
   "source": [
    "L_test.backward()"
   ],
   "metadata": {
    "collapsed": false,
    "pycharm": {
     "name": "#%%\n"
    }
   }
  },
  {
   "cell_type": "code",
   "execution_count": 76,
   "outputs": [
    {
     "data": {
      "text/plain": "tensor([-0.1859, -0.8346])"
     },
     "execution_count": 76,
     "metadata": {},
     "output_type": "execute_result"
    }
   ],
   "source": [
    "mu_test.grad"
   ],
   "metadata": {
    "collapsed": false,
    "pycharm": {
     "name": "#%%\n"
    }
   }
  },
  {
   "cell_type": "code",
   "execution_count": 77,
   "outputs": [
    {
     "data": {
      "text/plain": "tensor([[-0.7848,  0.0000],\n        [ 0.6294, -1.1125]])"
     },
     "execution_count": 77,
     "metadata": {},
     "output_type": "execute_result"
    }
   ],
   "source": [
    "sqrt_cov.grad"
   ],
   "metadata": {
    "collapsed": false,
    "pycharm": {
     "name": "#%%\n"
    }
   }
  },
  {
   "cell_type": "code",
   "execution_count": 47,
   "outputs": [],
   "source": [
    "mu_test.grad=None\n",
    "cov_test.grad=None"
   ],
   "metadata": {
    "collapsed": false,
    "pycharm": {
     "name": "#%%\n"
    }
   }
  },
  {
   "cell_type": "code",
   "execution_count": 637,
   "outputs": [
    {
     "data": {
      "text/plain": "tensor([[0.2564, 0.2515],\n        [0.2515, 0.2649]], grad_fn=<SelectBackward>)"
     },
     "metadata": {},
     "output_type": "execute_result",
     "execution_count": 637
    }
   ],
   "source": [
    "\n",
    "cov_k[1]"
   ],
   "metadata": {
    "collapsed": false,
    "pycharm": {
     "name": "#%%\n",
     "is_executing": false
    }
   }
  },
  {
   "cell_type": "code",
   "execution_count": 653,
   "outputs": [
    {
     "data": {
      "text/plain": "tensor([[0.9629, 0.6763],\n        [0.6903, 0.0225]], requires_grad=True)"
     },
     "metadata": {},
     "output_type": "execute_result",
     "execution_count": 653
    }
   ],
   "source": [
    "cov_test"
   ],
   "metadata": {
    "collapsed": false,
    "pycharm": {
     "name": "#%%\n",
     "is_executing": false
    }
   }
  },
  {
   "cell_type": "code",
   "execution_count": 51,
   "outputs": [
    {
     "data": {
      "text/plain": "tensor([0.0414], requires_grad=True)"
     },
     "execution_count": 51,
     "metadata": {},
     "output_type": "execute_result"
    }
   ],
   "source": [
    "theta = torch.randn(1,requires_grad=True)\n",
    "#theta = theta.clone().detach().requires_grad_(True)\n",
    "theta\n",
    "#pi_k[0]= torch.cos(theta)**2\n",
    "#pi_k[1]= torch.sin(theta)**2"
   ],
   "metadata": {
    "collapsed": false,
    "pycharm": {
     "name": "#%%\n"
    }
   }
  },
  {
   "cell_type": "code",
   "execution_count": 52,
   "outputs": [
    {
     "data": {
      "text/plain": "tensor(1., grad_fn=<AddBackward0>)"
     },
     "execution_count": 52,
     "metadata": {},
     "output_type": "execute_result"
    }
   ],
   "source": [
    "pi_k[0]= torch.cos(theta[0])**2\n",
    "pi_k[1]= torch.sin(theta[0])**2\n",
    "pi_k[0]+pi_k[1]"
   ],
   "metadata": {
    "collapsed": false,
    "pycharm": {
     "name": "#%%\n"
    }
   }
  },
  {
   "cell_type": "code",
   "execution_count": 53,
   "outputs": [
    {
     "data": {
      "text/plain": "tensor([0.9983], grad_fn=<PowBackward0>)"
     },
     "execution_count": 53,
     "metadata": {},
     "output_type": "execute_result"
    }
   ],
   "source": [
    "#L = pi_k[0]**2 + pi_k[1]**2\n",
    "#L = pi_k[0]**2 + pi_k[1]**2\n",
    "def loss_func(theta_i):\n",
    "    return torch.cos(theta_i)**4 + torch.sin(theta_i)**4\n",
    "\n",
    "def pi_calc(theta_i):\n",
    "    return [torch.cos(theta)**2,torch.sin(theta)**2]\n",
    "\n",
    "pi_calc(theta)[0]"
   ],
   "metadata": {
    "collapsed": false,
    "pycharm": {
     "name": "#%%\n"
    }
   }
  },
  {
   "cell_type": "code",
   "execution_count": 54,
   "outputs": [
    {
     "data": {
      "text/plain": "tensor([0.9966], grad_fn=<AddBackward0>)"
     },
     "execution_count": 54,
     "metadata": {},
     "output_type": "execute_result"
    }
   ],
   "source": [
    "def loss_func2(theta_i):\n",
    "    return pi_calc(theta)[0]**2+pi_calc(theta)[1]**2\n",
    "\n",
    "L=loss_func2(theta)\n",
    "L"
   ],
   "metadata": {
    "collapsed": false,
    "pycharm": {
     "name": "#%%\n"
    }
   }
  },
  {
   "cell_type": "code",
   "execution_count": 55,
   "outputs": [
    {
     "data": {
      "text/plain": "[tensor([0.9983], grad_fn=<PowBackward0>),\n tensor([0.0017], grad_fn=<PowBackward0>)]"
     },
     "execution_count": 55,
     "metadata": {},
     "output_type": "execute_result"
    }
   ],
   "source": [
    "pi_calc(theta)\n",
    "pi_k =pi_calc(theta)\n",
    "pi_k"
   ],
   "metadata": {
    "collapsed": false,
    "pycharm": {
     "name": "#%%\n"
    }
   }
  },
  {
   "cell_type": "code",
   "execution_count": 56,
   "outputs": [],
   "source": [
    "optimizer = optim.SGD([theta],lr=0.1)"
   ],
   "metadata": {
    "collapsed": false,
    "pycharm": {
     "name": "#%%\n"
    }
   }
  },
  {
   "cell_type": "code",
   "execution_count": 93,
   "outputs": [
    {
     "data": {
      "text/plain": "tensor([0.5000], grad_fn=<AddBackward0>)"
     },
     "execution_count": 93,
     "metadata": {},
     "output_type": "execute_result"
    }
   ],
   "source": [
    "optimizer.zero_grad()\n",
    "#pi_k[0]=pi_calc(theta)[0]\n",
    "#pi_k[1]=pi_calc(theta)[1]\n",
    "pi_k = pi_calc(theta)\n",
    "L = pi_k[0]**2 + pi_k[1]**2\n",
    "#L = pi_calc(theta)[0]**2 + pi_calc(theta)[1]**2\n",
    "#pi_k[0]= torch.cos(theta[0])**2\n",
    "#pi_k[1]= torch.sin(theta[0])**2\n",
    "#L = pi_k[0]**2 + pi_k[1]**2\n",
    "#L=loss_func2(theta)\n",
    "#L=torch.cos(theta)**4+torch.sin(theta)**4\n",
    "L.backward()\n",
    "optimizer.step()\n",
    "L"
   ],
   "metadata": {
    "collapsed": false,
    "pycharm": {
     "name": "#%%\n"
    }
   }
  },
  {
   "cell_type": "code",
   "execution_count": 94,
   "outputs": [
    {
     "data": {
      "text/plain": "tensor([0.7840], requires_grad=True)"
     },
     "execution_count": 94,
     "metadata": {},
     "output_type": "execute_result"
    }
   ],
   "source": [
    "theta"
   ],
   "metadata": {
    "collapsed": false,
    "pycharm": {
     "name": "#%%\n"
    }
   }
  },
  {
   "cell_type": "code",
   "execution_count": 1294,
   "outputs": [
    {
     "data": {
      "text/plain": "0.785"
     },
     "execution_count": 1294,
     "metadata": {},
     "output_type": "execute_result"
    }
   ],
   "source": [
    "3.14/4"
   ],
   "metadata": {
    "collapsed": false,
    "pycharm": {
     "name": "#%%\n"
    }
   }
  },
  {
   "cell_type": "code",
   "execution_count": null,
   "outputs": [],
   "source": [],
   "metadata": {
    "collapsed": false,
    "pycharm": {
     "name": "#%%\n"
    }
   }
  }
 ],
 "metadata": {
  "language_info": {
   "codemirror_mode": {
    "name": "ipython",
    "version": 2
   },
   "file_extension": ".py",
   "mimetype": "text/x-python",
   "name": "python",
   "nbconvert_exporter": "python",
   "pygments_lexer": "ipython2",
   "version": "2.7.6"
  },
  "kernelspec": {
   "name": "python3",
   "language": "python",
   "display_name": "Python 3"
  }
 },
 "nbformat": 4,
 "nbformat_minor": 0
}