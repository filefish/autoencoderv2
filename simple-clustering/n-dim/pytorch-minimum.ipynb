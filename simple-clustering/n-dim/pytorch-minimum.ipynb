{
 "cells": [
  {
   "cell_type": "code",
   "execution_count": 1,
   "metadata": {
    "collapsed": true,
    "pycharm": {
     "is_executing": false
    }
   },
   "outputs": [],
   "source": [
    "import torch\n",
    "import torch.nn as nn\n",
    "import torch.optim as optim"
   ]
  },
  {
   "cell_type": "code",
   "execution_count": 2,
   "outputs": [],
   "source": [
    "\n",
    "#評価関数\n",
    "def _sphere(x):\n",
    "    return torch.pow(x,2).sum()\n"
   ],
   "metadata": {
    "collapsed": false,
    "pycharm": {
     "name": "#%%\n",
     "is_executing": false
    }
   }
  },
  {
   "cell_type": "code",
   "execution_count": 169,
   "outputs": [],
   "source": [
    "class Model(nn.Module):\n",
    "    def __init__(self,dim =100,func =None):\n",
    "        super(Model,self).__init__()\n",
    "        if func is None:\n",
    "            func = _sphere\n",
    "        self.func = func\n",
    "        #設計変数\n",
    "        self.x = nn.Parameter(torch.rand(dim))\n",
    "        \n",
    "    def forward(self):\n",
    "        return self.func(self.x)\n",
    "    \n",
    "    def vars(self):\n",
    "        return self.x.detach().numpy()\n",
    "    \n",
    "    def objective(self):\n",
    "        with torch.no_grad():\n",
    "            return self.func(self.x).numpy()"
   ],
   "metadata": {
    "collapsed": false,
    "pycharm": {
     "name": "#%%\n",
     "is_executing": false
    }
   }
  },
  {
   "cell_type": "code",
   "execution_count": 170,
   "outputs": [],
   "source": [
    "\n",
    "model = Model(dim=2)\n",
    "optimizer = optim.RMSprop(model.parameters(),lr=0.1)"
   ],
   "metadata": {
    "collapsed": false,
    "pycharm": {
     "name": "#%%\n",
     "is_executing": false
    }
   }
  },
  {
   "cell_type": "code",
   "execution_count": 171,
   "outputs": [
    {
     "name": "stdout",
     "text": [
      "初期の評価値 1.8387789\n"
     ],
     "output_type": "stream"
    }
   ],
   "source": [
    "N = 100\n",
    "\n",
    "print('初期の評価値',model.objective())"
   ],
   "metadata": {
    "collapsed": false,
    "pycharm": {
     "name": "#%%\n",
     "is_executing": false
    }
   }
  },
  {
   "cell_type": "code",
   "execution_count": 172,
   "outputs": [
    {
     "name": "stdout",
     "text": [
      "変数 Parameter containing:\ntensor([0.9878, 0.9290], requires_grad=True)\n"
     ],
     "output_type": "stream"
    }
   ],
   "source": [
    "print('変数',model.x)"
   ],
   "metadata": {
    "collapsed": false,
    "pycharm": {
     "name": "#%%\n",
     "is_executing": false
    }
   }
  },
  {
   "cell_type": "code",
   "execution_count": 173,
   "outputs": [
    {
     "data": {
      "text/plain": "torch.Size([2])"
     },
     "metadata": {},
     "output_type": "execute_result",
     "execution_count": 173
    }
   ],
   "source": [
    "model.x.size()"
   ],
   "metadata": {
    "collapsed": false,
    "pycharm": {
     "name": "#%%\n",
     "is_executing": false
    }
   }
  },
  {
   "cell_type": "code",
   "execution_count": 174,
   "outputs": [
    {
     "name": "stdout",
     "text": [
      "optimization...\nloss: 1.8387788534164429\nloss: 0.005190227646380663\nloss: 3.124859358649701e-05\nloss: 2.2065832183670864e-07\nloss: 1.7693191356471516e-09\nloss: 1.5980885018085367e-11\nloss: 1.6158744535563901e-13\nloss: 1.819004313019794e-15\nloss: 2.268406014253362e-17\nloss: 3.1196778175374175e-19\nloss: 4.7121405842623756e-21\nloss: 7.787774326949872e-23\nloss: 1.4034502091346712e-24\nloss: 2.7490751759574604e-26\nloss: 5.83588165807426e-28\nloss: 1.3389677358917068e-29\nloss: 3.3119003203061766e-31\nloss: 8.810491789886283e-33\nloss: 2.5152417670641714e-34\nloss: 7.689843835859767e-36\nloss: 2.5128716328139723e-37\nloss: 8.760831118453968e-39\nloss: 3.2530863589607763e-40\nloss: 1.2844301724001273e-41\nloss: 5.3809861030072976e-43\nloss: 2.382207389352189e-44\nloss: 1.401298464324817e-45\nloss: 0.0\nloss: 0.0\nloss: 0.0\nloss: 0.0\nloss: 0.0\nloss: 0.0\nloss: 0.0\nloss: 0.0\nloss: 0.0\nloss: 0.0\nloss: 0.0\nloss: 0.0\nloss: 0.0\nloss: 0.0\nloss: 0.0\nloss: 0.0\nloss: 0.0\nloss: 0.0\nloss: 0.0\nloss: 0.0\nloss: 0.0\nloss: 0.0\nloss: 0.0\nloss: 0.0\nloss: 0.0\nloss: 0.0\nloss: 0.0\nloss: 0.0\nloss: 0.0\nloss: 0.0\nloss: 0.0\nloss: 0.0\nloss: 0.0\nloss: 0.0\nloss: 0.0\nloss: 0.0\nloss: 0.0\nloss: 0.0\nloss: 0.0\nloss: 0.0\nloss: 0.0\nloss: 0.0\nloss: 0.0\nloss: 0.0\nloss: 0.0\nloss: 0.0\nloss: 0.0\nloss: 0.0\nloss: 0.0\nloss: 0.0\nloss: 0.0\n",
      "loss: 0.0\nloss: 0.0\nloss: 0.0\nloss: 0.0\nloss: 0.0\nloss: 0.0\nloss: 0.0\nloss: 0.0\nloss: 0.0\nloss: 0.0\nloss: 0.0\nloss: 0.0\nloss: 0.0\nloss: 0.0\nloss: 0.0\nloss: 0.0\nloss: 0.0\nloss: 0.0\nloss: 0.0\nloss: 0.0\nloss: 0.0\nloss: 0.0\n\n評価値 0.0\n"
     ],
     "output_type": "stream"
    }
   ],
   "source": [
    "\n",
    "print('optimization...')\n",
    "for i in range(N):\n",
    "    output = model()\n",
    "    optimizer.zero_grad()\n",
    "    loss = output\n",
    "    loss.backward()\n",
    "    optimizer.step()\n",
    "    print('loss:',loss.item(),end='\\n')\n",
    "    \n",
    "print()\n",
    "\n",
    "print('評価値',model.objective())"
   ],
   "metadata": {
    "collapsed": false,
    "pycharm": {
     "name": "#%%\n",
     "is_executing": false
    }
   }
  },
  {
   "cell_type": "code",
   "execution_count": 175,
   "outputs": [
    {
     "data": {
      "text/plain": "Parameter containing:\ntensor([-2.8026e-45,  5.6052e-45], requires_grad=True)"
     },
     "metadata": {},
     "output_type": "execute_result",
     "execution_count": 175
    }
   ],
   "source": [
    "\n",
    "model.x\n"
   ],
   "metadata": {
    "collapsed": false,
    "pycharm": {
     "name": "#%%\n",
     "is_executing": false
    }
   }
  },
  {
   "cell_type": "code",
   "execution_count": 176,
   "outputs": [
    {
     "data": {
      "text/plain": "array([-3.e-45,  6.e-45], dtype=float32)"
     },
     "metadata": {},
     "output_type": "execute_result",
     "execution_count": 176
    }
   ],
   "source": [
    "model.vars()"
   ],
   "metadata": {
    "collapsed": false,
    "pycharm": {
     "name": "#%%\n",
     "is_executing": false
    }
   }
  },
  {
   "cell_type": "code",
   "execution_count": 220,
   "outputs": [],
   "source": [
    "\n",
    "x = torch.tensor([1.],requires_grad=True)\n",
    "loss_func = nn.MSELoss()\n",
    "optimizer = optim.SGD([x],lr=0.1)\n",
    "target = torch.tensor([0.])"
   ],
   "metadata": {
    "collapsed": false,
    "pycharm": {
     "name": "#%%\n",
     "is_executing": false
    }
   }
  },
  {
   "cell_type": "code",
   "execution_count": 223,
   "outputs": [
    {
     "name": "stdout",
     "text": [
      "0: x=1.4142137, y=0.0000002,dL/dx=0.0000013\n1: x=1.4142135, y=-0.0000001,dL/dx=-0.0000007\n2: x=1.4142137, y=0.0000002,dL/dx=0.0000013\n3: x=1.4142135, y=-0.0000001,dL/dx=-0.0000007\n4: x=1.4142137, y=0.0000002,dL/dx=0.0000013\n5: x=1.4142135, y=-0.0000001,dL/dx=-0.0000007\n6: x=1.4142137, y=0.0000002,dL/dx=0.0000013\n7: x=1.4142135, y=-0.0000001,dL/dx=-0.0000007\n8: x=1.4142137, y=0.0000002,dL/dx=0.0000013\n9: x=1.4142135, y=-0.0000001,dL/dx=-0.0000007\n10: x=1.4142137, y=0.0000002,dL/dx=0.0000013\n11: x=1.4142135, y=-0.0000001,dL/dx=-0.0000007\n12: x=1.4142137, y=0.0000002,dL/dx=0.0000013\n13: x=1.4142135, y=-0.0000001,dL/dx=-0.0000007\n14: x=1.4142137, y=0.0000002,dL/dx=0.0000013\n15: x=1.4142135, y=-0.0000001,dL/dx=-0.0000007\n16: x=1.4142137, y=0.0000002,dL/dx=0.0000013\n17: x=1.4142135, y=-0.0000001,dL/dx=-0.0000007\n18: x=1.4142137, y=0.0000002,dL/dx=0.0000013\n19: x=1.4142135, y=-0.0000001,dL/dx=-0.0000007\n20: x=1.4142137, y=0.0000002,dL/dx=0.0000013\n21: x=1.4142135, y=-0.0000001,dL/dx=-0.0000007\n22: x=1.4142137, y=0.0000002,dL/dx=0.0000013\n23: x=1.4142135, y=-0.0000001,dL/dx=-0.0000007\n24: x=1.4142137, y=0.0000002,dL/dx=0.0000013\n25: x=1.4142135, y=-0.0000001,dL/dx=-0.0000007\n26: x=1.4142137, y=0.0000002,dL/dx=0.0000013\n27: x=1.4142135, y=-0.0000001,dL/dx=-0.0000007\n28: x=1.4142137, y=0.0000002,dL/dx=0.0000013\n29: x=1.4142135, y=-0.0000001,dL/dx=-0.0000007\n30: x=1.4142137, y=0.0000002,dL/dx=0.0000013\n31: x=1.4142135, y=-0.0000001,dL/dx=-0.0000007\n32: x=1.4142137, y=0.0000002,dL/dx=0.0000013\n33: x=1.4142135, y=-0.0000001,dL/dx=-0.0000007\n34: x=1.4142137, y=0.0000002,dL/dx=0.0000013\n35: x=1.4142135, y=-0.0000001,dL/dx=-0.0000007\n36: x=1.4142137, y=0.0000002,dL/dx=0.0000013\n37: x=1.4142135, y=-0.0000001,dL/dx=-0.0000007\n38: x=1.4142137, y=0.0000002,dL/dx=0.0000013\n39: x=1.4142135, y=-0.0000001,dL/dx=-0.0000007\n40: x=1.4142137, y=0.0000002,dL/dx=0.0000013\n41: x=1.4142135, y=-0.0000001,dL/dx=-0.0000007\n42: x=1.4142137, y=0.0000002,dL/dx=0.0000013\n43: x=1.4142135, y=-0.0000001,dL/dx=-0.0000007\n44: x=1.4142137, y=0.0000002,dL/dx=0.0000013\n45: x=1.4142135, y=-0.0000001,dL/dx=-0.0000007\n46: x=1.4142137, y=0.0000002,dL/dx=0.0000013\n47: x=1.4142135, y=-0.0000001,dL/dx=-0.0000007\n48: x=1.4142137, y=0.0000002,dL/dx=0.0000013\n49: x=1.4142135, y=-0.0000001,dL/dx=-0.0000007\n50: x=1.4142137, y=0.0000002,dL/dx=0.0000013\n51: x=1.4142135, y=-0.0000001,dL/dx=-0.0000007\n52: x=1.4142137, y=0.0000002,dL/dx=0.0000013\n53: x=1.4142135, y=-0.0000001,dL/dx=-0.0000007\n54: x=1.4142137, y=0.0000002,dL/dx=0.0000013\n55: x=1.4142135, y=-0.0000001,dL/dx=-0.0000007\n56: x=1.4142137, y=0.0000002,dL/dx=0.0000013\n57: x=1.4142135, y=-0.0000001,dL/dx=-0.0000007\n58: x=1.4142137, y=0.0000002,dL/dx=0.0000013\n59: x=1.4142135, y=-0.0000001,dL/dx=-0.0000007\n60: x=1.4142137, y=0.0000002,dL/dx=0.0000013\n61: x=1.4142135, y=-0.0000001,dL/dx=-0.0000007\n62: x=1.4142137, y=0.0000002,dL/dx=0.0000013\n63: x=1.4142135, y=-0.0000001,dL/dx=-0.0000007\n64: x=1.4142137, y=0.0000002,dL/dx=0.0000013\n65: x=1.4142135, y=-0.0000001,dL/dx=-0.0000007\n66: x=1.4142137, y=0.0000002,dL/dx=0.0000013\n67: x=1.4142135, y=-0.0000001,dL/dx=-0.0000007\n68: x=1.4142137, y=0.0000002,dL/dx=0.0000013\n69: x=1.4142135, y=-0.0000001,dL/dx=-0.0000007\n70: x=1.4142137, y=0.0000002,dL/dx=0.0000013\n71: x=1.4142135, y=-0.0000001,dL/dx=-0.0000007\n72: x=1.4142137, y=0.0000002,dL/dx=0.0000013\n73: x=1.4142135, y=-0.0000001,dL/dx=-0.0000007\n74: x=1.4142137, y=0.0000002,dL/dx=0.0000013\n75: x=1.4142135, y=-0.0000001,dL/dx=-0.0000007\n76: x=1.4142137, y=0.0000002,dL/dx=0.0000013\n77: x=1.4142135, y=-0.0000001,dL/dx=-0.0000007\n78: x=1.4142137, y=0.0000002,dL/dx=0.0000013\n79: x=1.4142135, y=-0.0000001,dL/dx=-0.0000007\n80: x=1.4142137, y=0.0000002,dL/dx=0.0000013\n81: x=1.4142135, y=-0.0000001,dL/dx=-0.0000007\n82: x=1.4142137, y=0.0000002,dL/dx=0.0000013\n83: x=1.4142135, y=-0.0000001,dL/dx=-0.0000007\n84: x=1.4142137, y=0.0000002,dL/dx=0.0000013\n85: x=1.4142135, y=-0.0000001,dL/dx=-0.0000007\n86: x=1.4142137, y=0.0000002,dL/dx=0.0000013\n87: x=1.4142135, y=-0.0000001,dL/dx=-0.0000007\n88: x=1.4142137, y=0.0000002,dL/dx=0.0000013\n89: x=1.4142135, y=-0.0000001,dL/dx=-0.0000007\n90: x=1.4142137, y=0.0000002,dL/dx=0.0000013\n91: x=1.4142135, y=-0.0000001,dL/dx=-0.0000007\n92: x=1.4142137, y=0.0000002,dL/dx=0.0000013\n93: x=1.4142135, y=-0.0000001,dL/dx=-0.0000007\n94: x=1.4142137, y=0.0000002,dL/dx=0.0000013\n95: x=1.4142135, y=-0.0000001,dL/dx=-0.0000007\n96: x=1.4142137, y=0.0000002,dL/dx=0.0000013\n97: x=1.4142135, y=-0.0000001,dL/dx=-0.0000007\n98: x=1.4142137, y=0.0000002,dL/dx=0.0000013\n99: x=1.4142135, y=-0.0000001,dL/dx=-0.0000007\n"
     ],
     "output_type": "stream"
    }
   ],
   "source": [
    "\n",
    "for iter_num in range(100):\n",
    "    optimizer.zero_grad()\n",
    "    y = x**2-2\n",
    "    loss = loss_func(y,target)\n",
    "    loss.backward()\n",
    "    print(\"{0}: x={1:.7f}, y={2:.7f},dL/dx={3:.7f}\".format(iter_num,x.data.numpy()[0],y.data.numpy()[0],x.grad.data.numpy()[0]))\n",
    "    optimizer.step()"
   ],
   "metadata": {
    "collapsed": false,
    "pycharm": {
     "name": "#%%\n",
     "is_executing": false
    }
   }
  },
  {
   "cell_type": "code",
   "execution_count": 224,
   "outputs": [
    {
     "data": {
      "text/plain": "1.4142137"
     },
     "metadata": {},
     "output_type": "execute_result",
     "execution_count": 224
    }
   ],
   "source": [
    "x.data.numpy()[0]"
   ],
   "metadata": {
    "collapsed": false,
    "pycharm": {
     "name": "#%%\n",
     "is_executing": false
    }
   }
  },
  {
   "cell_type": "code",
   "execution_count": null,
   "outputs": [],
   "source": [
    "\n"
   ],
   "metadata": {
    "collapsed": false,
    "pycharm": {
     "name": "#%%\n"
    }
   }
  }
 ],
 "metadata": {
  "language_info": {
   "codemirror_mode": {
    "name": "ipython",
    "version": 2
   },
   "file_extension": ".py",
   "mimetype": "text/x-python",
   "name": "python",
   "nbconvert_exporter": "python",
   "pygments_lexer": "ipython2",
   "version": "2.7.6"
  },
  "kernelspec": {
   "name": "python3",
   "language": "python",
   "display_name": "Python 3"
  },
  "pycharm": {
   "stem_cell": {
    "cell_type": "raw",
    "source": [],
    "metadata": {
     "collapsed": false
    }
   }
  }
 },
 "nbformat": 4,
 "nbformat_minor": 0
}