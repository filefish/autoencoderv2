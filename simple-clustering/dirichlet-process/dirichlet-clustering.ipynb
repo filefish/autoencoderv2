{
 "cells": [
  {
   "cell_type": "code",
   "execution_count": null,
   "outputs": [],
   "source": [
    "#ディリクレ過程を使ったクラスタリングの基本プログラム\n",
    "#2021年1月１３日から作成"
   ],
   "metadata": {
    "collapsed": false,
    "pycharm": {
     "name": "#%%\n"
    }
   }
  },
  {
   "cell_type": "code",
   "execution_count": null,
   "outputs": [],
   "source": [
    "from __future__ import print_function\n",
    "import argparse\n",
    "import torch\n",
    "from torch.utils import data\n",
    "from torch import nn, optim\n",
    "from torch.nn import functional as F\n",
    "from torchvision import datasets, transforms\n",
    "from torchvision.utils import save_image\n",
    "\n",
    "%matplotlib inline\n",
    "import matplotlib.pyplot as plt\n",
    "from torch.distributions.multivariate_normal import MultivariateNormal\n",
    "import numpy as np\n",
    "\n",
    "\n",
    "from sklearn.manifold import TSNE\n",
    "from random import random\n",
    "from sklearn.mixture import GaussianMixture\n",
    "from sklearn.mixture import BayesianGaussianMixture\n",
    "from sklearn.cluster import KMeans\n",
    "\n",
    "import math\n",
    "\n",
    "import os\n",
    "from PIL import Image\n",
    "import torch.nn as nn\n",
    "import torchvision.models as models\n",
    "from torch.autograd import Variable\n",
    "\n",
    "\n",
    "import glob\n",
    "import torchvision.transforms as transforms\n",
    "import torchvision\n",
    "from sklearn.model_selection import train_test_split\n",
    "import pickle\n",
    "import copy"
   ],
   "metadata": {
    "collapsed": false,
    "pycharm": {
     "name": "#%%\n"
    }
   }
  },
  {
   "cell_type": "code",
   "execution_count": null,
   "outputs": [],
   "source": [
    "X_dim =1"
   ],
   "metadata": {
    "collapsed": false,
    "pycharm": {
     "name": "#%%\n"
    }
   }
  },
  {
   "cell_type": "code",
   "execution_count": 356,
   "outputs": [],
   "source": [
    "N = 100\n",
    "in_m = 1\n",
    "in_w = 0\n",
    "in_g = -0.5\n",
    "s_m = 0.1\n",
    "s_w = 0.1\n",
    "s_g = 0.2\n",
    "m_data = np.random.normal(in_m,s_m,N)\n",
    "w_data = np.random.normal(in_w,s_w,2*N)\n",
    "g_data = np.random.normal(in_g,s_g,3*N)\n",
    "zero= np.zeros_like(m_data)\n",
    "one = np.ones_like(w_data)\n",
    "two = np.full_like(g_data,2)\n",
    "iter =10\n",
    "K = 2"
   ],
   "metadata": {
    "collapsed": false,
    "pycharm": {
     "name": "#%%\n"
    }
   }
  },
  {
   "cell_type": "code",
   "execution_count": 357,
   "outputs": [
    {
     "data": {
      "text/plain": "<matplotlib.legend.Legend at 0x7efc91ebf2b0>"
     },
     "execution_count": 357,
     "metadata": {},
     "output_type": "execute_result"
    },
    {
     "data": {
      "text/plain": "<Figure size 504x360 with 1 Axes>",
      "image/png": "[encoded data removed]"
     },
     "metadata": {
      "needs_background": "light"
     },
     "output_type": "display_data"
    }
   ],
   "source": [
    "f, ax = plt.subplots(figsize = (7,5))\n",
    "ax.set_title(\"Histogram of Heights\")\n",
    "ax.hist(m_data,alpha=.5,label = \"Men\")\n",
    "ax.hist(w_data,alpha=.5,label = \"Women\")\n",
    "ax.hist(g_data,alpha=.5,label = \"gold\")\n",
    "ax.legend()"
   ],
   "metadata": {
    "collapsed": false,
    "pycharm": {
     "name": "#%%\n"
    }
   }
  },
  {
   "cell_type": "code",
   "execution_count": 358,
   "outputs": [],
   "source": [
    "x_data = np.concatenate([m_data,w_data,g_data])\n",
    "label_data = np.concatenate([zero,one,two])"
   ],
   "metadata": {
    "collapsed": false,
    "pycharm": {
     "name": "#%%\n"
    }
   }
  },
  {
   "cell_type": "code",
   "execution_count": 359,
   "outputs": [
    {
     "data": {
      "text/plain": "<matplotlib.legend.Legend at 0x7efc91df4100>"
     },
     "execution_count": 359,
     "metadata": {},
     "output_type": "execute_result"
    },
    {
     "data": {
      "text/plain": "<Figure size 504x360 with 1 Axes>",
      "image/png": "[encoded data removed]"
     },
     "metadata": {
      "needs_background": "light"
     },
     "output_type": "display_data"
    }
   ],
   "source": [
    "f, ax = plt.subplots(figsize = (7,5))\n",
    "ax.set_title(\"Histogram of Heights\")\n",
    "ax.hist(x_data,alpha=.5,label = \"Men\",bins=100)\n",
    "ax.legend()\n"
   ],
   "metadata": {
    "collapsed": false,
    "pycharm": {
     "name": "#%%\n"
    }
   }
  },
  {
   "cell_type": "code",
   "execution_count": 360,
   "outputs": [],
   "source": [
    "random_label = np.random.permutation(np.arange(x_data.shape[0]))\n",
    "x_p_data = x_data[random_label]\n",
    "label_p_data =label_data[random_label]"
   ],
   "metadata": {
    "collapsed": false,
    "pycharm": {
     "name": "#%%\n"
    }
   }
  },
  {
   "cell_type": "code",
   "execution_count": 361,
   "outputs": [
    {
     "data": {
      "text/plain": "(array([-2.68100630e-02,  1.00745735e-01,  1.64210226e-01, -4.40222323e-01,\n         8.89504314e-02, -8.10706377e-01, -6.09716449e-01,  9.66427172e-01,\n         1.21703675e+00, -1.51244281e-01, -3.17190585e-01,  2.74062900e-03,\n        -5.95271979e-01,  7.77771378e-03, -3.46629979e-01, -6.33911556e-02,\n        -4.24624550e-01, -4.20989606e-01,  9.24371159e-01, -5.44976191e-01,\n        -5.71346205e-01,  9.17571367e-01, -8.56544321e-01,  9.83662025e-01,\n        -6.36583462e-01, -6.62663661e-01, -6.10260042e-01, -4.43985690e-01,\n         2.09233353e-01,  7.00670688e-02,  1.00636798e+00, -8.41608419e-02,\n         4.40746920e-03,  6.62777541e-02, -7.38840329e-01, -1.75624529e-01,\n        -2.08798761e-02, -2.40395817e-01,  9.69744934e-01,  9.93157328e-01,\n         5.88139520e-04, -6.42912275e-01, -6.49050239e-01,  1.02211842e+00,\n        -7.52661088e-01, -6.83913718e-01,  1.16689699e-01,  1.06154211e-01,\n         8.78996656e-01,  1.09854120e+00,  8.36736240e-01, -5.78330728e-01,\n        -6.82839592e-01, -1.32561980e-01, -6.50688370e-01, -3.77952588e-02,\n        -6.28631761e-01,  8.52591750e-01, -3.13207337e-01, -4.88086150e-01,\n        -6.99286013e-01, -3.73309089e-01,  8.84539495e-01,  2.25288138e-02,\n         9.06470071e-01, -5.07560186e-01, -3.94920594e-01, -1.41508407e-01,\n        -4.46469564e-01, -6.97367289e-01, -1.31038258e-02, -6.53134473e-01,\n        -3.13175972e-01, -3.76685831e-01, -5.56567278e-01, -1.03811639e-01,\n        -4.64467378e-01,  1.15813736e-01, -5.83834101e-01, -5.80647601e-01,\n        -8.59520569e-01, -1.23390184e-02, -1.12489292e-01, -6.20998618e-02,\n         9.71633479e-01, -3.50364778e-01, -4.53267004e-01, -8.49136414e-01,\n        -9.43111591e-03, -4.71548000e-01,  1.49156446e-02,  8.73581888e-02,\n        -4.63177185e-01, -3.33457500e-01, -3.68464018e-02, -4.31798088e-01,\n        -8.37698630e-01, -2.87257731e-03,  3.93326244e-02,  4.89029706e-03,\n         1.95779279e-02,  1.06376210e-01,  6.38717838e-02, -1.98825293e-01,\n         1.04429587e-02,  7.56598114e-01, -5.19376361e-02,  9.81895348e-01,\n        -5.47519132e-01, -7.04372430e-01, -4.71751639e-01,  1.03641228e+00,\n        -1.28727478e-01,  3.23568032e-01, -1.27566434e-02,  1.50447096e-02,\n        -1.58166288e-01, -6.66403001e-02, -5.79752825e-01, -7.21340642e-01,\n         1.06476492e+00, -5.47856221e-01, -7.15385402e-01,  1.08320872e-01,\n        -3.91491361e-01, -3.76707634e-01, -3.76870222e-02,  1.52291881e-03,\n        -2.17314587e-01,  1.04385159e+00, -8.78948652e-01, -2.57895317e-01,\n         1.75814692e-02,  1.15934641e+00, -1.30725661e-01, -5.08468793e-02,\n        -2.55753543e-01, -5.29303670e-01, -5.40288541e-01,  1.03211569e+00,\n        -5.07064906e-01, -6.73979437e-01, -4.99938068e-01, -5.87440062e-02,\n        -6.04526917e-01, -4.86889315e-01,  9.51964630e-01, -5.67905837e-02,\n         1.67118681e-01, -6.57810821e-01, -2.77168376e-01,  5.56259489e-02,\n        -4.10944305e-01,  8.15787890e-01,  5.22865248e-02, -8.15072245e-01,\n        -6.36484065e-01, -5.57929077e-01,  1.05927427e+00, -4.42898928e-02,\n         8.67626916e-01,  9.17641494e-01,  2.67039929e-02,  1.17924576e-01,\n        -8.27838284e-01,  9.13382879e-01, -3.06211771e-01, -4.70651670e-01,\n        -1.43624679e-01,  2.53758747e-02, -6.88091168e-01,  1.03525890e+00,\n        -5.64126652e-02, -4.32792866e-01, -2.37849972e-01, -6.83491440e-02,\n        -3.23878479e-01, -4.36685108e-01, -4.89045294e-02, -5.37829147e-01,\n         1.06509913e+00, -1.38347602e-01, -3.17075733e-01, -8.10018695e-01,\n        -8.22844030e-02, -2.32993005e-01, -3.36303313e-02, -7.28694384e-03,\n         1.08630086e+00,  5.23828600e-02, -6.68809035e-01, -9.48690177e-02,\n        -4.98428185e-01, -4.73660147e-01,  2.10223679e-01, -5.44631495e-01,\n        -1.30387636e-01, -5.22713277e-01,  3.73263661e-02,  1.14278167e+00,\n        -6.06128611e-01, -4.79454981e-01, -5.62508141e-01,  1.50905219e-01,\n        -3.94119576e-01, -2.24706116e-01, -5.57881425e-01, -4.95348328e-02,\n         4.58888257e-02, -2.94982545e-01, -7.38509198e-01, -1.28330250e-01,\n        -7.04064362e-01, -8.18463670e-01, -4.02405750e-01,  2.43105722e-02,\n        -8.49212663e-01, -6.79251888e-01,  1.03612039e+00, -7.82727458e-01,\n        -6.73652725e-01, -5.21468841e-01, -6.42582960e-01,  9.14401888e-01,\n        -1.29243003e-01, -5.72184470e-01, -9.25270148e-02,  1.15685374e+00,\n        -1.70674874e-01,  1.60109924e-02, -2.89267860e-01, -1.12494021e-01,\n         1.08533584e-01, -3.46280133e-02, -5.58943041e-01, -1.10507206e-01,\n         1.65002813e-01, -3.67400840e-01, -3.22432265e-01, -2.91071128e-02,\n         1.06964465e+00, -5.75223710e-01, -3.77570626e-01, -1.21721077e-01,\n        -7.00373721e-03,  3.26689837e-02,  4.78815213e-02,  1.63608416e-01,\n         1.02378899e+00,  2.22552381e-01, -5.99892816e-01,  1.04103786e-01,\n         9.91498890e-01,  5.54921618e-03,  1.34421576e-01, -5.95889601e-01,\n         9.60892433e-01,  1.24815987e+00, -5.84352789e-01, -6.06193307e-01,\n        -3.75949176e-01,  9.45223752e-01, -6.20434621e-01,  9.44631658e-02,\n         9.38183134e-02, -5.08880564e-01, -4.61198653e-01, -7.34447835e-01,\n         9.55641980e-01, -1.50199237e-02,  1.02722772e+00, -4.56522956e-01,\n        -4.54542197e-01, -4.44160530e-01, -5.19272210e-01, -2.93239022e-01,\n         9.87059330e-01, -5.19029359e-01, -5.74849885e-01,  1.09694596e+00,\n        -5.59954311e-01,  8.76807675e-03, -5.35831370e-01,  8.39082785e-02,\n        -4.40303159e-01,  1.16790380e+00, -1.81537417e-03, -1.35754639e-02,\n         9.30154641e-01,  1.06090074e-01, -1.14052091e-02, -3.14626077e-01,\n        -5.69381576e-01,  1.00448764e+00, -4.94054258e-01, -5.13254281e-01,\n         1.09854101e-01,  7.01215670e-02, -5.37545112e-01,  1.37970320e-02,\n         9.00392914e-01,  1.46592532e-01, -9.82654129e-02,  3.19902666e-02,\n        -2.23207012e-01,  4.42206040e-02, -5.46834502e-01, -2.98930889e-01,\n         1.68312984e-01,  1.10167490e+00,  7.30353190e-02, -3.67108219e-01,\n        -8.13215744e-01, -3.86508199e-01, -8.77020579e-02, -4.37889892e-01,\n         9.99137192e-01,  9.64351693e-01, -4.32265500e-01, -6.19730618e-01,\n         1.09743787e+00, -1.81943642e-01, -8.55918061e-01,  6.43739984e-02,\n        -7.32112509e-01, -9.30406603e-02,  8.30638640e-01,  2.72839940e-01,\n        -6.86481262e-01, -4.80218264e-01, -4.73720621e-01, -8.81440738e-01,\n        -1.51273276e-01,  9.28048087e-01, -5.97476616e-01, -8.38466552e-01,\n        -6.80532376e-01, -4.18094587e-02, -4.04671561e-01,  1.10431253e+00,\n        -3.84250302e-01, -9.87839906e-03, -2.57594675e-01, -7.19151472e-01,\n        -4.81772437e-01,  1.03183930e+00, -7.87971391e-02,  4.00101538e-02,\n        -5.97728796e-01, -6.03853026e-02, -2.95928211e-01,  1.14031546e-01,\n        -6.01172866e-03, -2.33263425e-01, -5.38246241e-01, -1.01840004e-01,\n         1.07171113e+00, -1.34328445e-02,  2.71404226e-02,  9.27904241e-01,\n         9.96545432e-01, -2.26486708e-01, -4.47022588e-01, -9.99362628e-02,\n        -8.53035855e-02,  1.21506941e-01, -5.63409666e-01, -6.05775378e-01,\n         9.24221472e-01, -5.01360742e-01, -1.11086232e-01,  3.15520017e-02,\n         9.12112465e-01, -7.09655445e-01,  9.14332724e-01,  1.67840890e-01,\n        -7.80782273e-01, -5.81473648e-01, -6.64798558e-01, -5.22182268e-01,\n         5.35244028e-02,  1.91815994e-01,  2.17839166e-01,  1.05971926e+00,\n        -3.55684775e-01,  3.77131321e-02,  8.60602675e-01,  1.04581753e+00,\n        -5.20410592e-01, -2.62444121e-01,  9.60584690e-01, -5.41046952e-01,\n         1.56361526e-01, -9.46368209e-03,  2.02192491e-01, -3.25476505e-01,\n        -3.29921930e-01,  6.14190009e-02, -3.32962126e-01, -4.39333390e-01,\n        -8.20405363e-01, -4.80051420e-01, -6.32171663e-01, -4.11842343e-01,\n         1.27529537e-01,  1.04754639e+00, -3.92296143e-01, -3.10181856e-01,\n        -5.41774004e-01, -2.37329124e-01, -9.58979906e-01, -4.63875110e-01,\n        -4.84991793e-01, -1.88282985e-01, -4.87252105e-02,  1.03294488e+00,\n        -5.93796128e-01,  1.02188137e-01,  1.54487267e-01,  1.06527043e+00,\n        -2.41904503e-02, -4.58065013e-01, -3.89309056e-01, -7.95366775e-01,\n        -1.69337665e-01, -6.02100279e-01, -5.59318917e-01,  2.11081664e-02,\n         1.19791477e+00, -8.90430218e-01, -6.55644459e-03, -5.69306007e-01,\n        -5.47474164e-01, -6.10059993e-01, -4.91770777e-01, -2.30286584e-01,\n        -6.86790636e-01, -4.72486740e-01,  1.05410200e+00,  8.10872238e-02,\n         8.85389154e-01, -3.67084176e-01, -7.55541048e-02, -3.75733159e-01,\n         6.99498171e-02, -4.87285207e-02, -1.24743277e-01,  1.05046544e+00,\n         3.49462598e-02, -3.68114043e-01,  1.02252787e+00, -6.63520308e-01,\n         8.91926397e-01, -4.82747908e-03, -1.55461458e-01,  9.94627461e-01,\n        -8.05892910e-02,  4.31881195e-04, -5.31748919e-01, -2.47174926e-01,\n         1.00629517e+00, -8.36759706e-01, -4.29591377e-01, -1.24496177e-02,\n        -6.05567283e-01, -4.58122744e-01, -7.23125070e-01, -3.85294373e-03,\n         7.72696928e-01,  5.25571740e-02,  1.08948005e+00,  3.41686173e-02,\n        -6.60981268e-01, -7.18898644e-01,  9.99737073e-01, -1.22330393e-01,\n        -5.48882644e-01, -7.48781670e-01,  1.13129937e+00, -3.70247481e-01,\n        -3.21400982e-01, -5.89262358e-02, -1.55351675e-01, -5.08635044e-01,\n         9.56201830e-01, -4.39127148e-01, -7.36784148e-02,  1.42486919e-01,\n        -5.75399854e-01,  1.76056474e-01, -5.88855608e-01,  9.94569972e-02,\n        -5.02917499e-01, -6.70664584e-02, -2.12376707e-01, -1.93472943e-01,\n        -4.23548698e-01, -2.78731756e-01,  1.03018186e+00, -6.23655214e-01,\n        -3.06036382e-01,  1.16949222e+00, -2.64201085e-01, -4.26564939e-01,\n        -7.87055551e-01, -6.38730335e-01, -7.10858136e-01,  1.10701303e+00,\n        -3.50576849e-01, -3.01274401e-01, -3.32646308e-01, -3.85370610e-01,\n        -1.13511409e-01, -1.41414793e-03, -1.83846691e-01,  1.05972401e+00,\n        -7.72675203e-01, -2.54210644e-02, -8.44766703e-01,  9.23169636e-01,\n         5.32509695e-04,  8.60190698e-01,  5.62782150e-02,  1.65216163e-01,\n         9.44221583e-01, -3.73771444e-01,  2.01637441e-01, -1.00240061e-01,\n         8.56578183e-02, -2.41518122e-01, -1.74169678e-01, -1.41672430e-02,\n         3.78495996e-02, -1.02865530e-01, -7.35592577e-01, -2.30868443e-01,\n        -5.34924935e-01, -1.02554700e-01, -4.24395730e-01,  8.49466513e-01,\n         1.81628468e-02,  7.24443205e-02, -5.01271319e-01, -5.90285577e-01,\n         1.01500661e+00,  1.99447758e-01,  4.20364732e-02, -7.64919437e-01,\n        -3.92217600e-02,  1.24212080e-01, -1.37589865e-01,  9.84307867e-01,\n        -6.26373670e-01, -7.99428897e-01, -7.60487450e-02, -3.94449100e-01,\n         1.17321464e-01, -1.14899483e-01,  1.27338989e-02,  8.76724693e-01,\n        -9.00533977e-01,  3.43996529e-02, -5.64115019e-01,  5.81169026e-02,\n         1.30121348e-01, -3.85420311e-01,  8.41673439e-03,  8.50927284e-01,\n        -1.46030501e-01, -6.15309059e-01, -3.00024887e-01, -5.12351998e-01,\n        -4.38880979e-01, -3.49889369e-01,  9.45298374e-01, -5.71631963e-02,\n         3.28109062e-02,  9.23371100e-01,  1.19669599e-01, -5.52851800e-01,\n        -1.32444280e-01, -5.78537889e-01, -5.60730414e-01, -3.62250217e-01,\n        -5.09594739e-01,  1.04691596e+00, -5.20335599e-01, -3.63054068e-01,\n        -5.44854593e-01,  5.45382161e-02, -3.82577634e-01, -7.24267063e-01,\n         4.48038353e-02, -2.73283474e-01, -3.28202789e-01,  1.09039782e+00,\n        -2.25691617e-01, -3.58334394e-02, -2.63544690e-01, -6.17841804e-02]),\n array([2., 1., 1., 2., 1., 2., 2., 0., 0., 1., 2., 1., 2., 1., 2., 1., 2.,\n        2., 0., 2., 2., 0., 2., 0., 2., 2., 2., 2., 1., 1., 0., 1., 1., 1.,\n        2., 2., 1., 2., 0., 0., 1., 2., 2., 0., 2., 2., 1., 1., 0., 0., 0.,\n        2., 2., 2., 2., 1., 2., 0., 2., 2., 2., 2., 0., 1., 0., 2., 2., 1.,\n        2., 2., 1., 2., 2., 2., 2., 1., 2., 1., 2., 2., 2., 1., 1., 1., 0.,\n        2., 2., 2., 1., 2., 1., 1., 2., 2., 1., 2., 2., 1., 1., 1., 2., 1.,\n        1., 2., 1., 0., 1., 0., 2., 2., 2., 0., 1., 1., 1., 1., 1., 1., 2.,\n        2., 0., 2., 2., 1., 2., 2., 1., 1., 2., 0., 2., 2., 1., 0., 1., 1.,\n        2., 2., 2., 0., 2., 2., 2., 1., 2., 2., 0., 1., 1., 2., 2., 1., 2.,\n        0., 1., 2., 2., 2., 0., 1., 0., 0., 1., 1., 2., 0., 2., 2., 1., 1.,\n        2., 0., 1., 2., 2., 1., 2., 2., 1., 2., 0., 1., 2., 2., 1., 2., 1.,\n        1., 0., 1., 2., 2., 2., 2., 1., 2., 1., 2., 1., 0., 2., 2., 2., 1.,\n        2., 1., 2., 1., 1., 2., 2., 1., 2., 2., 2., 1., 2., 2., 0., 2., 2.,\n        2., 2., 0., 2., 2., 1., 0., 1., 1., 2., 1., 1., 1., 2., 1., 1., 2.,\n        2., 1., 0., 2., 2., 1., 1., 1., 1., 1., 0., 1., 2., 1., 0., 1., 1.,\n        2., 0., 0., 2., 2., 2., 0., 2., 1., 1., 2., 2., 2., 0., 1., 0., 2.,\n        2., 2., 2., 2., 0., 2., 2., 0., 2., 1., 2., 1., 2., 0., 2., 1., 0.,\n        1., 1., 2., 2., 0., 2., 2., 1., 1., 2., 1., 0., 1., 1., 1., 2., 1.,\n        2., 2., 1., 0., 1., 2., 2., 2., 1., 2., 0., 0., 2., 2., 0., 2., 2.,\n        1., 2., 1., 0., 1., 2., 2., 2., 2., 1., 0., 2., 2., 2., 1., 2., 0.,\n        2., 2., 1., 2., 2., 0., 1., 1., 2., 1., 2., 1., 1., 2., 2., 1., 0.,\n        1., 1., 0., 0., 2., 2., 2., 1., 1., 2., 2., 0., 2., 2., 1., 0., 2.,\n        0., 1., 2., 2., 2., 2., 1., 1., 1., 0., 2., 1., 0., 0., 2., 2., 0.,\n        2., 1., 1., 1., 2., 2., 1., 2., 2., 2., 2., 2., 2., 1., 0., 2., 2.,\n        2., 2., 2., 2., 2., 2., 1., 0., 2., 1., 1., 0., 1., 2., 2., 2., 2.,\n        2., 2., 1., 0., 2., 1., 2., 2., 2., 2., 2., 2., 2., 0., 1., 0., 2.,\n        1., 2., 1., 1., 1., 0., 2., 2., 0., 2., 0., 1., 2., 0., 1., 1., 2.,\n        2., 0., 2., 2., 1., 2., 2., 2., 1., 0., 1., 0., 1., 2., 2., 0., 1.,\n        2., 2., 0., 2., 2., 1., 1., 2., 0., 2., 1., 1., 2., 1., 2., 1., 2.,\n        1., 2., 1., 2., 2., 0., 2., 2., 0., 2., 2., 2., 2., 2., 0., 2., 2.,\n        2., 2., 1., 1., 2., 0., 2., 1., 2., 0., 1., 0., 1., 1., 0., 2., 1.,\n        1., 1., 2., 2., 1., 1., 2., 2., 2., 2., 1., 2., 0., 1., 1., 2., 2.,\n        0., 1., 1., 2., 1., 1., 1., 0., 2., 2., 1., 2., 1., 2., 1., 0., 2.,\n        1., 2., 1., 1., 2., 1., 0., 1., 2., 2., 2., 2., 2., 0., 1., 1., 0.,\n        1., 2., 1., 2., 2., 2., 2., 0., 2., 2., 2., 1., 2., 2., 1., 2., 2.,\n        0., 2., 1., 2., 1.]))"
     },
     "execution_count": 361,
     "metadata": {},
     "output_type": "execute_result"
    }
   ],
   "source": [
    "x_p_data,label_p_data"
   ],
   "metadata": {
    "collapsed": false,
    "pycharm": {
     "name": "#%%\n"
    }
   }
  },
  {
   "cell_type": "code",
   "execution_count": 362,
   "outputs": [
    {
     "data": {
      "text/plain": "<matplotlib.legend.Legend at 0x7efc91c63430>"
     },
     "execution_count": 362,
     "metadata": {},
     "output_type": "execute_result"
    },
    {
     "data": {
      "text/plain": "<Figure size 504x360 with 1 Axes>",
      "image/png": "[encoded data removed]"
     },
     "metadata": {
      "needs_background": "light"
     },
     "output_type": "display_data"
    }
   ],
   "source": [
    "f, ax = plt.subplots(figsize = (7,5))\n",
    "ax.set_title(\"Histogram of Heights\")\n",
    "ax.hist(x_p_data,alpha=.5,label = \"Men\",bins=100)\n",
    "ax.legend()\n"
   ],
   "metadata": {
    "collapsed": false,
    "pycharm": {
     "name": "#%%\n"
    }
   }
  },
  {
   "cell_type": "code",
   "execution_count": 363,
   "outputs": [],
   "source": [
    "X = x_p_data.reshape(x_p_data.shape[0],1)"
   ],
   "metadata": {
    "collapsed": false,
    "pycharm": {
     "name": "#%%\n"
    }
   }
  },
  {
   "cell_type": "code",
   "execution_count": 364,
   "outputs": [],
   "source": [
    "def log_P_func(l_f,latent_data_f,pick_up_number_f,dirichlet_alpha_f,pre_nu_f,pre_beta_f,pre_mu_0_f,S_0_inv_f):\n",
    "\n",
    "    cluster_data = latent_data_f[l_f]\n",
    "    cluster_center = cluster_data.mean()\n",
    "    n_prime = len(l_f)\n",
    "    mu_c = (n_prime*cluster_center+pre_beta_f*pre_mu_0_f)/(n_prime+pre_beta_f)\n",
    "    S_q_inv = S_0_inv_f + n_prime*np.cov(cluster_data,rowvar=0,bias=1) + n_prime*pre_beta_f*np.outer(cluster_center-pre_mu_0_f,cluster_center-pre_mu_0_f)/(n_prime + pre_beta_f)\n",
    "    S_r_inv = S_q_inv + (n_prime + pre_beta_f)*np.outer(latent_data_f[pick_up_number_f]-mu_c,latent_data_f[pick_up_number_f]-mu_c)/(n_prime + pre_beta_f+1)\n",
    "    data_dim = latent_data_f[pick_up_number_f].shape[0]\n",
    "    n_total = latent_data_f.shape[0]\n",
    "#    print(\"n_prime={}\".format(n_prime))\n",
    "#    print(\"cluster_center={}\".format(cluster_center))\n",
    "#    print(\"mu_c={}\".format(mu_c))\n",
    "#    print(\"S_q_inv={}\".format(S_q_inv))\n",
    "#    print(\"S_r_inv={}\".format(S_r_inv))\n",
    "#    print(\"data_dim={}\".format(data_dim))\n",
    "#    print(\"n_total={}\".format(n_total))\n",
    "\n",
    "#    return S_r_inv,S_q_inv\n",
    "    return np.log(n_prime/(n_total-1+dirichlet_alpha_f))+0.5*data_dim*np.log((n_prime+pre_beta_f)/(n_prime+pre_beta_f+1)/math.pi) - 0.5*(pre_nu_f + n_prime +1)*np.log(S_r_inv)+0.5*(pre_nu_f + n_prime)*np.log(S_q_inv)+math.lgamma(0.5*(pre_nu_f+n_prime+1))-math.lgamma(0.5*(pre_nu_f+n_prime+1-data_dim))\n",
    "#    return np.log(n_prime/(n_total-1+dirichlet_alpha_f))+0.5*data_dim*np.log((n_prime+pre_beta_f)/(n_prime+pre_beta_f+1)/math.pi) - 0.5*(pre_nu_f + n_prime +1)*np.log(np.linalg.det(S_r_inv))+0.5*(pre_nu_f + n_prime)*np.log(np.linalg.det(S_q_inv))+math.lgamma(pre_nu_f+n_prime+1)-math.lgamma(pre_nu_f+n_prime+1-data_dim)\n",
    "\n",
    "\n",
    "def log_P_new_func(latent_data_f,pick_up_number_f,dirichlet_alpha_f,pre_nu_f,pre_beta_f,pre_mu_0_f,S_0_inv_f):\n",
    "\n",
    "    picked_data = latent_data_f[pick_up_number_f]\n",
    "    S_b_inv = S_0_inv_f + pre_beta_f*np.outer(picked_data-pre_mu_0_f,picked_data-pre_mu_0_f)/(pre_beta_f+1)\n",
    "    data_dim = picked_data.shape[0]\n",
    "    n_total = latent_data_f.shape[0]\n",
    "\n",
    "#    print(\"S_0_inv={}\".format(S_0_inv_f))\n",
    "#    print(\"S_b_inv={}\".format(S_b_inv))\n",
    "#    print(\"data_dim={}\".format(data_dim))\n",
    "#    print(\"n_total={}\".format(n_total))\n",
    "\n",
    "#    return np.log(dirichlet_alpha_f/(n_total-1+dirichlet_alpha_f))+0.5*data_dim*np.log(pre_beta_f/(pre_beta_f+1)/math.pi) - 0.5*(pre_nu_f + 1)*np.log(np.linalg.det(S_b_inv))+0.5*pre_nu_f*np.log(np.linalg.det(S_0_inv_f))+math.lgamma(pre_nu_f+1)-math.lgamma(pre_nu_f+1-data_dim)\n",
    "    return np.log(dirichlet_alpha_f/(n_total-1+dirichlet_alpha_f))+0.5*data_dim*np.log(pre_beta_f/(pre_beta_f+1)/math.pi) - 0.5*(pre_nu_f + 1)*np.log(S_b_inv)+0.5*pre_nu_f*np.log(S_0_inv_f)+math.lgamma(0.5*(pre_nu_f+1))-math.lgamma(0.5*(pre_nu_f+1-data_dim))"
   ],
   "metadata": {
    "collapsed": false,
    "pycharm": {
     "name": "#%%\n"
    }
   }
  },
  {
   "cell_type": "code",
   "execution_count": 365,
   "outputs": [],
   "source": [
    "def sum_del_log_gamma(nu,n,dim):\n",
    "    x=0\n",
    "    for i in range(dim):\n",
    "       x+= math.lgamma(0.5*(nu+n-i))-math.lgamma(0.5*(nu-i))\n",
    "    return x\n",
    "\n",
    "def log_P_total(list_list,latent_data,dirichlet_alpha,pre_nu,pre_beta,pre_mu_0,S_0_inv):\n",
    "\n",
    "    cluster_number = len(list_list)\n",
    "    data_dim = latent_data[0].shape[0]\n",
    "    n_total = latent_data.shape[0]\n",
    "\n",
    "    log_P = cluster_number*np.log(dirichlet_alpha)-math.lgamma(dirichlet_alpha+n_total)+ math.lgamma(dirichlet_alpha)\n",
    "    for l in list_list:\n",
    "        number_in_cluster = len(l)\n",
    "        data_l = latent_data[l]\n",
    "        data_l_av = data_l.mean(axis=0)\n",
    "        S_q_inv = S_0_inv + number_in_cluster*np.cov(data_l,rowvar=0,bias=1)+ number_in_cluster*pre_beta*np.outer(data_l_av-pre_mu_0,data_l_av-pre_mu_0)/(number_in_cluster+pre_beta)\n",
    "        log_P += math.lgamma(number_in_cluster) -0.5*(pre_nu+number_in_cluster)*np.log(S_q_inv) +0.5*pre_nu*np.log(S_0_inv)+sum_del_log_gamma(pre_nu,number_in_cluster,data_dim)+0.5*data_dim*(np.log(pre_beta/(number_in_cluster+pre_beta))-number_in_cluster*np.log(math.pi))\n",
    "#        log_P += math.lgamma(number_in_cluster) -0.5*(pre_nu+number_in_cluster)*np.log(np.linalg.det(S_q_inv)) +0.5*pre_nu*np.log(np.linalg.det(S_0_inv))+sum_del_log_gamma(pre_nu,number_in_cluster,data_dim)+0.5*data_dim*(np.log(pre_beta/(number_in_cluster+pre_beta))-number_in_cluster*np.log(math.pi))\n",
    "\n",
    "    return log_P"
   ],
   "metadata": {
    "collapsed": false,
    "pycharm": {
     "name": "#%%\n"
    }
   }
  },
  {
   "cell_type": "code",
   "execution_count": 366,
   "outputs": [],
   "source": [
    "def softmax(a):\n",
    "    # 一番大きい値を取得\n",
    "    c = np.max(a)\n",
    "    # 各要素から一番大きな値を引く（オーバーフロー対策）\n",
    "    exp_a = np.exp(a - c)\n",
    "    sum_exp_a = np.sum(exp_a)\n",
    "    # 要素の値/全体の要素の合計\n",
    "    y = exp_a / sum_exp_a\n",
    "    return y"
   ],
   "metadata": {
    "collapsed": false,
    "pycharm": {
     "name": "#%%\n"
    }
   }
  },
  {
   "cell_type": "code",
   "execution_count": 367,
   "outputs": [],
   "source": [
    "def cluster_prob(list_list,latent_data,pick_up_number,dirichlet_alpha,pre_nu,pre_beta,pre_mu_0,S_0_inv):\n",
    "\n",
    "    for l in list_list:\n",
    "        if pick_up_number in l:\n",
    "            current_place = list_list.index(l)\n",
    "            list_list[current_place].remove(pick_up_number)\n",
    "\n",
    "    for x in list_list:\n",
    "        if x == []:\n",
    "#            disappearing_index = list_list.index(x)\n",
    "            list_list.remove(x)\n",
    "\n",
    "    log_P = np.empty(len(list_list)+1)\n",
    "    for i, l in enumerate(list_list):\n",
    "        log_P[i] = log_P_func(l,latent_data,pick_up_number,dirichlet_alpha,pre_nu,pre_beta,pre_mu_0,S_0_inv)\n",
    "\n",
    "    log_P[len(list_list)] = log_P_new_func(latent_data,pick_up_number,dirichlet_alpha,pre_nu,pre_beta,pre_mu_0,S_0_inv)\n",
    "\n",
    "    return softmax(log_P)"
   ],
   "metadata": {
    "collapsed": false,
    "pycharm": {
     "name": "#%%\n"
    }
   }
  },
  {
   "cell_type": "code",
   "execution_count": 505,
   "outputs": [],
   "source": [
    "dirichlet_alpha_g = 1.\n",
    "pre_nu_g =15.\n",
    "pre_beta_g =0.3\n",
    "pre_mu_0_g = 0.5\n",
    "S_0_inv_g = 0.1\n",
    "\n",
    "grouping = [list(range(X.shape[0]))]\n",
    "grouping_temp = copy.deepcopy(grouping)"
   ],
   "metadata": {
    "collapsed": false,
    "pycharm": {
     "name": "#%%\n"
    }
   }
  },
  {
   "cell_type": "code",
   "execution_count": 723,
   "outputs": [],
   "source": [
    "dirichlet_alpha_g = 1.\n",
    "for pick_up_index in range(X.shape[0]):\n",
    "#    print(np.arange(len(grouping_temp)+1))\n",
    "#    print(cluster_prob(grouping_temp,X,pick_up_index,dirichlet_alpha_g,pre_nu_g,pre_beta_g,pre_mu_0_g,S_0_inv_g))\n",
    "    probability = cluster_prob(grouping_temp,X,pick_up_index,dirichlet_alpha_g,pre_nu_g,pre_beta_g,pre_mu_0_g,S_0_inv_g)\n",
    "    selected_cluster = np.random.choice(a=np.arange(len(grouping_temp)+1),size=1,p=probability).item()\n",
    "    if selected_cluster == len(grouping_temp):\n",
    "        grouping_temp.append([pick_up_index])\n",
    "    else:\n",
    "        grouping_temp[selected_cluster].append(pick_up_index)"
   ],
   "metadata": {
    "collapsed": false,
    "pycharm": {
     "name": "#%%\n"
    }
   }
  },
  {
   "cell_type": "code",
   "execution_count": 724,
   "outputs": [
    {
     "data": {
      "text/plain": "3"
     },
     "execution_count": 724,
     "metadata": {},
     "output_type": "execute_result"
    }
   ],
   "source": [
    "len(grouping_temp)\n",
    "#len(grouping_temp[1])"
   ],
   "metadata": {
    "collapsed": false,
    "pycharm": {
     "name": "#%%\n"
    }
   }
  },
  {
   "cell_type": "code",
   "execution_count": 725,
   "outputs": [
    {
     "data": {
      "text/plain": "array([[-317.02216735]])"
     },
     "execution_count": 725,
     "metadata": {},
     "output_type": "execute_result"
    }
   ],
   "source": [
    "log_P_total(grouping_temp,X,dirichlet_alpha_g,pre_nu_g,pre_beta_g,pre_mu_0_g,S_0_inv_g)"
   ],
   "metadata": {
    "collapsed": false,
    "pycharm": {
     "name": "#%%\n"
    }
   }
  },
  {
   "cell_type": "code",
   "execution_count": 726,
   "outputs": [
    {
     "data": {
      "text/plain": "(-0.4895416072591196, 0.1969176222714639)"
     },
     "execution_count": 726,
     "metadata": {},
     "output_type": "execute_result"
    }
   ],
   "source": [
    "X_0 = X[grouping_temp[0]]\n",
    "X_0.mean(),X_0.std()"
   ],
   "metadata": {
    "collapsed": false,
    "pycharm": {
     "name": "#%%\n"
    }
   }
  },
  {
   "cell_type": "code",
   "execution_count": 727,
   "outputs": [
    {
     "data": {
      "text/plain": "(0.9938229388950937, 0.0973086043297542)"
     },
     "execution_count": 727,
     "metadata": {},
     "output_type": "execute_result"
    }
   ],
   "source": [
    "X_1 = X[grouping_temp[1]]\n",
    "X_1.mean(),X_1.std()"
   ],
   "metadata": {
    "collapsed": false,
    "pycharm": {
     "name": "#%%\n"
    }
   }
  },
  {
   "cell_type": "code",
   "execution_count": 729,
   "outputs": [
    {
     "data": {
      "text/plain": "(0.01710172892186148, 0.09838554462211817)"
     },
     "execution_count": 729,
     "metadata": {},
     "output_type": "execute_result"
    }
   ],
   "source": [
    "X_2 = X[grouping_temp[2]]\n",
    "X_2.mean(),X_2.std()\n"
   ],
   "metadata": {
    "collapsed": false,
    "pycharm": {
     "name": "#%%\n"
    }
   }
  },
  {
   "cell_type": "code",
   "execution_count": 728,
   "outputs": [
    {
     "data": {
      "text/plain": "(305, 100, 195)"
     },
     "execution_count": 728,
     "metadata": {},
     "output_type": "execute_result"
    }
   ],
   "source": [
    "len(grouping_temp[0]),len(grouping_temp[1]),len(grouping_temp[2])"
   ],
   "metadata": {
    "collapsed": false,
    "pycharm": {
     "name": "#%%\n"
    }
   }
  },
  {
   "cell_type": "code",
   "execution_count": 692,
   "outputs": [
    {
     "data": {
      "text/plain": "([3, 5, 6, 9, 10, 12, 14, 16, 17, 19],\n array([2., 1., 1., 2., 1., 2., 2., 0., 0., 1.]))"
     },
     "execution_count": 692,
     "metadata": {},
     "output_type": "execute_result"
    }
   ],
   "source": [
    "grouping_temp[0][0:10],label_p_data[0:10]"
   ],
   "metadata": {
    "collapsed": false,
    "pycharm": {
     "name": "#%%\n"
    }
   }
  },
  {
   "cell_type": "code",
   "execution_count": 126,
   "outputs": [
    {
     "name": "stdout",
     "output_type": "stream",
     "text": [
      "[1.12931233]\n",
      "[1.04285735]\n",
      "[0.88261541]\n",
      "[1.04924732]\n",
      "[0.8953836]\n",
      "[1.0050834]\n",
      "[0.90792492]\n",
      "[0.88194107]\n",
      "[0.78564884]\n",
      "[1.0120798]\n",
      "[1.01667148]\n",
      "[1.01205861]\n",
      "[1.00922529]\n",
      "[1.15187228]\n",
      "[1.13899947]\n",
      "[1.03559532]\n",
      "[1.14198641]\n",
      "[0.94694388]\n",
      "[0.89521651]\n",
      "[0.891179]\n",
      "[0.92238692]\n",
      "[1.11343984]\n",
      "[0.90345815]\n",
      "[0.91681056]\n",
      "[1.06305988]\n",
      "[1.08400703]\n",
      "[1.10366182]\n",
      "[1.03696607]\n",
      "[1.02439256]\n",
      "[0.99228002]\n",
      "[1.01126164]\n",
      "[0.93281305]\n",
      "[0.98332662]\n",
      "[1.15255695]\n",
      "[1.04974115]\n",
      "[0.83747425]\n",
      "[0.90662534]\n",
      "[1.16870558]\n",
      "[0.92283328]\n",
      "[0.96575818]\n",
      "[0.84859977]\n",
      "[1.03583347]\n",
      "[0.88934645]\n",
      "[1.28156062]\n",
      "[1.04161179]\n",
      "[0.98743432]\n",
      "[0.98427005]\n",
      "[0.832564]\n",
      "[0.90505039]\n",
      "[1.04634933]\n",
      "[1.03928149]\n",
      "[1.07871263]\n",
      "[1.22711612]\n",
      "[1.19473503]\n",
      "[1.11083476]\n",
      "[0.9187888]\n",
      "[0.94069455]\n",
      "[1.00323238]\n",
      "[1.03893104]\n",
      "[1.0733756]\n",
      "[1.03967666]\n",
      "[0.92863064]\n",
      "[1.02048102]\n",
      "[1.0695718]\n",
      "[1.17549656]\n",
      "[0.96116483]\n",
      "[0.87618985]\n",
      "[1.0948134]\n",
      "[0.81562199]\n",
      "[0.96650658]\n",
      "[0.96791873]\n",
      "[0.99852379]\n",
      "[0.87751473]\n",
      "[0.97601808]\n",
      "[1.11065995]\n",
      "[0.88593706]\n",
      "[0.79680502]\n",
      "[1.06875788]\n",
      "[1.04156335]\n",
      "[0.97280584]\n",
      "[1.01874354]\n",
      "[0.80127237]\n",
      "[1.12710409]\n",
      "[0.88088747]\n",
      "[1.05267197]\n",
      "[1.0033226]\n",
      "[1.1032813]\n",
      "[0.96902104]\n",
      "[0.92825611]\n",
      "[0.82434657]\n",
      "[0.84526293]\n",
      "[0.90878071]\n",
      "[1.06371502]\n",
      "[1.05059098]\n",
      "[1.03023592]\n",
      "[1.02758206]\n",
      "[0.84797232]\n",
      "[1.08525573]\n",
      "[1.02441978]\n"
     ]
    }
   ],
   "source": [
    "for i in grouping_temp[1]:\n",
    "    print(X[i])"
   ],
   "metadata": {
    "collapsed": false,
    "pycharm": {
     "name": "#%%\n"
    }
   }
  },
  {
   "cell_type": "code",
   "execution_count": null,
   "outputs": [],
   "source": [],
   "metadata": {
    "collapsed": false,
    "pycharm": {
     "name": "#%%\n"
    }
   }
  }
 ],
 "metadata": {
  "kernelspec": {
   "name": "pycharm-9c5a4569",
   "language": "python",
   "display_name": "PyCharm (auto_encoder)"
  },
  "language_info": {
   "codemirror_mode": {
    "name": "ipython",
    "version": 2
   },
   "file_extension": ".py",
   "mimetype": "text/x-python",
   "name": "python",
   "nbconvert_exporter": "python",
   "pygments_lexer": "ipython2",
   "version": "2.7.6"
  }
 },
 "nbformat": 4,
 "nbformat_minor": 0
}